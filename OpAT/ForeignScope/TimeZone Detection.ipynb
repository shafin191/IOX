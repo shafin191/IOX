{
 "cells": [
  {
   "cell_type": "code",
   "execution_count": null,
   "id": "4fb8b8c7-fe37-4ed5-b8a2-8f6bbb554f56",
   "metadata": {},
   "outputs": [],
   "source": [
    "import pandas as pd\n",
    "import numpy as np\n",
    "from datetime import timedelta"
   ]
  },
  {
   "cell_type": "code",
   "execution_count": null,
   "id": "3b437e1e-249d-4a17-be01-92046eca6614",
   "metadata": {},
   "outputs": [],
   "source": [
    "path = ''\n",
    "df_all_tweet = pd.read_csv(path + '/Dataset/PolitiX_Final_Tweet_Dataset.csv', dtype = 'str', lineterminator = '\\n')"
   ]
  },
  {
   "cell_type": "code",
   "execution_count": null,
   "id": "a070cb0e-247b-45f8-a3ac-6bb049cccf43",
   "metadata": {},
   "outputs": [],
   "source": [
    "df_all_tweet['created_at_date'] = pd.to_datetime(df_all_tweet['created_at'], format='%a %b %d %H:%M:%S %z %Y')\n"
   ]
  },
  {
   "cell_type": "code",
   "execution_count": null,
   "id": "51fc3c28-9349-4200-8d1a-101187725142",
   "metadata": {},
   "outputs": [],
   "source": [
    "def predict_user_timezone(tweet_times_utc):    \n",
    "    offset_range = range(-12, 15)\n",
    "    awake_start = 7\n",
    "    awake_end = 22\n",
    "\n",
    "    offset_scores = {}\n",
    "\n",
    "    for offset in offset_range:\n",
    "        shifted = tweet_times_utc + pd.to_timedelta(offset, unit='h')\n",
    "        local_hours = shifted.dt.hour\n",
    "        awake_count = np.sum((local_hours >= awake_start) & (local_hours <= awake_end))\n",
    "        offset_scores[offset] = awake_count\n",
    "\n",
    "    sorted_offsets = sorted(offset_scores.items(), key=lambda x: x[1], reverse=True)\n",
    "    top_3_offsets = sorted_offsets[:3]\n",
    "    result = [f\"UTC{o[0]:+d}\" for o in top_3_offsets]\n",
    "    return result\n",
    "\n",
    "\n"
   ]
  },
  {
   "cell_type": "code",
   "execution_count": null,
   "id": "814731f0-2876-4651-b704-2f0a0ca0c109",
   "metadata": {},
   "outputs": [],
   "source": [
    "df_all_tweet['created_at_date']"
   ]
  },
  {
   "cell_type": "code",
   "execution_count": null,
   "id": "1ad1dae9-f70b-4684-a49c-d046b0c36da5",
   "metadata": {},
   "outputs": [],
   "source": []
  },
  {
   "cell_type": "code",
   "execution_count": null,
   "id": "38c0c0bd-f129-4e8d-b293-bec176e1c2a8",
   "metadata": {},
   "outputs": [],
   "source": [
    "\n",
    "sample = df_all_tweet.loc[df_all_tweet.User_ID == '1424619313'].created_at_date\n",
    "predicted_timezones = predict_user_timezone(sample)\n",
    "print(f\"Top 3 most likely timezones: {predicted_timezones}\")\n"
   ]
  },
  {
   "cell_type": "code",
   "execution_count": null,
   "id": "ecaf1c29-cb6c-4fd3-88f2-02209ab53f75",
   "metadata": {},
   "outputs": [],
   "source": [
    "df_all_tweet.sample(1)"
   ]
  },
  {
   "cell_type": "code",
   "execution_count": null,
   "id": "3a25934a-2125-4f8e-be32-a9549328435f",
   "metadata": {},
   "outputs": [],
   "source": [
    "df_all_tweet.groupby('User_ID').count()"
   ]
  },
  {
   "cell_type": "code",
   "execution_count": null,
   "id": "43e90aff-378a-41b1-ae64-801090144628",
   "metadata": {},
   "outputs": [],
   "source": [
    "df_all_tweet.User_ID.unique()"
   ]
  },
  {
   "cell_type": "code",
   "execution_count": null,
   "id": "4c90f1dc-7603-464e-aada-b42685ed2a9e",
   "metadata": {},
   "outputs": [],
   "source": [
    "user_time = {}"
   ]
  },
  {
   "cell_type": "code",
   "execution_count": null,
   "id": "dd5bd307-aa76-4151-bdb8-4e19491d610f",
   "metadata": {},
   "outputs": [],
   "source": [
    "user_time = {}\n",
    "for user_id, group in df_all_tweet.groupby('User_ID'):\n",
    "    predicted_timezones = predict_user_timezone(group['created_at_date'])\n",
    "    user_time[user_id] = predicted_timezones"
   ]
  },
  {
   "cell_type": "code",
   "execution_count": null,
   "id": "709e4cc8-0927-4768-b803-307901afc6f4",
   "metadata": {},
   "outputs": [],
   "source": [
    "# Create DataFrame directly from the dictionary\n",
    "df_user_time = pd.DataFrame.from_dict(user_time, orient='index', \n",
    "                                     columns=['timezone_1', 'timezone_2', 'timezone_3'])\n",
    "\n",
    "# Reset index to make User_ID a column\n",
    "df_user_time = df_user_time.reset_index().rename(columns={'index': 'User_ID'})"
   ]
  },
  {
   "cell_type": "code",
   "execution_count": null,
   "id": "58e50960-f2cf-4832-8aa0-8229ae785e22",
   "metadata": {},
   "outputs": [],
   "source": [
    "df_user_time"
   ]
  },
  {
   "cell_type": "code",
   "execution_count": null,
   "id": "2449db51-8a59-41c0-86b3-dc44603b9b17",
   "metadata": {},
   "outputs": [],
   "source": [
    "df_user_time.loc[df_user_time.timezone_1  == 'UTC+8'].sample(5)"
   ]
  },
  {
   "cell_type": "code",
   "execution_count": null,
   "id": "4d1d0283-05dd-483b-9099-14869a77862a",
   "metadata": {},
   "outputs": [],
   "source": [
    "import pandas as pd\n",
    "import glob\n",
    "import os\n",
    "\n",
    "# Read each foreign countries user list\n",
    "folder_path = ''\n",
    "csv_files = glob.glob(os.path.join(folder_path, '*.csv'))\n",
    "df_list = []\n",
    "for file in csv_files:\n",
    "    df = pd.read_csv(file)\n",
    "    df['source_file'] = os.path.basename(file) \n",
    "    df_list.append(df)\n",
    "combined_df = pd.concat(df_list, ignore_index=True)\n",
    "print(combined_df.head())"
   ]
  },
  {
   "cell_type": "code",
   "execution_count": null,
   "id": "bc71423e-dcb5-4255-9ea8-f6349ef3634f",
   "metadata": {},
   "outputs": [],
   "source": [
    "combined_df['country'] = combined_df['source_file'].str.replace('_ID.csv', '', regex=False)"
   ]
  },
  {
   "cell_type": "code",
   "execution_count": null,
   "id": "5f95963d-30e1-4fb8-97d6-00450f65db29",
   "metadata": {},
   "outputs": [],
   "source": [
    "combined_df.loc[combined_df.country == 'Russian']"
   ]
  },
  {
   "cell_type": "code",
   "execution_count": null,
   "id": "3d3dad97-bacf-4287-a18a-da4e7f126548",
   "metadata": {},
   "outputs": [],
   "source": []
  },
  {
   "cell_type": "code",
   "execution_count": null,
   "id": "58397259-0da5-44a7-aa5f-8da31dc001cf",
   "metadata": {},
   "outputs": [],
   "source": [
    "combined_df.groupby('country').count()"
   ]
  },
  {
   "cell_type": "code",
   "execution_count": null,
   "id": "d7dda757-2c6a-4fd3-91be-166adca3f636",
   "metadata": {},
   "outputs": [],
   "source": [
    "df_user_time.User_ID = df_user_time.User_ID.astype('int')"
   ]
  },
  {
   "cell_type": "code",
   "execution_count": null,
   "id": "8f6745d6-be5e-42a7-9444-2b7ec3a7a6d8",
   "metadata": {},
   "outputs": [],
   "source": [
    "df_user_time.loc[df_user_time.User_ID.isin(combined_df.loc[combined_df.country == 'Persian'].User_ID)]"
   ]
  },
  {
   "cell_type": "code",
   "execution_count": null,
   "id": "16251b62-98c7-4a88-8a33-7b6fd07f03d0",
   "metadata": {},
   "outputs": [],
   "source": [
    "len(df_user_time.loc[df_user_time.User_ID.isin(combined_df.loc[combined_df.country == 'Chinese'].User_ID)])"
   ]
  },
  {
   "cell_type": "code",
   "execution_count": null,
   "id": "284b2d4a-9f16-4164-ac07-d66b74ff9cb1",
   "metadata": {},
   "outputs": [],
   "source": [
    "df_user_time.loc[df_user_time.timezone_1 == 'UTC-5']"
   ]
  },
  {
   "cell_type": "code",
   "execution_count": null,
   "id": "9c18b927-650a-424c-932d-919114d867da",
   "metadata": {},
   "outputs": [],
   "source": [
    "df_user_time.loc[df_user_time.timezone_2 == 'UTC-5']"
   ]
  },
  {
   "cell_type": "code",
   "execution_count": null,
   "id": "a63353ad-060e-447e-97d2-68940b4e9caf",
   "metadata": {},
   "outputs": [],
   "source": [
    "import pandas as pd\n",
    "target_timezones = [f'UTC-{i}' for i in range(2, 13)]\n",
    "mask = (\n",
    "    df_user_time['timezone_1'].isin(target_timezones) &\n",
    "    df_user_time['timezone_2'].isin(target_timezones) &\n",
    "    df_user_time['timezone_3'].isin(target_timezones)\n",
    ")\n",
    "\n",
    "num_users = df_user_time[mask]['User_ID'].nunique()\n",
    "\n",
    "print(f\"Number of accounts with timezone between UTC-2 and UTC-12: {num_users}\")\n"
   ]
  },
  {
   "cell_type": "code",
   "execution_count": null,
   "id": "b316765c-d08c-49d4-9d71-cc06e5c6744f",
   "metadata": {},
   "outputs": [],
   "source": [
    "import pandas as pd\n",
    "target_timezones = [f'UTC+{i}' for i in range(0, 12)]  # ['UTC+2', ..., 'UTC+11']\n",
    "\n",
    "mask_all = (\n",
    "    df_user_time['timezone_1'].isin(target_timezones) &\n",
    "    df_user_time['timezone_2'].isin(target_timezones) &\n",
    "    df_user_time['timezone_3'].isin(target_timezones)\n",
    ")\n",
    "num_users_all = df_user_time[mask_all]['User_ID'].nunique()\n",
    "\n",
    "print(f\"Number of accounts where ALL timezones are between UTC+2 and UTC+11: {num_users_all}\")\n"
   ]
  },
  {
   "cell_type": "code",
   "execution_count": null,
   "id": "d7f2be5b-4c82-495b-a38a-08d4357dbe14",
   "metadata": {},
   "outputs": [],
   "source": [
    "num_users_all"
   ]
  },
  {
   "cell_type": "code",
   "execution_count": null,
   "id": "e2ca3e20-fd56-4a55-848a-0df0cb0b0bd6",
   "metadata": {},
   "outputs": [],
   "source": [
    "import pandas as pd\n",
    "\n",
    "target_timezones = [f'UTC+{i}' for i in range(2, 5)]\n",
    "mask_all = (\n",
    "    df_user_time['timezone_1'].isin(target_timezones) &\n",
    "    df_user_time['timezone_2'].isin(target_timezones) &\n",
    "    df_user_time['timezone_3'].isin(target_timezones)\n",
    ")\n",
    "\n",
    "num_users_all = df_user_time[mask_all]['User_ID'].nunique()\n",
    "\n",
    "print(f\"Number of accounts where ALL timezones are between UTC+2 and UTC+11: {num_users_all}\")\n"
   ]
  },
  {
   "cell_type": "code",
   "execution_count": null,
   "id": "c602213e-68ad-4b80-862d-dc60af72ac29",
   "metadata": {},
   "outputs": [],
   "source": [
    "df_user_time[mask_all]['User_ID'].sample(10)"
   ]
  },
  {
   "cell_type": "code",
   "execution_count": null,
   "id": "1d9886c0-1a31-4e05-bec7-e211f16b29f1",
   "metadata": {},
   "outputs": [],
   "source": [
    "combined_df"
   ]
  },
  {
   "cell_type": "code",
   "execution_count": null,
   "id": "8cf73ac9-ba74-45f5-98e3-bb8c90f71858",
   "metadata": {},
   "outputs": [],
   "source": [
    "df_foeign_timezone = df_user_time[mask_all]"
   ]
  },
  {
   "cell_type": "code",
   "execution_count": null,
   "id": "2ac70538-f172-4956-9b1c-122dae313620",
   "metadata": {},
   "outputs": [],
   "source": [
    "df_foeign_timezone[~df_foeign_timezone.User_ID.isin(combined_df.User_ID)]"
   ]
  },
  {
   "cell_type": "code",
   "execution_count": null,
   "id": "c4f9d1ca-68c6-4e6d-be39-7aedbb0f5d80",
   "metadata": {},
   "outputs": [],
   "source": [
    "df_foeign_timezone.loc[df_foeign_timezone.User_ID.isin(russina_lbp)]"
   ]
  },
  {
   "cell_type": "code",
   "execution_count": null,
   "id": "85363506-4b47-4fce-bfb8-4cb95da12bef",
   "metadata": {},
   "outputs": [],
   "source": [
    "df_user_time.loc[df_user_time.User_ID.isin(russina_lbp)]"
   ]
  },
  {
   "cell_type": "code",
   "execution_count": null,
   "id": "28281b8b-693a-4455-863c-cce93b9fd477",
   "metadata": {},
   "outputs": [],
   "source": []
  },
  {
   "cell_type": "code",
   "execution_count": null,
   "id": "ab20e32d-9560-414e-9544-c4a7bf2a5085",
   "metadata": {},
   "outputs": [],
   "source": [
    "import pandas as pd\n",
    "target_timezones = [f'UTC+{i}' for i in range(2, 5)]\n",
    "mask_all = (\n",
    "    df_user_time['timezone_1'].isin(target_timezones) &\n",
    "    df_user_time['timezone_2'].isin(target_timezones) &\n",
    "    df_user_time['timezone_3'].isin(target_timezones)\n",
    ")\n",
    "num_users_all = df_user_time[mask_all]['User_ID'].nunique()\n",
    "print(f\"Number of accounts where ALL timezones are between UTC+2 and UTC+11: {num_users_all}\")"
   ]
  },
  {
   "cell_type": "code",
   "execution_count": null,
   "id": "ed07e0fd-b4a1-43f0-85d3-2b2fdd57dda9",
   "metadata": {},
   "outputs": [],
   "source": [
    "df_foeign_timezone[mask_all].sample(20)"
   ]
  },
  {
   "cell_type": "markdown",
   "id": "fc831076-da97-4ec4-a61d-d71984214cb0",
   "metadata": {},
   "source": [
    "# Foreign Suspected"
   ]
  },
  {
   "cell_type": "code",
   "execution_count": null,
   "id": "36db1b2e-9619-46f8-988a-63e18507ec7d",
   "metadata": {},
   "outputs": [],
   "source": [
    "df_lbp_foreign = pd.read_csv('Suspected_LBP_Foreign.csv')"
   ]
  },
  {
   "cell_type": "code",
   "execution_count": null,
   "id": "07c02dea-d78a-4002-b949-1fb4583969bd",
   "metadata": {},
   "outputs": [],
   "source": [
    "df_lbp_foreign['User_ID'] = df_lbp_foreign['Inferred_User_ID']"
   ]
  },
  {
   "cell_type": "code",
   "execution_count": null,
   "id": "5d40cb35-aba7-4959-af67-4b6bec0ba7f9",
   "metadata": {},
   "outputs": [],
   "source": [
    "combined_df.country.unique()"
   ]
  },
  {
   "cell_type": "code",
   "execution_count": null,
   "id": "b2686164-0902-4bc6-98de-c1be09c95af4",
   "metadata": {},
   "outputs": [],
   "source": [
    "df_foreign_sus = pd.read_csv('Foreign_Supspected.csv')"
   ]
  },
  {
   "cell_type": "code",
   "execution_count": null,
   "id": "ca1e8027-bd1e-405a-bf58-ddd0a57b8db1",
   "metadata": {},
   "outputs": [],
   "source": [
    "df_foreign_sus.loc[df_foreign_sus.Country == 'portuguese']"
   ]
  },
  {
   "cell_type": "code",
   "execution_count": null,
   "id": "dc58bcc7-72b4-467c-a0e5-a480989569ff",
   "metadata": {},
   "outputs": [],
   "source": [
    "df_foreign_sus.Country.unique()"
   ]
  },
  {
   "cell_type": "code",
   "execution_count": null,
   "id": "ad0d4397-7135-4639-9f46-5e3ac910f9f6",
   "metadata": {},
   "outputs": [],
   "source": [
    "country_timezones = {\n",
    "    'Chinese': 'UTC+08:00',      # China Standard Time (CST)\n",
    "    'Israeli': 'UTC+02:00',      # Israel Standard Time (IST)\n",
    "    'Portuguese': 'UTC+00:00',   # Portugal (mainland), Azores is UTC−01:00\n",
    "    'Ukranian': 'UTC+02:00',     # Ukraine Standard Time\n",
    "    'Persian': 'UTC+03:30',      # Iran Standard Time (IRST)\n",
    "    'Russian': 'UTC+03:00',      # Moscow Standard Time (varies across Russia)\n",
    "    'Spanish': 'UTC+01:00',      # Central European Time (Spain mainland)\n",
    "    'India': 'UTC+05:30'         # Indian Standard Time (IST)\n",
    "}\n"
   ]
  },
  {
   "cell_type": "code",
   "execution_count": null,
   "id": "24c230e7-086f-41f5-99b4-ea543329316a",
   "metadata": {},
   "outputs": [],
   "source": [
    "df_foeign_timezone"
   ]
  },
  {
   "cell_type": "code",
   "execution_count": null,
   "id": "3adf3567-1db7-4586-864d-63a6917cf987",
   "metadata": {},
   "outputs": [],
   "source": [
    "# import pandas as pd\n",
    "\n",
    "# # Sample UTC timezone dictionary\n",
    "# country_timezones = {\n",
    "#     'Chinese': 'UTC+08:00',\n",
    "#     'Israeli': 'UTC+02:00',\n",
    "#     'Portuguese': 'UTC+00:00',\n",
    "#     'Ukranian': 'UTC+02:00',\n",
    "#     'Persian': 'UTC+03:30',\n",
    "#     'Russian': 'UTC+03:00',\n",
    "#     'Spanish': 'UTC+01:00',\n",
    "#     'India': 'UTC+05:30'\n",
    "# }\n",
    "\n",
    "# # Function to convert UTC string to float hours\n",
    "# def utc_str_to_offset(utc_str):\n",
    "#     sign = 1 if '+' in utc_str else -1\n",
    "#     h, m = map(int, utc_str.replace('UTC+', '').replace('UTC-', '').split(':'))\n",
    "#     return sign * (h + m / 60)\n",
    "\n",
    "# # Convert country UTCs to numeric offsets\n",
    "# country_offsets = {k: utc_str_to_offset(v) for k, v in country_timezones.items()}\n",
    "\n",
    "# # Merge the two dataframes on User_ID\n",
    "# df = df_lbp_foreign.merge(df_foeign_timezone, on='User_ID')\n",
    "\n",
    "# # Function to check if any predicted timezone is within ±3 hours\n",
    "# def is_within_3_hours(row):\n",
    "#     country = row['Country']\n",
    "#     base_offset = country_offsets.get(country)\n",
    "#     if base_offset is None:\n",
    "#         return False  # Skip unknown countries\n",
    "#     for col in ['timezone_1', 'timezone_2', 'timezone_3']:\n",
    "#         val = row[col]\n",
    "#         if isinstance(val, str) and val.startswith('UTC'):\n",
    "#             offset = utc_str_to_offset(val)\n",
    "#             if abs(offset - base_offset) <= 3:\n",
    "#                 return True\n",
    "#     return False\n",
    "\n",
    "# # Apply function to check if timezones are within ±3 hours\n",
    "# df['within_3_hours'] = df.apply(is_within_3_hours, axis=1)\n",
    "\n",
    "# # Count how many accounts satisfy the condition\n",
    "# num_matching_accounts = df['within_3_hours'].sum()\n",
    "\n",
    "# print(f\"Number of loopy belief accounts with timezone within ±3 hours of country UTC: {num_matching_accounts}\")\n"
   ]
  },
  {
   "cell_type": "code",
   "execution_count": null,
   "id": "275dda0d-d8b5-4375-82dd-cc183008822d",
   "metadata": {},
   "outputs": [],
   "source": [
    "#df.groupby('Country').count()"
   ]
  },
  {
   "cell_type": "code",
   "execution_count": null,
   "id": "a0339c9f-516f-4add-a623-91e4735ae163",
   "metadata": {},
   "outputs": [],
   "source": [
    "df.groupby('Country').count()"
   ]
  },
  {
   "cell_type": "code",
   "execution_count": null,
   "id": "dcc0d8b9-0b25-473b-93e6-d8b7fea0e35a",
   "metadata": {},
   "outputs": [],
   "source": [
    "df_lbp_foreign.loc[df_lbp_foreign.Country == 'India']"
   ]
  },
  {
   "cell_type": "code",
   "execution_count": null,
   "id": "66a1a120-8bc8-433f-8ee7-de92a5871348",
   "metadata": {},
   "outputs": [],
   "source": [
    "df_user_time.loc[df_user_time.User_ID.isin(df_lbp_foreign.loc[df_lbp_foreign.Country == 'India'].User_ID)]"
   ]
  },
  {
   "cell_type": "code",
   "execution_count": null,
   "id": "47e97365-96e5-4d49-ac6c-b54a06427eec",
   "metadata": {},
   "outputs": [],
   "source": [
    "user_foreing_timezone = df_all_tweet.loc[df_all_tweet.User_ID.isin(df_foeign_timezone.User_ID.astype('str'))]"
   ]
  },
  {
   "cell_type": "code",
   "execution_count": null,
   "id": "39d72e11-6303-48a2-b89d-5fcfa501db38",
   "metadata": {},
   "outputs": [],
   "source": [
    "user_foreing_timezone['is_retweet'] = user_foreing_timezone['text'].str.startswith('RT @')\n"
   ]
  },
  {
   "cell_type": "code",
   "execution_count": null,
   "id": "cba4b981-e897-487b-afdc-b56b80f249ec",
   "metadata": {},
   "outputs": [],
   "source": [
    "user_foreing_timezone_tweet = user_foreing_timezone.loc[user_foreing_timezone.is_retweet == False]"
   ]
  },
  {
   "cell_type": "code",
   "execution_count": null,
   "id": "d8c80d36-3c8b-4e71-83ff-f1c999880239",
   "metadata": {},
   "outputs": [],
   "source": [
    "user_foreing_timezone.Text_Lang.unique()"
   ]
  },
  {
   "cell_type": "code",
   "execution_count": null,
   "id": "64228012-55b5-4f04-8fc2-bb5e0bbde2e0",
   "metadata": {},
   "outputs": [],
   "source": []
  },
  {
   "cell_type": "code",
   "execution_count": null,
   "id": "e6a905c2-a294-4fc4-b698-42f6658d4f7d",
   "metadata": {},
   "outputs": [],
   "source": []
  },
  {
   "cell_type": "code",
   "execution_count": null,
   "id": "e20e09c8-b689-4e0f-95e6-a1f84201864f",
   "metadata": {
    "scrolled": true
   },
   "outputs": [],
   "source": [
    "for i in user_foreing_timezone_tweet.Text_Lang.unique():\n",
    "     print(f\"Language {i} has {len(user_foreing_timezone_tweet.loc[user_foreing_timezone_tweet.Text_Lang == i].User_ID.unique())} users\")\n",
    "    "
   ]
  },
  {
   "cell_type": "code",
   "execution_count": null,
   "id": "a3dbb4f1-8dc7-4086-81a2-7c93ccaf6f3e",
   "metadata": {},
   "outputs": [],
   "source": [
    "# Step 1: Count tweets per user-language pair\n",
    "user_lang_counts = user_foreing_timezone_tweet.groupby(['User_ID', 'Text_Lang']).size().reset_index(name='Tweet_Count')\n",
    "\n",
    "# Step 2: Keep only user-language pairs with at least 2 tweets\n",
    "at_least_two = user_lang_counts[user_lang_counts['Tweet_Count'] >= 2]\n",
    "\n",
    "# Step 3: Count unique users per language\n",
    "lang_user_counts = (\n",
    "    at_least_two.groupby('Text_Lang')['User_ID']\n",
    "    .nunique()\n",
    "    .reset_index(name='User_Count')\n",
    "    .sort_values('User_Count')\n",
    ")\n",
    "\n",
    "# Step 4: Print sorted results\n",
    "for _, row in lang_user_counts.iterrows():\n",
    "    print(f\"Language {row['Text_Lang']} has {row['User_Count']} users with at least 2 tweets\")\n"
   ]
  },
  {
   "cell_type": "code",
   "execution_count": null,
   "id": "f79f7bcf-513d-4d85-82b5-a5b1971c1cde",
   "metadata": {
    "scrolled": true
   },
   "outputs": [],
   "source": [
    "user_lang_counts = user_foreing_timezone_tweet.groupby(['User_ID', 'Text_Lang']).size().reset_index(name='Tweet_Count')\n",
    "at_least_two = user_lang_counts[user_lang_counts['Tweet_Count'] >= 2]\n",
    "language_users = {}\n",
    "for lang, group in at_least_two.groupby('Text_Lang'):\n",
    "    language_users[lang] = group['User_ID'].unique().tolist()\n",
    "\n",
    "lang_user_counts = (\n",
    "    pd.DataFrame({\n",
    "        'Text_Lang': list(language_users.keys()),\n",
    "        'User_Count': [len(users) for users in language_users.values()]\n",
    "    })\n",
    "    .sort_values('User_Count', ascending=False)\n",
    "    .reset_index(drop=True)\n",
    ")\n",
    "\n",
    "print(\"Language distribution of users with at least 2 tweets:\")\n",
    "for idx, row in lang_user_counts.iterrows():\n",
    "    lang = row['Text_Lang']\n",
    "    count = row['User_Count']\n",
    "    print(f\"Language {lang}: {count} users\")\n"
   ]
  },
  {
   "cell_type": "code",
   "execution_count": null,
   "id": "14bc2ee1-1d3b-4596-a5f0-abe3528e68c2",
   "metadata": {},
   "outputs": [],
   "source": [
    "len(language_users)"
   ]
  },
  {
   "cell_type": "code",
   "execution_count": null,
   "id": "8882f923-ffb1-4597-a7e2-636d39e08c1f",
   "metadata": {},
   "outputs": [],
   "source": [
    "len(user_foreing_timezone_tweet.User_ID.unique())"
   ]
  },
  {
   "cell_type": "code",
   "execution_count": null,
   "id": "e2e62788-26b9-43a0-993e-69c768e0d7c6",
   "metadata": {},
   "outputs": [],
   "source": [
    "user_ids = []\n",
    "languages = []\n",
    "for lang in ['da', 'de', 'fr', 'ar', 'tr', 'ur', 'it']:\n",
    "    for user_id in language_users[lang]:\n",
    "        user_ids.append(user_id)\n",
    "        languages.append(lang)\n",
    "\n",
    "multilingual_users_df = pd.DataFrame({\n",
    "    'User_ID': user_ids,\n",
    "    'Language': languages\n",
    "})\n",
    "\n",
    "print(multilingual_users_df.head())\n",
    "\n",
    "print(f\"\\nTotal records: {len(multilingual_users_df)}\")\n",
    "print(f\"Users by language:\")\n",
    "print(multilingual_users_df['Language'].value_counts())"
   ]
  },
  {
   "cell_type": "code",
   "execution_count": null,
   "id": "4c6c326a-fac0-4078-9164-c70c6566a2c4",
   "metadata": {},
   "outputs": [],
   "source": [
    "df_f_manual = pd.read_csv('Foreign_Supspected.csv')"
   ]
  },
  {
   "cell_type": "code",
   "execution_count": null,
   "id": "3939b65c-451d-4abb-adab-394fba1c4a54",
   "metadata": {},
   "outputs": [],
   "source": [
    "import pandas as pd\n",
    "\n",
    "# Define the target UTC+ range\n",
    "target_timezones = [f'UTC+{i}' for i in range(1, 12)]\n",
    "\n",
    "mask_all = (\n",
    "    df_user_time['timezone_1'].isin(target_timezones) |\n",
    "    df_user_time['timezone_2'].isin(target_timezones) |\n",
    "    df_user_time['timezone_3'].isin(target_timezones)\n",
    ")\n",
    "\n",
    "num_users_all = df_user_time[mask_all]['User_ID'].nunique()\n",
    "\n",
    "print(f\"Number of accounts where ALL timezones are between UTC+2 and UTC+11: {num_users_all}\")\n"
   ]
  },
  {
   "cell_type": "code",
   "execution_count": null,
   "id": "b313db09-6929-4de8-9091-5ded18c851ec",
   "metadata": {},
   "outputs": [],
   "source": [
    "pd.merge(df_user_time[mask_all], df_f_manual)[['User_ID', 'Country']]"
   ]
  },
  {
   "cell_type": "code",
   "execution_count": null,
   "id": "0acbc746-6a43-4297-b7aa-9331879155b2",
   "metadata": {},
   "outputs": [],
   "source": [
    "df_lbp = pd.read_csv('Suspected_LBP_Foreign.csv')"
   ]
  },
  {
   "cell_type": "code",
   "execution_count": null,
   "id": "42c73e5d-71f2-429c-a92d-7872b1af4306",
   "metadata": {},
   "outputs": [],
   "source": [
    "pd.concat([multilingual_users_df.rename(columns = {'Language': 'Country'}), \n",
    "           pd.merge(df_user_time[mask_all], df_f_manual)[['User_ID', 'Country']], \n",
    "          df_lbp.rename(columns = {'Inferred_User_ID': 'User_ID'})]).to_csv('Final_Foreign.csv', index = False)"
   ]
  },
  {
   "cell_type": "code",
   "execution_count": null,
   "id": "c2e59853-a309-4e59-b03c-eed61bb2b202",
   "metadata": {},
   "outputs": [],
   "source": [
    "df_lbp.rename(columns = {'Inferred_User_ID': 'User_ID'})"
   ]
  },
  {
   "cell_type": "code",
   "execution_count": null,
   "id": "ceb1ca6f-3727-4fab-a13c-445d4e7e9278",
   "metadata": {},
   "outputs": [],
   "source": []
  }
 ],
 "metadata": {
  "kernelspec": {
   "display_name": "Python 3 (ipykernel)",
   "language": "python",
   "name": "python3"
  },
  "language_info": {
   "codemirror_mode": {
    "name": "ipython",
    "version": 3
   },
   "file_extension": ".py",
   "mimetype": "text/x-python",
   "name": "python",
   "nbconvert_exporter": "python",
   "pygments_lexer": "ipython3",
   "version": "3.10.16"
  }
 },
 "nbformat": 4,
 "nbformat_minor": 5
}
