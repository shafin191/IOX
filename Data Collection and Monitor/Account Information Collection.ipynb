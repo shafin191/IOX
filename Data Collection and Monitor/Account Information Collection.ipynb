{
 "cells": [
  {
   "cell_type": "code",
   "execution_count": 1,
   "id": "bd54717d",
   "metadata": {},
   "outputs": [],
   "source": [
    "import pandas as pd\n",
    "import re\n",
    "import tweepy\n",
    "import pickle\n",
    "import time\n",
    "pd.set_option('display.max_columns', None) \n",
    "pd.set_option('display.max_colwidth', None)"
   ]
  },
  {
   "cell_type": "code",
   "execution_count": 166,
   "id": "9cd8b27a",
   "metadata": {},
   "outputs": [],
   "source": [
    "# All User_ID generated from Collected from Misinformation Tweets\n",
    "df = pd.read_csv('All_Account_List.csv')\n"
   ]
  },
  {
   "cell_type": "code",
   "execution_count": 14,
   "id": "f16de63b",
   "metadata": {},
   "outputs": [],
   "source": [
    "def user_data(fullusers):\n",
    "    user_id=[]\n",
    "    user_name=[]\n",
    "    user_screenName=[]\n",
    "    user_location=[]\n",
    "    user_description=[]\n",
    "    user_url=[]\n",
    "    user_followersCount=[]\n",
    "    user_friendsCount=[]\n",
    "    user_createdAt=[]\n",
    "    user_favCount=[]\n",
    "    user_verified=[]\n",
    "    user_statusCount=[]\n",
    "    user_language=[]\n",
    "    userLast_status = []\n",
    "    user_protected = []\n",
    "    user_following_screenName = []\n",
    "    user_following_userID = []\n",
    "    user_profile_image = []\n",
    "    user_profile_banner = []\n",
    "    for i in range(len(fullusers)):\n",
    "        if (fullusers[i].protected==False):\n",
    "            user_id.append(fullusers[i].id)\n",
    "            user_name.append(fullusers[i].name)\n",
    "            user_screenName.append(fullusers[i].screen_name)\n",
    "            user_location.append(fullusers[i].location)\n",
    "            user_description.append(fullusers[i].description)\n",
    "            user_url.append(fullusers[i].url)\n",
    "            user_followersCount.append(fullusers[i].followers_count)\n",
    "            user_friendsCount.append(fullusers[i].friends_count)\n",
    "            user_createdAt.append(fullusers[i].created_at)\n",
    "            user_favCount.append(fullusers[i].favourites_count)\n",
    "            user_verified.append(fullusers[i].verified)\n",
    "            user_statusCount.append(fullusers[i].statuses_count)\n",
    "            user_language.append(fullusers[i].lang)\n",
    "            user_protected.append(fullusers[i].protected)\n",
    "            user_profile_image.append(fullusers[i].profile_image_url)\n",
    "            #user_profile_banner.append(fullusers[i].profile_banner_url)\n",
    "            try:\n",
    "                userLast_status.append(fullusers[i].status.created_at)\n",
    "            except:\n",
    "                userLast_status.append(None)\n",
    "                \n",
    "        if (fullusers[i].protected==True):\n",
    "            user_id.append(fullusers[i].id)\n",
    "            user_name.append(fullusers[i].name)\n",
    "            user_screenName.append(fullusers[i].screen_name)\n",
    "            user_location.append(fullusers[i].location)\n",
    "            user_description.append(fullusers[i].description)\n",
    "            user_url.append(fullusers[i].url)\n",
    "            user_followersCount.append(fullusers[i].followers_count)\n",
    "            user_friendsCount.append(fullusers[i].friends_count)\n",
    "            user_createdAt.append(fullusers[i].created_at)\n",
    "            user_favCount.append(fullusers[i].favourites_count)\n",
    "            user_verified.append(fullusers[i].verified)\n",
    "            user_statusCount.append(fullusers[i].statuses_count)\n",
    "            user_language.append(fullusers[i].lang)\n",
    "            user_protected.append(fullusers[i].protected)\n",
    "            user_profile_image.append(fullusers[i].profile_image_url)\n",
    "            #user_profile_banner.append(fullusers[i].profile_banner_url)\n",
    "            try:\n",
    "                userLast_status.append(fullusers[i].status.created_at)\n",
    "            except:\n",
    "                userLast_status.append(None)\n",
    "\n",
    "    user_info = pd.DataFrame(\n",
    "        {'User ID': user_id,\n",
    "         'UserName': user_name,\n",
    "         'Screen Name': user_screenName,\n",
    "         'UserLocation': user_location,\n",
    "         'UserDescription': user_description,\n",
    "         'UserURL': user_url,\n",
    "         'UserFollowers':user_followersCount,\n",
    "         'UserFriends': user_friendsCount,\n",
    "         'UserCreated': user_createdAt,\n",
    "         'UserFavoriteCount': user_favCount,\n",
    "         'UserVerified': user_verified,\n",
    "         'TotalStatus': user_statusCount,\n",
    "         'UserLanguage':user_language,\n",
    "         'UserLastStatus': userLast_status,\n",
    "         'UserProtected': user_protected,\n",
    "         'UserProfileLink':user_profile_image,\n",
    "         #'UserBannerLink':user_profile_banner,\n",
    "         \n",
    "        })\n",
    "    \n",
    "    return user_info\n"
   ]
  },
  {
   "cell_type": "code",
   "execution_count": 6,
   "id": "fa8d58f4",
   "metadata": {},
   "outputs": [],
   "source": [
    "# Official X/Twitter API Keys\n",
    "key1 = \"\"\n",
    "key2 = \"\"\n",
    "key3 = \"\"\n",
    "key4 = \"\"\n",
    "\n",
    "\n",
    "auth = tweepy.OAuthHandler(key1, key2)\n",
    "auth.set_access_token(key3, key4)\n",
    "\n",
    "api = tweepy.API(auth, wait_on_rate_limit=True)"
   ]
  },
  {
   "cell_type": "code",
   "execution_count": null,
   "id": "754b4537",
   "metadata": {},
   "outputs": [],
   "source": []
  },
  {
   "cell_type": "code",
   "execution_count": null,
   "id": "1a8962fb",
   "metadata": {},
   "outputs": [],
   "source": []
  },
  {
   "cell_type": "code",
   "execution_count": null,
   "id": "0ed125c5",
   "metadata": {},
   "outputs": [],
   "source": []
  },
  {
   "cell_type": "code",
   "execution_count": null,
   "id": "29dda00b",
   "metadata": {},
   "outputs": [],
   "source": [
    "user_id_list = df.User_ID"
   ]
  },
  {
   "cell_type": "code",
   "execution_count": 12,
   "id": "785b0a7c",
   "metadata": {},
   "outputs": [],
   "source": [
    "first_index = 0\n",
    "last_index = 100\n",
    "users = []\n",
    "for i in range(0, user_id_list/100): \n",
    "    users1 = api.lookup_users(user_id = user_id_list[first_index:last_index])\n",
    "    users.append(users1)\n",
    "    first_index = last_index\n",
    "    last_index = last_index + 100\n"
   ]
  },
  {
   "cell_type": "code",
   "execution_count": 15,
   "id": "24cc2e59",
   "metadata": {},
   "outputs": [],
   "source": [
    "for i in range(0, len(users)):\n",
    "    dfu = user_data(users1)\n",
    "    dfus = dfu"
   ]
  },
  {
   "cell_type": "code",
   "execution_count": 17,
   "id": "84d20f2f",
   "metadata": {},
   "outputs": [],
   "source": [
    "dfus_duplicate_drop = dfus.drop_duplicates()\n",
    "dfus_duplicate_drop = dfus_duplicate_drop.reset_index(drop=True)"
   ]
  },
  {
   "cell_type": "code",
   "execution_count": 19,
   "id": "0a99f243",
   "metadata": {},
   "outputs": [],
   "source": [
    "dfus_duplicate_drop.to_csv('Misinformtion_Account_Basic_Information.csv')"
   ]
  }
 ],
 "metadata": {
  "kernelspec": {
   "display_name": "Python 3 (ipykernel)",
   "language": "python",
   "name": "python3"
  },
  "language_info": {
   "codemirror_mode": {
    "name": "ipython",
    "version": 3
   },
   "file_extension": ".py",
   "mimetype": "text/x-python",
   "name": "python",
   "nbconvert_exporter": "python",
   "pygments_lexer": "ipython3",
   "version": "3.9.13"
  }
 },
 "nbformat": 4,
 "nbformat_minor": 5
}
