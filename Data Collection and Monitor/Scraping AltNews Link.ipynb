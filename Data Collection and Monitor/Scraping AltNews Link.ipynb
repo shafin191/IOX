{
 "cells": [
  {
   "cell_type": "code",
   "execution_count": null,
   "id": "3445f950",
   "metadata": {},
   "outputs": [],
   "source": [
    "pip install selenium\n",
    "pip install webdriver-manager"
   ]
  },
  {
   "cell_type": "code",
   "execution_count": null,
   "id": "63d0c062",
   "metadata": {},
   "outputs": [],
   "source": [
    "from selenium import webdriver\n",
    "from selenium.webdriver.chrome.options import Options\n",
    "import pandas as pd\n",
    "import getpass\n",
    "import time"
   ]
  },
  {
   "cell_type": "code",
   "execution_count": null,
   "id": "7cb4b19e",
   "metadata": {},
   "outputs": [],
   "source": [
    "options_p = Options()\n",
    "options_p.add_argument('--headless')\n",
    "options_p.add_argument(\"user-data-dir=C:\\\\Users\\\\ashaf016\\\\AppData\\\\Local\\\\Google\\\\Chrome\\\\User Data\\\\Profile 4\")\n",
    "options_p.add_argument('--headless')\n",
    "driver = webdriver.Chrome(executable_path=r'./chromedriver.exe', options=options_p)"
   ]
  },
  {
   "cell_type": "code",
   "execution_count": null,
   "id": "0fcffc14",
   "metadata": {},
   "outputs": [],
   "source": [
    "driver.get('https://www.altnews.in/')"
   ]
  },
  {
   "cell_type": "code",
   "execution_count": null,
   "id": "94947c8b",
   "metadata": {},
   "outputs": [],
   "source": [
    "print(driver.page_source)"
   ]
  },
  {
   "cell_type": "code",
   "execution_count": null,
   "id": "b707708a",
   "metadata": {},
   "outputs": [],
   "source": [
    "print(driver.title)"
   ]
  },
  {
   "cell_type": "code",
   "execution_count": null,
   "id": "5dd26680",
   "metadata": {},
   "outputs": [],
   "source": [
    "print(driver.current_url)"
   ]
  },
  {
   "cell_type": "code",
   "execution_count": null,
   "id": "7aeee5bd",
   "metadata": {},
   "outputs": [],
   "source": [
    "all_links = driver.find_elements_by_tag_name('a')"
   ]
  },
  {
   "cell_type": "code",
   "execution_count": null,
   "id": "fda79fac",
   "metadata": {},
   "outputs": [],
   "source": [
    "all_links"
   ]
  },
  {
   "cell_type": "code",
   "execution_count": null,
   "id": "62766aff",
   "metadata": {},
   "outputs": [],
   "source": [
    "links = []\n",
    "for elem in all_links:\n",
    "    href = elem.get_attribute(\"href\")\n",
    "    links.append(href)"
   ]
  },
  {
   "cell_type": "code",
   "execution_count": null,
   "id": "35c96c93",
   "metadata": {},
   "outputs": [],
   "source": [
    "driver.execute_script(\"window.scrollTo(0, 1080)\") "
   ]
  },
  {
   "cell_type": "code",
   "execution_count": null,
   "id": "35cc178f",
   "metadata": {},
   "outputs": [],
   "source": [
    "a = driver.find_element_by_xpath(\"(//div[@class='pbs-col col__xs-1_2'])[position()=1]\")\n",
    "print(a.find_element_by_css_selector('a').get_attribute('href'))"
   ]
  },
  {
   "cell_type": "code",
   "execution_count": null,
   "id": "36ecf087",
   "metadata": {},
   "outputs": [],
   "source": [
    "SCROLL_PAUSE_TIME = 10\n",
    "last_height = driver.execute_script(\"return document.body.scrollHeight\")\n",
    "\n",
    "while True:\n",
    "    driver.execute_script(\"window.scrollTo(0, document.body.scrollHeight);\")\n",
    "    time.sleep(SCROLL_PAUSE_TIME)\n",
    "    new_height = driver.execute_script(\"return document.body.scrollHeight\")\n",
    "    if new_height == last_height:\n",
    "        break\n",
    "    last_height = new_height"
   ]
  },
  {
   "cell_type": "code",
   "execution_count": null,
   "id": "90256240",
   "metadata": {},
   "outputs": [],
   "source": [
    "a = driver.find_element_by_xpath(\"(//div[@class='pbs-col col__xs-1_2'])[position()=978]\")\n",
    "print(a.find_element_by_css_selector('a').get_attribute('href'))"
   ]
  },
  {
   "cell_type": "code",
   "execution_count": null,
   "id": "b443d7d9",
   "metadata": {},
   "outputs": [],
   "source": [
    "all_link = []\n",
    "for i in range(1,979):\n",
    "    a = driver.find_element_by_xpath(\"(//div[@class='pbs-col col__xs-1_2'])[position()=\" +str(i)+\"]\")\n",
    "    all_link.append(a.find_element_by_css_selector('a').get_attribute('href'))"
   ]
  },
  {
   "cell_type": "code",
   "execution_count": null,
   "id": "56ab1087",
   "metadata": {},
   "outputs": [],
   "source": [
    "textfile = open(\"all_link_altNews.txt\", \"w\")\n",
    "for element in all_link:\n",
    "    textfile.write(element + \"\\n\")\n",
    "textfile.close()"
   ]
  }
 ],
 "metadata": {
  "kernelspec": {
   "display_name": "Python 3 (ipykernel)",
   "language": "python",
   "name": "python3"
  },
  "language_info": {
   "codemirror_mode": {
    "name": "ipython",
    "version": 3
   },
   "file_extension": ".py",
   "mimetype": "text/x-python",
   "name": "python",
   "nbconvert_exporter": "python",
   "pygments_lexer": "ipython3",
   "version": "3.9.13"
  }
 },
 "nbformat": 4,
 "nbformat_minor": 5
}
