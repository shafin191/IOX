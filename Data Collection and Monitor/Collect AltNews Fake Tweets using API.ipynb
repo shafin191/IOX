{
 "cells": [
  {
   "cell_type": "code",
   "execution_count": null,
   "id": "6a5d4120",
   "metadata": {},
   "outputs": [],
   "source": [
    "import pandas as pd\n",
    "import re\n",
    "pd.set_option('display.max_colwidth', None)\n",
    "import tweepy\n",
    "import pickle\n",
    "import time\n",
    "pd.set_option('display.max_columns', None)  "
   ]
  },
  {
   "cell_type": "code",
   "execution_count": null,
   "id": "b377b1e1",
   "metadata": {},
   "outputs": [],
   "source": [
    "#Use X/Twitter official API Key\n",
    "key1 = \"\"\n",
    "key2 = \"\"\n",
    "key3 = \"\"\n",
    "key4 = \"\"\n",
    "\n",
    "\n",
    "auth = tweepy.OAuthHandler(key1, key2)\n",
    "auth.set_access_token(key3, key4)\n",
    "\n",
    "api = tweepy.API(auth, wait_on_rate_limit=True)"
   ]
  },
  {
   "cell_type": "code",
   "execution_count": null,
   "id": "2f748add",
   "metadata": {},
   "outputs": [],
   "source": [
    "#Dataset for Misinformtion Tweets collected through Scraping AltNews\n",
    "df_fake_alt = pd.read_csv('ALT_News_Original_Fake_Data.csv', encoding = 'utf-8').drop('Unnamed: 0', axis =1)\n",
    "\n",
    "#Dataset for Misinformtion Tweets collected through Manually Checking Twitter\n",
    "df_fake_manual = pd.read_csv('Fake_Tweet_Manual.csv')\n"
   ]
  },
  {
   "cell_type": "code",
   "execution_count": null,
   "id": "7c983b8d",
   "metadata": {},
   "outputs": [],
   "source": [
    "error = 0\n",
    "error_tweet = []\n",
    "for i in range(len(df_fake_alt)):\n",
    "    try:\n",
    "        status = api.get_status(df_fake_alt.Tweet_ID[i], tweet_mode='extended')\n",
    "    except:\n",
    "        error +=1\n",
    "        error_tweet.append(df_fake_alt.Tweet_ID[i])\n",
    "        continue\n",
    "    \n",
    "    with open('V:/Twitter Research/Fake News Scraping/Fake Tweet/ALT_News/Fake_Tweet_'+str(df_fake_alt.Tweet_ID[i]) +'.data', 'wb') as filehandle:\n",
    "        pickle.dump(status, filehandle)\n",
    "    \n",
    "    time.sleep(2)\n",
    "print(len(error_3rd))"
   ]
  },
  {
   "cell_type": "code",
   "execution_count": null,
   "id": "f731873f",
   "metadata": {},
   "outputs": [],
   "source": [
    "error = 0\n",
    "error_tweet = []\n",
    "for i in range(len(df_fake_manual)):\n",
    "    try:\n",
    "        status = api.get_status(str.split(df_fake_manual.ScreenName[i], '/')[-1], tweet_mode='extended')\n",
    "    except:\n",
    "        error +=1\n",
    "        error_tweet.append(str.split(df_fake_manual.ScreenName[i], '/')[-1])\n",
    "        continue\n",
    "    \n",
    "    with open('V:/Twitter Research/Fake News Scraping/Fake Tweet/Manual/Fake_Tweet_'+str(str.split(df_fake_manual.ScreenName[i], '/')[-1])+'.data', 'wb') as filehandle:\n",
    "        pickle.dump(status, filehandle)\n",
    "    \n",
    "    time.sleep(2)\n",
    "print(len(error_2nd))"
   ]
  }
 ],
 "metadata": {
  "kernelspec": {
   "display_name": "Python 3 (ipykernel)",
   "language": "python",
   "name": "python3"
  },
  "language_info": {
   "codemirror_mode": {
    "name": "ipython",
    "version": 3
   },
   "file_extension": ".py",
   "mimetype": "text/x-python",
   "name": "python",
   "nbconvert_exporter": "python",
   "pygments_lexer": "ipython3",
   "version": "3.9.13"
  }
 },
 "nbformat": 4,
 "nbformat_minor": 5
}
