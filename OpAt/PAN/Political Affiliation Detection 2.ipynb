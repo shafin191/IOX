{
 "cells": [
  {
   "cell_type": "code",
   "execution_count": null,
   "id": "11c37c6b-e58c-497e-a792-3dcf8e1826d1",
   "metadata": {},
   "outputs": [],
   "source": [
    "import pandas as pd\n",
    "import os\n",
    "import numpy as np\n",
    "from sklearn.decomposition import PCA\n",
    "import matplotlib.pyplot as plt\n",
    "import seaborn as sns\n",
    "from sklearn.preprocessing import StandardScaler\n",
    "import re"
   ]
  },
  {
   "cell_type": "code",
   "execution_count": null,
   "id": "79e82e96-5142-4ce6-8e9f-1cf55bdbad8b",
   "metadata": {},
   "outputs": [],
   "source": [
    "pwd"
   ]
  },
  {
   "cell_type": "code",
   "execution_count": null,
   "id": "a7d0dbba-2ac7-404f-9780-33fa9bbb9621",
   "metadata": {},
   "outputs": [],
   "source": [
    "path = ''"
   ]
  },
  {
   "cell_type": "code",
   "execution_count": null,
   "id": "dc5b011b-9a8d-4b31-b931-8e1bd5312879",
   "metadata": {},
   "outputs": [],
   "source": [
    "df_manual_80 = pd.read_csv(path + '/Political Alignment Dataset/Manual_80.csv')\n",
    "df_manual_400 = pd.read_csv(path + '/Political Alignment Dataset/Manual_400_Updated.csv')\n",
    "df_manual_M = pd.read_csv(path + '/Political Alignment Dataset/Maual_M.csv')\n",
    "df_manual_NP = pd.read_csv(path + '/Political Alignment Dataset/Manual_NP.csv')"
   ]
  },
  {
   "cell_type": "code",
   "execution_count": null,
   "id": "50fd9392-344a-4bae-a88a-a7b458a50294",
   "metadata": {},
   "outputs": [],
   "source": [
    "df_manual_M.Verdict.dropna()"
   ]
  },
  {
   "cell_type": "code",
   "execution_count": null,
   "id": "36212cb2-0d47-4fa8-b45f-de98518678db",
   "metadata": {},
   "outputs": [],
   "source": [
    "#df_manual_400"
   ]
  },
  {
   "cell_type": "code",
   "execution_count": null,
   "id": "a3da5d91-5aae-43e4-937c-49a385d703db",
   "metadata": {},
   "outputs": [],
   "source": [
    "df_political_tweet = pd.read_csv(path + '/Account_Political_Tweet_DeBerta.csv')"
   ]
  },
  {
   "cell_type": "code",
   "execution_count": null,
   "id": "37f8d1ba-a210-4bd2-a8ae-6d8dd0477812",
   "metadata": {},
   "outputs": [],
   "source": [
    "stance_counts = (\n",
    "    df_political_tweet\n",
    "    .groupby('User_ID')['stance']\n",
    "    .value_counts()\n",
    "    .unstack(fill_value=0)\n",
    "    .reset_index()\n",
    ")"
   ]
  },
  {
   "cell_type": "code",
   "execution_count": null,
   "id": "055a6a60-b58e-4dfe-8150-a97209af4a26",
   "metadata": {},
   "outputs": [],
   "source": [
    "df_manual_80 = df_manual_80.rename(columns = {'Manual Label': 'Class'})\n",
    "df_manual_400 = df_manual_400.rename(columns = {'ManualLabel': 'Class'})\n",
    "df_manual_M = df_manual_M.rename(columns = {'Verdict': 'Class'})"
   ]
  },
  {
   "cell_type": "code",
   "execution_count": null,
   "id": "87c7ae29-6c74-4f1f-8538-f1e38f9094e9",
   "metadata": {},
   "outputs": [],
   "source": [
    "df_all = pd.concat([df_manual_80[['User_ID', 'Class']], df_manual_400[['User_ID', 'Class']], df_manual_M[['User_ID', 'Class']]]).reset_index(drop = True)"
   ]
  },
  {
   "cell_type": "code",
   "execution_count": null,
   "id": "713614bd-813f-4f7b-8075-b546e0723dbf",
   "metadata": {},
   "outputs": [],
   "source": [
    "df_all = df_all.dropna().reset_index(drop = True)"
   ]
  },
  {
   "cell_type": "code",
   "execution_count": null,
   "id": "b3d08f16-3284-4f09-a61d-33992416aa3c",
   "metadata": {},
   "outputs": [],
   "source": [
    "df_all.groupby('Class').count()"
   ]
  },
  {
   "cell_type": "code",
   "execution_count": null,
   "id": "36545713-b953-40b1-a432-3cf1eec594fa",
   "metadata": {},
   "outputs": [],
   "source": [
    "df_all['Class'] = df_all['Class'].replace({'L': 'D', 'Other': 'M', 'RM':'NP', 'UN': 'M', 'Un': 'M'})"
   ]
  },
  {
   "cell_type": "code",
   "execution_count": null,
   "id": "836a1290-1335-4dc2-8e2c-351b82f2dc80",
   "metadata": {},
   "outputs": [],
   "source": [
    "df_all.groupby('Class').count()"
   ]
  },
  {
   "cell_type": "code",
   "execution_count": null,
   "id": "909f1267-8650-4bd4-bdf6-625296e9e48c",
   "metadata": {},
   "outputs": [],
   "source": [
    "keywords_list = ['maga', 'trump', 'republican', 'conservative', 'trumpvance2024','maha','vance', 'americafirst', 'draintheswamp',\n",
    "                 'trump2024','trumpwon', 'ultramaga', 'darkmaga', 'donaldtrump',\n",
    "                 'democrat', 'kamala', 'walz', 'biden', 'biden2024',  'biden', 'voteblue', 'bluewave', 'teamkamala', 'teambiden', 'harris', 'buildbackbetter', 'bluenomatterwho',\n",
    "                 'kamalaharris',  'proudblue', 'demsunited', 'harriswalz2024','demvoice1']"
   ]
  },
  {
   "cell_type": "code",
   "execution_count": null,
   "id": "4005c8a9-1d6f-4c20-86b6-d3e0c1077646",
   "metadata": {},
   "outputs": [],
   "source": [
    "df_all_acc_user_data = pd.read_csv(path + '/All_Accounts_User_Data.csv')"
   ]
  },
  {
   "cell_type": "code",
   "execution_count": null,
   "id": "d01ca83e-622a-43a3-b69a-494896230892",
   "metadata": {},
   "outputs": [],
   "source": [
    "df_all_acc_user_data = df_all_acc_user_data.drop_duplicates('User_ID')"
   ]
  },
  {
   "cell_type": "code",
   "execution_count": null,
   "id": "cd441262-db3e-4d3f-afcd-eb65e87f059f",
   "metadata": {},
   "outputs": [],
   "source": [
    "df_acc_short = df_all_acc_user_data[['User_ID', 'Created_At', 'ScreenName', 'UserName', 'User_Description', 'User_Description_URL', 'URL', 'URL2', \n",
    "                     'Total_Status_Count', 'Post_Count', 'Favorite_Count', 'Follower_Count', 'Friend_Count',\n",
    "                     'Blue_Verified']]"
   ]
  },
  {
   "cell_type": "code",
   "execution_count": null,
   "id": "0d2adb87-1655-4b38-b7ed-68963381100d",
   "metadata": {},
   "outputs": [],
   "source": [
    "import pandas as pd\n",
    "import ast\n",
    "df_acc_short['User_Description_URL'] = df_acc_short['User_Description_URL'].apply(lambda x: ast.literal_eval(x)[0]['expanded_url'] if x != '[]' else None)"
   ]
  },
  {
   "cell_type": "code",
   "execution_count": null,
   "id": "0046be61-94d2-4a79-b781-22378c63274d",
   "metadata": {},
   "outputs": [],
   "source": [
    "import numpy as np\n",
    "\n",
    "df_acc_short = df_acc_short.copy()\n",
    "df_acc_short.loc[:, 'User_Description_lower'] = df_acc_short['User_Description'].str.lower().fillna('no description')\n",
    "df_acc_short.loc[:, 'UserName_lower'] = df_acc_short['UserName'].str.lower()\n",
    "df_acc_short.loc[:, 'ScreenName_lower'] = df_acc_short['ScreenName'].str.lower()\n",
    "df_acc_short.loc[:, 'User_Description_URL_lower'] = df_acc_short['User_Description_URL'].str.lower()\n",
    "\n",
    "new_columns = {}\n",
    "for keyword in keywords_list:\n",
    "    pattern = rf'\\b{re.escape(keyword)}\\b'\n",
    "    new_columns[keyword + '_count_description'] = df_acc_short['User_Description_lower'].str.count(pattern)\n",
    "    new_columns[keyword + '_count_screenname'] = df_acc_short['ScreenName_lower'].str.count(pattern)\n",
    "    new_columns[keyword + '_count_url'] = df_acc_short['User_Description_URL_lower'].str.count(pattern)\n",
    "    new_columns[keyword + '_count_username'] = df_acc_short['UserName_lower'].str.count(pattern)\n",
    "df_acc_short = pd.concat([df_acc_short, pd.DataFrame(new_columns)], axis=1)\n"
   ]
  },
  {
   "cell_type": "code",
   "execution_count": null,
   "id": "71fd734f-fa07-4d10-903b-55de5be3cd00",
   "metadata": {},
   "outputs": [],
   "source": [
    "rep_keyword_user = ['maga_count_description',\n",
    "       'maga_count_screenname', 'maga_count_url', 'maga_count_username',\n",
    "       'trump_count_description', 'trump_count_screenname', 'trump_count_url',\n",
    "       'trump_count_username', 'republican_count_description',\n",
    "       'republican_count_screenname', 'republican_count_url',\n",
    "       'republican_count_username', 'conservative_count_description',\n",
    "       'conservative_count_screenname', 'conservative_count_url',\n",
    "       'conservative_count_username', 'trumpvance2024_count_description',\n",
    "       'trumpvance2024_count_screenname', 'trumpvance2024_count_url',\n",
    "       'trumpvance2024_count_username', 'maha_count_description',\n",
    "       'maha_count_screenname', 'maha_count_url', 'maha_count_username', 'vance_count_description',\n",
    "       'vance_count_screenname', 'vance_count_url', 'vance_count_username',\n",
    "       'americafirst_count_description', 'americafirst_count_screenname',\n",
    "       'americafirst_count_url', 'americafirst_count_username',\n",
    "       'draintheswamp_count_description', 'draintheswamp_count_screenname',\n",
    "       'draintheswamp_count_url', 'draintheswamp_count_username',\n",
    "       'trump2024_count_description', 'trump2024_count_screenname',\n",
    "       'trump2024_count_url', 'trump2024_count_username',\n",
    "       'trumpwon_count_description', 'trumpwon_count_screenname',\n",
    "       'trumpwon_count_url', 'trumpwon_count_username',\n",
    "       'ultramaga_count_description', 'ultramaga_count_screenname',\n",
    "       'ultramaga_count_url', 'ultramaga_count_username',\n",
    "       'darkmaga_count_description', 'darkmaga_count_screenname',\n",
    "       'darkmaga_count_url', 'darkmaga_count_username',\n",
    "       'donaldtrump_count_description', 'donaldtrump_count_screenname',\n",
    "       'donaldtrump_count_url', 'donaldtrump_count_username',]\n",
    "\n",
    "\n",
    "dem_keyword_user = ['democrat_count_description', 'democrat_count_screenname',\n",
    "       'democrat_count_url', 'democrat_count_username',\n",
    "       'kamala_count_description', 'kamala_count_screenname', 'kamala_count_url', 'kamala_count_username', 'walz_count_description',\n",
    "       'walz_count_screenname', 'walz_count_url', 'walz_count_username',\n",
    "       'biden_count_description', 'biden_count_screenname', 'biden_count_url',\n",
    "       'biden_count_username', 'biden2024_count_description',\n",
    "       'biden2024_count_screenname', 'biden2024_count_url',\n",
    "       'biden2024_count_username', 'voteblue_count_description',\n",
    "       'voteblue_count_screenname', 'voteblue_count_url',\n",
    "       'voteblue_count_username', 'bluewave_count_description',\n",
    "       'bluewave_count_screenname', 'bluewave_count_url',\n",
    "       'bluewave_count_username', 'teamkamala_count_description',\n",
    "       'teamkamala_count_screenname', 'teamkamala_count_url',\n",
    "       'teamkamala_count_username', 'teambiden_count_description',\n",
    "       'teambiden_count_screenname', 'teambiden_count_url',\n",
    "       'teambiden_count_username', 'harris_count_description',\n",
    "       'harris_count_screenname', 'harris_count_url', 'harris_count_username',\n",
    "       'buildbackbetter_count_description', 'buildbackbetter_count_screenname',\n",
    "       'buildbackbetter_count_url', 'buildbackbetter_count_username',\n",
    "       'bluenomatterwho_count_description', 'bluenomatterwho_count_screenname',\n",
    "       'bluenomatterwho_count_url', 'bluenomatterwho_count_username',\n",
    "       'kamalaharris_count_description', 'kamalaharris_count_screenname',\n",
    "       'kamalaharris_count_url', 'kamalaharris_count_username',\n",
    "       'proudblue_count_description', 'proudblue_count_screenname',\n",
    "       'proudblue_count_url', 'proudblue_count_username',\n",
    "       'demsunited_count_description', 'demsunited_count_screenname',\n",
    "       'demsunited_count_url', 'demsunited_count_username',\n",
    "       'harriswalz2024_count_description', 'harriswalz2024_count_screenname',\n",
    "       'harriswalz2024_count_url', 'harriswalz2024_count_username',\n",
    "       'demvoice1_count_description', 'demvoice1_count_screenname',\n",
    "       'demvoice1_count_url', 'demvoice1_count_username']\n",
    "\n",
    "\n",
    "\n"
   ]
  },
  {
   "cell_type": "code",
   "execution_count": null,
   "id": "4c03b91a-3c11-4de5-a6c9-eecc1bfc8f83",
   "metadata": {},
   "outputs": [],
   "source": [
    "all_keywords = dem_keyword_user + rep_keyword_user\n",
    "\n",
    "\n",
    "df_acc_short['DEM_Keyword_Info'] = df_acc_short[dem_keyword_user].sum(axis = 1)\n",
    "df_acc_short['REP_Keyword_Info'] = df_acc_short[rep_keyword_user].sum(axis = 1)\n",
    "\n"
   ]
  },
  {
   "cell_type": "code",
   "execution_count": null,
   "id": "46999142-a180-4e11-a91a-2e9c1cd0b041",
   "metadata": {},
   "outputs": [],
   "source": [
    "df_acc_feature = df_acc_short[['User_ID', 'DEM_Keyword_Info', 'REP_Keyword_Info']]"
   ]
  },
  {
   "cell_type": "code",
   "execution_count": null,
   "id": "eec983a7-84d9-45d4-aaed-d0193805aee4",
   "metadata": {},
   "outputs": [],
   "source": [
    "df_all_tweet = pd.read_csv(path + '/All_Tweet_Clean_Text.csv')\n",
    "df_all_tweet_sentiment = pd.read_csv(path + '/All_Tweet_Sentiment.csv')\n",
    "df_tweet_full = pd.read_csv(path + '/PolitiX_Final_Tweet_Dataset.csv', dtype = 'str', lineterminator = '\\n')"
   ]
  },
  {
   "cell_type": "code",
   "execution_count": null,
   "id": "79bcd4d0-98e9-4e13-a172-3ef1a7be46c3",
   "metadata": {},
   "outputs": [],
   "source": [
    "df_tweet_feature = pd.merge(df_all_tweet, df_all_tweet_sentiment)"
   ]
  },
  {
   "cell_type": "code",
   "execution_count": null,
   "id": "dd2ebd43-639b-4994-bedf-76c6e719a6ca",
   "metadata": {},
   "outputs": [],
   "source": [
    "df_all_tweet['clean_tweet'] = df_all_tweet['clean_tweet'].str.lower()"
   ]
  },
  {
   "cell_type": "code",
   "execution_count": null,
   "id": "3bffd521-e6a6-49e0-8686-1188f037ad8b",
   "metadata": {},
   "outputs": [],
   "source": [
    "keyword_counts = {}\n",
    "for user_id, tweet_text in df_all_tweet[['User_ID', 'clean_tweet']].values:\n",
    "    user_keyword_counts = {keyword: 0 for keyword in keywords_list}\n",
    "    if pd.notna(tweet_text):\n",
    "        for keyword in keywords_list:\n",
    "            user_keyword_counts[keyword] = tweet_text.count(keyword)\n",
    "    keyword_counts[user_id] = user_keyword_counts\n",
    "result_df = pd.DataFrame.from_dict(keyword_counts, orient='index')\n",
    "result_df.reset_index(inplace=True)\n",
    "result_df.rename(columns={'index': 'User_ID'}, inplace=True)"
   ]
  },
  {
   "cell_type": "code",
   "execution_count": null,
   "id": "72609fb3-0504-4963-8ce2-24ddbce357d8",
   "metadata": {},
   "outputs": [],
   "source": [
    "result_df.columns = ['User_ID'] + [col + '_Tweets' for col in result_df.columns[1:]]"
   ]
  },
  {
   "cell_type": "code",
   "execution_count": null,
   "id": "fda0052c-60de-4097-ae5f-0bc2dbca980a",
   "metadata": {},
   "outputs": [],
   "source": [
    "rep_keyword_tweet = ['maga_Tweets', 'trump_Tweets', 'republican_Tweets',\n",
    "       'conservative_Tweets', 'trumpvance2024_Tweets', 'maha_Tweets',\n",
    "       'vance_Tweets', 'americafirst_Tweets', 'draintheswamp_Tweets',\n",
    "       'trump2024_Tweets', 'trumpwon_Tweets', 'ultramaga_Tweets',\n",
    "       'darkmaga_Tweets', 'donaldtrump_Tweets',]\n",
    "\n",
    "\n",
    "dem_keyword_tweet = ['democrat_Tweets',\n",
    "       'kamala_Tweets', 'walz_Tweets', 'biden_Tweets', 'biden2024_Tweets',\n",
    "       'voteblue_Tweets', 'bluewave_Tweets', 'teamkamala_Tweets',\n",
    "       'teambiden_Tweets', 'harris_Tweets', 'buildbackbetter_Tweets',\n",
    "       'bluenomatterwho_Tweets', 'kamalaharris_Tweets', 'proudblue_Tweets',\n",
    "       'demsunited_Tweets', 'harriswalz2024_Tweets', 'demvoice1_Tweets']"
   ]
  },
  {
   "cell_type": "code",
   "execution_count": null,
   "id": "cade2e8c-fb6f-42cc-b6ab-921448fd61dd",
   "metadata": {},
   "outputs": [],
   "source": [
    "result_df"
   ]
  },
  {
   "cell_type": "code",
   "execution_count": null,
   "id": "7359eb3d-dd34-4e3d-affe-3dded0436f18",
   "metadata": {},
   "outputs": [],
   "source": [
    "all_keywords = dem_keyword_user + rep_keyword_user + rep_keyword_tweet + dem_keyword_tweet\n",
    "\n",
    "\n",
    "df_acc_short['DEM_Keyword_Info'] = df_acc_short[dem_keyword_user].sum(axis = 1)\n",
    "df_acc_short['REP_Keyword_Info'] = df_acc_short[rep_keyword_user].sum(axis = 1)\n",
    "\n",
    "df_acc_short['DEM_Keyword_Tweet'] = result_df[dem_keyword_tweet].sum(axis = 1)\n",
    "df_acc_short['REP_Keyword_Tweet'] = result_df[rep_keyword_tweet].sum(axis = 1)\n"
   ]
  },
  {
   "cell_type": "code",
   "execution_count": null,
   "id": "f1ff3957-5874-4607-b63f-08fa14e4eb1b",
   "metadata": {},
   "outputs": [],
   "source": [
    "df_feature = df_acc_short[['User_ID', 'User_Description_lower', 'Total_Status_Count','Post_Count', 'Favorite_Count', \n",
    "              'Follower_Count', 'Friend_Count','DEM_Keyword_Info', 'REP_Keyword_Info', 'DEM_Keyword_Tweet', 'REP_Keyword_Tweet']].reset_index(drop = True)"
   ]
  },
  {
   "cell_type": "code",
   "execution_count": null,
   "id": "ec69bed1-de89-4b66-a763-bfc56fc712da",
   "metadata": {},
   "outputs": [],
   "source": [
    "import pandas as pd\n",
    "\n",
    "rep_keyword_tweet = ['maga_Tweets', 'trump_Tweets', 'republican_Tweets',\n",
    "       'conservative_Tweets', 'trumpvance2024_Tweets', 'maha_Tweets',\n",
    "       'vance_Tweets', 'americafirst_Tweets', 'draintheswamp_Tweets',\n",
    "       'trump2024_Tweets', 'trumpwon_Tweets', 'ultramaga_Tweets',\n",
    "       'darkmaga_Tweets', 'donaldtrump_Tweets']\n",
    "\n",
    "dem_keyword_tweet = ['democrat_Tweets', 'kamala_Tweets', 'walz_Tweets', 'biden_Tweets',\n",
    "       'biden2024_Tweets', 'voteblue_Tweets', 'bluewave_Tweets', 'teamkamala_Tweets',\n",
    "       'teambiden_Tweets', 'harris_Tweets', 'buildbackbetter_Tweets',\n",
    "       'bluenomatterwho_Tweets', 'kamalaharris_Tweets', 'proudblue_Tweets',\n",
    "       'demsunited_Tweets', 'harriswalz2024_Tweets', 'demvoice1_Tweets']\n",
    "\n",
    "rep_keywords_clean = [kw.replace('_Tweets', '').lower() for kw in rep_keyword_tweet]\n",
    "dem_keywords_clean = [kw.replace('_Tweets', '').lower() for kw in dem_keyword_tweet]\n",
    "\n",
    "df_all_tweet['tweet_text_lower'] = df_all_tweet['clean_tweet'].fillna('').str.lower()\n",
    "\n",
    "def count_keywords(text, keyword_list):\n",
    "    return sum(1 for kw in keyword_list if kw.lower() in text)\n",
    "\n",
    "df_all_tweet['rep_keyword_count'] = df_all_tweet['tweet_text_lower'].apply(lambda x: sum(1 for kw in rep_keywords_clean if kw in x))\n",
    "df_all_tweet['dem_keyword_count'] = df_all_tweet['tweet_text_lower'].apply(lambda x: sum(1 for kw in dem_keywords_clean if kw in x))\n"
   ]
  },
  {
   "cell_type": "code",
   "execution_count": null,
   "id": "022be61f-36c5-4808-ac3a-424ea9856fc6",
   "metadata": {},
   "outputs": [],
   "source": [
    "df_sentiment = pd.read_csv(path + '/All_Tweet_Sentiment.csv')"
   ]
  },
  {
   "cell_type": "code",
   "execution_count": null,
   "id": "1edcb147-c57a-44fb-b168-7d8f750f785a",
   "metadata": {},
   "outputs": [],
   "source": [
    "df_seti_check = pd.merge(df_all_tweet[['Tweet_ID', 'User_ID', 'rep_keyword_count', 'dem_keyword_count']], df_tweet_feature[['Tweet_ID', 'User_ID', 'Negative', 'Neutral', 'Positive','Predicted_Sentiment']])"
   ]
  },
  {
   "cell_type": "code",
   "execution_count": null,
   "id": "80abefc6-1a80-423a-8169-75e5f44673f7",
   "metadata": {},
   "outputs": [],
   "source": [
    "rep_tweets = df_seti_check[df_seti_check['rep_keyword_count'] > 0]\n",
    "dem_tweets = df_seti_check[df_seti_check['dem_keyword_count'] > 0]\n",
    "\n",
    "result = df_seti_check.groupby('User_ID').agg(\n",
    "    Total_Tweets=('Tweet_ID', 'count'),\n",
    "    Total_Rep_Positive_Tweets=('rep_keyword_count', lambda x: ((x > 0) & (df_seti_check.loc[x.index, 'Predicted_Sentiment'] == 'Positive')).sum()),\n",
    "    Total_Rep_Negative_Tweets=('rep_keyword_count', lambda x: ((x > 0) & (df_seti_check.loc[x.index, 'Predicted_Sentiment'] == 'Negative')).sum()),\n",
    "    Total_Rep_Neutral_Tweets=('rep_keyword_count', lambda x: ((x > 0) & (df_seti_check.loc[x.index, 'Predicted_Sentiment'] == 'Neutral')).sum()),\n",
    "    Total_Dem_Positive_Tweets=('dem_keyword_count', lambda x: ((x > 0) & (df_seti_check.loc[x.index, 'Predicted_Sentiment'] == 'Positive')).sum()),\n",
    "    Total_Dem_Negative_Tweets=('dem_keyword_count', lambda x: ((x > 0) & (df_seti_check.loc[x.index, 'Predicted_Sentiment'] == 'Negative')).sum()),\n",
    "    Total_Dem_Neutral_Tweets=('dem_keyword_count', lambda x: ((x > 0) & (df_seti_check.loc[x.index, 'Predicted_Sentiment'] == 'Neutral')).sum())\n",
    ").reset_index()\n"
   ]
  },
  {
   "cell_type": "code",
   "execution_count": null,
   "id": "db2a116c-2129-4c93-8978-8f91f42b9fa2",
   "metadata": {},
   "outputs": [],
   "source": [
    "df_feature = pd.merge(df_feature, result, how = 'left')"
   ]
  },
  {
   "cell_type": "code",
   "execution_count": null,
   "id": "fdb3081b-e0fa-4a53-be03-b08a6ab83e9b",
   "metadata": {},
   "outputs": [],
   "source": [
    "df_feature = df_feature.drop(columns = 'Total_Status_Count')"
   ]
  },
  {
   "cell_type": "code",
   "execution_count": null,
   "id": "8965f071-6e4a-4ac1-860a-82e0c3c0045d",
   "metadata": {},
   "outputs": [],
   "source": [
    "df_feature = df_feature.replace(np.nan, 0)"
   ]
  },
  {
   "cell_type": "code",
   "execution_count": null,
   "id": "acef3dff-73e6-4a59-bafd-03076ddae212",
   "metadata": {},
   "outputs": [],
   "source": [
    "df_sample_data = pd.merge(df_all, df_feature)"
   ]
  },
  {
   "cell_type": "code",
   "execution_count": null,
   "id": "d85fb7eb-95ec-43a2-bebf-ce30eef88eb9",
   "metadata": {},
   "outputs": [],
   "source": [
    "df_sample_data = pd.merge(df_all, df_feature)"
   ]
  },
  {
   "cell_type": "code",
   "execution_count": null,
   "id": "79507e6f-2d1b-4a04-95ea-5f675a4336d7",
   "metadata": {},
   "outputs": [],
   "source": [
    "df_sample_data_short = df_sample_data.loc[df_sample_data['Class'].isin(['R', 'D', 'M', 'NP'])]"
   ]
  },
  {
   "cell_type": "code",
   "execution_count": null,
   "id": "47b893c6-852f-407a-bea7-97b69b8e77ed",
   "metadata": {},
   "outputs": [],
   "source": [
    "df_sample_data_short.groupby('Class').count()"
   ]
  },
  {
   "cell_type": "code",
   "execution_count": null,
   "id": "c527ba5b-877f-44c3-b201-e123b81d863e",
   "metadata": {},
   "outputs": [],
   "source": [
    "import pandas as pd\n",
    "from sklearn.model_selection import train_test_split, cross_val_score\n",
    "from sklearn.ensemble import RandomForestClassifier\n",
    "from sklearn.pipeline import make_pipeline\n",
    "from sklearn.metrics import make_scorer, accuracy_score, precision_score, recall_score, f1_score\n",
    "\n",
    "\n",
    "political_labels_up = {\n",
    "    'R': 0,\n",
    "    'M': 2,\n",
    "    'D': 1,\n",
    "    'NP': 3,\n",
    "}\n",
    "df_sample_data['Party_Label'] =df_sample_data['Class'].map(political_labels_up)"
   ]
  },
  {
   "cell_type": "code",
   "execution_count": null,
   "id": "0474496f-73fb-41d4-ae5e-284eeb4ba1dc",
   "metadata": {},
   "outputs": [],
   "source": [
    "df_sample_data_short = df_sample_data.replace(np.nan, 0)"
   ]
  },
  {
   "cell_type": "code",
   "execution_count": null,
   "id": "a6fd493a-215a-445e-b15e-e914ebe26b37",
   "metadata": {},
   "outputs": [],
   "source": [
    "df_sample_data_short= df_sample_data_short.reset_index(drop = True)\n",
    "X = df_sample_data_short.drop(columns=['Party_Label','Class', 'User_ID', 'User_Description_lower'])\n",
    "y = df_sample_data_short['Party_Label']\n"
   ]
  },
  {
   "cell_type": "code",
   "execution_count": null,
   "id": "7ff6ab8c-e867-445f-89b6-919620675d69",
   "metadata": {},
   "outputs": [],
   "source": [
    "model =  RandomForestClassifier()\n",
    "scorer = make_scorer(f1_score, average='weighted')\n",
    "scores = cross_val_score(model, X, y, cv=10, scoring=scorer)\n",
    "print(\"Cross-validation scores:\", scores)\n",
    "print(\"Mean cross-validation score:\", scores.mean())"
   ]
  },
  {
   "cell_type": "code",
   "execution_count": null,
   "id": "4bf32ac1-ead1-4e0a-9ecf-bc138bdffa17",
   "metadata": {},
   "outputs": [],
   "source": [
    "import pandas as pd\n",
    "import nltk\n",
    "from nltk.corpus import stopwords\n",
    "\n",
    "def remove_stopwords(text):\n",
    "    extra_stop_words = ['co', 'de', 'dms', 'https', 'https co', 'la']\n",
    "    text = text.replace('RT :', '')\n",
    "    stop_words_english = stopwords.words('english')\n",
    "    stop_words_combined = stop_words_english\n",
    "    stop_words = set(stop_words_combined)\n",
    "    stop_words.update(extra_stop_words)\n",
    "    words = text.split()\n",
    "    filtered_words = [word for word in words if word.lower() not in stop_words]\n",
    "    return ' '.join(filtered_words)"
   ]
  },
  {
   "cell_type": "code",
   "execution_count": null,
   "id": "889cda2b-2e18-49f2-95dd-2579b1a4d2ac",
   "metadata": {},
   "outputs": [],
   "source": [
    "import pandas as pd\n",
    "import nltk\n",
    "from nltk.corpus import stopwords\n",
    "from sklearn.feature_extraction.text import TfidfVectorizer\n",
    "\n",
    "def remove_stopwords(text):\n",
    "    extra_stop_words = ['co', 'de', 'dms', 'https', 'la']\n",
    "    text = text.replace('RT :', '')\n",
    "    text = re.sub(r'http\\S+', '', text) \n",
    "    text = re.sub(r'www\\S+', '', text)   \n",
    "    stop_words_english = stopwords.words('english')\n",
    "    stop_words_combined = stop_words_english + extra_stop_words\n",
    "    stop_words = set(stop_words_combined)\n",
    "    words = text.split()\n",
    "    filtered_words = [word for word in words if word.lower() not in stop_words]\n",
    "    return ' '.join(filtered_words)\n",
    "\n",
    "df_feature['User_Description_lower'] = df_feature['User_Description_lower'].apply(remove_stopwords)\n",
    "tfidf_vectorizer = TfidfVectorizer(ngram_range=(1, 3), max_features=25, stop_words=None)\n",
    "tfidf_matrix = tfidf_vectorizer.fit_transform(df_feature['User_Description_lower'])\n",
    "feature_names = tfidf_vectorizer.get_feature_names_out()\n",
    "tfidf_df = pd.DataFrame(tfidf_matrix.toarray(), columns=feature_names)"
   ]
  },
  {
   "cell_type": "code",
   "execution_count": null,
   "id": "af96c6e8-0470-44f9-b494-3b16667735e0",
   "metadata": {},
   "outputs": [],
   "source": [
    "tfidf_df['User_ID']= df_feature['User_ID']"
   ]
  },
  {
   "cell_type": "code",
   "execution_count": null,
   "id": "67a68c8c-e304-4ac8-ac87-9e73a3aacb0c",
   "metadata": {},
   "outputs": [],
   "source": [
    "df_sample_data = pd.merge(df_all, df_feature)"
   ]
  },
  {
   "cell_type": "code",
   "execution_count": null,
   "id": "b488ffde-e1f7-4ad6-a8cd-611f8e425679",
   "metadata": {},
   "outputs": [],
   "source": [
    "tfidf_df"
   ]
  },
  {
   "cell_type": "code",
   "execution_count": null,
   "id": "f8e8cb46-6961-4287-b9c1-7780311d8ced",
   "metadata": {},
   "outputs": [],
   "source": [
    "df_check_dem_sample = df_feature.loc[df_feature.DEM_Keyword_Info>=2]"
   ]
  },
  {
   "cell_type": "code",
   "execution_count": null,
   "id": "bad015cb-5c0b-47c2-86c2-26684c7e4a9a",
   "metadata": {},
   "outputs": [],
   "source": [
    "df_check_dem_sample['Class'] = 'D'"
   ]
  },
  {
   "cell_type": "code",
   "execution_count": null,
   "id": "052cfaa2-d05c-41bc-9348-e9f4aa219ec8",
   "metadata": {},
   "outputs": [],
   "source": [
    "df_sample_data = pd.concat([df_sample_data,df_check_dem_sample])"
   ]
  },
  {
   "cell_type": "code",
   "execution_count": null,
   "id": "9dd7ce21-35cd-466e-afbb-fe730981f784",
   "metadata": {},
   "outputs": [],
   "source": [
    "df_sample_data_description = pd.merge(df_sample_data, tfidf_df)"
   ]
  },
  {
   "cell_type": "code",
   "execution_count": null,
   "id": "6d3b88a5-fed8-4a5a-a827-736e37bcd97b",
   "metadata": {},
   "outputs": [],
   "source": []
  },
  {
   "cell_type": "code",
   "execution_count": null,
   "id": "bcb6d0a9-fa9f-411e-81fc-fc0604f5f9b1",
   "metadata": {},
   "outputs": [],
   "source": []
  },
  {
   "cell_type": "code",
   "execution_count": null,
   "id": "573c0529-7466-4c09-bdb0-bf70e7ba29a6",
   "metadata": {},
   "outputs": [],
   "source": [
    "df_sample_data = df_sample_data.drop(columns = 'Manual Label')"
   ]
  },
  {
   "cell_type": "code",
   "execution_count": null,
   "id": "6e761d9f-0e31-413d-bf02-678cf4140c7d",
   "metadata": {},
   "outputs": [],
   "source": [
    "df_sample_data_description = pd.merge(df_sample_data_description,stance_counts, on = 'User_ID', how = 'left')"
   ]
  },
  {
   "cell_type": "code",
   "execution_count": null,
   "id": "9ca3856a-716a-412a-875b-42473ecebaa2",
   "metadata": {},
   "outputs": [],
   "source": [
    "df_sample_data_description.groupby('Class').count()"
   ]
  },
  {
   "cell_type": "code",
   "execution_count": null,
   "id": "b9c619dc-5653-4f9e-831b-f988dcfc3a17",
   "metadata": {},
   "outputs": [],
   "source": [
    "import pandas as pd\n",
    "from sklearn.model_selection import train_test_split, cross_val_score\n",
    "from sklearn.ensemble import RandomForestClassifier\n",
    "from sklearn.pipeline import make_pipeline\n",
    "from sklearn.metrics import make_scorer, accuracy_score, precision_score, recall_score, f1_score\n",
    "\n",
    "\n",
    "political_labels_up = {\n",
    "    'R': 0,\n",
    "    'M': 2,\n",
    "    'D': 1,\n",
    "    'NP':3\n",
    "}\n",
    "df_sample_data_description['Party_Label'] =df_sample_data_description['Class'].map(political_labels_up)"
   ]
  },
  {
   "cell_type": "code",
   "execution_count": null,
   "id": "0a9571fd-a115-4fc9-9e50-0a5ac09ced1a",
   "metadata": {},
   "outputs": [],
   "source": [
    "df_sample_data_description = df_sample_data_description.loc[df_sample_data_description.Party_Label.isin([0,1,2, 3])]"
   ]
  },
  {
   "cell_type": "code",
   "execution_count": null,
   "id": "c553afea-a4cc-4325-b4d5-da5cc9d6fb33",
   "metadata": {},
   "outputs": [],
   "source": [
    "df_sample_data_description.groupby('Class').count()"
   ]
  },
  {
   "cell_type": "code",
   "execution_count": null,
   "id": "abe82a4e-1ce7-469b-b568-5fb6cf1aaa9c",
   "metadata": {},
   "outputs": [],
   "source": [
    "df_sample_data_description= df_sample_data_description.reset_index(drop = True)\n",
    "df_sample_data_description = df_sample_data_description.replace(np.nan, 0)\n",
    "df_sample_data_description = df_sample_data_description.sample(frac = 1)\n",
    "df_sample_data_description= df_sample_data_description.reset_index(drop = True)\n",
    "X = df_sample_data_description.drop(columns=['Party_Label', 'Class', 'User_ID', 'User_Description_lower'])\n",
    "y = df_sample_data_description['Party_Label']\n"
   ]
  },
  {
   "cell_type": "code",
   "execution_count": null,
   "id": "eae128ba-8cb9-4e8d-93a9-166a857114a3",
   "metadata": {},
   "outputs": [],
   "source": [
    "from sklearn.model_selection import cross_validate\n",
    "from sklearn.ensemble import RandomForestClassifier\n",
    "from sklearn.metrics import make_scorer, precision_score, recall_score, f1_score\n",
    "\n",
    "model = RandomForestClassifier()\n",
    "\n",
    "scoring = {\n",
    "    'accuracy': 'accuracy',\n",
    "    'precision_macro': make_scorer(precision_score, average='macro'),\n",
    "    'recall_macro': make_scorer(recall_score, average='macro'),\n",
    "    'f1_macro': make_scorer(f1_score, average='macro')\n",
    "}\n",
    "\n",
    "cv_results = cross_validate(\n",
    "    model,\n",
    "    X, y,\n",
    "    cv=10,\n",
    "    scoring=scoring,\n",
    "    return_train_score=False\n",
    ")\n",
    "\n",
    "print(\"Cross-validation results:\")\n",
    "print(\"Accuracy:\", cv_results['test_accuracy'])\n",
    "print(\"Precision (macro):\", cv_results['test_precision_macro'])\n",
    "print(\"Recall (macro):\", cv_results['test_recall_macro'])\n",
    "print(\"F1 Score (macro):\", cv_results['test_f1_macro'])\n",
    "\n",
    "print(\"Mean Accuracy:\", cv_results['test_accuracy'].mean())\n",
    "print(\"Mean Precision:\", cv_results['test_precision_macro'].mean())\n",
    "print(\"Mean Recall:\", cv_results['test_recall_macro'].mean())\n",
    "print(\"Mean F1 Score:\", cv_results['test_f1_macro'].mean())\n"
   ]
  },
  {
   "cell_type": "code",
   "execution_count": null,
   "id": "b7fe600d-ab69-4ccd-be4f-45ba581174ea",
   "metadata": {},
   "outputs": [],
   "source": [
    "from imblearn.over_sampling import RandomOverSampler\n",
    "from imblearn.under_sampling import RandomUnderSampler\n",
    "from sklearn.model_selection import StratifiedKFold, cross_val_score\n",
    "from sklearn.ensemble import RandomForestClassifier\n",
    "from sklearn.metrics import precision_recall_fscore_support, accuracy_score\n",
    "import numpy as np\n",
    "\n",
    "model = RandomForestClassifier()\n",
    "cv = StratifiedKFold(n_splits=10)\n",
    "precision_per_class = []\n",
    "recall_per_class = []\n",
    "f1_per_class = []\n",
    "accuracy_per_fold = []\n",
    "resampling = RandomOverSampler(sampling_strategy='auto', random_state=42)\n",
    "\n",
    "for train_idx, test_idx in cv.split(X, y):\n",
    "    X_train, X_test = X.iloc[train_idx], X.iloc[test_idx]\n",
    "    y_train, y_test = y.iloc[train_idx], y.iloc[test_idx]\n",
    "    X_train_resampled, y_train_resampled = resampling.fit_resample(X_train, y_train)\n",
    "    model.fit(X_train_resampled, y_train_resampled)\n",
    "    y_pred = model.predict(X_test)\n",
    "    accuracy = accuracy_score(y_test, y_pred)\n",
    "    accuracy_per_fold.append(accuracy)\n",
    "    precision, recall, f1, _ = precision_recall_fscore_support(y_test, y_pred, average=None)\n",
    "    precision_per_class.append(precision)\n",
    "    recall_per_class.append(recall)\n",
    "    f1_per_class.append(f1)\n",
    "\n",
    "precision_per_class = np.array(precision_per_class)\n",
    "recall_per_class = np.array(recall_per_class)\n",
    "f1_per_class = np.array(f1_per_class)\n",
    "mean_precision = precision_per_class.mean(axis=0)\n",
    "mean_recall = recall_per_class.mean(axis=0)\n",
    "mean_f1 = f1_per_class.mean(axis=0)\n",
    "print(\"Per-class Precision:\", mean_precision)\n",
    "print(\"Per-class Recall:\", mean_recall)\n",
    "print(\"Per-class F1 Score:\", mean_f1)\n",
    "mean_accuracy = np.mean(accuracy_per_fold)\n",
    "print(\"Mean Accuracy:\", mean_accuracy)\n",
    "for i in range(len(accuracy_per_fold)):\n",
    "    print(f\"Fold {i+1} - Accuracy: {accuracy_per_fold[i]}, Precision: {precision_per_class[i]}, Recall: {recall_per_class[i]}, F1: {f1_per_class[i]}\")\n"
   ]
  },
  {
   "cell_type": "code",
   "execution_count": null,
   "id": "2c6c58b0-8ac8-443e-9a40-e93c855916cb",
   "metadata": {},
   "outputs": [],
   "source": [
    "df_sample_data_description"
   ]
  },
  {
   "cell_type": "code",
   "execution_count": null,
   "id": "8ad73901-c551-44aa-9a6d-c63cb17d0c91",
   "metadata": {},
   "outputs": [],
   "source": [
    "features = ['Post_Count', 'Favorite_Count', 'Follower_Count', 'Friend_Count',\n",
    "            'DEM_Keyword_Info', 'REP_Keyword_Info', 'DEM_Keyword_Tweet',\n",
    "            'REP_Keyword_Tweet', 'Total_Tweets', 'Total_Rep_Positive_Tweets',\n",
    "            'Total_Rep_Negative_Tweets', 'Total_Rep_Neutral_Tweets',\n",
    "            'Total_Dem_Positive_Tweets', 'Total_Dem_Negative_Tweets',\n",
    "            'Total_Dem_Neutral_Tweets', 'account', 'america', 'american',\n",
    "            'conservative', 'description', 'dm', 'first', 'follow', 'free',\n",
    "            'god', 'life', 'love', 'maga', 'news', 'patriot', 'people',\n",
    "            'political', 'politics', 'pro', 'proud', 'retired', 'trump',\n",
    "            'truth', 'us', 'world', 'Anti-D', 'Anti-R', 'Neutral', 'Pro-D', 'Pro-R']\n"
   ]
  }
 ],
 "metadata": {
  "kernelspec": {
   "display_name": "Python 3 (ipykernel)",
   "language": "python",
   "name": "python3"
  },
  "language_info": {
   "codemirror_mode": {
    "name": "ipython",
    "version": 3
   },
   "file_extension": ".py",
   "mimetype": "text/x-python",
   "name": "python",
   "nbconvert_exporter": "python",
   "pygments_lexer": "ipython3",
   "version": "3.10.16"
  }
 },
 "nbformat": 4,
 "nbformat_minor": 5
}
