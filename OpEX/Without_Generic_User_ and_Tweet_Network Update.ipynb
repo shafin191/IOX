{
 "cells": [
  {
   "cell_type": "code",
   "execution_count": null,
   "id": "776fe650-fea7-428a-abc4-da2dade36709",
   "metadata": {},
   "outputs": [],
   "source": [
    "import os\n",
    "import pickle\n",
    "import numpy as np\n",
    "import pandas as pd\n",
    "import networkx as nx\n",
    "import matplotlib.pyplot as plt\n",
    "\n",
    "from itertools import combinations\n",
    "from collections import defaultdict, Counter\n",
    "\n",
    "import community as community_louvain\n",
    "from networkx.algorithms.community import (\n",
    "    louvain_communities,\n",
    "    modularity,\n",
    "    greedy_modularity_communities,\n",
    ")\n"
   ]
  },
  {
   "cell_type": "code",
   "execution_count": null,
   "id": "b1be0f22-0225-4c9b-ae8d-188ecb6e4604",
   "metadata": {},
   "outputs": [],
   "source": [
    "df_generic = pd.read_csv('Generic_OutCome.csv')"
   ]
  },
  {
   "cell_type": "code",
   "execution_count": null,
   "id": "345a4f85-a935-4928-88c4-9d3c3eb8d94e",
   "metadata": {},
   "outputs": [],
   "source": [
    "df_cluster = pd.read_csv('All_Text_Duplicate_Tweet.csv')\n",
    "df_cluster = pd.merge(df_cluster, df_generic)\n",
    "df_non_generic = df_cluster.loc[df_cluster.Generic_OutCome == 'not generic']\n",
    "df_only_image = pd.read_pickle('/a/bear.cs.xxx.edu./disk/bear-b/users/xxww/PolitiX/Codebase/Complete_Similarity_Both_Text_Image.pkl')"
   ]
  },
  {
   "cell_type": "code",
   "execution_count": null,
   "id": "17f46942-e4bd-44d8-9515-08e3ff69964f",
   "metadata": {},
   "outputs": [],
   "source": [
    "df_non_generic = df_non_generic.drop_duplicates(['Cluster_ID', 'User_ID']).reset_index(drop = True)"
   ]
  },
  {
   "cell_type": "code",
   "execution_count": null,
   "id": "2727d3e1-044c-4c78-9b57-377b0520dd75",
   "metadata": {},
   "outputs": [],
   "source": [
    "df_non_generic = df_non_generic.loc[~df_non_generic.Cluster_ID.isin([79, 4, 69, 189, 46968, 50,\t171,331, 25, 22 ])]"
   ]
  },
  {
   "cell_type": "code",
   "execution_count": null,
   "id": "60ed4c8e-637a-4b60-9831-0643980c6af7",
   "metadata": {},
   "outputs": [],
   "source": [
    "df_non_generic.loc[df_non_generic.Cluster_ID == 4320]"
   ]
  },
  {
   "cell_type": "code",
   "execution_count": null,
   "id": "60b74725-092d-4fda-8fdf-a631618b3cbe",
   "metadata": {},
   "outputs": [],
   "source": [
    "len(df_non_generic.User_ID.unique())"
   ]
  },
  {
   "cell_type": "code",
   "execution_count": null,
   "id": "41dda52a-8ad1-48e3-9c2c-bdc3e410d21e",
   "metadata": {},
   "outputs": [],
   "source": [
    "df_non_generic.columns"
   ]
  },
  {
   "cell_type": "code",
   "execution_count": null,
   "id": "807ca633-9123-4b9f-86f5-2ff7ffc4169c",
   "metadata": {},
   "outputs": [],
   "source": [
    "df_non_generic"
   ]
  },
  {
   "cell_type": "code",
   "execution_count": null,
   "id": "54dfe055-d678-4dd6-a4ca-e675387f9df0",
   "metadata": {},
   "outputs": [],
   "source": [
    "import pandas as pd\n",
    "from itertools import combinations\n",
    "from collections import defaultdict\n",
    "\n",
    "pair_weights = defaultdict(int)\n",
    "for cluster_id, group in df_non_generic.groupby('Cluster_ID'):\n",
    "    users = group['User_ID'].unique()\n",
    "    for user1, user2 in combinations(sorted(users), 2):\n",
    "        pair_weights[(user1, user2)] += 1\n",
    "df_user_pairs = pd.DataFrame([\n",
    "    {'User1': u1, 'User2': u2, 'Weight': w}\n",
    "    for (u1, u2), w in pair_weights.items()\n",
    "])\n",
    "\n",
    "df_user_pairs = df_user_pairs.sort_values(by='Weight', ascending=False)\n",
    "print(df_user_pairs.head())\n"
   ]
  },
  {
   "cell_type": "code",
   "execution_count": null,
   "id": "26b2b156-0642-4b36-83c3-e2ecf7a12e3a",
   "metadata": {},
   "outputs": [],
   "source": [
    "df_user_pairs.loc[df_user_pairs.Weight>=50].sample(20)"
   ]
  },
  {
   "cell_type": "code",
   "execution_count": null,
   "id": "a623c9a1-b5ae-417a-b0a5-8a9704546eb9",
   "metadata": {},
   "outputs": [],
   "source": []
  },
  {
   "cell_type": "code",
   "execution_count": null,
   "id": "cf4f46d4-a923-4bd6-91ae-43d567cc1f9d",
   "metadata": {},
   "outputs": [],
   "source": [
    "df_only_image = df_only_image.loc[df_only_image.Source_User_ID != df_only_image.Target_User_ID]"
   ]
  },
  {
   "cell_type": "code",
   "execution_count": null,
   "id": "b3b71857-1f19-4322-9167-961d028cd0bd",
   "metadata": {},
   "outputs": [],
   "source": [
    "df_only_image = df_only_image.loc[df_only_image.Similarity_Type == 'Image']"
   ]
  },
  {
   "cell_type": "code",
   "execution_count": null,
   "id": "66da026b-2f22-4653-a52d-060b810d6e11",
   "metadata": {},
   "outputs": [],
   "source": [
    "import pandas as pd\n",
    "import networkx as nx\n",
    "\n",
    "G_image = nx.Graph()\n",
    "for _, row in df_only_image.iterrows():\n",
    "    source = row['Source_Tweet_ID']\n",
    "    target = row['Target_Tweet_ID']\n",
    "    G_image.add_edge(source, target)\n",
    "\n",
    "components = nx.connected_components(G_image)\n",
    "component_mapping = {\n",
    "    node: idx for idx, comp in enumerate(components) for node in comp\n",
    "}\n",
    "\n",
    "community_df = pd.DataFrame(list(component_mapping.items()), columns=['Tweet_ID', 'Cluster_ID'])\n",
    "df_with_communities = df_only_image.copy()\n",
    "df_with_communities = df_with_communities.merge(community_df, how='left', left_on='Source_Tweet_ID', right_on='Tweet_ID')\n",
    "df_with_communities.drop(columns=['Tweet_ID'], inplace=True)\n"
   ]
  },
  {
   "cell_type": "code",
   "execution_count": null,
   "id": "5e6a51f7-da8c-489d-82e4-9dadf02e38a5",
   "metadata": {},
   "outputs": [],
   "source": [
    "modularity = community_louvain.modularity(partition, G_image)"
   ]
  },
  {
   "cell_type": "code",
   "execution_count": null,
   "id": "6362dc24-e399-4513-be5c-e6789bdc78b5",
   "metadata": {},
   "outputs": [],
   "source": [
    "#modularity"
   ]
  },
  {
   "cell_type": "code",
   "execution_count": null,
   "id": "1f63a92a-a548-42b5-bb64-f1189ae10926",
   "metadata": {},
   "outputs": [],
   "source": [
    "community_df.sort_values('Cluster_ID')"
   ]
  },
  {
   "cell_type": "code",
   "execution_count": null,
   "id": "36e86c28-e543-456e-89eb-558dc2ed5531",
   "metadata": {},
   "outputs": [],
   "source": []
  },
  {
   "cell_type": "code",
   "execution_count": null,
   "id": "c3861c61-e6f1-4962-8e53-ae61a3382f88",
   "metadata": {},
   "outputs": [],
   "source": []
  },
  {
   "cell_type": "code",
   "execution_count": null,
   "id": "5537fe67-19c7-4566-88bb-ec8e42556b34",
   "metadata": {},
   "outputs": [],
   "source": [
    "df_concat_image = pd.concat([\n",
    "    df_only_image[['Source_Tweet_ID', 'Source_User_ID']].rename(columns={'Source_Tweet_ID': 'Tweet_ID', 'Source_User_ID': 'User_ID'}),\n",
    "    df_only_image[['Target_Tweet_ID', 'Target_User_ID']].rename(columns={'Target_Tweet_ID': 'Tweet_ID', 'Target_User_ID': 'User_ID'})\n",
    "], ignore_index=True)\n"
   ]
  },
  {
   "cell_type": "code",
   "execution_count": null,
   "id": "4946d128-8160-4bd0-a584-67edae527a62",
   "metadata": {},
   "outputs": [],
   "source": [
    "df_concat_image  = df_concat_image.drop_duplicates().reset_index(drop = True)"
   ]
  },
  {
   "cell_type": "code",
   "execution_count": null,
   "id": "f11d48df-7e1c-4c02-95df-10083ce55fac",
   "metadata": {},
   "outputs": [],
   "source": [
    "df_concat_image = pd.merge(df_concat_image, community_df)"
   ]
  },
  {
   "cell_type": "code",
   "execution_count": null,
   "id": "43f035c5-7c65-44ff-9a46-01ea8800a439",
   "metadata": {},
   "outputs": [],
   "source": [
    "df_concat_image.groupby('Cluster_ID').count().sort_values('User_ID')"
   ]
  },
  {
   "cell_type": "code",
   "execution_count": null,
   "id": "3bb0c3d3-ffe7-4d78-84b8-e97d7b3b1e52",
   "metadata": {},
   "outputs": [],
   "source": [
    "df_concat_image = df_concat_image.loc[~df_concat_image.Cluster_ID.isin([161, 20])]"
   ]
  },
  {
   "cell_type": "code",
   "execution_count": null,
   "id": "a875de22-ec84-4a55-b538-0a9348c8ad88",
   "metadata": {},
   "outputs": [],
   "source": []
  },
  {
   "cell_type": "code",
   "execution_count": null,
   "id": "4902375f-05ee-4f69-8c27-5b9344d51811",
   "metadata": {},
   "outputs": [],
   "source": [
    "df_concat_image.sort_values('Cluster_ID')"
   ]
  },
  {
   "cell_type": "code",
   "execution_count": null,
   "id": "0eea2122-a43a-4f1b-8d01-365554871bdf",
   "metadata": {},
   "outputs": [],
   "source": [
    "import pandas as pd\n",
    "from itertools import combinations\n",
    "from collections import defaultdict\n",
    "\n",
    "pair_weights_image = defaultdict(int)\n",
    "for cluster_id, group in df_concat_image.groupby('Cluster_ID'):\n",
    "    users_image = group['User_ID'].unique()\n",
    "    for user1, user2 in combinations(sorted(users_image), 2):\n",
    "        pair_weights_image[(user1, user2)] += 1\n",
    "\n",
    "df_user_pairs_image = pd.DataFrame([\n",
    "    {'User1': u1, 'User2': u2, 'Weight': w}\n",
    "    for (u1, u2), w in pair_weights_image.items()\n",
    "])\n",
    "\n",
    "df_user_pairs_image = df_user_pairs_image.sort_values(by='Weight', ascending=False)\n",
    "print(df_user_pairs_image.head())\n"
   ]
  },
  {
   "cell_type": "code",
   "execution_count": null,
   "id": "bdb655ff-6018-4b71-9df2-e071d11cc4a2",
   "metadata": {},
   "outputs": [],
   "source": [
    "df_user_pairs_image"
   ]
  },
  {
   "cell_type": "code",
   "execution_count": null,
   "id": "54f3b49b-6ac6-4899-95f9-6d356199796e",
   "metadata": {},
   "outputs": [],
   "source": [
    "df_user_pairs"
   ]
  },
  {
   "cell_type": "code",
   "execution_count": null,
   "id": "7a4f17c6-ff7a-4d61-9639-a2e218a91257",
   "metadata": {},
   "outputs": [],
   "source": [
    "def normalize_pair(df, type_label):\n",
    "    df = df.copy()\n",
    "    df[['User1', 'User2']] = df[['User1', 'User2']].apply(lambda x: sorted(x), axis=1, result_type='expand')\n",
    "    df['Type'] = type_label\n",
    "    return df\n",
    "\n",
    "df_user_pairs_image_norm = normalize_pair(df_user_pairs_image, 'Image')\n",
    "df_user_pairs_norm = normalize_pair(df_user_pairs, 'Text')\n",
    "df_combined = pd.concat([df_user_pairs_image_norm, df_user_pairs_norm], ignore_index=True)\n",
    "df_final = df_combined.groupby(['User1', 'User2'], as_index=False)['Weight'].sum()\n"
   ]
  },
  {
   "cell_type": "code",
   "execution_count": null,
   "id": "efb19d87-d10b-4e0a-93d4-e452cd8c16ff",
   "metadata": {},
   "outputs": [],
   "source": []
  },
  {
   "cell_type": "code",
   "execution_count": null,
   "id": "04493dff-b78b-4d68-a93c-428db1f9cc5b",
   "metadata": {},
   "outputs": [],
   "source": [
    "df_final"
   ]
  },
  {
   "cell_type": "code",
   "execution_count": null,
   "id": "a7913220-7c81-4ed3-af94-0281ed408626",
   "metadata": {},
   "outputs": [],
   "source": [
    "import networkx as nx\n",
    "import community as community_louvain  \n",
    "import matplotlib.pyplot as plt\n",
    "\n",
    "df_final_copy = df_final.loc[df_final.Weight>=1]\n",
    "G = nx.Graph()\n",
    "\n",
    "for _, row in df_final_copy.iterrows():\n",
    "    G.add_edge(row['User1'], row['User2'], weight=row['Weight'])\n",
    "\n",
    "partition = community_louvain.best_partition(G, weight='weight') \n",
    "modularity_value = community_louvain.modularity(partition, G, weight='weight')\n",
    "nx.set_node_attributes(G, partition, 'community')\n",
    "print(f\"Modularity: {modularity_value:.4f}\")\n",
    "print(f\"Number of communities found: {len(set(partition.values()))}\")\n",
    "num_nodes = G.number_of_nodes()\n",
    "num_edges = G.number_of_edges()\n",
    "avg_degree = sum(dict(G.degree()).values()) / num_nodes if num_nodes > 0 else 0\n",
    "print(f\"Number of nodes: {num_nodes}\")\n",
    "print(f\"Number of edges: {num_edges}\")\n",
    "print(f\"Average degree: {avg_degree:.2f}\")\n"
   ]
  },
  {
   "cell_type": "code",
   "execution_count": null,
   "id": "48bd571a-aada-4706-b887-b13e30d17d92",
   "metadata": {},
   "outputs": [],
   "source": [
    "import networkx as nx\n",
    "import pickle\n",
    "\n",
    "with open(\"graph_IOX.pkl\", \"wb\") as f:\n",
    "    pickle.dump(G, f)\n"
   ]
  },
  {
   "cell_type": "code",
   "execution_count": null,
   "id": "3b923108-21a6-4382-8047-41c168ae6b2a",
   "metadata": {},
   "outputs": [],
   "source": [
    "from collections import defaultdict\n",
    "import pandas as pd\n",
    "\n",
    "community_nodes = defaultdict(list)\n",
    "for node, comm_id in partition.items():\n",
    "    community_nodes[comm_id].append(node)\n",
    "community_stats = []\n",
    "\n",
    "for comm_id, nodes in community_nodes.items():\n",
    "    subgraph = G.subgraph(nodes)\n",
    "    num_nodes = subgraph.number_of_nodes()\n",
    "    num_edges = subgraph.number_of_edges()\n",
    "    avg_degree = sum(dict(subgraph.degree()).values()) / num_nodes if num_nodes > 0 else 0\n",
    "    weights = [data['weight'] for _, _, data in subgraph.edges(data=True)]\n",
    "    avg_weight = sum(weights) / len(weights) if weights else 0\n",
    "    density = nx.density(subgraph)\n",
    "\n",
    "    community_stats.append({\n",
    "        'Community_ID': comm_id,\n",
    "        'Num_Nodes': num_nodes,\n",
    "        'Num_Edges': num_edges,\n",
    "        'Avg_Degree': round(avg_degree, 2),\n",
    "        'Avg_Weight': round(avg_weight, 2),\n",
    "        'Density': round(density, 4)\n",
    "    })\n",
    "\n",
    "df_community_stats = pd.DataFrame(community_stats).sort_values(by='Num_Nodes', ascending=False)\n",
    "print(df_community_stats)\n"
   ]
  },
  {
   "cell_type": "code",
   "execution_count": null,
   "id": "ca7e039e-aafd-4f96-8250-99b008fbe238",
   "metadata": {},
   "outputs": [],
   "source": [
    "df_community_stats.loc[df_community_stats.Num_Nodes>=5]"
   ]
  },
  {
   "cell_type": "code",
   "execution_count": null,
   "id": "220ef4fb-9d7d-4cfe-ba87-60f18b88311c",
   "metadata": {},
   "outputs": [],
   "source": [
    "user_community_pairs = [\n",
    "    {'User_ID': user, 'Community_ID': comm_id}\n",
    "    for comm_id, users in community_nodes.items()\n",
    "    for user in users\n",
    "]\n",
    "df_user_communities = pd.DataFrame(user_community_pairs)\n",
    "print(df_user_communities.head())"
   ]
  },
  {
   "cell_type": "code",
   "execution_count": null,
   "id": "3c27534e-f485-43e6-97e3-fae9ab0feda7",
   "metadata": {},
   "outputs": [],
   "source": [
    "df_user_communities"
   ]
  },
  {
   "cell_type": "code",
   "execution_count": null,
   "id": "389eaf19-40e9-4230-8457-6516cfbddb15",
   "metadata": {
    "scrolled": true
   },
   "outputs": [],
   "source": [
    "from collections import defaultdict\n",
    "import pandas as pd\n",
    "\n",
    "community_nodes = defaultdict(list)\n",
    "for node, comm_id in partition.items():\n",
    "    community_nodes[comm_id].append(node)\n",
    "community_stats = []\n",
    "\n",
    "for comm_id, nodes in community_nodes.items():\n",
    "    print(comm_id)\n",
    "    subgraph = G.subgraph(nodes)\n",
    "    partition_sub = community_louvain.best_partition(subgraph, weight='weight')\n",
    "    try:\n",
    "        modularity_value_sub = community_louvain.modularity(partition_sub, subgraph, weight='weight')\n",
    "        print(modularity_value_sub)\n",
    "    except:\n",
    "        None\n",
    "    \n",
    "\n"
   ]
  },
  {
   "cell_type": "code",
   "execution_count": null,
   "id": "540923cb-365f-4289-ae0d-bae2a95df347",
   "metadata": {},
   "outputs": [],
   "source": [
    "import networkx as nx\n",
    "import leidenalg\n",
    "import igraph as ig"
   ]
  },
  {
   "cell_type": "code",
   "execution_count": null,
   "id": "58990409-5aab-4e80-b022-70a97ab5ea0a",
   "metadata": {},
   "outputs": [],
   "source": []
  },
  {
   "cell_type": "code",
   "execution_count": null,
   "id": "cb23d06d-513e-46f2-8064-5167c99caea3",
   "metadata": {},
   "outputs": [],
   "source": [
    "df_final_copy = df_final.loc[df_final.Weight>=2]\n",
    "G_nd = nx.Graph()\n",
    "for _, row in df_final_copy.iterrows():\n",
    "    G_nd.add_edge(row['User1'], row['User2'], weight=row['Weight'])\n"
   ]
  },
  {
   "cell_type": "code",
   "execution_count": null,
   "id": "af66b126-de5e-42b1-ad7e-00dc840edacd",
   "metadata": {},
   "outputs": [],
   "source": [
    "G_ig = ig.Graph.from_networkx(G_nd)"
   ]
  },
  {
   "cell_type": "code",
   "execution_count": null,
   "id": "8ebe1089-4171-4df7-acec-548bd0ab460f",
   "metadata": {},
   "outputs": [],
   "source": [
    "partition_leiden = leidenalg.find_partition(G_ig, leidenalg.ModularityVertexPartition)"
   ]
  },
  {
   "cell_type": "code",
   "execution_count": null,
   "id": "2b1cbfa1-4636-4d4e-bd91-97f2ba80cd56",
   "metadata": {},
   "outputs": [],
   "source": [
    "modularity = partition_leiden.modularity"
   ]
  },
  {
   "cell_type": "code",
   "execution_count": null,
   "id": "770cebb3-e0ff-4c53-8912-96950e9af717",
   "metadata": {},
   "outputs": [],
   "source": [
    "modularity"
   ]
  },
  {
   "cell_type": "code",
   "execution_count": null,
   "id": "14400101-4a0e-470f-bfb2-4f70716716db",
   "metadata": {},
   "outputs": [],
   "source": [
    "centrality = nx.eigenvector_centrality(G)"
   ]
  },
  {
   "cell_type": "code",
   "execution_count": null,
   "id": "6448ba91-dcbe-483d-9896-66d3b3f1b724",
   "metadata": {},
   "outputs": [],
   "source": [
    "import networkx as nx\n",
    "centrality = nx.eigenvector_centrality(G)\n",
    "top_nodes = {}\n",
    "\n",
    "for comm_id, nodes in community_nodes.items():\n",
    "    scored = [(node, centrality[node]) for node in nodes if node in centrality]\n",
    "    scored_sorted = sorted(scored, key=lambda x: x[1], reverse=True)\n",
    "    \n",
    "    top_nodes[comm_id] = scored_sorted[:1]\n"
   ]
  },
  {
   "cell_type": "code",
   "execution_count": null,
   "id": "0f1e3435-63b3-465f-b31a-7b3af87cf54d",
   "metadata": {},
   "outputs": [],
   "source": []
  },
  {
   "cell_type": "markdown",
   "id": "b04c6591-ea22-4cf6-bd5a-b6fc4522f178",
   "metadata": {},
   "source": [
    "# Include Political Affiliation"
   ]
  },
  {
   "cell_type": "code",
   "execution_count": null,
   "id": "0b99a0b2-7d03-40a3-8640-b91740bdd34c",
   "metadata": {},
   "outputs": [],
   "source": [
    "df_pol_res1 = pd.read_csv('PAN_Result_1.csv')\n",
    "df_pol_res2 = pd.read_csv('PAN_Result_2.csv')\n",
    "df_pol_res3 = pd.read_csv('PAN_Result_3.csv')"
   ]
  },
  {
   "cell_type": "code",
   "execution_count": null,
   "id": "a9270967-2c28-4398-aeb8-729346829d32",
   "metadata": {
    "scrolled": true
   },
   "outputs": [],
   "source": []
  },
  {
   "cell_type": "code",
   "execution_count": null,
   "id": "8fc9f17a-a83b-4991-89ec-519bd9cd0571",
   "metadata": {},
   "outputs": [],
   "source": [
    "df_part = pd.merge(df_user_communities,df_pol_res1)\n",
    "df_part = pd.merge(df_part,df_pol_res2)\n",
    "df_part = pd.merge(df_part,df_pol_res3)"
   ]
  },
  {
   "cell_type": "code",
   "execution_count": null,
   "id": "85c7df6f-7af9-4e12-be66-2e01445c916a",
   "metadata": {},
   "outputs": [],
   "source": [
    "df_part = df_part.drop(columns = 'Unnamed: 0')"
   ]
  },
  {
   "cell_type": "code",
   "execution_count": null,
   "id": "84d1bc1c-de5b-4fd0-91a8-8e96cb4788b3",
   "metadata": {},
   "outputs": [],
   "source": [
    "df_part.groupby('PR_Result').count()"
   ]
  },
  {
   "cell_type": "code",
   "execution_count": null,
   "id": "73853b88-fb1f-47e8-ba73-2c793f0f10b6",
   "metadata": {},
   "outputs": [],
   "source": [
    "df_part.groupby('Label').count()"
   ]
  },
  {
   "cell_type": "code",
   "execution_count": null,
   "id": "f7633be9-9be1-4af2-915f-8644dd3f24fc",
   "metadata": {},
   "outputs": [],
   "source": [
    "df_part.groupby('PR3').count()"
   ]
  },
  {
   "cell_type": "code",
   "execution_count": null,
   "id": "dd94dfef-3e0e-4ae4-b1ae-627652a6ddad",
   "metadata": {},
   "outputs": [],
   "source": [
    "needed_comm = [1,2,11,0,5,3,6,10,9,20,12,61,7,28]"
   ]
  },
  {
   "cell_type": "code",
   "execution_count": null,
   "id": "ce49a4fb-aa55-410d-b712-c837faf688e6",
   "metadata": {},
   "outputs": [],
   "source": []
  },
  {
   "cell_type": "code",
   "execution_count": null,
   "id": "215201e9-cbef-4657-86d6-5ec771ebf3c5",
   "metadata": {},
   "outputs": [],
   "source": [
    "df_part.loc[(df_part.Community_ID == 0) & (df_part.Label == 1)].sample(20)"
   ]
  },
  {
   "cell_type": "code",
   "execution_count": null,
   "id": "c5315c21-d758-413e-9fb5-3b7091dbcde6",
   "metadata": {},
   "outputs": [],
   "source": []
  },
  {
   "cell_type": "code",
   "execution_count": null,
   "id": "b561c87f-497d-40f5-8b7a-1baa56790239",
   "metadata": {},
   "outputs": [],
   "source": [
    "df_non_generic.loc[df_non_generic.Cluster_ID == 51576]"
   ]
  },
  {
   "cell_type": "code",
   "execution_count": null,
   "id": "a791328b-8ecc-4c35-90d7-cc043ed7ec9f",
   "metadata": {},
   "outputs": [],
   "source": [
    "df_part.to_csv('User_Community_PolAffiliation.csv', index =False)"
   ]
  },
  {
   "cell_type": "code",
   "execution_count": null,
   "id": "e3f1cccb-ba66-4569-aaee-eb454a7fffaa",
   "metadata": {},
   "outputs": [],
   "source": [
    "for i in needed_comm:\n",
    "    if len(df_part.loc[df_part.Community_ID == i]) >= 5:\n",
    "        print(i)\n",
    "        print(len(df_part.loc[df_part.Community_ID == i]))\n",
    "        print(df_part.loc[df_part.Community_ID == i].groupby(['Community_ID', 'Label']).count())"
   ]
  },
  {
   "cell_type": "code",
   "execution_count": null,
   "id": "436a96ad-8be4-4576-a283-8fd15f8b6fb9",
   "metadata": {},
   "outputs": [],
   "source": [
    "df_part.groupby('Label').count()"
   ]
  },
  {
   "cell_type": "code",
   "execution_count": null,
   "id": "c641be0f-70fc-4b21-bb2d-0ca357dd23e9",
   "metadata": {},
   "outputs": [],
   "source": [
    "df_part.loc[df_part.Label == 3].sample(20)"
   ]
  },
  {
   "cell_type": "markdown",
   "id": "4c62d4cd-9278-47a5-9db5-0114d744bb1c",
   "metadata": {},
   "source": [
    "# Include Foreign Accounts"
   ]
  },
  {
   "cell_type": "code",
   "execution_count": null,
   "id": "8382b9d7-e710-4eb9-a6e5-4fc300a683ca",
   "metadata": {},
   "outputs": [],
   "source": [
    "import pandas as pd\n",
    "import glob\n",
    "import os\n",
    "\n",
    "\n",
    "folder_path = ''\n",
    "csv_files = glob.glob(os.path.join(folder_path, '*.csv'))\n",
    "df_list = []\n",
    "for file in csv_files:\n",
    "    df = pd.read_csv(file)\n",
    "    df['source_file'] = os.path.basename(file)\n",
    "    df_list.append(df)\n",
    "\n",
    "\n",
    "combined_df = pd.concat(df_list, ignore_index=True)\n",
    "print(combined_df.head())"
   ]
  },
  {
   "cell_type": "code",
   "execution_count": null,
   "id": "0105f0b1-f129-4879-9591-3702edb1e624",
   "metadata": {},
   "outputs": [],
   "source": [
    "combined_df.sample()"
   ]
  },
  {
   "cell_type": "code",
   "execution_count": null,
   "id": "60adef1b-dbc5-4fdf-b4ff-15c8533c7a63",
   "metadata": {},
   "outputs": [],
   "source": [
    "df_part.loc[df_part.User_ID.isin(combined_df.User_ID.tolist())].groupby('Community_ID').count()"
   ]
  },
  {
   "cell_type": "code",
   "execution_count": null,
   "id": "4cb2220a-1bbf-4dda-ba88-4abdfc524617",
   "metadata": {},
   "outputs": [],
   "source": [
    "df_part.loc[df_part.User_ID.isin(combined_df.User_ID.tolist())].groupby('Label').count()"
   ]
  },
  {
   "cell_type": "code",
   "execution_count": null,
   "id": "c8d46561-4425-46fc-ae66-0d06879f868e",
   "metadata": {},
   "outputs": [],
   "source": [
    "df_pol_res2.loc[df_pol_res2.User_ID.isin(combined_df.User_ID.tolist())].groupby('Label').count()"
   ]
  },
  {
   "cell_type": "code",
   "execution_count": null,
   "id": "77f63ef4-9733-4ea1-8f2d-9f7d2ccdaba9",
   "metadata": {},
   "outputs": [],
   "source": [
    "df_chicka = pd.merge(df_pol_res2, combined_df)"
   ]
  },
  {
   "cell_type": "code",
   "execution_count": null,
   "id": "97a3dc17-f09c-4058-9bec-65f3d3eb8028",
   "metadata": {},
   "outputs": [],
   "source": [
    "df_chicka.loc[(df_chicka.Label == 0) & (df_chicka.source_file == 'Russian_ID.csv')]"
   ]
  },
  {
   "cell_type": "code",
   "execution_count": null,
   "id": "c490e25a-0d79-40ac-81ac-c3b982b13d0b",
   "metadata": {},
   "outputs": [],
   "source": [
    "df_chicka.groupby('source_file').count()"
   ]
  }
 ],
 "metadata": {
  "kernelspec": {
   "display_name": "Python 3 (ipykernel)",
   "language": "python",
   "name": "python3"
  },
  "language_info": {
   "codemirror_mode": {
    "name": "ipython",
    "version": 3
   },
   "file_extension": ".py",
   "mimetype": "text/x-python",
   "name": "python",
   "nbconvert_exporter": "python",
   "pygments_lexer": "ipython3",
   "version": "3.10.16"
  }
 },
 "nbformat": 4,
 "nbformat_minor": 5
}
