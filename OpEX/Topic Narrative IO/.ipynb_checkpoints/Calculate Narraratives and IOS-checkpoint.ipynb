{
 "cells": [
  {
   "cell_type": "code",
   "execution_count": null,
   "id": "31d12ecf-0ac9-48dc-8f96-2bd0437a5d18",
   "metadata": {},
   "outputs": [],
   "source": [
    "import pandas as pd"
   ]
  },
  {
   "cell_type": "code",
   "execution_count": null,
   "id": "7345b7e1-6bb4-4be6-85c3-247aeee68628",
   "metadata": {},
   "outputs": [],
   "source": [
    "df_topic = pd.read_csv('topic_result.csv')"
   ]
  },
  {
   "cell_type": "code",
   "execution_count": null,
   "id": "078473f7-c00d-44da-9c0e-0fedd664b1d3",
   "metadata": {
    "scrolled": true
   },
   "outputs": [],
   "source": [
    "df_topic[['Cluster_ID', 'Topic_ID']]"
   ]
  },
  {
   "cell_type": "code",
   "execution_count": null,
   "id": "3f673dac-c1b4-4dda-825d-6baa41571ce6",
   "metadata": {},
   "outputs": [],
   "source": [
    "df_all_tweet = pd.read_csv('All_Text_Duplicate_Tweet.csv')"
   ]
  },
  {
   "cell_type": "code",
   "execution_count": null,
   "id": "bf39e3f3-8b1b-459c-afe0-cf9f52ba4f9e",
   "metadata": {},
   "outputs": [],
   "source": [
    "df_all_tweet = pd.merge(df_all_tweet, df_topic[['Cluster_ID', 'Topic_ID']])"
   ]
  },
  {
   "cell_type": "code",
   "execution_count": null,
   "id": "b510c48f-1eb1-4449-80b1-90e17d66b401",
   "metadata": {},
   "outputs": [],
   "source": [
    "df_all_tweet.groupby('Topic_ID').count()"
   ]
  },
  {
   "cell_type": "code",
   "execution_count": null,
   "id": "0047d712-81ca-46f2-96ff-4076cbadb0ea",
   "metadata": {},
   "outputs": [],
   "source": [
    "df_account = pd.read_csv('PolitiX_Political_Group_Detection.csv')"
   ]
  },
  {
   "cell_type": "code",
   "execution_count": null,
   "id": "374fa5e4-9cfa-420c-b09e-58b60c8b692a",
   "metadata": {},
   "outputs": [],
   "source": [
    "df_account[['User_ID', 'Group_ID']]"
   ]
  },
  {
   "cell_type": "code",
   "execution_count": null,
   "id": "a559ebdb-79c6-484d-9c5d-767550599891",
   "metadata": {},
   "outputs": [],
   "source": [
    "df_final = pd.merge(df_all_tweet, df_account[['User_ID', 'Group_ID']])"
   ]
  },
  {
   "cell_type": "code",
   "execution_count": null,
   "id": "9d43e5a2-11be-4c43-8358-138ae8f2a7e8",
   "metadata": {},
   "outputs": [],
   "source": [
    "df_final.Group_ID.unique()"
   ]
  },
  {
   "cell_type": "code",
   "execution_count": null,
   "id": "24a7dcb4-bf82-47b4-bba6-ce06f6707517",
   "metadata": {},
   "outputs": [],
   "source": [
    "rep = ['RG3', 'RG5', 'RG1',  'RG2', 'RG4', 'RG9', 'RG7', 'RG6',  'RG8',  'RG10', 'RG11']\n",
    "dem = ['DG1', 'DG2', 'DG3',]"
   ]
  },
  {
   "cell_type": "code",
   "execution_count": null,
   "id": "6a87214b-d08b-4889-8fa4-a4a530d41a52",
   "metadata": {},
   "outputs": [],
   "source": [
    "df_small = df_final[['Cluster_ID', 'Tweet_ID', 'User_ID', 'Topic_ID', 'Group_ID']]"
   ]
  },
  {
   "cell_type": "code",
   "execution_count": null,
   "id": "6fba1eaf-f5ef-4b60-b2fb-dd648121f22f",
   "metadata": {},
   "outputs": [],
   "source": [
    "import pandas as pd\n",
    "\n",
    "rep = {'RG3', 'RG5', 'RG1', 'RG2', 'RG4', 'RG9', 'RG7', 'RG6', 'RG8', 'RG10', 'RG11'}\n",
    "dem = {'DG1', 'DG2', 'DG3'}\n",
    "\n",
    "summary_df = df_small.groupby('Topic_ID')['Group_ID'].agg(lambda x: set(x)).to_frame(name='group_set')\n",
    "summary_df['num_unique_groups'] = summary_df['group_set'].apply(len)\n",
    "def classify_group(groups):\n",
    "    if groups.issubset(rep):\n",
    "        return 'rep'\n",
    "    elif groups.issubset(dem):\n",
    "        return 'dem'\n",
    "    else:\n",
    "        return 'mixed'\n",
    "\n",
    "summary_df['group_type'] = summary_df['group_set'].apply(classify_group)\n",
    "summary_df['group_list'] = summary_df['group_set'].apply(lambda x: sorted(list(x)))\n",
    "summary_df = summary_df.drop(columns='group_set')\n"
   ]
  },
  {
   "cell_type": "code",
   "execution_count": null,
   "id": "d77f074f-7e61-4315-8687-90b8f55cc485",
   "metadata": {},
   "outputs": [],
   "source": [
    "summary_df.reset_index()"
   ]
  },
  {
   "cell_type": "code",
   "execution_count": null,
   "id": "ae4b394d-2d64-4ac6-8383-27447f428b09",
   "metadata": {},
   "outputs": [],
   "source": [
    "single_group_topics = summary_df[summary_df['num_unique_groups'] == 1]\n",
    "count_by_group_type = single_group_topics['group_type'].value_counts()\n",
    "print(count_by_group_type)"
   ]
  },
  {
   "cell_type": "code",
   "execution_count": null,
   "id": "e657780a-d4a1-4fc6-af59-d98a499db711",
   "metadata": {},
   "outputs": [],
   "source": [
    "from collections import defaultdict\n",
    "\n",
    "results = defaultdict(dict)\n",
    "bins = {\n",
    "    '2': summary_df[summary_df['num_unique_groups'] == 2],\n",
    "    '3': summary_df[summary_df['num_unique_groups'] == 3],\n",
    "    '4': summary_df[summary_df['num_unique_groups'] == 4],\n",
    "    '>4': summary_df[summary_df['num_unique_groups'] > 4]\n",
    "}\n",
    "\n",
    "for bin_label, df in bins.items():\n",
    "    same_org = df[df['group_type'].isin(['rep', 'dem'])].shape[0]\n",
    "    diff_org = df[df['group_type'] == 'mixed'].shape[0]\n",
    "    results[bin_label]['same_org'] = same_org\n",
    "    results[bin_label]['diff_org'] = diff_org\n",
    "\n",
    "results_df = pd.DataFrame(results).T \n",
    "print(results_df)\n"
   ]
  },
  {
   "cell_type": "code",
   "execution_count": null,
   "id": "80359ad3-e2b8-4b0a-a8b1-8c1d456720b3",
   "metadata": {},
   "outputs": [],
   "source": [
    "from collections import defaultdict\n",
    "results = defaultdict(lambda: {'same_org_count': 0, 'same_org_names': [], 'diff_org_count': 0})\n",
    "bins = {\n",
    "    '2': summary_df[summary_df['num_unique_groups'] == 2],\n",
    "    '3': summary_df[summary_df['num_unique_groups'] == 3],\n",
    "    '4': summary_df[summary_df['num_unique_groups'] == 4],\n",
    "    '>4': summary_df[summary_df['num_unique_groups'] > 4]\n",
    "}\n",
    "for bin_label, df in bins.items():\n",
    "    for _, row in df.iterrows():\n",
    "        group_type = row['group_type']\n",
    "        if group_type in ['rep', 'dem']:\n",
    "            results[bin_label]['same_org_count'] += 1\n",
    "            results[bin_label]['same_org_names'].append(group_type)\n",
    "        else:\n",
    "            results[bin_label]['diff_org_count'] += 1\n",
    "summary_output = []\n",
    "for k, v in results.items():\n",
    "    rep_count = v['same_org_names'].count('rep')\n",
    "    dem_count = v['same_org_names'].count('dem')\n",
    "    summary_output.append({\n",
    "        'group_size': k,\n",
    "        'same_org_total': v['same_org_count'],\n",
    "        'rep_count': rep_count,\n",
    "        'dem_count': dem_count,\n",
    "        'diff_org_total': v['diff_org_count']\n",
    "    })\n",
    "\n",
    "final_df = pd.DataFrame(summary_output)\n",
    "print(final_df)\n"
   ]
  },
  {
   "cell_type": "code",
   "execution_count": null,
   "id": "f83dc42e-72c1-4159-b848-3cb61254073c",
   "metadata": {},
   "outputs": [],
   "source": [
    "sum_rep = 0\n",
    "io_list = []\n",
    "io_list_dem = []\n",
    "for i in rep:\n",
    "    temp1 = df_all_tweet.groupby('Cluster_ID').count().reset_index()[['Cluster_ID', 'Tweet_ID']]\n",
    "    temp2 = df_small.loc[df_small.Group_ID == i].groupby('Cluster_ID').count().reset_index()[['Cluster_ID', 'Tweet_ID']].rename(columns = {'Tweet_ID': 'GTID'})\n",
    "    temp3 = pd.merge(temp1, temp2)\n",
    "    temp3['control'] = (temp3.GTID/temp3.Tweet_ID  ) * 100\n",
    "    a = df_small.loc[df_small.Cluster_ID.isin(temp3.loc[temp3.control > 50].Cluster_ID)]\n",
    "    io_list.append(a.loc[a.Group_ID == i].Cluster_ID.unique().tolist())\n",
    "    sum_rep = sum_rep + len(a.loc[a.Group_ID == i].Topic_ID.unique())\n",
    "    print(f\"Group {i} has {len(a.loc[a.Group_ID == i].Topic_ID.unique())} IOS\")\n",
    "print(sum_rep)"
   ]
  },
  {
   "cell_type": "code",
   "execution_count": null,
   "id": "c91a4bea-9745-4a28-9cbf-dcfbce04ebaf",
   "metadata": {},
   "outputs": [],
   "source": [
    "len(io_list)"
   ]
  },
  {
   "cell_type": "code",
   "execution_count": null,
   "id": "d3581292-0788-4906-acd9-497c43377635",
   "metadata": {},
   "outputs": [],
   "source": [
    "import itertools\n",
    "flat_list = list(itertools.chain.from_iterable(io_list))\n",
    "flat_list2 = list(itertools.chain.from_iterable(io_list_dem))\n",
    "with open('REP_IO.txt', 'w') as f:\n",
    "    for item in flat_list:\n",
    "        f.write(f\"{item}\\n\")\n",
    "\n",
    "with open('DEM_IO.txt', 'w') as f:\n",
    "    for item in flat_list2:\n",
    "        f.write(f\"{item}\\n\")\n"
   ]
  },
  {
   "cell_type": "code",
   "execution_count": null,
   "id": "54fdd8c6-7590-4e7b-83da-d60eca7567fd",
   "metadata": {},
   "outputs": [],
   "source": [
    "temp1 = df_all_tweet.groupby('Cluster_ID').count().reset_index()[['Cluster_ID', 'Tweet_ID']]"
   ]
  },
  {
   "cell_type": "code",
   "execution_count": null,
   "id": "b749dcc2-e562-4277-bfe7-6820027ad584",
   "metadata": {},
   "outputs": [],
   "source": [
    "temp2 = df_small.loc[df_small.Group_ID == 'RG2'].groupby('Cluster_ID').count().reset_index()[['Cluster_ID', 'Tweet_ID']].rename(columns = {'Tweet_ID': 'GTID'})"
   ]
  },
  {
   "cell_type": "code",
   "execution_count": null,
   "id": "8f882053-02b7-4149-9302-8990b5bae64b",
   "metadata": {},
   "outputs": [],
   "source": [
    "temp3 = pd.merge(temp1, temp2)"
   ]
  },
  {
   "cell_type": "code",
   "execution_count": null,
   "id": "a5f17997-0fdc-42cf-95da-3450505b6291",
   "metadata": {},
   "outputs": [],
   "source": [
    "temp3['control'] = (temp3.GTID/temp3.Tweet_ID  ) * 100"
   ]
  },
  {
   "cell_type": "code",
   "execution_count": null,
   "id": "9316bdf7-540a-4e4c-a699-2372273686a7",
   "metadata": {},
   "outputs": [],
   "source": [
    "sum_rep"
   ]
  },
  {
   "cell_type": "code",
   "execution_count": null,
   "id": "594d22db-87a1-47a6-9139-2564ec144893",
   "metadata": {},
   "outputs": [],
   "source": [
    "\n",
    "flat_set_rep = set([item for sublist in io_list for item in sublist])\n",
    "flat_set_dem = set([item for sublist in io_list_dem for item in sublist])"
   ]
  },
  {
   "cell_type": "code",
   "execution_count": null,
   "id": "7db865a7-6d79-4b3c-a71c-4de61df35516",
   "metadata": {},
   "outputs": [],
   "source": [
    "len(flat_set)"
   ]
  },
  {
   "cell_type": "code",
   "execution_count": null,
   "id": "fcf9b2d0-144b-4f72-bee1-7470235bd2dd",
   "metadata": {},
   "outputs": [],
   "source": [
    "len(flat_set_dem)"
   ]
  },
  {
   "cell_type": "code",
   "execution_count": null,
   "id": "ab471e0c-9852-45be-8606-a65f5689adc8",
   "metadata": {},
   "outputs": [],
   "source": [
    "df_fake = pd.read_csv('Only_False_ClaimBuster.csv')"
   ]
  },
  {
   "cell_type": "code",
   "execution_count": null,
   "id": "a02d34bc-381e-4a5c-94f3-a5105f8d0238",
   "metadata": {},
   "outputs": [],
   "source": [
    "df_fake.loc[df_fake.Cluster_ID.isin(flat_set_dem)]"
   ]
  },
  {
   "cell_type": "code",
   "execution_count": null,
   "id": "f22587b3-6046-4622-9c65-f5f39dffdb66",
   "metadata": {},
   "outputs": [],
   "source": [
    "df_fake"
   ]
  },
  {
   "cell_type": "code",
   "execution_count": null,
   "id": "b64b508e-b109-4fab-a913-ccfe61e7d70e",
   "metadata": {},
   "outputs": [],
   "source": [
    "df_all_tweet = pd.read_csv('PolitiX_Final_Tweet_Dataset.csv', dtype = 'str', lineterminator = '\\n')"
   ]
  },
  {
   "cell_type": "code",
   "execution_count": null,
   "id": "7909576e-46b6-47f9-8e47-3beaab10fbb3",
   "metadata": {},
   "outputs": [],
   "source": []
  },
  {
   "cell_type": "code",
   "execution_count": null,
   "id": "c78624e4-70ee-4171-a9f0-d8769d5bccd1",
   "metadata": {},
   "outputs": [],
   "source": [
    "df_cluster_all = pd.read_csv('All_Text_Duplicate_Tweet.csv')"
   ]
  },
  {
   "cell_type": "code",
   "execution_count": null,
   "id": "ec3541d8-c34b-4e58-bc71-4ba3cfd9b37b",
   "metadata": {},
   "outputs": [],
   "source": [
    "df_all_tweet['Tweet_ID']= df_all_tweet['Tweet_ID'].astype('int')"
   ]
  },
  {
   "cell_type": "code",
   "execution_count": null,
   "id": "daffc9ce-533f-48c0-a9de-89f195355155",
   "metadata": {},
   "outputs": [],
   "source": [
    "df_all_tweet[['Tweet_ID', 'created_at', 'favorite_count', 'retweet_count','View_Count', 'Comment_Count', 'Quote_Count',]]"
   ]
  },
  {
   "cell_type": "code",
   "execution_count": null,
   "id": "07d928f9-9135-4c32-845d-4fa5c8c38ff0",
   "metadata": {},
   "outputs": [],
   "source": [
    "df_check_misinfo = pd.merge(pd.merge(df_fake, df_cluster_all), df_all_tweet[['Tweet_ID', 'created_at', 'favorite_count', 'retweet_count','View_Count', 'Comment_Count', 'Quote_Count',]])"
   ]
  },
  {
   "cell_type": "code",
   "execution_count": null,
   "id": "4e325a2d-10cb-4c7f-a042-7213fc443d26",
   "metadata": {},
   "outputs": [],
   "source": [
    "df_check_misinfo.View_Count = df_check_misinfo.View_Count.astype('float')\n",
    "df_check_misinfo.favorite_count = df_check_misinfo.favorite_count.astype('float')\n",
    "df_check_misinfo.retweet_count = df_check_misinfo.retweet_count.astype('float')"
   ]
  },
  {
   "cell_type": "code",
   "execution_count": null,
   "id": "8cc8bf0c-56a1-4905-974e-df16ecc1e430",
   "metadata": {},
   "outputs": [],
   "source": [
    "df_check_misinfo2 = df_check_misinfo.copy()"
   ]
  },
  {
   "cell_type": "code",
   "execution_count": null,
   "id": "92d1ad9d-cc80-4856-b7d2-ec22c616da57",
   "metadata": {},
   "outputs": [],
   "source": [
    "df_check_misinfo2['View_Count'] = df_check_misinfo2['View_Count'].fillna(\n",
    "    df_check_misinfo2.groupby('Cluster_ID')['View_Count'].transform('mean')\n",
    ")"
   ]
  },
  {
   "cell_type": "code",
   "execution_count": null,
   "id": "3cd74d2b-e324-4128-80db-3102ee1584a1",
   "metadata": {},
   "outputs": [],
   "source": [
    "df_check_view = df_check_misinfo2.groupby('Cluster_ID').sum().reset_index()[['Cluster_ID', 'View_Count']]"
   ]
  },
  {
   "cell_type": "code",
   "execution_count": null,
   "id": "12a50bfa-b622-40b4-b452-014ad18e9a8d",
   "metadata": {},
   "outputs": [],
   "source": [
    "df_check_tweet = df_check_misinfo2.groupby('Cluster_ID').count().reset_index()[['Cluster_ID', 'Tweet_ID']]"
   ]
  },
  {
   "cell_type": "code",
   "execution_count": null,
   "id": "c3425452-963e-466b-81ab-a1b6de4e4789",
   "metadata": {},
   "outputs": [],
   "source": [
    "df_check_tweet.to_csv()"
   ]
  },
  {
   "cell_type": "code",
   "execution_count": null,
   "id": "f343c8c1-34a2-4f59-b880-7c6c14e2c5e4",
   "metadata": {},
   "outputs": [],
   "source": [
    "df_check_view.View_Count = df_check_view.View_Count.astype('int')"
   ]
  },
  {
   "cell_type": "code",
   "execution_count": null,
   "id": "6733d24c-427d-4842-989a-138030eef14f",
   "metadata": {},
   "outputs": [],
   "source": [
    "pd.merge(df_check_view, df_check_tweet).to_csv('Misinformation_ClaimBuster_View_Tweet_Count.csv', index = False)"
   ]
  },
  {
   "cell_type": "code",
   "execution_count": null,
   "id": "8dcb0019-8507-4c1e-961d-d906f3448df3",
   "metadata": {},
   "outputs": [],
   "source": [
    "df_check_misinfo2.loc[df_check_misinfo2.Cluster_ID == 73]"
   ]
  },
  {
   "cell_type": "code",
   "execution_count": null,
   "id": "8ea2910b-88e5-49d5-815f-e7439eb43694",
   "metadata": {},
   "outputs": [],
   "source": [
    "df_check_misinfo2['created_at'] = pd.to_datetime(df_check_misinfo2['created_at'])\n",
    "first_dates = df_check_misinfo2.groupby('Cluster_ID')['created_at'].min().reset_index()\n",
    "first_dates['first_date_formatted'] = first_dates['created_at'].dt.strftime('%m/%d/%Y')\n"
   ]
  },
  {
   "cell_type": "code",
   "execution_count": null,
   "id": "41c1df56-1d78-433b-a27e-f3cee0a17801",
   "metadata": {},
   "outputs": [],
   "source": [
    "first_dates"
   ]
  },
  {
   "cell_type": "code",
   "execution_count": null,
   "id": "ba1127ff-671c-4336-8c41-0da587fdbfa9",
   "metadata": {},
   "outputs": [],
   "source": [
    "df_check_view = pd.merge(df_check_view,first_dates).sort_values('first_date_formatted')"
   ]
  },
  {
   "cell_type": "code",
   "execution_count": null,
   "id": "46cd65fb-db39-49db-a5e4-660705222a14",
   "metadata": {},
   "outputs": [],
   "source": [
    "df_fake.loc[df_fake.Cluster_ID.isin(flat_set_rep)].sample(20)"
   ]
  },
  {
   "cell_type": "code",
   "execution_count": null,
   "id": "b491c3c6-1106-4f8a-ac87-65d99b1c4a94",
   "metadata": {},
   "outputs": [],
   "source": [
    "dem_view = df_check_view.loc[df_check_view.Cluster_ID.isin(flat_set_dem)]"
   ]
  },
  {
   "cell_type": "code",
   "execution_count": null,
   "id": "97e6edbb-a084-412a-afb2-abc6fbb3f411",
   "metadata": {},
   "outputs": [],
   "source": [
    "rep_view = df_check_view.loc[df_check_view.Cluster_ID.isin(flat_set_rep)]"
   ]
  },
  {
   "cell_type": "code",
   "execution_count": null,
   "id": "72abb27f-40db-43c9-b363-da19e3019659",
   "metadata": {},
   "outputs": [],
   "source": [
    "dem_view['Type'] = 'Dem'\n",
    "rep_view['Type'] = 'Rep'"
   ]
  },
  {
   "cell_type": "code",
   "execution_count": null,
   "id": "51ba1412-bad9-4c9d-b488-aa065a46a72c",
   "metadata": {},
   "outputs": [],
   "source": [
    "calim_final = pd.concat([dem_view, rep_view]).sort_values('first_date_formatted').drop_duplicates('Cluster_ID')"
   ]
  },
  {
   "cell_type": "code",
   "execution_count": null,
   "id": "12dd849b-a26f-462b-87f5-539d9046926c",
   "metadata": {},
   "outputs": [],
   "source": [
    "calim_final.sort_values('first_date_formatted')"
   ]
  },
  {
   "cell_type": "code",
   "execution_count": null,
   "id": "2729f3b5-8065-42eb-8ecc-aad201ab6467",
   "metadata": {},
   "outputs": [],
   "source": [
    "pd.concat([dem_view, rep_view]).sort_values('first_date_formatted').drop_duplicates('Cluster_ID').to_csv('Claim_Buster_IOs.csv', index = False)"
   ]
  },
  {
   "cell_type": "code",
   "execution_count": null,
   "id": "76891529-ac12-4142-9ff4-bcfb2b824c73",
   "metadata": {},
   "outputs": [],
   "source": [
    "df_new = pd.concat([dem_view, rep_view]).sort_values('first_date_formatted')"
   ]
  },
  {
   "cell_type": "code",
   "execution_count": null,
   "id": "ef8d049b-ee08-47db-92da-7856a726e18d",
   "metadata": {},
   "outputs": [],
   "source": [
    "df_aq = pd.merge(df_new, df_fake).sort_values('created_at')"
   ]
  },
  {
   "cell_type": "code",
   "execution_count": null,
   "id": "99d3c827-1e44-4a72-b527-204221fdaedf",
   "metadata": {},
   "outputs": [],
   "source": [
    "pd.set_option('display.max_colwidth', None)"
   ]
  },
  {
   "cell_type": "code",
   "execution_count": null,
   "id": "74c582ef-69a6-4d4f-baff-68177bc59c28",
   "metadata": {
    "scrolled": true
   },
   "outputs": [],
   "source": [
    "df_aq.iloc[450:500]"
   ]
  },
  {
   "cell_type": "code",
   "execution_count": null,
   "id": "f00458d3-a5e7-4772-8cd6-e1c4a43efea3",
   "metadata": {},
   "outputs": [],
   "source": [
    "df_aq.loc[42].justification"
   ]
  },
  {
   "cell_type": "code",
   "execution_count": null,
   "id": "fd91e99d-0de0-40f4-a841-9f730effe5ac",
   "metadata": {},
   "outputs": [],
   "source": [
    "df_aq.loc[df_aq.Cluster_ID == 30258]"
   ]
  },
  {
   "cell_type": "code",
   "execution_count": null,
   "id": "2db9dd68-dfbe-4696-983a-9221e344a1dc",
   "metadata": {
    "scrolled": true
   },
   "outputs": [],
   "source": [
    "df_cluster_all.loc[df_cluster_all.Cluster_ID == 30258]"
   ]
  },
  {
   "cell_type": "code",
   "execution_count": null,
   "id": "aea525d5-4032-4cb3-aec0-7f4157eeecbe",
   "metadata": {},
   "outputs": [],
   "source": [
    "calim_final.loc[calim_final.Type == 'Rep'].View_Count.sum()"
   ]
  },
  {
   "cell_type": "code",
   "execution_count": null,
   "id": "4fc23e8e-f5c3-4fb2-b92f-1e18cf36ac3f",
   "metadata": {},
   "outputs": [],
   "source": [
    "calim_final.loc[calim_final.Type == 'Dem'].View_Count.sum()"
   ]
  },
  {
   "cell_type": "code",
   "execution_count": null,
   "id": "c0e7866c-fb44-44f1-8c1f-09bf409a674b",
   "metadata": {},
   "outputs": [],
   "source": [
    "calim_final['Type'].value_counts()"
   ]
  },
  {
   "cell_type": "code",
   "execution_count": null,
   "id": "6653eeb7-088e-4e0b-b403-8f54f88a780c",
   "metadata": {},
   "outputs": [],
   "source": [
    "from scipy.stats import mannwhitneyu\n",
    "group1 = calim_final[calim_final['Type'] == 'Dem']['View_Count']\n",
    "group2 = calim_final[calim_final['Type'] == 'Rep']['View_Count']\n",
    "stat, p = mannwhitneyu(group1, group2, alternative='two-sided')\n",
    "print(f\"Mann-Whitney U Test: stat={stat}, p-value={p}\")\n"
   ]
  },
  {
   "cell_type": "code",
   "execution_count": null,
   "id": "89b6bc90-23b2-460e-a0b3-8a12aedff80a",
   "metadata": {},
   "outputs": [],
   "source": [
    "from scipy.stats import ttest_ind\n",
    "rep_views = calim_final[calim_final['Type'] == 'Rep']['View_Count']\n",
    "dem_views = calim_final[calim_final['Type'] == 'Dem']['View_Count']\n",
    "t_stat, p_value = ttest_ind(rep_views, dem_views, equal_var=False)\n",
    "print(f\"T-test: t-statistic = {t_stat:.3f}, p-value = {p_value:.5f}\")\n"
   ]
  },
  {
   "cell_type": "code",
   "execution_count": null,
   "id": "97a73176-1402-4057-8236-39c4ff77bb33",
   "metadata": {},
   "outputs": [],
   "source": [
    "import numpy as np\n",
    "rep_views_log = np.log1p(rep_views)  \n",
    "dem_views_log = np.log1p(dem_views)\n",
    "t_stat, p_value = ttest_ind(rep_views_log, dem_views_log, equal_var=False)\n",
    "print(f\"Log-transformed T-test: t-statistic = {t_stat:.3f}, p-value = {p_value:.5f}\")\n"
   ]
  },
  {
   "cell_type": "code",
   "execution_count": null,
   "id": "4eb3203b-a025-4235-9695-f8f430e6728f",
   "metadata": {},
   "outputs": [],
   "source": [
    "calim_final.groupby('Type').count()"
   ]
  },
  {
   "cell_type": "code",
   "execution_count": null,
   "id": "90a4b4f4-394c-4bcb-89e0-3b5d93d2b3a7",
   "metadata": {},
   "outputs": [],
   "source": [
    "calim_final"
   ]
  },
  {
   "cell_type": "code",
   "execution_count": null,
   "id": "dc2f63c2-d05a-40e6-b1c9-6006ea12bc04",
   "metadata": {},
   "outputs": [],
   "source": []
  }
 ],
 "metadata": {
  "kernelspec": {
   "display_name": "Python 3 (ipykernel)",
   "language": "python",
   "name": "python3"
  },
  "language_info": {
   "codemirror_mode": {
    "name": "ipython",
    "version": 3
   },
   "file_extension": ".py",
   "mimetype": "text/x-python",
   "name": "python",
   "nbconvert_exporter": "python",
   "pygments_lexer": "ipython3",
   "version": "3.10.16"
  }
 },
 "nbformat": 4,
 "nbformat_minor": 5
}
