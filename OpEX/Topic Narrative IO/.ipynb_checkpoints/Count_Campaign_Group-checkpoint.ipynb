{
 "cells": [
  {
   "cell_type": "code",
   "execution_count": null,
   "id": "c7ed8c5a",
   "metadata": {},
   "outputs": [],
   "source": [
    "from itertools import combinations\n",
    "import pandas as pd\n",
    "pd.set_option('display.max_colwidth', None)\n",
    "pd.set_option('display.max_rows', 50)"
   ]
  },
  {
   "cell_type": "code",
   "execution_count": null,
   "id": "462a44d4",
   "metadata": {},
   "outputs": [],
   "source": [
    "df_com = pd.read_csv('Refined_Community_with_Political_Label.csv')\n",
    "df_com2 = pd.read_csv('Political_Alignment_New_Final2.csv')\n",
    "df_alt = pd.read_csv('Collected_Fake_Tweets_Still_Available.csv')\n",
    "df_alt_report = pd.read_csv('AltNews Report Number.csv')"
   ]
  },
  {
   "cell_type": "code",
   "execution_count": null,
   "id": "6bd0c243",
   "metadata": {},
   "outputs": [],
   "source": [
    "df_alt_report[['News_Number', 'Fact_Check_Link']]"
   ]
  },
  {
   "cell_type": "code",
   "execution_count": null,
   "id": "890c102d",
   "metadata": {},
   "outputs": [],
   "source": [
    "df_alt = pd.read_csv('Collected_Fake_Tweets_Still_Available.csv')\n",
    "df_alt_report = pd.read_csv('AltNews Report Number.csv')\n",
    "df_alt = pd.merge(df_alt, df_alt_report[['News_Number', 'Fact_Check_Link']])"
   ]
  },
  {
   "cell_type": "code",
   "execution_count": null,
   "id": "c9b441d5",
   "metadata": {},
   "outputs": [],
   "source": [
    "df_alt.groupby('News_Number').count().loc[df_alt.groupby('News_Number').count().Tweet_ID >= 5].reset_index().News_Number "
   ]
  },
  {
   "cell_type": "code",
   "execution_count": null,
   "id": "a78a6bff",
   "metadata": {},
   "outputs": [],
   "source": [
    "df_alt5 = df_alt[df_alt.News_Number.isin(df_alt.groupby('News_Number').count().loc[df_alt.groupby('News_Number').count().Tweet_ID >= 5].reset_index().News_Number )]"
   ]
  },
  {
   "cell_type": "code",
   "execution_count": null,
   "id": "a5d70b43",
   "metadata": {},
   "outputs": [],
   "source": [
    "df_alt5 = df_alt5.rename(columns = {'News_Number': 'Cluster_ID'})"
   ]
  },
  {
   "cell_type": "code",
   "execution_count": null,
   "id": "f68071f6",
   "metadata": {},
   "outputs": [],
   "source": [
    "df_alt5[['Cluster_ID']] = 'Alt_' + df_alt5[['Cluster_ID']].astype('str')"
   ]
  },
  {
   "cell_type": "code",
   "execution_count": null,
   "id": "e90cc644",
   "metadata": {},
   "outputs": [],
   "source": [
    "df_alt5[['User_ID', 'Tweet_ID', 'Cluster_ID']]"
   ]
  },
  {
   "cell_type": "code",
   "execution_count": null,
   "id": "aa7a47c4",
   "metadata": {},
   "outputs": [],
   "source": [
    "df_cluster_refied = pd.read_csv('Cluster_Tweet_Without_Generic.csv')"
   ]
  },
  {
   "cell_type": "code",
   "execution_count": null,
   "id": "0f3f44ed",
   "metadata": {},
   "outputs": [],
   "source": [
    "\n",
    "political_align = {\n",
    "    1: 'BJP', \n",
    "    0: 'INC',\n",
    "    2: 'Other',\n",
    "    3: 'NonPolitical'\n",
    "}\n",
    "\n",
    "df_group_pol = pd.merge(df_com,df_com2)\n",
    "df_group_pol['Party_Label3'] = df_group_pol.Predicted_PL.map(political_align)"
   ]
  },
  {
   "cell_type": "code",
   "execution_count": null,
   "id": "aefd0b72",
   "metadata": {},
   "outputs": [],
   "source": [
    "df_group_pol.loc[df_group_pol.Community_ID == 0].User_ID"
   ]
  },
  {
   "cell_type": "code",
   "execution_count": null,
   "id": "9033cc32",
   "metadata": {},
   "outputs": [],
   "source": [
    "df_cluster_refied[df_cluster_refied.User_ID.isin(df_group_pol.loc[df_group_pol.Community_ID == 0].User_ID)].groupby('Cluster_ID').count()"
   ]
  },
  {
   "cell_type": "code",
   "execution_count": null,
   "id": "c26c7f08",
   "metadata": {},
   "outputs": [],
   "source": [
    "df_cluster_refied[['Tweet_ID', 'User_ID', 'Cluster_ID']]"
   ]
  },
  {
   "cell_type": "code",
   "execution_count": null,
   "id": "ca3f0b9f",
   "metadata": {},
   "outputs": [],
   "source": [
    "df_cluster_refied[['Tweet_ID', 'User_ID', 'Cluster_ID']]"
   ]
  },
  {
   "cell_type": "code",
   "execution_count": null,
   "id": "08070628",
   "metadata": {},
   "outputs": [],
   "source": [
    "df_cluster_refied['Cluster_ID'] = df_cluster_refied['Cluster_ID'].astype('int')\n",
    "df_cluster_refied['Cluster_ID'] = 'Wild_' + df_cluster_refied['Cluster_ID'].astype('str')"
   ]
  },
  {
   "cell_type": "code",
   "execution_count": null,
   "id": "15ed745a",
   "metadata": {},
   "outputs": [],
   "source": [
    "len(df_cluster_refied)"
   ]
  },
  {
   "cell_type": "code",
   "execution_count": null,
   "id": "b9ca564c",
   "metadata": {},
   "outputs": [],
   "source": [
    "df_cluster_refied = pd.concat([df_cluster_refied[['Tweet_ID', 'User_ID', 'Cluster_ID']], df_alt5[[ 'Tweet_ID','User_ID', 'Cluster_ID']]])"
   ]
  },
  {
   "cell_type": "code",
   "execution_count": null,
   "id": "39182820",
   "metadata": {},
   "outputs": [],
   "source": [
    "df_group_pol[['User_ID', 'Community_ID']]"
   ]
  },
  {
   "cell_type": "code",
   "execution_count": null,
   "id": "fe0c0bcb",
   "metadata": {},
   "outputs": [],
   "source": [
    "import pandas as pd\n",
    "\n",
    "\n",
    "df_user_community = df_group_pol[['User_ID', 'Community_ID']]\n",
    "df_tweets = df_cluster_refied[['Tweet_ID', 'User_ID', 'Cluster_ID']]\n",
    "\n",
    "merged_df = pd.merge(df_user_community, df_tweets, on='User_ID')\n",
    "\n",
    "clusters_per_community = merged_df.groupby(['Community_ID', 'Cluster_ID']).size().reset_index(name='Count')\n",
    "\n",
    "community_over_50_percent = clusters_per_community.groupby('Community_ID').apply(lambda x: (x['Count'] > len(x) / 2).sum()).reset_index(name='Count_Over_50_Percent')\n",
    "\n",
    "result_df = pd.merge(clusters_per_community.groupby('Community_ID').size().reset_index(name='Total_Clusters'), community_over_50_percent, on='Community_ID', how='left').fillna(0)\n",
    "\n",
    "print(result_df)\n"
   ]
  },
  {
   "cell_type": "code",
   "execution_count": null,
   "id": "2f704f9a",
   "metadata": {},
   "outputs": [],
   "source": []
  },
  {
   "cell_type": "code",
   "execution_count": null,
   "id": "3fb03c93",
   "metadata": {},
   "outputs": [],
   "source": [
    "df_tweets.loc[df_tweets.Cluster_ID == 18]"
   ]
  },
  {
   "cell_type": "code",
   "execution_count": null,
   "id": "2aa49297",
   "metadata": {},
   "outputs": [],
   "source": []
  },
  {
   "cell_type": "code",
   "execution_count": null,
   "id": "f737cdd9",
   "metadata": {},
   "outputs": [],
   "source": [
    "merged_df = pd.merge(df_user_community, df_tweets, on='User_ID')\n",
    "cluster_user_count = merged_df.groupby(['Community_ID', 'Cluster_ID'])['User_ID'].nunique().reset_index(name='Cluster_User_Count')\n",
    "total_users_per_community = merged_df.groupby('Community_ID')['User_ID'].nunique().reset_index(name='Total_Users')\n",
    "merged_cluster_data = pd.merge(cluster_user_count, total_users_per_community, on='Community_ID')\n",
    "clusters_over_50_percent = merged_cluster_data[merged_cluster_data['Cluster_User_Count'] >= merged_cluster_data['Total_Users'] * 0.5]\n",
    "community_over_50_percent_count = clusters_over_50_percent.groupby('Community_ID').size().reset_index(name='Count_Over_50_Percent')\n",
    "total_clusters_per_community = merged_cluster_data.groupby('Community_ID').size().reset_index(name='Total_Clusters')\n",
    "result_df = pd.merge(total_clusters_per_community, community_over_50_percent_count, on='Community_ID', how='left').fillna(0)\n"
   ]
  },
  {
   "cell_type": "code",
   "execution_count": null,
   "id": "8f3b661d",
   "metadata": {},
   "outputs": [],
   "source": [
    "result_df"
   ]
  },
  {
   "cell_type": "code",
   "execution_count": null,
   "id": "e6e20689",
   "metadata": {},
   "outputs": [],
   "source": [
    "merged_df.loc[merged_df.Community_ID == 0]"
   ]
  },
  {
   "cell_type": "code",
   "execution_count": null,
   "id": "fec0dd40",
   "metadata": {},
   "outputs": [],
   "source": [
    "cluster_user_count = merged_df.groupby(['Cluster_ID', 'Community_ID'])['User_ID'].nunique().reset_index(name='Cluster_User_Count')\n",
    "total_users_per_cluster = merged_df.groupby('Cluster_ID')['User_ID'].nunique().reset_index(name='Total_Users')\n",
    "merged_cluster_data = pd.merge(cluster_user_count, total_users_per_cluster, on='Cluster_ID')\n",
    "merged_cluster_data['Percentage'] = (merged_cluster_data['Cluster_User_Count'] / merged_cluster_data['Total_Users']) * 100\n"
   ]
  },
  {
   "cell_type": "code",
   "execution_count": null,
   "id": "a58c0e45",
   "metadata": {},
   "outputs": [],
   "source": [
    "merged_cluster_data.loc[merged_cluster_data.Cluster_ID == 17]"
   ]
  },
  {
   "cell_type": "code",
   "execution_count": null,
   "id": "224f549c",
   "metadata": {},
   "outputs": [],
   "source": [
    "merged_cluster_data.loc[merged_cluster_data.Cluster_ID == 'Wild_17']"
   ]
  },
  {
   "cell_type": "code",
   "execution_count": null,
   "id": "9dc39763",
   "metadata": {},
   "outputs": [],
   "source": [
    "merged_cluster_data"
   ]
  },
  {
   "cell_type": "code",
   "execution_count": null,
   "id": "55146724",
   "metadata": {},
   "outputs": [],
   "source": [
    "df_total_clustre = df_tweets.groupby('Cluster_ID').count().reset_index()[['Cluster_ID', 'User_ID']].rename(columns = {'User_ID': 'Total_User'})"
   ]
  },
  {
   "cell_type": "code",
   "execution_count": null,
   "id": "8585ed26",
   "metadata": {},
   "outputs": [],
   "source": [
    "merged_cluster_data = merged_cluster_data.rename(columns = {'Total_Users': 'Total_Community_User'})"
   ]
  },
  {
   "cell_type": "code",
   "execution_count": null,
   "id": "888f1af3",
   "metadata": {},
   "outputs": [],
   "source": [
    "merged_cluster_data = pd.merge(merged_cluster_data, df_total_clustre)"
   ]
  },
  {
   "cell_type": "code",
   "execution_count": null,
   "id": "21dba55d",
   "metadata": {},
   "outputs": [],
   "source": [
    "merged_cluster_data['Total_Percentage'] = (merged_cluster_data['Cluster_User_Count']/merged_cluster_data['Total_User']) * 100"
   ]
  },
  {
   "cell_type": "code",
   "execution_count": null,
   "id": "d7bfaa09",
   "metadata": {},
   "outputs": [],
   "source": [
    "grp_li = [0,18,1,17,8,6,15,29,19,13,5,4,14,42]"
   ]
  },
  {
   "cell_type": "code",
   "execution_count": null,
   "id": "fd42de31",
   "metadata": {},
   "outputs": [],
   "source": [
    "merged_cluster_data.loc[merged_cluster_data.Community_ID.isin(grp_li)]"
   ]
  },
  {
   "cell_type": "code",
   "execution_count": null,
   "id": "fe214707",
   "metadata": {},
   "outputs": [],
   "source": [
    "merged_cluster_data.drop_duplicates('Cluster_ID').count()"
   ]
  },
  {
   "cell_type": "code",
   "execution_count": null,
   "id": "c47d7368",
   "metadata": {},
   "outputs": [],
   "source": [
    "res_sum = 0\n",
    "for i in grp_li:\n",
    "    res_sum = res_sum + len(merged_cluster_data.loc[(merged_cluster_data.Community_ID == i) & (merged_cluster_data.Total_Percentage> 50)])"
   ]
  },
  {
   "cell_type": "code",
   "execution_count": null,
   "id": "c033b095",
   "metadata": {},
   "outputs": [],
   "source": [
    "abc_def = merged_cluster_data.loc[merged_cluster_data.Community_ID.isin(grp_li)].drop_duplicates('Cluster_ID').iloc[224:].reset_index(drop = True)"
   ]
  },
  {
   "cell_type": "code",
   "execution_count": null,
   "id": "3bda161d",
   "metadata": {},
   "outputs": [],
   "source": [
    "merged_cluster_data.groupby('Cluster_ID').count().sort_values('Community_ID')"
   ]
  },
  {
   "cell_type": "code",
   "execution_count": null,
   "id": "2fadb669",
   "metadata": {},
   "outputs": [],
   "source": [
    "print(res_sum)"
   ]
  },
  {
   "cell_type": "code",
   "execution_count": null,
   "id": "aff1dd24",
   "metadata": {},
   "outputs": [],
   "source": [
    "com_list = merged_cluster_data.Community_ID.unique().tolist()"
   ]
  },
  {
   "cell_type": "code",
   "execution_count": null,
   "id": "b4fd9000",
   "metadata": {},
   "outputs": [],
   "source": [
    "com_list.sort()"
   ]
  },
  {
   "cell_type": "code",
   "execution_count": null,
   "id": "d937221e",
   "metadata": {},
   "outputs": [],
   "source": [
    "len(merged_cluster_data.loc[(merged_cluster_data.Community_ID == 5) & (merged_cluster_data.Total_Percentage> 50)])"
   ]
  },
  {
   "cell_type": "code",
   "execution_count": null,
   "id": "0f323d47",
   "metadata": {},
   "outputs": [],
   "source": [
    "merged_cluster_data"
   ]
  },
  {
   "cell_type": "code",
   "execution_count": null,
   "id": "2eb88e78",
   "metadata": {},
   "outputs": [],
   "source": [
    "merged_cluster_data2 = merged_cluster_data.loc[merged_cluster_data.Total_User >= 5]"
   ]
  },
  {
   "cell_type": "code",
   "execution_count": null,
   "id": "06828e80",
   "metadata": {},
   "outputs": [],
   "source": [
    "merged_cluster_data2.loc[merged_cluster_data2.Total_User>=5]"
   ]
  },
  {
   "cell_type": "code",
   "execution_count": null,
   "id": "dd09001d",
   "metadata": {},
   "outputs": [],
   "source": [
    "result = {}\n",
    "for i in com_list:\n",
    "    result[i] = len(merged_cluster_data2.loc[(merged_cluster_data2.Community_ID == i) & (merged_cluster_data2.Total_Percentage>= 50)])"
   ]
  },
  {
   "cell_type": "code",
   "execution_count": null,
   "id": "7b259e97",
   "metadata": {},
   "outputs": [],
   "source": [
    "result3 = {}\n",
    "for i in com_list:\n",
    "    result3[i] = len(merged_cluster_data2.loc[(merged_cluster_data2.Community_ID == i) \n",
    "                                             & (merged_cluster_data2.Total_Percentage>= 10)\n",
    "                                            & (merged_cluster_data2.Total_Percentage< 50)]\n",
    "                   )"
   ]
  },
  {
   "cell_type": "code",
   "execution_count": null,
   "id": "094090a6",
   "metadata": {},
   "outputs": [],
   "source": [
    "result4 = {}\n",
    "for i in com_list:\n",
    "    result4[i] = len(merged_cluster_data2.loc[(merged_cluster_data2.Community_ID == i) \n",
    "                                             & (merged_cluster_data2.Total_Percentage< 10) &\n",
    "                                             (merged_cluster_data2.Total_User >= 10)]\n",
    "                   )"
   ]
  },
  {
   "cell_type": "code",
   "execution_count": null,
   "id": "540da6a7",
   "metadata": {},
   "outputs": [],
   "source": [
    "df_count_missing = pd.DataFrame(list(result4.items()), columns=['Community_ID', 'Total_Campaign'])\n"
   ]
  },
  {
   "cell_type": "code",
   "execution_count": null,
   "id": "b8ae6f44",
   "metadata": {},
   "outputs": [],
   "source": [
    "b = merged_cluster_data2.loc[(merged_cluster_data2.Total_User >=10) &  (merged_cluster_data2.Total_Percentage< 10)].drop_duplicates('Cluster_ID').Cluster_ID"
   ]
  },
  {
   "cell_type": "code",
   "execution_count": null,
   "id": "b2eea649",
   "metadata": {},
   "outputs": [],
   "source": [
    "a=merged_cluster_data2[merged_cluster_data2.Cluster_ID.isin(merged_cluster_data2.loc[(merged_cluster_data2.Total_User >=10) &  (merged_cluster_data2.Total_Percentage< 10)].drop_duplicates('Cluster_ID').Cluster_ID)]"
   ]
  },
  {
   "cell_type": "code",
   "execution_count": null,
   "id": "9be8aaf0",
   "metadata": {},
   "outputs": [],
   "source": [
    "merged_cluster_data[merged_cluster_data.Total_Percentage > 50]"
   ]
  },
  {
   "cell_type": "code",
   "execution_count": null,
   "id": "a461056b",
   "metadata": {},
   "outputs": [],
   "source": [
    "merged_cluster_data2.loc[(merged_cluster_data2.Community_ID == i) \n",
    "                                             & (merged_cluster_data2.Total_Percentage>= 10)\n",
    "                                            & (merged_cluster_data2.Total_Percentage< 50)]"
   ]
  },
  {
   "cell_type": "code",
   "execution_count": null,
   "id": "e1f8ce62",
   "metadata": {},
   "outputs": [],
   "source": [
    "merged_cluster_data2.loc[merged_cluster_data2.Total_User>=10].drop_duplicates('Cluster_ID')"
   ]
  },
  {
   "cell_type": "code",
   "execution_count": null,
   "id": "874ca3b7",
   "metadata": {},
   "outputs": [],
   "source": [
    "df_countsc= pd.DataFrame(list(result3.items()), columns=['Community_ID', 'SC_List'])"
   ]
  },
  {
   "cell_type": "code",
   "execution_count": null,
   "id": "d82904a1",
   "metadata": {},
   "outputs": [],
   "source": [
    "df_count50 = pd.DataFrame(list(result.items()), columns=['Community_ID', 'Count_50%'])\n"
   ]
  },
  {
   "cell_type": "code",
   "execution_count": null,
   "id": "b20f5160",
   "metadata": {},
   "outputs": [],
   "source": [
    "df_count50.sort_values('Count_50%', ascending = False).iloc[0:20]"
   ]
  },
  {
   "cell_type": "code",
   "execution_count": null,
   "id": "b0df1c9c",
   "metadata": {},
   "outputs": [],
   "source": [
    "result2 = {}\n",
    "for i in com_list:\n",
    "    result2[i] = len(merged_cluster_data2.loc[(merged_cluster_data2.Community_ID == i) & (merged_cluster_data2.Total_Percentage>= 0)])"
   ]
  },
  {
   "cell_type": "code",
   "execution_count": null,
   "id": "b4dd6d7e",
   "metadata": {},
   "outputs": [],
   "source": [
    "df_count50_2 = pd.DataFrame(list(result2.items()), columns=['Community_ID', 'Total_Campaign'])\n"
   ]
  },
  {
   "cell_type": "code",
   "execution_count": null,
   "id": "e93c5c66",
   "metadata": {},
   "outputs": [],
   "source": [
    "df_res = pd.merge(df_count50_2, df_count50)"
   ]
  },
  {
   "cell_type": "code",
   "execution_count": null,
   "id": "2d749894",
   "metadata": {},
   "outputs": [],
   "source": [
    "group_interest = [0,18,8,1,17,6,15,19,13,4,29,14,42,5]"
   ]
  },
  {
   "cell_type": "code",
   "execution_count": null,
   "id": "c35309b7",
   "metadata": {},
   "outputs": [],
   "source": [
    "df_res = df_res[df_res.Community_ID.isin(group_interest)].sort_values('Total_Campaign', ascending= False)"
   ]
  },
  {
   "cell_type": "code",
   "execution_count": null,
   "id": "38eaadec",
   "metadata": {},
   "outputs": [],
   "source": [
    "df_res['Missing'] = df_res['Total_Campaign'] - df_res['Count_50%']"
   ]
  },
  {
   "cell_type": "code",
   "execution_count": null,
   "id": "d5a6c02f",
   "metadata": {},
   "outputs": [],
   "source": [
    "df_res = pd.merge(df_res, df_countsc)"
   ]
  },
  {
   "cell_type": "code",
   "execution_count": null,
   "id": "c50614c1",
   "metadata": {},
   "outputs": [],
   "source": [
    "df_res['Missing'] = df_res['Total_Campaign'] - df_res['Count_50%'] - df_res['SC_List']"
   ]
  },
  {
   "cell_type": "code",
   "execution_count": null,
   "id": "fd008c2d",
   "metadata": {},
   "outputs": [],
   "source": [
    "group_dup_camp = pd.merge(result_df[['Community_ID', 'Total_Clusters']], df_count50)"
   ]
  },
  {
   "cell_type": "code",
   "execution_count": null,
   "id": "2316d3b1",
   "metadata": {},
   "outputs": [],
   "source": [
    "group_dup_camp['Missing_Campaign'] = group_dup_camp['Total_Clusters'] - group_dup_camp['Count_50%']"
   ]
  },
  {
   "cell_type": "code",
   "execution_count": null,
   "id": "78606ba6",
   "metadata": {},
   "outputs": [],
   "source": [
    "group_interest = [0,18,8,1,17,6,15,19,13,4,29,14,42,5]"
   ]
  },
  {
   "cell_type": "code",
   "execution_count": null,
   "id": "b9c3dded",
   "metadata": {},
   "outputs": [],
   "source": [
    "group_dup_camp.sort_values('Total_Clusters', ascending = False).iloc[0:20]"
   ]
  },
  {
   "cell_type": "code",
   "execution_count": null,
   "id": "5d7d7b17",
   "metadata": {},
   "outputs": [],
   "source": [
    "result2 = {}\n",
    "for i in com_list:\n",
    "    result2[i] = len(merged_cluster_data.loc[(merged_cluster_data.Community_ID == i) & (merged_cluster_data.Total_Percentage>= 0)])"
   ]
  },
  {
   "cell_type": "code",
   "execution_count": null,
   "id": "6739a34e",
   "metadata": {},
   "outputs": [],
   "source": [
    "df_count50_2 = pd.DataFrame(list(result2.items()), columns=['Community_ID', 'Count_50%'])\n"
   ]
  },
  {
   "cell_type": "code",
   "execution_count": null,
   "id": "65d53c45",
   "metadata": {},
   "outputs": [],
   "source": [
    "df_count50_2.sort_values('Count_50%', ascending = False).iloc[0:20]"
   ]
  },
  {
   "cell_type": "code",
   "execution_count": null,
   "id": "3be4e6f6",
   "metadata": {},
   "outputs": [],
   "source": [
    "merged_cluster_data.loc[(merged_cluster_data.Community_ID == 0) & (merged_cluster_data.Total_Percentage> 50)]"
   ]
  },
  {
   "cell_type": "code",
   "execution_count": null,
   "id": "c7a13bd2",
   "metadata": {},
   "outputs": [],
   "source": [
    "group_interest = [0,18,8,1,17,6,15,19,13,4,29,14,42,5]"
   ]
  },
  {
   "cell_type": "code",
   "execution_count": null,
   "id": "6fdd9d6d",
   "metadata": {},
   "outputs": [],
   "source": [
    "df_topic = pd.read_csv('Campaing_Topic_Map.csv', lineterminator = '\\n')"
   ]
  },
  {
   "cell_type": "code",
   "execution_count": null,
   "id": "899ff096",
   "metadata": {},
   "outputs": [],
   "source": [
    "df_topic"
   ]
  },
  {
   "cell_type": "code",
   "execution_count": null,
   "id": "78f8f2c4",
   "metadata": {},
   "outputs": [],
   "source": [
    "df_topic_new = pd.read_csv('Campaign_All.csv')"
   ]
  },
  {
   "cell_type": "code",
   "execution_count": null,
   "id": "4917b7a2",
   "metadata": {},
   "outputs": [],
   "source": [
    "df_topic_new"
   ]
  },
  {
   "cell_type": "code",
   "execution_count": null,
   "id": "e47f6990",
   "metadata": {},
   "outputs": [],
   "source": [
    "merged_cluster_data = merged_cluster_data[634:]"
   ]
  },
  {
   "cell_type": "code",
   "execution_count": null,
   "id": "8642a8c9",
   "metadata": {},
   "outputs": [],
   "source": [
    "cc_count = []\n",
    "cc_camp = []\n",
    "for i in group_interest:\n",
    "    print('Group : ' + str(i))\n",
    "    controlled_camp = merged_cluster_data.loc[(merged_cluster_data.Community_ID == i) & \n",
    "                                              (merged_cluster_data.Total_Percentage>= 80)].Cluster_ID.tolist()\n",
    "    print(len(controlled_camp))\n",
    "    cc_camp = cc_camp + controlled_camp\n",
    "    cc_count.append(len(controlled_camp))\n",
    "    print(len(df_topic.loc[df_topic.Cluster_ID.isin(controlled_camp)].groupby('Reduce_Topic').count()))\n",
    "    print(len(df_topic_new.loc[df_topic_new.Cluster_ID.isin(controlled_camp)].groupby('Topic_All_English_Reduce').count()))\n",
    "    "
   ]
  },
  {
   "cell_type": "code",
   "execution_count": null,
   "id": "fb9d2b85",
   "metadata": {},
   "outputs": [],
   "source": [
    "controlled_camp"
   ]
  },
  {
   "cell_type": "code",
   "execution_count": null,
   "id": "89f98435",
   "metadata": {},
   "outputs": [],
   "source": [
    "merged_cluster_data"
   ]
  },
  {
   "cell_type": "code",
   "execution_count": null,
   "id": "ea287d27",
   "metadata": {},
   "outputs": [],
   "source": [
    "controlled_camp0 = merged_cluster_data.loc[(merged_cluster_data.Community_ID == 0) & \n",
    "                                              (merged_cluster_data.Total_Percentage> 50)].Cluster_ID.tolist()"
   ]
  },
  {
   "cell_type": "code",
   "execution_count": null,
   "id": "e2a34a70",
   "metadata": {},
   "outputs": [],
   "source": [
    "sum(cc_count)"
   ]
  },
  {
   "cell_type": "code",
   "execution_count": null,
   "id": "48635dec",
   "metadata": {},
   "outputs": [],
   "source": [
    "cc_camp"
   ]
  },
  {
   "cell_type": "code",
   "execution_count": null,
   "id": "0b728383",
   "metadata": {},
   "outputs": [],
   "source": [
    "check_now1 = merged_cluster_data[merged_cluster_data.Total_Percentage> 50].drop_duplicates('Cluster_ID')\n",
    "check_now2 = merged_cluster_data[merged_cluster_data.Total_Percentage> 80].drop_duplicates('Cluster_ID')"
   ]
  },
  {
   "cell_type": "code",
   "execution_count": null,
   "id": "6fe57a50",
   "metadata": {},
   "outputs": [],
   "source": [
    "check_now1.loc[(check_now1.Percentage >= 50) & (check_now1.Percentage < 80)].Total_User.mean()"
   ]
  },
  {
   "cell_type": "code",
   "execution_count": null,
   "id": "4ddb264a",
   "metadata": {},
   "outputs": [],
   "source": [
    "check_now1.loc[(check_now1.Percentage >= 50) & (check_now1.Percentage < 80)]"
   ]
  },
  {
   "cell_type": "code",
   "execution_count": null,
   "id": "7948404b",
   "metadata": {},
   "outputs": [],
   "source": [
    "check_now1.loc[(check_now1.Percentage >= 80)]"
   ]
  },
  {
   "cell_type": "code",
   "execution_count": null,
   "id": "783a95a6",
   "metadata": {},
   "outputs": [],
   "source": [
    "group_interest"
   ]
  },
  {
   "cell_type": "code",
   "execution_count": null,
   "id": "a50d7de0",
   "metadata": {},
   "outputs": [],
   "source": [
    "check_now1.loc[(check_now1.Community_ID.isin(group_interest)) & (check_now1.Percentage >=80)]"
   ]
  },
  {
   "cell_type": "code",
   "execution_count": null,
   "id": "888f620c",
   "metadata": {},
   "outputs": [],
   "source": []
  }
 ],
 "metadata": {
  "kernelspec": {
   "display_name": "Python 3 (ipykernel)",
   "language": "python",
   "name": "python3"
  },
  "language_info": {
   "codemirror_mode": {
    "name": "ipython",
    "version": 3
   },
   "file_extension": ".py",
   "mimetype": "text/x-python",
   "name": "python",
   "nbconvert_exporter": "python",
   "pygments_lexer": "ipython3",
   "version": "3.10.16"
  }
 },
 "nbformat": 4,
 "nbformat_minor": 5
}
