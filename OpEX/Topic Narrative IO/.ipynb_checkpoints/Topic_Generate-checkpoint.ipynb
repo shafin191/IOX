{
 "cells": [
  {
   "cell_type": "code",
   "execution_count": null,
   "id": "b6562693-ea77-4923-80f8-f6a171069a36",
   "metadata": {},
   "outputs": [],
   "source": [
    "import hdbscan\n",
    "import pandas as pd\n",
    "from bertopic import BERTopic\n",
    "from sklearn.metrics.pairwise import cosine_distances\n",
    "import umap\n",
    "import hdbscan\n",
    "from bertopic import BERTopic\n",
    "from sklearn.metrics.pairwise import cosine_distances\n",
    "import umap\n",
    "from bertopic.representation import KeyBERTInspired"
   ]
  },
  {
   "cell_type": "code",
   "execution_count": null,
   "id": "a7ca87da-07c7-48f8-a30e-b6380de5aa34",
   "metadata": {},
   "outputs": [],
   "source": [
    "df_data = pd.read_csv('All_Text_Duplicate_Tweet.csv')"
   ]
  },
  {
   "cell_type": "code",
   "execution_count": null,
   "id": "290ddadd-eb95-45f9-9f81-4e1c8363f515",
   "metadata": {},
   "outputs": [],
   "source": [
    "df_generic = pd.read_csv('Generic_OutCome.csv')"
   ]
  },
  {
   "cell_type": "code",
   "execution_count": null,
   "id": "14014c54-50ab-403c-9090-48084b89378c",
   "metadata": {},
   "outputs": [],
   "source": [
    "df_generic.loc[df_generic.Generic_OutCome == 'generic'].Cluster_ID"
   ]
  },
  {
   "cell_type": "code",
   "execution_count": null,
   "id": "15e63e87-d865-4e1c-a181-2c20c09e6e51",
   "metadata": {},
   "outputs": [],
   "source": [
    "df_data.loc[~df_data.Cluster_ID.isin(df_generic.loc[df_generic.Generic_OutCome == 'generic'].Cluster_ID)].drop_duplicates('Cluster_ID').clean_tweet"
   ]
  },
  {
   "cell_type": "code",
   "execution_count": null,
   "id": "60e6708a-d414-41df-8315-5b251b389a27",
   "metadata": {},
   "outputs": [],
   "source": [
    "umap_model = umap.UMAP(n_components=5, n_neighbors=2, min_dist=0.3, metric=\"cosine\")\n",
    "hdbscan_model = hdbscan.HDBSCAN(min_cluster_size=2, cluster_selection_method=\"eom\")\n",
    "representation_model = KeyBERTInspired()\n"
   ]
  },
  {
   "cell_type": "code",
   "execution_count": null,
   "id": "0c31b7d2-b0cc-4519-8551-b9c9a8d2e738",
   "metadata": {},
   "outputs": [],
   "source": [
    "topic_model = BERTopic(embedding_model=\"sentence-transformers/paraphrase-multilingual-mpnet-base-v2\",\n",
    "                       representation_model=representation_model,\n",
    "                       hdbscan_model=hdbscan_model, \n",
    "                       umap_model=umap_model)"
   ]
  },
  {
   "cell_type": "code",
   "execution_count": null,
   "id": "c30613e6-7c3f-434e-b23f-c37ed5e4ad98",
   "metadata": {},
   "outputs": [],
   "source": [
    "topic_text = df_data.loc[~df_data.Cluster_ID.isin(df_generic.loc[df_generic.Generic_OutCome == 'generic'].Cluster_ID)].drop_duplicates('Cluster_ID').clean_tweet.tolist()\n",
    "topics, probs = topic_model.fit_transform(topic_text)"
   ]
  },
  {
   "cell_type": "code",
   "execution_count": null,
   "id": "2580e4ee-ca13-4da9-a0bf-0aede57bf326",
   "metadata": {},
   "outputs": [],
   "source": [
    "probs"
   ]
  },
  {
   "cell_type": "code",
   "execution_count": null,
   "id": "9c34a71d-497d-492e-9eb1-fcfd07333448",
   "metadata": {},
   "outputs": [],
   "source": [
    "topic_model.get_topic_info()"
   ]
  },
  {
   "cell_type": "code",
   "execution_count": null,
   "id": "2c95eb92-8363-47a9-a78d-cfefdb320e31",
   "metadata": {},
   "outputs": [],
   "source": [
    "new_topics = topic_model.reduce_outliers(topic_text, topics)"
   ]
  },
  {
   "cell_type": "code",
   "execution_count": null,
   "id": "3dda8d5e-107e-46fe-98db-1f410c4ba8cc",
   "metadata": {},
   "outputs": [],
   "source": [
    "topic_text"
   ]
  },
  {
   "cell_type": "code",
   "execution_count": null,
   "id": "174ada36-a971-41a8-8cab-24eb64795195",
   "metadata": {},
   "outputs": [],
   "source": [
    "topic_model.get_topic_info()[['Topic', 'Name']]"
   ]
  },
  {
   "cell_type": "code",
   "execution_count": null,
   "id": "487e0cb3-e14c-473f-b5a4-b16786f59107",
   "metadata": {
    "scrolled": true
   },
   "outputs": [],
   "source": [
    "new_topics"
   ]
  },
  {
   "cell_type": "code",
   "execution_count": null,
   "id": "7d12c375-db27-4c5a-acaf-b996dd079444",
   "metadata": {},
   "outputs": [],
   "source": [
    "df_data.loc[~df_data.Cluster_ID.isin(df_generic.loc[df_generic.Generic_OutCome == 'generic'].Cluster_ID)].drop_duplicates('Cluster_ID')['Topic_ID'] = new_topics"
   ]
  },
  {
   "cell_type": "code",
   "execution_count": null,
   "id": "204b7e8b-cf47-4ca7-8e75-61bfa520ebc0",
   "metadata": {},
   "outputs": [],
   "source": [
    "data = df_data.loc[~df_data.Cluster_ID.isin(df_generic.loc[df_generic.Generic_OutCome == 'generic'].Cluster_ID)].drop_duplicates('Cluster_ID')"
   ]
  },
  {
   "cell_type": "code",
   "execution_count": null,
   "id": "c2a63cf8-e4e3-4485-929f-fc238f7b4082",
   "metadata": {},
   "outputs": [],
   "source": [
    "data['Topic_ID'] = new_topics"
   ]
  },
  {
   "cell_type": "code",
   "execution_count": null,
   "id": "6e4938fa-e82e-408b-8754-99b867bac92e",
   "metadata": {},
   "outputs": [],
   "source": [
    "data['Topic_ID_Initial'] = topics"
   ]
  },
  {
   "cell_type": "code",
   "execution_count": null,
   "id": "29bbe171-eec9-464a-8e14-70ff31c6c6e2",
   "metadata": {},
   "outputs": [],
   "source": [
    "pd.merge(data, topic_model.get_topic_info()[['Topic', 'Name']].rename(columns = {'Topic':'Topic_ID_Initial'})).to_csv('topic_result.csv', index = False)"
   ]
  },
  {
   "cell_type": "code",
   "execution_count": null,
   "id": "b1a242f2-d45b-45cb-ba0f-45fbda3ef4d5",
   "metadata": {},
   "outputs": [],
   "source": []
  },
  {
   "cell_type": "code",
   "execution_count": null,
   "id": "b5ecc743-b6dc-4810-89e5-6b57c3db2ac5",
   "metadata": {},
   "outputs": [],
   "source": []
  }
 ],
 "metadata": {
  "kernelspec": {
   "display_name": "Python 3 (ipykernel)",
   "language": "python",
   "name": "python3"
  },
  "language_info": {
   "codemirror_mode": {
    "name": "ipython",
    "version": 3
   },
   "file_extension": ".py",
   "mimetype": "text/x-python",
   "name": "python",
   "nbconvert_exporter": "python",
   "pygments_lexer": "ipython3",
   "version": "3.10.16"
  }
 },
 "nbformat": 4,
 "nbformat_minor": 5
}
