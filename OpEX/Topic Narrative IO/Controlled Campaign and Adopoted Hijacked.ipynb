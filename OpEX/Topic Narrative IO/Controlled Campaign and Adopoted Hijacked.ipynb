{
 "cells": [
  {
   "cell_type": "code",
   "execution_count": null,
   "id": "b834d83d-c1d7-4a66-8a97-84f5c88f0453",
   "metadata": {},
   "outputs": [],
   "source": [
    "import pandas as pd\n",
    "import networkx as nx\n",
    "from itertools import combinations\n",
    "from collections import defaultdict\n",
    "import community as community_louvain\n",
    "import matplotlib.pyplot as plt\n",
    "from networkx.algorithms.community import louvain_communities\n",
    "from networkx.algorithms.community.quality import modularity\n",
    "import pickle\n",
    "import pandas as pd\n",
    "import os\n",
    "import networkx as nx\n",
    "from networkx.algorithms.community import greedy_modularity_communities\n",
    "import community\n",
    "from collections import Counter\n",
    "import networkx as nx\n",
    "import community\n",
    "from collections import Counter\n",
    "import pandas as pd\n",
    "import pickle\n",
    "import numpy as np"
   ]
  },
  {
   "cell_type": "code",
   "execution_count": null,
   "id": "f8cb7bef-b312-46d1-8465-42138531a762",
   "metadata": {},
   "outputs": [],
   "source": [
    "with open(\"graph_IOX.pkl\", \"rb\") as f:\n",
    "    G = pickle.load(f)"
   ]
  },
  {
   "cell_type": "code",
   "execution_count": null,
   "id": "a295ddd6-31b8-41dd-83a8-b158fe8895f6",
   "metadata": {},
   "outputs": [],
   "source": [
    "edges_to_keep = [(u, v) for u, v, d in G.edges(data=True) if d.get('weight', 0) >= 2]\n",
    "G_sub = G.edge_subgraph(edges_to_keep).copy()"
   ]
  },
  {
   "cell_type": "code",
   "execution_count": null,
   "id": "6b67382d-8748-4bcc-8247-cc7ea2292b1e",
   "metadata": {},
   "outputs": [],
   "source": [
    "num_nodes = G_sub.number_of_nodes()\n",
    "num_edges = G_sub.number_of_edges()\n",
    "\n",
    "print(f\"Number of nodes: {num_nodes}\")\n",
    "print(f\"Number of edges: {num_edges}\")\n"
   ]
  },
  {
   "cell_type": "code",
   "execution_count": null,
   "id": "2712258b-b8ec-45e9-99a9-365b0e23c2ba",
   "metadata": {},
   "outputs": [],
   "source": [
    "partition = community.best_partition(G_sub)"
   ]
  },
  {
   "cell_type": "code",
   "execution_count": null,
   "id": "4fbc8224-e11e-4383-a831-818656b69d7c",
   "metadata": {},
   "outputs": [],
   "source": [
    "modularity_value = community.modularity(partition, G_sub)"
   ]
  },
  {
   "cell_type": "code",
   "execution_count": null,
   "id": "2b4eee94-cc7e-4cd8-82ff-21ad5253aee1",
   "metadata": {},
   "outputs": [],
   "source": [
    "modularity_value"
   ]
  },
  {
   "cell_type": "code",
   "execution_count": null,
   "id": "7249b406-5d2e-400c-9fad-06268e11e1f4",
   "metadata": {},
   "outputs": [],
   "source": [
    "import pandas as pd\n",
    "df_user_communities = pd.DataFrame(list(partition.items()), columns=['User_ID', 'Community_ID'])\n",
    "print(df_user_communities.head())\n"
   ]
  },
  {
   "cell_type": "code",
   "execution_count": null,
   "id": "7a2b3afc-be3e-4dbb-8c93-9846ccc8b223",
   "metadata": {},
   "outputs": [],
   "source": [
    "df_pol_res1 = pd.read_csv('/a/bear.cs.xxx.edu./disk/bear-b/users/xxww/PolitiX/Dataset/Political Alignment Dataset/PAN_Result_1.csv')\n",
    "df_pol_res2 = pd.read_csv('/a/bear.cs.xxx.edu./disk/bear-b/users/xxww/PolitiX/Dataset/Political Alignment Dataset/PAN_Result_2.csv')\n",
    "df_pol_res3 = pd.read_csv('/a/bear.cs.xxx.edu./disk/bear-b/users/xxww/PolitiX/Dataset/Political Alignment Dataset/PAN_Result_3.csv')"
   ]
  },
  {
   "cell_type": "code",
   "execution_count": null,
   "id": "e8d92a4a-f576-4fba-9215-fe64daccff66",
   "metadata": {},
   "outputs": [],
   "source": [
    "df_part = pd.merge(df_user_communities,df_pol_res1)\n",
    "df_part = pd.merge(df_part,df_pol_res2)\n",
    "df_part = pd.merge(df_part,df_pol_res3)"
   ]
  },
  {
   "cell_type": "code",
   "execution_count": null,
   "id": "c8071621-2d7f-4e77-8028-816b27d44908",
   "metadata": {},
   "outputs": [],
   "source": [
    "df_part = df_part.drop(columns=['Unnamed: 0'])"
   ]
  },
  {
   "cell_type": "code",
   "execution_count": null,
   "id": "a32f2277-0e85-4d49-9e30-634c2805013d",
   "metadata": {
    "scrolled": true
   },
   "outputs": [],
   "source": [
    "df_part.groupby('Community_ID').count()"
   ]
  },
  {
   "cell_type": "code",
   "execution_count": null,
   "id": "ad6aa97e-a87a-4477-be35-138fd2e365d5",
   "metadata": {},
   "outputs": [],
   "source": [
    "df_part.columns"
   ]
  },
  {
   "cell_type": "code",
   "execution_count": null,
   "id": "a56b52b7-70d8-41c7-bbd9-e1300c87e479",
   "metadata": {},
   "outputs": [],
   "source": [
    "community_sizes = df_part['Community_ID'].value_counts()\n",
    "valid_communities = community_sizes[community_sizes >= 5].index\n"
   ]
  },
  {
   "cell_type": "code",
   "execution_count": null,
   "id": "a212e71d-56f5-4a81-8bd4-8c58f55b0b08",
   "metadata": {},
   "outputs": [],
   "source": [
    "valid_communities"
   ]
  },
  {
   "cell_type": "code",
   "execution_count": null,
   "id": "09b6c201-cae9-4b92-b83b-ce24a9c6caf8",
   "metadata": {},
   "outputs": [],
   "source": [
    "filtered_df = df_part[df_part['Community_ID'].isin(valid_communities)]"
   ]
  },
  {
   "cell_type": "code",
   "execution_count": null,
   "id": "e5e37c7a-cd8a-4364-a392-d690b8b62187",
   "metadata": {},
   "outputs": [],
   "source": [
    "filtered_df.loc[filtered_df.Community_ID == 0].groupby('Label').count()"
   ]
  },
  {
   "cell_type": "code",
   "execution_count": null,
   "id": "39c18c85-7038-402f-82f4-29c04b816a2f",
   "metadata": {
    "scrolled": true
   },
   "outputs": [],
   "source": [
    "for i in (valid_communities):\n",
    "    print(i)\n",
    "    print(len(filtered_df.loc[filtered_df.Community_ID == i]))"
   ]
  },
  {
   "cell_type": "code",
   "execution_count": null,
   "id": "3be26491-3a74-4488-995d-72605022f567",
   "metadata": {
    "scrolled": true
   },
   "outputs": [],
   "source": [
    "for i in (valid_communities):\n",
    "    print(i)\n",
    "    print(filtered_df.loc[filtered_df.Community_ID == i].groupby('PR3').count())"
   ]
  },
  {
   "cell_type": "code",
   "execution_count": null,
   "id": "093a0a14-62e4-4292-924b-cd5dca8474b8",
   "metadata": {
    "scrolled": true
   },
   "outputs": [],
   "source": [
    "for i in (valid_communities):\n",
    "    print()\n",
    "    print(f\"Community_ID: {i}, Total_User: {len(filtered_df.loc[filtered_df.Community_ID == i])}\")\n",
    "    print()\n",
    "    print(filtered_df.loc[filtered_df.Community_ID == i].groupby('PR_Result').count())"
   ]
  },
  {
   "cell_type": "code",
   "execution_count": null,
   "id": "b934287c-15c0-466e-8442-05b388c464a0",
   "metadata": {
    "scrolled": true
   },
   "outputs": [],
   "source": [
    "for i in (valid_communities):\n",
    "    print(f\"Community_ID: {i}, Total_User: {len(filtered_df.loc[filtered_df.Community_ID == i])}\")\n",
    "    print()\n",
    "    print(filtered_df.loc[filtered_df.Community_ID == i].groupby('Label').count())\n",
    "    print()"
   ]
  },
  {
   "cell_type": "code",
   "execution_count": null,
   "id": "abb54871-3473-47dd-90b9-1a7e0fb400bc",
   "metadata": {},
   "outputs": [],
   "source": [
    "df_part.loc[df_part.Community_ID == 9].loc[df_part.PR3==1].groupby('PR_Result').count()"
   ]
  },
  {
   "cell_type": "code",
   "execution_count": null,
   "id": "27a51444-2cdd-46f6-a3af-6797b7d0fed6",
   "metadata": {},
   "outputs": [],
   "source": [
    "df_part.loc[df_part.Community_ID == 9].loc[df_part.PR3==0].groupby('PR_Result').count()"
   ]
  },
  {
   "cell_type": "code",
   "execution_count": null,
   "id": "ef0effcd-cf3a-4a4c-9f68-fa82c9c98dc7",
   "metadata": {},
   "outputs": [],
   "source": [
    "filtered_df.loc[filtered_df.Community_ID == 1].groupby('Label').count()"
   ]
  },
  {
   "cell_type": "code",
   "execution_count": null,
   "id": "279dd41f-8fde-4d23-ba1b-139cfdf534ff",
   "metadata": {},
   "outputs": [],
   "source": [
    "filtered_df.loc[filtered_df.Community_ID == 1,'Group_ID'] = 'RG2'"
   ]
  },
  {
   "cell_type": "code",
   "execution_count": null,
   "id": "3bdf13ce-a336-4a30-9e67-d9c5b4c357f0",
   "metadata": {},
   "outputs": [],
   "source": [
    "filtered_df.loc[filtered_df.Community_ID == 1]"
   ]
  },
  {
   "cell_type": "code",
   "execution_count": null,
   "id": "73363424-3beb-48ac-85dc-600fef49baf7",
   "metadata": {},
   "outputs": [],
   "source": [
    "final_group['Group_ID'] = 'RG1'"
   ]
  },
  {
   "cell_type": "code",
   "execution_count": null,
   "id": "8004251a-281e-4b52-ac67-99e35ba1817a",
   "metadata": {},
   "outputs": [],
   "source": [
    "new_final = pd.concat([final_group, filtered_df.loc[filtered_df.Community_ID == 1]])"
   ]
  },
  {
   "cell_type": "code",
   "execution_count": null,
   "id": "8ba83a09-7575-40f5-ab30-b3b6f2f35447",
   "metadata": {},
   "outputs": [],
   "source": [
    "final_group"
   ]
  },
  {
   "cell_type": "code",
   "execution_count": null,
   "id": "7798702f-a2af-4efa-92bb-b08468e12a9e",
   "metadata": {},
   "outputs": [],
   "source": [
    "filtered_df"
   ]
  },
  {
   "cell_type": "code",
   "execution_count": null,
   "id": "b4ecad2c-0dbb-4533-91b1-cd9ef9fb2fca",
   "metadata": {},
   "outputs": [],
   "source": [
    "\n",
    "print(len(filtered_df.loc[filtered_df.Community_ID == c_id]))"
   ]
  },
  {
   "cell_type": "code",
   "execution_count": null,
   "id": "b3de9ed6-71b2-4014-abb3-5a3878ff1282",
   "metadata": {},
   "outputs": [],
   "source": [
    "filtered_df.loc[(filtered_df.Community_ID ==9) & (df_part.PR3==0), 'Group_ID'] = 'RG8'"
   ]
  },
  {
   "cell_type": "code",
   "execution_count": null,
   "id": "e2318240-b2fb-4f45-ae3a-3cf4a94f04ef",
   "metadata": {},
   "outputs": [],
   "source": [
    "new_final = pd.concat([new_final, filtered_df.loc[(filtered_df.Community_ID ==9) & (df_part.PR3==0)]])"
   ]
  },
  {
   "cell_type": "code",
   "execution_count": null,
   "id": "56b072f0-1749-48c3-9051-f86961fc4b1b",
   "metadata": {},
   "outputs": [],
   "source": [
    "new_final = pd.read_csv('PolitiX_Political_Group_Detection.csv')"
   ]
  },
  {
   "cell_type": "code",
   "execution_count": null,
   "id": "7544c0a6-7213-4ce7-9545-54c4c3ffd758",
   "metadata": {},
   "outputs": [],
   "source": [
    "new_final"
   ]
  },
  {
   "cell_type": "markdown",
   "id": "f19daad7-4c0a-4381-b489-eba996e1ec1e",
   "metadata": {},
   "source": [
    "# Find Controlled Campaings"
   ]
  },
  {
   "cell_type": "markdown",
   "id": "b4788042-7bcc-45dd-9cf1-172e1a638bb7",
   "metadata": {},
   "source": []
  },
  {
   "cell_type": "code",
   "execution_count": null,
   "id": "40d96ef5-9459-456b-a17a-bb0b3b88ce2b",
   "metadata": {},
   "outputs": [],
   "source": [
    "df_dup_camp = pd.read_csv('All_Text_Duplicate_Tweet.csv')"
   ]
  },
  {
   "cell_type": "code",
   "execution_count": null,
   "id": "0a556356-c3d4-4d33-be45-1df0465b6785",
   "metadata": {},
   "outputs": [],
   "source": [
    "df_narr = pd.read_csv('Generic_OutCome.csv')"
   ]
  },
  {
   "cell_type": "code",
   "execution_count": null,
   "id": "421e1dd4-5bfd-4e79-a2c1-168b8e890ee8",
   "metadata": {},
   "outputs": [],
   "source": [
    "df_dup_camp.groupby('Cluster_ID').count()"
   ]
  },
  {
   "cell_type": "code",
   "execution_count": null,
   "id": "c58bdbf6-af78-4b49-b41c-91dc541c96ce",
   "metadata": {},
   "outputs": [],
   "source": [
    "cluster_size = df_dup_camp.groupby('Cluster_ID').count().reset_index()[['Cluster_ID', 'Tweet_ID']].rename(columns = {'Tweet_ID': 'Cluster_Size'})"
   ]
  },
  {
   "cell_type": "code",
   "execution_count": null,
   "id": "a076f21b-2715-474f-ad87-3aa9bbbe9142",
   "metadata": {},
   "outputs": [],
   "source": []
  },
  {
   "cell_type": "code",
   "execution_count": null,
   "id": "0c6d6bb1-fddf-4474-afd2-00e60767d36c",
   "metadata": {},
   "outputs": [],
   "source": [
    "df_narr.loc[df_narr.Generic_OutCome == 'generic']"
   ]
  },
  {
   "cell_type": "code",
   "execution_count": null,
   "id": "00ac4b9f-a10e-42fb-b259-e3063a8f962d",
   "metadata": {},
   "outputs": [],
   "source": [
    "valid_cluster_size = cluster_size.loc[~cluster_size.Cluster_ID.isin( df_narr.loc[df_narr.Generic_OutCome == 'generic'].Cluster_ID)].reset_index(drop = True)"
   ]
  },
  {
   "cell_type": "code",
   "execution_count": null,
   "id": "aad212d8-e2f6-42e1-93f2-9d3f7ef24fe3",
   "metadata": {},
   "outputs": [],
   "source": [
    "valid_cluster_size"
   ]
  },
  {
   "cell_type": "code",
   "execution_count": null,
   "id": "0d92f8c6-bcc3-41b8-a272-737d7310edeb",
   "metadata": {},
   "outputs": [],
   "source": [
    "df_dup_valid = df_dup_camp.loc[df_dup_camp.Cluster_ID.isin(valid_cluster_size.Cluster_ID)]"
   ]
  },
  {
   "cell_type": "code",
   "execution_count": null,
   "id": "3e603c36-2035-4f4f-a155-29ffa8acacf7",
   "metadata": {},
   "outputs": [],
   "source": [
    "#new_final.loc[new_final.Group_ID == grp[0]]"
   ]
  },
  {
   "cell_type": "code",
   "execution_count": null,
   "id": "a5b21099-fb56-4f39-9a2a-feab8e2fb167",
   "metadata": {},
   "outputs": [],
   "source": [
    "new_final.Group_ID.unique()"
   ]
  },
  {
   "cell_type": "code",
   "execution_count": null,
   "id": "f972902b-8a25-414f-ae4a-6f6101760b47",
   "metadata": {},
   "outputs": [],
   "source": [
    "grp = ['RG1', 'RG2', 'RG3', 'RG4', 'RG5', 'NG1', 'RG7', 'RG9', 'DG3','RG10', 'RG11', 'DG1', 'RG6', 'CHE', 'DG2', 'RG8']"
   ]
  },
  {
   "cell_type": "code",
   "execution_count": null,
   "id": "d95910d5-81bb-4d4c-80f5-db5edbf5cc10",
   "metadata": {},
   "outputs": [],
   "source": [
    "for i in grp:\n",
    "    member_ids = new_final.loc[new_final.Group_ID == i, 'User_ID']\n",
    "    temp = df_dup_valid[df_dup_valid.User_ID.isin(member_ids)]\n",
    "    temp = temp.groupby('Cluster_ID').count().reset_index()[['Cluster_ID', 'Tweet_ID']]\n",
    "    temp = temp.rename(columns={'Tweet_ID': f'GRP_Member_{i}'})\n",
    "    valid_cluster_size = pd.merge(valid_cluster_size, temp, on='Cluster_ID', how='left')\n",
    "    valid_cluster_size = valid_cluster_size.fillna(0)\n"
   ]
  },
  {
   "cell_type": "code",
   "execution_count": null,
   "id": "15fee728-5cac-4733-bd3f-50a58a2d4085",
   "metadata": {},
   "outputs": [],
   "source": [
    "temp = df_dup_valid.loc[df_dup_valid.User_ID.isin(new_final.loc[new_final.Group_ID == grp[0]].User_ID)].groupby('Cluster_ID').count().reset_index()[['Cluster_ID', 'Tweet_ID']]"
   ]
  },
  {
   "cell_type": "code",
   "execution_count": null,
   "id": "a704dc85-eede-4b24-a4d7-3d585dd22fc6",
   "metadata": {},
   "outputs": [],
   "source": [
    "valid_cluster_size.columns"
   ]
  },
  {
   "cell_type": "code",
   "execution_count": null,
   "id": "0116371b-1f61-4060-a760-c600ee3c10eb",
   "metadata": {},
   "outputs": [],
   "source": [
    "group_id = ['GRP_Member_RG1', 'GRP_Member_RG2',\n",
    "       'GRP_Member_RG3', 'GRP_Member_RG4', 'GRP_Member_RG5', 'GRP_Member_NG1',\n",
    "       'GRP_Member_RG7', 'GRP_Member_RG9', 'GRP_Member_DG3', 'GRP_Member_RG10',\n",
    "       'GRP_Member_RG11', 'GRP_Member_DG1', 'GRP_Member_RG6', 'GRP_Member_CHE',\n",
    "       'GRP_Member_DG2', 'GRP_Member_RG8']"
   ]
  },
  {
   "cell_type": "code",
   "execution_count": null,
   "id": "8284edd2-73d6-401b-bc60-36e51e2a2a73",
   "metadata": {
    "scrolled": true
   },
   "outputs": [],
   "source": [
    "for i in group_id:\n",
    "    print(i)\n",
    "    print(len(valid_cluster_size.loc[valid_cluster_size[i]> valid_cluster_size.Cluster_Size*0.8]))"
   ]
  },
  {
   "cell_type": "code",
   "execution_count": null,
   "id": "94f6bd2c-ee1c-4dad-9b29-d8183f7d1686",
   "metadata": {},
   "outputs": [],
   "source": [
    "valid_cluster_size"
   ]
  },
  {
   "cell_type": "code",
   "execution_count": null,
   "id": "9ee3a8ee-cb30-4b8a-832d-86bc746ab1dc",
   "metadata": {},
   "outputs": [],
   "source": [
    "valid_cluster_size.loc[valid_cluster_size.GRP_Member_RG1> valid_cluster_size.Cluster_Size*0.5]"
   ]
  },
  {
   "cell_type": "code",
   "execution_count": null,
   "id": "21caeb15-7c8f-49b0-a08d-9919b2cf5e1b",
   "metadata": {},
   "outputs": [],
   "source": []
  },
  {
   "cell_type": "code",
   "execution_count": null,
   "id": "92a68d29-af54-44a8-9d54-65c8aa9aa20b",
   "metadata": {},
   "outputs": [],
   "source": [
    "new_final.groupby('Group_ID').count().User_ID.sum()"
   ]
  },
  {
   "cell_type": "code",
   "execution_count": null,
   "id": "73b5b1d4-394c-45ff-b5a3-539eeafff93e",
   "metadata": {},
   "outputs": [],
   "source": [
    "new_final.groupby('Group_ID').count()"
   ]
  },
  {
   "cell_type": "code",
   "execution_count": null,
   "id": "bfb83008-55c9-441e-952c-49f4a3624142",
   "metadata": {},
   "outputs": [],
   "source": [
    "#new_final.loc[new_final.Group_ID == 'RG6'].groupby('PR_Result').count()"
   ]
  },
  {
   "cell_type": "code",
   "execution_count": null,
   "id": "30044bf3-c207-4989-88e9-f82a03317112",
   "metadata": {},
   "outputs": [],
   "source": [
    "new_final"
   ]
  },
  {
   "cell_type": "code",
   "execution_count": null,
   "id": "4937b828-a7b8-4ffa-9782-520a9d039a6f",
   "metadata": {},
   "outputs": [],
   "source": [
    "df_foreign_sus = pd.read_csv('Final_Foreign.csv')"
   ]
  },
  {
   "cell_type": "code",
   "execution_count": null,
   "id": "29b68ca9-2b36-446c-b80a-939534120ec5",
   "metadata": {},
   "outputs": [],
   "source": [
    "mask = df_foreign_sus.isna().any(axis=1)\n",
    "df_foreign_sus_inverse = df_foreign_sus[mask]"
   ]
  },
  {
   "cell_type": "code",
   "execution_count": null,
   "id": "177a2418-ebe1-406d-a9cc-f6aacd7ba571",
   "metadata": {},
   "outputs": [],
   "source": [
    "df_foreign_sus_inverse"
   ]
  },
  {
   "cell_type": "code",
   "execution_count": null,
   "id": "9c986579-513a-4075-bb5b-f24f26085001",
   "metadata": {},
   "outputs": [],
   "source": [
    "comm_for = pd.merge(new_final, df_foreign_sus_inverse.drop_duplicates('User_ID').iloc[175:])"
   ]
  },
  {
   "cell_type": "code",
   "execution_count": null,
   "id": "72825b9b-8776-491d-80b3-d387bee06690",
   "metadata": {},
   "outputs": [],
   "source": [
    "comm_for.groupby(['PR_Result', 'Country']).count()"
   ]
  },
  {
   "cell_type": "code",
   "execution_count": null,
   "id": "a3b70db9-dc4c-499d-9c41-9a5eebde033f",
   "metadata": {},
   "outputs": [],
   "source": [
    "comm_for.loc[comm_for.Group_ID == 'RG9']"
   ]
  },
  {
   "cell_type": "code",
   "execution_count": null,
   "id": "c6019d0c-665b-4df7-91e6-d2c7fd2fd196",
   "metadata": {},
   "outputs": [],
   "source": [
    "#comm_for.loc[comm_for.Group_ID == 'RG9']"
   ]
  },
  {
   "cell_type": "code",
   "execution_count": null,
   "id": "59003c12-e672-48dc-bff5-8cc6a95bce87",
   "metadata": {},
   "outputs": [],
   "source": [
    "comm_for.groupby('Group_ID').count()"
   ]
  },
  {
   "cell_type": "code",
   "execution_count": null,
   "id": "0403309f-37a0-4ddc-9187-826cd2bce2f6",
   "metadata": {},
   "outputs": [],
   "source": [
    "#comm_for.loc[comm_for.Group_ID == 'RG2']"
   ]
  },
  {
   "cell_type": "code",
   "execution_count": null,
   "id": "05a3deba-c49e-4bda-8361-bcb5ca10560b",
   "metadata": {},
   "outputs": [],
   "source": [
    "comm_for.groupby('Country').count()"
   ]
  },
  {
   "cell_type": "code",
   "execution_count": null,
   "id": "ad0396bd-ae34-40ab-9604-ddaba8f55457",
   "metadata": {},
   "outputs": [],
   "source": [
    "comm_for"
   ]
  },
  {
   "cell_type": "code",
   "execution_count": null,
   "id": "536d6280-2859-40a5-91f2-f708986651ac",
   "metadata": {},
   "outputs": [],
   "source": [
    "new_final"
   ]
  },
  {
   "cell_type": "code",
   "execution_count": null,
   "id": "1abb1484-55e5-45b7-8462-32975700f9ff",
   "metadata": {},
   "outputs": [],
   "source": [
    "df_dup_valid"
   ]
  },
  {
   "cell_type": "code",
   "execution_count": null,
   "id": "044c8f74-097e-4d87-b16f-780b6fbe9be0",
   "metadata": {},
   "outputs": [],
   "source": [
    "len(df_dup_camp.loc[df_dup_camp.User_ID.isin(new_final.User_ID)].Cluster_ID.unique())"
   ]
  },
  {
   "cell_type": "code",
   "execution_count": null,
   "id": "f7b13dd9-c533-4eca-b71f-4923e6395451",
   "metadata": {},
   "outputs": [],
   "source": [
    "comm_for.groupby(['Group_ID', 'Country']).count()"
   ]
  },
  {
   "cell_type": "markdown",
   "id": "69f2230b-2470-4d7d-86ab-2430c62daa3e",
   "metadata": {},
   "source": [
    "# Hijacked and Adopted IOS and Campaigns"
   ]
  },
  {
   "cell_type": "code",
   "execution_count": null,
   "id": "0ec4001e-27a1-4701-a24d-1228823d1d5a",
   "metadata": {},
   "outputs": [],
   "source": [
    "df_new_our = df_dup_valid.sort_values(['Cluster_ID', 'Tweet_ID'])"
   ]
  },
  {
   "cell_type": "code",
   "execution_count": null,
   "id": "285f42c8-d05b-4945-ab7d-a28f473a60a3",
   "metadata": {},
   "outputs": [],
   "source": [
    "df_new_our"
   ]
  },
  {
   "cell_type": "code",
   "execution_count": null,
   "id": "14b8164c-38fe-419b-88f3-f2e1a89bc965",
   "metadata": {},
   "outputs": [],
   "source": [
    "df_part"
   ]
  },
  {
   "cell_type": "code",
   "execution_count": null,
   "id": "ac2946f5-868c-435b-ac91-7203fdd1cd1e",
   "metadata": {},
   "outputs": [],
   "source": [
    "df_new_our = pd.merge(df_new_our, df_part)"
   ]
  },
  {
   "cell_type": "code",
   "execution_count": null,
   "id": "3a7d598a-4af5-4d19-8238-2580acfb4f9d",
   "metadata": {},
   "outputs": [],
   "source": [
    "df_new_our.loc[df_new_our.Label == 3].groupby('Cluster_ID').count()"
   ]
  },
  {
   "cell_type": "code",
   "execution_count": null,
   "id": "1c07332e-2bcd-4b64-8345-3fd3892ee319",
   "metadata": {},
   "outputs": [],
   "source": [
    "df_new_our"
   ]
  },
  {
   "cell_type": "code",
   "execution_count": null,
   "id": "0d455fac-fd98-463f-8b4e-cc1080e18a8f",
   "metadata": {},
   "outputs": [],
   "source": [
    "df_new_our.columns"
   ]
  },
  {
   "cell_type": "code",
   "execution_count": null,
   "id": "711d1345-9521-4844-b84b-a7484ef94d74",
   "metadata": {},
   "outputs": [],
   "source": [
    "\n",
    "first_of_each_cluster = df_new_our.groupby('Cluster_ID').first()\n",
    "\n",
    "# Count how many of those have Label == 3\n",
    "count_label_3 = (first_of_each_cluster['Label'] == 3).sum()\n",
    "\n",
    "print(\"Number of clusters whose first tweet has Label == 3:\", count_label_3)\n"
   ]
  },
  {
   "cell_type": "code",
   "execution_count": null,
   "id": "5b50b584-ec2b-4459-960b-58f5c2afdb46",
   "metadata": {},
   "outputs": [],
   "source": [
    "\n",
    "only_label_3_clusters = df_new_our.groupby('Cluster_ID')['Label'].apply(lambda x: (x == 3).all())\n",
    "\n",
    "count_only_label_3 = only_label_3_clusters.sum()\n",
    "\n",
    "print(\"Number of clusters that contain only Label == 3 tweets:\", count_only_label_3)\n"
   ]
  },
  {
   "cell_type": "code",
   "execution_count": null,
   "id": "0d1cfe77-105e-4f8e-b387-b3ada87b2e96",
   "metadata": {},
   "outputs": [],
   "source": [
    "df_part4 = pd.merge(df_pol_res1, df_pol_res2)\n",
    "df_part4 = pd.merge(df_part4,df_pol_res3)"
   ]
  },
  {
   "cell_type": "code",
   "execution_count": null,
   "id": "807cdd2b-d4c8-4290-b987-4965b4f4f754",
   "metadata": {},
   "outputs": [],
   "source": [
    "df_part4"
   ]
  },
  {
   "cell_type": "code",
   "execution_count": null,
   "id": "64c70173-774c-4152-9a9c-541a5a651878",
   "metadata": {},
   "outputs": [],
   "source": [
    "df_foreign = pd.read_csv('Final_Foreign.csv')"
   ]
  },
  {
   "cell_type": "code",
   "execution_count": null,
   "id": "64a9225f-9fe6-45f7-8157-5bc88bff7c51",
   "metadata": {},
   "outputs": [],
   "source": [
    "df_foreign2 = pd.merge(df_foreign, df_part4)"
   ]
  },
  {
   "cell_type": "code",
   "execution_count": null,
   "id": "c6ce1727-fcba-43ba-a6be-1e8d1cdb5d89",
   "metadata": {},
   "outputs": [],
   "source": [
    "pd.merge(df_foreign, df_part4).groupby('Label').count()"
   ]
  },
  {
   "cell_type": "code",
   "execution_count": null,
   "id": "6994e243-3135-48fc-88ba-86b51f8d24c3",
   "metadata": {},
   "outputs": [],
   "source": [
    "pd.merge(df_foreign, df_part4).groupby('PR3').count()"
   ]
  },
  {
   "cell_type": "code",
   "execution_count": null,
   "id": "ddcf3237-3cc0-4f88-a78e-8016eb5fb9ed",
   "metadata": {},
   "outputs": [],
   "source": [
    "df_foreign2.loc[df_foreign2.PR_Result == 0].groupby('Country').count()"
   ]
  },
  {
   "cell_type": "code",
   "execution_count": null,
   "id": "3478af4e-2775-4382-8ad2-e480ee849893",
   "metadata": {},
   "outputs": [],
   "source": [
    "df_foreign2.loc[df_foreign2.PR_Result == 1].groupby('Country').count()"
   ]
  },
  {
   "cell_type": "code",
   "execution_count": null,
   "id": "f2a3aaf9-8840-4c58-a0e0-e475a91aa263",
   "metadata": {},
   "outputs": [],
   "source": []
  },
  {
   "cell_type": "code",
   "execution_count": null,
   "id": "bcca1989-568c-4f7a-aef3-04c475caeee9",
   "metadata": {},
   "outputs": [],
   "source": []
  }
 ],
 "metadata": {
  "kernelspec": {
   "display_name": "Python 3 (ipykernel)",
   "language": "python",
   "name": "python3"
  },
  "language_info": {
   "codemirror_mode": {
    "name": "ipython",
    "version": 3
   },
   "file_extension": ".py",
   "mimetype": "text/x-python",
   "name": "python",
   "nbconvert_exporter": "python",
   "pygments_lexer": "ipython3",
   "version": "3.10.16"
  }
 },
 "nbformat": 4,
 "nbformat_minor": 5
}
