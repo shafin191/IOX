{
 "cells": [
  {
   "cell_type": "code",
   "execution_count": null,
   "id": "babf6ef5",
   "metadata": {},
   "outputs": [],
   "source": [
    "\n",
    "import datetime\n",
    "import pandas as pd\n",
    "import matplotlib as plt\n",
    "import numpy as np\n",
    "import os\n",
    "from bertopic.representation import KeyBERTInspired\n",
    "from bertopic import BERTopic\n",
    "from hdbscan import HDBSCAN\n",
    "import pandas as pd\n",
    "import matplotlib.pyplot as plt\n",
    "pd.set_option('display.max_colwidth', None)\n",
    "pd.set_option('display.max_columns', 10)\n",
    "pd.set_option('display.max_rows', 50)\n",
    "print(os.getcwd())"
   ]
  },
  {
   "cell_type": "code",
   "execution_count": null,
   "id": "81916df9",
   "metadata": {},
   "outputs": [],
   "source": [
    "import pickle"
   ]
  },
  {
   "cell_type": "code",
   "execution_count": null,
   "id": "c46c21c7",
   "metadata": {},
   "outputs": [],
   "source": [
    "import os\n",
    "import pandas as pd\n",
    "\n",
    "def collect_csv_files(directory):\n",
    "    csv_files = []\n",
    "    for root, dirs, files in os.walk(directory):\n",
    "        for file in files:\n",
    "            if file.endswith(\".csv\"):\n",
    "                csv_files.append(os.path.join(root, file))\n",
    "    return csv_files\n",
    "\n",
    "def combine_csv_files(csv_files):\n",
    "    combined_df = pd.DataFrame()\n",
    "    for file in csv_files:\n",
    "        try:\n",
    "            df = pd.read_csv(file)\n",
    "            combined_df = pd.concat([combined_df, df], ignore_index=True)\n",
    "        except pd.errors.EmptyDataError:\n",
    "            continue\n",
    "        except Exception as e:\n",
    "            continue\n",
    "    return combined_df\n",
    "\n",
    "directory = '/disk/mnemo/users/SBERT All Embedding/Group Tweets/'\n",
    "csv_files = collect_csv_files(directory)\n",
    "combined_df = combine_csv_files(csv_files)\n",
    "\n"
   ]
  },
  {
   "cell_type": "code",
   "execution_count": null,
   "id": "14d832ce",
   "metadata": {},
   "outputs": [],
   "source": [
    "combined_df.to_csv('All_Recent_Posts_Updated.csv', index = False)"
   ]
  },
  {
   "cell_type": "code",
   "execution_count": null,
   "id": "0825e982",
   "metadata": {},
   "outputs": [],
   "source": [
    "len(combined_df)"
   ]
  },
  {
   "cell_type": "code",
   "execution_count": null,
   "id": "fc05e215",
   "metadata": {},
   "outputs": [],
   "source": [
    "combined_df.columns"
   ]
  },
  {
   "cell_type": "code",
   "execution_count": null,
   "id": "366850b9",
   "metadata": {},
   "outputs": [],
   "source": [
    "len(combined_df.drop_duplicates('Tweet_ID'))"
   ]
  },
  {
   "cell_type": "code",
   "execution_count": null,
   "id": "973e9d2b",
   "metadata": {},
   "outputs": [],
   "source": [
    "combined_df_unique = combined_df.drop_duplicates('Tweet_ID').reset_index(drop = True)"
   ]
  },
  {
   "cell_type": "code",
   "execution_count": null,
   "id": "c2f70144",
   "metadata": {},
   "outputs": [],
   "source": [
    "filtered_df = combined_df_unique[combined_df_unique['text'].str.startswith('RT')]"
   ]
  },
  {
   "cell_type": "code",
   "execution_count": null,
   "id": "8f509949",
   "metadata": {},
   "outputs": [],
   "source": [
    "combined_df_unique_tweet = combined_df_unique[~combined_df_unique.Tweet_ID.isin(filtered_df.Tweet_ID.tolist())]"
   ]
  },
  {
   "cell_type": "code",
   "execution_count": null,
   "id": "b994ba6a",
   "metadata": {},
   "outputs": [],
   "source": [
    "len(combined_df_unique_tweet)"
   ]
  },
  {
   "cell_type": "code",
   "execution_count": null,
   "id": "e63f84da",
   "metadata": {
    "scrolled": true
   },
   "outputs": [],
   "source": [
    "combined_df_unique_tweet"
   ]
  },
  {
   "cell_type": "code",
   "execution_count": null,
   "id": "c4904973",
   "metadata": {
    "jupyter": {
     "outputs_hidden": true
    }
   },
   "outputs": [],
   "source": [
    "combined_df_unique.groupby('User_ID').count().loc[combined_df_unique.groupby('User_ID').count().Tweet_ID > 20]"
   ]
  },
  {
   "cell_type": "code",
   "execution_count": null,
   "id": "3706b69a",
   "metadata": {},
   "outputs": [],
   "source": [
    "combined_df_unique['Date'] = pd.to_datetime(combined_df_unique['created_at'], errors='coerce')\n",
    "combined_df_unique['Only_Date'] = combined_df_unique['Date'].dt.date"
   ]
  },
  {
   "cell_type": "code",
   "execution_count": null,
   "id": "edbb100f",
   "metadata": {},
   "outputs": [],
   "source": [
    "combined_df_unique_tweet"
   ]
  },
  {
   "cell_type": "code",
   "execution_count": null,
   "id": "5420d2d2",
   "metadata": {},
   "outputs": [],
   "source": [
    "combined_df_unique_tweet.to_csv('Recent_Post_from_groups_Updated.csv', index = False)"
   ]
  },
  {
   "cell_type": "code",
   "execution_count": null,
   "id": "2dcdff45",
   "metadata": {},
   "outputs": [],
   "source": [
    "df_recent_post_cluster = pd.read_csv('Recent_Post_Tweet_Cluster_Updated.csv')"
   ]
  },
  {
   "cell_type": "code",
   "execution_count": null,
   "id": "5808d2ee",
   "metadata": {},
   "outputs": [],
   "source": [
    "df_recent_post_cluster = pd.merge(combined_df_unique_tweet, df_recent_post_cluster)"
   ]
  },
  {
   "cell_type": "code",
   "execution_count": null,
   "id": "362a1f01",
   "metadata": {
    "scrolled": true
   },
   "outputs": [],
   "source": []
  },
  {
   "cell_type": "code",
   "execution_count": null,
   "id": "6d9b98c0",
   "metadata": {},
   "outputs": [],
   "source": [
    "df_remove_spam = df_recent_post_cluster.drop_duplicates(['User_ID', 'Cluster_ID']).groupby('Cluster_ID').count().reset_index()"
   ]
  },
  {
   "cell_type": "code",
   "execution_count": null,
   "id": "c1ba32b7",
   "metadata": {},
   "outputs": [],
   "source": [
    "df_final_cluster_new = df_recent_post_cluster[df_recent_post_cluster.Cluster_ID.isin(df_remove_spam[df_remove_spam.Tweet_ID >= 2].Cluster_ID.tolist())].reset_index(drop = True)"
   ]
  },
  {
   "cell_type": "code",
   "execution_count": null,
   "id": "698dcb66",
   "metadata": {
    "jupyter": {
     "outputs_hidden": true
    }
   },
   "outputs": [],
   "source": [
    "df_final_cluster_new.groupby('Cluster_ID').count()"
   ]
  },
  {
   "cell_type": "code",
   "execution_count": null,
   "id": "aefa7dd3",
   "metadata": {},
   "outputs": [],
   "source": [
    "df_final_cluster_new['Cluster_ID'] = 'New_Wild_' + df_final_cluster_new['Cluster_ID'].astype('str')"
   ]
  },
  {
   "cell_type": "code",
   "execution_count": null,
   "id": "9232a810",
   "metadata": {},
   "outputs": [],
   "source": [
    "df_final_cluster_new.to_csv('Recent_Post_Cluster_Final_Updated_2.csv', index = False)"
   ]
  },
  {
   "cell_type": "code",
   "execution_count": null,
   "id": "01930014",
   "metadata": {},
   "outputs": [],
   "source": [
    "df_group = pd.read_csv('Refined_Community_with_Political_Label.csv')"
   ]
  },
  {
   "cell_type": "code",
   "execution_count": null,
   "id": "0571f656",
   "metadata": {},
   "outputs": [],
   "source": []
  },
  {
   "cell_type": "code",
   "execution_count": null,
   "id": "e64d2434",
   "metadata": {},
   "outputs": [],
   "source": [
    "df_final_cluster_new = pd.merge(df_final_cluster_new, df_group, on = 'User_ID')"
   ]
  },
  {
   "cell_type": "code",
   "execution_count": null,
   "id": "4d4e1346",
   "metadata": {},
   "outputs": [],
   "source": [
    "df_final_cluster_new.columns"
   ]
  },
  {
   "cell_type": "code",
   "execution_count": null,
   "id": "84f4bd91",
   "metadata": {
    "jupyter": {
     "outputs_hidden": true
    }
   },
   "outputs": [],
   "source": [
    "df_final_cluster_new.groupby('Cluster_ID').count()"
   ]
  },
  {
   "cell_type": "code",
   "execution_count": null,
   "id": "50cd0aa5",
   "metadata": {},
   "outputs": [],
   "source": [
    "df_final_cluster_new = df_final_cluster_new[~df_final_cluster_new.Cluster_ID.isin(['New_Wild_12', 'New_Wild_0'])]"
   ]
  },
  {
   "cell_type": "code",
   "execution_count": null,
   "id": "b8091933",
   "metadata": {},
   "outputs": [],
   "source": [
    "df_final_cluster_new.to_csv('Recent_Post_Cluster_Final2_Updated.csv', index = False)"
   ]
  },
  {
   "cell_type": "code",
   "execution_count": null,
   "id": "01adfd5d",
   "metadata": {
    "jupyter": {
     "outputs_hidden": true
    }
   },
   "outputs": [],
   "source": [
    "df_final_cluster_new.groupby('Cluster_ID').count().sort_values('User_ID')"
   ]
  },
  {
   "cell_type": "code",
   "execution_count": null,
   "id": "aa1da351",
   "metadata": {},
   "outputs": [],
   "source": [
    "bjp_group = [0,8,1,6,15,13,5,14,4]\n",
    "inc_group = [17,18,19,42,29]\n",
    "top_group = bjp_group + inc_group"
   ]
  },
  {
   "cell_type": "code",
   "execution_count": null,
   "id": "4f4c5f73",
   "metadata": {},
   "outputs": [],
   "source": [
    "df_final_cluster_new2 = df_final_cluster_new[df_final_cluster_new.Community_ID.isin(top_group)]"
   ]
  },
  {
   "cell_type": "code",
   "execution_count": null,
   "id": "e0eb5c59",
   "metadata": {},
   "outputs": [],
   "source": [
    "df_count_cluster = df_final_cluster_new2.groupby('Cluster_ID').count().reset_index()\n",
    "df_count_cluster = df_count_cluster[['Cluster_ID', 'Tweet_ID']].rename(columns = {'Tweet_ID': 'Total_Post'})"
   ]
  },
  {
   "cell_type": "code",
   "execution_count": null,
   "id": "f88a73b9",
   "metadata": {},
   "outputs": [],
   "source": [
    "df_count_cluster"
   ]
  },
  {
   "cell_type": "code",
   "execution_count": null,
   "id": "d1f9296c",
   "metadata": {},
   "outputs": [],
   "source": [
    "cluster_user_count = df_final_cluster_new2.groupby(['Cluster_ID', 'Community_ID'])['User_ID'].nunique().reset_index(name='Cluster_User_Count')\n",
    "total_users_per_cluster = df_final_cluster_new2.groupby('Cluster_ID')['User_ID'].nunique().reset_index(name='Total_Users')\n",
    "merged_cluster_data = pd.merge(cluster_user_count, total_users_per_cluster, on='Cluster_ID')\n",
    "merged_cluster_data['Percentage'] = (merged_cluster_data['Cluster_User_Count']/merged_cluster_data['Total_Users']) * 100\n",
    "merge_controlled = merged_cluster_data.loc[merged_cluster_data.Percentage>50]"
   ]
  },
  {
   "cell_type": "code",
   "execution_count": null,
   "id": "06f501f0",
   "metadata": {},
   "outputs": [],
   "source": [
    "len(merge_controlled[merge_controlled.Community_ID.isin(bjp_group)])"
   ]
  },
  {
   "cell_type": "code",
   "execution_count": null,
   "id": "8c90c43a",
   "metadata": {},
   "outputs": [],
   "source": [
    "len(merge_controlled[merge_controlled.Community_ID.isin(inc_group)])"
   ]
  },
  {
   "cell_type": "code",
   "execution_count": null,
   "id": "b8817360",
   "metadata": {},
   "outputs": [],
   "source": [
    "from bertopic.representation import KeyBERTInspired\n",
    "from bertopic import BERTopic\n",
    "from hdbscan import HDBSCAN"
   ]
  },
  {
   "cell_type": "code",
   "execution_count": null,
   "id": "e5b2910f",
   "metadata": {},
   "outputs": [],
   "source": [
    "df_cluster_controlled = df_final_cluster_new2[df_final_cluster_new2.Cluster_ID.isin(merge_controlled.Cluster_ID)]"
   ]
  },
  {
   "cell_type": "code",
   "execution_count": null,
   "id": "3805793b",
   "metadata": {},
   "outputs": [],
   "source": [
    "df_cluster_controlled_topic = df_final_cluster_new2[df_final_cluster_new2.Cluster_ID.isin(merge_controlled.Cluster_ID)].drop_duplicates(\"Cluster_ID\")"
   ]
  },
  {
   "cell_type": "code",
   "execution_count": null,
   "id": "448f55a0",
   "metadata": {},
   "outputs": [],
   "source": [
    "import re\n",
    "def remove_twitter_mentions(text):\n",
    "    \"\"\"Removes Twitter mentions from a string.\"\"\"\n",
    "    return re.sub(r'@\\w+', '', text)\n",
    "\n",
    "def remove_links(text):\n",
    "    return re.sub(r'http\\S+', '', text)\n",
    "\n",
    "\n",
    "df_cluster_controlled_topic['Refined_Text'] = df_cluster_controlled_topic['text'].apply(remove_twitter_mentions)\n",
    "df_cluster_controlled_topic['Refined_Text'] = df_cluster_controlled_topic['Refined_Text'].apply(remove_links)\n",
    "df_cluster_controlled_topic['Refined_Text'] = df_cluster_controlled_topic['Refined_Text'].str.replace('\\n', ' ')\n",
    "df_cluster_controlled_topic['Refined_Text'] = df_cluster_controlled_topic['Refined_Text'].str.strip()"
   ]
  },
  {
   "cell_type": "code",
   "execution_count": null,
   "id": "c889c44d",
   "metadata": {},
   "outputs": [],
   "source": [
    "from bertopic.representation import KeyBERTInspired\n",
    "from bertopic.representation import PartOfSpeech\n",
    "from bertopic.representation import MaximalMarginalRelevance\n",
    "from sklearn.datasets import fetch_20newsgroups\n",
    "from bertopic.representation import ZeroShotClassification\n",
    "\n",
    "\n",
    "main_representation = KeyBERTInspired()\n",
    "hdbscan_model = HDBSCAN(min_cluster_size=2, metric='euclidean', \n",
    "                        cluster_selection_method='eom', prediction_data=True, min_samples=2)\n",
    "\n",
    "\n",
    "aspect_model1 = PartOfSpeech(\"en_core_web_sm\")\n",
    "aspect_model2 = [KeyBERTInspired(top_n_words=30), MaximalMarginalRelevance(diversity=.5)]\n",
    "\n",
    "representation_model = {\n",
    "   \"Main\": main_representation,\n",
    "   \"Aspect1\":  aspect_model1,\n",
    "   \"Aspect2\":  aspect_model2 \n",
    "}\n"
   ]
  },
  {
   "cell_type": "code",
   "execution_count": null,
   "id": "e1cc76f9",
   "metadata": {},
   "outputs": [],
   "source": [
    "doc_all = df_cluster_controlled_topic.Refined_Text.tolist()"
   ]
  },
  {
   "cell_type": "code",
   "execution_count": null,
   "id": "91923548",
   "metadata": {},
   "outputs": [],
   "source": [
    "topic_model_all = BERTopic(representation_model=representation_model, language=\"multilingual\", hdbscan_model=hdbscan_model)\n",
    "topics_found, probs_found = topic_model_all.fit_transform(doc_all)"
   ]
  },
  {
   "cell_type": "code",
   "execution_count": null,
   "id": "e8a52f68",
   "metadata": {},
   "outputs": [],
   "source": [
    "topic_model_all.save(\"/disk/mnemo/users/SBERT All Embedding/Group_Topic/New_Tweet_All_Topic_Updated\", serialization=\"pickle\")"
   ]
  },
  {
   "cell_type": "code",
   "execution_count": null,
   "id": "ce16e713",
   "metadata": {},
   "outputs": [],
   "source": [
    "new_topics = topic_model_all.reduce_outliers(doc_all, topics_found)"
   ]
  },
  {
   "cell_type": "code",
   "execution_count": null,
   "id": "4e980baa",
   "metadata": {},
   "outputs": [],
   "source": [
    "df_cluster_controlled_topic['Actual_Topic'] = topics_found\n",
    "df_cluster_controlled_topic['Reduced_Topic'] = new_topics"
   ]
  },
  {
   "cell_type": "code",
   "execution_count": null,
   "id": "0a5723ab",
   "metadata": {},
   "outputs": [],
   "source": [
    "df_cluster_controlled_topic.to_csv('New_Post_with_Updated_Topics_Updated.csv', index = False)"
   ]
  },
  {
   "cell_type": "code",
   "execution_count": null,
   "id": "61189551",
   "metadata": {
    "jupyter": {
     "outputs_hidden": true
    }
   },
   "outputs": [],
   "source": [
    "topic_model_all.get_topic_info()"
   ]
  },
  {
   "cell_type": "code",
   "execution_count": null,
   "id": "f60b31c0",
   "metadata": {},
   "outputs": [],
   "source": [
    "bjp_group = [0,8,1,6,15,13,5,14,4]\n",
    "inc_group = [17,18,19,42,29]\n",
    "top_group = bjp_group + inc_group"
   ]
  },
  {
   "cell_type": "code",
   "execution_count": null,
   "id": "743be54d",
   "metadata": {},
   "outputs": [],
   "source": [
    "df_group_top = df_group[df_group.Community_ID.isin(top_group)]"
   ]
  },
  {
   "cell_type": "code",
   "execution_count": null,
   "id": "4b920ea1",
   "metadata": {},
   "outputs": [],
   "source": []
  },
  {
   "cell_type": "code",
   "execution_count": null,
   "id": "6fb631b7",
   "metadata": {},
   "outputs": [],
   "source": [
    "df_cluster_controlled_topic = df_cluster_controlled_topic[df_cluster_controlled_topic.User_ID.isin(df_group_top.User_ID)]"
   ]
  },
  {
   "cell_type": "code",
   "execution_count": null,
   "id": "bbe183cd",
   "metadata": {
    "jupyter": {
     "outputs_hidden": true
    }
   },
   "outputs": [],
   "source": [
    "df_cluster_controlled_topic.groupby('Reduced_Topic').count()"
   ]
  },
  {
   "cell_type": "code",
   "execution_count": null,
   "id": "54c9c034",
   "metadata": {},
   "outputs": [],
   "source": [
    "df_topic_top = df_cluster_controlled_topic"
   ]
  },
  {
   "cell_type": "code",
   "execution_count": null,
   "id": "4636c78a",
   "metadata": {},
   "outputs": [],
   "source": [
    "df_topic_top_count = df_topic_top.groupby(['Reduced_Topic', 'Community_ID']).count()\n",
    "df_topic_top_count2 = df_topic_top_count.reset_index()"
   ]
  },
  {
   "cell_type": "code",
   "execution_count": null,
   "id": "631110c9",
   "metadata": {},
   "outputs": [],
   "source": [
    "topic_group = {}\n",
    "for i in range(0, 379):\n",
    "    topic_group[i] = df_topic_top_count2.loc[df_topic_top_count2.Reduced_Topic == i].Community_ID.tolist()"
   ]
  },
  {
   "cell_type": "code",
   "execution_count": null,
   "id": "c132bb47",
   "metadata": {},
   "outputs": [],
   "source": [
    "bjp_control = 0\n",
    "inc_control = 0\n",
    "for i, j in topic_group.items():\n",
    "    len_item = len(j)\n",
    "    len_intersect_bjp = len(set(j).intersection(bjp_group))\n",
    "    len_intersect_inc = len(set(j).intersection(inc_group))\n",
    "    if len_item == len_intersect_bjp:\n",
    "        bjp_control += 1\n",
    "    if len_item == len_intersect_inc:\n",
    "        inc_control += 1"
   ]
  },
  {
   "cell_type": "code",
   "execution_count": null,
   "id": "790e33d5",
   "metadata": {},
   "outputs": [],
   "source": [
    "bjp_control"
   ]
  },
  {
   "cell_type": "code",
   "execution_count": null,
   "id": "efd355e0",
   "metadata": {},
   "outputs": [],
   "source": [
    "inc_control"
   ]
  },
  {
   "cell_type": "code",
   "execution_count": null,
   "id": "81e40f93",
   "metadata": {},
   "outputs": [],
   "source": [
    "dict_group = {}\n",
    "for key,values in topic_group.items():\n",
    "    for i in values:\n",
    "        if i not in dict_group.keys():\n",
    "            dict_group[i] = 1\n",
    "        else:\n",
    "            dict_group[i] = dict_group[i] + 1"
   ]
  },
  {
   "cell_type": "code",
   "execution_count": null,
   "id": "6995227a",
   "metadata": {},
   "outputs": [],
   "source": [
    "sum(dict_group.values())"
   ]
  },
  {
   "cell_type": "code",
   "execution_count": null,
   "id": "a7de5b7e",
   "metadata": {
    "jupyter": {
     "outputs_hidden": true
    }
   },
   "outputs": [],
   "source": [
    "dict_group"
   ]
  },
  {
   "cell_type": "code",
   "execution_count": null,
   "id": "36fd6f75",
   "metadata": {
    "jupyter": {
     "outputs_hidden": true
    }
   },
   "outputs": [],
   "source": [
    "dict_group"
   ]
  },
  {
   "cell_type": "code",
   "execution_count": null,
   "id": "0e86c872",
   "metadata": {},
   "outputs": [],
   "source": [
    "df_cluster_controlled_topic.columns"
   ]
  },
  {
   "cell_type": "code",
   "execution_count": null,
   "id": "a8b21738",
   "metadata": {},
   "outputs": [],
   "source": [
    "df_cluster_controlled_topic['Tweet_Link'] = 'https://twitter.com/i/status/' + df_cluster_controlled_topic['Tweet_ID'].astype('str')"
   ]
  },
  {
   "cell_type": "code",
   "execution_count": null,
   "id": "0e85e3c8",
   "metadata": {
    "scrolled": true
   },
   "outputs": [],
   "source": [
    "df_cluster_controlled_topic.sample(20)[['Tweet_ID', 'Cluster_ID', 'text', 'Party_Label3', 'Reduced_Topic', 'Tweet_Link']]"
   ]
  },
  {
   "cell_type": "code",
   "execution_count": null,
   "id": "1350e256",
   "metadata": {
    "jupyter": {
     "outputs_hidden": true
    }
   },
   "outputs": [],
   "source": [
    "df_cluster_controlled_topic"
   ]
  },
  {
   "cell_type": "code",
   "execution_count": null,
   "id": "d097eac3",
   "metadata": {},
   "outputs": [],
   "source": [
    "df_cluster_controlled_topic.to_csv('Updated_Text_Translation.csv', index = False)"
   ]
  },
  {
   "cell_type": "code",
   "execution_count": null,
   "id": "366f8ad6",
   "metadata": {},
   "outputs": [],
   "source": [
    "df_final_cluster_new.drop_duplicates('Cluster_ID').to_csv('Updated_Text_Translation_new_Camp.csv', index = False)"
   ]
  },
  {
   "cell_type": "code",
   "execution_count": null,
   "id": "2073071c",
   "metadata": {},
   "outputs": [],
   "source": [
    "df_final_cluster_new[df_final_cluster_new.Cluster_ID == 'New_Wild_4659'][['Tweet_ID', 'text']]"
   ]
  },
  {
   "cell_type": "code",
   "execution_count": null,
   "id": "f0ac8d4d",
   "metadata": {},
   "outputs": [],
   "source": [
    "cl_mis = ['New_Wild_4366', 'New_Wild_6023', 'New_Wild_277', 'New_Wild_4659', \n",
    "'New_Wild_2255', 'New_Wild_3401', 'New_Wild_626', 'New_Wild_3105', 'New_Wild_5051', \n",
    "'New_Wild_3430' , 'New_Wild_2868', 'New_Wild_2214',\n",
    "'New_Wild_5567', 'New_Wild_2984', 'New_Wild_237', 'New_Wild_487', \n",
    "         'New_Wild_684', 'New_Wild_2525', 'New_Wild_4547', 'New_Wild_4026', 'New_Wild_3223',\n",
    "          'New_Wild_4762', 'New_Wild_4849', 'New_Wild_5440', 'New_Wild_5836',\n",
    "          'New_Wild_6170']\n",
    "\n",
    "sus_mis = ['New_Wild_1077', 'New_Wild_2109', 'New_Wild_2286', 'New_Wild_3773', 'New_Wild_3155', 'New_Wild_3190',\n",
    "          'New_Wild_3320', ]"
   ]
  },
  {
   "cell_type": "code",
   "execution_count": null,
   "id": "b121da04",
   "metadata": {},
   "outputs": [],
   "source": [
    "len(cl_mis)"
   ]
  },
  {
   "cell_type": "code",
   "execution_count": null,
   "id": "65898c25",
   "metadata": {},
   "outputs": [],
   "source": [
    "df_final_cluster_new[df_final_cluster_new.Cluster_ID.isin(cl_mis)].retweet_count.sum() + df_final_cluster_new[df_final_cluster_new.Cluster_ID.isin(cl_mis)].favorite_count.sum()"
   ]
  },
  {
   "cell_type": "code",
   "execution_count": null,
   "id": "1f43731e",
   "metadata": {},
   "outputs": [],
   "source": [
    "df_final_cluster_new[df_final_cluster_new.Cluster_ID.isin(cl_mis)].View_Count.sum()"
   ]
  },
  {
   "cell_type": "code",
   "execution_count": null,
   "id": "3c15cf04",
   "metadata": {},
   "outputs": [],
   "source": [
    "df_final_cluster_new['Total_Engagement'] = df_final_cluster_new.retweet_count + df_final_cluster_new.favorite_count"
   ]
  },
  {
   "cell_type": "code",
   "execution_count": null,
   "id": "7ebee998",
   "metadata": {},
   "outputs": [],
   "source": [
    "\n",
    "df_final_cluster_new[df_final_cluster_new.Cluster_ID == 'New_Wild_3430'][['Tweet_ID', 'text']]"
   ]
  },
  {
   "cell_type": "code",
   "execution_count": null,
   "id": "89c3f7c4",
   "metadata": {},
   "outputs": [],
   "source": [
    "df_final_cluster_new[df_final_cluster_new.Cluster_ID == 'New_Wild_2984'][['Tweet_ID', 'text']]"
   ]
  },
  {
   "cell_type": "code",
   "execution_count": null,
   "id": "4f05a9c1",
   "metadata": {},
   "outputs": [],
   "source": [
    "df_final_cluster_new[df_final_cluster_new.Cluster_ID == 'New_Wild_2868'].Total_Engagement.sum()"
   ]
  },
  {
   "cell_type": "code",
   "execution_count": null,
   "id": "6dc5b553",
   "metadata": {},
   "outputs": [],
   "source": [
    "df_final_cluster_new[df_final_cluster_new.Cluster_ID.isin(cl_mis)]"
   ]
  },
  {
   "cell_type": "code",
   "execution_count": null,
   "id": "ecb0045e",
   "metadata": {},
   "outputs": [],
   "source": [
    "combined_df_unique_tweet"
   ]
  },
  {
   "cell_type": "code",
   "execution_count": null,
   "id": "2bc6d48c",
   "metadata": {
    "jupyter": {
     "outputs_hidden": true
    }
   },
   "outputs": [],
   "source": [
    "df_group[df_group.Community_ID.isin(top_group)]"
   ]
  },
  {
   "cell_type": "code",
   "execution_count": null,
   "id": "59317f72",
   "metadata": {},
   "outputs": [],
   "source": [
    "pd.merge(combined_df_unique_tweet, df_group[df_group.Community_ID.isin(top_group)], on = 'User_ID')"
   ]
  },
  {
   "cell_type": "code",
   "execution_count": null,
   "id": "e104498d",
   "metadata": {},
   "outputs": [],
   "source": [
    "combined_df_unique_tweet.columns"
   ]
  },
  {
   "cell_type": "code",
   "execution_count": null,
   "id": "49ebb9a3",
   "metadata": {},
   "outputs": [],
   "source": [
    "combined_df_unique_tweet.created_at"
   ]
  },
  {
   "cell_type": "code",
   "execution_count": null,
   "id": "4b8ea029",
   "metadata": {
    "jupyter": {
     "outputs_hidden": true
    }
   },
   "outputs": [],
   "source": [
    "import pandas as pd\n",
    "\n",
    "\n",
    "combined_df_unique_tweet['date'] = pd.to_datetime(combined_df_unique_tweet['created_at']).dt.date\n",
    "\n"
   ]
  },
  {
   "cell_type": "code",
   "execution_count": null,
   "id": "b8a00ea3",
   "metadata": {},
   "outputs": [],
   "source": [
    "df_date_count = combined_df_unique_tweet.groupby('date').count().reset_index()"
   ]
  },
  {
   "cell_type": "code",
   "execution_count": null,
   "id": "140dc9f2",
   "metadata": {},
   "outputs": [],
   "source": [
    "df_date_count_2024 = df_date_count.iloc[987:].reset_index(drop = True)"
   ]
  },
  {
   "cell_type": "code",
   "execution_count": null,
   "id": "44cf1a15",
   "metadata": {},
   "outputs": [],
   "source": [
    "df_date_count.columns"
   ]
  },
  {
   "cell_type": "code",
   "execution_count": null,
   "id": "28792ce4",
   "metadata": {},
   "outputs": [],
   "source": [
    "plt.figure(figsize=(10, 5))\n",
    "plt.plot(df_date_count_2024['date'], df_date_count_2024['Tweet_ID'])\n",
    "plt.xlabel('Date')\n",
    "plt.ylabel('Number of Posts')\n",
    "plt.title('Number of Posts Over Time')\n",
    "plt.grid(True)\n",
    "plt.show()"
   ]
  },
  {
   "cell_type": "code",
   "execution_count": null,
   "id": "ffbc4f2c",
   "metadata": {},
   "outputs": [],
   "source": [
    "combined_df_unique.columns"
   ]
  },
  {
   "cell_type": "code",
   "execution_count": null,
   "id": "7ffc0fee",
   "metadata": {},
   "outputs": [],
   "source": [
    "df_view_predict_data = combined_df_unique_tweet[['Tweet_ID','favorite_count', 'retweet_count', 'View_Count']].dropna()"
   ]
  },
  {
   "cell_type": "code",
   "execution_count": null,
   "id": "c40cd3ff",
   "metadata": {},
   "outputs": [],
   "source": [
    "df_view_predict_data"
   ]
  },
  {
   "cell_type": "code",
   "execution_count": null,
   "id": "c4465819",
   "metadata": {},
   "outputs": [],
   "source": [
    "df_view_predict_data.loc[df_view_predict_data.retweet_count > df_view_predict_data.View_Count ]"
   ]
  },
  {
   "cell_type": "code",
   "execution_count": null,
   "id": "75cd7747",
   "metadata": {},
   "outputs": [],
   "source": [
    "import matplotlib\n",
    "plt.figure(figsize=(10, 5))\n",
    "matplotlib.pyplot.scatter(df_view_predict_data['favorite_count'] + df_view_predict_data['retweet_count'], \n",
    "                          df_view_predict_data['View_Count'])\n",
    "plt.xlabel('Like')\n",
    "plt.ylabel('View')\n",
    "plt.grid(True)\n",
    "plt.show()"
   ]
  },
  {
   "cell_type": "code",
   "execution_count": null,
   "id": "c116ecf4",
   "metadata": {},
   "outputs": [],
   "source": [
    "combined_df_unique_tweet.reset_index(drop = True).to_csv('All_Recent_Tweet_New.csv', index = False)"
   ]
  },
  {
   "cell_type": "code",
   "execution_count": null,
   "id": "19228829",
   "metadata": {},
   "outputs": [],
   "source": []
  }
 ],
 "metadata": {
  "kernelspec": {
   "display_name": "Python 3 (ipykernel)",
   "language": "python",
   "name": "python3"
  },
  "language_info": {
   "codemirror_mode": {
    "name": "ipython",
    "version": 3
   },
   "file_extension": ".py",
   "mimetype": "text/x-python",
   "name": "python",
   "nbconvert_exporter": "python",
   "pygments_lexer": "ipython3",
   "version": "3.9.13"
  }
 },
 "nbformat": 4,
 "nbformat_minor": 5
}
                                                                                                                                                                                                                                                                                                                                                                                                                                                                                                                                                                                                                                                                                                                                                                                                                                                                                                                                                                                                                                                                                                                                                                                                                                                                                                                                                                                                                                                                                                                                                                                                                                                                                                                                                                                                                                                                                                                                                                                                                                                                                                                                                                                                                                                                                                                                                                                                                                                                                                                                                                                                                                                                                                                                                                                                                                                                                                                                                                                                                                                                                                                                                                                                                                                                                                                                                                                                                                                                                                                                                                                                                                                                                                                                                                                                                                                                                                                                                                                                                                                                                                                                                                                                                            