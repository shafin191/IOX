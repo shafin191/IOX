{
 "cells": [
  {
   "cell_type": "code",
   "execution_count": null,
   "id": "b0ed564e-9def-4584-a02d-aa2c69a0978e",
   "metadata": {},
   "outputs": [],
   "source": [
    "import pickle\n",
    "import pandas as pd\n",
    "import os\n",
    "import networkx as nx\n",
    "from networkx.algorithms.community import greedy_modularity_communities\n",
    "import community\n",
    "from collections import Counter\n",
    "import networkx as nx\n",
    "import community \n",
    "from collections import Counter\n",
    "import pandas as pd\n",
    "import pickle"
   ]
  },
  {
   "cell_type": "code",
   "execution_count": null,
   "id": "dcd9f815-ae9b-49ee-8618-7adbdd15e6c0",
   "metadata": {},
   "outputs": [],
   "source": [
    "data_path = ''"
   ]
  },
  {
   "cell_type": "markdown",
   "id": "7884ed85-2b3c-4330-b54d-f53c9bf668e5",
   "metadata": {},
   "source": [
    "# Text"
   ]
  },
  {
   "cell_type": "code",
   "execution_count": null,
   "id": "26bbaa4e-1e43-49f5-8013-06cc3842ad75",
   "metadata": {},
   "outputs": [],
   "source": [
    "df_text_faiss = pd.read_pickle('')"
   ]
  },
  {
   "cell_type": "code",
   "execution_count": null,
   "id": "3f520861-baa7-4b9a-9d28-fc029e8f00ae",
   "metadata": {},
   "outputs": [],
   "source": [
    "df_text_faiss.sample()"
   ]
  },
  {
   "cell_type": "code",
   "execution_count": null,
   "id": "be6e1574-e97a-434d-a9a3-5bb0496a957e",
   "metadata": {},
   "outputs": [],
   "source": [
    "df_text_index = pd.read_csv('')"
   ]
  },
  {
   "cell_type": "code",
   "execution_count": null,
   "id": "6874edc7-0d1f-4695-8e96-d4d9c8987bfc",
   "metadata": {},
   "outputs": [],
   "source": [
    "df_valid = pd.read_csv('')"
   ]
  },
  {
   "cell_type": "code",
   "execution_count": null,
   "id": "14518ab6-5e36-4c1e-884e-540b94332398",
   "metadata": {},
   "outputs": [],
   "source": [
    "df_result_small_4word = df_valid"
   ]
  },
  {
   "cell_type": "code",
   "execution_count": null,
   "id": "37beb057-ca12-4d32-8bfe-90ab4507e2f1",
   "metadata": {},
   "outputs": [],
   "source": [
    "df_text_index_valid = df_text_index.loc[df_text_index.Tweet_ID.isin(df_valid.Tweet_ID)]"
   ]
  },
  {
   "cell_type": "code",
   "execution_count": null,
   "id": "a14ffaa6-a843-4b3e-822b-9ba0a3667468",
   "metadata": {},
   "outputs": [],
   "source": [
    "df_text_faiss_valid = df_text_faiss.loc[((df_text_faiss.source.isin(df_text_index_valid.Text_Index)) & (df_text_faiss.neighbor.isin(df_text_index_valid.Text_Index)))]"
   ]
  },
  {
   "cell_type": "code",
   "execution_count": null,
   "id": "ceea8532-fb42-4306-9455-c9a03b43d25e",
   "metadata": {},
   "outputs": [],
   "source": [
    "df_tweet_text_final = df_text_faiss_valid.reset_index(drop = True)"
   ]
  },
  {
   "cell_type": "code",
   "execution_count": null,
   "id": "6d466677-d8ee-4c91-bde1-e3e4d3a0b9dd",
   "metadata": {},
   "outputs": [],
   "source": [
    "\n",
    "df_merged_text = df_tweet_text_final.merge(df_text_index[['Text_Index', 'Tweet_ID', 'User_ID']], left_on=\"source\", right_on=\"Text_Index\", how=\"left\")\n",
    "df_merged_text.rename(columns={\"Tweet_ID\": \"Source_Tweet_ID\", \"User_ID\": \"Source_User_ID\"}, inplace=True)\n",
    "df_merged_text.drop(columns=[\"Text_Index\"], inplace=True)  \n",
    "\n",
    "\n",
    "df_merged_text = df_merged_text.merge(df_text_index[['Text_Index', 'Tweet_ID', 'User_ID']], left_on=\"neighbor\", right_on=\"Text_Index\", how=\"left\")\n",
    "df_merged_text.rename(columns={\"Tweet_ID\": \"Target_Tweet_ID\", \"User_ID\": \"Target_User_ID\"}, inplace=True)\n",
    "df_merged_text.drop(columns=[\"Text_Index\"], inplace=True)  \n",
    "\n"
   ]
  },
  {
   "cell_type": "code",
   "execution_count": null,
   "id": "f36aea2b-a23b-495b-a19b-328267b98396",
   "metadata": {},
   "outputs": [],
   "source": [
    "df_merged_text"
   ]
  },
  {
   "cell_type": "code",
   "execution_count": null,
   "id": "2b71423a-efac-4627-a07c-faa63a8772bd",
   "metadata": {},
   "outputs": [],
   "source": [
    "df_merged_text = df_merged_text.rename(columns = {'source': 'Source_Text_Index', 'neighbor': 'Target_Text_Index', 'distance': 'Cosine_Similarity'})"
   ]
  },
  {
   "cell_type": "code",
   "execution_count": null,
   "id": "f35c6cee-bc1e-4d75-af64-88f1bd79a894",
   "metadata": {},
   "outputs": [],
   "source": []
  },
  {
   "cell_type": "code",
   "execution_count": null,
   "id": "b8f93807-a898-44ce-acd8-d9f167d8d5f4",
   "metadata": {},
   "outputs": [],
   "source": [
    "df_merged_text[['Source_Tweet_ID', 'Source_User_ID', 'Target_Tweet_ID', 'Target_User_ID']] = df_merged_text[['Source_Tweet_ID', 'Source_User_ID', 'Target_Tweet_ID', 'Target_User_ID']].astype(int)"
   ]
  },
  {
   "cell_type": "code",
   "execution_count": null,
   "id": "56a11043-f8ca-4fce-98d9-104abe51af97",
   "metadata": {},
   "outputs": [],
   "source": [
    "\n",
    "df_sorted_text = df_merged_text.copy()\n",
    "mask_text = df_sorted_text[\"Source_Tweet_ID\"] > df_sorted_text[\"Target_Tweet_ID\"]\n",
    "\n",
    "df_sorted_text.loc[mask_text, [\"Source_Text_Index\", \"Target_Text_Index\"]] = df_sorted_text.loc[mask_text, [\"Target_Text_Index\", \"Source_Text_Index\"]].values\n",
    "df_sorted_text.loc[mask_text, [\"Source_Tweet_ID\", \"Target_Tweet_ID\"]] = df_sorted_text.loc[mask_text, [\"Target_Tweet_ID\", \"Source_Tweet_ID\"]].values\n",
    "df_sorted_text.loc[mask_text, [\"Source_User_ID\", \"Target_User_ID\"]] = df_sorted_text.loc[mask_text, [\"Target_User_ID\", \"Source_User_ID\"]].values\n"
   ]
  },
  {
   "cell_type": "markdown",
   "id": "51327f24-01ba-47bf-842a-5b7a87fdc3f5",
   "metadata": {},
   "source": [
    "# Image"
   ]
  },
  {
   "cell_type": "code",
   "execution_count": null,
   "id": "885f77d2-9ae1-422d-a9eb-2da6352646e4",
   "metadata": {},
   "outputs": [],
   "source": [
    "df_tweet_image = pd.read_pickle(data_path + 'PolitiX_Image_Similarity_Result_0.95_Final.pkl')"
   ]
  },
  {
   "cell_type": "code",
   "execution_count": null,
   "id": "fc5090e2-4fc1-4986-9801-7d7532ea8ab4",
   "metadata": {},
   "outputs": [],
   "source": [
    "df_image_99 = df_tweet_image.loc[df_tweet_image.distance >= 0.99].reset_index(drop = True)"
   ]
  },
  {
   "cell_type": "code",
   "execution_count": null,
   "id": "0cfd5fce-991f-4141-bdf0-39bc53d5014e",
   "metadata": {},
   "outputs": [],
   "source": [
    "df_image_index = pd.read_csv('/a/bear.cs.xxx.edu./disk/bear-b/users/xxww/PolitiX/Dataset/Politix_Image_Index_Tweet_ID_User_ID_Mapping_final.csv')"
   ]
  },
  {
   "cell_type": "code",
   "execution_count": null,
   "id": "464c69e8-c2b7-4a47-bdf7-69d2572031ff",
   "metadata": {},
   "outputs": [],
   "source": [
    "df_image_index['Tweet_ID'] = df_image_index.Tweet_ID.str.split('_').str[0]\n"
   ]
  },
  {
   "cell_type": "code",
   "execution_count": null,
   "id": "46d20fe4-24ca-4e22-9872-eb17002e0e46",
   "metadata": {},
   "outputs": [],
   "source": [
    "\n",
    "df_merged_image = df_image_99.merge(df_image_index[['Text_Index', 'Tweet_ID', 'User_ID']], left_on=\"source\", right_on=\"Text_Index\", how=\"left\")\n",
    "df_merged_image.rename(columns={\"Tweet_ID\": \"Source_Tweet_ID\", \"User_ID\": \"Source_User_ID\"}, inplace=True)\n",
    "df_merged_image.drop(columns=[\"Text_Index\"], inplace=True) \n",
    "\n",
    "df_merged_image = df_merged_image.merge(df_image_index[['Text_Index', 'Tweet_ID', 'User_ID']], left_on=\"neighbor\", right_on=\"Text_Index\", how=\"left\")\n",
    "df_merged_image.rename(columns={\"Tweet_ID\": \"Target_Tweet_ID\", \"User_ID\": \"Target_User_ID\"}, inplace=True)\n",
    "df_merged_image.drop(columns=[\"Text_Index\"], inplace=True) \n"
   ]
  },
  {
   "cell_type": "code",
   "execution_count": null,
   "id": "846b9759-2027-4ac2-9b2f-1c3d7b1bcc00",
   "metadata": {},
   "outputs": [],
   "source": [
    "df_merged_image = df_merged_image.rename(columns = {'source': 'Source_Text_Index', 'neighbor': 'Target_Text_Index', 'distance': 'Cosine_Similarity'})"
   ]
  },
  {
   "cell_type": "code",
   "execution_count": null,
   "id": "33a5aec7-fecb-4fc3-adcd-c92357a34cbb",
   "metadata": {},
   "outputs": [],
   "source": [
    "df_merged_image[['Source_Tweet_ID', 'Source_User_ID', 'Target_Tweet_ID', 'Target_User_ID']] = df_merged_image[['Source_Tweet_ID', 'Source_User_ID', 'Target_Tweet_ID', 'Target_User_ID']].astype(int)"
   ]
  },
  {
   "cell_type": "code",
   "execution_count": null,
   "id": "68864ca1-cddb-468a-a39e-e6ad741d5cc6",
   "metadata": {},
   "outputs": [],
   "source": [
    "df_merged_image"
   ]
  },
  {
   "cell_type": "code",
   "execution_count": null,
   "id": "f587df37-4e04-4f5e-9f34-27615f25abab",
   "metadata": {},
   "outputs": [],
   "source": [
    "df_sorted_image = df_merged_image.copy()\n",
    "mask_text = df_sorted_image[\"Source_Tweet_ID\"] > df_sorted_image[\"Target_Tweet_ID\"]\n",
    "\n",
    "df_sorted_image.loc[mask_text, [\"Source_Tweet_ID\", \"Target_Tweet_ID\"]] = df_sorted_image.loc[mask_text, [\"Target_Tweet_ID\", \"Source_Tweet_ID\"]].values\n",
    "df_sorted_image.loc[mask_text, [\"Source_User_ID\", \"Target_User_ID\"]] = df_sorted_image.loc[mask_text, [\"Target_User_ID\", \"Source_User_ID\"]].values\n"
   ]
  },
  {
   "cell_type": "markdown",
   "id": "2617b349-1b86-4a8b-b8a7-1cff1487ae72",
   "metadata": {},
   "source": [
    "# Merge and Build Graph"
   ]
  },
  {
   "cell_type": "code",
   "execution_count": null,
   "id": "b9f46b13-4035-4b00-be49-80792f507540",
   "metadata": {},
   "outputs": [],
   "source": [
    "df_sorted_image['Similarity_Type'] = 'Image'"
   ]
  },
  {
   "cell_type": "code",
   "execution_count": null,
   "id": "85b42eae-f830-42b2-a95e-a755e1e56265",
   "metadata": {},
   "outputs": [],
   "source": [
    "df_sorted_text['Similarity_Type'] = 'Text'"
   ]
  },
  {
   "cell_type": "code",
   "execution_count": null,
   "id": "713ebe38-2fbd-497f-81e9-b3745da8934c",
   "metadata": {},
   "outputs": [],
   "source": [
    "df_sorted_both_text_image = pd.concat([df_sorted_text, df_sorted_image])"
   ]
  },
  {
   "cell_type": "code",
   "execution_count": null,
   "id": "c6b546f0-67e3-454c-a63a-e79ebdd70672",
   "metadata": {},
   "outputs": [],
   "source": [
    "df_sorted_both_text_image_unique = df_sorted_both_text_image.drop_duplicates(subset= ['Source_Tweet_ID', 'Target_Tweet_ID'], keep = 'first').reset_index(drop = True)"
   ]
  },
  {
   "cell_type": "code",
   "execution_count": null,
   "id": "0ae4a945-a0fc-4594-a4bb-75efacf8bff0",
   "metadata": {},
   "outputs": [],
   "source": [
    "print(len(df_sorted_both_text_image))"
   ]
  },
  {
   "cell_type": "code",
   "execution_count": null,
   "id": "4badb2c2-efdb-41b7-bdfe-68114a8b4535",
   "metadata": {},
   "outputs": [],
   "source": [
    "print(len(df_sorted_both_text_image_unique))"
   ]
  },
  {
   "cell_type": "code",
   "execution_count": null,
   "id": "122e3ecf-702d-4087-b1f8-ea8d21a70260",
   "metadata": {},
   "outputs": [],
   "source": [
    "df_sorted_both_text_image_unique.to_pickle('')"
   ]
  },
  {
   "cell_type": "code",
   "execution_count": null,
   "id": "b5c6b5c0-c625-4ccf-a533-b0d3b39b2429",
   "metadata": {},
   "outputs": [],
   "source": [
    "df_unique = df_sorted_both_text_image_unique.loc[df_sorted_both_text_image_unique.Source_User_ID != df_sorted_both_text_image_unique.Target_User_ID]"
   ]
  },
  {
   "cell_type": "code",
   "execution_count": null,
   "id": "682751e1-67d1-4bc4-98b1-15b864489840",
   "metadata": {},
   "outputs": [],
   "source": [
    "def graph_check_cluster(df):\n",
    "    G = nx.Graph()\n",
    "    interaction_counts = df.groupby(['Source_Tweet_ID', 'Target_Tweet_ID']).size().reset_index(name='weight')\n",
    "    interaction_counts = interaction_counts.loc[interaction_counts.Source_Tweet_ID!=  interaction_counts.Target_Tweet_ID]\n",
    "    \n",
    "    for _, row in interaction_counts.iterrows():\n",
    "        source = row['Source_Tweet_ID']\n",
    "        target = row['Target_Tweet_ID']\n",
    "        weight = row['weight'] \n",
    "    \n",
    "        G.add_edge(source, target, weight=weight)\n",
    "    \n",
    "    print(nx.number_of_nodes(G))  \n",
    "    print(nx.number_of_edges(G)) \n",
    "\n",
    "    num_components = nx.number_connected_components(G)\n",
    "    print(f\"Number of connected components: {num_components}\")\n",
    "\n",
    "    avg_degree = sum(dict(G.degree()).values()) / G.number_of_nodes()\n",
    "    print(f\"Average Degree: {avg_degree}\")\n",
    "\n",
    "    density = nx.density(G)\n",
    "    print(f\"Density of the Graph: {density}\")\n",
    "\n",
    "    partition = community.best_partition(G)\n",
    "    num_communities = len(set(partition.values()))\n",
    "    modularity = community.modularity(partition, G)\n",
    "    community_sizes = Counter(partition.values())\n",
    "    largest_community_size = max(community_sizes.values())\n",
    "    size_counts = {s: sum(1 for size in community_sizes.values() if size >= s) for s in [5, 10, 15, 20]}\n",
    "\n",
    "    print(f\"Number of Communities: {num_communities}\")\n",
    "    print(f\"Modularity Score: {modularity:.4f}\")\n",
    "    print(f\"Largest Community Size: {largest_community_size}\")\n",
    "    for size, count in size_counts.items():\n",
    "        print(f\"Communities of size {size}: {count}\")"
   ]
  },
  {
   "cell_type": "code",
   "execution_count": null,
   "id": "457a86c5-d52b-4540-8a24-55117f3598c2",
   "metadata": {},
   "outputs": [],
   "source": [
    "graph_check_cluster(df_unique.loc[df_unique.Similarity_Type == 'Text'])"
   ]
  },
  {
   "cell_type": "code",
   "execution_count": null,
   "id": "62cc6426-f300-4dbe-b6d3-a61edd114a44",
   "metadata": {},
   "outputs": [],
   "source": [
    "df_unqiue_text = df_unique.loc[df_unique.Similarity_Type == 'Text']"
   ]
  },
  {
   "cell_type": "code",
   "execution_count": null,
   "id": "dcb13c22-467f-4f54-987a-2ddd62852c96",
   "metadata": {},
   "outputs": [],
   "source": [
    "G = nx.Graph()\n",
    "interaction_counts = df_unqiue_text.groupby(['Source_Tweet_ID', 'Target_Tweet_ID']).size().reset_index(name='weight')\n",
    "interaction_counts = interaction_counts.loc[interaction_counts.Source_Tweet_ID!=  interaction_counts.Target_Tweet_ID]\n",
    "\n",
    "for _, row in interaction_counts.iterrows():\n",
    "    source = row['Source_Tweet_ID']\n",
    "    target = row['Target_Tweet_ID']\n",
    "    weight = row['weight'] \n",
    "    G.add_edge(source, target, weight=weight)\n",
    "\n",
    "print(nx.number_of_nodes(G)) \n",
    "print(nx.number_of_edges(G)) \n",
    "\n",
    "num_components = nx.number_connected_components(G)\n",
    "print(f\"Number of connected components: {num_components}\")\n",
    "\n",
    "avg_degree = sum(dict(G.degree()).values()) / G.number_of_nodes()\n",
    "print(f\"Average Degree: {avg_degree}\")\n",
    "\n",
    "density = nx.density(G)\n",
    "print(f\"Density of the Graph: {density}\")\n",
    "\n",
    "\n",
    "\n",
    "partition = community.best_partition(G)  \n",
    "num_communities = len(set(partition.values()))\n",
    "modularity = community.modularity(partition, G)\n",
    "community_sizes = Counter(partition.values()) \n",
    "largest_community_size = max(community_sizes.values())\n",
    "size_counts = {s: sum(1 for size in community_sizes.values() if size >= s) for s in [5, 10, 15, 20]}\n",
    "\n",
    "print(f\"Number of Communities: {num_communities}\")\n",
    "print(f\"Modularity Score: {modularity:.4f}\")\n",
    "print(f\"Largest Community Size: {largest_community_size}\")\n",
    "for size, count in size_counts.items():\n",
    "    print(f\"Communities of size {size}: {count}\")"
   ]
  },
  {
   "cell_type": "code",
   "execution_count": null,
   "id": "d13f872b-0cc7-4645-b4f3-87fc498b474e",
   "metadata": {},
   "outputs": [],
   "source": [
    "connected_components = list(nx.connected_components(G))"
   ]
  },
  {
   "cell_type": "code",
   "execution_count": null,
   "id": "191bfe6a-2373-49af-8ab1-46fcd36e4cba",
   "metadata": {},
   "outputs": [],
   "source": [
    "data = []\n",
    "for i, component in enumerate(connected_components):\n",
    "    for node in component:\n",
    "        data.append({'Cluster_ID': i, 'Tweet_ID': node})\n",
    "\n",
    "df_components = pd.DataFrame(data)\n",
    "print(df_components)"
   ]
  },
  {
   "cell_type": "code",
   "execution_count": null,
   "id": "741acc18-b2d4-4d1e-a71e-ebc3c83bb24d",
   "metadata": {},
   "outputs": [],
   "source": [
    "df_components.to_csv('Cluster_Tweet.csv', index = False)"
   ]
  },
  {
   "cell_type": "code",
   "execution_count": null,
   "id": "fee450a4-ea4f-4c20-8a24-0110191fa404",
   "metadata": {},
   "outputs": [],
   "source": [
    "df_unqiue_text.columns"
   ]
  },
  {
   "cell_type": "code",
   "execution_count": null,
   "id": "64f1a9b4-2366-4d34-9e6b-a8ef9e13b8a0",
   "metadata": {},
   "outputs": [],
   "source": [
    "interaction_counts = df_sorted_both_text_image_unique.groupby(['Source_User_ID', 'Target_User_ID']).size().reset_index(name='Edge_Weight')"
   ]
  },
  {
   "cell_type": "code",
   "execution_count": null,
   "id": "e4a5bed8-5f08-4b5b-8723-f7c90bcbbe5a",
   "metadata": {},
   "outputs": [],
   "source": [
    "interaction_counts = interaction_counts.loc[interaction_counts.Source_User_ID!=  interaction_counts.Target_User_ID]"
   ]
  },
  {
   "cell_type": "code",
   "execution_count": null,
   "id": "23604121-3068-4149-a64f-265e75076673",
   "metadata": {},
   "outputs": [],
   "source": [
    "interaction_counts.sort_values('Edge_Weight')"
   ]
  },
  {
   "cell_type": "code",
   "execution_count": null,
   "id": "aa49afff-18d1-4395-9335-08a5da4b3c89",
   "metadata": {},
   "outputs": [],
   "source": [
    "df_sorted_text"
   ]
  },
  {
   "cell_type": "code",
   "execution_count": null,
   "id": "b836f3e3-f41a-4122-8f20-bbb86918c5fe",
   "metadata": {},
   "outputs": [],
   "source": [
    "def top_10_elements(df, column_name):\n",
    "    if column_name not in df.columns:\n",
    "        print(f\"Column '{column_name}' not found in DataFrame.\")\n",
    "        return None\n",
    "\n",
    "    return df[column_name].value_counts().nlargest(2000)"
   ]
  },
  {
   "cell_type": "code",
   "execution_count": null,
   "id": "03035d1a-eb46-45bc-b921-6a06dc981a75",
   "metadata": {},
   "outputs": [],
   "source": [
    "top_elements = top_10_elements(df_sorted_text.loc[df_sorted_text.Source_User_ID != df_sorted_text.Target_User_ID], 'Source_Tweet_ID')"
   ]
  },
  {
   "cell_type": "code",
   "execution_count": null,
   "id": "770269a8-4195-44c9-a6bf-4eaa2d68b882",
   "metadata": {},
   "outputs": [],
   "source": []
  },
  {
   "cell_type": "code",
   "execution_count": null,
   "id": "1a4c547a-1698-4038-af32-dcc89c5cbf37",
   "metadata": {},
   "outputs": [],
   "source": []
  },
  {
   "cell_type": "code",
   "execution_count": null,
   "id": "9f710930-8514-49f6-ba7e-a41c4bff4987",
   "metadata": {},
   "outputs": [],
   "source": [
    "def graph_check(df):\n",
    "    G = nx.Graph()\n",
    "    interaction_counts = df.groupby(['Source_User_ID', 'Target_User_ID']).size().reset_index(name='weight')\n",
    "    interaction_counts = interaction_counts.loc[interaction_counts.weight >= 2]\n",
    "    interaction_counts = interaction_counts.loc[interaction_counts.Source_User_ID!=  interaction_counts.Target_User_ID]\n",
    "\n",
    "    for _, row in interaction_counts.iterrows():\n",
    "        source = row['Source_User_ID']\n",
    "        target = row['Target_User_ID']\n",
    "        weight = row['weight']  \n",
    "    \n",
    "        G.add_edge(source, target, weight=weight)\n",
    "    \n",
    "    print(nx.number_of_nodes(G)) \n",
    "    print(nx.number_of_edges(G))  \n",
    "\n",
    "    num_components = nx.number_connected_components(G)\n",
    "    print(f\"Number of connected components: {num_components}\")\n",
    "\n",
    "    avg_degree = sum(dict(G.degree()).values()) / G.number_of_nodes()\n",
    "    print(f\"Average Degree: {avg_degree}\")\n",
    "\n",
    "    density = nx.density(G)\n",
    "    print(f\"Density of the Graph: {density}\")\n",
    "\n",
    "    partition = community.best_partition(G)  \n",
    "    num_communities = len(set(partition.values()))\n",
    "    modularity = community.modularity(partition, G)\n",
    "    community_sizes = Counter(partition.values()) \n",
    "    largest_community_size = max(community_sizes.values())\n",
    "    size_counts = {s: sum(1 for size in community_sizes.values() if size >= s) for s in [5, 10, 15, 20]}\n",
    "\n",
    "    print(f\"Number of Communities: {num_communities}\")\n",
    "    print(f\"Modularity Score: {modularity:.4f}\")\n",
    "    print(f\"Largest Community Size: {largest_community_size}\")\n",
    "    for size, count in size_counts.items():\n",
    "        print(f\"Communities of size {size}: {count}\")"
   ]
  },
  {
   "cell_type": "code",
   "execution_count": null,
   "id": "7f30e9df-432c-4a62-b0d6-a1c5376c985f",
   "metadata": {},
   "outputs": [],
   "source": []
  },
  {
   "cell_type": "code",
   "execution_count": null,
   "id": "f4da07c9-ca56-4ec7-932c-3e4081984402",
   "metadata": {},
   "outputs": [],
   "source": [
    "interaction_counts.to_pickle('')"
   ]
  },
  {
   "cell_type": "code",
   "execution_count": null,
   "id": "ea10116a-1aca-4c14-9ff9-34fb5f8af0d9",
   "metadata": {},
   "outputs": [],
   "source": [
    "def graph_check(df):\n",
    "    G = nx.Graph()\n",
    "    interaction_counts = df.groupby(['Source_User_ID', 'Target_User_ID']).size().reset_index(name='weight')\n",
    "    interaction_counts = interaction_counts.loc[interaction_counts.weight >= 2]\n",
    "    interaction_counts = interaction_counts.loc[interaction_counts.Source_User_ID!=  interaction_counts.Target_User_ID]\n",
    "    print(len(interaction_counts))\n",
    "\n",
    "    for _, row in interaction_counts.iterrows():\n",
    "        source = row['Source_User_ID']\n",
    "        target = row['Target_User_ID']\n",
    "        weight = row['weight'] \n",
    "    \n",
    "        G.add_edge(source, target, weight=weight)\n",
    "    \n",
    "    print(nx.number_of_nodes(G)) \n",
    "    print(nx.number_of_edges(G)) \n",
    "\n",
    "    num_components = nx.number_connected_components(G)\n",
    "    print(f\"Number of connected components: {num_components}\")\n",
    "\n",
    "    avg_degree = sum(dict(G.degree()).values()) / G.number_of_nodes()\n",
    "    print(f\"Average Degree: {avg_degree}\")\n",
    "\n",
    "    density = nx.density(G)\n",
    "    print(f\"Density of the Graph: {density}\")\n",
    "\n",
    "\n",
    "   \n",
    "    partition = community.best_partition(G) \n",
    "    num_communities = len(set(partition.values()))\n",
    "    modularity = community.modularity(partition, G)\n",
    "    community_sizes = Counter(partition.values())\n",
    "    largest_community_size = max(community_sizes.values())\n",
    "\n",
    "    size_counts = {s: sum(1 for size in community_sizes.values() if size >= s) for s in [5, 10, 15, 20]}\n",
    "\n",
    "    print(f\"Number of Communities: {num_communities}\")\n",
    "    print(f\"Modularity Score: {modularity:.4f}\")\n",
    "    print(f\"Largest Community Size: {largest_community_size}\")\n",
    "    for size, count in size_counts.items():\n",
    "        print(f\"Communities of size {size}: {count}\")\n"
   ]
  },
  {
   "cell_type": "code",
   "execution_count": null,
   "id": "97d75f80-09ec-4ac6-8fee-d6707d409f9f",
   "metadata": {},
   "outputs": [],
   "source": [
    "graph_check(df_sorted_both_text_image_unique)"
   ]
  },
  {
   "cell_type": "code",
   "execution_count": null,
   "id": "a9580c8d-608e-49e0-aa25-05b849043167",
   "metadata": {},
   "outputs": [],
   "source": [
    "len(df_sorted_both_text_image_unique)"
   ]
  },
  {
   "cell_type": "code",
   "execution_count": null,
   "id": "87b9480f-0cde-4257-a6be-df4821b2d563",
   "metadata": {},
   "outputs": [],
   "source": [
    "graph_check(df_sorted_image)"
   ]
  },
  {
   "cell_type": "code",
   "execution_count": null,
   "id": "552ce6ca-b1b0-41d4-a801-f9b261542dc9",
   "metadata": {},
   "outputs": [],
   "source": [
    "graph_check(df_sorted_text)"
   ]
  },
  {
   "cell_type": "code",
   "execution_count": null,
   "id": "51a20afc-da06-43e0-8f0f-bac875362235",
   "metadata": {},
   "outputs": [],
   "source": [
    "#df_sorted_text"
   ]
  },
  {
   "cell_type": "code",
   "execution_count": null,
   "id": "479776be-d05b-41ae-b377-8046d721a558",
   "metadata": {},
   "outputs": [],
   "source": [
    "belief_df = pd.read_csv('Initial_Beleif_Result.csv')"
   ]
  },
  {
   "cell_type": "code",
   "execution_count": null,
   "id": "24167b52-1acc-4502-8d8d-7298f696f5b0",
   "metadata": {},
   "outputs": [],
   "source": [
    "belief_df_result = belief_df.loc[(belief_df.L > 0.5) | (belief_df.R > 0.5)]"
   ]
  },
  {
   "cell_type": "code",
   "execution_count": null,
   "id": "4073fadc-3086-49b0-923b-d29305630371",
   "metadata": {
    "scrolled": true
   },
   "outputs": [],
   "source": [
    "user_to_check"
   ]
  },
  {
   "cell_type": "code",
   "execution_count": null,
   "id": "fcc1414a-58bc-4228-8624-18def4a09d23",
   "metadata": {},
   "outputs": [],
   "source": [
    "df_sorted_both_text_image_unique.drop_duplicates(['Source_Tweet_ID', 'Target_User_ID']).to_pickle('Complete_Similarity_Both_Text_Image.pkl')"
   ]
  },
  {
   "cell_type": "code",
   "execution_count": null,
   "id": "b6709656-693f-4a65-91a3-cbee46b79425",
   "metadata": {},
   "outputs": [],
   "source": []
  },
  {
   "cell_type": "code",
   "execution_count": null,
   "id": "62bbb922-2b79-49dd-9590-c9e91c9ca980",
   "metadata": {},
   "outputs": [],
   "source": [
    "user_to_check = interaction_counts.loc[interaction_counts.Edge_Weight>=5].Source_User_ID.unique().tolist() +interaction_counts.loc[interaction_counts.Edge_Weight>=5].Target_User_ID.unique().tolist()"
   ]
  },
  {
   "cell_type": "code",
   "execution_count": null,
   "id": "523f100e-b665-4e01-8fbb-763a0d92b1fc",
   "metadata": {},
   "outputs": [],
   "source": [
    "user_to_check"
   ]
  },
  {
   "cell_type": "code",
   "execution_count": null,
   "id": "c9f711e3-a0a1-4113-a981-ff7168fa8721",
   "metadata": {},
   "outputs": [],
   "source": [
    "import json\n",
    "with open('', 'w') as f:\n",
    "    json.dump(user_to_check, f)"
   ]
  },
  {
   "cell_type": "markdown",
   "id": "f8d4466e-3705-4387-8178-4ce766fabc10",
   "metadata": {},
   "source": [
    "# Updated Graph"
   ]
  },
  {
   "cell_type": "code",
   "execution_count": null,
   "id": "f62bc672-243e-48d3-8d8f-1ae45c6a7f22",
   "metadata": {},
   "outputs": [],
   "source": [
    "import os\n",
    "import networkx as nx\n",
    "import community\n",
    "import pandas as pd\n",
    "import pickle\n",
    "from collections import Counter\n",
    "\n",
    "def graph_check_New(df,df_pol_report_small, output_path=\"\"):\n",
    "    if not os.path.exists(output_path):\n",
    "        os.makedirs(output_path)\n",
    "\n",
    "    G = nx.Graph()\n",
    "    interaction_counts = df.groupby(['Source_User_ID', 'Target_User_ID']).size().reset_index(name='weight')\n",
    "    interaction_counts = interaction_counts.loc[interaction_counts.weight >= 2]\n",
    "    interaction_counts = interaction_counts.loc[interaction_counts.Source_User_ID!=  interaction_counts.Target_User_ID]\n",
    "    interaction_counts = interaction_counts.loc[(interaction_counts.Source_User_ID.isin(df_pol_report_small.User_ID.tolist())) &\n",
    "    (interaction_counts.Target_User_ID.isin(df_pol_report_small.User_ID.tolist()))]\n",
    "\n",
    "   \n",
    "    for _, row in interaction_counts.iterrows():\n",
    "        G.add_edge(row['Source_User_ID'], row['Target_User_ID'], weight=row['weight'])\n",
    "\n",
    "    print(f\"Number of nodes: {nx.number_of_nodes(G)}\")\n",
    "    print(f\"Number of edges: {nx.number_of_edges(G)}\")\n",
    "\n",
    "    num_components = nx.number_connected_components(G)\n",
    "    print(f\"Number of connected components: {num_components}\")\n",
    "\n",
    "    avg_degree = sum(dict(G.degree()).values()) / G.number_of_nodes()\n",
    "    print(f\"Average Degree: {avg_degree}\")\n",
    "\n",
    "    density = nx.density(G)\n",
    "    print(f\"Density of the Graph: {density}\")\n",
    "\n",
    "    partition = community.best_partition(G)  # {node: community_id}\n",
    "    num_communities = len(set(partition.values()))\n",
    "    modularity = community.modularity(partition, G)\n",
    "\n",
    "    print(f\"Number of Communities: {num_communities}\")\n",
    "    print(f\"Modularity Score: {modularity:.4f}\")\n",
    "\n",
    "    community_sizes = Counter(partition.values())\n",
    "    largest_community_size = max(community_sizes.values())\n",
    "    print(f\"Largest Community Size: {largest_community_size}\")\n",
    "\n",
    "    for size in [5, 10, 15, 20]:\n",
    "        count = sum(1 for c_size in community_sizes.values() if c_size >= size)\n",
    "        print(f\"Communities of size {size} or larger: {count}\")\n",
    "\n",
    "\n",
    "    nx.write_graphml(G, f\"{output_path}user_interaction_graph.graphml\")\n",
    "\n",
    "    # Store each community as a separate subgraph\n",
    "    for community_id in set(partition.values()):\n",
    "        subgraph_nodes = [node for node, comm in partition.items() if comm == community_id]\n",
    "        subgraph = G.subgraph(subgraph_nodes)\n",
    "        nx.write_graphml(subgraph, f\"{output_path}community_{community_id}.graphml\")\n",
    "\n",
    "   \n",
    "    community_stats = []\n",
    "    for community_id, size in community_sizes.items():\n",
    "        subgraph = G.subgraph([node for node, comm in partition.items() if comm == community_id])\n",
    "        avg_degree = sum(dict(subgraph.degree()).values()) / len(subgraph) if len(subgraph) > 0 else 0\n",
    "        avg_weight = sum([d['weight'] for u, v, d in subgraph.edges(data=True)]) / len(subgraph.edges()) if len(subgraph.edges()) > 0 else 0\n",
    "        density = nx.density(subgraph)\n",
    "\n",
    "        community_stats.append([community_id, size, avg_degree, avg_weight, density])\n",
    "\n",
    "    \n",
    "    community_df = pd.DataFrame(community_stats, columns=['Community_ID', 'Size', 'Avg_Degree', 'Avg_Weight', 'Density'])\n",
    "    community_df.to_csv(f\"{output_path}community_statistics.csv\", index=False)\n",
    "\n",
    "    with open(f\"{output_path}community_partition.pkl\", \"wb\") as f:\n",
    "        pickle.dump(partition, f)\n",
    "\n",
    "    user_community_df = pd.DataFrame(list(partition.items()), columns=['User_ID', 'Community_ID'])\n",
    "    user_community_df.to_csv(f\"{output_path}user_community.csv\", index=False)\n",
    "\n",
    "    return community_df, user_community_df\n"
   ]
  },
  {
   "cell_type": "code",
   "execution_count": null,
   "id": "302a17a4-e666-4116-83aa-7354cef85488",
   "metadata": {},
   "outputs": [],
   "source": [
    "community_stat, community_user = graph_check_New(df_sorted_both_text_image_unique, df_pol_report_small)"
   ]
  },
  {
   "cell_type": "code",
   "execution_count": null,
   "id": "a14032bc-1c80-4e1b-991c-d7afb2f2eb4c",
   "metadata": {},
   "outputs": [],
   "source": [
    "community_user_10 = community_user.loc[community_user.Community_ID.isin(community_stat.loc[community_stat.Size >= 10].Community_ID)]"
   ]
  },
  {
   "cell_type": "code",
   "execution_count": null,
   "id": "70b814c0-d45d-49c8-8812-29e908f649be",
   "metadata": {},
   "outputs": [],
   "source": [
    "ground_truth_pol = pd.read_csv('All_Political_Ground_Truth.csv')"
   ]
  },
  {
   "cell_type": "code",
   "execution_count": null,
   "id": "49f2b42c-5d86-455a-8bb4-8751ce364aa0",
   "metadata": {
    "scrolled": true
   },
   "outputs": [],
   "source": [
    "ground_truth_pol.sample(20)"
   ]
  },
  {
   "cell_type": "code",
   "execution_count": null,
   "id": "23c5b545-98e5-42bf-9b7d-a424ae008c48",
   "metadata": {},
   "outputs": [],
   "source": [
    "community_user_10 = pd.merge(community_user_10, ground_truth_pol, how = 'left')"
   ]
  },
  {
   "cell_type": "code",
   "execution_count": null,
   "id": "97b3e49f-97ae-41b1-92b6-09cbab940345",
   "metadata": {},
   "outputs": [],
   "source": [
    "community_user_10.dropna()"
   ]
  },
  {
   "cell_type": "code",
   "execution_count": null,
   "id": "ef7cacd8-dc96-47e1-81e8-d311c8f68173",
   "metadata": {},
   "outputs": [],
   "source": [
    "community_stat.loc[community_stat.Size >= 10].sort_values('Size', ascending = False)"
   ]
  },
  {
   "cell_type": "code",
   "execution_count": null,
   "id": "cf65cb2a-85bd-4777-b932-b846f4f8aaed",
   "metadata": {},
   "outputs": [],
   "source": [
    "community_stat.loc[community_stat.Size >= 10].sort_values('Size', ascending = False).Community_ID.tolist()"
   ]
  },
  {
   "cell_type": "markdown",
   "id": "1fcfd2e2-50af-4734-b52c-d50cc44f5894",
   "metadata": {},
   "source": [
    "# Political Orientation "
   ]
  },
  {
   "cell_type": "code",
   "execution_count": null,
   "id": "6c3ed2d5-c5f9-4872-a82c-a177b8501824",
   "metadata": {},
   "outputs": [],
   "source": [
    "for i in community_user_10.Community_ID.unique():\n",
    "    community_user = community_user_10.loc[community_user_10.Community_ID == i].User_ID"
   ]
  },
  {
   "cell_type": "code",
   "execution_count": null,
   "id": "8d31eb3b-ab3a-4641-b348-8ced64663437",
   "metadata": {},
   "outputs": [],
   "source": []
  },
  {
   "cell_type": "code",
   "execution_count": null,
   "id": "a759feb6-e4b3-4c35-969c-bcd582e65096",
   "metadata": {},
   "outputs": [],
   "source": [
    "community_user_10.loc[community_user_10.Community_ID == 40].User_ID"
   ]
  },
  {
   "cell_type": "markdown",
   "id": "7d75470f-9a11-48bc-b03f-f8d59c4d3b1a",
   "metadata": {},
   "source": [
    "# Number of Politifact Report"
   ]
  },
  {
   "cell_type": "code",
   "execution_count": null,
   "id": "68a45d0d-7e11-4f29-9c43-a5328357b204",
   "metadata": {},
   "outputs": [],
   "source": [
    "df_pol_report = pd.read_csv('PolitiFact_tweets_false.csv')"
   ]
  },
  {
   "cell_type": "code",
   "execution_count": null,
   "id": "2da31f95-4eb3-476b-a369-8ba6edd1f901",
   "metadata": {},
   "outputs": [],
   "source": [
    "community_user_10"
   ]
  },
  {
   "cell_type": "code",
   "execution_count": null,
   "id": "d205a10e-476e-44d4-a54d-cf2313acf701",
   "metadata": {},
   "outputs": [],
   "source": [
    "df_pol_report_small"
   ]
  },
  {
   "cell_type": "code",
   "execution_count": null,
   "id": "24dc2b17-6eb3-44da-ab50-1f6fe9652461",
   "metadata": {},
   "outputs": [],
   "source": [
    "df_pol_report_small = df_pol_report[['User_ID', 'Search_Statement', 'Search_Type', 'Tweet_ID']].drop_duplicates(['User_ID', 'Search_Type'])"
   ]
  },
  {
   "cell_type": "code",
   "execution_count": null,
   "id": "255c0448-4dee-4eec-a373-e2827427b62a",
   "metadata": {},
   "outputs": [],
   "source": [
    "df_pol_report_small = pd.merge(community_user_10, df_pol_report_small)"
   ]
  },
  {
   "cell_type": "code",
   "execution_count": null,
   "id": "457ed809-4992-4e97-af4a-90f612891772",
   "metadata": {},
   "outputs": [],
   "source": [
    "print(len(df_pol_report_small.loc[df_pol_report_small.Community_ID == 0].Search_Statement.unique()))"
   ]
  },
  {
   "cell_type": "code",
   "execution_count": null,
   "id": "7c5afc49-04c6-40f4-8572-bc78629c3e22",
   "metadata": {},
   "outputs": [],
   "source": [
    "df_pol_report_small.groupby(['User_ID', 'Search_Statement']).count()"
   ]
  },
  {
   "cell_type": "code",
   "execution_count": null,
   "id": "1612d743-09d1-4072-8d59-1501271fcbd0",
   "metadata": {},
   "outputs": [],
   "source": [
    "df_pol_report_small.groupby(['User_ID', 'Search_Statement']).count().sort_values(by = 'Community_ID')"
   ]
  },
  {
   "cell_type": "code",
   "execution_count": null,
   "id": "745b1c85-c15c-417b-8fb1-fa343be5e95e",
   "metadata": {},
   "outputs": [],
   "source": [
    "df_pol_report_small"
   ]
  },
  {
   "cell_type": "code",
   "execution_count": null,
   "id": "f9b20fec-6b3e-43e9-a2b7-3fd12b482876",
   "metadata": {},
   "outputs": [],
   "source": []
  },
  {
   "cell_type": "code",
   "execution_count": null,
   "id": "16585d03-e3b2-4e90-a265-e60b431049ed",
   "metadata": {},
   "outputs": [],
   "source": [
    "df_sorted_both_text_image"
   ]
  },
  {
   "cell_type": "code",
   "execution_count": null,
   "id": "921807d9-bc18-47fb-83f6-41553ffeb158",
   "metadata": {},
   "outputs": [],
   "source": [
    "df_sorted_both_text_image_unique.drop_duplicates(['Source_Tweet_ID', 'Target_User_ID'])"
   ]
  },
  {
   "cell_type": "code",
   "execution_count": null,
   "id": "1c45d8ee-257f-44e6-8f30-28ea6f25db14",
   "metadata": {},
   "outputs": [],
   "source": [
    "#df_sorted_both_text_image_unique[~df_sorted_both_text_image_unique.drop_duplicates(['Source_Tweet_ID', 'Target_User_ID'])]"
   ]
  },
  {
   "cell_type": "code",
   "execution_count": null,
   "id": "e4bade2d-56bf-42a6-a0d8-29745864b123",
   "metadata": {},
   "outputs": [],
   "source": [
    "df_sorted_both_text_image_unique.drop_duplicates(['Source_Tweet_ID', 'Target_User_ID'])"
   ]
  },
  {
   "cell_type": "code",
   "execution_count": null,
   "id": "dfad7b03-4795-4333-ac86-adeac7d7bd95",
   "metadata": {},
   "outputs": [],
   "source": []
  }
 ],
 "metadata": {
  "kernelspec": {
   "display_name": "Python 3 (ipykernel)",
   "language": "python",
   "name": "python3"
  },
  "language_info": {
   "codemirror_mode": {
    "name": "ipython",
    "version": 3
   },
   "file_extension": ".py",
   "mimetype": "text/x-python",
   "name": "python",
   "nbconvert_exporter": "python",
   "pygments_lexer": "ipython3",
   "version": "3.10.16"
  }
 },
 "nbformat": 4,
 "nbformat_minor": 5
}
