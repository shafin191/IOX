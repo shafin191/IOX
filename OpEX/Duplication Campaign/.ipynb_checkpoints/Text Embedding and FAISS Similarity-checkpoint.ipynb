{
 "cells": [
  {
   "cell_type": "code",
   "execution_count": null,
   "id": "e90c9941-03af-4833-9471-faaabdf1cb9c",
   "metadata": {},
   "outputs": [],
   "source": [
    "import torch\n",
    "from sentence_transformers import SentenceTransformer\n",
    "import os\n",
    "import numpy as np\n",
    "from tqdm import tqdm\n",
    "import pandas as pd\n",
    "import re\n",
    "import emoji\n",
    "import time\n",
    "from glob import glob\n",
    "from concurrent.futures import ThreadPoolExecutor\n",
    "from pathlib import Path\n",
    "import pickle"
   ]
  },
  {
   "cell_type": "code",
   "execution_count": null,
   "id": "1dbb491c-dea0-4f51-ab1c-7377b8942787",
   "metadata": {},
   "outputs": [],
   "source": [
    "path_dir = os.getcwd()"
   ]
  },
  {
   "cell_type": "code",
   "execution_count": null,
   "id": "b13b55d8-ed96-4672-b480-103c7b74edba",
   "metadata": {},
   "outputs": [],
   "source": [
    "path_dir = os.getcwd()\n",
    "df = pd.read_csv('', dtype = 'str', lineterminator = '\\n')"
   ]
  },
  {
   "cell_type": "code",
   "execution_count": null,
   "id": "1d16cb70-b045-4d25-83ad-5fb47e76b24b",
   "metadata": {},
   "outputs": [],
   "source": [
    "df.columns"
   ]
  },
  {
   "cell_type": "code",
   "execution_count": null,
   "id": "a7e610f0-859c-4405-87e5-03f92a2b1f38",
   "metadata": {},
   "outputs": [],
   "source": [
    "df['full_text'] = df['full_text'].fillna(df['text'])"
   ]
  },
  {
   "cell_type": "code",
   "execution_count": null,
   "id": "905612c9-5d80-4863-bc43-0eca505be52d",
   "metadata": {},
   "outputs": [],
   "source": [
    "df['is_Retweet'] = df['text'].str.startswith(\"RT @\")"
   ]
  },
  {
   "cell_type": "code",
   "execution_count": null,
   "id": "2795b7b5-3c67-4d28-bdbe-0970fe5136ac",
   "metadata": {},
   "outputs": [],
   "source": [
    "df.to_pickle('PolitiX_Final_Tweet_Dataset_Updated.pkl')"
   ]
  },
  {
   "cell_type": "code",
   "execution_count": null,
   "id": "89caa299-9c35-4c2d-8352-e2596ca5a090",
   "metadata": {},
   "outputs": [],
   "source": [
    "df_tweet = df.loc[df.is_Retweet == False]"
   ]
  },
  {
   "cell_type": "code",
   "execution_count": null,
   "id": "91d429be-62b2-4d4e-a5db-7f0664058930",
   "metadata": {},
   "outputs": [],
   "source": [
    "df_tweet = df_tweet.reset_index(drop = True)"
   ]
  },
  {
   "cell_type": "code",
   "execution_count": null,
   "id": "97e2e990-34ab-42d7-94a0-29260e34860e",
   "metadata": {},
   "outputs": [],
   "source": [
    "def preprocess_text(df):\n",
    "    df.loc[:, 'clean_tweet'] = df['clean_tweet'].str.replace(\"&\", \"\", regex=False)\n",
    "    df.loc[:, 'clean_tweet'] = df['clean_tweet'].str.replace(r\"\\bRT\\b\", \"\", regex=True)\n",
    "    df.loc[:, 'clean_tweet'] = df['clean_tweet'].str.replace(r\"&amp;\", \"\", regex=True)\n",
    "    df.loc[:, 'clean_tweet'] = df['clean_tweet'].str.replace(\"\\n\", \" \", regex=False)\n",
    "    df.loc[:, 'clean_tweet'] = df['clean_tweet'].str.replace(\"#\", \"\", regex=False)\n",
    "    df.loc[:, 'clean_tweet'] = df['clean_tweet'].str.replace(\"*\", \"\", regex=False)\n",
    "    df.loc[:, 'clean_tweet'] = df['clean_tweet'].str.replace(\"¶\", \"\", regex=False)\n",
    "    df.loc[:, 'clean_tweet'] = df['clean_tweet'].str.replace(r'[:;.,!&\\-_$/?\\'‘’%★“”\"]', \"\", regex=True)\n",
    "\n",
    "    return df\n",
    "\n",
    "def remove_emoji(string):\n",
    "    clean_string = emoji.replace_emoji(string, replace='')  \n",
    "    return clean_string.strip()\n",
    "\n",
    "\n",
    "def msg_clean(msg):\n",
    "    msg = re.sub(r'https?://\\S+|www\\.\\S+', \" \", msg)\n",
    "    msg = re.sub(r'@\\w+',' ',msg)\n",
    "    msg = re.sub('r<.*?>',' ', msg)\n",
    "    msg = re.sub(r'\\d+', ' ', msg)\n",
    "    msg = remove_emoji(msg)\n",
    "\n",
    "\n",
    "    return msg"
   ]
  },
  {
   "cell_type": "code",
   "execution_count": null,
   "id": "4170ffa2-abca-450e-abe5-4d1c5db354df",
   "metadata": {},
   "outputs": [],
   "source": [
    "df_tweet['tweet_text'] = df_tweet['full_text']\n",
    "df_tweet.loc[:, 'clean_tweet'] = df_tweet['tweet_text'].astype(str).apply(lambda x: msg_clean(x))\n",
    "df_tweet = preprocess_text(df_tweet)\n",
    "df_tweet.loc[:, 'clean_tweet'] = df_tweet['clean_tweet'].str.replace(r'\\s+', ' ', regex=True).str.strip()"
   ]
  },
  {
   "cell_type": "code",
   "execution_count": null,
   "id": "afdf311e-c6a8-440d-bcd5-ed24ec309e94",
   "metadata": {},
   "outputs": [],
   "source": [
    "empty_spaces = df_tweet['clean_tweet'].str.strip().eq(\"\")\n",
    "df_tweet = df_tweet[~empty_spaces].reset_index(drop = True)\n",
    "df_tweet = df_tweet.reset_index(drop = True)"
   ]
  },
  {
   "cell_type": "code",
   "execution_count": null,
   "id": "f931d14a-8b25-4c92-9181-86c9c5e50e35",
   "metadata": {},
   "outputs": [],
   "source": [
    "df_small = df_tweet[['Tweet_ID', 'clean_tweet']]"
   ]
  },
  {
   "cell_type": "code",
   "execution_count": null,
   "id": "a370952b-5b0a-4061-a50e-fd790edbde6b",
   "metadata": {},
   "outputs": [],
   "source": [
    "model2 = SentenceTransformer(\"sentence-transformers/paraphrase-multilingual-mpnet-base-v2\", device='cuda:2')\n",
    "model2.do_lower_case =  True\n",
    "model2.max_seq_length = 256"
   ]
  },
  {
   "cell_type": "code",
   "execution_count": null,
   "id": "69c11294-a324-46c9-ad8e-d2463866e642",
   "metadata": {},
   "outputs": [],
   "source": [
    "all_text = df_small.clean_tweet.tolist()"
   ]
  },
  {
   "cell_type": "code",
   "execution_count": null,
   "id": "3eb1409c-30cb-45fd-a4a9-1e5a1d4d073d",
   "metadata": {},
   "outputs": [],
   "source": [
    "int(len(all_text)/3000) + 1"
   ]
  },
  {
   "cell_type": "code",
   "execution_count": null,
   "id": "d605988f-abed-440a-8559-55228fab3d12",
   "metadata": {},
   "outputs": [],
   "source": [
    "i = 0\n",
    "embeddings2 = model2.encode(all_text[i*3000:(i+1)*3000])\n",
    "start = time.time()\n",
    "for i in tqdm(range(1, int(len(all_text)/3000) + 1), desc=\"Processing Batches\", unit=\"batch\"): # Update the range for the loop accordin to your dataset\n",
    "    embeddings_temp = model2.encode(all_text[i * 3000:(i + 1) * 3000])\n",
    "    embeddings2 = np.append(embeddings2, embeddings_temp, axis=0)\n",
    "\n",
    "end = time.time()\n",
    "print(f\"Time elapsed: {(end - start) / 60:.2f} minutes\")"
   ]
  },
  {
   "cell_type": "code",
   "execution_count": null,
   "id": "c57b3fff-2c28-447a-8bb7-cf9bc5c65cff",
   "metadata": {},
   "outputs": [],
   "source": [
    "len(embeddings2)"
   ]
  },
  {
   "cell_type": "code",
   "execution_count": null,
   "id": "a59ceda4-027d-479a-950e-d7372cb7ab81",
   "metadata": {},
   "outputs": [],
   "source": [
    "f_set = ['Tweet_ID']\n",
    "for i in range(0,768):\n",
    "    f_set.append('F' + str(i))\n",
    "df_embedding2 = pd.DataFrame(columns=f_set)\n",
    "df_embedding2['Tweet_ID'] =df_small['Tweet_ID']\n",
    "\n",
    "df_embedding2.iloc[:,1:] = pd.DataFrame(embeddings2)\n",
    "df_embedding2.to_pickle('/a/bear.cs.xxx.edu./disk/bear-b/users/xxww/PolitiX/Dataset/PolitiX_Text_Embedding_All_paraphrase-multilingual-mpnet-base-v2.pkl')"
   ]
  },
  {
   "cell_type": "code",
   "execution_count": null,
   "id": "0cd59981-1cbb-4587-a1e5-37c4354549d1",
   "metadata": {},
   "outputs": [],
   "source": [
    "df_embedding2"
   ]
  },
  {
   "cell_type": "markdown",
   "id": "5cf7f596-139e-4baf-b8a4-cdb4aaa1838a",
   "metadata": {},
   "source": [
    "# FIASS"
   ]
  },
  {
   "cell_type": "code",
   "execution_count": null,
   "id": "a4fc3a25-8a63-4c77-b051-3770ac2c7756",
   "metadata": {},
   "outputs": [],
   "source": [
    "import os\n",
    "import numpy as np\n",
    "import matplotlib.pyplot as plt\n",
    "from PIL import Image\n",
    "from glob import glob\n",
    "import time\n",
    "import pandas as pd\n",
    "import faiss\n",
    "import numpy as np\n",
    "import networkx as nx\n",
    "import sys\n",
    "import GPUtil\n",
    "import psutil"
   ]
  },
  {
   "cell_type": "code",
   "execution_count": null,
   "id": "7cb6b3d0-da37-4cc4-8bee-b1e138fc7ae5",
   "metadata": {},
   "outputs": [],
   "source": [
    "print(faiss.__version__)"
   ]
  },
  {
   "cell_type": "code",
   "execution_count": null,
   "id": "7bcd81df-f3bb-4201-8fa5-755636343f54",
   "metadata": {},
   "outputs": [],
   "source": [
    "def count_unique_words(text):\n",
    "    if isinstance(text, str):\n",
    "        return len(set(text.split()))  \n",
    "    return 0  "
   ]
  },
  {
   "cell_type": "code",
   "execution_count": null,
   "id": "ce41dc3c-3198-4e86-86d6-36bdd4756164",
   "metadata": {},
   "outputs": [],
   "source": [
    "df_small[\"unique_word_count\"] = df_small[\"clean_tweet\"].apply(count_unique_words)"
   ]
  },
  {
   "cell_type": "code",
   "execution_count": null,
   "id": "ecee7409-95c9-46af-a852-41efe0406088",
   "metadata": {},
   "outputs": [],
   "source": [
    "df_result = df_small.loc[df_small.unique_word_count>= 4].reset_index(drop= True)"
   ]
  },
  {
   "cell_type": "code",
   "execution_count": null,
   "id": "c132d9c4-cbda-4c75-babf-5e662dd50278",
   "metadata": {},
   "outputs": [],
   "source": [
    "df_result = pd.merge(df_result, df[['Tweet_ID', 'User_ID']])"
   ]
  },
  {
   "cell_type": "code",
   "execution_count": null,
   "id": "3f9e890e-fdbd-4887-82a8-632a665f15cb",
   "metadata": {},
   "outputs": [],
   "source": [
    "df_result[['Tweet_ID', 'User_ID', 'unique_word_count']]"
   ]
  },
  {
   "cell_type": "code",
   "execution_count": null,
   "id": "2a8b8193-89c3-45a7-8dd9-c6c3edcdf124",
   "metadata": {},
   "outputs": [],
   "source": [
    "df_result[['Tweet_ID', 'User_ID', 'unique_word_count']].to_csv('Valid_Tweets_4_words.csv', index = False)"
   ]
  },
  {
   "cell_type": "code",
   "execution_count": null,
   "id": "88154305-4702-4e27-bb57-b906601999c2",
   "metadata": {},
   "outputs": [],
   "source": [
    "df_embedding2 = pd.merge(df_embedding2, df[['Tweet_ID', 'User_ID']])"
   ]
  },
  {
   "cell_type": "code",
   "execution_count": null,
   "id": "a18aacb7-3e13-4ba7-ae50-827e337531a7",
   "metadata": {},
   "outputs": [],
   "source": [
    "df_embedding2"
   ]
  },
  {
   "cell_type": "code",
   "execution_count": null,
   "id": "62daa5d3-17fa-43bf-8a4e-f5baf66e094a",
   "metadata": {},
   "outputs": [],
   "source": [
    "df_embedding2[['Tweet_ID', 'User_ID']].reset_index().rename(columns = {'index': 'Text_Index'}).to_csv('Politix_Text_Index_Tweet_ID_User_ID_Mapping_final.csv', index = False)"
   ]
  },
  {
   "cell_type": "code",
   "execution_count": null,
   "id": "26df7d84-76d0-4d70-a8b4-dc5cf033f28e",
   "metadata": {},
   "outputs": [],
   "source": [
    "df_index = df_embedding2[['Tweet_ID', 'User_ID']].reset_index().rename(columns = {'index': 'Text_Index'})"
   ]
  },
  {
   "cell_type": "code",
   "execution_count": null,
   "id": "e19209b1-da60-4a1a-9023-60a27de99671",
   "metadata": {},
   "outputs": [],
   "source": [
    "#df_index"
   ]
  },
  {
   "cell_type": "code",
   "execution_count": null,
   "id": "5c08a9ae-be7d-4f23-8ddb-ddcc93063461",
   "metadata": {},
   "outputs": [],
   "source": [
    "f_arr = np.array(df_embedding2.iloc[:,1:-1])"
   ]
  },
  {
   "cell_type": "code",
   "execution_count": null,
   "id": "01f6d020-627f-4f69-9a3c-3eb711efe90f",
   "metadata": {},
   "outputs": [],
   "source": [
    "print(len(f_arr[0]))"
   ]
  },
  {
   "cell_type": "code",
   "execution_count": null,
   "id": "202935fa-17e3-4a1d-9950-e0744e9b9d4d",
   "metadata": {},
   "outputs": [],
   "source": [
    "f_arr = f_arr.astype(\"float32\")  \n",
    "f_arr = np.ascontiguousarray(f_arr) \n",
    "faiss.normalize_L2(f_arr)  \n",
    "\n",
    "dim = f_arr.shape[1]\n",
    "cpu_index = faiss.IndexFlatIP(dim)\n",
    "cpu_index.add(f_arr)\n",
    "\n",
    "threshold=0.95\n",
    "\n",
    "limits, distances, indices = cpu_index.range_search(f_arr, threshold)"
   ]
  },
  {
   "cell_type": "code",
   "execution_count": null,
   "id": "01616ee9-dcd6-4a60-ae58-6fa66e5e3c29",
   "metadata": {},
   "outputs": [],
   "source": [
    "f_arr = f_arr.astype(\"float32\")\n",
    "f_arr = np.ascontiguousarray(f_arr)\n",
    "faiss.normalize_L2(f_arr)"
   ]
  },
  {
   "cell_type": "code",
   "execution_count": null,
   "id": "13822bb2-5498-448e-ba62-7419eee7d385",
   "metadata": {},
   "outputs": [],
   "source": [
    "dim = f_arr.shape[1]\n",
    "cpu_index = faiss.IndexFlatIP(dim)\n",
    "cpu_index.add(f_arr)"
   ]
  },
  {
   "cell_type": "code",
   "execution_count": null,
   "id": "58be1ea5-d6fa-4dad-bd0d-07fd7e179c29",
   "metadata": {},
   "outputs": [],
   "source": [
    "threshold=0.95"
   ]
  },
  {
   "cell_type": "code",
   "execution_count": null,
   "id": "79c216f9-7fc5-4791-b1de-b0310b15eecb",
   "metadata": {},
   "outputs": [],
   "source": [
    "limits, distances, indices = cpu_index.range_search(f_arr, threshold)"
   ]
  },
  {
   "cell_type": "code",
   "execution_count": null,
   "id": "2501feec-9057-44e0-89da-590661e86cbf",
   "metadata": {},
   "outputs": [],
   "source": [
    "similar_pairs_dict = {}\n",
    "seen_pairs = set()  \n",
    "\n",
    "for i in range(len(limits) - 1):\n",
    "    start, end = limits[i], limits[i + 1]\n",
    "    \n",
    "    for j in range(start, end):\n",
    "        a, b = i, indices[j]\n",
    "        if a != b:  \n",
    "            pair = (min(a, b), max(a, b)) \n",
    "            if pair not in seen_pairs:\n",
    "                seen_pairs.add(pair)\n",
    "                if a not in similar_pairs_dict:\n",
    "                    similar_pairs_dict[a] = []\n",
    "                similar_pairs_dict[a].append({\"neighbor\": b, \"distance\": distances[j]})\n",
    "\n",
    "df_res = pd.DataFrame([\n",
    "    {\"source\": key, \"neighbor\": entry[\"neighbor\"], \"distance\": entry[\"distance\"]}\n",
    "    for key, values in similar_pairs_dict.items() for entry in values\n",
    "])\n"
   ]
  },
  {
   "cell_type": "code",
   "execution_count": null,
   "id": "04ccf178-0b81-4a1a-a9a2-fdd9736c8d71",
   "metadata": {},
   "outputs": [],
   "source": [
    "df_res.to_pickle('')"
   ]
  },
  {
   "cell_type": "code",
   "execution_count": null,
   "id": "1e2d6639-a8e0-4651-ace8-882e6dd52f01",
   "metadata": {},
   "outputs": [],
   "source": [
    "len(df_res)"
   ]
  },
  {
   "cell_type": "code",
   "execution_count": null,
   "id": "7f63ff7a-3858-4c0b-a75a-6415bd3755c1",
   "metadata": {},
   "outputs": [],
   "source": [
    "df_res.head()"
   ]
  },
  {
   "cell_type": "code",
   "execution_count": null,
   "id": "f01650ab-5bc1-4d51-9e5d-4a4ad6f093be",
   "metadata": {},
   "outputs": [],
   "source": [
    "len(set(df_res.source.tolist() + df_res.neighbor.tolist()))"
   ]
  },
  {
   "cell_type": "code",
   "execution_count": null,
   "id": "b08eaffd-fd80-4e65-899a-501d9aff17e0",
   "metadata": {},
   "outputs": [],
   "source": [
    "df_res"
   ]
  },
  {
   "cell_type": "code",
   "execution_count": null,
   "id": "250c46d3-2cd8-451f-b5ff-e5cf3fb9c879",
   "metadata": {},
   "outputs": [],
   "source": [
    "df_embedding2[['Tweet_ID', 'User_ID']].reset_index().rename(columns = {'index': 'Text_Index'}).to_csv('', index = False)"
   ]
  },
  {
   "cell_type": "code",
   "execution_count": null,
   "id": "1f7cc0a4-0303-47b2-9914-51620f42c9cd",
   "metadata": {},
   "outputs": [],
   "source": []
  }
 ],
 "metadata": {
  "kernelspec": {
   "display_name": "Python 3 (ipykernel)",
   "language": "python",
   "name": "python3"
  },
  "language_info": {
   "codemirror_mode": {
    "name": "ipython",
    "version": 3
   },
   "file_extension": ".py",
   "mimetype": "text/x-python",
   "name": "python",
   "nbconvert_exporter": "python",
   "pygments_lexer": "ipython3",
   "version": "3.10.16"
  }
 },
 "nbformat": 4,
 "nbformat_minor": 5
}
