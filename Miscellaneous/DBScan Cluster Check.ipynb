{
 "cells": [
  {
   "cell_type": "code",
   "execution_count": null,
   "id": "cc2beb1e",
   "metadata": {},
   "outputs": [],
   "source": [
    "import pandas as pd\n",
    "from sentence_transformers import SentenceTransformer, util\n",
    "import numpy as np\n",
    "import time\n",
    "from sklearn.metrics.pairwise import cosine_similarity\n",
    "import torch\n",
    "import re\n",
    "from pyarrow import csv\n",
    "\n",
    "\n",
    "import gc\n",
    "import os\n",
    "from sklearn.cluster import DBSCAN\n",
    "from os import listdir\n",
    "from os.path import isfile, join\n"
   ]
  },
  {
   "cell_type": "code",
   "execution_count": null,
   "id": "43575b17",
   "metadata": {},
   "outputs": [],
   "source": [
    "path = '/home/mnemo/users/randomuser/SBERT All Embedding/DBScan/Batch1/Cluster/'"
   ]
  },
  {
   "cell_type": "code",
   "execution_count": null,
   "id": "4bd762e0",
   "metadata": {},
   "outputs": [],
   "source": [
    "onlyfiles = [f for f in listdir(path) if isfile(join(path, f))]"
   ]
  },
  {
   "cell_type": "code",
   "execution_count": null,
   "id": "e71db99d",
   "metadata": {},
   "outputs": [],
   "source": [
    "onlyfiles"
   ]
  },
  {
   "cell_type": "code",
   "execution_count": null,
   "id": "911f93e2",
   "metadata": {},
   "outputs": [],
   "source": [
    "start = time.time()\n",
    "df = pd.read_csv('All_Embedding.csv', engine = 'pyarrow')\n",
    "df = df.drop(df.columns[0:2], axis=1)\n",
    "end = time.time()\n",
    "print(end-start)"
   ]
  },
  {
   "cell_type": "code",
   "execution_count": null,
   "id": "8adbe0b9",
   "metadata": {},
   "outputs": [],
   "source": [
    "df"
   ]
  },
  {
   "cell_type": "code",
   "execution_count": null,
   "id": "14355067",
   "metadata": {},
   "outputs": [],
   "source": [
    "check.iloc[:, :-2]"
   ]
  },
  {
   "cell_type": "code",
   "execution_count": null,
   "id": "3cda3bf6",
   "metadata": {},
   "outputs": [],
   "source": [
    "xt = cosine_similarity(check.iloc[:, :-2], check.iloc[:, :-2])"
   ]
  },
  {
   "cell_type": "code",
   "execution_count": null,
   "id": "95314b03",
   "metadata": {},
   "outputs": [],
   "source": [
    "X = np.array(check.iloc[:, :-2])\n",
    "clustering = DBSCAN(eps=1, min_samples=2).fit(X)\n",
    "    \n",
    "ew_pd = pd.DataFrame(clustering.labels_)"
   ]
  },
  {
   "cell_type": "code",
   "execution_count": null,
   "id": "21d46905",
   "metadata": {},
   "outputs": [],
   "source": [
    "ew_pd"
   ]
  },
  {
   "cell_type": "code",
   "execution_count": null,
   "id": "2c32f80c",
   "metadata": {},
   "outputs": [],
   "source": [
    "onlyfiles[0]"
   ]
  },
  {
   "cell_type": "code",
   "execution_count": null,
   "id": "439bf385",
   "metadata": {},
   "outputs": [],
   "source": [
    "dfq = pd.read_csv(path + 'Cluster_0.csv')"
   ]
  },
  {
   "cell_type": "code",
   "execution_count": null,
   "id": "bbdcb291",
   "metadata": {},
   "outputs": [],
   "source": [
    "dfq.Cluster_ID = dfq.Cluster_ID.apply(str)"
   ]
  },
  {
   "cell_type": "code",
   "execution_count": null,
   "id": "231f0616",
   "metadata": {},
   "outputs": [],
   "source": [
    "dfq.Tweet_ID = dfq.Tweet_ID.apply(str)"
   ]
  },
  {
   "cell_type": "code",
   "execution_count": null,
   "id": "1487d7d5",
   "metadata": {},
   "outputs": [],
   "source": [
    "dfq['Twitter_Link'] = \"https://twitter.com/i/status/\"\n",
    "dfq['Twitter_Link'] = dfq[[\"Twitter_Link\", \"Tweet_ID\"]].apply(\"\".join, axis=1)"
   ]
  },
  {
   "cell_type": "code",
   "execution_count": null,
   "id": "bab4274b",
   "metadata": {},
   "outputs": [],
   "source": [
    "dfq[1000:1040]"
   ]
  },
  {
   "cell_type": "code",
   "execution_count": null,
   "id": "da063495",
   "metadata": {},
   "outputs": [],
   "source": [
    "dfq['CID'] = 'B0'"
   ]
  },
  {
   "cell_type": "code",
   "execution_count": null,
   "id": "20ef81f3",
   "metadata": {},
   "outputs": [],
   "source": [
    "dfq['CID'] = dfq[[\"CID\", \"Cluster_ID\"]].apply(\"_\".join, axis=1)"
   ]
  },
  {
   "cell_type": "code",
   "execution_count": null,
   "id": "b50de358",
   "metadata": {},
   "outputs": [],
   "source": [
    "dfq"
   ]
  },
  {
   "cell_type": "code",
   "execution_count": null,
   "id": "f25c20f3",
   "metadata": {},
   "outputs": [],
   "source": [
    "w = 1\n",
    "for i in range(1,9):\n",
    "    dfz = pd.read_csv(path + onlyfiles[i])\n",
    "    dfz.Cluster_ID = dfz.Cluster_ID.apply(str)\n",
    "    dfz['CID'] = 'B' + str(w)\n",
    "    dfz['CID'] = dfz[[\"CID\", \"Cluster_ID\"]].apply(\"_\".join, axis=1)\n",
    "    dfq = pd.concat([dfq, dfz], ignore_index=True)\n",
    "    w = w + 1\n"
   ]
  },
  {
   "cell_type": "code",
   "execution_count": null,
   "id": "7ec572e4",
   "metadata": {},
   "outputs": [],
   "source": [
    "dfq"
   ]
  },
  {
   "cell_type": "code",
   "execution_count": null,
   "id": "945537bc",
   "metadata": {},
   "outputs": [],
   "source": [
    "unique_tweet = dfq.Tweet_ID.unique()"
   ]
  },
  {
   "cell_type": "code",
   "execution_count": null,
   "id": "e555db0c",
   "metadata": {},
   "outputs": [],
   "source": [
    "len(dfq.Tweet_ID.unique())"
   ]
  },
  {
   "cell_type": "code",
   "execution_count": null,
   "id": "a5b426bd",
   "metadata": {},
   "outputs": [],
   "source": [
    "dfq[dfq.Tweet_ID.isin(unique_tweet)]"
   ]
  },
  {
   "cell_type": "code",
   "execution_count": null,
   "id": "e4cf3afe",
   "metadata": {},
   "outputs": [],
   "source": [
    "dfq"
   ]
  },
  {
   "cell_type": "code",
   "execution_count": null,
   "id": "44ecd3b4",
   "metadata": {},
   "outputs": [],
   "source": [
    "dfq_unique = dfq.drop_duplicates('Tweet_ID')"
   ]
  },
  {
   "cell_type": "code",
   "execution_count": null,
   "id": "6e2cb560",
   "metadata": {},
   "outputs": [],
   "source": [
    "dfq_unique = dfq_unique.reset_index(drop = True)"
   ]
  },
  {
   "cell_type": "code",
   "execution_count": null,
   "id": "7c6783ce",
   "metadata": {},
   "outputs": [],
   "source": [
    "dfq_unique"
   ]
  },
  {
   "cell_type": "code",
   "execution_count": null,
   "id": "b89b6076",
   "metadata": {},
   "outputs": [],
   "source": [
    "dfd = df[df.Tweet_ID.isin(unique_tweet)]"
   ]
  },
  {
   "cell_type": "code",
   "execution_count": null,
   "id": "6aca08ad",
   "metadata": {},
   "outputs": [],
   "source": [
    "dfd.iloc[:,:-2]"
   ]
  },
  {
   "cell_type": "code",
   "execution_count": null,
   "id": "1981b6fa",
   "metadata": {},
   "outputs": [],
   "source": [
    "qw= 101\n",
    "dfd = dfd.reset_index(drop = True)\n",
    "X = np.array(dfd.iloc[:,:-2])\n",
    "clustering = DBSCAN(eps=1, min_samples=2).fit(X)\n",
    "    \n",
    "ew_pd = pd.DataFrame(clustering.labels_)\n",
    "ew_pd['Tweet_ID'] = dfd['Tweet_ID']\n",
    "\n",
    "noise = ew_pd.loc[ew_pd[0] == -1]\n",
    "cluster = ew_pd.loc[ew_pd[0] != -1]\n",
    "    \n",
    "noise = noise.rename(columns = {0: 'Cluster_ID'})\n",
    "cluster = cluster.rename(columns = {0: 'Cluster_ID'})\n",
    "    \n",
    "cluster = cluster.sort_values(by = 'Cluster_ID').reset_index(drop = True)\n",
    "noise = noise.sort_values(by = 'Cluster_ID').reset_index(drop = True)\n",
    "\n"
   ]
  },
  {
   "cell_type": "code",
   "execution_count": null,
   "id": "af544bcc",
   "metadata": {},
   "outputs": [],
   "source": [
    "cluster.to_csv(path + '/Cluster_' + str(qw) + '.csv', index = False)"
   ]
  },
  {
   "cell_type": "code",
   "execution_count": null,
   "id": "e0565aaa",
   "metadata": {},
   "outputs": [],
   "source": [
    "cluster"
   ]
  },
  {
   "cell_type": "code",
   "execution_count": null,
   "id": "8bc3318c",
   "metadata": {},
   "outputs": [],
   "source": [
    "cl_group = cluster.groupby('Cluster_ID').count().reset_index(drop = True)"
   ]
  },
  {
   "cell_type": "code",
   "execution_count": null,
   "id": "afd4d4d5",
   "metadata": {},
   "outputs": [],
   "source": [
    "cl_group.loc[cl_group.Tweet_ID>5].sort_values(by = 'Tweet_ID', ascending = False)[0:100]"
   ]
  },
  {
   "cell_type": "code",
   "execution_count": null,
   "id": "c72ed752",
   "metadata": {},
   "outputs": [],
   "source": [
    "ut = cluster.loc[cluster.Cluster_ID == 20].Tweet_ID.tolist()"
   ]
  },
  {
   "cell_type": "code",
   "execution_count": null,
   "id": "00c3c4f6",
   "metadata": {},
   "outputs": [],
   "source": [
    "dft = df[df.Tweet_ID.isin(ut)]"
   ]
  },
  {
   "cell_type": "code",
   "execution_count": null,
   "id": "4c268a38",
   "metadata": {},
   "outputs": [],
   "source": [
    "dft"
   ]
  },
  {
   "cell_type": "code",
   "execution_count": null,
   "id": "8e6bb52f",
   "metadata": {},
   "outputs": [],
   "source": [
    "dft = dft.reset_index(drop = True)\n",
    "X = np.array(dft.iloc[:,:-2])\n",
    "clustering = DBSCAN(eps=0.5, min_samples=2).fit(X)\n",
    "    "
   ]
  },
  {
   "cell_type": "code",
   "execution_count": null,
   "id": "4d8474c4",
   "metadata": {},
   "outputs": [],
   "source": [
    "clustering.labels_"
   ]
  },
  {
   "cell_type": "code",
   "execution_count": null,
   "id": "354b58de",
   "metadata": {},
   "outputs": [],
   "source": [
    "ew_pd = pd.DataFrame(clustering.labels_)\n",
    "ew_pd['Tweet_ID'] = dft['Tweet_ID']\n",
    "\n",
    "noise = ew_pd.loc[ew_pd[0] == -1]#.to_csv(path + '/Noise/Noise_' + str(0) + '.csv', index = False)\n",
    "cluster = ew_pd.loc[ew_pd[0] != -1]#.to_csv("
   ]
  },
  {
   "cell_type": "code",
   "execution_count": null,
   "id": "18c7940a",
   "metadata": {},
   "outputs": [],
   "source": [
    "noise"
   ]
  },
  {
   "cell_type": "code",
   "execution_count": null,
   "id": "c1931d9d",
   "metadata": {},
   "outputs": [],
   "source": [
    "cluster = cluster.rename(columns = {0: 'Cluster_ID'})"
   ]
  },
  {
   "cell_type": "code",
   "execution_count": null,
   "id": "e8b02dce",
   "metadata": {},
   "outputs": [],
   "source": [
    "cluster = cluster.sort_values(by = 'Cluster_ID').reset_index(drop = True)"
   ]
  },
  {
   "cell_type": "code",
   "execution_count": null,
   "id": "1e6b375d",
   "metadata": {},
   "outputs": [],
   "source": [
    "cluster"
   ]
  },
  {
   "cell_type": "code",
   "execution_count": null,
   "id": "699d9ddd",
   "metadata": {},
   "outputs": [],
   "source": [
    "df_cluster = pd.read_csv(path + 'Cluster_101.csv')"
   ]
  },
  {
   "cell_type": "code",
   "execution_count": null,
   "id": "26aec7c0",
   "metadata": {},
   "outputs": [],
   "source": [
    "df_cluster = df_cluster[df_cluster.Cluster_ID != 20]"
   ]
  },
  {
   "cell_type": "code",
   "execution_count": null,
   "id": "edd149ca",
   "metadata": {},
   "outputs": [],
   "source": [
    "df_tweet_lang2 = pd.read_csv(\"Latest_Tweet_Fake_Spreader_Tweets.csv\", lineterminator='\\n', dtype=str)"
   ]
  },
  {
   "cell_type": "code",
   "execution_count": null,
   "id": "03e6e0e6",
   "metadata": {},
   "outputs": [],
   "source": [
    "df_user = df_tweet_lang2[['Tweet_ID', 'Tweet_Time', 'User_ID']]"
   ]
  },
  {
   "cell_type": "code",
   "execution_count": null,
   "id": "9329197a",
   "metadata": {},
   "outputs": [],
   "source": [
    "df_device = df_tweet_lang2.groupby('Tweet_Source').count()"
   ]
  },
  {
   "cell_type": "code",
   "execution_count": null,
   "id": "68dddbe7",
   "metadata": {},
   "outputs": [],
   "source": [
    "df_device.iloc[280:320]"
   ]
  },
  {
   "cell_type": "code",
   "execution_count": null,
   "id": "d5c18051",
   "metadata": {},
   "outputs": [],
   "source": [
    "df_user.dtypes"
   ]
  },
  {
   "cell_type": "code",
   "execution_count": null,
   "id": "4f27a2b3",
   "metadata": {},
   "outputs": [],
   "source": [
    "df_cluster.dtypes"
   ]
  },
  {
   "cell_type": "code",
   "execution_count": null,
   "id": "dc7f4014",
   "metadata": {},
   "outputs": [],
   "source": [
    "df_user = df_user.astype('str')\n",
    "df_cluster = df_cluster.astype('str')"
   ]
  },
  {
   "cell_type": "code",
   "execution_count": null,
   "id": "74cb7441",
   "metadata": {},
   "outputs": [],
   "source": [
    "len(df_cluster)"
   ]
  },
  {
   "cell_type": "code",
   "execution_count": null,
   "id": "c418272e",
   "metadata": {},
   "outputs": [],
   "source": [
    "df_cluster_userid = pd.merge(df_cluster, df_user, how=\"inner\", on = 'Tweet_ID')"
   ]
  },
  {
   "cell_type": "code",
   "execution_count": null,
   "id": "c0acb178",
   "metadata": {},
   "outputs": [],
   "source": [
    "df_cluster_userid.drop_duplicates(['Cluster_ID', 'User_ID'])"
   ]
  },
  {
   "cell_type": "code",
   "execution_count": null,
   "id": "0bc76fb5",
   "metadata": {},
   "outputs": [],
   "source": [
    "df_cluster_number = df_cluster_userid.groupby('Cluster_ID').count().reset_index(drop = False)"
   ]
  },
  {
   "cell_type": "code",
   "execution_count": null,
   "id": "bc6b9648",
   "metadata": {},
   "outputs": [],
   "source": [
    "df_cluster_number.loc[df_cluster_number.Tweet_ID >= 10]"
   ]
  },
  {
   "cell_type": "code",
   "execution_count": null,
   "id": "8b843eb2",
   "metadata": {},
   "outputs": [],
   "source": [
    "df_cluster_unique = df_cluster_userid.drop_duplicates(['Cluster_ID', 'User_ID'])"
   ]
  },
  {
   "cell_type": "code",
   "execution_count": null,
   "id": "eb364f1f",
   "metadata": {},
   "outputs": [],
   "source": [
    "df_cluster_unique_count = df_cluster_unique.groupby('Cluster_ID').count().reset_index(drop = False)"
   ]
  },
  {
   "cell_type": "code",
   "execution_count": null,
   "id": "0fd6a0ab",
   "metadata": {},
   "outputs": [],
   "source": [
    "df_cluster_unique_count_more1 = df_cluster_unique_count.loc[df_cluster_unique_count. Tweet_ID != 1]"
   ]
  },
  {
   "cell_type": "code",
   "execution_count": null,
   "id": "e06cc10b",
   "metadata": {},
   "outputs": [],
   "source": [
    "df_cluster_unique_count_more1['Cluster_ID'].tolist()"
   ]
  },
  {
   "cell_type": "code",
   "execution_count": null,
   "id": "830bbb32",
   "metadata": {},
   "outputs": [],
   "source": [
    "df_cluster_userid_unique_all = df_cluster_userid[df_cluster_userid.Cluster_ID.isin(df_cluster_unique_count_more1['Cluster_ID'].tolist())]"
   ]
  },
  {
   "cell_type": "code",
   "execution_count": null,
   "id": "4c60b94f",
   "metadata": {},
   "outputs": [],
   "source": [
    "df_cluster_userid_unique_all['Tweet_Link'] = 'https://www.twitter.com/i/status/'"
   ]
  },
  {
   "cell_type": "code",
   "execution_count": null,
   "id": "25bc22ba",
   "metadata": {},
   "outputs": [],
   "source": [
    "df_cluster_userid_unique_all = df_cluster_userid_unique_all.drop(columns = {'Tweet_Lint'})"
   ]
  },
  {
   "cell_type": "code",
   "execution_count": null,
   "id": "8a1215ad",
   "metadata": {},
   "outputs": [],
   "source": [
    "df_cluster_userid_unique_all['Tweet_Link'] = df_cluster_userid_unique_all[[\"Tweet_Link\", \"Tweet_ID\"]].apply(\"\".join, axis=1)"
   ]
  },
  {
   "cell_type": "code",
   "execution_count": null,
   "id": "ad0a4a02",
   "metadata": {},
   "outputs": [],
   "source": [
    "pd.set_option('max_colwidth', None)"
   ]
  },
  {
   "cell_type": "code",
   "execution_count": null,
   "id": "da5cf63b",
   "metadata": {},
   "outputs": [],
   "source": [
    "df_cluster_userid_unique_all[['Cluster_ID','Tweet_Time', 'Tweet_Link']]"
   ]
  },
  {
   "cell_type": "code",
   "execution_count": null,
   "id": "ee98e49a",
   "metadata": {},
   "outputs": [],
   "source": [
    "df_cluster_userid_unique_all.loc[df_cluster_userid_unique_all.User_ID == '907498740453335041']"
   ]
  },
  {
   "cell_type": "code",
   "execution_count": null,
   "id": "9c90f9db",
   "metadata": {},
   "outputs": [],
   "source": [
    "df_cluster_userid_unique_all.loc[df_cluster_userid_unique_all.User_ID == '1241355859587817472']"
   ]
  },
  {
   "cell_type": "code",
   "execution_count": null,
   "id": "f5656406",
   "metadata": {},
   "outputs": [],
   "source": [
    "acc1 = df_cluster_userid_unique_all.loc[df_cluster_userid_unique_all.User_ID == '907498740453335041'].Cluster_ID.tolist()"
   ]
  },
  {
   "cell_type": "code",
   "execution_count": null,
   "id": "75301533",
   "metadata": {},
   "outputs": [],
   "source": [
    "acc2 = df_cluster_userid_unique_all.loc[df_cluster_userid_unique_all.User_ID == '1241355859587817472'].Cluster_ID.tolist()"
   ]
  },
  {
   "cell_type": "code",
   "execution_count": null,
   "id": "89f5634c",
   "metadata": {},
   "outputs": [],
   "source": [
    "match = list(set(acc1) & set(acc2))"
   ]
  },
  {
   "cell_type": "code",
   "execution_count": null,
   "id": "8ce0dbc8",
   "metadata": {},
   "outputs": [],
   "source": [
    "match"
   ]
  },
  {
   "cell_type": "code",
   "execution_count": null,
   "id": "e3ec731a",
   "metadata": {},
   "outputs": [],
   "source": [
    "df_cluster_userid_unique_all[df_cluster_userid_unique_all.Cluster_ID.isin(match)]"
   ]
  },
  {
   "cell_type": "code",
   "execution_count": null,
   "id": "2985ff08",
   "metadata": {},
   "outputs": [],
   "source": [
    "df_cluster_number.loc[df_cluster_number.Tweet_ID >= 10]"
   ]
  },
  {
   "cell_type": "code",
   "execution_count": null,
   "id": "9a11d341",
   "metadata": {},
   "outputs": [],
   "source": [
    "df_cluster_userid_unique_all.loc[df_cluster_userid_unique_all.Cluster_ID == '100629']"
   ]
  },
  {
   "cell_type": "code",
   "execution_count": null,
   "id": "a6abb072",
   "metadata": {},
   "outputs": [],
   "source": [
    "df_cluster_userid_unique_all"
   ]
  },
  {
   "cell_type": "code",
   "execution_count": null,
   "id": "948a7614",
   "metadata": {},
   "outputs": [],
   "source": [
    "dfxw = df_cluster_userid_unique_all.drop_duplicates(['Cluster_ID', 'User_ID'])"
   ]
  },
  {
   "cell_type": "code",
   "execution_count": null,
   "id": "7ecf05e7",
   "metadata": {},
   "outputs": [],
   "source": [
    "dfxw.groupby('Cluster_ID').count().reset_index().sort_values(by = 'Tweet_ID', ascending = False).reset_index(drop = True)[500:540]"
   ]
  },
  {
   "cell_type": "code",
   "execution_count": null,
   "id": "06552322",
   "metadata": {},
   "outputs": [],
   "source": [
    "dfxw.loc[dfxw.Cluster_ID == '43998']"
   ]
  },
  {
   "cell_type": "code",
   "execution_count": null,
   "id": "4c3bd6d3",
   "metadata": {},
   "outputs": [],
   "source": [
    "df_more_than_10 = df_cluster_number.loc[df_cluster_number.Tweet_ID >= 100]"
   ]
  },
  {
   "cell_type": "code",
   "execution_count": null,
   "id": "604dbca9",
   "metadata": {},
   "outputs": [],
   "source": [
    "df_more_than_10"
   ]
  },
  {
   "cell_type": "code",
   "execution_count": null,
   "id": "3df4c967",
   "metadata": {},
   "outputs": [],
   "source": [
    "dfxw.loc[dfxw.Cluster_ID == '1059']"
   ]
  },
  {
   "cell_type": "code",
   "execution_count": null,
   "id": "4eafb66b",
   "metadata": {},
   "outputs": [],
   "source": [
    "df_cluster_userid.loc[df_cluster_userid.Cluster_ID == '100757']"
   ]
  },
  {
   "cell_type": "code",
   "execution_count": null,
   "id": "38f14b7f",
   "metadata": {},
   "outputs": [],
   "source": [
    "dfxw_count = dfxw.groupby('Cluster_ID').count().reset_index(drop = False)"
   ]
  },
  {
   "cell_type": "code",
   "execution_count": null,
   "id": "0dd7954a",
   "metadata": {},
   "outputs": [],
   "source": [
    "dfxw_count"
   ]
  },
  {
   "cell_type": "code",
   "execution_count": null,
   "id": "0efca2df",
   "metadata": {},
   "outputs": [],
   "source": [
    "dfxw_count.loc[(dfxw_count.Tweet_ID <= 10) & \n",
    "              (dfxw_count.Tweet_ID >= 5)][100:160]"
   ]
  },
  {
   "cell_type": "code",
   "execution_count": null,
   "id": "8c13899e",
   "metadata": {},
   "outputs": [],
   "source": [
    "dfxw.loc[dfxw.Cluster_ID == '457'].sort_values(\n",
    "    by = 'Tweet_Time', ascending = False)\n"
   ]
  },
  {
   "cell_type": "code",
   "execution_count": null,
   "id": "4f1fbe1f",
   "metadata": {},
   "outputs": [],
   "source": [
    "len(dfxw)"
   ]
  },
  {
   "cell_type": "code",
   "execution_count": null,
   "id": "71b91e47",
   "metadata": {},
   "outputs": [],
   "source": [
    "wee = dfxw.loc[dfxw.User_ID == '3009858710'].Cluster_ID.tolist()"
   ]
  },
  {
   "cell_type": "code",
   "execution_count": null,
   "id": "e442bedb",
   "metadata": {},
   "outputs": [],
   "source": [
    "wee2 = dfxw.loc[dfxw.User_ID == '1153045459'].Cluster_ID.tolist()"
   ]
  },
  {
   "cell_type": "code",
   "execution_count": null,
   "id": "08fb0a45",
   "metadata": {},
   "outputs": [],
   "source": [
    "len(list(set(wee) & set(wee2)))"
   ]
  },
  {
   "cell_type": "code",
   "execution_count": null,
   "id": "d0225ed6",
   "metadata": {},
   "outputs": [],
   "source": [
    "dfxw.loc[dfxw.User_ID == '3009858710']"
   ]
  },
  {
   "cell_type": "code",
   "execution_count": null,
   "id": "d15820e5",
   "metadata": {},
   "outputs": [],
   "source": [
    "dfxw"
   ]
  },
  {
   "cell_type": "code",
   "execution_count": null,
   "id": "67921c61",
   "metadata": {},
   "outputs": [],
   "source": [
    "dfxw.groupby('Cluster_ID').count()"
   ]
  },
  {
   "cell_type": "code",
   "execution_count": null,
   "id": "2f61dfe9",
   "metadata": {},
   "outputs": [],
   "source": [
    "dfxw.groupby('User_ID').count().reset_index(drop = False).sort_values(by = 'Cluster_ID')"
   ]
  },
  {
   "cell_type": "code",
   "execution_count": null,
   "id": "68aba56d",
   "metadata": {},
   "outputs": [],
   "source": [
    "dfxw_count.loc[(dfxw_count.Tweet_ID == 15)]"
   ]
  },
  {
   "cell_type": "code",
   "execution_count": null,
   "id": "c9ad0e9f",
   "metadata": {},
   "outputs": [],
   "source": [
    "dfxw.loc[dfxw.Cluster_ID == '102460'].sort_values(\n",
    "    by = 'Tweet_Time', ascending = False).sample(2)"
   ]
  },
  {
   "cell_type": "code",
   "execution_count": null,
   "id": "c07d4a90",
   "metadata": {},
   "outputs": [],
   "source": []
  },
  {
   "cell_type": "code",
   "execution_count": null,
   "id": "eb026eaf",
   "metadata": {},
   "outputs": [],
   "source": [
    "dfxw.to_csv('Unique_Tweet_Cluster.csv', index = False)"
   ]
  },
  {
   "cell_type": "code",
   "execution_count": null,
   "id": "637c95aa",
   "metadata": {},
   "outputs": [],
   "source": [
    "dfxw.groupby('User_ID').count()"
   ]
  },
  {
   "cell_type": "code",
   "execution_count": null,
   "id": "85a275d9",
   "metadata": {},
   "outputs": [],
   "source": [
    "dfxw.loc[dfxw.Cluster_ID =='183203']"
   ]
  },
  {
   "cell_type": "code",
   "execution_count": null,
   "id": "0e3a13a3",
   "metadata": {},
   "outputs": [],
   "source": [
    "dfxw.loc[dfxw.Cluster_ID =='183202']"
   ]
  },
  {
   "cell_type": "code",
   "execution_count": null,
   "id": "bbf77571",
   "metadata": {},
   "outputs": [],
   "source": [
    "dfxw.groupby('User_ID').count()"
   ]
  },
  {
   "cell_type": "code",
   "execution_count": null,
   "id": "eebae309",
   "metadata": {},
   "outputs": [],
   "source": [
    "len(dfxw.User_ID.unique())"
   ]
  },
  {
   "cell_type": "code",
   "execution_count": null,
   "id": "ffcf6db5",
   "metadata": {},
   "outputs": [],
   "source": [
    "dfxw.User_ID.unique()[0]"
   ]
  },
  {
   "cell_type": "code",
   "execution_count": null,
   "id": "92bb8624",
   "metadata": {},
   "outputs": [],
   "source": [
    "dfxw.loc[dfxw.User_ID == dfxw.User_ID.unique()[0]].Cluster_ID.tolist()"
   ]
  },
  {
   "cell_type": "code",
   "execution_count": null,
   "id": "1072e183",
   "metadata": {},
   "outputs": [],
   "source": [
    "myDict = {}"
   ]
  },
  {
   "cell_type": "code",
   "execution_count": null,
   "id": "a2bc600b",
   "metadata": {},
   "outputs": [],
   "source": [
    "dfxw.Cluster_ID = dfxw.Cluster_ID.astype(int)"
   ]
  },
  {
   "cell_type": "code",
   "execution_count": null,
   "id": "c6ed1e44",
   "metadata": {},
   "outputs": [],
   "source": [
    "myDict[dfxw.User_ID.unique()[0]] = dfxw.loc[dfxw.User_ID == dfxw.User_ID.unique()[0]].Cluster_ID.tolist()"
   ]
  },
  {
   "cell_type": "code",
   "execution_count": null,
   "id": "1cfc3daa",
   "metadata": {},
   "outputs": [],
   "source": [
    "print(myDict)"
   ]
  },
  {
   "cell_type": "code",
   "execution_count": null,
   "id": "09a9758e",
   "metadata": {},
   "outputs": [],
   "source": [
    "for i in range(1, len(dfxw.User_ID.unique())):\n",
    "    myDict[dfxw.User_ID.unique()[i]] = dfxw.loc[dfxw.User_ID == dfxw.User_ID.unique()[i]].Cluster_ID.tolist()"
   ]
  },
  {
   "cell_type": "code",
   "execution_count": null,
   "id": "d0922999",
   "metadata": {},
   "outputs": [],
   "source": [
    "myDict"
   ]
  },
  {
   "cell_type": "code",
   "execution_count": null,
   "id": "b10d7f8c",
   "metadata": {},
   "outputs": [],
   "source": [
    "dfxw"
   ]
  },
  {
   "cell_type": "code",
   "execution_count": null,
   "id": "e6dbdb73",
   "metadata": {},
   "outputs": [],
   "source": [
    "df_account = pd.DataFrame(columns=myDict.keys())"
   ]
  },
  {
   "cell_type": "code",
   "execution_count": null,
   "id": "5c69d384",
   "metadata": {},
   "outputs": [],
   "source": [
    "df_account['Account'] = myDict.keys()"
   ]
  },
  {
   "cell_type": "code",
   "execution_count": null,
   "id": "fd41f35e",
   "metadata": {},
   "outputs": [],
   "source": [
    "df_account"
   ]
  },
  {
   "cell_type": "code",
   "execution_count": null,
   "id": "c64d0c9e",
   "metadata": {},
   "outputs": [],
   "source": [
    "for i in range(0, len(dfxw.User_ID.unique())):\n",
    "    acc1 = df_account.at[i,'Account']\n",
    "    for j in range(0, len(dfxw.User_ID.unique())):\n",
    "        acc2 = df_account.columns[j]\n",
    "        total_match = len(list(set(myDict[acc1]) & set(myDict[acc2])))\n",
    "        df_account.at[i,acc2] = total_match\n",
    "        if acc1 == acc2:\n",
    "            df_account.at[i,acc2] = -1"
   ]
  },
  {
   "cell_type": "code",
   "execution_count": null,
   "id": "5479ba18",
   "metadata": {},
   "outputs": [],
   "source": [
    "df_account"
   ]
  },
  {
   "cell_type": "code",
   "execution_count": null,
   "id": "107d6573",
   "metadata": {},
   "outputs": [],
   "source": [
    "df_account =df_account.astype(int)"
   ]
  },
  {
   "cell_type": "code",
   "execution_count": null,
   "id": "5bf944bc",
   "metadata": {},
   "outputs": [],
   "source": [
    "df_account"
   ]
  },
  {
   "cell_type": "code",
   "execution_count": null,
   "id": "a13aae40",
   "metadata": {},
   "outputs": [],
   "source": [
    "df_similar_1 = []\n",
    "df_similar_2 = []\n",
    "df_similar_val = []"
   ]
  },
  {
   "cell_type": "code",
   "execution_count": null,
   "id": "5c11d365",
   "metadata": {},
   "outputs": [],
   "source": [
    "for i in range(0, len(dfxw.User_ID.unique())):\n",
    "    for j in range(0, len(dfxw.User_ID.unique())):\n",
    "        acc2 = df_account.columns[j]\n",
    "        val = df_account.at[i,acc2]\n",
    "        if (val >= 20):\n",
    "            df_similar_1.append(df_account.at[i,'Account'])\n",
    "            df_similar_2.append(acc2)\n",
    "            df_similar_val.append(val)"
   ]
  },
  {
   "cell_type": "code",
   "execution_count": null,
   "id": "716bb216",
   "metadata": {},
   "outputs": [],
   "source": [
    "df_account.iloc"
   ]
  },
  {
   "cell_type": "code",
   "execution_count": null,
   "id": "f551094f",
   "metadata": {},
   "outputs": [],
   "source": [
    "df_similar = pd.DataFrame({'Acc1' : df_similar_1, 'Acc2': df_similar_2, 'Total_Tweet': df_similar_val})"
   ]
  },
  {
   "cell_type": "code",
   "execution_count": null,
   "id": "4a2e58b7",
   "metadata": {},
   "outputs": [],
   "source": [
    "df_similar.Acc1 = df_similar.Acc1.astype('str')\n",
    "df_similar.Acc2 = df_similar.Acc2.astype('str')"
   ]
  },
  {
   "cell_type": "code",
   "execution_count": null,
   "id": "cd7c3711",
   "metadata": {},
   "outputs": [],
   "source": []
  },
  {
   "cell_type": "code",
   "execution_count": null,
   "id": "02afb773",
   "metadata": {},
   "outputs": [],
   "source": [
    "df_similar['check_string'] = df_similar.apply(lambda row: ''.join(sorted([row['Acc1'], row['Acc2']])), axis=1)"
   ]
  },
  {
   "cell_type": "code",
   "execution_count": null,
   "id": "7820f365",
   "metadata": {},
   "outputs": [],
   "source": [
    "df_similar = df_similar.drop_duplicates('check_string')"
   ]
  },
  {
   "cell_type": "code",
   "execution_count": null,
   "id": "8cdcc425",
   "metadata": {},
   "outputs": [],
   "source": [
    "df_similar.sort_values(by ='Total_Tweet', ascending = False)"
   ]
  },
  {
   "cell_type": "code",
   "execution_count": null,
   "id": "cdae5071",
   "metadata": {},
   "outputs": [],
   "source": [
    "poe = df_similar.Acc1.tolist() + df_similar.Acc2.tolist()"
   ]
  },
  {
   "cell_type": "code",
   "execution_count": null,
   "id": "f4649544",
   "metadata": {},
   "outputs": [],
   "source": [
    "poe2 = list(set(poe))"
   ]
  },
  {
   "cell_type": "code",
   "execution_count": null,
   "id": "082cdec8",
   "metadata": {},
   "outputs": [],
   "source": [
    "poe2"
   ]
  },
  {
   "cell_type": "code",
   "execution_count": null,
   "id": "62982331",
   "metadata": {},
   "outputs": [],
   "source": [
    "df_acc_check = pd.read_csv('All_Fake_without_debunkers_Updated.csv')"
   ]
  },
  {
   "cell_type": "code",
   "execution_count": null,
   "id": "5cdd494f",
   "metadata": {},
   "outputs": [],
   "source": [
    "df_acc_check[df_acc_check.User_ID.astype(str).isin(poe2)].groupby('acc_type').count()"
   ]
  },
  {
   "cell_type": "code",
   "execution_count": null,
   "id": "230bf550",
   "metadata": {},
   "outputs": [],
   "source": [
    "df_acc_check[df_acc_check.User_ID.astype(str).isin(poe2)].groupby('Political').count()"
   ]
  },
  {
   "cell_type": "code",
   "execution_count": null,
   "id": "1b497d2e",
   "metadata": {},
   "outputs": [],
   "source": [
    "df_acc_check[df_acc_check.User_ID.astype(str).isin(poe2)].groupby('Influencer').count()"
   ]
  },
  {
   "cell_type": "code",
   "execution_count": null,
   "id": "891698ec",
   "metadata": {},
   "outputs": [],
   "source": [
    "df_acc_check2 = df_acc_check"
   ]
  },
  {
   "cell_type": "code",
   "execution_count": null,
   "id": "ab577367",
   "metadata": {},
   "outputs": [],
   "source": [
    "df_acc_check2.User_ID = df_acc_check2.User_ID.astype(str)"
   ]
  },
  {
   "cell_type": "code",
   "execution_count": null,
   "id": "ad3e76c3",
   "metadata": {},
   "outputs": [],
   "source": [
    "df_similarAA = pd.merge(df_similar, df_acc_check2[['User_ID', 'acc_type', 'Political', 'Influencer']], \n",
    "                        left_on = 'Acc1', right_on = 'User_ID').drop(columns = 'User_ID')"
   ]
  },
  {
   "cell_type": "code",
   "execution_count": null,
   "id": "ee9bfbc0",
   "metadata": {},
   "outputs": [],
   "source": [
    "df_similarBB = pd.merge(df_similarAA, df_acc_check2[['User_ID', 'acc_type', 'Political', 'Influencer']], \n",
    "                        left_on = 'Acc2', right_on = 'User_ID').drop(columns = 'User_ID')"
   ]
  },
  {
   "cell_type": "code",
   "execution_count": null,
   "id": "16694891",
   "metadata": {},
   "outputs": [],
   "source": [
    "print('Atleast One Verified: ' + str(len(df_similarBB.loc\n",
    "                                         [(df_similarBB.acc_type_x == 'Verified') \n",
    "                                          | (df_similarBB.acc_type_y == 'Verified')])))\n",
    "\n",
    "print('Both Verified: ' + str(len(df_similarBB.loc\n",
    "                                         [(df_similarBB.acc_type_x == 'Verified') \n",
    "                                          & (df_similarBB.acc_type_y == 'Verified')])))"
   ]
  },
  {
   "cell_type": "code",
   "execution_count": null,
   "id": "a895d4a4",
   "metadata": {},
   "outputs": [],
   "source": [
    "len(df_similarBB.loc[(df_similarBB.acc_type_x == 'Verified') & (df_similarBB.acc_type_y == 'Verified')])"
   ]
  },
  {
   "cell_type": "code",
   "execution_count": null,
   "id": "54cd6b54",
   "metadata": {},
   "outputs": [],
   "source": [
    "len(df_similarBB.loc[(df_similarBB.acc_type_x == 'Bot') | (df_similarBB.acc_type_y == 'Bot')])"
   ]
  },
  {
   "cell_type": "code",
   "execution_count": null,
   "id": "f50a5e77",
   "metadata": {},
   "outputs": [],
   "source": [
    "len(df_similarBB.loc[(df_similarBB.acc_type_x == 'Bot') & (df_similarBB.acc_type_y == 'Bot')])"
   ]
  },
  {
   "cell_type": "code",
   "execution_count": null,
   "id": "9201623c",
   "metadata": {},
   "outputs": [],
   "source": [
    "len(df_similarBB.loc[(df_similarBB.Political_x == 'Political') | (df_similarBB.Political_y == 'Political')])"
   ]
  },
  {
   "cell_type": "code",
   "execution_count": null,
   "id": "cdb21108",
   "metadata": {},
   "outputs": [],
   "source": [
    "len(df_similarBB.loc[(df_similarBB.Political_x == 'Political') & (df_similarBB.Political_y == 'Political')])"
   ]
  },
  {
   "cell_type": "code",
   "execution_count": null,
   "id": "c658516b",
   "metadata": {},
   "outputs": [],
   "source": [
    "len(df_similarBB.loc[(df_similarBB.Influencer_x == 'Influencer') | (df_similarBB.Influencer_y == 'Influencer')])"
   ]
  },
  {
   "cell_type": "code",
   "execution_count": null,
   "id": "b71675d0",
   "metadata": {},
   "outputs": [],
   "source": [
    "len(df_similarBB.loc[(df_similarBB.Influencer_x == 'Influencer') & (df_similarBB.Influencer_y == 'Influencer')])"
   ]
  },
  {
   "cell_type": "code",
   "execution_count": null,
   "id": "fec589ca",
   "metadata": {},
   "outputs": [],
   "source": [
    "df_similar.loc[df_similar.Total_Tweet>=50]"
   ]
  },
  {
   "cell_type": "code",
   "execution_count": null,
   "id": "364800ef",
   "metadata": {},
   "outputs": [],
   "source": [
    "simi_acc1 = df_similar.Acc1.tolist()\n",
    "simi_acc2 = df_similar.Acc2.tolist()\n",
    "simi_all_acc = simi_acc1 + simi_acc2"
   ]
  },
  {
   "cell_type": "code",
   "execution_count": null,
   "id": "c8128dfd",
   "metadata": {},
   "outputs": [],
   "source": [
    "len(set(simi_all_acc))"
   ]
  },
  {
   "cell_type": "code",
   "execution_count": null,
   "id": "9763116e",
   "metadata": {},
   "outputs": [],
   "source": [
    "df_news2 = dfxw.loc[(dfxw.User_ID == abc1) | (dfxw.User_ID == abc2)].sort_values(by = 'Cluster_ID')"
   ]
  },
  {
   "cell_type": "code",
   "execution_count": null,
   "id": "5230e7c7",
   "metadata": {},
   "outputs": [],
   "source": [
    "cl1 = dfxw.loc[(dfxw.User_ID == abc1)].Cluster_ID.tolist()\n",
    "cl2 = dfxw.loc[(dfxw.User_ID == abc2)].Cluster_ID.tolist()"
   ]
  },
  {
   "cell_type": "code",
   "execution_count": null,
   "id": "cc438549",
   "metadata": {},
   "outputs": [],
   "source": [
    "abc_list = list(set(cl1) & set(cl2))"
   ]
  },
  {
   "cell_type": "code",
   "execution_count": null,
   "id": "31223834",
   "metadata": {},
   "outputs": [],
   "source": [
    "df_news2[df_news2.Cluster_ID.isin(abc_list)]"
   ]
  },
  {
   "cell_type": "code",
   "execution_count": null,
   "id": "2de177cc",
   "metadata": {},
   "outputs": [],
   "source": [
    "df_news2.loc[df_news2.Cluster_ID == 66179]"
   ]
  },
  {
   "cell_type": "code",
   "execution_count": null,
   "id": "b7c9ba4e",
   "metadata": {},
   "outputs": [],
   "source": [
    "len(list(set(cl1) & set(cl2)))"
   ]
  },
  {
   "cell_type": "code",
   "execution_count": null,
   "id": "611a8e5a",
   "metadata": {},
   "outputs": [],
   "source": [
    "dfxw.loc[dfxw.Cluster_ID == 66179]"
   ]
  },
  {
   "cell_type": "code",
   "execution_count": null,
   "id": "dcbc371f",
   "metadata": {},
   "outputs": [],
   "source": [
    "lw"
   ]
  },
  {
   "cell_type": "code",
   "execution_count": null,
   "id": "28c0c868",
   "metadata": {},
   "outputs": [],
   "source": [
    "df_similar = df_similar.reset_index(drop = True)"
   ]
  },
  {
   "cell_type": "code",
   "execution_count": null,
   "id": "f9e4cbf2",
   "metadata": {},
   "outputs": [],
   "source": [
    "df_similar.to_csv('Duplicate_More_Than_20.csv', index = False)"
   ]
  },
  {
   "cell_type": "code",
   "execution_count": null,
   "id": "329611f8",
   "metadata": {},
   "outputs": [],
   "source": [
    "boss = []\n",
    "copy_cat = []\n",
    "sim_tweet_list_cat = []\n",
    "for i in range(0,len(df_similar)):\n",
    "    user1 = df_similar.iloc[i].Acc1\n",
    "    user2 = df_similar.iloc[i].Acc2\n",
    "    total_sim_tweet = df_similar.iloc[i].Total_Tweet\n",
    "    \n",
    "    df_news2 = dfxw.loc[(dfxw.User_ID == user1) | (dfxw.User_ID == user2)].sort_values(by = ['Cluster_ID', 'Tweet_Time'], ascending = [True, True])\n",
    "    cl1 = dfxw.loc[(dfxw.User_ID == user1)].Cluster_ID.tolist()\n",
    "    cl2 = dfxw.loc[(dfxw.User_ID == user2)].Cluster_ID.tolist()\n",
    "    user_list = list(set(cl1) & set(cl2))\n",
    "    \n",
    "    df_news3 = df_news2[df_news2.Cluster_ID.isin(user_list)].reset_index(drop = True)\n",
    "    \n",
    "    copy_cat_det = len(list(set(df_news3.iloc[0:len(df_news3):2].User_ID)))\n",
    "    \n",
    "    if copy_cat_det == 1:\n",
    "        boss.append(df_news3.iloc[0].User_ID)\n",
    "        copy_cat.append(df_news3.iloc[1].User_ID)\n",
    "        sim_tweet_list_cat.append(total_sim_tweet)"
   ]
  },
  {
   "cell_type": "code",
   "execution_count": null,
   "id": "28c7f4d7",
   "metadata": {},
   "outputs": [],
   "source": [
    "df_copyCat = pd.DataFrame({'Cat' : boss, 'CopyCat': copy_cat, 'TotalSimilarTweet': sim_tweet_list_cat})"
   ]
  },
  {
   "cell_type": "code",
   "execution_count": null,
   "id": "5c252dba",
   "metadata": {},
   "outputs": [],
   "source": [
    "df_copyCat.to_csv('Copy_Cat.csv', index = False)"
   ]
  },
  {
   "cell_type": "code",
   "execution_count": null,
   "id": "63c66b6b",
   "metadata": {},
   "outputs": [],
   "source": [
    "df_copyCat"
   ]
  },
  {
   "cell_type": "code",
   "execution_count": null,
   "id": "2a3c4bef",
   "metadata": {},
   "outputs": [],
   "source": [
    "print(df_acc_check.columns)"
   ]
  },
  {
   "cell_type": "code",
   "execution_count": null,
   "id": "8d798a18",
   "metadata": {},
   "outputs": [],
   "source": [
    "df_acc_up = df_acc_check[['User_ID', 'UserCreated']]"
   ]
  },
  {
   "cell_type": "code",
   "execution_count": null,
   "id": "da3e8aff",
   "metadata": {},
   "outputs": [],
   "source": [
    "df_acc_up.User_ID = df_acc_up.User_ID.astype(str)"
   ]
  },
  {
   "cell_type": "code",
   "execution_count": null,
   "id": "23cc8505",
   "metadata": {},
   "outputs": [],
   "source": [
    "df_acc_up"
   ]
  },
  {
   "cell_type": "code",
   "execution_count": null,
   "id": "89cd87b2",
   "metadata": {},
   "outputs": [],
   "source": [
    "df_copyCat1 = pd.merge(df_copyCat, df_acc_up, left_on='Cat', right_on='User_ID')[['Cat', 'CopyCat', 'TotalSimilarTweet', 'UserCreated']]\n",
    "df_copyCat1 = df_copyCat1.rename(columns = {'UserCreated': 'CatCreated'}) "
   ]
  },
  {
   "cell_type": "code",
   "execution_count": null,
   "id": "00d1c0a3",
   "metadata": {},
   "outputs": [],
   "source": [
    "df_copyCat2 = pd.merge(df_copyCat1, df_acc_up, left_on='CopyCat', right_on='User_ID')[['Cat', 'CopyCat', 'TotalSimilarTweet','CatCreated', 'UserCreated']]\n",
    "df_copyCat2 = df_copyCat2.rename(columns = {'UserCreated': 'CopyCatCreated'}) "
   ]
  },
  {
   "cell_type": "code",
   "execution_count": null,
   "id": "4f56dc50",
   "metadata": {},
   "outputs": [],
   "source": [
    "df_copyCat2.loc[df_copyCat2.CatCreated < df_copyCat2.CopyCatCreated]"
   ]
  },
  {
   "cell_type": "code",
   "execution_count": null,
   "id": "f6c72317",
   "metadata": {},
   "outputs": [],
   "source": [
    "df_copyCat2"
   ]
  },
  {
   "cell_type": "code",
   "execution_count": null,
   "id": "3ff41e0b",
   "metadata": {},
   "outputs": [],
   "source": [
    "df_acc_check2"
   ]
  },
  {
   "cell_type": "code",
   "execution_count": null,
   "id": "b42c89d0",
   "metadata": {},
   "outputs": [],
   "source": [
    "df_copyCat3 = pd.merge(df_copyCat2, df_acc_check2[['User_ID', 'acc_type', 'Political', 'Influencer']], left_on = 'CopyCat', right_on = 'User_ID')"
   ]
  },
  {
   "cell_type": "code",
   "execution_count": null,
   "id": "87edcdd7",
   "metadata": {},
   "outputs": [],
   "source": [
    "len(df_copyCat3.drop_duplicates('Cat'))"
   ]
  },
  {
   "cell_type": "code",
   "execution_count": null,
   "id": "aa161f8a",
   "metadata": {},
   "outputs": [],
   "source": [
    "df_copyCat3.drop_duplicates('Cat').groupby('acc_type').count() "
   ]
  },
  {
   "cell_type": "code",
   "execution_count": null,
   "id": "e98a2172",
   "metadata": {},
   "outputs": [],
   "source": [
    "df_copyCat3.drop_duplicates('Cat').groupby('Political').count() "
   ]
  },
  {
   "cell_type": "code",
   "execution_count": null,
   "id": "2d5471f1",
   "metadata": {},
   "outputs": [],
   "source": [
    "df_copyCat3.drop_duplicates('Cat').groupby('Influencer').count() "
   ]
  },
  {
   "cell_type": "code",
   "execution_count": null,
   "id": "e3f497c5",
   "metadata": {},
   "outputs": [],
   "source": [
    "df_copyCat3.groupby('CopyCat').count().reset_index(drop = False).sort_values(by = 'Cat', ascending = False)[0:20]"
   ]
  },
  {
   "cell_type": "code",
   "execution_count": null,
   "id": "793ad117",
   "metadata": {},
   "outputs": [],
   "source": [
    "df_copyCat4 = pd.merge(df_copyCat3, df_acc_check2[['User_ID', 'acc_type', 'Political', 'Influencer']], left_on = 'Cat', right_on = 'User_ID')"
   ]
  },
  {
   "cell_type": "code",
   "execution_count": null,
   "id": "f3db5d08",
   "metadata": {},
   "outputs": [],
   "source": [
    "df_copyCat4.loc[(df_copyCat4.acc_type_x == 'Verified') & (df_copyCat4.acc_type_y == 'Verified')]"
   ]
  },
  {
   "cell_type": "code",
   "execution_count": null,
   "id": "1efb029b",
   "metadata": {},
   "outputs": [],
   "source": [
    "len(df_copyCat4.loc[(df_copyCat4.acc_type_x == 'Verified') | (df_copyCat4.acc_type_y == 'Verified')])"
   ]
  },
  {
   "cell_type": "code",
   "execution_count": null,
   "id": "e57f93d6",
   "metadata": {},
   "outputs": [],
   "source": [
    "len(df_copyCat4.loc[(df_copyCat4.acc_type_y == 'Verified')])"
   ]
  },
  {
   "cell_type": "code",
   "execution_count": null,
   "id": "722f6617",
   "metadata": {},
   "outputs": [],
   "source": [
    "len(df_copyCat4.loc[(df_copyCat4.Political_y == 'Political')])"
   ]
  },
  {
   "cell_type": "code",
   "execution_count": null,
   "id": "fcbe603f",
   "metadata": {},
   "outputs": [],
   "source": [
    "len(df_copyCat4.loc[(df_copyCat4.Influencer_y == 'Influencer')])"
   ]
  },
  {
   "cell_type": "code",
   "execution_count": null,
   "id": "fa3d073e",
   "metadata": {},
   "outputs": [],
   "source": [
    "df_copyCat4 = df_copyCat4.rename(columns = {'acc_type_x': 'acc_type_CopyCat', 'Political_x':'Political_CopyCat', 'Influencer_x': 'Influencer_CopyCat'})"
   ]
  },
  {
   "cell_type": "code",
   "execution_count": null,
   "id": "62c6acc5",
   "metadata": {},
   "outputs": [],
   "source": [
    "df_copyCat4 = df_copyCat4.rename(columns = {'acc_type_y': 'acc_type_Master', \n",
    "                                            'Political_y':'Political_Master', \n",
    "                                            'Influencer_y': 'Influencer_Master'})"
   ]
  },
  {
   "cell_type": "code",
   "execution_count": null,
   "id": "1fc3a1a2",
   "metadata": {},
   "outputs": [],
   "source": [
    "df_copyCat4 = df_copyCat4.drop(columns = ['User_ID_x', 'User_ID_y'])"
   ]
  },
  {
   "cell_type": "code",
   "execution_count": null,
   "id": "05e7c7d9",
   "metadata": {},
   "outputs": [],
   "source": [
    "df_copyCat4.to_csv('Updated_CopyCat.csv', index = False)"
   ]
  },
  {
   "cell_type": "code",
   "execution_count": null,
   "id": "f3fd7693",
   "metadata": {},
   "outputs": [],
   "source": [
    "list(set(df_copyCat4.Cat)) + list(set(df_copyCat4.CopyCat))"
   ]
  },
  {
   "cell_type": "code",
   "execution_count": null,
   "id": "0e91b2d8",
   "metadata": {},
   "outputs": [],
   "source": [
    "df_acc_check2[df_acc_check2.User_ID.isin(list(set(df_copyCat4.Cat)) + list(set(df_copyCat4.CopyCat)))]"
   ]
  },
  {
   "cell_type": "code",
   "execution_count": null,
   "id": "32a94025",
   "metadata": {},
   "outputs": [],
   "source": [
    "dfxw"
   ]
  },
  {
   "cell_type": "code",
   "execution_count": null,
   "id": "aa3bbdd2",
   "metadata": {},
   "outputs": [],
   "source": [
    "dfxw[dfxw.Cluster_ID.isin(lw)]"
   ]
  },
  {
   "cell_type": "code",
   "execution_count": null,
   "id": "f6590cc1",
   "metadata": {},
   "outputs": [],
   "source": [
    "dfxw.loc[dfxw.Cluster_ID == '1708']"
   ]
  },
  {
   "cell_type": "code",
   "execution_count": null,
   "id": "bc1ee94b",
   "metadata": {},
   "outputs": [],
   "source": [
    "dfxw.to_csv('Final_Cluster_300k.csv', index = False)"
   ]
  }
 ],
 "metadata": {
  "kernelspec": {
   "display_name": "Python 3 (ipykernel)",
   "language": "python",
   "name": "python3"
  },
  "language_info": {
   "codemirror_mode": {
    "name": "ipython",
    "version": 3
   },
   "file_extension": ".py",
   "mimetype": "text/x-python",
   "name": "python",
   "nbconvert_exporter": "python",
   "pygments_lexer": "ipython3",
   "version": "3.9.13"
  }
 },
 "nbformat": 4,
 "nbformat_minor": 5
}
