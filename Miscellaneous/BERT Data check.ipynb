{
 "cells": [
  {
   "cell_type": "code",
   "execution_count": 153,
   "id": "6d38aaec",
   "metadata": {},
   "outputs": [],
   "source": [
    "import numpy as np\n",
    "import pandas as pd\n",
    "import csv\n",
    "from ttictoc import tic,toc\n",
    "import time\n",
    "import datetime\n",
    "import torch\n",
    "import tweepy\n",
    "import time\n",
    "pd.set_option('display.max_colwidth', None)\n",
    "pd.set_option('display.max_columns', None)"
   ]
  },
  {
   "cell_type": "code",
   "execution_count": 2,
   "id": "9015f32a",
   "metadata": {},
   "outputs": [],
   "source": [
    "print(torch.version.cuda)"
   ]
  },
  {
   "cell_type": "code",
   "execution_count": 3,
   "id": "f740dc3d",
   "metadata": {},
   "outputs": [],
   "source": [
    "from transformers import pipeline\n",
    "\n",
    "classifier = pipeline('zero-shot-classification', model='facebook/bart-large-mnli', device = 0)"
   ]
  },
  {
   "cell_type": "code",
   "execution_count": 4,
   "id": "6402f58f",
   "metadata": {},
   "outputs": [],
   "source": [
    "candidate_labels = [\"obscenity\", \"defamatory\", \"incitement\", \"threats\", \"positive\", \"negative\", \"political\",\n",
    "                   'hateful','hindu','religion','sexism','racism','islam','muslim', 'media', 'news', \n",
    "                   'society', 'technology']"
   ]
  },
  {
   "cell_type": "code",
   "execution_count": 12,
   "id": "8408dfd5",
   "metadata": {},
   "outputs": [],
   "source": [
    "df = pd.read_csv(\"Bert Check.csv\")\n",
    "df = df.drop(columns=['Unnamed: 0'])"
   ]
  },
  {
   "cell_type": "code",
   "execution_count": 51,
   "id": "aa2a5521",
   "metadata": {},
   "outputs": [],
   "source": [
    "df['Full_Tweet'] = ''\n",
    "df['Tweet_Language'] = ''"
   ]
  },
  {
   "cell_type": "code",
   "execution_count": 34,
   "id": "883a72eb",
   "metadata": {},
   "outputs": [],
   "source": [
    "key1 = \"mh05rS4GSIC8fVAzckijAQUUh\"\n",
    "key2 = \"AMSK4UZS9B8oaBd43Q0x5VYJKgaME00ImIQSxTf7YvDtgUWMGg\"\n",
    "key3 = \"1440062944541167622-GjfAkUU7tmxe6PIcMjLdYW3vwg5lCd\"\n",
    "key4 = \"GkoXpz1Ush5HceZowESSsKuAtyQykToMSZX8ypWQLrcmy\"\n",
    "\n",
    "\n",
    "auth = tweepy.OAuthHandler(key1, key2)\n",
    "auth.set_access_token(key3, key4)\n",
    "\n",
    "api = tweepy.API(auth, wait_on_rate_limit=True)"
   ]
  },
  {
   "cell_type": "code",
   "execution_count": 53,
   "id": "1d9d98ce",
   "metadata": {
    "collapsed": true
   },
   "outputs": [],
   "source": [
    "for index, row in df.iterrows():\n",
    "    try:\n",
    "        status = api.get_status(row['Tweet_ID'], tweet_mode=\"extended\")\n",
    "    except:\n",
    "        print('Status not found.')\n",
    "        df.at[index,'Tweet_Language'] = None\n",
    "        df.at[index,'Full_Tweet'] = None\n",
    "        continue\n",
    "    df.at[index,'Tweet_Language']=status.lang\n",
    "    try:\n",
    "        df.at[index,'Full_Tweet'] = status.retweeted_status.full_text\n",
    "    except AttributeError:  # Not a Retweet\n",
    "        df.at[index,'Full_Tweet'] = status.full_text\n",
    "    k = k+1\n",
    "    time.sleep(30)"
   ]
  },
  {
   "cell_type": "code",
   "execution_count": 60,
   "id": "f4a619d1",
   "metadata": {},
   "outputs": [],
   "source": [
    "df.to_csv(\"Bert Check.csv\")"
   ]
  },
  {
   "cell_type": "code",
   "execution_count": 21,
   "id": "688c2a2c",
   "metadata": {},
   "outputs": [],
   "source": []
  },
  {
   "cell_type": "code",
   "execution_count": 122,
   "id": "a864f42a",
   "metadata": {},
   "outputs": [],
   "source": [
    "candidate_labels = [\"obscenity\", \"defamatory\", \"incitement\", \"threats\", \"positive\", \"negative\", \"political\",\n",
    "                   'hateful','hindu','religion','sexism','racism','islam','muslim', 'media', 'news',\n",
    "                   'politics', 'society', 'technology', 'fear', 'anger', 'disgust', 'shame', \n",
    "                   'abusive', 'islamophobic']"
   ]
  },
  {
   "cell_type": "code",
   "execution_count": 64,
   "id": "0675a341",
   "metadata": {},
   "outputs": [],
   "source": [
    "pred2 = classifier( df['Full_Tweet'][0], candidate_labels, multi_label=True)"
   ]
  },
  {
   "cell_type": "code",
   "execution_count": 72,
   "id": "1e457386",
   "metadata": {},
   "outputs": [],
   "source": [
    "pred2['scores'][pred2['labels'].index('obscenity')]"
   ]
  },
  {
   "cell_type": "code",
   "execution_count": 110,
   "id": "0cdba3a8",
   "metadata": {},
   "outputs": [],
   "source": [
    "new_col = [\"obscenity\", \"defamatory\", \"incitement\", \"threats\", \"positive\", \"negative\", \"political\",\n",
    "                   'hateful','hindu','religion','sexism','racism','islam','muslim', 'media', 'news',\n",
    "                   'politics', 'society', 'technology', 'fear', 'anger', 'disgust', 'shame', \n",
    "                   'abusive', 'islamophobic']"
   ]
  },
  {
   "cell_type": "code",
   "execution_count": 111,
   "id": "3db1a7fd",
   "metadata": {},
   "outputs": [],
   "source": [
    "df[new_col] = None"
   ]
  },
  {
   "cell_type": "code",
   "execution_count": 168,
   "id": "dd6f75b5",
   "metadata": {},
   "outputs": [],
   "source": [
    "for i in range(0,len(df)):\n",
    "    try:\n",
    "        pred = classifier( df['Full_Tweet'][i], candidate_labels, multi_label=True)\n",
    "    except:\n",
    "        continue\n",
    "    \n",
    "    if \"obscenity\" in pred['labels']:\n",
    "        df.at[i,'obscenity'] = pred['scores'][pred['labels'].index('obscenity')]\n",
    "    if \"defamatory\" in pred['labels']:\n",
    "        df.at[i,'defamatory'] = pred['scores'][pred['labels'].index('defamatory')]\n",
    "    if \"incitement\" in pred['labels']:\n",
    "        df.at[i,'incitement'] = pred['scores'][pred['labels'].index('incitement')]\n",
    "    if \"threats\" in pred['labels']:\n",
    "        df.at[i,'threats'] = pred['scores'][pred['labels'].index('threats')]\n",
    "    if \"positive\" in pred['labels']:\n",
    "        df.at[i,'positive'] = pred['scores'][pred['labels'].index('positive')]\n",
    "    if \"negative\" in pred['labels']:\n",
    "        df.at[i,'negative'] = pred['scores'][pred['labels'].index('negative')]\n",
    "    if \"political\" in pred['labels']:\n",
    "        df.at[i,'political'] = pred['scores'][pred['labels'].index('political')]\n",
    "    if \"hateful\" in pred['labels']:\n",
    "        df.at[i,'hateful'] = pred['scores'][pred['labels'].index('hateful')]\n",
    "    if \"hindu\" in pred['labels']:\n",
    "        df.at[i,'hindu'] = pred['scores'][pred['labels'].index('hindu')]\n",
    "    if \"religion\" in pred['labels']:\n",
    "        df.at[i,'religion'] = pred['scores'][pred['labels'].index('religion')]\n",
    "    if \"sexism\" in pred['labels']:\n",
    "        df.at[i,'sexism'] = pred['scores'][pred['labels'].index('sexism')]\n",
    "    if \"racism\" in pred['labels']:\n",
    "        df.at[i,'racism'] = pred['scores'][pred['labels'].index('racism')]  \n",
    "    if \"islam\" in pred['labels']:\n",
    "        df.at[i,'islam'] = pred['scores'][pred['labels'].index('islam')]  \n",
    "    if \"muslim\" in pred['labels']:\n",
    "        df.at[i,'muslim'] = pred['scores'][pred['labels'].index('muslim')]\n",
    "    if \"media\" in pred['labels']:\n",
    "        df.at[i,'media'] = pred['scores'][pred['labels'].index('media')]\n",
    "    if \"news\" in pred['labels']:\n",
    "        df.at[i,'news'] = pred['scores'][pred['labels'].index('news')]\n",
    "    if \"politics\" in pred['labels']:\n",
    "        df.at[i,'politics'] = pred['scores'][pred['labels'].index('politics')]\n",
    "    if \"society\" in pred['labels']:\n",
    "        df.at[i,'society'] = pred['scores'][pred['labels'].index('society')]\n",
    "    if \"technology\" in pred['labels']:\n",
    "        df.at[i,'technology'] = pred['scores'][pred['labels'].index('technology')]\n",
    "    if \"fear\" in pred['labels']:\n",
    "        df.at[i,'fear'] = pred['scores'][pred['labels'].index('fear')]\n",
    "    if \"anger\" in pred['labels']:\n",
    "        df.at[i,'anger'] = pred['scores'][pred['labels'].index('anger')]\n",
    "    if \"disgust\" in pred['labels']:\n",
    "        df.at[i,'disgust'] = pred['scores'][pred['labels'].index('disgust')]\n",
    "    if \"shame\" in pred['labels']:\n",
    "        df.at[i,'shame'] = pred['scores'][pred['labels'].index('shame')]\n",
    "    if \"abusive\" in pred['labels']:\n",
    "        df.at[i,'abusive'] = pred['scores'][pred['labels'].index('abusive')]\n",
    "    if \"islamophobic\" in pred['labels']:\n",
    "        df.at[i,'islamophobic'] = pred['scores'][pred['labels'].index('islamophobic')]\n",
    "        \n",
    "    k = k+1"
   ]
  },
  {
   "cell_type": "code",
   "execution_count": 124,
   "id": "bd49f993",
   "metadata": {},
   "outputs": [],
   "source": [
    "df.columns"
   ]
  },
  {
   "cell_type": "code",
   "execution_count": null,
   "id": "8da252e3",
   "metadata": {},
   "outputs": [],
   "source": []
  },
  {
   "cell_type": "code",
   "execution_count": 86,
   "id": "90c6d908",
   "metadata": {},
   "outputs": [],
   "source": [
    "pred = classifier( df['Full_Tweet'][1], candidate_labels, multi_label=True)"
   ]
  },
  {
   "cell_type": "code",
   "execution_count": 93,
   "id": "dca51b32",
   "metadata": {},
   "outputs": [],
   "source": [
    "pred['scores'][pred['labels'].index('defamatory')]"
   ]
  },
  {
   "cell_type": "code",
   "execution_count": 139,
   "id": "66201532",
   "metadata": {},
   "outputs": [],
   "source": [
    "df['Full_Tweet'][12]"
   ]
  },
  {
   "cell_type": "code",
   "execution_count": 149,
   "id": "7ef20923",
   "metadata": {},
   "outputs": [],
   "source": [
    "print(df['islamophobic'][15])\n",
    "print(df['abusive'][15])"
   ]
  },
  {
   "cell_type": "code",
   "execution_count": 167,
   "id": "a2a85ab6",
   "metadata": {},
   "outputs": [],
   "source": [
    "df['Full_Tweet'][12]"
   ]
  },
  {
   "cell_type": "code",
   "execution_count": null,
   "id": "b60ab2b4",
   "metadata": {},
   "outputs": [],
   "source": []
  },
  {
   "cell_type": "code",
   "execution_count": 170,
   "id": "5f75c919",
   "metadata": {},
   "outputs": [],
   "source": [
    "df.to_csv(\"Bert Check.csv\")"
   ]
  },
  {
   "cell_type": "code",
   "execution_count": null,
   "id": "31fddbdb",
   "metadata": {},
   "outputs": [],
   "source": []
  }
 ],
 "metadata": {
  "kernelspec": {
   "display_name": "Python 3 (ipykernel)",
   "language": "python",
   "name": "python3"
  },
  "language_info": {
   "codemirror_mode": {
    "name": "ipython",
    "version": 3
   },
   "file_extension": ".py",
   "mimetype": "text/x-python",
   "name": "python",
   "nbconvert_exporter": "python",
   "pygments_lexer": "ipython3",
   "version": "3.9.13"
  }
 },
 "nbformat": 4,
 "nbformat_minor": 5
}
