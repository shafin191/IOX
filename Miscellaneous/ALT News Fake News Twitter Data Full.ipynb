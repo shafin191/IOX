{
 "cells": [
  {
   "cell_type": "code",
   "execution_count": null,
   "metadata": {},
   "outputs": [],
   "source": [
    "import pandas as pd\n",
    "import time\n",
    "import tweepy\n",
    "import pickle\n",
    "import glob\n",
    "import tweepy\n",
    "import datetime\n",
    "pd.set_option('display.max_colwidth', None)"
   ]
  },
  {
   "cell_type": "code",
   "execution_count": null,
   "metadata": {},
   "outputs": [],
   "source": [
    "key1 = \"\"\n",
    "key2 = \"\"\n",
    "key3 = \"\"\n",
    "key4 = \"\"\n",
    "\n",
    "\n",
    "auth = tweepy.OAuthHandler(key1, key2)\n",
    "auth.set_access_token(key3, key4)\n",
    "\n",
    "api = tweepy.API(auth, wait_on_rate_limit=True)"
   ]
  },
  {
   "cell_type": "code",
   "execution_count": null,
   "metadata": {},
   "outputs": [],
   "source": [
    "file = glob.glob(\"U:/Twitter Research/Fake News Scraping/Fake Accounts/*.data\")"
   ]
  },
  {
   "cell_type": "code",
   "execution_count": null,
   "metadata": {},
   "outputs": [],
   "source": [
    "objects = []\n",
    "user = []\n",
    "for i in file:\n",
    "    with (open(i, \"rb\")) as openfile:\n",
    "        user.append(i)\n",
    "        while True:\n",
    "            try:\n",
    "                objects.append(pickle.load(openfile))\n",
    "            except EOFError:\n",
    "                break"
   ]
  },
  {
   "cell_type": "code",
   "execution_count": null,
   "metadata": {},
   "outputs": [],
   "source": [
    "fullusers = objects"
   ]
  },
  {
   "cell_type": "code",
   "execution_count": null,
   "metadata": {},
   "outputs": [],
   "source": [
    "k=0\n",
    "for i in range(0, len(fullusers[k])):\n",
    "    try:\n",
    "        print(fullusers[k][i].entities['media'][0]['media_url'])\n",
    "    except:\n",
    "        print('no media')"
   ]
  },
  {
   "cell_type": "code",
   "execution_count": null,
   "metadata": {},
   "outputs": [],
   "source": [
    "fullusers[1][0]"
   ]
  },
  {
   "cell_type": "code",
   "execution_count": null,
   "metadata": {},
   "outputs": [],
   "source": [
    "def list_to_dataframe(alltweets, k):\n",
    "    tweet_id = [tweet.id_str for tweet in alltweets]\n",
    "    tweet_created = [tweet.created_at for tweet in alltweets]\n",
    "    tweet_text = [tweet.full_text for tweet in alltweets]\n",
    "    tweet_media = []\n",
    "    tweet_hashtags = [tweet.entities['hashtags'] for tweet in alltweets]\n",
    "    user_id = [tweet.user.id for tweet in alltweets]\n",
    "    screen_name_df = [tweet.user.screen_name for tweet in alltweets]\n",
    "    retweet_count =  [tweet.retweet_count for tweet in alltweets]\n",
    "    favorite_count = [tweet.favorite_count for tweet in alltweets]\n",
    "    lang = [tweet.lang for tweet in alltweets]\n",
    "    source = [tweet.source for tweet in alltweets]\n",
    "    \n",
    "    media_type = []\n",
    "    media_url = []\n",
    "    for i in range(0, len(fullusers[k])):\n",
    "        try:\n",
    "            media_type.append(fullusers[k][i].entities['media'][0]['type'])\n",
    "            media_url.append(fullusers[k][i].entities['media'][0]['media_url'])\n",
    "        except:\n",
    "            media_type.append(None)\n",
    "            media_url.append(None)\n",
    "\n",
    "        \n",
    "    retweet_text = []\n",
    "    i=0\n",
    "    for i in range(len(alltweets)):\n",
    "\n",
    "        try:\n",
    "            retweet_text.append(alltweets[i].retweeted_status.full_text) \n",
    "        except:\n",
    "            retweet_text.append(None)\n",
    "        i = i+1\n",
    "\n",
    "\n",
    "    mod_tweet_hashtags = []\n",
    "    total_hashtags = []\n",
    "\n",
    "    for t in tweet_hashtags:\n",
    "        tag = \"\"\n",
    "        count = 0\n",
    "        if (bool(t) == False):\n",
    "            mod_tweet_hashtags.append('None')\n",
    "            total_hashtags.append(count)\n",
    "        else:\n",
    "            for i in t:\n",
    "                tag = tag + \" \" + i.get('text')\n",
    "                count +=1\n",
    "            mod_tweet_hashtags.append(tag)\n",
    "            total_hashtags.append(count)\n",
    "\n",
    "    mention = [tweet.entities['user_mentions'] for tweet in alltweets]\n",
    "    mod_tweet_mention_sc = []\n",
    "    mod_tweet_mention_id = []\n",
    "    k = 0\n",
    "    for t in mention:\n",
    "        if (bool(t) == False):\n",
    "            mod_tweet_mention_sc.append('None')\n",
    "            mod_tweet_mention_id.append('None')\n",
    "        else:\n",
    "            mod_tweet_mention_sc.append(mention[k][0]['screen_name'])\n",
    "            mod_tweet_mention_id.append(mention[k][0]['id_str'])\n",
    "        k = k+1\n",
    "\n",
    "    tweet_dict = {'Tweet_ID': tweet_id, \n",
    "                  'Tweet_Time': tweet_created, \n",
    "                  'Tweet_Text': tweet_text, \n",
    "                  'Retweet_Text': retweet_text,\n",
    "                  'Tweet_HashTags': mod_tweet_hashtags,\n",
    "                  'Total_Hashtags' : total_hashtags,\n",
    "                  'Retweet_Count': retweet_count,\n",
    "                  'Favorite_Count': favorite_count,\n",
    "                  'Tweet_Source' : source,\n",
    "                  'Retweet_Screen_Name':mod_tweet_mention_sc,\n",
    "                  'Retweet_Account_ID':mod_tweet_mention_id,\n",
    "                  'Tweet_Lang': lang,\n",
    "                  'User_ID': user_id,\n",
    "                  'User_ScreenName': screen_name_df,\n",
    "                  'Post_Media_Type': media_type,\n",
    "                  'Post_Media_URL': media_url\n",
    "                  }  \n",
    "\n",
    "\n",
    "    df = pd.DataFrame(tweet_dict) \n",
    "    df['Retweet_Source_ScreenName'] = 'None'\n",
    "    df['Retweet'] = False\n",
    "\n",
    "\n",
    "\n",
    "    for i in range(0, len(df)):\n",
    "        if 'RT' == df['Tweet_Text'][i].split()[0]:\n",
    "            df['Retweet_Source_ScreenName'][i] = df['Tweet_Text'][i].split()[1][1:-1]\n",
    "            df['Retweet'][i] = True\n",
    "\n",
    "\n",
    "\n",
    "    return df"
   ]
  },
  {
   "cell_type": "code",
   "execution_count": null,
   "metadata": {},
   "outputs": [],
   "source": [
    "x = list_to_dataframe(fullusers[0], 0)"
   ]
  },
  {
   "cell_type": "code",
   "execution_count": null,
   "metadata": {},
   "outputs": [],
   "source": [
    "x"
   ]
  },
  {
   "cell_type": "code",
   "execution_count": null,
   "metadata": {},
   "outputs": [],
   "source": [
    "datauser = list_to_dataframe(fullusers[0], 0)"
   ]
  },
  {
   "cell_type": "code",
   "execution_count": null,
   "metadata": {},
   "outputs": [],
   "source": [
    "datauser"
   ]
  },
  {
   "cell_type": "code",
   "execution_count": null,
   "metadata": {},
   "outputs": [],
   "source": [
    "for i in range(1,len(fullusers)):\n",
    "    dq = list_to_dataframe(fullusers[i], i)\n",
    "    datauser = datauser.append(dq)"
   ]
  },
  {
   "cell_type": "code",
   "execution_count": null,
   "metadata": {},
   "outputs": [],
   "source": [
    "datauser = datauser.reset_index(drop=True)"
   ]
  },
  {
   "cell_type": "code",
   "execution_count": null,
   "metadata": {},
   "outputs": [],
   "source": [
    "ds =datauser.groupby(['User_ID', 'Tweet_Source']).size()"
   ]
  },
  {
   "cell_type": "code",
   "execution_count": null,
   "metadata": {},
   "outputs": [],
   "source": [
    "dsx = ds.reset_index().groupby('User_ID').count().reset_index().sort_values('Tweet_Source', ascending=False)"
   ]
  },
  {
   "cell_type": "code",
   "execution_count": null,
   "metadata": {},
   "outputs": [],
   "source": [
    "usr = datauser['User_ID'].unique()"
   ]
  },
  {
   "cell_type": "code",
   "execution_count": null,
   "metadata": {},
   "outputs": [],
   "source": [
    "usr = usr.tolist()"
   ]
  },
  {
   "cell_type": "code",
   "execution_count": null,
   "metadata": {},
   "outputs": [],
   "source": [
    "ds_retweet =datauser.groupby(['User_ID', 'Retweet']).size()"
   ]
  },
  {
   "cell_type": "code",
   "execution_count": null,
   "metadata": {},
   "outputs": [],
   "source": [
    "ds_retweet =datauser.groupby(['User_ID', 'Retweet']).size()"
   ]
  },
  {
   "cell_type": "code",
   "execution_count": null,
   "metadata": {},
   "outputs": [],
   "source": [
    "datauser.Tweet_Source.unique()"
   ]
  },
  {
   "cell_type": "code",
   "execution_count": null,
   "metadata": {},
   "outputs": [],
   "source": [
    "users1.append(users2)"
   ]
  },
  {
   "cell_type": "code",
   "execution_count": null,
   "metadata": {},
   "outputs": [],
   "source": [
    "user = []\n",
    "user.append(users1)"
   ]
  },
  {
   "cell_type": "code",
   "execution_count": null,
   "metadata": {},
   "outputs": [],
   "source": [
    "user.append(users1)"
   ]
  },
  {
   "cell_type": "code",
   "execution_count": null,
   "metadata": {},
   "outputs": [],
   "source": [
    "def user_data(fullusers):\n",
    "    user_id=[]\n",
    "    user_name=[]\n",
    "    user_screenName=[]\n",
    "    user_location=[]\n",
    "    user_description=[]\n",
    "    user_url=[]\n",
    "    user_followersCount=[]\n",
    "    user_friendsCount=[]\n",
    "    user_createdAt=[]\n",
    "    user_favCount=[]\n",
    "    user_verified=[]\n",
    "    user_statusCount=[]\n",
    "    user_language=[]\n",
    "    userLast_status = []\n",
    "    user_protected = []\n",
    "    user_following_screenName = []\n",
    "    user_following_userID = []\n",
    "    user_profile_image = []\n",
    "    user_profile_banner = []\n",
    "    for i in range(len(fullusers)):\n",
    "        if (fullusers[i].protected==False):\n",
    "            user_id.append(fullusers[i].id)\n",
    "            user_name.append(fullusers[i].name)\n",
    "            user_screenName.append(fullusers[i].screen_name)\n",
    "            user_location.append(fullusers[i].location)\n",
    "            user_description.append(fullusers[i].description)\n",
    "            user_url.append(fullusers[i].url)\n",
    "            user_followersCount.append(fullusers[i].followers_count)\n",
    "            user_friendsCount.append(fullusers[i].friends_count)\n",
    "            user_createdAt.append(fullusers[i].created_at)\n",
    "            user_favCount.append(fullusers[i].favourites_count)\n",
    "            user_verified.append(fullusers[i].verified)\n",
    "            user_statusCount.append(fullusers[i].statuses_count)\n",
    "            user_language.append(fullusers[i].lang)\n",
    "            user_protected.append(fullusers[i].protected)\n",
    "            user_profile_image.append(fullusers[i].profile_image_url)\n",
    "            try:\n",
    "                userLast_status.append(fullusers[i].status.created_at)\n",
    "            except:\n",
    "                userLast_status.append(None)\n",
    "                \n",
    "        if (fullusers[i].protected==True):\n",
    "            user_id.append(fullusers[i].id)\n",
    "            user_name.append(fullusers[i].name)\n",
    "            user_screenName.append(fullusers[i].screen_name)\n",
    "            user_location.append(fullusers[i].location)\n",
    "            user_description.append(fullusers[i].description)\n",
    "            user_url.append(fullusers[i].url)\n",
    "            user_followersCount.append(fullusers[i].followers_count)\n",
    "            user_friendsCount.append(fullusers[i].friends_count)\n",
    "            user_createdAt.append(fullusers[i].created_at)\n",
    "            user_favCount.append(fullusers[i].favourites_count)\n",
    "            user_verified.append(fullusers[i].verified)\n",
    "            user_statusCount.append(fullusers[i].statuses_count)\n",
    "            user_language.append(fullusers[i].lang)\n",
    "            user_protected.append(fullusers[i].protected)\n",
    "            user_profile_image.append(fullusers[i].profile_image_url)\n",
    "            try:\n",
    "                userLast_status.append(fullusers[i].status.created_at)\n",
    "            except:\n",
    "                userLast_status.append(None)\n",
    "\n",
    "    user_info = pd.DataFrame(\n",
    "        {'User ID': user_id,\n",
    "         'UserName': user_name,\n",
    "         'Screen Name': user_screenName,\n",
    "         'UserLocation': user_location,\n",
    "         'UserDescription': user_description,\n",
    "         'UserURL': user_url,\n",
    "         'UserFollowers':user_followersCount,\n",
    "         'UserFriends': user_friendsCount,\n",
    "         'UserCreated': user_createdAt,\n",
    "         'UserFavoriteCount': user_favCount,\n",
    "         'UserVerified': user_verified,\n",
    "         'TotalStatus': user_statusCount,\n",
    "         'UserLanguage':user_language,\n",
    "         'UserLastStatus': userLast_status,\n",
    "         'UserProtected': user_protected,\n",
    "         'UserProfileLink':user_profile_image,\n",
    "         \n",
    "        })\n",
    "    \n",
    "    return user_info\n"
   ]
  },
  {
   "cell_type": "code",
   "execution_count": null,
   "metadata": {},
   "outputs": [],
   "source": [
    "for i in range(0, len(users1)):\n",
    "    dfu = user_data(users1)\n",
    "    dfus = dfu"
   ]
  },
  {
   "cell_type": "code",
   "execution_count": null,
   "metadata": {},
   "outputs": [],
   "source": [
    "dfu = user_data(users6)\n",
    "dfus  = dfus.append(dfu)"
   ]
  },
  {
   "cell_type": "code",
   "execution_count": null,
   "metadata": {},
   "outputs": [],
   "source": [
    "dfus"
   ]
  },
  {
   "cell_type": "code",
   "execution_count": null,
   "metadata": {},
   "outputs": [],
   "source": [
    "dfus=dfus.rename(columns={\"User ID\": \"User_ID\"})"
   ]
  },
  {
   "cell_type": "code",
   "execution_count": null,
   "metadata": {},
   "outputs": [],
   "source": [
    "dsx"
   ]
  },
  {
   "cell_type": "code",
   "execution_count": null,
   "metadata": {},
   "outputs": [],
   "source": [
    "pd.merge( dsx,dfus, on=\"User_ID\", how='outer')[20:40]"
   ]
  },
  {
   "cell_type": "code",
   "execution_count": null,
   "metadata": {},
   "outputs": [],
   "source": [
    "de = pd.read_csv('Final_Fake_Accounts.csv')"
   ]
  },
  {
   "cell_type": "code",
   "execution_count": null,
   "metadata": {},
   "outputs": [],
   "source": []
  },
  {
   "cell_type": "code",
   "execution_count": null,
   "metadata": {},
   "outputs": [],
   "source": [
    "benign = ['destinationpak', ]"
   ]
  },
  {
   "cell_type": "code",
   "execution_count": null,
   "metadata": {},
   "outputs": [],
   "source": [
    "data_tweet_retweet=pd.DataFrame(datauser.groupby(['User_ID', 'Retweet']).size()).reset_index()"
   ]
  },
  {
   "cell_type": "code",
   "execution_count": null,
   "metadata": {},
   "outputs": [],
   "source": [
    "data_retweet=data_tweet_retweet.loc[data_tweet_retweet['Retweet']==True].rename(columns={0: \"Number_of_Retweets\"})\n",
    "data_tweet=data_tweet_retweet.loc[data_tweet_retweet['Retweet']==False].rename(columns={0: \"Number_of_Tweets\"})"
   ]
  },
  {
   "cell_type": "code",
   "execution_count": null,
   "metadata": {},
   "outputs": [],
   "source": [
    "data_retweet = data_retweet.drop('Retweet', axis = 1).reset_index(drop=True)\n",
    "data_tweet = data_tweet.drop('Retweet', axis = 1).reset_index(drop=True)"
   ]
  },
  {
   "cell_type": "code",
   "execution_count": null,
   "metadata": {},
   "outputs": [],
   "source": [
    "data_retweet"
   ]
  },
  {
   "cell_type": "code",
   "execution_count": null,
   "metadata": {},
   "outputs": [],
   "source": [
    "dfus"
   ]
  },
  {
   "cell_type": "code",
   "execution_count": null,
   "metadata": {},
   "outputs": [],
   "source": [
    "dfus = pd.merge(dfus,data_tweet, on=\"User_ID\", how='inner')\n",
    "dfus = pd.merge(dfus,data_retweet, on=\"User_ID\", how='inner')"
   ]
  },
  {
   "cell_type": "code",
   "execution_count": null,
   "metadata": {},
   "outputs": [],
   "source": [
    "dfus"
   ]
  },
  {
   "cell_type": "code",
   "execution_count": null,
   "metadata": {},
   "outputs": [],
   "source": [
    "dfus['Total_Posts'] = dfus['Number_of_Tweets'] + dfus['Number_of_Retweets']"
   ]
  },
  {
   "cell_type": "code",
   "execution_count": null,
   "metadata": {},
   "outputs": [],
   "source": [
    "dfus['UserCreated_Date'] = pd.to_datetime(dfus['UserCreated']).dt.date"
   ]
  },
  {
   "cell_type": "code",
   "execution_count": null,
   "metadata": {},
   "outputs": [],
   "source": [
    "dfus['AccountAgeinDays'] = datetime.date(2022,6,1) - dfus['UserCreated_Date']\n",
    "dfus['AccountAgeinDays'] = dfus['AccountAgeinDays'].dt.days"
   ]
  },
  {
   "cell_type": "code",
   "execution_count": null,
   "metadata": {},
   "outputs": [],
   "source": [
    "dfus['AccountAgeinDays'] = dfus['AccountAgeinDays'].dt.days"
   ]
  },
  {
   "cell_type": "code",
   "execution_count": null,
   "metadata": {},
   "outputs": [],
   "source": [
    "dfus['AveragePosts'] = dfus['TotalStatus']/dfus['AccountAgeinDays']"
   ]
  },
  {
   "cell_type": "code",
   "execution_count": null,
   "metadata": {},
   "outputs": [],
   "source": [
    "dfus.to_csv('FakeAccountRefinedList.csv')"
   ]
  },
  {
   "cell_type": "code",
   "execution_count": null,
   "metadata": {
    "scrolled": true
   },
   "outputs": [],
   "source": [
    "dfus"
   ]
  },
  {
   "cell_type": "code",
   "execution_count": null,
   "metadata": {},
   "outputs": [],
   "source": [
    "df_app_num = pd.DataFrame(datauser.groupby(['User_ID', 'Tweet_Source']).size()).reset_index().groupby('User_ID').count().reset_index().drop(0, axis=1).rename(columns={'Tweet_Source':'NumberofApplications'})"
   ]
  },
  {
   "cell_type": "code",
   "execution_count": null,
   "metadata": {},
   "outputs": [],
   "source": [
    "dfusx = pd.merge(dfus,df_app_num, on=\"User_ID\", how='inner')"
   ]
  },
  {
   "cell_type": "code",
   "execution_count": null,
   "metadata": {},
   "outputs": [],
   "source": [
    "dfusx.loc(dfusx['NumberofApplications'] > 7) "
   ]
  },
  {
   "cell_type": "code",
   "execution_count": null,
   "metadata": {},
   "outputs": [],
   "source": [
    "dfusx.to_csv('FeatureSetforFakeAccounts.csv')"
   ]
  },
  {
   "cell_type": "code",
   "execution_count": null,
   "metadata": {},
   "outputs": [],
   "source": [
    "df_media_no = pd.DataFrame(datauser.groupby(['User_ID', 'Post_Media_Type']).size()).reset_index()"
   ]
  },
  {
   "cell_type": "code",
   "execution_count": null,
   "metadata": {},
   "outputs": [],
   "source": [
    "dfusxx=dfusxx.drop('Post_Media_Type',axis=1)"
   ]
  },
  {
   "cell_type": "code",
   "execution_count": null,
   "metadata": {},
   "outputs": [],
   "source": [
    "df_media_no = df_media_no.rename(columns={0: 'TotalNumberofMedia'})"
   ]
  },
  {
   "cell_type": "code",
   "execution_count": null,
   "metadata": {},
   "outputs": [],
   "source": [
    "dfusxx = pd.merge(dfusx,df_media_no, on=\"User_ID\", how='inner')"
   ]
  },
  {
   "cell_type": "code",
   "execution_count": null,
   "metadata": {},
   "outputs": [],
   "source": [
    "dfusx = dfusxx"
   ]
  },
  {
   "cell_type": "code",
   "execution_count": null,
   "metadata": {},
   "outputs": [],
   "source": [
    "dfusx['AverageNumberofMedia']= dfusx['TotalNumberofMedia']/dfusx['Total_Posts']"
   ]
  },
  {
   "cell_type": "code",
   "execution_count": null,
   "metadata": {},
   "outputs": [],
   "source": [
    "dfusx['FollowerFriendsRatio'] = dfusx['UserFollowers']/dfusx['UserFriends']"
   ]
  },
  {
   "cell_type": "code",
   "execution_count": null,
   "metadata": {},
   "outputs": [],
   "source": [
    "dfusx = dfusx.rename(columns={'TotalPosts': 'TotalPostsCollected'})"
   ]
  },
  {
   "cell_type": "code",
   "execution_count": null,
   "metadata": {},
   "outputs": [],
   "source": [
    "datauser['Post_Date'] = pd.to_datetime(datauser['Tweet_Time']).dt.date\n",
    "datauser['Post_Time'] = pd.to_datetime(datauser['Tweet_Time']).dt.time"
   ]
  },
  {
   "cell_type": "code",
   "execution_count": null,
   "metadata": {},
   "outputs": [],
   "source": [
    "df_hashtag = pd.DataFrame(datauser.groupby(['User_ID','Total_Hashtags']).size()).reset_index().rename(columns = {0:'HashtagCount'})\n"
   ]
  },
  {
   "cell_type": "code",
   "execution_count": null,
   "metadata": {},
   "outputs": [],
   "source": [
    "df_hashtag= df_hashtag[df_hashtag['Total_Hashtags'] != 0]"
   ]
  },
  {
   "cell_type": "code",
   "execution_count": null,
   "metadata": {},
   "outputs": [],
   "source": [
    "df_hashtag['Total']=df_hashtag['Total_Hashtags'] * df_hashtag['HashtagCount']"
   ]
  },
  {
   "cell_type": "code",
   "execution_count": null,
   "metadata": {},
   "outputs": [],
   "source": [
    "df_hashtag = pd.DataFrame(df_hashtag.groupby('User_ID')['Total'].sum()).reset_index().rename(columns = {'Total':'TotalHashtagsCollected'})"
   ]
  },
  {
   "cell_type": "code",
   "execution_count": null,
   "metadata": {},
   "outputs": [],
   "source": [
    "df_hashtag"
   ]
  },
  {
   "cell_type": "code",
   "execution_count": null,
   "metadata": {},
   "outputs": [],
   "source": [
    "datauser.loc[datauser['User_ID']==6509832].sample(100)"
   ]
  },
  {
   "cell_type": "code",
   "execution_count": null,
   "metadata": {},
   "outputs": [],
   "source": [
    "dfusxx = pd.merge(dfusx,df_hashtag, on=\"User_ID\", how='inner')"
   ]
  },
  {
   "cell_type": "code",
   "execution_count": null,
   "metadata": {},
   "outputs": [],
   "source": [
    "dfusxx['AverageHashtagsCollected'] = dfusxx['TotalHashtagsCollected']/dfusxx['Total_Posts']"
   ]
  },
  {
   "cell_type": "code",
   "execution_count": null,
   "metadata": {},
   "outputs": [],
   "source": [
    "dfusxx=dfusxx.rename(columns = {'Total_Posts' : 'TotalPostsCollected'})"
   ]
  },
  {
   "cell_type": "code",
   "execution_count": null,
   "metadata": {},
   "outputs": [],
   "source": [
    "dfusx = dfusxx"
   ]
  },
  {
   "cell_type": "code",
   "execution_count": null,
   "metadata": {},
   "outputs": [],
   "source": [
    "datauser.to_csv('AllTweetsofFakeAccounts.csv')"
   ]
  },
  {
   "cell_type": "code",
   "execution_count": null,
   "metadata": {},
   "outputs": [],
   "source": [
    "datauser= pd.read_csv('AllTweetsofFakeAccounts.csv')"
   ]
  },
  {
   "cell_type": "code",
   "execution_count": null,
   "metadata": {},
   "outputs": [],
   "source": [
    "dfusx = pd.read_csv('FeatureSetforFakeAccounts.csv')"
   ]
  },
  {
   "cell_type": "code",
   "execution_count": null,
   "metadata": {},
   "outputs": [],
   "source": [
    "dfusx = dfusx.drop('Unnamed: 0', axis =1)"
   ]
  },
  {
   "cell_type": "code",
   "execution_count": null,
   "metadata": {},
   "outputs": [],
   "source": [
    "datauser['Post_Time']"
   ]
  },
  {
   "cell_type": "code",
   "execution_count": null,
   "metadata": {},
   "outputs": [],
   "source": [
    "datauser['hour'] = pd.to_datetime(datauser['Post_Time'], format='%H:%M:%S').dt.hour"
   ]
  },
  {
   "cell_type": "code",
   "execution_count": null,
   "metadata": {},
   "outputs": [],
   "source": [
    "datauser['hour'].unique()"
   ]
  },
  {
   "cell_type": "code",
   "execution_count": null,
   "metadata": {},
   "outputs": [],
   "source": [
    "xr = pd.DataFrame(datauser.groupby(['User_ID','hour']).size()).reset_index().rename(columns = {0:'Time_in_Hour'})\n"
   ]
  },
  {
   "cell_type": "code",
   "execution_count": null,
   "metadata": {},
   "outputs": [],
   "source": [
    "xr_t = xr.transpose()"
   ]
  },
  {
   "cell_type": "code",
   "execution_count": null,
   "metadata": {},
   "outputs": [],
   "source": [
    "xr"
   ]
  },
  {
   "cell_type": "code",
   "execution_count": null,
   "metadata": {},
   "outputs": [],
   "source": [
    "len(dfusx)"
   ]
  },
  {
   "cell_type": "code",
   "execution_count": null,
   "metadata": {},
   "outputs": [],
   "source": [
    "dfusx['User_ID']"
   ]
  },
  {
   "cell_type": "code",
   "execution_count": null,
   "metadata": {},
   "outputs": [],
   "source": [
    "df_hour_f = pd.DataFrame(columns = ['User', 'Hour0', 'Hour1', 'Hour2', 'Hour3',\n",
    "                                   'Hour4', 'Hour5', 'Hour6', 'Hour7', 'Hour8',\n",
    "                                   'Hour9', 'Hour10', 'Hour11', 'Hour12','Hour13',\n",
    "                                   'Hour14', 'Hour15', 'Hour16', 'Hour17', 'Hour18',\n",
    "                                   'Hour19', 'Hour20', 'Hour21', 'Hour22','Hour23',])"
   ]
  },
  {
   "cell_type": "code",
   "execution_count": null,
   "metadata": {},
   "outputs": [],
   "source": []
  },
  {
   "cell_type": "code",
   "execution_count": null,
   "metadata": {},
   "outputs": [],
   "source": [
    "df_hour_f"
   ]
  },
  {
   "cell_type": "code",
   "execution_count": null,
   "metadata": {},
   "outputs": [],
   "source": [
    "sub =  dfusx['User_ID'].apply(str)"
   ]
  },
  {
   "cell_type": "code",
   "execution_count": null,
   "metadata": {},
   "outputs": [],
   "source": [
    "df_hour_f"
   ]
  },
  {
   "cell_type": "code",
   "execution_count": null,
   "metadata": {},
   "outputs": [],
   "source": [
    "df_hour_f = pd.concat([df_hour_f,sub])"
   ]
  },
  {
   "cell_type": "code",
   "execution_count": null,
   "metadata": {},
   "outputs": [],
   "source": [
    "df_hour_f[0]"
   ]
  },
  {
   "cell_type": "code",
   "execution_count": null,
   "metadata": {},
   "outputs": [],
   "source": [
    "df_hour_f = df_hour_f.drop('User', axis = 1)"
   ]
  },
  {
   "cell_type": "code",
   "execution_count": null,
   "metadata": {},
   "outputs": [],
   "source": [
    "df_hour_f =  df_hour_f.rename(columns = {0:'User_ID'})"
   ]
  },
  {
   "cell_type": "code",
   "execution_count": null,
   "metadata": {},
   "outputs": [],
   "source": [
    "df_hour_f = df_hour_f.fillna(0)"
   ]
  },
  {
   "cell_type": "code",
   "execution_count": null,
   "metadata": {},
   "outputs": [],
   "source": [
    "df_hour_f.at[0, 'Hour0'] = 0"
   ]
  },
  {
   "cell_type": "code",
   "execution_count": null,
   "metadata": {},
   "outputs": [],
   "source": [
    "df_hour_f"
   ]
  },
  {
   "cell_type": "code",
   "execution_count": null,
   "metadata": {},
   "outputs": [],
   "source": [
    "len(xr_t.columns)"
   ]
  },
  {
   "cell_type": "code",
   "execution_count": null,
   "metadata": {},
   "outputs": [],
   "source": [
    "for i in range(0, len(xr_t.columns)):\n",
    "    uid = xr_t[i].User_ID\n",
    "    uhour = xr_t[i].hour\n",
    "    upost = xr_t[i].Time_in_Hour\n",
    "    for j in range(0,len(df_hour_f)):\n",
    "        if df_hour_f.iloc[j].User_ID == str(uid):\n",
    "            if uhour == 0:\n",
    "                df_hour_f.at[j, 'Hour0'] = upost\n",
    "            if uhour == 1:\n",
    "                df_hour_f.at[j, 'Hour1'] = upost\n",
    "            if uhour == 2:\n",
    "                df_hour_f.at[j, 'Hour2'] = upost\n",
    "            if uhour == 3:\n",
    "                df_hour_f.at[j, 'Hour3'] = upost\n",
    "            if uhour == 4:\n",
    "                df_hour_f.at[j, 'Hour4'] = upost\n",
    "            if uhour == 5:\n",
    "                df_hour_f.at[j, 'Hour5'] = upost\n",
    "            if uhour == 6:\n",
    "                df_hour_f.at[j, 'Hour6'] = upost\n",
    "            if uhour == 7:\n",
    "                df_hour_f.at[j, 'Hour7'] = upost\n",
    "            if uhour == 8:\n",
    "                df_hour_f.at[j, 'Hour8'] = upost\n",
    "            if uhour == 9:\n",
    "                df_hour_f.at[j, 'Hour9'] = upost\n",
    "            if uhour == 10:\n",
    "                df_hour_f.at[j, 'Hour10'] = upost\n",
    "            if uhour == 11:\n",
    "                df_hour_f.at[j, 'Hour11'] = upost\n",
    "            if uhour == 12:\n",
    "                df_hour_f.at[j, 'Hour12'] = upost\n",
    "            if uhour == 13:\n",
    "                df_hour_f.at[j, 'Hour13'] = upost\n",
    "            if uhour == 14:\n",
    "                df_hour_f.at[j, 'Hour14'] = upost\n",
    "            if uhour == 15:\n",
    "                df_hour_f.at[j, 'Hour15'] = upost\n",
    "            if uhour == 16:\n",
    "                df_hour_f.at[j, 'Hour16'] = upost\n",
    "            if uhour == 17:\n",
    "                df_hour_f.at[j, 'Hour17'] = upost\n",
    "            if uhour == 18:\n",
    "                df_hour_f.at[j, 'Hour18'] = upost\n",
    "            if uhour == 19:\n",
    "                df_hour_f.at[j, 'Hour19'] = upost\n",
    "            if uhour == 20:\n",
    "                df_hour_f.at[j, 'Hour20'] = upost\n",
    "            if uhour == 21:\n",
    "                df_hour_f.at[j, 'Hour21'] = upost\n",
    "            if uhour == 22:\n",
    "                df_hour_f.at[j, 'Hour22'] = upost\n",
    "            if uhour == 23:\n",
    "                df_hour_f.at[j, 'Hour23'] = upost\n",
    "                \n",
    "            "
   ]
  },
  {
   "cell_type": "code",
   "execution_count": null,
   "metadata": {},
   "outputs": [],
   "source": [
    "df_hour_f['Total'] = df_hour_f['Hour0'] + df_hour_f['Hour1'] + df_hour_f['Hour2'] + df_hour_f['Hour3'] + df_hour_f['Hour4'] + df_hour_f['Hour5'] + df_hour_f['Hour6'] + df_hour_f['Hour7'] + df_hour_f['Hour8'] + df_hour_f['Hour9'] + df_hour_f['Hour10'] + df_hour_f['Hour11'] + df_hour_f['Hour12'] + df_hour_f['Hour13'] + df_hour_f['Hour14'] + df_hour_f['Hour15'] + df_hour_f['Hour16'] + df_hour_f['Hour17'] + df_hour_f['Hour18'] + df_hour_f['Hour19'] + df_hour_f['Hour20'] + df_hour_f['Hour21'] + df_hour_f['Hour22'] + df_hour_f['Hour23']  "
   ]
  },
  {
   "cell_type": "code",
   "execution_count": null,
   "metadata": {},
   "outputs": [],
   "source": [
    "for i in range(0,24):\n",
    "    df_hour_f['Percentage_of_Posts_in_Hour_' + str(i)] = df_hour_f['Hour'+str(i)]/df_hour_f['Total']"
   ]
  },
  {
   "cell_type": "code",
   "execution_count": null,
   "metadata": {
    "scrolled": true
   },
   "outputs": [],
   "source": [
    "for i in range(0,24):\n",
    "    df_hour_f['Percentage_of_Posts_in_Hour_' + str(i)] = df_hour_f['Percentage_of_Posts_in_Hour_' + str(i)] * 100"
   ]
  },
  {
   "cell_type": "code",
   "execution_count": null,
   "metadata": {},
   "outputs": [],
   "source": [
    "df_hour_f.iloc[3]"
   ]
  },
  {
   "cell_type": "code",
   "execution_count": null,
   "metadata": {},
   "outputs": [],
   "source": [
    "dfusx['User_ID'] = dfusx['User_ID'].apply(str)"
   ]
  },
  {
   "cell_type": "code",
   "execution_count": null,
   "metadata": {},
   "outputs": [],
   "source": [
    "dfusx['User_ID'] = dfusx['User_ID'].apply(str)\n",
    "dfuszz = pd.merge(dfusx,df_hour_f, on=\"User_ID\", how='inner')"
   ]
  },
  {
   "cell_type": "code",
   "execution_count": null,
   "metadata": {},
   "outputs": [],
   "source": [
    "dfusx = dfuszz"
   ]
  },
  {
   "cell_type": "code",
   "execution_count": null,
   "metadata": {},
   "outputs": [],
   "source": [
    "dfusx.to_csv('FeatureSetforFakeAccounts.csv')"
   ]
  },
  {
   "cell_type": "code",
   "execution_count": null,
   "metadata": {},
   "outputs": [],
   "source": [
    "dfusx"
   ]
  },
  {
   "cell_type": "code",
   "execution_count": null,
   "metadata": {},
   "outputs": [],
   "source": [
    "datauser"
   ]
  },
  {
   "cell_type": "code",
   "execution_count": null,
   "metadata": {},
   "outputs": [],
   "source": [
    "df_retweeted = pd.DataFrame(datauser.groupby(['User_ID', 'Retweet_Count']).size()).reset_index().groupby('User_ID').count().reset_index().drop(0, axis=1).rename(columns = {'Retweet_Count' : 'Retweeted_Post_Count'})"
   ]
  },
  {
   "cell_type": "code",
   "execution_count": null,
   "metadata": {},
   "outputs": [],
   "source": [
    "datauser[datauser['User_ID']==6509832]"
   ]
  },
  {
   "cell_type": "code",
   "execution_count": null,
   "metadata": {},
   "outputs": [],
   "source": [
    "dfusx['User_ID'] = dfusx['User_ID'].apply(str)\n",
    "df_retweeted['User_ID'] = df_retweeted['User_ID'].apply(str)\n",
    "dfuszz = pd.merge(dfusx,df_retweeted, on=\"User_ID\", how='inner')"
   ]
  },
  {
   "cell_type": "code",
   "execution_count": null,
   "metadata": {},
   "outputs": [],
   "source": [
    "dfuszz['Average_Retweeted_Post_Count']=dfuszz['Retweeted_Post_Count']/dfuszz['TotalPostsCollected']"
   ]
  },
  {
   "cell_type": "code",
   "execution_count": null,
   "metadata": {},
   "outputs": [],
   "source": [
    "dfusx = dfuszz"
   ]
  },
  {
   "cell_type": "code",
   "execution_count": null,
   "metadata": {},
   "outputs": [],
   "source": [
    "df_liked = pd.DataFrame(datauser.groupby(['User_ID', 'Favorite_Count']).size()).reset_index().groupby('User_ID').count().reset_index().drop(0, axis=1).rename(columns = {'Favorite_Count' : 'Favorite_Post_Count'})\n",
    "dfusx['User_ID'] = dfusx['User_ID'].apply(str)\n",
    "df_liked['User_ID'] = df_liked['User_ID'].apply(str)\n",
    "dfuszz = pd.merge(dfusx,df_liked, on=\"User_ID\", how='inner')"
   ]
  },
  {
   "cell_type": "code",
   "execution_count": null,
   "metadata": {},
   "outputs": [],
   "source": [
    "datauser[datauser['User_ID']==6509832]['Post_Date'].unique()"
   ]
  },
  {
   "cell_type": "code",
   "execution_count": null,
   "metadata": {},
   "outputs": [],
   "source": [
    "user = datauser['User_ID'].unique()"
   ]
  },
  {
   "cell_type": "code",
   "execution_count": null,
   "metadata": {},
   "outputs": [],
   "source": [
    "df_timeline = pd.DataFrame(columns=['User_ID', 'Active_Days', 'Active_Hours', 'Average_Active_Hours'])"
   ]
  },
  {
   "cell_type": "code",
   "execution_count": null,
   "metadata": {},
   "outputs": [],
   "source": [
    "df_timeline"
   ]
  },
  {
   "cell_type": "code",
   "execution_count": null,
   "metadata": {},
   "outputs": [],
   "source": [
    "g=0\n",
    "for i in user:\n",
    "    day_duration = datauser[datauser['User_ID']==i]['Post_Date'].unique()\n",
    "    sum = 0\n",
    "    for j in day_duration:\n",
    "        time_avg = len(datauser[(datauser['User_ID']==i) & (datauser['Post_Date'] == j)].hour.unique())\n",
    "        sum = sum + time_avg\n",
    "    df_timeline.at[g, 'User_ID'] = i\n",
    "    df_timeline.at[g, 'Active_Days'] = len(day_duration)\n",
    "    df_timeline.at[g, 'Active_Hours'] = sum\n",
    "    df_timeline.at[g, 'Average_Active_Hours'] = sum/len(day_duration)\n",
    "    g= g+1"
   ]
  },
  {
   "cell_type": "code",
   "execution_count": null,
   "metadata": {},
   "outputs": [],
   "source": [
    "g=0\n",
    "for i in user:\n",
    "    day_duration = datauser[datauser['User_ID']==i]['Post_Date'].unique()\n",
    "    sum = 0\n",
    "    for j in day_duration:\n",
    "        time_avg = len(datauser[(datauser['User_ID']==i) & (datauser['Post_Date'] == j)].hour.unique())\n",
    "        sum = sum + time_avg\n",
    "    df_timeline.at[g, 'User_ID'] = i\n",
    "    df_timeline.at[g, 'Active_Days'] = len(day_duration)\n",
    "    df_timeline.at[g, 'Active_Hours'] = sum\n",
    "    df_timeline.at[g, 'Average_Active_Hours'] = sum/len(day_duration)\n",
    "    g= g+1"
   ]
  },
  {
   "cell_type": "code",
   "execution_count": null,
   "metadata": {},
   "outputs": [],
   "source": [
    "len(datauser[(datauser['User_ID']==6509832) & (datauser['Post_Date'] == '2022-05-07')].hour.unique())"
   ]
  },
  {
   "cell_type": "code",
   "execution_count": null,
   "metadata": {},
   "outputs": [],
   "source": [
    "dfusx['User_ID'] = dfusx['User_ID'].apply(str)\n",
    "df_timeline['User_ID'] = df_timeline['User_ID'].apply(str)\n",
    "dfuszz = pd.merge(dfusx,df_timeline, on=\"User_ID\", how='inner')"
   ]
  },
  {
   "cell_type": "code",
   "execution_count": null,
   "metadata": {},
   "outputs": [],
   "source": [
    "dfusx = dfuszz "
   ]
  },
  {
   "cell_type": "code",
   "execution_count": null,
   "metadata": {},
   "outputs": [],
   "source": [
    "dfusx.to_csv('FeatureSetforFakeAccounts.csv')"
   ]
  },
  {
   "cell_type": "code",
   "execution_count": null,
   "metadata": {},
   "outputs": [],
   "source": [
    "datauser = datauser.drop('Unnamed: 0', axis =1)"
   ]
  },
  {
   "cell_type": "code",
   "execution_count": null,
   "metadata": {},
   "outputs": [],
   "source": [
    "datauser.to_csv('AllTweetsofFakeAccounts.csv')"
   ]
  },
  {
   "cell_type": "code",
   "execution_count": null,
   "metadata": {},
   "outputs": [],
   "source": [
    "datauser"
   ]
  },
  {
   "cell_type": "code",
   "execution_count": null,
   "metadata": {},
   "outputs": [],
   "source": [
    "pd.DataFrame(datauser.groupby(['User_ID','Retweet_Source_ScreenName']).size()).reset_index()"
   ]
  },
  {
   "cell_type": "code",
   "execution_count": null,
   "metadata": {},
   "outputs": [],
   "source": [
    "unique_rt_src = len(datauser[datauser['User_ID']==6509832]['Retweet_Source_ScreenName'].unique())-1"
   ]
  },
  {
   "cell_type": "code",
   "execution_count": null,
   "metadata": {},
   "outputs": [],
   "source": [
    "unique_rt_src"
   ]
  },
  {
   "cell_type": "code",
   "execution_count": null,
   "metadata": {},
   "outputs": [],
   "source": [
    "df_rt_src = pd.DataFrame(columns=['User_ID', 'Unique_RT_Source'])"
   ]
  },
  {
   "cell_type": "code",
   "execution_count": null,
   "metadata": {},
   "outputs": [],
   "source": [
    "g=0\n",
    "for i in user:\n",
    "    unique_rt_src = len(datauser[datauser['User_ID']==i]['Retweet_Source_ScreenName'].unique())-1\n",
    "    df_rt_src.at[g, 'User_ID'] = i\n",
    "    df_rt_src.at[g, 'Unique_RT_Source'] = unique_rt_src\n",
    "    g= g+1"
   ]
  },
  {
   "cell_type": "code",
   "execution_count": null,
   "metadata": {},
   "outputs": [],
   "source": [
    "dfusx['User_ID'] = dfusx['User_ID'].apply(str)\n",
    "df_rt_src['User_ID'] = df_rt_src['User_ID'].apply(str)\n",
    "dfuszz = pd.merge(dfusx,df_rt_src, on=\"User_ID\", how='inner')"
   ]
  },
  {
   "cell_type": "code",
   "execution_count": null,
   "metadata": {},
   "outputs": [],
   "source": [
    "dfusx=dfuszz\n",
    "dfusx.to_csv('FeatureSetforFakeAccounts.csv')"
   ]
  }
 ],
 "metadata": {
  "kernelspec": {
   "display_name": "Python 3 (ipykernel)",
   "language": "python",
   "name": "python3"
  },
  "language_info": {
   "codemirror_mode": {
    "name": "ipython",
    "version": 3
   },
   "file_extension": ".py",
   "mimetype": "text/x-python",
   "name": "python",
   "nbconvert_exporter": "python",
   "pygments_lexer": "ipython3",
   "version": "3.9.13"
  }
 },
 "nbformat": 4,
 "nbformat_minor": 4
}
