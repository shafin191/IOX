{
 "cells": [
  {
   "cell_type": "code",
   "execution_count": null,
   "id": "674d61c8",
   "metadata": {},
   "outputs": [],
   "source": [
    "import pandas as pd\n",
    "import matplotlib as plt\n",
    "import numpy as np\n",
    "import os\n",
    "pd.set_option('display.max_colwidth', None)\n",
    "pd.set_option('display.max_columns', 10)\n",
    "pd.set_option('display.max_rows', 50)\n",
    "print(os.getcwd())"
   ]
  },
  {
   "cell_type": "code",
   "execution_count": null,
   "id": "7ded1844",
   "metadata": {},
   "outputs": [],
   "source": [
    "df_topic = pd.read_csv('All_Tweet_With_Topic.csv')"
   ]
  },
  {
   "cell_type": "code",
   "execution_count": null,
   "id": "f821c630",
   "metadata": {},
   "outputs": [],
   "source": [
    "df_topic"
   ]
  },
  {
   "cell_type": "code",
   "execution_count": null,
   "id": "77c7c55c",
   "metadata": {},
   "outputs": [],
   "source": [
    "df_group = pd.read_csv('Refined_Community_with_Political_Label.csv')"
   ]
  },
  {
   "cell_type": "code",
   "execution_count": null,
   "id": "267c79fe",
   "metadata": {},
   "outputs": [],
   "source": [
    "df_group"
   ]
  },
  {
   "cell_type": "code",
   "execution_count": null,
   "id": "1d3c0b18",
   "metadata": {},
   "outputs": [],
   "source": [
    "bjp_group = [0,8,1,6,15,13,5,14,4]\n",
    "inc_group = [17,18,19,42,29]\n",
    "top_group = bjp_group + inc_group"
   ]
  },
  {
   "cell_type": "code",
   "execution_count": null,
   "id": "197c32a4",
   "metadata": {},
   "outputs": [],
   "source": [
    "df_group_top = df_group[df_group.Community_ID.isin(top_group)]"
   ]
  },
  {
   "cell_type": "code",
   "execution_count": null,
   "id": "1eea93b5",
   "metadata": {},
   "outputs": [],
   "source": [
    "df_group_top"
   ]
  },
  {
   "cell_type": "code",
   "execution_count": null,
   "id": "dc8ec184",
   "metadata": {},
   "outputs": [],
   "source": [
    "df_topic_top = df_topic[df_topic.User_ID.isin(df_group_top.User_ID)]"
   ]
  },
  {
   "cell_type": "code",
   "execution_count": null,
   "id": "64740dc0",
   "metadata": {},
   "outputs": [],
   "source": [
    "df_topic_top = pd.merge(df_topic_top, df_group_top, on = 'User_ID')"
   ]
  },
  {
   "cell_type": "code",
   "execution_count": null,
   "id": "c61dd9d6",
   "metadata": {},
   "outputs": [],
   "source": [
    "df_topic_top"
   ]
  },
  {
   "cell_type": "code",
   "execution_count": null,
   "id": "9aadd1ef",
   "metadata": {},
   "outputs": [],
   "source": []
  },
  {
   "cell_type": "code",
   "execution_count": null,
   "id": "c80fcf8f",
   "metadata": {},
   "outputs": [],
   "source": [
    "df_topic_top_count = df_topic_top.groupby(['Reduce_Topic', 'Community_ID']).count()\n",
    "df_topic_top_count2 = df_topic_top_count.reset_index()"
   ]
  },
  {
   "cell_type": "code",
   "execution_count": null,
   "id": "d8cbc4d8",
   "metadata": {},
   "outputs": [],
   "source": [
    "df_topic_top_count2 = df_topic_top_count.reset_index()"
   ]
  },
  {
   "cell_type": "code",
   "execution_count": null,
   "id": "ec8a9a73",
   "metadata": {},
   "outputs": [],
   "source": [
    "df_topic_top_count2.loc[df_topic_top_count2.Reduce_Topic == 0].Community_ID.tolist()"
   ]
  },
  {
   "cell_type": "code",
   "execution_count": null,
   "id": "fd636802",
   "metadata": {},
   "outputs": [],
   "source": [
    "df_topic_top_count2"
   ]
  },
  {
   "cell_type": "code",
   "execution_count": null,
   "id": "7d820d68",
   "metadata": {},
   "outputs": [],
   "source": [
    "topic_group = {}\n",
    "for i in range(0, 12993):\n",
    "    topic_group[i] = df_topic_top_count2.loc[df_topic_top_count2.Reduce_Topic == i].Community_ID.tolist()"
   ]
  },
  {
   "cell_type": "code",
   "execution_count": null,
   "id": "f19d54aa",
   "metadata": {},
   "outputs": [],
   "source": [
    "len(topic_group[0])"
   ]
  },
  {
   "cell_type": "code",
   "execution_count": null,
   "id": "1b6b67bc",
   "metadata": {},
   "outputs": [],
   "source": [
    "one_group_topic = {}\n",
    "for i in range(0, 12993):\n",
    "    print(i)\n",
    "    if len(topic_group[i]) == 1:\n",
    "        one_group_topic[i] = topic_group[i]"
   ]
  },
  {
   "cell_type": "code",
   "execution_count": null,
   "id": "ec1ad928",
   "metadata": {},
   "outputs": [],
   "source": [
    "len(one_group_topic)"
   ]
  },
  {
   "cell_type": "code",
   "execution_count": null,
   "id": "f52b5046",
   "metadata": {},
   "outputs": [],
   "source": [
    "one_group_topic.keys()"
   ]
  },
  {
   "cell_type": "code",
   "execution_count": null,
   "id": "44b9ad06",
   "metadata": {},
   "outputs": [],
   "source": [
    "df_topic_top[df_topic_top.Reduce_Topic.isin(one_group_topic.keys())].groupby(['Reduce_Topic', 'Cluster_ID']).count().reset_index()[['Reduce_Topic', 'Cluster_ID']].groupby('Reduce_Topic').count().reset_index().describe()"
   ]
  },
  {
   "cell_type": "code",
   "execution_count": null,
   "id": "629b3e00",
   "metadata": {},
   "outputs": [],
   "source": [
    "two_group_topic = {}\n",
    "for i in range(0, 12993):\n",
    "    if len(topic_group[i]) == 2:\n",
    "        two_group_topic[i] = topic_group[i]"
   ]
  },
  {
   "cell_type": "code",
   "execution_count": null,
   "id": "1ff4ded5",
   "metadata": {},
   "outputs": [],
   "source": [
    "two_group_topic"
   ]
  },
  {
   "cell_type": "code",
   "execution_count": null,
   "id": "49d6da97",
   "metadata": {},
   "outputs": [],
   "source": [
    "num_two_same_bjp = 0\n",
    "num_two_same_inc = 0\n",
    "num_one_bjp_one_inc = 0\n",
    "num_two_same = 0\n",
    "num_two_bjp_topic = {}\n",
    "num_two_inc_topic = {}\n",
    "num_one_one_topic = {}\n",
    "num_two_topic ={}\n",
    "\n",
    "for i in two_group_topic.keys():\n",
    "    if len(set(bjp_group).intersection(set(two_group_topic[i]))) == 2:\n",
    "        num_two_same_bjp += 1\n",
    "        num_two_bjp_topic[i] = two_group_topic[i]\n",
    "    if len(set(inc_group).intersection(set(two_group_topic[i]))) == 2:\n",
    "        num_two_same_inc += 1\n",
    "        num_two_inc_topic[i] = two_group_topic[i]\n",
    "    if len(set(bjp_group).intersection(set(two_group_topic[i]))) == 1 and len(set(inc_group).intersection(set(two_group_topic[i]))) == 1:\n",
    "        num_one_bjp_one_inc += 1\n",
    "        num_one_one_topic[i] = two_group_topic[i]\n",
    "    if len(set(bjp_group).intersection(set(two_group_topic[i]))) == 2 or len(set(inc_group).intersection(set(two_group_topic[i]))) == 2:\n",
    "        num_two_same += 1\n",
    "        num_two_topic[i] = two_group_topic[i]\n",
    "    "
   ]
  },
  {
   "cell_type": "code",
   "execution_count": null,
   "id": "19dcf4fc",
   "metadata": {},
   "outputs": [],
   "source": [
    "print(num_one_bjp_one_inc)"
   ]
  },
  {
   "cell_type": "code",
   "execution_count": null,
   "id": "6ff5db88",
   "metadata": {},
   "outputs": [],
   "source": [
    "def group_info(my_dict):\n",
    "    print(\"Total Topic: \" + str(len(my_dict)))\n",
    "    print(\"Total Campaing: \" + str(len(df_topic_top[df_topic_top.Reduce_Topic.isin(my_dict.keys())].groupby([ 'Cluster_ID']).count())))\n",
    "    print(df_topic_top[df_topic_top.Reduce_Topic.isin(my_dict.keys())].groupby(['Reduce_Topic', 'Cluster_ID']).count().reset_index()[['Reduce_Topic', 'Cluster_ID']].groupby('Reduce_Topic').count().reset_index().describe())"
   ]
  },
  {
   "cell_type": "code",
   "execution_count": null,
   "id": "b2aff202",
   "metadata": {},
   "outputs": [],
   "source": [
    "group_info(num_two_topic)"
   ]
  },
  {
   "cell_type": "code",
   "execution_count": null,
   "id": "ae129543",
   "metadata": {},
   "outputs": [],
   "source": [
    "def group_info(my_dict):\n",
    "    print(\"Total Topic: \" + str(len(my_dict)))\n",
    "    print(\"Total Campaing: \" + str(len(df_topic_top[df_topic_top.Reduce_Topic.isin(my_dict.keys())].groupby([ 'Cluster_ID']).count())))\n",
    "    print(df_topic_top[df_topic_top.Reduce_Topic.isin(my_dict.keys())].groupby(['Reduce_Topic', 'Cluster_ID']).count().reset_index()[['Reduce_Topic', 'Cluster_ID']].groupby('Reduce_Topic').count().reset_index().describe())"
   ]
  },
  {
   "cell_type": "code",
   "execution_count": null,
   "id": "158a5601",
   "metadata": {},
   "outputs": [],
   "source": []
  },
  {
   "cell_type": "code",
   "execution_count": null,
   "id": "fa812731",
   "metadata": {},
   "outputs": [],
   "source": [
    "print(\"Total Campaing: \" + str(len(df_topic_top[df_topic_top.Reduce_Topic.isin(num_two_bjp_topic.keys())].groupby([ 'Cluster_ID']).count())))"
   ]
  },
  {
   "cell_type": "code",
   "execution_count": null,
   "id": "9b4ad519",
   "metadata": {},
   "outputs": [],
   "source": [
    "print(df_topic_top[df_topic_top.Reduce_Topic.isin(two_group_topic.keys())].groupby(['Reduce_Topic', 'Cluster_ID']).count().reset_index()[['Reduce_Topic', 'Cluster_ID']].groupby('Reduce_Topic').count().reset_index().describe())"
   ]
  },
  {
   "cell_type": "code",
   "execution_count": null,
   "id": "0782d84e",
   "metadata": {},
   "outputs": [],
   "source": [
    "more_than_two_group_topic = {}\n",
    "for i in range(0, 12993):\n",
    "    if len(topic_group[i]) > 2:\n",
    "        more_than_two_group_topic[i] = topic_group[i]"
   ]
  },
  {
   "cell_type": "code",
   "execution_count": null,
   "id": "9ca5f73d",
   "metadata": {},
   "outputs": [],
   "source": [
    "len(more_than_two_group_topic)"
   ]
  },
  {
   "cell_type": "code",
   "execution_count": null,
   "id": "14adfa01",
   "metadata": {},
   "outputs": [],
   "source": [
    "group_info(more_than_two_group_topic)"
   ]
  },
  {
   "cell_type": "code",
   "execution_count": null,
   "id": "1b42da0f",
   "metadata": {},
   "outputs": [],
   "source": [
    "all_bjp = 0\n",
    "all_inc = 0\n",
    "bjp_inc_all = 0\n",
    "all_bjp_topic = {}\n",
    "all_inc_topic = {}\n",
    "bjp_inc_mix = {}\n",
    "for i in more_than_two_group_topic.keys():\n",
    "    if len(set(bjp_group).intersection(set(more_than_two_group_topic[i]))) == len(more_than_two_group_topic[i]):\n",
    "        all_bjp += 1\n",
    "        all_bjp_topic[i] = more_than_two_group_topic[i]\n",
    "    elif len(set(inc_group).intersection(set(more_than_two_group_topic[i]))) == len(more_than_two_group_topic[i]):\n",
    "        all_inc += 1\n",
    "        all_inc_topic[i] = more_than_two_group_topic[i]\n",
    "    else:\n",
    "        bjp_inc_all += 1\n",
    "        bjp_inc_mix[i] = more_than_two_group_topic[i]\n",
    "   "
   ]
  },
  {
   "cell_type": "code",
   "execution_count": null,
   "id": "37e08642",
   "metadata": {},
   "outputs": [],
   "source": [
    "group_info(bjp_inc_mix)"
   ]
  },
  {
   "cell_type": "code",
   "execution_count": null,
   "id": "ab696b3e",
   "metadata": {},
   "outputs": [],
   "source": [
    "bjp_inc_mix"
   ]
  },
  {
   "cell_type": "code",
   "execution_count": null,
   "id": "1195393c",
   "metadata": {},
   "outputs": [],
   "source": [
    "df_control_campaign = pd.read_csv('New_Control_Campaign.csv')"
   ]
  },
  {
   "cell_type": "code",
   "execution_count": null,
   "id": "8e043218",
   "metadata": {},
   "outputs": [],
   "source": [
    "df_control_campaign"
   ]
  },
  {
   "cell_type": "code",
   "execution_count": null,
   "id": "b48e4ad1",
   "metadata": {},
   "outputs": [],
   "source": [
    "df_control_campaign[df_control_campaign.Community_ID.isin(top_group)].groupby('Community_ID').count()"
   ]
  },
  {
   "cell_type": "code",
   "execution_count": null,
   "id": "308e4f2a",
   "metadata": {},
   "outputs": [],
   "source": [
    "df_control_campaign.Cluster_ID"
   ]
  },
  {
   "cell_type": "code",
   "execution_count": null,
   "id": "8eeafcee",
   "metadata": {},
   "outputs": [],
   "source": [
    "df_topic_control = df_topic[df_topic.Cluster_ID.isin(df_control_campaign.Cluster_ID)]"
   ]
  },
  {
   "cell_type": "code",
   "execution_count": null,
   "id": "5691b95c",
   "metadata": {},
   "outputs": [],
   "source": [
    "df_topic_control"
   ]
  },
  {
   "cell_type": "code",
   "execution_count": null,
   "id": "425836b3",
   "metadata": {},
   "outputs": [],
   "source": [
    "df_topic_control = pd.merge(df_topic_control, df_group_top, on = 'User_ID', how = 'left')"
   ]
  },
  {
   "cell_type": "code",
   "execution_count": null,
   "id": "b7f978a8",
   "metadata": {
    "scrolled": true
   },
   "outputs": [],
   "source": [
    "len(df_topic_control)"
   ]
  },
  {
   "cell_type": "code",
   "execution_count": null,
   "id": "8bd42cf1",
   "metadata": {},
   "outputs": [],
   "source": [
    "len(df_topic_control[df_topic_control.Community_ID == 4].groupby('Reduce_Topic').count())-1"
   ]
  },
  {
   "cell_type": "code",
   "execution_count": null,
   "id": "d2d1e5d4",
   "metadata": {},
   "outputs": [],
   "source": [
    "df_topic_control.groupby(['Reduce_Topic', 'Community_ID']).count()"
   ]
  },
  {
   "cell_type": "code",
   "execution_count": null,
   "id": "13ba111f",
   "metadata": {},
   "outputs": [],
   "source": [
    "\n",
    "df_topic_control2 = df_topic_control.groupby(['Reduce_Topic', 'Community_ID']).count().reset_index()"
   ]
  },
  {
   "cell_type": "code",
   "execution_count": null,
   "id": "50f3bee8",
   "metadata": {},
   "outputs": [],
   "source": [
    "df_topic_control2"
   ]
  },
  {
   "cell_type": "code",
   "execution_count": null,
   "id": "00501930",
   "metadata": {},
   "outputs": [],
   "source": [
    "len(topic_group)"
   ]
  },
  {
   "cell_type": "code",
   "execution_count": null,
   "id": "c2293748",
   "metadata": {},
   "outputs": [],
   "source": [
    "def group_info(my_dict):\n",
    "    print(\"Total Topic: \" + str(len(my_dict)))\n",
    "    print(\"Total Campaing: \" + str(len(df_topic_control[df_topic_control.Reduce_Topic.isin(my_dict.keys())].groupby([ 'Cluster_ID']).count())))\n",
    "    print(df_topic_control[df_topic_control.Reduce_Topic.isin(my_dict.keys())].groupby(['Reduce_Topic', 'Cluster_ID']).count().reset_index()[['Reduce_Topic', 'Cluster_ID']].groupby('Reduce_Topic').count().reset_index().describe())"
   ]
  },
  {
   "cell_type": "code",
   "execution_count": null,
   "id": "ee009dc7",
   "metadata": {},
   "outputs": [],
   "source": [
    "df_topic_control2.Community_ID = df_topic_control2.Community_ID.astype('int')"
   ]
  },
  {
   "cell_type": "code",
   "execution_count": null,
   "id": "089135aa",
   "metadata": {},
   "outputs": [],
   "source": [
    "topic_group = {}\n",
    "for i in range(0, 12993):\n",
    "    topic_group[i] = df_topic_control2.loc[df_topic_control2.Reduce_Topic == i].Community_ID.tolist()"
   ]
  },
  {
   "cell_type": "code",
   "execution_count": null,
   "id": "eb123ec7",
   "metadata": {},
   "outputs": [],
   "source": []
  },
  {
   "cell_type": "code",
   "execution_count": null,
   "id": "fc3fd988",
   "metadata": {},
   "outputs": [],
   "source": [
    "len(topic_group)"
   ]
  },
  {
   "cell_type": "code",
   "execution_count": null,
   "id": "8a0815fa",
   "metadata": {},
   "outputs": [],
   "source": [
    "len(topic_group[0])"
   ]
  },
  {
   "cell_type": "code",
   "execution_count": null,
   "id": "ede2451d",
   "metadata": {},
   "outputs": [],
   "source": [
    "one_group_topic = {}\n",
    "for i in range(0, 12993):\n",
    "    if len(topic_group[i]) == 1:\n",
    "        one_group_topic[i] = topic_group[i]"
   ]
  },
  {
   "cell_type": "code",
   "execution_count": null,
   "id": "d755c732",
   "metadata": {},
   "outputs": [],
   "source": [
    "bjp_group"
   ]
  },
  {
   "cell_type": "code",
   "execution_count": null,
   "id": "b90fe75a",
   "metadata": {},
   "outputs": [],
   "source": [
    "one_group_topic[59][0] in bjp_group"
   ]
  },
  {
   "cell_type": "code",
   "execution_count": null,
   "id": "4844e504",
   "metadata": {},
   "outputs": [],
   "source": [
    "one_group_bjp ={}\n",
    "one_group_inc ={}\n",
    "\n",
    "for i in one_group_topic.keys():\n",
    "    if one_group_topic[i][0] in bjp_group:\n",
    "        one_group_bjp[i] = one_group_topic[i]\n",
    "    elif one_group_topic[i][0] in inc_group:\n",
    "        one_group_inc[i] = one_group_topic[i]\n",
    "\n",
    "print(group_info(one_group_bjp))\n",
    "print(group_info(one_group_inc))"
   ]
  },
  {
   "cell_type": "code",
   "execution_count": null,
   "id": "6b93f02c",
   "metadata": {},
   "outputs": [],
   "source": [
    "df_topic_control"
   ]
  },
  {
   "cell_type": "code",
   "execution_count": null,
   "id": "556270e3",
   "metadata": {},
   "outputs": [],
   "source": [
    "one_group_bjp.keys()"
   ]
  },
  {
   "cell_type": "code",
   "execution_count": null,
   "id": "08d69a32",
   "metadata": {},
   "outputs": [],
   "source": [
    "df_bjp_one_topic = df_topic_control[df_topic_control.Reduce_Topic.isin(one_group_bjp.keys())]\n",
    "df_inc_one_topic = df_topic_control[df_topic_control.Reduce_Topic.isin(one_group_inc.keys())]"
   ]
  },
  {
   "cell_type": "code",
   "execution_count": null,
   "id": "1a9f5a6c",
   "metadata": {},
   "outputs": [],
   "source": []
  },
  {
   "cell_type": "code",
   "execution_count": null,
   "id": "150a7d50",
   "metadata": {},
   "outputs": [],
   "source": [
    "df_topic_control2[df_topic_control2.Reduce_Topic.isin(one_group_topic.keys())]"
   ]
  },
  {
   "cell_type": "code",
   "execution_count": null,
   "id": "27e840a1",
   "metadata": {},
   "outputs": [],
   "source": [
    "group_info(one_group_topic)"
   ]
  },
  {
   "cell_type": "code",
   "execution_count": null,
   "id": "1828b9fa",
   "metadata": {},
   "outputs": [],
   "source": [
    "one_group_topic"
   ]
  },
  {
   "cell_type": "code",
   "execution_count": null,
   "id": "363f8724",
   "metadata": {},
   "outputs": [],
   "source": [
    "two_group_topic = {}\n",
    "for i in range(0, 12993):\n",
    "    if len(topic_group[i]) == 2:\n",
    "        two_group_topic[i] = topic_group[i]"
   ]
  },
  {
   "cell_type": "code",
   "execution_count": null,
   "id": "281865b2",
   "metadata": {},
   "outputs": [],
   "source": [
    "num_two_same_bjp = 0\n",
    "num_two_same_inc = 0\n",
    "num_one_bjp_one_inc = 0\n",
    "num_two_same = 0\n",
    "num_two_bjp_topic = {}\n",
    "num_two_inc_topic = {}\n",
    "num_one_one_topic = {}\n",
    "num_two_topic ={}\n",
    "\n",
    "for i in two_group_topic.keys():\n",
    "    if len(set(bjp_group).intersection(set(two_group_topic[i]))) == 2:\n",
    "        num_two_same_bjp += 1\n",
    "        num_two_bjp_topic[i] = two_group_topic[i]\n",
    "    if len(set(inc_group).intersection(set(two_group_topic[i]))) == 2:\n",
    "        num_two_same_inc += 1\n",
    "        num_two_inc_topic[i] = two_group_topic[i]\n",
    "    if len(set(bjp_group).intersection(set(two_group_topic[i]))) == 1 and len(set(inc_group).intersection(set(two_group_topic[i]))) == 1:\n",
    "        num_one_bjp_one_inc += 1\n",
    "        num_one_one_topic[i] = two_group_topic[i]\n",
    "    if len(set(bjp_group).intersection(set(two_group_topic[i]))) == 2 or len(set(inc_group).intersection(set(two_group_topic[i]))) == 2:\n",
    "        num_two_same += 1\n",
    "        num_two_topic[i] = two_group_topic[i]\n",
    "    "
   ]
  },
  {
   "cell_type": "code",
   "execution_count": null,
   "id": "ae1210d2",
   "metadata": {},
   "outputs": [],
   "source": [
    "df_bjp_two_topic = df_topic_control[df_topic_control.Reduce_Topic.isin(num_two_bjp_topic.keys())]\n",
    "df_inc_two_topic = df_topic_control[df_topic_control.Reduce_Topic.isin(num_two_inc_topic.keys())]"
   ]
  },
  {
   "cell_type": "code",
   "execution_count": null,
   "id": "267fb1e2",
   "metadata": {},
   "outputs": [],
   "source": [
    "df_one_one_topic = df_topic_control[df_topic_control.Reduce_Topic.isin(num_one_one_topic.keys())]"
   ]
  },
  {
   "cell_type": "code",
   "execution_count": null,
   "id": "4639571f",
   "metadata": {},
   "outputs": [],
   "source": []
  },
  {
   "cell_type": "code",
   "execution_count": null,
   "id": "096f595e",
   "metadata": {},
   "outputs": [],
   "source": [
    "two_group_one_bjp = []\n",
    "two_group_one_inc = []\n",
    "for key, value in num_one_one_topic.items():\n",
    "    for item in value:\n",
    "        if item in bjp_group:\n",
    "            two_group_one_bjp.append(item)\n",
    "        if item in inc_group:\n",
    "            two_group_one_inc.append(item)       "
   ]
  },
  {
   "cell_type": "code",
   "execution_count": null,
   "id": "199b7a66",
   "metadata": {},
   "outputs": [],
   "source": []
  },
  {
   "cell_type": "code",
   "execution_count": null,
   "id": "65e343ed",
   "metadata": {},
   "outputs": [],
   "source": [
    "group_info(two_group_topic)"
   ]
  },
  {
   "cell_type": "code",
   "execution_count": null,
   "id": "2be3d3e7",
   "metadata": {},
   "outputs": [],
   "source": [
    "more_than_two_group_topic = {}\n",
    "for i in range(0, 12993):\n",
    "    if len(topic_group[i]) > 2:\n",
    "        more_than_two_group_topic[i] = topic_group[i]"
   ]
  },
  {
   "cell_type": "code",
   "execution_count": null,
   "id": "c9ccd25e",
   "metadata": {},
   "outputs": [],
   "source": [
    "all_bjp = 0\n",
    "all_inc = 0\n",
    "bjp_inc_all = 0\n",
    "all_bjp_topic = {}\n",
    "all_inc_topic = {}\n",
    "bjp_inc_mix = {}\n",
    "for i in more_than_two_group_topic.keys():\n",
    "    if len(set(bjp_group).intersection(set(more_than_two_group_topic[i]))) == len(more_than_two_group_topic[i]):\n",
    "        all_bjp += 1\n",
    "        all_bjp_topic[i] = more_than_two_group_topic[i]\n",
    "    elif len(set(inc_group).intersection(set(more_than_two_group_topic[i]))) == len(more_than_two_group_topic[i]):\n",
    "        all_inc += 1\n",
    "        all_inc_topic[i] = more_than_two_group_topic[i]\n",
    "    else:\n",
    "        bjp_inc_all += 1\n",
    "        bjp_inc_mix[i] = more_than_two_group_topic[i]\n",
    "\n"
   ]
  },
  {
   "cell_type": "code",
   "execution_count": null,
   "id": "538a47b2",
   "metadata": {},
   "outputs": [],
   "source": [
    "three_group_topic = {}\n",
    "for i in range(0, 12993):\n",
    "    if len(topic_group[i]) ==3:\n",
    "        three_group_topic[i] = topic_group[i]\n",
    "        \n",
    "three_bjp = 0\n",
    "three_inc = 0\n",
    "bjp_inc_three = 0\n",
    "three_bjp_topic = {}\n",
    "three_inc_topic = {}\n",
    "bjp_inc_three_topic = {}\n",
    "for i in three_group_topic.keys():\n",
    "    if len(set(bjp_group).intersection(set(three_group_topic[i]))) == len(three_group_topic[i]):\n",
    "        three_bjp += 1\n",
    "        three_bjp_topic[i] = three_group_topic[i]\n",
    "    elif len(set(inc_group).intersection(set(three_group_topic[i]))) == len(three_group_topic[i]):\n",
    "        three_inc += 1\n",
    "        three_inc_topic[i] = three_group_topic[i]\n",
    "    else:\n",
    "        bjp_inc_three += 1\n",
    "        bjp_inc_three_topic[i] = three_group_topic[i]\n",
    "\n",
    "similar_three = {**three_bjp_topic, **three_inc_topic}"
   ]
  },
  {
   "cell_type": "code",
   "execution_count": null,
   "id": "7ba6901b",
   "metadata": {},
   "outputs": [],
   "source": [
    "group_info(three_group_topic)"
   ]
  },
  {
   "cell_type": "code",
   "execution_count": null,
   "id": "6fc66933",
   "metadata": {},
   "outputs": [],
   "source": [
    "four_group_topic = {}\n",
    "for i in range(0, 12993):\n",
    "    if len(topic_group[i]) == 4:\n",
    "        four_group_topic[i] = topic_group[i]\n",
    "        \n",
    "four_bjp = 0\n",
    "four_inc = 0\n",
    "bjp_inc_four = 0\n",
    "four_bjp_topic = {}\n",
    "four_inc_topic = {}\n",
    "bjp_inc_four_topic = {}\n",
    "for i in four_group_topic.keys():\n",
    "    if len(set(bjp_group).intersection(set(four_group_topic[i]))) == len(four_group_topic[i]):\n",
    "        four_bjp += 1\n",
    "        four_bjp_topic[i] = four_group_topic[i]\n",
    "    elif len(set(inc_group).intersection(set(four_group_topic[i]))) == len(four_group_topic[i]):\n",
    "        four_inc += 1\n",
    "        four_inc_topic[i] = four_group_topic[i]\n",
    "    else:\n",
    "        bjp_inc_four += 1\n",
    "        bjp_inc_four_topic[i] = four_group_topic[i]\n",
    "\n",
    "similar_four = {**four_bjp_topic, **four_inc_topic}\n",
    "\n",
    "print(group_info(four_group_topic))\n",
    "\n",
    "print(group_info(four_bjp_topic))\n",
    "\n",
    "print(group_info(four_inc_topic))\n",
    "\n",
    "print(group_info(similar_four))\n",
    "\n",
    "print(group_info(bjp_inc_four_topic))"
   ]
  },
  {
   "cell_type": "code",
   "execution_count": null,
   "id": "d1efcff3",
   "metadata": {},
   "outputs": [],
   "source": [
    "four_group_topic = {}\n",
    "for i in range(0, 12993):\n",
    "    if len(topic_group[i]) >= 5:\n",
    "        four_group_topic[i] = topic_group[i]\n",
    "        \n",
    "four_bjp = 0\n",
    "four_inc = 0\n",
    "bjp_inc_four = 0\n",
    "four_bjp_topic = {}\n",
    "four_inc_topic = {}\n",
    "bjp_inc_four_topic = {}\n",
    "for i in four_group_topic.keys():\n",
    "    if len(set(bjp_group).intersection(set(four_group_topic[i]))) == len(four_group_topic[i]):\n",
    "        four_bjp += 1\n",
    "        four_bjp_topic[i] = four_group_topic[i]\n",
    "    elif len(set(inc_group).intersection(set(four_group_topic[i]))) == len(four_group_topic[i]):\n",
    "        four_inc += 1\n",
    "        four_inc_topic[i] = four_group_topic[i]\n",
    "    else:\n",
    "        bjp_inc_four += 1\n",
    "        bjp_inc_four_topic[i] = four_group_topic[i]\n",
    "\n",
    "similar_four = {**four_bjp_topic, **four_inc_topic}\n",
    "\n",
    "print(group_info(four_group_topic))\n",
    "\n",
    "print(group_info(four_bjp_topic))\n",
    "\n",
    "print(group_info(four_inc_topic))\n",
    "\n",
    "print(group_info(similar_four))\n",
    "\n",
    "print(group_info(bjp_inc_four_topic))"
   ]
  },
  {
   "cell_type": "code",
   "execution_count": null,
   "id": "6a695ac3",
   "metadata": {},
   "outputs": [],
   "source": [
    "all_similar_topic = all_bjp_topic"
   ]
  },
  {
   "cell_type": "code",
   "execution_count": null,
   "id": "6c71aba7",
   "metadata": {},
   "outputs": [],
   "source": [
    "all_similar_topic.update(all_inc_topic)"
   ]
  },
  {
   "cell_type": "code",
   "execution_count": null,
   "id": "31221231",
   "metadata": {},
   "outputs": [],
   "source": [
    "group_info(bjp_inc_mix)"
   ]
  },
  {
   "cell_type": "code",
   "execution_count": null,
   "id": "894471b8",
   "metadata": {},
   "outputs": [],
   "source": [
    "def group_info(my_dict):\n",
    "    print(\"Total Topic: \" + str(len(my_dict)))\n",
    "    print(\"Total Campaing: \" + str(len(df_topic_control[df_topic_control.Reduce_Topic.isin(my_dict.keys())].groupby([ 'Cluster_ID']).count())))\n",
    "    print(df_topic_control[df_topic_control.Reduce_Topic.isin(my_dict.keys())].groupby(['Reduce_Topic', 'Cluster_ID']).count().reset_index()[['Reduce_Topic', 'Cluster_ID']].groupby('Reduce_Topic').count().reset_index().describe())"
   ]
  },
  {
   "cell_type": "code",
   "execution_count": null,
   "id": "81c1f99a",
   "metadata": {},
   "outputs": [],
   "source": [
    "df_topic_control.loc[df_topic_control.Reduce_Topic.isin(more_than_two_group_topic.keys())].groupby('Cluster_ID').count().sort_values(by = 'Tweet_ID').describe()"
   ]
  },
  {
   "cell_type": "code",
   "execution_count": null,
   "id": "0980d0ac",
   "metadata": {},
   "outputs": [],
   "source": [
    "df_cc_check = df_topic_control.groupby(['Reduce_Topic', 'Cluster_ID']).count().reset_index()[['Reduce_Topic', 'Cluster_ID']].groupby('Reduce_Topic').count().reset_index()"
   ]
  },
  {
   "cell_type": "code",
   "execution_count": null,
   "id": "0a1bf8e2",
   "metadata": {},
   "outputs": [],
   "source": [
    "len(df_cc_check[df_cc_check.Cluster_ID >= 100])"
   ]
  },
  {
   "cell_type": "code",
   "execution_count": null,
   "id": "6bbd19be",
   "metadata": {},
   "outputs": [],
   "source": [
    "df_cc_check[df_cc_check.Cluster_ID >= 100].Reduce_Topic"
   ]
  },
  {
   "cell_type": "code",
   "execution_count": null,
   "id": "e5673d35",
   "metadata": {},
   "outputs": [],
   "source": [
    "df_topic_control[df_topic_control.Reduce_Topic.isin(df_cc_check[df_cc_check.Cluster_ID >= 100].Reduce_Topic)].groupby('Cluster_ID').count().reset_index().describe()"
   ]
  },
  {
   "cell_type": "code",
   "execution_count": null,
   "id": "9c51c00f",
   "metadata": {},
   "outputs": [],
   "source": [
    "all_bjp_topic.keys()"
   ]
  },
  {
   "cell_type": "code",
   "execution_count": null,
   "id": "f3a28fdc",
   "metadata": {},
   "outputs": [],
   "source": [
    "import random"
   ]
  },
  {
   "cell_type": "code",
   "execution_count": null,
   "id": "fa940139",
   "metadata": {},
   "outputs": [],
   "source": [
    "keys_random = random.sample(list(bjp_inc_mix.keys()), 10)"
   ]
  },
  {
   "cell_type": "code",
   "execution_count": null,
   "id": "4770b1ae",
   "metadata": {},
   "outputs": [],
   "source": [
    "bjp_inc_mix.keys()"
   ]
  },
  {
   "cell_type": "code",
   "execution_count": null,
   "id": "af18984b",
   "metadata": {},
   "outputs": [],
   "source": [
    "keys_random"
   ]
  },
  {
   "cell_type": "code",
   "execution_count": null,
   "id": "45f26f49",
   "metadata": {},
   "outputs": [],
   "source": [
    "df_topic_control[df_topic_control.Reduce_Topic == 987][['Cluster_ID','Party_Label', 'Tweet_Text']].drop_duplicates('Cluster_ID')"
   ]
  },
  {
   "cell_type": "code",
   "execution_count": null,
   "id": "ae11200f",
   "metadata": {},
   "outputs": [],
   "source": [
    "df_topic_control.columns"
   ]
  },
  {
   "cell_type": "code",
   "execution_count": null,
   "id": "c4530418",
   "metadata": {},
   "outputs": [],
   "source": [
    "df_topic.loc[df_topic.Actual_Topic == -1].Tweet_Lang"
   ]
  },
  {
   "cell_type": "code",
   "execution_count": null,
   "id": "b9adf31b",
   "metadata": {},
   "outputs": [],
   "source": [
    "df_topic_control[df_topic_control.Reduce_Topic == 43].sample(50)"
   ]
  },
  {
   "cell_type": "code",
   "execution_count": null,
   "id": "34659d26",
   "metadata": {},
   "outputs": [],
   "source": [
    "bjp_inc_four_topic"
   ]
  },
  {
   "cell_type": "code",
   "execution_count": null,
   "id": "45871d36",
   "metadata": {},
   "outputs": [],
   "source": [
    "df_topic_control"
   ]
  },
  {
   "cell_type": "code",
   "execution_count": null,
   "id": "99a1466b",
   "metadata": {},
   "outputs": [],
   "source": [
    "df_topic_control.sort_values('')"
   ]
  },
  {
   "cell_type": "code",
   "execution_count": null,
   "id": "b097a0b0",
   "metadata": {},
   "outputs": [],
   "source": [
    "df_topic_control.groupby('Reduce_Topic').count()"
   ]
  },
  {
   "cell_type": "code",
   "execution_count": null,
   "id": "f5e7cbb7",
   "metadata": {},
   "outputs": [],
   "source": [
    "topic_group"
   ]
  },
  {
   "cell_type": "code",
   "execution_count": null,
   "id": "c68ecb24",
   "metadata": {},
   "outputs": [],
   "source": [
    "df_topic_control[df_topic_control.Reduce_Topic == 0]"
   ]
  },
  {
   "cell_type": "code",
   "execution_count": null,
   "id": "da1e184d",
   "metadata": {
    "scrolled": true
   },
   "outputs": [],
   "source": [
    "df_topic_control['Influence_ID'] = df_topic_control['Reduce_Topic']"
   ]
  },
  {
   "cell_type": "code",
   "execution_count": null,
   "id": "5be4f777",
   "metadata": {},
   "outputs": [],
   "source": [
    "for i,j in topic_group.items():\n",
    "    if len(df_topic_control[(df_topic_control.Reduce_Topic == i) \n",
    "                         & (df_topic_control.Community_ID.isin(set(j).intersection(bjp_group)))]) > 0:\n",
    "        clid1 = df_topic_control.loc[(df_topic_control.Reduce_Topic == i) \n",
    "                         & (df_topic_control.Community_ID.isin(set(j).intersection(bjp_group)))].Cluster_ID.tolist()        \n",
    "        df_topic_control.loc[df_topic_control.Cluster_ID.isin(clid1),'Influence_ID'] = 'BJP_Influence_' + str(i)\n",
    "        \n",
    "    if len(df_topic_control[(df_topic_control.Reduce_Topic == i) \n",
    "                         & (df_topic_control.Community_ID.isin(set(j).intersection(inc_group)))]) > 0:\n",
    "        clid2 = df_topic_control.loc[(df_topic_control.Reduce_Topic == i) \n",
    "                         & (df_topic_control.Community_ID.isin(set(j).intersection(inc_group)))].Cluster_ID.tolist()   \n",
    "        df_topic_control.loc[df_topic_control.Cluster_ID.isin(clid2),'Influence_ID'] = 'INC_Influence_' + str(i)"
   ]
  },
  {
   "cell_type": "code",
   "execution_count": null,
   "id": "d60e3603",
   "metadata": {},
   "outputs": [],
   "source": []
  },
  {
   "cell_type": "code",
   "execution_count": null,
   "id": "dd5448a7",
   "metadata": {},
   "outputs": [],
   "source": [
    "df_topic_control.groupby('Influence_ID').count()"
   ]
  },
  {
   "cell_type": "code",
   "execution_count": null,
   "id": "9bbd4d35",
   "metadata": {},
   "outputs": [],
   "source": [
    "df_topic_control.loc[df_topic_control.Cluster_ID.isin(clid2),'Influence_ID'] = 'INC_Influence_' + str(i)"
   ]
  },
  {
   "cell_type": "code",
   "execution_count": null,
   "id": "72d3cc24",
   "metadata": {},
   "outputs": [],
   "source": [
    "df_topic_control.loc[df_topic_control.Cluster_ID.isin(clid2)]"
   ]
  },
  {
   "cell_type": "code",
   "execution_count": null,
   "id": "2a33dcc5",
   "metadata": {},
   "outputs": [],
   "source": [
    "len(df_topic_control[(df_topic_control.Reduce_Topic == i) \n",
    "                         & (df_topic_control.Community_ID.isin(set(j).intersection(bjp_group)))]) > 0"
   ]
  },
  {
   "cell_type": "code",
   "execution_count": null,
   "id": "a4aafaf2",
   "metadata": {},
   "outputs": [],
   "source": [
    "df_topic_control.loc[(df_topic_control.Reduce_Topic == i) \n",
    "                         & (df_topic_control.Community_ID.isin(set(j).intersection(bjp_group))), ['Influence_ID']] = 2\n",
    "                        "
   ]
  },
  {
   "cell_type": "code",
   "execution_count": null,
   "id": "d50be640",
   "metadata": {},
   "outputs": [],
   "source": [
    "df_topic_control[(df_topic_control.Reduce_Topic == i) \n",
    "                         & (df_topic_control.Community_ID.isin(set(j).intersection(bjp_group)))]['Influence_ID']"
   ]
  },
  {
   "cell_type": "code",
   "execution_count": null,
   "id": "49a00578",
   "metadata": {},
   "outputs": [],
   "source": [
    "df_topic_control.groupby('Influence_ID').count().reset_index().iloc[0:3940].Influence_ID.tolist()"
   ]
  },
  {
   "cell_type": "code",
   "execution_count": null,
   "id": "22b84c14",
   "metadata": {},
   "outputs": [],
   "source": [
    "df_topic_control[df_topic_control.Influence_ID == 12991]"
   ]
  },
  {
   "cell_type": "code",
   "execution_count": null,
   "id": "7c4ea784",
   "metadata": {},
   "outputs": [],
   "source": [
    "df_topic_control[df_topic_control.Cluster_ID == 'Wild_4473']"
   ]
  },
  {
   "cell_type": "code",
   "execution_count": null,
   "id": "e58cf226",
   "metadata": {},
   "outputs": [],
   "source": [
    "for i in df_topic_control.groupby('Influence_ID').count().reset_index().iloc[0:3940].Influence_ID.tolist():\n",
    "    temp = df_topic_control[df_topic_control.Influence_ID == i]\n",
    "    temp_clid = temp.Cluster_ID.tolist()\n",
    "    print(temp_clid[0])\n",
    "    break"
   ]
  },
  {
   "cell_type": "code",
   "execution_count": null,
   "id": "6b8c9c38",
   "metadata": {},
   "outputs": [],
   "source": [
    "df_topic_control.to_csv('Influence_Operation_Label.csv', index = False)"
   ]
  }
 ],
 "metadata": {
  "kernelspec": {
   "display_name": "Python 3 (ipykernel)",
   "language": "python",
   "name": "python3"
  },
  "language_info": {
   "codemirror_mode": {
    "name": "ipython",
    "version": 3
   },
   "file_extension": ".py",
   "mimetype": "text/x-python",
   "name": "python",
   "nbconvert_exporter": "python",
   "pygments_lexer": "ipython3",
   "version": "3.9.13"
  }
 },
 "nbformat": 4,
 "nbformat_minor": 5
}
