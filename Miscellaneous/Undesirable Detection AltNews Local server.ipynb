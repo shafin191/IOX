{
 "cells": [
  {
   "cell_type": "code",
   "execution_count": 2,
   "id": "4ef28470",
   "metadata": {},
   "outputs": [],
   "source": [
    "import pandas as pd\n",
    "import matplotlib as plt"
   ]
  },
  {
   "cell_type": "code",
   "execution_count": 3,
   "id": "0af31eb1",
   "metadata": {},
   "outputs": [],
   "source": [
    "df = pd.read_csv(\"All_Fake_without_debunkers_Updated.csv\")"
   ]
  },
  {
   "cell_type": "code",
   "execution_count": 4,
   "id": "00cfa41d",
   "metadata": {},
   "outputs": [],
   "source": [
    "df.columns"
   ]
  },
  {
   "cell_type": "code",
   "execution_count": 5,
   "id": "71209e88",
   "metadata": {},
   "outputs": [],
   "source": [
    "df.loc[df.acc_type == 'Regular'][['UserFollowers','UserFriends','acc_type', 'followers_friends_ratio']].sum()"
   ]
  },
  {
   "cell_type": "code",
   "execution_count": 6,
   "id": "b4b79fad",
   "metadata": {},
   "outputs": [],
   "source": [
    "1430.907941/44"
   ]
  },
  {
   "cell_type": "code",
   "execution_count": 7,
   "id": "4b114ddb",
   "metadata": {},
   "outputs": [],
   "source": [
    "Reg = df.loc[df.acc_type == 'Regular'][['UserFollowers','UserFriends','acc_type', 'followers_friends_ratio']]"
   ]
  },
  {
   "cell_type": "code",
   "execution_count": 8,
   "id": "a942482c",
   "metadata": {},
   "outputs": [],
   "source": [
    "Reg"
   ]
  },
  {
   "cell_type": "code",
   "execution_count": 9,
   "id": "36a933dd",
   "metadata": {},
   "outputs": [],
   "source": [
    "Reg.UserFollowers.quantile([0.25,0.5,0.75])"
   ]
  },
  {
   "cell_type": "code",
   "execution_count": 10,
   "id": "c9b4350a",
   "metadata": {},
   "outputs": [],
   "source": [
    "df2 = pd.read_csv('Fake_News_Engagement.csv')"
   ]
  },
  {
   "cell_type": "code",
   "execution_count": 11,
   "id": "9185f67a",
   "metadata": {},
   "outputs": [],
   "source": [
    "df2_engagement = df2[['Retweet_Count','Favorite_Count','Number_of_copies']]"
   ]
  },
  {
   "cell_type": "code",
   "execution_count": 12,
   "id": "565dec18",
   "metadata": {},
   "outputs": [],
   "source": [
    "df2_engagement.Retweet_Count.quantile([0.25,0.5,0.75])"
   ]
  },
  {
   "cell_type": "code",
   "execution_count": 13,
   "id": "999e964e",
   "metadata": {},
   "outputs": [],
   "source": [
    "df2_engagement.Favorite_Count.quantile([0.25,0.5,0.75])"
   ]
  },
  {
   "cell_type": "code",
   "execution_count": 14,
   "id": "43a1c772",
   "metadata": {},
   "outputs": [],
   "source": [
    "df2_engagement.Retweet_Count.mean()"
   ]
  },
  {
   "cell_type": "code",
   "execution_count": 15,
   "id": "50bea664",
   "metadata": {},
   "outputs": [],
   "source": [
    "df2_engagement.Retweet_Count.std()"
   ]
  },
  {
   "cell_type": "code",
   "execution_count": 16,
   "id": "08957c6f",
   "metadata": {},
   "outputs": [],
   "source": [
    "df3 = pd.read_csv('U:\\Twitter Research\\Fake News Scraping\\Fake Tweet\\Collected_Fake_Tweets_Still_Available.csv')"
   ]
  },
  {
   "cell_type": "code",
   "execution_count": 17,
   "id": "f3208bab",
   "metadata": {},
   "outputs": [],
   "source": [
    "df3.groupby('Tweet_Lang').count()"
   ]
  },
  {
   "cell_type": "code",
   "execution_count": 18,
   "id": "0a11acab",
   "metadata": {},
   "outputs": [],
   "source": [
    "len(df3)"
   ]
  },
  {
   "cell_type": "code",
   "execution_count": 80,
   "id": "a8f1e4ad",
   "metadata": {},
   "outputs": [],
   "source": [
    "df3['Tweet_Link'] = 'https://www.twitter.com/i/'"
   ]
  },
  {
   "cell_type": "code",
   "execution_count": 82,
   "id": "ece1f01e",
   "metadata": {},
   "outputs": [],
   "source": [
    "df['Tweet_ID'] = df['Tweet_ID'].astype(str)"
   ]
  },
  {
   "cell_type": "code",
   "execution_count": null,
   "id": "86cac2f4",
   "metadata": {},
   "outputs": [],
   "source": [
    "df3['Tweet_Link'] = df3[['Tweet_Link', 'Tweet_ID']].agg(''.join, axis=1)"
   ]
  },
  {
   "cell_type": "code",
   "execution_count": 83,
   "id": "8edf9193",
   "metadata": {},
   "outputs": [],
   "source": [
    "df3"
   ]
  },
  {
   "cell_type": "code",
   "execution_count": 19,
   "id": "31ba87df",
   "metadata": {},
   "outputs": [],
   "source": [
    "len(df3.loc[(df3.Tweet_Lang == 'en')])/len(df3)"
   ]
  },
  {
   "cell_type": "code",
   "execution_count": 20,
   "id": "796d353d",
   "metadata": {},
   "outputs": [],
   "source": [
    "len(df3.loc[(df3.Tweet_Lang == 'hi')])/len(df3)"
   ]
  },
  {
   "cell_type": "code",
   "execution_count": 21,
   "id": "55f70dd5",
   "metadata": {},
   "outputs": [],
   "source": [
    "df3.Retweet_Count.quantile([0, 0.25,0.5,0.75, 1])"
   ]
  },
  {
   "cell_type": "code",
   "execution_count": null,
   "id": "1fee8440",
   "metadata": {},
   "outputs": [],
   "source": []
  },
  {
   "cell_type": "code",
   "execution_count": 22,
   "id": "4eb85b6a",
   "metadata": {},
   "outputs": [],
   "source": [
    "df3.Favorite_Count.quantile([0, 0.25,0.5,0.75, 1])"
   ]
  },
  {
   "cell_type": "code",
   "execution_count": 23,
   "id": "9fc2b038",
   "metadata": {},
   "outputs": [],
   "source": [
    "print(\"Mean: \" + str(df3.Favorite_Count.mean()))\n",
    "print(\"STD: \" + str(df3.Favorite_Count.std()))\n",
    "print(\"Min: \" + str(df3.Favorite_Count.min()))\n",
    "print(\"Max: \" + str(df3.Favorite_Count.max()))"
   ]
  },
  {
   "cell_type": "code",
   "execution_count": 24,
   "id": "d6a0ff9a",
   "metadata": {},
   "outputs": [],
   "source": [
    "print(\"Mean: \" + str(df3.Retweet_Count.mean()))\n",
    "print(\"STD: \" + str(df3.Retweet_Count.std()))\n",
    "print(\"Min: \" + str(df3.Retweet_Count.min()))\n",
    "print(\"Max: \" + str(df3.Retweet_Count.max()))"
   ]
  },
  {
   "cell_type": "code",
   "execution_count": 25,
   "id": "e734aba5",
   "metadata": {},
   "outputs": [],
   "source": [
    "print(len(df3.loc[df3.Favorite_Count == 0]))\n",
    "print(len(df3.loc[df3.Retweet_Count == 0]))"
   ]
  },
  {
   "cell_type": "code",
   "execution_count": 26,
   "id": "7279dd4c",
   "metadata": {},
   "outputs": [],
   "source": [
    "len(df3.loc[(df3.Favorite_Count == 0) & (df3.Retweet_Count == 0)])"
   ]
  },
  {
   "cell_type": "code",
   "execution_count": 27,
   "id": "57ed08bf",
   "metadata": {},
   "outputs": [],
   "source": [
    "len(df3.loc[(df3.Favorite_Count == 0) & (df3.Retweet_Count == 0)])/len(df3)"
   ]
  },
  {
   "cell_type": "code",
   "execution_count": 28,
   "id": "6a565b48",
   "metadata": {},
   "outputs": [],
   "source": [
    "len(df3.loc[(df3.Favorite_Count >= 10) & (df3.Retweet_Count >= 10)])"
   ]
  },
  {
   "cell_type": "code",
   "execution_count": 29,
   "id": "a343e11c",
   "metadata": {},
   "outputs": [],
   "source": [
    "len(df3.loc[(df3.Favorite_Count >= 10) & (df3.Retweet_Count >= 10)])/len(df3)"
   ]
  },
  {
   "cell_type": "code",
   "execution_count": 30,
   "id": "0169645b",
   "metadata": {},
   "outputs": [],
   "source": [
    "df3.groupby('Tweet_Topic').count()"
   ]
  },
  {
   "cell_type": "code",
   "execution_count": 31,
   "id": "4ada104d",
   "metadata": {},
   "outputs": [],
   "source": [
    "df3['Tweet_Size'] = df3['Tweet_Text'].apply(lambda x: len(x))"
   ]
  },
  {
   "cell_type": "code",
   "execution_count": 32,
   "id": "48d9b78f",
   "metadata": {},
   "outputs": [],
   "source": [
    "df3.Tweet_Size.mean()"
   ]
  },
  {
   "cell_type": "code",
   "execution_count": 33,
   "id": "f1120897",
   "metadata": {},
   "outputs": [],
   "source": [
    "df3_tweet_per_news = df3.groupby('Fact_Check_Link').count().reset_index()"
   ]
  },
  {
   "cell_type": "code",
   "execution_count": 34,
   "id": "5929b725",
   "metadata": {},
   "outputs": [],
   "source": [
    "df3_like_fav = df3.groupby('Fact_Check_Link').sum().reset_index()"
   ]
  },
  {
   "cell_type": "code",
   "execution_count": 35,
   "id": "59c8e60d",
   "metadata": {},
   "outputs": [],
   "source": [
    "df3_tweet_per_news = df3_tweet_per_news[['Fact_Check_Link','Tweet_ID']]"
   ]
  },
  {
   "cell_type": "code",
   "execution_count": 36,
   "id": "f6f6fbc0",
   "metadata": {},
   "outputs": [],
   "source": [
    "df3_like_fav = df3_like_fav[['Fact_Check_Link', 'Retweet_Count', 'Favorite_Count']]"
   ]
  },
  {
   "cell_type": "code",
   "execution_count": 37,
   "id": "6ac2582b",
   "metadata": {},
   "outputs": [],
   "source": [
    "df_news_wise = pd.merge(df3_like_fav,df3_tweet_per_news, on ='Fact_Check_Link' )"
   ]
  },
  {
   "cell_type": "code",
   "execution_count": 38,
   "id": "ad795567",
   "metadata": {},
   "outputs": [],
   "source": [
    "df_news_wise['Mean_Like'] = df_news_wise['Favorite_Count']/df_news_wise['Tweet_ID']\n",
    "df_news_wise['Mean_RT'] = df_news_wise['Retweet_Count']/df_news_wise['Tweet_ID']"
   ]
  },
  {
   "cell_type": "code",
   "execution_count": 39,
   "id": "ac3d9132",
   "metadata": {},
   "outputs": [],
   "source": [
    "df_news_wise = df_news_wise.reset_index()"
   ]
  },
  {
   "cell_type": "code",
   "execution_count": 44,
   "id": "5eeff4ad",
   "metadata": {},
   "outputs": [],
   "source": [
    "print(\"Mean: \" + str(df_news_wise.Favorite_Count.mean()))\n",
    "print(\"STD: \" + str(df_news_wise.Favorite_Count.std()))\n",
    "print(\"Min: \" + str(df_news_wise.Favorite_Count.min()))\n",
    "print(\"Max: \" + str(df_news_wise.Favorite_Count.max()))\n",
    "print(df_news_wise.Favorite_Count.quantile([0, 0.25,0.5,0.75, 1]))"
   ]
  },
  {
   "cell_type": "code",
   "execution_count": 45,
   "id": "c6ea3c09",
   "metadata": {},
   "outputs": [],
   "source": [
    "print(\"Mean: \" + str(df_news_wise.Retweet_Count.mean()))\n",
    "print(\"STD: \" + str(df_news_wise.Retweet_Count.std()))\n",
    "print(\"Min: \" + str(df_news_wise.Retweet_Count.min()))\n",
    "print(\"Max: \" + str(df_news_wise.Retweet_Count.max()))\n",
    "print(df_news_wise.Retweet_Count.quantile([0, 0.25,0.5,0.75, 1]))"
   ]
  },
  {
   "cell_type": "code",
   "execution_count": 40,
   "id": "47137602",
   "metadata": {},
   "outputs": [],
   "source": [
    "df_news_wise"
   ]
  },
  {
   "cell_type": "code",
   "execution_count": 41,
   "id": "0e97028b",
   "metadata": {},
   "outputs": [],
   "source": [
    "df_news_wise.plot.bar(x='index', y='Mean_Like', rot=0)\n",
    "plt.xticks([0,50,100,300])"
   ]
  },
  {
   "cell_type": "code",
   "execution_count": 48,
   "id": "2e289bb6",
   "metadata": {},
   "outputs": [],
   "source": [
    "print(\"Mean: \" + str(df2.Favorite_Count.mean()))\n",
    "print(\"STD: \" + str(df2.Favorite_Count.std()))\n",
    "print(\"Min: \" + str(df2.Favorite_Count.min()))\n",
    "print(\"Max: \" + str(df2.Favorite_Count.max()))\n",
    "print(df2.Favorite_Count.quantile([0, 0.25,0.5,0.75, 1]))"
   ]
  },
  {
   "cell_type": "code",
   "execution_count": 55,
   "id": "15998bc2",
   "metadata": {},
   "outputs": [],
   "source": [
    "link = df3.groupby('Fact_Check_Link').count().reset_index()"
   ]
  },
  {
   "cell_type": "code",
   "execution_count": 57,
   "id": "ea7daa84",
   "metadata": {},
   "outputs": [],
   "source": [
    "link.Fact_Check_Link"
   ]
  },
  {
   "cell_type": "code",
   "execution_count": 64,
   "id": "0439f811",
   "metadata": {},
   "outputs": [],
   "source": [
    "df2[df2['Fact_Check_Link'].isin(link.Fact_Check_Link)].groupby('Tweet_Topic').count()"
   ]
  },
  {
   "cell_type": "code",
   "execution_count": 66,
   "id": "45bf4b4d",
   "metadata": {},
   "outputs": [],
   "source": [
    "df2_av = df2[df2['Fact_Check_Link'].isin(link.Fact_Check_Link)]"
   ]
  },
  {
   "cell_type": "code",
   "execution_count": 67,
   "id": "3f49dc18",
   "metadata": {},
   "outputs": [],
   "source": [
    "df2_av"
   ]
  },
  {
   "cell_type": "code",
   "execution_count": 68,
   "id": "8457200d",
   "metadata": {},
   "outputs": [],
   "source": [
    "\n",
    "print(\"Mean: \" + str(df2_av.Available_Number_of_copies.mean()))\n",
    "print(\"STD: \" + str(df2_av.Available_Number_of_copies.std()))\n",
    "print(\"Min: \" + str(df2_av.Available_Number_of_copies.min()))\n",
    "print(\"Max: \" + str(df2_av.Available_Number_of_copies.max()))\n",
    "print(df2_av.Available_Number_of_copies.quantile([0, 0.25,0.5,0.75, 1]))"
   ]
  },
  {
   "cell_type": "code",
   "execution_count": 69,
   "id": "592971ea",
   "metadata": {},
   "outputs": [],
   "source": [
    "\n",
    "print(\"Mean: \" + str(df2_av.Copies_removed.mean()))\n",
    "print(\"STD: \" + str(df2_av.Copies_removed.std()))\n",
    "print(\"Min: \" + str(df2_av.Copies_removed.min()))\n",
    "print(\"Max: \" + str(df2_av.Copies_removed.max()))\n",
    "print(df2_av.Copies_removed.quantile([0, 0.25,0.5,0.75, 1]))"
   ]
  },
  {
   "cell_type": "code",
   "execution_count": null,
   "id": "dc87c4b7",
   "metadata": {},
   "outputs": [],
   "source": []
  }
 ],
 "metadata": {
  "kernelspec": {
   "display_name": "Python 3 (ipykernel)",
   "language": "python",
   "name": "python3"
  },
  "language_info": {
   "codemirror_mode": {
    "name": "ipython",
    "version": 3
