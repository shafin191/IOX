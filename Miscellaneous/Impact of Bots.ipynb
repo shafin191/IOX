{
 "cells": [
  {
   "cell_type": "code",
   "execution_count": null,
   "id": "d584e555",
   "metadata": {},
   "outputs": [],
   "source": [
    "import pandas as pd\n",
    "import matplotlib as plt\n",
    "import numpy as np\n",
    "import os\n",
    "pd.set_option('display.max_colwidth', None)\n",
    "pd.set_option('display.max_columns', 10)\n",
    "pd.set_option('display.max_rows', 50)\n",
    "print(os.getcwd())"
   ]
  },
  {
   "cell_type": "code",
   "execution_count": null,
   "id": "fe26411f",
   "metadata": {},
   "outputs": [],
   "source": [
    "df_cluster = pd.read_csv('Cluster_Tweet_Without_Generic.csv')\n",
    "df_account = pd.read_csv('All_Account_with_Updated_Influencer.csv')"
   ]
  },
  {
   "cell_type": "code",
   "execution_count": null,
   "id": "8f2b58a3",
   "metadata": {},
   "outputs": [],
   "source": [
    "df_account.columns"
   ]
  },
  {
   "cell_type": "code",
   "execution_count": null,
   "id": "616f61ae",
   "metadata": {},
   "outputs": [],
   "source": [
    "df_account[['User_ID', 'acc_type']]"
   ]
  },
  {
   "cell_type": "code",
   "execution_count": null,
   "id": "a9f96c84",
   "metadata": {},
   "outputs": [],
   "source": [
    "df_cluster = pd.merge(df_cluster, df_account[['User_ID', 'acc_type']])"
   ]
  },
  {
   "cell_type": "code",
   "execution_count": null,
   "id": "5412a8c8",
   "metadata": {},
   "outputs": [],
   "source": [
    "df_cluster.columns"
   ]
  },
  {
   "cell_type": "code",
   "execution_count": null,
   "id": "e99454f6",
   "metadata": {},
   "outputs": [],
   "source": [
    "df_cluster['Total_Engagement'] = df_cluster['Retweet_Count']  + df_cluster['Favorite_Count'] "
   ]
  },
  {
   "cell_type": "code",
   "execution_count": null,
   "id": "0383442e",
   "metadata": {},
   "outputs": [],
   "source": [
    "print(df_cluster[df_cluster.acc_type == 'Bot'].Total_Engagement.mean())\n",
    "print(df_cluster[df_cluster.acc_type == 'Bot'].Retweet_Count.mean())\n",
    "print(df_cluster[df_cluster.acc_type == 'Bot'].Favorite_Count.mean())"
   ]
  },
  {
   "cell_type": "code",
   "execution_count": null,
   "id": "49181c22",
   "metadata": {},
   "outputs": [],
   "source": [
    "print(df_cluster[df_cluster.acc_type == 'Bot'].Total_Engagement.median())\n",
    "print(df_cluster[df_cluster.acc_type == 'Bot'].Retweet_Count.median())\n",
    "print(df_cluster[df_cluster.acc_type == 'Bot'].Favorite_Count.median())"
   ]
  },
  {
   "cell_type": "code",
   "execution_count": null,
   "id": "aa258a40",
   "metadata": {},
   "outputs": [],
   "source": [
    "print(df_cluster[df_cluster.acc_type == 'Bot'].Total_Engagement.max())\n",
    "print(df_cluster[df_cluster.acc_type == 'Bot'].Retweet_Count.max())\n",
    "print(df_cluster[df_cluster.acc_type == 'Bot'].Favorite_Count.max())"
   ]
  },
  {
   "cell_type": "code",
   "execution_count": null,
   "id": "36050408",
   "metadata": {},
   "outputs": [],
   "source": [
    "df_cluster[(df_cluster.acc_type == 'Bot') & (df_cluster.Total_Engagement == 68)]"
   ]
  },
  {
   "cell_type": "code",
   "execution_count": null,
   "id": "705758fc",
   "metadata": {},
   "outputs": [],
   "source": [
    "df_cluster[df_cluster.acc_type != 'Bot'].Total_Engagement.mean()"
   ]
  },
  {
   "cell_type": "code",
   "execution_count": null,
   "id": "eea0b28f",
   "metadata": {},
   "outputs": [],
   "source": [
    "df_cluster[df_cluster.acc_type != 'Bot'].Total_Engagement.max()"
   ]
  },
  {
   "cell_type": "code",
   "execution_count": null,
   "id": "6b3685ce",
   "metadata": {},
   "outputs": [],
   "source": [
    "df_cluster[df_cluster.acc_type == 'Regular'].Total_Engagement.mean()"
   ]
  },
  {
   "cell_type": "code",
   "execution_count": null,
   "id": "b0943619",
   "metadata": {},
   "outputs": [],
   "source": [
    "df_cluster[df_cluster.acc_type == 'Regular'].Total_Engagement.max()"
   ]
  },
  {
   "cell_type": "code",
   "execution_count": null,
   "id": "ebf8ad85",
   "metadata": {},
   "outputs": [],
   "source": []
  }
 ],
 "metadata": {
  "kernelspec": {
   "display_name": "Python 3 (ipykernel)",
   "language": "python",
   "name": "python3"
  },
  "language_info": {
   "codemirror_mode": {
    "name": "ipython",
    "version": 3
   },
   "file_extension": ".py",
   "mimetype": "text/x-python",
   "name": "python",
   "nbconvert_exporter": "python",
   "pygments_lexer": "ipython3",
   "version": "3.9.13"
  }
 },
 "nbformat": 4,
 "nbformat_minor": 5
}
