{
 "cells": [
  {
   "cell_type": "code",
   "execution_count": null,
   "id": "a8b13b4a",
   "metadata": {},
   "outputs": [],
   "source": [
    "import networkx as nx\n",
    "import nxviz as nv\n",
    "import pandas as pd\n",
    "import matplotlib as plt"
   ]
  },
  {
   "cell_type": "code",
   "execution_count": null,
   "id": "0a4fa3d1",
   "metadata": {},
   "outputs": [],
   "source": [
    "df_alt_influence = pd.read_csv('AltNews Report Check.csv')"
   ]
  },
  {
   "cell_type": "code",
   "execution_count": null,
   "id": "bb668e4f",
   "metadata": {},
   "outputs": [],
   "source": [
    "df_alt_small = df_alt_influence.loc[df_alt_influence.Campaign == 'Influence'][['News_Number', 'Fact_Check_Link']]"
   ]
  },
  {
   "cell_type": "code",
   "execution_count": null,
   "id": "ff8b2e0b",
   "metadata": {},
   "outputs": [],
   "source": [
    "df_alt_all = pd.read_csv('Collected_Fake_Tweets_Still_Available.csv')\n",
    "df_account = pd.read_csv('All_Fake_without_debunkers_Updated.csv')"
   ]
  },
  {
   "cell_type": "code",
   "execution_count": null,
   "id": "561023a0",
   "metadata": {},
   "outputs": [],
   "source": [
    "df_account = pd.read_csv('All_Fake_without_debunkers_Updated.csv')"
   ]
  },
  {
   "cell_type": "code",
   "execution_count": null,
   "id": "21d5255b",
   "metadata": {},
   "outputs": [],
   "source": [
    "df_alt_all_influence = pd.merge(df_alt_all, df_alt_small, on = 'Fact_Check_Link').drop(columns = 'Unnamed: 0')"
   ]
  },
  {
   "cell_type": "code",
   "execution_count": null,
   "id": "c7b622ca",
   "metadata": {},
   "outputs": [],
   "source": [
    "df_merge_info = pd.merge(df_alt_all_influence[['User_ID', 'News_Number']], df_account[['User_ID', 'Political', 'party']])"
   ]
  },
  {
   "cell_type": "code",
   "execution_count": null,
   "id": "ee7b5def",
   "metadata": {},
   "outputs": [],
   "source": [
    "df_merge_info.loc"
   ]
  },
  {
   "cell_type": "code",
   "execution_count": null,
   "id": "91182db0",
   "metadata": {},
   "outputs": [],
   "source": [
    "df_account[['User_ID', 'Political', 'party']]"
   ]
  },
  {
   "cell_type": "code",
   "execution_count": null,
   "id": "dcf0f925",
   "metadata": {},
   "outputs": [],
   "source": [
    "df_party_news = df_merge_info.loc[df_merge_info.party != 'NonPolitical'].groupby(['News_Number', 'party']).count()"
   ]
  },
  {
   "cell_type": "code",
   "execution_count": null,
   "id": "9c40268a",
   "metadata": {},
   "outputs": [],
   "source": [
    "df_party_news.iloc[60:90]"
   ]
  },
  {
   "cell_type": "code",
   "execution_count": null,
   "id": "4f8e2d76",
   "metadata": {},
   "outputs": [],
   "source": [
    "df_merge_info.loc[df_merge_info.party != 'NonPolitical'].groupby(['party']).count()"
   ]
  },
  {
   "cell_type": "code",
   "execution_count": null,
   "id": "3293ab79",
   "metadata": {},
   "outputs": [],
   "source": [
    "df_party_news = df_party_news.reset_index()"
   ]
  },
  {
   "cell_type": "code",
   "execution_count": null,
   "id": "0edbbb24",
   "metadata": {},
   "outputs": [],
   "source": [
    "bjp_news_num = df_party_news.loc[df_party_news.party == 'BJP'].News_Number.tolist()"
   ]
  },
  {
   "cell_type": "code",
   "execution_count": null,
   "id": "77260c00",
   "metadata": {},
   "outputs": [],
   "source": [
    "inc_news_num = df_party_news.loc[df_party_news.party == 'INC'].News_Number.tolist()"
   ]
  },
  {
   "cell_type": "code",
   "execution_count": null,
   "id": "012a9665",
   "metadata": {},
   "outputs": [],
   "source": [
    "bjp_news_num"
   ]
  },
  {
   "cell_type": "code",
   "execution_count": null,
   "id": "8710cd26",
   "metadata": {},
   "outputs": [],
   "source": [
    "print(len(bjp_news_num))\n",
    "print(len(inc_news_num))"
   ]
  },
  {
   "cell_type": "code",
   "execution_count": null,
   "id": "03ae5ab8",
   "metadata": {},
   "outputs": [],
   "source": [
    "largest_cc_list = [0, 1, 10, 11, 12, 13, 14, 15, 16, 17, 18, 19, 21, 22, 25, 26, 28, 30, 34, 39, 40, 41, 42, 46, 48, 49, 50, 52, 53, 58, 60, 61, 62, 63, 64, 65, 66, 67, 68, 69, 70, 71, 73, 76, 77, 78, 79, 80, 83, 84, 85, 86, 89, 91, 92, 93, 94, 100, 101, 103, 104, 107, 109, 110, 111, 113, 115, 117, 118, 119, 123, 125, 126, 128, 129, 130, 131, 132, 133, 134, 136, 137, 138, 139, 140, 144, 145, 148, 149, 150, 153, 154, 158, 160, 161, 162, 163, 166, 168, 170, 175, 176, 181, 183, 184, 186, 187, 188, 191, 197, 198, 199, 200, 205, 209, 210, 211, 213, 217, 227, 229, 234, 236, 237, 239, 241, 244, 245, 247, 250, 251, 252, 253, 257, 258, 264, 266, 269, 271, 273, 275, 277, 279, 281, 282, 284, 285, 286, 287, 288, 289, 290, 292, 295, 297, 300, 303, 306, 312, 315, 316, 317, 318, 319, 321, 330, 331, 333, 334, 336, 338, 339, 340, 341, 342, 345, 346, 347, 349, 350, 352, 353, 357, 358, 360, 361, 362, 365, 368, 373, 374, 375, 376, 380, 385, 386, 387, 389, 390, 391, 398, 404, 405, 407, 409, 411, 412, 413, 414, 415, 416, 420, 421, 422, 427]"
   ]
  },
  {
   "cell_type": "code",
   "execution_count": null,
   "id": "9c15f1f7",
   "metadata": {},
   "outputs": [],
   "source": [
    "len(set(bjp_news_num).intersection(set(largest_cc_list)))"
   ]
  },
  {
   "cell_type": "code",
   "execution_count": null,
   "id": "70324217",
   "metadata": {},
   "outputs": [],
   "source": [
    "len(set(inc_news_num).intersection(set(largest_cc_list)))"
   ]
  },
  {
   "cell_type": "code",
   "execution_count": null,
   "id": "7fec130a",
   "metadata": {},
   "outputs": [],
   "source": [
    "largest_cc = max(nx.connected_components(G), key=len)\n",
    "largest_cc_graph = G.subgraph(largest_cc)\n",
    "\n",
    "tightly_connected_components = list(nx.connected_components(largest_cc_graph))\n",
    "\n",
    "print(\"Tightly Connected Components within the Largest Connected Component:\", tightly_connected_components)"
   ]
  },
  {
   "cell_type": "code",
   "execution_count": null,
   "id": "6a4bdd85",
   "metadata": {},
   "outputs": [],
   "source": [
    "inc_news_num "
   ]
  },
  {
   "cell_type": "code",
   "execution_count": null,
   "id": "efc77bb6",
   "metadata": {},
   "outputs": [],
   "source": [
    "largest_cc = max(nx.connected_components(G), key=len)\n",
    "largest_cc_graph = G.subgraph(largest_cc)\n",
    "\n",
    "articulation_points = list(nx.articulation_points(largest_cc_graph))\n",
    "\n",
    "print(\"Articulation Points within the Largest Connected Component:\", sorted(articulation_points))"
   ]
  },
  {
   "cell_type": "code",
   "execution_count": null,
   "id": "979c4bac",
   "metadata": {},
   "outputs": [],
   "source": [
    "temp_graph = largest_cc_graph.copy()\n",
    "temp_graph.remove_nodes_from(articulation_points)\n",
    "a = list(nx.connected_components(temp_graph))"
   ]
  },
  {
   "cell_type": "code",
   "execution_count": null,
   "id": "9685a3ff",
   "metadata": {},
   "outputs": [],
   "source": [
    "a"
   ]
  },
  {
   "cell_type": "code",
   "execution_count": null,
   "id": "a1eb02b6",
   "metadata": {},
   "outputs": [],
   "source": [
    "largest_cc = max(nx.connected_components(G), key=len)\n",
    "largest_cc_graph = G.subgraph(largest_cc)\n",
    "\n",
    "vertex_cut = nx.minimum_node_cut(largest_cc_graph)\n",
    "\n",
    "disconnected_components = []\n",
    "for vertex in vertex_cut:\n",
    "    temp_graph = largest_cc_graph.copy()\n",
    "    temp_graph.remove_node(vertex)\n",
    "    disconnected_components.append(list(nx.connected_components(temp_graph)))\n",
    "\n",
    "for i, component in enumerate(disconnected_components, 1):\n",
    "    print(f\"Disconnected Component {i}:\", component)\n"
   ]
  },
  {
   "cell_type": "code",
   "execution_count": null,
   "id": "a74a2dc1",
   "metadata": {},
   "outputs": [],
   "source": [
    "df_all_nodes = list(set(df_alt_all_influence.News_Number))"
   ]
  },
  {
   "cell_type": "code",
   "execution_count": null,
   "id": "433a79ca",
   "metadata": {},
   "outputs": [],
   "source": [
    "s1 = set(df_alt_all_influence.loc[df_alt_all_influence.News_Number == 0].User_ID.tolist())"
   ]
  },
  {
   "cell_type": "code",
   "execution_count": null,
   "id": "4aefe509",
   "metadata": {},
   "outputs": [],
   "source": [
    "s2 = set(df_alt_all_influence.loc[df_alt_all_influence.News_Number == 6].User_ID.tolist())"
   ]
  },
  {
   "cell_type": "code",
   "execution_count": null,
   "id": "46f205dc",
   "metadata": {},
   "outputs": [],
   "source": [
    "len(s1.intersection(s2))"
   ]
  },
  {
   "cell_type": "code",
   "execution_count": null,
   "id": "8b0b1192",
   "metadata": {},
   "outputs": [],
   "source": [
    "add_edges = []\n",
    "for i in range(len(df_all_nodes)-1):\n",
    "    for j in range(i+1, len(df_all_nodes)):\n",
    "        s1 = set(df_alt_all_influence.loc[df_alt_all_influence.News_Number == df_all_nodes[i]].User_ID.tolist())\n",
    "        s2 = set(df_alt_all_influence.loc[df_alt_all_influence.News_Number == df_all_nodes[j]].User_ID.tolist())\n",
    "        common_acc = s1.intersection(s2)\n",
    "        if len(common_acc) != 0:\n",
    "            add_edges.append((df_all_nodes[i],df_all_nodes[j], len(common_acc) ))"
   ]
  },
  {
   "cell_type": "code",
   "execution_count": null,
   "id": "1d107102",
   "metadata": {},
   "outputs": [],
   "source": [
    "add_edges"
   ]
  },
  {
   "cell_type": "code",
   "execution_count": null,
   "id": "d85827b3",
   "metadata": {},
   "outputs": [],
   "source": [
    "import networkx as nx\n",
    "\n",
    "G = nx.Graph()\n",
    "\n",
    "G.add_nodes_from(df_all_nodes)\n",
    "\n",
    "G.add_weighted_edges_from(add_edges)\n",
    "\n",
    "print(G.edges(data=True))"
   ]
  },
  {
   "cell_type": "code",
   "execution_count": null,
   "id": "4a8286fd",
   "metadata": {},
   "outputs": [],
   "source": [
    "largest_cc = max(nx.connected_components(G), key=len)"
   ]
  },
  {
   "cell_type": "code",
   "execution_count": null,
   "id": "b1f0c56b",
   "metadata": {},
   "outputs": [],
   "source": [
    "largest_cc"
   ]
  },
  {
   "cell_type": "code",
   "execution_count": null,
   "id": "70b010bb",
   "metadata": {
    "scrolled": true
   },
   "outputs": [],
   "source": [
    "[len(c) for c in sorted(nx.connected_components(G), key=len, reverse=True)]"
   ]
  },
  {
   "cell_type": "code",
   "execution_count": null,
   "id": "22320675",
   "metadata": {},
   "outputs": [],
   "source": [
    "sum([len(c) for c in sorted(nx.connected_components(G), key=len, reverse=True)])"
   ]
  },
  {
   "cell_type": "code",
   "execution_count": null,
   "id": "63507956",
   "metadata": {},
   "outputs": [],
   "source": [
    "import matplotlib.pyplot as plt\n",
    "d = dict(G.degree)\n",
    "nx.draw(G, with_labels=True, font_size=8, node_size=[v * 100 for v in d.values()])\n",
    "plt.show()"
   ]
  },
  {
   "cell_type": "code",
   "execution_count": null,
   "id": "6db8f67b",
   "metadata": {},
   "outputs": [],
   "source": [
    "d"
   ]
  },
  {
   "cell_type": "code",
   "execution_count": null,
   "id": "ddcec616",
   "metadata": {},
   "outputs": [],
   "source": [
    "nx.number_connected_components(G)"
   ]
  },
  {
   "cell_type": "code",
   "execution_count": null,
   "id": "94edac35",
   "metadata": {},
   "outputs": [],
   "source": [
    "len([len(c) for c in sorted(nx.connected_components(G), key=len, reverse=True)])"
   ]
  },
  {
   "cell_type": "code",
   "execution_count": null,
   "id": "fe58dfd1",
   "metadata": {},
   "outputs": [],
   "source": [
    "conn_comp = [len(c) for c in sorted(nx.connected_components(G), key=len, reverse=True)]"
   ]
  },
  {
   "cell_type": "code",
   "execution_count": null,
   "id": "9b60c75a",
   "metadata": {},
   "outputs": [],
   "source": [
    "conn_comp"
   ]
  },
  {
   "cell_type": "code",
   "execution_count": null,
   "id": "6277d0bf",
   "metadata": {},
   "outputs": [],
   "source": [
    "conn_comp.count(2)"
   ]
  },
  {
   "cell_type": "code",
   "execution_count": null,
   "id": "77542f7d",
   "metadata": {},
   "outputs": [],
   "source": [
    "largest_component = max(nx.connected_components(G), key=len)"
   ]
  },
  {
   "cell_type": "code",
   "execution_count": null,
   "id": "d1a0c693",
   "metadata": {
    "scrolled": true
   },
   "outputs": [],
   "source": [
    "average_degree = sum(G.degree(node) for node in largest_component) / len(largest_component)\n",
    "\n",
    "print(average_degree)"
   ]
  },
  {
   "cell_type": "code",
   "execution_count": null,
   "id": "27988f9a",
   "metadata": {},
   "outputs": [],
   "source": [
    "largest_cc = max(nx.connected_components(G), key=len)\n",
    "\n",
    "largest_cc_graph = G.subgraph(largest_cc)\n",
    "\n",
    "average_degree = sum(dict(largest_cc_graph.degree()).values()) / len(largest_cc_graph)\n",
    "\n",
    "print(\"Average degree of the largest connected component:\", average_degree)"
   ]
  },
  {
   "cell_type": "code",
   "execution_count": null,
   "id": "3067e901",
   "metadata": {},
   "outputs": [],
   "source": [
    "nx.is_biconnected(G)"
   ]
  },
  {
   "cell_type": "code",
   "execution_count": null,
   "id": "d420e674",
   "metadata": {},
   "outputs": [],
   "source": [
    "bicomponents = list(nx.biconnected_components(G))\n",
    "len(bicomponents)"
   ]
  },
  {
   "cell_type": "code",
   "execution_count": null,
   "id": "9b0baf54",
   "metadata": {},
   "outputs": [],
   "source": [
    "bicomponents"
   ]
  },
  {
   "cell_type": "code",
   "execution_count": null,
   "id": "83207108",
   "metadata": {},
   "outputs": [],
   "source": [
    "largest_cc_graph "
   ]
  },
  {
   "cell_type": "code",
   "execution_count": null,
   "id": "2d17e3e3",
   "metadata": {},
   "outputs": [],
   "source": [
    "largest_cc = max(nx.connected_components(G), key=len)\n",
    "largest_cc_graph = G.subgraph(largest_cc)\n",
    "\n",
    "all_pairs_shortest_paths = dict(nx.all_pairs_shortest_path_length(largest_cc_graph))\n",
    "\n",
    "max_shortest_path_length = max(max(lengths.values()) for lengths in all_pairs_shortest_paths.values())\n",
    "\n",
    "print(\"Largest distance between two nodes in the largest connected component:\", max_shortest_path_length)"
   ]
  },
  {
   "cell_type": "code",
   "execution_count": null,
   "id": "69f7dfc1",
   "metadata": {},
   "outputs": [],
   "source": [
    "import networkx as nx\n",
    "\n",
    "\n",
    "articulation_points = list(nx.articulation_points(G))\n",
    "\n",
    "print(\"Articulation Points:\", articulation_points)"
   ]
  },
  {
   "cell_type": "code",
   "execution_count": null,
   "id": "19a44000",
   "metadata": {},
   "outputs": [],
   "source": [
    "tightly_connected_components = list(nx.connected_components(G))\n",
    "\n",
    "print(\"Tightly Connected Components:\", tightly_connected_components)"
   ]
  },
  {
   "cell_type": "code",
   "execution_count": null,
   "id": "a64fc676",
   "metadata": {},
   "outputs": [],
   "source": [
    "len(list(nx.articulation_points(G)))"
   ]
  },
  {
   "cell_type": "code",
   "execution_count": null,
   "id": "0399d8bf",
   "metadata": {},
   "outputs": [],
   "source": [
    "largest_cc = max(nx.connected_components(G), key=len)\n",
    "largest_cc_graph = G.subgraph(largest_cc)\n",
    "\n",
    "average_shortest_path_length = nx.average_shortest_path_length(largest_cc_graph)\n",
    "\n",
    "print(\"Average Shortest Path Length within the Largest Connected Component:\", average_shortest_path_length)"
   ]
  },
  {
   "cell_type": "code",
   "execution_count": null,
   "id": "20293fb1",
   "metadata": {},
   "outputs": [],
   "source": [
    "articulation_points = list(nx.articulation_points(G))\n",
    "\n",
    "largest_connected_components = []\n",
    "\n",
    "for node in articulation_points:\n",
    "    temp_graph = G.copy()\n",
    "    temp_graph.remove_node(node)\n",
    "    \n",
    "    connected_components = list(nx.connected_components(temp_graph))\n",
    "    \n",
    "    max_size = max(len(component) for component in connected_components)\n",
    "    largest_connected_components.append([component for component in connected_components if len(component) == max_size])\n",
    "\n",
    "largest_connected_components = [item for sublist in largest_connected_components for item in sublist]\n",
    "\n",
    "print(\"Largest Connected Component(s) after removing articulation points:\", largest_connected_components)"
   ]
  },
  {
   "cell_type": "code",
   "execution_count": null,
   "id": "e4a5a02a",
   "metadata": {},
   "outputs": [],
   "source": [
    "len(largest_connected_components[7])"
   ]
  },
  {
   "cell_type": "code",
   "execution_count": null,
   "id": "f7d28445",
   "metadata": {},
   "outputs": [],
   "source": [
    "multi_influ = [21,66,73, 80, 113, 144, 182, 211, 217, 310, 312, 391]\n",
    "temp_graph = G.copy()\n",
    "temp_graph.remove_nodes_from(multi_influ)\n",
    "largest_connected_components = []    \n",
    "connected_components = list(nx.connected_components(temp_graph))\n",
    "    \n",
    "max_size = max(len(component) for component in connected_components)\n",
    "\n",
    "largest_connected_components = [item for sublist in largest_connected_components for item in sublist]\n"
   ]
  },
  {
   "cell_type": "code",
   "execution_count": null,
   "id": "b00b520f",
   "metadata": {},
   "outputs": [],
   "source": [
    "len(connected_components)"
   ]
  },
  {
   "cell_type": "code",
   "execution_count": null,
   "id": "9afc281c",
   "metadata": {},
   "outputs": [],
   "source": [
    "len(max(nx.connected_components(temp_graph), key=len))"
   ]
  },
  {
   "cell_type": "markdown",
   "id": "f32bc6a0",
   "metadata": {},
   "source": [
    "# Cliques"
   ]
  },
  {
   "cell_type": "code",
   "execution_count": null,
   "id": "e42339a1",
   "metadata": {},
   "outputs": [],
   "source": [
    "cliques = list(nx.find_cliques(G))\n",
    "\n",
    "print(\"Cliques in the graph:\")\n",
    "for i, clique in enumerate(cliques, 1):\n",
    "    print(f\"Clique {i}: {clique}\")"
   ]
  },
  {
   "cell_type": "code",
   "execution_count": null,
   "id": "58271465",
   "metadata": {},
   "outputs": [],
   "source": [
    "cliques "
   ]
  },
  {
   "cell_type": "code",
   "execution_count": null,
   "id": "32bce5e8",
   "metadata": {},
   "outputs": [],
   "source": [
    "maximum_clique = max(cliques, key=len)\n",
    "\n",
    "print(\"Maximum Clique:\", maximum_clique)"
   ]
  },
  {
   "cell_type": "code",
   "execution_count": null,
   "id": "8eec2194",
   "metadata": {},
   "outputs": [],
   "source": [
    "subgraph = G.subgraph(maximum_clique)\n",
    "\n",
    "pos = nx.spring_layout(subgraph)  # You can use any layout algorithm\n",
    "nx.draw(subgraph, pos, with_labels=True, node_color='skyblue', node_size=500, font_size=12)\n",
    "plt.title('Maximum Clique')\n",
    "plt.show()"
   ]
  },
  {
   "cell_type": "code",
   "execution_count": null,
   "id": "8d37878c",
   "metadata": {},
   "outputs": [],
   "source": [
    "all_cliques = list(nx.enumerate_all_cliques(G))\n",
    "\n",
    "cliques_size_3_or_more = [clique for clique in all_cliques if len(clique) >= 3]\n",
    "\n",
    "print(\"Cliques of size 3 or more:\", cliques_size_3_or_more)"
   ]
  },
  {
   "cell_type": "code",
   "execution_count": null,
   "id": "e7cc3594",
   "metadata": {},
   "outputs": [],
   "source": [
    "len(cliques_size_3_or_more)"
   ]
  },
  {
   "cell_type": "markdown",
   "id": "3e25a945",
   "metadata": {},
   "source": [
    "# Bert Topic"
   ]
  },
  {
   "cell_type": "code",
   "execution_count": null,
   "id": "e1d6c244",
   "metadata": {},
   "outputs": [],
   "source": [
    "import re\n",
    "def remove_twitter_mentions(text):\n",
    "    return re.sub(r'@\\w+', '', text)\n",
    "\n",
    "def remove_links(text):\n",
    "    return re.sub(r'http\\S+', '', text)\n",
    "\n"
   ]
  },
  {
   "cell_type": "code",
   "execution_count": null,
   "id": "2055d6a9",
   "metadata": {},
   "outputs": [],
   "source": []
  },
  {
   "cell_type": "code",
   "execution_count": null,
   "id": "cde2f6d1",
   "metadata": {},
   "outputs": [],
   "source": [
    "df_alt_all_influence['Text_without_mention'] = df_alt_all_influence['Tweet_Text'].apply(remove_twitter_mentions)\n",
    "df_alt_all_influence['Text_without_mention'] = df_alt_all_influence['Text_without_mention'].apply(remove_links)"
   ]
  },
  {
   "cell_type": "code",
   "execution_count": null,
   "id": "bf7573e3",
   "metadata": {},
   "outputs": [],
   "source": [
    "docs = df_alt_all_influence.drop_duplicates('News_Number').Text_without_mention.tolist()"
   ]
  },
  {
   "cell_type": "code",
   "execution_count": null,
   "id": "13c445bb",
   "metadata": {},
   "outputs": [],
   "source": [
    "docs"
   ]
  },
  {
   "cell_type": "code",
   "execution_count": null,
   "id": "1a8000cd",
   "metadata": {},
   "outputs": [],
   "source": [
    "docs = df_alt_all_influence.Tweet_Text.tolist()"
   ]
  },
  {
   "cell_type": "code",
   "execution_count": null,
   "id": "510319cc",
   "metadata": {},
   "outputs": [],
   "source": [
    "from bertopic.representation import KeyBERTInspired\n",
    "from bertopic import BERTopic\n",
    "from hdbscan import HDBSCAN\n",
    "\n",
    "hdbscan_model = HDBSCAN(min_cluster_size=4, metric='euclidean', \n",
    "                        cluster_selection_method='eom', prediction_data=True, min_samples=4)\n",
    "representation_model = KeyBERTInspired()\n",
    "topic_model = BERTopic(representation_model=representation_model, language=\"multilingual\", hdbscan_model=hdbscan_model)"
   ]
  },
  {
   "cell_type": "code",
   "execution_count": null,
   "id": "a65252c3",
   "metadata": {},
   "outputs": [],
   "source": [
    "topics, probs = topic_model.fit_transform(docs)"
   ]
  },
  {
   "cell_type": "code",
   "execution_count": null,
   "id": "281eb4d8",
   "metadata": {},
   "outputs": [],
   "source": [
    "topic_model.get_topic_info()"
   ]
  },
  {
   "cell_type": "code",
   "execution_count": null,
   "id": "77ad5f65",
   "metadata": {},
   "outputs": [],
   "source": [
    "new_topics = topic_model.reduce_outliers(docs, topics)"
   ]
  },
  {
   "cell_type": "code",
   "execution_count": null,
   "id": "52d5b8f8",
   "metadata": {},
   "outputs": [],
   "source": [
    "len(new_topics)"
   ]
  },
  {
   "cell_type": "code",
   "execution_count": null,
   "id": "f364d478",
   "metadata": {},
   "outputs": [],
   "source": [
    "new_topics"
   ]
  },
  {
   "cell_type": "markdown",
   "id": "82fa38d9",
   "metadata": {},
   "source": [
    "# Translate Tweets"
   ]
  },
  {
   "cell_type": "code",
   "execution_count": null,
   "id": "5f27c224",
   "metadata": {},
   "outputs": [],
   "source": [
    "from transformers import pipeline\n",
    "\n",
    "pipe2 = pipeline(\"translation\", model=\"facebook/nllb-200-distilled-600M\", src_lang='hin_Deva', tgt_lang='eng_Latn',max_length = 400)"
   ]
  },
  {
   "cell_type": "code",
   "execution_count": null,
   "id": "80a2de11",
   "metadata": {},
   "outputs": [],
   "source": [
    "df_alt_all_influence.Text_without_mention"
   ]
  },
  {
   "cell_type": "code",
   "execution_count": null,
   "id": "c103bebf",
   "metadata": {},
   "outputs": [],
   "source": [
    "df_alt_all_influence.Tweet_ID"
   ]
  },
  {
   "cell_type": "code",
   "execution_count": null,
   "id": "210ce0b5",
   "metadata": {},
   "outputs": [],
   "source": [
    "df_alt_all_influence.News_Number"
   ]
  },
  {
   "cell_type": "code",
   "execution_count": null,
   "id": "eea492c0",
   "metadata": {},
   "outputs": [],
   "source": [
    "need_text = df_alt_all_influence.Text_without_mention\n",
    "need_id = df_alt_all_influence.Tweet_ID\n",
    "need_news_num = df_alt_all_influence.News_Number"
   ]
  },
  {
   "cell_type": "code",
   "execution_count": null,
   "id": "65fe3b8e",
   "metadata": {},
   "outputs": [],
   "source": []
  },
  {
   "cell_type": "code",
   "execution_count": null,
   "id": "09f5967a",
   "metadata": {},
   "outputs": [],
   "source": [
    "trans_text= []\n",
    "trans_id = []\n",
    "trans_news_num = []\n",
    "\n",
    "k = 0\n",
    "for text in need_text:\n",
    "    try:\n",
    "        trans_text.append(pipe2(text)[0]['translation_text'])\n",
    "        \n",
    "    except:\n",
    "        trans_description.append('Error_Happened')\n",
    "        \n",
    "    trans_id.append(need_id[k])\n",
    "    trans_news_num.append(need_news_num[k])\n",
    "    k = k + 1"
   ]
  },
  {
   "cell_type": "code",
   "execution_count": null,
   "id": "d6063568",
   "metadata": {},
   "outputs": [],
   "source": [
    "print(len(trans_id))\n",
    "print(len(trans_text))\n",
    "print(len(trans_news_num))"
   ]
  },
  {
   "cell_type": "code",
   "execution_count": null,
   "id": "976bdca6",
   "metadata": {},
   "outputs": [],
   "source": [
    "data = {'News_Number': trans_news_num, 'Tweet_ID': trans_id, 'Translated_Text': trans_text}\n",
    "\n",
    "df_trans = pd.DataFrame(data)"
   ]
  },
  {
   "cell_type": "code",
   "execution_count": null,
   "id": "9024de49",
   "metadata": {},
   "outputs": [],
   "source": [
    "df_trans.to_csv('AltNews_Tweet_Translate.csv', index = False)"
   ]
  },
  {
   "cell_type": "code",
   "execution_count": null,
   "id": "06811ca9",
   "metadata": {},
   "outputs": [],
   "source": []
  },
  {
   "cell_type": "code",
   "execution_count": null,
   "id": "dc1f0b85",
   "metadata": {},
   "outputs": [],
   "source": [
    "df_trans_non_duplicate.columns"
   ]
  },
  {
   "cell_type": "code",
   "execution_count": null,
   "id": "ca0e252d",
   "metadata": {},
   "outputs": [],
   "source": [
    "from collections import Counter\n",
    "grouped = df_trans.groupby('News_Number')['Translated_Text'].apply(list)\n",
    "\n",
    "merged_tweets = grouped.apply(lambda x: ' '.join(x))\n",
    "\n",
    "word_lists = merged_tweets.apply(lambda x: list(set(x.split())))\n",
    "word_counts = word_lists.apply(Counter)\n",
    "unique_words = pd.DataFrame(word_counts.tolist(), index=word_counts.index).fillna(0).astype(int)\n"
   ]
  },
  {
   "cell_type": "code",
   "execution_count": null,
   "id": "5f691a64",
   "metadata": {},
   "outputs": [],
   "source": [
    "df_new_trans = pd.DataFrame(word_lists).reset_index()"
   ]
  },
  {
   "cell_type": "code",
   "execution_count": null,
   "id": "6b14e6b5",
   "metadata": {},
   "outputs": [],
   "source": [
    "df_new_trans"
   ]
  },
  {
   "cell_type": "code",
   "execution_count": null,
   "id": "01c20a2e",
   "metadata": {},
   "outputs": [],
   "source": [
    "df_new_trans['Translated_Text_str'] = df_new_trans['Translated_Text'].apply(lambda x: ' '.join(map(str, x)))"
   ]
  },
  {
   "cell_type": "code",
   "execution_count": null,
   "id": "38916baf",
   "metadata": {},
   "outputs": [],
   "source": []
  },
  {
   "cell_type": "code",
   "execution_count": null,
   "id": "10bd025e",
   "metadata": {},
   "outputs": [],
   "source": []
  },
  {
   "cell_type": "code",
   "execution_count": null,
   "id": "c952eb4e",
   "metadata": {},
   "outputs": [],
   "source": []
  },
  {
   "cell_type": "code",
   "execution_count": null,
   "id": "a96ef006",
   "metadata": {},
   "outputs": [],
   "source": [
    "hdbscan_model = HDBSCAN(min_cluster_size=5, metric='euclidean', \n",
    "                        cluster_selection_method='eom', prediction_data=True, min_samples=5)\n",
    "representation_model = KeyBERTInspired()\n",
    "topic_model = BERTopic(representation_model=representation_model, language=\"multilingual\", hdbscan_model=hdbscan_model)"
   ]
  },
  {
   "cell_type": "code",
   "execution_count": null,
   "id": "0367e469",
   "metadata": {},
   "outputs": [],
   "source": [
    "docs = df_new_trans['Translated_Text_str'].tolist()"
   ]
  },
  {
   "cell_type": "code",
   "execution_count": null,
   "id": "32004cce",
   "metadata": {},
   "outputs": [],
   "source": [
    "topics, probs = topic_model.fit_transform(docs)"
   ]
  },
  {
   "cell_type": "code",
   "execution_count": null,
   "id": "be01cf0e",
   "metadata": {},
   "outputs": [],
   "source": []
  },
  {
   "cell_type": "code",
   "execution_count": null,
   "id": "7e1f9072",
   "metadata": {},
   "outputs": [],
   "source": [
    "topic_model.get_topic_info()"
   ]
  },
  {
   "cell_type": "code",
   "execution_count": null,
   "id": "25c06c6b",
   "metadata": {},
   "outputs": [],
   "source": [
    "new_topics = topic_model.reduce_outliers(docs, topics)"
   ]
  },
  {
   "cell_type": "code",
   "execution_count": null,
   "id": "84867713",
   "metadata": {},
   "outputs": [],
   "source": [
    "topic_model.get_topic(-1)"
   ]
  },
  {
   "cell_type": "code",
   "execution_count": null,
   "id": "d23e694e",
   "metadata": {},
   "outputs": [],
   "source": [
    "topic_model.get_topic(4)"
   ]
  },
  {
   "cell_type": "code",
   "execution_count": null,
   "id": "76080098",
   "metadata": {},
   "outputs": [],
   "source": [
    "for i in range(0,11):\n",
    "    print(topic_model.get_topic(i))\n",
    "    print()"
   ]
  },
  {
   "cell_type": "code",
   "execution_count": null,
   "id": "5562eeba",
   "metadata": {},
   "outputs": [],
   "source": [
    "topic_model.generate_topic_labels()"
   ]
  },
  {
   "cell_type": "code",
   "execution_count": null,
   "id": "142720b0",
   "metadata": {},
   "outputs": [],
   "source": [
    "topic_model.visualize_topics()"
   ]
  },
  {
   "cell_type": "code",
   "execution_count": null,
   "id": "e89a294d",
   "metadata": {},
   "outputs": [],
   "source": [
    "len(topics)"
   ]
  },
  {
   "cell_type": "code",
   "execution_count": null,
   "id": "64e32abb",
   "metadata": {},
   "outputs": [],
   "source": [
    "topics"
   ]
  },
  {
   "cell_type": "code",
   "execution_count": null,
   "id": "13723099",
   "metadata": {},
   "outputs": [],
   "source": [
    "df_new_trans.News_Number.tolist()"
   ]
  },
  {
   "cell_type": "code",
   "execution_count": null,
   "id": "c587d5e6",
   "metadata": {},
   "outputs": [],
   "source": [
    "df_topic_alt = pd.DataFrame( topics,df_new_trans.News_Number.tolist()).reset_index().rename(columns = {'index': 'News_Number', 0:'Topic_Number'})"
   ]
  },
  {
   "cell_type": "code",
   "execution_count": null,
   "id": "03b04be1",
   "metadata": {},
   "outputs": [],
   "source": [
    "df_topic_alt.to_csv('AltNews_Topics.csv', index = False)"
   ]
  },
  {
   "cell_type": "code",
   "execution_count": null,
   "id": "ff936d3a",
   "metadata": {},
   "outputs": [],
   "source": []
  }
 ],
 "metadata": {
  "kernelspec": {
   "display_name": "Python 3 (ipykernel)",
   "language": "python",
   "name": "python3"
  },
  "language_info": {
   "codemirror_mode": {
    "name": "ipython",
    "version": 3
   },
   "file_extension": ".py",
   "mimetype": "text/x-python",
   "name": "python",
   "nbconvert_exporter": "python",
   "pygments_lexer": "ipython3",
   "version": "3.9.13"
  }
 },
 "nbformat": 4,
 "nbformat_minor": 5
}
