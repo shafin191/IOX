{
 "cells": [
  {
   "cell_type": "code",
   "execution_count": null,
   "id": "28e42682",
   "metadata": {},
   "outputs": [],
   "source": [
    "from bertopic import BERTopic\n",
    "from sklearn.feature_extraction.text import TfidfVectorizer\n",
    "from sklearn.cluster import AgglomerativeClustering\n",
    "from sklearn.metrics.pairwise import cosine_similarity\n",
    "import pandas as pd\n",
    "import matplotlib as plt\n",
    "import numpy as np\n",
    "pd.set_option('display.max_colwidth', None)\n",
    "pd.set_option('display.max_columns', 10)\n",
    "pd.set_option('display.max_rows', 50)"
   ]
  },
  {
   "cell_type": "code",
   "execution_count": null,
   "id": "f8784b45",
   "metadata": {},
   "outputs": [],
   "source": [
    "df_alt_all = pd.read_csv('Collected_Fake_Tweets_Still_Available.csv')"
   ]
  },
  {
   "cell_type": "code",
   "execution_count": null,
   "id": "9e281158",
   "metadata": {},
   "outputs": [],
   "source": [
    "df_alt_small = df_alt_all[['Tweet_ID', 'Tweet_Text']]"
   ]
  },
  {
   "cell_type": "code",
   "execution_count": null,
   "id": "443dd311",
   "metadata": {},
   "outputs": [],
   "source": [
    "import re\n",
    "def remove_twitter_mentions(text):\n",
    "    return re.sub(r'@\\w+', '', text)\n",
    "\n",
    "def remove_links(text):\n",
    "    return re.sub(r'http\\S+', '', text)"
   ]
  },
  {
   "cell_type": "code",
   "execution_count": null,
   "id": "8248c869",
   "metadata": {},
   "outputs": [],
   "source": [
    "df_alt_small['Refined'] = df_alt_small.Tweet_Text.apply(remove_twitter_mentions)\n",
    "df_alt_small['Refined'] = df_alt_small.Refined.apply(remove_links)"
   ]
  },
  {
   "cell_type": "code",
   "execution_count": null,
   "id": "d2deb62a",
   "metadata": {},
   "outputs": [],
   "source": [
    "df_alt_small"
   ]
  },
  {
   "cell_type": "code",
   "execution_count": null,
   "id": "b5f43280",
   "metadata": {},
   "outputs": [],
   "source": [
    "docs = df_alt_small['Refined']"
   ]
  },
  {
   "cell_type": "code",
   "execution_count": null,
   "id": "7937cf09",
   "metadata": {},
   "outputs": [],
   "source": [
    "from bertopic.representation import KeyBERTInspired\n",
    "from bertopic.vectorizers import ClassTfidfTransformer\n",
    "from bertopic import BERTopic\n",
    "from hdbscan import HDBSCAN\n",
    "\n",
    "hdbscan_model = HDBSCAN(min_cluster_size=2, metric='euclidean', \n",
    "                        cluster_selection_method='eom', min_samples=2,\n",
    "                        allow_single_cluster=True, gen_min_span_tree=True)\n",
    "\n",
    "\n",
    "\n",
    "\n",
    "ctfidf_model = ClassTfidfTransformer(reduce_frequent_words=True)\n",
    "topic_model = BERTopic(ctfidf_model=ctfidf_model, verbose=True, language=\"multilingual\", representation_model= representation_model)\n",
    "\n"
   ]
  },
  {
   "cell_type": "code",
   "execution_count": null,
   "id": "c988b94d",
   "metadata": {},
   "outputs": [],
   "source": [
    "topics, probs = topic_model.fit_transform(docs)"
   ]
  },
  {
   "cell_type": "code",
   "execution_count": null,
   "id": "2b3ebef3",
   "metadata": {},
   "outputs": [],
   "source": [
    "topic_model.get_topic_info()"
   ]
  },
  {
   "cell_type": "code",
   "execution_count": null,
   "id": "d7acca49",
   "metadata": {},
   "outputs": [],
   "source": [
    "hierarchical_topics = topic_model.hierarchical_topics(docs)"
   ]
  },
  {
   "cell_type": "code",
   "execution_count": null,
   "id": "5faa10fe",
   "metadata": {},
   "outputs": [],
   "source": [
    "similar_topics, similarity = topic_model.find_topics(\"India\", top_n=50)"
   ]
  },
  {
   "cell_type": "code",
   "execution_count": null,
   "id": "878abc95",
   "metadata": {},
   "outputs": [],
   "source": [
    "len(similar_topics)"
   ]
  }
 ],
 "metadata": {
  "kernelspec": {
   "display_name": "Python 3 (ipykernel)",
   "language": "python",
   "name": "python3"
  },
  "language_info": {
   "codemirror_mode": {
    "name": "ipython",
    "version": 3
   },
   "file_extension": ".py",
   "mimetype": "text/x-python",
   "name": "python",
   "nbconvert_exporter": "python",
   "pygments_lexer": "ipython3",
   "version": "3.9.13"
  }
 },
 "nbformat": 4,
 "nbformat_minor": 5
}
