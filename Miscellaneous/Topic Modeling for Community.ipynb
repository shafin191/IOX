{
 "cells": [
  {
   "cell_type": "code",
   "execution_count": null,
   "id": "377c3181",
   "metadata": {},
   "outputs": [],
   "source": [
    "import pandas as pd"
   ]
  },
  {
   "cell_type": "code",
   "execution_count": null,
   "id": "8aeb3102",
   "metadata": {},
   "outputs": [],
   "source": [
    "df_cluster = pd.read_csv('Cluster_Tweet_Final.csv')"
   ]
  },
  {
   "cell_type": "code",
   "execution_count": null,
   "id": "42dbc4d7",
   "metadata": {},
   "outputs": [],
   "source": [
    "df_user_sub_community =pd.read_csv('User_SubCommunity_Map.csv')"
   ]
  },
  {
   "cell_type": "code",
   "execution_count": null,
   "id": "858e4dc5",
   "metadata": {},
   "outputs": [],
   "source": [
    "all_acc_camp= pd.read_csv('Acc_Campaign_Map.csv')"
   ]
  },
  {
   "cell_type": "code",
   "execution_count": null,
   "id": "57929d48",
   "metadata": {},
   "outputs": [],
   "source": [
    "df_cluster[df_cluster.User_ID.isin(df_user_sub_community.loc[df_user_sub_community.Community_ID == 0].User_ID)]"
   ]
  },
  {
   "cell_type": "code",
   "execution_count": null,
   "id": "6cb40804",
   "metadata": {},
   "outputs": [],
   "source": [
    "all_acc_camp"
   ]
  },
  {
   "cell_type": "code",
   "execution_count": null,
   "id": "679ad1a0",
   "metadata": {},
   "outputs": [],
   "source": [
    "df_user_sub_community.loc[df_user_sub_community.Community_ID == 0].User_ID"
   ]
  },
  {
   "cell_type": "code",
   "execution_count": null,
   "id": "4c50509c",
   "metadata": {},
   "outputs": [],
   "source": [
    "com0_id = all_acc_camp[all_acc_camp.User_ID.isin(df_user_sub_community.loc[df_user_sub_community.Community_ID == 0].User_ID)].groupby('Campaign_ID').count().reset_index()"
   ]
  },
  {
   "cell_type": "code",
   "execution_count": null,
   "id": "8306a710",
   "metadata": {},
   "outputs": [],
   "source": [
    "com0_id "
   ]
  },
  {
   "cell_type": "code",
   "execution_count": null,
   "id": "b43c33d9",
   "metadata": {},
   "outputs": [],
   "source": [
    "df_cluster.Cluster_ID = df_cluster.Cluster_ID.astype('int')"
   ]
  },
  {
   "cell_type": "code",
   "execution_count": null,
   "id": "45c73186",
   "metadata": {},
   "outputs": [],
   "source": [
    "df_cluster['Campaign_ID'] = 'Wild_' + df_cluster['Cluster_ID'].astype('str')"
   ]
  },
  {
   "cell_type": "code",
   "execution_count": null,
   "id": "b1c48d0f",
   "metadata": {},
   "outputs": [],
   "source": [
    "df_cluster[df_cluster.Campaign_ID.isin(com0_id.Campaign_ID)][['Campaign_ID', 'Tweet_Text']].drop_duplicates('Campaign_ID')"
   ]
  },
  {
   "cell_type": "code",
   "execution_count": null,
   "id": "b80e99f7",
   "metadata": {},
   "outputs": [],
   "source": [
    "df_english_tweet = pd.read_csv('Translated_Tweet_Topic.csv')"
   ]
  },
  {
   "cell_type": "code",
   "execution_count": null,
   "id": "a797742a",
   "metadata": {},
   "outputs": [],
   "source": [
    "df_english_tweet.Cluster_ID = df_english_tweet.Cluster_ID.astype('int')"
   ]
  },
  {
   "cell_type": "code",
   "execution_count": null,
   "id": "65084287",
   "metadata": {},
   "outputs": [],
   "source": [
    "df_cluster_eng = df_cluster.loc[df_cluster.Tweet_Lang == 'en'].drop_duplicates('Cluster_ID')[['Cluster_ID', 'Tweet_Text']]"
   ]
  },
  {
   "cell_type": "code",
   "execution_count": null,
   "id": "7c9ebff7",
   "metadata": {},
   "outputs": [],
   "source": [
    "df_cluster_eng "
   ]
  },
  {
   "cell_type": "code",
   "execution_count": null,
   "id": "0d564683",
   "metadata": {},
   "outputs": [],
   "source": [
    "df_english_tweet[~df_english_tweet.Cluster_ID.isin(df_cluster_eng.Cluster_ID)]"
   ]
  },
  {
   "cell_type": "code",
   "execution_count": null,
   "id": "a1e08289",
   "metadata": {},
   "outputs": [],
   "source": [
    "appended_df = pd.concat([df_cluster_eng, df_english_tweet[~df_english_tweet.Cluster_ID.isin(df_cluster_eng.Cluster_ID)]], ignore_index=True)\n",
    "\n",
    "print(appended_df)"
   ]
  },
  {
   "cell_type": "code",
   "execution_count": null,
   "id": "b0554905",
   "metadata": {},
   "outputs": [],
   "source": [
    "appended_df.loc[appended_df.Campaign_ID == 'Wild_1716']"
   ]
  },
  {
   "cell_type": "code",
   "execution_count": null,
   "id": "af06a945",
   "metadata": {},
   "outputs": [],
   "source": [
    "appended_df = appended_df.drop('Unnamed: 0', axis = 1)"
   ]
  },
  {
   "cell_type": "code",
   "execution_count": null,
   "id": "22c46faf",
   "metadata": {},
   "outputs": [],
   "source": [
    "appended_df['Campaign_ID'] = 'Wild_'  +  appended_df['Cluster_ID'].astype('str')"
   ]
  },
  {
   "cell_type": "code",
   "execution_count": null,
   "id": "f34895a9",
   "metadata": {},
   "outputs": [],
   "source": [
    "import re\n",
    "def remove_twitter_mentions(text):\n",
    "    return re.sub(r'@\\w+', '', text)\n",
    "\n",
    "def remove_links(text):\n",
    "    return re.sub(r'http\\S+', '', text)\n"
   ]
  },
  {
   "cell_type": "code",
   "execution_count": null,
   "id": "11e4eb3c",
   "metadata": {},
   "outputs": [],
   "source": [
    "df_community_english_0 = pd.merge(appended_df, com0_id)"
   ]
  },
  {
   "cell_type": "code",
   "execution_count": null,
   "id": "7e4db0e4",
   "metadata": {},
   "outputs": [],
   "source": [
    "df_community_english_0['Refined_Text'] = df_community_english_0['Tweet_Text'].apply(remove_twitter_mentions)\n",
    "df_community_english_0['Refined_Text']=df_community_english_0['Refined_Text'].apply(remove_links)"
   ]
  },
  {
   "cell_type": "code",
   "execution_count": null,
   "id": "b0e8f311",
   "metadata": {},
   "outputs": [],
   "source": [
    "docs = df_community_english_0['Refined_Text'].tolist()"
   ]
  },
  {
   "cell_type": "code",
   "execution_count": null,
   "id": "83b2c531",
   "metadata": {},
   "outputs": [],
   "source": [
    "from bertopic.representation import KeyBERTInspired\n",
    "from bertopic import BERTopic\n",
    "from hdbscan import HDBSCAN\n",
    "\n",
    "hdbscan_model = HDBSCAN(min_cluster_size=5, metric='euclidean', \n",
    "                        cluster_selection_method='eom', prediction_data=True, min_samples=5)\n",
    "representation_model = KeyBERTInspired()\n",
    "topic_model = BERTopic(representation_model=representation_model, language=\"multilingual\", hdbscan_model=hdbscan_model)"
   ]
  },
  {
   "cell_type": "code",
   "execution_count": null,
   "id": "0791f5c9",
   "metadata": {},
   "outputs": [],
   "source": [
    "topics, probs = topic_model.fit_transform(docs)"
   ]
  },
  {
   "cell_type": "code",
   "execution_count": null,
   "id": "d8b58c46",
   "metadata": {},
   "outputs": [],
   "source": [
    "topic_model.get_topic_info().iloc[10:20]"
   ]
  },
  {
   "cell_type": "code",
   "execution_count": null,
   "id": "ecaa445f",
   "metadata": {},
   "outputs": [],
   "source": [
    "topic_model.generate_topic_labels()"
   ]
  },
  {
   "cell_type": "code",
   "execution_count": null,
   "id": "89320bfb",
   "metadata": {},
   "outputs": [],
   "source": [
    "topics"
   ]
  },
  {
   "cell_type": "code",
   "execution_count": null,
   "id": "3607ae0f",
   "metadata": {},
   "outputs": [],
   "source": [
    "indexes = [index for index, value in enumerate(topics) if value == 0]"
   ]
  },
  {
   "cell_type": "code",
   "execution_count": null,
   "id": "db433832",
   "metadata": {},
   "outputs": [],
   "source": [
    "docs[indexes[120]]"
   ]
  },
  {
   "cell_type": "code",
   "execution_count": null,
   "id": "bfdb59e4",
   "metadata": {},
   "outputs": [],
   "source": [
    "len(docs)"
   ]
  },
  {
   "cell_type": "code",
   "execution_count": null,
   "id": "ed526512",
   "metadata": {},
   "outputs": [],
   "source": [
    "df_community_english_0.loc[df_community_english_0.Campaign_ID == 'Wild_1716']"
   ]
  }
 ],
 "metadata": {
  "kernelspec": {
   "display_name": "Python 3 (ipykernel)",
   "language": "python",
   "name": "python3"
  },
  "language_info": {
   "codemirror_mode": {
    "name": "ipython",
    "version": 3
   },
   "file_extension": ".py",
   "mimetype": "text/x-python",
   "name": "python",
   "nbconvert_exporter": "python",
   "pygments_lexer": "ipython3",
   "version": "3.9.13"
  }
 },
 "nbformat": 4,
 "nbformat_minor": 5
}
