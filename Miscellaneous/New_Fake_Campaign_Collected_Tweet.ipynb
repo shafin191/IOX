{
 "cells": [
  {
   "cell_type": "code",
   "execution_count": null,
   "id": "d65b7230",
   "metadata": {},
   "outputs": [],
   "source": [
    "import os\n",
    "import pandas as pd\n",
    "import glob\n",
    "import numpy as np\n",
    "import matplotlib.pyplot as plt"
   ]
  },
  {
   "cell_type": "code",
   "execution_count": null,
   "id": "1df61d29",
   "metadata": {},
   "outputs": [],
   "source": [
    "pwd"
   ]
  },
  {
   "cell_type": "code",
   "execution_count": null,
   "id": "c19de5f3",
   "metadata": {},
   "outputs": [],
   "source": [
    "\n",
    "\n",
    "root_directory = '/disk/mnemo/users/randomuser/SBERT All Embedding/Fake_2024_Check/'\n",
    "\n",
    "df_list = []\n",
    "\n",
    "csv_files = glob.glob(os.path.join(root_directory, '**', '*.csv'), recursive=True)\n",
    "\n",
    "for file in csv_files:\n",
    "    df = pd.read_csv(file)\n",
    "    \n",
    "    df['file_name'] = os.path.basename(file)\n",
    "    \n",
    "    df_list.append(df)\n",
    "\n",
    "combined_df = pd.concat(df_list, ignore_index=True)\n",
    "\n"
   ]
  },
  {
   "cell_type": "code",
   "execution_count": null,
   "id": "634723c6",
   "metadata": {},
   "outputs": [],
   "source": [
    "combined_df['file_name'] = combined_df['file_name'].str.replace('_Tweets.csv', '', regex=False)"
   ]
  },
  {
   "cell_type": "code",
   "execution_count": null,
   "id": "368bb6d2",
   "metadata": {},
   "outputs": [],
   "source": [
    "combined_df = combined_df.drop_duplicates('Tweet_ID')"
   ]
  },
  {
   "cell_type": "code",
   "execution_count": null,
   "id": "bbb5b3a9",
   "metadata": {},
   "outputs": [],
   "source": [
    "combined_df['Cluster_ID'] = combined_df['file_name']"
   ]
  },
  {
   "cell_type": "code",
   "execution_count": null,
   "id": "49131c37",
   "metadata": {},
   "outputs": [],
   "source": [
    "combined_df_size = combined_df.groupby('Cluster_ID').count().sort_values('User_ID').reset_index()[['Cluster_ID', 'User_ID']]"
   ]
  },
  {
   "cell_type": "code",
   "execution_count": null,
   "id": "3a1b46a2",
   "metadata": {},
   "outputs": [],
   "source": [
    "combined_df_engagement = combined_df.groupby('Cluster_ID').sum().reset_index()[['Cluster_ID', 'retweet_count', 'favorite_count', 'View_Count']]"
   ]
  },
  {
   "cell_type": "code",
   "execution_count": null,
   "id": "0cd20d68",
   "metadata": {},
   "outputs": [],
   "source": [
    "combined_df_all = pd.merge(combined_df_size, combined_df_engagement)"
   ]
  },
  {
   "cell_type": "code",
   "execution_count": null,
   "id": "39e19198",
   "metadata": {},
   "outputs": [],
   "source": [
    "combined_df_all = combined_df_all.rename(columns = {'User_ID': 'Cluster_Size'})"
   ]
  },
  {
   "cell_type": "code",
   "execution_count": null,
   "id": "b2c110df",
   "metadata": {},
   "outputs": [],
   "source": [
    "combined_df_all = combined_df_all.replace(np.nan, 0)"
   ]
  },
  {
   "cell_type": "code",
   "execution_count": null,
   "id": "9f5eba58",
   "metadata": {},
   "outputs": [],
   "source": [
    "combined_df_all.describe()"
   ]
  },
  {
   "cell_type": "code",
   "execution_count": null,
   "id": "7e34745c",
   "metadata": {},
   "outputs": [],
   "source": [
    "combined_df_all.sort_values('View_Count')"
   ]
  },
  {
   "cell_type": "code",
   "execution_count": null,
   "id": "cacb79a1",
   "metadata": {},
   "outputs": [],
   "source": [
    "combined_df_all.loc[combined_df_all.Cluster_ID == '2464', 'View_Count'] = 2869837.0"
   ]
  },
  {
   "cell_type": "code",
   "execution_count": null,
   "id": "0e65ba61",
   "metadata": {},
   "outputs": [],
   "source": [
    "combined_df_all.describe()"
   ]
  },
  {
   "cell_type": "code",
   "execution_count": null,
   "id": "59cf5d22",
   "metadata": {},
   "outputs": [],
   "source": [
    "combined_df_all.loc[combined_df_all.View_Count >= 1000000]"
   ]
  },
  {
   "cell_type": "code",
   "execution_count": null,
   "id": "16f86ba6",
   "metadata": {},
   "outputs": [],
   "source": [
    "combined_df.loc[combined_df.Cluster_ID == '2464']"
   ]
  },
  {
   "cell_type": "code",
   "execution_count": null,
   "id": "fd6e5170",
   "metadata": {},
   "outputs": [],
   "source": []
  },
  {
   "cell_type": "code",
   "execution_count": null,
   "id": "43fa2e6a",
   "metadata": {},
   "outputs": [],
   "source": [
    "combined_df.replace(np.nan, 0)"
   ]
  },
  {
   "cell_type": "code",
   "execution_count": null,
   "id": "51ea3327",
   "metadata": {},
   "outputs": [],
   "source": [
    "combined_df_all.retweet_count.hist()"
   ]
  },
  {
   "cell_type": "code",
   "execution_count": null,
   "id": "9eaa968c",
   "metadata": {},
   "outputs": [],
   "source": [
    "combined_df_all.favorite_count.hist()"
   ]
  },
  {
   "cell_type": "code",
   "execution_count": null,
   "id": "f24b3462",
   "metadata": {},
   "outputs": [],
   "source": [
    "combined_df_all.View_Count.hist()"
   ]
  },
  {
   "cell_type": "code",
   "execution_count": null,
   "id": "54fccefb",
   "metadata": {},
   "outputs": [],
   "source": [
    "combined_df_all.boxplot()"
   ]
  },
  {
   "cell_type": "code",
   "execution_count": null,
   "id": "3b278d78",
   "metadata": {},
   "outputs": [],
   "source": [
    "combined_df_all.boxplot(by='View_Count')"
   ]
  },
  {
   "cell_type": "code",
   "execution_count": null,
   "id": "78ea4ac8",
   "metadata": {},
   "outputs": [],
   "source": [
    "combined_df_all.boxplot(column='View_Count', showfliers=False)\n",
    "plt.show()"
   ]
  },
  {
   "cell_type": "code",
   "execution_count": null,
   "id": "db0ba4d9",
   "metadata": {},
   "outputs": [],
   "source": [
    "combined_df_all.boxplot(column='Cluster_Size', showfliers=False)\n",
    "plt.show()"
   ]
  },
  {
   "cell_type": "code",
   "execution_count": null,
   "id": "03907860",
   "metadata": {},
   "outputs": [],
   "source": [
    "\n",
    "combined_df_all.boxplot(column='favorite_count', showfliers=False)\n",
    "plt.show()"
   ]
  },
  {
   "cell_type": "code",
   "execution_count": null,
   "id": "73afd2c8",
   "metadata": {},
   "outputs": [],
   "source": [
    "combined_df_all.boxplot(column='retweet_count', showfliers=False)\n",
    "plt.show()"
   ]
  },
  {
   "cell_type": "code",
   "execution_count": null,
   "id": "006f3703",
   "metadata": {},
   "outputs": [],
   "source": [
    "combined_df_all.to_csv('Collected_Tweet_Impact.csv')"
   ]
  },
  {
   "cell_type": "code",
   "execution_count": null,
   "id": "e29fcccc",
   "metadata": {},
   "outputs": [],
   "source": [
    "combined_df_all"
   ]
  },
  {
   "cell_type": "code",
   "execution_count": null,
   "id": "227705cc",
   "metadata": {},
   "outputs": [],
   "source": []
  }
 ],
 "metadata": {
  "kernelspec": {
   "display_name": "Python 3 (ipykernel)",
   "language": "python",
   "name": "python3"
  },
  "language_info": {
   "codemirror_mode": {
    "name": "ipython",
    "version": 3
   },
   "file_extension": ".py",
   "mimetype": "text/x-python",
   "name": "python",
   "nbconvert_exporter": "python",
   "pygments_lexer": "ipython3",
   "version": "3.9.13"
  }
 },
 "nbformat": 4,
 "nbformat_minor": 5
}
