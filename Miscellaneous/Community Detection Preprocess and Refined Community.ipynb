{
 "cells": [
  {
   "cell_type": "code",
   "execution_count": null,
   "id": "c3d0ccd3",
   "metadata": {},
   "outputs": [],
   "source": [
    "import pandas as pd\n",
    "import matplotlib as plt\n",
    "import numpy as np\n",
    "import os\n",
    "pd.set_option('display.max_colwidth', None)\n",
    "pd.set_option('display.max_columns', 10)\n",
    "pd.set_option('display.max_rows', 50)"
   ]
  },
  {
   "cell_type": "code",
   "execution_count": null,
   "id": "a1c12233",
   "metadata": {},
   "outputs": [],
   "source": [
    "os.getcwd()"
   ]
  },
  {
   "cell_type": "code",
   "execution_count": null,
   "id": "4aaa04f0",
   "metadata": {},
   "outputs": [],
   "source": [
    "df_generic1 = pd.read_csv('/disk/mnemo/users/randomuser/SBERT All Embedding/CommunityProcess/Generic Tweet - Sheet1.csv')\n",
    "df_generic2 = pd.read_csv('/disk/mnemo/users/randomuser/SBERT All Embedding/CommunityProcess/Generic Tweet - Sheet2.csv')"
   ]
  },
  {
   "cell_type": "code",
   "execution_count": null,
   "id": "9e13b614",
   "metadata": {},
   "outputs": [],
   "source": []
  },
  {
   "cell_type": "code",
   "execution_count": null,
   "id": "b01d2a3b",
   "metadata": {},
   "outputs": [],
   "source": [
    "df_account = pd.read_csv('All_Fake_without_debunkers_Updated.csv')"
   ]
  },
  {
   "cell_type": "code",
   "execution_count": null,
   "id": "99049e8f",
   "metadata": {},
   "outputs": [],
   "source": [
    "df_cluster_small =pd.read_csv('All_Cluster_Tweet_Topic.csv')"
   ]
  },
  {
   "cell_type": "code",
   "execution_count": null,
   "id": "39ce1b85",
   "metadata": {},
   "outputs": [],
   "source": [
    "df_gen = list(set(df_cluster_small[df_cluster_small.Topic_ID3.isin(df_generic1['Generic Message'].tolist())].Cluster_ID.tolist()))"
   ]
  },
  {
   "cell_type": "code",
   "execution_count": null,
   "id": "264a027e",
   "metadata": {},
   "outputs": [],
   "source": [
    "df_with_nan_only = df_generic2.dropna(axis=1, how='all')"
   ]
  },
  {
   "cell_type": "code",
   "execution_count": null,
   "id": "50f694ea",
   "metadata": {},
   "outputs": [],
   "source": [
    "rows_with_nan =  df_generic2.dropna(subset= df_generic2.columns[ df_generic2.isna().any()], how='any')"
   ]
  },
  {
   "cell_type": "code",
   "execution_count": null,
   "id": "92667033",
   "metadata": {},
   "outputs": [],
   "source": [
    "rows_with_nan.Campaign"
   ]
  },
  {
   "cell_type": "code",
   "execution_count": null,
   "id": "10e53c91",
   "metadata": {},
   "outputs": [],
   "source": [
    "df_generic2_updated = df_generic2[~df_generic2.Campaign.isin(rows_with_nan.Campaign)]"
   ]
  },
  {
   "cell_type": "code",
   "execution_count": null,
   "id": "dea1eb80",
   "metadata": {
    "scrolled": true
   },
   "outputs": [],
   "source": []
  },
  {
   "cell_type": "code",
   "execution_count": null,
   "id": "235846fd",
   "metadata": {},
   "outputs": [],
   "source": [
    "df_gen_up = df_gen + df_generic2_updated.Campaign.tolist()\n"
   ]
  },
  {
   "cell_type": "code",
   "execution_count": null,
   "id": "2ebc38a6",
   "metadata": {},
   "outputs": [],
   "source": [
    "len(list(set(df_gen_up)))"
   ]
  },
  {
   "cell_type": "code",
   "execution_count": null,
   "id": "757a8dc9",
   "metadata": {},
   "outputs": [],
   "source": [
    "df_all_cluster = pd.read_csv('Cluster_Tweet_Final.csv')"
   ]
  },
  {
   "cell_type": "code",
   "execution_count": null,
   "id": "ec069fdb",
   "metadata": {},
   "outputs": [],
   "source": [
    "df_all_cluster[df_all_cluster.Cluster_ID.isin(df_gen_up)]"
   ]
  },
  {
   "cell_type": "code",
   "execution_count": null,
   "id": "983a34ed",
   "metadata": {},
   "outputs": [],
   "source": []
  },
  {
   "cell_type": "code",
   "execution_count": null,
   "id": "ed1ba63e",
   "metadata": {},
   "outputs": [],
   "source": [
    "df_gen_up.append(8694)"
   ]
  },
  {
   "cell_type": "code",
   "execution_count": null,
   "id": "8034e7aa",
   "metadata": {},
   "outputs": [],
   "source": []
  },
  {
   "cell_type": "code",
   "execution_count": null,
   "id": "27a21ad4",
   "metadata": {},
   "outputs": [],
   "source": []
  },
  {
   "cell_type": "code",
   "execution_count": null,
   "id": "aa49fb18",
   "metadata": {},
   "outputs": [],
   "source": [
    "df_all_cluster_refined = df_all_cluster[~df_all_cluster.Cluster_ID.isin(df_gen_up)]"
   ]
  },
  {
   "cell_type": "code",
   "execution_count": null,
   "id": "0f1ca250",
   "metadata": {},
   "outputs": [],
   "source": [
    "df_all_cluster_refined.to_csv('Cluster_Tweet_Without_Generic.csv')"
   ]
  },
  {
   "cell_type": "code",
   "execution_count": null,
   "id": "a1779846",
   "metadata": {},
   "outputs": [],
   "source": []
  },
  {
   "cell_type": "code",
   "execution_count": null,
   "id": "6d1d59c4",
   "metadata": {},
   "outputs": [],
   "source": [
    "import networkx as nx\n",
    "from itertools import combinations\n",
    "import pandas as pd\n",
    "\n",
    "\n",
    "G = nx.Graph()\n",
    "\n",
    "user_clusters = df_all_cluster_refined.groupby('User_ID')['Cluster_ID'].unique().to_dict()\n",
    "\n",
    "for pair in combinations(user_clusters.keys(), 2):\n",
    "    user1, user2 = pair\n",
    "    common_clusters = set(user_clusters[user1]).intersection(user_clusters[user2])\n",
    "    if len(common_clusters) >= 5:\n",
    "        weight = len(common_clusters)\n",
    "        G.add_edge(user1, user2, weight=weight)\n",
    "\n",
    "print(\"Number of nodes:\", G.number_of_nodes())\n",
    "print(\"Number of edges:\", G.number_of_edges())\n",
    "\n",
    "for u, v, data in G.edges(data=True):\n",
    "    print(f\"Edge ({u}, {v}): Weight = {data['weight']}\")"
   ]
  },
  {
   "cell_type": "code",
   "execution_count": null,
   "id": "4eb126f7",
   "metadata": {},
   "outputs": [],
   "source": []
  },
  {
   "cell_type": "code",
   "execution_count": null,
   "id": "bb9673fa",
   "metadata": {},
   "outputs": [],
   "source": []
  },
  {
   "cell_type": "code",
   "execution_count": null,
   "id": "f6fca087",
   "metadata": {},
   "outputs": [],
   "source": [
    "import community\n",
    "partition = community.best_partition(G, resolution = 1)\n",
    "\n",
    "community_data = []\n",
    "\n",
    "for community_id in set(partition.values()):\n",
    "    nodes_in_community = [node for node, comm_id in partition.items() if comm_id == community_id]\n",
    "    \n",
    "    subgraph = G.subgraph(nodes_in_community)\n",
    "    \n",
    "    num_nodes = subgraph.number_of_nodes()\n",
    "    num_edges = subgraph.number_of_edges()\n",
    "    density = nx.density(subgraph)\n",
    "    avg_degree = sum(dict(subgraph.degree()).values()) / num_nodes\n",
    "    clustering_coefficient = nx.average_clustering(subgraph)\n",
    "    partition2 = community.best_partition(subgraph)\n",
    "    modularity = community.modularity(partition2, subgraph)\n",
    "    edge_weights = [data['weight'] for _, _, data in subgraph.edges(data=True)]\n",
    "    average_weight = sum(edge_weights) / len(edge_weights) if edge_weights else 0\n",
    "    \n",
    "    community_data.append((community_id, num_nodes, num_edges, density, avg_degree, clustering_coefficient, modularity, average_weight))\n",
    "\n",
    "df_community = pd.DataFrame(community_data, columns=['Community_ID', 'Num_Nodes', 'Num_Edges', 'Density', 'Avg_Degree', 'Clustering_Coefficient', 'Modularity', 'Avg_Weight'])\n"
   ]
  },
  {
   "cell_type": "code",
   "execution_count": null,
   "id": "166590ce",
   "metadata": {},
   "outputs": [],
   "source": []
  },
  {
   "cell_type": "code",
   "execution_count": null,
   "id": "4fe4bbf8",
   "metadata": {},
   "outputs": [],
   "source": [
    "df_community.sort_values('Num_Nodes', ascending = False).sum()"
   ]
  },
  {
   "cell_type": "code",
   "execution_count": null,
   "id": "d0d8b91b",
   "metadata": {},
   "outputs": [],
   "source": [
    "df_community_short = df_community.sort_values('Num_Nodes', ascending = False)[['Community_ID', 'Num_Nodes','Num_Edges', 'Density','Avg_Degree', 'Avg_Weight']]"
   ]
  },
  {
   "cell_type": "code",
   "execution_count": null,
   "id": "6fd6dd73",
   "metadata": {},
   "outputs": [],
   "source": [
    "df_community_short['Community_ID'] = 'Group_' +df_community_short['Community_ID'].astype('str')"
   ]
  },
  {
   "cell_type": "code",
   "execution_count": null,
   "id": "35d8bcff",
   "metadata": {},
   "outputs": [],
   "source": []
  },
  {
   "cell_type": "code",
   "execution_count": null,
   "id": "1d6a98b0",
   "metadata": {},
   "outputs": [],
   "source": [
    "df_community.sort_values('Num_Nodes', ascending = False).iloc[0:10]"
   ]
  },
  {
   "cell_type": "code",
   "execution_count": null,
   "id": "9754f6be",
   "metadata": {},
   "outputs": [],
   "source": [
    "communities = {}\n",
    "for node, community_id in partition.items():\n",
    "    if community_id not in communities:\n",
    "        communities[community_id] = []\n",
    "    communities[community_id].append(node)\n",
    "\n",
    "for community_id, nodes in communities.items():\n",
    "    print(f\"Community {community_id}: {len(nodes)}\")"
   ]
  },
  {
   "cell_type": "code",
   "execution_count": null,
   "id": "5543e557",
   "metadata": {},
   "outputs": [],
   "source": [
    "pd.DataFrame(partition, columns=['Community_ID'])"
   ]
  },
  {
   "cell_type": "code",
   "execution_count": null,
   "id": "35364c6e",
   "metadata": {},
   "outputs": [],
   "source": [
    "df_partition = pd.read_csv('Account_Community_Mapping_Refined.csv')"
   ]
  },
  {
   "cell_type": "code",
   "execution_count": null,
   "id": "9d92a33f",
   "metadata": {},
   "outputs": [],
   "source": [
    "df_partition "
   ]
  },
  {
   "cell_type": "code",
   "execution_count": null,
   "id": "33ea68a0",
   "metadata": {},
   "outputs": [],
   "source": []
  },
  {
   "cell_type": "code",
   "execution_count": null,
   "id": "f456905a",
   "metadata": {},
   "outputs": [],
   "source": [
    "aque = pd.merge(df_partition, df_account[['User_ID', 'party']]).groupby(['Community_ID', 'party']).count().reset_index()"
   ]
  },
  {
   "cell_type": "code",
   "execution_count": null,
   "id": "f8d4a230",
   "metadata": {},
   "outputs": [],
   "source": [
    "df_community_short=pd.read_csv('Community_Stats.csv')"
   ]
  },
  {
   "cell_type": "code",
   "execution_count": null,
   "id": "aeb2f4a9",
   "metadata": {},
   "outputs": [],
   "source": [
    "df_community_short"
   ]
  },
  {
   "cell_type": "code",
   "execution_count": null,
   "id": "522bf77b",
   "metadata": {},
   "outputs": [],
   "source": []
  },
  {
   "cell_type": "code",
   "execution_count": null,
   "id": "a7ff08ec",
   "metadata": {},
   "outputs": [],
   "source": []
  },
  {
   "cell_type": "code",
   "execution_count": null,
   "id": "6df1aff6",
   "metadata": {},
   "outputs": [],
   "source": [
    "aque.loc[aque.Community_ID == 17].sum()"
   ]
  },
  {
   "cell_type": "code",
   "execution_count": null,
   "id": "23af41a8",
   "metadata": {},
   "outputs": [],
   "source": [
    "df_partition2 = pd.merge(df_partition, df_account[['User_ID', 'party']])"
   ]
  },
  {
   "cell_type": "code",
   "execution_count": null,
   "id": "1f2d6e07",
   "metadata": {},
   "outputs": [],
   "source": [
    "df_partition2.groupby(['Community_ID','party']).count().reset_index().sort_values('User_ID', ascending = False).iloc[0:20]"
   ]
  },
  {
   "cell_type": "code",
   "execution_count": null,
   "id": "da16d86e",
   "metadata": {},
   "outputs": [],
   "source": [
    "df_partition2.groupby('Community_ID').count()"
   ]
  },
  {
   "cell_type": "code",
   "execution_count": null,
   "id": "8ff31509",
   "metadata": {},
   "outputs": [],
   "source": [
    "df_partition2.loc[df_partition2.Community_ID ==17].sort_values('party').groupby('party').count()"
   ]
  },
  {
   "cell_type": "code",
   "execution_count": null,
   "id": "3fb938eb",
   "metadata": {},
   "outputs": [],
   "source": [
    "df_qqqq = df_partition2.loc[df_partition2.party != 'NonPolitical'].groupby(['Community_ID', 'party']).count().reset_index()"
   ]
  },
  {
   "cell_type": "code",
   "execution_count": null,
   "id": "ba8ec831",
   "metadata": {},
   "outputs": [],
   "source": [
    "df_partition2.loc[(df_partition2.Community_ID == 1) & \n",
    "                  (df_partition2.party == 'INC')]"
   ]
  },
  {
   "cell_type": "code",
   "execution_count": null,
   "id": "1dd0b256",
   "metadata": {},
   "outputs": [],
   "source": [
    "len(df_qqqq.loc[df_qqqq.party == 'INC'])"
   ]
  },
  {
   "cell_type": "code",
   "execution_count": null,
   "id": "44a6cda9",
   "metadata": {},
   "outputs": [],
   "source": [
    "for u, v, data in G.edges(data=True):\n",
    "    if data['weight'] >= 1000:\n",
    "        print(f\"Edge ({u}, {v}): Weight = {data['weight']}\")"
   ]
  },
  {
   "cell_type": "code",
   "execution_count": null,
   "id": "cf4c8405",
   "metadata": {},
   "outputs": [],
   "source": [
    "check_lable3 = df_partition.groupby('Community_ID').count().reset_index().sort_values('User_ID', ascending = False).iloc[0:9].Community_ID.tolist()"
   ]
  },
  {
   "cell_type": "code",
   "execution_count": null,
   "id": "2245fcca",
   "metadata": {},
   "outputs": [],
   "source": [
    "df_check3 = df_partition[df_partition.Community_ID.isin(check_lable3)]"
   ]
  },
  {
   "cell_type": "code",
   "execution_count": null,
   "id": "cb52276c",
   "metadata": {},
   "outputs": [],
   "source": [
    "df_check3 = pd.merge(df_check3, df_account[['User_ID', 'party']])"
   ]
  },
  {
   "cell_type": "code",
   "execution_count": null,
   "id": "d29e53d5",
   "metadata": {},
   "outputs": [],
   "source": [
    "df_check3_non_pol = df_check3.loc[df_check3.party == 'NonPolitical']"
   ]
  },
  {
   "cell_type": "code",
   "execution_count": null,
   "id": "b73844cf",
   "metadata": {},
   "outputs": [],
   "source": [
    "df_check3_non_pol.groupby('Community_ID').count()"
   ]
  },
  {
   "cell_type": "code",
   "execution_count": null,
   "id": "a8c4745e",
   "metadata": {},
   "outputs": [],
   "source": [
    "def sample_accounts(group):\n",
    "    return group.sample(min(len(group), 10))\n",
    "\n",
    "sampled_df = df_check3_non_pol.groupby('Community_ID', group_keys=False).apply(sample_accounts)\n",
    "\n",
    "sampled_df.reset_index(drop=True, inplace=True)\n",
    "\n"
   ]
  },
  {
   "cell_type": "code",
   "execution_count": null,
   "id": "1a9be56b",
   "metadata": {},
   "outputs": [],
   "source": [
    "sampled_df.sort_values('User_ID')"
   ]
  },
  {
   "cell_type": "code",
   "execution_count": null,
   "id": "97beb863",
   "metadata": {},
   "outputs": [],
   "source": [
    "df_pol_man1 = pd.read_csv('Political_Affiliation_Manual_Check1.csv')\n",
    "df_pol_man2 = pd.read_csv('Political_Affiliation_Manual_Check2.csv')"
   ]
  },
  {
   "cell_type": "code",
   "execution_count": null,
   "id": "23c1a5ab",
   "metadata": {},
   "outputs": [],
   "source": [
    "len(df_pol_man1.User_ID.astype('int').tolist() + df_pol_man2.User_ID.astype('int').tolist())"
   ]
  },
  {
   "cell_type": "code",
   "execution_count": null,
   "id": "e4f4c493",
   "metadata": {},
   "outputs": [],
   "source": [
    "sampled_df[sampled_df.User_ID.isin(df_pol_man1.User_ID.astype('int').tolist() + df_pol_man2.User_ID.astype('int').tolist())]"
   ]
  },
  {
   "cell_type": "code",
   "execution_count": null,
   "id": "6ceaa201",
   "metadata": {},
   "outputs": [],
   "source": [
    "sampled_df = pd.merge(sampled_df, df_account[['User_ID','UserDescription','ScreenName','UserFollowers','UserFriends','TotalStatus']])"
   ]
  },
  {
   "cell_type": "code",
   "execution_count": null,
   "id": "8711629d",
   "metadata": {},
   "outputs": [],
   "source": [
    "sampled_df = sampled_df.sample(frac = 1)"
   ]
  },
  {
   "cell_type": "code",
   "execution_count": null,
   "id": "699d0563",
   "metadata": {},
   "outputs": [],
   "source": [
    "sampled_df = sampled_df.reset_index(drop = True) "
   ]
  },
  {
   "cell_type": "code",
   "execution_count": null,
   "id": "122a9e16",
   "metadata": {},
   "outputs": [],
   "source": [
    "sampled_df "
   ]
  },
  {
   "cell_type": "code",
   "execution_count": null,
   "id": "43195b59",
   "metadata": {
    "scrolled": true
   },
   "outputs": [],
   "source": [
    "sampled_df3 = sampled_df[['User_ID', 'ScreenName', 'UserDescription', 'UserFollowers','UserFriends','TotalStatus']]"
   ]
  },
  {
   "cell_type": "code",
   "execution_count": null,
   "id": "56b350bc",
   "metadata": {},
   "outputs": [],
   "source": [
    "sampled_df3['User_Link'] = 'https://twitter.com/i/user/' + sampled_df3['User_ID'].astype('str')"
   ]
  },
  {
   "cell_type": "code",
   "execution_count": null,
   "id": "4000628a",
   "metadata": {},
   "outputs": [],
   "source": []
  }
 ],
 "metadata": {
  "kernelspec": {
   "display_name": "Python 3 (ipykernel)",
   "language": "python",
   "name": "python3"
  },
  "language_info": {
   "codemirror_mode": {
    "name": "ipython",
    "version": 3
   },
   "file_extension": ".py",
   "mimetype": "text/x-python",
   "name": "python",
   "nbconvert_exporter": "python",
   "pygments_lexer": "ipython3",
   "version": "3.9.13"
  }
 },
 "nbformat": 4,
 "nbformat_minor": 5
}
