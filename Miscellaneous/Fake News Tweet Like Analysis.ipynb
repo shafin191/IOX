{
 "cells": [
  {
   "cell_type": "code",
   "execution_count": 1,
   "id": "1b672461",
   "metadata": {},
   "outputs": [],
   "source": [
    "import pandas as pd\n",
    "import glob\n",
    "import csv\n",
    "import pickle\n",
    "import re\n",
    "import tweepy"
   ]
  },
  {
   "cell_type": "code",
   "execution_count": 2,
   "id": "9ad5f100",
   "metadata": {},
   "outputs": [],
   "source": [
    "file = glob.glob(\"U:/Twitter Research/Fake News Scraping/Fake News Tweet Sharing/Like_TEMP/*.data\")"
   ]
  },
  {
   "cell_type": "code",
   "execution_count": 3,
   "id": "b8eea302",
   "metadata": {},
   "outputs": [],
   "source": [
    "key1 = \"xRmYwjyygXzoD4rW3AQ9mtnOq\"\n",
    "key2 = \"N7GiiPVimm0yWzsCWVeGnqZoLQ1rENJnTMBGrHT1uhgmWmT6sr\"\n",
    "key3 = \"1292930585221095424-k0gPgbzXO098z7w2H40Adsq803jfp4\"\n",
    "key4 = \"J5W47yNeR3NhJtOzcUccSB1dMsvnoDOLGSnG1r3FVX1Ne\"\n",
    "\n",
    "\n",
    "auth = tweepy.OAuthHandler(key1, key2)\n",
    "auth.set_access_token(key3, key4)\n",
    "\n",
    "api = tweepy.API(auth, wait_on_rate_limit=True)"
   ]
  },
  {
   "cell_type": "code",
   "execution_count": 4,
   "id": "ac3a3626",
   "metadata": {},
   "outputs": [],
   "source": [
    "objects = []\n",
    "tweet_id = []\n",
    "for i in file:\n",
    "    with (open(i, \"rb\")) as openfile:\n",
    "        fl = i.split('\\\\')[-1]\n",
    "        fl = re.sub(\"[^0-9]\", \"\", fl)\n",
    "        tweet_id.append(fl)\n",
    "        while True:\n",
    "            try:\n",
    "                objects.append(pickle.load(openfile))\n",
    "            except EOFError:\n",
    "                break"
   ]
  },
  {
   "cell_type": "code",
   "execution_count": 5,
   "id": "75b88846",
   "metadata": {},
   "outputs": [],
   "source": [
    "print(len(objects))\n",
    "print(len(objects[0]))\n",
    "print(len(tweet_id))"
   ]
  },
  {
   "cell_type": "code",
   "execution_count": 6,
   "id": "abda69ef",
   "metadata": {},
   "outputs": [],
   "source": [
    "column_names = [\"Liker_ID\", \"Tweet_ID\"]\n",
    "df = pd.DataFrame(columns =column_names)"
   ]
  },
  {
   "cell_type": "code",
   "execution_count": 7,
   "id": "0954aa9e",
   "metadata": {},
   "outputs": [],
   "source": [
    "i,j = 0,0\n",
    "for i in range (len(objects)):\n",
    "    for j in range(len(objects[i])):\n",
    "        df.loc[len(df.index)] = [str(objects[i][j]), tweet_id[i]] \n",
    "        \n",
    "    "
   ]
  },
  {
   "cell_type": "code",
   "execution_count": 8,
   "id": "20504bd2",
   "metadata": {},
   "outputs": [],
   "source": [
    "ds = df.groupby('Liker_ID').count()"
   ]
  },
  {
   "cell_type": "code",
   "execution_count": 9,
   "id": "7d184af7",
   "metadata": {},
   "outputs": [],
   "source": [
    "ds.loc[ds.Tweet_ID > 2]"
   ]
  },
  {
   "cell_type": "code",
   "execution_count": 10,
   "id": "e0061efa",
   "metadata": {},
   "outputs": [],
   "source": [
    "df1 = df[df.groupby(['Liker_ID'])['Tweet_ID'].transform('count') > 1]"
   ]
  },
  {
   "cell_type": "code",
   "execution_count": 11,
   "id": "0a1a41c5",
   "metadata": {},
   "outputs": [],
   "source": [
    "most_popular_liker = ds.loc[ds.Tweet_ID > 2]"
   ]
  },
  {
   "cell_type": "code",
   "execution_count": 12,
   "id": "faba275a",
   "metadata": {},
   "outputs": [],
   "source": [
    "most_popular_liker= most_popular_liker.reset_index()"
   ]
  },
  {
   "cell_type": "code",
   "execution_count": 13,
   "id": "a2f6c94e",
   "metadata": {},
   "outputs": [],
   "source": [
    "u = []\n",
    "\n",
    "for index, row in most_popular_liker.iterrows():\n",
    "    user = api.get_user(user_id = row['Liker_ID'])\n",
    "    u.append(user)"
   ]
  },
  {
   "cell_type": "code",
   "execution_count": 14,
   "id": "2f3cef73",
   "metadata": {},
   "outputs": [],
   "source": [
    "print(u[0].screen_name)\n",
    "print(u[1].screen_name)\n",
    "print(u[2].screen_name)\n",
    "print(u[3].screen_name)"
   ]
  },
  {
   "cell_type": "code",
   "execution_count": 15,
   "id": "a53828b1",
   "metadata": {},
   "outputs": [],
   "source": [
    "most_popular_liker"
   ]
  },
  {
   "cell_type": "code",
   "execution_count": 16,
   "id": "e4c979b4",
   "metadata": {},
   "outputs": [],
   "source": []
  },
  {
   "cell_type": "code",
   "execution_count": 17,
   "id": "61a193dc",
   "metadata": {},
   "outputs": [],
   "source": [
    "user = api.get_user(user_id='1210227608404680705')"
   ]
  },
  {
   "cell_type": "code",
   "execution_count": null,
   "id": "e9ca6f06",
   "metadata": {},
   "outputs": [],
   "source": []
  },
  {
   "cell_type": "code",
   "execution_count": null,
   "id": "2f7dc525",
   "metadata": {},
   "outputs": [],
   "source": []
  },
  {
   "cell_type": "code",
   "execution_count": 18,
   "id": "ab495323",
   "metadata": {},
   "outputs": [],
   "source": [
    "file = glob.glob(\"U:/Twitter Research/Fake News Scraping/Fake News Tweet Sharing/RT_UPDATED/*.data\")"
   ]
  },
  {
   "cell_type": "code",
   "execution_count": 19,
   "id": "93dfac16",
   "metadata": {},
   "outputs": [],
   "source": [
    "objects = []\n",
    "tweet_id = []\n",
    "for i in file:\n",
    "    with (open(i, \"rb\")) as openfile:\n",
    "        fl = i.split('\\\\')[-1]\n",
    "        fl = re.sub(\"[^0-9]\", \"\", fl)\n",
    "        tweet_id.append(fl)\n",
    "        while True:\n",
    "            try:\n",
    "                objects.append(pickle.load(openfile))\n",
    "            except EOFError:\n",
    "                break"
   ]
  },
  {
   "cell_type": "code",
   "execution_count": 20,
   "id": "084d5ad9",
   "metadata": {},
   "outputs": [],
   "source": [
    "column_names_rt = [\"Retweeter_ID\", \"Tweet_ID\"]\n",
    "df_rt = pd.DataFrame(columns = column_names_rt)"
   ]
  },
  {
   "cell_type": "code",
   "execution_count": 21,
   "id": "4681795d",
   "metadata": {},
   "outputs": [],
   "source": [
    "for i in range(len(objects)):\n",
    "    for j in objects[i]:\n",
    "        df_rt.loc[len(df_rt.index)] = [j.user.id, str(tweet_id[i])] "
   ]
  },
  {
   "cell_type": "code",
   "execution_count": 22,
   "id": "66ac8d2f",
   "metadata": {},
   "outputs": [],
   "source": [
    "df_rt"
   ]
  },
  {
   "cell_type": "code",
   "execution_count": 23,
   "id": "ac9ef6bf",
   "metadata": {},
   "outputs": [],
   "source": [
    "ds_rt = df_rt.groupby('Retweeter_ID').count()"
   ]
  },
  {
   "cell_type": "code",
   "execution_count": 24,
   "id": "b5221265",
   "metadata": {},
   "outputs": [],
   "source": [
    "ds_rt.loc[ds_rt.Tweet_ID > 2]"
   ]
  },
  {
   "cell_type": "code",
   "execution_count": 25,
   "id": "862fbb2b",
   "metadata": {},
   "outputs": [],
   "source": [
    "ds.loc[ds.Tweet_ID > 2]"
   ]
  },
  {
   "cell_type": "code",
   "execution_count": null,
   "id": "d771b05d",
   "metadata": {},
   "outputs": [],
   "source": []
  }
 ],
 "metadata": {
  "kernelspec": {
   "display_name": "Python 3 (ipykernel)",
   "language": "python",
   "name": "python3"
  },
  "language_info": {
   "codemirror_mode": {
    "name": "ipython",
    "version": 3
   },
   "file_extension": ".py",
   "mimetype": "text/x-python",
   "name": "python",
   "nbconvert_exporter": "python",
   "pygments_lexer": "ipython3",
   "version": "3.9.13"
  }
 },
 "nbformat": 4,
 "nbformat_minor": 5
}
