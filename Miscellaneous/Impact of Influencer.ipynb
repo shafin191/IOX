{
 "cells": [
  {
   "cell_type": "code",
   "execution_count": null,
   "id": "6bf7a712",
   "metadata": {},
   "outputs": [],
   "source": [
    "import pandas as pd\n",
    "import matplotlib as plt\n",
    "import numpy as np\n",
    "import os\n",
    "pd.set_option('display.max_colwidth', None)\n",
    "pd.set_option('display.max_columns', 10)\n",
    "pd.set_option('display.max_rows', 50)\n",
    "print(os.getcwd())"
   ]
  },
  {
   "cell_type": "code",
   "execution_count": null,
   "id": "1349eb6c",
   "metadata": {},
   "outputs": [],
   "source": [
    "df_dismiss = pd.read_csv('DISMISS_Dataset.csv')"
   ]
  },
  {
   "cell_type": "code",
   "execution_count": null,
   "id": "28f6ea37",
   "metadata": {},
   "outputs": [],
   "source": [
    "df_dismiss = df_dismiss.rename(columns = {'id_str': 'User_ID'})"
   ]
  },
  {
   "cell_type": "code",
   "execution_count": null,
   "id": "02de9df1",
   "metadata": {},
   "outputs": [],
   "source": [
    "df_dismiss.dtypes"
   ]
  },
  {
   "cell_type": "code",
   "execution_count": null,
   "id": "9d026430",
   "metadata": {},
   "outputs": [],
   "source": [
    "df_account = pd.read_csv('All_Fake_without_debunkers_Updated.csv')"
   ]
  },
  {
   "cell_type": "code",
   "execution_count": null,
   "id": "9fed8571",
   "metadata": {},
   "outputs": [],
   "source": [
    "df_account.loc[df_account.Influencer == 'Influencer']"
   ]
  },
  {
   "cell_type": "code",
   "execution_count": null,
   "id": "dfc5a68a",
   "metadata": {},
   "outputs": [],
   "source": [
    "df_journalist = pd.read_csv('Additional_Journalist.csv')"
   ]
  },
  {
   "cell_type": "code",
   "execution_count": null,
   "id": "f98b0be8",
   "metadata": {},
   "outputs": [],
   "source": [
    "df_journalist['Influencer2'] = 'Influencer'"
   ]
  },
  {
   "cell_type": "code",
   "execution_count": null,
   "id": "fd457b90",
   "metadata": {},
   "outputs": [],
   "source": [
    "df_journalist = df_journalist.drop(columns = 'Influencer')"
   ]
  },
  {
   "cell_type": "code",
   "execution_count": null,
   "id": "612765c9",
   "metadata": {},
   "outputs": [],
   "source": [
    "df_journalist"
   ]
  },
  {
   "cell_type": "code",
   "execution_count": null,
   "id": "20dfe13b",
   "metadata": {},
   "outputs": [],
   "source": [
    "df_account.loc[df_account.Influencer == 'Influencer']"
   ]
  },
  {
   "cell_type": "code",
   "execution_count": null,
   "id": "37c3429e",
   "metadata": {},
   "outputs": [],
   "source": [
    "merged_df = pd.merge(df_account, df_journalist, on='User_ID', how='left')\n",
    "merged_df['Influencer'] = merged_df['Influencer2'].fillna(merged_df['Influencer'])\n",
    "merged_df.drop(['Influencer2'], axis=1, inplace=True)\n",
    "df_account['Influencer'] = merged_df['Influencer']\n"
   ]
  },
  {
   "cell_type": "code",
   "execution_count": null,
   "id": "e9a33aad",
   "metadata": {},
   "outputs": [],
   "source": [
    "df_account.loc[df_account.Influencer == 'Influencer']"
   ]
  },
  {
   "cell_type": "code",
   "execution_count": null,
   "id": "485c34d6",
   "metadata": {},
   "outputs": [],
   "source": [
    "df_cluster = pd.read_csv('Cluster_Tweet_Without_Generic.csv')"
   ]
  },
  {
   "cell_type": "code",
   "execution_count": null,
   "id": "a6bb1204",
   "metadata": {},
   "outputs": [],
   "source": [
    "df_cluster.columns"
   ]
  },
  {
   "cell_type": "code",
   "execution_count": null,
   "id": "e7221564",
   "metadata": {},
   "outputs": [],
   "source": [
    "df_cluster_new = pd.merge(df_cluster, df_account[['User_ID', 'Influencer']]).sort_values(['Cluster_ID', 'Tweet_Time']).drop(columns = ['Unnamed: 0.1','Unnamed: 0']).reset_index(drop = True)"
   ]
  },
  {
   "cell_type": "code",
   "execution_count": null,
   "id": "84897e39",
   "metadata": {},
   "outputs": [],
   "source": [
    "inf_cluster = df_cluster_new.loc[df_cluster_new.Influencer == 'Influencer'].groupby('Cluster_ID').count().reset_index()['Cluster_ID']"
   ]
  },
  {
   "cell_type": "code",
   "execution_count": null,
   "id": "9ceb16fc",
   "metadata": {},
   "outputs": [],
   "source": [
    "df_influencer_cluster = df_cluster_new[df_cluster_new.Cluster_ID.isin(inf_cluster)]"
   ]
  },
  {
   "cell_type": "code",
   "execution_count": null,
   "id": "8ff0c752",
   "metadata": {},
   "outputs": [],
   "source": [
    "df_influencer_cluster = df_influencer_cluster.reset_index(drop = True)"
   ]
  },
  {
   "cell_type": "code",
   "execution_count": null,
   "id": "00b7ffa8",
   "metadata": {},
   "outputs": [],
   "source": [
    "influencer_cluster_size = df_influencer_cluster.groupby('Cluster_ID').count().reset_index()[['Cluster_ID', 'Tweet_ID']]"
   ]
  },
  {
   "cell_type": "code",
   "execution_count": null,
   "id": "2fd8dc1d",
   "metadata": {},
   "outputs": [],
   "source": [
    "influencer_cluster_size = influencer_cluster_size.rename(columns = {'Tweet_ID': 'Cluster_Size'})"
   ]
  },
  {
   "cell_type": "code",
   "execution_count": null,
   "id": "e9b7bb0f",
   "metadata": {},
   "outputs": [],
   "source": [
    "influencer_cluster_size"
   ]
  },
  {
   "cell_type": "code",
   "execution_count": null,
   "id": "94e427eb",
   "metadata": {},
   "outputs": [],
   "source": [
    "qw = df_influencer_cluster.loc[df_influencer_cluster.Cluster_ID == 25].reset_index(drop = True)[df_influencer_cluster.loc[df_influencer_cluster.Cluster_ID == 25].reset_index(drop = True).Influencer == 'Influencer'].reset_index()['index'][0]"
   ]
  },
  {
   "cell_type": "code",
   "execution_count": null,
   "id": "81a1a95d",
   "metadata": {},
   "outputs": [],
   "source": [
    "influencer_cluster_size['Influencer_Position'] = 0"
   ]
  },
  {
   "cell_type": "code",
   "execution_count": null,
   "id": "80bd854e",
   "metadata": {},
   "outputs": [],
   "source": [
    "for index, row in influencer_cluster_size.iterrows():\n",
    "    qw = df_influencer_cluster.loc[df_influencer_cluster.Cluster_ID ==  row['Cluster_ID']].reset_index(drop = True)[df_influencer_cluster.loc[df_influencer_cluster.Cluster_ID == row['Cluster_ID']].reset_index(drop = True).Influencer == 'Influencer'].reset_index()['index'][0]\n",
    "    influencer_cluster_size.at[index, 'Influencer_Position'] = qw + 1\n"
   ]
  },
  {
   "cell_type": "code",
   "execution_count": null,
   "id": "8f2f711d",
   "metadata": {},
   "outputs": [],
   "source": [
    "influencer_cluster_size.loc[influencer_cluster_size.Cluster_Size >= 5]"
   ]
  },
  {
   "cell_type": "code",
   "execution_count": null,
   "id": "49777f3d",
   "metadata": {},
   "outputs": [],
   "source": [
    "influencer_cluster_size.loc[influencer_cluster_size.Influencer_Position == 1]"
   ]
  },
  {
   "cell_type": "code",
   "execution_count": null,
   "id": "94124243",
   "metadata": {},
   "outputs": [],
   "source": [
    "influencer_cluster_size.loc[(influencer_cluster_size.Cluster_Size >= 5)&(influencer_cluster_size.Influencer_Position == 1)]"
   ]
  },
  {
   "cell_type": "code",
   "execution_count": null,
   "id": "39f3ab8f",
   "metadata": {},
   "outputs": [],
   "source": [
    "influencer_cluster_size.loc[influencer_cluster_size.Influencer_Position == 1]"
   ]
  },
  {
   "cell_type": "code",
   "execution_count": null,
   "id": "c7edfdf8",
   "metadata": {},
   "outputs": [],
   "source": [
    "influencer_cluster_size['Before_Tweet'] = influencer_cluster_size.Influencer_Position - 1\n",
    "influencer_cluster_size['After_Tweet'] = influencer_cluster_size.Cluster_Size - influencer_cluster_size.Influencer_Position"
   ]
  },
  {
   "cell_type": "code",
   "execution_count": null,
   "id": "75f36cbb",
   "metadata": {},
   "outputs": [],
   "source": [
    "influencer_cluster_size.dtypes"
   ]
  },
  {
   "cell_type": "code",
   "execution_count": null,
   "id": "9df97ca0",
   "metadata": {},
   "outputs": [],
   "source": [
    "temp = df_influencer_cluster[df_influencer_cluster.Cluster_ID == 25].reset_index(drop = True).iloc[0:1][['Retweet_Count', 'Favorite_Count']]"
   ]
  },
  {
   "cell_type": "code",
   "execution_count": null,
   "id": "1c24501c",
   "metadata": {},
   "outputs": [],
   "source": [
    "sum(temp['Retweet_Count'] + temp['Favorite_Count'])"
   ]
  },
  {
   "cell_type": "code",
   "execution_count": null,
   "id": "565d5913",
   "metadata": {},
   "outputs": [],
   "source": [
    "for index, row in influencer_cluster_size.iterrows():\n",
    "    \n",
    "    temp_before = df_influencer_cluster[df_influencer_cluster.Cluster_ID == row['Cluster_ID']].reset_index(drop = True).iloc[0:row['Before_Tweet'].astype(int)][['Retweet_Count', 'Favorite_Count']]\n",
    "    influencer_cluster_size.at[index, 'Before_Engagement'] = sum(temp_before['Retweet_Count'] + temp_before['Favorite_Count'])\n",
    "    \n",
    "    temp_after = df_influencer_cluster[df_influencer_cluster.Cluster_ID == row['Cluster_ID']].reset_index(drop = True).iloc[row['Influencer_Position'].astype(int):][['Retweet_Count', 'Favorite_Count']]\n",
    "    influencer_cluster_size.at[index, 'After_Engagement'] = sum(temp_after['Retweet_Count'] + temp_after['Favorite_Count'])\n",
    "    \n",
    "    temp_inf = df_influencer_cluster[df_influencer_cluster.Cluster_ID == row['Cluster_ID']].reset_index(drop = True).iloc[row['Influencer_Position'].astype(int)-1][['Retweet_Count', 'Favorite_Count']]\n",
    "    influencer_cluster_size.at[index, 'Influencer_Engagement'] = temp_inf['Retweet_Count'] + temp_inf['Favorite_Count']\n",
    "\n"
   ]
  },
  {
   "cell_type": "code",
   "execution_count": null,
   "id": "f795f0ed",
   "metadata": {},
   "outputs": [],
   "source": [
    "df_influencer_cluster[df_influencer_cluster.Cluster_ID == 18].reset_index(drop = True).iloc[0:0]"
   ]
  },
  {
   "cell_type": "code",
   "execution_count": null,
   "id": "28bac8c3",
   "metadata": {},
   "outputs": [],
   "source": [
    "inf_mid = influencer_cluster_size#[influencer_cluster_size.Influencer_Position != 1]"
   ]
  },
  {
   "cell_type": "code",
   "execution_count": null,
   "id": "ccf47434",
   "metadata": {},
   "outputs": [],
   "source": [
    "inf_mid.Before_Engagement.mean()"
   ]
  },
  {
   "cell_type": "code",
   "execution_count": null,
   "id": "b75b99cc",
   "metadata": {},
   "outputs": [],
   "source": [
    "inf_mid.After_Engagement.mean()"
   ]
  },
  {
   "cell_type": "code",
   "execution_count": null,
   "id": "96e0e3d8",
   "metadata": {},
   "outputs": [],
   "source": [
    "inf_mid.Influencer_Engagement.mean()"
   ]
  },
  {
   "cell_type": "code",
   "execution_count": null,
   "id": "49ba4b40",
   "metadata": {},
   "outputs": [],
   "source": [
    "inf_mid"
   ]
  },
  {
   "cell_type": "code",
   "execution_count": null,
   "id": "00edb10f",
   "metadata": {},
   "outputs": [],
   "source": [
    "df_influencer_cluster[df_influencer_cluster.Cluster_ID == 107][['Retweet_Count', 'Favorite_Count']]"
   ]
  },
  {
   "cell_type": "code",
   "execution_count": null,
   "id": "79e613a7",
   "metadata": {},
   "outputs": [],
   "source": [
    "import pandas as pd\n",
    "from scipy.stats import wilcoxon\n",
    "import matplotlib.pyplot as plt\n",
    "statistic, p_value = wilcoxon( inf_mid['After_Engagement'], inf_mid['Before_Engagement'])"
   ]
  },
  {
   "cell_type": "code",
   "execution_count": null,
   "id": "808bbfa2",
   "metadata": {},
   "outputs": [],
   "source": [
    "p_value"
   ]
  },
  {
   "cell_type": "code",
   "execution_count": null,
   "id": "e9ed15ed",
   "metadata": {},
   "outputs": [],
   "source": [
    "statistic"
   ]
  },
  {
   "cell_type": "code",
   "execution_count": null,
   "id": "95203aed",
   "metadata": {},
   "outputs": [],
   "source": [
    "plt.figure(figsize=(8, 6))\n",
    "plt.hist(inf_mid['Before_Engagement'], bins=10, density=True, cumulative=True, histtype='step', color='blue', label='Before')\n",
    "plt.hist(inf_mid['After_Engagement'], bins=10, density=True, cumulative=True, histtype='step', color='red', label='After')\n",
    "plt.xlabel('Engagement')\n",
    "plt.ylabel('CDF')\n",
    "plt.title('Cumulative Distribution Function (CDF) of Engagement Before and After Influencer Involvement')\n",
    "plt.legend()\n",
    "plt.grid(True)\n",
    "plt.show()\n",
    "\n",
    "print(\"Wilcoxon Test Statistic:\", statistic)\n",
    "print(\"p-value:\", p_value)\n",
    "\n",
    "if p_value < 0.05:\n",
    "    print(\"There is a significant difference in engagement before and after influencer involvement.\")\n",
    "else:\n",
    "    print(\"There is no significant difference in engagement before and after influencer involvement.\")"
   ]
  },
  {
   "cell_type": "code",
   "execution_count": null,
   "id": "f08be383",
   "metadata": {},
   "outputs": [],
   "source": [
    "import pandas as pd\n",
    "import seaborn as sns\n",
    "import matplotlib.pyplot as plt\n",
    "\n",
    "inf_mid_melted = pd.melt(inf_mid, id_vars=['Cluster_ID', 'Cluster_Size', 'Influencer_Position'],\n",
    "                     value_vars=['Before_Engagement', 'After_Engagement', 'Influencer_Engagement'],\n",
    "                     var_name='Engagement_Type', value_name='Engagement')\n",
    "\n",
    "plt.figure(figsize=(10, 6))\n",
    "\n",
    "sns.scatterplot(data=inf_mid_melted, x='Influencer_Position', y='Engagement', hue='Engagement_Type')\n",
    "\n",
    "\n",
    "plt.xlabel('Influencer Position')\n",
    "plt.ylabel('Engagement')\n",
    "plt.title('Engagement Before and After Influencer Involvement by Influencer Position')\n",
    "plt.legend(title='Engagement Type')\n",
    "plt.grid(True)\n",
    "plt.show()"
   ]
  },
  {
   "cell_type": "code",
   "execution_count": null,
   "id": "8b01aef4",
   "metadata": {},
   "outputs": [],
   "source": [
    "summary_statistics_before = inf_mid[['Before_Engagement']].describe()\n",
    "summary_statistics_after = inf_mid[['After_Engagement']].describe()\n",
    "summary_statistics_inf = inf_mid[['Influencer_Engagement']].describe()"
   ]
  },
  {
   "cell_type": "code",
   "execution_count": null,
   "id": "217bb52d",
   "metadata": {},
   "outputs": [],
   "source": [
    "summary_statistics_before"
   ]
  },
  {
   "cell_type": "code",
   "execution_count": null,
   "id": "66ebdea5",
   "metadata": {},
   "outputs": [],
   "source": [
    "summary_statistics_after"
   ]
  },
  {
   "cell_type": "code",
   "execution_count": null,
   "id": "f1fb2b12",
   "metadata": {},
   "outputs": [],
   "source": [
    "summary_statistics_inf"
   ]
  },
  {
   "cell_type": "code",
   "execution_count": null,
   "id": "64498408",
   "metadata": {},
   "outputs": [],
   "source": [
    "inf_mid[['Before_Tweet']].describe()"
   ]
  },
  {
   "cell_type": "code",
   "execution_count": null,
   "id": "0d6cd125",
   "metadata": {},
   "outputs": [],
   "source": [
    "inf_mid[['After_Tweet']].describe()"
   ]
  },
  {
   "cell_type": "code",
   "execution_count": null,
   "id": "637ccca6",
   "metadata": {},
   "outputs": [],
   "source": []
  },
  {
   "cell_type": "code",
   "execution_count": null,
   "id": "e6bca973",
   "metadata": {},
   "outputs": [],
   "source": [
    "df_cluster[df_cluster.Cluster_ID == 167015.0][['User_ID','Tweet_ID','Retweet_Count', 'Favorite_Count']]"
   ]
  },
  {
   "cell_type": "code",
   "execution_count": null,
   "id": "7bc3633d",
   "metadata": {},
   "outputs": [],
   "source": [
    "df_influencer_cluster[df_influencer_cluster.Cluster_ID == 167015].reset_index(drop = True).iloc[0:1][['Retweet_Count', 'Favorite_Count']]"
   ]
  },
  {
   "cell_type": "code",
   "execution_count": null,
   "id": "f52d49fa",
   "metadata": {},
   "outputs": [],
   "source": [
    "df_account"
   ]
  },
  {
   "cell_type": "code",
   "execution_count": null,
   "id": "f167c368",
   "metadata": {},
   "outputs": [],
   "source": [
    "df_pol_alignment = pd.read_csv('Political_Alignment_New_Final2.csv')"
   ]
  },
  {
   "cell_type": "code",
   "execution_count": null,
   "id": "c76958dd",
   "metadata": {},
   "outputs": [],
   "source": [
    "df_pol_alignment"
   ]
  },
  {
   "cell_type": "code",
   "execution_count": null,
   "id": "ea4c8824",
   "metadata": {},
   "outputs": [],
   "source": [
    "df_account = pd.merge(df_account, df_pol_alignment)"
   ]
  },
  {
   "cell_type": "code",
   "execution_count": null,
   "id": "249227ea",
   "metadata": {},
   "outputs": [],
   "source": [
    "df_account.loc[df_account.Predicted_PL== 3].groupby('Influencer').count()"
   ]
  },
  {
   "cell_type": "code",
   "execution_count": null,
   "id": "c8b404d8",
   "metadata": {},
   "outputs": [],
   "source": [
    "df_account[df_account.RSUOverall>=0.9] "
   ]
  },
  {
   "cell_type": "code",
   "execution_count": null,
   "id": "90bc8825",
   "metadata": {},
   "outputs": [],
   "source": [
    "df_account.loc[df_account.Influencer == 'Influencer'].groupby('category').count()"
   ]
  },
  {
   "cell_type": "code",
   "execution_count": null,
   "id": "fb0e6f2a",
   "metadata": {},
   "outputs": [],
   "source": [
    "df_account2 = pd.merge(df_account, df_dismiss, on= 'User_ID')"
   ]
  },
  {
   "cell_type": "code",
   "execution_count": null,
   "id": "5b45baab",
   "metadata": {},
   "outputs": [],
   "source": [
    "df_account2.loc[df_account2.Influencer == 'Influencer']"
   ]
  },
  {
   "cell_type": "code",
   "execution_count": null,
   "id": "61f8e85c",
   "metadata": {},
   "outputs": [],
   "source": [
    "df_account2.loc[df_account2.Predicted_PL== 0].groupby('sub_category').count()"
   ]
  },
  {
   "cell_type": "code",
   "execution_count": null,
   "id": "044251e3",
   "metadata": {},
   "outputs": [],
   "source": [
    "df_account3 = df_account2.loc[df_account2.Influencer == 'Influencer']"
   ]
  },
  {
   "cell_type": "code",
   "execution_count": null,
   "id": "4f2bcdae",
   "metadata": {},
   "outputs": [],
   "source": [
    "df_account3.sub_category = df_account3.sub_category.replace(np.nan, 'journalist')"
   ]
  },
  {
   "cell_type": "code",
   "execution_count": null,
   "id": "4a2cec70",
   "metadata": {},
   "outputs": [],
   "source": [
    "df_account3.drop_duplicates('User_ID')"
   ]
  },
  {
   "cell_type": "code",
   "execution_count": null,
   "id": "0e028d85",
   "metadata": {},
   "outputs": [],
   "source": [
    "df_account3.groupby('sub_category').count()"
   ]
  },
  {
   "cell_type": "code",
   "execution_count": null,
   "id": "01062457",
   "metadata": {},
   "outputs": [],
   "source": [
    "df_dismiss.loc[df_dismiss.sub_category == 'journalist']"
   ]
  },
  {
   "cell_type": "code",
   "execution_count": null,
   "id": "29b2d7ea",
   "metadata": {},
   "outputs": [],
   "source": [
    "achik = df_account2.loc[df_account2.sub_category == 'journalist'].User_ID.to_list() + df_journalist.User_ID.tolist()"
   ]
  },
  {
   "cell_type": "code",
   "execution_count": null,
   "id": "dfaa88ee",
   "metadata": {},
   "outputs": [],
   "source": [
    "df_journalist.User_ID.tolist()"
   ]
  },
  {
   "cell_type": "code",
   "execution_count": null,
   "id": "fe4bb1d9",
   "metadata": {},
   "outputs": [],
   "source": [
    "df_journal = df_account[df_account.User_ID.isin(achik)]"
   ]
  },
  {
   "cell_type": "code",
   "execution_count": null,
   "id": "86c72613",
   "metadata": {},
   "outputs": [],
   "source": [
    "df_journal[df_journal.Predicted_PL == 3]"
   ]
  },
  {
   "cell_type": "code",
   "execution_count": null,
   "id": "68b09c9b",
   "metadata": {},
   "outputs": [],
   "source": [
    "influencer_cluster_size"
   ]
  },
  {
   "cell_type": "code",
   "execution_count": null,
   "id": "78707198",
   "metadata": {},
   "outputs": [],
   "source": [
    "df_influencer_cluster.Cluster_ID.tolist()"
   ]
  },
  {
   "cell_type": "code",
   "execution_count": null,
   "id": "339ae68b",
   "metadata": {},
   "outputs": [],
   "source": [
    "df_non_inf_cluster = df_cluster[~df_cluster.Cluster_ID.isin(df_influencer_cluster.Cluster_ID.tolist())]"
   ]
  },
  {
   "cell_type": "code",
   "execution_count": null,
   "id": "75925d47",
   "metadata": {},
   "outputs": [],
   "source": [
    "df_non_inf_cluster.columns"
   ]
  },
  {
   "cell_type": "code",
   "execution_count": null,
   "id": "f4b55302",
   "metadata": {},
   "outputs": [],
   "source": [
    "df_non_inf_cluster['Total_Engagement'] = df_non_inf_cluster['Retweet_Count'] + df_non_inf_cluster['Favorite_Count']\n",
    "df_non_inf_cluster['Inf_Camp'] = 'Non-Inf'"
   ]
  },
  {
   "cell_type": "code",
   "execution_count": null,
   "id": "61df6303",
   "metadata": {},
   "outputs": [],
   "source": [
    "df_influencer_cluster['Total_Engagement'] = df_influencer_cluster['Retweet_Count'] + df_influencer_cluster['Favorite_Count']\n",
    "df_influencer_cluster['Inf_Camp'] = 'Inf'"
   ]
  },
  {
   "cell_type": "code",
   "execution_count": null,
   "id": "b7686f8c",
   "metadata": {},
   "outputs": [],
   "source": [
    "df_non_inf_cluster_engagement = df_non_inf_cluster.groupby('Cluster_ID').sum().reset_index()[['Cluster_ID','Total_Engagement']]"
   ]
  },
  {
   "cell_type": "code",
   "execution_count": null,
   "id": "b1d33c1f",
   "metadata": {},
   "outputs": [],
   "source": [
    "df_non_inf_cluster_engagement['Inf_Camp'] = 'Non-Inf'"
   ]
  },
  {
   "cell_type": "code",
   "execution_count": null,
   "id": "9a76af91",
   "metadata": {},
   "outputs": [],
   "source": [
    "df_inf_cluster_engagement = df_influencer_cluster[['Cluster_ID', 'Total_Engagement']].groupby('Cluster_ID').sum().reset_index()[['Cluster_ID','Total_Engagement']]"
   ]
  },
  {
   "cell_type": "code",
   "execution_count": null,
   "id": "47096a0a",
   "metadata": {},
   "outputs": [],
   "source": [
    "df_inf_cluster_engagement['Inf_Camp'] = 'Inf'"
   ]
  },
  {
   "cell_type": "code",
   "execution_count": null,
   "id": "0db4ff62",
   "metadata": {},
   "outputs": [],
   "source": [
    "df_cluster_size_check = df_cluster.groupby('Cluster_ID').count().reset_index()[['Cluster_ID','Tweet_ID']]"
   ]
  },
  {
   "cell_type": "code",
   "execution_count": null,
   "id": "2d2f93ba",
   "metadata": {},
   "outputs": [],
   "source": [
    "df_cluster_size_check = df_cluster_size_check.rename(columns = {'Tweet_ID': 'Total_Tweet'})"
   ]
  },
  {
   "cell_type": "code",
   "execution_count": null,
   "id": "d6c7277f",
   "metadata": {},
   "outputs": [],
   "source": [
    "df_non_inf_cluster = pd.merge(df_non_inf_cluster, df_account[['User_ID', 'verification']])"
   ]
  },
  {
   "cell_type": "code",
   "execution_count": null,
   "id": "39e7753e",
   "metadata": {},
   "outputs": [],
   "source": [
    "df_non_inf_cluster.loc[df_non_inf_cluster.verification == 'Verified'].Cluster_ID.tolist()"
   ]
  },
  {
   "cell_type": "code",
   "execution_count": null,
   "id": "46242b76",
   "metadata": {},
   "outputs": [],
   "source": [
    "df_engagement_stat = pd.concat([df_inf_cluster_engagement, df_non_inf_cluster_engagement])"
   ]
  },
  {
   "cell_type": "code",
   "execution_count": null,
   "id": "e222e084",
   "metadata": {},
   "outputs": [],
   "source": [
    "df_engagement_stat = pd.merge(df_engagement_stat, df_cluster_size_check)"
   ]
  },
  {
   "cell_type": "code",
   "execution_count": null,
   "id": "fcdf7b48",
   "metadata": {},
   "outputs": [],
   "source": [
    "df_engagement_stat_without_ver = df_engagement_stat[~df_engagement_stat.Cluster_ID.isin(df_non_inf_cluster.loc\n",
    "                                                      [df_non_inf_cluster.verification == 'Verified'].\n",
    "                                                      Cluster_ID.tolist())]"
   ]
  },
  {
   "cell_type": "code",
   "execution_count": null,
   "id": "b2b8b8fd",
   "metadata": {},
   "outputs": [],
   "source": [
    "df_engagement_stat_without_ver"
   ]
  },
  {
   "cell_type": "code",
   "execution_count": null,
   "id": "16eb04a5",
   "metadata": {},
   "outputs": [],
   "source": [
    "df_engagement_stat_without_ver['Avg_Engagement'] = df_engagement_stat_without_ver['Total_Engagement']/df_engagement_stat_without_ver['Total_Tweet']"
   ]
  },
  {
   "cell_type": "code",
   "execution_count": null,
   "id": "c5b609ce",
   "metadata": {},
   "outputs": [],
   "source": [
    "df_engagement_stat_without_ver.loc[df_engagement_stat_without_ver.Cluster_ID == 34]"
   ]
  },
  {
   "cell_type": "code",
   "execution_count": null,
   "id": "ae301b70",
   "metadata": {},
   "outputs": [],
   "source": [
    "import pandas as pd\n",
    "from scipy.stats import ttest_ind\n",
    "\n",
    "\n",
    "print(df_engagement_stat_without_ver.head())\n",
    "\n",
    "engagement_with_influencers = df_engagement_stat[df_engagement_stat['Inf_Camp'] == 'Inf']['Avg_Engagement']\n",
    "engagement_without_influencers = df_engagement_stat[df_engagement_stat['Inf_Camp'] == 'Non-Inf']['Avg_Engagement']\n",
    "\n",
    "t_statistic, p_value = ttest_ind(engagement_with_influencers, engagement_without_influencers)\n",
    "\n",
    "print(\"T-Statistic:\", t_statistic)\n",
    "print(\"P-Value:\", p_value)\n",
    "\n",
    "alpha = 0.05\n",
    "if p_value < alpha:\n",
    "    print(\"There is a statistically significant difference in engagement between campaigns with influencers and campaigns without influencers.\")\n",
    "else:\n",
    "    print(\"There is no statistically significant difference in engagement between campaigns with influencers and campaigns without influencers.\")\n"
   ]
  },
  {
   "cell_type": "code",
   "execution_count": null,
   "id": "34953fd3",
   "metadata": {},
   "outputs": [],
   "source": [
    "engagement_with_influencers.describe()"
   ]
  },
  {
   "cell_type": "code",
   "execution_count": null,
   "id": "7f5af698",
   "metadata": {},
   "outputs": [],
   "source": [
    "engagement_without_influencers.describe()"
   ]
  },
  {
   "cell_type": "code",
   "execution_count": null,
   "id": "5eb437d6",
   "metadata": {},
   "outputs": [],
   "source": [
    "plt.figure(figsize=(4, 4))\n",
    "sns.boxplot(x='Inf_Camp', y='Avg_Engagement', data=df_engagement_stat, showfliers=False)\n",
    "plt.xlabel('Campaign Type')\n",
    "plt.ylabel('Average Engagement')\n",
    "plt.title('Total Engagement Distribution for Campaigns with and without Influencers')\n",
    "plt.xticks([0, 1])\n",
    "plt.show()"
   ]
  },
  {
   "cell_type": "code",
   "execution_count": null,
   "id": "76170ac4",
   "metadata": {},
   "outputs": [],
   "source": [
    "plt.figure(figsize=(4, 4))\n",
    "sns.boxplot(x='Inf_Camp', y='Avg_Engagement', data=df_engagement_stat, showfliers=False)\n",
    "plt.xlabel('Campaign Type')\n",
    "plt.ylabel('Average Engagement')\n",
    "plt.title('Total Engagement Distribution for Campaigns with and without Influencers')\n",
    "plt.xticks([0, 1])\n",
    "plt.show()"
   ]
  },
  {
   "cell_type": "code",
   "execution_count": null,
   "id": "c99f4ace",
   "metadata": {},
   "outputs": [],
   "source": [
    "df_engagement_stat.loc[df_engagement_stat.Cluster_ID == 34]"
   ]
  },
  {
   "cell_type": "code",
   "execution_count": null,
   "id": "04e12753",
   "metadata": {},
   "outputs": [],
   "source": [
    "df_pol_acc = pd.read_csv('Political_Alignment_New_Final2.csv')"
   ]
  },
  {
   "cell_type": "code",
   "execution_count": null,
   "id": "963d0419",
   "metadata": {},
   "outputs": [],
   "source": [
    "df_account_up = pd.merge(df_account, df_pol_acc)"
   ]
  },
  {
   "cell_type": "code",
   "execution_count": null,
   "id": "2e1615a0",
   "metadata": {},
   "outputs": [],
   "source": [
    "df_account_up[['User_ID','Predicted_PL']][df_account_up[['User_ID','Predicted_PL']].Predicted_PL == 3]"
   ]
  },
  {
   "cell_type": "code",
   "execution_count": null,
   "id": "91c7a2c6",
   "metadata": {},
   "outputs": [],
   "source": [
    "pd.merge(df_cluster, df_account_up[['User_ID','Predicted_PL']][df_account_up[['User_ID','Predicted_PL']].Predicted_PL == 3]).groupby('Cluster_ID').count().reset_index()[['Cluster_ID', 'Tweet_ID']]"
   ]
  },
  {
   "cell_type": "code",
   "execution_count": null,
   "id": "8441d3d2",
   "metadata": {},
   "outputs": [],
   "source": [
    "df_engagement_stat = pd.merge(df_engagement_stat, pd.merge(df_cluster, df_account_up[['User_ID','Predicted_PL']][df_account_up[['User_ID','Predicted_PL']].Predicted_PL == 3]).groupby('Cluster_ID').count().reset_index()[['Cluster_ID', 'Tweet_ID']], how = 'left')"
   ]
  },
  {
   "cell_type": "code",
   "execution_count": null,
   "id": "c553e616",
   "metadata": {},
   "outputs": [],
   "source": [
    "df_engagement_stat.Tweet_ID = df_engagement_stat.Tweet_ID.replace(np.nan, 0)"
   ]
  },
  {
   "cell_type": "code",
   "execution_count": null,
   "id": "cafe822e",
   "metadata": {},
   "outputs": [],
   "source": [
    "df_engagement_stat = df_engagement_stat.rename(columns = {'Tweet_ID': 'Non_Pol_Acc_Number'})"
   ]
  },
  {
   "cell_type": "code",
   "execution_count": null,
   "id": "04c4f15b",
   "metadata": {},
   "outputs": [],
   "source": [
    "df_engagement_stat_new = df_engagement_stat.loc[df_engagement_stat.Non_Pol_Acc_Number > 0]"
   ]
  },
  {
   "cell_type": "code",
   "execution_count": null,
   "id": "6358f4bd",
   "metadata": {},
   "outputs": [],
   "source": [
    "import pandas as pd\n",
    "from scipy.stats import ttest_ind\n",
    "\n",
    "\n",
    "print(df_engagement_stat_new.head())\n",
    "\n",
    "engagement_with_influencers = df_engagement_stat_new[df_engagement_stat_new['Inf_Camp'] == 'Inf']['Non_Pol_Acc_Number']\n",
    "engagement_without_influencers = df_engagement_stat_new[df_engagement_stat_new['Inf_Camp'] == 'Non-Inf']['Non_Pol_Acc_Number']\n",
    "\n",
    "t_statistic, p_value = ttest_ind(engagement_with_influencers, engagement_without_influencers)\n",
    "\n",
    "print(\"T-Statistic:\", t_statistic)\n",
    "print(\"P-Value:\", p_value)\n",
    "\n",
    "alpha = 0.05\n",
    "if p_value < alpha:\n",
    "    print(\"There is a statistically significant difference in engagement between campaigns with influencers and campaigns without influencers.\")\n",
    "else:\n",
    "    print(\"There is no statistically significant difference in engagement between campaigns with influencers and campaigns without influencers.\")\n"
   ]
  },
  {
   "cell_type": "code",
   "execution_count": null,
   "id": "00bcdcc6",
   "metadata": {},
   "outputs": [],
   "source": [
    "plt.figure(figsize=(4, 4))\n",
    "sns.boxplot(x='Inf_Camp', y='Non_Pol_Acc_Number', data=df_engagement_stat_new, showfliers=False)\n",
    "plt.xlabel('Campaign Type')\n",
    "plt.ylabel('Number of Non-pol acc')\n",
    "plt.title('Total Engagement Distribution for Campaigns with and without Influencers')\n",
    "plt.xticks([0, 1])\n",
    "plt.show()"
   ]
  },
  {
   "cell_type": "code",
   "execution_count": null,
   "id": "a2870ca0",
   "metadata": {},
   "outputs": [],
   "source": [
    "engagement_with_influencers.describe()"
   ]
  },
  {
   "cell_type": "code",
   "execution_count": null,
   "id": "4df80096",
   "metadata": {},
   "outputs": [],
   "source": [
    "engagement_without_influencers.describe()"
   ]
  },
  {
   "cell_type": "code",
   "execution_count": null,
   "id": "a7ef34ec",
   "metadata": {},
   "outputs": [],
   "source": [
    "t_statistic_1 = 4.479174165411675\n",
    "p_value_1 = 7.764040518789608e-06\n",
    "t_statistic_2 = 75.21786628924215\n",
    "p_value_2 = 0.0\n",
    "\n",
    "num_tests = 2\n",
    "\n",
    "alpha = 0.05\n",
    "\n",
    "adjusted_alpha = alpha / num_tests\n",
    "\n",
    "adjusted_p_value_1 = p_value_1 * num_tests\n",
    "adjusted_p_value_2 = p_value_2 * num_tests\n",
    "\n",
    "if adjusted_p_value_1 < adjusted_alpha:\n",
    "    print(\"Test 1 is statistically significant after Bonferroni correction.\")\n",
    "else:\n",
    "    print(\"Test 1 is not statistically significant after Bonferroni correction.\")\n",
    "\n",
    "if adjusted_p_value_2 < adjusted_alpha:\n",
    "    print(\"Test 2 is statistically significant after Bonferroni correction.\")\n",
    "else:\n",
    "    print(\"Test 2 is not statistically significant after Bonferroni correction.\")\n"
   ]
  },
  {
   "cell_type": "code",
   "execution_count": null,
   "id": "818ad9f4",
   "metadata": {},
   "outputs": [],
   "source": [
    "adjusted_p_value_1"
   ]
  },
  {
   "cell_type": "code",
   "execution_count": null,
   "id": "870261af",
   "metadata": {},
   "outputs": [],
   "source": [
    "adjusted_p_value_2"
   ]
  },
  {
   "cell_type": "code",
   "execution_count": null,
   "id": "8757cb8e",
   "metadata": {},
   "outputs": [],
   "source": [
    "df_engagement_stat.loc[df_engagement_stat.Total_Tweet <= 3]"
   ]
  },
  {
   "cell_type": "code",
   "execution_count": null,
   "id": "e22f5de9",
   "metadata": {},
   "outputs": [],
   "source": [
    "df_cluster_old = pd.read_csv(\"Cluster_Tweet_Final.csv\")"
   ]
  },
  {
   "cell_type": "code",
   "execution_count": null,
   "id": "68c12822",
   "metadata": {
    "scrolled": true
   },
   "outputs": [],
   "source": [
    "df_cluster_old.groupby('Cluster_ID').count().reset_index().sort_values('Tweet_ID')"
   ]
  },
  {
   "cell_type": "code",
   "execution_count": null,
   "id": "0f02cdab",
   "metadata": {},
   "outputs": [],
   "source": [
    "df_cluster.groupby('Cluster_ID').count().reset_index().sort_values('Tweet_ID')"
   ]
  },
  {
   "cell_type": "code",
   "execution_count": null,
   "id": "e03c562e",
   "metadata": {},
   "outputs": [],
   "source": [
    "df_cluster.loc[df_cluster.Cluster_ID == 129331].User_ID.tolist()"
   ]
  },
  {
   "cell_type": "code",
   "execution_count": null,
   "id": "0f2b8159",
   "metadata": {},
   "outputs": [],
   "source": [
    "df_account[df_account.User_ID.isin(df_cluster.loc[df_cluster.Cluster_ID == 154899].User_ID.tolist())]"
   ]
  },
  {
   "cell_type": "code",
   "execution_count": null,
   "id": "34d1585f",
   "metadata": {},
   "outputs": [],
   "source": [
    "df_cluster.loc[df_cluster.Cluster_ID == 154899][['Retweet_Count', 'Favorite_Count']].sum().sum()"
   ]
  },
  {
   "cell_type": "code",
   "execution_count": null,
   "id": "97be0b64",
   "metadata": {},
   "outputs": [],
   "source": [
    "len(df_cluster.loc[df_cluster.Cluster_ID == 154899])"
   ]
  },
  {
   "cell_type": "code",
   "execution_count": null,
   "id": "6cbd7c43",
   "metadata": {},
   "outputs": [],
   "source": [
    "df_cluster.loc[df_cluster.Cluster_ID == 154899].Tweet_Text.sample(1)"
   ]
  },
  {
   "cell_type": "code",
   "execution_count": null,
   "id": "a12d3d56",
   "metadata": {},
   "outputs": [],
   "source": [
    "df_account[(df_account.acc_type == 'Bot') & (df_account.Predicted_PL == 3)]"
   ]
  },
  {
   "cell_type": "code",
   "execution_count": null,
   "id": "0b81cf2d",
   "metadata": {
    "scrolled": true
   },
   "outputs": [],
   "source": [
    "df_all_tweet[df_all_tweet.User_ID.isin(df_account[(df_account.acc_type == 'Bot') & (df_account.Predicted_PL == 3)].User_ID.tolist())].sample(20)"
   ]
  },
  {
   "cell_type": "code",
   "execution_count": null,
   "id": "fc315baf",
   "metadata": {},
   "outputs": [],
   "source": [
    "df_group = pd.read_csv('Refined_Community_with_Political_Label2.csv')"
   ]
  },
  {
   "cell_type": "code",
   "execution_count": null,
   "id": "5d30664a",
   "metadata": {},
   "outputs": [],
   "source": [
    "df_group.User_ID"
   ]
  },
  {
   "cell_type": "code",
   "execution_count": null,
   "id": "694a4bdb",
   "metadata": {},
   "outputs": [],
   "source": [
    "df_account_group = pd.merge(df_account, df_group)"
   ]
  },
  {
   "cell_type": "code",
   "execution_count": null,
   "id": "8aed3f8a",
   "metadata": {},
   "outputs": [],
   "source": [
    "grp = [0,18,8,1,17,6,15,19,13,4,29,14,42,5]"
   ]
  },
  {
   "cell_type": "code",
   "execution_count": null,
   "id": "4a18b134",
   "metadata": {},
   "outputs": [],
   "source": [
    "for i in grp:\n",
    "    print('Group:' + str(i))\n",
    "    print(len(df_account_group[(df_account_group.Community_ID == i) & \n",
    "                     (df_account_group.Influencer == 'Influencer')]))\n"
   ]
  },
  {
   "cell_type": "code",
   "execution_count": null,
   "id": "acb4b21e",
   "metadata": {},
   "outputs": [],
   "source": [
    "cl_s = df_cluster.groupby('Cluster_ID').count().reset_index()"
   ]
  },
  {
   "cell_type": "code",
   "execution_count": null,
   "id": "9ed5b587",
   "metadata": {},
   "outputs": [],
   "source": [
    "cl_s[cl_s.Tweet_ID >= 5]"
   ]
  },
  {
   "cell_type": "code",
   "execution_count": null,
   "id": "5be7904c",
   "metadata": {},
   "outputs": [],
   "source": [
    "df_cluster"
   ]
  },
  {
   "cell_type": "code",
   "execution_count": null,
   "id": "3bac72a4",
   "metadata": {},
   "outputs": [],
   "source": [
    "df_account.groupby('Influencer').count()"
   ]
  },
  {
   "cell_type": "code",
   "execution_count": null,
   "id": "a0345d02",
   "metadata": {},
   "outputs": [],
   "source": [
    "df_account.to_csv('All_Account_with_Updated_Influencer.csv', index = False)"
   ]
  },
  {
   "cell_type": "code",
   "execution_count": null,
   "id": "3183319e",
   "metadata": {},
   "outputs": [],
   "source": [
    "df_cluster_new = pd.merge(df_cluster[['Cluster_ID', 'Tweet_ID', 'User_ID']], df_account, on = 'User_ID')"
   ]
  },
  {
   "cell_type": "code",
   "execution_count": null,
   "id": "cd4dccfc",
   "metadata": {},
   "outputs": [],
   "source": [
    "df_cluster_new[df_cluster_new.acc_type == 'Bot'].groupby('Cluster_ID').count()"
   ]
  },
  {
   "cell_type": "code",
   "execution_count": null,
   "id": "66663fc5",
   "metadata": {},
   "outputs": [],
   "source": [
    "df_cluster_new[(df_cluster_new.Predicted_PL == 0) | \n",
    "               (df_cluster_new.Predicted_PL == 1) |\n",
    "              (df_cluster_new.Predicted_PL == 2)].groupby('Cluster_ID').count()"
   ]
  },
  {
   "cell_type": "code",
   "execution_count": null,
   "id": "bd100ac8",
   "metadata": {},
   "outputs": [],
   "source": [
    "df_cluster_new.groupby('Cluster_ID').count()"
   ]
  }
 ],
 "metadata": {
  "kernelspec": {
   "display_name": "Python 3 (ipykernel)",
   "language": "python",
   "name": "python3"
  },
  "language_info": {
   "codemirror_mode": {
    "name": "ipython",
    "version": 3
   },
   "file_extension": ".py",
   "mimetype": "text/x-python",
   "name": "python",
   "nbconvert_exporter": "python",
   "pygments_lexer": "ipython3",
   "version": "3.9.13"
  }
 },
 "nbformat": 4,
 "nbformat_minor": 5
}
