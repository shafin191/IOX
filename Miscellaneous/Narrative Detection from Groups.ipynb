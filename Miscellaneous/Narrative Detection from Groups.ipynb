{
 "cells": [
  {
   "cell_type": "code",
   "execution_count": null,
   "id": "8b8ecdc8",
   "metadata": {},
   "outputs": [],
   "source": [
    "import pandas as pd\n",
    "import matplotlib as plt\n",
    "import numpy as np\n",
    "import os\n",
    "pd.set_option('display.max_colwidth', None)\n",
    "pd.set_option('display.max_columns', 10)\n",
    "pd.set_option('display.max_rows', 50)\n",
    "print(os.getcwd())"
   ]
  },
  {
   "cell_type": "code",
   "execution_count": null,
   "id": "58d781bd",
   "metadata": {},
   "outputs": [],
   "source": [
    "df_pol = pd.read_csv('Political_Alignment_New_Final2.csv')\n",
    "df_cluster_refied = pd.read_csv('Cluster_Tweet_Without_Generic.csv')"
   ]
  },
  {
   "cell_type": "code",
   "execution_count": null,
   "id": "747647fb",
   "metadata": {},
   "outputs": [],
   "source": [
    "df_pol.groupby('Predicted_PL').count()"
   ]
  },
  {
   "cell_type": "code",
   "execution_count": null,
   "id": "47e6f6d5",
   "metadata": {},
   "outputs": [],
   "source": [
    "df_cluster_refied = pd.read_csv('Cluster_Tweet_Without_Generic.csv')"
   ]
  },
  {
   "cell_type": "code",
   "execution_count": null,
   "id": "9221f775",
   "metadata": {},
   "outputs": [],
   "source": [
    "df_cluster_refied = df_cluster_refied.drop(columns = ['Unnamed: 0.1', 'Unnamed: 0'])"
   ]
  },
  {
   "cell_type": "code",
   "execution_count": null,
   "id": "6831ed99",
   "metadata": {},
   "outputs": [],
   "source": [
    "df_group = pd.read_csv('Refined_Community_with_Political_Label.csv')"
   ]
  },
  {
   "cell_type": "code",
   "execution_count": null,
   "id": "7755de9f",
   "metadata": {},
   "outputs": [],
   "source": [
    "df_group.groupby('Party_Label3').count()"
   ]
  },
  {
   "cell_type": "code",
   "execution_count": null,
   "id": "776ec48c",
   "metadata": {},
   "outputs": [],
   "source": [
    "df_group.loc[df_group.Community_ID == 0].User_ID.to_list()"
   ]
  },
  {
   "cell_type": "code",
   "execution_count": null,
   "id": "d60c6b1d",
   "metadata": {},
   "outputs": [],
   "source": [
    "df_group.groupby('Community_ID').count().sort_values('User_ID', ascending = False).reset_index().iloc[0:20].Community_ID.tolist()"
   ]
  },
  {
   "cell_type": "code",
   "execution_count": null,
   "id": "b45835ca",
   "metadata": {},
   "outputs": [],
   "source": [
    "gid = [18, 8, 1, 17, 6, 15, 19, 13, 4, 29, 14, 5, 42, 21, 25, 27, 33, 36, 37]"
   ]
  },
  {
   "cell_type": "code",
   "execution_count": null,
   "id": "c8cf39ed",
   "metadata": {},
   "outputs": [],
   "source": [
    "df_temp = df_group.loc[df_group.Community_ID == 18].User_ID.to_list()"
   ]
  },
  {
   "cell_type": "code",
   "execution_count": null,
   "id": "ddd69590",
   "metadata": {},
   "outputs": [],
   "source": [
    "df_temp"
   ]
  },
  {
   "cell_type": "code",
   "execution_count": null,
   "id": "55ece4b5",
   "metadata": {},
   "outputs": [],
   "source": [
    "gid = [0]\n",
    "for i in gid:\n",
    "    print(i)\n",
    "    df_temp = df_group.loc[df_group.Community_ID == i].User_ID.to_list()\n",
    "    df_cluster_refied_group_i = df_cluster_refied[df_cluster_refied.User_ID.isin(df_group.loc[df_group.Community_ID == i].User_ID.to_list())]\n",
    "    df_cluster_refied_group_i['Refined_Text'] = df_cluster_refied_group_i['Tweet_Text'].apply(remove_twitter_mentions)\n",
    "    df_cluster_refied_group_i['Refined_Text']=df_cluster_refied_group_i['Refined_Text'].apply(remove_links)\n",
    "    df_cluster_refied_group_i['Refined_Text'] =df_cluster_refied_group_i['Refined_Text'].str.replace('\\n', ' ')\n",
    "    docs = df_cluster_refied_group_i['Refined_Text'].tolist()\n",
    "    topics2, probs2 = topic_model.fit_transform(docs)\n",
    "    new_topics2 = topic_model.reduce_outliers(docs, topics2)\n",
    "    topic_model.get_topic_info().to_csv('/disk/mnemo/users/randomuser/SBERT All Embedding/Group_Topic/Group'+str(i)+'_Topics.csv', index = False)\n",
    "    df_cluster_refied_group_i[['Topic_ID']] = pd.DataFrame(new_topics2)\n",
    "    df_cluster_refied_group_i = df_cluster_refied_group_i.reset_index(drop = True)\n",
    "    df_cluster_refied_group_i.to_csv('/disk/mnemo/users/randomuser/SBERT All Embedding/Group_Topic/All_Tweet_Group_'+str(i)+'_Topic.csv', index = False)\n",
    "    topic_model.save(\"/disk/mnemo/users/randomuser/SBERT All Embedding/Group_Topic/topic_model_group_\" + str(i), serialization=\"pickle\")"
   ]
  },
  {
   "cell_type": "code",
   "execution_count": null,
   "id": "43316639",
   "metadata": {},
   "outputs": [],
   "source": [
    "topic_model.get_topic_info()"
   ]
  },
  {
   "cell_type": "code",
   "execution_count": null,
   "id": "428da70c",
   "metadata": {},
   "outputs": [],
   "source": [
    "df_cluster_refied_group0 = df_cluster_refied[df_cluster_refied.User_ID.isin(df_group.loc[df_group.Community_ID == 0].User_ID.to_list())]"
   ]
  },
  {
   "cell_type": "code",
   "execution_count": null,
   "id": "75865b43",
   "metadata": {},
   "outputs": [],
   "source": [
    "df_cluster_refied_group0"
   ]
  },
  {
   "cell_type": "code",
   "execution_count": null,
   "id": "83ebf9ec",
   "metadata": {},
   "outputs": [],
   "source": [
    "import re\n",
    "def remove_twitter_mentions(text):\n",
    "    return re.sub(r'@\\w+', '', text)\n",
    "\n",
    "def remove_links(text):\n",
    "    return re.sub(r'http\\S+', '', text)\n"
   ]
  },
  {
   "cell_type": "code",
   "execution_count": null,
   "id": "58df3c81",
   "metadata": {},
   "outputs": [],
   "source": [
    "df_cluster_refied_group0['Refined_Text'] = df_cluster_refied_group0['Tweet_Text'].apply(remove_twitter_mentions)\n",
    "df_cluster_refied_group0['Refined_Text']=df_cluster_refied_group0['Refined_Text'].apply(remove_links)\n",
    "df_cluster_refied_group0['Refined_Text'] =df_cluster_refied_group0['Refined_Text'].str.replace('\\n', ' ')"
   ]
  },
  {
   "cell_type": "code",
   "execution_count": null,
   "id": "7dae765d",
   "metadata": {},
   "outputs": [],
   "source": []
  },
  {
   "cell_type": "code",
   "execution_count": null,
   "id": "5db5a8a5",
   "metadata": {},
   "outputs": [],
   "source": [
    "docs = df_cluster_refied_group0['Refined_Text'].tolist()"
   ]
  },
  {
   "cell_type": "code",
   "execution_count": null,
   "id": "4e1dc80a",
   "metadata": {},
   "outputs": [],
   "source": [
    "from bertopic.representation import KeyBERTInspired\n",
    "from bertopic import BERTopic\n",
    "from hdbscan import HDBSCAN\n",
    "\n",
    "hdbscan_model = HDBSCAN(min_cluster_size=5, metric='euclidean', \n",
    "                        cluster_selection_method='eom', prediction_data=True, min_samples=5)\n",
    "representation_model = KeyBERTInspired()\n",
    "topic_model = BERTopic(representation_model=representation_model, language=\"multilingual\", hdbscan_model=hdbscan_model)\n"
   ]
  },
  {
   "cell_type": "code",
   "execution_count": null,
   "id": "93164538",
   "metadata": {},
   "outputs": [],
   "source": [
    "topics, probs = topic_model.fit_transform(docs)\n",
    "new_topics = topic_model.reduce_outliers(docs, topics)"
   ]
  },
  {
   "cell_type": "code",
   "execution_count": null,
   "id": "e2f7fda5",
   "metadata": {},
   "outputs": [],
   "source": []
  },
  {
   "cell_type": "code",
   "execution_count": null,
   "id": "17f836c4",
   "metadata": {},
   "outputs": [],
   "source": [
    "len(topics)"
   ]
  },
  {
   "cell_type": "code",
   "execution_count": null,
   "id": "9f26ce26",
   "metadata": {},
   "outputs": [],
   "source": [
    "df_cluster_refied_group0[['Topic_ID']] = "
   ]
  },
  {
   "cell_type": "code",
   "execution_count": null,
   "id": "96d83dd4",
   "metadata": {},
   "outputs": [],
   "source": [
    "df_cluster_refied_group0 = df_cluster_refied_group0.reset_index(drop = True)\n",
    "df_cluster_refied_group0[['Topic_ID']] = pd.DataFrame(new_topics2)\n",
    "df_cluster_refied_group0.to_csv('All_Tweet_Group_0_Topic.csv', index = False)"
   ]
  },
  {
   "cell_type": "code",
   "execution_count": null,
   "id": "2f4216f2",
   "metadata": {},
   "outputs": [],
   "source": [
    "len(df_cluster_refied_group0[['Topic_ID']])"
   ]
  },
  {
   "cell_type": "code",
   "execution_count": null,
   "id": "2b214e02",
   "metadata": {},
   "outputs": [],
   "source": [
    "df_cluster_refied_group0.to_csv('All_Tweet_Group_0_Topic.csv', index = False)"
   ]
  },
  {
   "cell_type": "code",
   "execution_count": null,
   "id": "4d683267",
   "metadata": {},
   "outputs": [],
   "source": [
    "len(new_topics)"
   ]
  },
  {
   "cell_type": "code",
   "execution_count": null,
   "id": "73174ba3",
   "metadata": {},
   "outputs": [],
   "source": [
    "df_cluster_refied_group0[['Topic_ID']] = pd.DataFrame(new_topics)"
   ]
  },
  {
   "cell_type": "code",
   "execution_count": null,
   "id": "e68a643f",
   "metadata": {},
   "outputs": [],
   "source": [
    "df_cluster_refied_group0.loc[df_cluster_refied_group0.Topic_ID == -1]"
   ]
  },
  {
   "cell_type": "code",
   "execution_count": null,
   "id": "1cc10238",
   "metadata": {},
   "outputs": [],
   "source": [
    "df_cluster_refied_group0.groupby('Topic_ID').count()"
   ]
  },
  {
   "cell_type": "code",
   "execution_count": null,
   "id": "ce5d4191",
   "metadata": {},
   "outputs": [],
   "source": [
    "topic_g0_result = topic_model.get_topic_info()"
   ]
  },
  {
   "cell_type": "code",
   "execution_count": null,
   "id": "ffa3e4fb",
   "metadata": {},
   "outputs": [],
   "source": [
    "topic_g0_result.loc[topic_g0_result.Topic == 10]"
   ]
  },
  {
   "cell_type": "code",
   "execution_count": null,
   "id": "24b22584",
   "metadata": {},
   "outputs": [],
   "source": [
    "topic_model"
   ]
  },
  {
   "cell_type": "code",
   "execution_count": null,
   "id": "79c2652b",
   "metadata": {},
   "outputs": [],
   "source": [
    "topic_model.visualize_topics(custom_labels=True)"
   ]
  },
  {
   "cell_type": "code",
   "execution_count": null,
   "id": "1307605a",
   "metadata": {},
   "outputs": [],
   "source": [
    "similar_topics, similarity = topic_model.find_topics(\"muslim\", top_n=5)"
   ]
  },
  {
   "cell_type": "code",
   "execution_count": null,
   "id": "dd39d42e",
   "metadata": {},
   "outputs": [],
   "source": [
    "topic_model.get_topic(1)"
   ]
  },
  {
   "cell_type": "code",
   "execution_count": null,
   "id": "7311f19d",
   "metadata": {},
   "outputs": [],
   "source": [
    "df_cluster_refied_group_0 = df_cluster_refied[df_cluster_refied.User_ID.\n",
    "                                              isin(df_group.loc[df_group.Community_ID == 0].User_ID.to_list())]\n",
    "df_cluster_refied_group_0['Refined_Text'] = df_cluster_refied_group_0['Tweet_Text'].apply(remove_twitter_mentions)\n",
    "df_cluster_refied_group_0['Refined_Text']=df_cluster_refied_group_0['Refined_Text'].apply(remove_links)\n",
    "df_cluster_refied_group_0['Refined_Text'] =df_cluster_refied_group_0['Refined_Text'].str.replace('\\n', ' ')"
   ]
  },
  {
   "cell_type": "code",
   "execution_count": null,
   "id": "7a4d6b62",
   "metadata": {},
   "outputs": [],
   "source": [
    "df_cluster_refied_group_0"
   ]
  },
  {
   "cell_type": "code",
   "execution_count": null,
   "id": "d4208ff9",
   "metadata": {},
   "outputs": [],
   "source": [
    "new_temp = df_cluster_refied_group_0.loc[df_cluster_refied_group_0.Tweet_Lang == 'en'].sample(50).groupby('Cluster_ID').count()"
   ]
  },
  {
   "cell_type": "code",
   "execution_count": null,
   "id": "b88de65c",
   "metadata": {},
   "outputs": [],
   "source": [
    "new_temp.reset_index().Cluster_ID"
   ]
  },
  {
   "cell_type": "code",
   "execution_count": null,
   "id": "d0c9b7db",
   "metadata": {},
   "outputs": [],
   "source": [
    "check_again = df_cluster_refied_group_0[df_cluster_refied_group_0.Cluster_ID.isin(new_temp.reset_index().Cluster_ID)].drop_duplicates('Cluster_ID')[['Cluster_ID', 'Tweet_ID', 'Refined_Text']]"
   ]
  },
  {
   "cell_type": "code",
   "execution_count": null,
   "id": "d23fc01f",
   "metadata": {},
   "outputs": [],
   "source": [
    "len(check_again)"
   ]
  },
  {
   "cell_type": "code",
   "execution_count": null,
   "id": "ef894548",
   "metadata": {},
   "outputs": [],
   "source": [
    "check_again = check_again.reset_index(drop = True).rename(columns = {'Cluster_ID': 'Campaign_ID'})"
   ]
  },
  {
   "cell_type": "code",
   "execution_count": null,
   "id": "661130fa",
   "metadata": {},
   "outputs": [],
   "source": [
    "docs = check_again.Refined_Text.tolist()"
   ]
  },
  {
   "cell_type": "code",
   "execution_count": null,
   "id": "82af8cc5",
   "metadata": {},
   "outputs": [],
   "source": [
    "from bertopic.representation import KeyBERTInspired\n",
    "from bertopic import BERTopic\n",
    "from hdbscan import HDBSCAN\n",
    "docs = check_again.Refined_Text.tolist()\n",
    "hdbscan_model = HDBSCAN(min_cluster_size=2, metric='euclidean', \n",
    "                        cluster_selection_method='eom', prediction_data=True, min_samples=2)\n",
    "representation_model = KeyBERTInspired()\n",
    "topic_model = BERTopic(representation_model=representation_model, language=\"multilingual\", hdbscan_model=hdbscan_model)\n"
   ]
  },
  {
   "cell_type": "code",
   "execution_count": null,
   "id": "2c3f15f7",
   "metadata": {},
   "outputs": [],
   "source": [
    "topics, probs = topic_model.fit_transform(docs)"
   ]
  },
  {
   "cell_type": "code",
   "execution_count": null,
   "id": "9c2e7262",
   "metadata": {},
   "outputs": [],
   "source": [
    "topic_model.get_topic_info()"
   ]
  },
  {
   "cell_type": "code",
   "execution_count": null,
   "id": "90ddc79d",
   "metadata": {},
   "outputs": [],
   "source": [
    "topics"
   ]
  },
  {
   "cell_type": "code",
   "execution_count": null,
   "id": "90f342ba",
   "metadata": {},
   "outputs": [],
   "source": [
    "check_again['Topic'] = topics"
   ]
  },
  {
   "cell_type": "code",
   "execution_count": null,
   "id": "55375e0d",
   "metadata": {},
   "outputs": [],
   "source": [
    "check_twice = pd.merge(check_again, topic_model.get_topic_info()[['Topic', 'Name']]).sort_values('Topic', ascending = False)"
   ]
  },
  {
   "cell_type": "code",
   "execution_count": null,
   "id": "02d5b9a3",
   "metadata": {},
   "outputs": [],
   "source": [
    "check_twice.to_csv('Sample_Campaign_Topic.csv', index = False)"
   ]
  },
  {
   "cell_type": "code",
   "execution_count": null,
   "id": "23daa4be",
   "metadata": {},
   "outputs": [],
   "source": [
    "topic_model.get_document_info(docs)"
   ]
  },
  {
   "cell_type": "code",
   "execution_count": null,
   "id": "5edfe496",
   "metadata": {},
   "outputs": [],
   "source": [
    "topic_model.visualize_topics()"
   ]
  },
  {
   "cell_type": "code",
   "execution_count": null,
   "id": "26fda927",
   "metadata": {},
   "outputs": [],
   "source": [
    "check_twice"
   ]
  },
  {
   "cell_type": "code",
   "execution_count": null,
   "id": "b88db18d",
   "metadata": {},
   "outputs": [],
   "source": [
    "topic_model.get_topic_info().to_csv('Topic_Model_Result0.csv', index = False)"
   ]
  }
 ],
 "metadata": {
  "kernelspec": {
   "display_name": "Python 3 (ipykernel)",
   "language": "python",
   "name": "python3"
  },
  "language_info": {
   "codemirror_mode": {
    "name": "ipython",
    "version": 3
   },
   "file_extension": ".py",
   "mimetype": "text/x-python",
   "name": "python",
   "nbconvert_exporter": "python",
   "pygments_lexer": "ipython3",
   "version": "3.9.13"
  }
 },
 "nbformat": 4,
 "nbformat_minor": 5
}
