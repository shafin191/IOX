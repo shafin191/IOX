{
 "cells": [
  {
   "cell_type": "code",
   "execution_count": null,
   "id": "73449625",
   "metadata": {},
   "outputs": [],
   "source": [
    "import json\n",
    "import pandas as pd\n",
    "import os\n",
    "pd.set_option('display.max_colwidth', None)\n",
    "pd.set_option('display.max_columns', 10)\n",
    "pd.set_option('display.max_rows', 50)"
   ]
  },
  {
   "cell_type": "code",
   "execution_count": null,
   "id": "84e215e4",
   "metadata": {},
   "outputs": [],
   "source": [
    "df_updated_user = pd.read_csv('Updated_User_Info.csv')\n",
    "df_old_user= pd.read_csv('All_Fake_without_debunkers_Updated.csv')"
   ]
  },
  {
   "cell_type": "code",
   "execution_count": null,
   "id": "617acc38",
   "metadata": {},
   "outputs": [],
   "source": [
    "df_updated_user.columns"
   ]
  },
  {
   "cell_type": "code",
   "execution_count": null,
   "id": "5cd2f540",
   "metadata": {},
   "outputs": [],
   "source": [
    "df_updated_user.groupby('Blue_Verified').count()"
   ]
  },
  {
   "cell_type": "code",
   "execution_count": null,
   "id": "2ed5004b",
   "metadata": {},
   "outputs": [],
   "source": [
    "df_updated_user.groupby('Veified').count()"
   ]
  },
  {
   "cell_type": "code",
   "execution_count": null,
   "id": "04b3f22f",
   "metadata": {},
   "outputs": [],
   "source": [
    "df_updated_user[['User_ID', 'Blue_Verified']]"
   ]
  },
  {
   "cell_type": "code",
   "execution_count": null,
   "id": "74df3620",
   "metadata": {},
   "outputs": [],
   "source": [
    "len(set(df_old_user.User_ID) - set(df_updated_user.User_ID))"
   ]
  },
  {
   "cell_type": "code",
   "execution_count": null,
   "id": "3020c8da",
   "metadata": {},
   "outputs": [],
   "source": [
    "df_old_user[['User_ID', 'UserVerified']]"
   ]
  },
  {
   "cell_type": "code",
   "execution_count": null,
   "id": "19cf6e5b",
   "metadata": {},
   "outputs": [],
   "source": [
    "df_verified_check = pd.merge(df_old_user[['User_ID', 'UserVerified']], df_updated_user[['User_ID', 'Blue_Verified']], how = 'left')"
   ]
  },
  {
   "cell_type": "code",
   "execution_count": null,
   "id": "1cc046f0",
   "metadata": {},
   "outputs": [],
   "source": [
    "df_verified_check.columns"
   ]
  },
  {
   "cell_type": "code",
   "execution_count": null,
   "id": "412f8af9",
   "metadata": {},
   "outputs": [],
   "source": [
    "df_verified_check.loc[(df_verified_check.UserVerified == False) &\n",
    "                     (df_verified_check.Blue_Verified == True)]"
   ]
  },
  {
   "cell_type": "code",
   "execution_count": null,
   "id": "ff147bb6",
   "metadata": {},
   "outputs": [],
   "source": [
    "df_verified_check.loc[(df_verified_check.UserVerified == True) &\n",
    "                     (df_verified_check.Blue_Verified == False)]"
   ]
  },
  {
   "cell_type": "code",
   "execution_count": null,
   "id": "b0431743",
   "metadata": {},
   "outputs": [],
   "source": [
    "len(df_updated_user.loc[df_updated_user.Is_Protected == True])"
   ]
  },
  {
   "cell_type": "code",
   "execution_count": null,
   "id": "65cc4fbf",
   "metadata": {},
   "outputs": [],
   "source": [
    "print(len(df_old_user.loc[df_old_user.UserVerified == True]))"
   ]
  },
  {
   "cell_type": "code",
   "execution_count": null,
   "id": "1a437063",
   "metadata": {},
   "outputs": [],
   "source": [
    "print(len(df_updated_user.loc[df_updated_user.Blue_Verified == True]))"
   ]
  },
  {
   "cell_type": "code",
   "execution_count": null,
   "id": "89b40b87",
   "metadata": {},
   "outputs": [],
   "source": [
    "df_updated_user[['User_ID', 'ScreenName']]"
   ]
  },
  {
   "cell_type": "code",
   "execution_count": null,
   "id": "23b22444",
   "metadata": {},
   "outputs": [],
   "source": [
    "df_screen_name_change = pd.merge(df_old_user[['User_ID', 'ScreenName']],df_updated_user[['User_ID', 'ScreenName']], on= 'User_ID')"
   ]
  },
  {
   "cell_type": "code",
   "execution_count": null,
   "id": "0b6c2e39",
   "metadata": {},
   "outputs": [],
   "source": [
    "df_user_name_change = pd.merge(df_old_user[['User_ID', 'UserName']],df_updated_user[['User_ID', 'UserName']], on= 'User_ID')"
   ]
  },
  {
   "cell_type": "code",
   "execution_count": null,
   "id": "e14488c0",
   "metadata": {},
   "outputs": [],
   "source": [
    "df_user_description_change = pd.merge(df_old_user[['User_ID', 'UserName']],df_updated_user[['User_ID', 'User_Description']], on= 'User_ID')"
   ]
  },
  {
   "cell_type": "code",
   "execution_count": null,
   "id": "add40009",
   "metadata": {},
   "outputs": [],
   "source": [
    "df_screen_name_change['ScreenName_y'] = '@'+ df_screen_name_change['ScreenName_y']"
   ]
  },
  {
   "cell_type": "code",
   "execution_count": null,
   "id": "b28617c1",
   "metadata": {},
   "outputs": [],
   "source": [
    "len(df_screen_name_change.loc[df_screen_name_change.ScreenName_x != df_screen_name_change.ScreenName_y].User_ID.tolist())"
   ]
  },
  {
   "cell_type": "code",
   "execution_count": null,
   "id": "ad109f13",
   "metadata": {},
   "outputs": [],
   "source": [
    "df_screen_name_change.loc[df_screen_name_change.ScreenName_x != df_screen_name_change.ScreenName_y].User_ID.tolist()"
   ]
  },
  {
   "cell_type": "code",
   "execution_count": null,
   "id": "c3deab03",
   "metadata": {},
   "outputs": [],
   "source": [
    "df_updated_user[df_updated_user.User_ID.isin(df_screen_name_change.loc[df_screen_name_change.ScreenName_x != df_screen_name_change.ScreenName_y].User_ID.tolist())].groupby('Blue_Verified').count()"
   ]
  },
  {
   "cell_type": "code",
   "execution_count": null,
   "id": "aec5a826",
   "metadata": {},
   "outputs": [],
   "source": [
    "df_old_user[df_old_user.User_ID.isin(df_screen_name_change.loc[df_screen_name_change.ScreenName_x != df_screen_name_change.ScreenName_y].User_ID.tolist())].groupby('UserVerified').count()"
   ]
  },
  {
   "cell_type": "code",
   "execution_count": null,
   "id": "f7481d9a",
   "metadata": {},
   "outputs": [],
   "source": [
    "len(df_user_name_change.loc[df_user_name_change.UserName_x != df_user_name_change.UserName_x].User_ID.tolist())"
   ]
  },
  {
   "cell_type": "code",
   "execution_count": null,
   "id": "993d574f",
   "metadata": {},
   "outputs": [],
   "source": [
    "df_old_user"
   ]
  },
  {
   "cell_type": "code",
   "execution_count": null,
   "id": "02174726",
   "metadata": {},
   "outputs": [],
   "source": [
    "df_user_description_change = pd.merge(df_old_user[['User_ID', 'UserDescription']],df_updated_user[['User_ID', 'User_Description']], on= 'User_ID')"
   ]
  },
  {
   "cell_type": "code",
   "execution_count": null,
   "id": "beb459c2",
   "metadata": {},
   "outputs": [],
   "source": [
    "df_user_description_change.loc[df_user_description_change.UserDescription != df_user_description_change.User_Description].dropna().sample(20)"
   ]
  },
  {
   "cell_type": "code",
   "execution_count": null,
   "id": "9a6a28a1",
   "metadata": {},
   "outputs": [],
   "source": [
    "pd.merge(df_old_user[['User_ID', 'UserDescription']],df_updated_user[['User_ID', 'User_Description']], on= 'User_ID')"
   ]
  },
  {
   "cell_type": "code",
   "execution_count": null,
   "id": "95a9dcb3",
   "metadata": {},
   "outputs": [],
   "source": [
    "df_old_user.columns"
   ]
  },
  {
   "cell_type": "code",
   "execution_count": null,
   "id": "2bebeec1",
   "metadata": {},
   "outputs": [],
   "source": [
    "df_updated_user.columns"
   ]
  },
  {
   "cell_type": "code",
   "execution_count": null,
   "id": "f83adf7e",
   "metadata": {},
   "outputs": [],
   "source": [
    "df_updated_user[['User_ID', 'Fast_Follower_Count', 'Normal_Follower_Count', \n",
    "                 'Post_Count', 'Follower_Count', 'Profile_Image_Link']].sample(20)"
   ]
  },
  {
   "cell_type": "code",
   "execution_count": null,
   "id": "0a85b2e3",
   "metadata": {},
   "outputs": [],
   "source": []
  },
  {
   "cell_type": "code",
   "execution_count": null,
   "id": "cc28b6a9",
   "metadata": {},
   "outputs": [],
   "source": []
  }
 ],
 "metadata": {
  "kernelspec": {
   "display_name": "Python 3 (ipykernel)",
   "language": "python",
   "name": "python3"
  },
  "language_info": {
   "codemirror_mode": {
    "name": "ipython",
    "version": 3
   },
   "file_extension": ".py",
   "mimetype": "text/x-python",
   "name": "python",
   "nbconvert_exporter": "python",
   "pygments_lexer": "ipython3",
   "version": "3.9.13"
  }
 },
 "nbformat": 4,
 "nbformat_minor": 5
}
