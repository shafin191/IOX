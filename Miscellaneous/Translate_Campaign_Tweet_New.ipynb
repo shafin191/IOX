{
 "cells": [
  {
   "cell_type": "code",
   "execution_count": null,
   "id": "d3f52c30",
   "metadata": {},
   "outputs": [],
   "source": [
    "from transformers import pipeline\n",
    "import pandas as pd\n",
    "import os \n",
    "import json\n",
    "import time\n",
    "pd.set_option('display.max_colwidth', None)\n",
    "pd.set_option('display.max_columns', 10)\n",
    "pd.set_option('display.max_rows', 50)"
   ]
  },
  {
   "cell_type": "code",
   "execution_count": null,
   "id": "530bf81e",
   "metadata": {},
   "outputs": [],
   "source": [
    "pipe = pipeline(\"translation\", \n",
    "                model=\"facebook/nllb-200-distilled-600M\", \n",
    "                src_lang='hin_Deva', \n",
    "                tgt_lang='eng_Latn', \n",
    "                max_length = 500)"
   ]
  },
  {
   "cell_type": "code",
   "execution_count": null,
   "id": "ef4ea6e0",
   "metadata": {},
   "outputs": [],
   "source": [
    "for text in texts:\n",
    "    print(pipe(text))"
   ]
  },
  {
   "cell_type": "code",
   "execution_count": null,
   "id": "e7099cd7",
   "metadata": {},
   "outputs": [],
   "source": [
    "df_cluster = pd.read_csv('Updated_Text_Translation_new_Camp.csv', lineterminator = '\\n')"
   ]
  },
  {
   "cell_type": "code",
   "execution_count": null,
   "id": "928f9bd1",
   "metadata": {},
   "outputs": [],
   "source": [
    "df_cluster"
   ]
  },
  {
   "cell_type": "code",
   "execution_count": null,
   "id": "0a3d50a5",
   "metadata": {},
   "outputs": [],
   "source": [
    "text = df_cluster['text'][1234]"
   ]
  },
  {
   "cell_type": "code",
   "execution_count": null,
   "id": "9cc7eed4",
   "metadata": {},
   "outputs": [],
   "source": [
    "result = pipe(df_cluster['text'][1234])[0]['translation_text']"
   ]
  },
  {
   "cell_type": "code",
   "execution_count": null,
   "id": "b907c525",
   "metadata": {},
   "outputs": [],
   "source": [
    "result"
   ]
  },
  {
   "cell_type": "code",
   "execution_count": null,
   "id": "03f297c0",
   "metadata": {},
   "outputs": [],
   "source": [
    "df_cluster['Translated_Tweets'] = 'Empty Tweet'"
   ]
  },
  {
   "cell_type": "code",
   "execution_count": null,
   "id": "0e27250b",
   "metadata": {},
   "outputs": [],
   "source": [
    "df_cluster"
   ]
  },
  {
   "cell_type": "code",
   "execution_count": null,
   "id": "60cb9680",
   "metadata": {},
   "outputs": [],
   "source": [
    "k = 0\n",
    "start = time.time()\n",
    "for index, row in df_cluster.iterrows():\n",
    "    df_cluster.at[index, 'Translated_Tweets'] = pipe(row['text'])[0]['translation_text']\n",
    "    k = k + 1\n",
    "    if k % 100 == 0:\n",
    "        df_cluster.to_csv('Updated_Translated_Campaign_for_Narrative_New.csv', index = False)\n",
    "\n",
    "end = time.time()\n",
    "print(end - start)\n",
    "df_cluster.to_csv('Updated_Translated_Campaign_for_Narrative.csv', index = False)"
   ]
  },
  {
   "cell_type": "code",
   "execution_count": null,
   "id": "7e1773d3",
   "metadata": {},
   "outputs": [],
   "source": []
  },
  {
   "cell_type": "code",
   "execution_count": null,
   "id": "b1ce23aa",
   "metadata": {},
   "outputs": [],
   "source": []
  }
 ],
 "metadata": {
  "kernelspec": {
   "display_name": "Python 3 (ipykernel)",
   "language": "python",
   "name": "python3"
  },
  "language_info": {
   "codemirror_mode": {
    "name": "ipython",
    "version": 3
   },
   "file_extension": ".py",
   "mimetype": "text/x-python",
   "name": "python",
   "nbconvert_exporter": "python",
   "pygments_lexer": "ipython3",
   "version": "3.9.13"
  }
 },
 "nbformat": 4,
 "nbformat_minor": 5
}
