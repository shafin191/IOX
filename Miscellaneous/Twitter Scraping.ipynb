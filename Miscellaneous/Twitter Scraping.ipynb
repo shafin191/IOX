{
 "cells": [
  {
   "cell_type": "code",
   "execution_count": null,
   "id": "273fda6d",
   "metadata": {},
   "outputs": [],
   "source": [
    "import twikit"
   ]
  },
  {
   "cell_type": "code",
   "execution_count": null,
   "id": "e8fa29c6",
   "metadata": {},
   "outputs": [],
   "source": [
    "from twikit import Client\n",
    "import json\n",
    "import pandas as pd\n",
    "import os\n",
    "pd.set_option('display.max_colwidth', None)\n",
    "pd.set_option('display.max_columns', 10)\n",
    "pd.set_option('display.max_rows', 50)"
   ]
  },
  {
   "cell_type": "code",
   "execution_count": null,
   "id": "cbefe7d5",
   "metadata": {},
   "outputs": [],
   "source": [
    "print (twikit.__version__)\n"
   ]
  },
  {
   "cell_type": "code",
   "execution_count": null,
   "id": "0926ef2b",
   "metadata": {},
   "outputs": [],
   "source": [
    "client = Client('en-US')"
   ]
  },
  {
   "cell_type": "code",
   "execution_count": null,
   "id": "985ae3f9",
   "metadata": {},
   "outputs": [],
   "source": [
    "client.login(auth_info_1='', password='')\n",
    "client.save_cookies('cookies.json')\n",
    "client.load_cookies(path='cookies.json')"
   ]
  },
  {
   "cell_type": "code",
   "execution_count": null,
   "id": "b5921794",
   "metadata": {},
   "outputs": [],
   "source": [
    "user2 = client.get_user_by_screen_name('richapandey')\n",
    "tweets2 = user2.get_tweets('Tweets', count=5)"
   ]
  },
  {
   "cell_type": "code",
   "execution_count": null,
   "id": "f4c9b8ee",
   "metadata": {},
   "outputs": [],
   "source": [
    "tweets2"
   ]
  },
  {
   "cell_type": "code",
   "execution_count": null,
   "id": "2ba9e538",
   "metadata": {},
   "outputs": [],
   "source": [
    "user2"
   ]
  },
  {
   "cell_type": "code",
   "execution_count": null,
   "id": "d1380a6c",
   "metadata": {},
   "outputs": [],
   "source": [
    "os.getcwd()"
   ]
  },
  {
   "cell_type": "code",
   "execution_count": null,
   "id": "93c3fad3",
   "metadata": {},
   "outputs": [],
   "source": [
    "tweets_to_store2 = []\n",
    "for tweet in tweets2:\n",
    "    tweets_to_store2.append({\n",
    "        'created_at': tweet.created_at,\n",
    "        'favorite_count': tweet.favorite_count,\n",
    "        'retweet_count': tweet.retweet_count,\n",
    "        'text': tweet.text,\n",
    "        'full_text': tweet.full_text,\n",
    "        'Text_Lang': tweet.lang\n",
    "    })"
   ]
  },
  {
   "cell_type": "code",
   "execution_count": null,
   "id": "6d21069d",
   "metadata": {},
   "outputs": [],
   "source": [
    "df2 = pd.DataFrame(tweets_to_store2)"
   ]
  },
  {
   "cell_type": "code",
   "execution_count": null,
   "id": "6943cd61",
   "metadata": {},
   "outputs": [],
   "source": [
    "type(tweet)"
   ]
  },
  {
   "cell_type": "code",
   "execution_count": null,
   "id": "143d3af9",
   "metadata": {},
   "outputs": [],
   "source": [
    "print(tweet.retweeted_tweet.text)"
   ]
  },
  {
   "cell_type": "code",
   "execution_count": null,
   "id": "8c77af2d",
   "metadata": {},
   "outputs": [],
   "source": [
    "print(dir(tweet))"
   ]
  },
  {
   "cell_type": "code",
   "execution_count": null,
   "id": "e6b0a2f7",
   "metadata": {},
   "outputs": [],
   "source": [
    "tweet.retweet"
   ]
  },
  {
   "cell_type": "code",
   "execution_count": null,
   "id": "b5d5b342",
   "metadata": {},
   "outputs": [],
   "source": [
    "tweets2"
   ]
  },
  {
   "cell_type": "code",
   "execution_count": null,
   "id": "267b797b",
   "metadata": {},
   "outputs": [],
   "source": [
    "df2"
   ]
  },
  {
   "cell_type": "code",
   "execution_count": null,
   "id": "e95e3b97",
   "metadata": {},
   "outputs": [],
   "source": [
    "df_account= pd.read_csv('All_Fake_without_debunkers_Updated.csv')"
   ]
  },
  {
   "cell_type": "code",
   "execution_count": null,
   "id": "f31fed22",
   "metadata": {},
   "outputs": [],
   "source": [
    "df_account.User_ID.tolist()[0]"
   ]
  },
  {
   "cell_type": "code",
   "execution_count": null,
   "id": "b6350cc6",
   "metadata": {},
   "outputs": [],
   "source": [
    "k = df_account.User_ID.tolist()[5]\n",
    "print(k)"
   ]
  },
  {
   "cell_type": "code",
   "execution_count": null,
   "id": "61a02928",
   "metadata": {},
   "outputs": [],
   "source": [
    "user_following3 = client.get_user_following(user_id = k)"
   ]
  },
  {
   "cell_type": "code",
   "execution_count": null,
   "id": "edcc5af9",
   "metadata": {},
   "outputs": [],
   "source": [
    "user2 = client.get_user_by_id(k)"
   ]
  },
  {
   "cell_type": "code",
   "execution_count": null,
   "id": "be07756c",
   "metadata": {},
   "outputs": [],
   "source": [
    "print(dir(user_following3[0]))"
   ]
  },
  {
   "cell_type": "code",
   "execution_count": null,
   "id": "1e7a07fc",
   "metadata": {},
   "outputs": [],
   "source": [
    "len(df_account.User_ID.tolist()[6:])"
   ]
  },
  {
   "cell_type": "code",
   "execution_count": null,
   "id": "1151f902",
   "metadata": {
    "scrolled": false
   },
   "outputs": [],
   "source": [
    "user_following3[i].statuses_count"
   ]
  },
  {
   "cell_type": "code",
   "execution_count": null,
   "id": "b3b858fd",
   "metadata": {},
   "outputs": [],
   "source": [
    "import time\n",
    "\n",
    "\n",
    "\n",
    "user_id_store = []\n",
    "user_prob = []\n",
    "\n",
    "for k in df_account.User_ID.tolist()[6:]:\n",
    "    try:\n",
    "        user_following3 = client.get_user_following(k)\n",
    "    except:\n",
    "        user_prob.append(k)\n",
    "    \n",
    "    for i in range(len(user_following3)):\n",
    "        try:\n",
    "            des_url = user_following3[i].description_urls[0]['expanded_url']\n",
    "        except:\n",
    "            des_url = None\n",
    "        user_id_store.append({\n",
    "            'User_ID':k,\n",
    "            'Following_ID': user_following3[i].id,\n",
    "            'Verified': user_following3[i].is_blue_verified,\n",
    "            'User_Description': user_following3[i].description,\n",
    "            'Description_URL': des_url,\n",
    "            'Like_Count': user_following3[i].favourites_count,\n",
    "            'Follower_Count': user_following3[i].followers_count,\n",
    "            'Friend_Count': user_following3[i].following_count,\n",
    "            'Location': user_following3[i].location,\n",
    "            'UserName': user_following3[i].name,\n",
    "            'ScreenName': user_following3[i].screen_name,\n",
    "            'Total_Posts':user_following3[i].statuses_count,\n",
    "            'User_Verified': user_following3[i].verified\n",
    "        })\n",
    "\n",
    "    df_user = pd.DataFrame(user_id_store)\n",
    "    df_user.to_csv('/disk/mnemo/users/randomuser/SBERT All Embedding/Following_List/' +str(k) +'_Following.csv')\n",
    "    time.sleep(25)"
   ]
  },
  {
   "cell_type": "code",
   "execution_count": null,
   "id": "700d0fa2",
   "metadata": {},
   "outputs": [],
   "source": [
    "df_user"
   ]
  },
  {
   "cell_type": "code",
   "execution_count": null,
   "id": "d8d9c343",
   "metadata": {},
   "outputs": [],
   "source": [
    "len(user_following3)"
   ]
  },
  {
   "cell_type": "code",
   "execution_count": null,
   "id": "140d1c11",
   "metadata": {},
   "outputs": [],
   "source": [
    "user3"
   ]
  },
  {
   "cell_type": "code",
   "execution_count": null,
   "id": "a4ddbcf1",
   "metadata": {},
   "outputs": [],
   "source": [
    "df_account_cluster = pd.read_csv('Account_Community_Mapping_Refined.csv')"
   ]
  },
  {
   "cell_type": "code",
   "execution_count": null,
   "id": "452980ff",
   "metadata": {},
   "outputs": [],
   "source": [
    "df_acc_list = df_account_cluster.User_ID.tolist()"
   ]
  },
  {
   "cell_type": "code",
   "execution_count": null,
   "id": "27f53765",
   "metadata": {},
   "outputs": [],
   "source": [
    "len(df_acc_list)"
   ]
  },
  {
   "cell_type": "code",
   "execution_count": null,
   "id": "e59760fc",
   "metadata": {},
   "outputs": [],
   "source": [
    "user_not_found = []"
   ]
  },
  {
   "cell_type": "code",
   "execution_count": null,
   "id": "908e7fd0",
   "metadata": {},
   "outputs": [],
   "source": [
    "for i in df_acc_list:\n",
    "    try: \n",
    "        user_following3 = client.get_user_following(i)\n",
    "    except:\n",
    "        user_not_found.append(i)\n",
    "        "
   ]
  },
  {
   "cell_type": "code",
   "execution_count": null,
   "id": "39161a63",
   "metadata": {},
   "outputs": [],
   "source": [
    "df_acc_list"
   ]
  },
  {
   "cell_type": "code",
   "execution_count": null,
   "id": "e1a2b31c",
   "metadata": {},
   "outputs": [],
   "source": [
    "user_prob2 = user_prob"
   ]
  },
  {
   "cell_type": "code",
   "execution_count": null,
   "id": "210d3f8d",
   "metadata": {},
   "outputs": [],
   "source": [
    "df_acc_list = user_prob"
   ]
  },
  {
   "cell_type": "code",
   "execution_count": null,
   "id": "e786ea6a",
   "metadata": {},
   "outputs": [],
   "source": [
    "len(df_acc_list)"
   ]
  },
  {
   "cell_type": "code",
   "execution_count": null,
   "id": "df3e5fb5",
   "metadata": {},
   "outputs": [],
   "source": [
    "import time\n",
    "check_num = 0\n",
    "\n",
    "user_prob = []\n",
    "\n",
    "for k in df_acc_list:\n",
    "    user_id_store = []\n",
    "    check_num = check_num + 1\n",
    "    try:\n",
    "        user_following3 = client.get_user_followers(k)\n",
    "    except:\n",
    "        print(str(k) + ' was a problem.')\n",
    "        user_prob.append(k)\n",
    "        time.sleep(20)\n",
    "        continue\n",
    "    \n",
    "    for i in range(len(user_following3)):\n",
    "        try:\n",
    "            des_url = user_following3[i].description_urls[0]['expanded_url']\n",
    "        except:\n",
    "            des_url = None\n",
    "        user_id_store.append({\n",
    "            'User_ID':k,\n",
    "            'Follower_ID': user_following3[i].id,\n",
    "            'Verified': user_following3[i].is_blue_verified,\n",
    "            'User_Description': user_following3[i].description,\n",
    "            'Description_URL': des_url,\n",
    "            'Like_Count': user_following3[i].favourites_count,\n",
    "            'Follower_Count': user_following3[i].followers_count,\n",
    "            'Friend_Count': user_following3[i].following_count,\n",
    "            'Location': user_following3[i].location,\n",
    "            'UserName': user_following3[i].name,\n",
    "            'ScreenName': user_following3[i].screen_name,\n",
    "            'Total_Posts':user_following3[i].statuses_count,\n",
    "            'User_Verified': user_following3[i].verified\n",
    "        })\n",
    "\n",
    "    df_user = pd.DataFrame(user_id_store)\n",
    "    df_user.to_csv('/disk/mnemo/users/randomuser/SBERT All Embedding/Follower_List/' +str(k) +'_Follow.csv')\n",
    "    time.sleep(20)\n",
    "    if check_num%100 == 0:\n",
    "        time.sleep(60*3)\n"
   ]
  },
  {
   "cell_type": "code",
   "execution_count": null,
   "id": "c7bbd044",
   "metadata": {},
   "outputs": [],
   "source": [
    "import pickle\n",
    "with open('User_Follower_Problem.pkl', 'wb') as f:\n",
    "    pickle.dump(user_prob, f)"
   ]
  },
  {
   "cell_type": "code",
   "execution_count": null,
   "id": "4b478129",
   "metadata": {},
   "outputs": [],
   "source": []
  },
  {
   "cell_type": "code",
   "execution_count": null,
   "id": "06bf9829",
   "metadata": {},
   "outputs": [],
   "source": [
    "len(user_prob2)"
   ]
  },
  {
   "cell_type": "code",
   "execution_count": null,
   "id": "b80f3868",
   "metadata": {},
   "outputs": [],
   "source": [
    "len(user_prob)"
   ]
  },
  {
   "cell_type": "code",
   "execution_count": null,
   "id": "75c7ea6c",
   "metadata": {},
   "outputs": [],
   "source": [
    "df_prob = pd.DataFrame(user_prob).rename(columns = {0:'User_ID'})"
   ]
  },
  {
   "cell_type": "code",
   "execution_count": null,
   "id": "bfa2c5f8",
   "metadata": {},
   "outputs": [],
   "source": [
    "df_prob['User_Link'] = 'https://twitter.com/i/user/' + df_prob['User_ID'].astype('str')"
   ]
  },
  {
   "cell_type": "code",
   "execution_count": null,
   "id": "751ea031",
   "metadata": {},
   "outputs": [],
   "source": [
    "df_prob.iloc[40:]"
   ]
  },
  {
   "cell_type": "code",
   "execution_count": null,
   "id": "eb45dd97",
   "metadata": {},
   "outputs": [],
   "source": [
    "account_protected = list(set(account_protected))\n",
    "print(len(account_protected))"
   ]
  },
  {
   "cell_type": "code",
   "execution_count": null,
   "id": "9b345b51",
   "metadata": {},
   "outputs": [],
   "source": [
    "account_banned = list(set(account_banned))\n",
    "print(len(account_banned))\n",
    "account_prob = list(set(account_prob))\n",
    "print(len(account_prob))"
   ]
  }
 ],
 "metadata": {
  "kernelspec": {
   "display_name": "Python 3 (ipykernel)",
   "language": "python",
   "name": "python3"
  },
  "language_info": {
   "codemirror_mode": {
    "name": "ipython",
    "version": 3
   },
   "file_extension": ".py",
   "mimetype": "text/x-python",
   "name": "python",
   "nbconvert_exporter": "python",
   "pygments_lexer": "ipython3",
   "version": "3.9.13"
  }
 },
 "nbformat": 4,
 "nbformat_minor": 5
}
