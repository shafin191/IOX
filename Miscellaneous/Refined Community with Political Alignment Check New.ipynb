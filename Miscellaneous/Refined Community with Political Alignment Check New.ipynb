{
 "cells": [
  {
   "cell_type": "code",
   "execution_count": null,
   "id": "45e32efd",
   "metadata": {},
   "outputs": [],
   "source": [
    "import networkx as nx\n",
    "from itertools import combinations\n",
    "import pandas as pd\n",
    "import os\n",
    "\n",
    "pd.set_option('display.max_colwidth', None)\n",
    "pd.set_option('display.max_columns', 10)\n",
    "pd.set_option('display.max_rows', 50)"
   ]
  },
  {
   "cell_type": "code",
   "execution_count": null,
   "id": "f4a50140",
   "metadata": {},
   "outputs": [],
   "source": [
    "os.getcwd()"
   ]
  },
  {
   "cell_type": "code",
   "execution_count": null,
   "id": "fa154e10",
   "metadata": {},
   "outputs": [],
   "source": [
    "G = nx.read_gpickle('Refined_Community_Graph_Wild_Campaign.gpickle')"
   ]
  },
  {
   "cell_type": "code",
   "execution_count": null,
   "id": "2abaec7a",
   "metadata": {},
   "outputs": [],
   "source": [
    "df_com = pd.read_csv('Refined_Community_with_Political_Label.csv')"
   ]
  },
  {
   "cell_type": "code",
   "execution_count": null,
   "id": "80bcda5f",
   "metadata": {},
   "outputs": [],
   "source": [
    "df_com= df_com.replace('Unknown', 'NonPolitical')"
   ]
  },
  {
   "cell_type": "code",
   "execution_count": null,
   "id": "eb7da26b",
   "metadata": {},
   "outputs": [],
   "source": [
    "df_com2 = pd.read_csv('Political_Alignment_New_Final2.csv')"
   ]
  },
  {
   "cell_type": "code",
   "execution_count": null,
   "id": "b1a64ec9",
   "metadata": {},
   "outputs": [],
   "source": [
    "df_com3 = pd.read_csv('Political_Alignment_Updated_3.csv')"
   ]
  },
  {
   "cell_type": "code",
   "execution_count": null,
   "id": "60d960af",
   "metadata": {},
   "outputs": [],
   "source": [
    "df_com3.groupby('Predicted_PL').count()"
   ]
  },
  {
   "cell_type": "code",
   "execution_count": null,
   "id": "5143613b",
   "metadata": {},
   "outputs": [],
   "source": [
    "len(df_com3)"
   ]
  },
  {
   "cell_type": "code",
   "execution_count": null,
   "id": "e191a59d",
   "metadata": {},
   "outputs": [],
   "source": [
    "\n",
    "political_align = {\n",
    "    1: 'BJP', \n",
    "    0: 'INC',\n",
    "    2: 'Other',\n",
    "    3: 'NonPolitical'\n",
    "}"
   ]
  },
  {
   "cell_type": "code",
   "execution_count": null,
   "id": "5e92d0c6",
   "metadata": {},
   "outputs": [],
   "source": [
    "df_com3"
   ]
  },
  {
   "cell_type": "code",
   "execution_count": null,
   "id": "286273d7",
   "metadata": {},
   "outputs": [],
   "source": [
    "\n",
    "political_align = {\n",
    "    1: 'BJP', \n",
    "    0: 'INC',\n",
    "    2: 'NonPolitical'\n",
    "}\n",
    "\n",
    "df_group_pol = pd.merge(df_com,df_com3, on = 'User_ID')\n",
    "df_group_pol['Party_Label3'] = df_group_pol.Predicted_PL_y.map(political_align)"
   ]
  },
  {
   "cell_type": "code",
   "execution_count": null,
   "id": "19bd7792",
   "metadata": {},
   "outputs": [],
   "source": [
    "df_group_pol"
   ]
  },
  {
   "cell_type": "code",
   "execution_count": null,
   "id": "fc549baa",
   "metadata": {},
   "outputs": [],
   "source": [
    "df_group_pol.groupby('Community_ID').count().sort_values('User_ID').reset_index().iloc[-20:]"
   ]
  },
  {
   "cell_type": "code",
   "execution_count": null,
   "id": "7c215d1e",
   "metadata": {},
   "outputs": [],
   "source": [
    "df_group_pol.loc[df_group_pol.Community_ID == 5].groupby(['Community_ID', 'Party_Label3']).count()"
   ]
  },
  {
   "cell_type": "code",
   "execution_count": null,
   "id": "ffb51d17",
   "metadata": {},
   "outputs": [],
   "source": [
    "df_group_pol.loc[(df_group_pol.Community_ID == 1) & (df_group_pol.Party_Label3 == 'NonPolitical')]"
   ]
  },
  {
   "cell_type": "code",
   "execution_count": null,
   "id": "a2012bad",
   "metadata": {},
   "outputs": [],
   "source": [
    "df_group_pol['Link'] = 'https://twitter.com/i/user/' + df_group_pol['User_ID'].astype('str')"
   ]
  },
  {
   "cell_type": "code",
   "execution_count": null,
   "id": "9232b068",
   "metadata": {},
   "outputs": [],
   "source": [
    "df_group_pol.to_csv('Refined_Community_with_Political_Label_New_Updated.csv', index = False)"
   ]
  },
  {
   "cell_type": "code",
   "execution_count": null,
   "id": "4105232b",
   "metadata": {},
   "outputs": [],
   "source": [
    "df_group_pol"
   ]
  },
  {
   "cell_type": "code",
   "execution_count": null,
   "id": "8982ad12",
   "metadata": {},
   "outputs": [],
   "source": [
    "df_group_pol.loc[df_group_pol.User_ID.isin(common_11)].User_ID.tolist()"
   ]
  },
  {
   "cell_type": "markdown",
   "id": "bb89b9b3",
   "metadata": {},
   "source": [
    "<!-- df_group_check = df_group_pol.loc[(df_group_pol.Community_ID == 0) & (df_group_pol.Party_Label2 != 'BJP')] -->"
   ]
  },
  {
   "cell_type": "code",
   "execution_count": null,
   "id": "22dfceea",
   "metadata": {},
   "outputs": [],
   "source": [
    "df_group_check2 = df_group_pol.loc[(df_group_pol.Community_ID == 4) & (df_group_pol.Party_Label2 != 'BJP')]"
   ]
  },
  {
   "cell_type": "code",
   "execution_count": null,
   "id": "abfba4da",
   "metadata": {},
   "outputs": [],
   "source": [
    "df_group_check2"
   ]
  },
  {
   "cell_type": "code",
   "execution_count": null,
   "id": "a91d4445",
   "metadata": {},
   "outputs": [],
   "source": [
    "df_group_check2['link'] = 'https://twitter.com/i/user/' + df_group_check2['User_ID'].astype('str')"
   ]
  },
  {
   "cell_type": "code",
   "execution_count": null,
   "id": "f7e0ad4b",
   "metadata": {},
   "outputs": [],
   "source": [
    "df_group_check = pd.concat([df_group_check,df_group_check2])\n",
    "print(len(df_group_check))"
   ]
  },
  {
   "cell_type": "code",
   "execution_count": null,
   "id": "74d4fbe7",
   "metadata": {},
   "outputs": [],
   "source": [
    "df_group_check = df_group_check.reset_index(drop = True)"
   ]
  },
  {
   "cell_type": "code",
   "execution_count": null,
   "id": "a799ae1e",
   "metadata": {},
   "outputs": [],
   "source": [
    "df_group_check"
   ]
  },
  {
   "cell_type": "code",
   "execution_count": null,
   "id": "3d77d34f",
   "metadata": {},
   "outputs": [],
   "source": [
    "df_niva = pd.read_csv('NivaDuck.csv')"
   ]
  },
  {
   "cell_type": "code",
   "execution_count": null,
   "id": "b166c931",
   "metadata": {},
   "outputs": [],
   "source": [
    "df_niva = df_niva.rename(columns = {'id': 'User_ID'})"
   ]
  },
  {
   "cell_type": "code",
   "execution_count": null,
   "id": "9f67baeb",
   "metadata": {},
   "outputs": [],
   "source": [
    "df_check_now = pd.merge(df_group_pol, df_niva)"
   ]
  },
  {
   "cell_type": "code",
   "execution_count": null,
   "id": "d98a8b1b",
   "metadata": {},
   "outputs": [],
   "source": [
    "\n",
    "directly_connected_nodes = list(G.neighbors(g_18_bjp[1]))\n"
   ]
  },
  {
   "cell_type": "code",
   "execution_count": null,
   "id": "3c299779",
   "metadata": {},
   "outputs": [],
   "source": [
    "directly_connected_nodes = list(G.neighbors(g_18_bjp[1]))"
   ]
  },
  {
   "cell_type": "code",
   "execution_count": null,
   "id": "19e255a2",
   "metadata": {},
   "outputs": [],
   "source": [
    "g_18_bjp[0]"
   ]
  },
  {
   "cell_type": "code",
   "execution_count": null,
   "id": "af9b8380",
   "metadata": {
    "scrolled": true
   },
   "outputs": [],
   "source": [
    "df_group_pol[df_group_pol.User_ID.isin(directly_connected_nodes)]"
   ]
  },
  {
   "cell_type": "code",
   "execution_count": null,
   "id": "95093f9d",
   "metadata": {},
   "outputs": [],
   "source": [
    "df_all_cluster = pd.read_csv('Cluster_Tweet_Without_Generic.csv')"
   ]
  },
  {
   "cell_type": "code",
   "execution_count": null,
   "id": "ff00780d",
   "metadata": {},
   "outputs": [],
   "source": [
    "df_all_cluster"
   ]
  },
  {
   "cell_type": "code",
   "execution_count": null,
   "id": "9cd437b4",
   "metadata": {},
   "outputs": [],
   "source": [
    "df_check = df_all_cluster.groupby(['Cluster_ID', 'User_ID']).count().reset_index()"
   ]
  },
  {
   "cell_type": "code",
   "execution_count": null,
   "id": "4025af33",
   "metadata": {},
   "outputs": [],
   "source": [
    "df_check[df_check.User_ID.isin(directly_connected_nodes)]"
   ]
  },
  {
   "cell_type": "code",
   "execution_count": null,
   "id": "4ccebe21",
   "metadata": {},
   "outputs": [],
   "source": [
    "acc = g_18_bjp[-1]\n",
    "directly_connected_nodes = list(G.neighbors(acc))\n",
    "\n",
    "filtered_df = df_check[(df_check['User_ID'] == acc) | (df_check['User_ID'] == directly_connected_nodes[0])]\n",
    "\n",
    "campaigns_with_both_accounts = filtered_df.groupby('Cluster_ID').filter(lambda x: len(x) == 2)['Cluster_ID'].unique()\n",
    "\n",
    "print(acc)\n",
    "print(directly_connected_nodes[0])\n",
    "\n",
    "df_all_cluster.loc[df_all_cluster.Cluster_ID.isin(campaigns_with_both_accounts)].loc[(df_all_cluster.loc[df_all_cluster.Cluster_ID.isin(campaigns_with_both_accounts)].User_ID ==acc) \n",
    "                                                                                     | (df_all_cluster.loc[df_all_cluster.Cluster_ID.isin(campaigns_with_both_accounts)].User_ID== directly_connected_nodes[0]) ][['Cluster_ID','User_ID', 'Tweet_Text', 'Tweet_ID']]"
   ]
  },
  {
   "cell_type": "code",
   "execution_count": null,
   "id": "19ffac21",
   "metadata": {},
   "outputs": [],
   "source": [
    "directly_connected_nodes"
   ]
  },
  {
   "cell_type": "code",
   "execution_count": null,
   "id": "8994cfa9",
   "metadata": {},
   "outputs": [],
   "source": [
    "campaigns_with_both_accounts"
   ]
  },
  {
   "cell_type": "code",
   "execution_count": null,
   "id": "9dca0e32",
   "metadata": {},
   "outputs": [],
   "source": [
    "df_all_cluster.loc[df_all_cluster.Cluster_ID.isin(campaigns_with_both_accounts)].loc[(df_all_cluster.loc[df_all_cluster.Cluster_ID.isin(campaigns_with_both_accounts)].User_ID ==g_18_bjp[6]) \n",
    "                                                                                     | (df_all_cluster.loc[df_all_cluster.Cluster_ID.isin(campaigns_with_both_accounts)].User_ID== directly_connected_nodes[0]) ][['Cluster_ID','User_ID', 'Tweet_Text', 'Tweet_ID']]"
   ]
  }
 ],
 "metadata": {
  "kernelspec": {
   "display_name": "Python 3 (ipykernel)",
   "language": "python",
   "name": "python3"
  },
  "language_info": {
   "codemirror_mode": {
    "name": "ipython",
    "version": 3
   },
   "file_extension": ".py",
   "mimetype": "text/x-python",
   "name": "python",
   "nbconvert_exporter": "python",
   "pygments_lexer": "ipython3",
   "version": "3.9.13"
  }
 },
 "nbformat": 4,
 "nbformat_minor": 5
}
