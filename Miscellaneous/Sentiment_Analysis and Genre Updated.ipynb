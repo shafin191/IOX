{
 "cells": [
  {
   "cell_type": "code",
   "execution_count": null,
   "id": "810a9364",
   "metadata": {},
   "outputs": [],
   "source": [
    "import pandas as pd\n",
    "pd.set_option('display.max_colwidth', None)"
   ]
  },
  {
   "cell_type": "code",
   "execution_count": null,
   "id": "503fab65",
   "metadata": {
    "scrolled": true
   },
   "outputs": [],
   "source": [
    "df1 = pd.read_csv('Senti_1.csv')\n",
    "df2 = pd.read_csv('Senti_2.csv')\n",
    "df3 = pd.read_csv('Senti_3.csv')\n",
    "df4 = pd.read_csv('Senti_4.csv')\n",
    "df5 = pd.read_csv('Senti_5.csv')\n",
    "df6 = pd.read_csv('Senti_6.csv')\n",
    "df7 = pd.read_csv('Senti_7.csv')"
   ]
  },
  {
   "cell_type": "code",
   "execution_count": null,
   "id": "3b66f755",
   "metadata": {},
   "outputs": [],
   "source": [
    "merged_df = pd.concat([df1, df2, df3, df4, df5, df6, df7])"
   ]
  },
  {
   "cell_type": "code",
   "execution_count": null,
   "id": "eb285a42",
   "metadata": {},
   "outputs": [],
   "source": [
    "merged_df = merged_df.reset_index(drop = True)"
   ]
  },
  {
   "cell_type": "code",
   "execution_count": null,
   "id": "fd3bf750",
   "metadata": {},
   "outputs": [],
   "source": [
    "merged_df = merged_df.drop(columns = 'Unnamed: 0')"
   ]
  },
  {
   "cell_type": "code",
   "execution_count": null,
   "id": "71a15457",
   "metadata": {},
   "outputs": [],
   "source": [
    "merged_df"
   ]
  },
  {
   "cell_type": "code",
   "execution_count": null,
   "id": "44913bbe",
   "metadata": {},
   "outputs": [],
   "source": [
    "merged_df.loc[(merged_df.genre == 'News')]"
   ]
  },
  {
   "cell_type": "code",
   "execution_count": null,
   "id": "c9fb9603",
   "metadata": {},
   "outputs": [],
   "source": [
    "merged_df.groupby('label').count()"
   ]
  },
  {
   "cell_type": "code",
   "execution_count": null,
   "id": "0aecf313",
   "metadata": {},
   "outputs": [],
   "source": [
    "merged_df.to_csv('Cluster_Sentiment_All_Updated.csv', index = False)"
   ]
  },
  {
   "cell_type": "code",
   "execution_count": null,
   "id": "4cbb1c12",
   "metadata": {},
   "outputs": [],
   "source": [
    "df_genre = pd.read_csv('Cluster_Genre_All.csv', dtype = 'str')"
   ]
  },
  {
   "cell_type": "code",
   "execution_count": null,
   "id": "8b992df8",
   "metadata": {},
   "outputs": [],
   "source": [
    "merged_df.tail(5)"
   ]
  },
  {
   "cell_type": "code",
   "execution_count": null,
   "id": "16ba3cd4",
   "metadata": {},
   "outputs": [],
   "source": [
    "df_genre = df_genre.drop(columns = 'Unnamed: 0')"
   ]
  },
  {
   "cell_type": "code",
   "execution_count": null,
   "id": "89451e7d",
   "metadata": {},
   "outputs": [],
   "source": [
    "df_genre.dtypes"
   ]
  },
  {
   "cell_type": "code",
   "execution_count": null,
   "id": "17a27d88",
   "metadata": {},
   "outputs": [],
   "source": [
    "df_genre.Tweet_ID = df_genre.Tweet_ID.astype('str')\n",
    "merged_df.Tweet_ID = merged_df.Tweet_ID.astype('str')"
   ]
  },
  {
   "cell_type": "code",
   "execution_count": null,
   "id": "451488cd",
   "metadata": {},
   "outputs": [],
   "source": [
    "merged_df.dtypes"
   ]
  },
  {
   "cell_type": "code",
   "execution_count": null,
   "id": "c85df77a",
   "metadata": {},
   "outputs": [],
   "source": [
    "df_all = pd.merge(merged_df, df_genre[['Tweet_ID', 'X-GENRE']])"
   ]
  },
  {
   "cell_type": "code",
   "execution_count": null,
   "id": "90e2067a",
   "metadata": {},
   "outputs": [],
   "source": [
    "print(len(df_all ))"
   ]
  },
  {
   "cell_type": "code",
   "execution_count": null,
   "id": "b6fb1685",
   "metadata": {},
   "outputs": [],
   "source": [
    "df_all.groupby('label').count()"
   ]
  },
  {
   "cell_type": "code",
   "execution_count": null,
   "id": "1ce26349",
   "metadata": {},
   "outputs": [],
   "source": [
    "df_all = df_all.dropna().reset_index(drop = True)"
   ]
  },
  {
   "cell_type": "code",
   "execution_count": null,
   "id": "46e4cfed",
   "metadata": {},
   "outputs": [],
   "source": [
    "len(df_all)"
   ]
  },
  {
   "cell_type": "code",
   "execution_count": null,
   "id": "03e72eda",
   "metadata": {},
   "outputs": [],
   "source": [
    "df_all.groupby(['label', 'X-GENRE']).count()"
   ]
  },
  {
   "cell_type": "code",
   "execution_count": null,
   "id": "522d5674",
   "metadata": {},
   "outputs": [],
   "source": [
    "df_all.groupby(['label']).count()"
   ]
  },
  {
   "cell_type": "code",
   "execution_count": null,
   "id": "d7df59fe",
   "metadata": {},
   "outputs": [],
   "source": [
    "df_all.groupby(['X-GENRE']).count()"
   ]
  },
  {
   "cell_type": "code",
   "execution_count": null,
   "id": "1366b952",
   "metadata": {},
   "outputs": [],
   "source": [
    "df_all.loc[df_all['X-GENRE'] == 'Promotion']"
   ]
  },
  {
   "cell_type": "code",
   "execution_count": null,
   "id": "af3e5503",
   "metadata": {},
   "outputs": [],
   "source": [
    "df_all.sample(5)"
   ]
  },
  {
   "cell_type": "code",
   "execution_count": null,
   "id": "04d17249",
   "metadata": {},
   "outputs": [],
   "source": [
    "df_genre.loc[df_genre.Cluster_ID == '13104.0']"
   ]
  },
  {
   "cell_type": "code",
   "execution_count": null,
   "id": "d9325b5b",
   "metadata": {},
   "outputs": [],
   "source": [
    "df_genre.sample(10)"
   ]
  },
  {
   "cell_type": "code",
   "execution_count": null,
   "id": "e68263c6",
   "metadata": {},
   "outputs": [],
   "source": [
    "df_check = [74738,\n",
    "51730,\n",
    "59305,\n",
    "13784,\n",
    "11480]\n",
    "df_all[df_all.Cluster_ID.isin(df_check)][['Cluster_ID', 'Tweet_Text','label', 'X-GENRE']]"
   ]
  },
  {
   "cell_type": "code",
   "execution_count": null,
   "id": "61ac250b",
   "metadata": {},
   "outputs": [],
   "source": [
    "df_check = [17558, 27346, 112438, 40732, 27346, 129331, 3768,23463, 89168, 88626, 71101,29962,71798]\n",
    "df_all[df_all.Cluster_ID.isin(df_check)][['Cluster_ID', 'Tweet_Text','label', 'X-GENRE']]"
   ]
  },
  {
   "cell_type": "code",
   "execution_count": null,
   "id": "b2058d59",
   "metadata": {},
   "outputs": [],
   "source": [
    "df_genre.loc[df_genre.Cluster_ID == 37923]"
   ]
  },
  {
   "cell_type": "code",
   "execution_count": null,
   "id": "e8cc5315",
   "metadata": {},
   "outputs": [],
   "source": [
    "df_all.loc[df_all.Cluster_ID == 37923]"
   ]
  },
  {
   "cell_type": "code",
   "execution_count": null,
   "id": "2f8e6b17",
   "metadata": {},
   "outputs": [],
   "source": [
    "df_all"
   ]
  },
  {
   "cell_type": "code",
   "execution_count": null,
   "id": "ffec9672",
   "metadata": {},
   "outputs": [],
   "source": [
    "df_all.loc[df_all.label == 'negative'].describe()"
   ]
  },
  {
   "cell_type": "code",
   "execution_count": null,
   "id": "2645ed21",
   "metadata": {},
   "outputs": [],
   "source": [
    "df_nes = df_all[['Cluster_ID', 'label', 'score', 'X-GENRE']]"
   ]
  },
  {
   "cell_type": "code",
   "execution_count": null,
   "id": "6201f1c0",
   "metadata": {},
   "outputs": [],
   "source": [
    "df_nes.Cluster_ID.astype('int')"
   ]
  },
  {
   "cell_type": "code",
   "execution_count": null,
   "id": "69d9b34b",
   "metadata": {},
   "outputs": [],
   "source": [
    "df_nes.Cluster_ID = df_nes.Cluster_ID.astype('int')"
   ]
  },
  {
   "cell_type": "code",
   "execution_count": null,
   "id": "002ce956",
   "metadata": {},
   "outputs": [],
   "source": [
    "df_nes.to_csv('Sentiment_Genre.csv')"
   ]
  },
  {
   "cell_type": "code",
   "execution_count": null,
   "id": "a9a92ca0",
   "metadata": {},
   "outputs": [],
   "source": [
    "df_nes"
   ]
  },
  {
   "cell_type": "code",
   "execution_count": null,
   "id": "095c5604",
   "metadata": {},
   "outputs": [],
   "source": [
    "df_all.loc[df_all.Cluster_ID == 29962]"
   ]
  }
 ],
 "metadata": {
  "kernelspec": {
   "display_name": "Python 3 (ipykernel)",
   "language": "python",
   "name": "python3"
  },
  "language_info": {
   "codemirror_mode": {
    "name": "ipython",
    "version": 3
   },
   "file_extension": ".py",
   "mimetype": "text/x-python",
   "name": "python",
   "nbconvert_exporter": "python",
   "pygments_lexer": "ipython3",
   "version": "3.9.13"
  }
 },
 "nbformat": 4,
 "nbformat_minor": 5
}
