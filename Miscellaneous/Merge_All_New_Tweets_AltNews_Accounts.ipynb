{
 "cells": [
  {
   "cell_type": "code",
   "execution_count": null,
   "id": "8343bc1f",
   "metadata": {},
   "outputs": [],
   "source": [
    "import os\n",
    "import glob\n",
    "import pandas as pd"
   ]
  },
  {
   "cell_type": "code",
   "execution_count": null,
   "id": "2a96659d",
   "metadata": {},
   "outputs": [],
   "source": [
    "import pandas as pd\n",
    "import glob\n",
    "import os\n",
    "from concurrent.futures import ThreadPoolExecutor\n",
    "\n",
    "directory = '/disk/mnemo/users/randomuser/SBERT All Embedding/Group Tweets/'\n",
    "\n",
    "csv_files = glob.glob(os.path.join(directory, '**', '*.csv'), recursive=True)\n",
    "\n",
    "def read_csv_file(file):\n",
    "    try:\n",
    "        if os.path.getsize(file) > 0:\n",
    "            return pd.read_csv(file, dtype = str)\n",
    "        else:\n",
    "            return None\n",
    "    except pd.errors.EmptyDataError:\n",
    "        return None\n",
    "\n",
    "with ThreadPoolExecutor() as executor:\n",
    "    dataframes = list(executor.map(read_csv_file, csv_files))\n",
    "\n",
    "dataframes = [df for df in dataframes if df is not None]\n",
    "\n",
    "if dataframes:\n",
    "    merged_df1 = pd.concat(dataframes, ignore_index=True)\n",
    "    \n",
    "else:\n",
    "    print('No valid CSV files to merge.')\n"
   ]
  },
  {
   "cell_type": "code",
   "execution_count": null,
   "id": "907db406",
   "metadata": {},
   "outputs": [],
   "source": [
    "import pandas as pd\n",
    "import glob\n",
    "import os\n",
    "from concurrent.futures import ThreadPoolExecutor\n",
    "\n",
    "directory = '/disk/mnemo/users/randomuser/SBERT All Embedding/Monitor All Account/'\n",
    "\n",
    "csv_files = glob.glob(os.path.join(directory, '**', '*.csv'), recursive=True)\n",
    "\n",
    "def read_csv_file(file):\n",
    "    try:\n",
    "        if os.path.getsize(file) > 0:\n",
    "            return pd.read_csv(file, dtype = str)\n",
    "        else:\n",
    "            return None\n",
    "    except pd.errors.EmptyDataError:\n",
    "        return None\n",
    "\n",
    "with ThreadPoolExecutor() as executor:\n",
    "    dataframes = list(executor.map(read_csv_file, csv_files))\n",
    "\n",
    "dataframes = [df for df in dataframes if df is not None]\n",
    "\n",
    "if dataframes:\n",
    "    merged_df2 = pd.concat(dataframes, ignore_index=True)\n",
    "    \n",
    "else:\n",
    "    print('No valid CSV files to merge.')\n"
   ]
  },
  {
   "cell_type": "code",
   "execution_count": null,
   "id": "b571fdd2",
   "metadata": {},
   "outputs": [],
   "source": [
    "merged_df2.to_csv('All_Account_Tweet_July_October_2024.csv', index = False)"
   ]
  },
  {
   "cell_type": "code",
   "execution_count": null,
   "id": "3e352bba",
   "metadata": {},
   "outputs": [],
   "source": [
    "merged_df2"
   ]
  },
  {
   "cell_type": "code",
   "execution_count": null,
   "id": "78872786",
   "metadata": {},
   "outputs": [],
   "source": [
    "df_final = pd.concat([merged_df1, merged_df2])"
   ]
  },
  {
   "cell_type": "code",
   "execution_count": null,
   "id": "f9fa0e64",
   "metadata": {},
   "outputs": [],
   "source": [
    "df_final_without_duplicates = df_final.drop_duplicates('Tweet_ID')"
   ]
  },
  {
   "cell_type": "code",
   "execution_count": null,
   "id": "3fd38cc9",
   "metadata": {},
   "outputs": [],
   "source": [
    "df_final_without_duplicates = df_final_without_duplicates.reset_index(drop = True)"
   ]
  },
  {
   "cell_type": "code",
   "execution_count": null,
   "id": "e2c05303",
   "metadata": {},
   "outputs": [],
   "source": [
    "df_final_without_duplicates.columns"
   ]
  },
  {
   "cell_type": "code",
   "execution_count": null,
   "id": "8f03a84e",
   "metadata": {},
   "outputs": [],
   "source": [
    "df_final_without_duplicates.sort_values('Retweet_ID')"
   ]
  },
  {
   "cell_type": "code",
   "execution_count": null,
   "id": "f9d49c30",
   "metadata": {},
   "outputs": [],
   "source": [
    "df_final_without_duplicates.Retweet_ID.astype('str').sort_values()"
   ]
  },
  {
   "cell_type": "code",
   "execution_count": null,
   "id": "08241bcd",
   "metadata": {},
   "outputs": [],
   "source": [
    "df_final_without_duplicates['is_retweet'] = df_final_without_duplicates['text'].str[:4] == 'RT @'"
   ]
  },
  {
   "cell_type": "code",
   "execution_count": null,
   "id": "112193c5",
   "metadata": {},
   "outputs": [],
   "source": [
    "df_final_without_duplicates.to_csv('New_Alt_Account_Post_Updated.csv', index = False)"
   ]
  },
  {
   "cell_type": "code",
   "execution_count": null,
   "id": "e9df4958",
   "metadata": {},
   "outputs": [],
   "source": [
    "df_group_pol = pd.read_csv('Refined_Community_with_Political_Label_New_Updated.csv')"
   ]
  },
  {
   "cell_type": "code",
   "execution_count": null,
   "id": "d5931ff5",
   "metadata": {},
   "outputs": [],
   "source": [
    "df_group_pol.User_ID = df_group_pol.User_ID.astype('str').tolist()"
   ]
  },
  {
   "cell_type": "code",
   "execution_count": null,
   "id": "4887f7d6",
   "metadata": {},
   "outputs": [],
   "source": [
    "df_final_without_duplicates.columns"
   ]
  },
  {
   "cell_type": "code",
   "execution_count": null,
   "id": "552032f7",
   "metadata": {},
   "outputs": [],
   "source": [
    "df_tweet_group_all_2024 = df_final_without_duplicates[df_final_without_duplicates.User_ID.isin(df_group_pol.User_ID.astype('str').tolist())]#.to_csv('2024_Tweets_Group.csv', index = False)"
   ]
  },
  {
   "cell_type": "code",
   "execution_count": null,
   "id": "ccd54c4e",
   "metadata": {},
   "outputs": [],
   "source": [
    "interest_community = [0, 1, 4, 5, 6, 8,13, 14, 15, 17, 18, 19, 29, 42]"
   ]
  },
  {
   "cell_type": "code",
   "execution_count": null,
   "id": "beecffe7",
   "metadata": {},
   "outputs": [],
   "source": [
    "uuid = df_group_pol[df_group_pol.Community_ID.isin(interest_community)].User_ID.tolist()"
   ]
  },
  {
   "cell_type": "code",
   "execution_count": null,
   "id": "9a3d9807",
   "metadata": {},
   "outputs": [],
   "source": [
    "len(interest_community)"
   ]
  },
  {
   "cell_type": "code",
   "execution_count": null,
   "id": "c45b3279",
   "metadata": {},
   "outputs": [],
   "source": []
  },
  {
   "cell_type": "code",
   "execution_count": null,
   "id": "fb80fc8b",
   "metadata": {},
   "outputs": [],
   "source": [
    "df_only_tweet_grp = df_tweet_group_all_2024.loc[df_tweet_group_all_2024.is_retweet == False]"
   ]
  },
  {
   "cell_type": "code",
   "execution_count": null,
   "id": "a13ce74b",
   "metadata": {},
   "outputs": [],
   "source": [
    "df_only_tweet_grp[df_only_tweet_grp.User_ID.isin(uuid)]"
   ]
  },
  {
   "cell_type": "code",
   "execution_count": null,
   "id": "a199790f",
   "metadata": {},
   "outputs": [],
   "source": [
    "df_updated_group = df_group_pol[df_group_pol.Community_ID.isin(interest_community)].drop(columns = ['Party_Label','Predicted_PL_x','Party_Label3'])"
   ]
  },
  {
   "cell_type": "code",
   "execution_count": null,
   "id": "3e8471db",
   "metadata": {},
   "outputs": [],
   "source": [
    "df_updated_group.to_csv('Updated_Group_2024.csv', index = False)"
   ]
  },
  {
   "cell_type": "code",
   "execution_count": null,
   "id": "3cc23597",
   "metadata": {},
   "outputs": [],
   "source": []
  }
 ],
 "metadata": {
  "kernelspec": {
   "display_name": "Python 3 (ipykernel)",
   "language": "python",
   "name": "python3"
  },
  "language_info": {
   "codemirror_mode": {
    "name": "ipython",
    "version": 3
   },
   "file_extension": ".py",
   "mimetype": "text/x-python",
   "name": "python",
   "nbconvert_exporter": "python",
   "pygments_lexer": "ipython3",
   "version": "3.9.13"
  }
 },
 "nbformat": 4,
 "nbformat_minor": 5
}
