{
 "cells": [
  {
   "cell_type": "code",
   "execution_count": null,
   "id": "93ba1ee8",
   "metadata": {},
   "outputs": [],
   "source": [
    "import pandas as pd\n",
    "from collections import Counter\n",
    "import re\n",
    "pd.set_option('display.max_colwidth', None)\n",
    "import tweepy\n",
    "import pickle\n",
    "import time\n",
    "pd.set_option('display.max_columns', None)  \n",
    "import matplotlib.pyplot as plt\n",
    "import numpy as np\n",
    "%matplotlib inline\n",
    "import matplotlib\n",
    "import matplotlib as mpl\n",
    "import matplotlib.pyplot as plt; plt.rcdefaults()\n",
    "import matplotlib.font_manager as font_manager\n",
    "import os\n",
    "from wordcloud import WordCloud, STOPWORDS\n",
    "import gc\n",
    "gc.collect()"
   ]
  },
  {
   "cell_type": "code",
   "execution_count": null,
   "id": "27e83e95",
   "metadata": {},
   "outputs": [],
   "source": []
  },
  {
   "cell_type": "code",
   "execution_count": null,
   "id": "6fdc1c0b",
   "metadata": {},
   "outputs": [],
   "source": []
  },
  {
   "cell_type": "code",
   "execution_count": null,
   "id": "a460b85b",
   "metadata": {},
   "outputs": [],
   "source": [
    "df_fake_tweet = pd.read_csv('U:\\Twitter Research\\Fake News Scraping\\Fake Accounts\\Fake_Account_Tweet_All.csv')"
   ]
  },
  {
   "cell_type": "code",
   "execution_count": null,
   "id": "c7728797",
   "metadata": {},
   "outputs": [],
   "source": [
    "df_fake_basic = pd.read_csv('U:\\Twitter Research\\Fake News Scraping\\Basic_Twitter_Info\\Fake_Basic_Information.csv')"
   ]
  },
  {
   "cell_type": "code",
   "execution_count": null,
   "id": "2bce32cc",
   "metadata": {},
   "outputs": [],
   "source": []
  },
  {
   "cell_type": "code",
   "execution_count": null,
   "id": "02ea6fc6",
   "metadata": {},
   "outputs": [],
   "source": [
    "df_fake_bot =  pd.read_csv('U:\\Twitter Research\\Fake News Scraping\\Botometer\\Fake_Botometer_Score_All.csv')"
   ]
  },
  {
   "cell_type": "code",
   "execution_count": null,
   "id": "0545a330",
   "metadata": {},
   "outputs": [],
   "source": [
    "df_fake_basic = df_fake_basic.drop(columns = ['Unnamed: 0', 'Unnamed: 0.1']).rename(columns = {'User ID':'User_ID'})"
   ]
  },
  {
   "cell_type": "code",
   "execution_count": null,
   "id": "08147f45",
   "metadata": {},
   "outputs": [],
   "source": [
    "df_fake_tweet = df_fake_tweet.drop(columns = ['Unnamed: 0'])"
   ]
  },
  {
   "cell_type": "code",
   "execution_count": null,
   "id": "e3c09703",
   "metadata": {},
   "outputs": [],
   "source": [
    "df_fake_tweet_unique = df_fake_tweet.drop_duplicates('Tweet_ID', keep = 'first').reset_index(drop = True)\n",
    "print(len(df_fake_tweet_unique))"
   ]
  },
  {
   "cell_type": "code",
   "execution_count": null,
   "id": "212c1540",
   "metadata": {},
   "outputs": [],
   "source": [
    "df_fake_tweet_unique = df_fake_tweet.drop_duplicates('Tweet_ID').reset_index(drop = True)\n",
    "print(len(df_fake_tweet_unique))"
   ]
  },
  {
   "cell_type": "code",
   "execution_count": null,
   "id": "0491eeed",
   "metadata": {},
   "outputs": [],
   "source": [
    "df_fake_bot = df_fake_bot.drop(columns = ['Unnamed: 0']).rename(columns = {'UserID':'User_ID'})"
   ]
  },
  {
   "cell_type": "code",
   "execution_count": null,
   "id": "2357983b",
   "metadata": {},
   "outputs": [],
   "source": [
    "df_fake_number = pd.read_csv('U:\\Twitter Research\\Fake News Scraping\\Account_wise_number_of_fake_news.csv').drop(columns = ['Unnamed: 0'])"
   ]
  },
  {
   "cell_type": "code",
   "execution_count": null,
   "id": "dfad1368",
   "metadata": {},
   "outputs": [],
   "source": [
    "df_fake_number"
   ]
  },
  {
   "cell_type": "code",
   "execution_count": null,
   "id": "ef3dcbd2",
   "metadata": {},
   "outputs": [],
   "source": [
    "df_only_tweet_unique = df_fake_tweet_unique.loc[df_fake_tweet_unique.Retweet == False]"
   ]
  },
  {
   "cell_type": "code",
   "execution_count": null,
   "id": "b20a367f",
   "metadata": {},
   "outputs": [],
   "source": [
    "df_only_tweet_unique.loc[df_only_tweet_unique.Tweet_Text == ze.loc[ze.Tweet_ID >= 2].Tweet_Text[2]].User_ScreenName"
   ]
  },
  {
   "cell_type": "code",
   "execution_count": null,
   "id": "e4af603b",
   "metadata": {},
   "outputs": [],
   "source": [
    "ze= df_only_tweet_unique.groupby('Tweet_Text').count().sort_values(by = 'Tweet_ID', ascending = False).reset_index()"
   ]
  },
  {
   "cell_type": "code",
   "execution_count": null,
   "id": "c9fe9621",
   "metadata": {},
   "outputs": [],
   "source": [
    "ze = ze.loc[ze.Tweet_ID >= 2]"
   ]
  },
  {
   "cell_type": "code",
   "execution_count": null,
   "id": "5c4f333c",
   "metadata": {},
   "outputs": [],
   "source": [
    "zexx = df_only_tweet_unique[df_only_tweet_unique.duplicated(['Tweet_Text'], keep = False)].sort_values('Tweet_Text')"
   ]
  },
  {
   "cell_type": "code",
   "execution_count": null,
   "id": "4ed385a2",
   "metadata": {},
   "outputs": [],
   "source": [
    "zexx_unique = zexx[['Tweet_ID', 'Tweet_Text', 'User_ID', 'User_ScreenName', 'Tweet_Time']].drop_duplicates(['Tweet_Text', 'User_ID'])"
   ]
  },
  {
   "cell_type": "code",
   "execution_count": null,
   "id": "6fea2299",
   "metadata": {},
   "outputs": [],
   "source": [
    "zexx_unique_duplicated = zexx_unique[zexx_unique.duplicated(['Tweet_Text'], keep = False)].sort_values('Tweet_Text')"
   ]
  },
  {
   "cell_type": "code",
   "execution_count": null,
   "id": "e85e7c7a",
   "metadata": {},
   "outputs": [],
   "source": [
    "rq = zexx_unique_duplicated.groupby('User_ScreenName').count().sort_values(by = 'Tweet_ID', ascending = False)\n"
   ]
  },
  {
   "cell_type": "code",
   "execution_count": null,
   "id": "1b2f8c1e",
   "metadata": {},
   "outputs": [],
   "source": [
    "rq.loc[rq.Tweet_ID > 500]"
   ]
  },
  {
   "cell_type": "code",
   "execution_count": null,
   "id": "2def2848",
   "metadata": {},
   "outputs": [],
   "source": [
    "len(zexx_unique_duplicated.Tweet_Text.unique()[0])"
   ]
  },
  {
   "cell_type": "code",
   "execution_count": null,
   "id": "7ca22e86",
   "metadata": {},
   "outputs": [],
   "source": [
    "only_dup_tweet = zexx_unique_duplicated.Tweet_Text.unique()"
   ]
  },
  {
   "cell_type": "code",
   "execution_count": null,
   "id": "4482878d",
   "metadata": {},
   "outputs": [],
   "source": [
    "zexx_unique_duplicated = zexx_unique_duplicated.reset_index(drop = True)"
   ]
  },
  {
   "cell_type": "code",
   "execution_count": null,
   "id": "f4cb2f31",
   "metadata": {},
   "outputs": [],
   "source": [
    "zexx_unique_duplicated['Tweet_Number'] = 0"
   ]
  },
  {
   "cell_type": "code",
   "execution_count": null,
   "id": "4becd6d5",
   "metadata": {},
   "outputs": [],
   "source": [
    "zexx_unique_duplicated.loc[zexx_unique_duplicated.Tweet_Text == only_dup_tweet[0]]"
   ]
  },
  {
   "cell_type": "code",
   "execution_count": null,
   "id": "6e1c686b",
   "metadata": {},
   "outputs": [],
   "source": [
    "for i in range(0, len(only_dup_tweet)):\n",
    "    if i == 0:\n",
    "        df_final_copycat_list = zexx_unique_duplicated.loc[zexx_unique_duplicated.Tweet_Text == only_dup_tweet[i]]\n",
    "        continue\n",
    "    df_temp = zexx_unique_duplicated.loc[zexx_unique_duplicated.Tweet_Text == only_dup_tweet[i]]\n",
    "    df_temp.Tweet_Number = i\n",
    "    df_final_copycat_list = pd.concat([df_final_copycat_list,df_temp])"
   ]
  },
  {
   "cell_type": "code",
   "execution_count": null,
   "id": "bc9db3fa",
   "metadata": {},
   "outputs": [],
   "source": [
    "df_final_copycat_list.loc[df_final_copycat_list]"
   ]
  },
  {
   "cell_type": "code",
   "execution_count": null,
   "id": "c6a7e8ce",
   "metadata": {},
   "outputs": [],
   "source": [
    "df_final_copycat_list.to_csv('Copycat_Accounts.csv')"
   ]
  },
  {
   "cell_type": "code",
   "execution_count": null,
   "id": "7cc0f49c",
   "metadata": {},
   "outputs": [],
   "source": []
  },
  {
   "cell_type": "code",
   "execution_count": null,
   "id": "650838bb",
   "metadata": {},
   "outputs": [],
   "source": []
  },
  {
   "cell_type": "code",
   "execution_count": null,
   "id": "dd6515bd",
   "metadata": {},
   "outputs": [],
   "source": []
  },
  {
   "cell_type": "code",
   "execution_count": null,
   "id": "b48e8b5e",
   "metadata": {},
   "outputs": [],
   "source": [
    "len(ze)"
   ]
  },
  {
   "cell_type": "code",
   "execution_count": null,
   "id": "0e7796ed",
   "metadata": {},
   "outputs": [],
   "source": [
    "df_copycat = df_only_tweet_unique.loc[df_only_tweet_unique.Tweet_Text == ze['Tweet_Text'][0]][['Tweet_ID','User_ID', 'Tweet_Text']].drop_duplicates('User_ID').reset_index(drop = True)"
   ]
  },
  {
   "cell_type": "code",
   "execution_count": null,
   "id": "7bddee6d",
   "metadata": {},
   "outputs": [],
   "source": []
  },
  {
   "cell_type": "code",
   "execution_count": null,
   "id": "55626155",
   "metadata": {},
   "outputs": [],
   "source": []
  },
  {
   "cell_type": "code",
   "execution_count": null,
   "id": "6906fabe",
   "metadata": {},
   "outputs": [],
   "source": []
  },
  {
   "cell_type": "code",
   "execution_count": null,
   "id": "2552c976",
   "metadata": {},
   "outputs": [],
   "source": []
  },
  {
   "cell_type": "code",
   "execution_count": null,
   "id": "eb5ddb9d",
   "metadata": {},
   "outputs": [],
   "source": []
  },
  {
   "cell_type": "code",
   "execution_count": null,
   "id": "11c4570e",
   "metadata": {},
   "outputs": [],
   "source": []
  },
  {
   "cell_type": "code",
   "execution_count": null,
   "id": "27ced7ce",
   "metadata": {},
   "outputs": [],
   "source": []
  },
  {
   "cell_type": "code",
   "execution_count": null,
   "id": "864b2028",
   "metadata": {},
   "outputs": [],
   "source": [
    "pd.concat([df_copycat, df_copycat_temp]).reset_index(drop = True)"
   ]
  },
  {
   "cell_type": "code",
   "execution_count": null,
   "id": "e8f9b586",
   "metadata": {},
   "outputs": [],
   "source": []
  },
  {
   "cell_type": "code",
   "execution_count": null,
   "id": "dbb7f433",
   "metadata": {},
   "outputs": [],
   "source": [
    "df_fake_tweet_unique['Engagement_Count'] = df_fake_tweet_unique['Retweet_Count'] + df_fake_tweet_unique['Favorite_Count']"
   ]
  },
  {
   "cell_type": "code",
   "execution_count": null,
   "id": "ec4f3f27",
   "metadata": {},
   "outputs": [],
   "source": [
    "df_tweet_src = df_fake_tweet_unique.groupby('Tweet_Source').count().reset_index(drop = False).sort_values(by = 'Tweet_ID', ascending = False)"
   ]
  },
  {
   "cell_type": "code",
   "execution_count": null,
   "id": "4bae6a6e",
   "metadata": {},
   "outputs": [],
   "source": [
    "df_fake_tweet_unique.loc[df_fake_tweet_unique.Tweet_Source == 'NationBuilder']"
   ]
  },
  {
   "cell_type": "code",
   "execution_count": null,
   "id": "858247e0",
   "metadata": {},
   "outputs": [],
   "source": [
    "df_fake_tweet_unique.loc[df_fake_tweet_unique.User_ScreenName == 'blackboxsports'].groupby('Tweet_Source').count()"
   ]
  },
  {
   "cell_type": "code",
   "execution_count": null,
   "id": "f53586c1",
   "metadata": {},
   "outputs": [],
   "source": [
    "df_tweet_src.Tweet_Source.unique()"
   ]
  },
  {
   "cell_type": "code",
   "execution_count": null,
   "id": "3bba39e2",
   "metadata": {},
   "outputs": [],
   "source": []
  },
  {
   "cell_type": "code",
   "execution_count": null,
   "id": "9be31df9",
   "metadata": {},
   "outputs": [],
   "source": []
  },
  {
   "cell_type": "code",
   "execution_count": null,
   "id": "7f02bfe4",
   "metadata": {},
   "outputs": [],
   "source": [
    "\n"
   ]
  },
  {
   "cell_type": "code",
   "execution_count": null,
   "id": "68bc7165",
   "metadata": {},
   "outputs": [],
   "source": []
  },
  {
   "cell_type": "code",
   "execution_count": null,
   "id": "ac77f623",
   "metadata": {},
   "outputs": [],
   "source": [
    "print(len(df_fake_basic))\n",
    "print(len(df_fake_bot))\n",
    "print(len(df_fake_tweet))\n",
    "print(len(df_fake_tweet.groupby('User_ID').count()))"
   ]
  },
  {
   "cell_type": "code",
   "execution_count": null,
   "id": "6db38e0a",
   "metadata": {},
   "outputs": [],
   "source": []
  },
  {
   "cell_type": "markdown",
   "id": "28613d95",
   "metadata": {},
   "source": [
    "# Tweet Pre-processing"
   ]
  },
  {
   "cell_type": "code",
   "execution_count": null,
   "id": "a4e5fe92",
   "metadata": {},
   "outputs": [],
   "source": [
    "df_fake_tweet_unique['Retweet'] = True"
   ]
  },
  {
   "cell_type": "code",
   "execution_count": null,
   "id": "894e068b",
   "metadata": {},
   "outputs": [],
   "source": [
    "df_fake_tweet_unique.loc[df_fake_tweet_unique['Retweet_Text'].isnull() == True, 'Retweet'] = False"
   ]
  },
  {
   "cell_type": "code",
   "execution_count": null,
   "id": "5f3641f8",
   "metadata": {},
   "outputs": [],
   "source": [
    "df_fake_tweet_unique.loc[df_fake_tweet_unique['Retweet'] == True].groupby('User_ID').sum()"
   ]
  },
  {
   "cell_type": "code",
   "execution_count": null,
   "id": "156af382",
   "metadata": {},
   "outputs": [],
   "source": [
    "df_fake_tweet_unique.loc[df_fake_tweet_unique['Retweet'] == True].groupby('User_ID').count()"
   ]
  },
  {
   "cell_type": "code",
   "execution_count": null,
   "id": "2c079f65",
   "metadata": {},
   "outputs": [],
   "source": []
  },
  {
   "cell_type": "code",
   "execution_count": null,
   "id": "49b4751a",
   "metadata": {},
   "outputs": [],
   "source": [
    "df_fake_tweet_unique_post = df_fake_tweet_unique.groupby('User_ID').count().reset_index()"
   ]
  },
  {
   "cell_type": "code",
   "execution_count": null,
   "id": "94d2aad7",
   "metadata": {},
   "outputs": [],
   "source": []
  },
  {
   "cell_type": "code",
   "execution_count": null,
   "id": "b62a006a",
   "metadata": {},
   "outputs": [],
   "source": [
    "df_fake_tweet_unique_post = df_fake_tweet_unique_post[['User_ID','Tweet_ID', 'Retweet_Text']].rename(columns={'Tweet_ID':'Total_Post_Collected', 'Retweet_Text':'Total_Retweet'})"
   ]
  },
  {
   "cell_type": "code",
   "execution_count": null,
   "id": "a23f4e5c",
   "metadata": {},
   "outputs": [],
   "source": [
    "df_fake_tweet_unique_post['Total_Tweet'] = df_fake_tweet_unique_post['Total_Post_Collected'] - df_fake_tweet_unique_post['Total_Retweet']"
   ]
  },
  {
   "cell_type": "code",
   "execution_count": null,
   "id": "e3a5e3e9",
   "metadata": {},
   "outputs": [],
   "source": [
    "df_fake_tweet_unique_post['%_of_Retweet'] =(df_fake_tweet_unique_post['Total_Retweet']/df_fake_tweet_unique_post['Total_Post_Collected']) * 100\n",
    "df_fake_tweet_unique_post['%_of_Tweet'] =(df_fake_tweet_unique_post['Total_Tweet']/df_fake_tweet_unique_post['Total_Post_Collected']) * 100"
   ]
  },
  {
   "cell_type": "code",
   "execution_count": null,
   "id": "c020014c",
   "metadata": {},
   "outputs": [],
   "source": [
    "df_fake_tweet_unique_post=df_fake_tweet_unique_post.rename(columns=\n",
    "                                                   {'Total_Post_Collected':'Total_Post_Collected', \n",
    "                                                    'Total_Retweet':'Total_Retweet_Collected',\n",
    "                                                    'Total_Tweet': 'Total_Tweet_Collected', \n",
    "                                                    '%_of_Retweet' : '%_of_Retweet_Collected',\n",
    "                                                    '%_of_Tweet':'%_of_Tweet_Collected'})"
   ]
  },
  {
   "cell_type": "code",
   "execution_count": null,
   "id": "635f0bf1",
   "metadata": {},
   "outputs": [],
   "source": []
  },
  {
   "cell_type": "code",
   "execution_count": null,
   "id": "af930cb2",
   "metadata": {},
   "outputs": [],
   "source": [
    "df_fake_tweet_unique_engagement = df_fake_tweet_unique.groupby('User_ID').sum().reset_index()[['User_ID', 'Total_Hashtags', 'Retweet_Count', 'Favorite_Count']]"
   ]
  },
  {
   "cell_type": "code",
   "execution_count": null,
   "id": "d0646ff7",
   "metadata": {},
   "outputs": [],
   "source": [
    "df_fake_tweet_unique_post_and_engagement = pd.merge(df_fake_tweet_unique_post, df_fake_tweet_unique_engagement, on = 'User_ID')"
   ]
  },
  {
   "cell_type": "code",
   "execution_count": null,
   "id": "d6569fea",
   "metadata": {},
   "outputs": [],
   "source": []
  },
  {
   "cell_type": "code",
   "execution_count": null,
   "id": "f621ea35",
   "metadata": {},
   "outputs": [],
   "source": [
    "df_fake_tweet_unique_twt = df_fake_tweet_unique.loc[df_fake_tweet_unique.Retweet == False]\n",
    "df_fake_tweet_unique_rtwt = df_fake_tweet_unique.loc[df_fake_tweet_unique.Retweet == True]"
   ]
  },
  {
   "cell_type": "code",
   "execution_count": null,
   "id": "a44786c8",
   "metadata": {},
   "outputs": [],
   "source": []
  },
  {
   "cell_type": "code",
   "execution_count": null,
   "id": "69cb6652",
   "metadata": {},
   "outputs": [],
   "source": [
    "df_fake_tweet_unique_twt_grp = df_fake_tweet_unique_twt.groupby('User_ID').sum().reset_index().rename(columns = {'Total_Hashtags':'Total_Hashtags_in_Tweets',\n",
    "                                                                                 'Retweet_Count': 'Retweet_Count_in_Tweets',\n",
    "                                                                                 'Favorite_Count': 'Favorite_Count_in_Tweets'}\n",
    "                                                                      ).drop(columns = ['Tweet_ID', 'Retweet'])\n",
    "df_fake_tweet_unique_rtwt_grp = df_fake_tweet_unique_rtwt.groupby('User_ID').sum().reset_index().rename(columns = {'Total_Hashtags':'Total_Hashtags_in_Retweets',\n",
    "                                                                                 'Retweet_Count': 'Retweet_Count_in_Retweets',\n",
    "                                                                                 'Favorite_Count': 'Favorite_Count_in_Retweets'}\n",
    "                                                                      ).drop(columns = ['Tweet_ID', 'Retweet'])"
   ]
  },
  {
   "cell_type": "code",
   "execution_count": null,
   "id": "9965f97d",
   "metadata": {},
   "outputs": [],
   "source": [
    "df_fake_tweet_unique_twt_grp"
   ]
  },
  {
   "cell_type": "code",
   "execution_count": null,
   "id": "d368c216",
   "metadata": {},
   "outputs": [],
   "source": []
  },
  {
   "cell_type": "code",
   "execution_count": null,
   "id": "a0e0d620",
   "metadata": {},
   "outputs": [],
   "source": [
    "df_fake_tweet_unique_post_and_engagement = pd.merge(df_fake_tweet_unique_post, df_fake_tweet_unique_engagement, on = 'User_ID')"
   ]
  },
  {
   "cell_type": "code",
   "execution_count": null,
   "id": "a78a19ea",
   "metadata": {},
   "outputs": [],
   "source": [
    "df_fake_tweet_unique_post_and_engagement_twt = pd.merge(df_fake_tweet_unique_post_and_engagement, df_fake_tweet_unique_twt_grp, on = 'User_ID', how = 'outer')"
   ]
  },
  {
   "cell_type": "code",
   "execution_count": null,
   "id": "31fcdac3",
   "metadata": {},
   "outputs": [],
   "source": [
    "df_fake_tweet_unique_post_and_engagement_rtwt= pd.merge(df_fake_tweet_unique_post_and_engagement, df_fake_tweet_unique_rtwt_grp, on = 'User_ID', how = 'outer')"
   ]
  },
  {
   "cell_type": "code",
   "execution_count": null,
   "id": "33222a13",
   "metadata": {},
   "outputs": [],
   "source": [
    "df_fake_tweet_unique_post_and_engagement_rtwt = df_fake_tweet_unique_post_and_engagement_rtwt[['User_ID', \n",
    "                                                                                              'Total_Hashtags_in_Retweets',\n",
    "                                                                                              'Retweet_Count_in_Retweets',\n",
    "                                                                                              'Favorite_Count_in_Retweets']]"
   ]
  },
  {
   "cell_type": "code",
   "execution_count": null,
   "id": "e2067830",
   "metadata": {},
   "outputs": [],
   "source": [
    "df_fake_tweet_unique_post_and_engagement_rtwt"
   ]
  },
  {
   "cell_type": "code",
   "execution_count": null,
   "id": "82734cae",
   "metadata": {},
   "outputs": [],
   "source": [
    "df_fake_tweet_unique_post_and_engagement=pd.merge(df_fake_tweet_unique_post_and_engagement_twt, df_fake_tweet_unique_post_and_engagement_rtwt, on = 'User_ID')"
   ]
  },
  {
   "cell_type": "code",
   "execution_count": null,
   "id": "459ce883",
   "metadata": {},
   "outputs": [],
   "source": [
    "df_fake_basic.columns"
   ]
  },
  {
   "cell_type": "markdown",
   "id": "3cd07d6b",
   "metadata": {},
   "source": [
    "# Account Preprocessing"
   ]
  },
  {
   "cell_type": "code",
   "execution_count": null,
   "id": "bf1eaf8a",
   "metadata": {},
   "outputs": [],
   "source": [
    "df_fake_basic_info = df_fake_basic[['User_ID', 'UserName', 'Screen Name', 'UserLocation', 'UserDescription',\n",
    "                                   'UserURL','UserFollowers', 'UserFriends', 'UserCreated','UserFavoriteCount',\n",
    "                                    'UserVerified','TotalStatus','UserLanguage','UserLastStatus','UserProtected',\n",
    "                                    'UserProfileLink','UserCreated_Date','AccountAgeinDays','AveragePosts','AverageFavoriteCount' ]]"
   ]
  },
  {
   "cell_type": "code",
   "execution_count": null,
   "id": "46cad791",
   "metadata": {},
   "outputs": [],
   "source": [
    "df_fake_basic_info = df_fake_basic_info.rename(columns = {'Screen Name' : 'ScreenName'})"
   ]
  },
  {
   "cell_type": "code",
   "execution_count": null,
   "id": "e79c5fac",
   "metadata": {},
   "outputs": [],
   "source": [
    "df_fake_basic_info"
   ]
  },
  {
   "cell_type": "code",
   "execution_count": null,
   "id": "07fb1fc9",
   "metadata": {},
   "outputs": [],
   "source": []
  },
  {
   "cell_type": "code",
   "execution_count": null,
   "id": "b2c83f86",
   "metadata": {},
   "outputs": [],
   "source": []
  },
  {
   "cell_type": "code",
   "execution_count": null,
   "id": "85cbd019",
   "metadata": {},
   "outputs": [],
   "source": []
  },
  {
   "cell_type": "code",
   "execution_count": null,
   "id": "6cd8d0ed",
   "metadata": {},
   "outputs": [],
   "source": []
  },
  {
   "cell_type": "code",
   "execution_count": null,
   "id": "25cfc5b4",
   "metadata": {},
   "outputs": [],
   "source": []
  },
  {
   "cell_type": "code",
   "execution_count": null,
   "id": "7ec37ae0",
   "metadata": {},
   "outputs": [],
   "source": []
  },
  {
   "cell_type": "markdown",
   "id": "20a6d2eb",
   "metadata": {},
   "source": [
    "# Merged Data"
   ]
  },
  {
   "cell_type": "code",
   "execution_count": null,
   "id": "d2eab5e4",
   "metadata": {},
   "outputs": [],
   "source": [
    "df_fake_basic_and_bot = pd.merge(df_fake_basic_info, df_fake_bot, on='User_ID')"
   ]
  },
  {
   "cell_type": "code",
   "execution_count": null,
   "id": "65238eff",
   "metadata": {},
   "outputs": [],
   "source": [
    "df_fake_basic_and_bot = df_fake_basic_and_bot.rename(columns = {'Screen Name': 'ScreenName'})"
   ]
  },
  {
   "cell_type": "code",
   "execution_count": null,
   "id": "38963624",
   "metadata": {},
   "outputs": [],
   "source": [
    "df_fake_number = df_fake_number.rename(columns = {'SC': 'ScreenName'})"
   ]
  },
  {
   "cell_type": "code",
   "execution_count": null,
   "id": "e1f0d3b2",
   "metadata": {},
   "outputs": [],
   "source": [
    "df_fake_number = df_fake_number.rename(columns = {'Fact_Check_Link': '#_of_Fake_Tweets'})"
   ]
  },
  {
   "cell_type": "code",
   "execution_count": null,
   "id": "c9d71951",
   "metadata": {},
   "outputs": [],
   "source": []
  },
  {
   "cell_type": "code",
   "execution_count": null,
   "id": "8a812b2d",
   "metadata": {},
   "outputs": [],
   "source": [
    "len(df_fake_basic_and_bot)"
   ]
  },
  {
   "cell_type": "code",
   "execution_count": null,
   "id": "17a49fc9",
   "metadata": {},
   "outputs": [],
   "source": [
    "len(pd.merge(df_fake_basic, df_fake_tweet_unique_post_and_engagement, on='User_ID'))"
   ]
  },
  {
   "cell_type": "code",
   "execution_count": null,
   "id": "5472154b",
   "metadata": {},
   "outputs": [],
   "source": [
    "len(pd.merge(df_fake_bot, df_fake_tweet_unique_post_and_engagement, on='User_ID'))"
   ]
  },
  {
   "cell_type": "code",
   "execution_count": null,
   "id": "7525f616",
   "metadata": {},
   "outputs": [],
   "source": [
    "df_fake_basic_bot_tweet=pd.merge(df_fake_basic_and_bot, df_fake_tweet_unique_post_and_engagement, on='User_ID')"
   ]
  },
  {
   "cell_type": "code",
   "execution_count": null,
   "id": "064f1058",
   "metadata": {},
   "outputs": [],
   "source": [
    "df_fake_basic_bot_tweet_x=df_fake_basic_bot_tweet\n",
    "df_fake_basic_bot_tweet_y=df_fake_basic_bot_tweet"
   ]
  },
  {
   "cell_type": "code",
   "execution_count": null,
   "id": "c77e8958",
   "metadata": {},
   "outputs": [],
   "source": []
  },
  {
   "cell_type": "code",
   "execution_count": null,
   "id": "92f2d992",
   "metadata": {},
   "outputs": [],
   "source": [
    "df_fake_basic_bot_tweet_x= df_fake_basic_bot_tweet_x.rename(columns = {'ScreenName_x':'ScreenName'})\n",
    "df_fake_basic_bot_tweet_y= df_fake_basic_bot_tweet_y.rename(columns = {'ScreenName_y':'ScreenName'})"
   ]
  },
  {
   "cell_type": "code",
   "execution_count": null,
   "id": "52844c4d",
   "metadata": {},
   "outputs": [],
   "source": [
    "df_fake_basic_bot_tweet_x['ScreenName'] = '@' + df_fake_basic_bot_tweet_x['ScreenName']"
   ]
  },
  {
   "cell_type": "code",
   "execution_count": null,
   "id": "61ebf1a8",
   "metadata": {},
   "outputs": [],
   "source": []
  },
  {
   "cell_type": "code",
   "execution_count": null,
   "id": "7d03866e",
   "metadata": {},
   "outputs": [],
   "source": [
    "df_fake_basic_bot_tweet_numberOfFake = pd.merge(df_fake_basic_bot_tweet_x, df_fake_number, on ='ScreenName')"
   ]
  },
  {
   "cell_type": "code",
   "execution_count": null,
   "id": "c08f0755",
   "metadata": {},
   "outputs": [],
   "source": [
    "df_fake_number"
   ]
  },
  {
   "cell_type": "code",
   "execution_count": null,
   "id": "5d6b056b",
   "metadata": {},
   "outputs": [],
   "source": [
    "df_fake_basic_bot_tweet_numberOfFake"
   ]
  },
  {
   "cell_type": "code",
   "execution_count": null,
   "id": "45233a7d",
   "metadata": {},
   "outputs": [],
   "source": [
    "df_all = df_fake_basic_bot_tweet_numberOfFake"
   ]
  },
  {
   "cell_type": "code",
   "execution_count": null,
   "id": "e219142b",
   "metadata": {},
   "outputs": [],
   "source": [
    "del df_fake_basic_bot_tweet_numberOfFake\n",
    "gc.collect()"
   ]
  },
  {
   "cell_type": "code",
   "execution_count": null,
   "id": "82c01282",
   "metadata": {},
   "outputs": [],
   "source": [
    "df_all.UserDescription"
   ]
  },
  {
   "cell_type": "code",
   "execution_count": null,
   "id": "7b6ca26c",
   "metadata": {},
   "outputs": [],
   "source": []
  },
  {
   "cell_type": "code",
   "execution_count": null,
   "id": "c70be90a",
   "metadata": {},
   "outputs": [],
   "source": []
  },
  {
   "cell_type": "code",
   "execution_count": null,
   "id": "c256c067",
   "metadata": {},
   "outputs": [],
   "source": []
  },
  {
   "cell_type": "markdown",
   "id": "3812a542",
   "metadata": {},
   "source": [
    "# Account Category"
   ]
  },
  {
   "cell_type": "code",
   "execution_count": null,
   "id": "59db60a8",
   "metadata": {},
   "outputs": [],
   "source": [
    "df_all['UserCreated_Date'] = pd.to_datetime(df_all['UserCreated_Date'])\n",
    "temp = df_all['AccountAgeinDays'].apply(np.ceil).apply(lambda x: pd.Timedelta(x, unit='D'))\n",
    "df_all['Data_Collection_Date'] = df_all['UserCreated_Date'] +temp\n"
   ]
  },
  {
   "cell_type": "code",
   "execution_count": null,
   "id": "7e6c5b50",
   "metadata": {},
   "outputs": [],
   "source": [
    "df_all.loc[df_all['Data_Collection_Date'] < '2022-08-22', 'Data_Collection_Date'] = '2022-08-22'"
   ]
  },
  {
   "cell_type": "code",
   "execution_count": null,
   "id": "6f7e74b5",
   "metadata": {},
   "outputs": [],
   "source": []
  },
  {
   "cell_type": "code",
   "execution_count": null,
   "id": "a7d77eb2",
   "metadata": {},
   "outputs": [],
   "source": [
    "df_all['UserLastStatus'] = pd.to_datetime(df_all['UserLastStatus'], utc = True)"
   ]
  },
  {
   "cell_type": "code",
   "execution_count": null,
   "id": "03d21bf9",
   "metadata": {},
   "outputs": [],
   "source": [
    "df_all['LastActiveTime'] = (pd.to_datetime(df_all['Data_Collection_Date'], utc = True) - df_all['UserLastStatus']).dt.days"
   ]
  },
  {
   "cell_type": "code",
   "execution_count": null,
   "id": "db8d6340",
   "metadata": {},
   "outputs": [],
   "source": [
    "df_all"
   ]
  },
  {
   "cell_type": "code",
   "execution_count": null,
   "id": "a567ea4f",
   "metadata": {},
   "outputs": [],
   "source": [
    "df_all.loc[df_all['LastActiveTime'] < 0, 'LastActiveTime'] = 0"
   ]
  },
  {
   "cell_type": "code",
   "execution_count": null,
   "id": "1e97c0d1",
   "metadata": {},
   "outputs": [],
   "source": [
    "df_all.loc[df_all['Data_Collection_Date'] < '2022-08-22', 'Data_Collection_Date'] = '2022-08-22'"
   ]
  },
  {
   "cell_type": "code",
   "execution_count": null,
   "id": "6fb23924",
   "metadata": {},
   "outputs": [],
   "source": [
    "df_all['Average_Engagement_on_Tweets'] = (df_all['Retweet_Count_in_Tweets'] +df_all['Favorite_Count_in_Tweets'])/df_all['Total_Tweet_Collected']\n",
    "df_all['Average_Engagement_on_Retweets'] = (df_all['Retweet_Count_in_Retweets'] +df_all['Favorite_Count_in_Retweets'])/df_all['Total_Retweet_Collected']"
   ]
  },
  {
   "cell_type": "code",
   "execution_count": null,
   "id": "3eb8e0cb",
   "metadata": {},
   "outputs": [],
   "source": [
    "df_all['Average_Engagement_on_Tweets'] = df_all['Average_Engagement_on_Tweets'].fillna(0)\n",
    "df_all['Average_Engagement_on_Retweets'] = df_all['Average_Engagement_on_Retweets'].fillna(0)"
   ]
  },
  {
   "cell_type": "code",
   "execution_count": null,
   "id": "3ff3eb8a",
   "metadata": {},
   "outputs": [],
   "source": [
    "df_all.columns"
   ]
  },
  {
   "cell_type": "code",
   "execution_count": null,
   "id": "29c968cd",
   "metadata": {},
   "outputs": [],
   "source": [
    "df_all.loc[df_all['Retweet_Count_in_Retweets'].isnull()]"
   ]
  },
  {
   "cell_type": "code",
   "execution_count": null,
   "id": "dca7c7b8",
   "metadata": {},
   "outputs": [],
   "source": []
  },
  {
   "cell_type": "code",
   "execution_count": null,
   "id": "c6f24da9",
   "metadata": {},
   "outputs": [],
   "source": []
  },
  {
   "cell_type": "code",
   "execution_count": null,
   "id": "bcbf41a6",
   "metadata": {},
   "outputs": [],
   "source": [
    "df_all[['Total_Hashtags','Retweet_Count','Favorite_Count','Total_Hashtags_in_Tweets',\n",
    "        'Retweet_Count_in_Tweets','Favorite_Count_in_Tweets','Total_Hashtags_in_Retweets',\n",
    "        'Retweet_Count_in_Retweets','Favorite_Count_in_Retweets']] = df_all[['Total_Hashtags','Retweet_Count','Favorite_Count','Total_Hashtags_in_Tweets',\n",
    "        'Retweet_Count_in_Tweets','Favorite_Count_in_Tweets','Total_Hashtags_in_Retweets',\n",
    "        'Retweet_Count_in_Retweets','Favorite_Count_in_Retweets']].fillna(0)"
   ]
  },
  {
   "cell_type": "code",
   "execution_count": null,
   "id": "7214ee3f",
   "metadata": {},
   "outputs": [],
   "source": [
    "df_all.loc[df_all['Total_Hashtags_in_Tweets'].isnull()]"
   ]
  },
  {
   "cell_type": "code",
   "execution_count": null,
   "id": "921e35f8",
   "metadata": {},
   "outputs": [],
   "source": [
    "for index, row in df_all.iterrows():\n",
    "    if df_all.at[index, 'Total_Post_Collected'] >= 0 and df_all.at[index, 'Total_Post_Collected'] <=100:\n",
    "        df_all.at[index, 'Post_Count'] = 'Collected Post between 1-100'\n",
    "    elif df_all.at[index, 'Total_Post_Collected'] >= 101 and df_all.at[index, 'Total_Post_Collected'] <=500:\n",
    "        df_all.at[index, 'Post_Count'] = 'Collected Post between 101-500'\n",
    "    elif df_all.at[index, 'Total_Post_Collected'] >= 501 and df_all.at[index, 'Total_Post_Collected'] <=1000:\n",
    "        df_all.at[index, 'Post_Count'] = 'Collected Post between 501-1000'\n",
    "    elif df_all.at[index, 'Total_Post_Collected'] >= 1001 and df_all.at[index, 'Total_Post_Collected'] <=3300:\n",
    "        df_all.at[index, 'Post_Count'] = 'Collected Post between 1001-3200'\n",
    "    elif df_all.at[index, 'Total_Post_Collected'] >= 3301 and df_all.at[index, 'Total_Post_Collected'] <=15000:\n",
    "        df_all.at[index, 'Post_Count'] = 'Collected Post over 3200'\n"
   ]
  },
  {
   "cell_type": "code",
   "execution_count": null,
   "id": "48314712",
   "metadata": {},
   "outputs": [],
   "source": [
    "for index, row in df_all.iterrows():\n",
    "    if df_all.at[index, 'UserVerified']  == True:\n",
    "        df_all.at[index, 'verification'] = 'Verified'\n",
    "    elif df_all.at[index, 'UserVerified'] == False:\n",
    "        df_all.at[index, 'verification'] = 'Non-verified'"
   ]
  },
  {
   "cell_type": "code",
   "execution_count": null,
   "id": "526e6538",
   "metadata": {},
   "outputs": [],
   "source": []
  },
  {
   "cell_type": "code",
   "execution_count": null,
   "id": "47cb4d7f",
   "metadata": {},
   "outputs": [],
   "source": []
  },
  {
   "cell_type": "code",
   "execution_count": null,
   "id": "2861f8f7",
   "metadata": {},
   "outputs": [],
   "source": []
  },
  {
   "cell_type": "code",
   "execution_count": null,
   "id": "78d35ca4",
   "metadata": {},
   "outputs": [],
   "source": []
  },
  {
   "cell_type": "code",
   "execution_count": null,
   "id": "2d7fae18",
   "metadata": {},
   "outputs": [],
   "source": [
    "df_bot = df_all.loc[df_all.CapUniversal >= 0.9]\n",
    "df_verified = df_all.loc[df_all.UserVerified == True]\n",
    "\n",
    "print(len(df_all))\n",
    "print(len(df_bot))\n",
    "print(len(df_verified))"
   ]
  },
  {
   "cell_type": "code",
   "execution_count": null,
   "id": "10da6b61",
   "metadata": {},
   "outputs": [],
   "source": [
    "df_without_bot = df_all[~df_all.User_ID.isin(df_bot.User_ID)]\n",
    "df_without_verified = df_all[~df_all.User_ID.isin(df_verified.User_ID)]\n",
    "print(len(df_without_bot))\n",
    "print(len(df_without_verified))"
   ]
  },
  {
   "cell_type": "code",
   "execution_count": null,
   "id": "1533b632",
   "metadata": {},
   "outputs": [],
   "source": [
    "df_without_bot[df_without_bot.User_ID.isin(df_without_verified.User_ID)].groupby('UserVerified').count()"
   ]
  },
  {
   "cell_type": "code",
   "execution_count": null,
   "id": "37a028be",
   "metadata": {},
   "outputs": [],
   "source": [
    "df_without_bot[df_without_bot.User_ID.isin(df_without_verified.User_ID)].loc[df_without_bot[df_without_bot.User_ID.isin(df_without_verified.User_ID)].CapUniversal < 0.9]"
   ]
  },
  {
   "cell_type": "code",
   "execution_count": null,
   "id": "10ecdf85",
   "metadata": {},
   "outputs": [],
   "source": [
    "df_without_bot_and_verified = df_without_bot[df_without_bot.User_ID.isin(df_without_verified.User_ID)]"
   ]
  },
  {
   "cell_type": "code",
   "execution_count": null,
   "id": "22a4fa61",
   "metadata": {},
   "outputs": [],
   "source": [
    "df_all.columns"
   ]
  },
  {
   "cell_type": "code",
   "execution_count": null,
   "id": "42665e8c",
   "metadata": {},
   "outputs": [],
   "source": [
    "df_all['acc_type'] = 'Regular'"
   ]
  },
  {
   "cell_type": "code",
   "execution_count": null,
   "id": "ed6d47d0",
   "metadata": {},
   "outputs": [],
   "source": [
    "for index, row in df_all.iterrows():\n",
    "    if df_all.at[index, 'CapUniversal'] >= 0.9:\n",
    "        df_all.at[index, 'acc_type'] = 'Bot'\n",
    "        \n",
    "    if df_all.at[index, 'UserVerified'] == True:\n",
    "        df_all.at[index, 'acc_type'] = 'Verified'"
   ]
  },
  {
   "cell_type": "code",
   "execution_count": null,
   "id": "f920b9dd",
   "metadata": {
    "scrolled": true
   },
   "outputs": [],
   "source": []
  },
  {
   "cell_type": "code",
   "execution_count": null,
   "id": "804d7ade",
   "metadata": {},
   "outputs": [],
   "source": [
    "df_all.loc[df_all.UserVerified == True]"
   ]
  },
  {
   "cell_type": "code",
   "execution_count": null,
   "id": "63ea68a5",
   "metadata": {},
   "outputs": [],
   "source": [
    "df_engagement = df_all[['User_ID', 'ScreenName']]"
   ]
  },
  {
   "cell_type": "code",
   "execution_count": null,
   "id": "20a85e8e",
   "metadata": {},
   "outputs": [],
   "source": [
    "df_tweet_only = df_fake_tweet_unique.loc[df_fake_tweet_unique.Retweet == False]"
   ]
  },
  {
   "cell_type": "code",
   "execution_count": null,
   "id": "dc40a78a",
   "metadata": {},
   "outputs": [],
   "source": [
    "zew= df_tweet_only.groupby('User_ID').max('Engagement_Count').reset_index()"
   ]
  },
  {
   "cell_type": "code",
   "execution_count": null,
   "id": "e6c3d299",
   "metadata": {},
   "outputs": [],
   "source": [
    "zew"
   ]
  },
  {
   "cell_type": "code",
   "execution_count": null,
   "id": "aa6966bd",
   "metadata": {},
   "outputs": [],
   "source": [
    "df_max_engagement = zew[['User_ID', 'Engagement_Count']].rename(columns={'Engagement_Count':'Max_Engagement'})"
   ]
  },
  {
   "cell_type": "code",
   "execution_count": null,
   "id": "4a59aaa4",
   "metadata": {},
   "outputs": [],
   "source": [
    "df_max_other = zew[['User_ID', 'Retweet_Count', 'Favorite_Count', 'Total_Hashtags']].rename(columns={'Retweet_Count':'Tweet_Max_Retweet', 'Favorite_Count':'Tweet_Max_Favorite','Total_Hashtags':'Tweet_Max_Hashtags' })\n"
   ]
  },
  {
   "cell_type": "code",
   "execution_count": null,
   "id": "9de163e7",
   "metadata": {},
   "outputs": [],
   "source": [
    "df_max_other "
   ]
  },
  {
   "cell_type": "code",
   "execution_count": null,
   "id": "27cc0ad0",
   "metadata": {},
   "outputs": [],
   "source": []
  },
  {
   "cell_type": "code",
   "execution_count": null,
   "id": "16146d11",
   "metadata": {},
   "outputs": [],
   "source": [
    "df_all.columns"
   ]
  },
  {
   "cell_type": "code",
   "execution_count": null,
   "id": "28268082",
   "metadata": {},
   "outputs": [],
   "source": [
    "df_all = pd.merge(df_all, df_max_engagement,on='User_ID', how = 'left')"
   ]
  },
  {
   "cell_type": "code",
   "execution_count": null,
   "id": "597af83e",
   "metadata": {},
   "outputs": [],
   "source": [
    "df_all = pd.merge(df_all, df_max_other ,on='User_ID', how = 'left')"
   ]
  },
  {
   "cell_type": "code",
   "execution_count": null,
   "id": "9cb76f46",
   "metadata": {},
   "outputs": [],
   "source": [
    "df_all['Max_Engagement'] = df_all['Max_Engagement'].replace(np.nan, 0)\n",
    "df_all = df_all.rename(columns = {'Max_Engagement': 'Tweet_Max_Engagement'})"
   ]
  },
  {
   "cell_type": "code",
   "execution_count": null,
   "id": "bfcaae35",
   "metadata": {},
   "outputs": [],
   "source": [
    "df_all['Tweet_Max_Retweet'] = df_all['Tweet_Max_Retweet'].replace(np.nan, 0)\n",
    "df_all['Tweet_Max_Favorite'] = df_all['Tweet_Max_Favorite'].replace(np.nan, 0)\n",
    "df_all['Tweet_Max_Hashtags'] = df_all['Tweet_Max_Hashtags'].replace(np.nan, 0)\n"
   ]
  },
  {
   "cell_type": "code",
   "execution_count": null,
   "id": "e35d5de0",
   "metadata": {},
   "outputs": [],
   "source": [
    "df_all"
   ]
  },
  {
   "cell_type": "code",
   "execution_count": null,
   "id": "3d9b7b8d",
   "metadata": {},
   "outputs": [],
   "source": [
    "df_all.columns"
   ]
  },
  {
   "cell_type": "code",
   "execution_count": null,
   "id": "356906c9",
   "metadata": {},
   "outputs": [],
   "source": [
    "print(len(df_bot))\n",
    "print(len(df_verified))\n",
    "print(len(df_without_bot_and_verified))\n",
    "print(len(df_all))"
   ]
  },
  {
   "cell_type": "code",
   "execution_count": null,
   "id": "f15054f6",
   "metadata": {},
   "outputs": [],
   "source": []
  },
  {
   "cell_type": "code",
   "execution_count": null,
   "id": "ca63197d",
   "metadata": {},
   "outputs": [],
   "source": []
  },
  {
   "cell_type": "code",
   "execution_count": null,
   "id": "e7c0e730",
   "metadata": {},
   "outputs": [],
   "source": [
    "df_all.to_csv('Final_Acc_box.csv')"
   ]
  },
  {
   "cell_type": "code",
   "execution_count": null,
   "id": "37d30193",
   "metadata": {},
   "outputs": [],
   "source": [
    "print(df_all.loc[df_all.acc_type == 'Bot']['#_of_Fake_Tweets'].describe())\n",
    "print(df_all.loc[df_all.acc_type == 'Verified']['#_of_Fake_Tweets'].describe())\n",
    "print(df_all.loc[df_all.acc_type == 'Regular']['#_of_Fake_Tweets'].describe())"
   ]
  },
  {
   "cell_type": "code",
   "execution_count": null,
   "id": "e4747014",
   "metadata": {},
   "outputs": [],
   "source": [
    "len(benign)"
   ]
  },
  {
   "cell_type": "code",
   "execution_count": null,
   "id": "160ee66c",
   "metadata": {},
   "outputs": [],
   "source": [
    "ben = {'ScreenName':benign, 'Benign':True}"
   ]
  },
  {
   "cell_type": "code",
   "execution_count": null,
   "id": "8d859889",
   "metadata": {},
   "outputs": [],
   "source": [
    "ben = pd.DataFrame(ben)"
   ]
  },
  {
   "cell_type": "code",
   "execution_count": null,
   "id": "abc5584b",
   "metadata": {},
   "outputs": [],
   "source": [
    "ben = ben.drop_duplicates()"
   ]
  },
  {
   "cell_type": "code",
   "execution_count": null,
   "id": "92fa5036",
   "metadata": {},
   "outputs": [],
   "source": [
    "df_ben = pd.merge(df_all,ben, how = 'left').loc[pd.merge(df_all,ben, how = 'left').Benign == True][['User_ID', 'Benign']]"
   ]
  },
  {
   "cell_type": "code",
   "execution_count": null,
   "id": "dcac8ac6",
   "metadata": {},
   "outputs": [],
   "source": [
    "df_all['benign'] = 'False'"
   ]
  },
  {
   "cell_type": "code",
   "execution_count": null,
   "id": "ae9ed62c",
   "metadata": {},
   "outputs": [],
   "source": []
  },
  {
   "cell_type": "code",
   "execution_count": null,
   "id": "89954617",
   "metadata": {},
   "outputs": [],
   "source": [
    "for index, row in df_all.iterrows():\n",
    "    for jindex, jrow in df_ben.iterrows():\n",
    "        if df_all.at[index, 'User_ID']  == df_ben.at[jindex, 'User_ID']:\n",
    "            df_all.at[index,'benign'] = 'True'"
   ]
  },
  {
   "cell_type": "code",
   "execution_count": null,
   "id": "e0856b5c",
   "metadata": {},
   "outputs": [],
   "source": [
    "df_all"
   ]
  },
  {
   "cell_type": "code",
   "execution_count": null,
   "id": "a5b34da0",
   "metadata": {},
   "outputs": [],
   "source": [
    "df_all.groupby('benign').count()"
   ]
  },
  {
   "cell_type": "code",
   "execution_count": null,
   "id": "ae727c07",
   "metadata": {},
   "outputs": [],
   "source": [
    "len(df_all.loc[(df_all.benign == 'True') & (df_all.acc_type == 'Verified')])"
   ]
  },
  {
   "cell_type": "code",
   "execution_count": null,
   "id": "50409b7b",
   "metadata": {},
   "outputs": [],
   "source": [
    "df_all_wd = df_all.loc[df_all.benign == 'False'].reset_index(drop = True)"
   ]
  },
  {
   "cell_type": "code",
   "execution_count": null,
   "id": "59ebd421",
   "metadata": {},
   "outputs": [],
   "source": [
    "df_all_wd.groupby('acc_type').count()"
   ]
  },
  {
   "cell_type": "code",
   "execution_count": null,
   "id": "4fefa492",
   "metadata": {},
   "outputs": [],
   "source": [
    "df_all_wd.loc[df_all_wd.acc_type == 'Verified'].reset_index(drop = True).to_csv('Only_Verified_Accounts.csv')"
   ]
  },
  {
   "cell_type": "code",
   "execution_count": null,
   "id": "77447aa2",
   "metadata": {},
   "outputs": [],
   "source": [
    "df_all_wd['followers_friends_ratio'] = df_all_wd['UserFollowers']/df_all_wd['UserFriends'].replace(0,1)"
   ]
  },
  {
   "cell_type": "code",
   "execution_count": null,
   "id": "978f16a8",
   "metadata": {},
   "outputs": [],
   "source": [
    "df_all_wd['tweet_retweet_ratio'] = df_all_wd['Total_Tweet_Collected']/df_all_wd['Total_Retweet_Collected'].replace(0,1)"
   ]
  },
  {
   "cell_type": "code",
   "execution_count": null,
   "id": "4065be78",
   "metadata": {},
   "outputs": [],
   "source": []
  },
  {
   "cell_type": "code",
   "execution_count": null,
   "id": "a83e155e",
   "metadata": {},
   "outputs": [],
   "source": [
    "df_all_wd.to_csv('All_Fake_without_debunkers.csv')"
   ]
  },
  {
   "cell_type": "code",
   "execution_count": null,
   "id": "2f49ff32",
   "metadata": {},
   "outputs": [],
   "source": [
    "df_all_wd.loc[df_all_wd['acc_type'] == 'Bot'].describe()"
   ]
  },
  {
   "cell_type": "code",
   "execution_count": null,
   "id": "6afeeb26",
   "metadata": {},
   "outputs": [],
   "source": []
  },
  {
   "cell_type": "code",
   "execution_count": null,
   "id": "f99758bb",
   "metadata": {},
   "outputs": [],
   "source": []
  },
  {
   "cell_type": "code",
   "execution_count": null,
   "id": "edf195d1",
   "metadata": {},
   "outputs": [],
   "source": [
    "df_all_wd.loc[df_all_wd.acc_type == 'Verified'].describe()"
   ]
  },
  {
   "cell_type": "code",
   "execution_count": null,
   "id": "580e8126",
   "metadata": {},
   "outputs": [],
   "source": [
    "df_all_wd.loc[df_all_wd['Total_Post_Collected'] < 1000]"
   ]
  },
  {
   "cell_type": "code",
   "execution_count": null,
   "id": "4c8b2d45",
   "metadata": {},
   "outputs": [],
   "source": []
  },
  {
   "cell_type": "code",
   "execution_count": null,
   "id": "bfe6e0e6",
   "metadata": {},
   "outputs": [],
   "source": []
  },
  {
   "cell_type": "code",
   "execution_count": null,
   "id": "1717e990",
   "metadata": {},
   "outputs": [],
   "source": []
  },
  {
   "cell_type": "markdown",
   "id": "21099f42",
   "metadata": {},
   "source": [
    "# Data Analysis"
   ]
  },
  {
   "cell_type": "code",
   "execution_count": null,
   "id": "f53cf0ae",
   "metadata": {},
   "outputs": [],
   "source": [
    "matplotlib.rc('font', family='Serif') \n",
    "csfont = {'fontname':'Comic Sans MS'}\n",
    "hfont = {'fontname':'Arial'}\n",
    "matplotlib.rcParams.update({'font.size': 10})\n",
    "plt.rcParams[\"figure.figsize\"] = [16,9]\n",
    "matplotlib.rcParams[\"figure.autolayout\"]"
   ]
  },
  {
   "cell_type": "code",
   "execution_count": null,
   "id": "da3500cb",
   "metadata": {},
   "outputs": [],
   "source": [
    "df_all.loc[df_all.acc_type == 'Bot'].Tweet_Max_Retweet"
   ]
  },
  {
   "cell_type": "code",
   "execution_count": null,
   "id": "2ed47dcb",
   "metadata": {},
   "outputs": [],
   "source": [
    "my_dict = {'Bot': np.log10(df_all.loc[df_all.acc_type == 'Bot'].Tweet_Max_Retweet.replace(0,1)),\n",
    "           'Verified': np.log10(df_all.loc[df_all.acc_type == 'Verified'].Tweet_Max_Retweet),\n",
    "           'Rest': np.log10(df_all.loc[df_all.acc_type == 'Regular'].Tweet_Max_Retweet)}\n",
    "h,v = 6.2,3.2\n",
    "dp = 100\n",
    "px = 1/plt.rcParams['figure.dpi']\n",
    "fig, ax = plt.subplots(figsize = (405*px, 270*px))\n",
    "box_followers = ax.boxplot(my_dict.values(), patch_artist=True, positions=[0,1,2])\n",
    "colors = ['pink', 'lightblue', 'violet']\n",
    "colors1 = ['red', 'blue', 'purple']\n",
    "\n",
    "\n",
    "for patch, color in zip(box_followers['boxes'], colors, ):\n",
    "    patch.set_facecolor(color)\n",
    "    patch.set_edgecolor('black')\n",
    "\n",
    "for median, color in zip(box_followers['medians'], colors1):\n",
    "    median.set_color(color)\n",
    "    median.set_linewidth(1.5)\n",
    "\n",
    "    hatch_style = ['//','..','\\\\\\\\']    \n",
    "i = 0\n",
    "for box in box_followers['boxes']:\n",
    "    box.set_hatch(hatch_style[i])\n",
    "    i = i+1\n",
    "\n",
    "    \n",
    "x_tick_labels = ['Bot', 'Verified', 'Regular']\n",
    "ax.set_xticklabels(x_tick_labels)\n",
    "ax.set_ylabel('Max Retweet', fontsize=12, labelpad=10)\n",
    "\n",
    "ax.spines.right.set_visible(False)\n",
    "ax.spines.top.set_visible(False)\n",
    "\n",
    "plt.tight_layout()"
   ]
  },
  {
   "cell_type": "code",
   "execution_count": null,
   "id": "abbee9fc",
   "metadata": {},
   "outputs": [],
   "source": [
    "my_dict = {'Bot': np.log10(df_all.loc[df_all.acc_type == 'Bot'].Tweet_Max_Favorite),\n",
    "           'Verified': np.log10(df_all.loc[df_all.acc_type == 'Verified'].Tweet_Max_Favorite),\n",
    "           'Rest': np.log10(df_all.loc[df_all.acc_type == 'Regular'].Tweet_Max_Favorite)}\n",
    "h,v = 6.2,3.2\n",
    "dp = 100\n",
    "px = 1/plt.rcParams['figure.dpi']\n",
    "fig, ax = plt.subplots(figsize = (405*px, 270*px))\n",
    "box_followers = ax.boxplot(my_dict.values(), patch_artist=True, positions=[0,1,2])\n",
    "colors = ['pink', 'lightblue', 'violet']\n",
    "colors1 = ['red', 'blue', 'purple']\n",
    "\n",
    "\n",
    "for patch, color in zip(box_followers['boxes'], colors, ):\n",
    "    patch.set_facecolor(color)\n",
    "    patch.set_edgecolor('black')\n",
    "\n",
    "for median, color in zip(box_followers['medians'], colors1):\n",
    "    median.set_color(color)\n",
    "    median.set_linewidth(1.5)\n",
    "\n",
    "    hatch_style = ['//','..','\\\\\\\\']    \n",
    "i = 0\n",
    "for box in box_followers['boxes']:\n",
    "    box.set_hatch(hatch_style[i])\n",
    "    i = i+1\n",
    "\n",
    "    \n",
    "x_tick_labels = ['Bot', 'Verified', 'Regular']\n",
    "ax.set_xticklabels(x_tick_labels)\n",
    "ax.set_ylabel('Max Like', fontsize=12, labelpad=10)\n",
    "\n",
    "ax.spines.right.set_visible(False)\n",
    "ax.spines.top.set_visible(False)\n",
    "\n",
    "plt.tight_layout()"
   ]
  },
  {
   "cell_type": "code",
   "execution_count": null,
   "id": "e4de6029",
   "metadata": {},
   "outputs": [],
   "source": [
    "my_dict = {'Bot': np.log10(df_all.loc[df_all.acc_type == 'Bot'].Tweet_Max_Engagement),\n",
    "           'Verified': np.log10(df_all.loc[df_all.acc_type == 'Verified'].Tweet_Max_Engagement),\n",
    "           'Rest': np.log10(df_all.loc[df_all.acc_type == 'Regular'].Tweet_Max_Engagement)}\n",
    "h,v = 6.2,3.2\n",
    "dp = 100\n",
    "px = 1/plt.rcParams['figure.dpi']\n",
    "fig, ax = plt.subplots(figsize = (405*px, 270*px))\n",
    "box_followers = ax.boxplot(my_dict.values(), patch_artist=True, positions=[0,1,2])\n",
    "colors = ['pink', 'lightblue', 'violet']\n",
    "colors1 = ['red', 'blue', 'purple']\n",
    "\n",
    "\n",
    "for patch, color in zip(box_followers['boxes'], colors, ):\n",
    "    patch.set_facecolor(color)\n",
    "    patch.set_edgecolor('black')\n",
    "\n",
    "for median, color in zip(box_followers['medians'], colors1):\n",
    "    median.set_color(color)\n",
    "    median.set_linewidth(1.5)\n",
    "\n",
    "    hatch_style = ['//','..','\\\\\\\\']    \n",
    "i = 0\n",
    "for box in box_followers['boxes']:\n",
    "    box.set_hatch(hatch_style[i])\n",
    "    i = i+1\n",
    "\n",
    "    \n",
    "x_tick_labels = ['Bot', 'Verified', 'Regular']\n",
    "ax.set_xticklabels(x_tick_labels)\n",
    "ax.set_ylabel('Max Engagement', fontsize=12, labelpad=10)\n",
    "\n",
    "ax.spines.right.set_visible(False)\n",
    "ax.spines.top.set_visible(False)\n",
    "\n",
    "plt.tight_layout()"
   ]
  },
  {
   "cell_type": "code",
   "execution_count": null,
   "id": "fbe2111b",
   "metadata": {},
   "outputs": [],
   "source": [
    "fig_txt = \"BoxPlot_#_of_Followers.png\"\n",
    "my_dict = {'Bot': np.log10(df_bot.UserFollowers),\n",
    "           'Verified': np.log10(df_verified.UserFollowers),\n",
    "           'Rest': np.log10(df_without_bot_and_verified.UserFollowers),\n",
    "           'All': np.log10(df_all.UserFollowers) }\n",
    "\n",
    "fig, (ax0, ax1) = plt.subplots(figsize = (6.20,3.20), dpi=100, ncols=2)\n",
    "box_followers = ax0.boxplot(my_dict.values(), patch_artist=True, positions=[0,1,2,3])\n",
    "colors = ['pink', 'lightblue', 'violet', 'orange']\n",
    "colors1 = ['red', 'blue', 'purple', 'yellow']\n",
    "\n",
    "\n",
    "for patch, color in zip(box_followers['boxes'], colors, ):\n",
    "    patch.set_facecolor(color)\n",
    "    patch.set_edgecolor('black')\n",
    "\n",
    "for median, color in zip(box_followers['medians'], colors1):\n",
    "    median.set_color(color)\n",
    "    median.set_linewidth(2)\n",
    "\n",
    "    hatch_style = ['//','..','\\\\\\\\',\"oo\"]    \n",
    "i = 0\n",
    "for box in box_followers['boxes']:\n",
    "    box.set_hatch(hatch_style[i])\n",
    "    i = i+1\n",
    "\n",
    "    \n",
    "x_tick_labels = ['Bot', 'Verified', 'Rest', 'All']\n",
    "y_tick_labels = [\"0\", \"$10^0$\",\"$10^2$\",\"$10^4$\",\"$10^6$\",\"$10^8$\" ]\n",
    "ax0.set_xticklabels(x_tick_labels)\n",
    "ax0.set_yticklabels(y_tick_labels)\n",
    "ax0.set_ylabel('Number of followers', fontsize=12, labelpad=5)\n",
    "\n",
    "ax0.set_xlabel('Account Types', fontsize=12, labelpad=10)\n",
    "ax0.set_ylim(-0.2,8.2)\n",
    "ax0.spines.right.set_visible(False)\n",
    "ax0.spines.top.set_visible(False)\n",
    "\n",
    "fig_txt = \"BoxPlot_#_of_fol_fri_ratio.png\"\n",
    "feature1 = 'UserFollowers'\n",
    "feature2 = 'UserFriends'\n",
    "my_dict = {'Bot': np.log10(df_bot[feature1]/df_bot[feature2]),\n",
    "           'Verified': np.log10(df_verified[feature1]/df_verified[feature2]),\n",
    "           'NBV': np.log10(df_without_bot_and_verified[feature1]/df_without_bot_and_verified[feature2].replace(0,1)),\n",
    "           'All': np.log10(df_all[feature1]/df_all[feature2].replace(0,1)) }\n",
    "\n",
    "\n",
    "box_followers = ax1.boxplot(my_dict.values(), patch_artist=True, positions=[0,1,2,3])\n",
    "colors = ['pink', 'lightblue', 'violet', 'orange']\n",
    "colors1 = ['red', 'blue', 'purple', 'yellow']\n",
    "\n",
    "for patch, color in zip(box_followers['boxes'], colors):\n",
    "    patch.set_facecolor(color)\n",
    "    patch.set_edgecolor('black')\n",
    "\n",
    "for median, color in zip(box_followers['medians'], colors1):\n",
    "    median.set_color(color)\n",
    "    median.set_linewidth(2)\n",
    "    \n",
    "    \n",
    "hatch_style = ['//','..','\\\\\\\\',\"oo\"]    \n",
    "i = 0\n",
    "for box in box_followers['boxes']:\n",
    "    box.set_hatch(hatch_style[i])\n",
    "    i = i+1\n",
    "\n",
    "    \n",
    "x_tick_labels = ['Bot', 'Verified', 'Rest', 'All']\n",
    "y_tick_labels = [\"0\", \"$10^{-4}$\",\"$10^{-2}$\",\"$10^0$\",\"$10^2$\",\"$10^4$\", \"$10^6$\",\"$10^8$\"]\n",
    "ax1.set_xticklabels(x_tick_labels)\n",
    "ax1.set_yticklabels(y_tick_labels)\n",
    "ax1.set_ylabel('Ratio of followers \\nand friends', fontsize=12, labelpad=5)\n",
    "\n",
    "ax1.set_xlabel('Account Types', fontsize=12, labelpad=10)\n",
    "ax1.set_ylim(-4.2,8.2)\n",
    "ax1.spines.right.set_visible(False)\n",
    "ax1.spines.top.set_visible(False)\n",
    "fig.tight_layout(pad=1.5)\n",
    "fig.show()\n",
    "plt.gcf().set_size_inches(8, 3)\n",
    "\n",
    "fig.savefig('fol and ratio', bbox_inches=\"tight\", dpi=100, facecolor='w')"
   ]
  },
  {
   "cell_type": "code",
   "execution_count": null,
   "id": "1c808495",
   "metadata": {},
   "outputs": [],
   "source": [
    "fig_txt = \"BoxPlot_#_of_Followers_x.png\"\n",
    "my_dict = {'Bot': np.log10(df_bot.UserFollowers),\n",
    "           'Verified': np.log10(df_verified.UserFollowers),\n",
    "           'Rest': np.log10(df_without_bot_and_verified.UserFollowers),}\n",
    "h,v = 6.2,3.2\n",
    "dp = 100\n",
    "px = 1/plt.rcParams['figure.dpi']\n",
    "fig, ax = plt.subplots(figsize = (405*px, 270*px))\n",
    "box_followers = ax.boxplot(my_dict.values(), patch_artist=True, positions=[0,1,2])\n",
    "colors = ['pink', 'lightblue', 'violet']\n",
    "colors1 = ['red', 'blue', 'purple']\n",
    "\n",
    "\n",
    "for patch, color in zip(box_followers['boxes'], colors, ):\n",
    "    patch.set_facecolor(color)\n",
    "    patch.set_edgecolor('black')\n",
    "\n",
    "for median, color in zip(box_followers['medians'], colors1):\n",
    "    median.set_color(color)\n",
    "    median.set_linewidth(1.5)\n",
    "\n",
    "    hatch_style = ['//','..','\\\\\\\\']    \n",
    "i = 0\n",
    "for box in box_followers['boxes']:\n",
    "    box.set_hatch(hatch_style[i])\n",
    "    i = i+1\n",
    "\n",
    "    \n",
    "x_tick_labels = ['Bot', 'Verified', 'Regular']\n",
    "y_tick_labels = [\"0\", \"$10^0$\",\"$10^2$\",\"$10^4$\",\"$10^6$\",\"$10^8$\" ]\n",
    "ax.set_xticklabels(x_tick_labels)\n",
    "ax.set_yticklabels(y_tick_labels)\n",
    "ax.set_ylabel('Number of followers', fontsize=12, labelpad=10)\n",
    "\n",
    "ax.set_ylim(-0.5,8.5)\n",
    "ax.spines.right.set_visible(False)\n",
    "ax.spines.top.set_visible(False)\n",
    "\n",
    "plt.tight_layout()\n",
    "fig.savefig(fig_txt, facecolor='w')"
   ]
  },
  {
   "cell_type": "code",
   "execution_count": null,
   "id": "8d21f0e8",
   "metadata": {},
   "outputs": [],
   "source": [
    "fig_txt = \"BoxPlot_#_of_Followers.png\"\n",
    "my_dict = {'Bot': np.log10(df_bot.UserFollowers),\n",
    "           'Verified': np.log10(df_verified.UserFollowers),\n",
    "           'Rest': np.log10(df_without_bot_and_verified.UserFollowers),\n",
    "           'All': np.log10(df_all.UserFollowers) }\n",
    "h,v = 4,3\n",
    "fig, ax = plt.subplots(figsize = (h,v))\n",
    "box_followers = ax.boxplot(my_dict.values(), patch_artist=True, positions=[0,1,2,3])\n",
    "colors = ['pink', 'lightblue', 'violet', 'orange']\n",
    "colors1 = ['red', 'blue', 'purple', 'yellow']\n",
    "\n",
    "\n",
    "for patch, color in zip(box_followers['boxes'], colors, ):\n",
    "    patch.set_facecolor(color)\n",
    "    patch.set_edgecolor('black')\n",
    "\n",
    "for median, color in zip(box_followers['medians'], colors1):\n",
    "    median.set_color(color)\n",
    "    median.set_linewidth(2)\n",
    "\n",
    "    hatch_style = ['//','..','\\\\\\\\',\"oo\"]    \n",
    "i = 0\n",
    "for box in box_followers['boxes']:\n",
    "    box.set_hatch(hatch_style[i])\n",
    "    i = i+1\n",
    "\n",
    "    \n",
    "x_tick_labels = ['Bot', 'Verified', 'Rest', 'All']\n",
    "y_tick_labels = [\"0\", \"$10^0$\",\"$10^2$\",\"$10^4$\",\"$10^6$\",\"$10^8$\" ]\n",
    "ax.set_xticklabels(x_tick_labels)\n",
    "ax.set_yticklabels(y_tick_labels)\n",
    "ax.set_ylabel('Number of followers', fontsize=12, labelpad=10)\n",
    "\n",
    "ax.set_xlabel('Account Types', fontsize=12, labelpad=10)\n",
    "ax.set_ylim(-0.2,8.2)\n",
    "ax.spines.right.set_visible(False)\n",
    "ax.spines.top.set_visible(False)\n",
    "\n",
    "\n",
    "fig.savefig(fig_txt, bbox_inches=\"tight\", dpi=600, facecolor='w')"
   ]
  },
  {
   "cell_type": "code",
   "execution_count": null,
   "id": "4fc16f5b",
   "metadata": {},
   "outputs": [],
   "source": [
    "fig_txt = \"BoxPlot_#_of_fol_fri_ratio.png\"\n",
    "feature1 = 'UserFollowers'\n",
    "feature2 = 'UserFriends'\n",
    "my_dict = {'Bot': np.log10(df_bot[feature1]/df_bot[feature2]),\n",
    "           'Verified': np.log10(df_verified[feature1]/df_verified[feature2]),\n",
    "           'NBV': np.log10(df_without_bot_and_verified[feature1]/df_without_bot_and_verified[feature2].replace(0,1)),\n",
    "           'All': np.log10(df_all[feature1]/df_all[feature2].replace(0,1)) }\n",
    "\n",
    "h,v = 4,3\n",
    "fig, ax = plt.subplots(figsize = (h,v))\n",
    "box_followers = ax.boxplot(my_dict.values(), patch_artist=True, positions=[0,1,2,3])\n",
    "colors = ['pink', 'lightblue', 'violet', 'orange']\n",
    "colors1 = ['red', 'blue', 'purple', 'yellow']\n",
    "\n",
    "for patch, color in zip(box_followers['boxes'], colors):\n",
    "    patch.set_facecolor(color)\n",
    "    patch.set_edgecolor('black')\n",
    "\n",
    "for median, color in zip(box_followers['medians'], colors1):\n",
    "    median.set_color(color)\n",
    "    median.set_linewidth(2)\n",
    "    \n",
    "    \n",
    "hatch_style = ['//','..','\\\\\\\\',\"oo\"]    \n",
    "i = 0\n",
    "for box in box_followers['boxes']:\n",
    "    box.set_hatch(hatch_style[i])\n",
    "    i = i+1\n",
    "\n",
    "    \n",
    "x_tick_labels = ['Bot', 'Verified', 'Rest', 'All']\n",
    "y_tick_labels = [\"0\", \"$10^{-4}$\",\"$10^{-2}$\",\"$10^0$\",\"$10^2$\",\"$10^4$\", \"$10^6$\",\"$10^8$\"]\n",
    "ax.set_xticklabels(x_tick_labels)\n",
    "ax.set_yticklabels(y_tick_labels)\n",
    "ax.set_ylabel('Ratio of followers and friends', fontsize=12, labelpad=10)\n",
    "\n",
    "ax.set_xlabel('Account Types', fontsize=12, labelpad=10)\n",
    "ax.set_ylim(-4.2,8.2)\n",
    "ax.spines.right.set_visible(False)\n",
    "ax.spines.top.set_visible(False)\n",
    "\n",
    "fig.savefig(fig_txt, bbox_inches=\"tight\", dpi=600, facecolor='w')"
   ]
  },
  {
   "cell_type": "code",
   "execution_count": null,
   "id": "c13d4784",
   "metadata": {},
   "outputs": [],
   "source": []
  },
  {
   "cell_type": "code",
   "execution_count": null,
   "id": "8de86305",
   "metadata": {},
   "outputs": [],
   "source": [
    "fig_txt = \"BoxPlot_#_of_Collected_Posts.png\"\n",
    "feature = 'Total_Post_Collected'\n",
    "my_dict = {'Bot': df_bot[feature],\n",
    "           'Verified': df_verified[feature],\n",
    "           'NBV': df_without_bot_and_verified[feature],\n",
    "           'All': df_all[feature] }\n",
    "h,v = 4,3\n",
    "fig, ax = plt.subplots(figsize = (h,v))\n",
    "box_followers = ax.boxplot(my_dict.values(), patch_artist=True, positions=[0,1,2,3])\n",
    "colors = ['pink', 'lightblue', 'violet', 'orange']\n",
    "colors1 = ['red', 'blue', 'purple', 'yellow']\n",
    "\n",
    "for patch, color in zip(box_followers['boxes'], colors):\n",
    "    patch.set_facecolor(color)\n",
    "\n",
    "for median, color in zip(box_followers['medians'], colors1):\n",
    "    median.set_color(color)\n",
    "    median.set_linewidth(1.5)\n",
    "    \n",
    "    \n",
    " \n",
    "hatch_style = ['//','..','\\\\\\\\',\"oo\"]    \n",
    "i = 0\n",
    "for box in box_followers['boxes']:\n",
    "    box.set_hatch(hatch_style[i])\n",
    "    i = i+1\n",
    "    \n",
    "x_tick_labels = ['Bot', 'Verified', 'Rest', 'All']   \n",
    "ax.set_xticklabels(x_tick_labels)\n",
    "ax.set_ylabel('Total collected posts', fontsize=12, labelpad=5)\n",
    "\n",
    "ax.set_yticks((0,3000, 6000, 9000, 12000))\n",
    "ax.set_ylim(-400,12400)\n",
    "\n",
    "ax.spines.right.set_visible(False)\n",
    "ax.spines.top.set_visible(False)\n",
    "\n",
    "ax.set_xlabel('Account Types', fontsize=12, labelpad=5)\n",
    "\n",
    "fig.savefig(fig_txt, bbox_inches=\"tight\", dpi=600, facecolor='w')"
   ]
  },
  {
   "cell_type": "code",
   "execution_count": null,
   "id": "f96a5ca0",
   "metadata": {},
   "outputs": [],
   "source": [
    "fig_txt = \"BoxPlot_#_of_Total_Posts.png\"\n",
    "feature = 'TotalStatus'\n",
    "my_dict = {'Bot': np.log10(df_bot[feature]),\n",
    "           'Verified': np.log10(df_verified[feature]),\n",
    "           'NBV': np.log10(df_without_bot_and_verified[feature]),\n",
    "           'All': np.log10(df_all[feature]) }\n",
    "\n",
    "h,v = 4,3\n",
    "fig, ax = plt.subplots(figsize = (h,v))\n",
    "box_followers = ax.boxplot(my_dict.values(), patch_artist=True, positions=[0,1,2,3])\n",
    "colors = ['pink', 'lightblue', 'violet', 'orange']\n",
    "colors1 = ['red', 'blue', 'purple', 'yellow']\n",
    "\n",
    "for patch, color in zip(box_followers['boxes'], colors):\n",
    "    patch.set_facecolor(color)\n",
    "\n",
    "for median, color in zip(box_followers['medians'], colors1):\n",
    "    median.set_color(color)\n",
    "    median.set_linewidth(1.5)\n",
    "    \n",
    "hatch_style = ['//','..','\\\\\\\\',\"oo\"]    \n",
    "i = 0\n",
    "for box in box_followers['boxes']:\n",
    "    box.set_hatch(hatch_style[i])\n",
    "    i = i+1    \n",
    "y_tick_labels = [\"0\", \"$10^0$\",\"$10^1$\",\"$10^2$\",\"$10^3$\",\"$10^4$\", \"$10^5$\",\"$10^6$\"]\n",
    "x_tick_labels = ['Bot', 'Verified', 'Rest', 'All']\n",
    "ax.set_xticklabels(x_tick_labels)\n",
    "ax.set_yticklabels(y_tick_labels)\n",
    "ax.set_ylabel('Total posts', fontsize=12, labelpad=5)\n",
    "ax.set_xlabel('Account Types', fontsize=12, labelpad=5)\n",
    "ax.spines.right.set_visible(False)\n",
    "ax.spines.top.set_visible(False)\n",
    "\n",
    "fig.savefig(fig_txt, bbox_inches=\"tight\", dpi=600, facecolor='w')"
   ]
  },
  {
   "cell_type": "code",
   "execution_count": null,
   "id": "0365cd5b",
   "metadata": {},
   "outputs": [],
   "source": [
    "fig_txt = \"BoxPlot_Account_Age.png\"\n",
    "feature = 'AccountAgeinDays'\n",
    "my_dict = {'Bot': df_bot[feature],\n",
    "           'Verified': df_verified[feature],\n",
    "           'NBV': df_without_bot_and_verified[feature],\n",
    "           'All': df_all[feature] }\n",
    "\n",
    "h,v = 4,3\n",
    "fig, ax = plt.subplots(figsize = (h,v))\n",
    "box_followers = ax.boxplot(my_dict.values(), patch_artist=True, positions=[0,1,2,3])\n",
    "colors = ['pink', 'lightblue', 'violet', 'orange']\n",
    "colors1 = ['red', 'blue', 'purple', 'yellow']\n",
    "\n",
    "for patch, color in zip(box_followers['boxes'], colors):\n",
    "    patch.set_facecolor(color)\n",
    "\n",
    "for median, color in zip(box_followers['medians'], colors1):\n",
    "    median.set_color(color)\n",
    "    median.set_linewidth(1.5)\n",
    "    \n",
    "hatch_style = ['//','..','\\\\\\\\',\"oo\"]    \n",
    "i = 0\n",
    "for box in box_followers['boxes']:\n",
    "    box.set_hatch(hatch_style[i])\n",
    "    i = i+1    \n",
    "\n",
    "    \n",
    "y_tick_labels = ['0', '2',  '4',  '6',  '8',  '10',  '12',  '14','16']\n",
    "x_tick_labels = ['Bot', 'Verified', 'Rest', 'All']\n",
    "ax.set_xticklabels(x_tick_labels)\n",
    "\n",
    "ax.set_yticks((0, 730,  1460,  2190,  2920,  3650,  4380,  5110,5840))\n",
    "ax.set_yticklabels(y_tick_labels)\n",
    "ax.set_ylim(-400,5840+400)\n",
    "ax.spines.right.set_visible(False)\n",
    "ax.spines.top.set_visible(False)\n",
    "ax.set_xlabel('Account Types', fontsize=12, labelpad=5)\n",
    "ax.set_ylabel('Account age (years)', fontsize=12, labelpad=5)\n",
    "fig.savefig(fig_txt, bbox_inches=\"tight\", dpi=600, facecolor='w')"
   ]
  },
  {
   "cell_type": "code",
   "execution_count": null,
   "id": "3c08d317",
   "metadata": {},
   "outputs": [],
   "source": [
    "fig_txt = \"BoxPlot_Account_Last_Active_Time.png\"\n",
    "feature = 'LastActiveTime'\n",
    "my_dict = {'Bot': df_bot[feature],\n",
    "           'Verified': df_verified[feature],\n",
    "           'NBV': df_without_bot_and_verified[feature],\n",
    "           'All': df_all[feature] }\n",
    "\n",
    "h,v = 4,3\n",
    "fig, ax = plt.subplots(figsize = (h,v))\n",
    "box_followers = ax.boxplot(my_dict.values(), patch_artist=True, positions=[0,1,2,3])\n",
    "colors = ['pink', 'lightblue', 'violet', 'orange']\n",
    "colors1 = ['red', 'blue', 'purple', 'yellow']\n",
    "\n",
    "for patch, color in zip(box_followers['boxes'], colors):\n",
    "    patch.set_facecolor(color)\n",
    "\n",
    "for median, color in zip(box_followers['medians'], colors1):\n",
    "    median.set_color(color)\n",
    "    median.set_linewidth(1.5)\n",
    "    \n",
    "hatch_style = ['//','..','\\\\\\\\',\"oo\"]    \n",
    "i = 0\n",
    "for box in box_followers['boxes']:\n",
    "    box.set_hatch(hatch_style[i])\n",
    "    i = i+1    \n",
    "    \n",
    "\n",
    "x_tick_labels = ['Bot', 'Verified', 'Rest', 'All']\n",
    "y_tick_labels = [  '0',  '1',  '2', '3', '4', '5', '6']\n",
    "ax.set_xticklabels(x_tick_labels)\n",
    "ax.set_ylabel('Last status posted \\n(years)', fontsize=12, labelpad=5)\n",
    "ax.set_yticks((0, 365, 730,1095, 1460, 1825, 2190))\n",
    "ax.set_ylim(-30,2190+30)\n",
    "ax.set_yticklabels(y_tick_labels)\n",
    "ax.spines.right.set_visible(False)\n",
    "ax.spines.top.set_visible(False)\n",
    "ax.set_xlabel('Account Types', fontsize=12, labelpad=5)\n",
    "fig.savefig(fig_txt, bbox_inches=\"tight\", dpi=600, facecolor='w')"
   ]
  },
  {
   "cell_type": "code",
   "execution_count": null,
   "id": "c0dd0a05",
   "metadata": {},
   "outputs": [],
   "source": [
    "fig_txt = \"BoxPlot_Account_Last_Active_Time_without_bot.png\"\n",
    "feature = 'LastActiveTime'\n",
    "my_dict = {'Verified': df_verified[feature],\n",
    "           'NBV': df_without_bot_and_verified[feature],\n",
    "           'All': df_all[feature] }\n",
    "\n",
    "h,v = 4,3\n",
    "fig, ax = plt.subplots(figsize = (h,v))\n",
    "box_followers = ax.boxplot(my_dict.values(), patch_artist=True, positions=[0,1,2,], showfliers=False)\n",
    "colors = [ 'lightblue', 'violet', 'orange']\n",
    "colors1 = [ 'blue', 'purple', 'yellow']\n",
    "\n",
    "for patch, color in zip(box_followers['boxes'], colors):\n",
    "    patch.set_facecolor(color)\n",
    "\n",
    "for median, color in zip(box_followers['medians'], colors1):\n",
    "    median.set_color(color)\n",
    "    median.set_linewidth(1.5)\n",
    "    \n",
    "hatch_style = ['..','\\\\\\\\',\"oo\"]    \n",
    "i = 0\n",
    "for box in box_followers['boxes']:\n",
    "    box.set_hatch(hatch_style[i])\n",
    "    i = i+1    \n",
    "    \n",
    "\n",
    "x_tick_labels = [ 'Verified', 'Rest', 'All']\n",
    "y_tick_labels = [ '0', '1',  '2', '3', '4', '5']\n",
    "ax.set_xticklabels(x_tick_labels)\n",
    "ax.set_ylabel('Last status posted \\n(months)', fontsize=12, labelpad=5)\n",
    "ax.set_yticks((0, 30, 60,90, 120, 150,))\n",
    "ax.set_ylim(-30,150+10)\n",
    "ax.set_yticklabels(y_tick_labels)\n",
    "ax.spines.right.set_visible(False)\n",
    "ax.spines.top.set_visible(False)\n",
    "ax.set_xlabel('Account Types', fontsize=12, labelpad=5)\n",
    "fig.savefig(fig_txt, bbox_inches=\"tight\", dpi=600, facecolor='w')"
   ]
  },
  {
   "cell_type": "code",
   "execution_count": null,
   "id": "b1241877",
   "metadata": {},
   "outputs": [],
   "source": [
    "df_without_bot_and_verified[feature].loc[df_without_bot_and_verified[feature] > 124]"
   ]
  },
  {
   "cell_type": "code",
   "execution_count": null,
   "id": "04d9deff",
   "metadata": {},
   "outputs": [],
   "source": []
  },
  {
   "cell_type": "code",
   "execution_count": null,
   "id": "1e3406a5",
   "metadata": {},
   "outputs": [],
   "source": [
    "fig_txt = \"BoxPlot_Account_Last_Active_Time_without_outliers.png\"\n",
    "feature = 'LastActiveTime'\n",
    "my_dict = {'Bot': df_bot[feature],\n",
    "           'Verified': df_verified[feature],\n",
    "           'NBV': df_without_bot_and_verified[feature],\n",
    "           'All': df_all[feature] }\n",
    "\n",
    "h,v = 4,3\n",
    "fig, ax = plt.subplots(figsize = (h,v))\n",
    "box_followers = ax.boxplot(my_dict.values(), patch_artist=True, positions=[0,1,2,3], showfliers=False)\n",
    "colors = ['pink', 'lightblue', 'violet', 'orange']\n",
    "colors1 = ['red', 'blue', 'purple', 'yellow']\n",
    "\n",
    "for patch, color in zip(box_followers['boxes'], colors):\n",
    "    patch.set_facecolor(color)\n",
    "\n",
    "for median, color in zip(box_followers['medians'], colors1):\n",
    "    median.set_color(color)\n",
    "    median.set_linewidth(1.5)\n",
    "    \n",
    "hatch_style = ['//','..','\\\\\\\\',\"oo\"]    \n",
    "i = 0\n",
    "for box in box_followers['boxes']:\n",
    "    box.set_hatch(hatch_style[i])\n",
    "    i = i+1    \n",
    "    \n",
    "\n",
    "x_tick_labels = ['Bot', 'Verified', 'Rest', 'All']\n",
    "y_tick_labels = [  '0',  '1',  '2', '3']\n",
    "ax.set_xticklabels(x_tick_labels)\n",
    "ax.set_ylabel('Last status posted \\n(years)', fontsize=12, labelpad=5)\n",
    "ax.set_yticks((0, 365, 730,1095))\n",
    "ax.set_ylim(-30,1095+30)\n",
    "ax.set_yticklabels(y_tick_labels)\n",
    "ax.spines.right.set_visible(False)\n",
    "ax.spines.top.set_visible(False)\n",
    "ax.set_xlabel('Account Types', fontsize=12, labelpad=5)\n",
    "fig.savefig(fig_txt, bbox_inches=\"tight\", dpi=600, facecolor='w')"
   ]
  },
  {
   "cell_type": "code",
   "execution_count": null,
   "id": "990b0f73",
   "metadata": {},
   "outputs": [],
   "source": [
    "df_all.columns"
   ]
  },
  {
   "cell_type": "code",
   "execution_count": null,
   "id": "a4783e55",
   "metadata": {},
   "outputs": [],
   "source": [
    "fig_txt = \"BoxPlot_Tweet_Engagement.png\"\n",
    "feature = 'Average_Engagement_on_Tweets'\n",
    "my_dict = {'Bot': np.log10(df_bot[feature]),\n",
    "           'Verified': np.log10(df_verified[feature]),\n",
    "           'NBV': np.log10(df_without_bot_and_verified[feature]),\n",
    "           'All': np.log10(df_all[feature]) }\n",
    "\n",
    "h,v = 4,3\n",
    "fig, ax = plt.subplots(figsize = (h,v))\n",
    "box_followers = ax.boxplot(my_dict.values(), patch_artist=True, positions=[0,1,2,3])\n",
    "colors = ['pink', 'lightblue', 'violet', 'orange']\n",
    "colors1 = ['red', 'blue', 'purple', 'yellow']\n",
    "\n",
    "for patch, color in zip(box_followers['boxes'], colors):\n",
    "    patch.set_facecolor(color)\n",
    "\n",
    "for median, color in zip(box_followers['medians'], colors1):\n",
    "    median.set_color(color)\n",
    "    median.set_linewidth(1.5)\n",
    "    \n",
    "hatch_style = ['//','..','\\\\\\\\',\"oo\"]    \n",
    "i = 0\n",
    "for box in box_followers['boxes']:\n",
    "    box.set_hatch(hatch_style[i])\n",
    "    i = i+1    \n",
    "    \n",
    "    \n",
    "y_tick_labels = [\"0\", \"$10^{-3}$\",\"$10^{-2}$\",\"$10^{-1}$\",\"$10^0$\",\"$10^1$\", \"$10^2$\",\"$10^3$\", \"$10^4$\"]\n",
    "x_tick_labels = ['Bot', 'Verified', 'Rest', 'All']\n",
    "ax.set_xticklabels(x_tick_labels)\n",
    "ax.set_ylabel('Average tweet engagement', fontsize=12, labelpad=5)\n",
    "ax.set_xlabel('Account Types', fontsize=12, labelpad=5)\n",
    "ax.set_yticklabels(y_tick_labels)\n",
    "ax.spines.right.set_visible(False)\n",
    "ax.spines.top.set_visible(False)\n",
    "fig.savefig(fig_txt, bbox_inches=\"tight\", dpi=600, facecolor='w')\n",
    "fig.show()"
   ]
  },
  {
   "cell_type": "code",
   "execution_count": null,
   "id": "ac02565d",
   "metadata": {},
   "outputs": [],
   "source": [
    "'''\n",
    "df_bot.loc[df_bot.Average_Engagement_on_Retweets == 0, 'Average_Engagement_on_Retweets'] = 0.00001\n",
    "fig_txt = \"BoxPlot_Retweet_Engagement.png\"\n",
    "feature = 'Average_Engagement_on_Retweets'\n",
    "my_dict = {'Bot': np.log10(df_bot[feature]),\n",
    "           'Verified': np.log10(df_verified[feature]),\n",
    "           'NBV': np.log10(df_without_bot_and_verified[feature]),\n",
    "           'All': np.log10(df_all[feature]) }\n",
    "\n",
    "fig, ax = plt.subplots(figsize = (8,4))\n",
    "box_followers = ax.boxplot(my_dict.values(), patch_artist=True, positions=[0,1,2,3])\n",
    "colors = ['pink', 'lightblue', 'violet', 'orange']\n",
    "colors1 = ['red', 'blue', 'purple', 'yellow']\n",
    "\n",
    "for patch, color in zip(box_followers['boxes'], colors):\n",
    "    patch.set_facecolor(color)\n",
    "\n",
    "for median, color in zip(box_followers['medians'], colors1):\n",
    "    median.set_color(color)\n",
    "    \n",
    "    \n",
    "\n",
    "x_tick_labels = ['Bot', 'Verified', 'Non-bot\\nand\\nnon-verified', 'All Accounts']\n",
    "ax.set_xticklabels(x_tick_labels)\n",
    "ax.set_ylabel('Average retweet engagement\\nin log-10 base', fontsize=12, labelpad=5)\n",
    "ax.set_xlabel('Account Types', fontsize=12, labelpad=5)\n",
    "fig.savefig(fig_txt, bbox_inches=\"tight\", dpi=600, facecolor='w')\n",
    "ax.spines.right.set_visible(False)\n",
    "ax.spines.top.set_visible(False)\n",
    "fig.show()\n",
    "'''"
   ]
  },
  {
   "cell_type": "code",
   "execution_count": null,
   "id": "bb86ab57",
   "metadata": {},
   "outputs": [],
   "source": [
    "fig_txt = \"BoxPlot_Average_Posts.png\"\n",
    "feature = 'AveragePosts'\n",
    "my_dict = {'Bot': np.log10(df_bot[feature]),\n",
    "           'Verified': np.log10(df_verified[feature]),\n",
    "           'NBV': np.log10(df_without_bot_and_verified[feature]),\n",
    "           'All': np.log10(df_all[feature]) }\n",
    "h,v = 4,3\n",
    "fig, ax = plt.subplots(figsize = (h,v))\n",
    "box_followers = ax.boxplot(my_dict.values(), patch_artist=True, positions=[0,1,2,3])\n",
    "colors = ['pink', 'lightblue', 'violet', 'orange']\n",
    "colors1 = ['red', 'blue', 'purple', 'yellow']\n",
    "\n",
    "for patch, color in zip(box_followers['boxes'], colors):\n",
    "    patch.set_facecolor(color)\n",
    "\n",
    "for median, color in zip(box_followers['medians'], colors1):\n",
    "    median.set_color(color)\n",
    "    median.set_linewidth(1.5)\n",
    "    \n",
    "hatch_style = ['//','..','\\\\\\\\',\"oo\"]    \n",
    "i = 0\n",
    "for box in box_followers['boxes']:\n",
    "    box.set_hatch(hatch_style[i])\n",
    "    i = i+1    \n",
    "    \n",
    "    \n",
    "y_tick_labels = [\"0\", \"$10^{-3}$\",\"$10^{-2}$\",\"$10^{-1}$\",\"$10^0$\",\"$10^1$\", \"$10^2$\",\"$10^3$\"]\n",
    "\n",
    "x_tick_labels = ['Bot', 'Verified', 'Rest', 'All']\n",
    "ax.set_xticklabels(x_tick_labels)\n",
    "ax.set_xlabel('Account Types', fontsize=12, labelpad=5)\n",
    "ax.set_ylabel('Average posts per day', fontsize=12, labelpad=5)\n",
    "ax.set_yticklabels(y_tick_labels)\n",
    "ax.spines.right.set_visible(False)\n",
    "ax.spines.top.set_visible(False)\n",
    "\n",
    "\n",
    "fig.savefig(fig_txt, bbox_inches=\"tight\", dpi=600, facecolor='w')\n",
    "fig.show()"
   ]
  },
  {
   "cell_type": "code",
   "execution_count": null,
   "id": "271fc2f2",
   "metadata": {},
   "outputs": [],
   "source": []
  },
  {
   "cell_type": "code",
   "execution_count": null,
   "id": "0657b3bf",
   "metadata": {},
   "outputs": [],
   "source": [
    "df_all.columns"
   ]
  },
  {
   "cell_type": "code",
   "execution_count": null,
   "id": "27bbb4b0",
   "metadata": {},
   "outputs": [],
   "source": [
    "fig_txt = \"BoxPlot_Ratio_Tweet_Retweet.png\"\n",
    "xxt = df_bot.Total_Tweet_Collected\n",
    "xxr = df_bot.Total_Retweet_Collected.replace(0,1)\n",
    "my_dict = {'Bot': np.log10(xxt/xxr.replace(0,1)),\n",
    "           'Verified': np.log10(df_verified.Total_Tweet_Collected/df_verified.Total_Retweet_Collected),\n",
    "           'NBV': np.log10(df_without_bot_and_verified.Total_Tweet_Collected/df_without_bot_and_verified.Total_Retweet_Collected),\n",
    "           'All': np.log10(df_all.Total_Tweet_Collected/df_all.Total_Retweet_Collected) }\n",
    "\n",
    "h,v = 4,3\n",
    "fig, ax = plt.subplots(figsize = (h,v))\n",
    "box_followers = ax.boxplot(my_dict.values(), patch_artist=True, positions=[0,1,2,3])\n",
    "colors = ['pink', 'lightblue', 'violet', 'orange']\n",
    "colors1 = ['red', 'blue', 'purple', 'yellow']\n",
    "\n",
    "for patch, color in zip(box_followers['boxes'], colors):\n",
    "    patch.set_facecolor(color)\n",
    "\n",
    "for median, color in zip(box_followers['medians'], colors1):\n",
    "    median.set_color(color)\n",
    "    median.set_linewidth(1.5)\n",
    "    \n",
    "hatch_style = ['//','..','\\\\\\\\',\"oo\"]    \n",
    "i = 0\n",
    "for box in box_followers['boxes']:\n",
    "    box.set_hatch(hatch_style[i])\n",
    "    i = i+1    \n",
    "    \n",
    "x_tick_labels = ['Bot', 'Verified', 'Rest', 'All Accounts']\n",
    "y_tick_labels = [\"0\", \"$10^{-4}$\",\"$10^{-2}$\",\"$10^{0}$\",\"$10^2$\",\"$10^4$\"]\n",
    "ax.set_xticklabels(x_tick_labels)\n",
    "ax.set_yticklabels(y_tick_labels)\n",
    "ax.set_ylabel('Ratio of tweet and retweet \\n(collected post)', fontsize=12, labelpad=5)\n",
    "ax.set_ylim(-4.2,4.2)\n",
    "ax.set_xlabel('Account Types', fontsize=12, labelpad=5)\n",
    "ax.spines.right.set_visible(False)\n",
    "ax.spines.top.set_visible(False)\n",
    "fig.savefig(fig_txt, bbox_inches=\"tight\", dpi=600, facecolor='w')\n",
    "fig.show()"
   ]
  },
  {
   "cell_type": "code",
   "execution_count": null,
   "id": "8b395531",
   "metadata": {},
   "outputs": [],
   "source": [
    "pd.DataFrame(my_dict['All'])"
   ]
  },
  {
   "cell_type": "code",
   "execution_count": null,
   "id": "74753a81",
   "metadata": {},
   "outputs": [],
   "source": []
  },
  {
   "cell_type": "code",
   "execution_count": null,
   "id": "4130277a",
   "metadata": {},
   "outputs": [],
   "source": [
    "fig_txt = \"BoxPlot_Ratio_Post_fake_tweet.png\"\n",
    "feature1 = 'TotalStatus'\n",
    "feature2 = '#_of_Fake_Tweets'\n",
    "my_dict = {'Bot': df_bot[feature2],\n",
    "           'Verified': df_verified[feature2],\n",
    "           'NBV': df_without_bot_and_verified[feature2],\n",
    "           'All': df_all[feature2] }\n",
    "\n",
    "h,v = 4,3\n",
    "fig, ax = plt.subplots(figsize = (h,v))\n",
    "box_followers = ax.boxplot(my_dict.values(), patch_artist=True, positions=[0,1,2,3])\n",
    "colors = ['pink', 'lightblue', 'violet', 'orange']\n",
    "colors1 = ['red', 'blue', 'purple', 'yellow']\n",
    "\n",
    "for patch, color in zip(box_followers['boxes'], colors):\n",
    "    patch.set_facecolor(color)\n",
    "\n",
    "for median, color in zip(box_followers['medians'], colors1):\n",
    "    median.set_color(color)\n",
    "    median.set_linewidth(1.5)\n",
    "    \n",
    "hatch_style = ['//','..','\\\\\\\\',\"oo\"]    \n",
    "i = 0\n",
    "for box in box_followers['boxes']:\n",
    "    box.set_hatch(hatch_style[i])\n",
    "    i = i+1    \n",
    "\n",
    "x_tick_labels = ['Bot', 'Verified', 'Rest', 'All']\n",
    "ax.set_xticklabels(x_tick_labels)\n",
    "ax.set_ylabel('Ratio of total posts \\nand fake posts', fontsize=12, labelpad=5)\n",
    "ax.set_xlabel('Account Types', fontsize=12, labelpad=5)\n",
    "ax.spines.right.set_visible(False)\n",
    "ax.spines.top.set_visible(False)\n",
    "fig.savefig(fig_txt, bbox_inches=\"tight\", dpi=600, facecolor='w')\n",
    "fig.show()"
   ]
  },
  {
   "cell_type": "code",
   "execution_count": null,
   "id": "cc7e6703",
   "metadata": {},
   "outputs": [],
   "source": [
    "df_all[['#_of_Fake_Tweets','TotalStatus']]"
   ]
  },
  {
   "cell_type": "code",
   "execution_count": null,
   "id": "6527b2b7",
   "metadata": {},
   "outputs": [],
   "source": [
    "print(sum(df_bot['#_of_Fake_Tweets'])/len(df_bot))\n",
    "print(sum(df_verified['#_of_Fake_Tweets'])/len(df_verified))\n",
    "print(sum(df_without_bot_and_verified['#_of_Fake_Tweets'])/len(df_without_bot_and_verified))\n",
    "print(sum(df_all['#_of_Fake_Tweets'])/len(df_all))"
   ]
  },
  {
   "cell_type": "code",
   "execution_count": null,
   "id": "aaef323f",
   "metadata": {},
   "outputs": [],
   "source": [
    "len(df_bot)"
   ]
  },
  {
   "cell_type": "code",
   "execution_count": null,
   "id": "dd638701",
   "metadata": {},
   "outputs": [],
   "source": []
  },
  {
   "cell_type": "code",
   "execution_count": null,
   "id": "05609175",
   "metadata": {},
   "outputs": [],
   "source": [
    "fig_txt = \"BoxPlot_Account_Last_Active_Time.png\"\n",
    "feature = '#_of_Fake_Tweets'\n",
    "my_dict = {'Bot': df_bot[feature],\n",
    "           'Verified': df_verified[feature],\n",
    "           'NBV': df_without_bot_and_verified[feature],\n",
    "           'All': df_all[feature] }\n",
    "\n",
    "fig, ax = plt.subplots(figsize = (8,4))\n",
    "box_followers = ax.boxplot(my_dict.values(), patch_artist=True, positions=[0,1,2,3])\n",
    "colors = ['pink', 'lightblue', 'violet', 'orange']\n",
    "colors1 = ['red', 'blue', 'purple', 'yellow']\n",
    "\n",
    "for patch, color in zip(box_followers['boxes'], colors):\n",
    "    patch.set_facecolor(color)\n",
    "\n",
    "for median, color in zip(box_followers['medians'], colors1):\n",
    "    median.set_color(color)\n",
    "    \n",
    "    \n",
    "\n",
    "x_tick_labels = ['Bot', 'Verified', 'Non-bot\\nand\\nnon-verified', 'All Accounts']\n",
    "ax.set_xticklabels(x_tick_labels)\n",
    "ax.set_ylabel('Account last active time \\nin days', fontsize=20, labelpad=5)\n",
    "ax.set_xlabel('Account Types', fontsize=20, labelpad=20)"
   ]
  },
  {
   "cell_type": "code",
   "execution_count": null,
   "id": "9f655e33",
   "metadata": {},
   "outputs": [],
   "source": [
    "print(sum(df_bot[feature])/len(df_bot[feature]))\n",
    "print(sum(df_verified[feature])/len(df_verified[feature]))\n",
    "print(sum(df_without_bot_and_verified[feature])/len(df_without_bot_and_verified[feature]))\n",
    "print(sum(df_all[feature])/len(df_all[feature]))"
   ]
  },
  {
   "cell_type": "code",
   "execution_count": null,
   "id": "05700afb",
   "metadata": {},
   "outputs": [],
   "source": [
    "text = df_all['UserDescription'].values \n",
    "\n",
    "wordcloud = WordCloud().generate(str(text))\n",
    "\n",
    "plt.imshow(wordcloud)\n",
    "plt.axis(\"off\")\n",
    "plt.show()"
   ]
  },
  {
   "cell_type": "code",
   "execution_count": null,
   "id": "aca7ed66",
   "metadata": {},
   "outputs": [],
   "source": [
    "text = df_all['UserLocation'].values \n",
    "\n",
    "wordcloud = WordCloud().generate(str(text))\n",
    "\n",
    "plt.imshow(wordcloud)\n",
    "plt.axis(\"off\")\n",
    "plt.show()"
   ]
  },
  {
   "cell_type": "code",
   "execution_count": null,
   "id": "bdf8534f",
   "metadata": {},
   "outputs": [],
   "source": [
    "df_all.groupby('Post_Count').count().reset_index()"
   ]
  },
  {
   "cell_type": "code",
   "execution_count": null,
   "id": "3b4c4620",
   "metadata": {},
   "outputs": [],
   "source": [
    "matplotlib.rcParams.update({'font.size': 22})\n",
    "matplotlib.rc('font', family='Arial') \n",
    "csfont = {'fontname':'Comic Sans MS'}\n",
    "hfont = {'fontname':'Arial'}"
   ]
  },
  {
   "cell_type": "code",
   "execution_count": null,
   "id": "ed3d2a3a",
   "metadata": {},
   "outputs": [],
   "source": [
    "matplotlib.rcParams.update({'font.size': 16})\n",
    "matplotlib.rc('font', family='Arial') \n",
    "csfont = {'fontname':'Comic Sans MS'}\n",
    "hfont = {'fontname':'Arial'}\n",
    "data_post_nonbot_non_verified = {'Between 1-100' : 229,\n",
    "                                'Between 101-500': 408,\n",
    "                                 'Between 501-1000': 364,\n",
    "                                 'Between 1001-3300': 4224,\n",
    "                                 'Over 3300': 297}\n",
    "\n",
    "key_1 = list(data_post_nonbot_non_verified.keys())\n",
    "val_1 = list(data_post_nonbot_non_verified.values())\n",
    "\n",
    "fig, ax = plt.subplots(1, figsize=(8,6)) \n",
    "ax.spines.right.set_visible(False)\n",
    "ax.spines.top.set_visible(False)\n",
    "bars = ax.barh(key_1, val_1, color ='#A890F0', )\n",
    "\n",
    "ax.bar_label(bars, padding= 10)\n",
    "ax.set_xlabel(\"Number of Accounts\", fontsize=20, labelpad=10)\n",
    "ax.set_ylabel(\"Collected Posts\", fontsize=20, labelpad=10)\n",
    "fig.savefig(\"Collected_Post_Distribution_all_accounts.png\", bbox_inches=\"tight\", dpi=600, facecolor='w')\n",
    "fig.show()"
   ]
  },
  {
   "cell_type": "code",
   "execution_count": null,
   "id": "0d66d821",
   "metadata": {},
   "outputs": [],
   "source": [
    "matplotlib.rcParams.update({'font.size': 14})\n",
    "groups = df_all.groupby('verification')\n",
    "fig, ax = plt.subplots(1, figsize=(8,5))\n",
    "c1 = ['brown', 'blue']\n",
    "m1 = [\".\", \"*\"]\n",
    "a1 = [0.5, 0.5]\n",
    "i=0\n",
    "for name, group in groups:\n",
    "    ax.scatter( np.log10(group.UserFollowers),\n",
    "                group.AveragePosts,\n",
    "                label = name, \n",
    "                alpha=a1[i],\n",
    "                facecolors=c1[i],\n",
    "                edgecolors =c1[i],\n",
    "                marker = m1[i])\n",
    "    \n",
    "    i=i+1\n",
    "ax.legend()\n",
    "x_tick_labels = [\"0\",\"$10^0$\",\"$10^1$\",\"$10^2$\",\"$10^3$\",\"$10^4$\",\"$10^5$\",\"$10^6$\",\"$10^7$\", \"$10^8$\"]\n",
    "ax.set_xticklabels(x_tick_labels)\n",
    "ax.set_ylabel(\"Average posts per day\", fontsize=16, labelpad=10)\n",
    "ax.set_xlabel(\"Number of followers\", fontsize=16, labelpad=10)\n",
    "\n",
    "ax.spines.right.set_visible(False)\n",
    "ax.spines.top.set_visible(False)\n",
    "fig.savefig(\"Verified_updated.png\", bbox_inches=\"tight\", dpi=600, facecolor='w')"
   ]
  },
  {
   "cell_type": "code",
   "execution_count": null,
   "id": "35002122",
   "metadata": {},
   "outputs": [],
   "source": [
    "matplotlib.rcParams.update({'font.size': 14})\n",
    "groups = df_all.groupby('verification')\n",
    "fig, ax = plt.subplots(1, figsize=(8,5))\n",
    "c1 = ['brown', 'blue']\n",
    "m1 = [\".\", \"*\"]\n",
    "a1 = [0.6, 0.4]\n",
    "i=0\n",
    "for name, group in groups:\n",
    "    ax.scatter( np.log10(group.UserFollowers),\n",
    "                np.log10(group.UserFriends),\n",
    "                label = name, \n",
    "                alpha=a1[i],\n",
    "                facecolors=c1[i],\n",
    "                edgecolors =c1[i],\n",
    "                marker = m1[i])\n",
    "    \n",
    "    i=i+1\n",
    "ax.legend()\n",
    "\n",
    "ax.spines.right.set_visible(False)\n",
    "ax.spines.top.set_visible(False)\n",
    "fig.savefig(\"Verified_updated.png\", bbox_inches=\"tight\", dpi=600, facecolor='w')"
   ]
  },
  {
   "cell_type": "code",
   "execution_count": null,
   "id": "b883bca9",
   "metadata": {},
   "outputs": [],
   "source": [
    "print(len(df_all.loc[df_all['UserFollowers'].between(0, 100, inclusive='both')]))\n",
    "print(len(df_all.loc[df_all['UserFollowers'].between(101, 500, inclusive='both')]))\n",
    "print(len(df_all.loc[df_all['UserFollowers'].between(501, 1000, inclusive='both')]))\n",
    "print(len(df_all.loc[df_all['UserFollowers'].between(1001, 2500, inclusive='both')]))\n",
    "print(len(df_all.loc[df_all['UserFollowers'].between(2501,5000, inclusive='both')]))\n",
    "print(len(df_all.loc[df_all['UserFollowers'].between(5001,10000, inclusive='both')]))\n",
    "print(len(df_all.loc[df_all['UserFollowers'].between(10001,25000, inclusive='both')]))\n",
    "print(len(df_all.loc[df_all['UserFollowers'].between(25001,50000, inclusive='both')]))\n",
    "print(len(df_all.loc[df_all['UserFollowers'].between(50001,100000, inclusive='both')]))\n",
    "print(len(df_all.loc[df_all['UserFollowers'].between(100001,500000, inclusive='both')]))\n",
    "print(len(df_all.loc[df_all['UserFollowers'].between(500001,1000000, inclusive='both')]))\n",
    "print(len(df_all.loc[df_all['UserFollowers'].between(1000001,5000000, inclusive='both')]))\n",
    "print(len(df_all.loc[df_all['UserFollowers'].between(5000001,10000000, inclusive='both')]))\n",
    "print(len(df_all.loc[df_all['UserFollowers'].between(10000001,50000000, inclusive='both')]))"
   ]
  },
  {
   "cell_type": "code",
   "execution_count": null,
   "id": "ae1d9eb8",
   "metadata": {},
   "outputs": [],
   "source": [
    "print(len(df_all.loc[df_all['UserFollowers'].between(0, 100, inclusive=True)]))"
   ]
  },
  {
   "cell_type": "code",
   "execution_count": null,
   "id": "e3fb1a92",
   "metadata": {},
   "outputs": [],
   "source": [
    "1101+1196+650+883+538+406+368+127+57+998+40+49+21+11+6+23+18"
   ]
  },
  {
   "cell_type": "code",
   "execution_count": null,
   "id": "e4e1cdab",
   "metadata": {},
   "outputs": [],
   "source": [
    "print(len(df_all.loc[df_all['UserFriends'].between(0, 100, inclusive='both')]))\n",
    "print(len(df_all.loc[df_all['UserFriends'].between(101, 500, inclusive='both')]))\n",
    "print(len(df_all.loc[df_all['UserFriends'].between(501, 1000, inclusive='both')]))\n",
    "print(len(df_all.loc[df_all['UserFriends'].between(1001, 2500, inclusive='both')]))\n",
    "print(len(df_all.loc[df_all['UserFriends'].between(2501,5000, inclusive='both')]))\n",
    "print(len(df_all.loc[df_all['UserFriends'].between(5001,10000, inclusive='both')]))\n",
    "print(len(df_all.loc[df_all['UserFriends'].between(10001,25000, inclusive='both')]))\n",
    "print(len(df_all.loc[df_all['UserFriends'].between(25001,50000, inclusive='both')]))\n",
    "print(len(df_all.loc[df_all['UserFriends'].between(50001,100000, inclusive='both')]))\n",
    "print(len(df_all.loc[df_all['UserFriends'].between(100001,500000, inclusive='both')]))"
   ]
  },
  {
   "cell_type": "code",
   "execution_count": null,
   "id": "7470dee8",
   "metadata": {},
   "outputs": [],
   "source": [
    "\n",
    "print(len(df_all.loc[df_all['TotalStatus'].between(0, 100, inclusive='both')]))\n",
    "print(len(df_all.loc[df_all['TotalStatus'].between(101, 500, inclusive='both')]))\n",
    "print(len(df_all.loc[df_all['TotalStatus'].between(501, 1000, inclusive='both')]))\n",
    "print(len(df_all.loc[df_all['TotalStatus'].between(1001, 2500, inclusive='both')]))\n",
    "print(len(df_all.loc[df_all['TotalStatus'].between(2501,5000, inclusive='both')]))\n",
    "print(len(df_all.loc[df_all['TotalStatus'].between(5001,10000, inclusive='both')]))\n",
    "print(len(df_all.loc[df_all['TotalStatus'].between(10001,25000, inclusive='both')]))\n",
    "print(len(df_all.loc[df_all['TotalStatus'].between(25001,50000, inclusive='both')]))\n",
    "print(len(df_all.loc[df_all['TotalStatus'].between(50001,100000, inclusive='both')]))\n",
    "print(len(df_all.loc[df_all['TotalStatus'].between(100001,500000, inclusive='both')]))\n",
    "print(len(df_all.loc[df_all['TotalStatus'].between(500001,1000000, inclusive='both')]))\n",
    "print(len(df_all.loc[df_all['TotalStatus'].between(1000001,5000000, inclusive='both')]))"
   ]
  },
  {
   "cell_type": "code",
   "execution_count": null,
   "id": "2283c772",
   "metadata": {},
   "outputs": [],
   "source": [
    "df_all.columns"
   ]
  },
  {
   "cell_type": "code",
   "execution_count": null,
   "id": "7f8e28ed",
   "metadata": {},
   "outputs": [],
   "source": [
    "df_desc = df_all.describe()"
   ]
  },
  {
   "cell_type": "code",
   "execution_count": null,
   "id": "2a1a50f4",
   "metadata": {},
   "outputs": [],
   "source": [
    "pd.options.display.float_format = '{:.2f}'.format"
   ]
  },
  {
   "cell_type": "code",
   "execution_count": null,
   "id": "a6e0098e",
   "metadata": {},
   "outputs": [],
   "source": [
    "df_desc.transpose()[['mean', 'std', 'min', 'max', '50%']]"
   ]
  },
  {
   "cell_type": "code",
   "execution_count": null,
   "id": "a744dcb3",
   "metadata": {},
   "outputs": [],
   "source": [
    "df_without_bot_and_verified[['TotalStatus', 'Total_Post_Collected']].loc[(df_without_bot_and_verified.TotalStatus < 10)\n",
    "                                                                        &\n",
    "                                                                        ((df_without_bot_and_verified.TotalStatus < 10))]"
   ]
  },
  {
   "cell_type": "code",
   "execution_count": null,
   "id": "76b8d483",
   "metadata": {},
   "outputs": [],
   "source": [
    "df_bot.Total_Post_Collected"
   ]
  },
  {
   "cell_type": "code",
   "execution_count": null,
   "id": "12a50180",
   "metadata": {},
   "outputs": [],
   "source": [
    "print(len(df_bot.loc[df_bot.TotalStatus < 30]))\n",
    "print(len(df_bot.loc[df_bot.Total_Post_Collected < 30]))"
   ]
  },
  {
   "cell_type": "code",
   "execution_count": null,
   "id": "58f94475",
   "metadata": {},
   "outputs": [],
   "source": [
    "print(len(df_bot.loc[df_bot.Total_Post_Collected > 3000]))"
   ]
  },
  {
   "cell_type": "code",
   "execution_count": null,
   "id": "f844ee91",
   "metadata": {},
   "outputs": [],
   "source": [
    "print(len(df_bot.loc[df_bot.Total_Post_Collected >= 30]))"
   ]
  },
  {
   "cell_type": "code",
   "execution_count": null,
   "id": "5f772b5d",
   "metadata": {},
   "outputs": [],
   "source": [
    "print(len(df_bot.loc[df_bot.Total_Post_Collected < 22]))"
   ]
  },
  {
   "cell_type": "code",
   "execution_count": null,
   "id": "c42db68d",
   "metadata": {},
   "outputs": [],
   "source": [
    "df_without_bot_and_verified"
   ]
  },
  {
   "cell_type": "markdown",
   "id": "ba3f5e60",
   "metadata": {},
   "source": [
    "# Influencers from Regular"
   ]
  },
  {
   "cell_type": "code",
   "execution_count": null,
   "id": "6fed6d79",
   "metadata": {},
   "outputs": [],
   "source": [
    "ratio = [10,20,50,100]\n",
    "avg_engagement = [10,20,50,100]\n",
    "\n",
    "for i in ratio:\n",
    "    for j in avg_engagement:\n",
    "        acc_tot = len(df_without_bot_and_verified.loc[(df_without_bot_and_verified.UserFollowers/df_without_bot_and_verified.UserFriends >= i)\n",
    "                                        & (df_without_bot_and_verified.Average_Engagement_on_Tweets >= j)])\n",
    "        print(\"Ratio: {} and avg. engagement: {} ---> Total Account: {}\".format(str(i), str(j), str(acc_tot)))"
   ]
  },
  {
   "cell_type": "code",
   "execution_count": null,
   "id": "31e524c3",
   "metadata": {},
   "outputs": [],
   "source": [
    "df_all"
   ]
  },
  {
   "cell_type": "code",
   "execution_count": null,
   "id": "17ab84ea",
   "metadata": {},
   "outputs": [],
   "source": []
  },
  {
   "cell_type": "code",
   "execution_count": null,
   "id": "98570305",
   "metadata": {},
   "outputs": [],
   "source": []
  },
  {
   "cell_type": "code",
   "execution_count": null,
   "id": "ce8b415f",
   "metadata": {},
   "outputs": [],
   "source": []
  },
  {
   "cell_type": "code",
   "execution_count": null,
   "id": "5b29ef50",
   "metadata": {},
   "outputs": [],
   "source": []
  },
  {
   "cell_type": "code",
   "execution_count": null,
   "id": "f509e4fd",
   "metadata": {},
   "outputs": [],
   "source": []
  },
  {
   "cell_type": "code",
   "execution_count": null,
   "id": "e06fa78a",
   "metadata": {},
   "outputs": [],
   "source": []
  },
  {
   "cell_type": "code",
   "execution_count": null,
   "id": "ef0c2328",
   "metadata": {},
   "outputs": [],
   "source": []
  },
  {
   "cell_type": "code",
   "execution_count": null,
   "id": "6bb4ccf4",
   "metadata": {},
   "outputs": [],
   "source": [
    "df_all"
   ]
  },
  {
   "cell_type": "markdown",
   "id": "c49ca0be",
   "metadata": {},
   "source": [
    "# Tweet Engagement|"
   ]
  },
  {
   "cell_type": "code",
   "execution_count": null,
   "id": "ee6622ae",
   "metadata": {},
   "outputs": [],
   "source": [
    "df_fake_only_tweet = df_fake_tweet_unique.loc[df_fake_tweet_unique.Retweet == False]"
   ]
  },
  {
   "cell_type": "code",
   "execution_count": null,
   "id": "07d400da",
   "metadata": {},
   "outputs": [],
   "source": [
    "df_fake_only_tweet.groupby('User_ID').max(numeric_only=True).reset_index()"
   ]
  },
  {
   "cell_type": "code",
   "execution_count": null,
   "id": "5f335e46",
   "metadata": {},
   "outputs": [],
   "source": []
  },
  {
   "cell_type": "code",
   "execution_count": null,
   "id": "8298d113",
   "metadata": {},
   "outputs": [],
   "source": [
    "df_top_post = pd.DataFrame(columns = ['User_ID', 'P1E1', 'P1R1', 'P1F1', 'P2E2', 'P2R2', 'P2F2','P3E3', 'P3R3', 'P3F3'\n",
    "                                     ,'P4E4', 'P4R4', 'P4F4','P5E5', 'P5R5', 'P5F5','P6E6', 'P6R6', 'P6F6',\n",
    "                                     'P7E7', 'P7R7', 'P7F7','P8E8', 'P8R8', 'P8F8','P9E9', 'P9R9', 'P9F9',\n",
    "                                     'P10E10', 'P10R10', 'P10F10'])"
   ]
  },
  {
   "cell_type": "code",
   "execution_count": null,
   "id": "c0745b07",
   "metadata": {},
   "outputs": [],
   "source": []
  },
  {
   "cell_type": "code",
   "execution_count": null,
   "id": "88c35301",
   "metadata": {},
   "outputs": [],
   "source": []
  },
  {
   "cell_type": "code",
   "execution_count": null,
   "id": "4294888d",
   "metadata": {},
   "outputs": [],
   "source": [
    "df_top_post\n",
    "df_top_post = pd.concat([pd.DataFrame(df_fake_only_tweet.groupby('User_ID').max(numeric_only=True).reset_index().User_ID),df_top_post]).replace(np.nan, 0)"
   ]
  },
  {
   "cell_type": "code",
   "execution_count": null,
   "id": "2c91bd17",
   "metadata": {},
   "outputs": [],
   "source": [
    "print(df_fake_only_tweet.loc[df_fake_only_tweet.User_ID == 6509832].Engagement_Count.nlargest(1))\n",
    "print(df_fake_only_tweet.loc[df_fake_only_tweet.User_ID == 6509832].Retweet_Count.nlargest(1))\n",
    "print(df_fake_only_tweet.loc[df_fake_only_tweet.User_ID == 6509832].Favorite_Count.nlargest(1))"
   ]
  },
  {
   "cell_type": "code",
   "execution_count": null,
   "id": "d798e24b",
   "metadata": {},
   "outputs": [],
   "source": [
    "x = df_fake_only_tweet.loc[df_fake_only_tweet.User_ID == 6509832].Engagement_Count.nlargest(1)\n",
    "y = df_fake_only_tweet.loc[df_fake_only_tweet.User_ID == 6509832].Retweet_Count.nlargest(1)\n",
    "z = df_fake_only_tweet.loc[df_fake_only_tweet.User_ID == 6509832].Favorite_Count.nlargest(1)"
   ]
  },
  {
   "cell_type": "code",
   "execution_count": null,
   "id": "1ac15177",
   "metadata": {},
   "outputs": [],
   "source": [
    "print(int(x))\n",
    "print(int(y))\n",
    "print(int(z))"
   ]
  },
  {
   "cell_type": "code",
   "execution_count": null,
   "id": "23abd331",
   "metadata": {},
   "outputs": [],
   "source": []
  },
  {
   "cell_type": "code",
   "execution_count": null,
   "id": "d38cd54a",
   "metadata": {},
   "outputs": [],
   "source": [
    "for index, row in df_top_post.iterrows():\n",
    "    x = df_fake_only_tweet.loc[df_fake_only_tweet.User_ID == df_top_post.at[index, 'User_ID']].Engagement_Count.nlargest(1)\n",
    "    y = df_fake_only_tweet.loc[df_fake_only_tweet.User_ID == df_top_post.at[index, 'User_ID']].Retweet_Count.nlargest(1)\n",
    "    z = df_fake_only_tweet.loc[df_fake_only_tweet.User_ID == df_top_post.at[index, 'User_ID']].Favorite_Count.nlargest(1)\n",
    "    df_top_post.at[index, 'P1E1'] = int(x)\n",
    "    df_top_post.at[index, 'P1R1'] = int(y)\n",
    "    df_top_post.at[index, 'P1F1'] = int(z)"
   ]
  },
  {
   "cell_type": "code",
   "execution_count": null,
   "id": "32ac3ab8",
   "metadata": {},
   "outputs": [],
   "source": [
    "df_top_post"
   ]
  },
  {
   "cell_type": "code",
   "execution_count": null,
   "id": "7c148c91",
   "metadata": {},
   "outputs": [],
   "source": [
    "for index, row in df_top_post.iterrows():\n",
    "    try:\n",
    "        x = df_fake_only_tweet.loc[df_fake_only_tweet.User_ID == \n",
    "                                   df_top_post.at[index, 'User_ID']].Engagement_Count.nlargest(2).reset_index(drop=True)[1]\n",
    "        df_top_post.at[index, 'P2E2'] = int(x)\n",
    "    except:\n",
    "        df_top_post.at[index, 'P2E2'] = -1\n",
    "        \n",
    "    try:\n",
    "        y = df_fake_only_tweet.loc[df_fake_only_tweet.User_ID == \n",
    "                                   df_top_post.at[index, 'User_ID']].Retweet_Count.nlargest(2).reset_index(drop=True)[1]\n",
    "        df_top_post.at[index, 'P2R2'] = int(y)\n",
    "    except:\n",
    "        df_top_post.at[index, 'P2R2'] = -1\n",
    "        \n",
    "    try:\n",
    "        z = df_fake_only_tweet.loc[df_fake_only_tweet.User_ID == \n",
    "                                   df_top_post.at[index, 'User_ID']].Favorite_Count.nlargest(2).reset_index(drop=True)[1]\n",
    "        df_top_post.at[index, 'P2F2'] = int(z)\n",
    "    except:\n",
    "        df_top_post.at[index, 'P2F2'] = -1\n"
   ]
  },
  {
   "cell_type": "code",
   "execution_count": null,
   "id": "6a7aa1ac",
   "metadata": {},
   "outputs": [],
   "source": [
    "for i in range(4,11):\n",
    "    large = i\n",
    "    col1 = 'P'+ str(i) + 'E' + str(i) \n",
    "    col2 = 'P'+ str(i) + 'R' + str(i) \n",
    "    col3 = 'P'+ str(i) + 'F' + str(i) \n",
    "    for index, row in df_top_post.iterrows():\n",
    "        try:\n",
    "            x = df_fake_only_tweet.loc[df_fake_only_tweet.User_ID == \n",
    "                                       df_top_post.at[index, 'User_ID']].Engagement_Count.nlargest(large).reset_index(drop=True)[large-1]\n",
    "            df_top_post.at[index, col1] = int(x)\n",
    "        except:\n",
    "            df_top_post.at[index, col1] = -1\n",
    "\n",
    "        try:\n",
    "            y = df_fake_only_tweet.loc[df_fake_only_tweet.User_ID == \n",
    "                                       df_top_post.at[index, 'User_ID']].Retweet_Count.nlargest(large).reset_index(drop=True)[large-1]\n",
    "            df_top_post.at[index, col2] = int(y)\n",
    "        except:\n",
    "            df_top_post.at[index, col2] = -1\n",
    "\n",
    "        try:\n",
    "            z = df_fake_only_tweet.loc[df_fake_only_tweet.User_ID == \n",
    "                                       df_top_post.at[index, 'User_ID']].Favorite_Count.nlargest(large).reset_index(drop=True)[large-1]\n",
    "            df_top_post.at[index, col3] = int(z)\n",
    "        except:\n",
    "            df_top_post.at[index, col3] = -1"
   ]
  },
  {
   "cell_type": "code",
   "execution_count": null,
   "id": "50305f0e",
   "metadata": {},
   "outputs": [],
   "source": []
  },
  {
   "cell_type": "code",
   "execution_count": null,
   "id": "c9a54b33",
   "metadata": {},
   "outputs": [],
   "source": [
    "i=3\n",
    "col1 = 'P'+ str(i) + 'E' + str(i)"
   ]
  },
  {
   "cell_type": "code",
   "execution_count": null,
   "id": "2abdcbe6",
   "metadata": {},
   "outputs": [],
   "source": [
    "col1"
   ]
  },
  {
   "cell_type": "code",
   "execution_count": null,
   "id": "92863114",
   "metadata": {},
   "outputs": [],
   "source": []
  },
  {
   "cell_type": "code",
   "execution_count": null,
   "id": "3c58ccde",
   "metadata": {},
   "outputs": [],
   "source": [
    "df_fake_only_tweet.loc[df_fake_only_tweet.User_ID == 954760928632872960].Engagement_Count.nlargest(10)"
   ]
  },
  {
   "cell_type": "code",
   "execution_count": null,
   "id": "a965437e",
   "metadata": {},
   "outputs": [],
   "source": [
    "df_top_post"
   ]
  },
  {
   "cell_type": "code",
   "execution_count": null,
   "id": "f741be77",
   "metadata": {},
   "outputs": [],
   "source": [
    "df_top_result = pd.merge(df_all[['User_ID', 'acc_type']],df_top_post, how= 'left')"
   ]
  },
  {
   "cell_type": "code",
   "execution_count": null,
   "id": "6b93611b",
   "metadata": {},
   "outputs": [],
   "source": [
    "df_top_result= df_top_result.replace(-1, 0)"
   ]
  },
  {
   "cell_type": "code",
   "execution_count": null,
   "id": "489b2656",
   "metadata": {},
   "outputs": [],
   "source": [
    "df_top_result= df_top_result.replace(np.nan, 0)"
   ]
  },
  {
   "cell_type": "code",
   "execution_count": null,
   "id": "e515002d",
   "metadata": {},
   "outputs": [],
   "source": [
    "df_top_result['Top1Engagement']=df_top_result['P1E1']\n",
    "df_top_result['Top1Retweet']=df_top_result['P1R1']\n",
    "df_top_result['Top1Favorite']=df_top_result['P1F1']\n",
    "\n",
    "df_top_result['Top3Engagement']=df_top_result['P1E1'] + df_top_result['P2E2'] + df_top_result['P3E3']\n",
    "df_top_result['Top3Retweet']=df_top_result['P1R1'] + df_top_result['P2R2'] + df_top_result['P3R3']\n",
    "df_top_result['Top3Favorite']=df_top_result['P1F1'] + df_top_result['P2F2'] + df_top_result['P3F3']\n",
    "\n",
    "df_top_result['Top10Engagement']=df_top_result['P1E1'] + df_top_result['P2E2'] + df_top_result['P3E3'] + df_top_result['P4E4'] + df_top_result['P5E5'] + df_top_result['P6E6'] + df_top_result['P7E7'] + df_top_result['P8E8'] + df_top_result['P9E9'] + df_top_result['P10E10'] \n",
    "df_top_result['Top10Retweet']=df_top_result['P1R1'] + df_top_result['P2R2'] + df_top_result['P3R3'] + df_top_result['P4R4'] + df_top_result['P5R5'] + df_top_result['P6R6'] + df_top_result['P7R7'] + df_top_result['P8R8'] + df_top_result['P9R9'] + df_top_result['P10R10'] \n",
    "df_top_result['Top10Favorite']=df_top_result['P1F1'] + df_top_result['P2F2'] + df_top_result['P3F3'] + df_top_result['P4F4'] + df_top_result['P5F5'] + df_top_result['P6F6'] + df_top_result['P7F7'] + df_top_result['P8F8'] + df_top_result['P9F9'] + df_top_result['P10F10'] "
   ]
  },
  {
   "cell_type": "code",
   "execution_count": null,
   "id": "39d69e92",
   "metadata": {},
   "outputs": [],
   "source": [
    "df_top_result.Top3Engagement"
   ]
  },
  {
   "cell_type": "code",
   "execution_count": null,
   "id": "4c114041",
   "metadata": {},
   "outputs": [],
   "source": [
    "df_top_result.to_csv('Account_Engagement.csv')"
   ]
  },
  {
   "cell_type": "code",
   "execution_count": null,
   "id": "c55c0ed3",
   "metadata": {},
   "outputs": [],
   "source": [
    "df_top_result"
   ]
  },
  {
   "cell_type": "code",
   "execution_count": null,
   "id": "0681aff0",
   "metadata": {},
   "outputs": [],
   "source": []
  },
  {
   "cell_type": "markdown",
   "id": "9c59ee9a",
   "metadata": {},
   "source": [
    "# H-Index Calculations\n"
   ]
  },
  {
   "cell_type": "code",
   "execution_count": null,
   "id": "0c2b2e22",
   "metadata": {},
   "outputs": [],
   "source": [
    "df_top_result.loc[df_top_result.acc_type == 'Regular'][feature].replace(np.nan, 0)"
   ]
  },
  {
   "cell_type": "code",
   "execution_count": null,
   "id": "0cabfec6",
   "metadata": {},
   "outputs": [],
   "source": [
    "df_citation_per_tweet=df_fake_only_tweet.drop_duplicates('Tweet_ID', keep = 'first')[['User_ID', 'Retweet_Count']]"
   ]
  },
  {
   "cell_type": "code",
   "execution_count": null,
   "id": "333fd1d9",
   "metadata": {},
   "outputs": [],
   "source": []
  },
  {
   "cell_type": "code",
   "execution_count": null,
   "id": "396e83d8",
   "metadata": {},
   "outputs": [],
   "source": [
    "def H_index(citations):\n",
    "      \n",
    "    try:\n",
    "        citations.sort()\n",
    "\n",
    "        for i, cited in enumerate(citations):\n",
    "\n",
    "            result = len(citations) - i\n",
    "\n",
    "            if result <= cited:\n",
    "                return result\n",
    "\n",
    "        return 0\n",
    "    except:\n",
    "        return -1\n",
    "\n",
    "\n",
    "h_val_cal = []\n",
    "for i in df_all.User_ID:\n",
    "    citation = H_index(df_citation_per_tweet.loc[df_citation_per_tweet.User_ID == i].Retweet_Count.reset_index(drop= True).tolist())\n",
    "    h_val_cal.append(citation)\n",
    "  \n"
   ]
  },
  {
   "cell_type": "code",
   "execution_count": null,
   "id": "9ceb9c2b",
   "metadata": {},
   "outputs": [],
   "source": [
    "len(h_val_cal)"
   ]
  },
  {
   "cell_type": "code",
   "execution_count": null,
   "id": "dd291a29",
   "metadata": {},
   "outputs": [],
   "source": []
  },
  {
   "cell_type": "code",
   "execution_count": null,
   "id": "71455f32",
   "metadata": {},
   "outputs": [],
   "source": [
    "d = {'User_ID':df_all.User_ID,'h-index_retweet':h_val_cal}"
   ]
  },
  {
   "cell_type": "code",
   "execution_count": null,
   "id": "b6116940",
   "metadata": {},
   "outputs": [],
   "source": [
    "df_citation_result =pd.DataFrame(d)"
   ]
  },
  {
   "cell_type": "code",
   "execution_count": null,
   "id": "4c319a0b",
   "metadata": {},
   "outputs": [],
   "source": []
  },
  {
   "cell_type": "code",
   "execution_count": null,
   "id": "269794d4",
   "metadata": {},
   "outputs": [],
   "source": [
    "df_all = pd.merge(df_all,df_citation_result)"
   ]
  },
  {
   "cell_type": "code",
   "execution_count": null,
   "id": "41fe4fbc",
   "metadata": {},
   "outputs": [],
   "source": [
    "df_citation_per_tweet_all=df_fake_only_tweet.drop_duplicates('Tweet_ID', keep = 'first')[['User_ID', 'Engagement_Count']]"
   ]
  },
  {
   "cell_type": "code",
   "execution_count": null,
   "id": "6391033a",
   "metadata": {},
   "outputs": [],
   "source": [
    "def H_index(citations):\n",
    "      \n",
    "    try:\n",
    "        citations.sort()\n",
    "\n",
    "        for i, cited in enumerate(citations):\n",
    "\n",
    "            result = len(citations) - i\n",
    "\n",
    "            if result <= cited:\n",
    "                return result\n",
    "\n",
    "        return 0\n",
    "    except:\n",
    "        return -1\n",
    "\n",
    "\n",
    "h_val_cal = []\n",
    "for i in df_all.User_ID:\n",
    "    citation = H_index(df_citation_per_tweet_all.loc[df_citation_per_tweet_all.User_ID == i].Engagement_Count.reset_index(drop= True).tolist())\n",
    "    h_val_cal.append(citation)\n",
    "  \n",
    "d = {'User_ID':df_all.User_ID,'h-index_Total':h_val_cal}\n",
    "df_citation_result_all =pd.DataFrame(d)"
   ]
  },
  {
   "cell_type": "code",
   "execution_count": null,
   "id": "1b8180c6",
   "metadata": {},
   "outputs": [],
   "source": [
    "df_all =pd.merge(df_all,df_citation_result_all)"
   ]
  },
  {
   "cell_type": "code",
   "execution_count": null,
   "id": "1c7d9630",
   "metadata": {},
   "outputs": [],
   "source": [
    "df_all"
   ]
  },
  {
   "cell_type": "code",
   "execution_count": null,
   "id": "48b6a381",
   "metadata": {},
   "outputs": [],
   "source": [
    "df_all"
   ]
  },
  {
   "cell_type": "code",
   "execution_count": null,
   "id": "40f154de",
   "metadata": {},
   "outputs": [],
   "source": []
  },
  {
   "cell_type": "code",
   "execution_count": null,
   "id": "2a35972b",
   "metadata": {},
   "outputs": [],
   "source": [
    "df_all.to_csv('All_Fake_Accounts_October_8_2022.csv')"
   ]
  },
  {
   "cell_type": "code",
   "execution_count": null,
   "id": "b6cbfd44",
   "metadata": {},
   "outputs": [],
   "source": [
    "df_without_debunkers = df_all.loc[df_all.benign=='False'].reset_index(drop=True)"
   ]
  },
  {
   "cell_type": "code",
   "execution_count": null,
   "id": "5ca8423d",
   "metadata": {},
   "outputs": [],
   "source": [
    "df_without_debunkers.to_csv('All_Fake_without_debunkers.csv')"
   ]
  },
  {
   "cell_type": "code",
   "execution_count": null,
   "id": "b3bdd0f1",
   "metadata": {},
   "outputs": [],
   "source": [
    "df_without_debunkers"
   ]
  },
  {
   "cell_type": "markdown",
   "id": "77900063",
   "metadata": {},
   "source": [
    "# Unique Device Number for All Users"
   ]
  },
  {
   "cell_type": "code",
   "execution_count": null,
   "id": "110f3bca",
   "metadata": {},
   "outputs": [],
   "source": [
    "df_all.loc[df_all.User_ID == 6509832]"
   ]
  },
  {
   "cell_type": "code",
   "execution_count": null,
   "id": "5b7bd900",
   "metadata": {},
   "outputs": [],
   "source": [
    "len(df_fake_tweet_unique.loc[df_fake_tweet_unique.User_ID == 6509832].Tweet_Source.unique())"
   ]
  },
  {
   "cell_type": "code",
   "execution_count": null,
   "id": "75bf89db",
   "metadata": {},
   "outputs": [],
   "source": [
    "unique_post_src = []\n",
    "for i in df_all.User_ID:\n",
    "    unique_post_src.append(len(df_fake_tweet_unique.loc[df_fake_tweet_unique.User_ID == i].Tweet_Source.unique()))"
   ]
  },
  {
   "cell_type": "code",
   "execution_count": null,
   "id": "65b5356c",
   "metadata": {},
   "outputs": [],
   "source": [
    "d = {'User_ID':df_all.User_ID,'Total_Unique_Source':unique_post_src}\n",
    "df_unqPost_result =pd.DataFrame(d)"
   ]
  },
  {
   "cell_type": "code",
   "execution_count": null,
   "id": "a4c0b00a",
   "metadata": {},
   "outputs": [],
   "source": []
  },
  {
   "cell_type": "code",
   "execution_count": null,
   "id": "94c12876",
   "metadata": {},
   "outputs": [],
   "source": [
    "df_all = pd.merge(df_all,df_unqPost_result)"
   ]
  },
  {
   "cell_type": "code",
   "execution_count": null,
   "id": "9e4cb628",
   "metadata": {},
   "outputs": [],
   "source": [
    "df_all.to_csv('U:\\Twitter Research\\Fake News Scraping\\All Account Information\\All_Fake_Accounts_October_2.csv')"
   ]
  },
  {
   "cell_type": "code",
   "execution_count": null,
   "id": "df19dd5f",
   "metadata": {},
   "outputs": [],
   "source": [
    "df_top_result.loc[df_top_result.acc_type == 'Regular']['Top1Favorite'].describe()"
   ]
  },
  {
   "cell_type": "code",
   "execution_count": null,
   "id": "463ad068",
   "metadata": {},
   "outputs": [],
   "source": [
    "df_top_result.loc[df_top_result.acc_type == 'Regular'].columns"
   ]
  },
  {
   "cell_type": "code",
   "execution_count": null,
   "id": "72d5a20f",
   "metadata": {},
   "outputs": [],
   "source": [
    "'''\n",
    "Tweet_Source\n",
    "df_bot\n",
    "count   44.00\n",
    "mean     1.41\n",
    "std      0.82\n",
    "min      1.00\n",
    "25%      1.00\n",
    "50%      1.00\n",
    "75%      2.00\n",
    "max      5.00\n",
    "\n",
    "df_verified\n",
    "count   229.00\n",
    "mean      3.10\n",
    "std       1.89\n",
    "min       1.00\n",
    "25%       2.00\n",
    "50%       3.00\n",
    "75%       4.00\n",
    "max      15.00\n",
    "\n",
    "df_regular\n",
    "count   5249.00\n",
    "mean       1.78\n",
    "std        1.40\n",
    "min        1.00\n",
    "25%        1.00\n",
    "50%        1.00\n",
    "75%        2.00\n",
    "max       21.00\n",
    "Name: Total_Unique_Source, dtype: float64\n",
    "'''"
   ]
  },
  {
   "cell_type": "code",
   "execution_count": null,
   "id": "58fbc4d5",
   "metadata": {},
   "outputs": [],
   "source": [
    "'''\n",
    "h-index\n",
    "Regular\n",
    "count   5249.00\n",
    "mean      15.93\n",
    "std       34.04\n",
    "min        0.00\n",
    "25%        4.00\n",
    "50%        8.00\n",
    "75%       16.00\n",
    "max      710.00\n",
    "\n",
    "Bot\n",
    "count   44.00\n",
    "mean     2.36\n",
    "std      4.82\n",
    "min      0.00\n",
    "25%      0.00\n",
    "50%      1.00\n",
    "75%      2.00\n",
    "max     20.00\n",
    "\n",
    "Verified\n",
    "count    229.00\n",
    "mean     242.33\n",
    "std      239.53\n",
    "min        7.00\n",
    "25%       58.00\n",
    "50%      162.00\n",
    "75%      328.00\n",
    "max     1185.00\n",
    "'''"
   ]
  },
  {
   "cell_type": "code",
   "execution_count": null,
   "id": "e358a9ed",
   "metadata": {},
   "outputs": [],
   "source": []
  },
  {
   "cell_type": "code",
   "execution_count": null,
   "id": "1a56ba18",
   "metadata": {},
   "outputs": [],
   "source": []
  },
  {
   "cell_type": "code",
   "execution_count": null,
   "id": "adecea7a",
   "metadata": {},
   "outputs": [],
   "source": []
  },
  {
   "cell_type": "code",
   "execution_count": null,
   "id": "274a326f",
   "metadata": {},
   "outputs": [],
   "source": []
  },
  {
   "cell_type": "code",
   "execution_count": null,
   "id": "ad59860c",
   "metadata": {},
   "outputs": [],
   "source": []
  },
  {
   "cell_type": "code",
   "execution_count": null,
   "id": "42c606d1",
   "metadata": {},
   "outputs": [],
   "source": []
  },
  {
   "cell_type": "code",
   "execution_count": null,
   "id": "03246e88",
   "metadata": {},
   "outputs": [],
   "source": []
  },
  {
   "cell_type": "markdown",
   "id": "e661de46",
   "metadata": {},
   "source": [
    "# Tweet History Analysis"
   ]
  },
  {
   "cell_type": "code",
   "execution_count": null,
   "id": "38c950a3",
   "metadata": {},
   "outputs": [],
   "source": [
    "rt_src = df_fake_tweet_unique.groupby('Retweet_Source_ScreenName').count().sort_values(by ='Tweet_ID', ascending = False).reset_index()"
   ]
  },
  {
   "cell_type": "code",
   "execution_count": null,
   "id": "21a1490b",
   "metadata": {},
   "outputs": [],
   "source": [
    "rt_src.loc[rt_src.Tweet_ID >= 100][20:40]"
   ]
  },
  {
   "cell_type": "code",
   "execution_count": null,
   "id": "41237d29",
   "metadata": {},
   "outputs": [],
   "source": []
  },
  {
   "cell_type": "code",
   "execution_count": null,
   "id": "3856702b",
   "metadata": {},
   "outputs": [],
   "source": []
  },
  {
   "cell_type": "code",
   "execution_count": null,
   "id": "c9ecc32d",
   "metadata": {},
   "outputs": [],
   "source": []
  },
  {
   "cell_type": "code",
   "execution_count": null,
   "id": "46146ee6",
   "metadata": {},
   "outputs": [],
   "source": []
  },
  {
   "cell_type": "code",
   "execution_count": null,
   "id": "2754d79c",
   "metadata": {},
   "outputs": [],
   "source": []
  },
  {
   "cell_type": "code",
   "execution_count": null,
   "id": "a10878e1",
   "metadata": {},
   "outputs": [],
   "source": [
    "df_fake_only_tweet = df_fake_tweet_unique.loc[df_fake_tweet_unique.Retweet == False]"
   ]
  },
  {
   "cell_type": "code",
   "execution_count": null,
   "id": "995cdf04",
   "metadata": {},
   "outputs": [],
   "source": []
  },
  {
   "cell_type": "code",
   "execution_count": null,
   "id": "c1346eb8",
   "metadata": {},
   "outputs": [],
   "source": [
    "len(df_fake_only_tweet)"
   ]
  },
  {
   "cell_type": "code",
   "execution_count": null,
   "id": "b80d3c98",
   "metadata": {},
   "outputs": [],
   "source": [
    "df_fake_only_tweet_group = df_fake_only_tweet.groupby('Tweet_Text').count().reset_index()"
   ]
  },
  {
   "cell_type": "code",
   "execution_count": null,
   "id": "aeda25eb",
   "metadata": {},
   "outputs": [],
   "source": [
    "df_fake_only_tweet_group"
   ]
  },
  {
   "cell_type": "code",
   "execution_count": null,
   "id": "25850e27",
   "metadata": {},
   "outputs": [],
   "source": [
    "df_same_fake_tweet = df_fake_only_tweet[df_fake_only_tweet.duplicated('Tweet_Text', keep=False)].sort_values('Tweet_Text')[['Tweet_ID','Tweet_Text', 'User_ScreenName','User_ID', 'Tweet_Time']].reset_index(drop = True)"
   ]
  },
  {
   "cell_type": "code",
   "execution_count": null,
   "id": "e33e36d4",
   "metadata": {},
   "outputs": [],
   "source": [
    "df_same_fake_tweet.groupby('User_ScreenName').count().sort_values('Tweet_ID', ascending = False)[500:520]"
   ]
  },
  {
   "cell_type": "code",
   "execution_count": null,
   "id": "8fd1c7f7",
   "metadata": {},
   "outputs": [],
   "source": [
    "df_same_fake_tweet.loc[df_same_fake_tweet.User_ScreenName == 'chundawatRs7773']"
   ]
  },
  {
   "cell_type": "code",
   "execution_count": null,
   "id": "566dbf41",
   "metadata": {},
   "outputs": [],
   "source": [
    "df_same_fake_tweet.Tweet_Text[0] == df_same_fake_tweet.Tweet_Text[1]"
   ]
  },
  {
   "cell_type": "code",
   "execution_count": null,
   "id": "13e16af7",
   "metadata": {},
   "outputs": [],
   "source": [
    "df_same_fake_tweet.groupby('User_ScreenName').count().sort_values(by = 'Tweet_ID', ascending = False)"
   ]
  },
  {
   "cell_type": "code",
   "execution_count": null,
   "id": "ef55f0ba",
   "metadata": {},
   "outputs": [],
   "source": [
    "df_same_fake_diff_acc = df_same_fake_tweet.drop_duplicates(subset=['Tweet_Text', 'User_ScreenName'], keep = \"first\")"
   ]
  },
  {
   "cell_type": "code",
   "execution_count": null,
   "id": "4abeda9c",
   "metadata": {},
   "outputs": [],
   "source": [
    "df_same_fake_diff_acc.groupby('Tweet_Text').count().sort_values(by = 'Tweet_ID', ascending = False).reset_index()[1000:1020]"
   ]
  },
  {
   "cell_type": "code",
   "execution_count": null,
   "id": "fd505bb4",
   "metadata": {},
   "outputs": [],
   "source": [
    "df_fake_tweet_english = df_fake_only_tweet.loc[df_fake_only_tweet.Tweet_Lang == 'en']"
   ]
  },
  {
   "cell_type": "code",
   "execution_count": null,
   "id": "d629675f",
   "metadata": {},
   "outputs": [],
   "source": [
    "len(df_fake_tweet_english)"
   ]
  },
  {
   "cell_type": "code",
   "execution_count": null,
   "id": "81925569",
   "metadata": {},
   "outputs": [],
   "source": [
    "df_fake_tweet_english_part = df_fake_tweet_english[['Tweet_ID', 'Tweet_Text', 'Tweet_Time']]"
   ]
  },
  {
   "cell_type": "code",
   "execution_count": null,
   "id": "26263b94",
   "metadata": {},
   "outputs": [],
   "source": [
    "df_fake_tweet_english_part.drop_duplicates('Tweet_Text', keep='first').to_csv('English_Tweet_Similar.tsv', sep='\\t', header=False)"
   ]
  },
  {
   "cell_type": "code",
   "execution_count": null,
   "id": "f19db248",
   "metadata": {},
   "outputs": [],
   "source": [
    "df_fake_tweet_english_part = df_fake_tweet_english_part.sample(frac=1)"
   ]
  },
  {
   "cell_type": "code",
   "execution_count": null,
   "id": "0ca5b410",
   "metadata": {},
   "outputs": [],
   "source": [
    "irt=df_fake_tweet_english_part.sample(30000)#.to_csv('U:\\Test2\\LSH-twitter-master\\data\\Sample.tsv', sep='\\t', header=False)"
   ]
  },
  {
   "cell_type": "code",
   "execution_count": null,
   "id": "cf0c2433",
   "metadata": {},
   "outputs": [],
   "source": [
    "irt.to_csv('U:\\Test2\\LSH-twitter-master\\data\\Sample.tsv', sep='\\t', header=False)"
   ]
  },
  {
   "cell_type": "code",
   "execution_count": null,
   "id": "0467aa76",
   "metadata": {},
   "outputs": [],
   "source": [
    "from difflib import SequenceMatcher as sm\n",
    "\n",
    "aa = df_fake_tweet_english_part.sample(1)\n",
    "bb = df_fake_tweet_english_part.sample(1)\n",
    "print(aa.Tweet_Text)\n",
    "print(bb.Tweet_Text)"
   ]
  },
  {
   "cell_type": "code",
   "execution_count": null,
   "id": "51df58a6",
   "metadata": {},
   "outputs": [],
   "source": [
    "x= \"You are excellent.\"\n",
    "y = \"You are awesome\""
   ]
  },
  {
   "cell_type": "code",
   "execution_count": null,
   "id": "bf3a1552",
   "metadata": {},
   "outputs": [],
   "source": [
    "dif = sm(a=x, b = y)"
   ]
  },
  {
   "cell_type": "code",
   "execution_count": null,
   "id": "55713a9c",
   "metadata": {},
   "outputs": [],
   "source": [
    "dif.ratio()"
   ]
  },
  {
   "cell_type": "code",
   "execution_count": null,
   "id": "7e20d60e",
   "metadata": {},
   "outputs": [],
   "source": [
    "df_all.columns"
   ]
  },
  {
   "cell_type": "code",
   "execution_count": null,
   "id": "90cc264a",
   "metadata": {},
   "outputs": [],
   "source": [
    "df_regular = df_all.loc[df_all.acc_type == 'Regular'][['User_ID', 'ScreenName', 'UserLocation', \n",
    "                                          'UserDescription','UserFollowers', 'UserFriends', \n",
    "                                          'UserFavoriteCount', 'UserVerified', 'TotalStatus',\n",
    "                                          'AccountAgeinDays', 'AveragePosts',\n",
    "                                           'AverageFavoriteCount', 'MajorityLanguage',\n",
    "                                           'CapEnglish', 'CapUniversal', 'DSEAstroturf', 'DSEFakeFollower',\n",
    "                                           'DSEFinancial', 'DSEOther', 'DSEOverall', 'DSESelfdeclared',\n",
    "                                           'DSESpammer', 'DSUAstroturf', 'DSUFakeFollower', 'DSUFinancial',\n",
    "                                           'DSUOther', 'DSUOverall', 'DSUSelfdeclared', 'DSUSpammer',\n",
    "                                           '%_of_Retweet_Collected', '%_of_Tweet_Collected', 'Total_Hashtags',\n",
    "                                           'Retweet_Count', 'Favorite_Count', 'Total_Hashtags_in_Tweets',\n",
    "                                           'Retweet_Count_in_Tweets', 'Favorite_Count_in_Tweets',\n",
    "                                           'Engagement_Count', 'Total_Hashtags_in_Retweets',\n",
    "                                           'Retweet_Count_in_Retweets', 'Favorite_Count_in_Retweets',\n",
    "                                           '#_of_Fake_Tweets', 'LastActiveTime',\n",
    "                                           'Average_Engagement_on_Tweets', 'Average_Engagement_on_Retweets',\n",
    "                                            'Tweet_Max_Engagement',\n",
    "                                           'Tweet_Max_Retweet', 'Tweet_Max_Favorite', 'Tweet_Max_Hashtags']]"
   ]
  },
  {
   "cell_type": "code",
   "execution_count": null,
   "id": "b572d840",
   "metadata": {},
   "outputs": [],
   "source": []
  },
  {
   "cell_type": "code",
   "execution_count": null,
   "id": "d58ae9b3",
   "metadata": {},
   "outputs": [],
   "source": [
    "df_regular_data = df_regular.drop(columns = ['User_ID', 'ScreenName', 'UserLocation', 'UserDescription', 'MajorityLanguage', 'UserVerified'])"
   ]
  },
  {
   "cell_type": "code",
   "execution_count": null,
   "id": "076be57f",
   "metadata": {},
   "outputs": [],
   "source": [
    "df_regular_data"
   ]
  },
  {
   "cell_type": "code",
   "execution_count": null,
   "id": "7022b69b",
   "metadata": {},
   "outputs": [],
   "source": [
    "from sklearn.cluster import KMeans\n",
    "import numpy as np"
   ]
  },
  {
   "cell_type": "code",
   "execution_count": null,
   "id": "78e3b8ca",
   "metadata": {},
   "outputs": [],
   "source": [
    "df_regular_data = df_regular_data.replace(np.nan, 0)"
   ]
  },
  {
   "cell_type": "code",
   "execution_count": null,
   "id": "2a7ac67d",
   "metadata": {},
   "outputs": [],
   "source": [
    "df_regular_data.columns"
   ]
  },
  {
   "cell_type": "code",
   "execution_count": null,
   "id": "75a351f5",
   "metadata": {},
   "outputs": [],
   "source": [
    "df_regular_data = df_regular_data[['UserFollowers', 'UserFriends', 'UserFavoriteCount', 'TotalStatus','AccountAgeinDays']]"
   ]
  },
  {
   "cell_type": "code",
   "execution_count": null,
   "id": "403bef7d",
   "metadata": {},
   "outputs": [],
   "source": [
    "df_regular_data_array = np.array(df_regular_data)"
   ]
  },
  {
   "cell_type": "code",
   "execution_count": null,
   "id": "c23a4523",
   "metadata": {},
   "outputs": [],
   "source": [
    "kmeans = KMeans(n_clusters=5, random_state=0).fit(df_regular_data_array)"
   ]
  },
  {
   "cell_type": "code",
   "execution_count": null,
   "id": "76702260",
   "metadata": {},
   "outputs": [],
   "source": [
    "k_result = kmeans.labels_"
   ]
  },
  {
   "cell_type": "code",
   "execution_count": null,
   "id": "2324f177",
   "metadata": {},
   "outputs": [],
   "source": [
    "k_result = pd.DataFrame(k_result)"
   ]
  },
  {
   "cell_type": "code",
   "execution_count": null,
   "id": "3ba1099b",
   "metadata": {},
   "outputs": [],
   "source": []
  },
  {
   "cell_type": "code",
   "execution_count": null,
   "id": "82717cd2",
   "metadata": {},
   "outputs": [],
   "source": [
    "k_result = k_result.rename(columns = {0:'Label'})"
   ]
  },
  {
   "cell_type": "code",
   "execution_count": null,
   "id": "44ef10eb",
   "metadata": {},
   "outputs": [],
   "source": [
    "print(len(k_result.loc[k_result.Label == 0]))\n",
    "print(len(k_result.loc[k_result.Label == 1]))\n",
    "print(len(k_result.loc[k_result.Label == 2]))\n",
    "print(len(k_result.loc[k_result.Label == 3]))\n",
    "print(len(k_result.loc[k_result.Label == 4]))"
   ]
  },
  {
   "cell_type": "code",
   "execution_count": null,
   "id": "c3a72a0d",
   "metadata": {},
   "outputs": [],
   "source": [
    "df_regular_with_label = df_regular.reset_index(drop = True).join(k_result)"
   ]
  },
  {
   "cell_type": "code",
   "execution_count": null,
   "id": "c8a8f202",
   "metadata": {},
   "outputs": [],
   "source": [
    "df_regular_with_label.loc[df_regular_with_label.Label == 1]"
   ]
  },
  {
   "cell_type": "code",
   "execution_count": null,
   "id": "c0d81614",
   "metadata": {},
   "outputs": [],
   "source": []
  },
  {
   "cell_type": "code",
   "execution_count": null,
   "id": "36baf083",
   "metadata": {},
   "outputs": [],
   "source": []
  },
  {
   "cell_type": "code",
   "execution_count": null,
   "id": "2076b23b",
   "metadata": {},
   "outputs": [],
   "source": [
    "matplotlib.rcParams.update({'font.size': 14})\n",
    "groups = df_regular_with_label.groupby('Label')\n",
    "fig, ax = plt.subplots(1, figsize=(8,5))\n",
    "c1 = ['brown', 'blue', 'green', 'black', 'red']\n",
    "m1 = [\".\", \"*\", \"o\", \"+\", \"1\"]\n",
    "a1 = [1,1,1,1,1]\n",
    "i=0\n",
    "for name, group in groups:\n",
    "    ax.scatter( np.log10(group.UserFollowers),\n",
    "                group.AveragePosts,\n",
    "                label = name, \n",
    "                alpha=a1[i],\n",
    "                facecolors=c1[i],\n",
    "                edgecolors =c1[i],\n",
    "                marker = m1[i])\n",
    "    \n",
    "    i=i+1\n",
    "ax.legend()\n",
    "ax.set_ylabel(\"Average posts per day\", fontsize=16, labelpad=10)\n",
    "ax.set_xlabel(\"Number of followers\", fontsize=16, labelpad=10)\n",
    "\n",
    "ax.spines.right.set_visible(False)\n",
    "ax.spines.top.set_visible(False)"
   ]
  },
  {
   "cell_type": "markdown",
   "id": "757e46d1",
   "metadata": {},
   "source": [
    "# Hashtag Analysis"
   ]
  },
  {
   "cell_type": "code",
   "execution_count": null,
   "id": "f6ae75bc",
   "metadata": {},
   "outputs": [],
   "source": [
    "df_only_tweet= df_fake_tweet_unique.loc[df_fake_tweet_unique.Retweet == False]['Tweet_HashTags']"
   ]
  },
  {
   "cell_type": "code",
   "execution_count": null,
   "id": "fc58f2f8",
   "metadata": {},
   "outputs": [],
   "source": []
  },
  {
   "cell_type": "code",
   "execution_count": null,
   "id": "059071ef",
   "metadata": {},
   "outputs": [],
   "source": [
    "df_only_tweet.Tweet_HashTags.unique()"
   ]
  },
  {
   "cell_type": "code",
   "execution_count": null,
   "id": "8755b50b",
   "metadata": {},
   "outputs": [],
   "source": [
    "df_only_tweet.loc[df_only_tweet.User_ID == 1351802340].Tweet_HashTags.unique()"
   ]
  },
  {
   "cell_type": "code",
   "execution_count": null,
   "id": "f55fa437",
   "metadata": {},
   "outputs": [],
   "source": [
    "df_hash_only = df_only_tweet[['User_ID', 'Tweet_HashTags']]"
   ]
  },
  {
   "cell_type": "code",
   "execution_count": null,
   "id": "6897c94f",
   "metadata": {},
   "outputs": [],
   "source": [
    "df_hash_only = df_hash_only[df_hash_only.Tweet_HashTags != 'None']"
   ]
  },
  {
   "cell_type": "code",
   "execution_count": null,
   "id": "35486f78",
   "metadata": {},
   "outputs": [],
   "source": [
    "df_hash_only.to_csv('Only_Hashtags.csv')"
   ]
  },
  {
   "cell_type": "code",
   "execution_count": null,
   "id": "ab4fd152",
   "metadata": {},
   "outputs": [],
   "source": [
    "\n"
   ]
  },
  {
   "cell_type": "code",
   "execution_count": null,
   "id": "48522f44",
   "metadata": {},
   "outputs": [],
   "source": [
    "df_only_tweet['Tweet_Hashtag_BOW'] = df_only_tweet.Tweet_HashTags.apply(lambda x: Counter(x.split(\" \")))"
   ]
  },
  {
   "cell_type": "code",
   "execution_count": null,
   "id": "22271516",
   "metadata": {},
   "outputs": [],
   "source": [
    "df_only_tweet.loc[df_only_tweet.User_ID == 1351802340].Tweet_HashTags"
   ]
  },
  {
   "cell_type": "code",
   "execution_count": null,
   "id": "13533db2",
   "metadata": {},
   "outputs": [],
   "source": [
    "from sklearn.feature_extraction.text import CountVectorizer\n",
    "vectorizer = CountVectorizer()\n",
    "X = vectorizer.fit_transform(df_only_tweet.Tweet_HashTags)\n",
    "X.toarray() "
   ]
  },
  {
   "cell_type": "code",
   "execution_count": null,
   "id": "79597a44",
   "metadata": {},
   "outputs": [],
   "source": [
    "len(df_only_tweet.Tweet_HashTags.unique())"
   ]
  },
  {
   "cell_type": "code",
   "execution_count": null,
   "id": "e9060c1d",
   "metadata": {},
   "outputs": [],
   "source": [
    "hashtag_list = df_only_tweet[['User_ID','Tweet_HashTags']].Tweet_HashTags.unique().tolist()"
   ]
  },
  {
   "cell_type": "code",
   "execution_count": null,
   "id": "320fa48c",
   "metadata": {},
   "outputs": [],
   "source": [
    "new_hashtag_list = []\n",
    "k = 0\n",
    "for i in hashtag_list:\n",
    "    if k==20:\n",
    "        break\n",
    "    new_tag = i.split(' ')\n",
    "    for j in new_tag:\n",
    "        if (j == ''):\n",
    "            continue\n",
    "        elif (j == 'None'):\n",
    "            continue\n",
    "        new_hashtag_list.append(j)\n",
    "        print(new_hashtag_list)\n",
    "    k+=1"
   ]
  },
  {
   "cell_type": "code",
   "execution_count": null,
   "id": "86b7c44d",
   "metadata": {
    "scrolled": true
   },
   "outputs": [],
   "source": [
    "new_hashtag_list"
   ]
  },
  {
   "cell_type": "code",
   "execution_count": null,
   "id": "0c665b0d",
   "metadata": {},
   "outputs": [],
   "source": [
    "df_all_wd.sample(2)"
   ]
  },
  {
   "cell_type": "code",
   "execution_count": null,
   "id": "ce0a6019",
   "metadata": {},
   "outputs": [],
   "source": [
    "hash_1 = df_only_tweet.loc[df_only_tweet.User_ID ==1219187515673829377].Tweet_HashTags.unique()\n",
    "hash_2 = df_only_tweet.loc[df_only_tweet.User_ID ==23560561].Tweet_HashTags.unique()\n"
   ]
  },
  {
   "cell_type": "code",
   "execution_count": null,
   "id": "a296d592",
   "metadata": {},
   "outputs": [],
   "source": [
    "hash_1_new = []\n",
    "hash_2_new = []\n",
    "k = 0\n",
    "for i in hash_1:\n",
    "    new_tag = i.split(' ')\n",
    "    for j in new_tag:\n",
    "        if (j == ''):\n",
    "            continue\n",
    "        elif (j == 'None'):\n",
    "            continue\n",
    "        hash_1_new.append(j)\n",
    "        \n",
    "for i in hash_2:\n",
    "    new_tag = i.split(' ')\n",
    "    for j in new_tag:\n",
    "        if (j == ''):\n",
    "            continue\n",
    "        elif (j == 'None'):\n",
    "            continue\n",
    "        hash_2_new.append(j)"
   ]
  },
  {
   "cell_type": "code",
   "execution_count": null,
   "id": "6d84d910",
   "metadata": {},
   "outputs": [],
   "source": [
    "hash_1_new"
   ]
  },
  {
   "cell_type": "code",
   "execution_count": null,
   "id": "e0be7d83",
   "metadata": {},
   "outputs": [],
   "source": [
    "def jaccard(list1, list2):\n",
    "    intersection = len(list(set(list1).intersection(list2)))\n",
    "    union = (len(list1) + len(list2)) - intersection\n",
    "    return float(intersection) / union\n",
    "\n",
    "jaccard(hash_1_new, hash_2_new)\n"
   ]
  },
  {
   "cell_type": "code",
   "execution_count": null,
   "id": "997c172c",
   "metadata": {},
   "outputs": [],
   "source": [
    "a = ['new', 'world']\n",
    "b = ['new', 'car']\n",
    "print(jaccard(a,b))"
   ]
  },
  {
   "cell_type": "code",
   "execution_count": null,
   "id": "319575b6",
   "metadata": {},
   "outputs": [],
   "source": [
    "df_fake_tweet_unique.loc[df_fake_tweet.Retweet == False].to_csv('Only_Tweet_Similarity.csv')"
   ]
  },
  {
   "cell_type": "code",
   "execution_count": null,
   "id": "909b303c",
   "metadata": {},
   "outputs": [],
   "source": []
  }
 ],
 "metadata": {
  "kernelspec": {
   "display_name": "Python 3 (ipykernel)",
   "language": "python",
   "name": "python3"
  },
  "language_info": {
   "codemirror_mode": {
    "name": "ipython",
    "version": 3
   },
   "file_extension": ".py",
   "mimetype": "text/x-python",
   "name": "python",
   "nbconvert_exporter": "python",
   "pygments_lexer": "ipython3",
   "version": "3.9.13"
  }
 },
 "nbformat": 4,
 "nbformat_minor": 5
}
