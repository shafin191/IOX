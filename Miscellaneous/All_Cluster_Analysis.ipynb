{
 "cells": [
  {
   "cell_type": "code",
   "execution_count": null,
   "id": "75aa21a9",
   "metadata": {},
   "outputs": [],
   "source": [
    "import pandas as pd\n",
    "import glob\n",
    "import os"
   ]
  },
  {
   "cell_type": "code",
   "execution_count": null,
   "id": "fc5ad503",
   "metadata": {},
   "outputs": [],
   "source": [
    "df23 = pd.read_csv('All_Cluster_2023_with_View_Count.csv', lineterminator = '\\n')"
   ]
  },
  {
   "cell_type": "code",
   "execution_count": null,
   "id": "635602a5",
   "metadata": {},
   "outputs": [],
   "source": [
    "df24 = pd.read_csv('2024_Super_Dup_Cluster_Final.csv', lineterminator = '\\n')"
   ]
  },
  {
   "cell_type": "code",
   "execution_count": null,
   "id": "2dccafe4",
   "metadata": {},
   "outputs": [],
   "source": [
    "len(df24)"
   ]
  },
  {
   "cell_type": "code",
   "execution_count": null,
   "id": "2f9092b9",
   "metadata": {},
   "outputs": [],
   "source": [
    "df24['Cluster_ID_New'] = 'Dup24' + df24['Cluster_ID'].astype('str')"
   ]
  },
  {
   "cell_type": "code",
   "execution_count": null,
   "id": "94e5e954",
   "metadata": {},
   "outputs": [],
   "source": [
    "df23['Cluster_ID_New'] = 'Dup23' + df23['Cluster_ID'].astype('str')"
   ]
  },
  {
   "cell_type": "code",
   "execution_count": null,
   "id": "d7c078ab",
   "metadata": {},
   "outputs": [],
   "source": [
    "df24 = df24.loc[df24.Cluster_ID != -1]"
   ]
  },
  {
   "cell_type": "code",
   "execution_count": null,
   "id": "26b35fbd",
   "metadata": {},
   "outputs": [],
   "source": [
    "df24.loc[df24.Cluster_ID != -1].groupby('Cluster_ID_New').count().reset_index()[['Cluster_ID_New', 'User_ID']]"
   ]
  },
  {
   "cell_type": "code",
   "execution_count": null,
   "id": "67d6ed8e",
   "metadata": {},
   "outputs": [],
   "source": [
    "df23.groupby('Cluster_ID_New').count().reset_index()[['Cluster_ID_New', 'User_ID']]"
   ]
  },
  {
   "cell_type": "code",
   "execution_count": null,
   "id": "d294e380",
   "metadata": {},
   "outputs": [],
   "source": [
    "df_all_count = pd.concat([df24.loc[df24.Cluster_ID != -1].groupby('Cluster_ID_New').count().reset_index()[['Cluster_ID_New', 'User_ID']], \n",
    "          df23.groupby('Cluster_ID_New').count().reset_index()[['Cluster_ID_New', 'User_ID']]])"
   ]
  },
  {
   "cell_type": "code",
   "execution_count": null,
   "id": "5050793a",
   "metadata": {},
   "outputs": [],
   "source": [
    "df_all_count.User_ID.std()"
   ]
  },
  {
   "cell_type": "code",
   "execution_count": null,
   "id": "1e69c96b",
   "metadata": {},
   "outputs": [],
   "source": [
    "df_all_count.loc[df_all_count.User_ID>=10]"
   ]
  },
  {
   "cell_type": "code",
   "execution_count": null,
   "id": "b951d535",
   "metadata": {},
   "outputs": [],
   "source": [
    "df23['Text_Size'] = df23['Tweet_Text'].str.len()\n",
    "df24['Text_Size'] = df24['text'].str.len()\n",
    "df24['Text_Size2'] = df24['full_text'].str.len()"
   ]
  },
  {
   "cell_type": "code",
   "execution_count": null,
   "id": "fa0bc917",
   "metadata": {},
   "outputs": [],
   "source": [
    "df24['Text_Size2']= df24['Text_Size2'].fillna(df24['Text_Size'])"
   ]
  },
  {
   "cell_type": "code",
   "execution_count": null,
   "id": "cf9ed39d",
   "metadata": {},
   "outputs": [],
   "source": [
    "len(df24.Text_Size2.tolist())"
   ]
  },
  {
   "cell_type": "code",
   "execution_count": null,
   "id": "17f0bb10",
   "metadata": {},
   "outputs": [],
   "source": [
    "sum(df23.Text_Size.tolist() + df24.Text_Size2.tolist())/len(df23.Text_Size.tolist() + df24.Text_Size2.tolist())"
   ]
  },
  {
   "cell_type": "code",
   "execution_count": null,
   "id": "3ecb2b88",
   "metadata": {},
   "outputs": [],
   "source": [
    "df24['Text_Size2'].max()"
   ]
  },
  {
   "cell_type": "code",
   "execution_count": null,
   "id": "f4eb75d2",
   "metadata": {},
   "outputs": [],
   "source": [
    "df24.columns"
   ]
  },
  {
   "cell_type": "code",
   "execution_count": null,
   "id": "6ff11d62",
   "metadata": {},
   "outputs": [],
   "source": [
    "txt_size_check = pd.concat([df23[['Cluster_ID_New', 'Text_Size']], df24[['Cluster_ID_New', 'Text_Size2']]])"
   ]
  },
  {
   "cell_type": "code",
   "execution_count": null,
   "id": "e588fb86",
   "metadata": {},
   "outputs": [],
   "source": [
    "txt_size_check['Text_Size']= txt_size_check['Text_Size'].fillna(txt_size_check['Text_Size2'])"
   ]
  },
  {
   "cell_type": "code",
   "execution_count": null,
   "id": "62f2ab8c",
   "metadata": {},
   "outputs": [],
   "source": [
    "txt_size_check.Text_Size.std()"
   ]
  },
  {
   "cell_type": "code",
   "execution_count": null,
   "id": "c109ed55",
   "metadata": {},
   "outputs": [],
   "source": [
    "word_counts = df24['text'].str.split().str.len()"
   ]
  },
  {
   "cell_type": "code",
   "execution_count": null,
   "id": "289bbbf2",
   "metadata": {},
   "outputs": [],
   "source": [
    "df23['Word_Size'] = df23['Tweet_Text'].str.split().str.len()\n",
    "df24['Word_Size'] = df24['text'].str.split().str.len()\n",
    "df24['Word_Size2'] = df24['full_text'].str.split().str.len()\n",
    "df24['Word_Size2']= df24['Word_Size2'].fillna(df24['Word_Size'])"
   ]
  },
  {
   "cell_type": "code",
   "execution_count": null,
   "id": "a1bf1543",
   "metadata": {},
   "outputs": [],
   "source": [
    "word_size_text = pd.concat([df23[['Cluster_ID_New', 'Word_Size']], df24[['Cluster_ID_New', 'Word_Size2']]])\n",
    "word_size_text['Word_Size']= word_size_text['Word_Size'].fillna(word_size_text['Word_Size2'])"
   ]
  },
  {
   "cell_type": "code",
   "execution_count": null,
   "id": "79972a1e",
   "metadata": {},
   "outputs": [],
   "source": [
    "word_size_text.Word_Size.std()"
   ]
  },
  {
   "cell_type": "code",
   "execution_count": null,
   "id": "78cd8925",
   "metadata": {},
   "outputs": [],
   "source": [
    "word_size_text.Word_Size.max()"
   ]
  },
  {
   "cell_type": "code",
   "execution_count": null,
   "id": "44ef9167",
   "metadata": {},
   "outputs": [],
   "source": [
    "df23['Word_Size']"
   ]
  },
  {
   "cell_type": "code",
   "execution_count": null,
   "id": "1c0cd9eb",
   "metadata": {},
   "outputs": [],
   "source": [
    "pwd"
   ]
  },
  {
   "cell_type": "code",
   "execution_count": null,
   "id": "49a05282",
   "metadata": {},
   "outputs": [],
   "source": [
    "folder_path = '/disk/mnemo/users/randomuser/SBERT All Embedding/Topic_0_Check/2023/'\n",
    "csv_files = glob.glob(folder_path + '/*.csv')\n",
    "dfs = []\n",
    "for file in csv_files:\n",
    "    try:\n",
    "        dfq = pd.read_csv(file)\n",
    "        cluster_id = os.path.splitext(os.path.basename(file))[0]\n",
    "        dfq['Cluster_ID'] = cluster_id\n",
    "        dfs.append(dfq)\n",
    "    except pd.errors.EmptyDataError:\n",
    "        q = 0\n",
    "\n",
    "if dfs:\n",
    "    combined_df = pd.concat(dfs, ignore_index=True)\n",
    "    print(combined_df)\n",
    "else:\n",
    "    print(\"No valid dataframes to concatenate.\")\n"
   ]
  },
  {
   "cell_type": "code",
   "execution_count": null,
   "id": "2655033f",
   "metadata": {},
   "outputs": [],
   "source": [
    "combined_df.columns"
   ]
  },
  {
   "cell_type": "code",
   "execution_count": null,
   "id": "fbc98f26",
   "metadata": {},
   "outputs": [],
   "source": [
    "combined_df.groupby('Cluster_ID').count().reset_index().sample(100).User_ID.mean()"
   ]
  },
  {
   "cell_type": "code",
   "execution_count": null,
   "id": "69dd74f1",
   "metadata": {},
   "outputs": [],
   "source": [
    "df_sam = combined_df.groupby('Cluster_ID').count().reset_index().sample(100)"
   ]
  },
  {
   "cell_type": "code",
   "execution_count": null,
   "id": "2d65ef13",
   "metadata": {},
   "outputs": [],
   "source": [
    "combined_df.User_ID"
   ]
  },
  {
   "cell_type": "code",
   "execution_count": null,
   "id": "aeb5f213",
   "metadata": {},
   "outputs": [],
   "source": [
    "df_acc = pd.read_csv('All_Account_with_Updated_Influencer.csv')"
   ]
  },
  {
   "cell_type": "code",
   "execution_count": null,
   "id": "eb26aa71",
   "metadata": {},
   "outputs": [],
   "source": [
    "combined_df_sam = combined_df[combined_df.Cluster_ID.isin(df_sam.Cluster_ID)]"
   ]
  },
  {
   "cell_type": "code",
   "execution_count": null,
   "id": "7ce6cf91",
   "metadata": {},
   "outputs": [],
   "source": [
    "combined_df_sam[~combined_df_sam.User_ID.isin(df_acc.User_ID)].groupby('Cluster_ID').count().sum()/100"
   ]
  }
 ],
 "metadata": {
  "kernelspec": {
   "display_name": "Python 3 (ipykernel)",
   "language": "python",
   "name": "python3"
  },
  "language_info": {
   "codemirror_mode": {
    "name": "ipython",
    "version": 3
   },
   "file_extension": ".py",
   "mimetype": "text/x-python",
   "name": "python",
   "nbconvert_exporter": "python",
   "pygments_lexer": "ipython3",
   "version": "3.9.13"
  }
 },
 "nbformat": 4,
 "nbformat_minor": 5
}
