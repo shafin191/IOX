{
 "cells": [
  {
   "cell_type": "code",
   "execution_count": null,
   "id": "fa4bc553-15cb-42c3-8406-3bc0ea4f6594",
   "metadata": {},
   "outputs": [],
   "source": [
    "#pip install tweetnlp\n",
    "import pandas as pd\n",
    "import time\n",
    "pd.set_option('display.max_colwidth', None)"
   ]
  },
  {
   "cell_type": "code",
   "execution_count": null,
   "id": "e196faf9-da16-484a-9e5c-534bdc948ab7",
   "metadata": {},
   "outputs": [],
   "source": [
    "import tweetnlp\n",
    "model = tweetnlp.Classifier(\"cardiffnlp/twitter-xlm-roberta-base-sentiment-multilingual\", max_length=128)\n",
    "model.predict('Get the all-analog Classic Vinyl Edition of \"Takin Off\" Album from {@herbiehancock@} via {@bluenoterecords@} link below {{URL}}')\n"
   ]
  },
  {
   "cell_type": "code",
   "execution_count": null,
   "id": "fc2e00a9-52b7-4d05-b18a-43d5c111008a",
   "metadata": {},
   "outputs": [],
   "source": [
    "model = tweetnlp.load_model('hate')"
   ]
  },
  {
   "cell_type": "code",
   "execution_count": null,
   "id": "edc196b1-67ba-4cc7-b4f0-1dee656f6f71",
   "metadata": {},
   "outputs": [],
   "source": [
    "result = model.hate('Muslims are terrorists', return_probability=True)"
   ]
  },
  {
   "cell_type": "code",
   "execution_count": null,
   "id": "c6dfcd55-5178-4066-9f0e-a0e5d979bd11",
   "metadata": {},
   "outputs": [],
   "source": [
    "result['label']"
   ]
  },
  {
   "cell_type": "code",
   "execution_count": null,
   "id": "a4582c64-f9eb-4660-9752-17aaef340298",
   "metadata": {},
   "outputs": [],
   "source": [
    "result['probability']['HATE']"
   ]
  },
  {
   "cell_type": "code",
   "execution_count": null,
   "id": "8dc843c7-116c-437e-a199-b4659dbaa471",
   "metadata": {},
   "outputs": [],
   "source": [
    "df_data = pd.read_csv('All_Text_Duplicate_Tweet.csv')"
   ]
  },
  {
   "cell_type": "code",
   "execution_count": null,
   "id": "6dbafe24-db5b-4523-8c5e-44104d9fbf15",
   "metadata": {},
   "outputs": [],
   "source": [
    "df_data_unique = df_data.drop_duplicates('Cluster_ID').reset_index(drop = True)"
   ]
  },
  {
   "cell_type": "code",
   "execution_count": null,
   "id": "c4af5a61-248c-4410-b5fa-51969d30f2e3",
   "metadata": {},
   "outputs": [],
   "source": [
    "df_small = df_data_unique[['Tweet_ID', 'Cluster_ID', 'clean_tweet']]"
   ]
  },
  {
   "cell_type": "code",
   "execution_count": null,
   "id": "93318b86-fb33-435c-8165-9d54ccc95db9",
   "metadata": {},
   "outputs": [],
   "source": [
    "df_small['Label'] = -1\n",
    "df_small['Probability'] = -1"
   ]
  },
  {
   "cell_type": "code",
   "execution_count": null,
   "id": "a4800c69-927d-4c17-860a-63ffc6e21111",
   "metadata": {},
   "outputs": [],
   "source": [
    "model = tweetnlp.load_model('offensive') "
   ]
  },
  {
   "cell_type": "code",
   "execution_count": null,
   "id": "5137b6f9-82fa-43fd-87dc-e0221cb7da9b",
   "metadata": {},
   "outputs": [],
   "source": [
    "df_small['Label_OF'] = -1\n",
    "df_small['Probability_OF'] = -1"
   ]
  },
  {
   "cell_type": "code",
   "execution_count": null,
   "id": "83255009-cbe1-4955-8acb-9ad1c8075af6",
   "metadata": {},
   "outputs": [],
   "source": [
    "st = time.time()\n",
    "for i in range(, len(df_small)):\n",
    "    result = model.hate(df_small.iloc[i]['clean_tweet'], return_probability=True)\n",
    "    df_small.loc[i, 'Label'] = result['label']\n",
    "    df_small.loc[i, 'Probability'] = result['probability']['HATE']\n",
    "    break\n",
    "en = time.time()"
   ]
  },
  {
   "cell_type": "code",
   "execution_count": null,
   "id": "23bb8ab0-2a78-400f-80d0-9a99086bb651",
   "metadata": {},
   "outputs": [],
   "source": [
    "import tweetnlp\n",
    "\n",
    "# MODEL\n",
    "model2 = tweetnlp.load_model('offensive')  # Or `model = tweetnlp.Offensive()` \n",
    "model2.offensive(\"All two of them taste like ass.\", return_probability=True)\n"
   ]
  },
  {
   "cell_type": "code",
   "execution_count": null,
   "id": "4884be2b-e52a-426a-95b6-177d13008189",
   "metadata": {},
   "outputs": [],
   "source": [
    "st = time.time()\n",
    "for i in range(0, len(df_small)):\n",
    "    result = model2.offensive(df_small.iloc[i]['clean_tweet'], return_probability=True)\n",
    "    df_small.loc[i, 'Label_OF'] = result['label']\n",
    "    df_small.loc[i, 'Probability_OF'] = result['probability']['offensive']\n",
    "    #break\n",
    "en = time.time()"
   ]
  },
  {
   "cell_type": "code",
   "execution_count": null,
   "id": "f340ceb6-4168-4a27-8a6a-97432769cc4a",
   "metadata": {},
   "outputs": [],
   "source": [
    "en-st"
   ]
  },
  {
   "cell_type": "code",
   "execution_count": null,
   "id": "558505fa-f2a5-4486-a994-7e6c3f9d6943",
   "metadata": {},
   "outputs": [],
   "source": [
    "df_small"
   ]
  },
  {
   "cell_type": "code",
   "execution_count": null,
   "id": "cbde437b-ba35-450d-83fc-6a130d0d1e7c",
   "metadata": {},
   "outputs": [],
   "source": [
    "df_small.groupby('Label').count()"
   ]
  },
  {
   "cell_type": "code",
   "execution_count": null,
   "id": "9bf9dcee-eedf-4b68-bf62-09f8bf244a51",
   "metadata": {},
   "outputs": [],
   "source": [
    "df_small.groupby('Label_OF').count()"
   ]
  },
  {
   "cell_type": "code",
   "execution_count": null,
   "id": "4bdaea54-b581-4682-a5ed-a7abdfe4e937",
   "metadata": {},
   "outputs": [],
   "source": []
  },
  {
   "cell_type": "code",
   "execution_count": null,
   "id": "3a35c3ca-1a4c-4eb3-b110-8b8e55fe2797",
   "metadata": {},
   "outputs": [],
   "source": [
    "df_small.loc[df_small.Label == 'HATE'].sample(20)"
   ]
  },
  {
   "cell_type": "code",
   "execution_count": null,
   "id": "23f5895d-b734-40b9-84f9-903142c2f86a",
   "metadata": {},
   "outputs": [],
   "source": []
  },
  {
   "cell_type": "code",
   "execution_count": null,
   "id": "7d08e869-b615-4da0-8393-2a1771a301c0",
   "metadata": {},
   "outputs": [],
   "source": [
    "st = time.time()\n",
    "def predict_hate(row):\n",
    "    result = model.hate(row['clean_tweet'], return_probability=True)\n",
    "    return pd.Series({\n",
    "        'Label': result['label'],\n",
    "        'Probability': result['probability']['HATE']\n",
    "    })\n",
    "\n",
    "df_small_result = df_small.iloc[0:100].apply(predict_hate, axis=1)\n",
    "en = time.time()"
   ]
  },
  {
   "cell_type": "code",
   "execution_count": null,
   "id": "3df82744-1ba2-46b5-a49c-6f3970de3e6e",
   "metadata": {},
   "outputs": [],
   "source": [
    "en-st"
   ]
  },
  {
   "cell_type": "code",
   "execution_count": null,
   "id": "bbea2475-0df4-4916-98fd-76101fefab74",
   "metadata": {},
   "outputs": [],
   "source": [
    "df_small"
   ]
  },
  {
   "cell_type": "code",
   "execution_count": null,
   "id": "4dcda868-cc94-4d7f-860b-e3dd0d70e651",
   "metadata": {},
   "outputs": [],
   "source": [
    "df_small.to_csv('PolitiX_Hate_Offensive_Result.csv', index = False)"
   ]
  },
  {
   "cell_type": "code",
   "execution_count": null,
   "id": "d7c4ae37-ab3b-4aa7-97be-c4cde12eb477",
   "metadata": {},
   "outputs": [],
   "source": [
    "df_small.loc[df_small.Label_OF == 'offensive'].sample(20)"
   ]
  },
  {
   "cell_type": "markdown",
   "id": "bf916c95-4b5a-42af-9281-7d4c7f610bab",
   "metadata": {},
   "source": [
    "# Claim Buster Check"
   ]
  },
  {
   "cell_type": "code",
   "execution_count": null,
   "id": "9fa52d8a-6679-40e8-9de4-bd5e0ef693cd",
   "metadata": {},
   "outputs": [],
   "source": [
    "df_claim = pd.read_csv('Mid_Fact_Check_ClaimBuster.csv')"
   ]
  },
  {
   "cell_type": "code",
   "execution_count": null,
   "id": "2098116e-174f-41d1-8324-60d1566914e0",
   "metadata": {},
   "outputs": [],
   "source": [
    "df_claim.sample(20)"
   ]
  },
  {
   "cell_type": "code",
   "execution_count": null,
   "id": "26e4a36f-ac9e-4dc7-b888-4819564c1590",
   "metadata": {},
   "outputs": [],
   "source": [
    "df_small = pd.read_csv('PolitiX_Hate_Offensive_Result.csv')"
   ]
  },
  {
   "cell_type": "code",
   "execution_count": null,
   "id": "cf562448-cb60-4ed4-a921-df9571c48cd4",
   "metadata": {},
   "outputs": [],
   "source": [
    "df_small.loc[df_small.Label == 'HATE']"
   ]
  },
  {
   "cell_type": "code",
   "execution_count": null,
   "id": "799abdfb-f009-49c2-ade6-40043c85342a",
   "metadata": {},
   "outputs": [],
   "source": [
    "with open('REP_IO.txt', 'r') as f:\n",
    "    io_list_rep = [line.strip() for line in f if line.strip()]\n",
    "with open('DEM_IO.txt', 'r') as f:\n",
    "    io_list_dem = [line.strip() for line in f if line.strip()]\n"
   ]
  },
  {
   "cell_type": "code",
   "execution_count": null,
   "id": "be994a51-bc7b-4e03-a61b-ac7a81c2b778",
   "metadata": {},
   "outputs": [],
   "source": [
    "io_list_rep = [int(x) for x in io_list_rep]\n",
    "io_list_dem = [int(x) for x in io_list_dem]"
   ]
  },
  {
   "cell_type": "code",
   "execution_count": null,
   "id": "55c83c20-b02d-410e-b476-c4ca33a2d537",
   "metadata": {},
   "outputs": [],
   "source": [
    "df_small.loc[(df_small.Label_OF == 'offensive') & df_small.Cluster_ID.isin(io_list_rep)]"
   ]
  },
  {
   "cell_type": "code",
   "execution_count": null,
   "id": "ba39cefb-a64e-4a4c-89c9-3aa4c08699eb",
   "metadata": {},
   "outputs": [],
   "source": [
    "df_small.loc[(df_small.Label_OF == 'offensive') & df_small.Cluster_ID.isin(io_list_dem)]"
   ]
  },
  {
   "cell_type": "code",
   "execution_count": null,
   "id": "313dca7a-858b-46bf-8045-386495ec61ff",
   "metadata": {},
   "outputs": [],
   "source": [
    "io_list_rep"
   ]
  },
  {
   "cell_type": "code",
   "execution_count": null,
   "id": "ce39d214-41de-4efe-9680-35e167e18bea",
   "metadata": {},
   "outputs": [],
   "source": []
  }
 ],
 "metadata": {
  "kernelspec": {
   "display_name": "Python 3 (ipykernel)",
   "language": "python",
   "name": "python3"
  },
  "language_info": {
   "codemirror_mode": {
    "name": "ipython",
    "version": 3
   },
   "file_extension": ".py",
   "mimetype": "text/x-python",
   "name": "python",
   "nbconvert_exporter": "python",
   "pygments_lexer": "ipython3",
   "version": "3.10.16"
  }
 },
 "nbformat": 4,
 "nbformat_minor": 5
}
