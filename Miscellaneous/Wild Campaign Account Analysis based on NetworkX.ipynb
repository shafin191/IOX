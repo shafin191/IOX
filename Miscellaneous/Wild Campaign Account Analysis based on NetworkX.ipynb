{
 "cells": [
  {
   "cell_type": "code",
   "execution_count": null,
   "id": "85452f6e",
   "metadata": {},
   "outputs": [],
   "source": [
    "import networkx as nx\n",
    "import nxviz as nv\n",
    "import pandas as pd\n",
    "import matplotlib as plt\n",
    "import community"
   ]
  },
  {
   "cell_type": "code",
   "execution_count": null,
   "id": "d8d615dc",
   "metadata": {},
   "outputs": [],
   "source": [
    "df_account = pd.read_csv('All_Fake_without_debunkers_Updated.csv')"
   ]
  },
  {
   "cell_type": "code",
   "execution_count": null,
   "id": "81211410",
   "metadata": {},
   "outputs": [],
   "source": [
    "df_cluster = pd.read_csv('Cluster_Tweet_Final.csv')"
   ]
  },
  {
   "cell_type": "code",
   "execution_count": null,
   "id": "a6e61f4b",
   "metadata": {},
   "outputs": [],
   "source": [
    "df_account = pd.read_csv('All_Fake_without_debunkers_Updated.csv')"
   ]
  },
  {
   "cell_type": "code",
   "execution_count": null,
   "id": "3da62406",
   "metadata": {},
   "outputs": [],
   "source": [
    "df_cluster = pd.read_csv('Cluster_Tweet_Final.csv')\n",
    "df_cluster = df_cluster.dropna(subset=['Cluster_ID'])\n",
    "df_cluster = df_cluster.dropna(subset = 'User_ID')\n",
    "df_cluster.User_ID = df_cluster.User_ID.astype(int)\n",
    "df_cluster = df_cluster.dropna(subset=['Cluster_ID'])"
   ]
  },
  {
   "cell_type": "code",
   "execution_count": null,
   "id": "c8fad4d5",
   "metadata": {},
   "outputs": [],
   "source": [
    "df_cluster[['Cluster_ID', 'Tweet_ID', 'User_ID']].dtypes"
   ]
  },
  {
   "cell_type": "code",
   "execution_count": null,
   "id": "c315de49",
   "metadata": {},
   "outputs": [],
   "source": [
    "df_cluster2 = pd.merge(df_cluster[['Cluster_ID', 'Tweet_ID', 'User_ID']], df_account[['User_ID', 'party', 'Political']], how = 'left')"
   ]
  },
  {
   "cell_type": "code",
   "execution_count": null,
   "id": "5259f75b",
   "metadata": {},
   "outputs": [],
   "source": [
    "df_user_list = df_cluster2[df_cluster2.isna().any(axis=1)].groupby('User_ID').count().reset_index().User_ID.tolist()"
   ]
  },
  {
   "cell_type": "code",
   "execution_count": null,
   "id": "43eaf41e",
   "metadata": {},
   "outputs": [],
   "source": [
    "df_cluster = df_cluster.rename(columns = {'User_ScreenName':'ScreenName'})"
   ]
  },
  {
   "cell_type": "code",
   "execution_count": null,
   "id": "4f4bfca8",
   "metadata": {},
   "outputs": [],
   "source": [
    "df_cluster.ScreenName = '@' + df_cluster.ScreenName"
   ]
  },
  {
   "cell_type": "code",
   "execution_count": null,
   "id": "0dbf4ed8",
   "metadata": {},
   "outputs": [],
   "source": [
    "df_cluster.ScreenName"
   ]
  },
  {
   "cell_type": "code",
   "execution_count": null,
   "id": "5d84e29e",
   "metadata": {},
   "outputs": [],
   "source": [
    "screen_name_list = list(set(df_cluster[df_cluster.User_ID.isin(df_user_list)].ScreenName.tolist()))"
   ]
  },
  {
   "cell_type": "code",
   "execution_count": null,
   "id": "e81b1b69",
   "metadata": {},
   "outputs": [],
   "source": [
    "df_account.loc[df_account.ScreenName == screen_name_list[7]].User_ID.tolist()[0]"
   ]
  },
  {
   "cell_type": "code",
   "execution_count": null,
   "id": "42906a26",
   "metadata": {},
   "outputs": [],
   "source": [
    "df_cluster.groupby(['ScreenName', 'User_ID']).count().reset_index()[['ScreenName', 'User_ID']]"
   ]
  },
  {
   "cell_type": "code",
   "execution_count": null,
   "id": "a6ef9520",
   "metadata": {},
   "outputs": [],
   "source": [
    "df_cluster.loc[df_cluster.ScreenName == duplicate_screen_names.reset_index().ScreenName.tolist()[i], 'User_ID'] = 1317831320739827713"
   ]
  },
  {
   "cell_type": "code",
   "execution_count": null,
   "id": "efa05b6c",
   "metadata": {},
   "outputs": [],
   "source": [
    "for i in range(len(duplicate_screen_names.reset_index().ScreenName.tolist())):\n",
    "    sc = duplicate_screen_names.reset_index().ScreenName.tolist()[i]\n",
    "    uid_list = list(set(df_cluster.loc[df_cluster.ScreenName == duplicate_screen_names.reset_index().ScreenName.tolist()[i]].User_ID))\n",
    "    for j in uid_list:\n",
    "        if len(df_account.loc[df_account.User_ID == j]) == 0:\n",
    "            continue\n",
    "        else:\n",
    "            df_cluster.loc[df_cluster.ScreenName == duplicate_screen_names.reset_index().ScreenName.tolist()[i], 'User_ID'] = j\n",
    "    "
   ]
  },
  {
   "cell_type": "code",
   "execution_count": null,
   "id": "4f5d2e1c",
   "metadata": {},
   "outputs": [],
   "source": [
    "df_cluster.to_csv('Cluster_Tweet_Final.csv', index = False)"
   ]
  },
  {
   "cell_type": "code",
   "execution_count": null,
   "id": "a8a89e21",
   "metadata": {},
   "outputs": [],
   "source": [
    "df_cluster2 = pd.merge(df_cluster[['Cluster_ID', 'Tweet_ID', 'User_ID']], df_account[['User_ID', 'party', 'Political']], how = 'left')"
   ]
  },
  {
   "cell_type": "code",
   "execution_count": null,
   "id": "7b546d6b",
   "metadata": {
    "scrolled": true
   },
   "outputs": [],
   "source": [
    "import networkx as nx\n",
    "from itertools import combinations\n",
    "import pandas as pd\n",
    "\n",
    "\n",
    "G = nx.Graph()\n",
    "\n",
    "user_clusters = df_cluster2.groupby('User_ID')['Cluster_ID'].unique().to_dict()\n",
    "\n",
    "for pair in combinations(user_clusters.keys(), 2):\n",
    "    user1, user2 = pair\n",
    "    common_clusters = set(user_clusters[user1]).intersection(user_clusters[user2])\n",
    "    if len(common_clusters) >= 5:\n",
    "        weight = len(common_clusters)\n",
    "        G.add_edge(user1, user2, weight=weight)\n",
    "\n",
    "print(\"Number of nodes:\", G.number_of_nodes())\n",
    "print(\"Number of edges:\", G.number_of_edges())\n",
    "\n",
    "for u, v, data in G.edges(data=True):\n",
    "    print(f\"Edge ({u}, {v}): Weight = {data['weight']}\")"
   ]
  },
  {
   "cell_type": "code",
   "execution_count": null,
   "id": "679be883",
   "metadata": {},
   "outputs": [],
   "source": []
  },
  {
   "cell_type": "code",
   "execution_count": null,
   "id": "26a4e67a",
   "metadata": {},
   "outputs": [],
   "source": [
    "partition = community.best_partition(G, resolution = 1)\n",
    "\n",
    "community_data = []\n",
    "\n",
    "for community_id in set(partition.values()):\n",
    "    nodes_in_community = [node for node, comm_id in partition.items() if comm_id == community_id]\n",
    "    \n",
    "    subgraph = G.subgraph(nodes_in_community)\n",
    "    \n",
    "    num_nodes = subgraph.number_of_nodes()\n",
    "    num_edges = subgraph.number_of_edges()\n",
    "    density = nx.density(subgraph)\n",
    "    avg_degree = sum(dict(subgraph.degree()).values()) / num_nodes\n",
    "    clustering_coefficient = nx.average_clustering(subgraph)\n",
    "    partition2 = community.best_partition(subgraph)\n",
    "    modularity = community.modularity(partition2, subgraph)\n",
    "    edge_weights = [data['weight'] for _, _, data in subgraph.edges(data=True)]\n",
    "    average_weight = sum(edge_weights) / len(edge_weights) if edge_weights else 0\n",
    "    \n",
    "    community_data.append((community_id, num_nodes, num_edges, density, avg_degree, clustering_coefficient, modularity, average_weight))\n",
    "\n",
    "df_community = pd.DataFrame(community_data, columns=['Community_ID', 'Num_Nodes', 'Num_Edges', 'Density', 'Avg_Degree', 'Clustering_Coefficient', 'Modularity', 'Avg_Weight'])\n"
   ]
  },
  {
   "cell_type": "code",
   "execution_count": null,
   "id": "6b15fc43",
   "metadata": {
    "scrolled": true
   },
   "outputs": [],
   "source": [
    "df_community = df_community.sort_values('Num_Nodes', ascending = False).reset_index(drop= True)"
   ]
  },
  {
   "cell_type": "code",
   "execution_count": null,
   "id": "163ec3f5",
   "metadata": {},
   "outputs": [],
   "source": [
    "df_community['Community_ID'] = 'Wild_Community_' + df_community['Community_ID'].astype('str')"
   ]
  },
  {
   "cell_type": "code",
   "execution_count": null,
   "id": "b2490bbf",
   "metadata": {},
   "outputs": [],
   "source": [
    "\n"
   ]
  },
  {
   "cell_type": "code",
   "execution_count": null,
   "id": "09a38179",
   "metadata": {},
   "outputs": [],
   "source": [
    "df_community.sum()"
   ]
  },
  {
   "cell_type": "code",
   "execution_count": null,
   "id": "798613db",
   "metadata": {},
   "outputs": [],
   "source": [
    "len(df_community.sort_values('Num_Nodes', ascending = False))"
   ]
  },
  {
   "cell_type": "code",
   "execution_count": null,
   "id": "d0b2be00",
   "metadata": {},
   "outputs": [],
   "source": [
    "community.modularity(partition, G)"
   ]
  },
  {
   "cell_type": "code",
   "execution_count": null,
   "id": "6151cf7c",
   "metadata": {},
   "outputs": [],
   "source": [
    "df_community.to_csv('Wild_Community.csv', index = False)"
   ]
  },
  {
   "cell_type": "code",
   "execution_count": null,
   "id": "e76a0cd4",
   "metadata": {},
   "outputs": [],
   "source": [
    "df_community"
   ]
  },
  {
   "cell_type": "code",
   "execution_count": null,
   "id": "d527a7db",
   "metadata": {},
   "outputs": [],
   "source": [
    "communities[31]"
   ]
  },
  {
   "cell_type": "code",
   "execution_count": null,
   "id": "ad0cd6d2",
   "metadata": {},
   "outputs": [],
   "source": []
  },
  {
   "cell_type": "code",
   "execution_count": null,
   "id": "233e5eea",
   "metadata": {},
   "outputs": [],
   "source": [
    "communities = {}\n",
    "for node, community_id in partition.items():\n",
    "    if community_id not in communities:\n",
    "        communities[community_id] = []\n",
    "    communities[community_id].append(node)\n",
    "\n",
    "for community_id, nodes in communities.items():\n",
    "    print(f\"Community {community_id}: {len(nodes)}\")"
   ]
  },
  {
   "cell_type": "code",
   "execution_count": null,
   "id": "c2580bcb",
   "metadata": {},
   "outputs": [],
   "source": [
    "import networkx as nx\n",
    "import matplotlib.pyplot as plt\n",
    "import community\n",
    "\n",
    "\n",
    "target_community = 31\n",
    "\n",
    "nodes_in_community = [node for node, comm_id in partition.items() if comm_id == target_community]\n",
    "\n",
    "community_subgraph = G.subgraph(nodes_in_community)\n",
    "\n",
    "pos = nx.spring_layout(community_subgraph)  # Or any other layout you prefer\n",
    "nx.draw(community_subgraph, pos, with_labels=True, node_color='skyblue', node_size=100, font_size=12)\n",
    "plt.title('Community ' + str(target_community))\n",
    "plt.show()"
   ]
  },
  {
   "cell_type": "code",
   "execution_count": null,
   "id": "1addec1d",
   "metadata": {},
   "outputs": [],
   "source": [
    "community_subgraph "
   ]
  },
  {
   "cell_type": "code",
   "execution_count": null,
   "id": "752d1b1e",
   "metadata": {},
   "outputs": [],
   "source": [
    "pd.DataFrame(partition, columns=['Community_ID'])"
   ]
  },
  {
   "cell_type": "code",
   "execution_count": null,
   "id": "e2c2e5bd",
   "metadata": {},
   "outputs": [],
   "source": [
    "df_partition"
   ]
  },
  {
   "cell_type": "code",
   "execution_count": null,
   "id": "ab530fd3",
   "metadata": {},
   "outputs": [],
   "source": [
    "df_partition = pd.DataFrame(partition.items(), columns=['User_ID', 'Community_ID'])"
   ]
  },
  {
   "cell_type": "code",
   "execution_count": null,
   "id": "a54eebf5",
   "metadata": {},
   "outputs": [],
   "source": [
    "df_partition['Community_ID'] = 'Community_' + df_partition['Community_ID'].astype('str')"
   ]
  },
  {
   "cell_type": "code",
   "execution_count": null,
   "id": "d702a304",
   "metadata": {},
   "outputs": [],
   "source": [
    "df_partition.groupby('Community_ID').count()"
   ]
  },
  {
   "cell_type": "code",
   "execution_count": null,
   "id": "144e1fe7",
   "metadata": {},
   "outputs": [],
   "source": [
    "nx.write_gpickle(G, 'Community_Graph_Wild_Campaign.gpickle')"
   ]
  },
  {
   "cell_type": "code",
   "execution_count": null,
   "id": "dd887760",
   "metadata": {},
   "outputs": [],
   "source": [
    "import json\n",
    "\n",
    "file_path = \"Community_Partition_List_Wild_Campaign.json\"\n",
    "\n",
    "with open(file_path, 'w') as f:\n",
    "    for key, value in partition.items():\n",
    "        f.write(f\"{key}: {value}\\n\")\n",
    "\n",
    "print(\"Dictionary has been saved successfully.\")"
   ]
  },
  {
   "cell_type": "code",
   "execution_count": null,
   "id": "218cd22c",
   "metadata": {},
   "outputs": [],
   "source": [
    "df_partition.to_csv('User_Community_Map.csv', index = False)"
   ]
  },
  {
   "cell_type": "code",
   "execution_count": null,
   "id": "e25e17bc",
   "metadata": {},
   "outputs": [],
   "source": [
    "len(df_partition.groupby('Community_ID').count().reset_index().sort_values('User_ID', ascending = False))"
   ]
  },
  {
   "cell_type": "code",
   "execution_count": null,
   "id": "c6052b89",
   "metadata": {},
   "outputs": [],
   "source": [
    "df_partition.groupby('Community_ID').count().reset_index().sort_values('User_ID', ascending = False).User_ID.tolist()"
   ]
  },
  {
   "cell_type": "markdown",
   "id": "dbd8e3ff",
   "metadata": {},
   "source": [
    "# Alt Campaign Community"
   ]
  },
  {
   "cell_type": "code",
   "execution_count": null,
   "id": "04d09ad8",
   "metadata": {},
   "outputs": [],
   "source": [
    "df_alt_influence = pd.read_csv('AltNews Report Check.csv')\n",
    "df_alt_small = df_alt_influence.loc[df_alt_influence.Campaign == 'Influence'][['News_Number', 'Fact_Check_Link']]\n",
    "\n",
    "df_alt_all = pd.read_csv('Collected_Fake_Tweets_Still_Available.csv')\n",
    "df_account = pd.read_csv('All_Fake_without_debunkers_Updated.csv')\n",
    "\n",
    "df_alt_all_influence = pd.merge(df_alt_all, df_alt_small, on = 'Fact_Check_Link').drop(columns = 'Unnamed: 0')\n",
    "df_merge_info = pd.merge(df_alt_all_influence[['User_ID', 'News_Number']], df_account[['User_ID', 'Political', 'party', 'ScreenName']])"
   ]
  },
  {
   "cell_type": "code",
   "execution_count": null,
   "id": "f76b00b2",
   "metadata": {},
   "outputs": [],
   "source": [
    "alt_number= df_alt_all_influence.groupby('News_Number').count().reset_index()[['News_Number', 'Tweet_ID']]"
   ]
  },
  {
   "cell_type": "code",
   "execution_count": null,
   "id": "aeb21a17",
   "metadata": {},
   "outputs": [],
   "source": [
    "alt_number_5 = alt_number.loc[alt_number.Tweet_ID >= 5].rename(columns = {'Tweet_ID': 'Campaign_Size'})"
   ]
  },
  {
   "cell_type": "code",
   "execution_count": null,
   "id": "b5deb031",
   "metadata": {},
   "outputs": [],
   "source": [
    "alt_number_5['Campaign_ID'] = 'Alt_'  + alt_number_5['News_Number'].astype('str')"
   ]
  },
  {
   "cell_type": "code",
   "execution_count": null,
   "id": "f52e478a",
   "metadata": {},
   "outputs": [],
   "source": [
    "df_alt_all_influence[df_alt_all_influence.News_Number.isin(alt_number_5.News_Number.tolist())][['User_ID', 'News_Number']]"
   ]
  },
  {
   "cell_type": "code",
   "execution_count": null,
   "id": "44e7f841",
   "metadata": {},
   "outputs": [],
   "source": [
    "alt_camp = alt_number_5[['Campaign_ID','Campaign_Size' ]]"
   ]
  },
  {
   "cell_type": "markdown",
   "id": "6fdcbc77",
   "metadata": {},
   "source": [
    "# Wild Campaign Community"
   ]
  },
  {
   "cell_type": "code",
   "execution_count": null,
   "id": "90201e96",
   "metadata": {},
   "outputs": [],
   "source": [
    "df_cluster = pd.read_csv('Cluster_Tweet_Final.csv')"
   ]
  },
  {
   "cell_type": "code",
   "execution_count": null,
   "id": "082b2ea1",
   "metadata": {},
   "outputs": [],
   "source": [
    "df_cluster.Cluster_ID = df_cluster.Cluster_ID.astype('int')"
   ]
  },
  {
   "cell_type": "code",
   "execution_count": null,
   "id": "aa351289",
   "metadata": {},
   "outputs": [],
   "source": [
    "df_cl_n = df_cluster.groupby('Cluster_ID').count().reset_index(drop= False)[['Cluster_ID', 'Tweet_ID']]"
   ]
  },
  {
   "cell_type": "code",
   "execution_count": null,
   "id": "23818757",
   "metadata": {},
   "outputs": [],
   "source": [
    "df_cluster5 = df_cl_n.loc[df_cl_n.Tweet_ID >= 5 ].rename(columns = { 'Tweet_ID': 'Campaign_Size'})"
   ]
  },
  {
   "cell_type": "code",
   "execution_count": null,
   "id": "104c4235",
   "metadata": {},
   "outputs": [],
   "source": [
    "df_cluster5['Campaign_ID'] = 'Wild_'  + df_cluster5['Cluster_ID'].astype('str')"
   ]
  },
  {
   "cell_type": "code",
   "execution_count": null,
   "id": "a25a1607",
   "metadata": {},
   "outputs": [],
   "source": [
    "wild_camp = df_cluster5[['Campaign_ID', 'Campaign_Size']]"
   ]
  },
  {
   "cell_type": "code",
   "execution_count": null,
   "id": "d23dda6f",
   "metadata": {},
   "outputs": [],
   "source": [
    "df_cluster[df_cluster.Cluster_ID.isin(df_cluster5.Cluster_ID.tolist())][['Cluster_ID', 'User_ID']]"
   ]
  },
  {
   "cell_type": "code",
   "execution_count": null,
   "id": "5a0a04fb",
   "metadata": {},
   "outputs": [],
   "source": [
    "camp_all = pd.concat([alt_camp, wild_camp]).reset_index(drop = True).sort_values('Campaign_Size', ascending = False).iloc[1:].reset_index(drop = True)"
   ]
  },
  {
   "cell_type": "code",
   "execution_count": null,
   "id": "40bdc5ea",
   "metadata": {},
   "outputs": [],
   "source": [
    "camp_all "
   ]
  },
  {
   "cell_type": "code",
   "execution_count": null,
   "id": "bf94fa6e",
   "metadata": {},
   "outputs": [],
   "source": [
    "alt_number_5"
   ]
  },
  {
   "cell_type": "code",
   "execution_count": null,
   "id": "d09c643e",
   "metadata": {},
   "outputs": [],
   "source": [
    "df_acc_alt = df_alt_all_influence[df_alt_all_influence.News_Number.isin(alt_number_5.News_Number.tolist())][['User_ID', 'News_Number']]\n",
    "\n",
    "\n",
    "\n",
    "merged_df = pd.merge(df_acc_alt, df_partition, on='User_ID')\n",
    "\n",
    "pivot_df = merged_df.pivot_table(index='News_Number', columns='Community_ID', aggfunc='size', fill_value=0)\n",
    "\n",
    "pivot_df.reset_index(inplace=True)\n",
    "\n",
    "pivot_df.columns.name = None  # Remove the 'Community_ID' label\n",
    "pivot_df.columns = [f\"{col}\" if col != 'News_Number' else col for col in pivot_df.columns]\n",
    "\n"
   ]
  },
  {
   "cell_type": "code",
   "execution_count": null,
   "id": "c03be0d0",
   "metadata": {},
   "outputs": [],
   "source": [
    "pivot_df"
   ]
  },
  {
   "cell_type": "code",
   "execution_count": null,
   "id": "95176afa",
   "metadata": {},
   "outputs": [],
   "source": [
    "community_totals = pivot_df.drop('News_Number', axis=1).sum()\n",
    "\n",
    "sorted_communities = community_totals.sort_values(ascending=False)\n",
    "\n",
    "sorted_columns = ['News_Number'] + sorted_communities.index.tolist()\n",
    "sorted_df = pivot_df[sorted_columns]"
   ]
  },
  {
   "cell_type": "code",
   "execution_count": null,
   "id": "d8aff55d",
   "metadata": {},
   "outputs": [],
   "source": [
    "sorted_df"
   ]
  },
  {
   "cell_type": "code",
   "execution_count": null,
   "id": "1c3f4fcb",
   "metadata": {},
   "outputs": [],
   "source": [
    "pd.merge(alt_number_5, sorted_df, how = 'left').drop(columns = 'News_Number')"
   ]
  },
  {
   "cell_type": "code",
   "execution_count": null,
   "id": "6db251da",
   "metadata": {},
   "outputs": [],
   "source": [
    "df_acc_alt\n",
    "df_acc_wild"
   ]
  },
  {
   "cell_type": "code",
   "execution_count": null,
   "id": "538b75d7",
   "metadata": {},
   "outputs": [],
   "source": []
  },
  {
   "cell_type": "code",
   "execution_count": null,
   "id": "be3e2a9d",
   "metadata": {},
   "outputs": [],
   "source": [
    "df_acc_wild = df_cluster[df_cluster.Cluster_ID.isin(df_cluster5.Cluster_ID.tolist())][['Cluster_ID', 'User_ID']]\n",
    "\n",
    "\n",
    "\n",
    "merged_df2 = pd.merge(df_acc_wild, df_partition, on='User_ID')\n",
    "\n",
    "pivot_df2 = merged_df2.pivot_table(index='Cluster_ID', columns='Community_ID', aggfunc='size', fill_value=0)\n",
    "\n",
    "pivot_df2.reset_index(inplace=True)\n",
    "\n",
    "pivot_df2.columns.name = None  # Remove the 'Community_ID' label\n",
    "pivot_df2.columns = [f\"{col}\" if col != 'Cluster_ID' else col for col in pivot_df2.columns]\n",
    "\n"
   ]
  },
  {
   "cell_type": "code",
   "execution_count": null,
   "id": "6183202c",
   "metadata": {},
   "outputs": [],
   "source": [
    "community_totals2 = pivot_df2.drop('Cluster_ID', axis=1).sum()\n",
    "\n",
    "sorted_communities2 = community_totals2.sort_values(ascending=False)\n",
    "\n",
    "sorted_columns2 = ['Cluster_ID'] + sorted_communities2.index.tolist()\n",
    "sorted_df2 = pivot_df2[sorted_columns2]"
   ]
  },
  {
   "cell_type": "code",
   "execution_count": null,
   "id": "ac1be935",
   "metadata": {},
   "outputs": [],
   "source": [
    "sorted_df2"
   ]
  },
  {
   "cell_type": "code",
   "execution_count": null,
   "id": "9f640234",
   "metadata": {},
   "outputs": [],
   "source": [
    "pd.merge(df_cluster5, sorted_df2, how = 'left')"
   ]
  },
  {
   "cell_type": "code",
   "execution_count": null,
   "id": "8dc1bce3",
   "metadata": {},
   "outputs": [],
   "source": [
    "df_alt_camp_new = pd.merge(alt_number_5, sorted_df, how = 'left').drop(columns = 'News_Number')"
   ]
  },
  {
   "cell_type": "code",
   "execution_count": null,
   "id": "0547949f",
   "metadata": {},
   "outputs": [],
   "source": [
    "df_wild_camp_news = pd.merge(df_cluster5, sorted_df2, how = 'left').drop(columns = 'Cluster_ID')"
   ]
  },
  {
   "cell_type": "code",
   "execution_count": null,
   "id": "d4335bec",
   "metadata": {},
   "outputs": [],
   "source": [
    "df_col_names = df_partition.groupby('Community_ID').count().reset_index().sort_values('User_ID', ascending = False).Community_ID"
   ]
  },
  {
   "cell_type": "code",
   "execution_count": null,
   "id": "e6969138",
   "metadata": {},
   "outputs": [],
   "source": []
  },
  {
   "cell_type": "code",
   "execution_count": null,
   "id": "2c24eae9",
   "metadata": {},
   "outputs": [],
   "source": [
    "df_col_names = df_col_names.tolist()"
   ]
  },
  {
   "cell_type": "code",
   "execution_count": null,
   "id": "1215b5a4",
   "metadata": {},
   "outputs": [],
   "source": [
    "df_col_names.insert(0, 'Campaign_ID')\n",
    "df_col_names.insert(1, 'Campaign_Size')\n"
   ]
  },
  {
   "cell_type": "code",
   "execution_count": null,
   "id": "0078e50e",
   "metadata": {},
   "outputs": [],
   "source": [
    "df_alt_camp_new[ df_col_names]"
   ]
  },
  {
   "cell_type": "code",
   "execution_count": null,
   "id": "34b313dc",
   "metadata": {},
   "outputs": [],
   "source": [
    "pd.concat[df_alt_camp_new , df_wild_camp_news ]"
   ]
  },
  {
   "cell_type": "code",
   "execution_count": null,
   "id": "46da6ad4",
   "metadata": {},
   "outputs": [],
   "source": [
    "df_wild_camp_news['Community_49'] = 0"
   ]
  },
  {
   "cell_type": "code",
   "execution_count": null,
   "id": "5ce4618e",
   "metadata": {},
   "outputs": [],
   "source": [
    "df_wild_camp_news[df_col_names]"
   ]
  },
  {
   "cell_type": "code",
   "execution_count": null,
   "id": "d8347ec6",
   "metadata": {},
   "outputs": [],
   "source": [
    "df_new_final = pd.concat([df_alt_camp_new[ df_col_names], df_wild_camp_news[df_col_names]]).sort_values('Campaign_Size', ascending = False).iloc[1:].reset_index(drop = True)"
   ]
  },
  {
   "cell_type": "code",
   "execution_count": null,
   "id": "1a68f3af",
   "metadata": {},
   "outputs": [],
   "source": [
    "pd.DataFrame(df_partition.groupby('Community_ID').count().reset_index().sort_values('User_ID', ascending = False).User_ID.tolist())"
   ]
  },
  {
   "cell_type": "code",
   "execution_count": null,
   "id": "be939982",
   "metadata": {},
   "outputs": [],
   "source": [
    "df_new_final.iloc[0][2:]"
   ]
  },
  {
   "cell_type": "code",
   "execution_count": null,
   "id": "6e831499",
   "metadata": {},
   "outputs": [],
   "source": [
    "import pandas as pd\n",
    "\n",
    "df = pd.DataFrame({'A': [1, 2, 3],\n",
    "                   'B': [4, 5, 6]})\n",
    "\n",
    "\n",
    "df.loc[-1] = None\n",
    "df = df.sort_index().reset_index(drop=True)\n",
    "\n",
    "print(df)"
   ]
  },
  {
   "cell_type": "code",
   "execution_count": null,
   "id": "29e42551",
   "metadata": {},
   "outputs": [],
   "source": [
    "df_new_final.loc[-1] = None"
   ]
  },
  {
   "cell_type": "code",
   "execution_count": null,
   "id": "0452ef6c",
   "metadata": {},
   "outputs": [],
   "source": [
    "df_new_final = df_new_final.sort_index().reset_index(drop=True)"
   ]
  },
  {
   "cell_type": "code",
   "execution_count": null,
   "id": "bbab3d59",
   "metadata": {},
   "outputs": [],
   "source": [
    "df_new_final.iloc[0].Campaing_ID = 'Community_Info'"
   ]
  },
  {
   "cell_type": "code",
   "execution_count": null,
   "id": "f5b6868d",
   "metadata": {},
   "outputs": [],
   "source": [
    "df_new_final.iloc[0, df_new_final.columns.get_loc('Campaign_ID')] =  'Community_Size'\n",
    "df_new_final.iloc[0, df_new_final.columns.get_loc('Campaign_Size')] =  1838\n"
   ]
  },
  {
   "cell_type": "code",
   "execution_count": null,
   "id": "ee58941e",
   "metadata": {},
   "outputs": [],
   "source": [
    "df_new_final.iloc[0,2:] = df_partition.groupby('Community_ID').count().reset_index().sort_values('User_ID', ascending = False).User_ID.tolist()"
   ]
  },
  {
   "cell_type": "code",
   "execution_count": null,
   "id": "0e1c19a5",
   "metadata": {},
   "outputs": [],
   "source": [
    "df_new_final.to_csv('Campaign_Table2.csv', index = False)"
   ]
  },
  {
   "cell_type": "code",
   "execution_count": null,
   "id": "18c97a16",
   "metadata": {},
   "outputs": [],
   "source": [
    "df_new_final.loc[df_new_final.Community_0 > 0].sort_values('Community_0', ascending = False)"
   ]
  },
  {
   "cell_type": "code",
   "execution_count": null,
   "id": "5355bd0b",
   "metadata": {},
   "outputs": [],
   "source": [
    "df_acc_alt\n",
    "df_acc_wild"
   ]
  },
  {
   "cell_type": "code",
   "execution_count": null,
   "id": "8d9b17b4",
   "metadata": {},
   "outputs": [],
   "source": [
    "df_acc_alt['Campaign_ID'] = 'Alt_' + df_acc_alt['News_Number'].astype('str') \n",
    "df_acc_wild['Campaign_ID'] = 'Wild_' + df_acc_wild['Cluster_ID'].astype('str')"
   ]
  },
  {
   "cell_type": "code",
   "execution_count": null,
   "id": "363c5bfd",
   "metadata": {},
   "outputs": [],
   "source": [
    "all_acc_camp = pd.concat([df_acc_wild[['Campaign_ID', 'User_ID']],df_acc_alt[['Campaign_ID', 'User_ID']]])"
   ]
  },
  {
   "cell_type": "code",
   "execution_count": null,
   "id": "cff85efd",
   "metadata": {},
   "outputs": [],
   "source": [
    "largest_community = max(partition.values(), key=lambda x: list(partition.values()).count(x))\n",
    "\n",
    "largest_community_nodes = [node for node, comm_id in partition.items() if comm_id == largest_community]\n",
    "\n",
    "largest_community_subgraph = G.subgraph(largest_community_nodes)\n"
   ]
  },
  {
   "cell_type": "code",
   "execution_count": null,
   "id": "4c835294",
   "metadata": {},
   "outputs": [],
   "source": [
    "partition_sub = community.best_partition(largest_community_subgraph)"
   ]
  },
  {
   "cell_type": "code",
   "execution_count": null,
   "id": "3b0f4e95",
   "metadata": {},
   "outputs": [],
   "source": []
  },
  {
   "cell_type": "code",
   "execution_count": null,
   "id": "53c6df63",
   "metadata": {},
   "outputs": [],
   "source": [
    "community.modularity(partition_sub, largest_community_subgraph)"
   ]
  },
  {
   "cell_type": "code",
   "execution_count": null,
   "id": "5092594e",
   "metadata": {},
   "outputs": [],
   "source": [
    "sub_communities_count = {}\n",
    "\n",
    "for community_id in set(partition.values()):\n",
    "    community_nodes = [node for node, comm_id in partition.items() if comm_id == community_id]\n",
    "    \n",
    "    community_subgraph = G.subgraph(community_nodes)\n",
    "    \n",
    "    sub_partition = community.best_partition(community_subgraph)\n",
    "    \n",
    "    num_sub_communities = len(set(sub_partition.values()))\n",
    "    \n",
    "    sub_communities_count[community_id] = num_sub_communities\n",
    "\n",
    "print(sub_communities_count)"
   ]
  },
  {
   "cell_type": "code",
   "execution_count": null,
   "id": "ea42854c",
   "metadata": {},
   "outputs": [],
   "source": [
    "df_sub_communities_count = pd.DataFrame.from_dict(sub_communities_count, orient='index', columns=['Num_Sub_Communities'])\n",
    "\n",
    "df_sub_communities_count.reset_index(inplace=True)\n",
    "df_sub_communities_count.rename(columns={'index': 'Community_ID'}, inplace=True)"
   ]
  },
  {
   "cell_type": "code",
   "execution_count": null,
   "id": "519fd22e",
   "metadata": {},
   "outputs": [],
   "source": [
    "df_sub_communities_count['Community_ID'] = 'Community_'  + df_sub_communities_count['Community_ID'].astype('str')"
   ]
  },
  {
   "cell_type": "code",
   "execution_count": null,
   "id": "7869b561",
   "metadata": {},
   "outputs": [],
   "source": []
  },
  {
   "cell_type": "code",
   "execution_count": null,
   "id": "18539d0a",
   "metadata": {},
   "outputs": [],
   "source": [
    "df_partition_number = df_partition.groupby('Community_ID').count().reset_index().sort_values('User_ID', ascending = False)"
   ]
  },
  {
   "cell_type": "code",
   "execution_count": null,
   "id": "274acd6e",
   "metadata": {},
   "outputs": [],
   "source": [
    "pd.merge(df_partition_number , df_sub_communities_count)"
   ]
  },
  {
   "cell_type": "code",
   "execution_count": null,
   "id": "73dc10d2",
   "metadata": {},
   "outputs": [],
   "source": [
    "data = []\n",
    "\n",
    "for community_id in set(partition.values()):\n",
    "    community_nodes = [node for node, comm_id in partition.items() if comm_id == community_id]\n",
    "    \n",
    "    community_subgraph = G.subgraph(community_nodes)\n",
    "    \n",
    "    community_density = nx.density(community_subgraph)\n",
    "    \n",
    "    sub_partition = community.best_partition(community_subgraph)\n",
    "    \n",
    "    for user_id, sub_community_id in sub_partition.items():\n",
    "        sub_community_label = f\"{community_id}_{sub_community_id}\"\n",
    "        \n",
    "        sub_community_nodes = [node for node, comm_id in sub_partition.items() if comm_id == sub_community_id]\n",
    "        sub_community_subgraph = community_subgraph.subgraph(sub_community_nodes)\n",
    "        \n",
    "        sub_community_density = nx.density(sub_community_subgraph)\n",
    "        \n",
    "        data.append((user_id, community_id, sub_community_label, community_density, sub_community_density))\n",
    "\n",
    "df_user_sub_community = pd.DataFrame(data, columns=['User_ID', 'Community_ID', 'Sub_Community_ID', 'Community_Density', 'Sub_Community_Density'])\n"
   ]
  },
  {
   "cell_type": "code",
   "execution_count": null,
   "id": "7c4317cc",
   "metadata": {},
   "outputs": [],
   "source": [
    "sub_com_total = df_user_sub_community.groupby('Sub_Community_ID').count().reset_index()[['Sub_Community_ID', 'User_ID']].sort_values('User_ID', ascending = False)"
   ]
  },
  {
   "cell_type": "code",
   "execution_count": null,
   "id": "0949776a",
   "metadata": {},
   "outputs": [],
   "source": [
    "sub_com_total "
   ]
  },
  {
   "cell_type": "code",
   "execution_count": null,
   "id": "058161dc",
   "metadata": {},
   "outputs": [],
   "source": [
    "sub_com_total['Sub_Community_ID'] = 'Community_ID' + sub_com_total['Sub_Community_ID']"
   ]
  },
  {
   "cell_type": "code",
   "execution_count": null,
   "id": "be9d3b40",
   "metadata": {},
   "outputs": [],
   "source": [
    "sub_com_total = sub_com_total.reset_index(drop = False)"
   ]
  },
  {
   "cell_type": "code",
   "execution_count": null,
   "id": "5ddd9e16",
   "metadata": {},
   "outputs": [],
   "source": [
    "grouped_data = df_user_sub_community.groupby('Community_ID').agg({'Community_Density': 'first', 'Sub_Community_Density': 'mean'}).reset_index()\n",
    "\n",
    "grouped_data.columns = ['Community_ID', 'Community_Density', 'Sub_Community_Density']\n",
    "\n"
   ]
  },
  {
   "cell_type": "code",
   "execution_count": null,
   "id": "80e9d1d8",
   "metadata": {},
   "outputs": [],
   "source": [
    "grouped_data"
   ]
  },
  {
   "cell_type": "code",
   "execution_count": null,
   "id": "8c3b2280",
   "metadata": {},
   "outputs": [],
   "source": [
    "sub_community_count = df_user_sub_community.groupby('Community_ID')['Sub_Community_ID'].nunique().reset_index()\n",
    "\n",
    "sub_community_count.columns = ['Community_ID', 'Num_Sub_Communities']\n",
    "\n",
    "sub_community_count"
   ]
  },
  {
   "cell_type": "code",
   "execution_count": null,
   "id": "7aeacd37",
   "metadata": {},
   "outputs": [],
   "source": [
    "df_user_sub_community.groupby('Community_ID').count().reset_index().sort_values('User_ID', ascending = False).reset_index(drop = True)[['Community_ID', 'User_ID']]"
   ]
  },
  {
   "cell_type": "code",
   "execution_count": null,
   "id": "8acd26d4",
   "metadata": {},
   "outputs": [],
   "source": [
    "df_user_sub_community.groupby('Sub_Community_ID').count()"
   ]
  },
  {
   "cell_type": "code",
   "execution_count": null,
   "id": "1a05d816",
   "metadata": {},
   "outputs": [],
   "source": [
    "df_com_info_new = pd.merge(pd.merge(sub_community_count, grouped_data), df_user_sub_community.groupby('Community_ID').count().reset_index().sort_values('User_ID', ascending = False).reset_index(drop = True)[['Community_ID', 'User_ID']])"
   ]
  },
  {
   "cell_type": "code",
   "execution_count": null,
   "id": "1c4d0a1e",
   "metadata": {},
   "outputs": [],
   "source": [
    "df_com_info_new = df_com_info_new.sort_values('User_ID', ascending = False).reset_index(drop = True).rename(columns = {'User_ID': 'Community_Size'})"
   ]
  },
  {
   "cell_type": "code",
   "execution_count": null,
   "id": "2efbb9a1",
   "metadata": {},
   "outputs": [],
   "source": [
    "df_com_info_new = df_com_info_new[['Community_ID', 'Community_Size', 'Num_Sub_Communities', 'Community_Density',\n",
    "       'Sub_Community_Density'] ]"
   ]
  },
  {
   "cell_type": "code",
   "execution_count": null,
   "id": "b0146d77",
   "metadata": {},
   "outputs": [],
   "source": [
    "df_user_sub_community"
   ]
  },
  {
   "cell_type": "code",
   "execution_count": null,
   "id": "ea9efb97",
   "metadata": {},
   "outputs": [],
   "source": [
    "pd.merge(df_com_info_new, community_sizes)"
   ]
  },
  {
   "cell_type": "code",
   "execution_count": null,
   "id": "0149024e",
   "metadata": {},
   "outputs": [],
   "source": [
    "df_com_info_new2 = df_com_info_new"
   ]
  },
  {
   "cell_type": "code",
   "execution_count": null,
   "id": "7f2b17db",
   "metadata": {},
   "outputs": [],
   "source": [
    "df_com_info_new2['Community_ID'] = 'Community_' + df_com_info_new2['Community_ID'].astype('str')"
   ]
  },
  {
   "cell_type": "code",
   "execution_count": null,
   "id": "bea4d029",
   "metadata": {},
   "outputs": [],
   "source": [
    "df_com_info_new2=df_com_info_new2.rename(columns = {'Num_Sub_Communities': 'SubCommunity_Size', 'Sub_Community_Density': 'Average_SubCommunity_Density'})"
   ]
  },
  {
   "cell_type": "code",
   "execution_count": null,
   "id": "2874a3d5",
   "metadata": {},
   "outputs": [],
   "source": [
    "df_com_info_new2"
   ]
  },
  {
   "cell_type": "code",
   "execution_count": null,
   "id": "cec0a373",
   "metadata": {},
   "outputs": [],
   "source": [
    "import pandas as pd\n",
    "\n",
    "\n",
    "sub_community_sizes = df_com_info_new2.groupby('Community_ID')['SubCommunity_Size'].apply(list).reset_index()\n",
    "\n",
    "df_com_info_new3 = pd.merge(df_com_info_new2, sub_community_sizes, on='Community_ID', how='left')\n",
    "\n"
   ]
  },
  {
   "cell_type": "code",
   "execution_count": null,
   "id": "a35bd898",
   "metadata": {},
   "outputs": [],
   "source": [
    "df_com_info_new3"
   ]
  },
  {
   "cell_type": "code",
   "execution_count": null,
   "id": "436a8329",
   "metadata": {},
   "outputs": [],
   "source": [
    "df_sub_com_size = df_user_sub_community.groupby(['Community_ID', 'Sub_Community_ID']).count().reset_index()[['Community_ID', 'User_ID']].sort_values('User_ID', ascending = False)"
   ]
  },
  {
   "cell_type": "code",
   "execution_count": null,
   "id": "66466dc2",
   "metadata": {},
   "outputs": [],
   "source": [
    "community_sizes = df_sub_com_size.groupby('Community_ID')['User_ID'].apply(list).reset_index()\n",
    "\n",
    "print(community_sizes)"
   ]
  },
  {
   "cell_type": "code",
   "execution_count": null,
   "id": "e848698c",
   "metadata": {},
   "outputs": [],
   "source": [
    "community_sizes['Community_ID'] = 'Community_' + community_sizes['Community_ID'].astype('str')"
   ]
  },
  {
   "cell_type": "code",
   "execution_count": null,
   "id": "3c717d17",
   "metadata": {},
   "outputs": [],
   "source": [
    "df_new_now = pd.merge(df_com_info_new2, community_sizes)"
   ]
  },
  {
   "cell_type": "code",
   "execution_count": null,
   "id": "7641fb70",
   "metadata": {},
   "outputs": [],
   "source": [
    "df_com_info_new2"
   ]
  },
  {
   "cell_type": "code",
   "execution_count": null,
   "id": "635b06fd",
   "metadata": {},
   "outputs": [],
   "source": []
  },
  {
   "cell_type": "code",
   "execution_count": null,
   "id": "faa63c1a",
   "metadata": {},
   "outputs": [],
   "source": [
    "df_new_now = df_new_now.rename(columns = {'SubCommunity_Size' : 'Total_SubCommunities', 'User_ID' : 'SubCommunity_Size'}) "
   ]
  },
  {
   "cell_type": "code",
   "execution_count": null,
   "id": "c160a2a1",
   "metadata": {},
   "outputs": [],
   "source": [
    "df_new_now.columns"
   ]
  },
  {
   "cell_type": "code",
   "execution_count": null,
   "id": "a411f7a1",
   "metadata": {},
   "outputs": [],
   "source": [
    "df_new_now[['Community_ID', 'Community_Size', 'Total_SubCommunities', 'SubCommunity_Size',\n",
    "       'Community_Density', 'Average_SubCommunity_Density',\n",
    "       ]].to_csv('Sub_communities_Density.csv', index = False)"
   ]
  },
  {
   "cell_type": "code",
   "execution_count": null,
   "id": "1133b392",
   "metadata": {},
   "outputs": [],
   "source": []
  },
  {
   "cell_type": "code",
   "execution_count": null,
   "id": "b7931904",
   "metadata": {},
   "outputs": [],
   "source": []
  },
  {
   "cell_type": "code",
   "execution_count": null,
   "id": "a8c237e9",
   "metadata": {},
   "outputs": [],
   "source": [
    "df_user_sub_community_dict = df_user_sub_community[['User_ID', 'Sub_Community_ID']]"
   ]
  },
  {
   "cell_type": "code",
   "execution_count": null,
   "id": "737c35a2",
   "metadata": {},
   "outputs": [],
   "source": [
    "df_user_sub_community_dict"
   ]
  },
  {
   "cell_type": "code",
   "execution_count": null,
   "id": "78893b8a",
   "metadata": {},
   "outputs": [],
   "source": [
    "unique_sub_community_ids = df_user_sub_community_dict['Sub_Community_ID'].unique()\n",
    "\n",
    "sub_community_id_to_int = {sub_id: i for i, sub_id in enumerate(unique_sub_community_ids)}\n",
    "\n",
    "df_user_sub_community_dict['Sub_Community_Integer'] = df_user_sub_community_dict['Sub_Community_ID'].map(sub_community_id_to_int)\n"
   ]
  },
  {
   "cell_type": "code",
   "execution_count": null,
   "id": "322fce2f",
   "metadata": {},
   "outputs": [],
   "source": [
    "df_user_sub_community_dict.columns"
   ]
  },
  {
   "cell_type": "code",
   "execution_count": null,
   "id": "cf53140c",
   "metadata": {},
   "outputs": [],
   "source": [
    "sub_partition = df_user_sub_community_dict.set_index('User_ID')['Sub_Community_Integer'].to_dict()"
   ]
  },
  {
   "cell_type": "code",
   "execution_count": null,
   "id": "423ea37c",
   "metadata": {},
   "outputs": [],
   "source": [
    "len(partition)"
   ]
  },
  {
   "cell_type": "code",
   "execution_count": null,
   "id": "7941791f",
   "metadata": {},
   "outputs": [],
   "source": [
    "len(sub_partition)"
   ]
  },
  {
   "cell_type": "code",
   "execution_count": null,
   "id": "a677fe84",
   "metadata": {},
   "outputs": [],
   "source": [
    "print(community.modularity(partition, G))\n",
    "print(community.modularity(sub_partition, G))"
   ]
  },
  {
   "cell_type": "code",
   "execution_count": null,
   "id": "eb2a0c59",
   "metadata": {},
   "outputs": [],
   "source": [
    "df_user_sub_community_dict.columns"
   ]
  },
  {
   "cell_type": "code",
   "execution_count": null,
   "id": "1353faf1",
   "metadata": {},
   "outputs": [],
   "source": [
    "df_user_sub_community_dict"
   ]
  },
  {
   "cell_type": "code",
   "execution_count": null,
   "id": "75bfaacd",
   "metadata": {},
   "outputs": [],
   "source": [
    "df_user_sub_community.loc[df_user_sub_community.Community_ID == 0].drop_duplicates('Sub_Community_ID')[['Sub_Community_ID', 'Sub_Community_Density']]"
   ]
  },
  {
   "cell_type": "code",
   "execution_count": null,
   "id": "f3319dd8",
   "metadata": {},
   "outputs": [],
   "source": [
    "df_user_sub_community.loc[df_user_sub_community.Community_ID == 0].groupby('Sub_Community_ID').count().reset_index(drop = False).sort_values('User_ID')"
   ]
  },
  {
   "cell_type": "code",
   "execution_count": null,
   "id": "2f1beb2f",
   "metadata": {},
   "outputs": [],
   "source": [
    "df_new_now"
   ]
  },
  {
   "cell_type": "code",
   "execution_count": null,
   "id": "9da01c1e",
   "metadata": {},
   "outputs": [],
   "source": [
    "com_0_list = ['Community_0', 696, 0.03238,\n",
    "'SubCommunity_0_0', 191, 0.078920,\n",
    "'SubCommunity_0_4', 183, 0.064733,\n",
    "'SubCommunity_0_2', 122, 0.073025,\n",
    "'SubCommunity_0_6',119, 0.101268,\n",
    "'SubCommunity_0_3', 75, 0.100541,\n",
    "'SubCommunity_0_1', 3, 1.000000,\n",
    "'SubCommunity_0_5', 3, 1.000000]"
   ]
  },
  {
   "cell_type": "code",
   "execution_count": null,
   "id": "dace938a",
   "metadata": {},
   "outputs": [],
   "source": [
    "df_com_0 = [com_0_list[i:i+3] for i in range(0, len(com_0_list), 3)]\n",
    "\n",
    "df_com_0_result = pd.DataFrame(df_com_0, columns=['Community_ID', 'Community_Size', 'Community_Density'])\n",
    "\n",
    "print(df_com_0_result)"
   ]
  },
  {
   "cell_type": "code",
   "execution_count": null,
   "id": "3938b9ba",
   "metadata": {},
   "outputs": [],
   "source": [
    "df_com_0_result.to_csv('Community_0.csv', index = False)"
   ]
  },
  {
   "cell_type": "code",
   "execution_count": null,
   "id": "59512a2e",
   "metadata": {},
   "outputs": [],
   "source": [
    "df_new_now"
   ]
  },
  {
   "cell_type": "code",
   "execution_count": null,
   "id": "6f5eea17",
   "metadata": {},
   "outputs": [],
   "source": [
    "df_user_sub_community"
   ]
  },
  {
   "cell_type": "code",
   "execution_count": null,
   "id": "00e6dc13",
   "metadata": {},
   "outputs": [],
   "source": [
    "\n",
    "\n",
    "\n",
    "def calculate_clustering_coefficient(subgraph):\n",
    "    return nx.average_clustering(subgraph)\n",
    "\n",
    "results = []\n",
    "\n",
    "for community_id in df_user_sub_community['Community_ID'].unique():\n",
    "    community_df = df_user_sub_community[df_user_sub_community['Community_ID'] == community_id]\n",
    "    print(len(community_df))\n",
    "    G_community = nx.Graph()\n",
    "    G_community.add_edges_from(community_df[['User_ID', 'User_ID']].values)\n",
    "    clustering_coefficient = calculate_clustering_coefficient(G_community)\n",
    "    results.append({'ID': f'Community_{community_id}', 'Clustering_Coefficient': clustering_coefficient})\n",
    "\n",
    "for subcommunity_id in df_user_sub_community['Sub_Community_ID'].unique():\n",
    "    subcommunity_df = df_user_sub_community[df_user_sub_community['Sub_Community_ID'] == subcommunity_id]\n",
    "    G_subcommunity = nx.Graph()\n",
    "    G_subcommunity.add_edges_from(subcommunity_df[['User_ID', 'User_ID']].values)\n",
    "    clustering_coefficient = calculate_clustering_coefficient(G_subcommunity)\n",
    "    results.append({'ID': f'SubCommunity_{subcommunity_id}', 'Clustering_Coefficient': clustering_coefficient})\n",
    "\n",
    "df_results_co = pd.DataFrame(results)\n",
    "\n",
    "print(df_results_co)\n"
   ]
  },
  {
   "cell_type": "code",
   "execution_count": null,
   "id": "9c326a5c",
   "metadata": {},
   "outputs": [],
   "source": [
    " df_user_sub_community['Community_ID'].unique()"
   ]
  },
  {
   "cell_type": "code",
   "execution_count": null,
   "id": "c3e7f061",
   "metadata": {},
   "outputs": [],
   "source": []
  },
  {
   "cell_type": "code",
   "execution_count": null,
   "id": "a2b3c2e8",
   "metadata": {},
   "outputs": [],
   "source": [
    "all_acc_camp"
   ]
  },
  {
   "cell_type": "code",
   "execution_count": null,
   "id": "1be28579",
   "metadata": {},
   "outputs": [],
   "source": [
    "community_0_analysis = pd.merge(all_acc_camp, df_user_sub_community.loc[df_user_sub_community.Community_ID == 0])"
   ]
  },
  {
   "cell_type": "code",
   "execution_count": null,
   "id": "443d9f8a",
   "metadata": {},
   "outputs": [],
   "source": [
    "community_0_analysis['Community_ID'] = 'Community_' + community_0_analysis['Community_ID'].astype('str')\n",
    "community_0_analysis['Sub_Community_ID'] = 'SubCommunity_' + community_0_analysis['Sub_Community_ID'].astype('str')"
   ]
  },
  {
   "cell_type": "code",
   "execution_count": null,
   "id": "9e3494ae",
   "metadata": {},
   "outputs": [],
   "source": [
    "df_new_final[['Campaign_ID', 'Campaign_Size', 'Community_0']]"
   ]
  },
  {
   "cell_type": "code",
   "execution_count": null,
   "id": "456ccfab",
   "metadata": {},
   "outputs": [],
   "source": [
    "community_0_analysis.columns"
   ]
  },
  {
   "cell_type": "code",
   "execution_count": null,
   "id": "a13d019a",
   "metadata": {},
   "outputs": [],
   "source": []
  },
  {
   "cell_type": "code",
   "execution_count": null,
   "id": "4c483d84",
   "metadata": {},
   "outputs": [],
   "source": [
    "campaign_subcommunity_counts = community_0_analysis.groupby(['Campaign_ID', 'Sub_Community_ID'])['User_ID'].nunique().reset_index()\n",
    "campaign_subcommunity_counts.columns = ['Campaign_ID', 'Sub_Community_ID', 'Accounts_From_Subcommunity']\n",
    "\n",
    "pivot_df2 = campaign_subcommunity_counts.pivot(index='Campaign_ID', columns='Sub_Community_ID', values='Accounts_From_Subcommunity').fillna(0)\n",
    "\n",
    "pivot_df2 = pivot_df2.reindex(sorted(pivot_df2.columns), axis=1)\n"
   ]
  },
  {
   "cell_type": "code",
   "execution_count": null,
   "id": "e3a38673",
   "metadata": {},
   "outputs": [],
   "source": []
  },
  {
   "cell_type": "code",
   "execution_count": null,
   "id": "02970bf9",
   "metadata": {},
   "outputs": [],
   "source": [
    "pivot_df2 = pivot_df2.reset_index(drop = False)"
   ]
  },
  {
   "cell_type": "code",
   "execution_count": null,
   "id": "325a8e38",
   "metadata": {},
   "outputs": [],
   "source": [
    "pivot_df2 "
   ]
  },
  {
   "cell_type": "code",
   "execution_count": null,
   "id": "0c5f9674",
   "metadata": {},
   "outputs": [],
   "source": []
  },
  {
   "cell_type": "code",
   "execution_count": null,
   "id": "07769cdb",
   "metadata": {},
   "outputs": [],
   "source": [
    "pivot_df2[['Campaign_ID', 'SubCommunity_0_0', 'SubCommunity_0_1',\n",
    "       'SubCommunity_0_2', 'SubCommunity_0_3', 'SubCommunity_0_4',\n",
    "       'SubCommunity_0_5', 'SubCommunity_0_6']]"
   ]
  },
  {
   "cell_type": "code",
   "execution_count": null,
   "id": "5ca8364c",
   "metadata": {},
   "outputs": [],
   "source": [
    "df_com0_analysis = pd.merge(df_new_final[['Campaign_ID', 'Campaign_Size', 'Community_0']], pivot_df2)"
   ]
  },
  {
   "cell_type": "code",
   "execution_count": null,
   "id": "ca3adddc",
   "metadata": {},
   "outputs": [],
   "source": [
    "SubCommunity_0_0\t191\t0.07892\n",
    "SubCommunity_0_4\t183\t0.064733\n",
    "SubCommunity_0_2\t122\t0.073025\n",
    "SubCommunity_0_6\t119\t0.101268\n",
    "SubCommunity_0_3\t75\t0.100541\n",
    "SubCommunity_0_1\t3\t1\n",
    "SubCommunity_0_5\t3\t1"
   ]
  },
  {
   "cell_type": "code",
   "execution_count": null,
   "id": "42ff112d",
   "metadata": {},
   "outputs": [],
   "source": [
    "df_com0_analysis.columns"
   ]
  },
  {
   "cell_type": "code",
   "execution_count": null,
   "id": "d7c9a2ee",
   "metadata": {},
   "outputs": [],
   "source": [
    "df_com0_analysis = df_com0_analysis[['Campaign_ID', 'Campaign_Size', 'Community_0','SubCommunity_0_0',\n",
    "                 'SubCommunity_0_4', 'SubCommunity_0_2', 'SubCommunity_0_6',\n",
    "                 'SubCommunity_0_3', 'SubCommunity_0_1', 'SubCommunity_0_5']]"
   ]
  },
  {
   "cell_type": "code",
   "execution_count": null,
   "id": "85524161",
   "metadata": {},
   "outputs": [],
   "source": [
    "df_com0_analysis = df_com0_analysis.sort_values(['Community_0', 'Campaign_Size'], ascending = False)"
   ]
  },
  {
   "cell_type": "code",
   "execution_count": null,
   "id": "e3b66863",
   "metadata": {},
   "outputs": [],
   "source": [
    "df_com0_analysis['Community_0_Percentage'] = (df_com0_analysis.Community_0 /df_com0_analysis.Campaign_Size) * 100"
   ]
  },
  {
   "cell_type": "code",
   "execution_count": null,
   "id": "597b725e",
   "metadata": {},
   "outputs": [],
   "source": [
    "df_com0_analysis.sort_values('Community_0_Percentage', ascending = False)"
   ]
  },
  {
   "cell_type": "code",
   "execution_count": null,
   "id": "101c5261",
   "metadata": {},
   "outputs": [],
   "source": [
    "df_com0_analysis =df_com0_analysis.reset_index(drop = True)"
   ]
  },
  {
   "cell_type": "code",
   "execution_count": null,
   "id": "b33fc8a7",
   "metadata": {},
   "outputs": [],
   "source": [
    "df_com0_analysis.head(5)"
   ]
  },
  {
   "cell_type": "code",
   "execution_count": null,
   "id": "8571a0f7",
   "metadata": {},
   "outputs": [],
   "source": [
    "df_com0_analysis.columns"
   ]
  },
  {
   "cell_type": "code",
   "execution_count": null,
   "id": "a13d02a2",
   "metadata": {},
   "outputs": [],
   "source": [
    "import pandas as pd\n",
    "\n",
    "\n",
    "new_row = ['Community_0_Size',-1, 696, 191,183,122,119,75,3,3, -1]  # Example new row\n",
    "\n",
    "new_row_df = pd.DataFrame([new_row], columns=df_com0_analysis.columns)\n",
    "\n",
    "df_com0_analysis = pd.concat([new_row_df, df_com0_analysis], ignore_index=True)\n"
   ]
  },
  {
   "cell_type": "code",
   "execution_count": null,
   "id": "4ddb63e8",
   "metadata": {},
   "outputs": [],
   "source": [
    "df_com0_analysis = df_com0_analysis[['Campaign_ID', 'Campaign_Size', 'Community_0','Community_0_Percentage',\n",
    "                  'SubCommunity_0_0','SubCommunity_0_4', 'SubCommunity_0_2', 'SubCommunity_0_6',\n",
    "                  'SubCommunity_0_3', 'SubCommunity_0_1', 'SubCommunity_0_5',\n",
    "       ]]"
   ]
  },
  {
   "cell_type": "code",
   "execution_count": null,
   "id": "ea7906fc",
   "metadata": {},
   "outputs": [],
   "source": [
    "df_com0_analysis.to_csv('Community_0_Campaign_Table2.csv', index = False)"
   ]
  },
  {
   "cell_type": "code",
   "execution_count": null,
   "id": "e70851d7",
   "metadata": {},
   "outputs": [],
   "source": [
    "df_com0_analysis.loc[(df_com0_analysis.Campaign_Size > 10) & (df_com0_analysis.Community_0_Percentage >= 50)]"
   ]
  },
  {
   "cell_type": "code",
   "execution_count": null,
   "id": "d922a594",
   "metadata": {},
   "outputs": [],
   "source": [
    "df_com0_analysis.columns"
   ]
  },
  {
   "cell_type": "code",
   "execution_count": null,
   "id": "d806aab1",
   "metadata": {},
   "outputs": [],
   "source": [
    "mask = ~(df_com0_analysis['Community_0'] == df_com0_analysis[['SubCommunity_0_0', 'SubCommunity_0_4', \n",
    "                                                              'SubCommunity_0_2','SubCommunity_0_6', \n",
    "                                                              'SubCommunity_0_3', 'SubCommunity_0_1',\n",
    "                                                              'SubCommunity_0_5']].sum(axis=1))\n",
    "\n",
    "result = df_com0_analysis[mask]"
   ]
  },
  {
   "cell_type": "code",
   "execution_count": null,
   "id": "8ffe90bf",
   "metadata": {},
   "outputs": [],
   "source": [
    "result.Campaign_ID.tolist()"
   ]
  },
  {
   "cell_type": "code",
   "execution_count": null,
   "id": "401436b9",
   "metadata": {},
   "outputs": [],
   "source": [
    "result"
   ]
  },
  {
   "cell_type": "code",
   "execution_count": null,
   "id": "226f26e0",
   "metadata": {},
   "outputs": [],
   "source": [
    "df_com0_analysis"
   ]
  },
  {
   "cell_type": "code",
   "execution_count": null,
   "id": "1d8b66b6",
   "metadata": {},
   "outputs": [],
   "source": [
    "df_com0_analysis.loc[df_com0_analysis.Campaign_ID  == 'Alt_137']"
   ]
  },
  {
   "cell_type": "code",
   "execution_count": null,
   "id": "9106d189",
   "metadata": {},
   "outputs": [],
   "source": [
    "all_acc_camp.loc[all_acc_camp.Campaign_ID == 'Alt_137']"
   ]
  },
  {
   "cell_type": "code",
   "execution_count": null,
   "id": "31eaa72c",
   "metadata": {},
   "outputs": [],
   "source": [
    "df_user_sub_community.loc[ df_user_sub_community.Community_ID == 0]"
   ]
  },
  {
   "cell_type": "code",
   "execution_count": null,
   "id": "6c261acc",
   "metadata": {},
   "outputs": [],
   "source": [
    "pd.merge(all_acc_camp.loc[all_acc_camp.Campaign_ID == 'Alt_209'], df_user_sub_community.loc[ df_user_sub_community.Community_ID == 0]).groupby('Sub_Community_ID').count().reset_index()"
   ]
  },
  {
   "cell_type": "code",
   "execution_count": null,
   "id": "d6f0d5fb",
   "metadata": {},
   "outputs": [],
   "source": [
    "all_acc_camp"
   ]
  },
  {
   "cell_type": "code",
   "execution_count": null,
   "id": "603d5a3d",
   "metadata": {},
   "outputs": [],
   "source": [
    "for i in result.Campaign_ID.tolist():\n",
    "    temp = pd.merge(all_acc_camp.loc[all_acc_camp.Campaign_ID == i], df_user_sub_community.loc[ df_user_sub_community.Community_ID == 0]).groupby('Sub_Community_ID').count().reset_index()[['Sub_Community_ID', 'User_ID']]\n",
    "    temp['Sub_Community_ID'] = 'Sub_Community_' + temp['Sub_Community_ID'].astype('str')\n",
    "    for index,row in temp.iterrows():\n",
    "        temp2 = df_com0_analysis.loc[df_com0_analysis.Campaign_ID == i, row.Sub_Community_ID] = row.User_ID"
   ]
  },
  {
   "cell_type": "code",
   "execution_count": null,
   "id": "ae8785d4",
   "metadata": {},
   "outputs": [],
   "source": [
    "df_com0_analysis.columns"
   ]
  },
  {
   "cell_type": "code",
   "execution_count": null,
   "id": "e1f9f8aa",
   "metadata": {},
   "outputs": [],
   "source": [
    "df_com0_analysis = df_com0_analysis.drop(columns = ['Sub_Community_0_0', 'Sub_Community_0_2',\n",
    "       'Sub_Community_0_3', 'Sub_Community_0_4', 'Sub_Community_0_6',\n",
    "       'Sub_Community_0_1'], axis = 0)"
   ]
  },
  {
   "cell_type": "code",
   "execution_count": null,
   "id": "c8d260c8",
   "metadata": {},
   "outputs": [],
   "source": []
  },
  {
   "cell_type": "code",
   "execution_count": null,
   "id": "ccd2a440",
   "metadata": {
    "scrolled": false
   },
   "outputs": [],
   "source": [
    "df_user_sub_community.loc[df_user_sub_community.Community_ID == 6]"
   ]
  },
  {
   "cell_type": "code",
   "execution_count": null,
   "id": "b24098c6",
   "metadata": {},
   "outputs": [],
   "source": [
    "raja_list_community_6 = pd.merge(df_user_sub_community.loc[df_user_sub_community.Community_ID == 6],df_account)[['User_ID', 'UserDescription', \n",
    "                                                                                         'ScreenName', 'UserFollowers', \n",
    "                                                                                         'UserFriends', 'TotalStatus', \n",
    "                                                                                         'Political', 'party']]"
   ]
  },
  {
   "cell_type": "code",
   "execution_count": null,
   "id": "0676c92f",
   "metadata": {},
   "outputs": [],
   "source": [
    "raja_list_community_6['UserLink'] = 'https://twitter.com/i/user/' + raja_list_community_6.User_ID.astype('str')"
   ]
  },
  {
   "cell_type": "code",
   "execution_count": null,
   "id": "e63e25a3",
   "metadata": {},
   "outputs": [],
   "source": [
    "raja_list_community_6.sort_values('UserFollowers', ascending = False).to_csv('Community_6_Manual_Check.csv', index = False)"
   ]
  },
  {
   "cell_type": "code",
   "execution_count": null,
   "id": "7da7c577",
   "metadata": {},
   "outputs": [],
   "source": [
    "raja_list_community_6.groupby('party').count()"
   ]
  },
  {
   "cell_type": "code",
   "execution_count": null,
   "id": "c60ba132",
   "metadata": {},
   "outputs": [],
   "source": [
    "raja_list_community_6"
   ]
  },
  {
   "cell_type": "code",
   "execution_count": null,
   "id": "33f09acc",
   "metadata": {},
   "outputs": [],
   "source": [
    "df_alt_influence"
   ]
  },
  {
   "cell_type": "code",
   "execution_count": null,
   "id": "7d0fe3c0",
   "metadata": {},
   "outputs": [],
   "source": [
    "df_alt_topic = pd.read_csv('AltNews_Topics.csv')"
   ]
  },
  {
   "cell_type": "code",
   "execution_count": null,
   "id": "4bbcc307",
   "metadata": {},
   "outputs": [],
   "source": [
    "df_alt_topic['Campaign_ID'] = 'Alt_' + df_alt_topic['News_Number'].astype('str')"
   ]
  },
  {
   "cell_type": "code",
   "execution_count": null,
   "id": "2b1e7dab",
   "metadata": {},
   "outputs": [],
   "source": [
    "filtered_df = df_new_final.loc[df_new_final['Campaign_ID'].str.contains('Alt')]"
   ]
  },
  {
   "cell_type": "code",
   "execution_count": null,
   "id": "15e656a4",
   "metadata": {},
   "outputs": [],
   "source": [
    "filtered_df6 = filtered_df.loc[filtered_df.Community_6 > 1][['Campaign_ID', 'Campaign_Size', 'Community_6']].sort_values('Community_6', ascending = False)"
   ]
  },
  {
   "cell_type": "code",
   "execution_count": null,
   "id": "dd811207",
   "metadata": {},
   "outputs": [],
   "source": [
    "filtered_df6 = pd.merge(df_alt_topic, filtered_df)[['Campaign_ID', 'Community_6', 'Topic_Number' ]].dropna()"
   ]
  },
  {
   "cell_type": "code",
   "execution_count": null,
   "id": "72f9e529",
   "metadata": {},
   "outputs": [],
   "source": [
    "filtered_df6.loc[filtered_df6.Community_6 >= 5]"
   ]
  }
 ],
 "metadata": {
  "kernelspec": {
   "display_name": "Python 3 (ipykernel)",
   "language": "python",
   "name": "python3"
  },
  "language_info": {
   "codemirror_mode": {
    "name": "ipython",
    "version": 3
   },
   "file_extension": ".py",
   "mimetype": "text/x-python",
   "name": "python",
   "nbconvert_exporter": "python",
   "pygments_lexer": "ipython3",
   "version": "3.9.13"
  }
 },
 "nbformat": 4,
 "nbformat_minor": 5
}
