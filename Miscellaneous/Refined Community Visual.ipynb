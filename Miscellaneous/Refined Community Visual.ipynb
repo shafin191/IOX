{
 "cells": [
  {
   "cell_type": "code",
   "execution_count": null,
   "id": "6c1f44cc",
   "metadata": {},
   "outputs": [],
   "source": [
    "import networkx as nx\n",
    "from itertools import combinations\n",
    "import pandas as pd\n",
    "pd.set_option('display.max_colwidth', None)\n",
    "pd.set_option('display.max_columns', 10)\n",
    "pd.set_option('display.max_rows', 50)"
   ]
  },
  {
   "cell_type": "code",
   "execution_count": null,
   "id": "fbca4e54",
   "metadata": {},
   "outputs": [],
   "source": [
    "G = nx.read_gpickle('Refined_Community_Graph_Wild_Campaign.gpickle')\n"
   ]
  },
  {
   "cell_type": "code",
   "execution_count": null,
   "id": "6234643a",
   "metadata": {},
   "outputs": [],
   "source": [
    "G"
   ]
  },
  {
   "cell_type": "code",
   "execution_count": null,
   "id": "206f8e5a",
   "metadata": {},
   "outputs": [],
   "source": [
    "edges = G.edges()"
   ]
  },
  {
   "cell_type": "code",
   "execution_count": null,
   "id": "a2cf07ed",
   "metadata": {},
   "outputs": [],
   "source": [
    "df_edges = pd.DataFrame(edges, columns=['Node1', 'Node2'])"
   ]
  },
  {
   "cell_type": "code",
   "execution_count": null,
   "id": "999d2de1",
   "metadata": {},
   "outputs": [],
   "source": [
    "df_edges.to_csv('Group_Edges.csv', index = False)"
   ]
  },
  {
   "cell_type": "code",
   "execution_count": null,
   "id": "631d78b7",
   "metadata": {},
   "outputs": [],
   "source": [
    "df_political_group = pd.read_csv('Refined_Community_with_Political_Label.csv')"
   ]
  },
  {
   "cell_type": "code",
   "execution_count": null,
   "id": "b1155429",
   "metadata": {},
   "outputs": [],
   "source": [
    "df_political_group"
   ]
  },
  {
   "cell_type": "code",
   "execution_count": null,
   "id": "b401f45e",
   "metadata": {},
   "outputs": [],
   "source": [
    "df_political_group['Attribute1'] = df_political_group['Party_Label']\n",
    "df_political_group['Attribute2'] = df_political_group['Community_ID']"
   ]
  },
  {
   "cell_type": "code",
   "execution_count": null,
   "id": "bbcbe9da",
   "metadata": {},
   "outputs": [],
   "source": [
    "df_political_group[['User_ID', 'Party_Label', 'Attribute1', 'Attribute2']].rename(columns = {'Party_Label': 'Label', 'User_ID': 'ID'})"
   ]
  },
  {
   "cell_type": "code",
   "execution_count": null,
   "id": "547c183d",
   "metadata": {},
   "outputs": [],
   "source": [
    "df_new_pol =df_political_group[['User_ID', 'Party_Label', 'Attribute1', 'Attribute2']].rename(columns = {'Party_Label': 'Label', 'User_ID': 'ID'})"
   ]
  },
  {
   "cell_type": "code",
   "execution_count": null,
   "id": "e0a51c55",
   "metadata": {},
   "outputs": [],
   "source": [
    "df_new_pol.to_csv('Group_Nodes.csv', index = False)"
   ]
  },
  {
   "cell_type": "code",
   "execution_count": null,
   "id": "cb7c0cd8",
   "metadata": {},
   "outputs": [],
   "source": [
    "G"
   ]
  },
  {
   "cell_type": "code",
   "execution_count": null,
   "id": "83dff929",
   "metadata": {},
   "outputs": [],
   "source": [
    "connected_nodes = nx.node_connected_component(G, 1103982597846298624)"
   ]
  },
  {
   "cell_type": "code",
   "execution_count": null,
   "id": "b0e87316",
   "metadata": {},
   "outputs": [],
   "source": [
    "len(connected_nodes)"
   ]
  },
  {
   "cell_type": "code",
   "execution_count": null,
   "id": "79c19eb5",
   "metadata": {},
   "outputs": [],
   "source": [
    "df_all_duplicates = pd.read_csv('Cluster_Tweet_Final.csv')"
   ]
  },
  {
   "cell_type": "code",
   "execution_count": null,
   "id": "ba27afa4",
   "metadata": {},
   "outputs": [],
   "source": [
    "df_all_duplicates.loc[df_all_duplicates.Cluster_ID == 1837.0][['User_ID', 'Tweet_Text']]"
   ]
  },
  {
   "cell_type": "markdown",
   "id": "924d066d",
   "metadata": {},
   "source": [
    "# Influencer_Check"
   ]
  },
  {
   "cell_type": "code",
   "execution_count": null,
   "id": "0507fdd4",
   "metadata": {},
   "outputs": [],
   "source": [
    "df_account = pd.read_csv('All_Fake_without_debunkers_Updated.csv')"
   ]
  },
  {
   "cell_type": "code",
   "execution_count": null,
   "id": "a040b9b7",
   "metadata": {},
   "outputs": [],
   "source": [
    "df_dismiss = pd.read_csv('/disk/mnemo/users/randomuser/SBERT All Embedding/Dataset/DISMISS_Dataset.csv')"
   ]
  },
  {
   "cell_type": "code",
   "execution_count": null,
   "id": "7c991c36",
   "metadata": {},
   "outputs": [],
   "source": [
    "df_dismiss"
   ]
  },
  {
   "cell_type": "code",
   "execution_count": null,
   "id": "b8cb6c83",
   "metadata": {},
   "outputs": [],
   "source": [
    "df_account.groupby('category').count()"
   ]
  },
  {
   "cell_type": "code",
   "execution_count": null,
   "id": "3a8c3330",
   "metadata": {},
   "outputs": [],
   "source": [
    "df_dismiss.groupby('sub_category').count()"
   ]
  },
  {
   "cell_type": "code",
   "execution_count": null,
   "id": "cd9622ab",
   "metadata": {},
   "outputs": [],
   "source": [
    "df_account.User_ID2 = df_account.User_ID.astype('str')"
   ]
  },
  {
   "cell_type": "code",
   "execution_count": null,
   "id": "382dda2f",
   "metadata": {},
   "outputs": [],
   "source": [
    "df_dismiss.User_ID2 = df_dismiss.id_str"
   ]
  },
  {
   "cell_type": "code",
   "execution_count": null,
   "id": "bba66964",
   "metadata": {},
   "outputs": [],
   "source": [
    "df_account['User_ID2'] = df_account.User_ID.astype('str')\n",
    "df_dismiss['User_ID2'] = df_dismiss.id_str.astype('str')"
   ]
  },
  {
   "cell_type": "code",
   "execution_count": null,
   "id": "6dd3489f",
   "metadata": {},
   "outputs": [],
   "source": [
    "df_influence_acc = pd.merge(df_account[['User_ID2']], df_dismiss[['name', 'username', 'description',\n",
    "       'followers', 'url', 'location', 'type', 'verified', 'category',\n",
    "       'sub_category', 'User_ID2']], on = 'User_ID2')"
   ]
  },
  {
   "cell_type": "code",
   "execution_count": null,
   "id": "4123169d",
   "metadata": {},
   "outputs": [],
   "source": [
    "df_influence_acc.groupby('category').count()"
   ]
  },
  {
   "cell_type": "code",
   "execution_count": null,
   "id": "5d6a7412",
   "metadata": {},
   "outputs": [],
   "source": [
    "df_influence_acc.groupby('sub_category').count()"
   ]
  },
  {
   "cell_type": "code",
   "execution_count": null,
   "id": "863d3f3a",
   "metadata": {},
   "outputs": [],
   "source": [
    "df_dismiss.verified"
   ]
  },
  {
   "cell_type": "code",
   "execution_count": null,
   "id": "1ca970ed",
   "metadata": {},
   "outputs": [],
   "source": [
    "df_influence_acc"
   ]
  },
  {
   "cell_type": "code",
   "execution_count": null,
   "id": "869d9025",
   "metadata": {},
   "outputs": [],
   "source": [
    "df_nodes_user = pd.DataFrame(G.nodes(),columns=['User_ID'])"
   ]
  },
  {
   "cell_type": "code",
   "execution_count": null,
   "id": "49addd9c",
   "metadata": {},
   "outputs": [],
   "source": [
    "df_influence_acc.dtypes"
   ]
  },
  {
   "cell_type": "code",
   "execution_count": null,
   "id": "ba7a3ae6",
   "metadata": {},
   "outputs": [],
   "source": [
    "df_nodes_user['User_ID2'] = df_nodes_user.User_ID.astype('str')"
   ]
  },
  {
   "cell_type": "code",
   "execution_count": null,
   "id": "0939dbe3",
   "metadata": {},
   "outputs": [],
   "source": [
    "pd.merge(df_nodes_user, df_influence_acc).groupby('sub_category').count()"
   ]
  }
 ],
 "metadata": {
  "kernelspec": {
   "display_name": "Python 3 (ipykernel)",
   "language": "python",
   "name": "python3"
  },
  "language_info": {
   "codemirror_mode": {
    "name": "ipython",
    "version": 3
   },
   "file_extension": ".py",
   "mimetype": "text/x-python",
   "name": "python",
   "nbconvert_exporter": "python",
   "pygments_lexer": "ipython3",
   "version": "3.9.13"
  }
 },
 "nbformat": 4,
 "nbformat_minor": 5
}
