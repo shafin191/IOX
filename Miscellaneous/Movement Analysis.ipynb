{
 "cells": [
  {
   "cell_type": "code",
   "execution_count": null,
   "id": "1212fb4a",
   "metadata": {},
   "outputs": [],
   "source": [
    "import pandas as pd\n",
    "pd.set_option('display.max_colwidth', None)\n",
    "pd.set_option('display.max_columns', 10)\n",
    "pd.set_option('display.max_rows', 50)"
   ]
  },
  {
   "cell_type": "code",
   "execution_count": null,
   "id": "45057563",
   "metadata": {},
   "outputs": [],
   "source": [
    "df_cluster_id = pd.read_csv('Final_Cluster_300k.csv')"
   ]
  },
  {
   "cell_type": "code",
   "execution_count": null,
   "id": "9b570bb6",
   "metadata": {},
   "outputs": [],
   "source": [
    "df_cluster = pd.read_csv('Cluster_Tweet_Final.csv')\n",
    "df_cluster = df_cluster.dropna(subset=['Cluster_ID'])\n",
    "df_cluster = df_cluster.dropna(subset = 'User_ID')\n",
    "df_cluster.User_ID = df_cluster.User_ID.astype(int)\n",
    "df_cluster = df_cluster.dropna(subset=['Cluster_ID'])"
   ]
  },
  {
   "cell_type": "code",
   "execution_count": null,
   "id": "bffeefd9",
   "metadata": {},
   "outputs": [],
   "source": [
    "df_cluster = df_cluster.dropna(subset = 'User_ID')"
   ]
  },
  {
   "cell_type": "code",
   "execution_count": null,
   "id": "5a1b4d6d",
   "metadata": {},
   "outputs": [],
   "source": [
    "df_cluster.User_ID = df_cluster.User_ID.astype(int)"
   ]
  },
  {
   "cell_type": "code",
   "execution_count": null,
   "id": "9e210278",
   "metadata": {},
   "outputs": [],
   "source": [
    "df_cluster = df_cluster.dropna(subset=['Cluster_ID'])"
   ]
  },
  {
   "cell_type": "code",
   "execution_count": null,
   "id": "83acca88",
   "metadata": {},
   "outputs": [],
   "source": [
    "df_cluster['mainbhichowkidar'] = df_cluster[\"Tweet_Text\"].str.contains(\"mainbhichowkidar\", case=False, na=False).astype(int)"
   ]
  },
  {
   "cell_type": "code",
   "execution_count": null,
   "id": "4ae95965",
   "metadata": {},
   "outputs": [],
   "source": [
    "df_cluster['movement'] = df_cluster[\"Tweet_Text\"].str.contains(\"movement\", case=False, na=False).astype(int)"
   ]
  },
  {
   "cell_type": "code",
   "execution_count": null,
   "id": "351b1748",
   "metadata": {},
   "outputs": [],
   "source": [
    "\n",
    "df_cluster['BharatJodoYatra'] = df_cluster[\"Tweet_Text\"].str.contains(\"BharatJodoYatra\", case=False, na=False).astype(int)"
   ]
  },
  {
   "cell_type": "code",
   "execution_count": null,
   "id": "cadc8222",
   "metadata": {},
   "outputs": [],
   "source": [
    "df_cluster.loc[df_cluster.mainbhichowkidar != 0].groupby('Cluster_ID').count()"
   ]
  },
  {
   "cell_type": "code",
   "execution_count": null,
   "id": "06d85680",
   "metadata": {},
   "outputs": [],
   "source": [
    "df_cluster.loc[df_cluster.Cluster_ID == 3782.0].Tweet_Text"
   ]
  },
  {
   "cell_type": "code",
   "execution_count": null,
   "id": "7c747542",
   "metadata": {},
   "outputs": [],
   "source": [
    "df_cluster.loc[df_cluster.movement != 0][['Cluster_ID', 'Tweet_Text']].sample(10)"
   ]
  },
  {
   "cell_type": "code",
   "execution_count": null,
   "id": "9b0523cf",
   "metadata": {},
   "outputs": [],
   "source": [
    "df_cluster.loc[df_cluster.BharatJodoYatra != 0].groupby('Cluster_ID').count().reset_index().sort_values('Tweet_ID').iloc[-10:]"
   ]
  },
  {
   "cell_type": "code",
   "execution_count": null,
   "id": "001add15",
   "metadata": {},
   "outputs": [],
   "source": [
    "df_cluster.loc[df_cluster.Cluster_ID == 38672.0][['Cluster_ID', 'Tweet_Text']]"
   ]
  },
  {
   "cell_type": "code",
   "execution_count": null,
   "id": "dca1087f",
   "metadata": {},
   "outputs": [],
   "source": [
    "df_cluster['DT'] = pd.to_datetime(df_cluster['Tweet_Time'], format='%Y-%m-%d %H:%M:%S')"
   ]
  },
  {
   "cell_type": "code",
   "execution_count": null,
   "id": "6609a832",
   "metadata": {},
   "outputs": [],
   "source": [
    "df_cluster_count = df_cluster.groupby('Cluster_ID').resample('7D', on='DT', origin= 'start').count()"
   ]
  },
  {
   "cell_type": "code",
   "execution_count": null,
   "id": "dd16b7ea",
   "metadata": {},
   "outputs": [],
   "source": [
    "df_cl_count = df_cluster_count[['Tweet_ID']].reset_index()"
   ]
  },
  {
   "cell_type": "code",
   "execution_count": null,
   "id": "b0aca053",
   "metadata": {},
   "outputs": [],
   "source": [
    "df_cl_count.loc[df_cl_count.Tweet_ID > 0].iloc[0:20]"
   ]
  },
  {
   "cell_type": "code",
   "execution_count": null,
   "id": "5a8accb6",
   "metadata": {},
   "outputs": [],
   "source": [
    "df_cluster.groupby('User_ID').count()"
   ]
  },
  {
   "cell_type": "code",
   "execution_count": null,
   "id": "f478231a",
   "metadata": {},
   "outputs": [],
   "source": [
    "df_cluster"
   ]
  },
  {
   "cell_type": "code",
   "execution_count": null,
   "id": "a28a2523",
   "metadata": {},
   "outputs": [],
   "source": [
    "df_cluster.loc[df_cluster.movement != 0][['Cluster_ID', 'Tweet_Text']].sample(20)"
   ]
  },
  {
   "cell_type": "code",
   "execution_count": null,
   "id": "743b333a",
   "metadata": {},
   "outputs": [],
   "source": [
    "df_cluster['PMCARES'] = df_cluster[\"Tweet_Text\"].str.contains(\"PMCARES\", case=False, na=False).astype(int)\n",
    "df_cluster['movement_hin'] =  df_cluster[\"Tweet_Text\"].str.contains(\"आंदोलन\", case=False, na=False).astype(int)"
   ]
  },
  {
   "cell_type": "code",
   "execution_count": null,
   "id": "ee796d3d",
   "metadata": {},
   "outputs": [],
   "source": [
    "df_cluster.loc[df_cluster.PMCARES != 0][['Cluster_ID', 'Tweet_Text']]"
   ]
  },
  {
   "cell_type": "code",
   "execution_count": null,
   "id": "b80bb365",
   "metadata": {},
   "outputs": [],
   "source": [
    "df_cluster.loc[df_cluster.movement_hin != 0][['Cluster_ID', 'Tweet_Text']].sample(20)"
   ]
  },
  {
   "cell_type": "code",
   "execution_count": null,
   "id": "24daa533",
   "metadata": {},
   "outputs": [],
   "source": [
    "df_cluster.columns"
   ]
  },
  {
   "cell_type": "code",
   "execution_count": null,
   "id": "3851991e",
   "metadata": {},
   "outputs": [],
   "source": [
    "doc2 = df_cluster.loc[df_cluster.Tweet_Lang == 'en'].drop_duplicates('Cluster_ID').Tweet_Text.tolist()"
   ]
  },
  {
   "cell_type": "code",
   "execution_count": null,
   "id": "549b0198",
   "metadata": {},
   "outputs": [],
   "source": [
    "from transformers import AutoTokenizer, AutoModelForSequenceClassification\n",
    "from transformers import pipeline\n",
    "\n",
    "tokenizer = AutoTokenizer.from_pretrained(\"dstefa/roberta-base_topic_classification_nyt_news\")\n",
    "model = AutoModelForSequenceClassification.from_pretrained(\"dstefa/roberta-base_topic_classification_nyt_news\")\n",
    "pipe = pipeline(\"text-classification\", model=model, tokenizer=tokenizer)\n",
    "\n",
    "text = \"Kederis proclaims innocence Olympic champion Kostas Kederis today left hospital ahead of his date with IOC inquisitors claiming his innocence and vowing.\"\n",
    "pipe(text)\n"
   ]
  },
  {
   "cell_type": "code",
   "execution_count": null,
   "id": "9d85b02a",
   "metadata": {},
   "outputs": [],
   "source": [
    "text = df_cluster.loc[df_cluster.Tweet_Lang == 'en'].drop_duplicates('Cluster_ID').Tweet_Text[6]\n",
    "pipe(text)"
   ]
  },
  {
   "cell_type": "code",
   "execution_count": null,
   "id": "641eaa53",
   "metadata": {},
   "outputs": [],
   "source": [
    "from transformers import AutoModelForSequenceClassification, TFAutoModelForSequenceClassification\n",
    "from transformers import AutoTokenizer\n",
    "import numpy as np\n",
    "from scipy.special import expit\n",
    "\n",
    "    \n",
    "MODEL = f\"cardiffnlp/tweet-topic-21-multi\"\n",
    "tokenizer = AutoTokenizer.from_pretrained(MODEL)\n",
    "\n",
    "model = AutoModelForSequenceClassification.from_pretrained(MODEL)\n",
    "class_mapping = model.config.id2label\n",
    "\n",
    "text = \"The whole country wants to know whether this is a farmers' movement, right? Because slogans of 'Kisan Zindabad' should be raised in the farmers' meeting, instead of them slogans of 'Allah Hu Akbar' are being raised. Since when did the slogan of 'Allah Hu Akbar' start serving the farmers' welfare? Is this the politics of Tikait and Salim Yadav? understand\"\n",
    "tokens = tokenizer(text, return_tensors='pt')\n",
    "output = model(**tokens)\n",
    "\n",
    "scores = output[0][0].detach().numpy()\n",
    "scores = expit(scores)\n",
    "predictions = (scores >= 0.5) * 1\n",
    "\n",
    "\n",
    "\n",
    "for i in range(len(predictions)):\n",
    "  if predictions[i]:\n",
    "    print(class_mapping[i])"
   ]
  },
  {
   "cell_type": "code",
   "execution_count": null,
   "id": "ddacb1a7",
   "metadata": {},
   "outputs": [],
   "source": [
    "pip install bertopic"
   ]
  },
  {
   "cell_type": "code",
   "execution_count": null,
   "id": "f516d04d",
   "metadata": {},
   "outputs": [],
   "source": [
    "from bertopic import BERTopic\n",
    "from sklearn.datasets import fetch_20newsgroups\n",
    " \n",
    "\n",
    "topic_model = BERTopic()\n",
    "topics, probs = topic_model.fit_transform(doc2[0:200])"
   ]
  },
  {
   "cell_type": "code",
   "execution_count": null,
   "id": "2fef22a4",
   "metadata": {},
   "outputs": [],
   "source": [
    "topic_model.get_topic_info()"
   ]
  },
  {
   "cell_type": "code",
   "execution_count": null,
   "id": "afa61b2e",
   "metadata": {},
   "outputs": [],
   "source": []
  },
  {
   "cell_type": "code",
   "execution_count": null,
   "id": "8129ca6d",
   "metadata": {},
   "outputs": [],
   "source": [
    "from bertopic.representation import KeyBERTInspired\n",
    "\n",
    "representation_model = KeyBERTInspired()\n",
    "topic_model = BERTopic(representation_model=representation_model)"
   ]
  },
  {
   "cell_type": "code",
   "execution_count": null,
   "id": "348e99bb",
   "metadata": {},
   "outputs": [],
   "source": [
    "topics, probs = topic_model.fit_transform(doc2[0:5000])"
   ]
  },
  {
   "cell_type": "code",
   "execution_count": null,
   "id": "9bd84707",
   "metadata": {},
   "outputs": [],
   "source": [
    "topic_model.get_topic_info()"
   ]
  },
  {
   "cell_type": "code",
   "execution_count": null,
   "id": "bbb1173c",
   "metadata": {},
   "outputs": [],
   "source": [
    "topic_model.visualize_topics()"
   ]
  },
  {
   "cell_type": "code",
   "execution_count": null,
   "id": "9aa82e54",
   "metadata": {},
   "outputs": [],
   "source": [
    "topic_model.visualize_hierarchy()"
   ]
  },
  {
   "cell_type": "code",
   "execution_count": null,
   "id": "34c8dcfa",
   "metadata": {},
   "outputs": [],
   "source": [
    "topic_model.topic_labels_"
   ]
  },
  {
   "cell_type": "code",
   "execution_count": null,
   "id": "45e69cd9",
   "metadata": {},
   "outputs": [],
   "source": [
    "from bertopic.representation import KeyBERTInspired\n",
    "from bertopic.representation import PartOfSpeech\n",
    "from bertopic.representation import MaximalMarginalRelevance\n",
    "from sklearn.datasets import fetch_20newsgroups\n",
    "\n",
    "\n",
    "main_representation = KeyBERTInspired()\n",
    "\n",
    "aspect_model1 = PartOfSpeech(\"en_core_web_sm\")\n",
    "aspect_model2 = [KeyBERTInspired(top_n_words=30), MaximalMarginalRelevance(diversity=.5)]\n",
    "\n",
    "representation_model = {\n",
    "   \"Main\": main_representation,\n",
    "   \"Aspect1\":  aspect_model1,\n",
    "   \"Aspect2\":  aspect_model2 \n",
    "}\n",
    "topic_model2 = BERTopic(representation_model=representation_model).fit(doc2)"
   ]
  }
 ],
 "metadata": {
  "kernelspec": {
   "display_name": "Python 3 (ipykernel)",
   "language": "python",
   "name": "python3"
  },
  "language_info": {
   "codemirror_mode": {
    "name": "ipython",
    "version": 3
   },
   "file_extension": ".py",
   "mimetype": "text/x-python",
   "name": "python",
   "nbconvert_exporter": "python",
   "pygments_lexer": "ipython3",
   "version": "3.9.13"
  }
 },
 "nbformat": 4,
 "nbformat_minor": 5
}
