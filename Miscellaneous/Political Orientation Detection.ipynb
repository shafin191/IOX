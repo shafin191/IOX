{
 "cells": [
  {
   "cell_type": "code",
   "execution_count": null,
   "id": "20096b82",
   "metadata": {},
   "outputs": [],
   "source": [
    "\n",
    "import matplotlib as plt\n",
    "import numpy as np\n",
    "import pandas as pd\n",
    "import langid\n",
    "from sklearn.model_selection import train_test_split\n",
    "from sklearn.feature_extraction.text import TfidfVectorizer\n",
    "from sklearn.linear_model import LogisticRegression\n",
    "from sklearn.metrics import accuracy_score, classification_report\n",
    "from scipy import sparse\n",
    "import pandas as pd\n",
    "from sklearn.model_selection import train_test_split\n",
    "from sklearn.feature_extraction.text import TfidfVectorizer\n",
    "from sklearn.metrics import accuracy_score, classification_report\n",
    "from sklearn.ensemble import RandomForestClassifier\n",
    "from sklearn.svm import SVC\n",
    "from sklearn.neighbors import KNeighborsClassifier\n",
    "from sklearn.naive_bayes import MultinomialNB\n",
    "from sklearn.neural_network import MLPClassifier\n",
    "from imblearn.over_sampling import SMOTE\n",
    "\n",
    "pd.set_option('display.max_colwidth', None)\n",
    "pd.set_option('display.max_columns', 10)\n",
    "pd.set_option('display.max_rows', 50)"
   ]
  },
  {
   "cell_type": "code",
   "execution_count": null,
   "id": "6fb128e1",
   "metadata": {},
   "outputs": [],
   "source": [
    "df_account = pd.read_csv('All_Fake_without_debunkers_Updated.csv')"
   ]
  },
  {
   "cell_type": "code",
   "execution_count": null,
   "id": "15c8de0f",
   "metadata": {},
   "outputs": [],
   "source": [
    "df_all_tweet = pd.read_csv('Latest_Tweet_Fake_Spreader_Tweets.csv')"
   ]
  },
  {
   "cell_type": "code",
   "execution_count": null,
   "id": "a8825164",
   "metadata": {},
   "outputs": [],
   "source": [
    "df_acc_manual_pol = pd.read_csv('Political Orientation Manual 1.csv', dtype = 'str')"
   ]
  },
  {
   "cell_type": "code",
   "execution_count": null,
   "id": "6659b367",
   "metadata": {},
   "outputs": [],
   "source": [
    "df_acc_manual_pol = df_acc_manual_pol.loc[df_acc_manual_pol.User_ID != '7.2296E+17']"
   ]
  },
  {
   "cell_type": "code",
   "execution_count": null,
   "id": "b574137f",
   "metadata": {},
   "outputs": [],
   "source": [
    "df_acc_manual_pol = df_acc_manual_pol.dropna()\n",
    "df_acc_manual_pol.User_ID= df_acc_manual_pol.User_ID.astype('int')"
   ]
  },
  {
   "cell_type": "code",
   "execution_count": null,
   "id": "7549fa46",
   "metadata": {},
   "outputs": [],
   "source": [
    "df_acc_manual_pol.User_ID"
   ]
  },
  {
   "cell_type": "code",
   "execution_count": null,
   "id": "0ac45d59",
   "metadata": {},
   "outputs": [],
   "source": [
    "df_pol = df_account.loc[df_account.Political == 'Political']"
   ]
  },
  {
   "cell_type": "code",
   "execution_count": null,
   "id": "fb71273a",
   "metadata": {},
   "outputs": [],
   "source": [
    "df_account[df_account.User_ID.isin(df_acc_manual_pol.User_ID)]"
   ]
  },
  {
   "cell_type": "code",
   "execution_count": null,
   "id": "dc382cc2",
   "metadata": {},
   "outputs": [],
   "source": [
    "df_pol2= df_account[df_account.User_ID.isin(df_acc_manual_pol.User_ID)]"
   ]
  },
  {
   "cell_type": "code",
   "execution_count": null,
   "id": "8be139cf",
   "metadata": {},
   "outputs": [],
   "source": [
    "df_pol2.columns"
   ]
  },
  {
   "cell_type": "code",
   "execution_count": null,
   "id": "992c292a",
   "metadata": {},
   "outputs": [],
   "source": [
    "df_pol = pd.concat([df_pol,df_pol2])[['User_ID', 'UserDescription', 'Political', 'party']]"
   ]
  },
  {
   "cell_type": "code",
   "execution_count": null,
   "id": "78a4b6aa",
   "metadata": {},
   "outputs": [],
   "source": [
    "df_acc_manual_pol.columns "
   ]
  },
  {
   "cell_type": "code",
   "execution_count": null,
   "id": "e28ed830",
   "metadata": {},
   "outputs": [],
   "source": [
    "df_pol.columns"
   ]
  },
  {
   "cell_type": "code",
   "execution_count": null,
   "id": "a6c2d152",
   "metadata": {},
   "outputs": [],
   "source": [
    "merged_df = pd.merge(df_pol, df_acc_manual_pol, on='User_ID', suffixes=('_pol', '_manual_pol'), how='left')\n",
    "\n",
    "merged_df['Political'] = merged_df['Political_manual_pol'].fillna(merged_df['Political_pol'])\n",
    "merged_df['Party'] = merged_df['Party'].fillna(merged_df['party'])\n",
    "\n"
   ]
  },
  {
   "cell_type": "code",
   "execution_count": null,
   "id": "edd5c9dc",
   "metadata": {},
   "outputs": [],
   "source": [
    "df_pol_final = merged_df[['User_ID', 'UserDescription', 'Political', 'Party']]"
   ]
  },
  {
   "cell_type": "code",
   "execution_count": null,
   "id": "8350a41e",
   "metadata": {},
   "outputs": [],
   "source": [
    "df_pol_final.groupby('Political').count()"
   ]
  },
  {
   "cell_type": "code",
   "execution_count": null,
   "id": "2a70356f",
   "metadata": {},
   "outputs": [],
   "source": [
    "df_pol_final.loc[df_pol_final.Political == 'Non political', 'Political'] = 'Non Political'"
   ]
  },
  {
   "cell_type": "code",
   "execution_count": null,
   "id": "e2e88869",
   "metadata": {},
   "outputs": [],
   "source": [
    "df_pol_final.loc[df_pol_final.Political == 'Non political']"
   ]
  },
  {
   "cell_type": "code",
   "execution_count": null,
   "id": "c8b57d7f",
   "metadata": {},
   "outputs": [],
   "source": [
    "df_pol_final = df_pol_final.drop('political', axis = 1)"
   ]
  },
  {
   "cell_type": "code",
   "execution_count": null,
   "id": "adaeae97",
   "metadata": {},
   "outputs": [],
   "source": [
    "df_pol_final.groupby('Political').count()"
   ]
  },
  {
   "cell_type": "code",
   "execution_count": null,
   "id": "b2593f44",
   "metadata": {},
   "outputs": [],
   "source": [
    "df_pol_final.groupby('Party').count()"
   ]
  },
  {
   "cell_type": "code",
   "execution_count": null,
   "id": "aba4a060",
   "metadata": {},
   "outputs": [],
   "source": [
    "df_acc_manual_pol.groupby('Party').count()"
   ]
  },
  {
   "cell_type": "code",
   "execution_count": null,
   "id": "68248ebc",
   "metadata": {},
   "outputs": [],
   "source": [
    "df_account.groupby('party').count()"
   ]
  },
  {
   "cell_type": "code",
   "execution_count": null,
   "id": "19605653",
   "metadata": {},
   "outputs": [],
   "source": [
    "df_pol_final2 = df_pol_final.dropna()"
   ]
  },
  {
   "cell_type": "code",
   "execution_count": null,
   "id": "712ad9ef",
   "metadata": {},
   "outputs": [],
   "source": [
    "df_pol_final2.groupby('Party').count()"
   ]
  },
  {
   "cell_type": "code",
   "execution_count": null,
   "id": "9ed43f12",
   "metadata": {},
   "outputs": [],
   "source": [
    "df_pol_final3 = df_pol_final2.loc[df_pol_final2.Party.isin(['AAP', 'BJP', 'INC', 'No'])]"
   ]
  },
  {
   "cell_type": "code",
   "execution_count": null,
   "id": "5868fc0c",
   "metadata": {},
   "outputs": [],
   "source": [
    "pip install langid"
   ]
  },
  {
   "cell_type": "code",
   "execution_count": null,
   "id": "18e272be",
   "metadata": {},
   "outputs": [],
   "source": []
  },
  {
   "cell_type": "code",
   "execution_count": null,
   "id": "74005fab",
   "metadata": {},
   "outputs": [],
   "source": [
    "df_pol_final3.columns"
   ]
  },
  {
   "cell_type": "code",
   "execution_count": null,
   "id": "418be044",
   "metadata": {},
   "outputs": [],
   "source": [
    "\n",
    "def detect_language(text):\n",
    "    return langid.classify(text)[0]\n",
    "\n",
    "df_pol_final3 ['language'] = df_pol_final3 ['UserDescription'].apply(detect_language)\n",
    "\n",
    "tfidf_vectorizer_en = TfidfVectorizer(max_features=300, stop_words='english')\n",
    "tfidf_vectorizer_hi = TfidfVectorizer(max_features=300)  \n"
   ]
  },
  {
   "cell_type": "code",
   "execution_count": null,
   "id": "a0bde1c3",
   "metadata": {},
   "outputs": [],
   "source": [
    "df_pol_final3.loc[df_pol_final3.language!= 'en', 'language'] = 'hi'"
   ]
  },
  {
   "cell_type": "code",
   "execution_count": null,
   "id": "263bd75b",
   "metadata": {},
   "outputs": [],
   "source": [
    "X_en = tfidf_vectorizer_en.fit_transform(df_pol_final3[df_pol_final3['language'] == 'en']['UserDescription'] )\n",
    "X_hi = tfidf_vectorizer_hi.fit_transform(df_pol_final3[df_pol_final3['language'] == 'hi']['UserDescription'] )\n",
    "\n",
    "X = sparse.vstack([X_en, X_hi])\n",
    "y = df_pol_final3['Party']  \n",
    "\n",
    "X_train, X_test, y_train, y_test = train_test_split(X, y, test_size=0.4, random_state=42)\n",
    "\n"
   ]
  },
  {
   "cell_type": "code",
   "execution_count": null,
   "id": "8d97753f",
   "metadata": {},
   "outputs": [],
   "source": [
    "X"
   ]
  },
  {
   "cell_type": "code",
   "execution_count": null,
   "id": "0953fbd0",
   "metadata": {
    "scrolled": true
   },
   "outputs": [],
   "source": [
    "classifier = classifier = LogisticRegression(multi_class='auto', solver='lbfgs')\n",
    "classifier.fit(X_train, y_train)\n",
    "\n",
    "y_pred = classifier.predict(X_test)\n",
    "accuracy = accuracy_score(y_test, y_pred)\n",
    "print(\"Accuracy:\", accuracy)\n",
    "print(\"Classification Report:\\n\", classification_report(y_test, y_pred))\n"
   ]
  },
  {
   "cell_type": "code",
   "execution_count": null,
   "id": "7884bf08",
   "metadata": {},
   "outputs": [],
   "source": [
    "classifiers = {\n",
    "    \"Random Forest\": RandomForestClassifier(),\n",
    "    \"Support Vector Machine\": SVC(),\n",
    "    \"K-Nearest Neighbors\": KNeighborsClassifier(),\n",
    "    \"Multinomial Naive Bayes\": MultinomialNB()\n",
    "}\n",
    "\n",
    "for name, classifier in classifiers.items():\n",
    "    print(f\"Training {name}...\")\n",
    "    classifier.fit(X_train, y_train)\n",
    "    y_pred = classifier.predict(X_test)\n",
    "    accuracy = accuracy_score(y_test, y_pred)\n",
    "    print(f\"Accuracy of {name}: {accuracy:.2f}\")\n",
    "    print(f\"Classification Report of {name}:\\n{classification_report(y_test, y_pred)}\")"
   ]
  },
  {
   "cell_type": "code",
   "execution_count": null,
   "id": "7526988d",
   "metadata": {},
   "outputs": [],
   "source": [
    "df_pol_final3.groupby('Party').count()"
   ]
  },
  {
   "cell_type": "code",
   "execution_count": null,
   "id": "494c935a",
   "metadata": {},
   "outputs": [],
   "source": [
    "smote = SMOTE(random_state=42)\n",
    "X_train_resampled, y_train_resampled = smote.fit_resample(X_train, y_train)\n",
    "\n",
    "classifier = RandomForestClassifier() \n",
    "classifier.fit(X_train_resampled, y_train_resampled)\n",
    "y_pred = classifier.predict(X_test)\n",
    "accuracy = accuracy_score(y_test, y_pred)\n",
    "print(\"Accuracy:\", accuracy)\n",
    "print(\"Classification Report:\\n\", classification_report(y_test, y_pred))"
   ]
  },
  {
   "cell_type": "code",
   "execution_count": null,
   "id": "f5b9ff92",
   "metadata": {},
   "outputs": [],
   "source": []
  },
  {
   "cell_type": "code",
   "execution_count": null,
   "id": "066fea6f",
   "metadata": {},
   "outputs": [],
   "source": []
  }
 ],
 "metadata": {
  "kernelspec": {
   "display_name": "Python 3 (ipykernel)",
   "language": "python",
   "name": "python3"
  },
  "language_info": {
   "codemirror_mode": {
    "name": "ipython",
    "version": 3
   },
   "file_extension": ".py",
   "mimetype": "text/x-python",
   "name": "python",
   "nbconvert_exporter": "python",
   "pygments_lexer": "ipython3",
   "version": "3.9.13"
  }
 },
 "nbformat": 4,
 "nbformat_minor": 5
}
