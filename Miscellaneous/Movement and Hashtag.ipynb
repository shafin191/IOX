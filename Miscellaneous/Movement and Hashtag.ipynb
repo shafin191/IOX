{
 "cells": [
  {
   "cell_type": "code",
   "execution_count": null,
   "id": "a2384173",
   "metadata": {},
   "outputs": [],
   "source": [
    "import pandas as pd\n",
    "import os\n",
    "import numpy as np\n",
    "pd.set_option('display.max_colwidth', 300)\n",
    "pd.set_option('display.max_columns', 10)\n",
    "pd.set_option('display.max_rows', 50)"
   ]
  },
  {
   "cell_type": "code",
   "execution_count": null,
   "id": "d753d44e",
   "metadata": {},
   "outputs": [],
   "source": [
    "df_cluster = pd.read_csv('All_Tweet.csv')"
   ]
  },
  {
   "cell_type": "code",
   "execution_count": null,
   "id": "39ec1e5f",
   "metadata": {},
   "outputs": [],
   "source": [
    "import pandas as pd\n",
    "import re\n",
    "\n",
    "\n",
    "\n",
    "def extract_hashtags(text):\n",
    "    hashtags = re.findall(r'#(\\w+)', text, flags=re.UNICODE)\n",
    "    return hashtags\n",
    "\n",
    "df_cluster['hashtags'] = df_cluster['Tweet_Text'].apply(extract_hashtags)\n",
    "\n",
    "all_hashtags = [hashtag for sublist in df_cluster['hashtags'] for hashtag in sublist]\n",
    "\n",
    "hashtag_frequency = pd.Series(all_hashtags).value_counts()\n",
    "\n",
    "print(\"Hashtag Frequencies:\")\n",
    "print(hashtag_frequency)"
   ]
  },
  {
   "cell_type": "code",
   "execution_count": null,
   "id": "09ec1415",
   "metadata": {},
   "outputs": [],
   "source": [
    "hashtag_frequency[0:40]"
   ]
  },
  {
   "cell_type": "code",
   "execution_count": null,
   "id": "437cc3e4",
   "metadata": {},
   "outputs": [],
   "source": [
    "type(hashtag_frequency)"
   ]
  },
  {
   "cell_type": "code",
   "execution_count": null,
   "id": "568f7852",
   "metadata": {},
   "outputs": [],
   "source": [
    "specific_string = 'Boycott'\n",
    "\n",
    "specific_hashtags = [hashtag for hashtag in all_hashtags if specific_string in hashtag]\n",
    "\n",
    "specific_hashtag_frequency = pd.Series(specific_hashtags).value_counts()\n",
    "\n",
    "print(\"Hashtag Frequencies containing '{}' (case-insensitive):\".format(specific_string))\n",
    "print(specific_hashtag_frequency)"
   ]
  },
  {
   "cell_type": "code",
   "execution_count": null,
   "id": "d259003d",
   "metadata": {},
   "outputs": [],
   "source": [
    "specific_hashtag_frequency.iloc[40:60]"
   ]
  },
  {
   "cell_type": "code",
   "execution_count": null,
   "id": "d06dddda",
   "metadata": {},
   "outputs": [],
   "source": [
    "specific_string = 'bbc'\n",
    "\n",
    "specific_hashtags = [hashtag for hashtag in all_hashtags if specific_string in hashtag]\n",
    "\n",
    "specific_hashtag_frequency = pd.Series(specific_hashtags).value_counts()\n",
    "\n",
    "print(\"Hashtag Frequencies containing '{}' :\".format(specific_string))\n",
    "print(specific_hashtag_frequency)"
   ]
  },
  {
   "cell_type": "code",
   "execution_count": null,
   "id": "b0051f0d",
   "metadata": {
    "scrolled": true
   },
   "outputs": [],
   "source": [
    "specific_keywords = ['BoycottPathan','BoycottPathaan', 'BoycottPathaanMovie', 'BoycottPathanMovie', 'Boycott_Pathan' ]\n",
    "\n",
    "filtered_df = df_cluster.loc[df_cluster['hashtags'].apply(lambda x: any(keyword in x for keyword in specific_keywords))]\n",
    "\n",
    "print(\"Filtered DataFrame:\")\n",
    "print(filtered_df)"
   ]
  },
  {
   "cell_type": "code",
   "execution_count": null,
   "id": "5620ed1f",
   "metadata": {},
   "outputs": [],
   "source": [
    "filtered_df.groupby('Cluster_ID').count().reset_index().Cluster_ID"
   ]
  },
  {
   "cell_type": "code",
   "execution_count": null,
   "id": "28ed86d3",
   "metadata": {},
   "outputs": [],
   "source": [
    "df_cluster[df_cluster.Cluster_ID.isin(filtered_df.groupby('Cluster_ID').count().reset_index().Cluster_ID)].groupby('User_ID').count()"
   ]
  },
  {
   "cell_type": "code",
   "execution_count": null,
   "id": "f59c4797",
   "metadata": {},
   "outputs": [],
   "source": [
    "df_cluster"
   ]
  },
  {
   "cell_type": "code",
   "execution_count": null,
   "id": "2f944f30",
   "metadata": {},
   "outputs": [],
   "source": []
  }
 ],
 "metadata": {
  "kernelspec": {
   "display_name": "Python 3 (ipykernel)",
   "language": "python",
   "name": "python3"
  },
  "language_info": {
   "codemirror_mode": {
    "name": "ipython",
    "version": 3
   },
   "file_extension": ".py",
   "mimetype": "text/x-python",
   "name": "python",
   "nbconvert_exporter": "python",
   "pygments_lexer": "ipython3",
   "version": "3.9.13"
  }
 },
 "nbformat": 4,
 "nbformat_minor": 5
}
