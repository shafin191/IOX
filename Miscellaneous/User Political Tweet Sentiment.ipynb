{
 "cells": [
  {
   "cell_type": "code",
   "execution_count": null,
   "id": "a8a657e4",
   "metadata": {},
   "outputs": [],
   "source": [
    "import pandas as pd\n",
    "import matplotlib as plt\n",
    "import numpy as np\n",
    "import os\n",
    "pd.set_option('display.max_colwidth', None)\n",
    "pd.set_option('display.max_columns', 10)\n",
    "pd.set_option('display.max_rows', 50)"
   ]
  },
  {
   "cell_type": "code",
   "execution_count": null,
   "id": "822fbdc7",
   "metadata": {},
   "outputs": [],
   "source": [
    "df_all_tweet = pd.read_csv('/disk/mnemo/users/randomuser/SBERT All Embedding/User_Data_All/Latest_Tweet_Fake_Spreader.csv',  lineterminator='\\n', dtype = 'str')"
   ]
  },
  {
   "cell_type": "code",
   "execution_count": null,
   "id": "9d2b2dc3",
   "metadata": {},
   "outputs": [],
   "source": [
    "df_nonPolitical_tweets = pd.read_csv('Non_Political_Tweets.csv')"
   ]
  },
  {
   "cell_type": "code",
   "execution_count": null,
   "id": "328d1310",
   "metadata": {},
   "outputs": [],
   "source": [
    "df_nonPolitical_tweets_small = df_nonPolitical_tweets[['Tweet_ID', 'User_ID', 'text']].rename(columns = {'text': 'Tweet_Text'})"
   ]
  },
  {
   "cell_type": "code",
   "execution_count": null,
   "id": "358306e4",
   "metadata": {},
   "outputs": [],
   "source": [
    "keywords_list = ['bjp', 'inc', 'modi', 'rahul', 'gandhi', 'yogi', 'congress', 'aap', 'kejriwal', \n",
    "              'भाजपा','भारतीय राष्ट्रीय कांग्रेस', 'मोदी' ,'राहुल','गांधी' ,'योगी','कांग्रेस' ,'आप', 'केजरीवाल' ]"
   ]
  },
  {
   "cell_type": "code",
   "execution_count": null,
   "id": "273c2e77",
   "metadata": {},
   "outputs": [],
   "source": [
    "df_all_tweet.columns"
   ]
  },
  {
   "cell_type": "code",
   "execution_count": null,
   "id": "69d86f6f",
   "metadata": {},
   "outputs": [],
   "source": [
    "df_all_tweet.groupby('User_ID').count()"
   ]
  },
  {
   "cell_type": "code",
   "execution_count": null,
   "id": "e3dd38d3",
   "metadata": {},
   "outputs": [],
   "source": [
    "df_all_tweet_small = df_all_tweet[['Tweet_ID', 'User_ID', 'Tweet_Text']]"
   ]
  },
  {
   "cell_type": "code",
   "execution_count": null,
   "id": "5c93cef7",
   "metadata": {},
   "outputs": [],
   "source": [
    "df_all_tweet_small = df_all_tweet_small.dropna(subset = ['Tweet_Text'])"
   ]
  },
  {
   "cell_type": "code",
   "execution_count": null,
   "id": "a7d69afa",
   "metadata": {},
   "outputs": [],
   "source": [
    "df_all_tweet_small = pd.concat([df_all_tweet_small,df_nonPolitical_tweets_small])"
   ]
  },
  {
   "cell_type": "code",
   "execution_count": null,
   "id": "f2eb3223",
   "metadata": {},
   "outputs": [],
   "source": [
    "df_all_tweet_small.dtypes"
   ]
  },
  {
   "cell_type": "code",
   "execution_count": null,
   "id": "98637020",
   "metadata": {},
   "outputs": [],
   "source": []
  },
  {
   "cell_type": "code",
   "execution_count": null,
   "id": "da2ffad6",
   "metadata": {},
   "outputs": [],
   "source": [
    "import re\n",
    "def remove_links(text):\n",
    "    return re.sub(r'http[s]?://(?:[a-zA-Z]|[0-9]|[$-_@.&+]|[!*\\\\(\\\\),]|(?:%[0-9a-fA-F][0-9a-fA-F]))+', '', text)\n",
    "\n",
    "df_all_tweet_small['Tweet_Text'] = df_all_tweet_small['Tweet_Text'].apply(remove_links)\n",
    "\n",
    "def remove_mentions(text):\n",
    "    return re.sub(r'@[\\w]+', '', text)\n",
    "\n",
    "df_all_tweet_small['Tweet_Text'] = df_all_tweet_small['Tweet_Text'].apply(remove_links)\n",
    "df_all_tweet_small['Tweet_Text'] = df_all_tweet_small['Tweet_Text'].apply(remove_mentions)"
   ]
  },
  {
   "cell_type": "code",
   "execution_count": null,
   "id": "ca67f94c",
   "metadata": {},
   "outputs": [],
   "source": [
    "df_all_tweet_small['Tweet_Text'] = df_all_tweet_small['Tweet_Text'].str.lower()"
   ]
  },
  {
   "cell_type": "code",
   "execution_count": null,
   "id": "aeb77555",
   "metadata": {},
   "outputs": [],
   "source": [
    "df_all_tweet_small.sample(20)"
   ]
  },
  {
   "cell_type": "code",
   "execution_count": null,
   "id": "ac38962b",
   "metadata": {},
   "outputs": [],
   "source": [
    "import pandas as pd\n",
    "\n",
    "\n",
    "\n",
    "keywords_list = ['bjp', 'modi', 'rahul', 'gandhi', 'yogi', 'congress', 'kejriwal', \n",
    "              'भाजपा','भारतीय राष्ट्रीय कांग्रेस', 'मोदी' ,'राहुल','गांधी' ,'योगी','कांग्रेस' ,'आम आदमी पार्टी' 'केजरीवाल' ]\n",
    "\n",
    "filtered_tweets_df = pd.DataFrame(columns=df_all_tweet_small.columns)\n",
    "for keyword in keywords_list:\n",
    "    filtered_tweets_df = pd.concat([filtered_tweets_df, df_all_tweet_small[df_all_tweet_small['Tweet_Text'].str.contains(keyword, case=False)]], ignore_index=True)\n",
    "\n"
   ]
  },
  {
   "cell_type": "code",
   "execution_count": null,
   "id": "840edbb4",
   "metadata": {},
   "outputs": [],
   "source": [
    "len(filtered_tweets_df)"
   ]
  },
  {
   "cell_type": "code",
   "execution_count": null,
   "id": "dde16138",
   "metadata": {},
   "outputs": [],
   "source": [
    "filtered_tweets_df.groupby('User_ID').count()"
   ]
  },
  {
   "cell_type": "code",
   "execution_count": null,
   "id": "e615f535",
   "metadata": {},
   "outputs": [],
   "source": [
    "keywords_list = ['bjp', 'modi', 'rahul', 'gandhi', 'yogi', 'congress', 'kejriwal', \n",
    "              'भाजपा','भारतीय राष्ट्रीय कांग्रेस', 'मोदी' ,'राहुल','गांधी' ,'योगी','कांग्रेस' ,'आम आदमी पार्टी', 'केजरीवाल' ]"
   ]
  },
  {
   "cell_type": "code",
   "execution_count": null,
   "id": "237f15e0",
   "metadata": {},
   "outputs": [],
   "source": [
    "import pandas as pd\n",
    "\n",
    "keyword_counts = {keyword: [] for keyword in keywords_list}\n",
    "\n",
    "for tweet in filtered_tweets_df['Tweet_Text']:\n",
    "    for keyword in keywords_list:\n",
    "        count = tweet.count(keyword)\n",
    "        keyword_counts[keyword].append(count)\n",
    "\n",
    "for keyword in keywords_list:\n",
    "    filtered_tweets_df[f'{keyword}_count'] = keyword_counts[keyword]\n",
    "\n"
   ]
  },
  {
   "cell_type": "code",
   "execution_count": null,
   "id": "6b76af94",
   "metadata": {},
   "outputs": [],
   "source": [
    "filtered_tweets_df"
   ]
  },
  {
   "cell_type": "code",
   "execution_count": null,
   "id": "57909334",
   "metadata": {},
   "outputs": [],
   "source": [
    "\n",
    "\n",
    "bjp_keyword_tweet = [ 'bjp_count','modi_count','yogi_count', 'भाजपा_count', 'मोदी_count','योगी_count' ]\n",
    "inc_keyword_tweet = [ 'rahul_count', 'gandhi_count','congress_count', 'भारतीय राष्ट्रीय कांग्रेस_count', 'राहुल_count', 'गांधी_count']\n",
    "other_keyword_tweet = [  'kejriwal_count', 'केजरीवाल_count', 'आम आदमी पार्टी_count']\n"
   ]
  },
  {
   "cell_type": "code",
   "execution_count": null,
   "id": "29ff3e09",
   "metadata": {},
   "outputs": [],
   "source": [
    "all_keywords = bjp_keyword_tweet+ inc_keyword_tweet + other_keyword_tweet\n",
    "\n",
    "\n",
    "\n",
    "filtered_tweets_df['BJP_Keyword_Tweet'] = filtered_tweets_df[bjp_keyword_tweet].sum(axis = 1)\n",
    "filtered_tweets_df['INC_Keyword_Tweet'] = filtered_tweets_df[inc_keyword_tweet].sum(axis = 1)\n",
    "filtered_tweets_df['Other_Keyword_Tweet'] = filtered_tweets_df[other_keyword_tweet].sum(axis = 1)\n"
   ]
  },
  {
   "cell_type": "code",
   "execution_count": null,
   "id": "7cb93b09",
   "metadata": {},
   "outputs": [],
   "source": [
    "drop_col = [ 'bjp_count','modi_count','yogi_count', 'भाजपा_count', 'मोदी_count','योगी_count',  'rahul_count', \n",
    "            'gandhi_count','congress_count', 'भारतीय राष्ट्रीय कांग्रेस_count', 'राहुल_count', 'गांधी_count',\n",
    "             'kejriwal_count', 'केजरीवाल_count', 'कांग्रेस_count', 'आम आदमी पार्टी_count']"
   ]
  },
  {
   "cell_type": "code",
   "execution_count": null,
   "id": "33f0a984",
   "metadata": {},
   "outputs": [],
   "source": [
    "filtered_tweets_df2 = filtered_tweets_df.drop(columns = drop_col)"
   ]
  },
  {
   "cell_type": "code",
   "execution_count": null,
   "id": "b26134d9",
   "metadata": {},
   "outputs": [],
   "source": [
    "def sample_tweets(group):\n",
    "    if len(group) >= 20:\n",
    "        return group.sample(20)\n",
    "    else:\n",
    "        return group\n",
    "filtered_tweets_df3 = filtered_tweets_df2.groupby('User_ID', group_keys=False).apply(sample_tweets)"
   ]
  },
  {
   "cell_type": "code",
   "execution_count": null,
   "id": "5954c4b8",
   "metadata": {},
   "outputs": [],
   "source": [
    "filtered_tweets_df3.to_csv('Find_Sentiment_Political_Tweets.csv', index = False)"
   ]
  },
  {
   "cell_type": "code",
   "execution_count": null,
   "id": "acecf607",
   "metadata": {},
   "outputs": [],
   "source": [
    "len(filtered_tweets_df2)/len(filtered_tweets_df3)"
   ]
  },
  {
   "cell_type": "code",
   "execution_count": null,
   "id": "d02e472b",
   "metadata": {},
   "outputs": [],
   "source": [
    "filtered_tweets_df2.to_csv('Find_Sentiment_Political_Tweets_Large.csv', index = False)"
   ]
  },
  {
   "cell_type": "code",
   "execution_count": null,
   "id": "7f65afbc",
   "metadata": {},
   "outputs": [],
   "source": [
    "filtered_tweets_df2"
   ]
  },
  {
   "cell_type": "code",
   "execution_count": null,
   "id": "98474fbb",
   "metadata": {},
   "outputs": [],
   "source": [
    "df_senti_result1 = pd.read_csv('Political_Sentiment_large_1.csv')\n",
    "df_senti_result2 = pd.read_csv('Political_Sentiment_large_2.csv')\n",
    "df_senti_result = pd.concat([df_senti_result1, df_senti_result2])"
   ]
  },
  {
   "cell_type": "code",
   "execution_count": null,
   "id": "d77504cb",
   "metadata": {},
   "outputs": [],
   "source": [
    "df_senti_result.groupby('')"
   ]
  },
  {
   "cell_type": "code",
   "execution_count": null,
   "id": "71a197c3",
   "metadata": {},
   "outputs": [],
   "source": [
    "len(df_senti_result1)"
   ]
  },
  {
   "cell_type": "code",
   "execution_count": null,
   "id": "c756bacb",
   "metadata": {},
   "outputs": [],
   "source": [
    "df_senti_result"
   ]
  },
  {
   "cell_type": "code",
   "execution_count": null,
   "id": "e4e09b21",
   "metadata": {},
   "outputs": [],
   "source": [
    "filtered_tweets_df2.dtypes"
   ]
  },
  {
   "cell_type": "code",
   "execution_count": null,
   "id": "392250d1",
   "metadata": {},
   "outputs": [],
   "source": [
    "df_senti_result.Tweet_ID = df_senti_result.Tweet_ID.astype('str')"
   ]
  },
  {
   "cell_type": "code",
   "execution_count": null,
   "id": "eb30a512",
   "metadata": {},
   "outputs": [],
   "source": [
    "df_all_political = pd.merge(filtered_tweets_df2, df_senti_result, on ='Tweet_ID').drop_duplicates('Tweet_ID').reset_index(drop = True)"
   ]
  },
  {
   "cell_type": "code",
   "execution_count": null,
   "id": "f57475dd",
   "metadata": {},
   "outputs": [],
   "source": [
    "df_pol_count = df_all_political.groupby('User_ID').count().reset_index()[['User_ID', 'Tweet_ID']].rename(columns = {'Tweet_ID': 'Total_Political_Tweets'})"
   ]
  },
  {
   "cell_type": "code",
   "execution_count": null,
   "id": "86bb55c2",
   "metadata": {},
   "outputs": [],
   "source": []
  },
  {
   "cell_type": "code",
   "execution_count": null,
   "id": "77e9cacc",
   "metadata": {},
   "outputs": [],
   "source": [
    "df_bjp = df_all_political.loc[df_all_political.BJP_Keyword_Tweet>0].groupby('User_ID').count().reset_index()[['User_ID', 'Tweet_ID']]\n",
    "df_inc = df_all_political.loc[df_all_political.INC_Keyword_Tweet>0].groupby('User_ID').count().reset_index()[['User_ID', 'Tweet_ID']]\n",
    "df_other = df_all_political.loc[df_all_political.Other_Keyword_Tweet>0].groupby('User_ID').count().reset_index()[['User_ID', 'Tweet_ID']]"
   ]
  },
  {
   "cell_type": "code",
   "execution_count": null,
   "id": "b4d6ecf7",
   "metadata": {},
   "outputs": [],
   "source": [
    "df_pol_count2 = pd.merge(df_pol_count, df_bjp, on = 'User_ID', how = 'left').rename(columns = {'Tweet_ID': 'BJP_Tweets'})\n",
    "df_pol_count3 = pd.merge(df_pol_count2, df_inc, on = 'User_ID', how = 'left').rename(columns = {'Tweet_ID': 'INC_Tweets'})\n",
    "df_pol_count4 = pd.merge(df_pol_count3, df_other, on = 'User_ID', how = 'left').rename(columns = {'Tweet_ID': 'Other_Tweets'})"
   ]
  },
  {
   "cell_type": "code",
   "execution_count": null,
   "id": "247fdd25",
   "metadata": {},
   "outputs": [],
   "source": [
    "df_pol_count4 = df_pol_count4.replace(np.nan, 0)\n",
    "df_pol_count4['Tota_Pol'] = df_pol_count4['BJP_Tweets'] + df_pol_count4['INC_Tweets'] + df_pol_count4['Other_Tweets'] "
   ]
  },
  {
   "cell_type": "code",
   "execution_count": null,
   "id": "c30072bb",
   "metadata": {},
   "outputs": [],
   "source": [
    "df_pol_count4['BJP_Tweets_Percentage'] = (df_pol_count4['BJP_Tweets'] /  df_pol_count4['Tota_Pol']) * 100\n",
    "df_pol_count4['INC_Tweets_Percentage'] = (df_pol_count4['INC_Tweets'] /  df_pol_count4['Tota_Pol']) * 100\n",
    "df_pol_count4['Other_Tweets_Percentage'] = (df_pol_count4['Other_Tweets'] /  df_pol_count4['Tota_Pol']) * 100"
   ]
  },
  {
   "cell_type": "code",
   "execution_count": null,
   "id": "8d6968d3",
   "metadata": {},
   "outputs": [],
   "source": [
    "df_pol_count4"
   ]
  },
  {
   "cell_type": "code",
   "execution_count": null,
   "id": "0e192ce0",
   "metadata": {},
   "outputs": [],
   "source": [
    "df_all_political"
   ]
  },
  {
   "cell_type": "code",
   "execution_count": null,
   "id": "67a960ee",
   "metadata": {},
   "outputs": [],
   "source": [
    "df_all_political_bjp = df_all_political.loc[df_all_political.BJP_Keyword_Tweet > 0].groupby(\n",
    "    ['User_ID', 'Sentiment_Labe']).count().reset_index()[['User_ID', 'Sentiment_Labe', 'Tweet_ID']]\n",
    "\n",
    "df_all_political_inc = df_all_political.loc[df_all_political.INC_Keyword_Tweet > 0].groupby(\n",
    "    ['User_ID', 'Sentiment_Labe']).count().reset_index()[['User_ID', 'Sentiment_Labe', 'Tweet_ID']]\n",
    "\n",
    "df_all_political_other = df_all_political.loc[df_all_political.Other_Keyword_Tweet > 0].groupby(\n",
    "    ['User_ID', 'Sentiment_Labe']).count().reset_index()[['User_ID', 'Sentiment_Labe', 'Tweet_ID']]"
   ]
  },
  {
   "cell_type": "code",
   "execution_count": null,
   "id": "88aeaaa3",
   "metadata": {},
   "outputs": [],
   "source": [
    "agg_df_bjp = df_all_political_bjp.groupby(['User_ID', 'Sentiment_Labe']).sum().reset_index()\n",
    "agg_df_inc = df_all_political_inc.groupby(['User_ID', 'Sentiment_Labe']).sum().reset_index()\n",
    "agg_df_other = df_all_political_other.groupby(['User_ID', 'Sentiment_Labe']).sum().reset_index()\n",
    "\n",
    "pivot_df_bjp = agg_df_bjp.pivot(index='User_ID', columns='Sentiment_Labe', values='Tweet_ID').fillna(0)\n",
    "pivot_df_inc = agg_df_inc.pivot(index='User_ID', columns='Sentiment_Labe', values='Tweet_ID').fillna(0)\n",
    "pivot_df_other = agg_df_other.pivot(index='User_ID', columns='Sentiment_Labe', values='Tweet_ID').fillna(0)\n"
   ]
  },
  {
   "cell_type": "code",
   "execution_count": null,
   "id": "d41f1495",
   "metadata": {},
   "outputs": [],
   "source": [
    "pivot_df_bjp = pivot_df_bjp.reset_index()[['User_ID', 'negative', 'neutral', 'positive']].rename(columns=\n",
    "    {'negative': 'BJP_Negative', 'neutral': 'BJP_Neutral', 'positive':'BJP_Positive'})\n",
    "\n",
    "pivot_df_inc = pivot_df_inc.reset_index()[['User_ID', 'negative', 'neutral', 'positive']].rename(columns=\n",
    "    {'negative': 'INC_Negative', 'neutral': 'INC_Neutral', 'positive':'INC_Positive'})\n",
    "\n",
    "pivot_df_other = pivot_df_other.reset_index()[['User_ID', 'negative', 'neutral', 'positive']].rename(columns=\n",
    "    {'negative': 'Other_Negative', 'neutral': 'Other_Neutral', 'positive':'Other_Positive'})"
   ]
  },
  {
   "cell_type": "code",
   "execution_count": null,
   "id": "c71c7b4f",
   "metadata": {},
   "outputs": [],
   "source": [
    "df_pol_count5 = pd.merge(df_pol_count4, pivot_df_bjp, how = 'left')\n",
    "df_pol_count6 = pd.merge(df_pol_count5, pivot_df_inc, how = 'left')\n",
    "df_pol_count7 = pd.merge(df_pol_count6, pivot_df_other, how = 'left')"
   ]
  },
  {
   "cell_type": "code",
   "execution_count": null,
   "id": "90663cf9",
   "metadata": {},
   "outputs": [],
   "source": [
    "df_pol_count7 = df_pol_count7.replace(np.nan, 0 )"
   ]
  },
  {
   "cell_type": "code",
   "execution_count": null,
   "id": "6a51dcf3",
   "metadata": {},
   "outputs": [],
   "source": [
    "df_pol_count7.columns"
   ]
  },
  {
   "cell_type": "code",
   "execution_count": null,
   "id": "2de06554",
   "metadata": {},
   "outputs": [],
   "source": [
    "df_pol_count7['BJP_Negative_Percentage'] = (df_pol_count7['BJP_Negative']/df_pol_count7['BJP_Tweets']) * 100\n",
    "df_pol_count7['BJP_Neutral_Percentage'] = (df_pol_count7['BJP_Neutral']/df_pol_count7['BJP_Tweets']) * 100\n",
    "df_pol_count7['BJP_Positive_Percentage'] = (df_pol_count7['BJP_Positive']/df_pol_count7['BJP_Tweets']) * 100\n",
    "\n",
    "\n",
    "df_pol_count7['INC_Negative_Percentage'] = (df_pol_count7['INC_Negative']/df_pol_count7['INC_Tweets']) * 100\n",
    "df_pol_count7['INC_Neutral_Percentage'] = (df_pol_count7['INC_Neutral']/df_pol_count7['INC_Tweets']) * 100\n",
    "df_pol_count7['INC_Positive_Percentage'] = (df_pol_count7['INC_Positive']/df_pol_count7['INC_Tweets']) * 100\n",
    "\n",
    "\n",
    "\n",
    "df_pol_count7['Other_Negative_Percentage'] = (df_pol_count7['Other_Negative']/df_pol_count7['Other_Tweets']) * 100\n",
    "df_pol_count7['Other_Neutral_Percentage'] = (df_pol_count7['Other_Neutral']/df_pol_count7['Other_Tweets']) * 100\n",
    "df_pol_count7['Other_Positive_Percentage'] = (df_pol_count7['Other_Positive']/df_pol_count7['Other_Tweets']) * 100"
   ]
  },
  {
   "cell_type": "code",
   "execution_count": null,
   "id": "c6e68a7b",
   "metadata": {},
   "outputs": [],
   "source": [
    "df_pol_count7 = df_pol_count7.replace(np.nan, 0)"
   ]
  },
  {
   "cell_type": "code",
   "execution_count": null,
   "id": "e9829dbd",
   "metadata": {},
   "outputs": [],
   "source": [
    "df_pol_count7"
   ]
  },
  {
   "cell_type": "code",
   "execution_count": null,
   "id": "5a9dd531",
   "metadata": {},
   "outputs": [],
   "source": [
    "df_acc_tweet = df_all_tweet_small.groupby('User_ID').count().reset_index()[['User_ID', 'Tweet_ID']].rename(columns = {'Tweet_ID': 'Total_Tweet'})"
   ]
  },
  {
   "cell_type": "code",
   "execution_count": null,
   "id": "7ed10e1c",
   "metadata": {},
   "outputs": [],
   "source": [
    "pd.merge(df_acc_tweet, df_pol_count7, on = 'User_ID').to_csv('Account_Political_Sentiment.csv', index = False)"
   ]
  }
 ],
 "metadata": {
  "kernelspec": {
   "display_name": "Python 3 (ipykernel)",
   "language": "python",
   "name": "python3"
  },
  "language_info": {
   "codemirror_mode": {
    "name": "ipython",
    "version": 3
   },
   "file_extension": ".py",
   "mimetype": "text/x-python",
   "name": "python",
   "nbconvert_exporter": "python",
   "pygments_lexer": "ipython3",
   "version": "3.9.13"
  }
 },
 "nbformat": 4,
 "nbformat_minor": 5
}
