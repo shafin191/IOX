{
 "cells": [
  {
   "cell_type": "code",
   "execution_count": null,
   "id": "7bce6b8e",
   "metadata": {},
   "outputs": [],
   "source": [
    "import pandas as pd\n",
    "import os "
   ]
  },
  {
   "cell_type": "code",
   "execution_count": null,
   "id": "704ff742",
   "metadata": {},
   "outputs": [],
   "source": [
    "\n",
    "def merge_csv(path_dir):\n",
    "    directory = path_dir\n",
    "    dfs = []\n",
    "\n",
    "    for filename in os.listdir(directory):\n",
    "        if filename.endswith('.csv'):\n",
    "            filepath = os.path.join(directory, filename)\n",
    "            df = pd.read_csv(filepath, lineterminator='\\n', dtype = 'str')\n",
    "            \n",
    "            dfs.append(df)\n",
    "\n",
    "    merged_df = pd.concat(dfs, ignore_index=True)\n",
    "    return merged_df\n"
   ]
  },
  {
   "cell_type": "code",
   "execution_count": null,
   "id": "a807f3b6",
   "metadata": {},
   "outputs": [],
   "source": [
    "df_all_following = merge_csv('/disk/mnemo/users/randomuser/SBERT All Embedding/Following_List/All')"
   ]
  },
  {
   "cell_type": "code",
   "execution_count": null,
   "id": "3580df24",
   "metadata": {},
   "outputs": [],
   "source": [
    "df_all_following.to_csv('All_Account_Following.csv', index = False)"
   ]
  },
  {
   "cell_type": "code",
   "execution_count": null,
   "id": "a414fc1c",
   "metadata": {},
   "outputs": [],
   "source": [
    "df_sample_check = merge_csv('/disk/mnemo/users/randomuser/SBERT All Embedding/NonPolitical_Following')\n",
    "df_sample_check.to_csv('Non_Political_Following.csv', index = False)"
   ]
  },
  {
   "cell_type": "code",
   "execution_count": null,
   "id": "9a489200",
   "metadata": {},
   "outputs": [],
   "source": [
    "df_sample_check = merge_csv('/disk/mnemo/users/randomuser/SBERT All Embedding/NonPolitical_Tweets')"
   ]
  },
  {
   "cell_type": "code",
   "execution_count": null,
   "id": "b4c979a2",
   "metadata": {},
   "outputs": [],
   "source": [
    "df_sample_check2 = df_sample_check.dropna(subset =['Location'])"
   ]
  },
  {
   "cell_type": "code",
   "execution_count": null,
   "id": "ae9be27b",
   "metadata": {},
   "outputs": [],
   "source": [
    "df_sample_check2['Location'] = df_sample_check2['Location'].str.lower()"
   ]
  },
  {
   "cell_type": "code",
   "execution_count": null,
   "id": "43a9a6e4",
   "metadata": {},
   "outputs": [],
   "source": [
    "df_sample_check2[df_sample_check2.dropna(subset =['Location']).Location.str.contains('india')].drop_duplicates('Following_ID')"
   ]
  },
  {
   "cell_type": "code",
   "execution_count": null,
   "id": "b5493009",
   "metadata": {},
   "outputs": [],
   "source": [
    "df_non_political_following = merge_csv('/disk/mnemo/users/randomuser/SBERT All Embedding/NonPolitical/Following2')"
   ]
  },
  {
   "cell_type": "code",
   "execution_count": null,
   "id": "585176a3",
   "metadata": {},
   "outputs": [],
   "source": [
    "df_non_political_follower = merge_csv('/disk/mnemo/users/randomuser/SBERT All Embedding/NonPolitical/Follower2')"
   ]
  },
  {
   "cell_type": "code",
   "execution_count": null,
   "id": "19bddcfa",
   "metadata": {},
   "outputs": [],
   "source": [
    "df_non_political_follower = df_non_political_follower.dropna(subset =['Location'])\n",
    "df_non_political_follower['Location'] = df_non_political_follower['Location'].str.lower()\n",
    "df_non_political_following = df_non_political_following.dropna(subset =['Location'])\n",
    "df_non_political_following['Location'] = df_non_political_following['Location'].str.lower()"
   ]
  },
  {
   "cell_type": "code",
   "execution_count": null,
   "id": "3ff04716",
   "metadata": {},
   "outputs": [],
   "source": [
    "len(df_non_political_following) + len(df_non_political_follower)"
   ]
  },
  {
   "cell_type": "code",
   "execution_count": null,
   "id": "eb358b55",
   "metadata": {},
   "outputs": [],
   "source": [
    "len(df_non_political_following[df_non_political_following.dropna(subset =['Location']).Location.str.contains('india')].drop_duplicates('Following_ID'))"
   ]
  },
  {
   "cell_type": "code",
   "execution_count": null,
   "id": "28153d14",
   "metadata": {},
   "outputs": [],
   "source": [
    "len(df_non_political_follower[df_non_political_follower.dropna(subset =['Location']).Location.str.contains('india')].drop_duplicates('Follower_ID'))"
   ]
  },
  {
   "cell_type": "code",
   "execution_count": null,
   "id": "cba27999",
   "metadata": {},
   "outputs": [],
   "source": [
    "df_non_political_following.to_csv('Non_pol_following.csv', index =False)"
   ]
  },
  {
   "cell_type": "code",
   "execution_count": null,
   "id": "8a6d6a2e",
   "metadata": {},
   "outputs": [],
   "source": [
    "df_non_political_follower.to_csv('Non_pol_follower.csv', index =False)"
   ]
  },
  {
   "cell_type": "code",
   "execution_count": null,
   "id": "236b2c98",
   "metadata": {},
   "outputs": [],
   "source": [
    "list(set(df_non_political_following.Following_ID.tolist()))"
   ]
  },
  {
   "cell_type": "code",
   "execution_count": null,
   "id": "b6939421",
   "metadata": {},
   "outputs": [],
   "source": [
    "df_user = merge_csv('/disk/mnemo/users/randomuser/SBERT All Embedding/User_Updated_Info/')"
   ]
  },
  {
   "cell_type": "code",
   "execution_count": null,
   "id": "052e5131",
   "metadata": {},
   "outputs": [],
   "source": [
    "df_user.to_csv('Updated_User_Info.csv', index = False)"
   ]
  },
  {
   "cell_type": "code",
   "execution_count": null,
   "id": "ed402d6a",
   "metadata": {},
   "outputs": [],
   "source": [
    "df_follow = merge_csv('/disk/mnemo/users/randomuser/SBERT All Embedding/Follower_List/Additional')\n",
    "df_following = merge_csv('/disk/mnemo/users/randomuser/SBERT All Embedding/Following_List/Additional')"
   ]
  },
  {
   "cell_type": "code",
   "execution_count": null,
   "id": "6ab912e2",
   "metadata": {},
   "outputs": [],
   "source": [
    "print(len(df_following.User_ID.unique().tolist()))\n",
    "print(len(df_follow.User_ID.unique().tolist()))"
   ]
  },
  {
   "cell_type": "code",
   "execution_count": null,
   "id": "0c28cc95",
   "metadata": {},
   "outputs": [],
   "source": [
    "df_niva_duck = pd.read_csv('/disk/mnemo/users/randomuser/SBERT All Embedding/NivaDuck/India.csv')"
   ]
  },
  {
   "cell_type": "code",
   "execution_count": null,
   "id": "f627624c",
   "metadata": {},
   "outputs": [],
   "source": [
    "df_niva_duck_small1 =df_niva_duck[['id', 'party']].rename(columns = {'id': 'Follower_ID', 'party': 'Party'})\n",
    "df_niva_duck_small2 =df_niva_duck[['id', 'party']].rename(columns = {'id': 'Following_ID', 'party': 'Party'})"
   ]
  },
  {
   "cell_type": "code",
   "execution_count": null,
   "id": "c049dea2",
   "metadata": {},
   "outputs": [],
   "source": [
    "df_follow = pd.merge(df_follow, df_niva_duck_small1)"
   ]
  },
  {
   "cell_type": "code",
   "execution_count": null,
   "id": "0a1a8de7",
   "metadata": {},
   "outputs": [],
   "source": [
    "df_following = pd.merge(df_following, df_niva_duck_small2)"
   ]
  },
  {
   "cell_type": "code",
   "execution_count": null,
   "id": "57d4114e",
   "metadata": {},
   "outputs": [],
   "source": [
    "df_following.groupby('Party').count()"
   ]
  },
  {
   "cell_type": "code",
   "execution_count": null,
   "id": "a5086792",
   "metadata": {},
   "outputs": [],
   "source": [
    "political_labels = {\n",
    "    'AAP': 'AAP',\n",
    "    'ABVP': 'BJP',\n",
    "    'BJP': 'BJP',\n",
    "    'DMK': 'Other',\n",
    "    'IND':'Other',\n",
    "    'GOV' : 'Other',\n",
    "    'INC' : 'INC',\n",
    "    'RJD' : 'INC',\n",
    "    'SP': 'INC',\n",
    "    'RSS' :'BJP',\n",
    "    'SS' : 'BJP',\n",
    "    'SAD':'Other', \n",
    "    'To Be Added':'Other',\n",
    "    'Undetermined' : 'Other',\n",
    "    'VHP': 'BJP', \n",
    "\n",
    "    \n",
    "}"
   ]
  },
  {
   "cell_type": "code",
   "execution_count": null,
   "id": "21ae5ed1",
   "metadata": {},
   "outputs": [],
   "source": [
    "df_following['Political_Label'] = df_following['Party'].map(political_labels)\n"
   ]
  },
  {
   "cell_type": "code",
   "execution_count": null,
   "id": "28604238",
   "metadata": {},
   "outputs": [],
   "source": [
    "df_following.groupby('Political_Label').count()"
   ]
  },
  {
   "cell_type": "code",
   "execution_count": null,
   "id": "8d404720",
   "metadata": {},
   "outputs": [],
   "source": [
    "grouped = df_following.groupby(['User_ID', 'Political_Label']).size().reset_index(name='Frequency')\n",
    "pivot_table = grouped.pivot_table(index='User_ID', columns='Political_Label', values='Frequency', fill_value=0)\n",
    "print(pivot_table)\n"
   ]
  },
  {
   "cell_type": "code",
   "execution_count": null,
   "id": "008bb9c0",
   "metadata": {},
   "outputs": [],
   "source": [
    "pivot_table.reset_index()"
   ]
  },
  {
   "cell_type": "code",
   "execution_count": null,
   "id": "163904a1",
   "metadata": {},
   "outputs": [],
   "source": []
  },
  {
   "cell_type": "code",
   "execution_count": null,
   "id": "f6ca024c",
   "metadata": {},
   "outputs": [],
   "source": [
    "df_following_new = df_following.groupby('User_ID').count().reset_index()[['User_ID', 'Following_ID']].rename(columns = {'Following_ID': 'Total_Following'})"
   ]
  },
  {
   "cell_type": "code",
   "execution_count": null,
   "id": "e703d5d1",
   "metadata": {},
   "outputs": [],
   "source": [
    "pivot_new = pd.merge(pivot_table.reset_index(), df_following_new)"
   ]
  },
  {
   "cell_type": "code",
   "execution_count": null,
   "id": "14088a8c",
   "metadata": {},
   "outputs": [],
   "source": [
    "pivot_new"
   ]
  },
  {
   "cell_type": "code",
   "execution_count": null,
   "id": "a557560a",
   "metadata": {},
   "outputs": [],
   "source": [
    "pivot_new['Political'] = pivot_new['AAP'] + pivot_new['BJP'] + pivot_new['INC'] + pivot_new['Other']"
   ]
  },
  {
   "cell_type": "code",
   "execution_count": null,
   "id": "8d7fc072",
   "metadata": {},
   "outputs": [],
   "source": [
    "pivot_new['Political_Ratio'] = pivot_new['Political']/pivot_new['Total_Following']"
   ]
  },
  {
   "cell_type": "code",
   "execution_count": null,
   "id": "92919959",
   "metadata": {},
   "outputs": [],
   "source": [
    "pivot_new.to_csv('Cluster_Following_Data2.csv', index = False)"
   ]
  },
  {
   "cell_type": "code",
   "execution_count": null,
   "id": "e566d5ff",
   "metadata": {},
   "outputs": [],
   "source": [
    "df_following = pd.merge(df_following, df_niva_duck_small2)"
   ]
  },
  {
   "cell_type": "code",
   "execution_count": null,
   "id": "40a59cb8",
   "metadata": {},
   "outputs": [],
   "source": [
    "df_all_following.groupby('User_ID').count().reset_index()"
   ]
  },
  {
   "cell_type": "code",
   "execution_count": null,
   "id": "ed2272e0",
   "metadata": {},
   "outputs": [],
   "source": [
    "df_all_following_new = df_all_following.groupby('User_ID').count().reset_index()[['User_ID', 'Following_ID']].rename(columns = {'Following_ID': 'Total_Following'})"
   ]
  },
  {
   "cell_type": "code",
   "execution_count": null,
   "id": "c2d33e5f",
   "metadata": {},
   "outputs": [],
   "source": [
    "df_all_following_new"
   ]
  },
  {
   "cell_type": "code",
   "execution_count": null,
   "id": "7136766f",
   "metadata": {},
   "outputs": [],
   "source": [
    "df_all_following['Following_ID'] = df_all_following['Following_ID'].astype('int')"
   ]
  },
  {
   "cell_type": "code",
   "execution_count": null,
   "id": "5d821250",
   "metadata": {},
   "outputs": [],
   "source": [
    "df_all_following2 = pd.merge(df_all_following, df_niva_duck_small2)"
   ]
  },
  {
   "cell_type": "code",
   "execution_count": null,
   "id": "340d562a",
   "metadata": {},
   "outputs": [],
   "source": [
    "df_all_following2['Political_Label'] = df_all_following2['Party'].map(political_labels)\n"
   ]
  },
  {
   "cell_type": "code",
   "execution_count": null,
   "id": "a96eb885",
   "metadata": {},
   "outputs": [],
   "source": [
    "df_all_following2"
   ]
  },
  {
   "cell_type": "code",
   "execution_count": null,
   "id": "85802185",
   "metadata": {},
   "outputs": [],
   "source": [
    "grouped2 = df_all_following2.groupby(['User_ID', 'Political_Label']).size().reset_index(name='Frequency')\n",
    "pivot_table2 = grouped2.pivot_table(index='User_ID', columns='Political_Label', values='Frequency', fill_value=0)"
   ]
  },
  {
   "cell_type": "code",
   "execution_count": null,
   "id": "2a570e96",
   "metadata": {},
   "outputs": [],
   "source": [
    "pivot_table2 = pivot_table2.reset_index()"
   ]
  },
  {
   "cell_type": "code",
   "execution_count": null,
   "id": "c2445fe9",
   "metadata": {},
   "outputs": [],
   "source": [
    "pivot_table2.User_ID = pivot_table2.User_ID.astype('int')"
   ]
  },
  {
   "cell_type": "code",
   "execution_count": null,
   "id": "de8b24be",
   "metadata": {},
   "outputs": [],
   "source": [
    "df_all_following_new['User_ID'] = df_all_following_new['User_ID'].astype('int')"
   ]
  },
  {
   "cell_type": "code",
   "execution_count": null,
   "id": "f03337a7",
   "metadata": {},
   "outputs": [],
   "source": [
    "pivot_table2 = pd.merge(pivot_table2,df_all_following_new)"
   ]
  },
  {
   "cell_type": "code",
   "execution_count": null,
   "id": "1c57342c",
   "metadata": {},
   "outputs": [],
   "source": [
    "pivot_table2['Political'] = pivot_table2['AAP'] + pivot_table2['BJP'] + pivot_table2['INC'] + pivot_table2['Other']"
   ]
  },
  {
   "cell_type": "code",
   "execution_count": null,
   "id": "d017cfa1",
   "metadata": {},
   "outputs": [],
   "source": [
    "pivot_table2['Political_Ratio'] = pivot_table2['Political']/pivot_table2['Total_Following']"
   ]
  },
  {
   "cell_type": "code",
   "execution_count": null,
   "id": "f044cb46",
   "metadata": {},
   "outputs": [],
   "source": [
    "pivot_table2.to_csv('All_Follower_Political_Friends.csv')"
   ]
  },
  {
   "cell_type": "code",
   "execution_count": null,
   "id": "80776520",
   "metadata": {},
   "outputs": [],
   "source": [
    "pivot_table2"
   ]
  },
  {
   "cell_type": "code",
   "execution_count": null,
   "id": "d7c089c8",
   "metadata": {},
   "outputs": [],
   "source": [
    "s1.intersection(s2)"
   ]
  },
  {
   "cell_type": "code",
   "execution_count": null,
   "id": "2c473455",
   "metadata": {},
   "outputs": [],
   "source": [
    "df_following['User_ID'] = df_following['User_ID'].astype('int')\n",
    "df_following['Following_ID'] = df_following['Following_ID'].astype('int')\n",
    "df_following['Like_Count']= df_following['Like_Count'].astype('int')\n",
    "df_following['Follower_Count']=df_following['Follower_Count'].astype('int')\n",
    "df_following['Friend_Count']=df_following['Friend_Count'].astype('int')\n",
    "df_following['Total_Posts']=df_following['Total_Posts'].astype('int')"
   ]
  },
  {
   "cell_type": "code",
   "execution_count": null,
   "id": "36ecc1ec",
   "metadata": {},
   "outputs": [],
   "source": [
    "df_follow['User_ID'] = df_follow['User_ID'].astype('int')\n",
    "df_follow['Follower_ID'] = df_follow['Follower_ID'].astype('int')\n",
    "df_follow['Like_Count']= df_follow['Like_Count'].astype('int')\n",
    "df_follow['Follower_Count']=df_follow['Follower_Count'].astype('int')\n",
    "df_follow['Friend_Count']=df_follow['Friend_Count'].astype('int')\n",
    "df_follow['Total_Posts']=df_follow['Total_Posts'].astype('int')"
   ]
  },
  {
   "cell_type": "code",
   "execution_count": null,
   "id": "10ce88c9",
   "metadata": {},
   "outputs": [],
   "source": [
    "s1 = set(df_following.User_ID.unique().tolist())\n",
    "s2 = set(df_follow.User_ID.unique().tolist())"
   ]
  },
  {
   "cell_type": "code",
   "execution_count": null,
   "id": "5478c175",
   "metadata": {},
   "outputs": [],
   "source": [
    "len(s1.intersection(s2))"
   ]
  },
  {
   "cell_type": "code",
   "execution_count": null,
   "id": "19e386b3",
   "metadata": {},
   "outputs": [],
   "source": [
    "not_in_set2 = s1 - s2\n",
    "not_in_set1 = s2 - s1"
   ]
  },
  {
   "cell_type": "code",
   "execution_count": null,
   "id": "f70579b6",
   "metadata": {
    "scrolled": true
   },
   "outputs": [],
   "source": [
    "not_in_set2"
   ]
  },
  {
   "cell_type": "code",
   "execution_count": null,
   "id": "f94b7e9f",
   "metadata": {},
   "outputs": [],
   "source": [
    "not_in_set1"
   ]
  },
  {
   "cell_type": "code",
   "execution_count": null,
   "id": "cce4ebf7",
   "metadata": {},
   "outputs": [],
   "source": [
    "df_following.groupby('User_ID').count().reset_index().sort_values('Verified')"
   ]
  },
  {
   "cell_type": "code",
   "execution_count": null,
   "id": "dee77c29",
   "metadata": {},
   "outputs": [],
   "source": [
    "df_following"
   ]
  },
  {
   "cell_type": "code",
   "execution_count": null,
   "id": "196f759e",
   "metadata": {},
   "outputs": [],
   "source": [
    "df_following['Following_ID'].value_counts().idxmax()"
   ]
  },
  {
   "cell_type": "code",
   "execution_count": null,
   "id": "9f34c8ff",
   "metadata": {},
   "outputs": [],
   "source": [
    "df_follow['Follower_ID'].value_counts().idxmax()"
   ]
  },
  {
   "cell_type": "code",
   "execution_count": null,
   "id": "b63231db",
   "metadata": {},
   "outputs": [],
   "source": [
    "df_following[['User_ID', 'Following_ID']]"
   ]
  },
  {
   "cell_type": "code",
   "execution_count": null,
   "id": "7b2bd902",
   "metadata": {},
   "outputs": [],
   "source": [
    "df_network1 = df_following[['User_ID', 'Following_ID']]\n",
    "df_network2 = df_follow[['User_ID', 'Follower_ID']]\n",
    "df_network1 = df_network1.rename_columns({'User_ID': 'Src', 'Following_ID':'Dest'})"
   ]
  },
  {
   "cell_type": "code",
   "execution_count": null,
   "id": "ec3056bc",
   "metadata": {},
   "outputs": [],
   "source": [
    "df_network1 = df_network1.rename(columns = {'User_ID': 'Src', 'Following_ID':'Dest'})\n",
    "df_network2 = df_network2.rename(columns={'User_ID': 'Dest', 'Follower_ID':'Src'})"
   ]
  },
  {
   "cell_type": "code",
   "execution_count": null,
   "id": "0ec0b868",
   "metadata": {},
   "outputs": [],
   "source": [
    "df_network1"
   ]
  },
  {
   "cell_type": "code",
   "execution_count": null,
   "id": "29aeb720",
   "metadata": {},
   "outputs": [],
   "source": [
    "df_network2"
   ]
  },
  {
   "cell_type": "code",
   "execution_count": null,
   "id": "4066e531",
   "metadata": {},
   "outputs": [],
   "source": [
    "df_network = pd.concat([df_network1, df_network2], ignore_index=True)"
   ]
  },
  {
   "cell_type": "code",
   "execution_count": null,
   "id": "4836aa48",
   "metadata": {},
   "outputs": [],
   "source": [
    "df_network"
   ]
  },
  {
   "cell_type": "code",
   "execution_count": null,
   "id": "22cbc47a",
   "metadata": {},
   "outputs": [],
   "source": [
    "import pandas as pd\n",
    "import networkx as nx\n",
    "import matplotlib.pyplot as plt\n",
    "\n",
    "\n",
    "\n",
    "G = nx.from_pandas_edgelist(df_network, source='Src', target='Dest', create_using=nx.DiGraph())\n"
   ]
  },
  {
   "cell_type": "code",
   "execution_count": null,
   "id": "44518aef",
   "metadata": {},
   "outputs": [],
   "source": [
    "import networkx as nx\n",
    "import community  # Install using: pip install python-louvain\n",
    "\n",
    "\n",
    "\n",
    "partition = community.best_partition(G.to_undirected())\n",
    "\n",
    "communities = {}\n",
    "for node, community_id in partition.items():\n",
    "    if community_id not in communities:\n",
    "        communities[community_id] = [node]\n",
    "    else:\n",
    "        communities[community_id].append(node)\n",
    "\n",
    "print(\"Communities identified by the Louvain method:\")\n",
    "for community_id, nodes in communities.items():\n",
    "    print(f\"Community {community_id}: {nodes}\")"
   ]
  },
  {
   "cell_type": "code",
   "execution_count": null,
   "id": "fbe61d67",
   "metadata": {},
   "outputs": [],
   "source": [
    "df_partition_res = pd.DataFrame(partition.items(), columns=['Node', 'Community'])"
   ]
  },
  {
   "cell_type": "code",
   "execution_count": null,
   "id": "c5e96406",
   "metadata": {},
   "outputs": [],
   "source": []
  },
  {
   "cell_type": "code",
   "execution_count": null,
   "id": "41987e02",
   "metadata": {},
   "outputs": [],
   "source": [
    "df_partition_res = df_partition_res.rename(columns = {'Node': 'User_ID'})"
   ]
  },
  {
   "cell_type": "code",
   "execution_count": null,
   "id": "39015348",
   "metadata": {},
   "outputs": [],
   "source": [
    "df_niva_duck = pd.read_csv('/disk/mnemo/users/randomuser/SBERT All Embedding/NivaDuck/India.csv')"
   ]
  },
  {
   "cell_type": "code",
   "execution_count": null,
   "id": "14961c5e",
   "metadata": {},
   "outputs": [],
   "source": [
    "df_niva_duck.dtypes"
   ]
  },
  {
   "cell_type": "code",
   "execution_count": null,
   "id": "2a79ab14",
   "metadata": {},
   "outputs": [],
   "source": [
    "df_niva_short = df_niva_duck[['id', 'party']]\n",
    "df_niva_short = df_niva_short.rename(columns = {'id': 'User_ID'})"
   ]
  },
  {
   "cell_type": "code",
   "execution_count": null,
   "id": "334b725d",
   "metadata": {},
   "outputs": [],
   "source": [
    "df_niva_short"
   ]
  },
  {
   "cell_type": "code",
   "execution_count": null,
   "id": "6f922e0e",
   "metadata": {},
   "outputs": [],
   "source": [
    "df_partition_political = pd.merge(df_partition_res, df_niva_short)"
   ]
  },
  {
   "cell_type": "code",
   "execution_count": null,
   "id": "acb13f35",
   "metadata": {},
   "outputs": [],
   "source": [
    "in_degree_centrality = nx.in_degree_centrality(G)\n",
    "out_degree_centrality = nx.out_degree_centrality(G)\n",
    "top_ten_in_degree = sorted(in_degree_centrality.items(), key=lambda x: x[1], reverse=True)[:10]\n",
    "top_ten_out_degree = sorted(out_degree_centrality.items(), key=lambda x: x[1], reverse=True)[:10]\n",
    "\n",
    "print(\"Top ten nodes with highest in-degree centrality:\")\n",
    "for node, centrality in top_ten_in_degree:\n",
    "    print(f\"{node}: {centrality}\")\n",
    "\n",
    "print(\"\\nTop ten nodes with highest out-degree centrality:\")\n",
    "for node, centrality in top_ten_out_degree:\n",
    "    print(f\"{node}: {centrality}\")"
   ]
  },
  {
   "cell_type": "code",
   "execution_count": null,
   "id": "32cb8cb1",
   "metadata": {},
   "outputs": [],
   "source": [
    "in_degrees = dict(G.in_degree())\n",
    "out_degrees = dict(G.out_degree())\n",
    "\n",
    "top_ten_in_degree = sorted(in_degrees.items(), key=lambda x: x[1], reverse=True)[:10]\n",
    "\n",
    "top_ten_out_degree = sorted(out_degrees.items(), key=lambda x: x[1], reverse=True)[:10]\n",
    "\n",
    "print(\"Top ten nodes with highest in-degree:\")\n",
    "for node, in_degree in top_ten_in_degree:\n",
    "    print(f\"{node}: {in_degree}\")\n",
    "\n",
    "print(\"\\nTop ten nodes with highest out-degree:\")\n",
    "for node, out_degree in top_ten_out_degree:\n",
    "    print(f\"{node}: {out_degree}\")"
   ]
  },
  {
   "cell_type": "code",
   "execution_count": null,
   "id": "0a2aa3df",
   "metadata": {},
   "outputs": [],
   "source": [
    "df_network.to_csv('network_follow.csv', index = False)"
   ]
  },
  {
   "cell_type": "code",
   "execution_count": null,
   "id": "ecf182d2",
   "metadata": {},
   "outputs": [],
   "source": [
    "df_node = pd.read_csv('network_follow_node.csv')"
   ]
  },
  {
   "cell_type": "code",
   "execution_count": null,
   "id": "4d341fd4",
   "metadata": {},
   "outputs": [],
   "source": [
    "df_niva_short2 = df_niva_short.rename(columns = {'User_ID':'Id', 'party': 'Label'})"
   ]
  },
  {
   "cell_type": "code",
   "execution_count": null,
   "id": "8e20ccaf",
   "metadata": {},
   "outputs": [],
   "source": [
    "df_node = df_node.drop(columns='Label')"
   ]
  },
  {
   "cell_type": "code",
   "execution_count": null,
   "id": "26726a53",
   "metadata": {},
   "outputs": [],
   "source": [
    "df_node2 = pd.merge(df_node, df_niva_short2, how = 'left')"
   ]
  },
  {
   "cell_type": "code",
   "execution_count": null,
   "id": "b80fd5d3",
   "metadata": {},
   "outputs": [],
   "source": [
    "import numpy as np"
   ]
  },
  {
   "cell_type": "code",
   "execution_count": null,
   "id": "d795c1d3",
   "metadata": {},
   "outputs": [],
   "source": [
    "df_node2 = df_node2.replace(np.nan, 'Not Available')"
   ]
  },
  {
   "cell_type": "code",
   "execution_count": null,
   "id": "95b6a14d",
   "metadata": {},
   "outputs": [],
   "source": [
    "pd.merge(df_node, df_niva_short2, how = 'left').to_csv('network_node.csv', index = False)"
   ]
  },
  {
   "cell_type": "code",
   "execution_count": null,
   "id": "3e6716f7",
   "metadata": {},
   "outputs": [],
   "source": [
    "df_node2.to_csv('network_node.csv', index = False)"
   ]
  }
 ],
 "metadata": {
  "kernelspec": {
   "display_name": "Python 3 (ipykernel)",
   "language": "python",
   "name": "python3"
  },
  "language_info": {
   "codemirror_mode": {
    "name": "ipython",
    "version": 3
   },
   "file_extension": ".py",
   "mimetype": "text/x-python",
   "name": "python",
   "nbconvert_exporter": "python",
   "pygments_lexer": "ipython3",
   "version": "3.9.13"
  }
 },
 "nbformat": 4,
 "nbformat_minor": 5
}
