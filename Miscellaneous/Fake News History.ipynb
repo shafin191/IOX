{
 "cells": [
  {
   "cell_type": "code",
   "execution_count": null,
   "id": "e9231d6e",
   "metadata": {},
   "outputs": [],
   "source": [
    "import pandas as pd\n",
    "import re\n",
    "pd.set_option('display.max_colwidth', None)\n",
    "import tweepy\n",
    "import pickle\n",
    "import time\n",
    "pd.set_option('display.max_columns', None)  \n",
    "import numpy as np\n",
    "import matplotlib.pyplot as plt\n",
    "import pandas as pd\n",
    "import re\n",
    "pd.set_option('display.max_colwidth', None)\n",
    "import tweepy\n",
    "import pickle\n",
    "import time\n",
    "pd.set_option('display.max_columns', None)  \n",
    "import matplotlib.pyplot as plt\n",
    "import numpy as np\n",
    "%matplotlib inline\n",
    "import matplotlib\n",
    "\n",
    "import matplotlib as mpl\n",
    "import matplotlib.pyplot as plt; plt.rcdefaults()\n",
    "import numpy as np\n",
    "import matplotlib.font_manager as font_manager\n",
    "import os\n",
    "plt.rcParams[\"font.family\"] = \"Helvetica\""
   ]
  },
  {
   "cell_type": "code",
   "execution_count": null,
   "id": "39af9108",
   "metadata": {},
   "outputs": [],
   "source": [
    "df_hist = pd.read_csv('Fake_History.csv')"
   ]
  },
  {
   "cell_type": "code",
   "execution_count": null,
   "id": "5e98170b",
   "metadata": {},
   "outputs": [],
   "source": [
    "len(df_hist)"
   ]
  },
  {
   "cell_type": "code",
   "execution_count": null,
   "id": "6e3cf947",
   "metadata": {},
   "outputs": [],
   "source": [
    "df_hist = df_hist.rename(columns = {'FactCheckNews' : 'Fact_Check_Link'})"
   ]
  },
  {
   "cell_type": "code",
   "execution_count": null,
   "id": "ee07b3fd",
   "metadata": {},
   "outputs": [],
   "source": [
    "df1 = pd.read_csv('Final_Fake_Accounts.csv')\n",
    "df1 = df1.rename(columns = {'UserID': 'User_ID'})\n",
    "df1 = df1.drop('Unnamed: 0', axis=1)"
   ]
  },
  {
   "cell_type": "code",
   "execution_count": null,
   "id": "9e38960a",
   "metadata": {},
   "outputs": [],
   "source": [
    "df2 = pd.read_csv('FeatureSetforFakeAccounts.csv')\n",
    "df2 = df2.rename(columns = {'UserID': 'User_ID'})\n",
    "df2 = df2.drop('Unnamed: 0', axis=1)"
   ]
  },
  {
   "cell_type": "code",
   "execution_count": null,
   "id": "79c043dd",
   "metadata": {},
   "outputs": [],
   "source": [
    "df1"
   ]
  },
  {
   "cell_type": "code",
   "execution_count": null,
   "id": "d93c3e8c",
   "metadata": {},
   "outputs": [],
   "source": [
    "df1.groupby('Fact_Check_Link').count()"
   ]
  },
  {
   "cell_type": "code",
   "execution_count": null,
   "id": "77e0c160",
   "metadata": {},
   "outputs": [],
   "source": [
    "df_hist "
   ]
  },
  {
   "cell_type": "code",
   "execution_count": null,
   "id": "f1a1c0f6",
   "metadata": {},
   "outputs": [],
   "source": [
    "df_hist"
   ]
  },
  {
   "cell_type": "code",
   "execution_count": null,
   "id": "862e0372",
   "metadata": {},
   "outputs": [],
   "source": [
    "df1_hist_first = [df1.User_ID, df1.ScreenName ]"
   ]
  },
  {
   "cell_type": "code",
   "execution_count": null,
   "id": "7ec61ab7",
   "metadata": {},
   "outputs": [],
   "source": [
    "df1_hist_first = pd.concat([df1.User_ID, df1.ScreenName,  df1.Fact_Check_Link, df1.Twitter_Link, df1.Tweet_Topic], axis = 1)"
   ]
  },
  {
   "cell_type": "code",
   "execution_count": null,
   "id": "0db711e3",
   "metadata": {},
   "outputs": [],
   "source": [
    "df1_hist_first"
   ]
  },
  {
   "cell_type": "code",
   "execution_count": null,
   "id": "77043975",
   "metadata": {},
   "outputs": [],
   "source": []
  },
  {
   "cell_type": "code",
   "execution_count": null,
   "id": "3ac8958c",
   "metadata": {},
   "outputs": [],
   "source": [
    "news_type = df1_hist_first.drop_duplicates(keep='first')"
   ]
  },
  {
   "cell_type": "code",
   "execution_count": null,
   "id": "9dc63ac1",
   "metadata": {},
   "outputs": [],
   "source": [
    "df_hist = df_hist.rename(columns = {'FactCheckNews':'Fact_Check_Link'})"
   ]
  },
  {
   "cell_type": "code",
   "execution_count": null,
   "id": "52ac3023",
   "metadata": {},
   "outputs": [],
   "source": [
    "NT = news_type[['Fact_Check_Link','Tweet_Topic']].drop_duplicates(keep='first')"
   ]
  },
  {
   "cell_type": "code",
   "execution_count": null,
   "id": "c19518bb",
   "metadata": {},
   "outputs": [],
   "source": [
    "df_hist"
   ]
  },
  {
   "cell_type": "code",
   "execution_count": null,
   "id": "d3ac48f9",
   "metadata": {},
   "outputs": [],
   "source": [
    "df_hist_manual = pd.merge(df_hist, NT, on=\"Fact_Check_Link\")"
   ]
  },
  {
   "cell_type": "code",
   "execution_count": null,
   "id": "f04c56cd",
   "metadata": {},
   "outputs": [],
   "source": []
  },
  {
   "cell_type": "code",
   "execution_count": null,
   "id": "b825e972",
   "metadata": {},
   "outputs": [],
   "source": []
  },
  {
   "cell_type": "code",
   "execution_count": null,
   "id": "4d64f138",
   "metadata": {},
   "outputs": [],
   "source": []
  },
  {
   "cell_type": "code",
   "execution_count": null,
   "id": "ff4e8e54",
   "metadata": {},
   "outputs": [],
   "source": [
    "df_hist_manual = df_hist_manual.drop('NewsType', axis = 1)"
   ]
  },
  {
   "cell_type": "code",
   "execution_count": null,
   "id": "18d6692d",
   "metadata": {},
   "outputs": [],
   "source": [
    "df_hist_manual"
   ]
  },
  {
   "cell_type": "code",
   "execution_count": null,
   "id": "f45c3c85",
   "metadata": {},
   "outputs": [],
   "source": [
    "df1_hist_first"
   ]
  },
  {
   "cell_type": "code",
   "execution_count": null,
   "id": "6780a1cd",
   "metadata": {},
   "outputs": [],
   "source": []
  },
  {
   "cell_type": "code",
   "execution_count": null,
   "id": "09783891",
   "metadata": {},
   "outputs": [],
   "source": [
    "frames = [df_hist_manual, df1_hist_first]"
   ]
  },
  {
   "cell_type": "code",
   "execution_count": null,
   "id": "93731c2e",
   "metadata": {},
   "outputs": [],
   "source": [
    "df_hist_full = pd.concat(frames)\n",
    "df_hist_full2 = pd.concat(frames)\n",
    "df_hist_full3 = pd.concat(frames)"
   ]
  },
  {
   "cell_type": "code",
   "execution_count": null,
   "id": "6341f805",
   "metadata": {},
   "outputs": [],
   "source": [
    "df_hist_full2 =df_hist_full2.drop(columns = 'User_ID').reset_index(drop = True)"
   ]
  },
  {
   "cell_type": "code",
   "execution_count": null,
   "id": "b6f71bfc",
   "metadata": {},
   "outputs": [],
   "source": [
    "df_hist_full2['TwitterLink'] = df_hist_full2['ScreenName']"
   ]
  },
  {
   "cell_type": "code",
   "execution_count": null,
   "id": "4fc64a70",
   "metadata": {},
   "outputs": [],
   "source": [
    "df_hist_full2['Fake_Tweet_Link'] = ''"
   ]
  },
  {
   "cell_type": "code",
   "execution_count": null,
   "id": "0fbf4d71",
   "metadata": {},
   "outputs": [],
   "source": [
    "k= 0\n",
    "for index,row in df_hist_full2.iterrows():\n",
    "    a = df_hist_full2.at[index,'Twitter_Link']\n",
    "    b = df_hist_full2.at[index,'TwitterLink']\n",
    "    if a is np.nan:\n",
    "        df_hist_full2.at[index,'Fake_Tweet_Link'] = b\n",
    "    elif b is np.nan:\n",
    "        df_hist_full2.at[index,'Fake_Tweet_Link'] = a\n",
    "    else:\n",
    "        if a[0] == '@' and b[0] =='@':\n",
    "            df_hist_full2.at[index,'Fake_Tweet_Link'] = 'Link Not Available'\n",
    "        elif a[0] =='@':\n",
    "            df_hist_full2.at[index,'Fake_Tweet_Link'] = b\n",
    "        elif b[0] =='@':\n",
    "            df_hist_full2.at[index,'Fake_Tweet_Link'] = a"
   ]
  },
  {
   "cell_type": "code",
   "execution_count": null,
   "id": "b9b99543",
   "metadata": {},
   "outputs": [],
   "source": [
    "df_hist_full2 = df_hist_full2.drop(columns = {'Twitter_Link','TwitterLink'})"
   ]
  },
  {
   "cell_type": "code",
   "execution_count": null,
   "id": "4ca8f171",
   "metadata": {},
   "outputs": [],
   "source": [
    "df_hist_full2"
   ]
  },
  {
   "cell_type": "code",
   "execution_count": null,
   "id": "f56212c6",
   "metadata": {},
   "outputs": [],
   "source": [
    "df_verified_only=pd.read_csv('Only_Verified_Accounts.csv').drop(columns = 'Unnamed: 0')"
   ]
  },
  {
   "cell_type": "code",
   "execution_count": null,
   "id": "2fd0c984",
   "metadata": {},
   "outputs": [],
   "source": [
    "for i in range(len(df_hist_full2)):\n",
    "    if len(df_hist_full2['ScreenName'].str.split('/')[i]) == 1:\n",
    "        df_hist_full2.at[i, 'SC'] = df_hist_full2['ScreenName'][i]\n",
    "    else:\n",
    "        df_hist_full2.at[i, 'SC'] = '@' + df_hist_full2['ScreenName'].str.split('/')[i][3]"
   ]
  },
  {
   "cell_type": "code",
   "execution_count": null,
   "id": "8dc81769",
   "metadata": {},
   "outputs": [],
   "source": [
    "df_hist_full2['ScreenName'] = df_hist_full2['SC']"
   ]
  },
  {
   "cell_type": "code",
   "execution_count": null,
   "id": "ddd184a2",
   "metadata": {},
   "outputs": [],
   "source": [
    "df_hist_full2"
   ]
  },
  {
   "cell_type": "code",
   "execution_count": null,
   "id": "ca6ca42b",
   "metadata": {},
   "outputs": [],
   "source": [
    "df_verified_final = pd.merge(df_verified_only, df_hist_full2, on=\"ScreenName\")[['User_ID', 'ScreenName', 'Fact_Check_Link', 'Fake_Tweet_Link', 'Tweet_Topic']]"
   ]
  },
  {
   "cell_type": "code",
   "execution_count": null,
   "id": "81b6a41e",
   "metadata": {},
   "outputs": [],
   "source": []
  },
  {
   "cell_type": "code",
   "execution_count": null,
   "id": "6bb62025",
   "metadata": {},
   "outputs": [],
   "source": []
  },
  {
   "cell_type": "code",
   "execution_count": null,
   "id": "8395328f",
   "metadata": {},
   "outputs": [],
   "source": []
  },
  {
   "cell_type": "code",
   "execution_count": null,
   "id": "24554bcb",
   "metadata": {},
   "outputs": [],
   "source": [
    "df_verified_final['Account_Link'] = 'https://twitter.com/' + df_verified_final['ScreenName']\n",
    "df_verified_final['Account_Link'] = df_verified_final['Account_Link'].str.replace(r'@', '')"
   ]
  },
  {
   "cell_type": "code",
   "execution_count": null,
   "id": "0c199635",
   "metadata": {},
   "outputs": [],
   "source": [
    "df_verified_final=df_verified_final.drop_duplicates().reset_index(drop= True)"
   ]
  },
  {
   "cell_type": "code",
   "execution_count": null,
   "id": "e03e11d4",
   "metadata": {},
   "outputs": [],
   "source": [
    "df_verified_final2 = df_verified_final"
   ]
  },
  {
   "cell_type": "code",
   "execution_count": null,
   "id": "003b7b9c",
   "metadata": {},
   "outputs": [],
   "source": [
    "df_verified_final2.drop_duplicates('Fact_Check_Link')"
   ]
  },
  {
   "cell_type": "code",
   "execution_count": null,
   "id": "a1728638",
   "metadata": {},
   "outputs": [],
   "source": [
    "df_verified_final.to_csv('Verified_Fake_News_Seeder.csv')"
   ]
  },
  {
   "cell_type": "code",
   "execution_count": null,
   "id": "2d20feff",
   "metadata": {},
   "outputs": [],
   "source": []
  },
  {
   "cell_type": "code",
   "execution_count": null,
   "id": "8750a6cc",
   "metadata": {},
   "outputs": [],
   "source": [
    "df_verified_final.groupby('Tweet_Topic').count().reset_index()"
   ]
  },
  {
   "cell_type": "code",
   "execution_count": null,
   "id": "b99deac9",
   "metadata": {},
   "outputs": [],
   "source": [
    "ks = df_verified_final.groupby('ScreenName').count().reset_index()[['ScreenName','User_ID']].sort_values(by='User_ID', ascending = False) "
   ]
  },
  {
   "cell_type": "code",
   "execution_count": null,
   "id": "2a0d5d92",
   "metadata": {},
   "outputs": [],
   "source": [
    "len(ks.loc[ks.User_ID > 1])"
   ]
  },
  {
   "cell_type": "code",
   "execution_count": null,
   "id": "9ddbc88e",
   "metadata": {},
   "outputs": [],
   "source": [
    "ks.loc[ks.User_ID > 1]"
   ]
  },
  {
   "cell_type": "code",
   "execution_count": null,
   "id": "b0a2d5a0",
   "metadata": {},
   "outputs": [],
   "source": []
  },
  {
   "cell_type": "code",
   "execution_count": null,
   "id": "0f50dab9",
   "metadata": {},
   "outputs": [],
   "source": []
  },
  {
   "cell_type": "code",
   "execution_count": null,
   "id": "179e4a64",
   "metadata": {},
   "outputs": [],
   "source": []
  },
  {
   "cell_type": "code",
   "execution_count": null,
   "id": "cd8f85b1",
   "metadata": {},
   "outputs": [],
   "source": []
  },
  {
   "cell_type": "code",
   "execution_count": null,
   "id": "9648143d",
   "metadata": {},
   "outputs": [],
   "source": []
  },
  {
   "cell_type": "code",
   "execution_count": null,
   "id": "bb0f8da3",
   "metadata": {},
   "outputs": [],
   "source": []
  },
  {
   "cell_type": "code",
   "execution_count": null,
   "id": "df1ede27",
   "metadata": {},
   "outputs": [],
   "source": [
    "df_hist_full = pd.concat(frames).drop('User_ID',axis=1)"
   ]
  },
  {
   "cell_type": "code",
   "execution_count": null,
   "id": "af46c23f",
   "metadata": {},
   "outputs": [],
   "source": [
    "df_hist_full = df_hist_full.reset_index(drop=True)"
   ]
  },
  {
   "cell_type": "code",
   "execution_count": null,
   "id": "4861908e",
   "metadata": {},
   "outputs": [],
   "source": [
    "df_hist_full = df_hist_full[['ScreenName', 'Fact_Check_Link']]"
   ]
  },
  {
   "cell_type": "code",
   "execution_count": null,
   "id": "c74ab531",
   "metadata": {},
   "outputs": [],
   "source": [
    "df_hist_full"
   ]
  },
  {
   "cell_type": "code",
   "execution_count": null,
   "id": "3e1058de",
   "metadata": {},
   "outputs": [],
   "source": [
    "for i in range(len(df_hist_full2)):\n",
    "    if len(df_hist_full2['ScreenName'].str.split('/')[i]) == 1:\n",
    "        df_hist_full2.at[i, 'SC'] = df_hist_full['ScreenName'][i]\n",
    "    else:\n",
    "        df_hist_full2.at[i, 'SC'] = '@' + df_hist_full['ScreenName'].str.split('/')[i][3]\n",
    "df_hist_full2['ScreenName'] = df_hist_full['SC']"
   ]
  },
  {
   "cell_type": "code",
   "execution_count": null,
   "id": "d5f3d282",
   "metadata": {},
   "outputs": [],
   "source": [
    "df_hist_full['ScreenName'] = df_hist_full['SC']"
   ]
  },
  {
   "cell_type": "code",
   "execution_count": null,
   "id": "c38a707d",
   "metadata": {},
   "outputs": [],
   "source": []
  },
  {
   "cell_type": "code",
   "execution_count": null,
   "id": "6fe0039e",
   "metadata": {},
   "outputs": [],
   "source": []
  },
  {
   "cell_type": "code",
   "execution_count": null,
   "id": "390ce3e2",
   "metadata": {},
   "outputs": [],
   "source": []
  },
  {
   "cell_type": "code",
   "execution_count": null,
   "id": "bddfaf0a",
   "metadata": {},
   "outputs": [],
   "source": []
  },
  {
   "cell_type": "code",
   "execution_count": null,
   "id": "650e507c",
   "metadata": {},
   "outputs": [],
   "source": [
    "df_verified_fake_news"
   ]
  },
  {
   "cell_type": "code",
   "execution_count": null,
   "id": "9ea0a346",
   "metadata": {},
   "outputs": [],
   "source": [
    "df_hist_full"
   ]
  },
  {
   "cell_type": "code",
   "execution_count": null,
   "id": "ff822773",
   "metadata": {},
   "outputs": [],
   "source": [
    "df_hist_full.groupby('Fact_Check_Link').count()"
   ]
  },
  {
   "cell_type": "code",
   "execution_count": null,
   "id": "cfac6a59",
   "metadata": {},
   "outputs": [],
   "source": [
    "df_hist_full = df_hist_full.drop('ScreenName', axis =1)"
   ]
  },
  {
   "cell_type": "code",
   "execution_count": null,
   "id": "cfa0b319",
   "metadata": {},
   "outputs": [],
   "source": [
    "df_hist_full_unique = df_hist_full.drop_duplicates(keep='first')\n",
    "print(len(df_hist_full_unique))"
   ]
  },
  {
   "cell_type": "code",
   "execution_count": null,
   "id": "b97c82f8",
   "metadata": {},
   "outputs": [],
   "source": [
    "account_wise_fake_news = df_hist_full_unique.groupby('SC').count().reset_index()[[ 'SC', 'Fact_Check_Link']]"
   ]
  },
  {
   "cell_type": "code",
   "execution_count": null,
   "id": "2733ab3b",
   "metadata": {},
   "outputs": [],
   "source": [
    "news_wise_fake_accounts = df_hist_full_unique.groupby('Fact_Check_Link').count().reset_index()[['Fact_Check_Link', 'SC']]"
   ]
  },
  {
   "cell_type": "code",
   "execution_count": null,
   "id": "77635edb",
   "metadata": {},
   "outputs": [],
   "source": []
  },
  {
   "cell_type": "code",
   "execution_count": null,
   "id": "0dae6487",
   "metadata": {},
   "outputs": [],
   "source": []
  },
  {
   "cell_type": "code",
   "execution_count": null,
   "id": "81767885",
   "metadata": {},
   "outputs": [],
   "source": []
  },
  {
   "cell_type": "code",
   "execution_count": null,
   "id": "e247a7ab",
   "metadata": {},
   "outputs": [],
   "source": [
    "hist = news_wise_fake_accounts.hist(bins=8)"
   ]
  },
  {
   "cell_type": "code",
   "execution_count": null,
   "id": "a519ab71",
   "metadata": {},
   "outputs": [],
   "source": [
    "news_wise_fake_accounts.mean()"
   ]
  },
  {
   "cell_type": "code",
   "execution_count": null,
   "id": "42945aec",
   "metadata": {},
   "outputs": [],
   "source": [
    "plt.figure(figsize=(8,6))\n",
    "n, bins, patches = plt.hist(news_wise_fake_accounts.SC, 175, facecolor='blue', alpha=0.75)\n",
    "\n",
    "plt.xlabel('Number of Accounts', fontsize=13)\n",
    "plt.ylabel('Number of Fact-Checked News', fontsize=13)\n",
    "plt.title('Distribution of Fact-checked Fake News Based on Twitter Accounts', fontsize=14)\n",
    "plt.savefig(\"Distribution of Fake News_TA.png\", bbox_inches=\"tight\", dpi=600, facecolor='w')\n",
    "plt.show()"
   ]
  },
  {
   "cell_type": "code",
   "execution_count": null,
   "id": "5b056d16",
   "metadata": {},
   "outputs": [],
   "source": [
    "account_wise_fake_news.sort_values(by=['Fact_Check_Link']).groupby('Fact_Check_Link').count().reset_index()"
   ]
  },
  {
   "cell_type": "code",
   "execution_count": null,
   "id": "876e2a4e",
   "metadata": {},
   "outputs": [],
   "source": [
    "plt.figure(figsize=(8,6))\n",
    "n, bins, patches = plt.hist(account_wise_fake_news.Fact_Check_Link, 44, facecolor='red', alpha=0.5)\n",
    "\n",
    "plt.xlabel('Number of Fact-Checked News', fontsize=13, color = 'black')\n",
    "plt.ylabel('Number of Accounts', fontsize=13)\n",
    "plt.title('Distribution of Fact-Checked Fake News Spreader Accounts Based on unique Fake-News', fontsize=14)\n",
    "plt.savefig(\"Distribution of Fake Spreader.png\", bbox_inches=\"tight\", dpi=600, facecolor='w')\n",
    "plt.show()"
   ]
  },
  {
   "cell_type": "code",
   "execution_count": null,
   "id": "6cf99ee7",
   "metadata": {},
   "outputs": [],
   "source": [
    "account_wise_fake_news.mean()"
   ]
  },
  {
   "cell_type": "code",
   "execution_count": null,
   "id": "2161eccf",
   "metadata": {},
   "outputs": [],
   "source": [
    "account_wise_fake_news.sort_values(by =['Fact_Check_Link'])"
   ]
  },
  {
   "cell_type": "code",
   "execution_count": null,
   "id": "8163d1e0",
   "metadata": {},
   "outputs": [],
   "source": [
    "account_wise_fake_news.loc[account_wise_fake_news.Fact_Check_Link > 1]"
   ]
  },
  {
   "cell_type": "code",
   "execution_count": null,
   "id": "a12a1faf",
   "metadata": {},
   "outputs": [],
   "source": [
    "df_hist_full.loc[df_hist_full.SC == '@010103Rai']"
   ]
  },
  {
   "cell_type": "code",
   "execution_count": null,
   "id": "7e785f41",
   "metadata": {},
   "outputs": [],
   "source": [
    "account_wise_fake_news.drop_duplicates('SC')"
   ]
  },
  {
   "cell_type": "code",
   "execution_count": null,
   "id": "155840df",
   "metadata": {},
   "outputs": [],
   "source": [
    "df_hist_full"
   ]
  },
  {
   "cell_type": "code",
   "execution_count": null,
   "id": "ba9ee362",
   "metadata": {},
   "outputs": [],
   "source": []
  },
  {
   "cell_type": "code",
   "execution_count": null,
   "id": "001ad59d",
   "metadata": {},
   "outputs": [],
   "source": [
    "df_hist_full_unique = df_hist_full.drop_duplicates(keep = 'first')"
   ]
  },
  {
   "cell_type": "code",
   "execution_count": null,
   "id": "aa460cd2",
   "metadata": {},
   "outputs": [],
   "source": [
    "df_hist_full_unique"
   ]
  },
  {
   "cell_type": "code",
   "execution_count": null,
   "id": "5cd4dbf6",
   "metadata": {},
   "outputs": [],
   "source": [
    "account_wise_fake_news = df_hist_full_unique.groupby('SC').count().reset_index()[[ 'SC', 'Fact_Check_Link']]"
   ]
  },
  {
   "cell_type": "code",
   "execution_count": null,
   "id": "848f9301",
   "metadata": {},
   "outputs": [],
   "source": [
    "sum(account_wise_fake_news.loc[ account_wise_fake_news. Fact_Check_Link >2].Fact_Check_Link)"
   ]
  },
  {
   "cell_type": "code",
   "execution_count": null,
   "id": "bc403c73",
   "metadata": {},
   "outputs": [],
   "source": [
    "account_wise_fake_news.to_csv('Account_wise_number_of_fake_news.csv')"
   ]
  },
  {
   "cell_type": "code",
   "execution_count": null,
   "id": "c1fc6ef6",
   "metadata": {},
   "outputs": [],
   "source": [
    "5260 + 351 + 87 + 23 + 9 + 11 + 2 + 1 + 2 + 1"
   ]
  },
  {
   "cell_type": "code",
   "execution_count": null,
   "id": "f3b58a87",
   "metadata": {},
   "outputs": [],
   "source": [
    "351 + 87 + 23 + 9 + 11 + 2 + 1 + 2 + 1"
   ]
  },
  {
   "cell_type": "code",
   "execution_count": null,
   "id": "7a7df2c3",
   "metadata": {},
   "outputs": [],
   "source": [
    "df_fake_basic = pd.read_csv('U:\\Twitter Research\\Fake News Scraping\\Basic_Twitter_Info\\Fake_Basic_Information.csv')"
   ]
  },
  {
   "cell_type": "code",
   "execution_count": null,
   "id": "12ed03e9",
   "metadata": {},
   "outputs": [],
   "source": [
    "df_fake_basic=df_fake_basic.rename(columns = {'Screen Name': 'ScreenName'})"
   ]
  },
  {
   "cell_type": "code",
   "execution_count": null,
   "id": "36a47818",
   "metadata": {},
   "outputs": [],
   "source": [
    "df_fake_sc = pd.DataFrame(df_fake_basic['ScreenName'])"
   ]
  },
  {
   "cell_type": "code",
   "execution_count": null,
   "id": "186ea1e7",
   "metadata": {},
   "outputs": [],
   "source": [
    "df_fake_sc =df_fake_sc .rename(columns = {'ScreenName': 'SC'})"
   ]
  },
  {
   "cell_type": "code",
   "execution_count": null,
   "id": "67fd94ec",
   "metadata": {},
   "outputs": [],
   "source": [
    "df_fake_sx = pd.merge(account_wise_fake_news, df_fake_sc, on=\"SC\")"
   ]
  },
  {
   "cell_type": "code",
   "execution_count": null,
   "id": "e3a29e39",
   "metadata": {},
   "outputs": [],
   "source": [
    "df_fake_sc.SC = '@' + df_fake_sc.SC"
   ]
  },
  {
   "cell_type": "code",
   "execution_count": null,
   "id": "0e634fc6",
   "metadata": {},
   "outputs": [],
   "source": [
    "df_fake_sx = pd.merge(account_wise_fake_news, df_fake_sc, on=\"SC\")"
   ]
  },
  {
   "cell_type": "code",
   "execution_count": null,
   "id": "7378e2f6",
   "metadata": {},
   "outputs": [],
   "source": [
    "df_fake_sx.sort_values(by='Fact_Check_Link')"
   ]
  },
  {
   "cell_type": "code",
   "execution_count": null,
   "id": "b287b452",
   "metadata": {},
   "outputs": [],
   "source": []
  },
  {
   "cell_type": "code",
   "execution_count": null,
   "id": "8223e6e0",
   "metadata": {},
   "outputs": [],
   "source": [
    "account_wise_fake_news.loc[ account_wise_fake_news. Fact_Check_Link > 1]"
   ]
  },
  {
   "cell_type": "code",
   "execution_count": null,
   "id": "19e7496d",
   "metadata": {},
   "outputs": [],
   "source": [
    "plt.figure(figsize=(10,10))\n",
    "n, bins, patches = plt.hist(df_fake_sx.Fact_Check_Link, 44, facecolor='blue', alpha=0.75)\n",
    "\n",
    "plt.ylabel('Number of Accounts')\n",
    "\n",
    "plt.show()"
   ]
  },
  {
   "cell_type": "code",
   "execution_count": null,
   "id": "aca2e0ae",
   "metadata": {},
   "outputs": [],
   "source": []
  }
 ],
 "metadata": {
  "kernelspec": {
   "display_name": "Python 3 (ipykernel)",
   "language": "python",
   "name": "python3"
  },
  "language_info": {
   "codemirror_mode": {
    "name": "ipython",
    "version": 3
   },
   "file_extension": ".py",
   "mimetype": "text/x-python",
   "name": "python",
   "nbconvert_exporter": "python",
   "pygments_lexer": "ipython3",
   "version": "3.9.13"
  }
 },
 "nbformat": 4,
 "nbformat_minor": 5
}
