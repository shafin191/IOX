{
 "cells": [
  {
   "cell_type": "code",
   "execution_count": null,
   "id": "3c679573",
   "metadata": {},
   "outputs": [],
   "source": [
    "import pandas as pd\n",
    "from sentence_transformers import SentenceTransformer, util\n",
    "import numpy as np\n",
    "import time\n",
    "from sklearn.metrics.pairwise import cosine_similarity\n",
    "import torch\n",
    "import re\n",
    "from pyarrow import csv\n",
    "\n",
    "import matplotlib.pyplot as plt\n",
    "from wordcloud import WordCloud, STOPWORDS\n",
    "import gc\n",
    "import os\n",
    "from sklearn.cluster import DBSCAN\n",
    "from os import listdir\n",
    "from os.path import isfile, join\n",
    "pd.set_option('max_colwidth', None)\n",
    "from fitter import Fitter, get_common_distributions, get_distributions\n",
    "import seaborn as sns"
   ]
  },
  {
   "cell_type": "code",
   "execution_count": null,
   "id": "e3c058a4",
   "metadata": {},
   "outputs": [],
   "source": [
    "from fitter import Fitter, get_common_distributions, get_distributions"
   ]
  },
  {
   "cell_type": "code",
   "execution_count": null,
   "id": "59899f05",
   "metadata": {},
   "outputs": [],
   "source": [
    "import seaborn as sns"
   ]
  },
  {
   "cell_type": "code",
   "execution_count": null,
   "id": "08b4a248",
   "metadata": {},
   "outputs": [],
   "source": [
    "dfxw = pd.read_csv('Final_Cluster_300k.csv')"
   ]
  },
  {
   "cell_type": "code",
   "execution_count": null,
   "id": "596b004c",
   "metadata": {},
   "outputs": [],
   "source": [
    "start = time.time()\n",
    "df_tweet_lang2 = pd.read_csv(\"Latest_Tweet_Fake_Spreader_Tweets.csv\", lineterminator='\\n', dtype=str)\n",
    "end = time.time()\n",
    "print(end-start)"
   ]
  },
  {
   "cell_type": "code",
   "execution_count": null,
   "id": "9779db6f",
   "metadata": {},
   "outputs": [],
   "source": [
    "start = time.time()\n",
    "df_embedding = pd.read_csv('All_Embedding.csv', engine = 'pyarrow')\n",
    "df_embedding = df_embedding.drop(df_embedding.columns[0:2], axis=1)\n",
    "end = time.time()\n",
    "print(end-start)"
   ]
  },
  {
   "cell_type": "code",
   "execution_count": null,
   "id": "dd553826",
   "metadata": {},
   "outputs": [],
   "source": [
    "len(df_embedding)"
   ]
  },
  {
   "cell_type": "markdown",
   "id": "81874bfe",
   "metadata": {},
   "source": [
    "# NaMo App Analysis"
   ]
  },
  {
   "cell_type": "code",
   "execution_count": null,
   "id": "2eda75f5",
   "metadata": {},
   "outputs": [],
   "source": [
    "df_tweet_lang2['NaMo'] = df_tweet_lang2.Tweet_Text.str.find(\"via NaMo App\")\n",
    "df_tweet_lang2['NMApp'] = df_tweet_lang2.Tweet_Text.str.find(\"via NMApp\")\n",
    "df_tweet_lang2['App'] = df_tweet_lang2.Tweet_Text.str.find(\"App\")\n",
    "df_tweet_lang2['NM-4'] = df_tweet_lang2.Tweet_URL.str.find(\"nm-4\")\n",
    "df_tweet_lang2['narendramodi'] = df_tweet_lang2.Tweet_URL.str.find(\"narendramodi.in\")"
   ]
  },
  {
   "cell_type": "code",
   "execution_count": null,
   "id": "090538a0",
   "metadata": {},
   "outputs": [],
   "source": [
    "df_Namo = df_tweet_lang2.loc[df_tweet_lang2.NaMo != -1]\n",
    "df_NM = df_tweet_lang2.loc[df_tweet_lang2.NMApp != -1]\n",
    "df_nm4 = df_tweet_lang2.loc[df_tweet_lang2['NM-4'] != -1]\n",
    "df_naren = df_tweet_lang2.loc[df_tweet_lang2['narendramodi'] != -1]\n",
    "df_nm4 = df_nm4.dropna(subset = ['NM-4'])\n",
    "df_naren =df_naren.dropna(subset = ['narendramodi'])"
   ]
  },
  {
   "cell_type": "code",
   "execution_count": null,
   "id": "939f5e88",
   "metadata": {},
   "outputs": [],
   "source": [
    "print(len(df_Namo))\n",
    "print(len(df_NM))\n",
    "print(len(df_nm4))\n",
    "print(len(df_naren))"
   ]
  },
  {
   "cell_type": "code",
   "execution_count": null,
   "id": "9bec225d",
   "metadata": {},
   "outputs": [],
   "source": [
    "df_tweet_lang2.sort_values(by = 'Tweet_Time')"
   ]
  },
  {
   "cell_type": "code",
   "execution_count": null,
   "id": "d157e54e",
   "metadata": {},
   "outputs": [],
   "source": [
    "df_Namo.groupby('User_ID').count()"
   ]
  },
  {
   "cell_type": "code",
   "execution_count": null,
   "id": "d9dfacb5",
   "metadata": {},
   "outputs": [],
   "source": [
    "df_namo_full = pd.concat([df_Namo, df_NM, df_nm4, df_naren])"
   ]
  },
  {
   "cell_type": "code",
   "execution_count": null,
   "id": "1a39f588",
   "metadata": {},
   "outputs": [],
   "source": [
    "df_namo_full = df_namo_full.drop_duplicates('Tweet_ID')"
   ]
  },
  {
   "cell_type": "code",
   "execution_count": null,
   "id": "28ea0392",
   "metadata": {},
   "outputs": [],
   "source": [
    "df_namo_full = df_namo_full.sort_values(by = 'Tweet_Time', ascending = False).reset_index(drop = True)"
   ]
  },
  {
   "cell_type": "code",
   "execution_count": null,
   "id": "56d26dd0",
   "metadata": {},
   "outputs": [],
   "source": [
    "len(df_namo_full)"
   ]
  },
  {
   "cell_type": "code",
   "execution_count": null,
   "id": "b1daeba4",
   "metadata": {},
   "outputs": [],
   "source": [
    "df_namo_full.Tweet_ID.astype(int)"
   ]
  },
  {
   "cell_type": "code",
   "execution_count": null,
   "id": "79c6b6fd",
   "metadata": {},
   "outputs": [],
   "source": [
    "print(len(df_namo_full.groupby('User_ID').count()))\n"
   ]
  },
  {
   "cell_type": "code",
   "execution_count": null,
   "id": "fe027a43",
   "metadata": {},
   "outputs": [],
   "source": [
    "df_namo_full.columns"
   ]
  },
  {
   "cell_type": "code",
   "execution_count": null,
   "id": "baf731b9",
   "metadata": {},
   "outputs": [],
   "source": [
    "df_namo_full.groupby('Media_Type').count()"
   ]
  },
  {
   "cell_type": "code",
   "execution_count": null,
   "id": "48c52ce7",
   "metadata": {},
   "outputs": [],
   "source": [
    "df_namo_full.Tweet_URL.str.replace('www.', '').sample(10)"
   ]
  },
  {
   "cell_type": "code",
   "execution_count": null,
   "id": "44c4b241",
   "metadata": {},
   "outputs": [],
   "source": []
  },
  {
   "cell_type": "code",
   "execution_count": null,
   "id": "3b1a2cff",
   "metadata": {},
   "outputs": [],
   "source": [
    "df_embedding.Tweet_ID = df_embedding.Tweet_ID.astype(str)"
   ]
  },
  {
   "cell_type": "code",
   "execution_count": null,
   "id": "a8478c8c",
   "metadata": {},
   "outputs": [],
   "source": []
  },
  {
   "cell_type": "code",
   "execution_count": null,
   "id": "32f0638e",
   "metadata": {},
   "outputs": [],
   "source": [
    "df_namo_full['Text_without_Link'] = df_namo_full['Tweet_Text'].apply(lambda x: re.split('https:\\/\\/.*', str(x))[0])\n",
    "df_namo_full['Text_without_Link']=df_namo_full['Text_without_Link'].str.replace('(@\\w+.*?)',\"\")"
   ]
  },
  {
   "cell_type": "code",
   "execution_count": null,
   "id": "acafee65",
   "metadata": {},
   "outputs": [],
   "source": []
  },
  {
   "cell_type": "code",
   "execution_count": null,
   "id": "043e24fd",
   "metadata": {},
   "outputs": [],
   "source": [
    "df_namo_full['Text_without_Link'] = df_namo_full['Text_without_Link'].replace('', np.nan)\n",
    "df_namo_full = df_namo_full.dropna(subset=['Text_without_Link'])\n",
    "df_namo_full = df_namo_full.reset_index(drop = True)\n",
    "df_namo_full['Text_Size'] =df_namo_full.Text_without_Link.apply(lambda x: len(x))\n",
    "df_namo_full= df_namo_full.reset_index(drop = True)"
   ]
  },
  {
   "cell_type": "code",
   "execution_count": null,
   "id": "36ca5d91",
   "metadata": {},
   "outputs": [],
   "source": [
    "len(df_namo_full)"
   ]
  },
  {
   "cell_type": "code",
   "execution_count": null,
   "id": "15ac051b",
   "metadata": {},
   "outputs": [],
   "source": [
    "device = \"cuda:0\"\n",
    "model = SentenceTransformer(\"paraphrase-multilingual-MiniLM-L12-v2\")\n",
    "model.max_seq_length = 350\n",
    "model.do_lower_case =  'True'"
   ]
  },
  {
   "cell_type": "code",
   "execution_count": null,
   "id": "58ba30e9",
   "metadata": {},
   "outputs": [],
   "source": [
    "start = time.time()\n",
    "\n",
    "emb = model.encode(df_namo_full.Text_without_Link.tolist())\n",
    "print(\"Embeddings computed. Shape:\", emb.shape)\n",
    "\n",
    "end = time.time()\n",
    "print((end - start)/60)"
   ]
  },
  {
   "cell_type": "code",
   "execution_count": null,
   "id": "36c9c5ae",
   "metadata": {},
   "outputs": [],
   "source": [
    "emb_df = pd.DataFrame(emb)\n",
    "emb_df['Tweet_ID'] = df_namo_full.Tweet_ID.tolist()\n",
    "df_embedding_namo = emb_df"
   ]
  },
  {
   "cell_type": "code",
   "execution_count": null,
   "id": "fc384389",
   "metadata": {},
   "outputs": [],
   "source": [
    "df_embedding_namo.iloc[:,:-1]"
   ]
  },
  {
   "cell_type": "code",
   "execution_count": null,
   "id": "a1889006",
   "metadata": {},
   "outputs": [],
   "source": [
    "X1 = np.array(df_embedding_namo.iloc[:,:-1])\n",
    "clustering1 = DBSCAN(eps=1, min_samples=2).fit(X1)"
   ]
  },
  {
   "cell_type": "code",
   "execution_count": null,
   "id": "7396381a",
   "metadata": {},
   "outputs": [],
   "source": [
    "ew_pd = pd.DataFrame(clustering1.labels_)"
   ]
  },
  {
   "cell_type": "code",
   "execution_count": null,
   "id": "1389e241",
   "metadata": {},
   "outputs": [],
   "source": [
    "ew_pd['Tweet_ID'] = df_embedding_namo['Tweet_ID']"
   ]
  },
  {
   "cell_type": "code",
   "execution_count": null,
   "id": "f5e6fe20",
   "metadata": {},
   "outputs": [],
   "source": [
    "ew_pd = ew_pd.rename(columns = {0: 'Cluster_ID'})"
   ]
  },
  {
   "cell_type": "code",
   "execution_count": null,
   "id": "efc3030a",
   "metadata": {},
   "outputs": [],
   "source": []
  },
  {
   "cell_type": "code",
   "execution_count": null,
   "id": "980062f3",
   "metadata": {},
   "outputs": [],
   "source": [
    "ew_pd.groupby('Cluster_ID').count().reset_index(drop = False).sort_values(by = 'Tweet_ID', ascending = False)"
   ]
  },
  {
   "cell_type": "code",
   "execution_count": null,
   "id": "b127799a",
   "metadata": {},
   "outputs": [],
   "source": [
    "ew_pd.loc[ew_pd.Cluster_ID == 1342].Tweet_ID.tolist()"
   ]
  },
  {
   "cell_type": "code",
   "execution_count": null,
   "id": "cc91c76e",
   "metadata": {},
   "outputs": [],
   "source": [
    "ew_pd"
   ]
  },
  {
   "cell_type": "code",
   "execution_count": null,
   "id": "7ca6b7c7",
   "metadata": {},
   "outputs": [],
   "source": []
  },
  {
   "cell_type": "code",
   "execution_count": null,
   "id": "fa37458a",
   "metadata": {},
   "outputs": [],
   "source": [
    "df_namo_full[df_namo_full.Tweet_ID.isin(ew_pd.loc[ew_pd.Cluster_ID == 1261].Tweet_ID.tolist())].User_ID.unique()"
   ]
  },
  {
   "cell_type": "code",
   "execution_count": null,
   "id": "51c21306",
   "metadata": {},
   "outputs": [],
   "source": [
    "df_namo_full_total_post = df_namo_full.groupby('User_ID').count().reset_index(drop = False).sort_values('Tweet_ID', ascending = False)[['User_ID', 'Tweet_ID']]"
   ]
  },
  {
   "cell_type": "code",
   "execution_count": null,
   "id": "8af28094",
   "metadata": {},
   "outputs": [],
   "source": [
    "df_namo_full_total_post.iloc[0:17] "
   ]
  },
  {
   "cell_type": "code",
   "execution_count": null,
   "id": "c39554a9",
   "metadata": {},
   "outputs": [],
   "source": [
    "\n"
   ]
  },
  {
   "cell_type": "code",
   "execution_count": null,
   "id": "1be9049f",
   "metadata": {},
   "outputs": [],
   "source": []
  },
  {
   "cell_type": "code",
   "execution_count": null,
   "id": "d52aee18",
   "metadata": {},
   "outputs": [],
   "source": [
    "df_namo_full_total_post['Post1-10'] = 'False'\n",
    "df_namo_full_total_post['Post10-100'] = 'False'\n",
    "df_namo_full_total_post['Post100Above'] = 'False'"
   ]
  },
  {
   "cell_type": "code",
   "execution_count": null,
   "id": "c987377d",
   "metadata": {},
   "outputs": [],
   "source": []
  },
  {
   "cell_type": "code",
   "execution_count": null,
   "id": "e5d31b36",
   "metadata": {},
   "outputs": [],
   "source": [
    "df_namo_full_total_post.loc[(df_namo_full_total_post['Tweet_ID'] >=1) & (df_namo_full_total_post['Tweet_ID'] <=10), 'Post1-10'] = 'True'\n",
    "df_namo_full_total_post.loc[(df_namo_full_total_post['Tweet_ID'] >=11) & (df_namo_full_total_post['Tweet_ID'] <=100), 'Post10-100'] = 'True' \n",
    "df_namo_full_total_post.loc[(df_namo_full_total_post['Tweet_ID'] >=101) & (df_namo_full_total_post['Tweet_ID'] <=100000), 'Post100Above'] = 'True' "
   ]
  },
  {
   "cell_type": "code",
   "execution_count": null,
   "id": "720bef94",
   "metadata": {},
   "outputs": [],
   "source": [
    "df_namo_full_total_post.groupby('Post100Above').count()"
   ]
  },
  {
   "cell_type": "code",
   "execution_count": null,
   "id": "eb4d73fa",
   "metadata": {},
   "outputs": [],
   "source": [
    "ew_pd"
   ]
  },
  {
   "cell_type": "code",
   "execution_count": null,
   "id": "1c1a61b9",
   "metadata": {},
   "outputs": [],
   "source": [
    "df_namo_full['Cluster_ID'] = ew_pd['Cluster_ID']"
   ]
  },
  {
   "cell_type": "code",
   "execution_count": null,
   "id": "81321a7c",
   "metadata": {},
   "outputs": [],
   "source": [
    "df_acc_check = pd.read_csv('All_Fake_without_debunkers_Updated.csv')"
   ]
  },
  {
   "cell_type": "code",
   "execution_count": null,
   "id": "2c3da3cb",
   "metadata": {},
   "outputs": [],
   "source": [
    "df_acc_check.User_ID = df_acc_check.User_ID.astype('str')"
   ]
  },
  {
   "cell_type": "code",
   "execution_count": null,
   "id": "78dab5e3",
   "metadata": {},
   "outputs": [],
   "source": []
  },
  {
   "cell_type": "code",
   "execution_count": null,
   "id": "b8e2b827",
   "metadata": {},
   "outputs": [],
   "source": [
    "df_namo_full_total_post = pd.merge(df_namo_full_total_post, df_acc_check[['User_ID', 'Political', 'Influencer', 'acc_type']], on = 'User_ID')"
   ]
  },
  {
   "cell_type": "code",
   "execution_count": null,
   "id": "311d91e8",
   "metadata": {},
   "outputs": [],
   "source": [
    "df_namo_full_total_post.groupby('Political').count()"
   ]
  },
  {
   "cell_type": "code",
   "execution_count": null,
   "id": "44241e7a",
   "metadata": {},
   "outputs": [],
   "source": [
    "len(df_namo_full_total_post.loc[(df_namo_full_total_post['Post100Above'] == 'True') \n",
    "                            & (df_namo_full_total_post['Influencer'] == 'Influencer')\n",
    "                            & (df_namo_full_total_post['acc_type'] == 'Verified')])"
   ]
  },
  {
   "cell_type": "code",
   "execution_count": null,
   "id": "5e8625fe",
   "metadata": {},
   "outputs": [],
   "source": [
    "post_list = ['Post1-10','Post10-100','Post100Above']\n",
    "acc_type = ['Verified', 'Bot', 'Regular']\n",
    "pol_inf = ['Political','Influencer']\n",
    "\n",
    "for i in post_list:\n",
    "    for j in acc_type:\n",
    "        print(i)\n",
    "        print(j)\n",
    "        print(len(df_namo_full_total_post.loc[(df_namo_full_total_post[i] == 'True') \n",
    "                            & (df_namo_full_total_post.acc_type == j)])\n",
    "             )"
   ]
  },
  {
   "cell_type": "markdown",
   "id": "0012959d",
   "metadata": {},
   "source": []
  },
  {
   "cell_type": "code",
   "execution_count": null,
   "id": "ed8f3d4b",
   "metadata": {},
   "outputs": [],
   "source": [
    "df_namo_full.Tweet_Time = pd.to_datetime(df_namo_full.Tweet_Time, format='%Y-%m-%d %H:%M:%S.%f')\n",
    "df_namo_full['Date']= df_namo_full.Tweet_Time.dt.date\n",
    "df_namo_full['Date']= pd.to_datetime(df_namo_full.Date, format='%Y-%m-%d')\n",
    "df_namo_full['Year']= df_namo_full['Date'].dt.year"
   ]
  },
  {
   "cell_type": "code",
   "execution_count": null,
   "id": "a08b9a23",
   "metadata": {},
   "outputs": [],
   "source": [
    "df_namo_full.loc[df_namo_full.Tweet_Lang == 'en'].sample(20)\n"
   ]
  },
  {
   "cell_type": "code",
   "execution_count": null,
   "id": "cb657ee9",
   "metadata": {},
   "outputs": [],
   "source": [
    "df_namo_full.loc[df_namo_full.Cluster_ID == 472]"
   ]
  },
  {
   "cell_type": "code",
   "execution_count": null,
   "id": "8f0ef322",
   "metadata": {},
   "outputs": [],
   "source": [
    "df_namo_full.groupby('Year').count().reset_index(drop = False)[['Year', 'Tweet_Time']]"
   ]
  },
  {
   "cell_type": "code",
   "execution_count": null,
   "id": "272ff866",
   "metadata": {},
   "outputs": [],
   "source": []
  },
  {
   "cell_type": "code",
   "execution_count": null,
   "id": "6bb2105d",
   "metadata": {},
   "outputs": [],
   "source": [
    "df_tweet_lang2_URL = df_tweet_lang2.dropna(subset=['Tweet_URL'])"
   ]
  },
  {
   "cell_type": "code",
   "execution_count": null,
   "id": "d83dd520",
   "metadata": {},
   "outputs": [],
   "source": [
    "df_tweet_lang2_URL['NM-4'] = df_tweet_lang2_URL.Tweet_URL.str.find(\"nm-4\")\n",
    "df_tweet_lang2_URL['narendramodi'] = df_tweet_lang2_URL.Tweet_URL.str.find(\"narendramodi.in\")"
   ]
  },
  {
   "cell_type": "code",
   "execution_count": null,
   "id": "6257cb9d",
   "metadata": {},
   "outputs": [],
   "source": [
    "df_namo_full"
   ]
  },
  {
   "cell_type": "code",
   "execution_count": null,
   "id": "9800b3bc",
   "metadata": {},
   "outputs": [],
   "source": [
    "df_tweet_lang2_URL.loc[df_tweet_lang2_URL['NM-4'] != -1].sort_values(by = 'Tweet_Time', ascending = False)"
   ]
  },
  {
   "cell_type": "code",
   "execution_count": null,
   "id": "657c37a3",
   "metadata": {},
   "outputs": [],
   "source": [
    "len(df_namo_full_total_post.loc[(df_namo_full_total_post.Political == 'Political') & \n",
    "                           (df_namo_full_total_post.acc_type == 'Verified')])"
   ]
  },
  {
   "cell_type": "code",
   "execution_count": null,
   "id": "93a190f7",
   "metadata": {},
   "outputs": [],
   "source": [
    "len(df_namo_full_total_post.loc[(df_namo_full_total_post.Influencer == 'Influencer') & \n",
    "                           (df_namo_full_total_post.acc_type == 'Verified')])"
   ]
  },
  {
   "cell_type": "code",
   "execution_count": null,
   "id": "f3ebf2d6",
   "metadata": {},
   "outputs": [],
   "source": [
    "df_namo_full.Tweet_ID.tolist()"
   ]
  },
  {
   "cell_type": "code",
   "execution_count": null,
   "id": "0bb947b8",
   "metadata": {},
   "outputs": [],
   "source": [
    "df_namo_full_with_cluster_ID = pd.merge(df_namo_full,ew_pd, on = 'Tweet_ID')"
   ]
  },
  {
   "cell_type": "code",
   "execution_count": null,
   "id": "73405f6d",
   "metadata": {},
   "outputs": [],
   "source": [
    "df_namo_full_with_cluster_ID_onlyhashtag =df_namo_full_with_cluster_ID.loc[df_namo_full_with_cluster_ID.Tweet_HashTags != 'None']"
   ]
  },
  {
   "cell_type": "code",
   "execution_count": null,
   "id": "3e77fbfc",
   "metadata": {},
   "outputs": [],
   "source": [
    "df_namo_full_with_cluster_ID_onlyhashtag.Total_Hashtags = df_namo_full_with_cluster_ID_onlyhashtag.Total_Hashtags.astype(int)"
   ]
  },
  {
   "cell_type": "code",
   "execution_count": null,
   "id": "e3250639",
   "metadata": {},
   "outputs": [],
   "source": [
    "df_namo_full_with_cluster_ID_onlyhashtag['Text_without_Link'] = df_namo_full_with_cluster_ID_onlyhashtag['Text_without_Link'].apply(lambda x: re.split('http:\\/\\/.*', str(x))[0])"
   ]
  },
  {
   "cell_type": "code",
   "execution_count": null,
   "id": "2de57cc5",
   "metadata": {},
   "outputs": [],
   "source": [
    "df_namo_full_with_cluster_ID['Text_without_Link'] = df_namo_full_with_cluster_ID['Text_without_Link'].apply(lambda x: re.split('http:\\/\\/.*', str(x))[0])\n",
    "df_namo_full_with_cluster_ID['Text_without_Link'] = df_namo_full_with_cluster_ID['Text_without_Link'].replace(r'\\n',' ', regex=True) \n"
   ]
  },
  {
   "cell_type": "code",
   "execution_count": null,
   "id": "3d25d6d9",
   "metadata": {},
   "outputs": [],
   "source": [
    "pwd"
   ]
  },
  {
   "cell_type": "code",
   "execution_count": null,
   "id": "2d0dd048",
   "metadata": {},
   "outputs": [],
   "source": []
  },
  {
   "cell_type": "code",
   "execution_count": null,
   "id": "34a3dfdb",
   "metadata": {},
   "outputs": [],
   "source": [
    "text_wc = df_namo_full_with_cluster_ID.loc[df_namo_full_with_cluster_ID.Tweet_Lang == 'en'].Text_without_Link.values \n",
    "\n",
    "wordcloud_namo = WordCloud(background_color = 'white', max_font_size=50, max_words=300, width=500, height=300).generate(str(text_wc))\n",
    "\n",
    "plt.imshow(wordcloud_namo)\n",
    "plt.axis(\"off\")\n",
    "plt.show()\n",
    "wordcloud_namo.to_file(\"first_review.png\")"
   ]
  },
  {
   "cell_type": "code",
   "execution_count": null,
   "id": "ba0e96ab",
   "metadata": {},
   "outputs": [],
   "source": [
    "text_wc[105]"
   ]
  },
  {
   "cell_type": "code",
   "execution_count": null,
   "id": "100c5c3b",
   "metadata": {},
   "outputs": [],
   "source": [
    "df_copycat = pd.read_csv('Updated_CopyCat.csv')"
   ]
  },
  {
   "cell_type": "code",
   "execution_count": null,
   "id": "5d107805",
   "metadata": {},
   "outputs": [],
   "source": [
    "df_copycat.Cat = df_copycat.Cat.astype(str)\n",
    "df_copycat.CopyCat = df_copycat.CopyCat.astype(str)"
   ]
  },
  {
   "cell_type": "code",
   "execution_count": null,
   "id": "5a1d26da",
   "metadata": {},
   "outputs": [],
   "source": [
    "(list(set(df_copycat.Cat)) + list(set(df_copycat.CopyCat)))"
   ]
  },
  {
   "cell_type": "code",
   "execution_count": null,
   "id": "05ca44ce",
   "metadata": {},
   "outputs": [],
   "source": [
    "df_copycat_tweet = df_tweet_lang2[df_tweet_lang2.User_ID.isin((list(set(df_copycat.Cat)) + list(set(df_copycat.CopyCat))))]"
   ]
  },
  {
   "cell_type": "code",
   "execution_count": null,
   "id": "58e47fd7",
   "metadata": {},
   "outputs": [],
   "source": [
    "df_copycat_tweet ['Text_without_Link'] = df_copycat_tweet['Tweet_Text'].apply(lambda x: re.split('https:\\/\\/.*', str(x))[0])\n",
    "df_copycat_tweet ['Text_without_Link']=df_copycat_tweet['Text_without_Link'].str.replace('(@\\w+.*?)',\"\")\n",
    "df_copycat_tweet ['Text_without_Link']=df_copycat_tweet['Text_without_Link'].str.replace('(#\\w+.*?)',\"\")\n",
    "df_copycat_tweet ['Text_without_Link']=df_copycat_tweet['Text_without_Link'].apply(lambda x: re.split('http:\\/\\/.*', str(x))[0])\n",
    "df_copycat_tweet['Text_without_Link'] = df_copycat_tweet['Text_without_Link'].replace(r'\\n',' ', regex=True)"
   ]
  },
  {
   "cell_type": "code",
   "execution_count": null,
   "id": "a75b4f11",
   "metadata": {},
   "outputs": [],
   "source": [
    "df_copycat_tweet_eng = df_copycat_tweet.loc[(df_copycat_tweet.Tweet_Lang == 'en')]"
   ]
  },
  {
   "cell_type": "code",
   "execution_count": null,
   "id": "393f3649",
   "metadata": {},
   "outputs": [],
   "source": [
    "df_copycat_tweet_eng"
   ]
  },
  {
   "cell_type": "code",
   "execution_count": null,
   "id": "002827a2",
   "metadata": {},
   "outputs": [],
   "source": [
    "text_wc = \" \".join(review for review in df_copycat_tweet_eng.loc[df_copycat_tweet_eng.Tweet_Lang == 'en'].Text_without_Link)\n"
   ]
  },
  {
   "cell_type": "code",
   "execution_count": null,
   "id": "a50cf168",
   "metadata": {},
   "outputs": [],
   "source": [
    "from PIL import Image\n",
    "cat_mask = np.array(Image.open(\"cat.png\"))"
   ]
  },
  {
   "cell_type": "code",
   "execution_count": null,
   "id": "d8f261bf",
   "metadata": {},
   "outputs": [],
   "source": []
  },
  {
   "cell_type": "code",
   "execution_count": null,
   "id": "e7640814",
   "metadata": {},
   "outputs": [],
   "source": [
    "wordcloud_copycat = WordCloud(background_color = 'white', \n",
    "                              stopwords = ['via NaMo', 'amp', 'NaMo App', 'will', 'ग', 'र', 't','s',\n",
    "                                          'त', 'u', 'many', 'must', 'come', 'even', 'ji'] + list(STOPWORDS),\n",
    "                              max_font_size=50, \n",
    "                              max_words=100, \n",
    "                              width=500, \n",
    "                              collocations=False, \n",
    "                              colormap=\"brg_r\",\n",
    "                              height=300).generate(str(text_wc))\n",
    "\n",
    "plt.imshow(wordcloud_copycat, interpolation='bilinear')\n",
    "plt.axis(\"off\")\n",
    "\n",
    "wordcloud_copycat.to_file(\"second_review.png\")"
   ]
  },
  {
   "cell_type": "code",
   "execution_count": null,
   "id": "e4475df3",
   "metadata": {},
   "outputs": [],
   "source": [
    "len(wordcloud_copycat.words_)"
   ]
  },
  {
   "cell_type": "code",
   "execution_count": null,
   "id": "5672d10d",
   "metadata": {},
   "outputs": [],
   "source": [
    "wordcloud_copycat.words_"
   ]
  },
  {
   "cell_type": "code",
   "execution_count": null,
   "id": "9b7cd63a",
   "metadata": {},
   "outputs": [],
   "source": [
    "df_namo_full['Cluster_ID'] = ew_pd['Cluster_ID']"
   ]
  },
  {
   "cell_type": "code",
   "execution_count": null,
   "id": "f64b8312",
   "metadata": {},
   "outputs": [],
   "source": [
    "df_namo_full.loc[df_namo_full.Cluster_ID != -1].sort_values(by = 'Cluster_ID').to_csv('Namo_Analysis.csv')"
   ]
  },
  {
   "cell_type": "code",
   "execution_count": null,
   "id": "376d4689",
   "metadata": {},
   "outputs": [],
   "source": [
    "df_namo_full['Tweet_Date'] = pd.to_datetime(df_namo_full['Tweet_Time']) "
   ]
  },
  {
   "cell_type": "code",
   "execution_count": null,
   "id": "551d927f",
   "metadata": {},
   "outputs": [],
   "source": [
    "df_namo_full['Tweet_Date2'] = df_namo_full['Tweet_Date'].dt.to_period('M')"
   ]
  },
  {
   "cell_type": "code",
   "execution_count": null,
   "id": "a5ae794e",
   "metadata": {},
   "outputs": [],
   "source": [
    "df_namo_full['Tweet_Date3'] = df_namo_full['Tweet_Date'].dt.to_period('W')"
   ]
  },
  {
   "cell_type": "code",
   "execution_count": null,
   "id": "9f6addf5",
   "metadata": {},
   "outputs": [],
   "source": [
    "df_namo_full['Tweet_Date3'] = pd.to_datetime(df_namo_full['Tweet_Date3'].dt.strftime('%Y-%m-%d'))"
   ]
  },
  {
   "cell_type": "code",
   "execution_count": null,
   "id": "87c4589f",
   "metadata": {},
   "outputs": [],
   "source": [
    "df_namo_full_cluster = df_namo_full.loc[df_namo_full.Cluster_ID != -1]"
   ]
  },
  {
   "cell_type": "code",
   "execution_count": null,
   "id": "b43bd0e8",
   "metadata": {},
   "outputs": [],
   "source": [
    "df_namo_full_cluster = df_namo_full_cluster.sort_values(by = 'Cluster_ID')"
   ]
  },
  {
   "cell_type": "code",
   "execution_count": null,
   "id": "6155848b",
   "metadata": {},
   "outputs": [],
   "source": [
    "df_namo_full_cluster.loc[df_namo_full_cluster.Cluster_ID == 19]"
   ]
  },
  {
   "cell_type": "code",
   "execution_count": null,
   "id": "48e764f9",
   "metadata": {},
   "outputs": [],
   "source": [
    "df_namo_full_cluster.Tweet_Date = pd.to_datetime(df_namo_full_cluster.Tweet_Time, errors='coerce')"
   ]
  },
  {
   "cell_type": "code",
   "execution_count": null,
   "id": "ee2964ae",
   "metadata": {},
   "outputs": [],
   "source": []
  },
  {
   "cell_type": "code",
   "execution_count": null,
   "id": "9dec9d3c",
   "metadata": {},
   "outputs": [],
   "source": [
    "df_quest = df_namo_full_cluster.groupby('Cluster_ID').resample('M', on='Tweet_Date').count()"
   ]
  },
  {
   "cell_type": "code",
   "execution_count": null,
   "id": "e629793b",
   "metadata": {},
   "outputs": [],
   "source": [
    "df_quest = df_quest.rename(columns = {'Cluster_ID': 'Cluster_ID2', 'Tweet_Date':'Tweet2Date'}).reset_index()"
   ]
  },
  {
   "cell_type": "code",
   "execution_count": null,
   "id": "f3be5d41",
   "metadata": {},
   "outputs": [],
   "source": [
    "df_quest.groupby('Cluster_ID').sum().iloc[10:20]"
   ]
  },
  {
   "cell_type": "code",
   "execution_count": null,
   "id": "9ad2ff9a",
   "metadata": {},
   "outputs": [],
   "source": [
    "duplicates = df_quest.duplicated()\n"
   ]
  },
  {
   "cell_type": "code",
   "execution_count": null,
   "id": "e742fdea",
   "metadata": {},
   "outputs": [],
   "source": [
    "df_quest['Number_of_Tweets'] = df_quest['Tweet_Time']"
   ]
  },
  {
   "cell_type": "code",
   "execution_count": null,
   "id": "b5db7c29",
   "metadata": {},
   "outputs": [],
   "source": [
    "df_quest_small = df_quest[['Cluster_ID', 'Tweet_Date', 'Number_of_Tweets']]"
   ]
  },
  {
   "cell_type": "code",
   "execution_count": null,
   "id": "3b654ce1",
   "metadata": {},
   "outputs": [],
   "source": [
    "df_quest_small['Tweet_Date2' ]= pd.to_datetime(df_quest_small['Tweet_Date'].dt.strftime('%Y-%m'))"
   ]
  },
  {
   "cell_type": "code",
   "execution_count": null,
   "id": "c0fb2137",
   "metadata": {},
   "outputs": [],
   "source": [
    "df_quest_cluster_number = df_quest_small.groupby('Cluster_ID').count().reset_index()"
   ]
  },
  {
   "cell_type": "code",
   "execution_count": null,
   "id": "f901b5a8",
   "metadata": {},
   "outputs": [],
   "source": [
    "interesting_namo_clusters = df_quest_cluster_number.loc[df_quest_cluster_number.Number_of_Tweets > 1].Cluster_ID.tolist()"
   ]
  },
  {
   "cell_type": "code",
   "execution_count": null,
   "id": "3687b082",
   "metadata": {},
   "outputs": [],
   "source": [
    "len(df_namo_full_cluster.groupby('Cluster_ID'))"
   ]
  },
  {
   "cell_type": "code",
   "execution_count": null,
   "id": "bb04526a",
   "metadata": {},
   "outputs": [],
   "source": [
    "len(interesting_namo_clusters)"
   ]
  },
  {
   "cell_type": "code",
   "execution_count": null,
   "id": "dcb3db46",
   "metadata": {},
   "outputs": [],
   "source": [
    "3996 - 253"
   ]
  },
  {
   "cell_type": "code",
   "execution_count": null,
   "id": "0e3dad15",
   "metadata": {},
   "outputs": [],
   "source": [
    "df_quest_small[df_quest_small.Cluster_ID.isin(interesting_namo_clusters)]"
   ]
  },
  {
   "cell_type": "code",
   "execution_count": null,
   "id": "89724fb6",
   "metadata": {},
   "outputs": [],
   "source": [
    "df_quest_small"
   ]
  },
  {
   "cell_type": "code",
   "execution_count": null,
   "id": "c08e3b0a",
   "metadata": {},
   "outputs": [],
   "source": [
    "df_namo_full[df_namo_full.Cluster_ID.isin(interesting_namo_clusters)].sort_values(by = 'Cluster_ID').sample(20)"
   ]
  },
  {
   "cell_type": "code",
   "execution_count": null,
   "id": "6e997565",
   "metadata": {},
   "outputs": [],
   "source": [
    "df_namo_full[df_namo_full.Cluster_ID.isin(interesting_namo_clusters)].groupby('Cluster_ID').count().sort_values(by = 'Tweet_ID').iloc[-40:-30]"
   ]
  },
  {
   "cell_type": "code",
   "execution_count": null,
   "id": "616bc1b7",
   "metadata": {},
   "outputs": [],
   "source": [
    "df_namo_full.loc[df_namo_full.Cluster_ID == 634].sort_values(by = 'Tweet_Time')"
   ]
  },
  {
   "cell_type": "code",
   "execution_count": null,
   "id": "b7c27ff6",
   "metadata": {},
   "outputs": [],
   "source": [
    "df_namo_full[df_namo_full.Cluster_ID.isin(interesting_namo_clusters)].groupby('Cluster_ID').count().sort_values(by = 'Tweet_ID').iloc[-30:-20]"
   ]
  },
  {
   "cell_type": "code",
   "execution_count": null,
   "id": "33548f65",
   "metadata": {},
   "outputs": [],
   "source": []
  },
  {
   "cell_type": "code",
   "execution_count": null,
   "id": "5848bdb7",
   "metadata": {},
   "outputs": [],
   "source": []
  },
  {
   "cell_type": "code",
   "execution_count": null,
   "id": "df2615a3",
   "metadata": {},
   "outputs": [],
   "source": []
  },
  {
   "cell_type": "code",
   "execution_count": null,
   "id": "08311943",
   "metadata": {},
   "outputs": [],
   "source": []
  },
  {
   "cell_type": "code",
   "execution_count": null,
   "id": "2c64304c",
   "metadata": {},
   "outputs": [],
   "source": []
  },
  {
   "cell_type": "code",
   "execution_count": null,
   "id": "a6cbc734",
   "metadata": {},
   "outputs": [],
   "source": [
    "22529-7216"
   ]
  },
  {
   "cell_type": "markdown",
   "id": "a8376b62",
   "metadata": {},
   "source": [
    "# Namo from original clusters"
   ]
  },
  {
   "cell_type": "code",
   "execution_count": null,
   "id": "3b460ab2",
   "metadata": {},
   "outputs": [],
   "source": [
    "df_namo_from_cluster = df_namo_full.Tweet_ID.tolist()"
   ]
  },
  {
   "cell_type": "code",
   "execution_count": null,
   "id": "1994afeb",
   "metadata": {},
   "outputs": [],
   "source": [
    "dfxw_namo = dfxw[dfxw.Tweet_ID.isin(df_namo_from_cluster)]"
   ]
  },
  {
   "cell_type": "code",
   "execution_count": null,
   "id": "8d3db9e8",
   "metadata": {},
   "outputs": [],
   "source": [
    "dfxw_namo"
   ]
  },
  {
   "cell_type": "code",
   "execution_count": null,
   "id": "b1b89ff2",
   "metadata": {},
   "outputs": [],
   "source": [
    "dfssw = dfxw_namo.groupby('Cluster_ID').count().reset_index(drop = False)"
   ]
  },
  {
   "cell_type": "code",
   "execution_count": null,
   "id": "da777efb",
   "metadata": {},
   "outputs": [],
   "source": [
    "dfssw.loc[dfssw.Tweet_ID != 1]"
   ]
  },
  {
   "cell_type": "code",
   "execution_count": null,
   "id": "40768f59",
   "metadata": {},
   "outputs": [],
   "source": [
    "l1= dfxw_namo.Tweet_ID.to_list()\n",
    "l2 =df_namo_full.Tweet_ID.to_list()"
   ]
  },
  {
   "cell_type": "code",
   "execution_count": null,
   "id": "6cffa04d",
   "metadata": {},
   "outputs": [],
   "source": [
    "li = l1 + l2"
   ]
  },
  {
   "cell_type": "code",
   "execution_count": null,
   "id": "ae44de95",
   "metadata": {},
   "outputs": [],
   "source": [
    "df_namo_link_check = df_namo_full.Tweet_URL.str.replace('www.', '')"
   ]
  },
  {
   "cell_type": "code",
   "execution_count": null,
   "id": "000a1418",
   "metadata": {},
   "outputs": [],
   "source": [
    "df_namo_link_check = df_namo_link_check.str.replace('https://', '')"
   ]
  },
  {
   "cell_type": "code",
   "execution_count": null,
   "id": "c01efa67",
   "metadata": {},
   "outputs": [],
   "source": [
    "ew_pd"
   ]
  },
  {
   "cell_type": "code",
   "execution_count": null,
   "id": "97d29f3d",
   "metadata": {},
   "outputs": [],
   "source": [
    "df_namo_link_check = df_namo_link_check.str.split('.')"
   ]
  },
  {
   "cell_type": "code",
   "execution_count": null,
   "id": "ac0534ce",
   "metadata": {},
   "outputs": [],
   "source": [
    "for i in df_namo_link_check:\n",
    "    try:\n",
    "        print(i[0])\n",
    "    except:\n",
    "        continue"
   ]
  },
  {
   "cell_type": "code",
   "execution_count": null,
   "id": "fd9adacf",
   "metadata": {},
   "outputs": [],
   "source": []
  },
  {
   "cell_type": "code",
   "execution_count": null,
   "id": "51d0b7fc",
   "metadata": {},
   "outputs": [],
   "source": []
  },
  {
   "cell_type": "code",
   "execution_count": null,
   "id": "064d4172",
   "metadata": {},
   "outputs": [],
   "source": []
  },
  {
   "cell_type": "code",
   "execution_count": null,
   "id": "a78c1036",
   "metadata": {},
   "outputs": [],
   "source": []
  },
  {
   "cell_type": "code",
   "execution_count": null,
   "id": "969a7a77",
   "metadata": {},
   "outputs": [],
   "source": []
  },
  {
   "cell_type": "code",
   "execution_count": null,
   "id": "b87821ff",
   "metadata": {},
   "outputs": [],
   "source": []
  },
  {
   "cell_type": "code",
   "execution_count": null,
   "id": "20803904",
   "metadata": {},
   "outputs": [],
   "source": []
  },
  {
   "cell_type": "markdown",
   "id": "10b70814",
   "metadata": {},
   "source": [
    "# Analysis"
   ]
  },
  {
   "cell_type": "code",
   "execution_count": null,
   "id": "5ca9f359",
   "metadata": {},
   "outputs": [],
   "source": [
    "dfxw.dtypes"
   ]
  },
  {
   "cell_type": "code",
   "execution_count": null,
   "id": "396062b0",
   "metadata": {},
   "outputs": [],
   "source": [
    "dfxw.Tweet_ID =dfxw.Tweet_ID.astype(str)"
   ]
  },
  {
   "cell_type": "code",
   "execution_count": null,
   "id": "0c6f692f",
   "metadata": {},
   "outputs": [],
   "source": [
    "print(len(dfxw))"
   ]
  },
  {
   "cell_type": "code",
   "execution_count": null,
   "id": "cb6e68d0",
   "metadata": {},
   "outputs": [],
   "source": [
    "df_tweet_lang2"
   ]
  },
  {
   "cell_type": "code",
   "execution_count": null,
   "id": "6d351113",
   "metadata": {},
   "outputs": [],
   "source": [
    "df = pd.merge(df_tweet_lang2,dfxw[['Tweet_ID','Cluster_ID', 'Tweet_Link']], on = 'Tweet_ID' ).sort_values(by = 'Cluster_ID')"
   ]
  },
  {
   "cell_type": "code",
   "execution_count": null,
   "id": "0e5649e2",
   "metadata": {},
   "outputs": [],
   "source": []
  },
  {
   "cell_type": "code",
   "execution_count": null,
   "id": "7476efb7",
   "metadata": {},
   "outputs": [],
   "source": [
    "df['Text_without_Link'] = df['Tweet_Text'].apply(lambda x: re.split('https:\\/\\/.*', str(x))[0])\n",
    "df['Text_without_Link'] = df['Text_without_Link'].apply(lambda x: re.split('http:\\/\\/.*', str(x))[0])\n",
    "df['Text_without_Link'] = df['Text_without_Link'].str.replace('(@\\w+.*?)',\"\")"
   ]
  },
  {
   "cell_type": "code",
   "execution_count": null,
   "id": "915c0d4e",
   "metadata": {},
   "outputs": [],
   "source": [
    "df['Text_Size'] = df.Text_without_Link.apply(lambda x: len(x))"
   ]
  },
  {
   "cell_type": "code",
   "execution_count": null,
   "id": "f83af73e",
   "metadata": {},
   "outputs": [],
   "source": []
  },
  {
   "cell_type": "code",
   "execution_count": null,
   "id": "55fb2797",
   "metadata": {},
   "outputs": [],
   "source": [
    "df.Tweet_Time = pd.to_datetime(df.Tweet_Time, format='%Y-%m-%d %H:%M:%S.%f')\n",
    "df['Date']= df.Tweet_Time.dt.date\n",
    "df['Date']= pd.to_datetime(df.Date, format='%Y-%m-%d')"
   ]
  },
  {
   "cell_type": "code",
   "execution_count": null,
   "id": "3cb6684b",
   "metadata": {},
   "outputs": [],
   "source": [
    "df = df.sort_values(['Cluster_ID', 'Date'], ascending=[True, False])"
   ]
  },
  {
   "cell_type": "code",
   "execution_count": null,
   "id": "2ab492b3",
   "metadata": {},
   "outputs": [],
   "source": [
    "df_cluster_list = df.groupby('Cluster_ID').count().reset_index(drop = False).Cluster_ID.tolist()"
   ]
  },
  {
   "cell_type": "code",
   "execution_count": null,
   "id": "06ff820e",
   "metadata": {},
   "outputs": [],
   "source": [
    "k = 0\n",
    "cl_list = []\n",
    "time_diff_list = []\n",
    "for i in df_cluster_list:\n",
    "    df_cluster_specific = df.loc[df.Cluster_ID == i]\n",
    "    time_diff = df_cluster_specific.iloc[0].Date - df_cluster_specific.iloc[-1].Date\n",
    "    cl_list.append(i)\n",
    "    time_diff_list.append(time_diff)\n",
    "   \n"
   ]
  },
  {
   "cell_type": "code",
   "execution_count": null,
   "id": "33c874cf",
   "metadata": {},
   "outputs": [],
   "source": [
    "df_time_interval = pd.DataFrame({'Cluster_ID': cl_list, 'Time_Interval':time_diff_list})"
   ]
  },
  {
   "cell_type": "code",
   "execution_count": null,
   "id": "9a1b5a58",
   "metadata": {},
   "outputs": [],
   "source": [
    "df_time_interval"
   ]
  },
  {
   "cell_type": "code",
   "execution_count": null,
   "id": "def34c48",
   "metadata": {},
   "outputs": [],
   "source": [
    "df_100 = df[df.Text_Size >= 100]\n",
    "df_150 = df[df.Text_Size >= 150]\n",
    "df_200 = df[df.Text_Size >= 200]"
   ]
  },
  {
   "cell_type": "code",
   "execution_count": null,
   "id": "95bb0e14",
   "metadata": {},
   "outputs": [],
   "source": [
    "df_100_cluster = df_time_interval[df_time_interval.Cluster_ID.isin(df_100.Cluster_ID)]\n",
    "df_150_cluster = df_time_interval[df_time_interval.Cluster_ID.isin(df_150.Cluster_ID)]\n",
    "df_200_cluster = df_time_interval[df_time_interval.Cluster_ID.isin(df_200.Cluster_ID)]"
   ]
  },
  {
   "cell_type": "code",
   "execution_count": null,
   "id": "5b27f736",
   "metadata": {},
   "outputs": [],
   "source": [
    "df_200_cluster"
   ]
  },
  {
   "cell_type": "code",
   "execution_count": null,
   "id": "441651ba",
   "metadata": {},
   "outputs": [],
   "source": [
    "df_100 = df[df.Text_Size >= 100]\n",
    "df_150 = df[df.Text_Size >= 150]\n",
    "df_200 = df[df.Text_Size >= 200]"
   ]
  },
  {
   "cell_type": "code",
   "execution_count": null,
   "id": "15b9012a",
   "metadata": {},
   "outputs": [],
   "source": [
    "df_100.Cluster_ID"
   ]
  },
  {
   "cell_type": "code",
   "execution_count": null,
   "id": "00881ebf",
   "metadata": {},
   "outputs": [],
   "source": [
    "pd.merge(df_100, df_time_interval, on = 'Cluster_ID')"
   ]
  },
  {
   "cell_type": "code",
   "execution_count": null,
   "id": "2ffd6f2d",
   "metadata": {},
   "outputs": [],
   "source": [
    "print(len(df_100))\n",
    "print(len(df_150))\n",
    "print(len(df_200))"
   ]
  },
  {
   "cell_type": "code",
   "execution_count": null,
   "id": "1cc96cfc",
   "metadata": {},
   "outputs": [],
   "source": [
    "print(len(df_100.groupby('Cluster_ID').count()))\n",
    "print(len(df_150.groupby('Cluster_ID').count()))\n",
    "print(len(df_200.groupby('Cluster_ID').count()))"
   ]
  },
  {
   "cell_type": "code",
   "execution_count": null,
   "id": "b2e29f22",
   "metadata": {},
   "outputs": [],
   "source": [
    "df_cl100 = df_100.groupby('Cluster_ID').count()\n",
    "df_cl150 = df_150.groupby('Cluster_ID').count()\n",
    "df_cl200 = df_200.groupby('Cluster_ID').count()"
   ]
  },
  {
   "cell_type": "code",
   "execution_count": null,
   "id": "825059a7",
   "metadata": {},
   "outputs": [],
   "source": []
  },
  {
   "cell_type": "code",
   "execution_count": null,
   "id": "b2736349",
   "metadata": {},
   "outputs": [],
   "source": [
    "df10_cl100 = df_cl100.loc[df_cl100.Tweet_ID >= 10].reset_index(drop = False)\n",
    "df10_cl150 = df_cl150.loc[df_cl150.Tweet_ID >= 10].reset_index(drop = False)\n",
    "df10_cl200 = df_cl200.loc[df_cl200.Tweet_ID >= 10].reset_index(drop = False)"
   ]
  },
  {
   "cell_type": "code",
   "execution_count": null,
   "id": "1ecf3347",
   "metadata": {},
   "outputs": [],
   "source": [
    "print(len(df10_cl100))\n",
    "print(len(df10_cl150))\n",
    "print(len(df10_cl200))"
   ]
  },
  {
   "cell_type": "code",
   "execution_count": null,
   "id": "b9c94b23",
   "metadata": {},
   "outputs": [],
   "source": [
    "df_time_interval_100 = df_time_interval[df_time_interval.Cluster_ID.isin(df10_cl100.Cluster_ID)]\n",
    "df_time_interval_150 = df_time_interval[df_time_interval.Cluster_ID.isin(df10_cl150.Cluster_ID)]\n",
    "df_time_interval_200 = df_time_interval[df_time_interval.Cluster_ID.isin(df10_cl200.Cluster_ID)]\n",
    "print(len(df_time_interval_100))\n",
    "print(len(df_time_interval_150))\n",
    "print(len(df_time_interval_200))"
   ]
  },
  {
   "cell_type": "code",
   "execution_count": null,
   "id": "73a683e8",
   "metadata": {},
   "outputs": [],
   "source": [
    "print(len(df_time_interval_100.loc[df_time_interval_100.Time_Interval >= '7 days']))\n",
    "print(len(df_time_interval_100.loc[df_time_interval_100.Time_Interval >= '15 days']))\n",
    "print(len(df_time_interval_100.loc[df_time_interval_100.Time_Interval >= '30 days']))\n",
    "\n",
    "print(len(df_time_interval_150.loc[df_time_interval_150.Time_Interval >= '7 days']))\n",
    "print(len(df_time_interval_150.loc[df_time_interval_150.Time_Interval >= '15 days']))\n",
    "print(len(df_time_interval_150.loc[df_time_interval_150.Time_Interval >= '30 days']))\n",
    "\n",
    "print(len(df_time_interval_200.loc[df_time_interval_200.Time_Interval >= '7 days']))\n",
    "print(len(df_time_interval_200.loc[df_time_interval_200.Time_Interval >= '15 days']))\n",
    "print(len(df_time_interval_200.loc[df_time_interval_200.Time_Interval >= '30 days']))"
   ]
  },
  {
   "cell_type": "code",
   "execution_count": null,
   "id": "fe4b9701",
   "metadata": {},
   "outputs": [],
   "source": []
  },
  {
   "cell_type": "code",
   "execution_count": null,
   "id": "92ec739f",
   "metadata": {},
   "outputs": [],
   "source": []
  },
  {
   "cell_type": "code",
   "execution_count": null,
   "id": "92d55627",
   "metadata": {},
   "outputs": [],
   "source": []
  },
  {
   "cell_type": "code",
   "execution_count": null,
   "id": "b5151059",
   "metadata": {},
   "outputs": [],
   "source": [
    "df_150.groupby('Media_Type').count()"
   ]
  },
  {
   "cell_type": "code",
   "execution_count": null,
   "id": "c10242e0",
   "metadata": {},
   "outputs": [],
   "source": [
    "df_200.groupby('Media_Type').count()"
   ]
  },
  {
   "cell_type": "code",
   "execution_count": null,
   "id": "6b242da1",
   "metadata": {},
   "outputs": [],
   "source": [
    "df_check = df_time_interval_200.loc[df_time_interval_200.Time_Interval >= '30 days']"
   ]
  },
  {
   "cell_type": "code",
   "execution_count": null,
   "id": "8e5750ef",
   "metadata": {},
   "outputs": [],
   "source": [
    "df.loc[df.Cluster_ID == 4176]"
   ]
  },
  {
   "cell_type": "code",
   "execution_count": null,
   "id": "82a3a4e1",
   "metadata": {},
   "outputs": [],
   "source": [
    "df_check.loc[df_check.Cluster_ID == 2366]"
   ]
  },
  {
   "cell_type": "code",
   "execution_count": null,
   "id": "55071302",
   "metadata": {},
   "outputs": [],
   "source": [
    "check_list = df.loc[df.Cluster_ID == 147].head(1)"
   ]
  },
  {
   "cell_type": "code",
   "execution_count": null,
   "id": "7c7f72f9",
   "metadata": {},
   "outputs": [],
   "source": [
    "check_list"
   ]
  },
  {
   "cell_type": "code",
   "execution_count": null,
   "id": "7e2ccbeb",
   "metadata": {},
   "outputs": [],
   "source": [
    "for i in df_check.Cluster_ID.tolist()[1:]:\n",
    "    check = df.loc[df.Cluster_ID == i].head(1)\n",
    "    check_list = pd.concat([check_list, check])"
   ]
  },
  {
   "cell_type": "code",
   "execution_count": null,
   "id": "fc008db5",
   "metadata": {},
   "outputs": [],
   "source": [
    "check_list.iloc[20:30][['Tweet_Link', 'Date', 'Cluster_ID']]"
   ]
  },
  {
   "cell_type": "code",
   "execution_count": null,
   "id": "f8b016ae",
   "metadata": {},
   "outputs": [],
   "source": []
  },
  {
   "cell_type": "code",
   "execution_count": null,
   "id": "35c50969",
   "metadata": {},
   "outputs": [],
   "source": [
    "df_acc_check2 = pd.read_csv('All_Fake_without_debunkers_Updated.csv')"
   ]
  },
  {
   "cell_type": "code",
   "execution_count": null,
   "id": "d46b7f6b",
   "metadata": {},
   "outputs": [],
   "source": []
  },
  {
   "cell_type": "code",
   "execution_count": null,
   "id": "edcc6dd2",
   "metadata": {},
   "outputs": [],
   "source": [
    "df_acc_check2 = df_acc_check2.drop(columns = ['Unnamed: 0'])"
   ]
  },
  {
   "cell_type": "code",
   "execution_count": null,
   "id": "30a2285d",
   "metadata": {},
   "outputs": [],
   "source": []
  },
  {
   "cell_type": "code",
   "execution_count": null,
   "id": "a7894573",
   "metadata": {},
   "outputs": [],
   "source": [
    "df_duplicate_20 = pd.read_csv('Duplicate_More_Than_20.csv')"
   ]
  },
  {
   "cell_type": "code",
   "execution_count": null,
   "id": "a2af85f8",
   "metadata": {},
   "outputs": [],
   "source": [
    "df_duplicate_20_acc_un = list(set(df_duplicate_20.Acc1.drop_duplicates().tolist())) + list(set(df_duplicate_20.Acc2.drop_duplicates().tolist()))"
   ]
  },
  {
   "cell_type": "code",
   "execution_count": null,
   "id": "02b2ae03",
   "metadata": {},
   "outputs": [],
   "source": [
    "df_duplicate_20_acc_un = list(set(df_duplicate_20_acc_un))"
   ]
  },
  {
   "cell_type": "code",
   "execution_count": null,
   "id": "94ee3837",
   "metadata": {},
   "outputs": [],
   "source": [
    "len(df_duplicate_20_acc_un)"
   ]
  },
  {
   "cell_type": "code",
   "execution_count": null,
   "id": "153fc9ca",
   "metadata": {},
   "outputs": [],
   "source": [
    "df_duplicate_20_nodes = pd.DataFrame({'Label' : df_duplicate_20_acc_un})"
   ]
  },
  {
   "cell_type": "code",
   "execution_count": null,
   "id": "5f516014",
   "metadata": {},
   "outputs": [],
   "source": []
  },
  {
   "cell_type": "code",
   "execution_count": null,
   "id": "7aec62f3",
   "metadata": {},
   "outputs": [],
   "source": []
  },
  {
   "cell_type": "code",
   "execution_count": null,
   "id": "2313b42e",
   "metadata": {},
   "outputs": [],
   "source": []
  },
  {
   "cell_type": "code",
   "execution_count": null,
   "id": "51a47521",
   "metadata": {},
   "outputs": [],
   "source": [
    "df_duplicate_20.Acc1.iloc[0]"
   ]
  },
  {
   "cell_type": "code",
   "execution_count": null,
   "id": "3965e608",
   "metadata": {},
   "outputs": [],
   "source": [
    "source = []\n",
    "target = []\n",
    "dir_type = []"
   ]
  },
  {
   "cell_type": "code",
   "execution_count": null,
   "id": "388f62bd",
   "metadata": {},
   "outputs": [],
   "source": [
    "for i in range(0,len(df_duplicate_20)):\n",
    "    source.append(df_duplicate_20_nodes.loc[df_duplicate_20_nodes.Label == df_duplicate_20.Acc1.iloc[i]].index[0])\n",
    "    target.append(df_duplicate_20_nodes.loc[df_duplicate_20_nodes.Label == df_duplicate_20.Acc2.iloc[i]].index[0])\n",
    "    dir_type.append('Undirected')"
   ]
  },
  {
   "cell_type": "code",
   "execution_count": null,
   "id": "bfab4434",
   "metadata": {},
   "outputs": [],
   "source": [
    "df_edges= pd.DataFrame({'Source': source, 'Target': target, 'Type':dir_type})"
   ]
  },
  {
   "cell_type": "code",
   "execution_count": null,
   "id": "1352f4b0",
   "metadata": {},
   "outputs": [],
   "source": []
  },
  {
   "cell_type": "code",
   "execution_count": null,
   "id": "62c94506",
   "metadata": {},
   "outputs": [],
   "source": [
    "df_edges.loc[df_edges.Target == 359]"
   ]
  },
  {
   "cell_type": "code",
   "execution_count": null,
   "id": "55b3b47f",
   "metadata": {},
   "outputs": [],
   "source": [
    "df_edges"
   ]
  },
  {
   "cell_type": "code",
   "execution_count": null,
   "id": "ef9177fb",
   "metadata": {},
   "outputs": [],
   "source": [
    "df_100[df_100.Cluster_ID.isin(df10_cl100.Cluster_ID.to_list())].groupby('Tweet_Source').count()"
   ]
  },
  {
   "cell_type": "code",
   "execution_count": null,
   "id": "b21020c6",
   "metadata": {},
   "outputs": [],
   "source": [
    "df10_cl100.Cluster_ID.to_list()"
   ]
  },
  {
   "cell_type": "markdown",
   "id": "c97cca85",
   "metadata": {},
   "source": [
    "# Cluster Timeline Analysis"
   ]
  },
  {
   "cell_type": "code",
   "execution_count": null,
   "id": "2bdefdbf",
   "metadata": {},
   "outputs": [],
   "source": [
    "dfxw = dfxw.sort_values(by = ['Cluster_ID', 'Tweet_ID'], ascending = [True, False]).reset_index(drop = True)"
   ]
  },
  {
   "cell_type": "code",
   "execution_count": null,
   "id": "4e6c588b",
   "metadata": {},
   "outputs": [],
   "source": []
  },
  {
   "cell_type": "code",
   "execution_count": null,
   "id": "19ce8efa",
   "metadata": {},
   "outputs": [],
   "source": [
    "dfxw['DateTime'] =  pd.to_datetime(dfxw['Tweet_Time'])"
   ]
  },
  {
   "cell_type": "code",
   "execution_count": null,
   "id": "41eca40b",
   "metadata": {},
   "outputs": [],
   "source": [
    "dfxw['Date'] = dfxw['DateTime'].dt.date"
   ]
  },
  {
   "cell_type": "code",
   "execution_count": null,
   "id": "f7fffe86",
   "metadata": {},
   "outputs": [],
   "source": []
  },
  {
   "cell_type": "code",
   "execution_count": null,
   "id": "6c17b23c",
   "metadata": {},
   "outputs": [],
   "source": [
    "cluster_length = dfxw.drop_duplicates('Cluster_ID')"
   ]
  },
  {
   "cell_type": "code",
   "execution_count": null,
   "id": "f448fa4e",
   "metadata": {},
   "outputs": [],
   "source": [
    "cluster_list = cluster_length.Cluster_ID.to_list()"
   ]
  },
  {
   "cell_type": "code",
   "execution_count": null,
   "id": "471128fe",
   "metadata": {},
   "outputs": [],
   "source": [
    "cluster_size = len(dfxw.loc[dfxw.Cluster_ID == 0].Date)"
   ]
  },
  {
   "cell_type": "code",
   "execution_count": null,
   "id": "8550f598",
   "metadata": {},
   "outputs": [],
   "source": [
    "a = dfxw.loc[dfxw.Cluster_ID == 0].Date.reset_index(drop = True)\n",
    "new = a[0] - a[cluster_size - 1]"
   ]
  },
  {
   "cell_type": "code",
   "execution_count": null,
   "id": "55c1a1d1",
   "metadata": {},
   "outputs": [],
   "source": [
    "cluster_date_diff = pd.DataFrame(columns = {'Cluster_ID', 'Date_Diff'})"
   ]
  },
  {
   "cell_type": "code",
   "execution_count": null,
   "id": "db016a01",
   "metadata": {},
   "outputs": [],
   "source": [
    "cluster_date_diff = cluster_date_diff.rename(columns = {'Date_Diff' : 'Cluster_ID', 'Cluster_ID':'Date_Diff'})"
   ]
  },
  {
   "cell_type": "code",
   "execution_count": null,
   "id": "13ec0439",
   "metadata": {},
   "outputs": [],
   "source": [
    "cluster_date_diff.loc[0] = 0, new "
   ]
  },
  {
   "cell_type": "code",
   "execution_count": null,
   "id": "88e12b17",
   "metadata": {},
   "outputs": [],
   "source": [
    "cluster_date_diff "
   ]
  },
  {
   "cell_type": "code",
   "execution_count": null,
   "id": "d537500c",
   "metadata": {},
   "outputs": [],
   "source": [
    "k = 1\n",
    "for i in cluster_list[1:]:\n",
    "    cluster_size = len(dfxw.loc[dfxw.Cluster_ID == i].Date)\n",
    "    a = dfxw.loc[dfxw.Cluster_ID == i].Date.reset_index(drop = True)\n",
    "    date_diff = a[0] - a[cluster_size - 1]\n",
    "    cluster_date_diff.loc[k] = i, date_diff\n",
    "    k = k+1\n",
    "    "
   ]
  },
  {
   "cell_type": "code",
   "execution_count": null,
   "id": "aa9cf086",
   "metadata": {},
   "outputs": [],
   "source": [
    "cluster_date_diff.to_csv('Cluster_Interval.csv')"
   ]
  },
  {
   "cell_type": "code",
   "execution_count": null,
   "id": "37598923",
   "metadata": {},
   "outputs": [],
   "source": [
    "cluster_date_diff['Date_Diff_Int'] = cluster_date_diff['Date_Diff'].dt.days.astype(int)"
   ]
  },
  {
   "cell_type": "code",
   "execution_count": null,
   "id": "4c8e0c28",
   "metadata": {},
   "outputs": [],
   "source": [
    "cluster_date_diff.Date_Diff_Int = cluster_date_diff['Date_Diff_Int'].abs()"
   ]
  },
  {
   "cell_type": "code",
   "execution_count": null,
   "id": "b5420344",
   "metadata": {},
   "outputs": [],
   "source": [
    "cluster_date_diff.sort_values(by = 'Date_Diff_Int')"
   ]
  },
  {
   "cell_type": "code",
   "execution_count": null,
   "id": "c588d606",
   "metadata": {},
   "outputs": [],
   "source": [
    "cluster_date_diff.Date_Diff_Int = cluster_date_diff.Date_Diff_Int + 1"
   ]
  },
  {
   "cell_type": "code",
   "execution_count": null,
   "id": "c46f3611",
   "metadata": {},
   "outputs": [],
   "source": [
    "cluster_date_diff['cdf'] = cluster_date_diff.Date_Diff_Int.rank(method = 'average', pct = True)"
   ]
  },
  {
   "cell_type": "code",
   "execution_count": null,
   "id": "dee4b1f8",
   "metadata": {},
   "outputs": [],
   "source": [
    "len(cluster_date_diff.loc[cluster_date_diff.Date_Diff_Int < 365])/len(cluster_date_diff)"
   ]
  },
  {
   "cell_type": "code",
   "execution_count": null,
   "id": "656032a5",
   "metadata": {},
   "outputs": [],
   "source": [
    "cluster_date_diff.Date_Diff_Int.max()/(365/4)"
   ]
  },
  {
   "cell_type": "code",
   "execution_count": null,
   "id": "1b3b0442",
   "metadata": {},
   "outputs": [],
   "source": [
    "ax = cluster_date_diff.Date_Diff_Int.plot(kind = 'hist', logy=True,bins=34)\n",
    "ax.set(xticks=([0, 365, 365*2, 365*3, 365*4, 365*5, 365*6, 365*7, 365*8, 365*9]))"
   ]
  },
  {
   "cell_type": "code",
   "execution_count": null,
   "id": "173fe2e4",
   "metadata": {},
   "outputs": [],
   "source": []
  },
  {
   "cell_type": "code",
   "execution_count": null,
   "id": "1f1464b5",
   "metadata": {},
   "outputs": [],
   "source": [
    "sns.set_style(\"whitegrid\", {\"grid.color\": \".95\"})\n",
    "sns.set_context(\"paper\", font_scale = 1.2)\n",
    "g = sns.displot(data=cluster_date_diff, x=\"Date_Diff_Int\", kind=\"hist\", bins = 34, aspect = 1.2, log = True,)\n",
    "g.set(xticks=np.arange(0,3285,365))\n",
    "g.set(xlabel =\"Time interval in days\", ylabel = \"Number of clusters\",)\n",
    "Time_Interval_values = cluster_date_diff[\"Date_Diff_Int\"].values"
   ]
  },
  {
   "cell_type": "code",
   "execution_count": null,
   "id": "d11f9313",
   "metadata": {},
   "outputs": [],
   "source": [
    "from matplotlib.font_manager import fontManager, FontProperties\n"
   ]
  },
  {
   "cell_type": "code",
   "execution_count": null,
   "id": "c9e26a4b",
   "metadata": {},
   "outputs": [],
   "source": [
    "f = Fitter(Time_Interval_values,\n",
    "           distributions=['gamma',\n",
    "                          'lognorm',\n",
    "                          \"beta\",\n",
    "                          \"burr\",\n",
    "                          \"norm\",\n",
    "                          \"halflogistic\"]\n",
    "          )\n",
    "f.fit()\n",
    "f.summary()"
   ]
  },
  {
   "cell_type": "code",
   "execution_count": null,
   "id": "3e89efc7",
   "metadata": {},
   "outputs": [],
   "source": []
  },
  {
   "cell_type": "code",
   "execution_count": null,
   "id": "5de4c4e7",
   "metadata": {},
   "outputs": [],
   "source": [
    "f.get_best(method = 'sumsquare_error')"
   ]
  },
  {
   "cell_type": "code",
   "execution_count": null,
   "id": "b3132a80",
   "metadata": {},
   "outputs": [],
   "source": [
    "ax3 = cluster_date_diff.Date_Diff_Int.plot(kind=\"hist\", bins=10)\n",
    "ax3.set_xlabel(\"Time Interval in days\")"
   ]
  },
  {
   "cell_type": "code",
   "execution_count": null,
   "id": "a33d268d",
   "metadata": {},
   "outputs": [],
   "source": [
    "cluster_date_diff.describe()"
   ]
  },
  {
   "cell_type": "code",
   "execution_count": null,
   "id": "9f5f511d",
   "metadata": {},
   "outputs": [],
   "source": [
    "cluster_date_diff.loc[cluster_date_diff.Date_Diff_Int >= 365]"
   ]
  },
  {
   "cell_type": "code",
   "execution_count": null,
   "id": "5da71396",
   "metadata": {},
   "outputs": [],
   "source": [
    "cluster_date_diff.sort_values('Date_Diff_Int').plot(x = 'Date_Diff_Int', y = 'cdf', legend = False,  xlabel = 'Time Interval', ylabel = 'Fraction of Clusters')"
   ]
  },
  {
   "cell_type": "code",
   "execution_count": null,
   "id": "298bb7b3",
   "metadata": {},
   "outputs": [],
   "source": [
    "cluster_date_diff.loc[cluster_date_diff.Date_Diff_Int > 365]"
   ]
  },
  {
   "cell_type": "code",
   "execution_count": null,
   "id": "605737d4",
   "metadata": {},
   "outputs": [],
   "source": [
    "cluster_date_diff.Date_Diff_Int.describe()"
   ]
  },
  {
   "cell_type": "code",
   "execution_count": null,
   "id": "b518b656",
   "metadata": {},
   "outputs": [],
   "source": [
    "dfxw.groupby('Cluster_ID').count().reset_index(drop = False).describe()"
   ]
  },
  {
   "cell_type": "markdown",
   "id": "b5daad72",
   "metadata": {},
   "source": [
    "# Character/Word Analysis"
   ]
  },
  {
   "cell_type": "code",
   "execution_count": null,
   "id": "cb684241",
   "metadata": {},
   "outputs": [],
   "source": [
    "df_tweet_lang2[df_tweet_lang2.Tweet_ID.isin(dfxw.Tweet_ID.tolist())]"
   ]
  },
  {
   "cell_type": "code",
   "execution_count": null,
   "id": "d6e45182",
   "metadata": {},
   "outputs": [],
   "source": [
    "df_character = pd.merge(df_tweet_lang2, dfxw, on = 'Tweet_ID')"
   ]
  },
  {
   "cell_type": "code",
   "execution_count": null,
   "id": "cbbb8262",
   "metadata": {},
   "outputs": [],
   "source": [
    "df_character.columns"
   ]
  },
  {
   "cell_type": "code",
   "execution_count": null,
   "id": "d1f3f1e6",
   "metadata": {},
   "outputs": [],
   "source": [
    "df_character['Text_without_Link'] = df_character['Tweet_Text'].apply(lambda x: re.split('https:\\/\\/.*', str(x))[0])\n",
    "df_character['Text_without_Link'] = df_character['Text_without_Link'].apply(lambda x: re.split('http:\\/\\/.*', str(x))[0])\n",
    "df_character['Text_without_Link'] = df_character['Text_without_Link'].str.replace('(@\\w+.*?)',\"\")"
   ]
  },
  {
   "cell_type": "code",
   "execution_count": null,
   "id": "600fcc52",
   "metadata": {},
   "outputs": [],
   "source": [
    "df_character['Text_Size'] = df_character.Text_without_Link.apply(lambda x: len(x))"
   ]
  },
  {
   "cell_type": "code",
   "execution_count": null,
   "id": "08e8e87d",
   "metadata": {},
   "outputs": [],
   "source": [
    "df_character.loc[df_character.Text_Size <= 280]"
   ]
  },
  {
   "cell_type": "code",
   "execution_count": null,
   "id": "25c3aa3b",
   "metadata": {},
   "outputs": [],
   "source": [
    "df_character['Text_Size'].describe()"
   ]
  },
  {
   "cell_type": "code",
   "execution_count": null,
   "id": "b7724f22",
   "metadata": {},
   "outputs": [],
   "source": []
  },
  {
   "cell_type": "code",
   "execution_count": null,
   "id": "0246e20b",
   "metadata": {},
   "outputs": [],
   "source": [
    "bx = df_character.Text_Size.plot.hist(bins=100)"
   ]
  },
  {
   "cell_type": "code",
   "execution_count": null,
   "id": "741b3eb6",
   "metadata": {},
   "outputs": [],
   "source": [
    "df_character2 = df_character"
   ]
  },
  {
   "cell_type": "code",
   "execution_count": null,
   "id": "66f7cfd9",
   "metadata": {},
   "outputs": [],
   "source": [
    "df_character2['Text_without_Link'] = df_character2['Text_without_Link'].str.strip()\n",
    "df_character2['Text_Size'] = df_character2.Text_without_Link.apply(lambda x: len(x))"
   ]
  },
  {
   "cell_type": "code",
   "execution_count": null,
   "id": "6114d740",
   "metadata": {},
   "outputs": [],
   "source": [
    "df_character2['word_count'] =  df_character2['Text_without_Link'].str.split().str.len()"
   ]
  },
  {
   "cell_type": "code",
   "execution_count": null,
   "id": "18c0cda6",
   "metadata": {},
   "outputs": [],
   "source": [
    "df_character2_filter = df_character2.loc[df_character2.Text_Size >= 20]"
   ]
  },
  {
   "cell_type": "code",
   "execution_count": null,
   "id": "ddd58f44",
   "metadata": {},
   "outputs": [],
   "source": []
  },
  {
   "cell_type": "code",
   "execution_count": null,
   "id": "86d25806",
   "metadata": {},
   "outputs": [],
   "source": [
    "cx = df_character2_filter.loc[df_character2_filter.Text_Size <= 280].word_count.plot.hist(bins=40)"
   ]
  },
  {
   "cell_type": "code",
   "execution_count": null,
   "id": "80a90ffd",
   "metadata": {},
   "outputs": [],
   "source": [
    "df_cluster_char = df_character2_filter.groupby('Cluster_ID').mean().reset_index(drop = False)\n",
    "df_cluster_char = df_cluster_char.loc[df_cluster_char.Text_Size <= 280]"
   ]
  },
  {
   "cell_type": "code",
   "execution_count": null,
   "id": "19a4e626",
   "metadata": {},
   "outputs": [],
   "source": [
    "77/37"
   ]
  },
  {
   "cell_type": "code",
   "execution_count": null,
   "id": "8074fdcf",
   "metadata": {},
   "outputs": [],
   "source": [
    "dfxw.loc[dfxw.Cluster_ID == 336]"
   ]
  },
  {
   "cell_type": "code",
   "execution_count": null,
   "id": "105fef16",
   "metadata": {},
   "outputs": [],
   "source": [
    "df_cluster_char['charPerWord']=df_cluster_char.Text_Size / df_cluster_char.word_count"
   ]
  },
  {
   "cell_type": "code",
   "execution_count": null,
   "id": "3744d51c",
   "metadata": {},
   "outputs": [],
   "source": [
    "df_cluster_char.loc[df_cluster_char.charPerWord > 10]"
   ]
  },
  {
   "cell_type": "code",
   "execution_count": null,
   "id": "c391e69d",
   "metadata": {},
   "outputs": [],
   "source": [
    "df_cluster_char.loc[df_cluster_char.Text_Size >= 203].describe()"
   ]
  },
  {
   "cell_type": "code",
   "execution_count": null,
   "id": "73883d82",
   "metadata": {},
   "outputs": [],
   "source": [
    "df_cluster_char.describe()"
   ]
  },
  {
   "cell_type": "code",
   "execution_count": null,
   "id": "3d39982e",
   "metadata": {},
   "outputs": [],
   "source": [
    "cx2 = df_cluster_char.loc[df_cluster_char.Text_Size <= 280].Text_Size.plot.hist(bins=20)"
   ]
  },
  {
   "cell_type": "code",
   "execution_count": null,
   "id": "8891da1b",
   "metadata": {},
   "outputs": [],
   "source": [
    "sns.set_style(\"whitegrid\", {\"grid.color\": \".95\"})\n",
    "sns.set_context(\"paper\", font_scale = 1.2)\n",
    "g2 = sns.displot(data=df_cluster_char, x=\"Text_Size\", kind=\"hist\", bins = 24, aspect = 1.2, log = False,)\n",
    "g2.set(xlabel =\"Average character length\", ylabel = \"Number of clusters\",)\n"
   ]
  },
  {
   "cell_type": "code",
   "execution_count": null,
   "id": "74d30014",
   "metadata": {},
   "outputs": [],
   "source": [
    "cx2 = df_cluster_char.charPerWord.plot.hist(bins=100)"
   ]
  },
  {
   "cell_type": "code",
   "execution_count": null,
   "id": "52f6d472",
   "metadata": {},
   "outputs": [],
   "source": [
    "df_cluster_char.Text_Size.tolist()"
   ]
  },
  {
   "cell_type": "code",
   "execution_count": null,
   "id": "fb592605",
   "metadata": {},
   "outputs": [],
   "source": [
    "f2 = Fitter(df_cluster_char.Text_Size.tolist(),\n",
    "           distributions=['gamma',\n",
    "                          'lognorm',\n",
    "                          \"beta\",\n",
    "                          \"burr\",\n",
    "                          \"norm\",]\n",
    "          )\n",
    "f2.fit()\n",
    "f2.summary()"
   ]
  },
  {
   "cell_type": "code",
   "execution_count": null,
   "id": "75644120",
   "metadata": {},
   "outputs": [],
   "source": [
    "f3 = Fitter(df_cluster_char.word_count.tolist(),\n",
    "           distributions=['gamma',\n",
    "                          'lognorm',\n",
    "                          \"beta\",\n",
    "                          \"burr\",\n",
    "                          \"norm\",]\n",
    "          )\n",
    "f3.fit()\n",
    "f3.summary()"
   ]
  },
  {
   "cell_type": "code",
   "execution_count": null,
   "id": "af0e0c78",
   "metadata": {},
   "outputs": [],
   "source": [
    "cx3 = df_cluster_char.loc[df_cluster_char.Text_Size <= 280].word_count.plot.hist(bins=20)"
   ]
  },
  {
   "cell_type": "code",
   "execution_count": null,
   "id": "8af3759d",
   "metadata": {},
   "outputs": [],
   "source": [
    "sns.set_style(\"whitegrid\", {\"grid.color\": \".95\"})\n",
    "sns.set_context(\"paper\", font_scale = 1.2)\n",
    "g2 = sns.displot(data=df_cluster_char, x=\"word_count\", kind=\"hist\", bins = 24, aspect = 1.2, log = False,)\n",
    "g2.set(xlabel =\"Average number of words\", ylabel = \"Number of clusters\",)\n"
   ]
  },
  {
   "cell_type": "code",
   "execution_count": null,
   "id": "4cf1edf1",
   "metadata": {},
   "outputs": [],
   "source": [
    "df_character2_filter.loc[df_character2_filter.Text_Size <= 280].word_count.describe()"
   ]
  },
  {
   "cell_type": "code",
   "execution_count": null,
   "id": "a8c4356d",
   "metadata": {},
   "outputs": [],
   "source": [
    "df_character2_filter.word_count.describe()"
   ]
  },
  {
   "cell_type": "code",
   "execution_count": null,
   "id": "a946494d",
   "metadata": {},
   "outputs": [],
   "source": [
    "dx = df_character2_filter.loc[df_character2_filter.Text_Size <= 280].Text_Size.plot.hist(bins=100)"
   ]
  },
  {
   "cell_type": "code",
   "execution_count": null,
   "id": "d2d4f421",
   "metadata": {},
   "outputs": [],
   "source": [
    "df_character2_filter.loc[df_character2_filter.Text_Size <= 280].Text_Size.describe()"
   ]
  },
  {
   "cell_type": "code",
   "execution_count": null,
   "id": "f0cfe45c",
   "metadata": {},
   "outputs": [],
   "source": [
    "df_character2_filter.Text_Size.describe()"
   ]
  },
  {
   "cell_type": "code",
   "execution_count": null,
   "id": "674b880d",
   "metadata": {},
   "outputs": [],
   "source": [
    "df_character2_filter"
   ]
  },
  {
   "cell_type": "code",
   "execution_count": null,
   "id": "229748bb",
   "metadata": {},
   "outputs": [],
   "source": [
    "df_character2_filter['cdf_text'] = df_character2_filter.loc[df_character2_filter.Text_Size <= 280].Text_Size.rank(method = 'average', pct = True)"
   ]
  },
  {
   "cell_type": "code",
   "execution_count": null,
   "id": "d0285a69",
   "metadata": {},
   "outputs": [],
   "source": [
    "df_character2_filter['cdf_word'] = df_character2_filter.loc[df_character2_filter.Text_Size <= 280].word_count.rank(method = 'average', pct = True)"
   ]
  },
  {
   "cell_type": "code",
   "execution_count": null,
   "id": "148d7d3f",
   "metadata": {},
   "outputs": [],
   "source": [
    "df_character2_filter.sort_values('Text_Size').plot(x = 'Text_Size', y = 'cdf_text', legend = False, xlim = [10,300], xlabel = 'Number of Characters', ylabel = 'Fraction of Posts')"
   ]
  },
  {
   "cell_type": "code",
   "execution_count": null,
   "id": "9afd5be8",
   "metadata": {},
   "outputs": [],
   "source": [
    "df_character2_filter.sort_values('word_count').plot(x = 'word_count', y = 'cdf_word', legend = False, xlabel = 'Number of Words', ylabel = 'Fraction of Posts')"
   ]
  },
  {
   "cell_type": "markdown",
   "id": "bc33e0a2",
   "metadata": {},
   "source": [
    "# Multimedia Analysis"
   ]
  },
  {
   "cell_type": "code",
   "execution_count": null,
   "id": "8e216098",
   "metadata": {},
   "outputs": [],
   "source": [
    "df_multimedia = df_character.dropna(subset=['Media_Type'])"
   ]
  },
  {
   "cell_type": "code",
   "execution_count": null,
   "id": "c254c011",
   "metadata": {},
   "outputs": [],
   "source": [
    "df_multimedia.groupby('Cluster_ID').count()"
   ]
  },
  {
   "cell_type": "code",
   "execution_count": null,
   "id": "3a87cf25",
   "metadata": {},
   "outputs": [],
   "source": [
    "df_multimedia.drop_duplicates('Cluster_ID').groupby('Media_Type').count()"
   ]
  },
  {
   "cell_type": "markdown",
   "id": "fff1f22b",
   "metadata": {},
   "source": [
    "# Cluster Basic"
   ]
  },
  {
   "cell_type": "code",
   "execution_count": null,
   "id": "c25f08fc",
   "metadata": {},
   "outputs": [],
   "source": [
    "dfxw.groupby('Cluster_ID').count().reset_index(drop = False).describe()"
   ]
  },
  {
   "cell_type": "code",
   "execution_count": null,
   "id": "92d566e3",
   "metadata": {},
   "outputs": [],
   "source": [
    "dfxw.groupby('Cluster_ID').count().reset_index(drop = False)"
   ]
  },
  {
   "cell_type": "code",
   "execution_count": null,
   "id": "4a59755e",
   "metadata": {},
   "outputs": [],
   "source": [
    "dfxw2 = dfxw.groupby('Cluster_ID').count().reset_index(drop = False)"
   ]
  },
  {
   "cell_type": "code",
   "execution_count": null,
   "id": "b84bd390",
   "metadata": {},
   "outputs": [],
   "source": [
    "dfxw2['Tweet_in_Cluster'] = dfxw2.Tweet_ID.rank(method = 'average', pct = True)"
   ]
  },
  {
   "cell_type": "code",
   "execution_count": null,
   "id": "1a457d6f",
   "metadata": {},
   "outputs": [],
   "source": [
    "len(dfxw2.loc[dfxw2.Tweet_ID <10])/len(dfxw2)"
   ]
  },
  {
   "cell_type": "code",
   "execution_count": null,
   "id": "f9a4a83a",
   "metadata": {},
   "outputs": [],
   "source": [
    "sx = dfxw2.Tweet_ID.plot.hist(bins = 40, logy = True)"
   ]
  },
  {
   "cell_type": "code",
   "execution_count": null,
   "id": "2286cd81",
   "metadata": {},
   "outputs": [],
   "source": [
    "dfxw2.sort_values('Tweet_ID').plot(x = 'Tweet_ID', y = 'Tweet_in_Cluster', legend = False, xlabel = 'Number of Tweets', ylabel = 'Fraction of Clusters',)"
   ]
  },
  {
   "cell_type": "code",
   "execution_count": null,
   "id": "bb45a821",
   "metadata": {},
   "outputs": [],
   "source": [
    "dfxw2"
   ]
  },
  {
   "cell_type": "code",
   "execution_count": null,
   "id": "eba8155d",
   "metadata": {},
   "outputs": [],
   "source": [
    "dfxw.groupby('Cluster_ID').count().reset_index(drop = False).loc[dfxw.groupby('Cluster_ID').count().reset_index(drop = False).Tweet_ID >= 10]"
   ]
  },
  {
   "cell_type": "code",
   "execution_count": null,
   "id": "45389f32",
   "metadata": {},
   "outputs": [],
   "source": [
    "dfxw.groupby('Cluster_ID').count().reset_index(drop = False)"
   ]
  },
  {
   "cell_type": "code",
   "execution_count": null,
   "id": "e4a4945d",
   "metadata": {},
   "outputs": [],
   "source": [
    "df.columns"
   ]
  },
  {
   "cell_type": "code",
   "execution_count": null,
   "id": "8b15aea5",
   "metadata": {},
   "outputs": [],
   "source": [
    "df_tweet_lang2"
   ]
  },
  {
   "cell_type": "code",
   "execution_count": null,
   "id": "e99afaff",
   "metadata": {},
   "outputs": [],
   "source": []
  }
 ],
 "metadata": {
  "kernelspec": {
   "display_name": "Python 3 (ipykernel)",
   "language": "python",
   "name": "python3"
  },
  "language_info": {
   "codemirror_mode": {
    "name": "ipython",
    "version": 3
   },
   "file_extension": ".py",
   "mimetype": "text/x-python",
   "name": "python",
   "nbconvert_exporter": "python",
   "pygments_lexer": "ipython3",
   "version": "3.9.13"
  }
 },
 "nbformat": 4,
 "nbformat_minor": 5
}
