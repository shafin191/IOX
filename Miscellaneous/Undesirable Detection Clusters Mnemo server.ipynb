{
 "cells": [
  {
   "cell_type": "code",
   "execution_count": null,
   "id": "a3838bb3",
   "metadata": {},
   "outputs": [],
   "source": [
    "import pandas as pd\n",
    "import time\n",
    "import pickle\n",
    "import glob\n",
    "import datetime\n",
    "import numpy as np\n",
    "import csv\n",
    "import re\n",
    "from time import strftime\n",
    "import os\n",
    "import statistics\n",
    "from statistics import mode\n",
    "pd.set_option('display.max_colwidth', None)"
   ]
  },
  {
   "cell_type": "code",
   "execution_count": null,
   "id": "9abfc78d",
   "metadata": {},
   "outputs": [],
   "source": [
    "df_cluster_tweet =  pd.read_csv(\"Latest_Tweet_Fake_Spreader_Tweets.csv\", lineterminator='\\n', dtype=str)\n",
    "df_account = pd.read_csv('All_Fake_without_debunkers_Updated.csv')"
   ]
  },
  {
   "cell_type": "code",
   "execution_count": null,
   "id": "4a50521f",
   "metadata": {},
   "outputs": [],
   "source": [
    "df_alt_report = pd.read_csv('/disk/mnemo/users/randomuser/SBERT All Embedding/ML Model Data/AltNews/AltNews_Report_Cluster_Model_data_Updated.csv')"
   ]
  },
  {
   "cell_type": "code",
   "execution_count": null,
   "id": "73ba8318",
   "metadata": {},
   "outputs": [],
   "source": [
    "df_cluster_classification = pd.read_csv('Cluster_Prediction.csv')\n",
    "df_cluster_classification.Tweet_ID = df_cluster_classification.Tweet_ID.astype('str')"
   ]
  },
  {
   "cell_type": "code",
   "execution_count": null,
   "id": "3dc47e65",
   "metadata": {},
   "outputs": [],
   "source": [
    "df_cluster_tweet_mod = pd.merge(df_cluster_classification[['Cluster_ID', 'Tweet_ID', 'Tweet_Link', 'Prediction2']],df_cluster_tweet)"
   ]
  },
  {
   "cell_type": "code",
   "execution_count": null,
   "id": "68f63242",
   "metadata": {},
   "outputs": [],
   "source": [
    "df_cluster_tweet_mod = df_cluster_tweet_mod.drop(columns = ['Prediction2', 'Unnamed: 0.1','Unnamed: 0', 'Retweet\\r'], axis = 1)"
   ]
  },
  {
   "cell_type": "code",
   "execution_count": null,
   "id": "27129446",
   "metadata": {},
   "outputs": [],
   "source": [
    "df_cluster_tweet_mod.to_csv('Cluster_Tweet_Final.csv')"
   ]
  },
  {
   "cell_type": "code",
   "execution_count": null,
   "id": "661f731d",
   "metadata": {},
   "outputs": [],
   "source": [
    "df_hate_id = [4611,13784,24160,28866,28967,29776,\n",
    " 30653,34869,37671,39597,40080,45935,47807,49567,\n",
    " 49573,51222,51509,51665,56469,56667,67060,68518,79716,88796,90599,100047,101804,103635,109389,109815,112395,\n",
    " 120138,120780,122624,122786,124526,149229,149229,150641,150641,150641,151279,156058]"
   ]
  },
  {
   "cell_type": "code",
   "execution_count": null,
   "id": "d51ea11c",
   "metadata": {},
   "outputs": [],
   "source": [
    "df_hate_id_string = map(str, df_hate_id)"
   ]
  },
  {
   "cell_type": "code",
   "execution_count": null,
   "id": "36608e92",
   "metadata": {},
   "outputs": [],
   "source": [
    "len(df_cluster_tweet_mod[df_cluster_tweet_mod.Cluster_ID.isin(df_hate_id)].groupby('Cluster_ID').count()"
   ]
  },
  {
   "cell_type": "markdown",
   "id": "12c6daaf",
   "metadata": {},
   "source": [
    "# Basic Features"
   ]
  },
  {
   "cell_type": "code",
   "execution_count": null,
   "id": "5b815a62",
   "metadata": {},
   "outputs": [],
   "source": [
    "df_cluster_report = df_cluster_tweet_mod.groupby('Cluster_ID').count().reset_index()[['Cluster_ID', 'Tweet_ID']]"
   ]
  },
  {
   "cell_type": "code",
   "execution_count": null,
   "id": "824bca6b",
   "metadata": {},
   "outputs": [],
   "source": [
    "df_cluster_report.loc[df_cluster_report.Cluster_ID == 4611] "
   ]
  },
  {
   "cell_type": "code",
   "execution_count": null,
   "id": "022d7de2",
   "metadata": {},
   "outputs": [],
   "source": [
    "df_cluster_report = df_cluster_report.rename(columns = {'Tweet_ID': 'Number_of_copies'})"
   ]
  },
  {
   "cell_type": "code",
   "execution_count": null,
   "id": "0d9e5b83",
   "metadata": {},
   "outputs": [],
   "source": [
    "df_cluster_tweet_mod.Total_Hashtags = df_cluster_tweet_mod.Total_Hashtags.astype('int')\n",
    "df_cluster_tweet_mod.Retweet_Count = df_cluster_tweet_mod.Retweet_Count.astype('int')\n",
    "df_cluster_tweet_mod.Favorite_Count = df_cluster_tweet_mod.Favorite_Count.astype('int')"
   ]
  },
  {
   "cell_type": "code",
   "execution_count": null,
   "id": "a48726ba",
   "metadata": {},
   "outputs": [],
   "source": []
  },
  {
   "cell_type": "code",
   "execution_count": null,
   "id": "893a70d4",
   "metadata": {},
   "outputs": [],
   "source": [
    "df_cluster_report_sum = df_cluster_tweet_mod.groupby('Cluster_ID').sum().reset_index()"
   ]
  },
  {
   "cell_type": "code",
   "execution_count": null,
   "id": "53660d6a",
   "metadata": {},
   "outputs": [],
   "source": [
    "df_cluster_report = pd.merge(df_cluster_report,df_cluster_report_sum )"
   ]
  },
  {
   "cell_type": "code",
   "execution_count": null,
   "id": "14e4cd9c",
   "metadata": {},
   "outputs": [],
   "source": [
    "df_cluster_tweet_mod.Tweet_Time = pd.to_datetime(df_cluster_tweet_mod.Tweet_Time, format='%Y-%m-%d')"
   ]
  },
  {
   "cell_type": "code",
   "execution_count": null,
   "id": "04421310",
   "metadata": {},
   "outputs": [],
   "source": [
    "df_cluster_tweet_mod['Tweet_Date']= df_cluster_tweet_mod.Tweet_Time.dt.date"
   ]
  },
  {
   "cell_type": "code",
   "execution_count": null,
   "id": "7a9ab50c",
   "metadata": {},
   "outputs": [],
   "source": [
    "df_cluster_tweet_mod = df_cluster_tweet_mod.sort_values(by = ['Cluster_ID', 'Tweet_Date'], ascending=[True, False])"
   ]
  },
  {
   "cell_type": "code",
   "execution_count": null,
   "id": "c96f5773",
   "metadata": {},
   "outputs": [],
   "source": [
    "df_cluster_tweet_mod_cluster_id_list = list(set(df_cluster_tweet_mod.Cluster_ID.tolist()))"
   ]
  },
  {
   "cell_type": "code",
   "execution_count": null,
   "id": "6fe24ca1",
   "metadata": {},
   "outputs": [],
   "source": [
    "df_cluster_tweet_mod['Link_Count'] = df_cluster_tweet_mod['Tweet_Text'].str.count('https://')\n",
    "df_cluster_tweet_mod['Hashtags_Count'] = df_cluster_tweet_mod['Tweet_Text'].str.count('#')\n",
    "df_cluster_tweet_mod['Mention_Count'] = df_cluster_tweet_mod['Tweet_Text'].str.count('@')"
   ]
  },
  {
   "cell_type": "code",
   "execution_count": null,
   "id": "269ce990",
   "metadata": {},
   "outputs": [],
   "source": [
    "df_cluster_tweet_mod"
   ]
  },
  {
   "cell_type": "code",
   "execution_count": null,
   "id": "87a0609b",
   "metadata": {},
   "outputs": [],
   "source": [
    "df_cluster_report"
   ]
  },
  {
   "cell_type": "code",
   "execution_count": null,
   "id": "a60f02db",
   "metadata": {},
   "outputs": [],
   "source": [
    "import requests\n",
    "g = 0\n",
    "for index1,row1 in df_cluster_report.iterrows():\n",
    "\n",
    "    df_specific = df_cluster_tweet_mod.loc[df_cluster_tweet_mod.Cluster_ID == row1.Cluster_ID]\n",
    "    df_specific = df_specific.reset_index(drop = True)\n",
    "    date_diff = df_specific.Tweet_Date[0] - df_specific.Tweet_Date[len(df_specific)-1]\n",
    "    \n",
    "    df_cluster_report.loc[index1, 'Time_Difference'] = date_diff\n",
    "    df_cluster_report.loc[index1, 'Number_of_copies'] = len(df_specific)\n",
    "    \n",
    "    df_cluster_report.loc[index1, 'RT_Max'] = df_specific.Retweet_Count.max()\n",
    "    df_cluster_report.loc[index1, 'RT_Min'] = df_specific.Retweet_Count.min()\n",
    "    df_cluster_report.loc[index1, 'RT_Mean'] = df_specific.Retweet_Count.mean()\n",
    "    df_cluster_report.loc[index1, 'RT_Median'] = df_specific.Retweet_Count.median()\n",
    "    df_cluster_report.loc[index1, 'RT_SD'] = df_specific.Retweet_Count.std()\n",
    "    \n",
    "    df_cluster_report.loc[index1, 'Like_Max'] = df_specific.Favorite_Count.max()\n",
    "    df_cluster_report.loc[index1, 'Like_Min'] = df_specific.Favorite_Count.min()\n",
    "    df_cluster_report.loc[index1, 'Like_Mean'] = df_specific.Favorite_Count.mean()\n",
    "    df_cluster_report.loc[index1, 'Like_Median'] = df_specific.Favorite_Count.median()\n",
    "    df_cluster_report.loc[index1, 'Like_SD'] = df_specific.Favorite_Count.std()\n",
    "    \n",
    "    hashtags = []\n",
    "    for index, row in df_specific.iterrows():\n",
    "        hashtags.extend(re.findall(r\"#\\w+\", row[\"Tweet_Text\"]))\n",
    "    \n",
    "\n",
    "    total_hashtags = len(hashtags)\n",
    "    unique_hashtags = len(list(set(hashtags)))\n",
    "    df_cluster_report.loc[index1, 'Unique_Hashtags'] = unique_hashtags\n",
    "    \n",
    "    \n",
    "    link = df_specific.Tweet_Text.str.extract(r\"(https?://[^\\s]+)\")\n",
    "    link_dropna = link.dropna()\n",
    "    total_link = len(link_dropna)\n",
    "    df_cluster_report.loc[index1, 'Total_Links'] = total_link\n",
    "    \n"
   ]
  },
  {
   "cell_type": "code",
   "execution_count": null,
   "id": "7670270d",
   "metadata": {},
   "outputs": [],
   "source": [
    "df_cluster_report.Time_Difference = (df_cluster_report.Time_Difference.astype(int)/ 86400000000000).astype(int) + 1"
   ]
  },
  {
   "cell_type": "code",
   "execution_count": null,
   "id": "404b2dd3",
   "metadata": {},
   "outputs": [],
   "source": [
    "df_cluster_report"
   ]
  },
  {
   "cell_type": "code",
   "execution_count": null,
   "id": "97f2e246",
   "metadata": {},
   "outputs": [],
   "source": [
    "len(link_dropna)"
   ]
  },
  {
   "cell_type": "code",
   "execution_count": null,
   "id": "289bc9ad",
   "metadata": {},
   "outputs": [],
   "source": [
    "df_cluster_report.columns"
   ]
  },
  {
   "cell_type": "code",
   "execution_count": null,
   "id": "7f1fa59b",
   "metadata": {},
   "outputs": [],
   "source": [
    "df_alt_report.columns"
   ]
  },
  {
   "cell_type": "code",
   "execution_count": null,
   "id": "fd7d3eaf",
   "metadata": {},
   "outputs": [],
   "source": [
    "for index1,row1 in df_cluster_report.iterrows():\n",
    "    df_specific = df_cluster_tweet_mod.loc[df_cluster_tweet_mod.Cluster_ID == row1.Cluster_ID]\n",
    "    df_cluster_report.loc[index1, 'Number_of_Tweet_Lang'] = len(list(set(df_specific.Tweet_Lang.to_list())))\n",
    "    df_cluster_report.loc[index1, 'Tweet_Lang'] = ','.join(list(set(df_specific.Tweet_Lang.to_list())))"
   ]
  },
  {
   "cell_type": "code",
   "execution_count": null,
   "id": "a0c0f7c4",
   "metadata": {},
   "outputs": [],
   "source": [
    "df_cluster_report.loc[df_cluster_report.Number_of_Tweet_Lang > 1]"
   ]
  },
  {
   "cell_type": "code",
   "execution_count": null,
   "id": "74fc2214",
   "metadata": {},
   "outputs": [],
   "source": [
    "pd.read_csv('/disk/mnemo/users/randomuser/SBERT All Embedding/ML Model Data/AltNews/AltNews_Report_Cluster_Model_data_Updated.csv')"
   ]
  },
  {
   "cell_type": "code",
   "execution_count": null,
   "id": "09edce62",
   "metadata": {},
   "outputs": [],
   "source": [
    "df_cluster_report.to_csv('/disk/mnemo/users/randomuser/SBERT All Embedding/ML Model Data/AltNews/Cluster_Model_data.csv', index = False)"
   ]
  },
  {
   "cell_type": "code",
   "execution_count": null,
   "id": "b13d0406",
   "metadata": {},
   "outputs": [],
   "source": [
    "df_cluster_tweet_mod.to_csv('/disk/mnemo/users/randomuser/SBERT All Embedding/ML Model Data/AltNews/Cluster_Model_Tweet.csv', index = False)"
   ]
  },
  {
   "cell_type": "markdown",
   "id": "bb6be377",
   "metadata": {},
   "source": [
    "# Sentiment Genre Perspective"
   ]
  },
  {
   "cell_type": "code",
   "execution_count": null,
   "id": "388a4c13",
   "metadata": {},
   "outputs": [],
   "source": [
    "df_cluster_sentiment_genre = pd.read_csv('Sentiment_Genre.csv')\n",
    "df_cluster_sentiment_genre = df_cluster_sentiment_genre.drop(columns = 'Unnamed: 0')\n",
    "df_cluster_perspective = pd.read_csv('Perspective_API_Result_All.csv')"
   ]
  },
  {
   "cell_type": "code",
   "execution_count": null,
   "id": "5cdb005e",
   "metadata": {},
   "outputs": [],
   "source": [
    "df_cluster_sentiment_genre"
   ]
  },
  {
   "cell_type": "code",
   "execution_count": null,
   "id": "5e4784d6",
   "metadata": {},
   "outputs": [],
   "source": [
    "df_cluster_perspective_pers"
   ]
  },
  {
   "cell_type": "code",
   "execution_count": null,
   "id": "bf9f6f38",
   "metadata": {},
   "outputs": [],
   "source": [
    "df_cluster_perspective_pers = df_cluster_perspective[['Cluster_ID', 'Toxic', 'Severe_Toxic','Profanity','Identity_Attack','Insult','Threat']]"
   ]
  },
  {
   "cell_type": "code",
   "execution_count": null,
   "id": "49d3d29f",
   "metadata": {},
   "outputs": [],
   "source": [
    "df_cluster_perspective_pers = df_cluster_perspective_pers.dropna()"
   ]
  },
  {
   "cell_type": "code",
   "execution_count": null,
   "id": "c6edd035",
   "metadata": {},
   "outputs": [],
   "source": [
    "df_cluster_perspective_pers.Cluster_ID = df_cluster_perspective_pers.Cluster_ID.astype('int')"
   ]
  },
  {
   "cell_type": "code",
   "execution_count": null,
   "id": "48964977",
   "metadata": {},
   "outputs": [],
   "source": [
    "df_cluster_perspective_pers= df_cluster_perspective_pers[df_cluster_perspective_pers['Toxic'] >= 0]"
   ]
  },
  {
   "cell_type": "code",
   "execution_count": null,
   "id": "3cda45e2",
   "metadata": {},
   "outputs": [],
   "source": [
    "df_cluster_sentiment_genre"
   ]
  },
  {
   "cell_type": "code",
   "execution_count": null,
   "id": "a10b5ca2",
   "metadata": {},
   "outputs": [],
   "source": [
    "df_cluster_text_based = pd.merge(df_cluster_sentiment_genre, df_cluster_perspective_pers, on = 'Cluster_ID')"
   ]
  },
  {
   "cell_type": "code",
   "execution_count": null,
   "id": "ba09fe1f",
   "metadata": {},
   "outputs": [],
   "source": [
    "df_cluster_text_based "
   ]
  },
  {
   "cell_type": "code",
   "execution_count": null,
   "id": "7ab60f1b",
   "metadata": {},
   "outputs": [],
   "source": [
    "df_cluster_report = pd.merge(df_cluster_report, df_cluster_text_based, on = 'Cluster_ID')"
   ]
  },
  {
   "cell_type": "code",
   "execution_count": null,
   "id": "e690be5e",
   "metadata": {},
   "outputs": [],
   "source": [
    "df_cluster_report.to_csv('/disk/mnemo/users/randomuser/SBERT All Embedding/ML Model Data/AltNews/Cluster_Model_data.csv', index = False)"
   ]
  },
  {
   "cell_type": "code",
   "execution_count": null,
   "id": "6a0dd7c7",
   "metadata": {},
   "outputs": [],
   "source": [
    "df_alt_report.columns"
   ]
  },
  {
   "cell_type": "code",
   "execution_count": null,
   "id": "c23e0a40",
   "metadata": {},
   "outputs": [],
   "source": [
    "df_cluster_tweet_mod"
   ]
  },
  {
   "cell_type": "code",
   "execution_count": null,
   "id": "24fda75e",
   "metadata": {},
   "outputs": [],
   "source": [
    "df_cluster_report"
   ]
  },
  {
   "cell_type": "code",
   "execution_count": null,
   "id": "7fcef2a2",
   "metadata": {},
   "outputs": [],
   "source": [
    "df_cluster_tweet_mod.Tweet_Time = pd.to_datetime(df_cluster_tweet_mod.Tweet_Time)"
   ]
  },
  {
   "cell_type": "code",
   "execution_count": null,
   "id": "d06d11e6",
   "metadata": {},
   "outputs": [],
   "source": [
    "df_cluster_tweet_mod['Tweet_Date_Only'] = df_cluster_tweet_mod.Tweet_Time.dt.date"
   ]
  },
  {
   "cell_type": "code",
   "execution_count": null,
   "id": "d4dba0a1",
   "metadata": {},
   "outputs": [],
   "source": [
    "df_cluster_tweet_mod['Tweet_Month_Only'] = pd.to_datetime(df_cluster_tweet_mod['Tweet_Date_Only']).dt.strftime('%m-%Y')"
   ]
  },
  {
   "cell_type": "code",
   "execution_count": null,
   "id": "61a4b681",
   "metadata": {},
   "outputs": [],
   "source": [
    "df_account = pd.read_csv('All_Fake_without_debunkers_Updated.csv')"
   ]
  },
  {
   "cell_type": "code",
   "execution_count": null,
   "id": "0a823f15",
   "metadata": {},
   "outputs": [],
   "source": []
  },
  {
   "cell_type": "code",
   "execution_count": null,
   "id": "28d978aa",
   "metadata": {},
   "outputs": [],
   "source": [
    "df_cluster_tweet_mod.User_ID = df_cluster_tweet_mod.User_ID.astype('int')"
   ]
  },
  {
   "cell_type": "code",
   "execution_count": null,
   "id": "1b7a1827",
   "metadata": {},
   "outputs": [],
   "source": [
    "df_cluster_tweet_mod2 = pd.merge(df_cluster_tweet_mod, df_account[['User_ID', 'verification']], how = 'left')"
   ]
  },
  {
   "cell_type": "code",
   "execution_count": null,
   "id": "8e7e1163",
   "metadata": {},
   "outputs": [],
   "source": [
    "set(df_cluster_tweet_mod2.verification.tolist())"
   ]
  },
  {
   "cell_type": "code",
   "execution_count": null,
   "id": "97978783",
   "metadata": {},
   "outputs": [],
   "source": [
    "def loc_soc(df):\n",
    "    df = df.assign(is_verified=0)\n",
    "    df.loc[df['verification'] == 'Verified', 'is_verified'] = 1\n",
    "    return df\n",
    "df_cluster_tweet_mod2 = loc_soc(df_cluster_tweet_mod2)"
   ]
  },
  {
   "cell_type": "code",
   "execution_count": null,
   "id": "7d6db22b",
   "metadata": {},
   "outputs": [],
   "source": [
    "df_cluster_tweet_mod2.Tweet_Date_Only = pd.to_datetime(df_cluster_tweet_mod2['Tweet_Date_Only'])"
   ]
  },
  {
   "cell_type": "code",
   "execution_count": null,
   "id": "65a5f268",
   "metadata": {
    "scrolled": true
   },
   "outputs": [],
   "source": [
    "for index1,row1 in df_cluster_report.iterrows():\n",
    "    df_specific = df_cluster_tweet_mod2.loc[df_cluster_tweet_mod2.Cluster_ID == row1.Cluster_ID]\n",
    "    df_specific = df_specific.sort_values(by = 'Tweet_Time', ascending = False)\n",
    "    \n",
    "    weekly_spike_count = (df_specific.groupby('Cluster_ID').resample('W', on='Tweet_Date_Only', origin= 'start').count())\n",
    "    bi_weekly_spike_count = (df_specific.groupby('Cluster_ID').resample('2W', on='Tweet_Date_Only', origin= 'start').count())\n",
    "    monthly_spike_count = (df_specific.groupby('Cluster_ID').resample('M', on='Tweet_Date_Only', origin= 'start').count())\n",
    "    \n",
    "    weekly_spike_sum = (df_specific.groupby('Cluster_ID').resample('W', on='Tweet_Date_Only', origin= 'start').sum())\n",
    "    bi_weekly_spike_sum = (df_specific.groupby('Cluster_ID').resample('2W', on='Tweet_Date_Only', origin= 'start').sum())\n",
    "    monthly_spike_sum = (df_specific.groupby('Cluster_ID').resample('M', on='Tweet_Date_Only', origin= 'start').sum())\n",
    "    \n",
    "    \n",
    "    weekly_spike = weekly_spike_count.loc[weekly_spike_count.Tweet_ID > 0]\n",
    "    bi_weekly_spike = bi_weekly_spike_count.loc[bi_weekly_spike_count.Tweet_ID > 0]\n",
    "    monthly_spike = monthly_spike_count.loc[monthly_spike_count.Tweet_ID > 0]\n",
    "    \n",
    "    weekly_ver_spike = weekly_spike_sum.loc[weekly_spike_sum.is_verified > 0]\n",
    "    bi_weekly_ver_spike = bi_weekly_spike_sum.loc[bi_weekly_spike_sum.is_verified > 0]\n",
    "    monthly_ver_spike = monthly_spike_sum.loc[monthly_spike_sum.is_verified > 0]\n",
    "    \n",
    "    df_cluster_report.loc[index1, 'Total_Weekly_Spike'] = len(weekly_spike_count)\n",
    "    df_cluster_report.loc[index1, 'Total_BiWeekly_Spike'] = len(bi_weekly_spike_count)\n",
    "    df_cluster_report.loc[index1, 'Total_Monthly_Spike'] = len(monthly_spike_count)\n",
    "    \n",
    "    df_cluster_report.loc[index1, 'Weekly_Largest_Spike'] = weekly_spike.Tweet_ID.max()\n",
    "    df_cluster_report.loc[index1, 'BiWeekly_Largest_Spike'] = bi_weekly_spike.Tweet_ID.max()\n",
    "    df_cluster_report.loc[index1, 'Monthly_Largest_Spike'] = monthly_spike.Tweet_ID.max()\n",
    "    \n",
    "    df_cluster_report.loc[index1, 'Weekly_Verified_Spike'] = len(weekly_ver_spike)\n",
    "    df_cluster_report.loc[index1, 'BiWeekly_Verified_Spike'] = len(bi_weekly_ver_spike)\n",
    "    df_cluster_report.loc[index1, 'Monthly_Verified_Spike'] = len(monthly_ver_spike)\n",
    "    \n",
    "    df_cluster_report.loc[index1, 'Total_Verified'] = sum(df_specific.is_verified)\n",
    "    \n",
    "    \n",
    "    "
   ]
  },
  {
   "cell_type": "code",
   "execution_count": null,
   "id": "03bb5d78",
   "metadata": {},
   "outputs": [],
   "source": [
    "df_cluster_report"
   ]
  },
  {
   "cell_type": "code",
   "execution_count": null,
   "id": "ad3b0fd6",
   "metadata": {},
   "outputs": [],
   "source": [
    "df_cluster_report.to_csv('/disk/mnemo/users/randomuser/SBERT All Embedding/ML Model Data/AltNews/Cluster_Model_data.csv', index = False)"
   ]
  },
  {
   "cell_type": "code",
   "execution_count": null,
   "id": "a6a324a9",
   "metadata": {},
   "outputs": [],
   "source": [
    "df_cluster_report"
   ]
  },
  {
   "cell_type": "markdown",
   "id": "d9c23aac",
   "metadata": {},
   "source": [
    "# Account Based Features"
   ]
  },
  {
   "cell_type": "code",
   "execution_count": null,
   "id": "a81e268c",
   "metadata": {},
   "outputs": [],
   "source": [
    "df_modularity = pd.read_csv('Modularity_Class.csv')"
   ]
  },
  {
   "cell_type": "code",
   "execution_count": null,
   "id": "f68de419",
   "metadata": {},
   "outputs": [],
   "source": [
    "df_modularity['User_ID'] = df_modularity['Label']"
   ]
  },
  {
   "cell_type": "code",
   "execution_count": null,
   "id": "0936214a",
   "metadata": {},
   "outputs": [],
   "source": [
    "df_modularity[['User_ID', 'modularity_class']]"
   ]
  },
  {
   "cell_type": "code",
   "execution_count": null,
   "id": "a87ead07",
   "metadata": {},
   "outputs": [],
   "source": [
    "df_account[['User_ID', 'acc_type', 'party','Political', 'category', 'Influencer']]"
   ]
  },
  {
   "cell_type": "code",
   "execution_count": null,
   "id": "8d766c9a",
   "metadata": {},
   "outputs": [],
   "source": [
    "df_duplicator_info = pd.merge(df_modularity[['User_ID', 'modularity_class']], df_account[['User_ID', 'acc_type', 'party','Political', 'category', 'Influencer']])"
   ]
  },
  {
   "cell_type": "code",
   "execution_count": null,
   "id": "5b0d4af4",
   "metadata": {},
   "outputs": [],
   "source": [
    "df_duplicator_info"
   ]
  },
  {
   "cell_type": "code",
   "execution_count": null,
   "id": "21ebbead",
   "metadata": {},
   "outputs": [],
   "source": [
    "df_pol_available = pd.merge(df_cluster_tweet_mod2, df_account[['User_ID', 'party','Political', 'category', 'Influencer']])"
   ]
  },
  {
   "cell_type": "code",
   "execution_count": null,
   "id": "6fcd5d62",
   "metadata": {},
   "outputs": [],
   "source": [
    "df_pol_available "
   ]
  },
  {
   "cell_type": "code",
   "execution_count": null,
   "id": "5d6aa2bf",
   "metadata": {},
   "outputs": [],
   "source": [
    "for index1,row1 in df_cluster_report.iterrows():\n",
    "    df_specific = df_pol_available.loc[df_pol_available.Cluster_ID == row1.Cluster_ID]\n",
    "    df_specific = df_specific.sort_values(by = 'Tweet_Time', ascending = False)\n",
    "    \n",
    "    df_specific_duplicator_info = df_duplicator_info[df_duplicator_info.User_ID.isin(df_specific.User_ID)]\n",
    "    df_merged_dup_info =  pd.merge(df_specific, df_specific_duplicator_info, on = ['User_ID', 'party'])\n",
    "    \n",
    "    df_specific_pol = df_specific.loc[df_specific.Political == 'Political']\n",
    "    df_specific_bjp = df_specific.loc[df_specific.party == 'BJP']\n",
    "    df_specific_inc = df_specific.loc[df_specific.party == 'INC']\n",
    "    df_specific_influ = df_specific.loc[df_specific.Influencer == 'Influencer']\n",
    "    \n",
    "    df_cluster_report.loc[index1, 'Total_Political_Accounts'] = len(df_specific_pol)\n",
    "    df_cluster_report.loc[index1,'Total_BJP_Accounts'] = len(df_specific_bjp)\n",
    "    df_cluster_report.loc[index1,'Total_INC_Accounts'] = len(df_specific_inc)\n",
    "    df_cluster_report.loc[index1,'Total_Influencer_Accounts'] = len(df_specific_inc)\n",
    "    \n",
    "    number_of_duplicator_clusters = len(df_specific_duplicator_info.groupby('modularity_class').count())\n",
    "    number_of_duplicator_accounts = len(df_specific_duplicator_info)\n",
    "    \n",
    "    duplicator_clusters_max = df_specific_duplicator_info.groupby('modularity_class').count().max().User_ID\n",
    "    duplicator_clusters_with_verified = len(df_specific_duplicator_info.loc[df_specific_duplicator_info.acc_type == 'Verified'].groupby('modularity_class').count())\n",
    "    duplicator_clusters_with_political = len(df_specific_duplicator_info.loc[df_specific_duplicator_info.Political == 'Political'].groupby('modularity_class').count())\n",
    "    duplicator_clusters_with_bjp = len(df_specific_duplicator_info.loc[df_specific_duplicator_info.party == 'BJP'].groupby('modularity_class').count())\n",
    "    duplicator_clusters_with_inc = len(df_specific_duplicator_info.loc[df_specific_duplicator_info.party == 'INC'].groupby('modularity_class').count())\n",
    "\n",
    "    duplicator_clusters_with_bjp_count = len(df_merged_dup_info.loc[df_merged_dup_info.party == 'BJP'])\n",
    "    duplicator_clusters_with_inc_count = len(df_merged_dup_info.loc[df_merged_dup_info.party == 'INC'])\n",
    "    \n",
    "    df_cluster_report.loc[index1, 'Number_of_Duplicator_Account_Clusters'] = number_of_duplicator_clusters\n",
    "    df_cluster_report.loc[index1,'Number_of_Duplicator_Accounts'] = number_of_duplicator_accounts\n",
    "    df_cluster_report.loc[index1,'Number_of_Duplicator_Accounts_with_BJP'] = duplicator_clusters_with_bjp_count\n",
    "    df_cluster_report.loc[index1,'Number_of_Duplicator_Accounts_with_INC'] = duplicator_clusters_with_inc_count\n",
    "    \n",
    "    df_cluster_report.loc[index1,'Maximum_Duplicator_Account_Cluster_Size'] = duplicator_clusters_max\n",
    "    df_cluster_report.loc[index1,'Number_of_Duplicator_Account_Clusters_with_Verified'] = duplicator_clusters_with_verified\n",
    "    df_cluster_report.loc[index1,'Number_of_Duplicator_Account_Clusters_with_Political'] = duplicator_clusters_with_political\n",
    "    df_cluster_report.loc[index1,'Number_of_Duplicator_Account_Clusters_with_BJP'] = duplicator_clusters_with_bjp\n",
    "    df_cluster_report.loc[index1,'Number_of_Duplicator_Account_Clusters_with_INC'] = duplicator_clusters_with_inc\n",
    "    \n",
    "    \n",
    "    "
   ]
  },
  {
   "cell_type": "code",
   "execution_count": null,
   "id": "32c2133d",
   "metadata": {},
   "outputs": [],
   "source": [
    "df_cluster_report"
   ]
  },
  {
   "cell_type": "code",
   "execution_count": null,
   "id": "7bed5cf9",
   "metadata": {},
   "outputs": [],
   "source": [
    "df_cluster_report.to_csv('/disk/mnemo/users/randomuser/SBERT All Embedding/ML Model Data/AltNews/Cluster_Model_data.csv', index = False)"
   ]
  },
  {
   "cell_type": "code",
   "execution_count": null,
   "id": "73bfe1a7",
   "metadata": {},
   "outputs": [],
   "source": [
    "df_cluster_report.columns"
   ]
  },
  {
   "cell_type": "code",
   "execution_count": null,
   "id": "f023b44b",
   "metadata": {},
   "outputs": [],
   "source": [
    "df_cluster_report.loc[(df_cluster_report.label == 'positive') &\n",
    "                     (df_cluster_report.score > 0.7) &\n",
    "                     (df_cluster_report.Number_of_copies  >= 10)]"
   ]
  },
  {
   "cell_type": "code",
   "execution_count": null,
   "id": "06a51156",
   "metadata": {},
   "outputs": [],
   "source": [
    "df_cluster_report"
   ]
  },
  {
   "cell_type": "code",
   "execution_count": null,
   "id": "ac7f6cd6",
   "metadata": {},
   "outputs": [],
   "source": [
    "df_cluster_tweet_mod2['Text_without_Link'] = df_cluster_tweet_mod2['Tweet_Text'].apply(lambda x: re.split('https:\\/\\/.*', str(x))[0])\n",
    "df_cluster_tweet_mod2['Text_without_Link']=df_cluster_tweet_mod2['Text_without_Link'].str.replace('(@\\w+.*?)',\"\")\n",
    "df_cluster_tweet_mod2['Link_Count'] = df_cluster_tweet_mod2['Tweet_Text'].str.count('https://')\n",
    "df_cluster_tweet_mod2['Hashtags_Count'] = df_cluster_tweet_mod2['Tweet_Text'].str.count('#')\n",
    "df_cluster_tweet_mod2['Mention_Count'] = df_cluster_tweet_mod2['Tweet_Text'].str.count('@')\n",
    "df_cluster_tweet_mod2['Count_Char']=df_cluster_tweet_mod2['Text_without_Link'].str.len()\n",
    "df_cluster_tweet_mod2['Count_Word']= df_cluster_tweet_mod2['Text_without_Link'].str.split().str.len()"
   ]
  },
  {
   "cell_type": "code",
   "execution_count": null,
   "id": "73f29254",
   "metadata": {},
   "outputs": [],
   "source": [
    "df_cluster_tweet_mod2"
   ]
  },
  {
   "cell_type": "code",
   "execution_count": null,
   "id": "4504554b",
   "metadata": {},
   "outputs": [],
   "source": [
    "for index1,row1 in df_cluster_report.iterrows():\n",
    "    df_specific = df_cluster_tweet_mod2.loc[df_cluster_tweet_mod2.Cluster_ID == row1.Cluster_ID]\n",
    "    df_specific = df_specific.sort_values(by = 'Tweet_Time', ascending = False)\n",
    "    \n",
    "    df_cluster_report.loc[index1,'Mean_Character'] = df_specific.Count_Char.mean()\n",
    "    df_cluster_report.loc[index1,'Mean_Word'] = df_specific.Count_Word.mean()\n",
    "    df_cluster_report.loc[index1,'Median_Character'] = df_specific.Count_Char.median()\n",
    "    df_cluster_report.loc[index1,'Median_Word'] = df_specific.Count_Word.median()\n",
    "    df_cluster_report.loc[index1,'Total_Link'] = df_specific.Link_Count.sum()\n",
    "    df_cluster_report.loc[index1,'Total_Hashtag'] = df_specific.Hashtags_Count.sum()\n",
    "    df_cluster_report.loc[index1,'Total_Mention'] = df_specific.Mention_Count.sum()"
   ]
  },
  {
   "cell_type": "code",
   "execution_count": null,
   "id": "fa080842",
   "metadata": {},
   "outputs": [],
   "source": [
    "df_cluster_report.to_csv('/disk/mnemo/users/randomuser/SBERT All Embedding/ML Model Data/AltNews/Cluster_Model_data.csv', index = False)"
   ]
  }
 ],
 "metadata": {
  "kernelspec": {
   "display_name": "Python 3 (ipykernel)",
   "language": "python",
   "name": "python3"
  },
  "language_info": {
   "codemirror_mode": {
    "name": "ipython",
    "version": 3
   },
   "file_extension": ".py",
   "mimetype": "text/x-python",
   "name": "python",
   "nbconvert_exporter": "python",
   "pygments_lexer": "ipython3",
   "version": "3.9.13"
  }
 },
 "nbformat": 4,
 "nbformat_minor": 5
}
