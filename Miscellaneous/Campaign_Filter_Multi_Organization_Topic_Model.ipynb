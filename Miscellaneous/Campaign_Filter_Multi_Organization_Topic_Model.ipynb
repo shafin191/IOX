{
 "cells": [
  {
   "cell_type": "code",
   "execution_count": null,
   "id": "16a3dcab",
   "metadata": {},
   "outputs": [],
   "source": [
    "import pandas as pd\n",
    "import matplotlib as plt\n",
    "import numpy as np\n",
    "pd.set_option('display.max_colwidth', None)\n",
    "pd.set_option('display.max_columns', 10)\n",
    "pd.set_option('display.max_rows', 50)"
   ]
  },
  {
   "cell_type": "code",
   "execution_count": null,
   "id": "0beca103",
   "metadata": {},
   "outputs": [],
   "source": [
    "user_community = pd.read_csv('User_SubCommunity_Map.csv')\n",
    "user_camp = pd.read_csv('Acc_Campaign_Map.csv')\n"
   ]
  },
  {
   "cell_type": "code",
   "execution_count": null,
   "id": "bdbde74a",
   "metadata": {},
   "outputs": [],
   "source": [
    "df_cluster = pd.read_csv('Cluster_Tweet_Final.csv')"
   ]
  },
  {
   "cell_type": "code",
   "execution_count": null,
   "id": "afe5379f",
   "metadata": {},
   "outputs": [],
   "source": [
    "df_account = pd.read_csv('All_Fake_without_debunkers_Updated.csv')"
   ]
  },
  {
   "cell_type": "code",
   "execution_count": null,
   "id": "caa0f267",
   "metadata": {},
   "outputs": [],
   "source": [
    "import re\n",
    "def remove_twitter_mentions(text):\n",
    "    return re.sub(r'@\\w+', '', text)\n",
    "\n",
    "def remove_links(text):\n",
    "    return re.sub(r'http\\S+', '', text)"
   ]
  },
  {
   "cell_type": "code",
   "execution_count": null,
   "id": "9224499b",
   "metadata": {},
   "outputs": [],
   "source": [
    "df_cluster_small = df_cluster[['Cluster_ID', 'Tweet_ID', 'Tweet_Text']]"
   ]
  },
  {
   "cell_type": "code",
   "execution_count": null,
   "id": "edbc8e6d",
   "metadata": {},
   "outputs": [],
   "source": [
    "df_cluster_small['Refied_Text'] = df_cluster_small.Tweet_Text.apply(remove_twitter_mentions)\n",
    "df_cluster_small['Refied_Text'] = df_cluster_small.Refied_Text.apply(remove_links)"
   ]
  },
  {
   "cell_type": "code",
   "execution_count": null,
   "id": "f87ebad3",
   "metadata": {},
   "outputs": [],
   "source": [
    "docs = df_cluster_small['Refied_Text'].tolist()"
   ]
  },
  {
   "cell_type": "code",
   "execution_count": null,
   "id": "0c26d973",
   "metadata": {},
   "outputs": [],
   "source": [
    "df_cluster_small.sample(20)"
   ]
  },
  {
   "cell_type": "code",
   "execution_count": null,
   "id": "5bef7b8f",
   "metadata": {},
   "outputs": [],
   "source": [
    "from bertopic.representation import KeyBERTInspired\n",
    "from bertopic import BERTopic\n",
    "from hdbscan import HDBSCAN\n",
    "\n",
    "hdbscan_model = HDBSCAN(min_cluster_size=2, metric='euclidean', \n",
    "                        cluster_selection_method='eom', prediction_data=True, min_samples=2)\n",
    "representation_model = KeyBERTInspired()\n",
    "topic_model = BERTopic(representation_model=representation_model, language=\"multilingual\", hdbscan_model=hdbscan_model)"
   ]
  },
  {
   "cell_type": "code",
   "execution_count": null,
   "id": "fdce71ea",
   "metadata": {},
   "outputs": [],
   "source": [
    "topics, probs = topic_model.fit_transform(docs)"
   ]
  },
  {
   "cell_type": "code",
   "execution_count": null,
   "id": "0fd9c8b5",
   "metadata": {},
   "outputs": [],
   "source": [
    "topic_model.get_topic_info().iloc[1:11].to_csv('Sample_Topic.csv', index = False)"
   ]
  },
  {
   "cell_type": "code",
   "execution_count": null,
   "id": "3a0d1e69",
   "metadata": {},
   "outputs": [],
   "source": [
    "topics"
   ]
  },
  {
   "cell_type": "code",
   "execution_count": null,
   "id": "fef99d77",
   "metadata": {},
   "outputs": [],
   "source": [
    "probs"
   ]
  },
  {
   "cell_type": "code",
   "execution_count": null,
   "id": "a5e9262f",
   "metadata": {},
   "outputs": [],
   "source": [
    "df_cluster_small['Topic_ID'] = topics\n",
    "df_cluster_small['Topic_Prob'] = probs"
   ]
  },
  {
   "cell_type": "code",
   "execution_count": null,
   "id": "9d04cb0f",
   "metadata": {},
   "outputs": [],
   "source": [
    "df_cluster_small.to_csv('All_Cluster_Tweet_Topic.csv', index = False)"
   ]
  },
  {
   "cell_type": "code",
   "execution_count": null,
   "id": "c065470b",
   "metadata": {},
   "outputs": [],
   "source": [
    "topic_model.get_topic_info().to_csv('All_Topic.csv', index = False)"
   ]
  },
  {
   "cell_type": "code",
   "execution_count": null,
   "id": "0c63d87f",
   "metadata": {},
   "outputs": [],
   "source": [
    "topic_model.save(\"All_Cluster_Topic_Model_Final\")"
   ]
  },
  {
   "cell_type": "code",
   "execution_count": null,
   "id": "e4c072a9",
   "metadata": {},
   "outputs": [],
   "source": [
    "docs2 = df_cluster_small['Refied_Text'].tolist()"
   ]
  },
  {
   "cell_type": "code",
   "execution_count": null,
   "id": "5b3d69cd",
   "metadata": {},
   "outputs": [],
   "source": [
    "topic_model2 = BERTopic(representation_model=representation_model, language=\"multilingual\", hdbscan_model=hdbscan_model)\n",
    "topics2, probs2 = topic_model2.fit_transform(docs2)"
   ]
  },
  {
   "cell_type": "code",
   "execution_count": null,
   "id": "98ea26f8",
   "metadata": {},
   "outputs": [],
   "source": [
    "topic_model2.save(\"All_Cluster_Topic_Model_Final2\")"
   ]
  },
  {
   "cell_type": "code",
   "execution_count": null,
   "id": "00ccb5ef",
   "metadata": {},
   "outputs": [],
   "source": [
    "topic_model2.save(\"All_Cluster_Topic_Model_Final2\")"
   ]
  },
  {
   "cell_type": "code",
   "execution_count": null,
   "id": "05d0e75f",
   "metadata": {},
   "outputs": [],
   "source": [
    "topic_model2.get_topic_info()"
   ]
  },
  {
   "cell_type": "code",
   "execution_count": null,
   "id": "095de101",
   "metadata": {},
   "outputs": [],
   "source": [
    "print(2+5)"
   ]
  },
  {
   "cell_type": "code",
   "execution_count": null,
   "id": "1d7b42fb",
   "metadata": {},
   "outputs": [],
   "source": [
    "df_cluster_small['Topic_ID2'] = topics2\n",
    "df_cluster_small['Topic_Prob2'] = probs2"
   ]
  },
  {
   "cell_type": "code",
   "execution_count": null,
   "id": "2e067f32",
   "metadata": {},
   "outputs": [],
   "source": [
    "df_cluster_small.to_csv('All_Cluster_Tweet_Topic.csv', index = False)"
   ]
  },
  {
   "cell_type": "code",
   "execution_count": null,
   "id": "ff094433",
   "metadata": {},
   "outputs": [],
   "source": [
    "df_cluster_small.loc[df_cluster_small.Topic_ID == 38026]"
   ]
  },
  {
   "cell_type": "code",
   "execution_count": null,
   "id": "35c8a683",
   "metadata": {},
   "outputs": [],
   "source": [
    "df_cluster_small.loc[df_cluster_small.Cluster_ID == 23655.0]"
   ]
  },
  {
   "cell_type": "code",
   "execution_count": null,
   "id": "5b93b427",
   "metadata": {},
   "outputs": [],
   "source": []
  },
  {
   "cell_type": "code",
   "execution_count": null,
   "id": "dd829455",
   "metadata": {},
   "outputs": [],
   "source": [
    "topic_model2.get_topic_info()"
   ]
  },
  {
   "cell_type": "code",
   "execution_count": null,
   "id": "b6d86ab6",
   "metadata": {},
   "outputs": [],
   "source": [
    "new_topics2 = topic_model2.reduce_outliers(docs2, topics2)"
   ]
  },
  {
   "cell_type": "code",
   "execution_count": null,
   "id": "b029a246",
   "metadata": {},
   "outputs": [],
   "source": [
    "from scipy.cluster import hierarchy as sch\n",
    "from bertopic import BERTopic\n",
    "\n",
    "linkage_function = lambda x: sch.linkage(x, 'single', optimal_ordering=True)\n",
    "hierarchical_topics = topic_model2.hierarchical_topics(docs2, linkage_function=linkage_function)"
   ]
  },
  {
   "cell_type": "code",
   "execution_count": null,
   "id": "10be1203",
   "metadata": {},
   "outputs": [],
   "source": [
    "new_topics2"
   ]
  },
  {
   "cell_type": "code",
   "execution_count": null,
   "id": "2cb14e47",
   "metadata": {},
   "outputs": [],
   "source": [
    "df_cluster_small['Topic_ID3'] = new_topics2\n",
    "df_cluster_small.to_csv('All_Cluster_Tweet_Topic.csv', index = False)"
   ]
  },
  {
   "cell_type": "code",
   "execution_count": null,
   "id": "5718a51e",
   "metadata": {},
   "outputs": [],
   "source": [
    "df_cluster_small"
   ]
  },
  {
   "cell_type": "code",
   "execution_count": null,
   "id": "6ff953c4",
   "metadata": {},
   "outputs": [],
   "source": [
    "type(topic_model2)"
   ]
  },
  {
   "cell_type": "code",
   "execution_count": null,
   "id": "e54f6501",
   "metadata": {},
   "outputs": [],
   "source": [
    "dir(topic_model2)"
   ]
  },
  {
   "cell_type": "code",
   "execution_count": null,
   "id": "006d9bf2",
   "metadata": {},
   "outputs": [],
   "source": [
    "topic_model2.umap_model"
   ]
  },
  {
   "cell_type": "code",
   "execution_count": null,
   "id": "c6d22327",
   "metadata": {},
   "outputs": [],
   "source": [
    "topic_model3 = BERTopic(representation_model=representation_model, language=\"multilingual\", hdbscan_model=hdbscan_model, hierarchical=True)"
   ]
  },
  {
   "cell_type": "code",
   "execution_count": null,
   "id": "08adcf59",
   "metadata": {},
   "outputs": [],
   "source": [
    "from bertopic import BERTopic\n",
    "from sklearn.datasets import fetch_20newsgroups\n",
    "from sklearn.feature_extraction.text import TfidfVectorizer\n",
    "from sklearn.cluster import AgglomerativeClustering\n",
    "from sklearn.metrics.pairwise import cosine_similarity"
   ]
  },
  {
   "cell_type": "code",
   "execution_count": null,
   "id": "df84a9e5",
   "metadata": {},
   "outputs": [],
   "source": [
    "document_embeddings = topic_model2._extract_embeddings(docs2)\n",
    "\n",
    "cosine_sim = cosine_similarity(document_embeddings)\n",
    "hierarchical_clustering = AgglomerativeClustering(n_clusters=None, affinity='cosine', linkage='average', distance_threshold=0.5)\n",
    "hierarchical_clustering.fit(cosine_sim)\n",
    "\n",
    "print(\"Hierarchical clustering labels:\")\n",
    "print(hierarchical_clustering.labels_)"
   ]
  },
  {
   "cell_type": "code",
   "execution_count": null,
   "id": "a200b1c7",
   "metadata": {},
   "outputs": [],
   "source": [
    "document_embeddings"
   ]
  },
  {
   "cell_type": "code",
   "execution_count": null,
   "id": "e4edee52",
   "metadata": {},
   "outputs": [],
   "source": [
    "new_topic2 "
   ]
  },
  {
   "cell_type": "code",
   "execution_count": null,
   "id": "990856eb",
   "metadata": {},
   "outputs": [],
   "source": [
    "new_topic2 = topic_model2.get_topic_info()"
   ]
  },
  {
   "cell_type": "code",
   "execution_count": null,
   "id": "1440ddbc",
   "metadata": {},
   "outputs": [],
   "source": [
    "new_topic2[new_topic2.Topic.isin(topic_model2.find_topics(\"checked\", top_n=20)[0])]"
   ]
  },
  {
   "cell_type": "code",
   "execution_count": null,
   "id": "27e95bf7",
   "metadata": {},
   "outputs": [],
   "source": [
    "new_topic2[['Topic', 'Name', 'Representation']].iloc[0:10]"
   ]
  },
  {
   "cell_type": "code",
   "execution_count": null,
   "id": "bc25b84b",
   "metadata": {},
   "outputs": [],
   "source": [
    "new_topic2[new_topic2.Topic.isin(topic_model2.find_topics(\"reminder\", top_n=10)[0])]"
   ]
  },
  {
   "cell_type": "code",
   "execution_count": null,
   "id": "194f624b",
   "metadata": {},
   "outputs": [],
   "source": [
    "df_cluster_small.loc[df_cluster_small.Topic_ID2.isin([1])]"
   ]
  },
  {
   "cell_type": "code",
   "execution_count": null,
   "id": "1a17331d",
   "metadata": {},
   "outputs": [],
   "source": [
    "similar_topics, similarity = topic_model2.find_topics(\"checked\", top_n=10)"
   ]
  },
  {
   "cell_type": "code",
   "execution_count": null,
   "id": "ce2bf86d",
   "metadata": {},
   "outputs": [],
   "source": [
    "similar_topics"
   ]
  },
  {
   "cell_type": "code",
   "execution_count": null,
   "id": "2b8dbc15",
   "metadata": {},
   "outputs": [],
   "source": [
    "df_cluster_small.loc[df_cluster_small.Topic_ID2 == 2].groupby('Cluster_ID').count()"
   ]
  },
  {
   "cell_type": "code",
   "execution_count": null,
   "id": "34384d41",
   "metadata": {},
   "outputs": [],
   "source": [
    "df_cluster_small.loc[df_cluster_small.Topic_ID2 == 0].groupby('Cluster_ID').count()"
   ]
  },
  {
   "cell_type": "code",
   "execution_count": null,
   "id": "f12a714a",
   "metadata": {},
   "outputs": [],
   "source": [
    "new_topic2.iloc[420:460]"
   ]
  },
  {
   "cell_type": "code",
   "execution_count": null,
   "id": "fd81736a",
   "metadata": {},
   "outputs": [],
   "source": [
    "df_cluster_small.loc[df_cluster_small.Topic_ID2 == 9].groupby('Cluster_ID').count()"
   ]
  },
  {
   "cell_type": "code",
   "execution_count": null,
   "id": "21c11870",
   "metadata": {},
   "outputs": [],
   "source": [
    "df_cluster_small.groupby('Cluster_ID').count().reset_index().sort_values('Tweet_ID', ascending= False).iloc[0:20]"
   ]
  },
  {
   "cell_type": "code",
   "execution_count": null,
   "id": "f14b8480",
   "metadata": {},
   "outputs": [],
   "source": [
    "df_cluster_small.loc[df_cluster_small.Cluster_ID ==1084.0]"
   ]
  },
  {
   "cell_type": "code",
   "execution_count": null,
   "id": "69e220ec",
   "metadata": {},
   "outputs": [],
   "source": [
    "6 people followed me and 3 people unfollowed me // automatically checked by https://t.co/AqqaCjPXmP"
   ]
  }
 ],
 "metadata": {
  "kernelspec": {
   "display_name": "Python 3 (ipykernel)",
   "language": "python",
   "name": "python3"
  },
  "language_info": {
   "codemirror_mode": {
    "name": "ipython",
    "version": 3
   },
   "file_extension": ".py",
   "mimetype": "text/x-python",
   "name": "python",
   "nbconvert_exporter": "python",
   "pygments_lexer": "ipython3",
   "version": "3.9.13"
  }
 },
 "nbformat": 4,
 "nbformat_minor": 5
}
