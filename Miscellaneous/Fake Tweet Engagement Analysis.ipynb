{
 "cells": [
  {
   "cell_type": "code",
   "execution_count": null,
   "id": "44cf716b",
   "metadata": {},
   "outputs": [],
   "source": [
    "import pandas as pd\n",
    "import time\n",
    "import tweepy\n",
    "import pickle\n",
    "import glob\n",
    "import tweepy\n",
    "import datetime\n",
    "import numpy as np\n",
    "import csv\n",
    "import re\n",
    "from time import strftime\n",
    "pd.set_option('display.max_colwidth', None)"
   ]
  },
  {
   "cell_type": "code",
   "execution_count": null,
   "id": "df777115",
   "metadata": {},
   "outputs": [],
   "source": [
    "result.to_csv('Fake_News_Engagement.csv')"
   ]
  },
  {
   "cell_type": "code",
   "execution_count": null,
   "id": "f7cb6c8b",
   "metadata": {},
   "outputs": [],
   "source": [
    "result = pd.read_csv('Fake_News_Engagement.csv')"
   ]
  },
  {
   "cell_type": "code",
   "execution_count": null,
   "id": "d4190c44",
   "metadata": {},
   "outputs": [],
   "source": [
    "result"
   ]
  },
  {
   "cell_type": "code",
   "execution_count": null,
   "id": "a724a172",
   "metadata": {},
   "outputs": [],
   "source": [
    "df_manual = pd.read_csv('Fake_tweet_manual.csv')\n",
    "print(len(df_manual))"
   ]
  },
  {
   "cell_type": "code",
   "execution_count": null,
   "id": "306564d6",
   "metadata": {},
   "outputs": [],
   "source": [
    "df_auto = pd.read_csv('Final_Fake_Accounts.csv')"
   ]
  },
  {
   "cell_type": "code",
   "execution_count": null,
   "id": "f26a89eb",
   "metadata": {},
   "outputs": [],
   "source": [
    "df_auto"
   ]
  },
  {
   "cell_type": "code",
   "execution_count": null,
   "id": "701339a3",
   "metadata": {},
   "outputs": [],
   "source": [
    "df_manual.columns"
   ]
  },
  {
   "cell_type": "code",
   "execution_count": null,
   "id": "eead1104",
   "metadata": {},
   "outputs": [],
   "source": [
    "df_auto.columns"
   ]
  },
  {
   "cell_type": "code",
   "execution_count": null,
   "id": "3d4a8dfc",
   "metadata": {},
   "outputs": [],
   "source": [
    "df_manual = df_manual.rename(columns = {'FactCheckNews':'Fact_Check_Link', 'NewsType':'Tweet_Topic'})"
   ]
  },
  {
   "cell_type": "code",
   "execution_count": null,
   "id": "4a8cdccf",
   "metadata": {},
   "outputs": [],
   "source": [
    "df_fake_news_auto = df_auto.drop_duplicates('Fact_Check_Link')[['Fact_Check_Link', 'Tweet_Topic']].reset_index(drop = True)"
   ]
  },
  {
   "cell_type": "code",
   "execution_count": null,
   "id": "3a8fab6b",
   "metadata": {},
   "outputs": [],
   "source": [
    "for index1, row1 in df_manual.iterrows():\n",
    "    for index2, row2 in df_fake_news_auto.iterrows():\n",
    "        if df_manual.at[index1, 'Fact_Check_Link'] == df_fake_news_auto.at[index2, 'Fact_Check_Link']:\n",
    "            df_manual.at[index1, 'Tweet_Topic'] = df_fake_news_auto.at[index2, 'Tweet_Topic']\n",
    " "
   ]
  },
  {
   "cell_type": "code",
   "execution_count": null,
   "id": "33c40e97",
   "metadata": {},
   "outputs": [],
   "source": [
    "for index1, row1 in df_manual.iterrows():\n",
    "    df_manual.at[index1, 'Tweet_ID'] = str.split(df_manual.at[index1, 'ScreenName'], '/')[-1]"
   ]
  },
  {
   "cell_type": "code",
   "execution_count": null,
   "id": "baad8954",
   "metadata": {},
   "outputs": [],
   "source": [
    "str.split(df_manual.ScreenName[0], '/')[-1]"
   ]
  },
  {
   "cell_type": "code",
   "execution_count": null,
   "id": "09314b45",
   "metadata": {},
   "outputs": [],
   "source": [
    "df_auto"
   ]
  },
  {
   "cell_type": "code",
   "execution_count": null,
   "id": "e17f46be",
   "metadata": {},
   "outputs": [],
   "source": [
    "df_manual"
   ]
  },
  {
   "cell_type": "code",
   "execution_count": null,
   "id": "5aa5599f",
   "metadata": {},
   "outputs": [],
   "source": [
    "for index1, row1 in df_manual.iterrows():\n",
    "    if len(str.split(df_manual.at[index1, 'ScreenName'], '/')) > 1:\n",
    "        df_manual.at[index1, 'SC'] = str.split(df_manual.at[index1, 'ScreenName'], '/')[3]\n",
    "    else:\n",
    "        df_manual.at[index1, 'SC'] = df_manual.at[index1, 'ScreenName']"
   ]
  },
  {
   "cell_type": "code",
   "execution_count": null,
   "id": "e7961a58",
   "metadata": {},
   "outputs": [],
   "source": [
    "for index1, row1 in df_manual.iterrows():\n",
    "     if df_manual.at[index1, 'SC'][0] == '@':\n",
    "            df_manual.at[index1, 'SC'] = df_manual.at[index1, 'SC'][1:]"
   ]
  },
  {
   "cell_type": "code",
   "execution_count": null,
   "id": "55398b3c",
   "metadata": {},
   "outputs": [],
   "source": [
    "df_manual_filter = df_manual"
   ]
  },
  {
   "cell_type": "code",
   "execution_count": null,
   "id": "9b0423b2",
   "metadata": {},
   "outputs": [],
   "source": [
    "for index1, row1 in df_auto.iterrows():\n",
    "     if df_auto.at[index1, 'ScreenName'][0] == '@':\n",
    "            df_auto.at[index1, 'SC'] = df_auto.at[index1, 'ScreenName'][1:]"
   ]
  },
  {
   "cell_type": "code",
   "execution_count": null,
   "id": "93accc1a",
   "metadata": {},
   "outputs": [],
   "source": [
    "df_auto_filter = df_auto[['ScreenName', 'Fact_Check_Link', 'Tweet_Topic', 'Tweet_ID', 'SC']]"
   ]
  },
  {
   "cell_type": "code",
   "execution_count": null,
   "id": "161727d3",
   "metadata": {},
   "outputs": [],
   "source": [
    "df_manual_filter.drop(df_manual_filter[df_manual_filter.Fact_Check_Link == \n",
    "                     'https://www.bhaskar.com/no-fake-news/news/child-beating-video-from-egypt-circulating-as-an-incident-from-dps-rajbagh-01604931.html'].index, inplace=True)"
   ]
  },
  {
   "cell_type": "code",
   "execution_count": null,
   "id": "bdea3ce6",
   "metadata": {},
   "outputs": [],
   "source": [
    "df_manual_filter"
   ]
  },
  {
   "cell_type": "code",
   "execution_count": null,
   "id": "60bfadf3",
   "metadata": {},
   "outputs": [],
   "source": [
    "frames = [df_auto_filter, df_manual_filter]\n",
    "\n",
    "df_filter_all = pd.concat(frames)"
   ]
  },
  {
   "cell_type": "code",
   "execution_count": null,
   "id": "f786e043",
   "metadata": {},
   "outputs": [],
   "source": [
    "df_filter_all = df_filter_all.reset_index(drop = True)"
   ]
  },
  {
   "cell_type": "code",
   "execution_count": null,
   "id": "2c46ece4",
   "metadata": {},
   "outputs": [],
   "source": [
    "df_filter_all.groupby('Fact_Check_Link').count()"
   ]
  },
  {
   "cell_type": "code",
   "execution_count": null,
   "id": "70b0b0bb",
   "metadata": {},
   "outputs": [],
   "source": [
    "df_filter_all_just_link = df_filter_all[['Fact_Check_Link','Tweet_Topic']].drop_duplicates(keep='first')"
   ]
  },
  {
   "cell_type": "code",
   "execution_count": null,
   "id": "a374e296",
   "metadata": {},
   "outputs": [],
   "source": [
    "df_filter_all_just_link=df_filter_all_just_link.dropna()"
   ]
  },
  {
   "cell_type": "code",
   "execution_count": null,
   "id": "d480d5aa",
   "metadata": {},
   "outputs": [],
   "source": [
    "df_filter_all_just_link.groupby('Tweet_Topic').count()"
   ]
  },
  {
   "cell_type": "code",
   "execution_count": null,
   "id": "93f4b945",
   "metadata": {},
   "outputs": [],
   "source": [
    "df_filter_all_just_link"
   ]
  },
  {
   "cell_type": "code",
   "execution_count": null,
   "id": "d03f9949",
   "metadata": {},
   "outputs": [],
   "source": [
    "df_filter_all"
   ]
  },
  {
   "cell_type": "code",
   "execution_count": null,
   "id": "d2e783f6",
   "metadata": {},
   "outputs": [],
   "source": [
    "df_filter_all_remove_dup =df_filter_all.drop_duplicates(subset=['Tweet_ID', 'SC'], keep = 'first').reset_index(drop = True)"
   ]
  },
  {
   "cell_type": "code",
   "execution_count": null,
   "id": "20cf0ac3",
   "metadata": {},
   "outputs": [],
   "source": [
    "df_filter_all_remove_dup.loc[df_filter_all_remove_dup.Fact_Check_Link.isna()]"
   ]
  },
  {
   "cell_type": "code",
   "execution_count": null,
   "id": "033bb60b",
   "metadata": {},
   "outputs": [],
   "source": [
    "df_total = df_filter_all_remove_dup.groupby('Fact_Check_Link').count().reset_index()"
   ]
  },
  {
   "cell_type": "code",
   "execution_count": null,
   "id": "0ba5a4e0",
   "metadata": {},
   "outputs": [],
   "source": [
    "sum(df_total.Tweet_ID)"
   ]
  },
  {
   "cell_type": "code",
   "execution_count": null,
   "id": "c433b788",
   "metadata": {},
   "outputs": [],
   "source": [
    "df_filter_all_remove_dup.iloc[3087].Tweet_Topic = df_filter_all_remove_dup.iloc[3086].Tweet_Topic\n",
    "df_filter_all_remove_dup.iloc[3087].Fact_Check_Link = df_filter_all_remove_dup.iloc[3086].Fact_Check_Link"
   ]
  },
  {
   "cell_type": "code",
   "execution_count": null,
   "id": "f063a7cf",
   "metadata": {},
   "outputs": [],
   "source": []
  },
  {
   "cell_type": "code",
   "execution_count": null,
   "id": "99462ac3",
   "metadata": {},
   "outputs": [],
   "source": [
    "df_filter_all_remove_dup.iloc[3087]"
   ]
  },
  {
   "cell_type": "code",
   "execution_count": null,
   "id": "82594743",
   "metadata": {},
   "outputs": [],
   "source": [
    "df_total = df_filter_all_remove_dup.groupby('Fact_Check_Link').count().reset_index()"
   ]
  },
  {
   "cell_type": "code",
   "execution_count": null,
   "id": "2b33435e",
   "metadata": {},
   "outputs": [],
   "source": [
    "sum(df_total.Tweet_ID)"
   ]
  },
  {
   "cell_type": "markdown",
   "id": "1fa61b66",
   "metadata": {},
   "source": [
    "# Fake Tweet Process"
   ]
  },
  {
   "cell_type": "code",
   "execution_count": null,
   "id": "ffabc7b9",
   "metadata": {},
   "outputs": [],
   "source": [
    "file = glob.glob(\"U:\\Twitter Research\\Fake News Scraping\\Fake Tweet\\All\\*.data\")"
   ]
  },
  {
   "cell_type": "code",
   "execution_count": null,
   "id": "db938f35",
   "metadata": {},
   "outputs": [],
   "source": [
    "objects = []\n",
    "user = []\n",
    "j=0\n",
    "for i in file:\n",
    "    j=j+1\n",
    "    with (open(i, \"rb\")) as openfile:\n",
    "        user.append(i)\n",
    "        while True:\n",
    "            try:\n",
    "                objects.append(pickle.load(openfile))\n",
    "            except EOFError:\n",
    "                break"
   ]
  },
  {
   "cell_type": "code",
   "execution_count": null,
   "id": "0e095c28",
   "metadata": {},
   "outputs": [],
   "source": [
    "def tweet_process(alltweets):\n",
    "    tweet_id = alltweets.id_str\n",
    "    tweet_created = alltweets.created_at\n",
    "    \n",
    "    try:\n",
    "        tweet_text = alltweets.full_text\n",
    "    except:\n",
    "        tweet_text = alltweets.text\n",
    "        \n",
    "    user_id = alltweets.user.id \n",
    "    screen_name_df = alltweets.user.screen_name \n",
    "    retweet_count =  alltweets.retweet_count \n",
    "    favorite_count = alltweets.favorite_count \n",
    "    lang = alltweets.lang \n",
    "    source = alltweets.source  \n",
    "    \n",
    "    tweet_dict = {'Tweet_ID': tweet_id, \n",
    "                  'Tweet_Time': tweet_created, \n",
    "                  'Tweet_Text': tweet_text, \n",
    "                  'Retweet_Count': retweet_count,\n",
    "                  'Favorite_Count': favorite_count,\n",
    "                  'Tweet_Source' : source,\n",
    "                  'Tweet_Lang': lang,\n",
    "                  'User_ID': user_id,\n",
    "                  'User_ScreenName': screen_name_df\n",
    "                  }  \n",
    "\n",
    "    return tweet_dict\n",
    "    "
   ]
  },
  {
   "cell_type": "code",
   "execution_count": null,
   "id": "454d429b",
   "metadata": {},
   "outputs": [],
   "source": [
    "tt= tweet_process(objects[0])\n",
    "xx =pd.DataFrame(tt,index=[0])\n",
    "db=xx"
   ]
  },
  {
   "cell_type": "code",
   "execution_count": null,
   "id": "acd3da68",
   "metadata": {},
   "outputs": [],
   "source": [
    "for i in range(1, len(objects)):\n",
    "    tt= tweet_process(objects[i])\n",
    "    xx =pd.DataFrame(tt,index=[i])\n",
    "    frames = [db, xx]\n",
    "    db = pd.concat(frames)"
   ]
  },
  {
   "cell_type": "code",
   "execution_count": null,
   "id": "d2851a1e",
   "metadata": {},
   "outputs": [],
   "source": []
  },
  {
   "cell_type": "code",
   "execution_count": null,
   "id": "91f84503",
   "metadata": {},
   "outputs": [],
   "source": [
    "db_auto = pd.merge( db,df_filter_all_remove_dup, on = 'Tweet_ID', how ='left')\n",
    "db_auto = db_auto.drop_duplicates('Tweet_ID')"
   ]
  },
  {
   "cell_type": "code",
   "execution_count": null,
   "id": "0a8e22e4",
   "metadata": {},
   "outputs": [],
   "source": [
    "db_auto\n"
   ]
  },
  {
   "cell_type": "code",
   "execution_count": null,
   "id": "f7f0f797",
   "metadata": {},
   "outputs": [],
   "source": [
    "db_auto=db_auto.dropna()\n",
    "db_auto_drop_duplicate = db_auto.drop_duplicates(subset=['Tweet_ID'], keep ='first')"
   ]
  },
  {
   "cell_type": "code",
   "execution_count": null,
   "id": "106a751a",
   "metadata": {},
   "outputs": [],
   "source": [
    "len(db_auto_drop_duplicate)"
   ]
  },
  {
   "cell_type": "code",
   "execution_count": null,
   "id": "e25d793d",
   "metadata": {},
   "outputs": [],
   "source": []
  },
  {
   "cell_type": "code",
   "execution_count": null,
   "id": "7a0aed81",
   "metadata": {},
   "outputs": [],
   "source": [
    "db_auto_drop_duplicate=db_auto_drop_duplicate.reset_index()"
   ]
  },
  {
   "cell_type": "code",
   "execution_count": null,
   "id": "db398a16",
   "metadata": {},
   "outputs": [],
   "source": [
    "db_auto_drop_duplicate.sort_values(by='Fact_Check_Link')"
   ]
  },
  {
   "cell_type": "code",
   "execution_count": null,
   "id": "62c64bab",
   "metadata": {},
   "outputs": [],
   "source": [
    "db_auto_drop_duplicate['Tweet_ID'].count()"
   ]
  },
  {
   "cell_type": "code",
   "execution_count": null,
   "id": "74d590c1",
   "metadata": {},
   "outputs": [],
   "source": [
    "dbb = db_auto_drop_duplicate.groupby('Fact_Check_Link').count().reset_index()"
   ]
  },
  {
   "cell_type": "code",
   "execution_count": null,
   "id": "788ad709",
   "metadata": {},
   "outputs": [],
   "source": [
    "db_auto_drop_duplicate.groupby('User_ID').count().reset_index().sort_values('Tweet_ID', ascending = False)"
   ]
  },
  {
   "cell_type": "code",
   "execution_count": null,
   "id": "399a5755",
   "metadata": {},
   "outputs": [],
   "source": [
    "dbbx = dbb[['Fact_Check_Link', 'Tweet_ID']]"
   ]
  },
  {
   "cell_type": "code",
   "execution_count": null,
   "id": "54a9ada9",
   "metadata": {},
   "outputs": [],
   "source": [
    "dbbx = dbbx.rename(columns = {'Tweet_ID':'Available_Number_of_copies'})"
   ]
  },
  {
   "cell_type": "code",
   "execution_count": null,
   "id": "0d5025d4",
   "metadata": {},
   "outputs": [],
   "source": [
    "sum(dbbx.Available_Number_of_copies)"
   ]
  },
  {
   "cell_type": "code",
   "execution_count": null,
   "id": "b21988e4",
   "metadata": {},
   "outputs": [],
   "source": []
  },
  {
   "cell_type": "code",
   "execution_count": null,
   "id": "4246f422",
   "metadata": {},
   "outputs": [],
   "source": [
    "df_filter_all_remove_dup.groupby('Fact_Check_Link').count()"
   ]
  },
  {
   "cell_type": "code",
   "execution_count": null,
   "id": "7c9ca36d",
   "metadata": {},
   "outputs": [],
   "source": [
    "right =df_filter_all_remove_dup.drop_duplicates('Tweet_ID').reset_index(drop=True).groupby('Fact_Check_Link').count().sort_values(by=['Tweet_ID'], ascending=False).reset_index()[['Fact_Check_Link', 'Tweet_ID']]"
   ]
  },
  {
   "cell_type": "code",
   "execution_count": null,
   "id": "71588460",
   "metadata": {},
   "outputs": [],
   "source": [
    "left=db_auto_drop_duplicate.groupby('Fact_Check_Link').sum().sort_values(by=['Retweet_Count'], ascending=False).reset_index()[['Fact_Check_Link','Retweet_Count','Favorite_Count']]"
   ]
  },
  {
   "cell_type": "code",
   "execution_count": null,
   "id": "58958587",
   "metadata": {},
   "outputs": [],
   "source": [
    "result = pd.merge(left, right, on=\"Fact_Check_Link\", how = 'outer')"
   ]
  },
  {
   "cell_type": "code",
   "execution_count": null,
   "id": "0d82736d",
   "metadata": {},
   "outputs": [],
   "source": [
    "sum(right.Tweet_ID)"
   ]
  },
  {
   "cell_type": "code",
   "execution_count": null,
   "id": "1af84443",
   "metadata": {},
   "outputs": [],
   "source": [
    "result = result.rename(columns = {'Tweet_ID':'Number_of_copies'}) "
   ]
  },
  {
   "cell_type": "code",
   "execution_count": null,
   "id": "9240a18e",
   "metadata": {},
   "outputs": [],
   "source": [
    "result = result.sort_values(by=['Number_of_copies'], ascending=False).reset_index(drop = True)"
   ]
  },
  {
   "cell_type": "code",
   "execution_count": null,
   "id": "cfebb59c",
   "metadata": {},
   "outputs": [],
   "source": []
  },
  {
   "cell_type": "code",
   "execution_count": null,
   "id": "36699287",
   "metadata": {},
   "outputs": [],
   "source": [
    "result = pd.merge(result, df_filter_all_just_link, on=\"Fact_Check_Link\", how = 'outer')"
   ]
  },
  {
   "cell_type": "code",
   "execution_count": null,
   "id": "b6532932",
   "metadata": {},
   "outputs": [],
   "source": [
    "sum(result.Number_of_copies)"
   ]
  },
  {
   "cell_type": "code",
   "execution_count": null,
   "id": "fb897458",
   "metadata": {},
   "outputs": [],
   "source": [
    "result"
   ]
  },
  {
   "cell_type": "code",
   "execution_count": null,
   "id": "8defe3c9",
   "metadata": {},
   "outputs": [],
   "source": [
    "result = pd.merge(result, dbbx, on=\"Fact_Check_Link\", how = 'outer')"
   ]
  },
  {
   "cell_type": "code",
   "execution_count": null,
   "id": "23a92c78",
   "metadata": {},
   "outputs": [],
   "source": [
    "sum(result.Number_of_copies)"
   ]
  },
  {
   "cell_type": "code",
   "execution_count": null,
   "id": "422c7ef5",
   "metadata": {},
   "outputs": [],
   "source": [
    "result = result.fillna(0)"
   ]
  },
  {
   "cell_type": "code",
   "execution_count": null,
   "id": "68cfd2a3",
   "metadata": {},
   "outputs": [],
   "source": [
    "sum(result.Available_Number_of_copies)"
   ]
  },
  {
   "cell_type": "code",
   "execution_count": null,
   "id": "4fbdc25d",
   "metadata": {},
   "outputs": [],
   "source": []
  },
  {
   "cell_type": "code",
   "execution_count": null,
   "id": "62b99f50",
   "metadata": {},
   "outputs": [],
   "source": []
  },
  {
   "cell_type": "code",
   "execution_count": null,
   "id": "06b96536",
   "metadata": {},
   "outputs": [],
   "source": [
    "result['Copies_removed'] =  result ['Number_of_copies'] - result['Available_Number_of_copies']"
   ]
  },
  {
   "cell_type": "code",
   "execution_count": null,
   "id": "fe7266f9",
   "metadata": {},
   "outputs": [],
   "source": [
    "sum(result.Copies_removed)"
   ]
  },
  {
   "cell_type": "code",
   "execution_count": null,
   "id": "4df4f759",
   "metadata": {},
   "outputs": [],
   "source": [
    "result"
   ]
  },
  {
   "cell_type": "code",
   "execution_count": null,
   "id": "44c5d1fc",
   "metadata": {},
   "outputs": [],
   "source": [
    "db_auto_drop_duplicate.groupby('Fact_Check_Link')"
   ]
  },
  {
   "cell_type": "code",
   "execution_count": null,
   "id": "237c2bf2",
   "metadata": {},
   "outputs": [],
   "source": [
    "db_auto_drop_duplicate =db_auto_drop_duplicate.drop(columns = 'index')"
   ]
  },
  {
   "cell_type": "code",
   "execution_count": null,
   "id": "a2feaf8a",
   "metadata": {},
   "outputs": [],
   "source": [
    "db_auto_drop_duplicate.Tweet_Time[0]"
   ]
  },
  {
   "cell_type": "code",
   "execution_count": null,
   "id": "6cb9df0c",
   "metadata": {},
   "outputs": [],
   "source": [
    "result['First_Tweet_Text'] = ''\n",
    "result['Last_Tweet_Text'] = ''\n",
    "result['First_Tweet_ID'] =''\n",
    "result['Last_Tweet_ID'] =''"
   ]
  },
  {
   "cell_type": "code",
   "execution_count": null,
   "id": "1e22f5a0",
   "metadata": {},
   "outputs": [],
   "source": [
    "for i,r in result.iterrows():\n",
    "    result.at[i,'First_Tweet_Time'] = db_auto_drop_duplicate.loc[db_auto_drop_duplicate.Fact_Check_Link \n",
    "                                                                 == result.Fact_Check_Link[i]].Tweet_Time.min()\n",
    "    result.at[i,'Last_Tweet_Time'] = db_auto_drop_duplicate.loc[db_auto_drop_duplicate.Fact_Check_Link \n",
    "                                     == result.Fact_Check_Link[i]].Tweet_Time.max()   "
   ]
  },
  {
   "cell_type": "code",
   "execution_count": null,
   "id": "67172922",
   "metadata": {},
   "outputs": [],
   "source": [
    "for i,r in result.iterrows():\n",
    "    result.at[i, 'First_Tweet_Text'] = db_auto_drop_duplicate.loc[db_auto_drop_duplicate.Tweet_Time ==db_auto_drop_duplicate.loc[db_auto_drop_duplicate.Fact_Check_Link == result.Fact_Check_Link[i]].Tweet_Time.min()].Tweet_Text.to_string(index=False)\n",
    "    result.at[i, 'First_Tweet_ID'] = db_auto_drop_duplicate.loc[db_auto_drop_duplicate.Tweet_Time ==db_auto_drop_duplicate.loc[db_auto_drop_duplicate.Fact_Check_Link == result.Fact_Check_Link[i]].Tweet_Time.min()].Tweet_ID.to_string(index=False)\n",
    "\n",
    "    result.at[i, 'Last_Tweet_Text'] = db_auto_drop_duplicate.loc[db_auto_drop_duplicate.Tweet_Time ==db_auto_drop_duplicate.loc[db_auto_drop_duplicate.Fact_Check_Link == result.Fact_Check_Link[i]].Tweet_Time.max()].Tweet_Text.to_string(index=False)\n",
    "    result.at[i, 'Last_Tweet_ID'] = db_auto_drop_duplicate.loc[db_auto_drop_duplicate.Tweet_Time ==db_auto_drop_duplicate.loc[db_auto_drop_duplicate.Fact_Check_Link == result.Fact_Check_Link[i]].Tweet_Time.max()].Tweet_ID.to_string(index=False)"
   ]
  },
  {
   "cell_type": "code",
   "execution_count": null,
   "id": "362cad13",
   "metadata": {},
   "outputs": [],
   "source": []
  },
  {
   "cell_type": "code",
   "execution_count": null,
   "id": "d63d81d9",
   "metadata": {},
   "outputs": [],
   "source": [
    "result.to_csv('Fake_News_Engagement.csv')"
   ]
  },
  {
   "cell_type": "code",
   "execution_count": null,
   "id": "8b2c9074",
   "metadata": {},
   "outputs": [],
   "source": [
    "result['Time_Difference'] = result['Last_Tweet_Time']-result['First_Tweet_Time']"
   ]
  },
  {
   "cell_type": "code",
   "execution_count": null,
   "id": "9eb15422",
   "metadata": {},
   "outputs": [],
   "source": [
    "result['Time_Difference'] = result['Time_Difference'].dt.days + 1 "
   ]
  },
  {
   "cell_type": "code",
   "execution_count": null,
   "id": "60718c57",
   "metadata": {},
   "outputs": [],
   "source": [
    "db_auto_drop_duplicate=db_auto_drop_duplicate.reset_index(drop = True)"
   ]
  },
  {
   "cell_type": "code",
   "execution_count": null,
   "id": "01f96321",
   "metadata": {},
   "outputs": [],
   "source": [
    "db_auto_drop_duplicate.loc[db_auto_drop_duplicate.Tweet_Time ==db_auto_drop_duplicate.loc[db_auto_drop_duplicate.Fact_Check_Link \n",
    "                                                                 == result.Fact_Check_Link[10]].Tweet_Time.min()]"
   ]
  },
  {
   "cell_type": "code",
   "execution_count": null,
   "id": "319cdac8",
   "metadata": {},
   "outputs": [],
   "source": [
    "merged_df = db_auto_drop_duplicate.merge(df_filter_all_remove_dup, how = 'inner', on = ['Tweet_ID'])"
   ]
  },
  {
   "cell_type": "code",
   "execution_count": null,
   "id": "9c703250",
   "metadata": {},
   "outputs": [],
   "source": [
    "merged_df.Tweet_ID"
   ]
  },
  {
   "cell_type": "code",
   "execution_count": null,
   "id": "d1350a7c",
   "metadata": {},
   "outputs": [],
   "source": [
    "result.groupby('Tweet_Topic').sum()"
   ]
  },
  {
   "cell_type": "code",
   "execution_count": null,
   "id": "a97cf669",
   "metadata": {},
   "outputs": [],
   "source": [
    "result.to_csv('Fake_News_Engagement.csv')"
   ]
  },
  {
   "cell_type": "code",
   "execution_count": null,
   "id": "15a79120",
   "metadata": {},
   "outputs": [],
   "source": [
    "result.columns"
   ]
  },
  {
   "cell_type": "code",
   "execution_count": null,
   "id": "56fe621d",
   "metadata": {},
   "outputs": [],
   "source": [
    "db"
   ]
  },
  {
   "cell_type": "code",
   "execution_count": null,
   "id": "62551eb0",
   "metadata": {},
   "outputs": [],
   "source": [
    "fake_collected_news = db_auto_drop_duplicate.sort_values(by='Fact_Check_Link').reset_index(drop = True)"
   ]
  },
  {
   "cell_type": "code",
   "execution_count": null,
   "id": "40209d71",
   "metadata": {},
   "outputs": [],
   "source": [
    "fake_collected_news"
   ]
  },
  {
   "cell_type": "code",
   "execution_count": null,
   "id": "ec09fe80",
   "metadata": {},
   "outputs": [],
   "source": [
    "grp =fake_collected_news.groupby('Fact_Check_Link')"
   ]
  },
  {
   "cell_type": "code",
   "execution_count": null,
   "id": "bfc48249",
   "metadata": {},
   "outputs": [],
   "source": [
    "fake_collected_news.drop(columns = ['ScreenName', 'SC']).to_csv('Collected_Fake_Tweets_Still_Available.csv')"
   ]
  },
  {
   "cell_type": "code",
   "execution_count": null,
   "id": "8309d5ca",
   "metadata": {},
   "outputs": [],
   "source": [
    "fake_collected_news.drop(columns = ['ScreenName', 'SC']).columns"
   ]
  },
  {
   "cell_type": "code",
   "execution_count": null,
   "id": "72da403e",
   "metadata": {},
   "outputs": [],
   "source": []
  }
 ],
 "metadata": {
  "kernelspec": {
   "display_name": "Python 3 (ipykernel)",
   "language": "python",
   "name": "python3"
  },
  "language_info": {
   "codemirror_mode": {
    "name": "ipython",
    "version": 3
   },
   "file_extension": ".py",
   "mimetype": "text/x-python",
   "name": "python",
   "nbconvert_exporter": "python",
   "pygments_lexer": "ipython3",
   "version": "3.9.13"
  }
 },
 "nbformat": 4,
 "nbformat_minor": 5
}
