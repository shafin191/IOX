{
 "cells": [
  {
   "cell_type": "code",
   "execution_count": null,
   "id": "6a5d4120",
   "metadata": {},
   "outputs": [],
   "source": [
    "import pandas as pd\n",
    "import re\n",
    "pd.set_option('display.max_colwidth', None)\n",
    "import tweepy\n",
    "import pickle\n",
    "import time\n",
    "pd.set_option('display.max_columns', None)  "
   ]
  },
  {
   "cell_type": "code",
   "execution_count": null,
   "id": "b377b1e1",
   "metadata": {},
   "outputs": [],
   "source": [
    "key1 = \"\"\n",
    "key2 = \"\"\n",
    "key3 = \"\"\n",
    "key4 = \"\"\n",
    "\n",
    "\n",
    "auth = tweepy.OAuthHandler(key1, key2)\n",
    "auth.set_access_token(key3, key4)\n",
    "\n",
    "api = tweepy.API(auth, wait_on_rate_limit=True)"
   ]
  },
  {
   "cell_type": "code",
   "execution_count": null,
   "id": "c79bd2c1",
   "metadata": {},
   "outputs": [],
   "source": [
    "import random\n",
    "l = []\n",
    "\n",
    "for i in range(0,1000):\n",
    "    l.append(random.randint(1999999999999, 9999999999999))"
   ]
  },
  {
   "cell_type": "code",
   "execution_count": null,
   "id": "2a6b8183",
   "metadata": {},
   "outputs": [],
   "source": []
  },
  {
   "cell_type": "code",
   "execution_count": null,
   "id": "f26b1c6c",
   "metadata": {},
   "outputs": [],
   "source": [
    "sc_3 = []\n",
    "for x in l:\n",
    "    try:\n",
    "        user = api.get_user(id=x)\n",
    "        sc_3.append(user.screen_name)\n",
    "        print(user)\n",
    "    except:\n",
    "        time.sleep(1)"
   ]
  },
  {
   "cell_type": "code",
   "execution_count": null,
   "id": "9207396f",
   "metadata": {},
   "outputs": [],
   "source": [
    "print(len(sc_3))"
   ]
  },
  {
   "cell_type": "code",
   "execution_count": null,
   "id": "3187432d",
   "metadata": {},
   "outputs": [],
   "source": [
    "sc_2"
   ]
  },
  {
   "cell_type": "code",
   "execution_count": null,
   "id": "662c9b72",
   "metadata": {},
   "outputs": [],
   "source": [
    "with open(r'Random_Accounts_2.txt', 'w') as fp:\n",
    "    for item in sc_1:\n",
    "        fp.write(\"%s\\n\" % item)\n",
    "    print('Done')"
   ]
  },
  {
   "cell_type": "code",
   "execution_count": null,
   "id": "aabd4d4e",
   "metadata": {},
   "outputs": [],
   "source": [
    "df_fake_alt = pd.read_csv('Final_Fake_Accounts.csv').drop('Unnamed: 0', axis =1)"
   ]
  },
  {
   "cell_type": "code",
   "execution_count": null,
   "id": "7e52211d",
   "metadata": {},
   "outputs": [],
   "source": [
    "df_fake_alt.columns"
   ]
  },
  {
   "cell_type": "code",
   "execution_count": null,
   "id": "07c387c7",
   "metadata": {},
   "outputs": [],
   "source": [
    "df_fake_alt.Tweet_ID[0]"
   ]
  },
  {
   "cell_type": "code",
   "execution_count": null,
   "id": "14d64bb6",
   "metadata": {},
   "outputs": [],
   "source": [
    "status = api.get_status(df_fake_alt.Tweet_ID[0])"
   ]
  },
  {
   "cell_type": "code",
   "execution_count": null,
   "id": "2f748add",
   "metadata": {},
   "outputs": [],
   "source": [
    "df_fake_manual = pd.read_csv('Fake_Tweet_Manual.csv')"
   ]
  },
  {
   "cell_type": "code",
   "execution_count": null,
   "id": "8717f8eb",
   "metadata": {},
   "outputs": [],
   "source": [
    "str.split(df_fake_manual.ScreenName[1257], '/')[-1]"
   ]
  },
  {
   "cell_type": "code",
   "execution_count": null,
   "id": "7c983b8d",
   "metadata": {},
   "outputs": [],
   "source": [
    "error = 0\n",
    "error_tweet = []\n",
    "for i in range(len(df_fake_alt)):\n",
    "    try:\n",
    "        status = api.get_status(df_fake_alt.Tweet_ID[i], tweet_mode='extended')\n",
    "    except:\n",
    "        error +=1\n",
    "        error_tweet.append(df_fake_alt.Tweet_ID[i])\n",
    "        continue\n",
    "    \n",
    "    with open('U:/Twitter Research/Fake News Scraping/Fake Tweet/ALT_News/Fake_Tweet_'+str(df_fake_alt.Tweet_ID[i]) +'.data', 'wb') as filehandle:\n",
    "        pickle.dump(status, filehandle)\n",
    "    \n",
    "    time.sleep(2)\n",
    "error_3rd = error_tweet\n",
    "print(len(error_3rd))"
   ]
  },
  {
   "cell_type": "code",
   "execution_count": null,
   "id": "f731873f",
   "metadata": {},
   "outputs": [],
   "source": [
    "error = 0\n",
    "error_tweet = []\n",
    "for i in range(len(df_fake_manual)):\n",
    "    try:\n",
    "        status = api.get_status(str.split(df_fake_manual.ScreenName[i], '/')[-1], tweet_mode='extended')\n",
    "    except:\n",
    "        error +=1\n",
    "        error_tweet.append(str.split(df_fake_manual.ScreenName[i], '/')[-1])\n",
    "        continue\n",
    "    \n",
    "    with open('U:/Twitter Research/Fake News Scraping/Fake Tweet/Manual/Fake_Tweet_'+str(str.split(df_fake_manual.ScreenName[i], '/')[-1])+'.data', 'wb') as filehandle:\n",
    "        pickle.dump(status, filehandle)\n",
    "    \n",
    "    time.sleep(1)\n",
    "error_2nd = error_tweet\n",
    "print(len(error_2nd))"
   ]
  },
  {
   "cell_type": "code",
   "execution_count": null,
   "id": "0c46cc7d",
   "metadata": {},
   "outputs": [],
   "source": [
    "for i in range(len(df_fake_manual)):\n",
    "    print(str.split(df_fake_manual.ScreenName[i], '/')[-1])"
   ]
  },
  {
   "cell_type": "code",
   "execution_count": null,
   "id": "8f7b5498",
   "metadata": {},
   "outputs": [],
   "source": [
    "str.split(df_fake_manual.ScreenName[15], '/')[-1]"
   ]
  },
  {
   "cell_type": "code",
   "execution_count": null,
   "id": "ace27101",
   "metadata": {},
   "outputs": [],
   "source": [
    "df_fake_alt = pd.read_csv('ALT_News_Original_Fake_Data.csv', encoding = 'utf-8').drop('Unnamed: 0', axis =1)"
   ]
  },
  {
   "cell_type": "code",
   "execution_count": null,
   "id": "e9725fa6",
   "metadata": {},
   "outputs": [],
   "source": [
    "df_fake_alt"
   ]
  },
  {
   "cell_type": "code",
   "execution_count": null,
   "id": "36c46dac",
   "metadata": {},
   "outputs": [],
   "source": []
  }
 ],
 "metadata": {
  "kernelspec": {
   "display_name": "Python 3 (ipykernel)",
   "language": "python",
   "name": "python3"
  },
  "language_info": {
   "codemirror_mode": {
    "name": "ipython",
    "version": 3
   },
   "file_extension": ".py",
   "mimetype": "text/x-python",
   "name": "python",
   "nbconvert_exporter": "python",
   "pygments_lexer": "ipython3",
   "version": "3.9.13"
  }
 },
 "nbformat": 4,
 "nbformat_minor": 5
}
