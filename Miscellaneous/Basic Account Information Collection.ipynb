{
 "cells": [
  {
   "cell_type": "code",
   "execution_count": 1,
   "id": "bd54717d",
   "metadata": {},
   "outputs": [],
   "source": [
    "import pandas as pd\n",
    "import re\n",
    "pd.set_option('display.max_colwidth', None)\n",
    "import tweepy\n",
    "import pickle\n",
    "import time\n",
    "pd.set_option('display.max_columns', None)  "
   ]
  },
  {
   "cell_type": "code",
   "execution_count": 166,
   "id": "9cd8b27a",
   "metadata": {},
   "outputs": [],
   "source": [
    "df = pd.read_csv('Fake News List - Additional Fake News Accounts 15.csv')\n"
   ]
  },
  {
   "cell_type": "code",
   "execution_count": 167,
   "id": "5b81eee9",
   "metadata": {},
   "outputs": [],
   "source": [
    "df"
   ]
  },
  {
   "cell_type": "code",
   "execution_count": 168,
   "id": "42cfe800",
   "metadata": {},
   "outputs": [],
   "source": [
    "for i in range(len(df)):\n",
    "    if len(df['ID'].str.split('/')[i]) == 1:\n",
    "        df.at[i, 'SC'] = df['ID'][i]\n",
    "    else:\n",
    "        df.at[i, 'SC'] = '@' + df['ID'].str.split('/')[i][3]"
   ]
  },
  {
   "cell_type": "code",
   "execution_count": 169,
   "id": "8958fdfb",
   "metadata": {},
   "outputs": [],
   "source": [
    "df_unique = df.drop_duplicates('SC')"
   ]
  },
  {
   "cell_type": "code",
   "execution_count": 170,
   "id": "6f2d6225",
   "metadata": {},
   "outputs": [],
   "source": [
    "df_unique"
   ]
  },
  {
   "cell_type": "code",
   "execution_count": 14,
   "id": "f16de63b",
   "metadata": {},
   "outputs": [],
   "source": [
    "def user_data(fullusers):\n",
    "    user_id=[]\n",
    "    user_name=[]\n",
    "    user_screenName=[]\n",
    "    user_location=[]\n",
    "    user_description=[]\n",
    "    user_url=[]\n",
    "    user_followersCount=[]\n",
    "    user_friendsCount=[]\n",
    "    user_createdAt=[]\n",
    "    user_favCount=[]\n",
    "    user_verified=[]\n",
    "    user_statusCount=[]\n",
    "    user_language=[]\n",
    "    userLast_status = []\n",
    "    user_protected = []\n",
    "    user_following_screenName = []\n",
    "    user_following_userID = []\n",
    "    user_profile_image = []\n",
    "    user_profile_banner = []\n",
    "    for i in range(len(fullusers)):\n",
    "        if (fullusers[i].protected==False):\n",
    "            user_id.append(fullusers[i].id)\n",
    "            user_name.append(fullusers[i].name)\n",
    "            user_screenName.append(fullusers[i].screen_name)\n",
    "            user_location.append(fullusers[i].location)\n",
    "            user_description.append(fullusers[i].description)\n",
    "            user_url.append(fullusers[i].url)\n",
    "            user_followersCount.append(fullusers[i].followers_count)\n",
    "            user_friendsCount.append(fullusers[i].friends_count)\n",
    "            user_createdAt.append(fullusers[i].created_at)\n",
    "            user_favCount.append(fullusers[i].favourites_count)\n",
    "            user_verified.append(fullusers[i].verified)\n",
    "            user_statusCount.append(fullusers[i].statuses_count)\n",
    "            user_language.append(fullusers[i].lang)\n",
    "            user_protected.append(fullusers[i].protected)\n",
    "            user_profile_image.append(fullusers[i].profile_image_url)\n",
    "            try:\n",
    "                userLast_status.append(fullusers[i].status.created_at)\n",
    "            except:\n",
    "                userLast_status.append(None)\n",
    "                \n",
    "        if (fullusers[i].protected==True):\n",
    "            user_id.append(fullusers[i].id)\n",
    "            user_name.append(fullusers[i].name)\n",
    "            user_screenName.append(fullusers[i].screen_name)\n",
    "            user_location.append(fullusers[i].location)\n",
    "            user_description.append(fullusers[i].description)\n",
    "            user_url.append(fullusers[i].url)\n",
    "            user_followersCount.append(fullusers[i].followers_count)\n",
    "            user_friendsCount.append(fullusers[i].friends_count)\n",
    "            user_createdAt.append(fullusers[i].created_at)\n",
    "            user_favCount.append(fullusers[i].favourites_count)\n",
    "            user_verified.append(fullusers[i].verified)\n",
    "            user_statusCount.append(fullusers[i].statuses_count)\n",
    "            user_language.append(fullusers[i].lang)\n",
    "            user_protected.append(fullusers[i].protected)\n",
    "            user_profile_image.append(fullusers[i].profile_image_url)\n",
    "            try:\n",
    "                userLast_status.append(fullusers[i].status.created_at)\n",
    "            except:\n",
    "                userLast_status.append(None)\n",
    "\n",
    "    user_info = pd.DataFrame(\n",
    "        {'User ID': user_id,\n",
    "         'UserName': user_name,\n",
    "         'Screen Name': user_screenName,\n",
    "         'UserLocation': user_location,\n",
    "         'UserDescription': user_description,\n",
    "         'UserURL': user_url,\n",
    "         'UserFollowers':user_followersCount,\n",
    "         'UserFriends': user_friendsCount,\n",
    "         'UserCreated': user_createdAt,\n",
    "         'UserFavoriteCount': user_favCount,\n",
    "         'UserVerified': user_verified,\n",
    "         'TotalStatus': user_statusCount,\n",
    "         'UserLanguage':user_language,\n",
    "         'UserLastStatus': userLast_status,\n",
    "         'UserProtected': user_protected,\n",
    "         'UserProfileLink':user_profile_image,\n",
    "         \n",
    "        })\n",
    "    \n",
    "    return user_info\n"
   ]
  },
  {
   "cell_type": "code",
   "execution_count": 172,
   "id": "dd70e7bf",
   "metadata": {},
   "outputs": [],
   "source": [
    "l1 = df_unique['SC'].to_list()"
   ]
  },
  {
   "cell_type": "code",
   "execution_count": 5,
   "id": "59f5b00b",
   "metadata": {},
   "outputs": [],
   "source": [
    "l1[0]"
   ]
  },
  {
   "cell_type": "code",
   "execution_count": 6,
   "id": "fa8d58f4",
   "metadata": {},
   "outputs": [],
   "source": [
    "key1 = \"\"\n",
    "key2 = \"\"\n",
    "key3 = \"\"\n",
    "key4 = \"\"\n",
    "\n",
    "\n",
    "auth = tweepy.OAuthHandler(key1, key2)\n",
    "auth.set_access_token(key3, key4)\n",
    "\n",
    "api = tweepy.API(auth, wait_on_rate_limit=True)"
   ]
  },
  {
   "cell_type": "code",
   "execution_count": 7,
   "id": "754b4537",
   "metadata": {},
   "outputs": [],
   "source": [
    "user_id_list = []"
   ]
  },
  {
   "cell_type": "code",
   "execution_count": 8,
   "id": "1a8962fb",
   "metadata": {},
   "outputs": [],
   "source": [
    "len(user_id_list)"
   ]
  },
  {
   "cell_type": "code",
   "execution_count": 9,
   "id": "0ed125c5",
   "metadata": {},
   "outputs": [],
   "source": [
    "for i in l1:\n",
    "    try:\n",
    "        user_id_list.append(api.get_user(screen_name = i).id)\n",
    "    except:\n",
    "        print(\"User not found: \" + i)"
   ]
  },
  {
   "cell_type": "code",
   "execution_count": 10,
   "id": "29dda00b",
   "metadata": {},
   "outputs": [],
   "source": [
    "len(user_id_list)"
   ]
  },
  {
   "cell_type": "code",
   "execution_count": 12,
   "id": "785b0a7c",
   "metadata": {},
   "outputs": [],
   "source": [
    "users1 = api.lookup_users(user_id = user_id_list[0:50])\n",
    "users2 = api.lookup_users(user_id = user_id_list[50:])"
   ]
  },
  {
   "cell_type": "code",
   "execution_count": 15,
   "id": "24cc2e59",
   "metadata": {},
   "outputs": [],
   "source": [
    "for i in range(0, len(users1)):\n",
    "    dfu = user_data(users1)\n",
    "    dfus = dfu"
   ]
  },
  {
   "cell_type": "code",
   "execution_count": null,
   "id": "cb0b5fa8",
   "metadata": {},
   "outputs": [],
   "source": []
  },
  {
   "cell_type": "code",
   "execution_count": 161,
   "id": "fc412bfd",
   "metadata": {},
   "outputs": [],
   "source": [
    "dfu = user_data(users2)\n",
    "dfus  = dfus.append(dfu)\n",
    "\n",
    "dfu = user_data(users3)\n",
    "dfus  = dfus.append(dfu)\n",
    "\n",
    "dfu = user_data(users4)\n",
    "dfus  = dfus.append(dfu)\n",
    "\n",
    "dfu = user_data(users5)\n",
    "dfus  = dfus.append(dfu)\n"
   ]
  },
  {
   "cell_type": "code",
   "execution_count": 17,
   "id": "84d20f2f",
   "metadata": {},
   "outputs": [],
   "source": [
    "dfus_duplicate_drop = dfus.drop_duplicates()\n",
    "dfus_duplicate_drop = dfus_duplicate_drop.reset_index(drop=True)"
   ]
  },
  {
   "cell_type": "code",
   "execution_count": 18,
   "id": "49ba8a0b",
   "metadata": {},
   "outputs": [],
   "source": [
    "len(dfus_duplicate_drop)"
   ]
  },
  {
   "cell_type": "code",
   "execution_count": 19,
   "id": "0a99f243",
   "metadata": {},
   "outputs": [],
   "source": [
    "dfus.to_csv('Additional_Fake_Account_Remaining.csv')"
   ]
  },
  {
   "cell_type": "code",
   "execution_count": null,
   "id": "55445c22",
   "metadata": {},
   "outputs": [],
   "source": []
  }
 ],
 "metadata": {
  "kernelspec": {
   "display_name": "Python 3 (ipykernel)",
   "language": "python",
   "name": "python3"
  },
  "language_info": {
   "codemirror_mode": {
    "name": "ipython",
    "version": 3
   },
   "file_extension": ".py",
   "mimetype": "text/x-python",
   "name": "python",
   "nbconvert_exporter": "python",
   "pygments_lexer": "ipython3",
   "version": "3.9.13"
  }
 },
 "nbformat": 4,
 "nbformat_minor": 5
}
