{
 "cells": [
  {
   "cell_type": "code",
   "execution_count": null,
   "id": "378b986b",
   "metadata": {},
   "outputs": [],
   "source": [
    "import networkx as nx\n",
    "import nxviz as nv\n",
    "import pandas as pd\n",
    "import matplotlib as plt\n",
    "import community"
   ]
  },
  {
   "cell_type": "code",
   "execution_count": null,
   "id": "361722ef",
   "metadata": {},
   "outputs": [],
   "source": [
    "df_alt_influence = pd.read_csv('AltNews Report Check.csv')\n",
    "df_alt_small = df_alt_influence.loc[df_alt_influence.Campaign == 'Influence'][['News_Number', 'Fact_Check_Link']]"
   ]
  },
  {
   "cell_type": "code",
   "execution_count": null,
   "id": "b72dc65f",
   "metadata": {},
   "outputs": [],
   "source": [
    "df_alt_influence"
   ]
  },
  {
   "cell_type": "code",
   "execution_count": null,
   "id": "13f97a23",
   "metadata": {},
   "outputs": [],
   "source": [
    "df_alt_small = df_alt_influence.loc[df_alt_influence.Campaign == 'Influence'][['News_Number', 'Fact_Check_Link']]"
   ]
  },
  {
   "cell_type": "code",
   "execution_count": null,
   "id": "81009280",
   "metadata": {},
   "outputs": [],
   "source": [
    "df_alt_all = pd.read_csv('Collected_Fake_Tweets_Still_Available.csv')\n",
    "df_account = pd.read_csv('All_Fake_without_debunkers_Updated.csv')"
   ]
  },
  {
   "cell_type": "code",
   "execution_count": null,
   "id": "27273066",
   "metadata": {},
   "outputs": [],
   "source": [
    "df_alt_all_influence = pd.merge(df_alt_all, df_alt_small, on = 'Fact_Check_Link').drop(columns = 'Unnamed: 0')\n",
    "df_merge_info = pd.merge(df_alt_all_influence[['User_ID', 'News_Number']], df_account[['User_ID', 'Political', 'party', 'ScreenName']])"
   ]
  },
  {
   "cell_type": "code",
   "execution_count": null,
   "id": "cdd67d87",
   "metadata": {},
   "outputs": [],
   "source": [
    "len(set(df_merge_info.User_ID.tolist()))"
   ]
  },
  {
   "cell_type": "code",
   "execution_count": null,
   "id": "c48596f0",
   "metadata": {},
   "outputs": [],
   "source": [
    "len(set(df_account.User_ID.tolist()))"
   ]
  },
  {
   "cell_type": "code",
   "execution_count": null,
   "id": "c2273d98",
   "metadata": {},
   "outputs": [],
   "source": [
    "len(set(df_alt_all_influence.User_ID.tolist()))"
   ]
  },
  {
   "cell_type": "code",
   "execution_count": null,
   "id": "e5d2c776",
   "metadata": {},
   "outputs": [],
   "source": [
    "df_merge_info.sort_values('News_Number')"
   ]
  },
  {
   "cell_type": "code",
   "execution_count": null,
   "id": "31398f62",
   "metadata": {},
   "outputs": [],
   "source": [
    "df_merge_info.columns"
   ]
  },
  {
   "cell_type": "code",
   "execution_count": null,
   "id": "d50b8e94",
   "metadata": {},
   "outputs": [],
   "source": [
    "news_groups = df_merge_info.groupby('News_Number')['User_ID'].apply(set)\n",
    "G = nx.Graph()\n",
    "\n",
    "for news, users in news_groups.items():\n",
    "    for user1 in users:\n",
    "        for user2 in users:\n",
    "            if user1 != user2:\n",
    "                if not G.has_edge(user1, user2):\n",
    "                    G.add_edge(user1, user2, weight=1)\n",
    "                else:\n",
    "                    G[user1][user2]['weight'] += 1\n",
    "\n",
    "nx.draw(G, with_labels=True, node_color='skyblue', node_size=500, font_size=12)\n",
    "plt.title('User Interaction Graph based on News Numbers')\n",
    "plt.show()"
   ]
  },
  {
   "cell_type": "code",
   "execution_count": null,
   "id": "da2b2fed",
   "metadata": {},
   "outputs": [],
   "source": []
  },
  {
   "cell_type": "code",
   "execution_count": null,
   "id": "2cae08d8",
   "metadata": {},
   "outputs": [],
   "source": [
    "connected_components = list(nx.connected_components(G))\n",
    "\n",
    "for i, component in enumerate(connected_components, 1):\n",
    "    print(f\"Connected Component {i}: {len(component)}\")\n",
    "    "
   ]
  },
  {
   "cell_type": "code",
   "execution_count": null,
   "id": "c8a5899b",
   "metadata": {},
   "outputs": [],
   "source": [
    "partition = community.best_partition(G)\n",
    "\n",
    "communities = {}\n",
    "for node, community_id in partition.items():\n",
    "    if community_id not in communities:\n",
    "        communities[community_id] = []\n",
    "    communities[community_id].append(node)\n",
    "\n",
    "for community_id, nodes in communities.items():\n",
    "    print(f\"Community {community_id}: {len(nodes)}\")"
   ]
  },
  {
   "cell_type": "code",
   "execution_count": null,
   "id": "895936d5",
   "metadata": {},
   "outputs": [],
   "source": [
    "num_communities = len(set(partition.values()))\n"
   ]
  },
  {
   "cell_type": "code",
   "execution_count": null,
   "id": "44c9968e",
   "metadata": {},
   "outputs": [],
   "source": [
    "sorted_communities = sorted(communities.items(), key=lambda x: len(x[1]), reverse=True)\n",
    "\n",
    "for idx, (community_id, nodes) in enumerate(sorted_communities, 1):\n",
    "    print(f\"Community {idx} (ID: {community_id}), Number of Nodes: {len(nodes)}\")"
   ]
  },
  {
   "cell_type": "code",
   "execution_count": null,
   "id": "504fd7a3",
   "metadata": {},
   "outputs": [],
   "source": [
    "partition = community.best_partition(G)\n",
    "\n",
    "communities = {}\n",
    "for node, community_id in partition.items():\n",
    "    if community_id not in communities:\n",
    "        communities[community_id] = []\n",
    "    communities[community_id].append(node)\n",
    "\n"
   ]
  },
  {
   "cell_type": "code",
   "execution_count": null,
   "id": "5b910e03",
   "metadata": {},
   "outputs": [],
   "source": []
  },
  {
   "cell_type": "code",
   "execution_count": null,
   "id": "078192ce",
   "metadata": {},
   "outputs": [],
   "source": [
    "partition = community.best_partition(G)\n",
    "\n",
    "communities = {}\n",
    "for node, community_id in partition.items():\n",
    "    if community_id not in communities:\n",
    "        communities[community_id] = []\n",
    "    communities[community_id].append(node)\n",
    "\n",
    "community_data = []\n",
    "\n",
    "for community_id, nodes in communities.items():\n",
    "    num_edges = G.subgraph(nodes).number_of_edges()\n",
    "    max_edges = len(nodes) * (len(nodes) - 1) / 2\n",
    "    density = num_edges / max_edges\n",
    "    community_data.append((community_id, len(nodes), density))\n",
    "\n",
    "df_acc_edge = pd.DataFrame(community_data, columns=['Community_ID', 'Num_Nodes', 'Density'])\n",
    "\n",
    "print(df_acc_edge)"
   ]
  },
  {
   "cell_type": "code",
   "execution_count": null,
   "id": "c21ea1b5",
   "metadata": {},
   "outputs": [],
   "source": [
    "nx.write_graphml(G, \"AltNews_Account.graphml\")"
   ]
  },
  {
   "cell_type": "code",
   "execution_count": null,
   "id": "0419cc4e",
   "metadata": {},
   "outputs": [],
   "source": [
    "nx.write_gpickle(G, \"AltNews_Account.pkl\")"
   ]
  },
  {
   "cell_type": "code",
   "execution_count": null,
   "id": "99f7b382",
   "metadata": {},
   "outputs": [],
   "source": [
    "type(partition)"
   ]
  },
  {
   "cell_type": "code",
   "execution_count": null,
   "id": "7cb8d2f1",
   "metadata": {},
   "outputs": [],
   "source": [
    "import pickle\n",
    "\n",
    "\n",
    "with open(\"Account_Partition.pkl\", \"wb\") as pkl_file:\n",
    "    pickle.dump(partition, pkl_file)"
   ]
  },
  {
   "cell_type": "code",
   "execution_count": null,
   "id": "195e7615",
   "metadata": {},
   "outputs": [],
   "source": []
  },
  {
   "cell_type": "code",
   "execution_count": null,
   "id": "956a7741",
   "metadata": {},
   "outputs": [],
   "source": []
  },
  {
   "cell_type": "code",
   "execution_count": null,
   "id": "03202509",
   "metadata": {},
   "outputs": [],
   "source": [
    "modularity = community.modularity(partition, G)"
   ]
  },
  {
   "cell_type": "code",
   "execution_count": null,
   "id": "eb6c0890",
   "metadata": {},
   "outputs": [],
   "source": [
    "modularity"
   ]
  },
  {
   "cell_type": "code",
   "execution_count": null,
   "id": "69188ebd",
   "metadata": {},
   "outputs": [],
   "source": [
    "for community_id, nodes in communities.items():\n",
    "    subgraph = G.subgraph(nodes)\n",
    "    modularity = community.modularity(partition, subgraph)\n",
    "    \n",
    "    print(f\"Community {community_id}: Modularity = {modularity}\")"
   ]
  },
  {
   "cell_type": "code",
   "execution_count": null,
   "id": "b0be75ef",
   "metadata": {},
   "outputs": [],
   "source": []
  },
  {
   "cell_type": "code",
   "execution_count": null,
   "id": "7e55cb10",
   "metadata": {},
   "outputs": [],
   "source": []
  },
  {
   "cell_type": "code",
   "execution_count": null,
   "id": "30255cf4",
   "metadata": {},
   "outputs": [],
   "source": [
    "df_acc_edge = df_acc_edge.sort_values(by = 'Num_Nodes', ascending = False).reset_index(drop = True)"
   ]
  },
  {
   "cell_type": "code",
   "execution_count": null,
   "id": "30a599d7",
   "metadata": {},
   "outputs": [],
   "source": [
    "df_acc_edge.loc[df_acc_edge.Num_Nodes >= 7]"
   ]
  },
  {
   "cell_type": "code",
   "execution_count": null,
   "id": "24d899f4",
   "metadata": {},
   "outputs": [],
   "source": [
    "community.modularity(partition, G)"
   ]
  },
  {
   "cell_type": "code",
   "execution_count": null,
   "id": "7c7f521e",
   "metadata": {},
   "outputs": [],
   "source": [
    "df_acc_edge"
   ]
  },
  {
   "cell_type": "code",
   "execution_count": null,
   "id": "e0db548a",
   "metadata": {},
   "outputs": [],
   "source": [
    "pd.DataFrame(communities)"
   ]
  },
  {
   "cell_type": "code",
   "execution_count": null,
   "id": "c8de3590",
   "metadata": {},
   "outputs": [],
   "source": [
    "community_data = [(node, community_id) for node, community_id in partition.items()]\n",
    "\n",
    "df_communities = pd.DataFrame(community_data, columns=['Node', 'Community_ID'])"
   ]
  },
  {
   "cell_type": "code",
   "execution_count": null,
   "id": "1d4864fd",
   "metadata": {},
   "outputs": [],
   "source": [
    "df_communities.sort_values('Community_ID').rename(columns = {'Node': 'User_ID'}).to_csv('AltNews_User_Community.csv', index = False)"
   ]
  },
  {
   "cell_type": "code",
   "execution_count": null,
   "id": "4978dd4e",
   "metadata": {},
   "outputs": [],
   "source": [
    "df_acc_edge.to_csv('AltNews_Community_Table.csv', index = False)"
   ]
  },
  {
   "cell_type": "code",
   "execution_count": null,
   "id": "7827dc5f",
   "metadata": {},
   "outputs": [],
   "source": [
    "df_communities.groupby('Community_ID').count()"
   ]
  },
  {
   "cell_type": "code",
   "execution_count": null,
   "id": "53f9f116",
   "metadata": {},
   "outputs": [],
   "source": [
    "df_acc_edge = df_acc_edge.rename(columns = {'Num_Nodes': 'Number_of_Accounts'})"
   ]
  },
  {
   "cell_type": "code",
   "execution_count": null,
   "id": "e5f4f0aa",
   "metadata": {},
   "outputs": [],
   "source": [
    "df_acc_edge.loc[df_acc_edge.Density > 0.8].iloc[0:20]"
   ]
  },
  {
   "cell_type": "code",
   "execution_count": null,
   "id": "7ae3ea2a",
   "metadata": {},
   "outputs": [],
   "source": [
    "df_acc_edge.to_csv('AltNews_Community_Table.csv', index = False)"
   ]
  },
  {
   "cell_type": "code",
   "execution_count": null,
   "id": "61f9988a",
   "metadata": {},
   "outputs": [],
   "source": [
    "df_acc_edge2 = pd.read_csv('AltNews_Community_Table.csv')"
   ]
  },
  {
   "cell_type": "code",
   "execution_count": null,
   "id": "c4f32358",
   "metadata": {},
   "outputs": [],
   "source": [
    "df_acc_edge2"
   ]
  },
  {
   "cell_type": "code",
   "execution_count": null,
   "id": "f5fb29c1",
   "metadata": {},
   "outputs": [],
   "source": [
    "len(df_acc_edge2)"
   ]
  },
  {
   "cell_type": "code",
   "execution_count": null,
   "id": "ac964d8d",
   "metadata": {},
   "outputs": [],
   "source": [
    "df_acc_edge2.loc[df_acc_edge2.Number_of_Accounts >= 5].mean()"
   ]
  },
  {
   "cell_type": "code",
   "execution_count": null,
   "id": "81c26aa4",
   "metadata": {},
   "outputs": [],
   "source": [
    "nodes_9 = communities[9]"
   ]
  },
  {
   "cell_type": "code",
   "execution_count": null,
   "id": "911bd641",
   "metadata": {},
   "outputs": [],
   "source": [
    "subgraph = G.subgraph(nodes_9)"
   ]
  },
  {
   "cell_type": "code",
   "execution_count": null,
   "id": "09693980",
   "metadata": {},
   "outputs": [],
   "source": [
    "subgraph"
   ]
  },
  {
   "cell_type": "code",
   "execution_count": null,
   "id": "9a345c8e",
   "metadata": {},
   "outputs": [],
   "source": [
    "total_weight = sum(weight for _, _, weight in G.edges(data='weight'))\n",
    "num_edges = G.number_of_edges()\n",
    "\n",
    "average_weight = total_weight / num_edges\n",
    "\n",
    "print(\"Average edge weight:\", average_weight)"
   ]
  },
  {
   "cell_type": "code",
   "execution_count": null,
   "id": "824123b2",
   "metadata": {},
   "outputs": [],
   "source": [
    "nx.draw(subgraph, node_size=100)"
   ]
  },
  {
   "cell_type": "code",
   "execution_count": null,
   "id": "03ae2d8c",
   "metadata": {},
   "outputs": [],
   "source": [
    "sub_edge = subgraph.number_of_edges()\n",
    "sub_nodes = subgraph.number_of_nodes()"
   ]
  },
  {
   "cell_type": "code",
   "execution_count": null,
   "id": "30a550e7",
   "metadata": {},
   "outputs": [],
   "source": [
    "sub_edge/((sub_nodes* (sub_nodes-1))/2)"
   ]
  },
  {
   "cell_type": "code",
   "execution_count": null,
   "id": "df2b3fdb",
   "metadata": {},
   "outputs": [],
   "source": [
    "\n"
   ]
  },
  {
   "cell_type": "code",
   "execution_count": null,
   "id": "c3d66011",
   "metadata": {},
   "outputs": [],
   "source": [
    "import networkx as nx\n",
    "import community\n",
    "\n",
    "\n",
    "partition3 = community.best_partition(G)\n",
    "\n",
    "communities3 = {}\n",
    "for node, community_id in partition3.items():\n",
    "    if community_id not in communities3:\n",
    "        communities3[community_id] = []\n",
    "    communities3[community_id].append(node)\n",
    "\n",
    "for community_id, nodes in communities3.items():\n",
    "    subgraph3 = G.subgraph(nodes)\n",
    "    modularity3 = community.modularity(partition3, subgraph3, weight='weight')\n",
    "    print(f\"Community {community_id}: Modularity = {modularity3}\")\n"
   ]
  },
  {
   "cell_type": "code",
   "execution_count": null,
   "id": "96156c72",
   "metadata": {},
   "outputs": [],
   "source": [
    "nodes"
   ]
  },
  {
   "cell_type": "code",
   "execution_count": null,
   "id": "f7a5393f",
   "metadata": {},
   "outputs": [],
   "source": [
    "partition2 = community.best_partition(G)\n",
    "\n",
    "for community_id in set(partition2.values()):\n",
    "    nodes_in_community = [node for node, comm_id in partition.items() if comm_id == community_id]\n",
    "    \n",
    "    subgraph = G.subgraph(nodes_in_community)\n",
    "    \n",
    "    modularity = community.modularity(partition2, subgraph)\n",
    "    \n",
    "    print(f\"Community {community_id}: Modularity = {modularity}\")"
   ]
  },
  {
   "cell_type": "code",
   "execution_count": null,
   "id": "83fd2316",
   "metadata": {},
   "outputs": [],
   "source": [
    "modularity"
   ]
  },
  {
   "cell_type": "code",
   "execution_count": null,
   "id": "28e5dd77",
   "metadata": {},
   "outputs": [],
   "source": [
    "partition2"
   ]
  },
  {
   "cell_type": "code",
   "execution_count": null,
   "id": "6c4921d7",
   "metadata": {},
   "outputs": [],
   "source": [
    "subgraph"
   ]
  },
  {
   "cell_type": "code",
   "execution_count": null,
   "id": "7dc8c504",
   "metadata": {},
   "outputs": [],
   "source": [
    "subgraph2 = G.subgraph(communities[9])"
   ]
  },
  {
   "cell_type": "code",
   "execution_count": null,
   "id": "0af094c2",
   "metadata": {},
   "outputs": [],
   "source": [
    "num_edges =subgraph2.number_of_edges()"
   ]
  },
  {
   "cell_type": "code",
   "execution_count": null,
   "id": "3a4f4f86",
   "metadata": {},
   "outputs": [],
   "source": [
    "num_edges"
   ]
  },
  {
   "cell_type": "code",
   "execution_count": null,
   "id": "f1c1cd2c",
   "metadata": {},
   "outputs": [],
   "source": [
    "total_weight = 0\n",
    "\n",
    "for u, v, data in subgraph.edges(data=True):\n",
    "    if 'weight' in data:\n",
    "        total_weight += data['weight']\n",
    "\n",
    "print(\"Total weight in the subgraph:\", total_weight)"
   ]
  },
  {
   "cell_type": "code",
   "execution_count": null,
   "id": "83ca2656",
   "metadata": {},
   "outputs": [],
   "source": [
    "nx.draw(subgraph, node_size=100)"
   ]
  },
  {
   "cell_type": "code",
   "execution_count": null,
   "id": "3c575d37",
   "metadata": {},
   "outputs": [],
   "source": [
    "edge_weights = {}\n",
    "for u, v, data in subgraph.edges(data=True):\n",
    "    edge_weights[(u, v)] = data['weight']\n",
    "\n",
    "for edge, weight in edge_weights.items():\n",
    "    print(f\"Edge {edge}: Weight {weight}\")"
   ]
  },
  {
   "cell_type": "code",
   "execution_count": null,
   "id": "bd70837d",
   "metadata": {},
   "outputs": [],
   "source": [
    "import networkx as nx\n",
    "import matplotlib.pyplot as plt\n",
    "\n",
    "\n",
    "\n",
    "pos = nx.spring_layout(subgraph)  # You can use any layout you prefer\n",
    "nx.draw(subgraph, pos, with_labels=True, node_color='skyblue', node_size=100, edge_color='black', linewidths=1, font_size=15)\n",
    "\n",
    "edge_labels = nx.get_edge_attributes(subgraph, 'weight')\n",
    "nx.draw_networkx_edge_labels(subgraph, pos, edge_labels=edge_labels, font_color='red')\n",
    "\n",
    "plt.show()"
   ]
  },
  {
   "cell_type": "code",
   "execution_count": null,
   "id": "9c5116d5",
   "metadata": {},
   "outputs": [],
   "source": [
    "G2 = nx.Graph()\n",
    "\n",
    "news_groups2 = df_merge_info.groupby('News_Number')['User_ID'].apply(set)\n",
    "\n",
    "for news, users in news_groups2.items():\n",
    "    for user1 in users:\n",
    "        for user2 in users:\n",
    "            if user1 < user2:  # Ensure unique pairs (user1, user2)\n",
    "                if G2.has_edge(user1, user2):\n",
    "                    G2[user1][user2]['weight'] += 1\n",
    "                else:\n",
    "                    G2.add_edge(user1, user2, weight=1)\n",
    "\n",
    "nx.draw(G2, with_labels=True, node_color='skyblue', node_size=100, font_size=12)\n",
    "plt.title('User Interaction Graph based on News Numbers')\n",
    "plt.show()"
   ]
  },
  {
   "cell_type": "code",
   "execution_count": null,
   "id": "532e0f5b",
   "metadata": {},
   "outputs": [],
   "source": [
    "edge_weights = {}\n",
    "for u, v, data in G2.edges(data=True):\n",
    "    edge_weights[(u, v)] = data['weight']\n",
    "\n",
    "for edge, weight in edge_weights.items():\n",
    "    print(f\"Edge {edge}: Weight {weight}\")"
   ]
  },
  {
   "cell_type": "code",
   "execution_count": null,
   "id": "765e9c59",
   "metadata": {},
   "outputs": [],
   "source": [
    "partition2 = community.best_partition(G2)\n",
    "\n",
    "community_data2 = []\n",
    "\n",
    "for community_id in set(partition2.values()):\n",
    "    nodes_in_community = [node for node, comm_id in partition2.items() if comm_id == community_id]\n",
    "    \n",
    "    subgraph = G2.subgraph(nodes_in_community)\n",
    "    \n",
    "    num_nodes = subgraph.number_of_nodes()\n",
    "    num_edges = subgraph.number_of_edges()\n",
    "    density = nx.density(subgraph)\n",
    "    avg_degree = sum(dict(subgraph.degree()).values()) / num_nodes\n",
    "    clustering_coefficient = nx.average_clustering(subgraph)\n",
    "    modularity = community.modularity(partition2, subgraph)\n",
    "    \n",
    "    edge_weights = [data['weight'] for _, _, data in subgraph.edges(data=True)]\n",
    "    average_weight = sum(edge_weights) / len(edge_weights) if edge_weights else 0\n",
    "    \n",
    "    community_data2.append((community_id, num_nodes, num_edges, density, avg_degree, clustering_coefficient, average_weight))\n",
    "\n",
    "df_community2 = pd.DataFrame(community_data2, columns=['Community_ID', 'Num_Nodes', 'Num_Edges', 'Density', 'Avg_Degree', 'Clustering_Coefficient', 'average_weight'])\n"
   ]
  },
  {
   "cell_type": "code",
   "execution_count": null,
   "id": "fe1435aa",
   "metadata": {},
   "outputs": [],
   "source": [
    "df_community2.sort_values('Num_Nodes', ascending = False).reset_index(drop = True).to_csv('AltNews_ACC_Network.csv')"
   ]
  },
  {
   "cell_type": "code",
   "execution_count": null,
   "id": "85206102",
   "metadata": {},
   "outputs": [],
   "source": [
    "communities"
   ]
  },
  {
   "cell_type": "code",
   "execution_count": null,
   "id": "cfc65598",
   "metadata": {},
   "outputs": [],
   "source": []
  }
 ],
 "metadata": {
  "kernelspec": {
   "display_name": "Python 3 (ipykernel)",
   "language": "python",
   "name": "python3"
  },
  "language_info": {
   "codemirror_mode": {
    "name": "ipython",
    "version": 3
   },
   "file_extension": ".py",
   "mimetype": "text/x-python",
   "name": "python",
   "nbconvert_exporter": "python",
   "pygments_lexer": "ipython3",
   "version": "3.9.13"
  }
 },
 "nbformat": 4,
 "nbformat_minor": 5
}
