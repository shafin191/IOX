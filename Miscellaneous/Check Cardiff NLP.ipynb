{
 "cells": [
  {
   "cell_type": "code",
   "execution_count": null,
   "id": "ba7839e4",
   "metadata": {},
   "outputs": [],
   "source": [
    "import pandas as pd\n",
    "import matplotlib as plt\n",
    "import numpy as np\n",
    "import os\n",
    "import json\n",
    "pd.set_option('display.max_colwidth', None)\n",
    "pd.set_option('display.max_columns', 10)\n",
    "pd.set_option('display.max_rows', 50)\n",
    "print(os.getcwd())"
   ]
  },
  {
   "cell_type": "code",
   "execution_count": null,
   "id": "642f84e0",
   "metadata": {},
   "outputs": [],
   "source": [
    "import tweetnlp\n",
    "\n",
    "model4 = tweetnlp.load_model('ner')\n",
    "model4.ner(txt2, return_probability=True)\n"
   ]
  },
  {
   "cell_type": "code",
   "execution_count": null,
   "id": "b37679a2",
   "metadata": {},
   "outputs": [],
   "source": [
    "df_cluster_english = pd.read_csv('English_Tweet_Refied.csv', lineterminator = '\\n')"
   ]
  },
  {
   "cell_type": "code",
   "execution_count": null,
   "id": "f17b76d8",
   "metadata": {},
   "outputs": [],
   "source": [
    "model_topic = tweetnlp.load_model('topic_classification', multi_label=True)  \n",
    "res = model_topic.topic(df_cluster_english.iloc[122].Refined_Text_English, return_probability=True) "
   ]
  },
  {
   "cell_type": "code",
   "execution_count": null,
   "id": "d22cb0ea",
   "metadata": {},
   "outputs": [],
   "source": [
    "df_cluster_english.iloc[122].Refined_Text_English"
   ]
  },
  {
   "cell_type": "code",
   "execution_count": null,
   "id": "133e8315",
   "metadata": {},
   "outputs": [],
   "source": [
    "res['label'][2]"
   ]
  },
  {
   "cell_type": "code",
   "execution_count": null,
   "id": "d9bca9d1",
   "metadata": {},
   "outputs": [],
   "source": [
    "res['probability'][res['label'][2]]"
   ]
  },
  {
   "cell_type": "code",
   "execution_count": null,
   "id": "afd3ba5b",
   "metadata": {},
   "outputs": [],
   "source": [
    "df_cluster_english.Refined_Text_English.tolist()[0:20]"
   ]
  },
  {
   "cell_type": "code",
   "execution_count": null,
   "id": "d1af3699",
   "metadata": {},
   "outputs": [],
   "source": [
    "df_cluster_english = df_cluster_english.replace(np.nan, '-1')"
   ]
  },
  {
   "cell_type": "code",
   "execution_count": null,
   "id": "5d86b159",
   "metadata": {},
   "outputs": [],
   "source": [
    "df_cluster_english.dropna()"
   ]
  },
  {
   "cell_type": "code",
   "execution_count": null,
   "id": "509ea84e",
   "metadata": {},
   "outputs": [],
   "source": [
    "res = model_topic.topic(df_cluster_english.Refined_Text_English.tolist()[0:10000], return_probability=True) "
   ]
  },
  {
   "cell_type": "code",
   "execution_count": null,
   "id": "91caa2f1",
   "metadata": {},
   "outputs": [],
   "source": [
    "with open(\"Cardiff_Topic.json\", \"r\") as fp:\n",
    "    b = json.load(fp)"
   ]
  },
  {
   "cell_type": "code",
   "execution_count": null,
   "id": "059b6322",
   "metadata": {},
   "outputs": [],
   "source": [
    "b[19064]"
   ]
  },
  {
   "cell_type": "code",
   "execution_count": null,
   "id": "8d262604",
   "metadata": {},
   "outputs": [],
   "source": [
    "len(df_cluster_english)"
   ]
  },
  {
   "cell_type": "code",
   "execution_count": null,
   "id": "0a2f8d0a",
   "metadata": {},
   "outputs": [],
   "source": [
    "len(b)"
   ]
  },
  {
   "cell_type": "code",
   "execution_count": null,
   "id": "ecf268a4",
   "metadata": {},
   "outputs": [],
   "source": [
    "df_cluster_english.iloc[19064].Refined_Text_English"
   ]
  },
  {
   "cell_type": "code",
   "execution_count": null,
   "id": "d0738bf2",
   "metadata": {},
   "outputs": [],
   "source": [
    "model_hate = tweetnlp.load_model('hate')\n",
    "model_offensive = tweetnlp.load_model('offensive')\n",
    "model_irony = tweetnlp.load_model('irony')\n",
    "model_emotion = tweetnlp.load_model('emotion')"
   ]
  },
  {
   "cell_type": "code",
   "execution_count": null,
   "id": "43d1bc42",
   "metadata": {},
   "outputs": [],
   "source": [
    "model_hate.hate(txt,return_probability=True)"
   ]
  },
  {
   "cell_type": "code",
   "execution_count": null,
   "id": "c1ee8f32",
   "metadata": {},
   "outputs": [],
   "source": [
    "res_hate = model_hate.hate(df_cluster_english.Refined_Text_English.tolist()[0:10000], return_probability=True) "
   ]
  },
  {
   "cell_type": "code",
   "execution_count": null,
   "id": "a29f72a6",
   "metadata": {},
   "outputs": [],
   "source": [
    "res_hate2 = model_hate.hate(df_cluster_english.Refined_Text_English.tolist()[10000:20000], return_probability=True)\n",
    "res_hate3 = model_hate.hate(df_cluster_english.Refined_Text_English.tolist()[20000:30000], return_probability=True)\n",
    "res_hate4 = model_hate.hate(df_cluster_english.Refined_Text_English.tolist()[30000:40000], return_probability=True)\n",
    "res_hate5 = model_hate.hate(df_cluster_english.Refined_Text_English.tolist()[40000:50000], return_probability=True)\n",
    "res_hate6 = model_hate.hate(df_cluster_english.Refined_Text_English.tolist()[50000:60000], return_probability=True)\n",
    "res_hate7 = model_hate.hate(df_cluster_english.Refined_Text_English.tolist()[60000:70000], return_probability=True)\n",
    "res_hate8 = model_hate.hate(df_cluster_english.Refined_Text_English.tolist()[70000:80000], return_probability=True)\n",
    "res_hate9 = model_hate.hate(df_cluster_english.Refined_Text_English.tolist()[80000:90000], return_probability=True)\n",
    "res_hate10 = model_hate.hate(df_cluster_english.Refined_Text_English.tolist()[90000:100000], return_probability=True)\n",
    "res_hate11 = model_hate.hate(df_cluster_english.Refined_Text_English.tolist()[100000:110000], return_probability=True)\n",
    "res_hate12 = model_hate.hate(df_cluster_english.Refined_Text_English.tolist()[110000:], return_probability=True)\n"
   ]
  },
  {
   "cell_type": "code",
   "execution_count": null,
   "id": "51b1dc5c",
   "metadata": {},
   "outputs": [],
   "source": [
    "res_hate_final = res_hate + res_hate2 + res_hate3 + res_hate4 + res_hate5 + res_hate6 + res_hate7 + res_hate8 + res_hate9 + res_hate10 + res_hate11 + res_hate12"
   ]
  },
  {
   "cell_type": "code",
   "execution_count": null,
   "id": "1a097693",
   "metadata": {},
   "outputs": [],
   "source": [
    "len(res_hate_final)"
   ]
  },
  {
   "cell_type": "code",
   "execution_count": null,
   "id": "41473c9a",
   "metadata": {},
   "outputs": [],
   "source": [
    "with open(\"Cardiff_Hate.json\", \"w\") as fp:\n",
    "    json.dump(res_hate_final, fp)"
   ]
  },
  {
   "cell_type": "code",
   "execution_count": null,
   "id": "370c704a",
   "metadata": {},
   "outputs": [],
   "source": [
    "start_index = 10000\n",
    "end_index = 20000\n",
    "\n",
    "for i in range(12):\n",
    "    res_hate2 = model_hate.hate(df_cluster_english.Refined_Text_English.tolist()[start_index:end_index], return_probability=True)\n",
    "    res_hate = res_hate + res_hate2\n",
    "    with open(\"Cardiff_Hate.json\", \"w\") as fp:\n",
    "        json.dump(res_hate, fp)\n",
    "        \n",
    "        \n",
    "    start_index = start_index + 10000\n",
    "    end_index = end_index + 10000\n",
    "    \n",
    "with open(\"Cardiff_Hate.json\", \"w\") as fp:\n",
    "    json.dump(res_hate, fp)"
   ]
  },
  {
   "cell_type": "code",
   "execution_count": null,
   "id": "b5c1e051",
   "metadata": {},
   "outputs": [],
   "source": [
    "res_hate[0]['label']"
   ]
  },
  {
   "cell_type": "code",
   "execution_count": null,
   "id": "4e4b76eb",
   "metadata": {},
   "outputs": [],
   "source": [
    "for i in range(0, 10000):\n",
    "    if res_hate[i]['label'] == 'HATE':\n",
    "        print(i)"
   ]
  },
  {
   "cell_type": "code",
   "execution_count": null,
   "id": "c31400f5",
   "metadata": {},
   "outputs": [],
   "source": [
    "res_hate[29]['label']"
   ]
  },
  {
   "cell_type": "code",
   "execution_count": null,
   "id": "8300b86f",
   "metadata": {},
   "outputs": [],
   "source": [
    "df_cluster_english.iloc[29].Refined_Text_English"
   ]
  },
  {
   "cell_type": "code",
   "execution_count": null,
   "id": "bcbbbc7c",
   "metadata": {},
   "outputs": [],
   "source": []
  },
  {
   "cell_type": "code",
   "execution_count": null,
   "id": "d929a08d",
   "metadata": {},
   "outputs": [],
   "source": [
    "len(res_emotion)"
   ]
  },
  {
   "cell_type": "code",
   "execution_count": null,
   "id": "b7ab97cc",
   "metadata": {},
   "outputs": [],
   "source": [
    "len(res_hate)"
   ]
  },
  {
   "cell_type": "code",
   "execution_count": null,
   "id": "4af1b8b6",
   "metadata": {},
   "outputs": [],
   "source": [
    "res_hate"
   ]
  },
  {
   "cell_type": "code",
   "execution_count": null,
   "id": "7ca6a079",
   "metadata": {},
   "outputs": [],
   "source": [
    "df_cluster_english['Hate'] = res_hate_final"
   ]
  },
  {
   "cell_type": "code",
   "execution_count": null,
   "id": "bf08c57c",
   "metadata": {},
   "outputs": [],
   "source": [
    "df_cluster_english"
   ]
  },
  {
   "cell_type": "code",
   "execution_count": null,
   "id": "41564de6",
   "metadata": {},
   "outputs": [],
   "source": [
    "len(res_hate_final)"
   ]
  },
  {
   "cell_type": "code",
   "execution_count": null,
   "id": "17043501",
   "metadata": {},
   "outputs": [],
   "source": [
    "res_hate_final[0]['label']"
   ]
  },
  {
   "cell_type": "code",
   "execution_count": null,
   "id": "475bf3ce",
   "metadata": {},
   "outputs": [],
   "source": [
    "res_hate_final[0]['probability'][res_hate_final[0]['label']]"
   ]
  },
  {
   "cell_type": "code",
   "execution_count": null,
   "id": "481eae81",
   "metadata": {},
   "outputs": [],
   "source": [
    "hate_label = []\n",
    "hate_probability = []\n",
    "for i in range(len(res_hate_final)):\n",
    "    hate_label.append(res_hate_final[i]['label'])\n",
    "    hate_probability.append(res_hate_final[i]['probability'][res_hate_final[i]['label']])"
   ]
  },
  {
   "cell_type": "code",
   "execution_count": null,
   "id": "62ca4737",
   "metadata": {},
   "outputs": [],
   "source": [
    "res_offensive"
   ]
  },
  {
   "cell_type": "code",
   "execution_count": null,
   "id": "44f4a9ec",
   "metadata": {},
   "outputs": [],
   "source": [
    "offensive_label = []\n",
    "offensive_probability = []\n",
    "for i in range(len(res_offensive)):\n",
    "    offensive_label.append(res_offensive[i]['label'])\n",
    "    offensive_probability.append(res_offensive[i]['probability'][res_offensive[i]['label']])"
   ]
  },
  {
   "cell_type": "code",
   "execution_count": null,
   "id": "b97140f0",
   "metadata": {},
   "outputs": [],
   "source": [
    "\n",
    "irony_label = []\n",
    "irony_probability = []\n",
    "for i in range(len(res_irony)):\n",
    "    irony_label.append(res_irony[i]['label'])\n",
    "    irony_probability.append(res_irony[i]['probability'][res_irony[i]['label']])\n",
    "\n",
    "df_cluster_english['Irony_Label'] = irony_label\n",
    "df_cluster_english['Irony_Probability'] = irony_probability"
   ]
  },
  {
   "cell_type": "code",
   "execution_count": null,
   "id": "1a8ea3d0",
   "metadata": {},
   "outputs": [],
   "source": [
    "df_cluster_english['HS_Label'] = hate_label\n",
    "df_cluster_english['HS_Probability'] = hate_probability"
   ]
  },
  {
   "cell_type": "code",
   "execution_count": null,
   "id": "a1b5a029",
   "metadata": {},
   "outputs": [],
   "source": [
    "df_cluster_english['OF_Label'] = offensive_label\n",
    "df_cluster_english['OF_Probability'] = offensive_probability"
   ]
  },
  {
   "cell_type": "code",
   "execution_count": null,
   "id": "56cee097",
   "metadata": {},
   "outputs": [],
   "source": [
    "df_cluster_english[df_cluster_english.HS_Label == 'HATE']"
   ]
  },
  {
   "cell_type": "code",
   "execution_count": null,
   "id": "0ba53217",
   "metadata": {},
   "outputs": [],
   "source": [
    "df_cluster_english[df_cluster_english.OF_Label == 'offensive']"
   ]
  },
  {
   "cell_type": "code",
   "execution_count": null,
   "id": "9ac80cde",
   "metadata": {},
   "outputs": [],
   "source": [
    "df_cluster_english[df_cluster_english.Irony_Label == 'irony']"
   ]
  },
  {
   "cell_type": "code",
   "execution_count": null,
   "id": "36514853",
   "metadata": {},
   "outputs": [],
   "source": [
    "res_emotion"
   ]
  },
  {
   "cell_type": "code",
   "execution_count": null,
   "id": "3469e44f",
   "metadata": {},
   "outputs": [],
   "source": [
    "emo_label = []\n",
    "emo_probability = []\n",
    "for i in range(len(res_emotion)):\n",
    "    emo_label.append(res_emotion[i]['label'])\n",
    "    emo_probability.append(res_emotion[i]['probability'][res_emotion[i]['label']])\n",
    "\n",
    "df_cluster_english['Emotion_Label'] = emo_label\n",
    "df_cluster_english['Emotion_Probability'] = emo_probability"
   ]
  },
  {
   "cell_type": "code",
   "execution_count": null,
   "id": "2b16932a",
   "metadata": {},
   "outputs": [],
   "source": [
    "df_cluster_english.groupby('Emotion_Label').count()"
   ]
  },
  {
   "cell_type": "code",
   "execution_count": null,
   "id": "e83ec024",
   "metadata": {
    "scrolled": true
   },
   "outputs": [],
   "source": [
    "df_cluster_english[df_cluster_english.Emotion_Label == 'joy']"
   ]
  },
  {
   "cell_type": "code",
   "execution_count": null,
   "id": "924b25ed",
   "metadata": {},
   "outputs": [],
   "source": [
    "df_cluster_english.to_csv('Cardiff_NLP_Result.csv', index = False)"
   ]
  },
  {
   "cell_type": "code",
   "execution_count": null,
   "id": "346e7154",
   "metadata": {},
   "outputs": [],
   "source": [
    "df_cluster_english[df_cluster_english.HS_Label == 'HATE'].sample(20)"
   ]
  },
  {
   "cell_type": "code",
   "execution_count": null,
   "id": "dfac5771",
   "metadata": {},
   "outputs": [],
   "source": [
    "df_cluster_english[df_cluster_english.OF_Label == 'offensive']"
   ]
  },
  {
   "cell_type": "code",
   "execution_count": null,
   "id": "527385c9",
   "metadata": {},
   "outputs": [],
   "source": [
    "df_cluster = pd.read_csv('All_Tweet_With_Topic.csv')"
   ]
  },
  {
   "cell_type": "code",
   "execution_count": null,
   "id": "7452d84d",
   "metadata": {},
   "outputs": [],
   "source": [
    "df_account = pd.read_csv('All_Account_with_Updated_Influencer.csv')"
   ]
  },
  {
   "cell_type": "code",
   "execution_count": null,
   "id": "bce56a80",
   "metadata": {},
   "outputs": [],
   "source": [
    "df_account[['User_ID', 'Predicted_PL']]"
   ]
  },
  {
   "cell_type": "code",
   "execution_count": null,
   "id": "32d0c284",
   "metadata": {},
   "outputs": [],
   "source": [
    "df_cluster['Total_Engagement'] = df_cluster.Retweet_Count + df_cluster.Favorite_Count"
   ]
  },
  {
   "cell_type": "code",
   "execution_count": null,
   "id": "8c222de8",
   "metadata": {},
   "outputs": [],
   "source": [
    "df_cluster = pd.merge(df_cluster, df_account[['User_ID', 'Predicted_PL']])"
   ]
  },
  {
   "cell_type": "code",
   "execution_count": null,
   "id": "ad49a0de",
   "metadata": {},
   "outputs": [],
   "source": [
    "df_cluster[df_cluster.Cluster_ID == 'Wild_77585'][['Cluster_ID', 'Tweet_ID', 'Tweet_Text', 'Predicted_PL', 'Total_Engagement']]"
   ]
  },
  {
   "cell_type": "code",
   "execution_count": null,
   "id": "9277eefd",
   "metadata": {},
   "outputs": [],
   "source": [
    "df_cluster[df_cluster.Cluster_ID == 'Wild_77585'][['Cluster_ID', 'Tweet_ID', 'Tweet_Text', 'Predicted_PL', 'Total_Engagement']].sum()"
   ]
  },
  {
   "cell_type": "code",
   "execution_count": null,
   "id": "118e9e1b",
   "metadata": {
    "scrolled": true
   },
   "outputs": [],
   "source": [
    "df_cluster[df_cluster.Cluster_ID.isin(df_cluster_english[df_cluster_english.HS_Label == 'HATE'].Cluster_ID.tolist())].groupby('Cluster_ID').count().sort_values('Tweet_ID').iloc[-40:-20]"
   ]
  },
  {
   "cell_type": "code",
   "execution_count": null,
   "id": "40d0cfbe",
   "metadata": {},
   "outputs": [],
   "source": [
    "df_cluster[df_cluster.Cluster_ID.isin(df_cluster_english[df_cluster_english.OF_Label == 'offensive'].Cluster_ID.tolist())].groupby('Cluster_ID').count().sort_values('Tweet_ID').iloc[-20:]"
   ]
  },
  {
   "cell_type": "code",
   "execution_count": null,
   "id": "0cd421dc",
   "metadata": {},
   "outputs": [],
   "source": []
  }
 ],
 "metadata": {
  "kernelspec": {
   "display_name": "Python 3 (ipykernel)",
   "language": "python",
   "name": "python3"
  },
  "language_info": {
   "codemirror_mode": {
    "name": "ipython",
    "version": 3
   },
   "file_extension": ".py",
   "mimetype": "text/x-python",
   "name": "python",
   "nbconvert_exporter": "python",
   "pygments_lexer": "ipython3",
   "version": "3.9.13"
  }
 },
 "nbformat": 4,
 "nbformat_minor": 5
}
