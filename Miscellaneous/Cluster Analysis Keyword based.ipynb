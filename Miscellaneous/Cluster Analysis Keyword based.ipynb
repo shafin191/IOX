{
 "cells": [
  {
   "cell_type": "code",
   "execution_count": null,
   "id": "9675231e",
   "metadata": {},
   "outputs": [],
   "source": [
    "import pandas as pd\n",
    "from sentence_transformers import SentenceTransformer, util\n",
    "import numpy as np\n",
    "import time\n",
    "from sklearn.metrics.pairwise import cosine_similarity\n",
    "import torch\n",
    "import re\n",
    "from pyarrow import csv\n",
    "import gc\n",
    "import os\n",
    "from os import listdir\n",
    "from os.path import isfile, join\n",
    "pd.set_option('display.max_colwidth', None)"
   ]
  },
  {
   "cell_type": "code",
   "execution_count": null,
   "id": "6acd1e94",
   "metadata": {},
   "outputs": [],
   "source": [
    "df_cluster_classification = pd.read_csv('Cluster_Prediction.csv')\n",
    "df_cluster_classification = df_cluster_classification.drop(columns = 'Unnamed: 0')\n",
    "df_tweet_lang2 = pd.read_csv(\"Latest_Tweet_Fake_Spreader_Tweets.csv\", lineterminator='\\n', usecols = ['Tweet_ID','User_ID', 'Tweet_Text','Tweet_Lang','Tweet_Time', 'Retweet_Count','Favorite_Count' ], dtype=str)\n",
    "df_tweet_lang3 = pd.read_csv(\"Latest_Tweet_Fake_Spreader_Tweets.csv\", lineterminator='\\n', dtype=str)\n"
   ]
  },
  {
   "cell_type": "code",
   "execution_count": null,
   "id": "96899b75",
   "metadata": {},
   "outputs": [],
   "source": [
    "df_cluster_classification.Tweet_ID = df_cluster_classification.Tweet_ID.astype('str')\n",
    "df_class_data = pd.merge(df_tweet_lang2, df_cluster_classification[['Cluster_ID', 'Tweet_ID', 'Tweet_Link', 'Prediction2']])"
   ]
  },
  {
   "cell_type": "code",
   "execution_count": null,
   "id": "b5f46ff8",
   "metadata": {},
   "outputs": [],
   "source": [
    "df_class_data['Total_Engagement'] = df_class_data.Retweet_Count + df_class_data.Favorite_Count"
   ]
  },
  {
   "cell_type": "code",
   "execution_count": null,
   "id": "957924d5",
   "metadata": {},
   "outputs": [],
   "source": [
    "df_acc = pd.read_csv('All_Fake_without_debunkers_Updated.csv')"
   ]
  },
  {
   "cell_type": "code",
   "execution_count": null,
   "id": "9f8a95c3",
   "metadata": {},
   "outputs": [],
   "source": [
    "df_acc_verified = df_acc.loc[df_acc.UserVerified == True]"
   ]
  },
  {
   "cell_type": "code",
   "execution_count": null,
   "id": "c4224dd3",
   "metadata": {},
   "outputs": [],
   "source": [
    "df_verified = df_acc_verified.User_ID.tolist()"
   ]
  },
  {
   "cell_type": "code",
   "execution_count": null,
   "id": "b22aeae4",
   "metadata": {},
   "outputs": [],
   "source": []
  },
  {
   "cell_type": "code",
   "execution_count": null,
   "id": "55f82d81",
   "metadata": {},
   "outputs": [],
   "source": [
    "df_class_data.Tweet_ID = df_class_data.Tweet_ID.astype('str')\n",
    "df_class_data.User_ID = df_class_data.User_ID.astype('int')"
   ]
  },
  {
   "cell_type": "code",
   "execution_count": null,
   "id": "c18beee7",
   "metadata": {},
   "outputs": [],
   "source": [
    "df_class_data['From_verified'] = df_class_data['User_ID'].isin(df_verified)"
   ]
  },
  {
   "cell_type": "code",
   "execution_count": null,
   "id": "5fae963a",
   "metadata": {},
   "outputs": [],
   "source": []
  },
  {
   "cell_type": "code",
   "execution_count": null,
   "id": "d3867343",
   "metadata": {},
   "outputs": [],
   "source": [
    "df_class_data['Total_Engagement'] = df_class_data.Retweet_Count.astype('int') + df_class_data.Favorite_Count.astype('int')"
   ]
  },
  {
   "cell_type": "code",
   "execution_count": null,
   "id": "bb681de5",
   "metadata": {},
   "outputs": [],
   "source": [
    "df_class_data = df_class_data.assign(From_verified=df_class_data['From_verified'].astype('int'))"
   ]
  },
  {
   "cell_type": "code",
   "execution_count": null,
   "id": "b7a2f099",
   "metadata": {},
   "outputs": [],
   "source": [
    "df_class_data.User_ID = df_class_data.User_ID.astype('str')"
   ]
  },
  {
   "cell_type": "markdown",
   "id": "0e1623ab",
   "metadata": {},
   "source": [
    "# Hindutva"
   ]
  },
  {
   "cell_type": "code",
   "execution_count": null,
   "id": "8337f411",
   "metadata": {},
   "outputs": [],
   "source": [
    "df_class_data.groupby('Cluster_ID').sum().sort_values(by = 'From_verified')"
   ]
  },
  {
   "cell_type": "code",
   "execution_count": null,
   "id": "80aa633e",
   "metadata": {},
   "outputs": [],
   "source": [
    "df_class_data.loc[df_class_data.Tweet_Text.str.contains('hindutva')|\n",
    "                  df_class_data.Tweet_Text.str.contains('Hindutva')].groupby('Cluster_ID').count().reset_index(drop = False)"
   ]
  },
  {
   "cell_type": "code",
   "execution_count": null,
   "id": "a7df4a5d",
   "metadata": {},
   "outputs": [],
   "source": []
  },
  {
   "cell_type": "code",
   "execution_count": null,
   "id": "bca1c918",
   "metadata": {},
   "outputs": [],
   "source": [
    "df_hindutva_top_verified_list = df_class_data.loc[df_class_data.Tweet_Text.str.contains('hindutva')|df_class_data.Tweet_Text.str.contains('Hindutva')].groupby('Cluster_ID').sum().sort_values(by = ['From_verified', 'Total_Engagement']).reset_index().iloc[-5:].Cluster_ID.tolist()"
   ]
  },
  {
   "cell_type": "code",
   "execution_count": null,
   "id": "80aae185",
   "metadata": {},
   "outputs": [],
   "source": [
    "df_hindutva_top_verified_list"
   ]
  },
  {
   "cell_type": "code",
   "execution_count": null,
   "id": "40b2d963",
   "metadata": {},
   "outputs": [],
   "source": [
    "df_class_data.loc[df_class_data.Cluster_ID.isin(df_hindutva_top_verified_list)].groupby('Cluster_ID').count()"
   ]
  },
  {
   "cell_type": "code",
   "execution_count": null,
   "id": "96cc2d9e",
   "metadata": {},
   "outputs": [],
   "source": [
    "df_class_data.loc[df_class_data.Cluster_ID.isin(df_hindutva_top_verified_list)].groupby('Cluster_ID').sum()"
   ]
  },
  {
   "cell_type": "code",
   "execution_count": null,
   "id": "126d5f71",
   "metadata": {},
   "outputs": [],
   "source": [
    "df_class_data.loc[df_class_data.Cluster_ID == df_hindutva_top_verified_list[0]][['Cluster_ID', 'Tweet_Time', 'Tweet_Text']]"
   ]
  },
  {
   "cell_type": "code",
   "execution_count": null,
   "id": "992f8aa1",
   "metadata": {},
   "outputs": [],
   "source": [
    "df_class_data.groupby('Cluster_ID').count().reset_index(drop = False)"
   ]
  },
  {
   "cell_type": "code",
   "execution_count": null,
   "id": "92bf3a4e",
   "metadata": {},
   "outputs": [],
   "source": [
    "df_class_data = df_class_data.sort_values(['Cluster_ID', 'Tweet_Time'])"
   ]
  },
  {
   "cell_type": "code",
   "execution_count": null,
   "id": "8a4ddbec",
   "metadata": {},
   "outputs": [],
   "source": [
    "df_class_data['Tweet_Date'] = pd.to_datetime(df_class_data[\"Tweet_Time\"]).dt.date"
   ]
  },
  {
   "cell_type": "code",
   "execution_count": null,
   "id": "99b4b5f1",
   "metadata": {},
   "outputs": [],
   "source": [
    "diff = df_class_data['Tweet_Date'].loc[0] - df_class_data['Tweet_Date'].loc[1]"
   ]
  },
  {
   "cell_type": "code",
   "execution_count": null,
   "id": "89b1cd6b",
   "metadata": {},
   "outputs": [],
   "source": [
    "diff.days"
   ]
  },
  {
   "cell_type": "code",
   "execution_count": null,
   "id": "4bd36388",
   "metadata": {},
   "outputs": [],
   "source": [
    "df_cluster = df_class_data.groupby('Cluster_ID').count().reset_index(drop = False).Cluster_ID.tolist()"
   ]
  },
  {
   "cell_type": "code",
   "execution_count": null,
   "id": "c35b088a",
   "metadata": {},
   "outputs": [],
   "source": [
    "df_class_data.loc[df_class_data.Cluster_ID == 0].reset_index(drop = True).iloc[0].Tweet_Date"
   ]
  },
  {
   "cell_type": "code",
   "execution_count": null,
   "id": "c5748f3b",
   "metadata": {},
   "outputs": [],
   "source": [
    "df_class_data.loc[df_class_data.Cluster_ID == 0].reset_index(drop = True).iloc[-1].Tweet_Time"
   ]
  },
  {
   "cell_type": "code",
   "execution_count": null,
   "id": "6500974f",
   "metadata": {},
   "outputs": [],
   "source": [
    "date_diff_list = []\n",
    "for i in df_cluster:\n",
    "    last = df_class_data.loc[df_class_data.Cluster_ID == i].reset_index(drop = True).iloc[-1].Tweet_Date\n",
    "    first = df_class_data.loc[df_class_data.Cluster_ID == i].reset_index(drop = True).iloc[0].Tweet_Date\n",
    "    diff = last - first\n",
    "    diff_dt = diff.days\n",
    "    date_diff_list.append(diff_dt)"
   ]
  },
  {
   "cell_type": "code",
   "execution_count": null,
   "id": "a29840d4",
   "metadata": {},
   "outputs": [],
   "source": [
    "df_cluster"
   ]
  },
  {
   "cell_type": "code",
   "execution_count": null,
   "id": "a229eaa9",
   "metadata": {},
   "outputs": [],
   "source": [
    "len(date_diff_list)"
   ]
  },
  {
   "cell_type": "code",
   "execution_count": null,
   "id": "441f4337",
   "metadata": {},
   "outputs": [],
   "source": [
    "df_cluster_interval = pd.DataFrame(list(zip(df_cluster, date_diff_list)),\n",
    "              columns=['Cluster_ID','Time_Interval'])"
   ]
  },
  {
   "cell_type": "code",
   "execution_count": null,
   "id": "ad736430",
   "metadata": {
    "scrolled": true
   },
   "outputs": [],
   "source": [
    "df_class_data"
   ]
  },
  {
   "cell_type": "code",
   "execution_count": null,
   "id": "a6ff0a84",
   "metadata": {},
   "outputs": [],
   "source": [
    "df_class_data2 = pd.merge(df_class_data, df_cluster_interval)"
   ]
  },
  {
   "cell_type": "code",
   "execution_count": null,
   "id": "bd61c756",
   "metadata": {},
   "outputs": [],
   "source": [
    "df_cluster_interval.sort_values(by = 'Time_Interval')"
   ]
  },
  {
   "cell_type": "code",
   "execution_count": null,
   "id": "50489ac8",
   "metadata": {},
   "outputs": [],
   "source": [
    "df_class_data2"
   ]
  },
  {
   "cell_type": "code",
   "execution_count": null,
   "id": "1d1af216",
   "metadata": {},
   "outputs": [],
   "source": [
    "keywords = ['Jai Shri Ram', 'जय श्रीराम', 'hindutva', 'Hindutva', 'muslim mob', 'Muslim mob', 'Stone', 'stone',\n",
    "           'Love Jihad', 'Love jihad', 'love Jihad', 'love jihad', 'jihad', 'Jihad', '#LoveJihad', 'Akhand Bharat',\n",
    "            'bulldozer', 'Bulldozer']\n",
    "df_class_data.loc[df_class_data.Tweet_Text.str.contains('hindutva')|df_class_data.Tweet_Text.str.contains('Hindutva')].groupby('Cluster_ID').sum().sort_values(by = ['From_verified', 'Total_Engagement'])"
   ]
  },
  {
   "cell_type": "code",
   "execution_count": null,
   "id": "add02f32",
   "metadata": {},
   "outputs": [],
   "source": [
    "df_class_data2.loc[df_class_data2.Tweet_Text.str.contains('hindutva')|\n",
    "                  df_class_data2.Tweet_Text.str.contains('Hindutva')].groupby('Time_Interval').count()"
   ]
  },
  {
   "cell_type": "code",
   "execution_count": null,
   "id": "a8d662da",
   "metadata": {},
   "outputs": [],
   "source": [
    "df_class_data2.loc[df_class_data2.Tweet_Text.str.contains('hindutva')|\n",
    "                  df_class_data2.Tweet_Text.str.contains('Hindutva')|\n",
    "                  df_class_data2.Tweet_Text.str.contains('हिंदुत्व')].sort_values(by = 'Time_Interval')[['Tweet_ID', 'Tweet_Text', 'Time_Interval', 'Cluster_ID']].iloc[-20:]"
   ]
  },
  {
   "cell_type": "code",
   "execution_count": null,
   "id": "d54b9f0c",
   "metadata": {},
   "outputs": [],
   "source": [
    "print('Total_Cluster '+ str(len(df_class_data2.loc[df_class_data2.Tweet_Text.str.contains('hindutva')|\n",
    "                  df_class_data2.Tweet_Text.str.contains('Hindutva')|\n",
    "                  df_class_data2.Tweet_Text.str.contains('हिंदुत्व')].sort_values(by = 'Time_Interval')[['Tweet_ID', 'Tweet_Text', 'Time_Interval', 'Cluster_ID']].groupby('Cluster_ID').count())))\n",
    "\n",
    "print('Total Tweets '+ str(len(df_class_data2.loc[df_class_data2.Tweet_Text.str.contains('hindutva')|\n",
    "                  df_class_data2.Tweet_Text.str.contains('Hindutva')|\n",
    "                  df_class_data2.Tweet_Text.str.contains('हिंदुत्व')].sort_values(by = 'Time_Interval')[['Tweet_ID', 'Tweet_Text', 'Time_Interval', 'Cluster_ID']])))"
   ]
  },
  {
   "cell_type": "code",
   "execution_count": null,
   "id": "8a7a6a9d",
   "metadata": {},
   "outputs": [],
   "source": []
  },
  {
   "cell_type": "code",
   "execution_count": null,
   "id": "acc031f2",
   "metadata": {},
   "outputs": [],
   "source": [
    "df_hindutva = [93905,45935,121455,9731,1694]"
   ]
  },
  {
   "cell_type": "code",
   "execution_count": null,
   "id": "5d895e69",
   "metadata": {},
   "outputs": [],
   "source": [
    "df_class_data2[df_class_data2.Cluster_ID.isin(df_hindutva)].groupby('Cluster_ID').count()"
   ]
  },
  {
   "cell_type": "code",
   "execution_count": null,
   "id": "a7b7ac88",
   "metadata": {},
   "outputs": [],
   "source": [
    "df_class_data2[df_class_data2.Cluster_ID.isin(df_hindutva)].groupby('Cluster_ID').sum()"
   ]
  },
  {
   "cell_type": "code",
   "execution_count": null,
   "id": "d39347e4",
   "metadata": {},
   "outputs": [],
   "source": [
    "df_class_data2[df_class_data2.Cluster_ID.isin([17558, 27346, 112438, 40732, 27346, 129331, 3768,23463, 89168, 88626, 71101,29962,71798, 37923, 109784, 56897, 154899])][['Tweet_ID', 'Tweet_Text', 'Tweet_Link', 'Cluster_ID']].sort_values('Cluster_ID').to_csv('V:\\SBERT All Embedding\\Manual_Fake.csv', index = False)"
   ]
  },
  {
   "cell_type": "code",
   "execution_count": null,
   "id": "e4945b17",
   "metadata": {
    "scrolled": true
   },
   "outputs": [],
   "source": [
    "df_class_data2"
   ]
  },
  {
   "cell_type": "code",
   "execution_count": null,
   "id": "32348264",
   "metadata": {},
   "outputs": [],
   "source": [
    "df_class_data2.loc[df_class_data2.Cluster_ID == 29962]"
   ]
  },
  {
   "cell_type": "markdown",
   "id": "272f1d09",
   "metadata": {},
   "source": [
    "# Stone Pelters"
   ]
  },
  {
   "cell_type": "code",
   "execution_count": null,
   "id": "37a7572e",
   "metadata": {},
   "outputs": [],
   "source": [
    "df_class_data2.loc[df_class_data2.Tweet_Text.str.contains('Stone pelter') | \n",
    "                  df_class_data2.Tweet_Text.str.contains('stone pelter') | \n",
    "                  df_class_data2.Tweet_Text.str.contains('Stone Pelter') | \n",
    "                  df_class_data2.Tweet_Text.str.contains('Stone-pelted') | \n",
    "                  df_class_data2.Tweet_Text.str.contains('stone-pelted') | \n",
    "                  df_class_data2.Tweet_Text.str.contains('Stone Pelted') |\n",
    "                 df_class_data2.Tweet_Text.str.contains('stone pelted') |\n",
    "                 df_class_data2.Tweet_Text.str.contains('stone pelting') |\n",
    "                 df_class_data2.Tweet_Text.str.contains('Stone pelting') |\n",
    "                 df_class_data2.Tweet_Text.str.contains('Stone Pelting') |\n",
    "                 df_class_data2.Tweet_Text.str.contains('pelting stone')|\n",
    "                 df_class_data2.Tweet_Text.str.contains('pelting stones')|\n",
    "                  df_class_data2.Tweet_Text.str.contains('पत्थर')|\n",
    "                  df_class_data2.Tweet_Text.str.contains('पत्थरबाज़')].sort_values(by = 'Time_Interval')[['Tweet_ID', 'Tweet_Text', 'Time_Interval', 'Cluster_ID']].iloc[-60:-40]"
   ]
  },
  {
   "cell_type": "code",
   "execution_count": null,
   "id": "a5e10842",
   "metadata": {},
   "outputs": [],
   "source": [
    "len(df_class_data2.loc[df_class_data2.Tweet_Text.str.contains('Stone pelter') | \n",
    "                  df_class_data2.Tweet_Text.str.contains('stone pelter') | \n",
    "                  df_class_data2.Tweet_Text.str.contains('Stone Pelter') | \n",
    "                  df_class_data2.Tweet_Text.str.contains('Stone-pelted') | \n",
    "                  df_class_data2.Tweet_Text.str.contains('stone-pelted') | \n",
    "                  df_class_data2.Tweet_Text.str.contains('Stone Pelted') |\n",
    "                 df_class_data2.Tweet_Text.str.contains('stone pelted') |\n",
    "                 df_class_data2.Tweet_Text.str.contains('stone pelting') |\n",
    "                 df_class_data2.Tweet_Text.str.contains('Stone pelting') |\n",
    "                 df_class_data2.Tweet_Text.str.contains('Stone Pelting') |\n",
    "                 df_class_data2.Tweet_Text.str.contains('pelting stone')|\n",
    "                 df_class_data2.Tweet_Text.str.contains('pelting stones')|\n",
    "                  df_class_data2.Tweet_Text.str.contains('पत्थर')|\n",
    "                  df_class_data2.Tweet_Text.str.contains('पत्थरबाज़')].groupby('Cluster_ID').count())"
   ]
  },
  {
   "cell_type": "code",
   "execution_count": null,
   "id": "0e750707",
   "metadata": {},
   "outputs": [],
   "source": [
    "df_stone_pelt = [143337\n",
    ",23402\n",
    ",71766\n",
    ",111879\n",
    ",49573]"
   ]
  },
  {
   "cell_type": "code",
   "execution_count": null,
   "id": "d3095e5b",
   "metadata": {},
   "outputs": [],
   "source": [
    "df_class_data2[df_class_data2.Cluster_ID.isin(df_stone_pelt)].groupby('Cluster_ID').count()"
   ]
  },
  {
   "cell_type": "code",
   "execution_count": null,
   "id": "e8e58c12",
   "metadata": {},
   "outputs": [],
   "source": [
    "df_class_data2[df_class_data2.Cluster_ID.isin(df_stone_pelt)].groupby('Cluster_ID').sum()"
   ]
  },
  {
   "cell_type": "code",
   "execution_count": null,
   "id": "d57b0947",
   "metadata": {},
   "outputs": [],
   "source": [
    "df_class_data2"
   ]
  },
  {
   "cell_type": "markdown",
   "id": "be981fde",
   "metadata": {},
   "source": [
    "# Muslim Mob"
   ]
  },
  {
   "cell_type": "code",
   "execution_count": null,
   "id": "4d9156a1",
   "metadata": {},
   "outputs": [],
   "source": [
    "df_class_data2.loc[df_class_data2.Tweet_Text.str.contains('muslim mob')|\n",
    "                   df_class_data2.Tweet_Text.str.contains('Muslim mob')| \n",
    "                   df_class_data2.Tweet_Text.str.contains('Muslim Mob')|\n",
    "                   df_class_data2.Tweet_Text.str.contains('मुस्लिम')\n",
    "                  ].sort_values(by = 'Time_Interval')[['Tweet_ID', 'Tweet_Text', 'Time_Interval', 'Cluster_ID']]"
   ]
  },
  {
   "cell_type": "code",
   "execution_count": null,
   "id": "d5ccdff2",
   "metadata": {},
   "outputs": [],
   "source": []
  },
  {
   "cell_type": "code",
   "execution_count": null,
   "id": "e9631761",
   "metadata": {
    "scrolled": true
   },
   "outputs": [],
   "source": [
    "tj_max = '#DelhiLiquor'\n",
    "df_class_data2.loc[df_class_data2.Tweet_Text.str.contains(tj_max)]"
   ]
  },
  {
   "cell_type": "code",
   "execution_count": null,
   "id": "327e4ab8",
   "metadata": {},
   "outputs": [],
   "source": [
    "print('Total_Cluster '+ str(len(df_class_data2.loc[df_class_data2.Tweet_Text.str.contains('muslim mob')|\n",
    "                   df_class_data2.Tweet_Text.str.contains('Muslim mob')| \n",
    "                   df_class_data2.Tweet_Text.str.contains('Muslim Mob')|\n",
    "                   df_class_data2.Tweet_Text.str.contains('मुस्लिम')].sort_values(by = 'Time_Interval')[['Tweet_ID', 'Tweet_Text', 'Time_Interval', 'Cluster_ID']].groupby('Cluster_ID').count())))\n",
    "\n",
    "print('Total Tweets '+ str(len(df_class_data2.loc[df_class_data2.Tweet_Text.str.contains('muslim mob')|\n",
    "                   df_class_data2.Tweet_Text.str.contains('Muslim mob')| \n",
    "                   df_class_data2.Tweet_Text.str.contains('Muslim Mob')|\n",
    "                   df_class_data2.Tweet_Text.str.contains('मुस्लिम')].sort_values(by = 'Time_Interval')[['Tweet_ID', 'Tweet_Text', 'Time_Interval', 'Cluster_ID']])))"
   ]
  },
  {
   "cell_type": "code",
   "execution_count": null,
   "id": "5569bb7b",
   "metadata": {},
   "outputs": [],
   "source": []
  },
  {
   "cell_type": "code",
   "execution_count": null,
   "id": "20637694",
   "metadata": {
    "scrolled": true
   },
   "outputs": [],
   "source": [
    "df_class_data2[df_class_data2.Cluster_ID.isin([95996])]"
   ]
  },
  {
   "cell_type": "code",
   "execution_count": null,
   "id": "a3d1ac4a",
   "metadata": {},
   "outputs": [],
   "source": [
    "df_muslim_mob = [3768,\n",
    "77895,\n",
    "51432,\n",
    "151287,\n",
    "71798]"
   ]
  },
  {
   "cell_type": "code",
   "execution_count": null,
   "id": "6d08641a",
   "metadata": {},
   "outputs": [],
   "source": [
    "df_class_data2[df_class_data2.Cluster_ID.isin(df_muslim_mob)].groupby('Cluster_ID').count()"
   ]
  },
  {
   "cell_type": "code",
   "execution_count": null,
   "id": "0f366d8d",
   "metadata": {},
   "outputs": [],
   "source": [
    "df_class_data2[df_class_data2.Cluster_ID.isin(df_muslim_mob)].groupby('Cluster_ID').sum()"
   ]
  },
  {
   "cell_type": "markdown",
   "id": "3179b2c6",
   "metadata": {},
   "source": [
    "# Love Jihad"
   ]
  },
  {
   "cell_type": "code",
   "execution_count": null,
   "id": "31a5a460",
   "metadata": {},
   "outputs": [],
   "source": [
    "df_class_data2.loc[df_class_data2.Tweet_Text.str.contains('Love Jihad')|\n",
    "                  df_class_data2.Tweet_Text.str.contains('Love jihad') |\n",
    "                  df_class_data2.Tweet_Text.str.contains('love Jihad')|\n",
    "                 df_class_data2.Tweet_Text.str.contains('love jihad')|\n",
    "                  df_class_data2.Tweet_Text.str.contains('#LoveJihad') |\n",
    "                  df_class_data2.Tweet_Text.str.contains('#lovejihad')|\n",
    "                 df_class_data2.Tweet_Text.str.contains('#Lovejihad')|\n",
    "                  df_class_data2.Tweet_Text.str.contains('लव जिहाद')|\n",
    "                  df_class_data2.Tweet_Text.str.contains('#लवजिहाद')|\n",
    "                  df_class_data2.Tweet_Text.str.contains('#लव_जिहाद')].sort_values(by = 'Time_Interval')[['Tweet_ID', 'Tweet_Text', 'Time_Interval', 'Cluster_ID']].iloc[-20:]"
   ]
  },
  {
   "cell_type": "code",
   "execution_count": null,
   "id": "e06edeaf",
   "metadata": {},
   "outputs": [],
   "source": []
  },
  {
   "cell_type": "code",
   "execution_count": null,
   "id": "a77a5e44",
   "metadata": {},
   "outputs": [],
   "source": [
    "print('Total_Cluster '+ str(len(df_class_data2.loc[df_class_data2.Tweet_Text.str.contains('Love Jihad')|\n",
    "                  df_class_data2.Tweet_Text.str.contains('Love jihad') |\n",
    "                  df_class_data2.Tweet_Text.str.contains('love Jihad')|\n",
    "                 df_class_data2.Tweet_Text.str.contains('love jihad')|\n",
    "                  df_class_data2.Tweet_Text.str.contains('#LoveJihad') |\n",
    "                  df_class_data2.Tweet_Text.str.contains('#lovejihad')|\n",
    "                 df_class_data2.Tweet_Text.str.contains('#Lovejihad')|\n",
    "                  df_class_data2.Tweet_Text.str.contains('लव जिहाद')|\n",
    "                  df_class_data2.Tweet_Text.str.contains('#लवजिहाद')|\n",
    "                  df_class_data2.Tweet_Text.str.contains('#लव_जिहाद')].sort_values(by = 'Time_Interval')[['Tweet_ID', 'Tweet_Text', 'Time_Interval', 'Cluster_ID']].groupby('Cluster_ID').count())))\n",
    "\n",
    "print('Total Tweets '+ str(len(df_class_data2.loc[df_class_data2.Tweet_Text.str.contains('Love Jihad')|\n",
    "                  df_class_data2.Tweet_Text.str.contains('Love jihad') |\n",
    "                  df_class_data2.Tweet_Text.str.contains('love Jihad')|\n",
    "                 df_class_data2.Tweet_Text.str.contains('love jihad')|\n",
    "                  df_class_data2.Tweet_Text.str.contains('#LoveJihad') |\n",
    "                  df_class_data2.Tweet_Text.str.contains('#lovejihad')|\n",
    "                 df_class_data2.Tweet_Text.str.contains('#Lovejihad')|\n",
    "                  df_class_data2.Tweet_Text.str.contains('लव जिहाद')|\n",
    "                  df_class_data2.Tweet_Text.str.contains('#लवजिहाद')|\n",
    "                  df_class_data2.Tweet_Text.str.contains('#लव_जिहाद')].sort_values(by = 'Time_Interval')[['Tweet_ID', 'Tweet_Text', 'Time_Interval', 'Cluster_ID']])))"
   ]
  },
  {
   "cell_type": "code",
   "execution_count": null,
   "id": "1a222efb",
   "metadata": {},
   "outputs": [],
   "source": [
    "df_love_jihad = [34891\n",
    ",128613\n",
    ",46445\n",
    ",77750\n",
    ",29962]"
   ]
  },
  {
   "cell_type": "code",
   "execution_count": null,
   "id": "a0324de0",
   "metadata": {},
   "outputs": [],
   "source": [
    "df_class_data2[df_class_data2.Cluster_ID.isin(df_love_jihad)].groupby('Cluster_ID').count()"
   ]
  },
  {
   "cell_type": "code",
   "execution_count": null,
   "id": "bd3b2f8a",
   "metadata": {},
   "outputs": [],
   "source": [
    "df_class_data2[df_class_data2.Cluster_ID.isin(df_love_jihad)].groupby('Cluster_ID').sum()"
   ]
  },
  {
   "cell_type": "markdown",
   "id": "a8f64a9b",
   "metadata": {},
   "source": [
    "# CCDH keywords"
   ]
  },
  {
   "cell_type": "code",
   "execution_count": null,
   "id": "25cf461a",
   "metadata": {},
   "outputs": [],
   "source": [
    "df_class_data2.loc[df_class_data2.Tweet_Text.str.contains('islam')\n",
    "                ].sort_values(by = 'Time_Interval')[['Tweet_ID', 'Tweet_Text', 'Time_Interval', 'Cluster_ID']]"
   ]
  },
  {
   "cell_type": "code",
   "execution_count": null,
   "id": "472db1d5",
   "metadata": {},
   "outputs": [],
   "source": [
    "df_class_data2"
   ]
  },
  {
   "cell_type": "markdown",
   "id": "2f36b172",
   "metadata": {},
   "source": [
    "# Jihad"
   ]
  },
  {
   "cell_type": "code",
   "execution_count": null,
   "id": "3b3adeca",
   "metadata": {},
   "outputs": [],
   "source": [
    "df_class_data2.loc[df_class_data2.Tweet_Text.str.contains('Jihad')|\n",
    "                  df_class_data2.Tweet_Text.str.contains('jihad')|\n",
    "                 df_class_data2.Tweet_Text.str.contains('जिहाद')].sort_values(by = 'Time_Interval')[['Tweet_ID', 'Tweet_Text', 'Time_Interval', 'Cluster_ID']].iloc[-20:]"
   ]
  },
  {
   "cell_type": "code",
   "execution_count": null,
   "id": "327b602a",
   "metadata": {},
   "outputs": [],
   "source": [
    "print('Total_Cluster '+ str(len(df_class_data2.loc[df_class_data2.Tweet_Text.str.contains('Jihad')|\n",
    "                  df_class_data2.Tweet_Text.str.contains('jihad')|\n",
    "                 df_class_data2.Tweet_Text.str.contains('जिहाद')].sort_values(by = 'Time_Interval')[['Tweet_ID', 'Tweet_Text', 'Time_Interval', 'Cluster_ID']].groupby('Cluster_ID').count())))\n",
    "\n",
    "print('Total Tweets '+ str(len(df_class_data2.loc[df_class_data2.Tweet_Text.str.contains('Jihad')|\n",
    "                  df_class_data2.Tweet_Text.str.contains('jihad')|\n",
    "                 df_class_data2.Tweet_Text.str.contains('जिहाद')].sort_values(by = 'Time_Interval')[['Tweet_ID', 'Tweet_Text', 'Time_Interval', 'Cluster_ID']])))"
   ]
  },
  {
   "cell_type": "code",
   "execution_count": null,
   "id": "3872fc34",
   "metadata": {},
   "outputs": [],
   "source": [
    "df_jihad = [46651,\n",
    "20536,\n",
    "45540,\n",
    "46611,\n",
    "23463]"
   ]
  },
  {
   "cell_type": "code",
   "execution_count": null,
   "id": "05982920",
   "metadata": {},
   "outputs": [],
   "source": [
    "df_class_data2[df_class_data2.Cluster_ID.isin(df_jihad)].groupby('Cluster_ID').count()"
   ]
  },
  {
   "cell_type": "code",
   "execution_count": null,
   "id": "51d33bc5",
   "metadata": {},
   "outputs": [],
   "source": [
    "df_class_data2[df_class_data2.Cluster_ID.isin(df_jihad)].groupby('Cluster_ID').sum()"
   ]
  },
  {
   "cell_type": "code",
   "execution_count": null,
   "id": "fb4a0fb5",
   "metadata": {},
   "outputs": [],
   "source": []
  },
  {
   "cell_type": "markdown",
   "id": "989f77f4",
   "metadata": {},
   "source": [
    "# Akhand Bharat"
   ]
  },
  {
   "cell_type": "code",
   "execution_count": null,
   "id": "2b0dd9fe",
   "metadata": {
    "scrolled": true
   },
   "outputs": [],
   "source": [
    "df_class_data2.loc[df_class_data2.Tweet_Text.str.contains('Akhand Bharat')|\n",
    "                  df_class_data2.Tweet_Text.str.contains('akhand bharat')|\n",
    "                  df_class_data2.Tweet_Text.str.contains('अखण्ड भारत')].sort_values(by = 'Time_Interval')[['Tweet_ID', 'Tweet_Text', 'Time_Interval', 'Cluster_ID']].iloc[-20:]"
   ]
  },
  {
   "cell_type": "code",
   "execution_count": null,
   "id": "a3c8b1e3",
   "metadata": {},
   "outputs": [],
   "source": [
    "print('Total_Cluster '+ str(len(df_class_data2.loc[df_class_data2.Tweet_Text.str.contains('Akhand Bharat')|\n",
    "                  df_class_data2.Tweet_Text.str.contains('akhand bharat')|\n",
    "                  df_class_data2.Tweet_Text.str.contains('अखण्ड भारत')].sort_values(by = 'Time_Interval')[['Tweet_ID', 'Tweet_Text', 'Time_Interval', 'Cluster_ID']].groupby('Cluster_ID').count())))\n",
    "\n",
    "print('Total Tweets '+ str(len(df_class_data2.loc[df_class_data2.Tweet_Text.str.contains('Akhand Bharat')|\n",
    "                  df_class_data2.Tweet_Text.str.contains('akhand bharat')|\n",
    "                  df_class_data2.Tweet_Text.str.contains('अखण्ड भारत')].sort_values(by = 'Time_Interval')[['Tweet_ID', 'Tweet_Text', 'Time_Interval', 'Cluster_ID']])))"
   ]
  },
  {
   "cell_type": "code",
   "execution_count": null,
   "id": "6cc56598",
   "metadata": {},
   "outputs": [],
   "source": [
    "df_bharat = [89168,\n",
    "59957,\n",
    "18950,\n",
    "39766,\n",
    "122549]"
   ]
  },
  {
   "cell_type": "code",
   "execution_count": null,
   "id": "f5bd359d",
   "metadata": {},
   "outputs": [],
   "source": [
    "df_class_data2[df_class_data2.Cluster_ID.isin(df_bharat)].groupby('Cluster_ID').count()"
   ]
  },
  {
   "cell_type": "code",
   "execution_count": null,
   "id": "61393c6e",
   "metadata": {},
   "outputs": [],
   "source": [
    "df_class_data2[df_class_data2.Cluster_ID.isin(df_bharat)].groupby('Cluster_ID').sum()"
   ]
  },
  {
   "cell_type": "code",
   "execution_count": null,
   "id": "0e3a5e4e",
   "metadata": {},
   "outputs": [],
   "source": []
  },
  {
   "cell_type": "markdown",
   "id": "84dae760",
   "metadata": {},
   "source": [
    "# Bulldozer"
   ]
  },
  {
   "cell_type": "code",
   "execution_count": null,
   "id": "e82f03d2",
   "metadata": {},
   "outputs": [],
   "source": [
    "df_class_data2.loc[df_class_data2.Tweet_Text.str.contains('Bulldozer')|\n",
    "                  df_class_data2.Tweet_Text.str.contains('bulldozer')|\n",
    "                  df_class_data2.Tweet_Text.str.contains('बुलडोज़र')].sort_values(by = 'Time_Interval')[['Tweet_ID', 'Tweet_Text', 'Time_Interval', 'Cluster_ID']].iloc[-20:]"
   ]
  },
  {
   "cell_type": "code",
   "execution_count": null,
   "id": "84ea2f40",
   "metadata": {},
   "outputs": [],
   "source": [
    "print('Total_Cluster '+ str(len(df_class_data2.loc[df_class_data2.Tweet_Text.str.contains('Bulldozer')|\n",
    "                  df_class_data2.Tweet_Text.str.contains('bulldozer')|\n",
    "                  df_class_data2.Tweet_Text.str.contains('बुलडोज़र')].sort_values(by = 'Time_Interval')[['Tweet_ID', 'Tweet_Text', 'Time_Interval', 'Cluster_ID']].groupby('Cluster_ID').count())))\n",
    "\n",
    "print('Total Tweets '+ str(len(df_class_data2.loc[df_class_data2.Tweet_Text.str.contains('Bulldozer')|\n",
    "                  df_class_data2.Tweet_Text.str.contains('bulldozer')|\n",
    "                  df_class_data2.Tweet_Text.str.contains('बुलडोज़र')].sort_values(by = 'Time_Interval')[['Tweet_ID', 'Tweet_Text', 'Time_Interval', 'Cluster_ID']])))"
   ]
  },
  {
   "cell_type": "code",
   "execution_count": null,
   "id": "542c4f3b",
   "metadata": {},
   "outputs": [],
   "source": [
    "df_bull = [74738,\n",
    "51730,\n",
    "59305,\n",
    "13784,\n",
    "11480]"
   ]
  },
  {
   "cell_type": "code",
   "execution_count": null,
   "id": "b48b948d",
   "metadata": {},
   "outputs": [],
   "source": [
    "df_class_data2[df_class_data2.Cluster_ID.isin(df_bull)].groupby('Cluster_ID').count()"
   ]
  },
  {
   "cell_type": "code",
   "execution_count": null,
   "id": "0b47d555",
   "metadata": {},
   "outputs": [],
   "source": [
    "df_class_data2[df_class_data2.Cluster_ID.isin(df_bull)].groupby('Cluster_ID').sum()"
   ]
  },
  {
   "cell_type": "code",
   "execution_count": null,
   "id": "8ea7472c",
   "metadata": {},
   "outputs": [],
   "source": [
    "df_class_data2.groupby('Cluster_ID').sum().sort_values(by = 'Total_Engagement')"
   ]
  },
  {
   "cell_type": "code",
   "execution_count": null,
   "id": "6f1560fc",
   "metadata": {},
   "outputs": [],
   "source": [
    "df_class_data2.groupby('Cluster_ID').sum().sort_values(by = 'From_verified')"
   ]
  },
  {
   "cell_type": "code",
   "execution_count": null,
   "id": "31cd3acf",
   "metadata": {},
   "outputs": [],
   "source": [
    "df_class_data2.loc[df_class_data2.Cluster_ID == 13104]"
   ]
  },
  {
   "cell_type": "code",
   "execution_count": null,
   "id": "c64a64d8",
   "metadata": {},
   "outputs": [],
   "source": [
    "df_class_data2.loc[df_class_data2.Tweet_Text.str.contains('Biden')|\n",
    "                  df_class_data2.Tweet_Text.str.contains('biden')].sort_values(by = 'Time_Interval')"
   ]
  },
  {
   "cell_type": "code",
   "execution_count": null,
   "id": "866c3747",
   "metadata": {
    "scrolled": true
   },
   "outputs": [],
   "source": [
    "df_class_data2.loc[df_class_data2.Tweet_Text.str.contains('russia')|\n",
    "                  df_class_data2.Tweet_Text.str.contains('Russia')].sort_values(by = 'Time_Interval')"
   ]
  },
  {
   "cell_type": "code",
   "execution_count": null,
   "id": "6736e415",
   "metadata": {},
   "outputs": [],
   "source": [
    "df_class_data2.loc[df_class_data2.Tweet_Text.str.contains('Adani')|\n",
    "                  df_class_data2.Tweet_Text.str.contains('adani')].sort_values(by = 'Time_Interval')"
   ]
  },
  {
   "cell_type": "code",
   "execution_count": null,
   "id": "0384d52a",
   "metadata": {},
   "outputs": [],
   "source": [
    "df_class_sum_scplot = df_class_data2.groupby('Cluster_ID').sum()"
   ]
  },
  {
   "cell_type": "code",
   "execution_count": null,
   "id": "761cfb9b",
   "metadata": {},
   "outputs": [],
   "source": [
    "df_class_sum_scplot = df_class_sum_scplot.reset_index(drop = False)"
   ]
  },
  {
   "cell_type": "code",
   "execution_count": null,
   "id": "4ccacf4b",
   "metadata": {},
   "outputs": [],
   "source": [
    "df_class_count_scplot = df_class_data2.groupby('Cluster_ID').count().reset_index(drop = False)[['Cluster_ID', 'Tweet_ID']]"
   ]
  },
  {
   "cell_type": "code",
   "execution_count": null,
   "id": "ed13077a",
   "metadata": {},
   "outputs": [],
   "source": [
    "df_non_verified = df_class_sum_scplot.loc[df_class_sum_scplot.From_verified == 0]"
   ]
  },
  {
   "cell_type": "code",
   "execution_count": null,
   "id": "a8e0ae18",
   "metadata": {},
   "outputs": [],
   "source": [
    "df_verified = df_class_sum_scplot.loc[df_class_sum_scplot.From_verified > 0]"
   ]
  },
  {
   "cell_type": "code",
   "execution_count": null,
   "id": "c736949e",
   "metadata": {},
   "outputs": [],
   "source": [
    "df_non_verified = pd.merge(df_class_count_scplot, df_non_verified)\n",
    "df_verified = pd.merge(df_class_count_scplot, df_verified)"
   ]
  },
  {
   "cell_type": "code",
   "execution_count": null,
   "id": "6fd9e88d",
   "metadata": {},
   "outputs": [],
   "source": [
    "df_verified = df_verified.rename(columns = {'Tweet_ID':'Cluster_Size'})\n",
    "df_non_verified = df_non_verified.rename(columns = {'Tweet_ID':'Cluster_Size'})"
   ]
  },
  {
   "cell_type": "code",
   "execution_count": null,
   "id": "d68b08ec",
   "metadata": {},
   "outputs": [],
   "source": [
    "df_non_verified.groupby('Cluster_ID').sum()"
   ]
  },
  {
   "cell_type": "code",
   "execution_count": null,
   "id": "babf9c38",
   "metadata": {},
   "outputs": [],
   "source": [
    "import seaborn as sns\n",
    "pd.set_option('display.max_colwidth', None)\n",
    "from matplotlib import pyplot as plt\n",
    "import numpy as np"
   ]
  },
  {
   "cell_type": "code",
   "execution_count": null,
   "id": "aaad35f1",
   "metadata": {},
   "outputs": [],
   "source": [
    "from matplotlib.pyplot import figure\n",
    "\n",
    "figure(figsize=(6, 4), dpi=80)"
   ]
  },
  {
   "cell_type": "code",
   "execution_count": null,
   "id": "60b7fecc",
   "metadata": {},
   "outputs": [],
   "source": [
    "df_verified['Verification'] = 'Verified'\n",
    "df_non_verified['Verification'] = 'Non-Verified'"
   ]
  },
  {
   "cell_type": "code",
   "execution_count": null,
   "id": "85006e0f",
   "metadata": {},
   "outputs": [],
   "source": [
    "\n",
    "ax = sns.scatterplot(data=df_verified, x=\"Cluster_Size\", y=\"Total_Engagement\") \n",
    "\n",
    "\n",
    "\n",
    "\n",
    "ax.set_xlabel(\"Cluster Size\")\n",
    "\n",
    "ax.set_ylabel(\"Total Engagement (Log)\")\n",
    "\n",
    "plt.show() "
   ]
  },
  {
   "cell_type": "code",
   "execution_count": null,
   "id": "786a0906",
   "metadata": {},
   "outputs": [],
   "source": [
    "\n",
    "ax = sns.scatterplot(data=df_non_verified, x=\"Cluster_Size\", y=\"Total_Engagement\") \n",
    "\n",
    "ax.set_xlabel(\"Cluster Size\")\n",
    "\n",
    "ax.set_ylabel(\"Total Engagement (Log)\")\n",
    "plt.show() "
   ]
  },
  {
   "cell_type": "code",
   "execution_count": null,
   "id": "7257af49",
   "metadata": {},
   "outputs": [],
   "source": [
    "frames1 = [df_verified, df_non_verified]\n",
    "df_ver_non_ver = pd.concat(frames1)"
   ]
  },
  {
   "cell_type": "code",
   "execution_count": null,
   "id": "7ea0fd76",
   "metadata": {},
   "outputs": [],
   "source": [
    "df_ver_non_ver = df_ver_non_ver.sort_values(by = 'Cluster_ID').reset_index(drop = True)"
   ]
  },
  {
   "cell_type": "code",
   "execution_count": null,
   "id": "2b5d440f",
   "metadata": {},
   "outputs": [],
   "source": [
    "df_ver_non_ver = df_ver_non_ver.drop(columns = 'Time_Interval')"
   ]
  },
  {
   "cell_type": "code",
   "execution_count": null,
   "id": "974ba593",
   "metadata": {},
   "outputs": [],
   "source": [
    "df_ver_non_ver = pd.merge(df_ver_non_ver, df_cluster_interval)"
   ]
  },
  {
   "cell_type": "code",
   "execution_count": null,
   "id": "f4c753fd",
   "metadata": {},
   "outputs": [],
   "source": [
    "plt.figure(figsize=(6,4)) \n",
    "ax = sns.scatterplot(data=df_ver_non_ver, x=\"Cluster_Size\", y=\"Total_Engagement\",\n",
    "                hue=\"Verification\",  palette=['#e31a1c','#1f78b4'], alpha = 0.7)\n",
    "\n",
    "ax.set_xlabel(\"Cluster Size\")\n",
    "ax.set_ylabel(\"Total Engagement (Log)\")\n",
    "plt.yscale('log')\n",
    "plt.show()"
   ]
  },
  {
   "cell_type": "code",
   "execution_count": null,
   "id": "871c46a6",
   "metadata": {},
   "outputs": [],
   "source": [
    "plt.figure(figsize=(6,4)) \n",
    "ax = sns.scatterplot(data=df_ver_non_ver, x=\"Cluster_Size\", y=\"Total_Engagement\",\n",
    "                hue=\"Verification\",  palette=['#e31a1c','#1f78b4'], alpha = 0.7, style=\"Verification\")\n",
    "\n",
    "ax.set_xlabel(\"Cluster Size\")\n",
    "ax.set_ylabel(\"Total Engagement (Log)\")\n",
    "plt.yscale('log')\n",
    "plt.xlim(-5, 200)\n",
    "plt.show() "
   ]
  },
  {
   "cell_type": "code",
   "execution_count": null,
   "id": "73f89b80",
   "metadata": {},
   "outputs": [],
   "source": [
    "plt.figure(figsize=(6,4)) \n",
    "ax = sns.scatterplot(data=df_ver_non_ver, x=\"Time_Interval\", y=\"Total_Engagement\",\n",
    "                hue=\"Verification\",  palette=['#e31a1c','#1f78b4'], alpha = 0.7, style=\"Verification\")\n",
    "\n",
    "ax.set_xlabel(\"Time Interval\")\n",
    "ax.set_ylabel(\"Total Engagement (Log)\")\n",
    "plt.yscale('log')\n",
    "plt.show() "
   ]
  },
  {
   "cell_type": "code",
   "execution_count": null,
   "id": "b6fa80c8",
   "metadata": {},
   "outputs": [],
   "source": [
    "plt.figure(figsize=(6,4)) \n",
    "ax = sns.scatterplot(data=df_ver_non_ver, x=\"Time_Interval\", y=\"Total_Engagement\",\n",
    "                hue=\"Verification\",  palette=['#e31a1c','#1f78b4'], alpha = 0.7, style=\"Verification\")\n",
    "\n",
    "ax.set_xlabel(\"Time Interval\")\n",
    "\n",
    "ax.set_ylabel(\"Total Engagement (Log)\")\n",
    "plt.show() "
   ]
  },
  {
   "cell_type": "code",
   "execution_count": null,
   "id": "2c13605f",
   "metadata": {},
   "outputs": [],
   "source": [
    "plt.figure(figsize=(4,3)) \n",
    "ax = sns.boxplot( x=\"Verification\",y=\"Total_Engagement\", data=df_ver_non_ver, showfliers=False, width=0.3)\n",
    "\n",
    "\n",
    "ax.set_xlabel(\"Verification\")\n",
    "\n",
    "ax.set_ylabel(\"Total Engagement\")\n",
    "plt.show()"
   ]
  },
  {
   "cell_type": "code",
   "execution_count": null,
   "id": "dc329a89",
   "metadata": {},
   "outputs": [],
   "source": [
    "df_ver_non_ver"
   ]
  },
  {
   "cell_type": "code",
   "execution_count": null,
   "id": "e5a95a24",
   "metadata": {},
   "outputs": [],
   "source": [
    "df_ver_non_ver"
   ]
  },
  {
   "cell_type": "code",
   "execution_count": null,
   "id": "88ac5c29",
   "metadata": {},
   "outputs": [],
   "source": [
    "df_ver_non_ver.loc[df_ver_non_ver.Verification == 'Verified'].Total_Engagement.describe()"
   ]
  },
  {
   "cell_type": "code",
   "execution_count": null,
   "id": "e3c5308d",
   "metadata": {},
   "outputs": [],
   "source": [
    "df_ver_non_ver.loc[df_ver_non_ver.Verification == 'Non-Verified'].Total_Engagement.describe()"
   ]
  },
  {
   "cell_type": "code",
   "execution_count": null,
   "id": "aa9b7aff",
   "metadata": {},
   "outputs": [],
   "source": [
    "df_ver_non_ver.to_csv('Ver_NonVer.csv')"
   ]
  },
  {
   "cell_type": "code",
   "execution_count": null,
   "id": "a3c6f07a",
   "metadata": {},
   "outputs": [],
   "source": [
    "plt.figure(figsize=(4,3))\n",
    "ax = sns.boxplot( x=\"Verification\",y=\"Cluster_Size\", data=df_ver_non_ver, showfliers=False, width=0.3)\n",
    "\n",
    "\n",
    "ax.set_xlabel(\"Verification\")\n",
    "\n",
    "ax.set_ylabel(\"Cluster Size\")\n",
    "plt.show()"
   ]
  },
  {
   "cell_type": "code",
   "execution_count": null,
   "id": "c6a6b892",
   "metadata": {},
   "outputs": [],
   "source": [
    "plt.figure(figsize=(4,3))\n",
    "ax = sns.boxplot( x=\"Verification\", y=\"Time_Interval\", data=df_ver_non_ver, showfliers=False, width=0.3)\n",
    "\n",
    "\n",
    "ax.set_xlabel(\"Verification\")\n",
    "\n",
    "ax.set_ylabel(\"Time Interval\")\n",
    "plt.show()"
   ]
  },
  {
   "cell_type": "code",
   "execution_count": null,
   "id": "683ca205",
   "metadata": {},
   "outputs": [],
   "source": [
    "df_ver_non_ver.sort_values(by = 'Time_Interval')"
   ]
  },
  {
   "cell_type": "code",
   "execution_count": null,
   "id": "0a2c12c9",
   "metadata": {},
   "outputs": [],
   "source": [
    "df_class_data.loc[df_class_data.Cluster_ID == 0].sort_values(by = 'Tweet_Time').iloc[0].Tweet_Date - df_class_data.loc[df_class_data.Cluster_ID == 0].sort_values(by = 'Tweet_Time').iloc[-1].Tweet_Date"
   ]
  },
  {
   "cell_type": "code",
   "execution_count": null,
   "id": "4f2ee5f7",
   "metadata": {},
   "outputs": [],
   "source": [
    "df_ver_non_ver.loc[df_ver_non_ver.Cluster_ID == 0]"
   ]
  },
  {
   "cell_type": "code",
   "execution_count": null,
   "id": "a5cd05da",
   "metadata": {},
   "outputs": [],
   "source": [
    "df_non_verified.loc[df_non_verified.Total_Engagement > 50000]"
   ]
  },
  {
   "cell_type": "code",
   "execution_count": null,
   "id": "12a847cb",
   "metadata": {},
   "outputs": [],
   "source": [
    "df_class_data.loc[df_class_data.Cluster_ID == 48755]"
   ]
  },
  {
   "cell_type": "markdown",
   "id": "45191cf8",
   "metadata": {},
   "source": [
    "# Time Interval Check"
   ]
  },
  {
   "cell_type": "code",
   "execution_count": null,
   "id": "8ff2f43f",
   "metadata": {},
   "outputs": [],
   "source": [
    "df_time_check = [143337,\n",
    "23402,\n",
    "71766,\n",
    "111879,\n",
    "49573]"
   ]
  },
  {
   "cell_type": "code",
   "execution_count": null,
   "id": "b1e60524",
   "metadata": {},
   "outputs": [],
   "source": [
    "df_ver_non_ver[df_ver_non_ver.Cluster_ID.isin(df_time_check)]"
   ]
  },
  {
   "cell_type": "markdown",
   "id": "22bbbdde",
   "metadata": {},
   "source": [
    "# International Topic Analysis"
   ]
  },
  {
   "cell_type": "markdown",
   "id": "992c52ae",
   "metadata": {},
   "source": [
    "# Russia-Ukraine"
   ]
  },
  {
   "cell_type": "code",
   "execution_count": null,
   "id": "5df9588d",
   "metadata": {},
   "outputs": [],
   "source": [
    "df_class_data2.loc[df_class_data2.Tweet_Text.str.contains('Ukraine')|\n",
    "                  df_class_data2.Tweet_Text.str.contains('ukraine')|\n",
    "                  df_class_data2.Tweet_Text.str.contains('Russia')|\n",
    "                  df_class_data2.Tweet_Text.str.contains('russia')|\n",
    "                  df_class_data2.Tweet_Text.str.contains('रूस')].sort_values(by = 'Time_Interval')[['Tweet_ID', 'Tweet_Text', 'Time_Interval', 'Cluster_ID']].iloc[-110:-80]"
   ]
  },
  {
   "cell_type": "code",
   "execution_count": null,
   "id": "8d848399",
   "metadata": {},
   "outputs": [],
   "source": [
    "df_rus = [2092, 67278,2350,49367,55518,121487]"
   ]
  },
  {
   "cell_type": "code",
   "execution_count": null,
   "id": "93bb16db",
   "metadata": {},
   "outputs": [],
   "source": [
    "print('Total_Cluster '+ str(len(df_class_data2.loc[df_class_data2.Tweet_Text.str.contains('Ukraine')|\n",
    "                  df_class_data2.Tweet_Text.str.contains('ukraine')|\n",
    "                  df_class_data2.Tweet_Text.str.contains('Russia')|\n",
    "                  df_class_data2.Tweet_Text.str.contains('russia')|\n",
    "                  df_class_data2.Tweet_Text.str.contains('रूस')].sort_values(by = 'Time_Interval')[['Tweet_ID', 'Tweet_Text', 'Time_Interval', 'Cluster_ID']].groupby('Cluster_ID').count())))\n",
    "\n",
    "print('Total Tweets '+ str(len(df_class_data2.loc[df_class_data2.Tweet_Text.str.contains('Ukraine')|\n",
    "                  df_class_data2.Tweet_Text.str.contains('ukraine')|\n",
    "                  df_class_data2.Tweet_Text.str.contains('Russia')|\n",
    "                  df_class_data2.Tweet_Text.str.contains('russia')|\n",
    "                  df_class_data2.Tweet_Text.str.contains('रूस')].sort_values(by = 'Time_Interval')[['Tweet_ID', 'Tweet_Text', 'Time_Interval', 'Cluster_ID']])))"
   ]
  },
  {
   "cell_type": "code",
   "execution_count": null,
   "id": "7e022506",
   "metadata": {},
   "outputs": [],
   "source": [
    "df_class_data2[df_class_data2.Cluster_ID.isin(df_rus)].groupby('Cluster_ID').count()"
   ]
  },
  {
   "cell_type": "code",
   "execution_count": null,
   "id": "e40331b7",
   "metadata": {},
   "outputs": [],
   "source": [
    "df_class_data2[df_class_data2.Cluster_ID.isin(df_rus)].groupby('Cluster_ID').sum()"
   ]
  },
  {
   "cell_type": "code",
   "execution_count": null,
   "id": "7614bc3f",
   "metadata": {},
   "outputs": [],
   "source": [
    "df_class_data2[df_class_data2.Cluster_ID.isin(df_rus)][['Cluster_ID', 'Time_Interval']]"
   ]
  },
  {
   "cell_type": "markdown",
   "id": "b6fef762",
   "metadata": {},
   "source": [
    "# Pakistan Imran Khan Bangladesh"
   ]
  },
  {
   "cell_type": "code",
   "execution_count": null,
   "id": "2dacb797",
   "metadata": {},
   "outputs": [],
   "source": [
    "df_class_data2.loc[df_class_data2.Tweet_Text.str.contains('Pakistan')|\n",
    "                  df_class_data2.Tweet_Text.str.contains('pakistan')|\n",
    "                  df_class_data2.Tweet_Text.str.contains('पाकिस्तान')\n",
    "                  ].sort_values(by = 'Time_Interval')[['Tweet_ID', 'Tweet_Text', 'Time_Interval', 'Cluster_ID']].iloc[-90:-60]"
   ]
  },
  {
   "cell_type": "code",
   "execution_count": null,
   "id": "77294dca",
   "metadata": {},
   "outputs": [],
   "source": [
    "print('Total_Cluster '+ str(len(df_class_data2.loc[df_class_data2.Tweet_Text.str.contains('Pakistan')|\n",
    "                  df_class_data2.Tweet_Text.str.contains('pakistan')|\n",
    "                  df_class_data2.Tweet_Text.str.contains('पाकिस्तान')].sort_values(by = 'Time_Interval')[['Tweet_ID', 'Tweet_Text', 'Time_Interval', 'Cluster_ID']].groupby('Cluster_ID').count())))\n",
    "\n",
    "print('Total Tweets '+ str(len(df_class_data2.loc[df_class_data2.Tweet_Text.str.contains('Pakistan')|\n",
    "                  df_class_data2.Tweet_Text.str.contains('pakistan')|\n",
    "                  df_class_data2.Tweet_Text.str.contains('पाकिस्तान')].sort_values(by = 'Time_Interval')[['Tweet_ID', 'Tweet_Text', 'Time_Interval', 'Cluster_ID']])))"
   ]
  },
  {
   "cell_type": "code",
   "execution_count": null,
   "id": "5f5f0db0",
   "metadata": {},
   "outputs": [],
   "source": [
    "df_pak = [1906,\n",
    "39614,\n",
    "3768,\n",
    "14446,\n",
    "129331]"
   ]
  },
  {
   "cell_type": "code",
   "execution_count": null,
   "id": "4bdcec4d",
   "metadata": {},
   "outputs": [],
   "source": [
    "df_class_data2[df_class_data2.Cluster_ID.isin(df_pak)].groupby('Cluster_ID').count()"
   ]
  },
  {
   "cell_type": "code",
   "execution_count": null,
   "id": "42b9230f",
   "metadata": {},
   "outputs": [],
   "source": [
    "df_class_data2[df_class_data2.Cluster_ID.isin(df_pak)].groupby('Cluster_ID').sum()"
   ]
  },
  {
   "cell_type": "code",
   "execution_count": null,
   "id": "411d8c5e",
   "metadata": {},
   "outputs": [],
   "source": [
    "df_class_data2[df_class_data2.Cluster_ID.isin(df_pak)][['Cluster_ID', 'Time_Interval']].drop_duplicates()"
   ]
  },
  {
   "cell_type": "code",
   "execution_count": null,
   "id": "2f89acb1",
   "metadata": {},
   "outputs": [],
   "source": []
  },
  {
   "cell_type": "code",
   "execution_count": null,
   "id": "6f3fb266",
   "metadata": {},
   "outputs": [],
   "source": []
  },
  {
   "cell_type": "code",
   "execution_count": null,
   "id": "f556b00f",
   "metadata": {},
   "outputs": [],
   "source": [
    "df_class_data2.loc[df_class_data2.Tweet_Text.str.contains('Bangladesh')|\n",
    "                  df_class_data2.Tweet_Text.str.contains('bangladesh')|\n",
    "                  df_class_data2.Tweet_Text.str.contains('बांग्लादेश')\n",
    "                  ].sort_values(by = 'Time_Interval')[['Tweet_ID', 'Tweet_Text', 'Time_Interval', 'Cluster_ID']].iloc[-150:-120]"
   ]
  },
  {
   "cell_type": "code",
   "execution_count": null,
   "id": "5baa6b78",
   "metadata": {},
   "outputs": [],
   "source": [
    "df_bang = [66620,\n",
    "98071,\n",
    "49767,\n",
    "16664,\n",
    "3665]"
   ]
  },
  {
   "cell_type": "code",
   "execution_count": null,
   "id": "8f560e5f",
   "metadata": {},
   "outputs": [],
   "source": [
    "print('Total_Cluster '+ str(len(df_class_data2.loc[df_class_data2.Tweet_Text.str.contains('Bangladesh')|\n",
    "                  df_class_data2.Tweet_Text.str.contains('bangladesh')|\n",
    "                  df_class_data2.Tweet_Text.str.contains('बांग्लादेश')].sort_values(by = 'Time_Interval')[['Tweet_ID', 'Tweet_Text', 'Time_Interval', 'Cluster_ID']].groupby('Cluster_ID').count())))\n",
    "\n",
    "print('Total Tweets '+ str(len(df_class_data2.loc[df_class_data2.Tweet_Text.str.contains('Bangladesh')|\n",
    "                  df_class_data2.Tweet_Text.str.contains('bangladesh')|\n",
    "                  df_class_data2.Tweet_Text.str.contains('बांग्लादेश')].sort_values(by = 'Time_Interval')[['Tweet_ID', 'Tweet_Text', 'Time_Interval', 'Cluster_ID']])))"
   ]
  },
  {
   "cell_type": "code",
   "execution_count": null,
   "id": "17f191ad",
   "metadata": {},
   "outputs": [],
   "source": [
    "print(df_class_data2[df_class_data2.Cluster_ID.isin(df_bang)].groupby('Cluster_ID').count()[['Tweet_ID']])\n",
    "print(\"\\n\")\n",
    "print(df_class_data2[df_class_data2.Cluster_ID.isin(df_bang)].groupby('Cluster_ID').sum())\n",
    "print(df_class_data2[df_class_data2.Cluster_ID.isin(df_bang)][['Cluster_ID', 'Time_Interval']].drop_duplicates())"
   ]
  },
  {
   "cell_type": "code",
   "execution_count": null,
   "id": "59ee4d6a",
   "metadata": {},
   "outputs": [],
   "source": []
  },
  {
   "cell_type": "markdown",
   "id": "ad09916d",
   "metadata": {},
   "source": [
    "# Trump"
   ]
  },
  {
   "cell_type": "code",
   "execution_count": null,
   "id": "0774f2d6",
   "metadata": {},
   "outputs": [],
   "source": [
    "df_class_data2.loc[df_class_data2.Tweet_Text.str.contains('Trump')|\n",
    "                  df_class_data2.Tweet_Text.str.contains('Donlad Trump')|\n",
    "                  df_class_data2.Tweet_Text.str.contains('ट्रम्प')\n",
    "                  ].sort_values(by = 'Time_Interval')[['Tweet_ID', 'Tweet_Text', 'Time_Interval', 'Cluster_ID']].iloc[-30:]"
   ]
  },
  {
   "cell_type": "code",
   "execution_count": null,
   "id": "94357a27",
   "metadata": {},
   "outputs": [],
   "source": [
    "df_trump = [146600,\n",
    "151288,\n",
    "7341,\n",
    "41746,\n",
    "14495]\n",
    "df_q = df_trump"
   ]
  },
  {
   "cell_type": "code",
   "execution_count": null,
   "id": "4afd7ec1",
   "metadata": {},
   "outputs": [],
   "source": [
    "print('Total_Cluster '+ str(len(df_class_data2.loc[df_class_data2.Tweet_Text.str.contains('Trump')|\n",
    "                  df_class_data2.Tweet_Text.str.contains('Donlad Trump')|\n",
    "                  df_class_data2.Tweet_Text.str.contains('ट्रम्प')].sort_values(by = 'Time_Interval')[['Tweet_ID', 'Tweet_Text', 'Time_Interval', 'Cluster_ID']].groupby('Cluster_ID').count())))\n",
    "\n",
    "print('Total Tweets '+ str(len(df_class_data2.loc[df_class_data2.Tweet_Text.str.contains('Trump')|\n",
    "                  df_class_data2.Tweet_Text.str.contains('Donlad Trump')|\n",
    "                  df_class_data2.Tweet_Text.str.contains('ट्रम्प')].sort_values(by = 'Time_Interval')[['Tweet_ID', 'Tweet_Text', 'Time_Interval', 'Cluster_ID']])))"
   ]
  },
  {
   "cell_type": "code",
   "execution_count": null,
   "id": "5847e447",
   "metadata": {},
   "outputs": [],
   "source": [
    "print(df_class_data2[df_class_data2.Cluster_ID.isin(df_q)].groupby('Cluster_ID').count()[['Tweet_ID']])\n",
    "print(\"\\n\")\n",
    "print(df_class_data2[df_class_data2.Cluster_ID.isin(df_q)].groupby('Cluster_ID').sum())\n",
    "print(df_class_data2[df_class_data2.Cluster_ID.isin(df_q)][['Cluster_ID', 'Time_Interval']].drop_duplicates())"
   ]
  },
  {
   "cell_type": "code",
   "execution_count": null,
   "id": "7512bc58",
   "metadata": {},
   "outputs": [],
   "source": []
  },
  {
   "cell_type": "code",
   "execution_count": null,
   "id": "52f8eb80",
   "metadata": {},
   "outputs": [],
   "source": [
    "df_class_data2.loc[df_class_data2.Tweet_Text.str.contains('Putin')|\n",
    "                  df_class_data2.Tweet_Text.str.contains('पुतिन')\n",
    "                  ].sort_values(by = 'Time_Interval')[['Tweet_ID', 'Tweet_Text', 'Time_Interval', 'Cluster_ID']].iloc[-30:]"
   ]
  },
  {
   "cell_type": "code",
   "execution_count": null,
   "id": "0aebabf6",
   "metadata": {},
   "outputs": [],
   "source": [
    "print('Total_Cluster '+ str(len(df_class_data2.loc[df_class_data2.Tweet_Text.str.contains('Putin')|\n",
    "                  df_class_data2.Tweet_Text.str.contains('पुतिन')].sort_values(by = 'Time_Interval')[['Tweet_ID', 'Tweet_Text', 'Time_Interval', 'Cluster_ID']].groupby('Cluster_ID').count())))\n",
    "\n",
    "print('Total Tweets '+ str(len(df_class_data2.loc[df_class_data2.Tweet_Text.str.contains('Putin')|\n",
    "                  df_class_data2.Tweet_Text.str.contains('पुतिन')].sort_values(by = 'Time_Interval')[['Tweet_ID', 'Tweet_Text', 'Time_Interval', 'Cluster_ID']])))"
   ]
  },
  {
   "cell_type": "code",
   "execution_count": null,
   "id": "858adee9",
   "metadata": {},
   "outputs": [],
   "source": [
    "df_putin = [34196,\n",
    "116672,\n",
    "89885,\n",
    "49216,\n",
    "22727]\n",
    "df_q = df_putin"
   ]
  },
  {
   "cell_type": "code",
   "execution_count": null,
   "id": "ee4dada5",
   "metadata": {},
   "outputs": [],
   "source": [
    "print(df_class_data2[df_class_data2.Cluster_ID.isin(df_q)].groupby('Cluster_ID').count()[['Tweet_ID']])\n",
    "print(\"\\n\")\n",
    "print(df_class_data2[df_class_data2.Cluster_ID.isin(df_q)].groupby('Cluster_ID').sum())\n",
    "print(df_class_data2[df_class_data2.Cluster_ID.isin(df_q)][['Cluster_ID', 'Time_Interval']].drop_duplicates())"
   ]
  },
  {
   "cell_type": "code",
   "execution_count": null,
   "id": "1d1dab50",
   "metadata": {},
   "outputs": [],
   "source": []
  },
  {
   "cell_type": "code",
   "execution_count": null,
   "id": "bbfaa373",
   "metadata": {},
   "outputs": [],
   "source": []
  },
  {
   "cell_type": "code",
   "execution_count": null,
   "id": "327d8c30",
   "metadata": {},
   "outputs": [],
   "source": [
    "df_class_data2.loc[df_class_data2.Tweet_Text.str.contains('Biden')|\n",
    "                  df_class_data2.Tweet_Text.str.contains('बिडेन')\n",
    "                  ].sort_values(by = 'Time_Interval')[['Tweet_ID', 'Tweet_Text', 'Time_Interval', 'Cluster_ID']].iloc[-30:]"
   ]
  },
  {
   "cell_type": "code",
   "execution_count": null,
   "id": "5dc6db36",
   "metadata": {},
   "outputs": [],
   "source": [
    "print('Total_Cluster '+ str(len(df_class_data2.loc[df_class_data2.Tweet_Text.str.contains('Biden')|\n",
    "                  df_class_data2.Tweet_Text.str.contains('बिडेन')].sort_values(by = 'Time_Interval')[['Tweet_ID', 'Tweet_Text', 'Time_Interval', 'Cluster_ID']].groupby('Cluster_ID').count())))\n",
    "\n",
    "print('Total Tweets '+ str(len(df_class_data2.loc[df_class_data2.Tweet_Text.str.contains('Biden')|\n",
    "                  df_class_data2.Tweet_Text.str.contains('बिडेन')].sort_values(by = 'Time_Interval')[['Tweet_ID', 'Tweet_Text', 'Time_Interval', 'Cluster_ID']])))"
   ]
  },
  {
   "cell_type": "code",
   "execution_count": null,
   "id": "6d5b1661",
   "metadata": {},
   "outputs": [],
   "source": [
    "df_biden =[95996,\n",
    "89895,\n",
    "40427,\n",
    "154137,\n",
    "134576]\n",
    "df_q = df_biden"
   ]
  },
  {
   "cell_type": "code",
   "execution_count": null,
   "id": "15efc1f1",
   "metadata": {},
   "outputs": [],
   "source": [
    "print(df_class_data2[df_class_data2.Cluster_ID.isin(df_q)].groupby('Cluster_ID').count()[['Tweet_ID']])\n",
    "print(\"\\n\")\n",
    "print(df_class_data2[df_class_data2.Cluster_ID.isin(df_q)].groupby('Cluster_ID').sum())\n",
    "print(df_class_data2[df_class_data2.Cluster_ID.isin(df_q)][['Cluster_ID', 'Time_Interval']].drop_duplicates())"
   ]
  },
  {
   "cell_type": "code",
   "execution_count": null,
   "id": "9eed98ae",
   "metadata": {},
   "outputs": [],
   "source": []
  },
  {
   "cell_type": "markdown",
   "id": "3c681b97",
   "metadata": {},
   "source": [
    "# Kashmiri Files"
   ]
  },
  {
   "cell_type": "code",
   "execution_count": null,
   "id": "fd76afec",
   "metadata": {},
   "outputs": [],
   "source": [
    "df_class_data2.loc[df_class_data2.Tweet_Text.str.contains('The Kashmir Files')|\n",
    "                  df_class_data2.Tweet_Text.str.contains('#TheKashmirFiles')\n",
    "                  ].sort_values(by = 'Time_Interval')[['Tweet_ID', 'Tweet_Text', 'Time_Interval', 'Cluster_ID']].iloc[-30:]"
   ]
  },
  {
   "cell_type": "code",
   "execution_count": null,
   "id": "a8f2d645",
   "metadata": {},
   "outputs": [],
   "source": [
    "df_kashmir =[45560,\n",
    "28358,\n",
    "16104,\n",
    "32391,\n",
    "4701]\n",
    "df_q = df_kashmir"
   ]
  },
  {
   "cell_type": "code",
   "execution_count": null,
   "id": "c45c4a07",
   "metadata": {},
   "outputs": [],
   "source": [
    "print(df_class_data2[df_class_data2.Cluster_ID.isin(df_q)].groupby('Cluster_ID').count()[['Tweet_ID']])\n",
    "print(\"\\n\")\n",
    "print(df_class_data2[df_class_data2.Cluster_ID.isin(df_q)].groupby('Cluster_ID').sum())\n",
    "print(df_class_data2[df_class_data2.Cluster_ID.isin(df_q)][['Cluster_ID', 'Time_Interval']].drop_duplicates())"
   ]
  },
  {
   "cell_type": "code",
   "execution_count": null,
   "id": "d1b3af9b",
   "metadata": {},
   "outputs": [],
   "source": [
    "print('Total_Cluster '+ str(len(df_class_data2.loc[df_class_data2.Tweet_Text.str.contains('The Kashmir Files')|\n",
    "                  df_class_data2.Tweet_Text.str.contains('#TheKashmirFiles')].sort_values(by = 'Time_Interval')[['Tweet_ID', 'Tweet_Text', 'Time_Interval', 'Cluster_ID']].groupby('Cluster_ID').count())))\n",
    "\n",
    "print('Total Tweets '+ str(len(df_class_data2.loc[df_class_data2.Tweet_Text.str.contains('The Kashmir Files')|\n",
    "                  df_class_data2.Tweet_Text.str.contains('#TheKashmirFiles')].sort_values(by = 'Time_Interval')[['Tweet_ID', 'Tweet_Text', 'Time_Interval', 'Cluster_ID']])))"
   ]
  },
  {
   "cell_type": "markdown",
   "id": "99fac370",
   "metadata": {},
   "source": [
    "# Boycott"
   ]
  },
  {
   "cell_type": "code",
   "execution_count": null,
   "id": "396afcab",
   "metadata": {},
   "outputs": [],
   "source": [
    "df_class_data2.loc[df_class_data2.Tweet_Text.str.contains('boycott')|\n",
    "                   df_class_data2.Tweet_Text.str.contains('Boycott')\n",
    "                  ].sort_values(by = 'Time_Interval')[['Tweet_ID', 'Tweet_Text', 'Time_Interval', 'Cluster_ID']].iloc[-30:]"
   ]
  },
  {
   "cell_type": "code",
   "execution_count": null,
   "id": "4626b556",
   "metadata": {},
   "outputs": [],
   "source": [
    "df_boy =[41685,\n",
    "59794,\n",
    "27564,\n",
    "138993,\n",
    "155385]\n",
    "df_q = df_boy"
   ]
  },
  {
   "cell_type": "code",
   "execution_count": null,
   "id": "639d5ee4",
   "metadata": {},
   "outputs": [],
   "source": [
    "print(df_class_data2[df_class_data2.Cluster_ID.isin(df_q)].groupby('Cluster_ID').count()[['Tweet_ID']])\n",
    "print(\"\\n\")\n",
    "print(df_class_data2[df_class_data2.Cluster_ID.isin(df_q)].groupby('Cluster_ID').sum())\n",
    "print(df_class_data2[df_class_data2.Cluster_ID.isin(df_q)][['Cluster_ID', 'Time_Interval']].drop_duplicates())"
   ]
  },
  {
   "cell_type": "code",
   "execution_count": null,
   "id": "19f8de71",
   "metadata": {},
   "outputs": [],
   "source": [
    "print('Total_Cluster '+ str(len(df_class_data2.loc[df_class_data2.Tweet_Text.str.contains('boycott')|\n",
    "                   df_class_data2.Tweet_Text.str.contains('Boycott')].sort_values(by = 'Time_Interval')[['Tweet_ID', 'Tweet_Text', 'Time_Interval', 'Cluster_ID']].groupby('Cluster_ID').count())))\n",
    "\n",
    "print('Total Tweets '+ str(len(df_class_data2.loc[df_class_data2.Tweet_Text.str.contains('boycott')|\n",
    "                   df_class_data2.Tweet_Text.str.contains('Boycott')].sort_values(by = 'Time_Interval')[['Tweet_ID', 'Tweet_Text', 'Time_Interval', 'Cluster_ID']])))"
   ]
  },
  {
   "cell_type": "markdown",
   "id": "c8a12a99",
   "metadata": {},
   "source": [
    "# Adani\n"
   ]
  },
  {
   "cell_type": "code",
   "execution_count": null,
   "id": "bc099d7b",
   "metadata": {},
   "outputs": [],
   "source": [
    "df_class_data2.loc[df_class_data2.Tweet_Text.str.contains('Adani')|\n",
    "                   df_class_data2.Tweet_Text.str.contains('अदाणी')\n",
    "                  ].sort_values(by = 'Time_Interval')[['Tweet_ID', 'Tweet_Text', 'Time_Interval', 'Cluster_ID']].iloc[-30:]"
   ]
  },
  {
   "cell_type": "code",
   "execution_count": null,
   "id": "fe451b8b",
   "metadata": {},
   "outputs": [],
   "source": [
    "df_adani =[23271,\n",
    "23270,\n",
    "91812,\n",
    "56279,\n",
    "167878]\n",
    "df_q = df_adani"
   ]
  },
  {
   "cell_type": "code",
   "execution_count": null,
   "id": "1b886302",
   "metadata": {},
   "outputs": [],
   "source": [
    "print(df_class_data2[df_class_data2.Cluster_ID.isin(df_q)].groupby('Cluster_ID').count()[['Tweet_ID']])\n",
    "print(\"\\n\")\n",
    "print(df_class_data2[df_class_data2.Cluster_ID.isin(df_q)].groupby('Cluster_ID').sum())\n",
    "print(df_class_data2[df_class_data2.Cluster_ID.isin(df_q)][['Cluster_ID', 'Time_Interval']].drop_duplicates())"
   ]
  },
  {
   "cell_type": "code",
   "execution_count": null,
   "id": "f9b443ff",
   "metadata": {},
   "outputs": [],
   "source": [
    "print('Total_Cluster '+ str(len(df_class_data2.loc[df_class_data2.Tweet_Text.str.contains('Adani')|\n",
    "                   df_class_data2.Tweet_Text.str.contains('अदाणी')].sort_values(by = 'Time_Interval')[['Tweet_ID', 'Tweet_Text', 'Time_Interval', 'Cluster_ID']].groupby('Cluster_ID').count())))\n",
    "\n",
    "print('Total Tweets '+ str(len(df_class_data2.loc[df_class_data2.Tweet_Text.str.contains('Adani')|\n",
    "                   df_class_data2.Tweet_Text.str.contains('अदाणी')].sort_values(by = 'Time_Interval')[['Tweet_ID', 'Tweet_Text', 'Time_Interval', 'Cluster_ID']])))"
   ]
  },
  {
   "cell_type": "code",
   "execution_count": null,
   "id": "96cea5fc",
   "metadata": {},
   "outputs": [],
   "source": []
  },
  {
   "cell_type": "code",
   "execution_count": null,
   "id": "57e72aa0",
   "metadata": {},
   "outputs": [],
   "source": []
  },
  {
   "cell_type": "code",
   "execution_count": null,
   "id": "48982d1d",
   "metadata": {},
   "outputs": [],
   "source": [
    "df_class_data2.head()"
   ]
  },
  {
   "cell_type": "code",
   "execution_count": null,
   "id": "5c595e50",
   "metadata": {},
   "outputs": [],
   "source": [
    "df_class_data2.loc[df_class_data2.Tweet_Text.str.contains('muslim mob')|\n",
    "                   df_class_data2.Tweet_Text.str.contains('Muslim mob')| \n",
    "                   df_class_data2.Tweet_Text.str.contains('Muslim Mob')|\n",
    "                   df_class_data2.Tweet_Text.str.contains('मुस्लिम')\n",
    "                  ].sort_values(by = 'Time_Interval')[['Tweet_ID', 'Tweet_Text', 'Time_Interval', 'Cluster_ID']].iloc[-330:-300]"
   ]
  },
  {
   "cell_type": "code",
   "execution_count": null,
   "id": "3d3168b7",
   "metadata": {},
   "outputs": [],
   "source": [
    "df_class_data2.loc[df_class_data2.Tweet_Text.str.contains('russia')|\n",
    "                  df_class_data2.Tweet_Text.str.contains('Russia')].sort_values(by = 'Time_Interval')"
   ]
  },
  {
   "cell_type": "code",
   "execution_count": null,
   "id": "d35a4377",
   "metadata": {},
   "outputs": [],
   "source": [
    "df_class_data2.loc[df_class_data2.Tweet_Text.str.contains('covid')|\n",
    "                  df_class_data2.Tweet_Text.str.contains('Covid')].sort_values(by = 'Time_Interval')"
   ]
  },
  {
   "cell_type": "code",
   "execution_count": null,
   "id": "8d457183",
   "metadata": {},
   "outputs": [],
   "source": [
    "df_class_data2.loc[df_class_data2.Tweet_Text.str.contains('farmer')|\n",
    "                  df_class_data2.Tweet_Text.str.contains('Farmer')].sort_values(by = 'Time_Interval')"
   ]
  },
  {
   "cell_type": "code",
   "execution_count": null,
   "id": "a990dafc",
   "metadata": {},
   "outputs": [],
   "source": [
    "df_class_data2.loc[df_class_data2.Tweet_Text.str.contains('pakistan')|\n",
    "                  df_class_data2.Tweet_Text.str.contains('Pakistan')].sort_values(by = 'Time_Interval')"
   ]
  },
  {
   "cell_type": "code",
   "execution_count": null,
   "id": "557826a2",
   "metadata": {},
   "outputs": [],
   "source": [
    "df_class_data2.loc[df_class_data2.Tweet_Text.str.contains('bangladesh')|\n",
    "                  df_class_data2.Tweet_Text.str.contains('Bangladesh')].sort_values(by = 'Time_Interval')"
   ]
  },
  {
   "cell_type": "code",
   "execution_count": null,
   "id": "9f9e0c52",
   "metadata": {},
   "outputs": [],
   "source": [
    "df_class_data2.loc[df_class_data2.Tweet_Text.str.contains('cab')|\n",
    "                  df_class_data2.Tweet_Text.str.contains('CAB')].sort_values(by = 'Time_Interval')"
   ]
  },
  {
   "cell_type": "code",
   "execution_count": null,
   "id": "7cca2f91",
   "metadata": {},
   "outputs": [],
   "source": [
    "df_class_data2.loc[df_class_data2.Tweet_Text.str.contains('caa')|\n",
    "                  df_class_data2.Tweet_Text.str.contains('CAA')].sort_values(by = 'Time_Interval')"
   ]
  },
  {
   "cell_type": "code",
   "execution_count": null,
   "id": "cda435aa",
   "metadata": {},
   "outputs": [],
   "source": [
    "df_class_data2.loc[df_class_data2.Tweet_Text.str.contains('#IndiaSupportsCAA')|\n",
    "                  df_class_data2.Tweet_Text.str.contains('#IndiaSupportsCAB')].sort_values(by = 'Time_Interval')"
   ]
  },
  {
   "cell_type": "code",
   "execution_count": null,
   "id": "5ce8737d",
   "metadata": {},
   "outputs": [],
   "source": [
    "df_class_data2.loc[df_class_data2.Tweet_Text.str.contains('Trump')|\n",
    "                  df_class_data2.Tweet_Text.str.contains('trump')].sort_values(by = 'Time_Interval')"
   ]
  },
  {
   "cell_type": "code",
   "execution_count": null,
   "id": "85cd18c3",
   "metadata": {},
   "outputs": [],
   "source": [
    "df_class_data2.loc[df_class_data2.Tweet_Text.str.contains('#USABetrayedIndia')].sort_values(by = 'Time_Interval')"
   ]
  },
  {
   "cell_type": "code",
   "execution_count": null,
   "id": "79cb39f4",
   "metadata": {},
   "outputs": [],
   "source": [
    "df_class_data2.loc[df_class_data2.Tweet_Text.str.contains('Boycott')].sort_values(by = 'Time_Interval')[['Tweet_ID', 'Tweet_Text', 'Time_Interval', 'Cluster_ID']].iloc[-20:]"
   ]
  },
  {
   "cell_type": "markdown",
   "id": "fd848f49",
   "metadata": {},
   "source": [
    "# Hashtag Analysis"
   ]
  },
  {
   "cell_type": "code",
   "execution_count": null,
   "id": "dbce663a",
   "metadata": {},
   "outputs": [],
   "source": [
    "df_class_data2['HashTags'] = df_class_data2.Tweet_Text.str.findall(r'#.*?(?=\\s|$)')"
   ]
  },
  {
   "cell_type": "code",
   "execution_count": null,
   "id": "6e7c3032",
   "metadata": {},
   "outputs": [],
   "source": [
    "df_hash_data = df_class_data2[['Tweet_ID', 'Cluster_ID','HashTags']]"
   ]
  },
  {
   "cell_type": "code",
   "execution_count": null,
   "id": "de57e7f9",
   "metadata": {},
   "outputs": [],
   "source": [
    "df_hash_only = df_hash_data.explode('HashTags').dropna()"
   ]
  },
  {
   "cell_type": "code",
   "execution_count": null,
   "id": "fd668aaf",
   "metadata": {},
   "outputs": [],
   "source": [
    "df_hash_only.drop_duplicates('HashTags')"
   ]
  },
  {
   "cell_type": "code",
   "execution_count": null,
   "id": "e990b654",
   "metadata": {},
   "outputs": [],
   "source": [
    "df_hash_only.groupby('HashTags').count().reset_index(drop = False).sort_values(by = 'Tweet_ID').iloc[-50:]"
   ]
  },
  {
   "cell_type": "code",
   "execution_count": null,
   "id": "74d4afaf",
   "metadata": {},
   "outputs": [],
   "source": [
    "df_hash_only"
   ]
  },
  {
   "cell_type": "code",
   "execution_count": null,
   "id": "df410033",
   "metadata": {},
   "outputs": [],
   "source": [
    "df_hash_only.groupby('HashTags').count().reset_index(drop = False).sort_values(by = 'Tweet_ID').iloc[-50:]"
   ]
  },
  {
   "cell_type": "markdown",
   "id": "3d48bb6f",
   "metadata": {},
   "source": [
    "# Spike Detection in Cluster Time Interval"
   ]
  },
  {
   "cell_type": "code",
   "execution_count": null,
   "id": "388ae161",
   "metadata": {},
   "outputs": [],
   "source": [
    "df_ver_non_ver.loc[(df_ver_non_ver.Time_Interval >= 30) & (df_ver_non_ver.Cluster_Size >= 10)].sample(5)"
   ]
  },
  {
   "cell_type": "code",
   "execution_count": null,
   "id": "3fdd4435",
   "metadata": {},
   "outputs": [],
   "source": [
    "df_class_data.loc[df_class_data.Cluster_ID == 35296]"
   ]
  },
  {
   "cell_type": "code",
   "execution_count": null,
   "id": "683f0fed",
   "metadata": {},
   "outputs": [],
   "source": [
    "df_class_data2"
   ]
  },
  {
   "cell_type": "code",
   "execution_count": null,
   "id": "b72f3df6",
   "metadata": {},
   "outputs": [],
   "source": [
    "df_class_data2.Tweet_Date = pd.to_datetime(df_class_data2.Tweet_Time, errors='coerce')"
   ]
  },
  {
   "cell_type": "code",
   "execution_count": null,
   "id": "4d1b7741",
   "metadata": {},
   "outputs": [],
   "source": [
    "df_quest = df_class_data2.groupby('Cluster_ID').resample('M', on='Tweet_Date').count()"
   ]
  },
  {
   "cell_type": "code",
   "execution_count": null,
   "id": "16e9e3d5",
   "metadata": {},
   "outputs": [],
   "source": [
    "df_quest = df_quest.rename(columns = {'Cluster_ID': 'Cluster_ID2', 'Tweet_Date':'Tweet2Date'}).reset_index()"
   ]
  },
  {
   "cell_type": "code",
   "execution_count": null,
   "id": "72e484a9",
   "metadata": {},
   "outputs": [],
   "source": [
    "df_class_data2.to_csv('All_Tweet.csv')"
   ]
  },
  {
   "cell_type": "code",
   "execution_count": null,
   "id": "86ab0a9b",
   "metadata": {},
   "outputs": [],
   "source": [
    "df_class_data2"
   ]
  },
  {
   "cell_type": "code",
   "execution_count": null,
   "id": "b88dffac",
   "metadata": {},
   "outputs": [],
   "source": [
    "df_rater = pd.read_csv('Rater_Verification.csv')"
   ]
  },
  {
   "cell_type": "code",
   "execution_count": null,
   "id": "9a72794f",
   "metadata": {},
   "outputs": [],
   "source": [
    "df_rater.Cluster_ID.tolist()"
   ]
  },
  {
   "cell_type": "code",
   "execution_count": null,
   "id": "6e1992c8",
   "metadata": {},
   "outputs": [],
   "source": [
    "df_mis_list = [17558, 27346, 112438, 40732, 27346, 129331, 3768,23463, 89168, 88626, 71101,29962,71798, 37923, 109784, 56897, 154899]"
   ]
  },
  {
   "cell_type": "code",
   "execution_count": null,
   "id": "b67c14da",
   "metadata": {},
   "outputs": [],
   "source": [
    "df_class_data2[df_class_data2.Cluster_ID.isin(df_rater.Cluster_ID.tolist())].groupby('Cluster_ID').count()"
   ]
  },
  {
   "cell_type": "code",
   "execution_count": null,
   "id": "bbe52791",
   "metadata": {},
   "outputs": [],
   "source": [
    "df_class_data2[df_class_data2.Cluster_ID.isin(df_mis_list)].groupby('Cluster_ID').count()"
   ]
  }
 ],
 "metadata": {
  "kernelspec": {
   "display_name": "Python 3 (ipykernel)",
   "language": "python",
   "name": "python3"
  },
  "language_info": {
   "codemirror_mode": {
    "name": "ipython",
    "version": 3
   },
   "file_extension": ".py",
   "mimetype": "text/x-python",
   "name": "python",
   "nbconvert_exporter": "python",
   "pygments_lexer": "ipython3",
   "version": "3.9.13"
  }
 },
 "nbformat": 4,
 "nbformat_minor": 5
}
