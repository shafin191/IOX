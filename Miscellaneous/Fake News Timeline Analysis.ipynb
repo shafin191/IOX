{
 "cells": [
  {
   "cell_type": "code",
   "execution_count": null,
   "id": "d1a74618",
   "metadata": {},
   "outputs": [],
   "source": [
    "import pandas as pd\n",
    "import matplotlib.pyplot as plt\n",
    "import numpy as np\n",
    "import matplotlib.dates as mdates\n",
    "from datetime import datetime\n",
    "import pandas as pd\n",
    "import re\n",
    "pd.set_option('display.max_colwidth', None)\n",
    "import tweepy\n",
    "import pickle\n",
    "import time\n",
    "pd.set_option('display.max_columns', None)  \n",
    "import os "
   ]
  },
  {
   "cell_type": "code",
   "execution_count": null,
   "id": "a4909b5a",
   "metadata": {},
   "outputs": [],
   "source": []
  },
  {
   "cell_type": "code",
   "execution_count": null,
   "id": "51dcfe71",
   "metadata": {},
   "outputs": [],
   "source": [
    "df = pd.read_csv('Fact_Check_Fake_News_Timeline.csv')"
   ]
  },
  {
   "cell_type": "code",
   "execution_count": null,
   "id": "0263c43c",
   "metadata": {},
   "outputs": [],
   "source": [
    "df = df.drop(columns=['Unnamed: 0','index_x'])"
   ]
  },
  {
   "cell_type": "code",
   "execution_count": null,
   "id": "b6e1d3f7",
   "metadata": {},
   "outputs": [],
   "source": [
    "df"
   ]
  },
  {
   "cell_type": "markdown",
   "id": "4609a75a",
   "metadata": {},
   "source": [
    "# Account Cluseter Based on Fake News"
   ]
  },
  {
   "cell_type": "code",
   "execution_count": null,
   "id": "341975ea",
   "metadata": {},
   "outputs": [],
   "source": [
    "df.loc[df.Screen_Name=='par_tha12345']"
   ]
  },
  {
   "cell_type": "code",
   "execution_count": null,
   "id": "d3667eee",
   "metadata": {},
   "outputs": [],
   "source": [
    "df_link_group = df.groupby('Fact_Check_Link').count().reset_index().Fact_Check_Link"
   ]
  },
  {
   "cell_type": "code",
   "execution_count": null,
   "id": "3f3fecda",
   "metadata": {},
   "outputs": [],
   "source": [
    "dfp = df.loc[df.Fact_Check_Link == df_link_group[337]].reset_index(drop = True)"
   ]
  },
  {
   "cell_type": "code",
   "execution_count": null,
   "id": "eb999a25",
   "metadata": {},
   "outputs": [],
   "source": [
    "len(dfp)"
   ]
  },
  {
   "cell_type": "code",
   "execution_count": null,
   "id": "d5624802",
   "metadata": {},
   "outputs": [],
   "source": [
    "dfp"
   ]
  },
  {
   "cell_type": "code",
   "execution_count": null,
   "id": "cccee4cf",
   "metadata": {},
   "outputs": [],
   "source": [
    "dfp['DT'] = pd.to_datetime(dfp['Tweet_Time'], format='%Y-%m-%d %H:%M:%S')"
   ]
  },
  {
   "cell_type": "code",
   "execution_count": null,
   "id": "30f99702",
   "metadata": {},
   "outputs": [],
   "source": [
    "pop = dfp.groupby('Screen_Name').resample('W-MON', on='DT').sum().reset_index().sort_values(by='DT')"
   ]
  },
  {
   "cell_type": "code",
   "execution_count": null,
   "id": "3ef9f53a",
   "metadata": {},
   "outputs": [],
   "source": [
    "pop"
   ]
  },
  {
   "cell_type": "code",
   "execution_count": null,
   "id": "9caa792d",
   "metadata": {},
   "outputs": [],
   "source": [
    "pop = pop[pop['News_Number'] != 0]"
   ]
  },
  {
   "cell_type": "code",
   "execution_count": null,
   "id": "0c2f1c0f",
   "metadata": {},
   "outputs": [],
   "source": [
    "len(pop)"
   ]
  },
  {
   "cell_type": "code",
   "execution_count": null,
   "id": "9870dccf",
   "metadata": {},
   "outputs": [],
   "source": [
    "dfp.News_Number[0]"
   ]
  },
  {
   "cell_type": "code",
   "execution_count": null,
   "id": "85c9b53f",
   "metadata": {},
   "outputs": [],
   "source": [
    "pop_len = len(pop.groupby('DT').count())"
   ]
  },
  {
   "cell_type": "code",
   "execution_count": null,
   "id": "2bc22f5e",
   "metadata": {},
   "outputs": [],
   "source": [
    "len(pop.groupby('DT').count())"
   ]
  },
  {
   "cell_type": "code",
   "execution_count": null,
   "id": "b57368df",
   "metadata": {},
   "outputs": [],
   "source": [
    "pop_date = pop.groupby('DT').count().reset_index()"
   ]
  },
  {
   "cell_type": "code",
   "execution_count": null,
   "id": "431353af",
   "metadata": {},
   "outputs": [],
   "source": [
    "pop_date.iloc[0].DT"
   ]
  },
  {
   "cell_type": "code",
   "execution_count": null,
   "id": "e6bad230",
   "metadata": {},
   "outputs": [],
   "source": [
    "list(pop.loc[pop.DT == pop_date.iloc[0].DT].Screen_Name.reset_index(drop = True))"
   ]
  },
  {
   "cell_type": "code",
   "execution_count": null,
   "id": "968595ac",
   "metadata": {},
   "outputs": [],
   "source": [
    "pop_date = pop.groupby('DT').count().reset_index()\n",
    "for i in range(0, pop_len):\n",
    "    pop_dt = list(pop.loc[pop.DT == pop_date.iloc[i].DT].Screen_Name.reset_index(drop = True))\n",
    "    print(pop_dt)\n"
   ]
  },
  {
   "cell_type": "code",
   "execution_count": null,
   "id": "f967b3ea",
   "metadata": {},
   "outputs": [],
   "source": [
    "pop"
   ]
  },
  {
   "cell_type": "code",
   "execution_count": null,
   "id": "ca658fc2",
   "metadata": {},
   "outputs": [],
   "source": [
    "df_cluster_week = pd.DataFrame(columns=['News_Number', 'Cluster'])\n",
    "for i in range(0, len(df_link_group)):\n",
    "    nn = df_link_group[i]\n",
    "    dfp = df.loc[df.Fact_Check_Link == nn].reset_index(drop = True)\n",
    "    dfp['Date'] = pd.to_datetime(dfp['Date'], format='%Y-%m-%d')\n",
    "    pop = dfp.groupby('Screen_Name').resample('W', on='Date', origin= 'start').sum().reset_index().sort_values(by='Date')\n",
    "    \n",
    "    if i != 0:\n",
    "        pop = pop[pop['News_Number'] != 0]\n",
    "    \n",
    "    nn_number = dfp.News_Number[0]\n",
    "    nn_cluster = len(pop.groupby('Date').count())\n",
    "    df_cluster_week.at[i, 'News_Number'] = nn_number\n",
    "    df_cluster_week.at[i, 'Cluster'] = nn_cluster\n",
    "    "
   ]
  },
  {
   "cell_type": "code",
   "execution_count": null,
   "id": "785c5050",
   "metadata": {},
   "outputs": [],
   "source": [
    "df_cluster_week.sum()"
   ]
  },
  {
   "cell_type": "code",
   "execution_count": null,
   "id": "8ebcc2bc",
   "metadata": {},
   "outputs": [],
   "source": [
    "df_cluster_week = pd.DataFrame(columns=['News_Number', 'Cluster'])\n",
    "df_cluster_week_sc = pd.DataFrame(columns=['News_Number', 'Cluster_Number', 'Screen_Name', 'Cluster_Size'])\n",
    "    \n",
    "    \n",
    "    \n",
    "k = 0    \n",
    "for i in range(0, len(df_link_group)):\n",
    "    nn = df_link_group[i]\n",
    "    dfp = df.loc[df.Fact_Check_Link == nn].reset_index(drop = True)\n",
    "    dfp['Date'] = pd.to_datetime(dfp['Date'], format='%Y-%m-%d')\n",
    "    pop = dfp.groupby('Screen_Name').resample('W', on='Date', origin= 'start').sum().reset_index().sort_values(by='Date')\n",
    "    nn_number = dfp.News_Number[0]\n",
    "    if i != 0:\n",
    "        pop = pop[pop['News_Number'] != 0]\n",
    "        \n",
    "    pop_date = pop.groupby('Date').count().reset_index()\n",
    "    pop_len = len(pop.groupby('Date').count())\n",
    "    for j in range(0, pop_len):\n",
    "        pop_dt = list(pop.loc[pop.Date == pop_date.iloc[j].Date].Screen_Name.reset_index(drop = True))\n",
    "        df_cluster_week_sc.at[k, 'News_Number'] = nn_number\n",
    "        df_cluster_week_sc.at[k, 'Cluster_Number'] = j+1\n",
    "        df_cluster_week_sc.at[k, 'Screen_Name'] = pop_dt\n",
    "        df_cluster_week_sc.at[k, 'Cluster_Size'] = len(pop_dt)\n",
    "        k = k+1\n",
    "        \n",
    "    \n",
    "    \n",
    "    nn_cluster = len(pop.groupby('Date').count())\n",
    "    df_cluster_week.at[i, 'News_Number'] = nn_number\n",
    "    df_cluster_week.at[i, 'Cluster'] = nn_cluster\n",
    "    "
   ]
  },
  {
   "cell_type": "code",
   "execution_count": null,
   "id": "1cd6cbf3",
   "metadata": {},
   "outputs": [],
   "source": [
    "df_cluster_week"
   ]
  },
  {
   "cell_type": "code",
   "execution_count": null,
   "id": "2c74060a",
   "metadata": {},
   "outputs": [],
   "source": [
    "len(df_cluster_week_sc.loc[df_cluster_week_sc.Cluster_Size > 20])"
   ]
  },
  {
   "cell_type": "code",
   "execution_count": null,
   "id": "286678c1",
   "metadata": {},
   "outputs": [],
   "source": [
    "df_cluster_week_sc.groupby('Cluster_Size').count().reset_index()"
   ]
  },
  {
   "cell_type": "code",
   "execution_count": null,
   "id": "eaf86d48",
   "metadata": {},
   "outputs": [],
   "source": [
    "df_cluster_week_sc"
   ]
  },
  {
   "cell_type": "code",
   "execution_count": null,
   "id": "e1d9739a",
   "metadata": {},
   "outputs": [],
   "source": [
    "len(df_cluster_month_sc.loc[df_cluster_month_sc.Cluster_Size > 20])"
   ]
  },
  {
   "cell_type": "code",
   "execution_count": null,
   "id": "dffbb50d",
   "metadata": {},
   "outputs": [],
   "source": [
    "df_cluster_month_sc.groupby('Cluster_Size').count().reset_index()"
   ]
  },
  {
   "cell_type": "code",
   "execution_count": null,
   "id": "04f44dc4",
   "metadata": {},
   "outputs": [],
   "source": [
    "6145/859"
   ]
  },
  {
   "cell_type": "code",
   "execution_count": null,
   "id": "b66f7295",
   "metadata": {},
   "outputs": [],
   "source": [
    "df_cluster_month = pd.DataFrame(columns=['News_Number', 'Cluster'])\n",
    "df_cluster_month_sc = pd.DataFrame(columns=['News_Number', 'Cluster_Number', 'Screen_Name', 'Cluster_Size'])\n",
    "    \n",
    "    \n",
    "    \n",
    "k = 0    \n",
    "for i in range(0, len(df_link_group)):\n",
    "    nn = df_link_group[i]\n",
    "    dfp = df.loc[df.Fact_Check_Link == nn].reset_index(drop = True)\n",
    "    dfp['Date'] = pd.to_datetime(dfp['Date'], format='%Y-%m-%d')\n",
    "    pop = dfp.groupby('Screen_Name').resample('M', on='Date', origin= 'start').sum().reset_index().sort_values(by='Date')\n",
    "    nn_number = dfp.News_Number[0]\n",
    "    if i != 0:\n",
    "        pop = pop[pop['News_Number'] != 0]\n",
    "        \n",
    "    pop_date = pop.groupby('Date').count().reset_index()\n",
    "    pop_len = len(pop.groupby('Date').count())\n",
    "    for j in range(0, pop_len):\n",
    "        pop_dt = list(pop.loc[pop.Date == pop_date.iloc[j].Date].Screen_Name.reset_index(drop = True))\n",
    "        df_cluster_month_sc.at[k, 'News_Number'] = nn_number\n",
    "        df_cluster_month_sc.at[k, 'Cluster_Number'] = j+1\n",
    "        df_cluster_month_sc.at[k, 'Screen_Name'] = pop_dt\n",
    "        df_cluster_month_sc.at[k, 'Cluster_Size'] = len(pop_dt)\n",
    "        k = k+1\n",
    "        \n",
    "    \n",
    "    \n",
    "    nn_cluster = len(pop.groupby('Date').count())\n",
    "    df_cluster_month.at[i, 'News_Number'] = nn_number\n",
    "    df_cluster_month.at[i, 'Cluster'] = nn_cluster"
   ]
  },
  {
   "cell_type": "code",
   "execution_count": null,
   "id": "23b53225",
   "metadata": {},
   "outputs": [],
   "source": [
    "df_cluster_month_sc.to_csv('Cluster_Monthly.csv')"
   ]
  },
  {
   "cell_type": "code",
   "execution_count": null,
   "id": "1b5a80ff",
   "metadata": {},
   "outputs": [],
   "source": [
    "df_cluster_month"
   ]
  },
  {
   "cell_type": "code",
   "execution_count": null,
   "id": "bcc19cef",
   "metadata": {},
   "outputs": [],
   "source": [
    "df_cluster_week.loc[df_cluster_week.Cluster > 5]"
   ]
  },
  {
   "cell_type": "code",
   "execution_count": null,
   "id": "388db651",
   "metadata": {},
   "outputs": [],
   "source": [
    "df_cluster_week_sc.loc[df_cluster_week_sc.News_Number == 73]"
   ]
  },
  {
   "cell_type": "code",
   "execution_count": null,
   "id": "4a2340f5",
   "metadata": {},
   "outputs": [],
   "source": [
    "df_cluster_week.loc[df_cluster_week.Cluster == 1]"
   ]
  },
  {
   "cell_type": "code",
   "execution_count": null,
   "id": "4799915b",
   "metadata": {},
   "outputs": [],
   "source": [
    "df_cluster_week.loc[(df_cluster_week.Cluster >= 2) & (df_cluster_week.Cluster <= 5)]"
   ]
  },
  {
   "cell_type": "code",
   "execution_count": null,
   "id": "e371fb12",
   "metadata": {},
   "outputs": [],
   "source": [
    "len(df_cluster_week.loc[(df_cluster_week.Cluster > 5)].groupby('News_Number').count())"
   ]
  },
  {
   "cell_type": "code",
   "execution_count": null,
   "id": "4563d757",
   "metadata": {},
   "outputs": [],
   "source": [
    "dfp.Tweet_Time"
   ]
  },
  {
   "cell_type": "code",
   "execution_count": null,
   "id": "d481e698",
   "metadata": {},
   "outputs": [],
   "source": [
    "dfp['Date'] = pd.to_datetime(dfp['Date'], format='%Y-%m-%d')"
   ]
  },
  {
   "cell_type": "code",
   "execution_count": null,
   "id": "025a473e",
   "metadata": {},
   "outputs": [],
   "source": [
    "dfp['Date']"
   ]
  },
  {
   "cell_type": "code",
   "execution_count": null,
   "id": "0859947d",
   "metadata": {},
   "outputs": [],
   "source": [
    "day7_interval = dfp['Date'][0] + pd.Timedelta(days=7)"
   ]
  },
  {
   "cell_type": "code",
   "execution_count": null,
   "id": "53004a63",
   "metadata": {},
   "outputs": [],
   "source": [
    "dfp.loc[(dfp.Date >= dfp['Date'][0]) & (dfp['Date'] <= day7_interval)]"
   ]
  },
  {
   "cell_type": "code",
   "execution_count": null,
   "id": "72fe9282",
   "metadata": {},
   "outputs": [],
   "source": [
    "df.loc[df.Fact_Check_Link=='https://www.altnews.in/video-from-chennai-falsely-viral-muslims-pelting-stones-at-train-after-horn-disturbed-namaz/']"
   ]
  },
  {
   "cell_type": "code",
   "execution_count": null,
   "id": "4b15c809",
   "metadata": {},
   "outputs": [],
   "source": [
    "df = df.drop(['Unnamed: 0', 'index_x'], axis=1)"
   ]
  },
  {
   "cell_type": "code",
   "execution_count": null,
   "id": "1565af2e",
   "metadata": {},
   "outputs": [],
   "source": [
    "df.loc[df.Screen_Name == 'vijaygajera']"
   ]
  },
  {
   "cell_type": "code",
   "execution_count": null,
   "id": "c81ea3fe",
   "metadata": {},
   "outputs": [],
   "source": [
    "df2 = pd.read_csv('TimeLine_Check.csv')"
   ]
  },
  {
   "cell_type": "code",
   "execution_count": null,
   "id": "3906ed8a",
   "metadata": {},
   "outputs": [],
   "source": [
    "df2"
   ]
  },
  {
   "cell_type": "code",
   "execution_count": null,
   "id": "f1637608",
   "metadata": {},
   "outputs": [],
   "source": [
    "df2.Fact_Check_Link"
   ]
  },
  {
   "cell_type": "code",
   "execution_count": null,
   "id": "83c3637c",
   "metadata": {},
   "outputs": [],
   "source": [
    "df.columns"
   ]
  },
  {
   "cell_type": "code",
   "execution_count": null,
   "id": "08525c8b",
   "metadata": {},
   "outputs": [],
   "source": [
    "df_top_100 = df.groupby('Fact_Check_Link').count().reset_index().sort_values(by = 'Tweet_Text', ascending = False).reset_index()[0:50]"
   ]
  },
  {
   "cell_type": "code",
   "execution_count": null,
   "id": "6c6a7e89",
   "metadata": {},
   "outputs": [],
   "source": [
    "df[df.Fact_Check_Link.isin(df2.Fact_Check_Link)].drop_duplicates('Screen_Name')"
   ]
  },
  {
   "cell_type": "code",
   "execution_count": null,
   "id": "f794a82a",
   "metadata": {},
   "outputs": [],
   "source": [
    "df_148 = df.loc[df.News_Number == 148]\n",
    "df_148_timeline = df_148.groupby('Date').count().reset_index()\n",
    "df_148_timeline"
   ]
  },
  {
   "cell_type": "code",
   "execution_count": null,
   "id": "474315c3",
   "metadata": {},
   "outputs": [],
   "source": [
    "ax = df_148_timeline.plot.barh(x='Date', y='Tweet_Time', title='Body Hanging From Tree-148')\n",
    "ax.bar_label(ax.containers[0])\n"
   ]
  },
  {
   "cell_type": "code",
   "execution_count": null,
   "id": "2cf2eda5",
   "metadata": {},
   "outputs": [],
   "source": [
    "df_158 = df.loc[df.News_Number == 158]\n",
    "df_158_timeline = df_158.groupby('Date').count().reset_index()\n",
    "df_158_timeline"
   ]
  },
  {
   "cell_type": "code",
   "execution_count": null,
   "id": "955c26b9",
   "metadata": {},
   "outputs": [],
   "source": [
    "ax = df_158_timeline.plot.barh(x='Date', y='Tweet_Time', title = 'Cemetry of Chinese - 158')\n",
    "\n",
    "ax.bar_label(ax.containers[0])"
   ]
  },
  {
   "cell_type": "code",
   "execution_count": null,
   "id": "463b2aa0",
   "metadata": {},
   "outputs": [],
   "source": [
    "df_282 = df.loc[df.News_Number == 282]\n",
    "df_282_timeline = df_282.groupby('Date').count().reset_index()\n",
    "df_282_timeline"
   ]
  },
  {
   "cell_type": "code",
   "execution_count": null,
   "id": "b85f8155",
   "metadata": {},
   "outputs": [],
   "source": [
    "ax = df_282_timeline.plot.barh(x='Date', y='Tweet_Time', title='Old video of Algeria - 282')\n",
    "\n",
    "ax.bar_label(ax.containers[0])"
   ]
  },
  {
   "cell_type": "code",
   "execution_count": null,
   "id": "103dbff2",
   "metadata": {},
   "outputs": [],
   "source": [
    "df_178 = df.loc[df.News_Number == 178]\n",
    "df_178_timeline = df_178.groupby('Date').count().reset_index()\n",
    "df_178_timeline"
   ]
  },
  {
   "cell_type": "code",
   "execution_count": null,
   "id": "8198befe",
   "metadata": {},
   "outputs": [],
   "source": [
    "ax = df_178_timeline.plot.barh(x='Date', y='Tweet_Time')\n",
    "\n",
    "ax.bar_label(ax.containers[0])"
   ]
  },
  {
   "cell_type": "code",
   "execution_count": null,
   "id": "16e67e6a",
   "metadata": {},
   "outputs": [],
   "source": [
    "df_227 = df.loc[df.News_Number == 227]\n",
    "df_227_timeline = df_227.groupby('Date').count().reset_index()\n",
    "df_227_timeline\n",
    "ax = df_227_timeline.plot.barh(x='Date', y='Tweet_Time', title = 'Hindu Culture in UAE - 227')\n",
    "ax.bar_label(ax.containers[0])"
   ]
  },
  {
   "cell_type": "code",
   "execution_count": null,
   "id": "a5fb789b",
   "metadata": {},
   "outputs": [],
   "source": [
    "df_208 = df.loc[df.News_Number == 208]\n",
    "df_208_timeline = df_208.groupby('Date').count().reset_index()\n",
    "df_208_timeline\n",
    "ax = df_208_timeline.plot.barh(x='Date', y='Tweet_Time', title ='Scam of Army Boots - 208')\n",
    "ax.bar_label(ax.containers[0])"
   ]
  },
  {
   "cell_type": "code",
   "execution_count": null,
   "id": "61451bb7",
   "metadata": {},
   "outputs": [],
   "source": [
    "df_73 = df.loc[df.News_Number == 73]\n",
    "df_73_timeline = df_73.groupby('Date').count().reset_index()\n",
    "df_73_timeline\n",
    "ax = df_73_timeline.plot.barh(x='Date', y='Tweet_Time', title ='Morphed Billboard - 73')\n",
    "ax.bar_label(ax.containers[0])"
   ]
  },
  {
   "cell_type": "code",
   "execution_count": null,
   "id": "d8537cce",
   "metadata": {},
   "outputs": [],
   "source": [
    "df_73"
   ]
  },
  {
   "cell_type": "code",
   "execution_count": null,
   "id": "9b9e6d68",
   "metadata": {},
   "outputs": [],
   "source": [
    "key1 = \"\"\n",
    "key2 = \"\"\n",
    "key3 = \"\"\n",
    "key4 = \"\"\n",
    "\n",
    "\n",
    "auth = tweepy.OAuthHandler(key1, key2)\n",
    "auth.set_access_token(key3, key4)\n",
    "\n",
    "api = tweepy.API(auth, wait_on_rate_limit=True)"
   ]
  },
  {
   "cell_type": "code",
   "execution_count": null,
   "id": "ee7989ee",
   "metadata": {},
   "outputs": [],
   "source": [
    "mon_sc = df[df.Fact_Check_Link.isin(df2.Fact_Check_Link)].drop_duplicates('Screen_Name').reset_index()"
   ]
  },
  {
   "cell_type": "code",
   "execution_count": null,
   "id": "71273951",
   "metadata": {},
   "outputs": [],
   "source": [
    "mon_sc[mon_sc.News_Number.isin([2])]"
   ]
  },
  {
   "cell_type": "code",
   "execution_count": null,
   "id": "805c7b7e",
   "metadata": {},
   "outputs": [],
   "source": [
    "mon_sc.Screen_Name"
   ]
  },
  {
   "cell_type": "code",
   "execution_count": null,
   "id": "55c902c3",
   "metadata": {},
   "outputs": [],
   "source": [
    "alltweets = [] "
   ]
  },
  {
   "cell_type": "code",
   "execution_count": null,
   "id": "34b60bf4",
   "metadata": {},
   "outputs": [],
   "source": [
    "mon_sc_Screen = mon_sc[294:].Screen_Name"
   ]
  },
  {
   "cell_type": "code",
   "execution_count": null,
   "id": "0dd0a28c",
   "metadata": {},
   "outputs": [],
   "source": [
    "mon_sc_Screen"
   ]
  },
  {
   "cell_type": "code",
   "execution_count": null,
   "id": "5999a27d",
   "metadata": {},
   "outputs": [],
   "source": [
    "it = 0\n",
    "old_length = 0\n",
    "new_length =0\n",
    "consumer_key = key1\n",
    "consumer_secret = key2\n",
    "access_key = key3\n",
    "access_secret = key4\n",
    "\n",
    "\n",
    "auth = tweepy.OAuthHandler(consumer_key, consumer_secret)\n",
    "auth.set_access_token(access_key, access_secret)\n",
    "api = tweepy.API(auth)\n",
    "\n",
    "for i in mon_sc_Screen:\n",
    "    alltweets = [] \n",
    "    old_length = len(alltweets)\n",
    "    try:\n",
    "        new_tweets = api.user_timeline(screen_name = i,count=200, tweet_mode=\"extended\")\n",
    "\n",
    "        alltweets.extend(new_tweets)\n",
    "\n",
    "        oldest = alltweets[-1].id - 1\n",
    "\n",
    "        while len(new_tweets) > 0:\n",
    "\n",
    "            new_tweets = api.user_timeline(screen_name = i,count=200,max_id=oldest, tweet_mode=\"extended\")\n",
    "\n",
    "            alltweets.extend(new_tweets)\n",
    "\n",
    "            oldest = alltweets[-1].id - 1\n",
    "            with open('U:\\Twitter Research\\Fake News Scraping\\Monitoring Accounts\\Interested_Account\\Data_'+str(i) +'.data', 'wb') as filehandle:\n",
    "                pickle.dump(alltweets, filehandle)\n",
    "\n",
    "        new_length = len(alltweets) - old_length\n",
    "        print(f\"...{new_length} tweets downloaded so far for {i}\")\n",
    "        it+=1\n",
    "        if it%50 == 0:\n",
    "            time.sleep(15*30)\n",
    "        \n",
    "    except:\n",
    "        print(\"Account Not Found: \" + str(i))\n",
    "\n"
   ]
  }
 ],
 "metadata": {
  "kernelspec": {
   "display_name": "Python 3 (ipykernel)",
   "language": "python",
   "name": "python3"
  },
  "language_info": {
   "codemirror_mode": {
    "name": "ipython",
    "version": 3
   },
   "file_extension": ".py",
   "mimetype": "text/x-python",
   "name": "python",
   "nbconvert_exporter": "python",
   "pygments_lexer": "ipython3",
   "version": "3.9.13"
  }
 },
 "nbformat": 4,
 "nbformat_minor": 5
}
