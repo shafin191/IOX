{
 "cells": [
  {
   "cell_type": "code",
   "execution_count": 1,
   "id": "5360b9b4",
   "metadata": {},
   "outputs": [],
   "source": [
    "import pandas as pd\n",
    "import time\n",
    "import tweepy\n",
    "import pickle\n",
    "import glob\n",
    "import tweepy\n",
    "import datetime\n",
    "import numpy as np\n",
    "pd.set_option('display.max_colwidth', None)"
   ]
  },
  {
   "cell_type": "code",
   "execution_count": 2,
   "id": "06f9e942",
   "metadata": {},
   "outputs": [],
   "source": [
    "df1 = pd.read_csv('Final_Fake_Accounts.csv')\n",
    "df1 = df1.rename(columns = {'UserID': 'User_ID'})\n",
    "df1 = df1.drop('Unnamed: 0', axis=1)"
   ]
  },
  {
   "cell_type": "code",
   "execution_count": null,
   "id": "9a571c22",
   "metadata": {},
   "outputs": [],
   "source": []
  },
  {
   "cell_type": "code",
   "execution_count": 3,
   "id": "610ac525",
   "metadata": {},
   "outputs": [],
   "source": [
    "df2 = pd.read_csv('FeatureSetforFakeAccounts.csv')\n",
    "df2 = df2.drop('Unnamed: 0', axis=1)"
   ]
  },
  {
   "cell_type": "code",
   "execution_count": 4,
   "id": "dc97d545",
   "metadata": {},
   "outputs": [],
   "source": [
    "matching_id = df1.User_ID.isin(df2.User_ID)"
   ]
  },
  {
   "cell_type": "code",
   "execution_count": 5,
   "id": "e52b9489",
   "metadata": {},
   "outputs": [],
   "source": [
    "new_df = df1.loc[matching_id, :]"
   ]
  },
  {
   "cell_type": "code",
   "execution_count": 7,
   "id": "b60d40e3",
   "metadata": {},
   "outputs": [],
   "source": [
    "new_df = new_df.reset_index(drop = True)"
   ]
  },
  {
   "cell_type": "code",
   "execution_count": 11,
   "id": "339cbef5",
   "metadata": {},
   "outputs": [],
   "source": [
    "new_df"
   ]
  },
  {
   "cell_type": "code",
   "execution_count": 10,
   "id": "f8839450",
   "metadata": {},
   "outputs": [],
   "source": [
    "new_df.to_csv('ALT_News_Original_Fake_Data.csv')"
   ]
  },
  {
   "cell_type": "code",
   "execution_count": 7,
   "id": "fdd41c5f",
   "metadata": {},
   "outputs": [],
   "source": [
    "text_tweet = pd.DataFrame(new_df[['ScreenName','Tweet_Text','Fact_Check_Link']])"
   ]
  },
  {
   "cell_type": "code",
   "execution_count": 8,
   "id": "71433c8e",
   "metadata": {},
   "outputs": [],
   "source": [
    "text_tweet['Fact_Check_Link'].drop_duplicates()"
   ]
  },
  {
   "cell_type": "code",
   "execution_count": 9,
   "id": "0664e93c",
   "metadata": {},
   "outputs": [],
   "source": [
    "text_tweet['Refined']= text_tweet['Tweet_Text'].str.replace('pic.twitter.com/(.*)', '', regex=True)"
   ]
  },
  {
   "cell_type": "code",
   "execution_count": 10,
   "id": "b2eceba4",
   "metadata": {
    "scrolled": true
   },
   "outputs": [],
   "source": []
  },
  {
   "cell_type": "code",
   "execution_count": 11,
   "id": "63226ab1",
   "metadata": {},
   "outputs": [],
   "source": [
    "text_tweet[['ScreenName','Fact_Check_Link']][0:20]"
   ]
  },
  {
   "cell_type": "code",
   "execution_count": 24,
   "id": "e1ae8786",
   "metadata": {
    "collapsed": true
   },
   "outputs": [],
   "source": [
    "text_tweet"
   ]
  },
  {
   "cell_type": "code",
   "execution_count": 57,
   "id": "99fc6d2f",
   "metadata": {},
   "outputs": [],
   "source": [
    "key1 = \"\"\n",
    "key2 = \"\"\n",
    "key3 = \"\"\n",
    "key4 = \"\"\n",
    "\n",
    "\n",
    "auth = tweepy.OAuthHandler(key1, key2)\n",
    "auth.set_access_token(key3, key4)\n",
    "\n",
    "api = tweepy.API(auth, wait_on_rate_limit=True)"
   ]
  },
  {
   "cell_type": "code",
   "execution_count": 58,
   "id": "5a31f360",
   "metadata": {},
   "outputs": [],
   "source": [
    "tweets = tweepy.Cursor(api.search_tweets, q='Meeting COVID Positive Dilip Ghosh without wearing any Mask. Only BJP Leaders can Show Such Courage. @MukulR_Official@KailashOnline',#until = '2022-03-29',\n",
    "                       tweet_mode='extended').items(3000)\n",
    "   \n",
    "tweet_list = [tweet for tweet in tweets]"
   ]
  },
  {
   "cell_type": "code",
   "execution_count": 60,
   "id": "10fe91c8",
   "metadata": {},
   "outputs": [],
   "source": [
    "df2"
   ]
  },
  {
   "cell_type": "code",
   "execution_count": 27,
   "id": "a98a9cf2",
   "metadata": {},
   "outputs": [],
   "source": [
    "df1x = df1"
   ]
  },
  {
   "cell_type": "code",
   "execution_count": 31,
   "id": "945a3852",
   "metadata": {},
   "outputs": [],
   "source": [
    "df1x = df1x.drop_duplicates(subset=['Fact_Check_Link'], keep = 'first')"
   ]
  },
  {
   "cell_type": "code",
   "execution_count": 34,
   "id": "d6c200bf",
   "metadata": {
    "scrolled": true
   },
   "outputs": [],
   "source": [
    "df1x.groupby('Tweet_Topic').count().reset_index()"
   ]
  },
  {
   "cell_type": "code",
   "execution_count": null,
   "id": "f8774c20",
   "metadata": {},
   "outputs": [],
   "source": []
  }
 ],
 "metadata": {
  "kernelspec": {
   "display_name": "Python 3 (ipykernel)",
   "language": "python",
   "name": "python3"
  },
  "language_info": {
   "codemirror_mode": {
    "name": "ipython",
    "version": 3
   },
   "file_extension": ".py",
   "mimetype": "text/x-python",
   "name": "python",
   "nbconvert_exporter": "python",
   "pygments_lexer": "ipython3",
   "version": "3.9.13"
  }
 },
 "nbformat": 4,
 "nbformat_minor": 5
}
