{
 "cells": [
  {
   "cell_type": "code",
   "execution_count": null,
   "id": "2b628cdb",
   "metadata": {},
   "outputs": [],
   "source": [
    "import pandas as pd\n",
    "from sentence_transformers import SentenceTransformer, util\n",
    "import pandas as pd\n",
    "import numpy as np\n",
    "import time\n",
    "from sklearn.metrics.pairwise import cosine_similarity\n",
    "import torch\n",
    "import re"
   ]
  },
  {
   "cell_type": "code",
   "execution_count": null,
   "id": "5195d2ee",
   "metadata": {},
   "outputs": [],
   "source": [
    "import gc\n",
    "\n",
    "gc.collect()"
   ]
  },
  {
   "cell_type": "code",
   "execution_count": null,
   "id": "2c716d45",
   "metadata": {},
   "outputs": [],
   "source": [
    "from os import listdir\n",
    "from os.path import isfile, join\n",
    "mypath_input = '/home/mnemo/users/randomuser/SBERT All Embedding/User_Embedding/'\n",
    "mypath_output = '/home/mnemo/users/randomuser/SBERT All Embedding/User_Spam/'\n",
    "onlyfiles = [f for f in listdir(mypath_input) if isfile(join(mypath_input, f))]"
   ]
  },
  {
   "cell_type": "code",
   "execution_count": null,
   "id": "018f9bbb",
   "metadata": {},
   "outputs": [],
   "source": [
    "dfq = pd.read_csv('All_Embedding.csv')"
   ]
  },
  {
   "cell_type": "code",
   "execution_count": null,
   "id": "114201dc",
   "metadata": {},
   "outputs": [],
   "source": [
    "len(dfq)"
   ]
  },
  {
   "cell_type": "code",
   "execution_count": null,
   "id": "5eb000f3",
   "metadata": {},
   "outputs": [],
   "source": [
    "dfq = dfq.drop(dfq.columns[0], axis=1)"
   ]
  },
  {
   "cell_type": "code",
   "execution_count": null,
   "id": "aa5de298",
   "metadata": {},
   "outputs": [],
   "source": [
    "xtq = cosine_similarity(dfq1.iloc[:,:-2], dfq2.iloc[:,:-2])\n",
    "dfq_pd = pd.DataFrame(xtq, index=dfq1.Tweet_ID.to_numpy(), columns= dfq2.Tweet_ID.to_numpy())"
   ]
  },
  {
   "cell_type": "code",
   "execution_count": null,
   "id": "30b9b8e0",
   "metadata": {},
   "outputs": [],
   "source": [
    "del dfq2\n",
    "gc.collect()"
   ]
  },
  {
   "cell_type": "code",
   "execution_count": null,
   "id": "53a7d9b9",
   "metadata": {},
   "outputs": [],
   "source": [
    "dfq_tweet_id = list(dfq.Tweet_ID)\n",
    "dfq_user_id = list(dfq.User_ID)"
   ]
  },
  {
   "cell_type": "code",
   "execution_count": null,
   "id": "61775f4f",
   "metadata": {},
   "outputs": [],
   "source": [
    "with open(\"file_tweet_id.txt\", \"w\") as output:\n",
    "    output.write(str(dfq_tweet_id))\n",
    "    \n",
    "with open(\"file_user_id.txt\", \"w\") as output:\n",
    "    output.write(str(dfq_user_id))"
   ]
  },
  {
   "cell_type": "code",
   "execution_count": null,
   "id": "668d56a6",
   "metadata": {},
   "outputs": [],
   "source": [
    "torch_tensor = torch.tensor(dfq.iloc[:,:-2].values)"
   ]
  },
  {
   "cell_type": "code",
   "execution_count": null,
   "id": "a7bba756",
   "metadata": {},
   "outputs": [],
   "source": [
    "len(torch_tensor)"
   ]
  },
  {
   "cell_type": "code",
   "execution_count": null,
   "id": "ab2157d1",
   "metadata": {},
   "outputs": [],
   "source": [
    "torch_tensor = torch.load('tensor.pt')"
   ]
  },
  {
   "cell_type": "code",
   "execution_count": null,
   "id": "1a01b8de",
   "metadata": {},
   "outputs": [],
   "source": [
    "clusters = util.community_detection(torch_tensor, min_community_size=2, threshold=0.95)"
   ]
  },
  {
   "cell_type": "code",
   "execution_count": null,
   "id": "fb14b369",
   "metadata": {},
   "outputs": [],
   "source": [
    "onlyfiles[0]"
   ]
  },
  {
   "cell_type": "code",
   "execution_count": null,
   "id": "d74a12db",
   "metadata": {},
   "outputs": [],
   "source": [
    "onlyfiles[1:]"
   ]
  },
  {
   "cell_type": "code",
   "execution_count": null,
   "id": "4b6aa23a",
   "metadata": {},
   "outputs": [],
   "source": [
    "df = pd.read_csv(mypath_input + '3116426448.csv')\n",
    "df = df.drop(df.columns[0], axis=1)"
   ]
  },
  {
   "cell_type": "code",
   "execution_count": null,
   "id": "d7fe08e8",
   "metadata": {},
   "outputs": [],
   "source": [
    "df2 = pd.read_csv(mypath_input + '1013255899383623681.csv')\n",
    "df2 = df2.drop(df2.columns[0], axis=1)"
   ]
  },
  {
   "cell_type": "code",
   "execution_count": null,
   "id": "f59db194",
   "metadata": {},
   "outputs": [],
   "source": [
    "xt = cosine_similarity(df.iloc[:,:-1], df2.iloc[:,:-1])\n",
    "df_pd = pd.DataFrame(xt, index=df.Tweet_ID.to_numpy(), columns= df2.Tweet_ID.to_numpy())"
   ]
  },
  {
   "cell_type": "code",
   "execution_count": null,
   "id": "ff355ca8",
   "metadata": {},
   "outputs": [],
   "source": [
    "df_pd.loc[df_pd.index == 1612561977427087361]"
   ]
  },
  {
   "cell_type": "code",
   "execution_count": null,
   "id": "da99092d",
   "metadata": {},
   "outputs": [],
   "source": [
    "out1 = df_pd.gt(0.95).apply(lambda x: x.index[x].tolist(), axis=1)"
   ]
  },
  {
   "cell_type": "code",
   "execution_count": null,
   "id": "b57ff5d5",
   "metadata": {},
   "outputs": [],
   "source": [
    "ss = pd.DataFrame(out1)"
   ]
  },
  {
   "cell_type": "code",
   "execution_count": null,
   "id": "ed4b9008",
   "metadata": {},
   "outputs": [],
   "source": [
    "ss.explode(0).dropna()"
   ]
  },
  {
   "cell_type": "code",
   "execution_count": null,
   "id": "55944108",
   "metadata": {},
   "outputs": [],
   "source": [
    "xt = cosine_similarity(df.iloc[:,:-1], df.iloc[:,:-1])\n",
    "df_pd = pd.DataFrame(xt, index=df.Tweet_ID.to_numpy(), columns= df.Tweet_ID.to_numpy())"
   ]
  },
  {
   "cell_type": "code",
   "execution_count": null,
   "id": "14f248bd",
   "metadata": {},
   "outputs": [],
   "source": [
    "df.iloc[:,:-1].to_numpy()"
   ]
  },
  {
   "cell_type": "code",
   "execution_count": null,
   "id": "69ae3e20",
   "metadata": {},
   "outputs": [],
   "source": [
    "torch_tensor = torch.tensor(df.iloc[:,:-1].values)"
   ]
  },
  {
   "cell_type": "code",
   "execution_count": null,
   "id": "2d7d1f13",
   "metadata": {},
   "outputs": [],
   "source": [
    "clusters = util.community_detection(torch_tensor, min_community_size=2, threshold=0.95)"
   ]
  },
  {
   "cell_type": "code",
   "execution_count": null,
   "id": "85992c11",
   "metadata": {},
   "outputs": [],
   "source": [
    "corpus_id = list(df.Tweet_ID)"
   ]
  },
  {
   "cell_type": "code",
   "execution_count": null,
   "id": "3267caf2",
   "metadata": {},
   "outputs": [],
   "source": [
    "cluster_id = []\n",
    "label_id = []\n",
    "k = 0\n",
    "for i in clusters:\n",
    "    for j in i:\n",
    "        cluster_id.append([corpus_id[j], k])\n",
    "    k = k+1"
   ]
  },
  {
   "cell_type": "code",
   "execution_count": null,
   "id": "7b034daf",
   "metadata": {},
   "outputs": [],
   "source": [
    "df_fast_cluster = pd.DataFrame(cluster_id, columns = ['Tweet_ID', 'Tweet_Cluster'])"
   ]
  },
  {
   "cell_type": "code",
   "execution_count": null,
   "id": "137f732c",
   "metadata": {},
   "outputs": [],
   "source": [
    "df_fast_cluster"
   ]
  },
  {
   "cell_type": "code",
   "execution_count": null,
   "id": "cbdf3975",
   "metadata": {},
   "outputs": [],
   "source": [
    "df_fast_cluster.to_csv(mypath_output + onlyfiles[0])"
   ]
  },
  {
   "cell_type": "code",
   "execution_count": null,
   "id": "f5b03a6b",
   "metadata": {},
   "outputs": [],
   "source": [
    "df_spam_behave = pd.DataFrame(columns = {'User_ID', 'Duplicated_Tweets', 'Total_Tweets'})"
   ]
  },
  {
   "cell_type": "code",
   "execution_count": null,
   "id": "60913fbe",
   "metadata": {},
   "outputs": [],
   "source": [
    "df_spam_behave"
   ]
  },
  {
   "cell_type": "code",
   "execution_count": null,
   "id": "4449c3a0",
   "metadata": {},
   "outputs": [],
   "source": []
  },
  {
   "cell_type": "code",
   "execution_count": null,
   "id": "27a9df82",
   "metadata": {},
   "outputs": [],
   "source": [
    "a = 0\n",
    "for q in onlyfiles[3436]:\n",
    "\n",
    "    df = pd.read_csv(mypath_input + str(q))\n",
    "    df = df.drop(df.columns[0], axis=1)\n",
    "    corpus_id = list(df.Tweet_ID)\n",
    "    \n",
    "    if (len(df) == 1):\n",
    "        d = {'Tweet_ID': df.Tweet_ID[0], 'Tweet_Cluster': 0}\n",
    "        df_fast_cluster = pd.DataFrame( data = d, index=[0])\n",
    "        df_fast_cluster.to_csv(mypath_output + str(q))\n",
    "        df_spam_behave.loc[len(df_spam_behave.index)] = [q[:-4], 0, 1]\n",
    "        \n",
    "    else:\n",
    "        torch_tensor = torch.tensor(df.iloc[:,:-1].values)\n",
    "        clusters = util.community_detection(torch_tensor, min_community_size=2, threshold=0.95)\n",
    "        \n",
    "        cluster_id = []\n",
    "        label_id = []\n",
    "        k = 0\n",
    "        for i in clusters:\n",
    "            for j in i:\n",
    "                cluster_id.append([corpus_id[j], k])\n",
    "            k = k+1\n",
    "        df_fast_cluster = pd.DataFrame(cluster_id, columns = ['Tweet_ID', 'Tweet_Cluster'])\n",
    "        df_fast_cluster.to_csv(mypath_output + str(q))\n",
    "        df_spam_behave.loc[len(df_spam_behave.index)] = [q[:-4], len(df_fast_cluster), len(df)] \n",
    "        a = a + 1\n",
    "    print(q[:-4])\n"
   ]
  },
  {
   "cell_type": "code",
   "execution_count": null,
   "id": "8eb1839d",
   "metadata": {},
   "outputs": [],
   "source": [
    "onlyfiles[3436]"
   ]
  },
  {
   "cell_type": "code",
   "execution_count": null,
   "id": "682796c0",
   "metadata": {},
   "outputs": [],
   "source": [
    "df = pd.read_csv(mypath_input + str(onlyfiles[3436]))\n",
    "df = df.drop(df.columns[0], axis=1)\n",
    "c = [0,0,0,0]"
   ]
  },
  {
   "cell_type": "code",
   "execution_count": null,
   "id": "74b2652c",
   "metadata": {},
   "outputs": [],
   "source": [
    "df_id = list(df.Tweet_ID)"
   ]
  },
  {
   "cell_type": "code",
   "execution_count": null,
   "id": "eb3e4222",
   "metadata": {},
   "outputs": [],
   "source": [
    "c"
   ]
  },
  {
   "cell_type": "code",
   "execution_count": null,
   "id": "f5a52409",
   "metadata": {},
   "outputs": [],
   "source": [
    "df_fast_cluster = pd.DataFrame({'Tweet_ID':df_id, 'Tweet_Cluster':c})"
   ]
  },
  {
   "cell_type": "code",
   "execution_count": null,
   "id": "81af8154",
   "metadata": {},
   "outputs": [],
   "source": [
    "df_fast_cluster.to_csv(mypath_output + '1326236642345095168.csv')"
   ]
  },
  {
   "cell_type": "code",
   "execution_count": null,
   "id": "59fb789b",
   "metadata": {},
   "outputs": [],
   "source": [
    "q"
   ]
  },
  {
   "cell_type": "code",
   "execution_count": null,
   "id": "aeb61aa4",
   "metadata": {},
   "outputs": [],
   "source": [
    "df_spam_behave.to_csv('Spam_Behavior.csv')"
   ]
  },
  {
   "cell_type": "code",
   "execution_count": null,
   "id": "801daa0e",
   "metadata": {},
   "outputs": [],
   "source": [
    "df_spam_behave['Ratio_of_Spam'] = (df_spam_behave['Duplicated_Tweets'] / df_spam_behave['Total_Tweets']) * 100"
   ]
  },
  {
   "cell_type": "code",
   "execution_count": null,
   "id": "cf148e05",
   "metadata": {},
   "outputs": [],
   "source": [
    "df_spam_behave.loc[df_spam_behave.Ratio_of_Spam >= 10]"
   ]
  },
  {
   "cell_type": "code",
   "execution_count": null,
   "id": "b014d3c6",
   "metadata": {},
   "outputs": [],
   "source": [
    "df_spam_behave.to_csv('Spam_Behavior.csv')"
   ]
  },
  {
   "cell_type": "code",
   "execution_count": null,
   "id": "ce5640f5",
   "metadata": {},
   "outputs": [],
   "source": [
    "df_spam_behave"
   ]
  },
  {
   "cell_type": "code",
   "execution_count": null,
   "id": "fc3721da",
   "metadata": {},
   "outputs": [],
   "source": [
    "data = df_tweet_lang2 = pd.read_csv(\"Latest_Tweet_Fake_Spreader_Tweets.csv\", lineterminator='\\n', usecols = ['Tweet_ID','User_ID', 'Tweet_Text','Tweet_Lang','Tweet_Time' ], dtype=str)"
   ]
  },
  {
   "cell_type": "code",
   "execution_count": null,
   "id": "bfde2c7b",
   "metadata": {},
   "outputs": [],
   "source": [
    "data.loc[data.Tweet_ID == '1620900798216511488']\n"
   ]
  },
  {
   "cell_type": "code",
   "execution_count": null,
   "id": "2062640f",
   "metadata": {},
   "outputs": [],
   "source": [
    "data.loc[data.Tweet_ID == '1624584068082933762']"
   ]
  }
 ],
 "metadata": {
  "kernelspec": {
   "display_name": "Python 3 (ipykernel)",
   "language": "python",
   "name": "python3"
  },
  "language_info": {
   "codemirror_mode": {
    "name": "ipython",
    "version": 3
   },
   "file_extension": ".py",
   "mimetype": "text/x-python",
   "name": "python",
   "nbconvert_exporter": "python",
   "pygments_lexer": "ipython3",
   "version": "3.9.13"
  }
 },
 "nbformat": 4,
 "nbformat_minor": 5
}
