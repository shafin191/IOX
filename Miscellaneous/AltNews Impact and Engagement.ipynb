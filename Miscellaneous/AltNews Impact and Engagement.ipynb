{
 "cells": [
  {
   "cell_type": "code",
   "execution_count": null,
   "id": "5bc57f6b",
   "metadata": {},
   "outputs": [],
   "source": [
    "import pandas as pd\n",
    "pd.set_option('display.max_colwidth', None)\n",
    "from matplotlib import pyplot as plt\n",
    "import numpy as np\n",
    "import seaborn as sns"
   ]
  },
  {
   "cell_type": "code",
   "execution_count": null,
   "id": "c0f955ec",
   "metadata": {},
   "outputs": [],
   "source": [
    "df = pd.read_csv('Alt_Impact2.csv')"
   ]
  },
  {
   "cell_type": "code",
   "execution_count": null,
   "id": "68dcc37d",
   "metadata": {},
   "outputs": [],
   "source": [
    "df.head()"
   ]
  },
  {
   "cell_type": "code",
   "execution_count": null,
   "id": "245a7d67",
   "metadata": {},
   "outputs": [],
   "source": [
    "df2 = pd.read_csv('Fake_News_Engagement.csv')"
   ]
  },
  {
   "cell_type": "code",
   "execution_count": null,
   "id": "50324d1f",
   "metadata": {
    "scrolled": true
   },
   "outputs": [],
   "source": [
    "df.loc[df['#_of_Tweet'] >= 10]"
   ]
  },
  {
   "cell_type": "code",
   "execution_count": null,
   "id": "ad445b7d",
   "metadata": {},
   "outputs": [],
   "source": [
    "df3 = pd.merge(df, df2[['Fact_Check_Link', 'Retweet_Count', 'Favorite_Count']])"
   ]
  },
  {
   "cell_type": "code",
   "execution_count": null,
   "id": "662e367e",
   "metadata": {},
   "outputs": [],
   "source": [
    "df3['Total_Engagement'] = df3['Retweet_Count'] + df3['Favorite_Count'] "
   ]
  },
  {
   "cell_type": "code",
   "execution_count": null,
   "id": "1675b028",
   "metadata": {},
   "outputs": [],
   "source": [
    "\n",
    "\n",
    "sns.scatterplot(data=df3, x=\"#_of_Tweet\", y=\"Total_Engagement\", \n",
    "                hue=\"Impact\", style=\"Impact\", palette=['#e31a1c','#1f78b4','#33a02c'], alpha = 0.7)\n",
    "\n",
    "plt.yscale('log')\n",
    "plt.show() "
   ]
  },
  {
   "cell_type": "code",
   "execution_count": null,
   "id": "3fa77f71",
   "metadata": {},
   "outputs": [],
   "source": [
    "plt.figure(figsize=(6,4))\n",
    "ax = sns.scatterplot(data=df3, x=\"#_of_Tweet\", y=\"Total_Engagement\", \n",
    "                hue=\"Impact\",  palette=['#e31a1c','#1f78b4','#33a02c'], alpha = 0.7)\n",
    "\n",
    "ax.set_xlabel(\"Number of Tweets\")\n",
    "\n",
    "ax.set_ylabel(\"Total Engagement (Log)\")\n",
    "plt.legend(title='Severity')\n",
    "plt.yscale('log')\n",
    "plt.show() "
   ]
  },
  {
   "cell_type": "code",
   "execution_count": null,
   "id": "3102b9a1",
   "metadata": {},
   "outputs": [],
   "source": [
    "plt.figure(figsize=(4,3))\n",
    "ax = sns.boxplot( x=\"Impact\",y=\"Total_Engagement\", data=df3, showfliers=False, width=0.3)\n",
    "\n",
    "\n",
    "ax.set_xlabel(\"Severity\")\n",
    "\n",
    "ax.set_ylabel(\"Total Engagement\")\n",
    "plt.show()"
   ]
  },
  {
   "cell_type": "code",
   "execution_count": null,
   "id": "e86dddb0",
   "metadata": {},
   "outputs": [],
   "source": [
    "plt.figure(figsize=(4,3))\n",
    "ax = sns.boxplot( x=\"Impact\",y=\"Retweet_Count\", data=df3, showfliers=False, width=0.3)\n",
    "\n",
    "\n",
    "ax.set_xlabel(\"Severity\")\n",
    "\n",
    "ax.set_ylabel(\"Retweets\")\n",
    "plt.show()"
   ]
  },
  {
   "cell_type": "code",
   "execution_count": null,
   "id": "0d63f623",
   "metadata": {},
   "outputs": [],
   "source": [
    "plt.figure(figsize=(4,3))\n",
    "ax = sns.boxplot( x=\"Impact\",y=\"Favorite_Count\", data=df3, showfliers=False, width=0.3)\n",
    "\n",
    "\n",
    "ax.set_xlabel(\"Severity\")\n",
    "\n",
    "ax.set_ylabel(\"Likes\")\n",
    "plt.show()"
   ]
  },
  {
   "cell_type": "code",
   "execution_count": null,
   "id": "a849d4b0",
   "metadata": {},
   "outputs": [],
   "source": [
    "df3.loc[df3.Impact == 'High'].Favorite_Count.describe()"
   ]
  },
  {
   "cell_type": "code",
   "execution_count": null,
   "id": "891c1a9f",
   "metadata": {},
   "outputs": [],
   "source": []
  },
  {
   "cell_type": "code",
   "execution_count": null,
   "id": "a1a7f42d",
   "metadata": {},
   "outputs": [],
   "source": [
    "df3.loc[df3.Impact == 'Low'].Favorite_Count.describe()"
   ]
  },
  {
   "cell_type": "code",
   "execution_count": null,
   "id": "24cd3475",
   "metadata": {},
   "outputs": [],
   "source": [
    "df3.loc[df3.Impact == 'High'].Retweet_Count.describe()"
   ]
  },
  {
   "cell_type": "code",
   "execution_count": null,
   "id": "eb761141",
   "metadata": {},
   "outputs": [],
   "source": []
  },
  {
   "cell_type": "code",
   "execution_count": null,
   "id": "7f3e0dea",
   "metadata": {},
   "outputs": [],
   "source": [
    "df3.loc[df3.Impact == 'High'].Total_Engagement.describe()"
   ]
  },
  {
   "cell_type": "code",
   "execution_count": null,
   "id": "654888fb",
   "metadata": {},
   "outputs": [],
   "source": []
  },
  {
   "cell_type": "code",
   "execution_count": null,
   "id": "6fa14cc8",
   "metadata": {},
   "outputs": [],
   "source": [
    "df3.loc[df3.Impact == 'Low'].Total_Engagement.describe()"
   ]
  },
  {
   "cell_type": "code",
   "execution_count": null,
   "id": "998f26a3",
   "metadata": {},
   "outputs": [],
   "source": [
    "df3.loc[df3.Impact == 'High'].describe()"
   ]
  },
  {
   "cell_type": "code",
   "execution_count": null,
   "id": "c2606ce6",
   "metadata": {},
   "outputs": [],
   "source": [
    "q3, q1 = np.percentile(df3.loc[df3.Impact == 'High'].Total_Engagement, [75 ,25])\n",
    "iqr = q3 - q1\n",
    "print(iqr)"
   ]
  },
  {
   "cell_type": "code",
   "execution_count": null,
   "id": "fe7f0eb9",
   "metadata": {},
   "outputs": [],
   "source": [
    "df3.loc[df3.Impact == 'Low'].describe()"
   ]
  },
  {
   "cell_type": "code",
   "execution_count": null,
   "id": "895b2e4f",
   "metadata": {},
   "outputs": [],
   "source": [
    "q3, q1 = np.percentile(df3.loc[df3.Impact == 'Low'].Total_Engagement, [75 ,25])\n",
    "iqr = q3 - q1\n",
    "print(iqr)"
   ]
  },
  {
   "cell_type": "code",
   "execution_count": null,
   "id": "26377a21",
   "metadata": {},
   "outputs": [],
   "source": [
    "df3.loc[df3.Impact == 'Low'].Retweet_Count.describe()"
   ]
  },
  {
   "cell_type": "code",
   "execution_count": null,
   "id": "acbb0c9a",
   "metadata": {},
   "outputs": [],
   "source": [
    "import numpy as np\n",
    "from scipy.stats import ttest_ind\n",
    "\n"
   ]
  },
  {
   "cell_type": "code",
   "execution_count": null,
   "id": "00d8615f",
   "metadata": {},
   "outputs": [],
   "source": [
    "v1 = df3.loc[df3.Impact == 'High'].Retweet_Count\n",
    "v2 = df3.loc[df3.Impact == 'Moderate'].Retweet_Count\n",
    "v3 = df3.loc[df3.Impact == 'Low'].Retweet_Count\n",
    "\n",
    "res1 = ttest_ind(v1, v3)\n",
    "res2 = ttest_ind(v1, v3)\n",
    "res3 = ttest_ind(v2, v3)\n",
    "\n",
    "print(res1)\n",
    "print(res2)\n",
    "print(res3)"
   ]
  },
  {
   "cell_type": "code",
   "execution_count": null,
   "id": "91233a53",
   "metadata": {},
   "outputs": [],
   "source": []
  },
  {
   "cell_type": "code",
   "execution_count": null,
   "id": "dedf0c2d",
   "metadata": {},
   "outputs": [],
   "source": [
    "df3.loc[df3.Time_Diff > 30]"
   ]
  },
  {
   "cell_type": "code",
   "execution_count": null,
   "id": "d7372684",
   "metadata": {},
   "outputs": [],
   "source": [
    "df3['Total_Engagement'] = df3['Total_Engagement'].replace(0, 1) \n",
    "df3['Retweet_Count'] = df3['Retweet_Count'].replace(0, 1) \n",
    "df3['Favorite_Count'] = df3['Favorite_Count'].replace(0, 1) "
   ]
  },
  {
   "cell_type": "code",
   "execution_count": null,
   "id": "7a3f70d5",
   "metadata": {},
   "outputs": [],
   "source": []
  },
  {
   "cell_type": "code",
   "execution_count": null,
   "id": "0abd401d",
   "metadata": {},
   "outputs": [],
   "source": [
    "df3.groupby(['Impact']).count()"
   ]
  },
  {
   "cell_type": "code",
   "execution_count": null,
   "id": "ae6513b2",
   "metadata": {},
   "outputs": [],
   "source": [
    "df3.loc[df3.Impact == 'High'].describe()"
   ]
  },
  {
   "cell_type": "code",
   "execution_count": null,
   "id": "7459eb95",
   "metadata": {},
   "outputs": [],
   "source": []
  },
  {
   "cell_type": "code",
   "execution_count": null,
   "id": "0864252d",
   "metadata": {},
   "outputs": [],
   "source": [
    "df3.loc[df3.Impact == 'Low'].describe()"
   ]
  },
  {
   "cell_type": "code",
   "execution_count": null,
   "id": "1cd24700",
   "metadata": {},
   "outputs": [],
   "source": [
    "df3.head()"
   ]
  },
  {
   "cell_type": "markdown",
   "id": "f2d6a428",
   "metadata": {},
   "source": [
    "# Statistical Testing"
   ]
  },
  {
   "cell_type": "code",
   "execution_count": null,
   "id": "02e8d733",
   "metadata": {},
   "outputs": [],
   "source": [
    "from scipy import stats\n",
    "high_level_data = df3[df3['Impact'] == 'High']['Total_Engagement']\n",
    "low_level_data = df3[df3['Impact'] == 'Low']['Total_Engagement']\n",
    "\n",
    "_, high_p_value = stats.shapiro(high_level_data)\n",
    "_, low_p_value = stats.shapiro(low_level_data)\n",
    "\n",
    "if high_p_value > 0.05 and low_p_value > 0.05:\n",
    "    t_statistic, p_value = stats.ttest_ind(high_level_data, low_level_data)\n",
    "    if p_value < 0.05:\n",
    "        print(\"The two-sample t-test indicates a significant difference in means.\")\n",
    "    else:\n",
    "        print(\"The two-sample t-test does not indicate a significant difference in means.\")\n",
    "else:\n",
    "    print(\"The data does not meet the assumptions for the two-sample t-test.\")"
   ]
  },
  {
   "cell_type": "code",
   "execution_count": null,
   "id": "b5552a91",
   "metadata": {},
   "outputs": [],
   "source": [
    "low_level_data"
   ]
  },
  {
   "cell_type": "code",
   "execution_count": null,
   "id": "0902b886",
   "metadata": {},
   "outputs": [],
   "source": [
    "low_p_value"
   ]
  },
  {
   "cell_type": "code",
   "execution_count": null,
   "id": "91faf412",
   "metadata": {},
   "outputs": [],
   "source": [
    "print(np.var(low_level_data), np.var(high_level_data))"
   ]
  },
  {
   "cell_type": "code",
   "execution_count": null,
   "id": "3bf3b843",
   "metadata": {},
   "outputs": [],
   "source": [
    "stats.ttest_ind(a=low_level_data, b=high_level_data, equal_var=True)"
   ]
  },
  {
   "cell_type": "code",
   "execution_count": null,
   "id": "3654508b",
   "metadata": {},
   "outputs": [],
   "source": []
  },
  {
   "cell_type": "code",
   "execution_count": null,
   "id": "d270515b",
   "metadata": {},
   "outputs": [],
   "source": [
    "df3.to_csv('AltNews_impact2.csv')"
   ]
  },
  {
   "cell_type": "code",
   "execution_count": null,
   "id": "1f019f10",
   "metadata": {},
   "outputs": [],
   "source": [
    "ax = sns.boxplot( x=\"Topic\",y=\"Total_Engagement\", data=df3, showfliers=False, width=0.3)\n",
    "\n",
    "plt.show()"
   ]
  },
  {
   "cell_type": "code",
   "execution_count": null,
   "id": "aedfd44a",
   "metadata": {},
   "outputs": [],
   "source": []
  },
  {
   "cell_type": "code",
   "execution_count": null,
   "id": "a7ed321e",
   "metadata": {},
   "outputs": [],
   "source": [
    "sns.jointplot(data=df3, x=\"#_of_Tweet\", y=\"Total_Engagement\", kind='hex')\n",
    "\n",
    "plt.show() "
   ]
  },
  {
   "cell_type": "code",
   "execution_count": null,
   "id": "d69a5b04",
   "metadata": {},
   "outputs": [],
   "source": []
  },
  {
   "cell_type": "code",
   "execution_count": null,
   "id": "ea5e40b8",
   "metadata": {},
   "outputs": [],
   "source": [
    "pal = sns.color_palette(...)\n",
    "pal.as_hex()"
   ]
  },
  {
   "cell_type": "code",
   "execution_count": null,
   "id": "da54e53d",
   "metadata": {},
   "outputs": [],
   "source": [
    "plt.scatter(x=df3['#_of_Tweet'], y=np.log(df3['Total_Engagement']))"
   ]
  },
  {
   "cell_type": "code",
   "execution_count": null,
   "id": "a9919bed",
   "metadata": {},
   "outputs": [],
   "source": [
    "df3.groupby(['Impact', 'Topic']).sum()"
   ]
  },
  {
   "cell_type": "markdown",
   "id": "52537437",
   "metadata": {},
   "source": [
    "# Timeline Analysis"
   ]
  },
  {
   "cell_type": "code",
   "execution_count": null,
   "id": "7fa9a820",
   "metadata": {},
   "outputs": [],
   "source": [
    "df_30_more = df3.loc[df3.Time_Diff >= 30]"
   ]
  },
  {
   "cell_type": "code",
   "execution_count": null,
   "id": "92e829bb",
   "metadata": {},
   "outputs": [],
   "source": [
    "df_30_more_10post = df_30_more.loc[df_30_more['#_of_Tweet'] >= 10]"
   ]
  },
  {
   "cell_type": "code",
   "execution_count": null,
   "id": "020c9e51",
   "metadata": {},
   "outputs": [],
   "source": [
    "df_30_more_10post"
   ]
  },
  {
   "cell_type": "code",
   "execution_count": null,
   "id": "04b6ff5d",
   "metadata": {},
   "outputs": [],
   "source": [
    "df_fake_tweet = pd.read_csv('Collected_Fake_Tweets_Still_Available.csv')"
   ]
  },
  {
   "cell_type": "code",
   "execution_count": null,
   "id": "58d7197d",
   "metadata": {},
   "outputs": [],
   "source": []
  },
  {
   "cell_type": "code",
   "execution_count": null,
   "id": "0912838c",
   "metadata": {},
   "outputs": [],
   "source": [
    "df_fake_tweet[df_fake_tweet.Fact_Check_Link.isin(df_30_more_10post.Fact_Check_Link.tolist())].groupby('Fact_Check_Link').count()"
   ]
  },
  {
   "cell_type": "code",
   "execution_count": null,
   "id": "9c586a15",
   "metadata": {},
   "outputs": [],
   "source": [
    "df_fake_timeline= df_fake_tweet[df_fake_tweet.Fact_Check_Link.isin(df_30_more_10post.Fact_Check_Link.tolist())]"
   ]
  },
  {
   "cell_type": "code",
   "execution_count": null,
   "id": "68a461a6",
   "metadata": {},
   "outputs": [],
   "source": [
    "df_fake_time = pd.merge(df_fake_timeline, df_30_more_10post[['Fact_Check_Link', 'Impact', 'News_Number', 'Time_Diff']])"
   ]
  },
  {
   "cell_type": "code",
   "execution_count": null,
   "id": "84c6cb6b",
   "metadata": {},
   "outputs": [],
   "source": [
    "df_fake_time = df_fake_time.sort_values(['News_Number', 'Tweet_Time'])"
   ]
  },
  {
   "cell_type": "code",
   "execution_count": null,
   "id": "70b225d7",
   "metadata": {},
   "outputs": [],
   "source": [
    "df_fake_time[\"Tweet_Time\"] = pd.to_datetime(df_fake_time['Tweet_Time'], utc=True)"
   ]
  },
  {
   "cell_type": "code",
   "execution_count": null,
   "id": "49d4a4f0",
   "metadata": {},
   "outputs": [],
   "source": [
    "df_fake_time['Tweet_Date'] = df_fake_time['Tweet_Time'].dt.date"
   ]
  },
  {
   "cell_type": "code",
   "execution_count": null,
   "id": "8cef9bbc",
   "metadata": {},
   "outputs": [],
   "source": [
    "df_fake_time.loc[df_fake_time.News_Number == 217].sort_values('Tweet_Time')"
   ]
  },
  {
   "cell_type": "code",
   "execution_count": null,
   "id": "324e293f",
   "metadata": {},
   "outputs": [],
   "source": [
    "groups = df_fake_time.groupby('News_Number')\n",
    "\n",
    "timelines = groups.apply(lambda x: x.set_index('Tweet_Date'))\n",
    "\n",
    "for timeline in timelines:\n",
    "    timeline.plot(x='Tweet_Time', y='Favorite_Count') "
   ]
  },
  {
   "cell_type": "code",
   "execution_count": null,
   "id": "eaeb72a9",
   "metadata": {},
   "outputs": [],
   "source": [
    "df_fake_time_only = df_fake_time[['Tweet_ID', 'News_Number', 'Tweet_Date', 'Time_Diff']]"
   ]
  },
  {
   "cell_type": "code",
   "execution_count": null,
   "id": "1657293f",
   "metadata": {},
   "outputs": [],
   "source": [
    "df_fake_time_only['Count_Fake'] = 1"
   ]
  },
  {
   "cell_type": "code",
   "execution_count": null,
   "id": "d2559ec7",
   "metadata": {},
   "outputs": [],
   "source": [
    "df_asd = df_fake_time_only.groupby(['News_Number', 'Tweet_Date']).count().reset_index(drop = False)"
   ]
  },
  {
   "cell_type": "code",
   "execution_count": null,
   "id": "39d2381b",
   "metadata": {},
   "outputs": [],
   "source": [
    "df_asd.News_Number.drop_duplicates()"
   ]
  },
  {
   "cell_type": "code",
   "execution_count": null,
   "id": "a8142300",
   "metadata": {},
   "outputs": [],
   "source": [
    "df_asd.loc[df_asd.News_Number == 376].plot(x = 'Tweet_Date', y = 'Count_Fake', kind='bar')"
   ]
  },
  {
   "cell_type": "code",
   "execution_count": null,
   "id": "9f1afa3c",
   "metadata": {},
   "outputs": [],
   "source": [
    "df_asd_fake_number = df_asd.News_Number.drop_duplicates().tolist()"
   ]
  },
  {
   "cell_type": "code",
   "execution_count": null,
   "id": "59823c5e",
   "metadata": {},
   "outputs": [],
   "source": [
    "for i in df_asd_fake_number[0:4]:\n",
    "    df_asd.loc[df_asd.News_Number == i].plot(x = 'Tweet_Date', y = 'Count_Fake', kind='bar')"
   ]
  },
  {
   "cell_type": "code",
   "execution_count": null,
   "id": "1bec9708",
   "metadata": {},
   "outputs": [],
   "source": [
    "df_asd"
   ]
  },
  {
   "cell_type": "code",
   "execution_count": null,
   "id": "26292ae9",
   "metadata": {},
   "outputs": [],
   "source": []
  },
  {
   "cell_type": "code",
   "execution_count": null,
   "id": "d35df10a",
   "metadata": {},
   "outputs": [],
   "source": [
    "df_asd.Tweet_Date = pd.to_datetime(df_asd.Tweet_Date)"
   ]
  },
  {
   "cell_type": "code",
   "execution_count": null,
   "id": "242947d2",
   "metadata": {},
   "outputs": [],
   "source": [
    "df_asd"
   ]
  },
  {
   "cell_type": "code",
   "execution_count": null,
   "id": "f5b075c8",
   "metadata": {},
   "outputs": [],
   "source": [
    "df_quest = df_asd.groupby('News_Number').resample('M', on='Tweet_Date', origin= 'start').sum().sort_values(by='Tweet_Date').rename(columns = {'News_Number':'News_Num'}).reset_index().sort_values(by = ['News_Number', 'Tweet_Date'])"
   ]
  },
  {
   "cell_type": "code",
   "execution_count": null,
   "id": "5bae6409",
   "metadata": {},
   "outputs": [],
   "source": [
    "df_quest.Tweet_Date = df_quest.Tweet_Date.dt.date"
   ]
  },
  {
   "cell_type": "code",
   "execution_count": null,
   "id": "c53ead1f",
   "metadata": {},
   "outputs": [],
   "source": [
    "df_quest = df_quest.rename(columns = {'Count_Fake':'Number_of_Fake_Tweets'})"
   ]
  },
  {
   "cell_type": "code",
   "execution_count": null,
   "id": "14fe9f31",
   "metadata": {},
   "outputs": [],
   "source": [
    "df_quest['DTM'] = df_quest['Tweet_Date'].astype('str')"
   ]
  },
  {
   "cell_type": "code",
   "execution_count": null,
   "id": "9535930f",
   "metadata": {},
   "outputs": [],
   "source": [
    "df_quest.dtypes"
   ]
  },
  {
   "cell_type": "code",
   "execution_count": null,
   "id": "05963a5f",
   "metadata": {},
   "outputs": [],
   "source": [
    "df_quest['DTM'] = pd.to_datetime(df_quest['DTM']) "
   ]
  },
  {
   "cell_type": "code",
   "execution_count": null,
   "id": "4bed0d1c",
   "metadata": {},
   "outputs": [],
   "source": [
    "df_quest['DTM2'] = df_quest['DTM'].dt.to_period('M')"
   ]
  },
  {
   "cell_type": "code",
   "execution_count": null,
   "id": "5144b9e1",
   "metadata": {},
   "outputs": [],
   "source": [
    "pd.to_datetime(df_quest['DTM'].dt.strftime('%Y-%m'))"
   ]
  },
  {
   "cell_type": "code",
   "execution_count": null,
   "id": "08e00505",
   "metadata": {},
   "outputs": [],
   "source": [
    "date = pd.to_datetime(df_quest['DTM'])\n"
   ]
  },
  {
   "cell_type": "code",
   "execution_count": null,
   "id": "bc5c1f8a",
   "metadata": {},
   "outputs": [],
   "source": [
    "df_quest['DTM2'] = date.dt.strftime('%b %Y')"
   ]
  },
  {
   "cell_type": "code",
   "execution_count": null,
   "id": "36332b4b",
   "metadata": {},
   "outputs": [],
   "source": [
    "df_quest.to_csv('Timeline_AltNews.csv')"
   ]
  },
  {
   "cell_type": "code",
   "execution_count": null,
   "id": "caee6ca8",
   "metadata": {},
   "outputs": [],
   "source": [
    "df_quest"
   ]
  },
  {
   "cell_type": "code",
   "execution_count": null,
   "id": "9a62a963",
   "metadata": {},
   "outputs": [],
   "source": [
    "date"
   ]
  },
  {
   "cell_type": "code",
   "execution_count": null,
   "id": "1686778e",
   "metadata": {},
   "outputs": [],
   "source": [
    "df_quest"
   ]
  },
  {
   "cell_type": "code",
   "execution_count": null,
   "id": "bdbc8a71",
   "metadata": {},
   "outputs": [],
   "source": [
    "interesting_timeline = [65, 73, 76, 89, 111, 227, 229, 282, \n",
    "                        286, 337, 342, 349, 372, 404, 424, \n",
    "                        86, 93, 97, 144, 208]"
   ]
  },
  {
   "cell_type": "code",
   "execution_count": null,
   "id": "8afa51cb",
   "metadata": {},
   "outputs": [],
   "source": [
    "for i in interesting_timeline:# df_asd_fake_number:\n",
    "    ax = df_quest.loc[df_quest.News_Number == i].plot(x = 'Tweet_Date', y = 'Number_of_Fake_Tweets', kind='bar', figsize=(15, 3), title = 'News_Number: ' + str(i))\n",
    "    ax.set_ylabel(\"Count\")\n",
    "    ax.figure.savefig('U:\\Twitter Research\\Fake News Scraping\\Fake_Time_Interesting\\\\'+str(i) + '.png', bbox_inches = 'tight')"
   ]
  },
  {
   "cell_type": "code",
   "execution_count": null,
   "id": "358e5b07",
   "metadata": {},
   "outputs": [],
   "source": [
    "df3"
   ]
  },
  {
   "cell_type": "code",
   "execution_count": null,
   "id": "3b57fbf1",
   "metadata": {},
   "outputs": [],
   "source": [
    "df3[df3.News_Number.isin(interesting_timeline)][['News_Number','Fact_Check_Link', 'Total_Engagement']].sort_values('News_Number')"
   ]
  },
  {
   "cell_type": "code",
   "execution_count": null,
   "id": "6eca4ee9",
   "metadata": {},
   "outputs": [],
   "source": []
  },
  {
   "cell_type": "code",
   "execution_count": null,
   "id": "e9463bce",
   "metadata": {},
   "outputs": [],
   "source": [
    "df_fake_time.loc[df_fake_time.News_Number == 89]"
   ]
  },
  {
   "cell_type": "code",
   "execution_count": null,
   "id": "fbaac680",
   "metadata": {},
   "outputs": [],
   "source": [
    "df3.loc[df3.News_Number == 119]"
   ]
  },
  {
   "cell_type": "code",
   "execution_count": null,
   "id": "57736b9d",
   "metadata": {},
   "outputs": [],
   "source": [
    "df_fake_tweet.loc[df_fake_tweet.Fact_Check_Link == 'https://www.altnews.in/fake-tweets-ascribed-to-journalists-after-bjps-win-in-up/']"
   ]
  },
  {
   "cell_type": "code",
   "execution_count": null,
   "id": "c5132e36",
   "metadata": {},
   "outputs": [],
   "source": []
  },
  {
   "cell_type": "code",
   "execution_count": null,
   "id": "b7246eb5",
   "metadata": {},
   "outputs": [],
   "source": []
  },
  {
   "cell_type": "code",
   "execution_count": null,
   "id": "5429bc5f",
   "metadata": {},
   "outputs": [],
   "source": []
  },
  {
   "cell_type": "code",
   "execution_count": null,
   "id": "4bc6768f",
   "metadata": {},
   "outputs": [],
   "source": [
    "df_fake_tweet"
   ]
  },
  {
   "cell_type": "code",
   "execution_count": null,
   "id": "b38729ab",
   "metadata": {},
   "outputs": [],
   "source": []
  },
  {
   "cell_type": "code",
   "execution_count": null,
   "id": "446ce8fd",
   "metadata": {},
   "outputs": [],
   "source": [
    "df_acc = pd.read_csv('All_Fake_without_debunkers_Updated.csv')"
   ]
  },
  {
   "cell_type": "code",
   "execution_count": null,
   "id": "36c5ebb6",
   "metadata": {},
   "outputs": [],
   "source": [
    "df_copy_cat = pd.read_csv('Copy_Cat.csv')"
   ]
  },
  {
   "cell_type": "code",
   "execution_count": null,
   "id": "fbc78555",
   "metadata": {},
   "outputs": [],
   "source": [
    "df_duplicator = pd.read_csv('Duplicate_More_Than_20.csv')"
   ]
  },
  {
   "cell_type": "code",
   "execution_count": null,
   "id": "ec1e3c54",
   "metadata": {},
   "outputs": [],
   "source": [
    "df_copy_cat.CopyCat"
   ]
  },
  {
   "cell_type": "code",
   "execution_count": null,
   "id": "764b5f74",
   "metadata": {},
   "outputs": [],
   "source": [
    "df_verified_list = df_acc.loc[df_acc.UserVerified == True].User_ID.tolist()\n",
    "df_copy_cat_list = df_copy_cat.Cat.tolist()"
   ]
  },
  {
   "cell_type": "code",
   "execution_count": null,
   "id": "1aa2dc82",
   "metadata": {},
   "outputs": [],
   "source": [
    "df_65 = df_fake_time.loc[df_fake_time.News_Number == 65]"
   ]
  },
  {
   "cell_type": "code",
   "execution_count": null,
   "id": "a7739872",
   "metadata": {},
   "outputs": [],
   "source": [
    "df_65[df_65.User_ID.isin(df_copy_cat_list)]"
   ]
  },
  {
   "cell_type": "code",
   "execution_count": null,
   "id": "2bd462f5",
   "metadata": {},
   "outputs": [],
   "source": [
    "df_65.dtypes"
   ]
  },
  {
   "cell_type": "code",
   "execution_count": null,
   "id": "97ade5b9",
   "metadata": {},
   "outputs": [],
   "source": [
    "df_copy_cat.dtypes"
   ]
  },
  {
   "cell_type": "code",
   "execution_count": null,
   "id": "9dfa027a",
   "metadata": {},
   "outputs": [],
   "source": [
    "df_fake_tweet[df_fake_tweet.User_ID.isin(df_verified_list)].groupby('Fact_Check_Link').count()"
   ]
  },
  {
   "cell_type": "code",
   "execution_count": null,
   "id": "44a20797",
   "metadata": {},
   "outputs": [],
   "source": [
    "df_copy_cat.loc[df_copy_cat.TotalSimilarTweet > 200]"
   ]
  },
  {
   "cell_type": "code",
   "execution_count": null,
   "id": "1fbce192",
   "metadata": {},
   "outputs": [],
   "source": []
  },
  {
   "cell_type": "code",
   "execution_count": null,
   "id": "eff68c68",
   "metadata": {},
   "outputs": [],
   "source": [
    "df_duplicator.loc[df_duplicator.Total_Tweet>500] "
   ]
  },
  {
   "cell_type": "code",
   "execution_count": null,
   "id": "24bd11c0",
   "metadata": {},
   "outputs": [],
   "source": [
    "df_pol = df_acc[['User_ID', 'party']].loc[df_acc[['User_ID', 'party']].party != 'NonPolitical']"
   ]
  },
  {
   "cell_type": "code",
   "execution_count": null,
   "id": "7bcb2b3e",
   "metadata": {},
   "outputs": [],
   "source": [
    "df_dup1= pd.merge(df_duplicator,df_acc[['User_ID', 'party']], left_on=['Acc1'], right_on = 'User_ID').drop('User_ID', axis = 1).rename(columns={\"party\": \"Party1\"})"
   ]
  },
  {
   "cell_type": "code",
   "execution_count": null,
   "id": "30b04409",
   "metadata": {},
   "outputs": [],
   "source": [
    "df_dup2=pd.merge(df_dup1,df_acc[['User_ID', 'party']], left_on=['Acc1'], right_on = 'User_ID').drop('User_ID', axis = 1).rename(columns={\"party\": \"Party2\"})"
   ]
  },
  {
   "cell_type": "code",
   "execution_count": null,
   "id": "0f689a1e",
   "metadata": {},
   "outputs": [],
   "source": [
    "df_dup2.sample(22)"
   ]
  },
  {
   "cell_type": "code",
   "execution_count": null,
   "id": "bd858cbc",
   "metadata": {},
   "outputs": [],
   "source": [
    "df_dup2.to_csv('duplicator_new.csv')"
   ]
  },
  {
   "cell_type": "code",
   "execution_count": null,
   "id": "92382a43",
   "metadata": {},
   "outputs": [],
   "source": [
    "df_dup_acc_id = df_dup2.Acc1.tolist() + df_dup2.Acc2.tolist()"
   ]
  },
  {
   "cell_type": "code",
   "execution_count": null,
   "id": "0cf90f67",
   "metadata": {},
   "outputs": [],
   "source": [
    "df_pol[df_pol.User_ID.isin(df_dup_acc_id)].groupby('party').count()"
   ]
  },
  {
   "cell_type": "code",
   "execution_count": null,
   "id": "4700e2c2",
   "metadata": {},
   "outputs": [],
   "source": [
    "df_pol[df_pol.User_ID.isin(df_dup_acc_id)]"
   ]
  },
  {
   "cell_type": "code",
   "execution_count": null,
   "id": "00b799a2",
   "metadata": {},
   "outputs": [],
   "source": [
    "df_dup_acc_result = pd.DataFrame(df_dup_acc_id)"
   ]
  },
  {
   "cell_type": "code",
   "execution_count": null,
   "id": "170a2a6f",
   "metadata": {},
   "outputs": [],
   "source": [
    "df_dup_acc_result = df_dup_acc_result.rename(columns = {0:'ID'})"
   ]
  },
  {
   "cell_type": "code",
   "execution_count": null,
   "id": "024ed0d0",
   "metadata": {},
   "outputs": [],
   "source": [
    "df_dup_acc_result['label'] = 'Non-Political'"
   ]
  },
  {
   "cell_type": "code",
   "execution_count": null,
   "id": "6de283b1",
   "metadata": {},
   "outputs": [],
   "source": [
    "df_dup_acc_result = df_dup_acc_result.drop_duplicates().reset_index(drop = True)"
   ]
  },
  {
   "cell_type": "code",
   "execution_count": null,
   "id": "3d16fd2d",
   "metadata": {},
   "outputs": [],
   "source": [
    "df_dup_acc_result"
   ]
  },
  {
   "cell_type": "code",
   "execution_count": null,
   "id": "9ffe838d",
   "metadata": {},
   "outputs": [],
   "source": [
    "df_pol = df_pol.reset_index(drop = True)"
   ]
  },
  {
   "cell_type": "code",
   "execution_count": null,
   "id": "ca622955",
   "metadata": {},
   "outputs": [],
   "source": [
    "for index1, row1 in df_dup_acc_result.iterrows():\n",
    "    for index2, row2 in df_pol.iterrows():\n",
    "        if row1['ID'] == row2['User_ID']:\n",
    "            df_dup_acc_result.at[index1,'label'] = row2['party']"
   ]
  },
  {
   "cell_type": "code",
   "execution_count": null,
   "id": "f4d9d024",
   "metadata": {},
   "outputs": [],
   "source": []
  },
  {
   "cell_type": "code",
   "execution_count": null,
   "id": "c72719f9",
   "metadata": {},
   "outputs": [],
   "source": [
    "df_dup_acc_result['att'] = df_dup_acc_result['label']"
   ]
  },
  {
   "cell_type": "code",
   "execution_count": null,
   "id": "fdb953c5",
   "metadata": {},
   "outputs": [],
   "source": [
    "df_dup_acc_result.to_csv('Dup_Node.csv', index = False)"
   ]
  },
  {
   "cell_type": "code",
   "execution_count": null,
   "id": "77a7cd70",
   "metadata": {},
   "outputs": [],
   "source": [
    "df_dup3 = df_dup2"
   ]
  },
  {
   "cell_type": "code",
   "execution_count": null,
   "id": "869cd746",
   "metadata": {},
   "outputs": [],
   "source": [
    "df_dup3.head()"
   ]
  },
  {
   "cell_type": "code",
   "execution_count": null,
   "id": "7f9b86ed",
   "metadata": {},
   "outputs": [],
   "source": [
    "for index1, row1 in df_dup3.iterrows():\n",
    "    for index2, row2 in df_pol.iterrows():\n",
    "        if row1['Acc1'] == row2['User_ID']:\n",
    "            df_dup3.at[index1,'Party1'] = row2['party']\n",
    "            df_dup3.at[index1,'Party2'] = row2['party']\n",
    "        if row1['Acc2'] == row2['User_ID']:\n",
    "            df_dup3.at[index1,'Party1'] = row2['party']\n",
    "            df_dup3.at[index1,'Party2'] = row2['party']"
   ]
  },
  {
   "cell_type": "code",
   "execution_count": null,
   "id": "91868c30",
   "metadata": {},
   "outputs": [],
   "source": [
    "df_dup3['Acc1'].tolist() + df_dup3['Acc2'].tolist()"
   ]
  },
  {
   "cell_type": "code",
   "execution_count": null,
   "id": "30e1034c",
   "metadata": {},
   "outputs": [],
   "source": [
    "df_dup3['Party1'].tolist() + df_dup3['Party2'].tolist()"
   ]
  },
  {
   "cell_type": "code",
   "execution_count": null,
   "id": "281cacf8",
   "metadata": {},
   "outputs": [],
   "source": []
  },
  {
   "cell_type": "code",
   "execution_count": null,
   "id": "0b307acc",
   "metadata": {},
   "outputs": [],
   "source": [
    "df_dup_dip = pd.DataFrame(list(zip(df_dup3['Acc1'].tolist() + df_dup3['Acc2'].tolist(),\n",
    "                         df_dup3['Party1'].tolist() + df_dup3['Party2'].tolist(),\n",
    "                         df_dup3['Party1'].tolist() + df_dup3['Party2'].tolist())),columns =['ID', 'Label', 'Att'])"
   ]
  },
  {
   "cell_type": "code",
   "execution_count": null,
   "id": "244c0853",
   "metadata": {},
   "outputs": [],
   "source": [
    "df_dup_dip.drop_duplicates('ID').groupby('Label').count()"
   ]
  },
  {
   "cell_type": "code",
   "execution_count": null,
   "id": "1bc0cfea",
   "metadata": {},
   "outputs": [],
   "source": [
    "df_modu = pd.read_csv('Mod.csv')"
   ]
  },
  {
   "cell_type": "code",
   "execution_count": null,
   "id": "baf0a034",
   "metadata": {},
   "outputs": [],
   "source": [
    "df_modu.groupby('modularity_class').count().reset_index().sort_values(by = 'Id')"
   ]
  },
  {
   "cell_type": "code",
   "execution_count": null,
   "id": "7d9fb05e",
   "metadata": {},
   "outputs": [],
   "source": [
    "df_modu[['Label', 'modularity_class']]"
   ]
  },
  {
   "cell_type": "code",
   "execution_count": null,
   "id": "2c1faac3",
   "metadata": {},
   "outputs": [],
   "source": [
    "df_pol.loc[df_pol.party == 'BJP'].User_ID.tolist()"
   ]
  },
  {
   "cell_type": "code",
   "execution_count": null,
   "id": "b7f495e8",
   "metadata": {},
   "outputs": [],
   "source": [
    "df_modu_short = df_modu[['Label', 'modularity_class']]"
   ]
  },
  {
   "cell_type": "code",
   "execution_count": null,
   "id": "f53502fd",
   "metadata": {},
   "outputs": [],
   "source": [
    "df_modu_short[df_modu_short.Label.isin(df_pol.loc[df_pol.party == 'BJP'].User_ID.tolist())].groupby('modularity_class').count()"
   ]
  },
  {
   "cell_type": "code",
   "execution_count": null,
   "id": "82df1a9c",
   "metadata": {},
   "outputs": [],
   "source": [
    "df_modu_short.loc[df_modu_short.modularity_class == 55].Label.tolist()"
   ]
  },
  {
   "cell_type": "code",
   "execution_count": null,
   "id": "e4559c32",
   "metadata": {},
   "outputs": [],
   "source": [
    "df_pol[df_pol.User_ID.isin(df_modu_short.loc[df_modu_short.modularity_class == 6].Label.tolist())]"
   ]
  },
  {
   "cell_type": "code",
   "execution_count": null,
   "id": "836e1405",
   "metadata": {},
   "outputs": [],
   "source": []
  },
  {
   "cell_type": "code",
   "execution_count": null,
   "id": "70e6cd5a",
   "metadata": {},
   "outputs": [],
   "source": []
  },
  {
   "cell_type": "code",
   "execution_count": null,
   "id": "4a0120c0",
   "metadata": {},
   "outputs": [],
   "source": []
  },
  {
   "cell_type": "code",
   "execution_count": null,
   "id": "28c2a5de",
   "metadata": {},
   "outputs": [],
   "source": [
    "print(len(df_modu_short[df_modu_short.modularity_class.isin(df_bjp_clusters)]))\n",
    "print(len(df_modu_short[df_modu_short.modularity_class.isin(df_inc_clusters)]))"
   ]
  },
  {
   "cell_type": "code",
   "execution_count": null,
   "id": "fcdf08d3",
   "metadata": {},
   "outputs": [],
   "source": [
    "df_modu_final = df_modu_short.sort_values(by = 'modularity_class')"
   ]
  },
  {
   "cell_type": "code",
   "execution_count": null,
   "id": "b7f1136b",
   "metadata": {},
   "outputs": [],
   "source": [
    "df_modu[['Label', 'modularity_class']]"
   ]
  },
  {
   "cell_type": "code",
   "execution_count": null,
   "id": "27dd3c72",
   "metadata": {},
   "outputs": [],
   "source": [
    "df_pol"
   ]
  },
  {
   "cell_type": "code",
   "execution_count": null,
   "id": "241cd33f",
   "metadata": {},
   "outputs": [],
   "source": [
    "df_modu_final = df_modu_final.rename( columns = {'Label': 'User_ID'})"
   ]
  },
  {
   "cell_type": "code",
   "execution_count": null,
   "id": "52503dd7",
   "metadata": {},
   "outputs": [],
   "source": [
    "df_merged_cluster_pol = pd.merge(df_modu_final, df_pol)"
   ]
  },
  {
   "cell_type": "code",
   "execution_count": null,
   "id": "83dca056",
   "metadata": {},
   "outputs": [],
   "source": [
    "df_merged_cluster_pol.loc[df_merged_cluster_pol.modularity_class == 24]"
   ]
  },
  {
   "cell_type": "code",
   "execution_count": null,
   "id": "1365007d",
   "metadata": {},
   "outputs": [],
   "source": [
    "len(df_merged_cluster_pol.loc[df_merged_cluster_pol.modularity_class == 24])"
   ]
  },
  {
   "cell_type": "code",
   "execution_count": null,
   "id": "4d0bbd9d",
   "metadata": {},
   "outputs": [],
   "source": [
    "df_modu_final "
   ]
  },
  {
   "cell_type": "code",
   "execution_count": null,
   "id": "6d83fa11",
   "metadata": {},
   "outputs": [],
   "source": [
    "df_acc23 = pd.read_csv('All_Fake_without_debunkers_Updated.csv')"
   ]
  },
  {
   "cell_type": "code",
   "execution_count": null,
   "id": "5daa57a0",
   "metadata": {},
   "outputs": [],
   "source": [
    "df_acc_modu = pd.merge(df_modu_final, df_acc23)"
   ]
  },
  {
   "cell_type": "code",
   "execution_count": null,
   "id": "7aff9f0e",
   "metadata": {},
   "outputs": [],
   "source": [
    "df_acc_modu.loc[df_acc_modu.acc_type == 'Verified'].groupby('Influencer').count()"
   ]
  },
  {
   "cell_type": "code",
   "execution_count": null,
   "id": "23b7c6a6",
   "metadata": {},
   "outputs": [],
   "source": [
    "len(df_acc_modu.loc[df_acc_modu.acc_type == 'Verified'])"
   ]
  },
  {
   "cell_type": "code",
   "execution_count": null,
   "id": "6840f330",
   "metadata": {},
   "outputs": [],
   "source": []
  }
 ],
 "metadata": {
  "kernelspec": {
   "display_name": "Python 3 (ipykernel)",
   "language": "python",
   "name": "python3"
  },
  "language_info": {
   "codemirror_mode": {
    "name": "ipython",
    "version": 3
   },
   "file_extension": ".py",
   "mimetype": "text/x-python",
   "name": "python",
   "nbconvert_exporter": "python",
   "pygments_lexer": "ipython3",
   "version": "3.9.13"
  }
 },
 "nbformat": 4,
 "nbformat_minor": 5
}
