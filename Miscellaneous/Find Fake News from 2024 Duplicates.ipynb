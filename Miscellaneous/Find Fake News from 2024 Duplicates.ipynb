{
 "cells": [
  {
   "cell_type": "code",
   "execution_count": null,
   "id": "4476c901-b9ab-4bf2-abaf-9c44509aa584",
   "metadata": {},
   "outputs": [],
   "source": [
    "import pandas as pd\n",
    "from sentence_transformers import SentenceTransformer, util\n",
    "import pandas as pd\n",
    "import numpy as np\n",
    "import time\n",
    "from sklearn.metrics.pairwise import cosine_similarity\n",
    "import torch\n",
    "import re\n",
    "import sys"
   ]
  },
  {
   "cell_type": "code",
   "execution_count": null,
   "id": "6eeb665d-9e9b-42ad-af0e-ecd08c011e06",
   "metadata": {},
   "outputs": [],
   "source": [
    "df_cluster = pd.read_csv('All_Group_Tweet_For_Embeddings.csv', dtype = 'str')\n",
    "df_embedding=pd.read_csv('All_Embedding_Recent_2024_Posts_Group.csv', dtype = 'str')"
   ]
  },
  {
   "cell_type": "code",
   "execution_count": null,
   "id": "d3c952ef-6975-4d0f-8a7d-e1a371a2c002",
   "metadata": {},
   "outputs": [],
   "source": [
    "df_cluster"
   ]
  },
  {
   "cell_type": "code",
   "execution_count": null,
   "id": "8a036abc-9f47-4629-9d1f-371d97a852ee",
   "metadata": {},
   "outputs": [],
   "source": [
    "model = SentenceTransformer(\"paraphrase-multilingual-MiniLM-L12-v2\", device='cuda:0')"
   ]
  },
  {
   "cell_type": "code",
   "execution_count": null,
   "id": "993829a0-1389-40f7-b895-589dd3a70a59",
   "metadata": {},
   "outputs": [],
   "source": [
    "model = SentenceTransformer(\"paraphrase-multilingual-MiniLM-L12-v2\", device='cuda:0')\n",
    "model.max_seq_length = 350\n",
    "model.do_lower_case =  True"
   ]
  },
  {
   "cell_type": "code",
   "execution_count": null,
   "id": "1e98f03a-8902-42b9-bc63-3cf7d5ecfaa9",
   "metadata": {},
   "outputs": [],
   "source": [
    "df_cluster.Text_without_Link[0]"
   ]
  },
  {
   "cell_type": "code",
   "execution_count": null,
   "id": "46a9d76d-3c26-46eb-8513-66c4e64ad796",
   "metadata": {},
   "outputs": [],
   "source": [
    "all_text = df_cluster.Text_without_Link.tolist()"
   ]
  },
  {
   "cell_type": "code",
   "execution_count": null,
   "id": "283934bc-4fb1-44df-9cb2-9ddd80ea4ab3",
   "metadata": {},
   "outputs": [],
   "source": [
    "df_cluster_final"
   ]
  },
  {
   "cell_type": "code",
   "execution_count": null,
   "id": "ac2699a5-fa0f-4cbe-8144-c1789254acde",
   "metadata": {},
   "outputs": [],
   "source": [
    "df_cluster_final = pd.read_csv('Duplication_Cluster_Result_2024_Group.csv')"
   ]
  },
  {
   "cell_type": "code",
   "execution_count": null,
   "id": "21920a3c-8559-4660-84a6-f7e6e5818c64",
   "metadata": {},
   "outputs": [],
   "source": [
    "df_embedding = pd.merge(df_embedding, df_cluster_final)"
   ]
  },
  {
   "cell_type": "code",
   "execution_count": null,
   "id": "01f3d5d5-bbed-4398-a3c8-adaefb0610cd",
   "metadata": {},
   "outputs": [],
   "source": [
    "df_alt_fake_tweet_2024 = pd.read_csv('New_Fake_Tweets_2024.csv', dtype = 'str')"
   ]
  },
  {
   "cell_type": "code",
   "execution_count": null,
   "id": "03a22ae1-eda8-4e73-9ced-6b3990d7af5c",
   "metadata": {},
   "outputs": [],
   "source": []
  },
  {
   "cell_type": "code",
   "execution_count": null,
   "id": "8ece51a0-e45c-41f8-8d3d-ccd102bb808e",
   "metadata": {},
   "outputs": [],
   "source": [
    "df_alt_fake_tweet_2024 = pd.read_csv('New_Fake_Tweets_2024.csv', dtype = 'str')\n",
    "\n",
    "df_cluster2 = df_alt_fake_tweet_2024\n",
    "df_cluster2 = df_cluster2.dropna(subset=['Tweet_ID'])\n",
    "df_cluster2['Text_without_Link'] = df_cluster2['text'].apply(lambda x: re.split('https:\\/\\/.*', str(x))[0])\n",
    "df_cluster2['Text_without_Link']=df_cluster2['Text_without_Link'].str.replace('(@\\w+.*?)',\"\")\n",
    "df_cluster2['Text_without_Link'] = df_cluster2['Text_without_Link'].replace('', np.nan)\n",
    "df_cluster2 = df_cluster2.dropna(subset=['Text_without_Link'])\n",
    "df_cluster2 = df_cluster2[(df_cluster2.Text_Lang == 'en') | (df_cluster2.Text_Lang == 'hi')]\n",
    "df_cluster2 = df_cluster2.dropna(subset=['Text_without_Link'])\n",
    "df_cluster2 = df_cluster2.reset_index(drop = True)\n",
    "df_cluster2['Text_Size'] = df_cluster2.Text_without_Link.apply(lambda x: len(x))\n",
    "df_cluster2 = df_cluster2.loc[df_cluster2.Text_Size >= 20]\n",
    "df_cluster2.Tweet_ID = df_cluster2.Tweet_ID.astype('int')"
   ]
  },
  {
   "cell_type": "code",
   "execution_count": null,
   "id": "b4c33af7-1fde-4ea7-a180-b410cd210bed",
   "metadata": {},
   "outputs": [],
   "source": [
    "df_politi_fake_tweet_2024.columns"
   ]
  },
  {
   "cell_type": "code",
   "execution_count": null,
   "id": "fb3a2bc6-f92d-4c3e-b5b9-c964af89306c",
   "metadata": {},
   "outputs": [],
   "source": [
    "df_politi_fake_tweet_2024 = pd.read_csv('False_tweets_All_PolitiFact_Nahid.csv', dtype = 'str')\n",
    "\n",
    "df_cluster3 = df_politi_fake_tweet_2024\n",
    "df_cluster3 = df_cluster3.dropna(subset=['Tweet_ID'])\n",
    "df_cluster3['Text_without_Link'] = df_cluster3['Tweet'].apply(lambda x: re.split('https:\\/\\/.*', str(x))[0])\n",
    "df_cluster3['Text_without_Link']=df_cluster3['Text_without_Link'].str.replace('(@\\w+.*?)',\"\")\n",
    "df_cluster3['Text_without_Link'] = df_cluster3['Text_without_Link'].replace('', np.nan)\n",
    "df_cluster3 = df_cluster3.dropna(subset=['Text_without_Link'])\n",
    "df_cluster3 = df_cluster3[(df_cluster3.Language == 'en')]\n",
    "df_cluster3 = df_cluster3.dropna(subset=['Text_without_Link'])\n",
    "df_cluster3 = df_cluster3.reset_index(drop = True)\n",
    "df_cluster3['Text_Size'] = df_cluster3.Text_without_Link.apply(lambda x: len(x))\n",
    "df_cluster3 = df_cluster3.loc[df_cluster3.Text_Size >= 20]\n",
    "df_cluster3.Tweet_ID = df_cluster3.Tweet_ID.astype('int')"
   ]
  },
  {
   "cell_type": "code",
   "execution_count": null,
   "id": "12c3b822-b475-4f1e-a418-1bce173a6372",
   "metadata": {},
   "outputs": [],
   "source": [
    "i=0\n",
    "all_text2 = df_cluster2.Text_without_Link.tolist()\n",
    "embeddings2 = model.encode(all_text2[i*3000:(i+1)*3000])"
   ]
  },
  {
   "cell_type": "code",
   "execution_count": null,
   "id": "3b023217-fe81-4565-99f2-1e70c54140bf",
   "metadata": {},
   "outputs": [],
   "source": [
    "all_text3 = df_cluster3.Text_without_Link.tolist()\n",
    "len(all_text3)"
   ]
  },
  {
   "cell_type": "code",
   "execution_count": null,
   "id": "62ef047a-74c2-4013-a2fe-f9f57214603a",
   "metadata": {},
   "outputs": [],
   "source": [
    "import numpy as np"
   ]
  },
  {
   "cell_type": "code",
   "execution_count": null,
   "id": "dba8de8a-b09d-4f60-86f2-d2d96a9884b3",
   "metadata": {},
   "outputs": [],
   "source": [
    "i=0\n",
    "all_text3 = df_cluster3.Text_without_Link.tolist()\n",
    "\n",
    "embeddings3_0 = model.encode(all_text3[i*3000:(i+1)*3000])\n",
    "i=1\n",
    "embeddings3_1 = model.encode(all_text3[i*3000:(i+1)*3000])\n",
    "\n",
    "i=2\n",
    "embeddings3_2 = model.encode(all_text3[i*3000:(i+1)*3000])\n",
    "\n",
    "i=3\n",
    "embeddings3_3 = model.encode(all_text3[i*3000:(i+1)*3000])\n",
    "\n",
    "i=4\n",
    "embeddings3_4 = model.encode(all_text3[i*3000:(i+1)*3000])\n",
    "\n",
    "i=5\n",
    "embeddings3_5 = model.encode(all_text3[i*3000:(i+1)*3000])\n"
   ]
  },
  {
   "cell_type": "code",
   "execution_count": null,
   "id": "1cf7711e-6b9a-4be9-ab87-efa6f6ebc63b",
   "metadata": {},
   "outputs": [],
   "source": [
    "embeddings3 = np.concatenate((embeddings3_0, embeddings3_1, embeddings3_2, embeddings3_3, embeddings3_4), axis=0)"
   ]
  },
  {
   "cell_type": "code",
   "execution_count": null,
   "id": "d898ee1c-086b-4b05-9096-51c48a493c26",
   "metadata": {},
   "outputs": [],
   "source": []
  },
  {
   "cell_type": "code",
   "execution_count": null,
   "id": "84264225-40f5-4c9e-bc90-8902a0fe7161",
   "metadata": {},
   "outputs": [],
   "source": [
    "embeddings3"
   ]
  },
  {
   "cell_type": "code",
   "execution_count": null,
   "id": "ae406fa2-84bd-4ceb-a801-3236b9edc70b",
   "metadata": {},
   "outputs": [],
   "source": []
  },
  {
   "cell_type": "code",
   "execution_count": null,
   "id": "d91d0240-cefe-4008-a267-cb4309828d43",
   "metadata": {},
   "outputs": [],
   "source": [
    "embeddings2"
   ]
  },
  {
   "cell_type": "code",
   "execution_count": null,
   "id": "586af385-af79-41c7-a0a4-16740831fc1b",
   "metadata": {},
   "outputs": [],
   "source": [
    "f_set = ['Tweet_ID']\n",
    "for i in range(0,384):\n",
    "    f_set.append('F' + str(i))\n",
    "df_embedding2 = pd.DataFrame(columns=f_set)\n",
    "df_embedding2['Tweet_ID'] =df_cluster2['Tweet_ID']\n",
    "\n",
    "emb_df2 = pd.DataFrame(embeddings2)\n",
    "df_embedding2.iloc[:,1:] = emb_df2.iloc[:,:]"
   ]
  },
  {
   "cell_type": "code",
   "execution_count": null,
   "id": "9cb824b8-a4e7-499e-b8e5-f4dacccd47e5",
   "metadata": {},
   "outputs": [],
   "source": [
    "f_set = ['Tweet_ID']\n",
    "for i in range(0,384):\n",
    "    f_set.append('F' + str(i))\n",
    "df_embedding3 = pd.DataFrame(columns=f_set)\n",
    "df_embedding3['Tweet_ID'] =df_cluster3['Tweet_ID']\n",
    "\n",
    "emb_df3 = pd.DataFrame(embeddings3)\n",
    "df_embedding3.iloc[:,1:] = emb_df3.iloc[:,:]"
   ]
  },
  {
   "cell_type": "code",
   "execution_count": null,
   "id": "3d75bcfb-c2c7-4f55-8d0a-dcfff69a7002",
   "metadata": {},
   "outputs": [],
   "source": [
    "df_embedding3"
   ]
  },
  {
   "cell_type": "code",
   "execution_count": null,
   "id": "5c62df26-2fb0-4fda-afb6-7900decd61ef",
   "metadata": {},
   "outputs": [],
   "source": [
    "from sklearn.metrics.pairwise import cosine_similarity"
   ]
  },
  {
   "cell_type": "code",
   "execution_count": null,
   "id": "c0ba8b86-c1fd-44bf-a718-426a61923963",
   "metadata": {},
   "outputs": [],
   "source": [
    "similarity = cosine_similarity(df_embedding.iloc[0,1:].reshape(-1,1), df_embedding.iloc[0,1:])"
   ]
  },
  {
   "cell_type": "code",
   "execution_count": null,
   "id": "7806c6a6-bbaa-416f-8619-b5e84de86330",
   "metadata": {},
   "outputs": [],
   "source": []
  },
  {
   "cell_type": "code",
   "execution_count": null,
   "id": "34b5c9d5-86a6-431d-819d-6d41d28defc0",
   "metadata": {},
   "outputs": [],
   "source": [
    "import pandas as pd\n",
    "from sklearn.metrics.pairwise import cosine_similarity\n",
    "\n",
    "\n",
    "\n",
    "embedding_1 = df_embedding.iloc[0, 1:]  # First embedding\n",
    "embedding_2 = df_embedding.iloc[0, 1:]  # Second embedding\n",
    "\n",
    "embedding_1 = [embedding_1]  # Cosine similarity requires 2D array inputs\n",
    "embedding_2 = [embedding_2]\n",
    "\n",
    "similarity = cosine_similarity(embedding_1, embedding_2)\n",
    "\n",
    "print(f'Cosine Similarity between first and second embedding: {similarity[0][0]}')\n"
   ]
  },
  {
   "cell_type": "code",
   "execution_count": null,
   "id": "78613586-b125-419e-a377-4c7b4a39d22f",
   "metadata": {},
   "outputs": [],
   "source": [
    "df_embedding_with_cluster = df_embedding.loc[df_embedding.Cluster_ID != -1]"
   ]
  },
  {
   "cell_type": "code",
   "execution_count": null,
   "id": "8c9e1ea9-eeef-4f5d-ba57-d5c26a73d8af",
   "metadata": {},
   "outputs": [],
   "source": [
    "df_embedding_with_cluster = df_embedding_with_cluster.reset_index(drop = True)"
   ]
  },
  {
   "cell_type": "code",
   "execution_count": null,
   "id": "68ccd139-179e-4681-a877-d32b10e5723d",
   "metadata": {},
   "outputs": [],
   "source": [
    "df_embedding_with_cluster.iloc[:, 1:-1]"
   ]
  },
  {
   "cell_type": "code",
   "execution_count": null,
   "id": "54ae7765-f217-4a89-8d14-0c5b7584b701",
   "metadata": {},
   "outputs": [],
   "source": [
    "df_embedding_with_cluster"
   ]
  },
  {
   "cell_type": "code",
   "execution_count": null,
   "id": "99894f35-645d-4c1e-9663-9e4b57e9b4a7",
   "metadata": {},
   "outputs": [],
   "source": [
    "import pandas as pd\n",
    "from sklearn.metrics.pairwise import cosine_similarity\n",
    "import numpy as np\n",
    "\n",
    "\n",
    "grouped_clusters = df_embedding_with_cluster.groupby('Cluster_ID')\n",
    "\n",
    "cluster_avg_cosine_sim = []\n",
    "\n",
    "for cluster_id, group in grouped_clusters:\n",
    "    embeddings = group.iloc[:, 1:-1].values  # Assuming first two columns are 'Tweet_ID' and 'Cluster_ID'\n",
    "    \n",
    "    cosine_sim_matrix = cosine_similarity(embeddings)\n",
    "    \n",
    "    np.fill_diagonal(cosine_sim_matrix, np.nan)\n",
    "    \n",
    "    avg_cosine_similarity = np.nanmean(cosine_sim_matrix)\n",
    "    \n",
    "    cluster_avg_cosine_sim.append({'Cluster_ID': cluster_id, 'Avg_Cosine_Similarity': avg_cosine_similarity})\n",
    "\n",
    "df_avg_cosine_similarity = pd.DataFrame(cluster_avg_cosine_sim)\n",
    "\n"
   ]
  },
  {
   "cell_type": "code",
   "execution_count": null,
   "id": "ef680e03-0299-4783-9603-b803229ce410",
   "metadata": {},
   "outputs": [],
   "source": []
  },
  {
   "cell_type": "code",
   "execution_count": null,
   "id": "8b618850-d6d5-477d-80d2-bd3355a205f6",
   "metadata": {},
   "outputs": [],
   "source": [
    "df_avg_cosine_similarity.Avg_Cosine_Similarity.mean()"
   ]
  },
  {
   "cell_type": "code",
   "execution_count": null,
   "id": "caf0bf7b-c010-4559-a995-bc8a302cf461",
   "metadata": {},
   "outputs": [],
   "source": [
    "df_avg_cosine_similarity.Avg_Cosine_Similarity.median()"
   ]
  },
  {
   "cell_type": "code",
   "execution_count": null,
   "id": "096a533f-3a3a-45ae-a91f-af5d587e4506",
   "metadata": {},
   "outputs": [],
   "source": [
    "df_avg_cosine_similarity.Avg_Cosine_Similarity.max()"
   ]
  },
  {
   "cell_type": "code",
   "execution_count": null,
   "id": "e53a4abc-95d0-4c8b-b719-ea2dbedeccf6",
   "metadata": {},
   "outputs": [],
   "source": [
    "df_embedding_with_cluster_array = np.array(df_embedding_with_cluster.iloc[:, 1:-1])"
   ]
  },
  {
   "cell_type": "code",
   "execution_count": null,
   "id": "f13b3d84-0fe0-4059-8bfb-d420f34b0755",
   "metadata": {},
   "outputs": [],
   "source": [
    "df_embedding_with_cluster_array.shape"
   ]
  },
  {
   "cell_type": "code",
   "execution_count": null,
   "id": "a184b37a-3786-4685-b463-cb604ff734d4",
   "metadata": {},
   "outputs": [],
   "source": [
    "df_embedding_with_fake_array = np.array(df_embedding2.iloc[:, 1:])"
   ]
  },
  {
   "cell_type": "code",
   "execution_count": null,
   "id": "9e3f5970-712c-497e-af55-be5e61913e9e",
   "metadata": {},
   "outputs": [],
   "source": [
    "df_embedding_with_fake_array.shape"
   ]
  },
  {
   "cell_type": "code",
   "execution_count": null,
   "id": "c17dff69-2015-489c-b229-72456a964697",
   "metadata": {},
   "outputs": [],
   "source": [
    "res  = cosine_similarity(df_embedding_with_cluster_array, df_embedding_with_fake_array)"
   ]
  },
  {
   "cell_type": "code",
   "execution_count": null,
   "id": "54650095-fe72-4675-8b45-edc906ca31e4",
   "metadata": {},
   "outputs": [],
   "source": [
    "res.shape"
   ]
  },
  {
   "cell_type": "code",
   "execution_count": null,
   "id": "894ad631-ec6a-40a3-8afc-4b6dc406657a",
   "metadata": {},
   "outputs": [],
   "source": []
  },
  {
   "cell_type": "code",
   "execution_count": null,
   "id": "9e3497b5-7e48-427a-b851-82b0b65b872b",
   "metadata": {},
   "outputs": [],
   "source": [
    "\n",
    "\n"
   ]
  },
  {
   "cell_type": "code",
   "execution_count": null,
   "id": "86e28007-2c0c-4bc2-8e16-e25342ccc86a",
   "metadata": {},
   "outputs": [],
   "source": [
    "import pandas as pd\n",
    "import numpy as np\n",
    "from sklearn.metrics.pairwise import cosine_similarity\n",
    "\n",
    "df_embedding_with_cluster.Tweet_ID = df_embedding_with_cluster.Tweet_ID.astype('str')\n",
    "cluster_embeddings = df_embedding_with_cluster.loc[:, 'F0':'F383'].values\n",
    "fake_embeddings = df_embedding2.loc[:, 'F0':'F383'].values\n",
    "\n",
    "similarity_matrix = cosine_similarity(cluster_embeddings, fake_embeddings)\n",
    "\n",
    "threshold = 0.95\n",
    "\n",
    "matching_indices = np.where(similarity_matrix > threshold)\n",
    "\n",
    "matches = []\n",
    "\n",
    "for cluster_idx, fake_idx in zip(matching_indices[0], matching_indices[1]):\n",
    "    cluster_row = df_embedding_with_cluster.iloc[cluster_idx]\n",
    "    fake_row = df_embedding2.iloc[fake_idx]\n",
    "    \n",
    "    matches.append({\n",
    "        'Cluster_ID': cluster_row['Cluster_ID'],\n",
    "        'Tweet_ID_Cluster': cluster_row['Tweet_ID'],\n",
    "        'Tweet_ID_Fake': fake_row['Tweet_ID'],\n",
    "        'Similarity': similarity_matrix[cluster_idx, fake_idx]\n",
    "    })\n",
    "\n",
    "df_matches = pd.DataFrame(matches)\n",
    "\n"
   ]
  },
  {
   "cell_type": "code",
   "execution_count": null,
   "id": "e396702e-6588-4fd3-ba8b-210440a63eb4",
   "metadata": {},
   "outputs": [],
   "source": [
    "len(df_matches.groupby('Cluster_ID').count())"
   ]
  },
  {
   "cell_type": "code",
   "execution_count": null,
   "id": "ddf9a941-7dae-42cc-901d-d3e8372c1d59",
   "metadata": {},
   "outputs": [],
   "source": [
    "df_cluster = pd.merge(df_cluster, df_cluster_final)"
   ]
  },
  {
   "cell_type": "code",
   "execution_count": null,
   "id": "16fa9655-49f4-4d20-9aa6-4fac84d946a0",
   "metadata": {
    "scrolled": true
   },
   "outputs": [],
   "source": [
    "df_matches.groupby('Cluster_ID').count().reset_index()"
   ]
  },
  {
   "cell_type": "code",
   "execution_count": null,
   "id": "f58060ac-300c-4a6d-abab-97e33c3ad69c",
   "metadata": {},
   "outputs": [],
   "source": [
    "df_cluster.loc[df_cluster.Cluster_ID.isin(df_matches.groupby('Cluster_ID').count().reset_index().Cluster_ID)].groupby('Cluster_ID').count()"
   ]
  },
  {
   "cell_type": "code",
   "execution_count": null,
   "id": "e4add737-8350-4d07-8651-741a3b9117ae",
   "metadata": {},
   "outputs": [],
   "source": [
    "df_cluster_fake_only = df_cluster.loc[df_cluster.Cluster_ID.isin(df_matches.groupby('Cluster_ID').count().reset_index().Cluster_ID)]"
   ]
  },
  {
   "cell_type": "code",
   "execution_count": null,
   "id": "43edfc27-ad80-4bef-8835-0e78e9c8feb6",
   "metadata": {},
   "outputs": [],
   "source": [
    "df_cluster_fake_only.to_csv('View_2024_Duplicate_Fake.csv', index = False)"
   ]
  },
  {
   "cell_type": "code",
   "execution_count": null,
   "id": "cfc9e92e-1756-4927-8c23-6c09e53caa65",
   "metadata": {},
   "outputs": [],
   "source": [
    "df_cluster_fake_only.drop_duplicates('Cluster_ID').to_csv('Serach_26_Fake_2024.csv', index = False)"
   ]
  },
  {
   "cell_type": "code",
   "execution_count": null,
   "id": "08651310-7f7f-47a3-980a-0d54b05cf2d6",
   "metadata": {},
   "outputs": [],
   "source": []
  },
  {
   "cell_type": "code",
   "execution_count": null,
   "id": "52d765c1-bac2-47b4-8363-79e3b08ec37d",
   "metadata": {},
   "outputs": [],
   "source": []
  },
  {
   "cell_type": "code",
   "execution_count": null,
   "id": "f509db96-e589-4860-8c3d-68b28f37b9dc",
   "metadata": {},
   "outputs": [],
   "source": []
  },
  {
   "cell_type": "code",
   "execution_count": null,
   "id": "3aa225c8-33f9-40a2-bdcc-630184518599",
   "metadata": {},
   "outputs": [],
   "source": []
  },
  {
   "cell_type": "code",
   "execution_count": null,
   "id": "b7a1e750-06be-43ac-b3f9-f6bb458e75ef",
   "metadata": {
    "scrolled": true
   },
   "outputs": [],
   "source": [
    "import pandas as pd\n",
    "import numpy as np\n",
    "from sklearn.metrics.pairwise import cosine_similarity\n",
    "\n",
    "df_embedding_with_cluster.Tweet_ID = df_embedding_with_cluster.Tweet_ID.astype('str')\n",
    "cluster_embeddings = df_embedding_with_cluster.loc[:, 'F0':'F383'].values\n",
    "fake_embeddings = df_embedding3.loc[:, 'F0':'F383'].values\n",
    "\n",
    "similarity_matrix = cosine_similarity(cluster_embeddings, fake_embeddings)\n",
    "\n",
    "threshold = 0.95\n",
    "\n",
    "matching_indices = np.where(similarity_matrix > threshold)\n",
    "\n",
    "matches = []\n",
    "\n",
    "for cluster_idx, fake_idx in zip(matching_indices[0], matching_indices[1]):\n",
    "    cluster_row = df_embedding_with_cluster.iloc[cluster_idx]\n",
    "    fake_row = df_embedding3.iloc[fake_idx]\n",
    "    \n",
    "    matches.append({\n",
    "        'Cluster_ID': cluster_row['Cluster_ID'],\n",
    "        'Tweet_ID_Cluster': cluster_row['Tweet_ID'],\n",
    "        'Tweet_ID_Fake': fake_row['Tweet_ID'],\n",
    "        'Similarity': similarity_matrix[cluster_idx, fake_idx]\n",
    "    })\n",
    "\n",
    "df_matches2 = pd.DataFrame(matches)\n",
    "\n"
   ]
  },
  {
   "cell_type": "code",
   "execution_count": null,
   "id": "0c010c01-9f1f-4f38-8cea-c5d82a55eebb",
   "metadata": {},
   "outputs": [],
   "source": [
    "df_matches2.groupby('Cluster_ID')"
   ]
  },
  {
   "cell_type": "code",
   "execution_count": null,
   "id": "24fb40a0-9bcb-4d1b-a1ef-2a103633a12a",
   "metadata": {},
   "outputs": [],
   "source": [
    "df_matches2"
   ]
  },
  {
   "cell_type": "code",
   "execution_count": null,
   "id": "10fdfea7-6a3c-4a2a-b523-171fd8777794",
   "metadata": {},
   "outputs": [],
   "source": [
    "t1 = df_embedding_with_cluster.loc[df_embedding_with_cluster.Cluster_ID == 732].loc[1245, 'F0':'F383'].values\n",
    "t2 = df_embedding_with_cluster.loc[df_embedding_with_cluster.Cluster_ID == 732].loc[12473, 'F0':'F383'].values"
   ]
  },
  {
   "cell_type": "code",
   "execution_count": null,
   "id": "904a4693-4f97-4365-87de-0df44ba82975",
   "metadata": {},
   "outputs": [],
   "source": [
    "cosine_similarity(t1.reshape(1, -1), t2.reshape(1, -1))"
   ]
  },
  {
   "cell_type": "code",
   "execution_count": null,
   "id": "f14908aa-c2c7-41ed-af17-8970311fd015",
   "metadata": {
    "scrolled": true
   },
   "outputs": [],
   "source": []
  },
  {
   "cell_type": "code",
   "execution_count": null,
   "id": "5bf473dd-5071-447d-8706-13255e332e74",
   "metadata": {},
   "outputs": [],
   "source": [
    "df_cluster.loc[df_cluster.Tweet_ID == ].reset_index(drop = True).text[0]"
   ]
  },
  {
   "cell_type": "code",
   "execution_count": null,
   "id": "b1b8c129-154c-46b4-9ddb-0f734f4f7546",
   "metadata": {},
   "outputs": [],
   "source": [
    "t1  = df_embedding_with_cluster.loc[df_embedding_with_cluster.Tweet_ID == '1788771068137918518'].loc[1233, 'F0':'F383'].values"
   ]
  },
  {
   "cell_type": "code",
   "execution_count": null,
   "id": "865b1276-9246-4d90-86f5-9d643647181f",
   "metadata": {},
   "outputs": [],
   "source": [
    "t2 = df_embedding2.loc[df_embedding2.Tweet_ID == ].loc[306, 'F0':'F383'].values"
   ]
  },
  {
   "cell_type": "code",
   "execution_count": null,
   "id": "ef54efc3-15c7-4555-a8d5-f824631a11ff",
   "metadata": {},
   "outputs": [],
   "source": [
    "cosine_similarity(t1.reshape(1, -1), t2.reshape(1, -1))"
   ]
  },
  {
   "cell_type": "code",
   "execution_count": null,
   "id": "937c01cd-43ff-4d63-a05b-3f5da97977d2",
   "metadata": {},
   "outputs": [],
   "source": [
    "df_cluster.loc[df_cluster.Tweet_ID == ].Text_without_Link.loc[9508]"
   ]
  },
  {
   "cell_type": "code",
   "execution_count": null,
   "id": "839f029e-b9a5-42ff-961c-d75c92efca88",
   "metadata": {},
   "outputs": [],
   "source": [
    "df_cluster.loc[df_cluster.Tweet_ID == ].Text_without_Link.loc[9508]"
   ]
  },
  {
   "cell_type": "code",
   "execution_count": null,
   "id": "cabce395-87c5-4a83-a4c4-5e0bbe5e5cbb",
   "metadata": {},
   "outputs": [],
   "source": [
    "df_cluster2.loc[df_cluster2.Tweet_ID == ].Text_without_Link.loc[306]"
   ]
  },
  {
   "cell_type": "code",
   "execution_count": null,
   "id": "7c4a1ff6-2c06-4b48-8f14-302617f1d88a",
   "metadata": {},
   "outputs": [],
   "source": []
  },
  {
   "cell_type": "code",
   "execution_count": null,
   "id": "d06d0f33-be42-4651-928c-b84725ec761a",
   "metadata": {},
   "outputs": [],
   "source": []
  },
  {
   "cell_type": "code",
   "execution_count": null,
   "id": "d2a82874-babf-47c2-b3f2-2adcbf56a08d",
   "metadata": {},
   "outputs": [],
   "source": [
    "t21 = model.encode(df_cluster2.loc[df_cluster2.Tweet_ID == ].Text_without_Link.loc[306])"
   ]
  },
  {
   "cell_type": "code",
   "execution_count": null,
   "id": "c50f165d-0d75-46d1-b82c-217bcd55b94a",
   "metadata": {},
   "outputs": [],
   "source": [
    "cosine_similarity(t11.reshape(1, -1), t21.reshape(1, -1))"
   ]
  },
  {
   "cell_type": "code",
   "execution_count": null,
   "id": "c9eb74aa-95b0-407f-aa70-6389f9ac1c55",
   "metadata": {},
   "outputs": [],
   "source": [
    "df_cluster_final[df_cluster_final.Tweet_ID.isin(df_cluster2.Tweet_ID)]"
   ]
  },
  {
   "cell_type": "code",
   "execution_count": null,
   "id": "571717f6-8343-4402-9ce0-bab3de26f8a2",
   "metadata": {},
   "outputs": [],
   "source": [
    "df_cluster2.Tweet_ID"
   ]
  },
  {
   "cell_type": "code",
   "execution_count": null,
   "id": "04000488-86d0-4487-b998-acc243ec1027",
   "metadata": {},
   "outputs": [],
   "source": [
    "df_alt_fake_tweet_2024.columns"
   ]
  },
  {
   "cell_type": "code",
   "execution_count": null,
   "id": "d044dc5e-aad2-4fc5-9cb9-b71137061f98",
   "metadata": {},
   "outputs": [],
   "source": []
  }
 ],
 "metadata": {
  "kernelspec": {
   "display_name": "Python 3 (ipykernel)",
   "language": "python",
   "name": "python3"
  },
  "language_info": {
   "codemirror_mode": {
    "name": "ipython",
    "version": 3
   },
   "file_extension": ".py",
   "mimetype": "text/x-python",
   "name": "python",
   "nbconvert_exporter": "python",
   "pygments_lexer": "ipython3",
   "version": "3.9.13"
  }
 },
 "nbformat": 4,
 "nbformat_minor": 5
}
