{
 "cells": [
  {
   "cell_type": "code",
   "execution_count": null,
   "id": "345defde",
   "metadata": {},
   "outputs": [],
   "source": [
    "import pandas as pd\n",
    "import json\n",
    "pd.set_option('display.max_colwidth', None)"
   ]
  },
  {
   "cell_type": "code",
   "execution_count": null,
   "id": "b909db0e",
   "metadata": {},
   "outputs": [],
   "source": [
    "df_check_translate = pd.read_csv('Updated_Translated_Campaign_for_Narrative.csv', lineterminator = '\\n')"
   ]
  },
  {
   "cell_type": "code",
   "execution_count": null,
   "id": "1e1cce93",
   "metadata": {},
   "outputs": [],
   "source": [
    "df_check_translate.loc[df_check_translate.Translated_Tweets == 'Empty Tweet']"
   ]
  },
  {
   "cell_type": "code",
   "execution_count": null,
   "id": "0a5cca20",
   "metadata": {},
   "outputs": [],
   "source": [
    "df_alt_influence = pd.read_csv('AltNews Report Check.csv')"
   ]
  },
  {
   "cell_type": "code",
   "execution_count": null,
   "id": "ab4cc981",
   "metadata": {},
   "outputs": [],
   "source": [
    "df_alt_report = pd.read_csv('AltNews Report Number.csv')"
   ]
  },
  {
   "cell_type": "code",
   "execution_count": null,
   "id": "3d114448",
   "metadata": {},
   "outputs": [],
   "source": [
    "df_alt_influence.groupby('Campaign').count()"
   ]
  },
  {
   "cell_type": "code",
   "execution_count": null,
   "id": "18b368f6",
   "metadata": {},
   "outputs": [],
   "source": [
    "df_alt_report_new = pd.merge(df_alt_influence, df_alt_report, on = 'News_Number')"
   ]
  },
  {
   "cell_type": "code",
   "execution_count": null,
   "id": "5f2bcf6b",
   "metadata": {},
   "outputs": [],
   "source": [
    "df_alt_report_new.groupby('Topic').count()"
   ]
  },
  {
   "cell_type": "code",
   "execution_count": null,
   "id": "96d75def",
   "metadata": {},
   "outputs": [],
   "source": [
    "df_alt_report_new.loc[(df_alt_report_new.Campaign != 'Influence') & \n",
    "                      (df_alt_report_new.Topic != 'Politics') & \n",
    "                      (df_alt_report_new.Topic != 'Religion')]"
   ]
  },
  {
   "cell_type": "code",
   "execution_count": null,
   "id": "7b51369c",
   "metadata": {},
   "outputs": [],
   "source": [
    "df_alt_report_new = df_alt_report_new.drop(columns = ['Fact_Check_Link_y', 'SL'])"
   ]
  },
  {
   "cell_type": "code",
   "execution_count": null,
   "id": "b4a7fddb",
   "metadata": {},
   "outputs": [],
   "source": [
    "df_alt_report_new  = df_alt_report_new.rename(columns = {'Fact_Check_Link_x':'Fact_Check_Link'})"
   ]
  },
  {
   "cell_type": "code",
   "execution_count": null,
   "id": "e596d492",
   "metadata": {},
   "outputs": [],
   "source": [
    "df_alt_report_nonInfluence = df_alt_report_new.loc[(df_alt_report_new.Campaign != 'Influence') & \n",
    "                      (df_alt_report_new.Topic != 'Politics') & \n",
    "                      (df_alt_report_new.Topic != 'Religion')]"
   ]
  },
  {
   "cell_type": "code",
   "execution_count": null,
   "id": "f1f3cea4",
   "metadata": {},
   "outputs": [],
   "source": [
    "df_alt_tweet = pd.read_csv('Collected_Fake_Tweets_Still_Available.csv')"
   ]
  },
  {
   "cell_type": "code",
   "execution_count": null,
   "id": "577dd3ce",
   "metadata": {},
   "outputs": [],
   "source": [
    "df_alt_tweet.columns"
   ]
  },
  {
   "cell_type": "code",
   "execution_count": null,
   "id": "5359ebeb",
   "metadata": {},
   "outputs": [],
   "source": [
    "df_non_influence = pd.merge(df_alt_tweet, df_alt_report_nonInfluence, on = 'Fact_Check_Link')"
   ]
  },
  {
   "cell_type": "code",
   "execution_count": null,
   "id": "83d7756a",
   "metadata": {},
   "outputs": [],
   "source": [
    "df_non_influence"
   ]
  },
  {
   "cell_type": "code",
   "execution_count": null,
   "id": "dedb0116",
   "metadata": {},
   "outputs": [],
   "source": [
    "df_non_influence.groupby('User_ID').count()"
   ]
  },
  {
   "cell_type": "code",
   "execution_count": null,
   "id": "cc270775",
   "metadata": {},
   "outputs": [],
   "source": [
    "df_cluster_tweet = pd.read_csv('Cluster_Tweet_Final.csv')"
   ]
  },
  {
   "cell_type": "code",
   "execution_count": null,
   "id": "45ce6036",
   "metadata": {},
   "outputs": [],
   "source": [
    "df_cluster_tweet.columns"
   ]
  },
  {
   "cell_type": "code",
   "execution_count": null,
   "id": "4aeb5f5e",
   "metadata": {},
   "outputs": [],
   "source": [
    "df_cluster_tweet = df_cluster_tweet.dropna(subset=['Cluster_ID'])"
   ]
  },
  {
   "cell_type": "code",
   "execution_count": null,
   "id": "705d7d1d",
   "metadata": {},
   "outputs": [],
   "source": [
    "df_cluster_tweet = df_cluster_tweet.dropna(subset = 'User_ID')"
   ]
  },
  {
   "cell_type": "code",
   "execution_count": null,
   "id": "8b4fe70e",
   "metadata": {},
   "outputs": [],
   "source": [
    "df_cluster_tweet.User_ID = df_cluster_tweet.User_ID.astype(int)"
   ]
  },
  {
   "cell_type": "code",
   "execution_count": null,
   "id": "b849d43a",
   "metadata": {},
   "outputs": [],
   "source": [
    "len(set(df_non_influence.User_ID.tolist()))"
   ]
  },
  {
   "cell_type": "code",
   "execution_count": null,
   "id": "2b46157a",
   "metadata": {},
   "outputs": [],
   "source": [
    "df_non_influence_cluster = df_cluster_tweet[df_cluster_tweet.User_ID.isin(df_non_influence.User_ID.tolist())]"
   ]
  },
  {
   "cell_type": "code",
   "execution_count": null,
   "id": "80a60aac",
   "metadata": {},
   "outputs": [],
   "source": [
    "df_non_influence_cluster[['Cluster_ID', 'Tweet_Text']].sample(20)"
   ]
  },
  {
   "cell_type": "code",
   "execution_count": null,
   "id": "cf1f4a36",
   "metadata": {},
   "outputs": [],
   "source": [
    "df_non_influence_cluster.loc[df_non_influence_cluster.Cluster_ID == 2078].columns"
   ]
  },
  {
   "cell_type": "code",
   "execution_count": null,
   "id": "866b6e25",
   "metadata": {},
   "outputs": [],
   "source": [
    "from transformers import AutoTokenizer, AutoModelForSeq2SeqLM\n",
    "\n",
    "tokenizer = AutoTokenizer.from_pretrained(\"Helsinki-NLP/opus-mt-hi-en\")\n",
    "model = AutoModelForSeq2SeqLM.from_pretrained(\"Helsinki-NLP/opus-mt-hi-en\")"
   ]
  },
  {
   "cell_type": "code",
   "execution_count": null,
   "id": "bf350e20",
   "metadata": {},
   "outputs": [],
   "source": [
    "from transformers import pipeline\n",
    "\n",
    "pipe = pipeline(\"translation\", model=\"Helsinki-NLP/opus-mt-hi-en\")"
   ]
  },
  {
   "cell_type": "code",
   "execution_count": null,
   "id": "d27562b0",
   "metadata": {},
   "outputs": [],
   "source": []
  },
  {
   "cell_type": "code",
   "execution_count": null,
   "id": "7b740074",
   "metadata": {},
   "outputs": [],
   "source": [
    "def translator(text):\n",
    "    input_ids = tokenizer.encode(text, return_tensors=\"pt\", padding=True)\n",
    "    outputs = model.generate(input_ids)\n",
    "    decoded_text = tokenizer.decode(outputs[0], skip_special_tokens=True)\n",
    "    return decoded_text\n",
    "\n",
    "texts = [\"रेलवे निजीकरण हटाओ सरकारी नौकरी बचाओ आरक्षण बचाओ संविधान बचाओ। #SaveRailwaySaveNation\",\n",
    "        \"मैं आशा करता हूं कि आगे और भी ज्यादा संख्या में महिलाएं पुलिस सेवा में शामिल होंगी, हमारे देश की \",\n",
    "         \"तिरंगे संग भारत जोड़ने के लिए निकला जनता का हुजूम.\"]\n",
    "        \n",
    "\n",
    "for text in texts:\n",
    "  print(\"English Text: \", text)\n",
    "  print(\"Hindi Translation: \", translator(text))\n",
    "  print(\"*\"*50,\"\\n\") "
   ]
  },
  {
   "cell_type": "code",
   "execution_count": null,
   "id": "b1fba1e3",
   "metadata": {},
   "outputs": [],
   "source": [
    "for text in texts:\n",
    "    print(pipe(text))"
   ]
  },
  {
   "cell_type": "code",
   "execution_count": null,
   "id": "7a6f3af4",
   "metadata": {},
   "outputs": [],
   "source": [
    "texts2= df_cluster_tweet.loc[df_cluster_tweet.Tweet_Lang == 'hi'][['Cluster_ID', 'Tweet_ID', 'Tweet_Text', 'Tweet_Lang']].sample(100).Tweet_Text.tolist()"
   ]
  },
  {
   "cell_type": "code",
   "execution_count": null,
   "id": "854ab654",
   "metadata": {},
   "outputs": [],
   "source": [
    "need_text = df_cluster_tweet.loc[df_cluster_tweet.Tweet_Lang == 'hi'][['Cluster_ID', 'Tweet_ID', 'Tweet_Text', 'Tweet_Lang']].drop_duplicates('Cluster_ID').Tweet_Text.tolist()"
   ]
  },
  {
   "cell_type": "code",
   "execution_count": null,
   "id": "31f12cd6",
   "metadata": {},
   "outputs": [],
   "source": [
    "need_id = df_cluster_tweet.loc[df_cluster_tweet.Tweet_Lang == 'hi'][['Cluster_ID', 'Tweet_ID', 'Tweet_Text', 'Tweet_Lang']].drop_duplicates('Cluster_ID').Cluster_ID.tolist()"
   ]
  },
  {
   "cell_type": "code",
   "execution_count": null,
   "id": "76f5b812",
   "metadata": {},
   "outputs": [],
   "source": [
    "from transformers import pipeline\n",
    "\n",
    "pipe2 = pipeline(\"translation\", model=\"facebook/nllb-200-distilled-600M\", src_lang='hin_Deva', tgt_lang='eng_Latn',max_length = 800)"
   ]
  },
  {
   "cell_type": "code",
   "execution_count": null,
   "id": "3d984fe1",
   "metadata": {},
   "outputs": [],
   "source": [
    "trans_tweet = []\n",
    "trans_tweet_id = []"
   ]
  },
  {
   "cell_type": "code",
   "execution_count": null,
   "id": "fb8ff1be",
   "metadata": {},
   "outputs": [],
   "source": [
    "import time\n",
    "\n",
    "start = time.time()\n",
    "\n",
    "k = 0\n",
    "for text in need_text:\n",
    "    try:\n",
    "        trans_tweet.append(pipe2(text)[0]['translation_text'])\n",
    "        \n",
    "    except:\n",
    "        trans_tweet.append('Error_Happened')\n",
    "        \n",
    "    trans_tweet_id.append(need_id[k])\n",
    "    k = k + 1\n",
    "    if k%10000==0:\n",
    "        with open(\"translated_tweet_\" + str(k) + \".json\", \"w\") as f:\n",
    "            json.dump(trans_tweet, f)\n",
    "        with open(\"translated_tweet_ID\" + str(k) + \".json\", \"w\") as f1:\n",
    "            json.dump(trans_tweet_id, f1)\n",
    "            \n",
    "end = time.time()\n",
    "print(end - start)"
   ]
  },
  {
   "cell_type": "code",
   "execution_count": null,
   "id": "85a90172",
   "metadata": {},
   "outputs": [],
   "source": [
    "len(trans_tweet)"
   ]
  },
  {
   "cell_type": "code",
   "execution_count": null,
   "id": "7953db09",
   "metadata": {},
   "outputs": [],
   "source": [
    "with open(\"translated_tweet_\" + 'final' + \".json\", \"w\") as f:\n",
    "    json.dump(trans_tweet, f)\n",
    "with open(\"translated_tweet_ID\" + 'final' + \".json\", \"w\") as f1:\n",
    "    json.dump(trans_tweet_id, f1)"
   ]
  }
 ],
 "metadata": {
  "kernelspec": {
   "display_name": "Python 3 (ipykernel)",
   "language": "python",
   "name": "python3"
  },
  "language_info": {
   "codemirror_mode": {
    "name": "ipython",
    "version": 3
   },
   "file_extension": ".py",
   "mimetype": "text/x-python",
   "name": "python",
   "nbconvert_exporter": "python",
   "pygments_lexer": "ipython3",
   "version": "3.9.13"
  }
 },
 "nbformat": 4,
 "nbformat_minor": 5
}
