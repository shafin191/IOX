{
 "cells": [
  {
   "cell_type": "code",
   "execution_count": null,
   "id": "edbad372",
   "metadata": {},
   "outputs": [],
   "source": [
    "import os\n",
    "import pandas as pd"
   ]
  },
  {
   "cell_type": "code",
   "execution_count": null,
   "id": "d5b2cd3c",
   "metadata": {},
   "outputs": [],
   "source": [
    "pwd"
   ]
  },
  {
   "cell_type": "code",
   "execution_count": null,
   "id": "1e52c796",
   "metadata": {},
   "outputs": [],
   "source": [
    "df = pd.read_csv('/disk/mnemo/users/randomuser/SBERT All Embedding/User_Data_All/Latest_Tweet_Fake_Spreader.csv', lineterminator='\\n', dtype = str)"
   ]
  },
  {
   "cell_type": "code",
   "execution_count": null,
   "id": "7831cd94",
   "metadata": {},
   "outputs": [],
   "source": [
    "len(df.loc[df.Retweet == 'False'])"
   ]
  },
  {
   "cell_type": "code",
   "execution_count": null,
   "id": "21a66f3c",
   "metadata": {},
   "outputs": [],
   "source": [
    "df_URL = df.dropna(subset =['Tweet_URL'])"
   ]
  },
  {
   "cell_type": "code",
   "execution_count": null,
   "id": "32da2340",
   "metadata": {},
   "outputs": [],
   "source": [
    "data[2].id"
   ]
  },
  {
   "cell_type": "code",
   "execution_count": null,
   "id": "f3e86f09",
   "metadata": {},
   "outputs": [],
   "source": [
    "data[1992]"
   ]
  },
  {
   "cell_type": "code",
   "execution_count": null,
   "id": "960d40b0",
   "metadata": {},
   "outputs": [],
   "source": []
  },
  {
   "cell_type": "code",
   "execution_count": null,
   "id": "9b9e0fd9",
   "metadata": {},
   "outputs": [],
   "source": [
    "def extract_domain(url):\n",
    "    if url:\n",
    "        url = url.replace(\"https://\", \"\").replace(\"http://\", \"\")\n",
    "        domain = url.split('/')[0]\n",
    "        return domain\n",
    "    return None\n",
    "\n",
    "df_URL['Tweet_Link'] = df_URL['Tweet_URL'].apply(extract_domain)"
   ]
  },
  {
   "cell_type": "code",
   "execution_count": null,
   "id": "eb7b65da",
   "metadata": {},
   "outputs": [],
   "source": [
    "df_URL.dropna(subset = ['Retweet_Text']).Tweet_ID.tolist()"
   ]
  },
  {
   "cell_type": "code",
   "execution_count": null,
   "id": "50b691aa",
   "metadata": {},
   "outputs": [],
   "source": [
    "df_URL_Tweet = df_URL[~df_URL.Tweet_ID.isin(df_URL.dropna(subset = ['Retweet_Text']).Tweet_ID.tolist())]"
   ]
  },
  {
   "cell_type": "code",
   "execution_count": null,
   "id": "a7698cf9",
   "metadata": {},
   "outputs": [],
   "source": [
    "len(df_URL_Tweet) - 423440"
   ]
  },
  {
   "cell_type": "code",
   "execution_count": null,
   "id": "b6cc8ace",
   "metadata": {},
   "outputs": [],
   "source": [
    "df_URL_gen = df_URL_Tweet.loc[(df_URL_Tweet.Tweet_Link != 'twitter.com') &\n",
    "           (df_URL_Tweet.Tweet_Link !='youtu.be') &\n",
    "          (df_URL_Tweet.Tweet_Link != 'm.facebook.com') &\n",
    "          (df_URL_Tweet.Tweet_Link != 'facebook.com')]"
   ]
  },
  {
   "cell_type": "code",
   "execution_count": null,
   "id": "14aadbd9",
   "metadata": {},
   "outputs": [],
   "source": [
    "df_social_url = df_URL_Tweet.loc[\n",
    "           (df_URL_Tweet.Tweet_Link =='youtu.be') |\n",
    "          (df_URL_Tweet.Tweet_Link == 'm.facebook.com') |\n",
    "          (df_URL_Tweet.Tweet_Link == 'facebook.com') | \n",
    "                    (df_URL_Tweet.Tweet_Link == 'instagram.com') ]"
   ]
  },
  {
   "cell_type": "code",
   "execution_count": null,
   "id": "07b694e3",
   "metadata": {},
   "outputs": [],
   "source": [
    "df_soc_res = df_social_url.groupby('Tweet_URL').count().reset_index().sort_values('Tweet_ID')"
   ]
  },
  {
   "cell_type": "code",
   "execution_count": null,
   "id": "6488efcc",
   "metadata": {},
   "outputs": [],
   "source": [
    "df_social_url.loc[df_social_url.Tweet_URL.isin(df_soc_res.loc[df_soc_res.Tweet_ID > 1].Tweet_URL)].groupby('Tweet_URL').count()"
   ]
  },
  {
   "cell_type": "code",
   "execution_count": null,
   "id": "8f7e3f0c",
   "metadata": {},
   "outputs": [],
   "source": [
    "df_soc_res.loc[df_soc_res.Tweet_ID > 5].Tweet_URL"
   ]
  },
  {
   "cell_type": "code",
   "execution_count": null,
   "id": "5b3f2304",
   "metadata": {},
   "outputs": [],
   "source": [
    "df_URL_gen.Tweet_Link.sample(20)"
   ]
  },
  {
   "cell_type": "code",
   "execution_count": null,
   "id": "95ee847c",
   "metadata": {},
   "outputs": [],
   "source": [
    "df_URL_Tweet.loc[(df_URL_Tweet.Tweet_Link == 'youtu.be')].groupby('Tweet_URL').count().sort_values('Tweet_ID')"
   ]
  },
  {
   "cell_type": "code",
   "execution_count": null,
   "id": "eb77ce5c",
   "metadata": {},
   "outputs": [],
   "source": [
    "type(df_URL.Retweet_Text.iloc[0])"
   ]
  },
  {
   "cell_type": "code",
   "execution_count": null,
   "id": "bbbae43a",
   "metadata": {},
   "outputs": [],
   "source": [
    "df_URL_Tweet.loc[(df_URL_Tweet.Tweet_Link != 'twitter.com')]"
   ]
  },
  {
   "cell_type": "code",
   "execution_count": null,
   "id": "a00b080d",
   "metadata": {},
   "outputs": [],
   "source": [
    "def get_domain_tld(url):\n",
    "    return '.'.join(url.split('.')[-2:])\n",
    "\n",
    "df_URL_gen['Tweet_Link_2'] = df_URL_gen['Tweet_Link'].apply(get_domain_tld)\n"
   ]
  },
  {
   "cell_type": "code",
   "execution_count": null,
   "id": "ac8473e2",
   "metadata": {},
   "outputs": [],
   "source": [
    "df_URL_gen"
   ]
  },
  {
   "cell_type": "code",
   "execution_count": null,
   "id": "9e093745",
   "metadata": {},
   "outputs": [],
   "source": [
    "df_URL_gen.loc[df_URL_gen.Tweet_Link_2 == 'oneindia.com']"
   ]
  },
  {
   "cell_type": "code",
   "execution_count": null,
   "id": "32617379",
   "metadata": {},
   "outputs": [],
   "source": [
    "df_URL_gen['Tweet_Link_2'] = df_URL_gen['Tweet_Link_2'].str.lower()"
   ]
  },
  {
   "cell_type": "code",
   "execution_count": null,
   "id": "4aa9a4c5",
   "metadata": {},
   "outputs": [],
   "source": [
    "with open('/disk/mnemo/users/randomuser/USA Influence Opearations/Biased Website Links/biased_unreliable_websites.txt', 'r') as file:\n",
    "    domain_list = [line.strip() for line in file]\n",
    "\n",
    "def match_domain(expanded_url):\n",
    "    if expanded_url:  # Check if expanded_url is not empty\n",
    "        for domain in domain_list:\n",
    "            if domain == expanded_url:  # Check if domain is in the expanded_url\n",
    "                return True\n",
    "    return False"
   ]
  },
  {
   "cell_type": "code",
   "execution_count": null,
   "id": "567b6b17",
   "metadata": {},
   "outputs": [],
   "source": [
    "df_URL_gen['domain_match_Biased_Websites'] = df_URL_gen['Tweet_Link_2'].apply(match_domain)"
   ]
  },
  {
   "cell_type": "code",
   "execution_count": null,
   "id": "1d9b8677",
   "metadata": {},
   "outputs": [],
   "source": [
    "df_URL_gen.loc[df_URL_gen.domain_match_Biased_Websites == True].groupby('User_ID').count()"
   ]
  },
  {
   "cell_type": "code",
   "execution_count": null,
   "id": "01e196c6",
   "metadata": {},
   "outputs": [],
   "source": [
    "def merge_csv(path):\n",
    "    dataframes1 = []\n",
    "    for filename in os.listdir(path):\n",
    "        if filename.endswith('.csv'):\n",
    "            file_path = os.path.join(path, filename)\n",
    "            try:\n",
    "                if os.path.getsize(file_path) > 0:  # Only process non-empty files\n",
    "                    df = pd.read_csv(file_path)\n",
    "                    dataframes1.append(df)\n",
    "                else:\n",
    "                    print(f\"Skipping empty file: {filename}\")\n",
    "            except pd.errors.EmptyDataError:\n",
    "                print(f\"EmptyDataError: Skipping file {filename} as it contains no data.\")\n",
    "            except pd.errors.ParserError:\n",
    "                print(f\"ParserError: Skipping file {filename} due to parsing issues.\")\n",
    "            except Exception as e:\n",
    "                print(f\"An error occurred while reading {filename}: {e}\")\n",
    "                \n",
    "    if dataframes1:\n",
    "        final_dataframe1 = pd.concat(dataframes1, ignore_index=True)\n",
    "        print(\"All files have been concatenated successfully.\")\n",
    "    else:\n",
    "        print(\"No valid CSV files to concatenate.\")\n",
    "    \n",
    "    return final_dataframe1"
   ]
  },
  {
   "cell_type": "code",
   "execution_count": null,
   "id": "3716cff1",
   "metadata": {},
   "outputs": [],
   "source": [
    "len(domain_list)"
   ]
  },
  {
   "cell_type": "code",
   "execution_count": null,
   "id": "f2f4e7bd",
   "metadata": {},
   "outputs": [],
   "source": [
    "df_fake_usa_website = merge_csv(\"/disk/mnemo/users/randomuser/USA Influence Opearations/Fake Website Scrape/Website Dataset/List of political disinformation website campaigns in the United States - Wikipedia\")"
   ]
  },
  {
   "cell_type": "code",
   "execution_count": null,
   "id": "d2a9505e",
   "metadata": {},
   "outputs": [],
   "source": [
    "len(df_fake_usa_website.Domain.tolist())"
   ]
  },
  {
   "cell_type": "code",
   "execution_count": null,
   "id": "55963a9f",
   "metadata": {},
   "outputs": [],
   "source": [
    "len(list(set(domain_list).intersection(df_fake_usa_website.Domain.tolist())))"
   ]
  },
  {
   "cell_type": "code",
   "execution_count": null,
   "id": "2adac687",
   "metadata": {},
   "outputs": [],
   "source": [
    "df_fake_news_website_list = pd.DataFrame(domain_list)"
   ]
  },
  {
   "cell_type": "code",
   "execution_count": null,
   "id": "29ab7651",
   "metadata": {},
   "outputs": [],
   "source": [
    "df_fake_news_website_like['Source'] ='Specious Site'"
   ]
  },
  {
   "cell_type": "code",
   "execution_count": null,
   "id": "3f501dae",
   "metadata": {},
   "outputs": [],
   "source": [
    "df_fake_news_website_like = df_fake_news_website_like.rename(columns = {0: 'Domain'})"
   ]
  },
  {
   "cell_type": "code",
   "execution_count": null,
   "id": "3e14d01e",
   "metadata": {},
   "outputs": [],
   "source": [
    "len(df_fake_usa_website)"
   ]
  },
  {
   "cell_type": "code",
   "execution_count": null,
   "id": "aa9a0e12",
   "metadata": {},
   "outputs": [],
   "source": [
    "pd.concat"
   ]
  },
  {
   "cell_type": "code",
   "execution_count": null,
   "id": "904c153e",
   "metadata": {},
   "outputs": [],
   "source": [
    "df_fake_usa_website.Domain"
   ]
  },
  {
   "cell_type": "code",
   "execution_count": null,
   "id": "873ff1e9",
   "metadata": {},
   "outputs": [],
   "source": [
    "df_fake_usa_website['Domain'] = df_fake_usa_website['Domain'].str.lower()\n",
    "df_fake_usa_website['Domain'] = df_fake_usa_website['Domain'].str.replace(r'[.]', '.')"
   ]
  },
  {
   "cell_type": "code",
   "execution_count": null,
   "id": "f00ed505",
   "metadata": {},
   "outputs": [],
   "source": [
    "domain_list2 = df_fake_usa_website.Domain.to_list()"
   ]
  },
  {
   "cell_type": "code",
   "execution_count": null,
   "id": "0e877f74",
   "metadata": {},
   "outputs": [],
   "source": [
    "\n",
    "\n",
    "def remove_subdomain(domain):\n",
    "    parts = domain.split('.')\n",
    "    if len(parts) > 2:\n",
    "        return '.'.join(parts[-2:])\n",
    "    return domain\n",
    "\n",
    "df_URL_gen['Tweet_Link_2'] = df_URL_gen['Tweet_Link_2'].apply(remove_subdomain)\n",
    "\n"
   ]
  },
  {
   "cell_type": "code",
   "execution_count": null,
   "id": "049d7c34",
   "metadata": {},
   "outputs": [],
   "source": [
    "df_URL_gen['domain_match_fake_USA_website'] = False"
   ]
  },
  {
   "cell_type": "code",
   "execution_count": null,
   "id": "4a0461c2",
   "metadata": {},
   "outputs": [],
   "source": [
    "def match_domain2(expanded_url):\n",
    "    if isinstance(expanded_url, str):  \n",
    "        for domain in domain_list2:\n",
    "            \n",
    "            if isinstance(domain, str) and domain == expanded_url:  \n",
    "                return True\n",
    "    return False"
   ]
  },
  {
   "cell_type": "code",
   "execution_count": null,
   "id": "0e714d4a",
   "metadata": {},
   "outputs": [],
   "source": [
    "df_URL_gen['domain_match_fake_USA_website'] = df_URL_gen['Tweet_Link_2'].apply(match_domain2)"
   ]
  },
  {
   "cell_type": "code",
   "execution_count": null,
   "id": "9f6c4a0d",
   "metadata": {},
   "outputs": [],
   "source": [
    "df_URL_gen.loc[df_URL_gen.domain_match_fake_USA_website == True]"
   ]
  },
  {
   "cell_type": "code",
   "execution_count": null,
   "id": "c6607d0e",
   "metadata": {},
   "outputs": [],
   "source": [
    "len(df_fake_usa_international)"
   ]
  },
  {
   "cell_type": "code",
   "execution_count": null,
   "id": "ed9185ce",
   "metadata": {},
   "outputs": [],
   "source": [
    "df_fake_usa_international = merge_csv(\"/disk/mnemo/users/randomuser/USA Influence Opearations/Fake Website Scrape/Website Dataset/List of political disinformation website campaigns-Wikipedia\")"
   ]
  },
  {
   "cell_type": "code",
   "execution_count": null,
   "id": "f27273a5",
   "metadata": {},
   "outputs": [],
   "source": [
    "def match_domain3(expanded_url):\n",
    "    if isinstance(expanded_url, str):  \n",
    "        for domain in domain_list3:\n",
    "            \n",
    "            if isinstance(domain, str) and domain == expanded_url: \n",
    "                return True\n",
    "    return False\n",
    "\n",
    "df_fake_usa_international['Domain'] = df_fake_usa_international['Domain'].str.lower()\n",
    "df_fake_usa_international['Domain'] = df_fake_usa_international['Domain'].str.replace(r'[.]', '.')\n",
    "domain_list3 = df_fake_usa_international.Domain.to_list()\n",
    "df_URL_gen['domain_match_fake_International_website'] = False\n",
    "df_URL_gen['domain_match_fake_International_website'] = df_URL_gen['Tweet_Link_2'].apply(match_domain3)"
   ]
  },
  {
   "cell_type": "code",
   "execution_count": null,
   "id": "b144a72c",
   "metadata": {},
   "outputs": [],
   "source": [
    "df_URL_gen.loc[df_URL_gen.domain_match_fake_International_website == True]"
   ]
  },
  {
   "cell_type": "code",
   "execution_count": null,
   "id": "9f70c3ae",
   "metadata": {},
   "outputs": [],
   "source": [
    "domain_list3"
   ]
  },
  {
   "cell_type": "code",
   "execution_count": null,
   "id": "4c8df5b8",
   "metadata": {},
   "outputs": [],
   "source": []
  },
  {
   "cell_type": "code",
   "execution_count": null,
   "id": "d9a08ff7",
   "metadata": {},
   "outputs": [],
   "source": []
  },
  {
   "cell_type": "code",
   "execution_count": null,
   "id": "fa92e218",
   "metadata": {},
   "outputs": [],
   "source": [
    "\n",
    "def match_domain4(expanded_url):\n",
    "    if isinstance(expanded_url, str):  \n",
    "        for domain in domain_list4:\n",
    "            \n",
    "            if isinstance(domain, str) and domain == expanded_url:  \n",
    "                return True\n",
    "    return False\n",
    "\n",
    "df_fake_india = pd.read_csv(\"/disk/mnemo/users/randomuser/USA Influence Opearations/Fake Website Scrape/Website Dataset/List of political disinformation website campaigns-Wikipedia/India.csv\")\n",
    "\n",
    "df_fake_india['Domain'] = df_fake_india['Domain'].str.lower()\n",
    "df_fake_india['Domain'] = df_fake_india['Domain'].str.replace(r'[.]', '.')\n",
    "domain_list4 = df_fake_india.Domain.to_list()\n",
    "df_URL_gen['domain_match_fake_india_website'] = False\n",
    "df_URL_gen['domain_match_fake_india_website'] = df_URL_gen['Tweet_Link_2'].apply(match_domain4)"
   ]
  },
  {
   "cell_type": "code",
   "execution_count": null,
   "id": "17e479ff",
   "metadata": {},
   "outputs": [],
   "source": [
    "df_URL_gen.loc[df_URL_gen.domain_match_fake_india_website == True]"
   ]
  },
  {
   "cell_type": "code",
   "execution_count": null,
   "id": "33ae072f",
   "metadata": {},
   "outputs": [],
   "source": [
    "len(df_fake_general)"
   ]
  },
  {
   "cell_type": "code",
   "execution_count": null,
   "id": "759462aa",
   "metadata": {},
   "outputs": [],
   "source": [
    "\n",
    "def match_domain5(expanded_url):\n",
    "    if isinstance(expanded_url, str):  \n",
    "        for domain in domain_list5:\n",
    "            \n",
    "            if isinstance(domain, str) and domain == expanded_url:  \n",
    "                return True\n",
    "    return False\n",
    "\n",
    "df_fake_general = merge_csv(\"/disk/mnemo/users/randomuser/USA Influence Opearations/Fake Website Scrape/Website Dataset/List of fake news websites - Wikipedia\")\n",
    "\n",
    "df_fake_general['Domain'] = df_fake_general['Domain'].str.lower()\n",
    "df_fake_general['Domain'] = df_fake_general['Domain'].str.replace(r'[.]', '.')\n",
    "domain_list5 = df_fake_general.Domain.to_list()\n",
    "df_URL_gen['domain_match_fake_general_website'] = False\n",
    "df_URL_gen['domain_match_fake_general_website'] = df_URL_gen['Tweet_Link_2'].apply(match_domain5)"
   ]
  },
  {
   "cell_type": "code",
   "execution_count": null,
   "id": "429735c5",
   "metadata": {},
   "outputs": [],
   "source": [
    "len(df_fake_russia)"
   ]
  },
  {
   "cell_type": "code",
   "execution_count": null,
   "id": "97ec49e6",
   "metadata": {},
   "outputs": [],
   "source": [
    "df_URL_gen.loc[df_URL_gen.domain_match_fake_general_website == True].groupby('Tweet_Link_2').count()"
   ]
  },
  {
   "cell_type": "code",
   "execution_count": null,
   "id": "6c1fa044",
   "metadata": {},
   "outputs": [],
   "source": [
    "\n",
    "def match_domain6(expanded_url):\n",
    "    if isinstance(expanded_url, str):  \n",
    "        for domain in domain_list6:\n",
    "            \n",
    "            if isinstance(domain, str) and domain == expanded_url:  \n",
    "                return True\n",
    "    return False\n",
    "\n",
    "df_fake_russia = merge_csv(\"/disk/mnemo/users/randomuser/USA Influence Opearations/Fake Website Scrape/Website Dataset/List of political disinformation website campaigns in Russia-Wikipedia\")\n",
    "\n",
    "df_fake_russia['Domain'] = df_fake_russia['Domain'].str.lower()\n",
    "df_fake_russia['Domain'] = df_fake_russia['Domain'].str.replace(r'[.]', '.')\n",
    "domain_list6 = df_fake_russia.Domain.to_list()\n",
    "df_URL_gen['domain_match_fake_russia_website'] = False\n",
    "df_URL_gen['domain_match_fake_russia_website'] = df_URL_gen['Tweet_Link_2'].apply(match_domain6)"
   ]
  },
  {
   "cell_type": "code",
   "execution_count": null,
   "id": "f5a5c3f3",
   "metadata": {},
   "outputs": [],
   "source": [
    "len(df_fake_russia)"
   ]
  },
  {
   "cell_type": "code",
   "execution_count": null,
   "id": "45aa2cbc",
   "metadata": {},
   "outputs": [],
   "source": [
    "df_URL_gen.loc[df_URL_gen.domain_match_fake_russia_website == True]"
   ]
  },
  {
   "cell_type": "code",
   "execution_count": null,
   "id": "a3ef3b04",
   "metadata": {},
   "outputs": [],
   "source": [
    "df_URL_gen.loc[df_URL_gen.domain_match_fake_russia_website == True].groupby('Tweet_Link_2').count()"
   ]
  },
  {
   "cell_type": "code",
   "execution_count": null,
   "id": "03f8bf5a",
   "metadata": {},
   "outputs": [],
   "source": [
    "\n",
    "def match_domain7(expanded_url):\n",
    "    if isinstance(expanded_url, str):  \n",
    "        for domain in domain_list7:\n",
    "            \n",
    "            if isinstance(domain, str) and domain == expanded_url:  \n",
    "                return True\n",
    "    return False\n",
    "\n",
    "df_troll_website = merge_csv(\"/disk/mnemo/users/randomuser/USA Influence Opearations/Fake Website Scrape/Website Dataset/List of fake news troll farms-Wikipedia\")\n",
    "\n",
    "df_troll_website['Domain'] = df_troll_website['Domain'].str.lower()\n",
    "df_troll_website['Domain'] = df_troll_website['Domain'].str.replace(r'[.]', '.')\n",
    "domain_list7 = df_troll_website.Domain.to_list()\n",
    "df_URL_gen['domain_match_troll_website'] = False\n",
    "df_URL_gen['domain_match_troll_website'] = df_URL_gen['Tweet_Link_2'].apply(match_domain7)"
   ]
  },
  {
   "cell_type": "code",
   "execution_count": null,
   "id": "6cbbed7e",
   "metadata": {},
   "outputs": [],
   "source": [
    "df_URL_gen.loc[df_URL_gen.domain_match_troll_website == True]"
   ]
  },
  {
   "cell_type": "code",
   "execution_count": null,
   "id": "d04c00e1",
   "metadata": {},
   "outputs": [],
   "source": [
    "df_URL_gen.columns"
   ]
  },
  {
   "cell_type": "code",
   "execution_count": null,
   "id": "29f68842",
   "metadata": {},
   "outputs": [],
   "source": [
    "df_URL_gen.groupby('domain_match_troll_website').count()"
   ]
  },
  {
   "cell_type": "code",
   "execution_count": null,
   "id": "01d0d4f3",
   "metadata": {},
   "outputs": [],
   "source": [
    "print(len(df_URL_gen.loc[df_URL_gen.domain_match_Biased_Websites == True]))\n",
    "print(len(df_URL_gen.loc[df_URL_gen.domain_match_Biased_Websites == True].groupby('User_ID').count()))"
   ]
  },
  {
   "cell_type": "code",
   "execution_count": null,
   "id": "c45e695f",
   "metadata": {},
   "outputs": [],
   "source": [
    "print(len(df_URL_gen.loc[(df_URL_gen.domain_match_fake_general_website == True)|\n",
    "                         (df_URL_gen.domain_match_fake_International_website == True)|\n",
    "                        (df_URL_gen.domain_match_fake_russia_website == True)|\n",
    "                        (df_URL_gen.domain_match_fake_USA_website == True)|\n",
    "                        (df_URL_gen.domain_match_Biased_Websites == True)].groupby('User_ID').count()))"
   ]
  },
  {
   "cell_type": "code",
   "execution_count": null,
   "id": "fe29a978",
   "metadata": {},
   "outputs": [],
   "source": [
    "df_sus = df_URL_gen.loc[(df_URL_gen.domain_match_fake_general_website == True)|\n",
    "                         (df_URL_gen.domain_match_fake_International_website == True)|\n",
    "                        (df_URL_gen.domain_match_fake_russia_website == True)|\n",
    "                        (df_URL_gen.domain_match_fake_USA_website == True)|\n",
    "                        (df_URL_gen.domain_match_Biased_Websites == True)]"
   ]
  },
  {
   "cell_type": "code",
   "execution_count": null,
   "id": "867bd83d",
   "metadata": {},
   "outputs": [],
   "source": [
    "df_sus"
   ]
  },
  {
   "cell_type": "code",
   "execution_count": null,
   "id": "bf76ac42",
   "metadata": {},
   "outputs": [],
   "source": [
    "df_URL_gen.groupby('')"
   ]
  },
  {
   "cell_type": "code",
   "execution_count": null,
   "id": "46c47ac1",
   "metadata": {},
   "outputs": [],
   "source": [
    "df_campaign = pd.read_csv('All_Cluster_Tweet_Topic.csv')"
   ]
  },
  {
   "cell_type": "code",
   "execution_count": null,
   "id": "865b0e50",
   "metadata": {},
   "outputs": [],
   "source": [
    "df_campaign[['Cluster_ID', 'Tweet_ID']].astype('str')"
   ]
  },
  {
   "cell_type": "code",
   "execution_count": null,
   "id": "247371bb",
   "metadata": {},
   "outputs": [],
   "source": [
    "df_URL_gen2 = pd.merge(df_sus, df_campaign[['Cluster_ID', 'Tweet_ID']].astype('str'))"
   ]
  },
  {
   "cell_type": "code",
   "execution_count": null,
   "id": "e17c7847",
   "metadata": {},
   "outputs": [],
   "source": [
    "df_campaign.Tweet_ID.astype('str').tolist()"
   ]
  },
  {
   "cell_type": "code",
   "execution_count": null,
   "id": "de981890",
   "metadata": {},
   "outputs": [],
   "source": [
    "df_URL_gen2.groupby('domain_match_Biased_Websites').count()"
   ]
  },
  {
   "cell_type": "code",
   "execution_count": null,
   "id": "d18e74b3",
   "metadata": {},
   "outputs": [],
   "source": [
    "df_URL_gen2.loc[df_URL_gen2.domain_match_fake_International_website == True].groupby('Cluster_ID').count()"
   ]
  },
  {
   "cell_type": "code",
   "execution_count": null,
   "id": "f39a0ea6",
   "metadata": {},
   "outputs": [],
   "source": [
    "df_URL_gen2.loc[(df_URL_gen2.domain_match_fake_general_website == True)|\n",
    "                         (df_URL_gen2.domain_match_fake_International_website == True)|\n",
    "                        (df_URL_gen2.domain_match_fake_russia_website == True)|\n",
    "                        (df_URL_gen2.domain_match_fake_USA_website == True)].groupby('Cluster_ID').count()"
   ]
  },
  {
   "cell_type": "code",
   "execution_count": null,
   "id": "f0d51a48",
   "metadata": {},
   "outputs": [],
   "source": [
    "df_URL_gen2.loc[(df_URL_gen2.domain_match_fake_general_website == True)|\n",
    "                         (df_URL_gen2.domain_match_fake_International_website == True)|\n",
    "                        (df_URL_gen2.domain_match_fake_russia_website == True)|\n",
    "                        (df_URL_gen2.domain_match_fake_USA_website == True)].groupby('Tweet_Link_2').count()"
   ]
  },
  {
   "cell_type": "code",
   "execution_count": null,
   "id": "8fdf42ed",
   "metadata": {},
   "outputs": [],
   "source": [
    "print(len(df_URL_gen2.loc[(df_URL_gen2.domain_match_fake_general_website == True)|\n",
    "                         (df_URL_gen2.domain_match_fake_International_website == True)|\n",
    "                        (df_URL_gen2.domain_match_fake_russia_website == True)|\n",
    "                        (df_URL_gen2.domain_match_fake_USA_website == True)].groupby('Cluster_ID').count()))"
   ]
  },
  {
   "cell_type": "code",
   "execution_count": null,
   "id": "d8f2008f",
   "metadata": {},
   "outputs": [],
   "source": [
    "print(len(df_URL_gen2.loc[(df_URL_gen2.domain_match_fake_general_website == True)|\n",
    "                         (df_URL_gen2.domain_match_fake_International_website == True)|\n",
    "                        (df_URL_gen2.domain_match_fake_russia_website == True)|\n",
    "                        (df_URL_gen2.domain_match_fake_USA_website == True)].groupby('Cluster_ID').count()))"
   ]
  },
  {
   "cell_type": "code",
   "execution_count": null,
   "id": "021817d0",
   "metadata": {},
   "outputs": [],
   "source": [
    "len(set(domain_list + domain_list2 + domain_list3 + domain_list4 + domain_list5 + domain_list6))"
   ]
  },
  {
   "cell_type": "code",
   "execution_count": null,
   "id": "e85c9a69",
   "metadata": {},
   "outputs": [],
   "source": [
    "df_URL_gen2.groupby('User_ID').count()"
   ]
  },
  {
   "cell_type": "code",
   "execution_count": null,
   "id": "c7955479",
   "metadata": {},
   "outputs": [],
   "source": [
    "df_URL_gen2.loc[df_URL_gen2.Tweet_Link_2 == 'firstpost.com'].groupby('Cluster_ID').count()"
   ]
  },
  {
   "cell_type": "code",
   "execution_count": null,
   "id": "eae5a88d",
   "metadata": {},
   "outputs": [],
   "source": [
    "df_URL_gen2.groupby('Tweet_Link_2').count().sort_values('Tweet_ID')"
   ]
  },
  {
   "cell_type": "code",
   "execution_count": null,
   "id": "e19b7e3a",
   "metadata": {},
   "outputs": [],
   "source": [
    "df_URL_gen.groupby('Tweet_Link_2').count().sort_values('Tweet_ID')"
   ]
  },
  {
   "cell_type": "code",
   "execution_count": null,
   "id": "21b65598",
   "metadata": {},
   "outputs": [],
   "source": [
    "len(df_URL_gen.loc[df_URL_gen.domain_match_Biased_Websites == True])"
   ]
  },
  {
   "cell_type": "code",
   "execution_count": null,
   "id": "3f1d3fd3",
   "metadata": {},
   "outputs": [],
   "source": [
    "df_URL_gen.columns"
   ]
  },
  {
   "cell_type": "code",
   "execution_count": null,
   "id": "f9ef6cbf",
   "metadata": {},
   "outputs": [],
   "source": [
    "df_URL_gen2.groupby('Cluster_ID').count()"
   ]
  },
  {
   "cell_type": "code",
   "execution_count": null,
   "id": "3a6e63f1",
   "metadata": {},
   "outputs": [],
   "source": [
    "df_fake_web = (df_URL_gen2.loc[(df_URL_gen2.domain_match_fake_general_website == True)|\n",
    "                         (df_URL_gen2.domain_match_fake_International_website == True)|\n",
    "                        (df_URL_gen2.domain_match_fake_russia_website == True)|\n",
    "                        (df_URL_gen2.domain_match_fake_USA_website == True)].groupby('Cluster_ID').count()).reset_index().Cluster_ID"
   ]
  },
  {
   "cell_type": "code",
   "execution_count": null,
   "id": "a40ec3d3",
   "metadata": {},
   "outputs": [],
   "source": [
    "df_URL_gen2[df_URL_gen2.Cluster_ID.isin(df_fake_web)].User_ID"
   ]
  },
  {
   "cell_type": "code",
   "execution_count": null,
   "id": "0be9ca75",
   "metadata": {},
   "outputs": [],
   "source": [
    "df_community = pd.read_csv('Refined_Community_with_Political_Label_New_Updated.csv')"
   ]
  },
  {
   "cell_type": "code",
   "execution_count": null,
   "id": "210555aa",
   "metadata": {},
   "outputs": [],
   "source": [
    "df_community.User_ID = df_community.User_ID.astype('str')"
   ]
  },
  {
   "cell_type": "code",
   "execution_count": null,
   "id": "8a4c403a",
   "metadata": {
    "scrolled": true
   },
   "outputs": [],
   "source": [
    "df_URL_gen2[(df_URL_gen2.Cluster_ID.isin(df_fake_web)) & (df_URL_gen2.User_ID.isin(df_community.User_ID))]"
   ]
  },
  {
   "cell_type": "code",
   "execution_count": null,
   "id": "ec6fbcd8",
   "metadata": {},
   "outputs": [],
   "source": [
    "df_sus[df_sus.User_ID.isin(df_community.User_ID)].groupby('User_ID').count()"
   ]
  },
  {
   "cell_type": "code",
   "execution_count": null,
   "id": "aa0c7e99",
   "metadata": {},
   "outputs": [],
   "source": [
    "df_sus[df_sus.User_ID.isin(df_community.User_ID)]"
   ]
  },
  {
   "cell_type": "code",
   "execution_count": null,
   "id": "ce2e52bc",
   "metadata": {},
   "outputs": [],
   "source": [
    "df_community"
   ]
  },
  {
   "cell_type": "code",
   "execution_count": null,
   "id": "a4a56a67",
   "metadata": {},
   "outputs": [],
   "source": [
    "df_new = pd.merge(df_sus, df_community, on = 'User_ID')"
   ]
  },
  {
   "cell_type": "code",
   "execution_count": null,
   "id": "8aa3444a",
   "metadata": {},
   "outputs": [],
   "source": [
    "bjp_group = [0, 8, 1, 6, 15,13, 4, 14, 5]\n",
    "inc_group = [18,17,19,29,42]"
   ]
  },
  {
   "cell_type": "code",
   "execution_count": null,
   "id": "08b2056d",
   "metadata": {},
   "outputs": [],
   "source": [
    "df_new[df_new.Community_ID.isin(bjp_group) | (df_new.Community_ID.isin(inc_group))].groupby('User_ID').count()"
   ]
  },
  {
   "cell_type": "code",
   "execution_count": null,
   "id": "5cb3c0f0",
   "metadata": {},
   "outputs": [],
   "source": [
    "df_new[df_new.Community_ID.isin(bjp_group)].groupby('User_ID').count()\n"
   ]
  },
  {
   "cell_type": "code",
   "execution_count": null,
   "id": "15d3ffb2",
   "metadata": {},
   "outputs": [],
   "source": [
    "df_new[df_new.Community_ID.isin(inc_group)].Tweet_Link"
   ]
  },
  {
   "cell_type": "code",
   "execution_count": null,
   "id": "744183e1",
   "metadata": {},
   "outputs": [],
   "source": [
    "df_new_acc = df_new.drop_duplicates('User_ID')"
   ]
  },
  {
   "cell_type": "code",
   "execution_count": null,
   "id": "dc805d30",
   "metadata": {
    "scrolled": false
   },
   "outputs": [],
   "source": [
    "df_new.loc[df_new.Community_ID == 8]"
   ]
  },
  {
   "cell_type": "code",
   "execution_count": null,
   "id": "cd3b0b39",
   "metadata": {
    "scrolled": false
   },
   "outputs": [],
   "source": [
    "df_new_acc.groupby('Community_ID').count()"
   ]
  },
  {
   "cell_type": "code",
   "execution_count": null,
   "id": "dc053c18",
   "metadata": {},
   "outputs": [],
   "source": []
  }
 ],
 "metadata": {
  "kernelspec": {
   "display_name": "Python 3 (ipykernel)",
   "language": "python",
   "name": "python3"
  },
  "language_info": {
   "codemirror_mode": {
    "name": "ipython",
    "version": 3
   },
   "file_extension": ".py",
   "mimetype": "text/x-python",
   "name": "python",
   "nbconvert_exporter": "python",
   "pygments_lexer": "ipython3",
   "version": "3.9.13"
  }
 },
 "nbformat": 4,
 "nbformat_minor": 5
}
