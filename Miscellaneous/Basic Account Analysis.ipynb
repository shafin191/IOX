{
 "cells": [
  {
   "cell_type": "code",
   "execution_count": 8,
   "id": "257561dc",
   "metadata": {},
   "outputs": [],
   "source": [
    "import pandas as pd\n",
    "import matplotlib.pyplot as plt\n",
    "import numpy as np\n",
    "import time\n",
    "import re\n",
    "pd.set_option('display.max_colwidth', None)\n",
    "import pickle\n",
    "pd.set_option('display.max_columns', None)  \n",
    "import matplotlib.pyplot as plt\n",
    "import datetime"
   ]
  },
  {
   "cell_type": "code",
   "execution_count": 9,
   "id": "a58f97ec",
   "metadata": {},
   "outputs": [],
   "source": [
    "df1 = pd.read_csv('U:\\Twitter Research\\Fake News Scraping\\Basic_Twitter_Info\\Additional_Fake_Account1.csv')\n",
    "df1 = df1.drop('Unnamed: 0', axis=1)\n",
    "\n",
    "df2 = pd.read_csv('U:\\Twitter Research\\Fake News Scraping\\Basic_Twitter_Info\\Additional_Fake_Account2.csv')\n",
    "df2 = df2.drop('Unnamed: 0', axis=1)\n",
    "\n",
    "df3 = pd.read_csv('U:\\Twitter Research\\Fake News Scraping\\Basic_Twitter_Info\\Additional_Fake_Account3.csv')\n",
    "df3 = df3.drop('Unnamed: 0', axis=1)\n",
    "\n",
    "df4 = pd.read_csv('U:\\Twitter Research\\Fake News Scraping\\Basic_Twitter_Info\\Additional_Fake_Account4.csv')\n",
    "df4 = df4.drop('Unnamed: 0', axis=1)\n",
    "\n",
    "df5 = pd.read_csv('U:\\Twitter Research\\Fake News Scraping\\Basic_Twitter_Info\\Additional_Fake_Account5.csv')\n",
    "df5 = df5.drop('Unnamed: 0', axis=1)\n",
    "\n",
    "df6 = pd.read_csv('U:\\Twitter Research\\Fake News Scraping\\Basic_Twitter_Info\\Additional_Fake_Account6.csv')\n",
    "df6 = df6.drop('Unnamed: 0', axis=1)\n",
    "\n",
    "df7 = pd.read_csv('U:\\Twitter Research\\Fake News Scraping\\Basic_Twitter_Info\\Additional_Fake_Account7.csv')\n",
    "df7 = df7.drop('Unnamed: 0', axis=1)\n",
    "\n",
    "df8 = pd.read_csv('U:\\Twitter Research\\Fake News Scraping\\Basic_Twitter_Info\\Additional_Fake_Account8.csv')\n",
    "df8 = df8.drop('Unnamed: 0', axis=1)\n",
    "\n",
    "df9 = pd.read_csv('U:\\Twitter Research\\Fake News Scraping\\Basic_Twitter_Info\\Additional_Fake_Account9.csv')\n",
    "df9 = df9.drop('Unnamed: 0', axis=1)\n",
    "\n",
    "df10 = pd.read_csv('U:\\Twitter Research\\Fake News Scraping\\Basic_Twitter_Info\\Additional_Fake_Account10.csv')\n",
    "df10 = df10.drop('Unnamed: 0', axis=1)\n",
    "\n",
    "df11 = pd.read_csv('U:\\Twitter Research\\Fake News Scraping\\Basic_Twitter_Info\\Additional_Fake_Account11.csv')\n",
    "df11 = df11.drop('Unnamed: 0', axis=1)\n",
    "\n",
    "df12 = pd.read_csv('U:\\Twitter Research\\Fake News Scraping\\Basic_Twitter_Info\\Additional_Fake_Account12.csv')\n",
    "df12 = df12.drop('Unnamed: 0', axis=1)\n",
    "\n",
    "df13 = pd.read_csv('U:\\Twitter Research\\Fake News Scraping\\Basic_Twitter_Info\\Additional_Fake_Account13.csv')\n",
    "df13 = df13.drop('Unnamed: 0', axis=1)\n",
    "\n",
    "df14 = pd.read_csv('U:\\Twitter Research\\Fake News Scraping\\Basic_Twitter_Info\\Additional_Fake_Account14.csv')\n",
    "df14 = df14.drop('Unnamed: 0', axis=1)\n",
    "\n",
    "df15 = pd.read_csv('U:\\Twitter Research\\Fake News Scraping\\Basic_Twitter_Info\\Additional_Fake_Account15.csv')\n",
    "df15 = df15.drop('Unnamed: 0', axis=1)\n",
    "\n",
    "df16 = pd.read_csv('U:\\Twitter Research\\Fake News Scraping\\Basic_Twitter_Info\\FeatureSetforFakeAccounts.csv')\n",
    "df16 = df16.drop('Unnamed: 0', axis=1)\n"
   ]
  },
  {
   "cell_type": "code",
   "execution_count": 10,
   "id": "7d4488da",
   "metadata": {},
   "outputs": [],
   "source": [
    "df16 = df16.rename(columns={\"User_ID\": \"User ID\"})"
   ]
  },
  {
   "cell_type": "code",
   "execution_count": 11,
   "id": "d3a0f423",
   "metadata": {},
   "outputs": [],
   "source": [
    "merged_df = pd.concat([df1, df2, df3, df4, df5, df6, df7, df8, df9, df10, df11, df12, df13, df14, df15, df16])\n",
    "df_fake_basic = merged_df"
   ]
  },
  {
   "cell_type": "code",
   "execution_count": 12,
   "id": "fa66e087",
   "metadata": {},
   "outputs": [],
   "source": [
    "print(len(df_fake_basic))\n"
   ]
  },
  {
   "cell_type": "code",
   "execution_count": 13,
   "id": "27ca0c12",
   "metadata": {},
   "outputs": [],
   "source": [
    "df_fake_basic = df_fake_basic.reset_index(drop = True)"
   ]
  },
  {
   "cell_type": "code",
   "execution_count": 14,
   "id": "17059f7c",
   "metadata": {},
   "outputs": [],
   "source": [
    "df_fake_basic = df_fake_basic.drop_duplicates(subset=['User ID'])\n",
    "df_fake_basic = df_fake_basic.reset_index(drop = True)"
   ]
  },
  {
   "cell_type": "code",
   "execution_count": 15,
   "id": "da3c80ef",
   "metadata": {},
   "outputs": [],
   "source": [
    "len(df_fake_basic)"
   ]
  },
  {
   "cell_type": "code",
   "execution_count": 17,
   "id": "dac3d1fb",
   "metadata": {},
   "outputs": [],
   "source": [
    "df_fake_basic.to_csv('U:\\Twitter Research\\Fake News Scraping\\Basic_Twitter_Info\\Fake_Basic_Information.csv')"
   ]
  },
  {
   "cell_type": "code",
   "execution_count": 18,
   "id": "d5060958",
   "metadata": {
    "collapsed": true
   },
   "outputs": [],
   "source": [
    "df_fake_basic[0:2]"
   ]
  },
  {
   "cell_type": "code",
   "execution_count": 37,
   "id": "ec692ee6",
   "metadata": {},
   "outputs": [],
   "source": [
    "df_fake_basic['UserCreated'] = pd.to_datetime(df_fake_basic.UserCreated, format='%Y-%m-%d %H:%M:%S')"
   ]
  },
  {
   "cell_type": "code",
   "execution_count": 46,
   "id": "4ec13838",
   "metadata": {},
   "outputs": [],
   "source": [
    "df_fake_basic['UserCreated_Date'] = pd.to_datetime(df_fake_basic.UserCreated, format='%Y-%m-%d', utc=True)"
   ]
  },
  {
   "cell_type": "code",
   "execution_count": 54,
   "id": "d3c8b296",
   "metadata": {},
   "outputs": [],
   "source": [
    "df_fake_basic['UserCreated_Date'] = df_fake_basic['UserCreated_Date'].dt.date"
   ]
  },
  {
   "cell_type": "code",
   "execution_count": null,
   "id": "b4238fe7",
   "metadata": {},
   "outputs": [],
   "source": []
  },
  {
   "cell_type": "code",
   "execution_count": 55,
   "id": "e9cff5c2",
   "metadata": {},
   "outputs": [],
   "source": [
    "len(df_fake_basic.loc[df_fake_basic['AccountAgeinDays'] < 2000])"
   ]
  },
  {
   "cell_type": "code",
   "execution_count": 56,
   "id": "9e7511e1",
   "metadata": {},
   "outputs": [],
   "source": [
    "df_fake_basic['AccountAgeinDays'] = datetime.date(2022,8,22) - df_fake_basic['UserCreated_Date']\n",
    "df_fake_basic['AccountAgeinDays'] = df_fake_basic['AccountAgeinDays'].dt.days"
   ]
  },
  {
   "cell_type": "code",
   "execution_count": 58,
   "id": "8ebdf59c",
   "metadata": {},
   "outputs": [],
   "source": [
    "df_fake_basic['AveragePosts'] = df_fake_basic['TotalStatus'] / df_fake_basic['AccountAgeinDays']"
   ]
  },
  {
   "cell_type": "code",
   "execution_count": 59,
   "id": "b6e3d75a",
   "metadata": {},
   "outputs": [],
   "source": [
    "df_fake_basic['AverageFavoriteCount'] = df_fake_basic['UserFavoriteCount'] / df_fake_basic['AccountAgeinDays']"
   ]
  },
  {
   "cell_type": "code",
   "execution_count": 64,
   "id": "286dd53b",
   "metadata": {},
   "outputs": [],
   "source": [
    "df_fake_basic.to_csv('U:\\Twitter Research\\Fake News Scraping\\Basic_Twitter_Info\\Fake_Basic_Information.csv')"
   ]
  },
  {
   "cell_type": "code",
   "execution_count": 65,
   "id": "86c16a02",
   "metadata": {},
   "outputs": [],
   "source": [
    "df_fake = pd.read_csv('U:\\Twitter Research\\Fake News Scraping\\Basic_Twitter_Info\\Fake_Basic_Information.csv')"
   ]
  },
  {
   "cell_type": "code",
   "execution_count": 66,
   "id": "eda1168d",
   "metadata": {},
   "outputs": [],
   "source": [
    "df_bot =  pd.read_csv('U:\\Twitter Research\\Fake News Scraping\\Basic_Twitter_Info\\Fake_Botometer_Score_All.csv')"
   ]
  },
  {
   "cell_type": "code",
   "execution_count": 90,
   "id": "d22b1345",
   "metadata": {},
   "outputs": [],
   "source": [
    "df_fake = df_fake.rename(columns={\"User ID\": \"UserID\"})\n",
    "df_fake = df_fake.rename(columns={\"Screen Name\": \"ScreenName\"})"
   ]
  },
  {
   "cell_type": "code",
   "execution_count": 91,
   "id": "5f041f47",
   "metadata": {},
   "outputs": [],
   "source": [
    "df_fake"
   ]
  },
  {
   "cell_type": "code",
   "execution_count": 92,
   "id": "96b33693",
   "metadata": {},
   "outputs": [],
   "source": [
    "frames = [df_fake, df_bot]"
   ]
  },
  {
   "cell_type": "code",
   "execution_count": 93,
   "id": "322ab094",
   "metadata": {},
   "outputs": [],
   "source": [
    "result = pd.concat(frames)"
   ]
  },
  {
   "cell_type": "code",
   "execution_count": 94,
   "id": "2d2484e9",
   "metadata": {},
   "outputs": [],
   "source": [
    "result"
   ]
  },
  {
   "cell_type": "code",
   "execution_count": 95,
   "id": "3cd8c263",
   "metadata": {},
   "outputs": [],
   "source": [
    "result = result.drop_duplicates(subset=['UserID'], keep = False)"
   ]
  },
  {
   "cell_type": "code",
   "execution_count": 100,
   "id": "8b009516",
   "metadata": {},
   "outputs": [],
   "source": [
    "result = result[['UserID', 'ScreenName']].reset_index(drop = True)\n",
    "result.to_csv('Remaining_ID.csv')"
   ]
  }
 ],
 "metadata": {
  "kernelspec": {
   "display_name": "Python 3 (ipykernel)",
   "language": "python",
   "name": "python3"
  },
  "language_info": {
   "codemirror_mode": {
    "name": "ipython",
    "version": 3
   },
   "file_extension": ".py",
   "mimetype": "text/x-python",
   "name": "python",
   "nbconvert_exporter": "python",
   "pygments_lexer": "ipython3",
   "version": "3.9.13"
  }
 },
 "nbformat": 4,
 "nbformat_minor": 5
}
