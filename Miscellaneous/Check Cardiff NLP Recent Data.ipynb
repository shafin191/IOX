{
 "cells": [
  {
   "cell_type": "code",
   "execution_count": null,
   "id": "9c2a10f1",
   "metadata": {},
   "outputs": [],
   "source": [
    "import pandas as pd\n",
    "import matplotlib as plt\n",
    "import numpy as np\n",
    "import os\n",
    "import tweetnlp\n",
    "pd.set_option('display.max_colwidth', None)\n",
    "pd.set_option('display.max_columns', 10)\n",
    "pd.set_option('display.max_rows', 50)\n",
    "print(os.getcwd())"
   ]
  },
  {
   "cell_type": "code",
   "execution_count": null,
   "id": "f989ae3c",
   "metadata": {},
   "outputs": [],
   "source": [
    "import json"
   ]
  },
  {
   "cell_type": "code",
   "execution_count": null,
   "id": "9e34482c",
   "metadata": {},
   "outputs": [],
   "source": [
    "model_hate = tweetnlp.load_model('hate')\n",
    "model_offensive = tweetnlp.load_model('offensive')\n",
    "model_irony = tweetnlp.load_model('irony')\n",
    "model_emotion = tweetnlp.load_model('emotion')"
   ]
  },
  {
   "cell_type": "code",
   "execution_count": null,
   "id": "64b1e3b8",
   "metadata": {},
   "outputs": [],
   "source": [
    "df = pd.read_csv('New_Tweet_2024_Duplicte_Sample.csv')"
   ]
  },
  {
   "cell_type": "code",
   "execution_count": null,
   "id": "5193f035",
   "metadata": {},
   "outputs": [],
   "source": [
    "df"
   ]
  },
  {
   "cell_type": "code",
   "execution_count": null,
   "id": "6a10f6c3",
   "metadata": {},
   "outputs": [],
   "source": [
    "res_hate = model_hate.hate(df['Translated_Tweets'].tolist(), return_probability=True) "
   ]
  },
  {
   "cell_type": "code",
   "execution_count": null,
   "id": "4c7d7ac4",
   "metadata": {},
   "outputs": [],
   "source": [
    "res_offensive = model_offensive.offensive(df['Translated_Tweets'].tolist(), return_probability=True) "
   ]
  },
  {
   "cell_type": "code",
   "execution_count": null,
   "id": "ea333bc2",
   "metadata": {},
   "outputs": [],
   "source": [
    "hate_label = []\n",
    "hate_probability = []\n",
    "for i in range(len(res_hate)):\n",
    "    hate_label.append(res_hate[i]['label'])\n",
    "    hate_probability.append(res_hate[i]['probability'][res_hate[i]['label']])"
   ]
  },
  {
   "cell_type": "code",
   "execution_count": null,
   "id": "0ee69bc9",
   "metadata": {},
   "outputs": [],
   "source": [
    "hate_probability"
   ]
  },
  {
   "cell_type": "code",
   "execution_count": null,
   "id": "39b8ead5",
   "metadata": {},
   "outputs": [],
   "source": [
    "df['HS_Label'] = hate_label\n",
    "df['HS_Probability'] = hate_probability"
   ]
  },
  {
   "cell_type": "code",
   "execution_count": null,
   "id": "82f019ae",
   "metadata": {},
   "outputs": [],
   "source": [
    "offensive_label = []\n",
    "offensive_probability = []\n",
    "for i in range(len(res_offensive)):\n",
    "    offensive_label.append(res_offensive[i]['label'])\n",
    "    offensive_probability.append(res_offensive[i]['probability'][res_offensive[i]['label']])"
   ]
  },
  {
   "cell_type": "code",
   "execution_count": null,
   "id": "41e41627",
   "metadata": {},
   "outputs": [],
   "source": [
    "df['OF_Label'] = offensive_label\n",
    "df['OF_Probability'] = offensive_probability"
   ]
  },
  {
   "cell_type": "code",
   "execution_count": null,
   "id": "2ea72d7c",
   "metadata": {},
   "outputs": [],
   "source": [
    "df.to_csv('Recent_Tweet_Hate_Offensive_Updated_October14.csv', index = False)"
   ]
  },
  {
   "cell_type": "code",
   "execution_count": null,
   "id": "8e518822",
   "metadata": {},
   "outputs": [],
   "source": [
    "df.groupby('OF_Label').count()"
   ]
  },
  {
   "cell_type": "code",
   "execution_count": null,
   "id": "384680d6",
   "metadata": {},
   "outputs": [],
   "source": [
    "df.groupby('HS_Label').count()"
   ]
  },
  {
   "cell_type": "code",
   "execution_count": null,
   "id": "4bc9d517",
   "metadata": {
    "scrolled": false
   },
   "outputs": [],
   "source": [
    "df.loc[df.HS_Label == 'HATE'].HS_Probability.mean()"
   ]
  },
  {
   "cell_type": "code",
   "execution_count": null,
   "id": "49dac516",
   "metadata": {},
   "outputs": [],
   "source": [
    "df.loc[df.OF_Label == 'offensive'].OF_Probability.mean()"
   ]
  },
  {
   "cell_type": "code",
   "execution_count": null,
   "id": "57a48438",
   "metadata": {},
   "outputs": [],
   "source": [
    "len(df.loc[df.HS_Label == 'HATE'])"
   ]
  },
  {
   "cell_type": "code",
   "execution_count": null,
   "id": "beaf179f",
   "metadata": {},
   "outputs": [],
   "source": [
    "len(df.loc[df.OF_Label == 'offensive'])"
   ]
  },
  {
   "cell_type": "code",
   "execution_count": null,
   "id": "4645bdc0",
   "metadata": {},
   "outputs": [],
   "source": [
    "df['Tweet_Link'] = 'https://twitter.com/i/status/' + df['Tweet_ID'].astype('str')"
   ]
  },
  {
   "cell_type": "code",
   "execution_count": null,
   "id": "709ab108",
   "metadata": {
    "scrolled": false
   },
   "outputs": [],
   "source": [
    "df.loc[df.HS_Label == 'HATE'][['Tweet_ID', 'Cluster_ID',  'Tweet_Link', 'text',]].iloc[50:]"
   ]
  },
  {
   "cell_type": "code",
   "execution_count": null,
   "id": "6192dd02",
   "metadata": {},
   "outputs": [],
   "source": []
  }
 ],
 "metadata": {
  "kernelspec": {
   "display_name": "Python 3 (ipykernel)",
   "language": "python",
   "name": "python3"
  },
  "language_info": {
   "codemirror_mode": {
    "name": "ipython",
    "version": 3
   },
   "file_extension": ".py",
   "mimetype": "text/x-python",
   "name": "python",
   "nbconvert_exporter": "python",
   "pygments_lexer": "ipython3",
   "version": "3.9.13"
  }
 },
 "nbformat": 4,
 "nbformat_minor": 5
}
