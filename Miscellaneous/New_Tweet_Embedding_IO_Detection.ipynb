{
 "cells": [
  {
   "cell_type": "code",
   "execution_count": null,
   "id": "6e7a3355-dacc-416f-91cb-ade94f639e5c",
   "metadata": {},
   "outputs": [],
   "source": [
    "import pandas as pd\n",
    "from sentence_transformers import SentenceTransformer, util\n",
    "import pandas as pd\n",
    "import numpy as np\n",
    "import time\n",
    "from sklearn.metrics.pairwise import cosine_similarity\n",
    "import torch\n",
    "import re\n",
    "import sys"
   ]
  },
  {
   "cell_type": "code",
   "execution_count": null,
   "id": "dc9d91e9-f162-43db-bacf-64e994e28a97",
   "metadata": {},
   "outputs": [],
   "source": [
    "pwd"
   ]
  },
  {
   "cell_type": "code",
   "execution_count": null,
   "id": "ca85d1eb-1afb-447f-97bb-0d16c520cb85",
   "metadata": {},
   "outputs": [],
   "source": [
    "model = SentenceTransformer(\"paraphrase-multilingual-MiniLM-L12-v2\", device='cuda:0')"
   ]
  },
  {
   "cell_type": "code",
   "execution_count": null,
   "id": "4826ca05-beac-4804-8909-57b44a9d0024",
   "metadata": {},
   "outputs": [],
   "source": [
    "\n",
    "print(sys.version)"
   ]
  },
  {
   "cell_type": "code",
   "execution_count": null,
   "id": "224020cb-acae-497e-bc02-f5723e08558f",
   "metadata": {},
   "outputs": [],
   "source": [
    "start = time.time()\n",
    "sentences = [\n",
    "    \"The weather is lovely today.\",\n",
    "    \"It's so sunny outside!\",\n",
    "    \"He drove to the stadium.\",\n",
    "]*1000\n",
    "\n",
    "embeddings = model.encode(sentences)\n",
    "print(embeddings.shape)\n",
    "end = time.time()\n",
    "print((end - start)/60)"
   ]
  },
  {
   "cell_type": "code",
   "execution_count": null,
   "id": "6470bec0-0837-400b-8ee2-156f74b2a732",
   "metadata": {},
   "outputs": [],
   "source": [
    "start = time.time()\n",
    "pool = model.start_multi_process_pool()\n",
    "\n",
    "emb = model.encode_multi_process(sentences, pool)\n",
    "print(\"Embeddings computed. Shape:\", emb.shape)\n",
    "\n",
    "end = time.time()\n",
    "print((end - start)/60)"
   ]
  },
  {
   "cell_type": "code",
   "execution_count": null,
   "id": "ee3e55b3-4e82-435b-942c-4d75e4145122",
   "metadata": {},
   "outputs": [],
   "source": [
    "sentences = [\n",
    "    \"The weather is lovely today.\",\n",
    "    \"It's so sunny outside!\",\n",
    "    \"He drove to the stadium.\",\n",
    "]*10"
   ]
  },
  {
   "cell_type": "code",
   "execution_count": null,
   "id": "fed22510-8851-4750-9903-754a469254e3",
   "metadata": {},
   "outputs": [],
   "source": []
  },
  {
   "cell_type": "code",
   "execution_count": null,
   "id": "0a2d577b-207d-4b09-bc89-8617c28fa445",
   "metadata": {
    "scrolled": true
   },
   "outputs": [],
   "source": []
  },
  {
   "cell_type": "code",
   "execution_count": null,
   "id": "f044d935-c2b0-4ddb-b529-45cf1fa03f3d",
   "metadata": {},
   "outputs": [],
   "source": [
    "df_data = pd.read_csv('2024_Tweets_Group.csv', dtype = 'str')"
   ]
  },
  {
   "cell_type": "code",
   "execution_count": null,
   "id": "8f5cc9ab-cad0-4def-a409-bb5da48b47d6",
   "metadata": {
    "scrolled": true
   },
   "outputs": [],
   "source": [
    "df_data"
   ]
  },
  {
   "cell_type": "code",
   "execution_count": null,
   "id": "8b5026d1-7817-4274-848e-7d16ada9fdc6",
   "metadata": {},
   "outputs": [],
   "source": [
    "print(len(df_data.drop_duplicates('Tweet_ID')))"
   ]
  },
  {
   "cell_type": "code",
   "execution_count": null,
   "id": "32421119-c700-4fc0-938c-025e67d941f7",
   "metadata": {},
   "outputs": [],
   "source": [
    "df_data_only_tweet = df_data.loc[df_data.is_retweet == 'False']"
   ]
  },
  {
   "cell_type": "code",
   "execution_count": null,
   "id": "9fafee7f-b2fa-4630-889a-7091f9b60356",
   "metadata": {},
   "outputs": [],
   "source": [
    "print(len(df_data_only_tweet))"
   ]
  },
  {
   "cell_type": "code",
   "execution_count": null,
   "id": "e7856ce2-d81f-4f80-abcc-778cfeee5d02",
   "metadata": {},
   "outputs": [],
   "source": [
    "df_cluster = df_data_only_tweet"
   ]
  },
  {
   "cell_type": "code",
   "execution_count": null,
   "id": "f91a6ac1-63ed-44f4-81e7-e01b7aeaa29e",
   "metadata": {},
   "outputs": [],
   "source": [
    "df_cluster.columns"
   ]
  },
  {
   "cell_type": "code",
   "execution_count": null,
   "id": "f7cb275e-9f2a-403e-b0da-6af91a14e70a",
   "metadata": {},
   "outputs": [],
   "source": [
    "df_cluster = df_cluster.dropna(subset=['Tweet_ID'])\n",
    "\n",
    "df_cluster['Text_without_Link'] = df_cluster['text'].apply(lambda x: re.split('https:\\/\\/.*', str(x))[0])\n",
    "df_cluster['Text_without_Link']=df_cluster['Text_without_Link'].str.replace('(@\\w+.*?)',\"\")\n",
    "df_cluster['Text_without_Link'] = df_cluster['Text_without_Link'].replace('', np.nan)\n",
    "df_cluster = df_cluster.dropna(subset=['Text_without_Link'])\n",
    "df_cluster = df_cluster[(df_cluster.Text_Lang == 'en') | (df_cluster.Text_Lang == 'hi')]\n",
    "df_cluster = df_cluster.dropna(subset=['Text_without_Link'])\n",
    "df_cluster = df_cluster.reset_index(drop = True)\n",
    "df_cluster['Text_Size'] = df_cluster.Text_without_Link.apply(lambda x: len(x))\n",
    "df_cluster = df_cluster.loc[df_cluster.Text_Size >= 20]"
   ]
  },
  {
   "cell_type": "code",
   "execution_count": null,
   "id": "d8ab8153-90e1-4631-881f-45a8b03216d2",
   "metadata": {
    "scrolled": true
   },
   "outputs": [],
   "source": [
    "df_cluster"
   ]
  },
  {
   "cell_type": "code",
   "execution_count": null,
   "id": "9f30224e-1915-4196-bc40-2815626c39ce",
   "metadata": {},
   "outputs": [],
   "source": [
    "model = SentenceTransformer(\"paraphrase-multilingual-MiniLM-L12-v2\", device='cuda:0')\n",
    "model.max_seq_length = 280\n",
    "model.do_lower_case =  True"
   ]
  },
  {
   "cell_type": "code",
   "execution_count": null,
   "id": "15e15fd1-e7e9-4309-a4d1-27abae0d102c",
   "metadata": {},
   "outputs": [],
   "source": [
    "df_cluster = df_cluster.reset_index(drop = True)"
   ]
  },
  {
   "cell_type": "code",
   "execution_count": null,
   "id": "139a07b9-f733-43f4-bda0-c3d0357be899",
   "metadata": {},
   "outputs": [],
   "source": [
    "all_text = df_cluster.Text_without_Link.tolist()"
   ]
  },
  {
   "cell_type": "code",
   "execution_count": null,
   "id": "2070dace-e135-4538-a218-377e9217c03d",
   "metadata": {
    "scrolled": true
   },
   "outputs": [],
   "source": [
    "all_text"
   ]
  },
  {
   "cell_type": "code",
   "execution_count": null,
   "id": "5e9a6e05-eed3-4123-a56b-fe8d2765c840",
   "metadata": {
    "scrolled": true
   },
   "outputs": [],
   "source": [
    "df_cluster"
   ]
  },
  {
   "cell_type": "code",
   "execution_count": null,
   "id": "213fc2ba-e39a-4b6d-a4e5-deba252df30a",
   "metadata": {},
   "outputs": [],
   "source": [
    "i = 0\n",
    "embeddings = model.encode(all_text[i*3000:(i+1)*3000])\n",
    "\n",
    "\n"
   ]
  },
  {
   "cell_type": "code",
   "execution_count": null,
   "id": "09f44c1b-ff2b-4796-be2a-a1d275309ef4",
   "metadata": {},
   "outputs": [],
   "source": [
    "embeddings"
   ]
  },
  {
   "cell_type": "code",
   "execution_count": null,
   "id": "5aed87d2-6530-4818-a3c3-8ffbcf753e45",
   "metadata": {},
   "outputs": [],
   "source": [
    "embeddings.shape"
   ]
  },
  {
   "cell_type": "code",
   "execution_count": null,
   "id": "1cdfcf12-c0a3-4fae-8448-64d155fd9a51",
   "metadata": {},
   "outputs": [],
   "source": [
    "start = time.time()\n",
    "for i in range(1, 62):\n",
    "    embeddings_temp = model.encode(all_text[i*3000:(i+1)*3000])\n",
    "    embeddings = np.append(embeddings,embeddings_temp, axis=0)\n",
    "\n",
    "end = time.time()\n",
    "print((end - start)/60)"
   ]
  },
  {
   "cell_type": "code",
   "execution_count": null,
   "id": "6a84908b-bf92-49ed-a8f0-fd5695e6f213",
   "metadata": {},
   "outputs": [],
   "source": [
    "len(df_cluster.Text_without_Link)"
   ]
  },
  {
   "cell_type": "code",
   "execution_count": null,
   "id": "e45190b8-47ac-4765-a02c-f7fdb66001c8",
   "metadata": {},
   "outputs": [],
   "source": [
    "embeddings.shape"
   ]
  },
  {
   "cell_type": "code",
   "execution_count": null,
   "id": "2269acd1-7dbd-4d0c-a04b-5bc8f90db63e",
   "metadata": {},
   "outputs": [],
   "source": []
  },
  {
   "cell_type": "code",
   "execution_count": null,
   "id": "29c34f53-fbdf-4aa6-89a8-27f5089140b0",
   "metadata": {},
   "outputs": [],
   "source": [
    "f_set = ['Tweet_ID']\n",
    "for i in range(0,384):\n",
    "    f_set.append('F' + str(i))\n",
    "df_embedding = pd.DataFrame(columns=f_set)\n",
    "df_embedding['Tweet_ID'] =df_cluster['Tweet_ID']\n",
    "\n",
    "emb_df = pd.DataFrame(embeddings)\n",
    "df_embedding.iloc[:,1:] = emb_df.iloc[:,:]"
   ]
  },
  {
   "cell_type": "code",
   "execution_count": null,
   "id": "63217d25-7e29-4c41-a668-a0b277743944",
   "metadata": {},
   "outputs": [],
   "source": [
    "emb_df = pd.DataFrame(embeddings)\n",
    "df_embedding.iloc[:,1:] = emb_df.iloc[:,:]"
   ]
  },
  {
   "cell_type": "code",
   "execution_count": null,
   "id": "9597b73d-dea1-42d1-8eb0-51089f3b2d3b",
   "metadata": {},
   "outputs": [],
   "source": [
    "df_embedding"
   ]
  },
  {
   "cell_type": "code",
   "execution_count": null,
   "id": "4e1516db-859d-4bc9-8857-e8aae61a09e2",
   "metadata": {},
   "outputs": [],
   "source": [
    "df_embedding"
   ]
  },
  {
   "cell_type": "code",
   "execution_count": null,
   "id": "59394cbe-4124-4269-83ea-652dd0da6e39",
   "metadata": {},
   "outputs": [],
   "source": [
    "pwd"
   ]
  },
  {
   "cell_type": "code",
   "execution_count": null,
   "id": "62d588ea-dc74-475c-b291-4661b2406ed3",
   "metadata": {},
   "outputs": [],
   "source": [
    "zz = df_embedding.iloc[:,1:].to_numpy()"
   ]
  },
  {
   "cell_type": "code",
   "execution_count": null,
   "id": "41e51fa4-62f6-46c1-981b-e531313fe1b2",
   "metadata": {},
   "outputs": [],
   "source": [
    "zz.shape"
   ]
  },
  {
   "cell_type": "code",
   "execution_count": null,
   "id": "dca105cf-2fe8-4af0-842b-f0e376a48e7d",
   "metadata": {},
   "outputs": [],
   "source": [
    "zz"
   ]
  },
  {
   "cell_type": "code",
   "execution_count": null,
   "id": "77c12136-a06c-49ce-99b0-bd50f8044162",
   "metadata": {},
   "outputs": [],
   "source": [
    "from sklearn.cluster import DBSCAN\n",
    "start = time.time()\n",
    "clustering = DBSCAN(eps=1, min_samples=2,n_jobs=-1).fit(zz)\n",
    "end = time.time()\n",
    "print(end-start)"
   ]
  },
  {
   "cell_type": "code",
   "execution_count": null,
   "id": "97da2dcc-87be-4630-93fc-9e68f1778f30",
   "metadata": {},
   "outputs": [],
   "source": [
    "ew = clustering.labels_\n",
    "ew_pd = pd.DataFrame(ew)\n",
    "ew_pd['Tweet_ID'] = df_embedding['Tweet_ID']"
   ]
  },
  {
   "cell_type": "code",
   "execution_count": null,
   "id": "1518a000-9653-4b3a-a53c-3256148220ce",
   "metadata": {},
   "outputs": [],
   "source": [
    "ew_pd"
   ]
  },
  {
   "cell_type": "code",
   "execution_count": null,
   "id": "27d66038-de25-45c1-9d79-66c3981d8597",
   "metadata": {},
   "outputs": [],
   "source": [
    "ew"
   ]
  },
  {
   "cell_type": "code",
   "execution_count": null,
   "id": "dc0d4751-2419-4059-adda-d77b4c331ea8",
   "metadata": {},
   "outputs": [],
   "source": [
    "ew_pd"
   ]
  },
  {
   "cell_type": "code",
   "execution_count": null,
   "id": "4ad938cf-1da4-4d41-b660-eed86c335b63",
   "metadata": {},
   "outputs": [],
   "source": [
    "df_cluster_final =ew_pd.rename(columns = {0:'Cluster_ID'})"
   ]
  },
  {
   "cell_type": "code",
   "execution_count": null,
   "id": "ef5619c6-adbe-4f1a-bc5f-bbb60c65852a",
   "metadata": {},
   "outputs": [],
   "source": [
    "df_cluster_final.loc[df_cluster_final.Cluster_ID == 19]\n",
    "    "
   ]
  },
  {
   "cell_type": "code",
   "execution_count": null,
   "id": "33863f6a-ef15-4b5c-b95e-8e3340fd77e8",
   "metadata": {},
   "outputs": [],
   "source": [
    "df_cluster_updated_small = df_cluster_updated.loc[df_cluster_updated.Cluster_ID != -1][['User_ID', 'Tweet_ID', 'favorite_count', 'retweet_count', 'View_Count', 'Cluster_ID']]"
   ]
  },
  {
   "cell_type": "code",
   "execution_count": null,
   "id": "f2cf64c5-229e-49f0-ad9f-691c0296ee9b",
   "metadata": {},
   "outputs": [],
   "source": [
    "df_cluster_updated_small_valid = df_cluster_updated_small.replace(np.nan, 0)"
   ]
  },
  {
   "cell_type": "code",
   "execution_count": null,
   "id": "7948629a-0e58-4bbc-8798-c75417b4914b",
   "metadata": {},
   "outputs": [],
   "source": [
    "df_cluster_updated_small_valid.dtypes"
   ]
  },
  {
   "cell_type": "code",
   "execution_count": null,
   "id": "999b1976-952e-4227-9953-920e4d7c46b3",
   "metadata": {},
   "outputs": [],
   "source": [
    "df_cluster_updated_small_valid = df_cluster_updated_small_valid.astype(int)"
   ]
  },
  {
   "cell_type": "code",
   "execution_count": null,
   "id": "c798b904-7c48-43df-9a70-525e98d0634c",
   "metadata": {},
   "outputs": [],
   "source": [
    "df_engagement = df_cluster_updated_small_valid.groupby('Cluster_ID').sum().reset_index()[['Cluster_ID', 'favorite_count', 'retweet_count','View_Count']]"
   ]
  },
  {
   "cell_type": "code",
   "execution_count": null,
   "id": "b7307535-0589-4331-8043-fc1381fb3220",
   "metadata": {},
   "outputs": [],
   "source": [
    "df_cluster_count = df_cluster_updated_small_valid.groupby('Cluster_ID').count().reset_index()"
   ]
  },
  {
   "cell_type": "code",
   "execution_count": null,
   "id": "7e554aa5-cc26-4326-903e-3d3fa8b9d5e5",
   "metadata": {},
   "outputs": [],
   "source": []
  },
  {
   "cell_type": "code",
   "execution_count": null,
   "id": "012f7f74-1a3f-46f5-83f5-01dc5e69b9d8",
   "metadata": {},
   "outputs": [],
   "source": [
    "df_cluster_count = df_cluster_count[['Cluster_ID', 'User_ID']].rename(columns = {'User_ID': 'Size'})"
   ]
  },
  {
   "cell_type": "code",
   "execution_count": null,
   "id": "87992a93-cf4c-4538-b33c-755027c8961a",
   "metadata": {},
   "outputs": [],
   "source": [
    "df_engage_drive = pd.merge(df_cluster_count, df_engagement)"
   ]
  },
  {
   "cell_type": "code",
   "execution_count": null,
   "id": "c05109a2-15b6-49db-97ab-4efc324a0c1a",
   "metadata": {},
   "outputs": [],
   "source": [
    "df_engage_drive.View_Count.median()"
   ]
  },
  {
   "cell_type": "code",
   "execution_count": null,
   "id": "32e6e0ba-8d7f-4e36-a418-d18676bdaf87",
   "metadata": {},
   "outputs": [],
   "source": [
    "df_engage_drive.Size.mean()"
   ]
  },
  {
   "cell_type": "code",
   "execution_count": null,
   "id": "8e9ee1af-1248-48ac-af04-130afc1604df",
   "metadata": {},
   "outputs": [],
   "source": [
    "df_engage_drive.describe()"
   ]
  },
  {
   "cell_type": "code",
   "execution_count": null,
   "id": "dcff3c19-f27c-43a2-9004-efc46f7562d0",
   "metadata": {},
   "outputs": [],
   "source": [
    "df_engage_drive.favorite_count.median()"
   ]
  },
  {
   "cell_type": "code",
   "execution_count": null,
   "id": "e578e3ea-2b71-418e-8c43-ff88c0789de0",
   "metadata": {},
   "outputs": [],
   "source": [
    "df_engage_drive.retweet_count.median()"
   ]
  },
  {
   "cell_type": "code",
   "execution_count": null,
   "id": "ff112c13-eda9-47e0-a8dd-edc6145cd6f2",
   "metadata": {},
   "outputs": [],
   "source": [
    "import matplotlib.pyplot as plt\n",
    "df_engage_drive.View_Count.hist(bins = 20)\n",
    "plt.show()"
   ]
  },
  {
   "cell_type": "code",
   "execution_count": null,
   "id": "451e9912-cbd1-427e-a54a-f5a338764887",
   "metadata": {},
   "outputs": [],
   "source": [
    "\n",
    "df_engage_drive['cdf'] = df_engage_drive['View_Count'].value_counts(normalize=True).sort_index().cumsum()\n",
    "\n",
    "print(df_engage_drive)"
   ]
  },
  {
   "cell_type": "code",
   "execution_count": null,
   "id": "2a2a510e-4af8-479a-bcb7-e63cf9cf21d9",
   "metadata": {},
   "outputs": [],
   "source": [
    "df_check = df_engage_drive['View_Count'].sort_values().reset_index(drop = True)"
   ]
  },
  {
   "cell_type": "code",
   "execution_count": null,
   "id": "4f590566-27f2-4f47-b755-185eb972f7dd",
   "metadata": {},
   "outputs": [],
   "source": [
    "df_check = pd.DataFrame(df_check)"
   ]
  },
  {
   "cell_type": "code",
   "execution_count": null,
   "id": "a5a71b75-0fb9-4f76-b376-6697473c45dc",
   "metadata": {},
   "outputs": [],
   "source": [
    "stats_df = df_check.groupby('View_Count')['View_Count'].agg('count').pipe(pd.DataFrame).rename(columns = {'View_Count': 'frequency'})\n"
   ]
  },
  {
   "cell_type": "code",
   "execution_count": null,
   "id": "d4cb1f91-d300-46e8-ac62-7ea99c120a30",
   "metadata": {},
   "outputs": [],
   "source": [
    "stats_df['pdf'] = stats_df['frequency'] / sum(stats_df['frequency'])\n",
    "\n",
    "stats_df['cdf'] = stats_df['pdf'].cumsum()\n",
    "stats_df = stats_df.reset_index()\n",
    "stats_df"
   ]
  },
  {
   "cell_type": "code",
   "execution_count": null,
   "id": "31fda557-3fad-47b4-9183-55b0cebca144",
   "metadata": {},
   "outputs": [],
   "source": [
    "stats_df.plot(x = 'View_Count', y = ['pdf', 'cdf'], grid = True)"
   ]
  },
  {
   "cell_type": "code",
   "execution_count": null,
   "id": "f56e7c92-d8a5-4515-acf2-f28e4851c4ac",
   "metadata": {},
   "outputs": [],
   "source": [
    "import matplotlib.pyplot as plt\n",
    "\n",
    "df_engage_drive.plot(x='cdf', y='View_Count', drawstyle='steps-post')\n",
    "plt.show()"
   ]
  },
  {
   "cell_type": "code",
   "execution_count": null,
   "id": "c3bf9934-863d-4ba1-923b-e398bef3af63",
   "metadata": {},
   "outputs": [],
   "source": [
    "df_engage_drive.loc[df_engage_drive.Size == 2].View_Count.median()"
   ]
  },
  {
   "cell_type": "code",
   "execution_count": null,
   "id": "3c563e24-9972-4de0-9d2f-466a4e86f73d",
   "metadata": {},
   "outputs": [],
   "source": [
    "df_engage_drive.loc[df_engage_drive.View_Count >= 3500]"
   ]
  },
  {
   "cell_type": "code",
   "execution_count": null,
   "id": "20e74765-892a-4b8a-b653-f2637b40ee3b",
   "metadata": {
    "scrolled": true
   },
   "outputs": [],
   "source": [
    "df_cluster_updated = pd.merge(df_cluster, df_cluster_final)"
   ]
  },
  {
   "cell_type": "code",
   "execution_count": null,
   "id": "17fe7a2c-ad22-4d21-bf10-505b187bcc28",
   "metadata": {},
   "outputs": [],
   "source": [
    "df_cluster_updated.loc[df_cluster_updated.Cluster_ID != -1].to_csv('Check_Link.csv', index = False)"
   ]
  },
  {
   "cell_type": "code",
   "execution_count": null,
   "id": "20e06658-c550-4318-b36b-6928eb5ff6b2",
   "metadata": {},
   "outputs": [],
   "source": [
    "pwd"
   ]
  },
  {
   "cell_type": "code",
   "execution_count": null,
   "id": "2f6f3124-89fb-463c-b1f1-cf466e4adf74",
   "metadata": {},
   "outputs": [],
   "source": [
    "df_group = pd.read_csv('Updated_Group_2024.csv', dtype = str)"
   ]
  },
  {
   "cell_type": "code",
   "execution_count": null,
   "id": "8c923501-1eb3-4984-b14d-0a62a1496fb0",
   "metadata": {},
   "outputs": [],
   "source": [
    "from collections import Counter\n",
    "ugroup = []\n",
    "ucluster = []\n",
    "for i in range(0, 9587):\n",
    "    total_account = len(df_cluster_updated.loc[df_cluster_updated.Cluster_ID == i].User_ID.unique().tolist())\n",
    "    acc_in_dup = df_cluster_updated.loc[df_cluster_updated.Cluster_ID == i].User_ID.unique().tolist()\n",
    "    group_id = df_group[df_group.User_ID.isin(acc_in_dup)].Community_ID.tolist()\n",
    "    if len(group_id) > 0:\n",
    "        counter = Counter(group_id)\n",
    "        most_common_element, count = counter.most_common(1)[0]\n",
    "        if count >= total_account/2:\n",
    "            ugroup.append(most_common_element)\n",
    "        else:\n",
    "            ugroup.append('-1')\n",
    "    else:\n",
    "        ugroup.append('-1')\n",
    "    ucluster.append(i)\n",
    "        \n",
    "    "
   ]
  },
  {
   "cell_type": "code",
   "execution_count": null,
   "id": "09ef8060-3cf5-424b-b75e-09453592cc32",
   "metadata": {},
   "outputs": [],
   "source": [
    "group_id"
   ]
  },
  {
   "cell_type": "code",
   "execution_count": null,
   "id": "7422be71-ddf2-41fe-996e-f3d71625a246",
   "metadata": {},
   "outputs": [],
   "source": [
    "acc_in_dup = df_cluster_updated.loc[df_cluster_updated.Cluster_ID == 0].User_ID.unique().tolist()"
   ]
  },
  {
   "cell_type": "code",
   "execution_count": null,
   "id": "a5b1159d-aa5b-423d-a797-24fb3f7a24c9",
   "metadata": {},
   "outputs": [],
   "source": []
  },
  {
   "cell_type": "code",
   "execution_count": null,
   "id": "db981b65-83a3-4e6b-b79c-89479dc89433",
   "metadata": {},
   "outputs": [],
   "source": [
    "df_group = pd.read_csv('Updated_Group_2024.csv', dtype = str)"
   ]
  },
  {
   "cell_type": "code",
   "execution_count": null,
   "id": "7b7cf60f-5c89-4a5e-bc82-4c1c13067828",
   "metadata": {},
   "outputs": [],
   "source": [
    "group_id = df_group[df_group.User_ID.isin(acc_in_dup)].Community_ID.tolist()"
   ]
  },
  {
   "cell_type": "code",
   "execution_count": null,
   "id": "6e3cfd86-a091-43b9-a2b6-de6abe4bfa5f",
   "metadata": {},
   "outputs": [],
   "source": [
    "\n",
    "counter = Counter(group_id)\n",
    "\n",
    "most_common_element, count = counter.most_common(1)[0]\n",
    "\n",
    "print(\"Most occurring element:\", most_common_element)\n",
    "print(\"Number of occurrences:\", count)"
   ]
  },
  {
   "cell_type": "code",
   "execution_count": null,
   "id": "112ccf77-f7e8-435c-b1f2-19a41239d336",
   "metadata": {},
   "outputs": [],
   "source": [
    "type(most_common_element)"
   ]
  },
  {
   "cell_type": "code",
   "execution_count": null,
   "id": "c2f2b83a-f96b-40ac-acbe-b6b71bb491b4",
   "metadata": {},
   "outputs": [],
   "source": [
    "df_control_camp = pd.DataFrame(ugroup, ucluster).reset_index()"
   ]
  },
  {
   "cell_type": "code",
   "execution_count": null,
   "id": "61f57b28-bf9d-43bb-b565-bb495c146911",
   "metadata": {},
   "outputs": [],
   "source": [
    "df_control_camp = df_control_camp.rename(columns = {'index': 'Cluster_ID', 0: 'Group_ID' })"
   ]
  },
  {
   "cell_type": "code",
   "execution_count": null,
   "id": "7250fe38-5f1b-4b22-af22-96cad064688c",
   "metadata": {},
   "outputs": [],
   "source": [
    "df_control_camp.loc[df_control_camp.Group_ID != '-1'].groupby('Group_ID').count()"
   ]
  },
  {
   "cell_type": "code",
   "execution_count": null,
   "id": "30632cc3-0472-49f4-9836-962f821a4aa9",
   "metadata": {},
   "outputs": [],
   "source": []
  },
  {
   "cell_type": "code",
   "execution_count": null,
   "id": "c7941e3f-2955-4482-b454-d4de460c49f2",
   "metadata": {},
   "outputs": [],
   "source": [
    "bjp_group = [0,1,8, 6, 15, 13, 4, 14, 5]\n",
    "inc_group = [17, 18, 19, 29, 42]"
   ]
  },
  {
   "cell_type": "code",
   "execution_count": null,
   "id": "01dba2f4-7554-4651-9d63-9cb14b57f5c5",
   "metadata": {},
   "outputs": [],
   "source": []
  },
  {
   "cell_type": "code",
   "execution_count": null,
   "id": "27257a35-bb9d-4bfb-b116-c5237e35e935",
   "metadata": {},
   "outputs": [],
   "source": [
    "from transformers import pipeline\n",
    "\n",
    "pipe2 = pipeline(\"translation\", model=\"facebook/nllb-200-distilled-600M\", \n",
    "                 src_lang='hin_Deva', \n",
    "                 tgt_lang='eng_Latn',max_length = 500, device='cuda:0')"
   ]
  },
  {
   "cell_type": "code",
   "execution_count": null,
   "id": "9540aa80-4531-45ac-a68c-8e65c663078e",
   "metadata": {},
   "outputs": [],
   "source": [
    "texts = [\"रेलवे निजीकरण हटाओ सरकारी नौकरी बचाओ आरक्षण बचाओ संविधान बचाओ। #SaveRailwaySaveNation\",\n",
    "        \"मैं आशा करता हूं कि आगे और भी ज्यादा संख्या में महिलाएं पुलिस सेवा में शामिल होंगी, हमारे देश की \",\n",
    "         \"तिरंगे संग भारत जोड़ने के लिए निकला जनता का हुजूम.\"]"
   ]
  },
  {
   "cell_type": "code",
   "execution_count": null,
   "id": "735be733-bfad-49d1-b93a-9899d7442989",
   "metadata": {},
   "outputs": [],
   "source": [
    "for text in texts:\n",
    "    print(pipe2(text))"
   ]
  },
  {
   "cell_type": "code",
   "execution_count": null,
   "id": "d668184c-4c96-4f73-9c0c-be77627f8883",
   "metadata": {},
   "outputs": [],
   "source": [
    "df_cluster_unique = df_cluster_updated.loc[df_cluster_updated.Cluster_ID != -1].drop_duplicates('Cluster_ID')"
   ]
  },
  {
   "cell_type": "code",
   "execution_count": null,
   "id": "fc22cf28-a202-470b-bffa-1b31000dfe8a",
   "metadata": {
    "scrolled": true
   },
   "outputs": [],
   "source": [
    "translation = pipe2(df_cluster_unique.Text_without_Link.tolist()[0:10])"
   ]
  },
  {
   "cell_type": "code",
   "execution_count": null,
   "id": "3833ac65-b970-4110-bab2-3c51222cd8b3",
   "metadata": {},
   "outputs": [],
   "source": [
    "df_cluster_unique_hindi = df_cluster_unique.loc[df_cluster_unique.Text_Lang == 'hi']"
   ]
  },
  {
   "cell_type": "code",
   "execution_count": null,
   "id": "5b758c9f-6b9b-4b15-9fcd-edda1a576152",
   "metadata": {},
   "outputs": [],
   "source": [
    "pipe2"
   ]
  },
  {
   "cell_type": "code",
   "execution_count": null,
   "id": "bec97ce0-14f0-4be5-b4fe-5a7ec9337acc",
   "metadata": {},
   "outputs": [],
   "source": [
    "start = time.time()\n",
    "translation = pipe2(df_cluster_unique_hindi.Text_without_Link.tolist()[0:100])\n",
    "end = time.time()\n",
    "print(end - start)"
   ]
  },
  {
   "cell_type": "code",
   "execution_count": null,
   "id": "29ef9b4a-31e3-45f0-a448-7469fa08ddcb",
   "metadata": {},
   "outputs": [],
   "source": [
    "df_cluster_unique.Text_without_Link.tolist()[0]"
   ]
  },
  {
   "cell_type": "code",
   "execution_count": null,
   "id": "9a5cde45-4253-4183-a61f-8a06ca09ffda",
   "metadata": {},
   "outputs": [],
   "source": [
    "translation"
   ]
  },
  {
   "cell_type": "code",
   "execution_count": null,
   "id": "3f7d10de-18d3-4c0e-9228-29183d438ee5",
   "metadata": {},
   "outputs": [],
   "source": [
    "k = 0\n",
    "df_cluster_unique_hindi[ 'Translated_Tweets'] = 'Empty Tweet'\n",
    "start = time.time()\n",
    "for index, row in df_cluster_unique_hindi.iterrows():\n",
    "    df_cluster_unique_hindi.at[index, 'Translated_Tweets'] = pipe2(row['Text_without_Link'])[0]['translation_text']\n",
    "    k = k + 1\n",
    "\n",
    "end = time.time()\n",
    "print(end - start)"
   ]
  },
  {
   "cell_type": "code",
   "execution_count": null,
   "id": "8c5e0971-69d6-4b43-ba88-b940afa5ed26",
   "metadata": {},
   "outputs": [],
   "source": []
  },
  {
   "cell_type": "code",
   "execution_count": null,
   "id": "ea762274-06c9-4c09-bfb1-af01a4fd37dc",
   "metadata": {},
   "outputs": [],
   "source": [
    "df_cluster_unique_hindi[['Tweet_ID', 'Translated_Tweets']]"
   ]
  },
  {
   "cell_type": "code",
   "execution_count": null,
   "id": "fb3297cf-d4f0-430d-93d2-f303aeda11de",
   "metadata": {},
   "outputs": [],
   "source": [
    "df_cluster_unique = pd.merge(df_cluster_unique, df_cluster_unique_hindi[['Tweet_ID', 'Translated_Tweets']], how = 'left', on = 'Tweet_ID')"
   ]
  },
  {
   "cell_type": "code",
   "execution_count": null,
   "id": "5d7dfed4-b5a7-4449-aa2b-6302ec515b85",
   "metadata": {},
   "outputs": [],
   "source": []
  },
  {
   "cell_type": "code",
   "execution_count": null,
   "id": "f059c995-fd22-4b63-a311-be8be69ea7fd",
   "metadata": {},
   "outputs": [],
   "source": []
  },
  {
   "cell_type": "code",
   "execution_count": null,
   "id": "f5ec353d-2e17-4f2c-a63c-b0825935e1ce",
   "metadata": {},
   "outputs": [],
   "source": [
    "df_cluster_unique['Translated_Tweets'].fillna(df_cluster_unique['Text_without_Link'], inplace=True)"
   ]
  },
  {
   "cell_type": "code",
   "execution_count": null,
   "id": "447add6d-fb7a-4d13-baab-d0b622388dbf",
   "metadata": {},
   "outputs": [],
   "source": []
  },
  {
   "cell_type": "code",
   "execution_count": null,
   "id": "2877a157-6a87-482b-9f59-7b772009ff91",
   "metadata": {},
   "outputs": [],
   "source": [
    "import re\n",
    "def remove_twitter_mentions(text):\n",
    "    \"\"\"Removes Twitter mentions from a string.\"\"\"\n",
    "    return re.sub(r'@\\w+', '', text)\n",
    "\n",
    "def remove_links(text):\n",
    "    return re.sub(r'http\\S+', '', text)"
   ]
  },
  {
   "cell_type": "code",
   "execution_count": null,
   "id": "4bf35363-f9bd-417b-ae02-7ad4337ac154",
   "metadata": {},
   "outputs": [],
   "source": [
    "df_cluster_unique['Refined_Text'] = df_cluster_unique['Translated_Tweets'].apply(remove_twitter_mentions)\n",
    "df_cluster_unique['Refined_Text']=df_cluster_unique['Refined_Text'].apply(remove_links)"
   ]
  },
  {
   "cell_type": "code",
   "execution_count": null,
   "id": "95cefd54-8f15-47fd-84ef-8903719d3a83",
   "metadata": {},
   "outputs": [],
   "source": [
    "docs = df_cluster_unique['Refined_Text'].tolist()"
   ]
  },
  {
   "cell_type": "code",
   "execution_count": null,
   "id": "8e4ebe5c-e325-4bfd-9f64-b968e719f390",
   "metadata": {
    "scrolled": true
   },
   "outputs": [],
   "source": [
    "docs"
   ]
  },
  {
   "cell_type": "code",
   "execution_count": null,
   "id": "f9c9aefa-d8dd-42ce-86ef-5abf28b39d49",
   "metadata": {},
   "outputs": [],
   "source": [
    "from bertopic.representation import KeyBERTInspired\n",
    "from bertopic import BERTopic\n",
    "from hdbscan import HDBSCAN"
   ]
  },
  {
   "cell_type": "code",
   "execution_count": null,
   "id": "2e89df91-9afb-4687-bc8a-82363b6f9dcc",
   "metadata": {},
   "outputs": [],
   "source": []
  },
  {
   "cell_type": "code",
   "execution_count": null,
   "id": "7df19087-5b7d-4cb8-b2fd-5610a2cc0b86",
   "metadata": {},
   "outputs": [],
   "source": [
    "hdbscan_model = HDBSCAN(min_cluster_size=2, metric='euclidean', \n",
    "                        cluster_selection_method='eom', prediction_data=True, min_samples=2)\n",
    "representation_model = KeyBERTInspired()\n",
    "topic_model = BERTopic(representation_model=representation_model, language=\"multilingual\", hdbscan_model=hdbscan_model)"
   ]
  },
  {
   "cell_type": "code",
   "execution_count": null,
   "id": "673bc011-b65d-427a-99bb-ce771276b833",
   "metadata": {},
   "outputs": [],
   "source": [
    "topics, probs = topic_model.fit_transform(docs)"
   ]
  },
  {
   "cell_type": "code",
   "execution_count": null,
   "id": "0f8e8ea3-264a-48d1-80e3-a6110b0c78c0",
   "metadata": {},
   "outputs": [],
   "source": [
    "len(topics)"
   ]
  },
  {
   "cell_type": "code",
   "execution_count": null,
   "id": "0a8fda91-67e3-46ca-9410-aa01b47653ec",
   "metadata": {},
   "outputs": [],
   "source": [
    "topic_model.save('Bert_Topic_Model_2024', serialization='pickle', save_embedding_model=True, save_ctfidf=True)"
   ]
  },
  {
   "cell_type": "code",
   "execution_count": null,
   "id": "f8c13d30-2730-4181-a9d2-49e8d4b59ed0",
   "metadata": {},
   "outputs": [],
   "source": [
    "topic_model"
   ]
  },
  {
   "cell_type": "code",
   "execution_count": null,
   "id": "a925c350-0964-4fd9-9d00-38e807e33cc6",
   "metadata": {},
   "outputs": [],
   "source": [
    "len(df_cluster_unique)"
   ]
  },
  {
   "cell_type": "code",
   "execution_count": null,
   "id": "44f57a28-a858-4794-a09e-b712bc025fd6",
   "metadata": {},
   "outputs": [],
   "source": [
    "new_topics = topic_model.reduce_outliers(docs, topics, probabilities=probs, strategy=\"probabilities\")"
   ]
  },
  {
   "cell_type": "code",
   "execution_count": null,
   "id": "5d803f82-2cd5-4c5a-af1f-1188b761bba7",
   "metadata": {},
   "outputs": [],
   "source": [
    "topic_model.get_topic_info().to_csv('Topic_2024_Duplicate_Found.csv')"
   ]
  },
  {
   "cell_type": "code",
   "execution_count": null,
   "id": "ceae2bf5-357f-447c-a9a6-b1a5eb8f955c",
   "metadata": {},
   "outputs": [],
   "source": [
    "len(set(new_topics))"
   ]
  },
  {
   "cell_type": "code",
   "execution_count": null,
   "id": "cdb75514-5587-49f4-b5ee-5418762f08c9",
   "metadata": {},
   "outputs": [],
   "source": [
    "df_cluster_unique['Actual_Topic'] = topics\n",
    "df_cluster_unique['Reduced_Topic'] = new_topics"
   ]
  },
  {
   "cell_type": "code",
   "execution_count": null,
   "id": "27936f9b-a8fc-4566-bff2-089d1ba6097a",
   "metadata": {},
   "outputs": [],
   "source": [
    "df_cluster_unique.to_csv('New_Duplicate_2024_Topic.csv', index = False)"
   ]
  },
  {
   "cell_type": "code",
   "execution_count": null,
   "id": "52117c2e-0ac7-437b-ad0b-2141804b16de",
   "metadata": {},
   "outputs": [],
   "source": []
  },
  {
   "cell_type": "code",
   "execution_count": null,
   "id": "84275a16-957e-4c4b-8031-b39ecb2825cd",
   "metadata": {},
   "outputs": [],
   "source": [
    "topic_model.get_topic(similar_topics[0])"
   ]
  },
  {
   "cell_type": "code",
   "execution_count": null,
   "id": "94dfdfbb-0ffc-4f48-9db5-028b1e54f08a",
   "metadata": {},
   "outputs": [],
   "source": [
    "similar_topics"
   ]
  },
  {
   "cell_type": "code",
   "execution_count": null,
   "id": "291958cf-b81b-4681-9bc3-efdade2cbced",
   "metadata": {},
   "outputs": [],
   "source": []
  },
  {
   "cell_type": "code",
   "execution_count": null,
   "id": "09a26349-9a69-4c16-a65d-5eeb7660a465",
   "metadata": {},
   "outputs": [],
   "source": [
    "df_cluster_unique.columns"
   ]
  },
  {
   "cell_type": "code",
   "execution_count": null,
   "id": "23c8e48e-3ab1-4969-b1f9-0a409b7d2523",
   "metadata": {},
   "outputs": [],
   "source": [
    "df_cluster_unique  = pd.merge(df_cluster_unique,df_control_camp)"
   ]
  },
  {
   "cell_type": "code",
   "execution_count": null,
   "id": "b4065b00-d9fd-4a18-9443-af3d42e0b015",
   "metadata": {},
   "outputs": [],
   "source": [
    "df_cluster_unique14 = df_cluster_unique.loc[df_cluster_unique.Group_ID != '-1']"
   ]
  },
  {
   "cell_type": "code",
   "execution_count": null,
   "id": "5a8c2109-9ab1-4e36-aed5-33fc5c8b312c",
   "metadata": {},
   "outputs": [],
   "source": [
    "bjp_group = ['0','1','8', '6', '15', '13', '4', '14', '5']\n",
    "inc_group = ['17', '18', '19', '29', '42']"
   ]
  },
  {
   "cell_type": "code",
   "execution_count": null,
   "id": "e0ec3cd9-665b-4739-a63e-f4331e43702c",
   "metadata": {
    "scrolled": true
   },
   "outputs": [],
   "source": [
    "df_cluster_unique14.Reduced_Topic.max()"
   ]
  },
  {
   "cell_type": "code",
   "execution_count": null,
   "id": "5ea7d7fb-3af8-439e-a8cc-95d130882890",
   "metadata": {},
   "outputs": [],
   "source": [
    "len(set(df_cluster_unique14.loc[df_cluster_unique14.Reduced_Topic == 18].Group_ID))"
   ]
  },
  {
   "cell_type": "code",
   "execution_count": null,
   "id": "a44c9046-1f4e-47ba-9faf-38ddc0d2e2e4",
   "metadata": {},
   "outputs": [],
   "source": [
    "set(inc_group)"
   ]
  },
  {
   "cell_type": "code",
   "execution_count": null,
   "id": "2ae7e5ed-63e1-42ce-b545-770ab7c868e6",
   "metadata": {},
   "outputs": [],
   "source": [
    "set(df_cluster_unique14.loc[df_cluster_unique14.Reduced_Topic == 18].Group_ID).intersection(set(inc_group))"
   ]
  },
  {
   "cell_type": "code",
   "execution_count": null,
   "id": "f6fd0fda-a4f6-4d94-9b16-58d0c14b35ce",
   "metadata": {},
   "outputs": [],
   "source": [
    "narrative = 0\n",
    "io = 0\n",
    "bjp_io = 0\n",
    "inc_io = 0\n",
    "io_inc_grp = {'17':0, '18':0, '19':0, '29':0, '42':0}\n",
    "io_bjp_grp = {'0':0,'1':0,'8':0, '6':0, '15':0, '13':0, '4':0, '14':0, '5':0}\n",
    "for i in range(0, 1051):\n",
    "    io = io + len(set(df_cluster_unique14.loc[df_cluster_unique14.Reduced_Topic == i].Group_ID))\n",
    "    inc_io_i = len(set(df_cluster_unique14.loc[df_cluster_unique14.Reduced_Topic == i].Group_ID).intersection(set(inc_group)))\n",
    "    bjp_io_i = len(set(df_cluster_unique14.loc[df_cluster_unique14.Reduced_Topic == i].Group_ID).intersection(set(bjp_group)))\n",
    "    inc_grp = set(df_cluster_unique14.loc[df_cluster_unique14.Reduced_Topic == i].Group_ID).intersection(set(inc_group))\n",
    "    bjp_grp = set(df_cluster_unique14.loc[df_cluster_unique14.Reduced_Topic == i].Group_ID).intersection(set(bjp_group))\n",
    "    for j in inc_grp:\n",
    "        io_inc_grp[j] =  io_inc_grp[j] + 1\n",
    "    for j in bjp_grp:\n",
    "        io_bjp_grp[j] =  io_bjp_grp[j] + 1\n",
    "\n",
    "    inc_io = inc_io + inc_io_i\n",
    "    bjp_io = bjp_io + bjp_io_i\n",
    "    if inc_io_i > 0 and bjp_io_i>0:\n",
    "        narrative = narrative + 2\n",
    "    else: \n",
    "        narrative = narrative + 1\n",
    "    "
   ]
  },
  {
   "cell_type": "code",
   "execution_count": null,
   "id": "355366ef-548c-444a-b4f5-93dbbcb1d6ea",
   "metadata": {},
   "outputs": [],
   "source": [
    "io"
   ]
  },
  {
   "cell_type": "code",
   "execution_count": null,
   "id": "e8475bcd-e22b-40a7-83dd-8544a0fc373d",
   "metadata": {},
   "outputs": [],
   "source": [
    "narrative"
   ]
  },
  {
   "cell_type": "code",
   "execution_count": null,
   "id": "28bb269a-ae18-42ce-8f85-194b6366b227",
   "metadata": {},
   "outputs": [],
   "source": [
    "bjp_io"
   ]
  },
  {
   "cell_type": "code",
   "execution_count": null,
   "id": "d10ba1a4-186e-41a8-914f-cb922fc650f4",
   "metadata": {},
   "outputs": [],
   "source": [
    "inc_io"
   ]
  },
  {
   "cell_type": "code",
   "execution_count": null,
   "id": "de2eb9e0-3814-4504-958a-bbb37f1a1075",
   "metadata": {},
   "outputs": [],
   "source": [
    "io"
   ]
  },
  {
   "cell_type": "code",
   "execution_count": null,
   "id": "74309dfb-b355-40ae-8170-ee2aee2b50ff",
   "metadata": {},
   "outputs": [],
   "source": [
    "io_inc_grp\n"
   ]
  },
  {
   "cell_type": "code",
   "execution_count": null,
   "id": "37638a1c-4435-470d-b9a6-753942ef9765",
   "metadata": {},
   "outputs": [],
   "source": [
    "io_bjp_grp"
   ]
  },
  {
   "cell_type": "code",
   "execution_count": null,
   "id": "19459e92-bc7f-448d-87b1-c7d6bdc0052e",
   "metadata": {},
   "outputs": [],
   "source": [
    "df_alt_fake_tweet_2024 = pd.read_csv('New_Fake_Tweets_2024.csv', dtype = 'str')"
   ]
  },
  {
   "cell_type": "code",
   "execution_count": null,
   "id": "34222d1f-025b-4df1-9420-54f3099487f8",
   "metadata": {},
   "outputs": [],
   "source": [
    "df_alt_fake_tweet_2024"
   ]
  },
  {
   "cell_type": "code",
   "execution_count": null,
   "id": "976e94d2-618c-4228-8fe8-4f35e08b9aaf",
   "metadata": {},
   "outputs": [],
   "source": []
  },
  {
   "cell_type": "code",
   "execution_count": null,
   "id": "368e7e62-0666-4d1c-8ab4-a2fad7b2508e",
   "metadata": {},
   "outputs": [],
   "source": [
    "\n",
    "df_cluster2 = df_alt_fake_tweet_2024\n",
    "df_cluster2 = df_cluster2.dropna(subset=['Tweet_ID'])\n",
    "df_cluster2['Text_without_Link'] = df_cluster2['text'].apply(lambda x: re.split('https:\\/\\/.*', str(x))[0])\n",
    "df_cluster2['Text_without_Link']=df_cluster2['Text_without_Link'].str.replace('(@\\w+.*?)',\"\")\n",
    "df_cluster2['Text_without_Link'] = df_cluster2['Text_without_Link'].replace('', np.nan)\n",
    "df_cluster2 = df_cluster2.dropna(subset=['Text_without_Link'])\n",
    "df_cluster2 = df_cluster2[(df_cluster2.Text_Lang == 'en') | (df_cluster2.Text_Lang == 'hi')]\n",
    "df_cluster2 = df_cluster2.dropna(subset=['Text_without_Link'])\n",
    "df_cluster2 = df_cluster2.reset_index(drop = True)\n",
    "df_cluster2['Text_Size'] = df_cluster2.Text_without_Link.apply(lambda x: len(x))\n",
    "df_cluster2 = df_cluster2.loc[df_cluster2.Text_Size >= 20]"
   ]
  },
  {
   "cell_type": "code",
   "execution_count": null,
   "id": "59f41e08-da9e-42c2-8d83-38de920e2a0b",
   "metadata": {},
   "outputs": [],
   "source": [
    "all_text2 = df_cluster2.Text_without_Link.tolist()"
   ]
  },
  {
   "cell_type": "code",
   "execution_count": null,
   "id": "8a06f8cd-2375-474c-a4c3-5f9dbe2cd41f",
   "metadata": {},
   "outputs": [],
   "source": []
  },
  {
   "cell_type": "code",
   "execution_count": null,
   "id": "c9410db2-650e-4e72-b014-79dba1965653",
   "metadata": {},
   "outputs": [],
   "source": [
    "i = 0\n",
    "embeddings2_1 = model.encode(all_text2[i*3000:(i+1)*3000])\n"
   ]
  },
  {
   "cell_type": "code",
   "execution_count": null,
   "id": "6fee2c11-1c2c-468f-a6ef-f726d86d486c",
   "metadata": {},
   "outputs": [],
   "source": [
    "embeddings2 =embeddings2_1"
   ]
  },
  {
   "cell_type": "code",
   "execution_count": null,
   "id": "05be2d45-3b12-4199-bb54-2b744402d473",
   "metadata": {},
   "outputs": [],
   "source": []
  },
  {
   "cell_type": "code",
   "execution_count": null,
   "id": "0a7c09de-d11f-4838-83c6-f1d727a02291",
   "metadata": {},
   "outputs": [],
   "source": []
  },
  {
   "cell_type": "code",
   "execution_count": null,
   "id": "37fc784f-76a9-471f-bf09-264558d0878f",
   "metadata": {},
   "outputs": [],
   "source": [
    "f_set = ['Tweet_ID']\n",
    "for i in range(0,384):\n",
    "    f_set.append('F' + str(i))\n",
    "df_embedding2 = pd.DataFrame(columns=f_set)\n",
    "df_embedding2['Tweet_ID'] =df_cluster2['Tweet_ID']\n",
    "\n",
    "emb_df2 = pd.DataFrame(embeddings2)\n",
    "df_embedding2.iloc[:,1:] = emb_df2.iloc[:,:]"
   ]
  },
  {
   "cell_type": "code",
   "execution_count": null,
   "id": "2c7329b5-1905-4467-9ab8-c8f7eb94d91f",
   "metadata": {},
   "outputs": [],
   "source": [
    "df_embedding2"
   ]
  },
  {
   "cell_type": "code",
   "execution_count": null,
   "id": "fb825ef4-9574-455a-8705-4aecd432bcae",
   "metadata": {},
   "outputs": [],
   "source": [
    "zz4 = df_embedding2.iloc[:,1:].to_numpy()"
   ]
  },
  {
   "cell_type": "code",
   "execution_count": null,
   "id": "fd52f1be-409e-47c6-ba88-255485989762",
   "metadata": {},
   "outputs": [],
   "source": [
    "from sklearn.cluster import DBSCAN\n",
    "start = time.time()\n",
    "clustering2 = DBSCAN(eps=1, min_samples=2,n_jobs=-1).fit(zz4)\n",
    "end = time.time()\n",
    "print(end-start)"
   ]
  },
  {
   "cell_type": "code",
   "execution_count": null,
   "id": "e0ef6e41-d0c0-4961-803d-d1b6514e3024",
   "metadata": {},
   "outputs": [],
   "source": [
    "ew2 = clustering2.labels_\n",
    "ew_pd2 = pd.DataFrame(ew2)\n",
    "ew_pd2['Tweet_ID'] = df_embedding2['Tweet_ID']\n",
    "df_cluster_final2 =ew_pd2.rename(columns = {0:'Cluster_ID'})"
   ]
  },
  {
   "cell_type": "code",
   "execution_count": null,
   "id": "9131d8ff-443e-43ad-a26f-5ca0cf3b4978",
   "metadata": {},
   "outputs": [],
   "source": [
    "df_cluster_final2.loc[df_cluster_final2.Cluster_ID == 2]"
   ]
  },
  {
   "cell_type": "code",
   "execution_count": null,
   "id": "8f5dde4d-8d61-478f-af8b-d5f4f695dcfa",
   "metadata": {},
   "outputs": [],
   "source": [
    "df_alt_fake_tweet_2024.loc[df_alt_fake_tweet_2024.Tweet_ID == '1622561983869640704']"
   ]
  },
  {
   "cell_type": "code",
   "execution_count": null,
   "id": "b8aa3f4b-aa82-443e-b816-9bbd19daba62",
   "metadata": {},
   "outputs": [],
   "source": [
    "len(res)"
   ]
  },
  {
   "cell_type": "code",
   "execution_count": null,
   "id": "29d5e136-882e-41db-8fea-3e18856fda22",
   "metadata": {},
   "outputs": [],
   "source": [
    "res"
   ]
  },
  {
   "cell_type": "code",
   "execution_count": null,
   "id": "50c537ac-0584-4fe8-b681-8aa1734f1bbe",
   "metadata": {},
   "outputs": [],
   "source": [
    "clustering"
   ]
  },
  {
   "cell_type": "code",
   "execution_count": null,
   "id": "85c1fc28-ff80-4868-aac7-264411802945",
   "metadata": {},
   "outputs": [],
   "source": [
    "def dbscan_predict(model, X):\n",
    "    nr_samples = X.shape[0]\n",
    "    y_new = np.ones(shape=nr_samples, dtype=int) * -1\n",
    "    model.components_ = model.components_.astype(np.float64)\n",
    "    X = X.astype(np.float64)\n",
    "\n",
    "    for i in range(nr_samples):\n",
    "\n",
    "        diff = model.components_ - X[i, :]#.reshape(1, -1)  # Reshape X[i, :] to match 2D\n",
    "        \n",
    "        dist = np.linalg.norm(diff, axis=1)  # Euclidean distance\n",
    "        shortest_dist_idx = np.argmin(dist)\n",
    "\n",
    "        if dist[shortest_dist_idx] < model.eps:\n",
    "            y_new[i] = model.labels_[model.core_sample_indices_[shortest_dist_idx]]\n",
    "\n",
    "    return y_new"
   ]
  },
  {
   "cell_type": "code",
   "execution_count": null,
   "id": "dd9e16b2-4a39-4f0b-a6ce-d1dd3479c44b",
   "metadata": {},
   "outputs": [],
   "source": [
    "import numpy as np\n",
    "import scipy as sp\n",
    "\n",
    "def dbscan_predict2(dbscan_model, X_new, metric=sp.spatial.distance.cosine):\n",
    "    y_new = np.ones(shape=len(X_new), dtype=int)*-1 \n",
    "\n",
    "    for j, x_new in enumerate(X_new):\n",
    "        for i, x_core in enumerate(dbscan_model.components_): \n",
    "            if metric(x_new, x_core) < dbscan_model.eps:\n",
    "                y_new[j] = dbscan_model.labels_[dbscan_model.core_sample_indices_[i]]\n",
    "                break\n",
    "\n",
    "    return y_new"
   ]
  },
  {
   "cell_type": "code",
   "execution_count": null,
   "id": "57a9464a-77d8-4953-a644-5927a2cd2d94",
   "metadata": {},
   "outputs": [],
   "source": [
    "from sklearn.cluster import DBSCAN\n",
    "start = time.time()\n",
    "clustering_new = DBSCAN(eps=1, min_samples=2,n_jobs=-1).fit(zz)\n",
    "end = time.time()\n",
    "print(end-start)\n",
    "\n",
    "\n",
    "result_new = dbscan_predict(clustering_new, zz4)"
   ]
  },
  {
   "cell_type": "code",
   "execution_count": null,
   "id": "56906594-7c01-4f83-bcd0-5bf7d0468241",
   "metadata": {},
   "outputs": [],
   "source": [
    "result_new"
   ]
  },
  {
   "cell_type": "code",
   "execution_count": null,
   "id": "23e06cf8-c815-471d-a16d-ca2f5dee04f0",
   "metadata": {},
   "outputs": [],
   "source": [
    "result_new = dbscan_predict(clustering_new, zz4)"
   ]
  },
  {
   "cell_type": "code",
   "execution_count": null,
   "id": "e5b9da28-a59a-494e-9105-f0394aab8fb4",
   "metadata": {},
   "outputs": [],
   "source": [
    "new_prediction = pd.DataFrame(result_new).rename(columns = {0: 'Predicted_Cluster'})\n",
    "new_prediction['Tweet_ID'] = df_embedding2['Tweet_ID']"
   ]
  },
  {
   "cell_type": "code",
   "execution_count": null,
   "id": "0c2f4831-fed1-4bba-9e00-08c13e86fb09",
   "metadata": {},
   "outputs": [],
   "source": [
    "new_prediction.loc[new_prediction.Predicted_Cluster != -1]"
   ]
  },
  {
   "cell_type": "code",
   "execution_count": null,
   "id": "c5a4e3a8-aff3-4e4a-9ae7-e875a44a8a89",
   "metadata": {},
   "outputs": [],
   "source": [
    "df_cluster_final.loc[df_cluster_final.Cluster_ID == 2248]"
   ]
  },
  {
   "cell_type": "code",
   "execution_count": null,
   "id": "c3b29745-51f6-4cf5-93ba-9f3444136f0b",
   "metadata": {},
   "outputs": [],
   "source": [
    "zz.shape"
   ]
  },
  {
   "cell_type": "code",
   "execution_count": null,
   "id": "ae29066c-3c37-4443-a587-e81eafe056d9",
   "metadata": {},
   "outputs": [],
   "source": [
    "df_cluster_final.loc[df_cluster_final.Tweet_ID.isin(df_data[df_data.Tweet_ID.isin(df_embedding2.Tweet_ID)].Tweet_ID)]"
   ]
  },
  {
   "cell_type": "code",
   "execution_count": null,
   "id": "22675fc2-af88-4a40-bdb1-b200984186af",
   "metadata": {},
   "outputs": [],
   "source": []
  },
  {
   "cell_type": "code",
   "execution_count": null,
   "id": "103c6e47-307c-49c0-b2f4-58092c768ad5",
   "metadata": {},
   "outputs": [],
   "source": [
    "df_data[df_data.Tweet_ID.isin(df_embedding2.Tweet_ID)].Tweet_ID"
   ]
  },
  {
   "cell_type": "code",
   "execution_count": null,
   "id": "b70461c2-68ed-46cb-b3ee-a3435e772a75",
   "metadata": {},
   "outputs": [],
   "source": []
  },
  {
   "cell_type": "code",
   "execution_count": null,
   "id": "f96160fa-4733-4756-88ef-b71a8178efea",
   "metadata": {},
   "outputs": [],
   "source": [
    "df_cluster_final.Tweet_ID = df_cluster_final.Tweet_ID.astype('str')"
   ]
  },
  {
   "cell_type": "code",
   "execution_count": null,
   "id": "bdd6bb5b-c287-4c22-832a-d838a38384b7",
   "metadata": {},
   "outputs": [],
   "source": [
    "df_embedding_with_cluster_id = pd.merge(df_embedding, df_cluster_final, on = 'Tweet_ID')"
   ]
  },
  {
   "cell_type": "code",
   "execution_count": null,
   "id": "9fefbd33-b957-4000-8479-c1908e92a6d9",
   "metadata": {},
   "outputs": [],
   "source": [
    "df_embedding_train = df_embedding_with_cluster_id.loc[df_embedding_with_cluster_id.Cluster_ID != -1]"
   ]
  },
  {
   "cell_type": "code",
   "execution_count": null,
   "id": "14233c8f-cbf2-4a92-8348-39dbd52fde0c",
   "metadata": {},
   "outputs": [],
   "source": [
    "df_embedding_train"
   ]
  },
  {
   "cell_type": "code",
   "execution_count": null,
   "id": "56461e18-6b64-44f0-8bf3-358d50ee78e5",
   "metadata": {},
   "outputs": [],
   "source": [
    "X = df_embedding_train.iloc[:,1:-1].to_numpy()\n",
    "y = df_embedding_train.iloc[:,-1]"
   ]
  }
 ],
 "metadata": {
  "kernelspec": {
   "display_name": "Python 3 (ipykernel)",
   "language": "python",
   "name": "python3"
  },
  "language_info": {
   "codemirror_mode": {
    "name": "ipython",
    "version": 3
   },
   "file_extension": ".py",
   "mimetype": "text/x-python",
   "name": "python",
   "nbconvert_exporter": "python",
   "pygments_lexer": "ipython3",
   "version": "3.9.13"
  }
 },
 "nbformat": 4,
 "nbformat_minor": 5
}
                                                                                                                                                                                                                                                                                                                                                                                                                                                                                                                                                                                                                                                                                                                                                                                                                                                                                                                                                                                                                                                                                                                                                                                                                                                                                                                                                                                                                                                                                                                                                                                                                                                                                                                                                                                                                                                                                                                                                                                                                                                                                                                                                                                                                                                                                                                                                                                                                                                                                                                                                                                                                                                                                                                                                                                                                                                                                                                                                                                                                                                                                                                                                                                                                                                                                                                                                                                                                                                                                                                                                                                                                                                                                                                                                                                                                                                                                                                                                                                                                                                                                                                                                                                                                                                                                                                                                                                                                                                                                                                                                                                                                                                                                                                                                                                                                                                                                                                                                                                                                                                                                                                                                                                                                                                                                                                                                                                                                                                                                                                                                                                                                                                                                                                                                                                                                                                                                                                                                                                                                                                                                                                                                                                                                                                                                                                                                                                                                                                                                                                                                                                                                                                                                                                                                                                                                                                                                                                                                                                                                                                                                                                                                                                                                                                                                                                                                                                                                                                                                                                                                                                                                                                                                                                                                                                                                                                                                                                                                                                                                                                                                                                                                                                                                                                                                                                                                                                                                                                                                                                                                                                                                                                                                                                                                                                                                                                  