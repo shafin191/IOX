{
 "cells": [
  {
   "cell_type": "code",
   "execution_count": null,
   "id": "8d3c0706",
   "metadata": {},
   "outputs": [],
   "source": [
    "import pandas as pd\n",
    "import re\n",
    "pd.set_option('display.max_colwidth', None)\n",
    "import tweepy\n",
    "import pickle\n",
    "import time\n",
    "pd.set_option('display.max_columns', None)  \n",
    "import matplotlib.pyplot as plt\n",
    "import numpy as np\n",
    "%matplotlib inline\n",
    "import matplotlib\n",
    "\n",
    "import matplotlib as mpl\n",
    "import matplotlib.pyplot as plt; plt.rcdefaults()\n",
    "import numpy as np\n",
    "import matplotlib.font_manager as font_manager\n",
    "import os\n",
    "plt.rcParams[\"font.family\"] = \"Helvetica\""
   ]
  },
  {
   "cell_type": "code",
   "execution_count": null,
   "id": "ab1c0c34",
   "metadata": {},
   "outputs": [],
   "source": [
    "df_fake_basic = pd.read_csv('U:\\Twitter Research\\Fake News Scraping\\Basic_Twitter_Info\\Fake_Basic_Information.csv')"
   ]
  },
  {
   "cell_type": "code",
   "execution_count": null,
   "id": "598637c3",
   "metadata": {},
   "outputs": [],
   "source": [
    "df_fake_basic"
   ]
  },
  {
   "cell_type": "code",
   "execution_count": null,
   "id": "2e4fe791",
   "metadata": {},
   "outputs": [],
   "source": [
    "df_fake_basic = pd.read_csv('U:\\Twitter Research\\Fake News Scraping\\Basic_Twitter_Info\\Fake_Basic_Information.csv')"
   ]
  },
  {
   "cell_type": "code",
   "execution_count": null,
   "id": "8cad6c69",
   "metadata": {},
   "outputs": [],
   "source": [
    "df_fake_bot =  pd.read_csv('U:\\Twitter Research\\Fake News Scraping\\Botometer\\Fake_Botometer_Score_All.csv')"
   ]
  },
  {
   "cell_type": "code",
   "execution_count": null,
   "id": "76ba8bac",
   "metadata": {},
   "outputs": [],
   "source": [
    "print(len(df_fake_basic))\n",
    "print(len(df_fake_bot))"
   ]
  },
  {
   "cell_type": "code",
   "execution_count": null,
   "id": "6d03053d",
   "metadata": {},
   "outputs": [],
   "source": [
    "df_fake_basic = df_fake_basic.rename(columns={'User ID':'UserID'})\n"
   ]
  },
  {
   "cell_type": "code",
   "execution_count": null,
   "id": "1211c347",
   "metadata": {},
   "outputs": [],
   "source": [
    "df_fake_basic = df_fake_basic.rename(columns={'Screen Name':'ScreenName'})\n"
   ]
  },
  {
   "cell_type": "code",
   "execution_count": null,
   "id": "338050bf",
   "metadata": {},
   "outputs": [],
   "source": [
    "df_fake_basic.loc[df_fake_basic.UserVerified == True]"
   ]
  },
  {
   "cell_type": "code",
   "execution_count": null,
   "id": "3d5e9a7b",
   "metadata": {},
   "outputs": [],
   "source": [
    "df_fake_basic.columns"
   ]
  },
  {
   "cell_type": "code",
   "execution_count": null,
   "id": "d3c6f04f",
   "metadata": {},
   "outputs": [],
   "source": [
    "df_fake_basic = df_fake_basic.drop(columns = ['Unnamed: 0', 'Unnamed: 0.1'])"
   ]
  },
  {
   "cell_type": "code",
   "execution_count": null,
   "id": "04e95a4e",
   "metadata": {},
   "outputs": [],
   "source": [
    "df_fake_basic.AveragePosts"
   ]
  },
  {
   "cell_type": "code",
   "execution_count": null,
   "id": "5acd843e",
   "metadata": {},
   "outputs": [],
   "source": [
    "df_fake_basic.UserVerified"
   ]
  },
  {
   "cell_type": "code",
   "execution_count": null,
   "id": "201553b6",
   "metadata": {},
   "outputs": [],
   "source": [
    "print(len(df_fake_bot))"
   ]
  },
  {
   "cell_type": "code",
   "execution_count": null,
   "id": "c77bcf2c",
   "metadata": {},
   "outputs": [],
   "source": [
    "df_inactive_with_verified = pd.merge(df_fake_basic, df_fake_bot, on=\"UserID\", how='inner')"
   ]
  },
  {
   "cell_type": "code",
   "execution_count": null,
   "id": "d9272c9e",
   "metadata": {},
   "outputs": [],
   "source": [
    "df_inactive_with_verified"
   ]
  },
  {
   "cell_type": "code",
   "execution_count": null,
   "id": "b8fd9bd4",
   "metadata": {},
   "outputs": [],
   "source": [
    "df_fol = df_fake_basic.UserFollowers"
   ]
  },
  {
   "cell_type": "markdown",
   "id": "0333ad39",
   "metadata": {},
   "source": [
    "# Inactive Accounts"
   ]
  },
  {
   "cell_type": "code",
   "execution_count": null,
   "id": "e00b800f",
   "metadata": {},
   "outputs": [],
   "source": [
    "\n",
    "plt.scatter(df_fake_basic.AveragePosts, np.log10(df_fol))\n",
    "plt.show()"
   ]
  },
  {
   "cell_type": "code",
   "execution_count": null,
   "id": "4ea19ad0",
   "metadata": {},
   "outputs": [],
   "source": [
    "df_fol.loc[df_fol > 10000000]"
   ]
  },
  {
   "cell_type": "code",
   "execution_count": null,
   "id": "46ed892f",
   "metadata": {},
   "outputs": [],
   "source": [
    "np.log10(47531135)"
   ]
  },
  {
   "cell_type": "code",
   "execution_count": null,
   "id": "ec436af9",
   "metadata": {},
   "outputs": [],
   "source": [
    "pow(10, 7.676978184973311,)"
   ]
  },
  {
   "cell_type": "code",
   "execution_count": null,
   "id": "81ecd15e",
   "metadata": {},
   "outputs": [],
   "source": [
    "len(df_fol.loc[df_fol > 10000000])"
   ]
  },
  {
   "cell_type": "code",
   "execution_count": null,
   "id": "64856823",
   "metadata": {},
   "outputs": [],
   "source": [
    "df_fol = df_fol.replace(0, 0.00000001)"
   ]
  },
  {
   "cell_type": "code",
   "execution_count": null,
   "id": "453df136",
   "metadata": {},
   "outputs": [],
   "source": [
    "df_inactive = pd.concat([df_fake_basic.UserID,df_fake_basic.ScreenName,  df_fake_basic.UserFollowers, df_fake_basic.AveragePosts], axis = 1)"
   ]
  },
  {
   "cell_type": "code",
   "execution_count": null,
   "id": "4b65be84",
   "metadata": {},
   "outputs": [],
   "source": [
    "df_inactive.loc[df_inactive.UserFollowers == 0]"
   ]
  },
  {
   "cell_type": "code",
   "execution_count": null,
   "id": "bdd3c6f7",
   "metadata": {},
   "outputs": [],
   "source": [
    "df_inactive_with_bot_score = pd.merge(df_inactive, df_fake_bot, on=\"UserID\", how='inner')"
   ]
  },
  {
   "cell_type": "code",
   "execution_count": null,
   "id": "14148916",
   "metadata": {},
   "outputs": [],
   "source": [
    "df_inactive_with_bot_score"
   ]
  },
  {
   "cell_type": "code",
   "execution_count": null,
   "id": "e6d2638b",
   "metadata": {},
   "outputs": [],
   "source": [
    "df_inactive_with_bot_score.columns"
   ]
  },
  {
   "cell_type": "code",
   "execution_count": null,
   "id": "480364c3",
   "metadata": {},
   "outputs": [],
   "source": [
    "df_inactive_with_bot_score = df_inactive_with_bot_score.drop(['Unnamed: 0'], axis = 1)\n",
    "df_inactive_with_bot_score = df_inactive_with_bot_score.drop(['ScreenName_y'], axis = 1)"
   ]
  },
  {
   "cell_type": "code",
   "execution_count": null,
   "id": "4c9ac5f1",
   "metadata": {},
   "outputs": [],
   "source": [
    "df_inactive_with_bot_score"
   ]
  },
  {
   "cell_type": "code",
   "execution_count": null,
   "id": "278b76e6",
   "metadata": {},
   "outputs": [],
   "source": [
    "for index, row in df_inactive_with_bot_score.iterrows():\n",
    "    if df_inactive_with_bot_score.at[index, 'CapUniversal'] > 0.65:\n",
    "        df_inactive_with_bot_score.at[index, 'CU_0.65'] = 'BOT'\n",
    "    elif df_inactive_with_bot_score.at[index, 'CapUniversal'] <= 0.65:\n",
    "        df_inactive_with_bot_score.at[index, 'CU_0.65'] = 'Non-BOT'\n",
    "        \n",
    "for index, row in df_inactive_with_bot_score.iterrows():\n",
    "    if df_inactive_with_bot_score.at[index, 'CapUniversal'] > 0.9:\n",
    "        df_inactive_with_bot_score.at[index, 'CU_0.9'] = 'BOT'\n",
    "    elif df_inactive_with_bot_score.at[index, 'CapUniversal'] <= 0.9:\n",
    "        df_inactive_with_bot_score.at[index, 'CU_0.9'] = 'Non-BOT'\n",
    "        \n",
    "for index, row in df_inactive_with_bot_score.iterrows():\n",
    "    if df_inactive_with_bot_score.at[index, 'CapUniversal'] > 0.8:\n",
    "        df_inactive_with_bot_score.at[index, 'CU_0.8'] = 'BOT'\n",
    "    elif df_inactive_with_bot_score.at[index, 'CapUniversal'] <= 0.8:\n",
    "        df_inactive_with_bot_score.at[index, 'CU_0.8'] = 'Non-BOT'"
   ]
  },
  {
   "cell_type": "code",
   "execution_count": null,
   "id": "b36d7528",
   "metadata": {},
   "outputs": [],
   "source": [
    "for index, row in df_inactive_with_verified.iterrows():\n",
    "    if df_inactive_with_verified.at[index, 'UserVerified']  == True:\n",
    "        df_inactive_with_bot_score.at[index, 'verification'] = 'Verified'\n",
    "    elif df_inactive_with_verified.at[index, 'UserVerified'] == False:\n",
    "        df_inactive_with_bot_score.at[index, 'verification'] = 'Not-verified'\n"
   ]
  },
  {
   "cell_type": "code",
   "execution_count": null,
   "id": "2d8b043d",
   "metadata": {},
   "outputs": [],
   "source": [
    "for index, row in df_inactive_with_verified.iterrows():\n",
    "    if df_inactive_with_verified.at[index, 'UserVerified']  == True:\n",
    "        df_inactive_with_bot_score.at[index, 'verification'] = 'Verified'\n",
    "    elif df_inactive_with_verified.at[index, 'UserVerified'] == False:\n",
    "        df_inactive_with_bot_score.at[index, 'verification'] = 'Not-verified'\n",
    "        "
   ]
  },
  {
   "cell_type": "code",
   "execution_count": null,
   "id": "4841a8ec",
   "metadata": {},
   "outputs": [],
   "source": [
    "len(df_inactive_with_verified)"
   ]
  },
  {
   "cell_type": "code",
   "execution_count": null,
   "id": "a8de4060",
   "metadata": {},
   "outputs": [],
   "source": []
  },
  {
   "cell_type": "code",
   "execution_count": null,
   "id": "df9599e3",
   "metadata": {},
   "outputs": [],
   "source": [
    "for index, row in df_inactive_with_bot_score.iterrows():\n",
    "    if df_inactive_with_bot_score.at[index, 'RSUOverall'] > 0.65:\n",
    "        df_inactive_with_bot_score.at[index, 'RSU_0.65'] = 'RSU over 0.65'\n",
    "    elif df_inactive_with_bot_score.at[index, 'RSUOverall'] <= 0.65:\n",
    "        df_inactive_with_bot_score.at[index, 'RSU_0.65'] = 'RSU at or below 0.65'\n",
    "        \n",
    "for index, row in df_inactive_with_bot_score.iterrows():\n",
    "    if df_inactive_with_bot_score.at[index, 'RSUOverall'] > 0.8:\n",
    "        df_inactive_with_bot_score.at[index, 'RSU_0.8'] = 'RSU over 0.8'\n",
    "    elif df_inactive_with_bot_score.at[index, 'RSUOverall'] <= 0.8:\n",
    "        df_inactive_with_bot_score.at[index, 'RSU_0.8'] = 'RSU at or below 0.8'\n",
    "        \n",
    "for index, row in df_inactive_with_bot_score.iterrows():\n",
    "    if df_inactive_with_bot_score.at[index, 'RSUOverall'] > 0.9:\n",
    "        df_inactive_with_bot_score.at[index, 'RSU_0.9'] = 'RSU over 0.9'\n",
    "    elif df_inactive_with_bot_score.at[index, 'RSUOverall'] <= 0.9:\n",
    "        df_inactive_with_bot_score.at[index, 'RSU_0.9'] = 'RSU at or below 0.9'\n",
    "        "
   ]
  },
  {
   "cell_type": "code",
   "execution_count": null,
   "id": "d98074e7",
   "metadata": {},
   "outputs": [],
   "source": [
    "for index, row in df_inactive_with_bot_score.iterrows():\n",
    "    if df_inactive_with_bot_score.at[index, 'RSEOverall'] > 0.65:\n",
    "        df_inactive_with_bot_score.at[index, 'RSE_0.65'] = 'RSE over 0.65'\n",
    "    elif df_inactive_with_bot_score.at[index, 'RSEOverall'] <= 0.65:\n",
    "        df_inactive_with_bot_score.at[index, 'RSE_0.65'] = 'RSE at or below 0.65'\n",
    "        \n",
    "for index, row in df_inactive_with_bot_score.iterrows():\n",
    "    if df_inactive_with_bot_score.at[index, 'RSEOverall'] > 0.8:\n",
    "        df_inactive_with_bot_score.at[index, 'RSE_0.8'] = 'RSE over 0.8'\n",
    "    elif df_inactive_with_bot_score.at[index, 'RSEOverall'] <= 0.8:\n",
    "        df_inactive_with_bot_score.at[index, 'RSE_0.8'] = 'RSE at or below 0.8'\n",
    "        \n",
    "for index, row in df_inactive_with_bot_score.iterrows():\n",
    "    if df_inactive_with_bot_score.at[index, 'RSEOverall'] > 0.9:\n",
    "        df_inactive_with_bot_score.at[index, 'RSE_0.9'] = 'RSE over 0.9'\n",
    "    elif df_inactive_with_bot_score.at[index, 'RSEOverall'] <= 0.9:\n",
    "        df_inactive_with_bot_score.at[index, 'RSE_0.9'] = 'RSE at or below 0.9'\n",
    "        "
   ]
  },
  {
   "cell_type": "code",
   "execution_count": null,
   "id": "b96934c7",
   "metadata": {},
   "outputs": [],
   "source": [
    "len(df_inactive_with_bot_score.loc[(df_inactive_with_bot_score.RSUOverall >= 0.9) & (df_inactive_with_bot_score.CapUniversal >= 0.9)])"
   ]
  },
  {
   "cell_type": "code",
   "execution_count": null,
   "id": "d684b290",
   "metadata": {},
   "outputs": [],
   "source": [
    "len(df_inactive_with_bot_score.loc[(df_inactive_with_bot_score.RSUOverall >= 0.7) & (df_inactive_with_bot_score.CapUniversal >= 0.7) & (df_inactive_with_bot_score.verification == 'verified')])"
   ]
  },
  {
   "cell_type": "code",
   "execution_count": null,
   "id": "b4ff0e69",
   "metadata": {},
   "outputs": [],
   "source": [
    "df_inactive_with_bot_score"
   ]
  },
  {
   "cell_type": "code",
   "execution_count": null,
   "id": "5004fe8e",
   "metadata": {},
   "outputs": [],
   "source": [
    "df_inactive_with_bot_score"
   ]
  },
  {
   "cell_type": "code",
   "execution_count": null,
   "id": "ca5e3cb9",
   "metadata": {},
   "outputs": [],
   "source": [
    "len(df_inactive_with_bot_score.loc[df_inactive_with_bot_score.CapUniversal > 0.90])"
   ]
  },
  {
   "cell_type": "code",
   "execution_count": null,
   "id": "a5f01038",
   "metadata": {},
   "outputs": [],
   "source": [
    "len(df_inactive_with_bot_score.loc[df_inactive_with_bot_score.verification == 'Verified'])"
   ]
  },
  {
   "cell_type": "code",
   "execution_count": null,
   "id": "f169482d",
   "metadata": {},
   "outputs": [],
   "source": [
    "groups = df_inactive_with_bot_score.groupby('RSU_0.65')\n",
    "fig, ax = plt.subplots(3, figsize=(10,16))\n",
    "c1 = ['g', 'r']\n",
    "i=0\n",
    "for name, group in groups:\n",
    "    ax[0].scatter(group.AveragePosts, \n",
    "                np.log10(group.UserFollowers),\n",
    "                label = name, \n",
    "                alpha=0.5,\n",
    "                facecolors='none',\n",
    "                edgecolors =c1[i], )\n",
    "    ax[0].set_xlabel(\"Average Posts per Day\")\n",
    "    ax[0].set_ylabel(\"Number of Followers (Log10 Based)\")\n",
    "    ax[0].legend()\n",
    "    \n",
    "    if i == 0:\n",
    "        ax[1].scatter(group.AveragePosts, \n",
    "                np.log10(group.UserFollowers),\n",
    "                label = name, \n",
    "                alpha=0.5,\n",
    "                facecolors='none',\n",
    "                edgecolors =c1[i], )\n",
    "        ax[1].set_xlabel(\"Average Posts per Day\")\n",
    "        ax[1].set_ylabel(\"Number of Followers (Log10 Based)\")\n",
    "        ax[1].legend()\n",
    "    \n",
    "    if i == 1:\n",
    "        ax[2].scatter(group.AveragePosts, \n",
    "                np.log10(group.UserFollowers),\n",
    "                label = name, \n",
    "                alpha=0.5,\n",
    "                facecolors='none',\n",
    "                edgecolors =c1[i], )\n",
    "        ax[2].set_xlabel(\"Average Posts per Day\")\n",
    "        ax[2].set_ylabel(\"Number of Followers (Log10 Based)\")\n",
    "        ax[2].legend()\n",
    "    \n",
    "    i=i+1\n"
   ]
  },
  {
   "cell_type": "code",
   "execution_count": null,
   "id": "79bc65d1",
   "metadata": {},
   "outputs": [],
   "source": [
    "groups = df_inactive_with_bot_score.groupby('RSU_0.9')\n",
    "fig, ax = plt.subplots(3, figsize=(10,16))\n",
    "c1 = ['g', 'r']\n",
    "i=0\n",
    "for name, group in groups:\n",
    "    ax[0].scatter(group.AveragePosts, \n",
    "                np.log10(group.UserFollowers),\n",
    "                label = name, \n",
    "                alpha=0.5,\n",
    "                facecolors=c1[i],\n",
    "                edgecolors =c1[i], )\n",
    "    ax[0].set_xlabel(\"Average Posts per Day\")\n",
    "    ax[0].set_ylabel(\"Number of Followers (Log10 Based)\")\n",
    "    ax[0].legend()\n",
    "    \n",
    "    if i == 0:\n",
    "        ax[1].scatter(group.AveragePosts, \n",
    "                np.log10(group.UserFollowers),\n",
    "                label = name, \n",
    "                alpha=0.5,\n",
    "                facecolors=c1[i],\n",
    "                edgecolors =c1[i], )\n",
    "        ax[1].set_xlabel(\"Average Posts per Day\")\n",
    "        ax[1].set_ylabel(\"Number of Followers (Log10 Based)\")\n",
    "        ax[1].legend()\n",
    "    \n",
    "    if i == 1:\n",
    "        ax[2].scatter(group.AveragePosts, \n",
    "                np.log10(group.UserFollowers),\n",
    "                label = name, \n",
    "                alpha=0.5,\n",
    "                facecolors=c1[i],\n",
    "                edgecolors =c1[i], )\n",
    "        ax[2].set_xlabel(\"Average Posts per Day\")\n",
    "        ax[2].set_ylabel(\"Number of Followers (Log10 Based)\")\n",
    "        ax[2].legend()\n",
    "    \n",
    "    i=i+1\n",
    "fig.savefig(\"Universal Bot Score_over_0.9.png\", bbox_inches=\"tight\", dpi=600, facecolor='w')\n",
    "fig.show()"
   ]
  },
  {
   "cell_type": "code",
   "execution_count": null,
   "id": "5858614e",
   "metadata": {},
   "outputs": [],
   "source": [
    "\n",
    "groups = df_inactive_with_bot_score.groupby('RSU_0.65')\n",
    "fig, ax = plt.subplots(2, figsize=(8,12))\n",
    "c1 = ['g', 'r']\n",
    "i=0\n",
    "for name, group in groups:\n",
    "    ax[0].scatter(group.AveragePosts, \n",
    "                np.log10(group.UserFollowers),\n",
    "                label = name, \n",
    "                alpha=0.5,\n",
    "                facecolors=c1[i],\n",
    "                edgecolors =c1[i], )\n",
    "    ax[0].set_xlabel(\"Average Posts per Day\", fontsize=13)\n",
    "    ax[0].set_ylabel(\"Number of Followers (Log10 Based)\", fontsize=13)\n",
    "    ax[0].legend()\n",
    "    i=i+1\n",
    "ax[0].set_title('(a) Overall Bot Score Threshold set at 0.65', fontsize=14)\n",
    "    \n",
    "groups = df_inactive_with_bot_score.groupby('RSU_0.9')\n",
    "c1 = ['g', 'r']\n",
    "i=0\n",
    "for name, group in groups:\n",
    "    ax[1].scatter(group.AveragePosts, \n",
    "                np.log10(group.UserFollowers),\n",
    "                label = name, \n",
    "                alpha=0.5,\n",
    "                facecolors=c1[i],\n",
    "                edgecolors =c1[i], )\n",
    "    ax[1].set_xlabel(\"Average Posts per Day\", fontsize=13)\n",
    "    ax[1].set_ylabel(\"Number of Followers (Log10 Based)\", fontsize=13)\n",
    "    ax[1].legend()\n",
    "    i=i+1    \n",
    "ax[1].set_title('(b) Overall Bot Score Threshold set at 0.9', fontsize=14)    \n",
    "fig.savefig(\"Universal Bot Score_over_0.9.png\", bbox_inches=\"tight\", dpi=600, facecolor='w')\n",
    "fig.show()"
   ]
  },
  {
   "cell_type": "code",
   "execution_count": null,
   "id": "97db7412",
   "metadata": {},
   "outputs": [],
   "source": [
    "df_inactive_with_verified.groupby('verification').count()"
   ]
  },
  {
   "cell_type": "code",
   "execution_count": null,
   "id": "9b582373",
   "metadata": {},
   "outputs": [],
   "source": [
    "\n",
    "groups = df_inactive_with_verified.groupby('verification')\n",
    "fig, ax = plt.subplots(1, figsize=(8,6))\n",
    "c1 = ['brown', 'blue']\n",
    "i=0\n",
    "for name, group in groups:\n",
    "    ax.scatter(group.AveragePosts, \n",
    "                np.log10(group.UserFollowers),\n",
    "                label = name, \n",
    "                alpha=0.5,\n",
    "                facecolors=c1[i],\n",
    "                edgecolors =c1[i], )\n",
    "    ax.set_xlabel(\"Average Posts per Day\", fontsize=13)\n",
    "    ax.set_ylabel(\"Number of Followers (Log10 Based)\", fontsize=13)\n",
    "    ax.legend()\n",
    "    i=i+1\n",
    "ax.set_title('Verified Account Post and Number of Followers', fontsize=14)\n",
    "\n",
    "'''    \n",
    "groups = df_inactive_with_bot_score.groupby('RSU_0.9')\n",
    "c1 = ['g', 'r']\n",
    "i=0\n",
    "for name, group in groups:\n",
    "    ax[1].scatter(group.AveragePosts, \n",
    "                np.log10(group.UserFollowers),\n",
    "                label = name, \n",
    "                alpha=0.5,\n",
    "                facecolors=c1[i],\n",
    "                edgecolors =c1[i], )\n",
    "    ax[1].set_xlabel(\"Average Posts per Day\", fontsize=13)\n",
    "    ax[1].set_ylabel(\"Number of Followers (Log10 Based)\", fontsize=13)\n",
    "    ax[1].legend()\n",
    "    i=i+1    \n",
    "ax[1].set_title('(b) Overall Bot Score Threshold set at 0.9', fontsize=14)  \n",
    "'''\n",
    "fig.savefig(\"Verification_Status.png\", bbox_inches=\"tight\", dpi=600, facecolor='w')\n",
    "fig.show()"
   ]
  },
  {
   "cell_type": "code",
   "execution_count": null,
   "id": "16264877",
   "metadata": {
    "scrolled": true
   },
   "outputs": [],
   "source": [
    "\n",
    "groups = df_inactive_with_bot_score.groupby('RSE_0.65')\n",
    "fig, ax = plt.subplots(2, figsize=(8,12))\n",
    "c1 = ['g', 'r']\n",
    "i=0\n",
    "for name, group in groups:\n",
    "    ax[0].scatter(group.AveragePosts, \n",
    "                np.log10(group.UserFollowers),\n",
    "                label = name, \n",
    "                alpha=0.5,\n",
    "                facecolors=c1[i],\n",
    "                edgecolors =c1[i], )\n",
    "    ax[0].set_xlabel(\"Average Posts per Day\", fontsize=13)\n",
    "    ax[0].set_ylabel(\"Number of Followers (Log10 Based)\", fontsize=13)\n",
    "    ax[0].legend()\n",
    "    i=i+1\n",
    "ax[0].set_title('(a) Overall Bot Score Threshold set at 0.65', fontsize=14)\n",
    "    \n",
    "groups = df_inactive_with_bot_score.groupby('RSE_0.9')\n",
    "c1 = ['g', 'r']\n",
    "i=0\n",
    "for name, group in groups:\n",
    "    ax[1].scatter(group.AveragePosts, \n",
    "                np.log10(group.UserFollowers),\n",
    "                label = name, \n",
    "                alpha=0.5,\n",
    "                facecolors=c1[i],\n",
    "                edgecolors =c1[i], )\n",
    "    ax[1].set_xlabel(\"Average Posts per Day\", fontsize=13)\n",
    "    ax[1].set_ylabel(\"Number of Followers (Log10 Based)\", fontsize=13)\n",
    "    ax[1].legend()\n",
    "    i=i+1    \n",
    "ax[1].set_title('(b) Overall Bot Score Threshold set at 0.9', fontsize=14)    \n",
    "fig.savefig(\"English Bot Score_over_0.9.png\", bbox_inches=\"tight\", dpi=600, facecolor='w')\n",
    "fig.show()"
   ]
  },
  {
   "cell_type": "code",
   "execution_count": null,
   "id": "b6e58fd2",
   "metadata": {},
   "outputs": [],
   "source": [
    "df_inactive_with_bot_score.to_csv('Fake_Accounts_with_bot_score_and_verification')"
   ]
  },
  {
   "cell_type": "code",
   "execution_count": null,
   "id": "6f0a0693",
   "metadata": {},
   "outputs": [],
   "source": [
    "df_inactive_with_bot_score_without_bot = df_inactive_with_bot_score.loc[df_inactive_with_bot_score['CU_0.9'] == 'Non-BOT']"
   ]
  },
  {
   "cell_type": "code",
   "execution_count": null,
   "id": "3831a656",
   "metadata": {},
   "outputs": [],
   "source": [
    "len(df_inactive_with_bot_score.loc\n",
    "    [df_inactive_with_bot_score['CU_0.9'] == 'BOT'])"
   ]
  },
  {
   "cell_type": "code",
   "execution_count": null,
   "id": "ced11282",
   "metadata": {},
   "outputs": [],
   "source": [
    "len(df_inactive_with_bot_score.loc[\n",
    "    df_inactive_with_bot_score['verification'] == 'Verified'])"
   ]
  },
  {
   "cell_type": "code",
   "execution_count": null,
   "id": "7bf1b828",
   "metadata": {},
   "outputs": [],
   "source": [
    "df_inactive_with_bot_score_without_verified = df_inactive_with_bot_score.loc[df_inactive_with_bot_score['verification'] == 'Not-verified']"
   ]
  },
  {
   "cell_type": "code",
   "execution_count": null,
   "id": "6b0ca497",
   "metadata": {},
   "outputs": [],
   "source": [
    "len(df_inactive_with_bot_score_without_bot)"
   ]
  },
  {
   "cell_type": "code",
   "execution_count": null,
   "id": "bd45a10e",
   "metadata": {},
   "outputs": [],
   "source": [
    "len(df_inactive_with_bot_score_without_verified)"
   ]
  },
  {
   "cell_type": "code",
   "execution_count": null,
   "id": "32712626",
   "metadata": {},
   "outputs": [],
   "source": [
    "df_without_bot_and_verified = df_inactive_with_bot_score.loc[(df_inactive_with_bot_score['verification'] == 'Not-verified') & (df_inactive_with_bot_score['CU_0.9'] == 'Non-BOT')]"
   ]
  },
  {
   "cell_type": "code",
   "execution_count": null,
   "id": "e30e4ba9",
   "metadata": {},
   "outputs": [],
   "source": [
    "df_without_bot_and_verified = df_without_bot_and_verified.rename(columns = {'UserID': 'User_ID'})"
   ]
  },
  {
   "cell_type": "code",
   "execution_count": null,
   "id": "ccb29996",
   "metadata": {},
   "outputs": [],
   "source": []
  },
  {
   "cell_type": "code",
   "execution_count": null,
   "id": "8ed3e5bb",
   "metadata": {},
   "outputs": [],
   "source": []
  },
  {
   "cell_type": "code",
   "execution_count": null,
   "id": "f86e9017",
   "metadata": {},
   "outputs": [],
   "source": [
    "df_without_bot_and_verified.to_csv('Without_Bot_and_Verified.csv')"
   ]
  },
  {
   "cell_type": "code",
   "execution_count": null,
   "id": "b03f4c53",
   "metadata": {},
   "outputs": [],
   "source": [
    "df_without_bot_and_verified"
   ]
  },
  {
   "cell_type": "code",
   "execution_count": null,
   "id": "d5e1c1b4",
   "metadata": {},
   "outputs": [],
   "source": []
  },
  {
   "cell_type": "code",
   "execution_count": null,
   "id": "99becd54",
   "metadata": {},
   "outputs": [],
   "source": []
  },
  {
   "cell_type": "code",
   "execution_count": null,
   "id": "abf3e77c",
   "metadata": {},
   "outputs": [],
   "source": []
  },
  {
   "cell_type": "code",
   "execution_count": null,
   "id": "04a9d922",
   "metadata": {},
   "outputs": [],
   "source": [
    "df_inactive_with_bot_score_without_verified = df_inactive_with_bot_score.loc[df_inactive_with_bot_score['CU_0.9'] == 'Non-BOT']"
   ]
  },
  {
   "cell_type": "code",
   "execution_count": null,
   "id": "eb550e14",
   "metadata": {},
   "outputs": [],
   "source": [
    "groups = df_inactive_with_bot_score.groupby('CU_0.65')\n",
    "plt.figure(figsize=(8,8))\n",
    "c1 = ['r', 'g']\n",
    "i=0\n",
    "for name, group in groups:\n",
    "    plt.scatter(group.AveragePosts, \n",
    "                np.log10(group.UserFollowers),\n",
    "                c =c1[i], \n",
    "                label = name, \n",
    "                alpha=0.3)\n",
    "    plt.xlabel(\"Average Posts per Day\", size = 13)\n",
    "    plt.ylabel(\"Number of Followers (Log10 Based)\", size = 13)\n",
    "    plt.legend()\n",
    "    i=i+1"
   ]
  },
  {
   "cell_type": "code",
   "execution_count": null,
   "id": "8a64f387",
   "metadata": {},
   "outputs": [],
   "source": [
    "groups = df_inactive_with_bot_score.groupby('CU_0.9')\n",
    "fig, ax = plt.subplots(3, figsize=(10,16))\n",
    "c1 = ['r', 'g']\n",
    "i=0\n",
    "for name, group in groups:\n",
    "    ax[0].scatter(group.AveragePosts, \n",
    "                np.log10(group.UserFollowers),\n",
    "                label = name, \n",
    "                alpha=0.5,\n",
    "                facecolors='none',\n",
    "                edgecolors =c1[i], )\n",
    "    ax[0].set_xlabel(\"Average Posts per Day\")\n",
    "    ax[0].set_ylabel(\"Number of Followers (Log10 Based)\")\n",
    "    ax[0].legend()\n",
    "    \n",
    "    if i == 0:\n",
    "        ax[1].scatter(group.AveragePosts, \n",
    "                np.log10(group.UserFollowers),\n",
    "                label = name, \n",
    "                facecolors='none',\n",
    "                edgecolors =c1[i], )\n",
    "        ax[1].set_xlabel(\"Average Posts per Day\")\n",
    "        ax[1].set_ylabel(\"Number of Followers (Log10 Based)\")\n",
    "        ax[1].legend()\n",
    "    \n",
    "    if i == 1:\n",
    "        ax[2].scatter(group.AveragePosts, \n",
    "                np.log10(group.UserFollowers),\n",
    "                label = name, \n",
    "                facecolors='none',\n",
    "                edgecolors =c1[i], )\n",
    "        ax[2].set_xlabel(\"Average Posts per Day\")\n",
    "        ax[2].set_ylabel(\"Number of Followers (Log10 Based)\")\n",
    "        ax[2].legend()\n",
    "    \n",
    "    i=i+1\n",
    "\n",
    "\n"
   ]
  },
  {
   "cell_type": "code",
   "execution_count": null,
   "id": "c0a2bbb2",
   "metadata": {},
   "outputs": [],
   "source": [
    "groups = df_inactive_with_bot_score.groupby('CU_0.8')\n",
    "fig, ax = plt.subplots(3, figsize=(10,16))\n",
    "c1 = ['r', 'g']\n",
    "i=0\n",
    "for name, group in groups:\n",
    "    ax[0].scatter(group.AveragePosts, \n",
    "                np.log10(group.UserFollowers),\n",
    "                label = name, \n",
    "                alpha=0.5,\n",
    "                facecolors='none',\n",
    "                edgecolors =c1[i], )\n",
    "    ax[0].set_xlabel(\"Average Posts per Day\")\n",
    "    ax[0].set_ylabel(\"Number of Followers (Log10 Based)\")\n",
    "    ax[0].legend()\n",
    "    \n",
    "    if i == 0:\n",
    "        ax[1].scatter(group.AveragePosts, \n",
    "                np.log10(group.UserFollowers),\n",
    "                label = name, \n",
    "                alpha=0.5,\n",
    "                facecolors='none',\n",
    "                edgecolors =c1[i], )\n",
    "        ax[1].set_xlabel(\"Average Posts per Day\")\n",
    "        ax[1].set_ylabel(\"Number of Followers (Log10 Based)\")\n",
    "        ax[1].legend()\n",
    "    \n",
    "    if i == 1:\n",
    "        ax[2].scatter(group.AveragePosts, \n",
    "                np.log10(group.UserFollowers),\n",
    "                label = name, \n",
    "                alpha=0.5,\n",
    "                facecolors='none',\n",
    "                edgecolors =c1[i], )\n",
    "        ax[2].set_xlabel(\"Average Posts per Day\")\n",
    "        ax[2].set_ylabel(\"Number of Followers (Log10 Based)\")\n",
    "        ax[2].legend()\n",
    "    \n",
    "    i=i+1\n"
   ]
  },
  {
   "cell_type": "code",
   "execution_count": null,
   "id": "ff5bba30",
   "metadata": {},
   "outputs": [],
   "source": [
    "groups = df_inactive_with_bot_score.groupby('CU_0.8')\n",
    "b,nb = groups\n",
    "plt.figure(figsize=(8,8))\n",
    "c1 = ['r', 'g']\n",
    "i=0\n",
    "\n",
    "for name, group in groups:\n",
    "    plt.scatter(group.AveragePosts, \n",
    "                np.log10(group.UserFollowers),\n",
    "                label = name, \n",
    "                alpha=0.3,\n",
    "                facecolors='none',\n",
    "                edgecolors =c1[i], )\n",
    "    plt.xlabel(\"Average Posts per Day\", size = 13)\n",
    "    plt.ylabel(\"Number of Followers (Log10 Based)\", size = 13)\n",
    "    plt.legend()\n",
    "    i=i+1\n"
   ]
  },
  {
   "cell_type": "code",
   "execution_count": null,
   "id": "885a9061",
   "metadata": {},
   "outputs": [],
   "source": []
  },
  {
   "cell_type": "code",
   "execution_count": null,
   "id": "8e33b945",
   "metadata": {},
   "outputs": [],
   "source": []
  },
  {
   "cell_type": "code",
   "execution_count": null,
   "id": "154fd0ac",
   "metadata": {},
   "outputs": [],
   "source": [
    "groups = df_inactive_with_bot_score.groupby('RSU_0.9')\n",
    "plt.figure(figsize=(8,8))\n",
    "c1 = ['g', 'r']\n",
    "i=0\n",
    "for name, group in groups:\n",
    "    plt.scatter(group.AveragePosts, \n",
    "                np.log10(group.UserFollowers),\n",
    "                label = name, \n",
    "                alpha=0.5,\n",
    "                edgecolors =c1[i], )\n",
    "    plt.xlabel(\"Average Posts per Day\", size = 13)\n",
    "    plt.ylabel(\"Number of Followers (Log10 Based)\", size = 13)\n",
    "    plt.legend()\n",
    "    i=i+1\n"
   ]
  },
  {
   "cell_type": "code",
   "execution_count": null,
   "id": "c7a36ea5",
   "metadata": {},
   "outputs": [],
   "source": [
    "groups = df_inactive_with_bot_score.groupby('RSU_0.8')\n",
    "plt.figure(figsize=(8,8))\n",
    "c1 = ['g', 'r']\n",
    "i=0\n",
    "for name, group in groups:\n",
    "    plt.scatter(group.AveragePosts, \n",
    "                np.log10(group.UserFollowers),\n",
    "                label = name, \n",
    "                alpha=0.5,\n",
    "                edgecolors =c1[i], )\n",
    "    plt.xlabel(\"Average Posts per Day\", size = 13)\n",
    "    plt.ylabel(\"Number of Followers (Log10 Based)\", size = 13)\n",
    "    plt.legend()\n",
    "    i=i+1\n"
   ]
  },
  {
   "cell_type": "code",
   "execution_count": null,
   "id": "f7dfd46c",
   "metadata": {},
   "outputs": [],
   "source": []
  },
  {
   "cell_type": "code",
   "execution_count": null,
   "id": "9b24d37d",
   "metadata": {},
   "outputs": [],
   "source": []
  },
  {
   "cell_type": "code",
   "execution_count": null,
   "id": "c5cd57aa",
   "metadata": {},
   "outputs": [],
   "source": [
    "plt.figure(figsize=(8,8))\n",
    "c1 = ['r', 'g']\n",
    "i=0\n",
    "for name, group in groups:\n",
    "    plt.scatter(group.AveragePosts, np.log10(group.UserFollowers),c =c1[i], label = name)\n",
    "    plt.xlabel(\"Average Posts per Day\", size = 13)\n",
    "    plt.ylabel(\"Number of Followers (Log10 Based)\", size = 13)\n",
    "    plt.legend()\n",
    "    i=i+1"
   ]
  },
  {
   "cell_type": "code",
   "execution_count": null,
   "id": "fc72f8d6",
   "metadata": {},
   "outputs": [],
   "source": [
    "plt.figure(figsize=(10,10))\n",
    "plt.scatter(df_inactive_with_bot_score.AveragePosts, \n",
    "            np.log10(df_inactive_with_bot_score.UserFollowers),\n",
    "            c = df_inactive_with_bot_score.DSEOverall)\n",
    "plt.xlabel(\"Average Posts per Day\")\n",
    "plt.ylabel(\"Number of Followers (Log10 Based)\")\n",
    "\n",
    "plt.show()"
   ]
  },
  {
   "cell_type": "code",
   "execution_count": null,
   "id": "29ba98a5",
   "metadata": {},
   "outputs": [],
   "source": []
  },
  {
   "cell_type": "code",
   "execution_count": null,
   "id": "15bfd699",
   "metadata": {},
   "outputs": [],
   "source": []
  },
  {
   "cell_type": "code",
   "execution_count": null,
   "id": "b3192a09",
   "metadata": {},
   "outputs": [],
   "source": []
  },
  {
   "cell_type": "code",
   "execution_count": null,
   "id": "62305f23",
   "metadata": {},
   "outputs": [],
   "source": []
  },
  {
   "cell_type": "code",
   "execution_count": null,
   "id": "f4290aff",
   "metadata": {},
   "outputs": [],
   "source": [
    "plt.figure(figsize=(10,10))\n",
    "plt.scatter(df_inactive.AveragePosts, np.log10(df_inactive.UserFollowers))\n",
    "plt.xlabel(\"Average Posts per Day\")\n",
    "plt.ylabel(\"Number of Followers (Log Based)\")\n",
    "\n",
    "plt.show()"
   ]
  },
  {
   "cell_type": "code",
   "execution_count": null,
   "id": "332a0de9",
   "metadata": {},
   "outputs": [],
   "source": [
    "plt.figure(figsize=(10,10))\n",
    "plt.scatter(df_inactive.AveragePosts,df_inactive.UserFollowers)\n",
    "plt.xlabel(\"Average Posts\")\n",
    "plt.ylabel(\"Number of Followers\")\n",
    "plt.show()"
   ]
  },
  {
   "cell_type": "code",
   "execution_count": null,
   "id": "ff4824c2",
   "metadata": {},
   "outputs": [],
   "source": [
    "df_inactive_month = df_inactive_with_bot_score.loc[df_inactive_with_bot_score.AveragePosts <= 1/30]\n",
    "df_inactive_week = df_inactive_with_bot_score.loc[df_inactive_with_bot_score.AveragePosts <= 1/7]"
   ]
  },
  {
   "cell_type": "code",
   "execution_count": null,
   "id": "b7109861",
   "metadata": {},
   "outputs": [],
   "source": [
    "groups = df_inactive_month.groupby('RSU_0.9')"
   ]
  },
  {
   "cell_type": "code",
   "execution_count": null,
   "id": "914d4b96",
   "metadata": {},
   "outputs": [],
   "source": [
    "print(len(df_inactive_week.loc[df_inactive_week.RSUOverall > 0.9]))\n",
    "print(len(df_inactive_week.loc[df_inactive_week.RSUOverall <= 0.9]))"
   ]
  },
  {
   "cell_type": "code",
   "execution_count": null,
   "id": "3247996a",
   "metadata": {},
   "outputs": [],
   "source": [
    "print(len(df_inactive_week.loc[df_inactive_week.RSUOverall > 0.65]))\n",
    "print(len(df_inactive_week.loc[df_inactive_week.RSUOverall <= 0.65]))"
   ]
  },
  {
   "cell_type": "code",
   "execution_count": null,
   "id": "13d8afee",
   "metadata": {},
   "outputs": [],
   "source": [
    "print(len(df_inactive_month.loc[df_inactive_month.RSUOverall > 0.9]))\n",
    "print(len(df_inactive_month.loc[df_inactive_month.RSUOverall <= 0.9]))"
   ]
  },
  {
   "cell_type": "code",
   "execution_count": null,
   "id": "a69c5983",
   "metadata": {},
   "outputs": [],
   "source": [
    "print(len(df_inactive_month.loc[df_inactive_month.RSUOverall > 0.65]))\n",
    "print(len(df_inactive_month.loc[df_inactive_month.RSUOverall <= 0.65]))"
   ]
  },
  {
   "cell_type": "code",
   "execution_count": null,
   "id": "f4eacc5a",
   "metadata": {},
   "outputs": [],
   "source": [
    "df_inactive_week"
   ]
  },
  {
   "cell_type": "code",
   "execution_count": null,
   "id": "597b2ec0",
   "metadata": {},
   "outputs": [],
   "source": [
    "groups = df_inactive_month.groupby('RSU_0.65')\n",
    "fig, ax = plt.subplots(2, figsize=(8,12))\n",
    "c1 = ['g', 'r']\n",
    "i=0\n",
    "for name, group in groups:\n",
    "    ax[0].scatter(group.AveragePosts, \n",
    "                np.log10(group.UserFollowers),\n",
    "                label = name, \n",
    "                alpha=0.5,\n",
    "                facecolors=c1[i],\n",
    "                edgecolors =c1[i], )\n",
    "    ax[0].set_xlabel(\"Average Posts per Day (At most one post per month)\", fontsize=13)\n",
    "    ax[0].set_ylabel(\"Number of Followers (Log10 Based)\", fontsize=13)\n",
    "    ax[0].legend()\n",
    "    i=i+1\n",
    "ax[0].set_title('(a) Overall Bot Score Threshold set at 0.65', fontsize=14)\n",
    "    \n",
    "groups = df_inactive_month.groupby('RSU_0.9')\n",
    "c1 = ['g', 'r']\n",
    "i=0\n",
    "for name, group in groups:\n",
    "    ax[1].scatter(group.AveragePosts, \n",
    "                np.log10(group.UserFollowers),\n",
    "                label = name, \n",
    "                alpha=0.5,\n",
    "                facecolors=c1[i],\n",
    "                edgecolors =c1[i], )\n",
    "    ax[1].set_xlabel(\"Average Posts per Day (At most one post per month)\", fontsize=13)\n",
    "    ax[1].set_ylabel(\"Number of Followers (Log10 Based)\", fontsize=13)\n",
    "    ax[1].legend()\n",
    "    i=i+1    \n",
    "ax[1].set_title('(b) Overall Bot Score Threshold set at 0.9', fontsize=14)    \n",
    "fig.savefig(\"At_most_1_tweet_per_month_with_botscore.png\", bbox_inches=\"tight\", dpi=600, facecolor='w')\n",
    "fig.show()"
   ]
  },
  {
   "cell_type": "code",
   "execution_count": null,
   "id": "34223a61",
   "metadata": {},
   "outputs": [],
   "source": [
    "groups = df_inactive_month.groupby('RSE_0.65')\n",
    "fig, ax = plt.subplots(2, figsize=(8,12))\n",
    "c1 = ['g', 'r']\n",
    "i=0\n",
    "for name, group in groups:\n",
    "    ax[0].scatter(group.AveragePosts, \n",
    "                np.log10(group.UserFollowers),\n",
    "                label = name, \n",
    "                alpha=0.5,\n",
    "                facecolors=c1[i],\n",
    "                edgecolors =c1[i], )\n",
    "    ax[0].set_xlabel(\"Average Posts per Day (At most one post per month)\", fontsize=13)\n",
    "    ax[0].set_ylabel(\"Number of Followers (Log10 Based)\", fontsize=13)\n",
    "    ax[0].legend()\n",
    "    i=i+1\n",
    "ax[0].set_title('(a) Overall Bot Score Threshold set at 0.65', fontsize=14)\n",
    "    \n",
    "groups = df_inactive_month.groupby('RSE_0.9')\n",
    "c1 = ['g', 'r']\n",
    "i=0\n",
    "for name, group in groups:\n",
    "    ax[1].scatter(group.AveragePosts, \n",
    "                np.log10(group.UserFollowers),\n",
    "                label = name, \n",
    "                alpha=0.5,\n",
    "                facecolors=c1[i],\n",
    "                edgecolors =c1[i], )\n",
    "    ax[1].set_xlabel(\"Average Posts per Day (At most one post per month)\", fontsize=13)\n",
    "    ax[1].set_ylabel(\"Number of Followers (Log10 Based)\", fontsize=13)\n",
    "    ax[1].legend()\n",
    "    i=i+1    \n",
    "ax[1].set_title('(b) Overall Bot Score Threshold set at 0.9', fontsize=14)    \n",
    "fig.savefig(\"At_most_1_tweet_per_month_with_botscore_english.png\", bbox_inches=\"tight\", dpi=600, facecolor='w')\n",
    "fig.show()"
   ]
  },
  {
   "cell_type": "code",
   "execution_count": null,
   "id": "b986a46e",
   "metadata": {},
   "outputs": [],
   "source": [
    "groups = df_inactive_week.groupby('RSU_0.65')\n",
    "fig, ax = plt.subplots(2, figsize=(8,12))\n",
    "c1 = ['g', 'r']\n",
    "i=0\n",
    "for name, group in groups:\n",
    "    ax[0].scatter(group.AveragePosts, \n",
    "                np.log10(group.UserFollowers),\n",
    "                label = name, \n",
    "                alpha=0.5,\n",
    "                facecolors=c1[i],\n",
    "                edgecolors =c1[i], )\n",
    "    ax[0].set_xlabel(\"Average Posts per Day (At most one post per week)\", fontsize=13)\n",
    "    ax[0].set_ylabel(\"Number of Followers (Log10 Based)\", fontsize=13)\n",
    "    ax[0].legend()\n",
    "    i=i+1\n",
    "ax[0].set_title('(a) Overall Bot Score Threshold set at 0.65', fontsize=14)\n",
    "    \n",
    "groups = df_inactive_week.groupby('RSU_0.9')\n",
    "c1 = ['g', 'r']\n",
    "i=0\n",
    "for name, group in groups:\n",
    "    ax[1].scatter(group.AveragePosts, \n",
    "                np.log10(group.UserFollowers),\n",
    "                label = name, \n",
    "                alpha=0.5,\n",
    "                facecolors=c1[i],\n",
    "                edgecolors =c1[i], )\n",
    "    ax[1].set_xlabel(\"Average Posts per Day (At most one post per week)\", fontsize=13)\n",
    "    ax[1].set_ylabel(\"Number of Followers (Log10 Based)\", fontsize=13)\n",
    "    ax[1].legend()\n",
    "    i=i+1    \n",
    "ax[1].set_title('(b) Overall Bot Score Threshold set at 0.9', fontsize=14)    \n",
    "fig.savefig(\"At_most_1_tweet_per_week_with_botscore.png\", bbox_inches=\"tight\", dpi=600, facecolor='w')\n",
    "fig.show()"
   ]
  },
  {
   "cell_type": "code",
   "execution_count": null,
   "id": "ce921d2c",
   "metadata": {},
   "outputs": [],
   "source": [
    "groups = df_inactive_week.groupby('RSE_0.65')\n",
    "fig, ax = plt.subplots(2, figsize=(8,12))\n",
    "c1 = ['g', 'r']\n",
    "i=0\n",
    "for name, group in groups:\n",
    "    ax[0].scatter(group.AveragePosts, \n",
    "                np.log10(group.UserFollowers),\n",
    "                label = name, \n",
    "                alpha=0.5,\n",
    "                facecolors=c1[i],\n",
    "                edgecolors =c1[i], )\n",
    "    ax[0].set_xlabel(\"Average Posts per Day (At most one post per week)\", fontsize=13)\n",
    "    ax[0].set_ylabel(\"Number of Followers (Log10 Based)\", fontsize=13)\n",
    "    ax[0].legend()\n",
    "    i=i+1\n",
    "ax[0].set_title('(a) Overall Bot Score Threshold set at 0.65', fontsize=14)\n",
    "    \n",
    "groups = df_inactive_week.groupby('RSE_0.9')\n",
    "c1 = ['g', 'r']\n",
    "i=0\n",
    "for name, group in groups:\n",
    "    ax[1].scatter(group.AveragePosts, \n",
    "                np.log10(group.UserFollowers),\n",
    "                label = name, \n",
    "                alpha=0.5,\n",
    "                facecolors=c1[i],\n",
    "                edgecolors =c1[i], )\n",
    "    ax[1].set_xlabel(\"Average Posts per Day (At most one post per week)\", fontsize=13)\n",
    "    ax[1].set_ylabel(\"Number of Followers (Log10 Based)\", fontsize=13)\n",
    "    ax[1].legend()\n",
    "    i=i+1    \n",
    "ax[1].set_title('(b) Overall Bot Score Threshold set at 0.9', fontsize=14)    \n",
    "fig.savefig(\"At_most_1_tweet_per_week_with_botscore_english.png\", bbox_inches=\"tight\", dpi=600, facecolor='w')\n",
    "fig.show()"
   ]
  },
  {
   "cell_type": "code",
   "execution_count": null,
   "id": "0a913ec2",
   "metadata": {},
   "outputs": [],
   "source": [
    "df_inactive_month = df_inactive.loc[df_inactive.AveragePosts <= 1/30]"
   ]
  },
  {
   "cell_type": "code",
   "execution_count": null,
   "id": "ef302f6b",
   "metadata": {},
   "outputs": [],
   "source": [
    "plt.figure(figsize=(8,8))\n",
    "plt.scatter(df_inactive_month.AveragePosts,np.log10(df_inactive_month.UserFollowers))\n",
    "plt.xlabel(\"Average Posts (Less than one post per month)\")\n",
    "plt.ylabel(\"Number of Followers (Log-10 Based)\")\n",
    "plt.show()"
   ]
  },
  {
   "cell_type": "code",
   "execution_count": null,
   "id": "066d7a32",
   "metadata": {},
   "outputs": [],
   "source": [
    "df_inactive_week = df_inactive.loc[df_inactive.AveragePosts <= 1/7]"
   ]
  },
  {
   "cell_type": "code",
   "execution_count": null,
   "id": "24444c7a",
   "metadata": {},
   "outputs": [],
   "source": [
    "plt.figure(figsize=(8,8))\n",
    "plt.scatter(df_inactive_week.AveragePosts,np.log10(df_inactive_week.UserFollowers))\n",
    "plt.xlabel(\"Average Posts (Less than one post per week)\")\n",
    "plt.ylabel(\"Number of Followers (Log-10 Based)\")\n",
    "plt.savefig(\"Inactive Accounts-weekly.png\", bbox_inches=\"tight\", dpi=600, facecolor='w')\n",
    "plt.show()"
   ]
  },
  {
   "cell_type": "markdown",
   "id": "1d588c4f",
   "metadata": {},
   "source": [
    "# Bot Accounts"
   ]
  },
  {
   "cell_type": "code",
   "execution_count": null,
   "id": "8e8a0043",
   "metadata": {},
   "outputs": [],
   "source": [
    "df_fake_bot.CapEnglish"
   ]
  },
  {
   "cell_type": "code",
   "execution_count": null,
   "id": "e0f5746d",
   "metadata": {},
   "outputs": [],
   "source": [
    "df_fake_bot.columns"
   ]
  },
  {
   "cell_type": "code",
   "execution_count": null,
   "id": "4a6eda13",
   "metadata": {},
   "outputs": [],
   "source": [
    "df_fake_bot.loc[(df_fake_bot.CapUniversal > 0.9) & (df_fake_bot.RSUOverall > 0.9)]"
   ]
  },
  {
   "cell_type": "code",
   "execution_count": null,
   "id": "8dbe2cd4",
   "metadata": {},
   "outputs": [],
   "source": [
    "f_size = 7.5\n",
    "plt.figure(figsize=(f_size,f_size))\n",
    "plt.scatter(df_fake_bot.CapUniversal,df_fake_bot.RSUOverall)\n",
    "plt.xlabel(\"Complete Automation Probability\")\n",
    "plt.ylabel(\"Overall Bot Score (Universal)\")\n",
    "plt.show()"
   ]
  },
  {
   "cell_type": "code",
   "execution_count": null,
   "id": "e88ab493",
   "metadata": {},
   "outputs": [],
   "source": [
    "f_size = 7.5\n",
    "plt.figure(figsize=(f_size,f_size))\n",
    "plt.scatter(df_fake_bot.CapUniversal,df_fake_bot.RSEOverall)\n",
    "plt.xlabel(\"Complete Automation Probability\")\n",
    "plt.ylabel(\"Overall Bot Score (English)\")\n",
    "plt.show()"
   ]
  },
  {
   "cell_type": "code",
   "execution_count": null,
   "id": "c957578c",
   "metadata": {},
   "outputs": [],
   "source": [
    "df_fake_bot.RSUOverall"
   ]
  },
  {
   "cell_type": "code",
   "execution_count": null,
   "id": "67446204",
   "metadata": {},
   "outputs": [],
   "source": [
    "len(df_fake_bot.loc[(df_fake_bot.CapUniversal > 0.85) & (df_fake_bot.RSUOverall > 0.85)])"
   ]
  },
  {
   "cell_type": "markdown",
   "id": "c7726b67",
   "metadata": {},
   "source": [
    "# Influencers"
   ]
  },
  {
   "cell_type": "code",
   "execution_count": null,
   "id": "d477c6b8",
   "metadata": {},
   "outputs": [],
   "source": [
    "df_fake_basic['FollowerFriendsRatio'] = df_fake_basic.UserFollowers/df_fake_basic.UserFriends"
   ]
  },
  {
   "cell_type": "code",
   "execution_count": null,
   "id": "1f00666f",
   "metadata": {},
   "outputs": [],
   "source": [
    "df_fake_basic.columns"
   ]
  },
  {
   "cell_type": "code",
   "execution_count": null,
   "id": "1578a085",
   "metadata": {},
   "outputs": [],
   "source": [
    "plt.figure(figsize=(8,8))\n",
    "plt.scatter(df_fake_basic.AveragePosts,np.log10(df_fake_basic['FollowerFriendsRatio']))\n",
    "plt.xlabel(\"Average Posts\")\n",
    "plt.ylabel(\"Followers_and_Friends_Ratio (Log Based)\")\n",
    "plt.savefig(\"Influencers_Account.png\", bbox_inches=\"tight\", dpi=300, facecolor='w')\n",
    "plt.show()"
   ]
  },
  {
   "cell_type": "code",
   "execution_count": null,
   "id": "a3c44e5f",
   "metadata": {},
   "outputs": [],
   "source": [
    "df_fake_basic['FollowerFriendsRatio']\n",
    "         "
   ]
  },
  {
   "cell_type": "code",
   "execution_count": null,
   "id": "2b7077be",
   "metadata": {},
   "outputs": [],
   "source": [
    "plt.figure(figsize=(8,8))\n",
    "plt.scatter(np.log10(df_fake_basic['FollowerFriendsRatio']), df_fake_basic.AveragePosts)\n",
    "plt.xlabel(\"Followers_and_Friends_Ratio (Log-10 Based)\")\n",
    "plt.ylabel(\"Average Posts\")\n",
    "plt.show()"
   ]
  },
  {
   "cell_type": "code",
   "execution_count": null,
   "id": "6f501978",
   "metadata": {},
   "outputs": [],
   "source": [
    "plt.figure(figsize=(8,8))\n",
    "plt.xlabel(\"Followers_and_Friends_Ratio (Log Based)\")\n",
    "plt.ylabel(\"Average Posts\")\n",
    "plt.show()"
   ]
  },
  {
   "cell_type": "code",
   "execution_count": null,
   "id": "f5ed8af4",
   "metadata": {},
   "outputs": [],
   "source": [
    "plt.figure(figsize=(8,8))\n",
    "plt.scatter(df_fake_basic.AveragePosts,df_fake_basic['FollowerFriendsRatio'])\n",
    "plt.xlabel(\"Average Posts\")\n",
    "plt.ylabel(\"Influencers_Account\")\n",
    "plt.show()"
   ]
  },
  {
   "cell_type": "code",
   "execution_count": null,
   "id": "b8446ff4",
   "metadata": {},
   "outputs": [],
   "source": [
    "len(df_fake_basic.loc[(df_fake_basic['FollowerFriendsRatio'] > 100) & (df_fake_basic.AveragePosts > 50)])"
   ]
  },
  {
   "cell_type": "code",
   "execution_count": null,
   "id": "c2397b95",
   "metadata": {},
   "outputs": [],
   "source": [
    "len((df_fake_basic.loc[(df_fake_basic['FollowerFriendsRatio'] > 500) & (df_fake_basic.AveragePosts > 100)]))"
   ]
  },
  {
   "cell_type": "code",
   "execution_count": null,
   "id": "545b03f9",
   "metadata": {},
   "outputs": [],
   "source": [
    "df_fake_basic.loc[df_fake_basic['UserFriends'] == 0 ]"
   ]
  },
  {
   "cell_type": "code",
   "execution_count": null,
   "id": "d65bdfd9",
   "metadata": {},
   "outputs": [],
   "source": [
    "plt.figure(figsize=(8,8))\n",
    "plt.scatter(df_fake_basic.UserFriends,df_fake_basic.UserFollowers)\n",
    "plt.xlabel(\"Average Posts\")\n",
    "plt.ylabel(\"Followers_and_Friends_Ratio\")\n",
    "plt.show()"
   ]
  },
  {
   "cell_type": "code",
   "execution_count": null,
   "id": "64d4b5c2",
   "metadata": {},
   "outputs": [],
   "source": [
    "len((df_fake_basic.loc[(df_fake_basic['UserFollowers'] > 100000) & (df_fake_basic.UserFriends < 100)]))"
   ]
  },
  {
   "cell_type": "markdown",
   "id": "2b77c0f4",
   "metadata": {},
   "source": [
    "# Amplifiers"
   ]
  },
  {
   "cell_type": "code",
   "execution_count": null,
   "id": "158e9d16",
   "metadata": {},
   "outputs": [],
   "source": [
    "plt.figure(figsize=(8,8))\n",
    "plt.scatter(df_fake_basic.AveragePosts,df_fake_basic.UserFollowers)\n",
    "plt.xlabel(\"Average Posts\")\n",
    "plt.ylabel(\"Total Number of Followers\")\n",
    "plt.show()"
   ]
  },
  {
   "cell_type": "code",
   "execution_count": null,
   "id": "d102679b",
   "metadata": {},
   "outputs": [],
   "source": [
    "plt.figure(figsize=(8,8))\n",
    "plt.scatter(df_fake_basic.AveragePosts,np.log10(df_fake_basic.UserFollowers))\n",
    "plt.xlabel(\"Average Posts\")\n",
    "plt.ylabel(\"Total Number of Followers (Log Based)\")\n",
    "plt.show()"
   ]
  },
  {
   "cell_type": "markdown",
   "id": "247e6969",
   "metadata": {},
   "source": [
    "# Account Age"
   ]
  },
  {
   "cell_type": "code",
   "execution_count": null,
   "id": "cd376e4f",
   "metadata": {},
   "outputs": [],
   "source": [
    "df_benign_basic= pd.read_csv('Benign Account Basic Info.csv')"
   ]
  },
  {
   "cell_type": "code",
   "execution_count": null,
   "id": "00b2dd3b",
   "metadata": {},
   "outputs": [],
   "source": []
  },
  {
   "cell_type": "code",
   "execution_count": null,
   "id": "fee01573",
   "metadata": {},
   "outputs": [],
   "source": [
    "df_fake_basic.AccountAgeinDays.median()"
   ]
  },
  {
   "cell_type": "code",
   "execution_count": null,
   "id": "78868cec",
   "metadata": {},
   "outputs": [],
   "source": [
    "fig, axs = plt.subplots(2,1, tight_layout=True)\n",
    "\n",
    "axs[0].hist(df_fake_basic.AccountAgeinDays, bins=20, color = 'red', alpha = 0.5, histtype ='bar',)\n",
    "axs[0].set_title('(a) Fake Spreader Account Age Histogram')\n",
    "axs[0].set_xlabel('Account Age in Days')\n",
    "axs[0].set_ylabel('Number of Accounts')\n",
    "\n",
    "axs[1].hist(df_benign_basic.AccountAgeinDays, bins=20, color = 'green', alpha=0.5, histtype ='bar',)\n",
    "axs[1].set_title('(b) Bengin Account Age Histogram')\n",
    "axs[1].set_xlabel('Account Age in Days')\n",
    "axs[1].set_ylabel('Number of Accounts')\n",
    "\n",
    "fig.savefig(\"Account_Age_Histogram\", bbox_inches=\"tight\", dpi=600, facecolor='w')"
   ]
  },
  {
   "cell_type": "code",
   "execution_count": null,
   "id": "24c97c3c",
   "metadata": {},
   "outputs": [],
   "source": [
    "fig, axs = plt.subplots(2,1, tight_layout=True)\n",
    "\n",
    "axs[0].hist(df_fake_basic.TotalStatus, color = 'red', alpha = 0.5, histtype ='bar',)\n",
    "axs[0].set_title('(a) Fake Spreader Account Age Histogram')\n",
    "axs[0].set_xlabel('Account Age in Days')\n",
    "axs[0].set_ylabel('Number of Accounts')\n",
    "\n",
    "axs[1].hist(df_benign_basic.TotalStatus, color = 'green', alpha=0.5, histtype ='bar',)\n",
    "axs[1].set_title('(b) Bengin Account Age Histogram')\n",
    "axs[1].set_xlabel('Account Age in Days')\n",
    "axs[1].set_ylabel('Number of Accounts')\n"
   ]
  },
  {
   "cell_type": "code",
   "execution_count": null,
   "id": "a22024b4",
   "metadata": {},
   "outputs": [],
   "source": [
    "np.random.seed(10**7)\n",
    "n_bins = 20\n",
    "x = np.random.randn(10000, 3)\n",
    "    \n",
    "colors = ['green', 'blue', 'lime']\n",
    "  \n",
    "plt.hist(x, n_bins, \n",
    "         histtype ='bar',\n",
    "         color = colors,\n",
    "         label = colors)\n",
    "  \n",
    "plt.legend(prop ={'size': 10})\n",
    "  \n",
    "plt.title('matplotlib.pyplot.hist() function Example\\n\\n',\n",
    "          fontweight =\"bold\")\n",
    "  \n",
    "plt.show()"
   ]
  },
  {
   "cell_type": "code",
   "execution_count": null,
   "id": "b5b52c3f",
   "metadata": {},
   "outputs": [],
   "source": [
    "df_fake_basic.AccountAgeinDays.hist()"
   ]
  },
  {
   "cell_type": "code",
   "execution_count": null,
   "id": "b297f0b4",
   "metadata": {},
   "outputs": [],
   "source": [
    "df_fake_basic.AccountAgeinDays.max()"
   ]
  },
  {
   "cell_type": "code",
   "execution_count": null,
   "id": "9f79a840",
   "metadata": {},
   "outputs": [],
   "source": [
    "df_fake_basic.loc[df_fake_basic.AccountAgeinDays ==19226]"
   ]
  },
  {
   "cell_type": "code",
   "execution_count": null,
   "id": "571cad80",
   "metadata": {},
   "outputs": [],
   "source": [
    "df_fake_basic.AccountAgeinDays[5494] = 0"
   ]
  },
  {
   "cell_type": "code",
   "execution_count": null,
   "id": "79ff78dc",
   "metadata": {},
   "outputs": [],
   "source": [
    "df_fake_basic.AccountAgeinDays[5494]"
   ]
  },
  {
   "cell_type": "code",
   "execution_count": null,
   "id": "33c0feda",
   "metadata": {},
   "outputs": [],
   "source": [
    "df_fake_basic.to_csv('U:\\Twitter Research\\Fake News Scraping\\Basic_Twitter_Info\\Fake_Basic_Information.csv')"
   ]
  },
  {
   "cell_type": "code",
   "execution_count": null,
   "id": "8daef076",
   "metadata": {},
   "outputs": [],
   "source": []
  }
 ],
 "metadata": {
  "kernelspec": {
   "display_name": "Python 3 (ipykernel)",
   "language": "python",
   "name": "python3"
  },
  "language_info": {
   "codemirror_mode": {
    "name": "ipython",
    "version": 3
   },
   "file_extension": ".py",
   "mimetype": "text/x-python",
   "name": "python",
   "nbconvert_exporter": "python",
   "pygments_lexer": "ipython3",
   "version": "3.9.13"
  }
 },
 "nbformat": 4,
 "nbformat_minor": 5
}
                                                                                                                                                                                                                                                                                                                                                                                                                                                                                                                                                                                   