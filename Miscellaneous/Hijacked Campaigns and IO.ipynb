{
 "cells": [
  {
   "cell_type": "code",
   "execution_count": null,
   "id": "4e2966bf",
   "metadata": {},
   "outputs": [],
   "source": [
    "import pandas as pd\n",
    "import matplotlib as plt\n",
    "import numpy as np\n",
    "import os\n",
    "pd.set_option('display.max_colwidth', None)\n",
    "pd.set_option('display.max_columns', 10)\n",
    "pd.set_option('display.max_rows', 50)\n",
    "print(os.getcwd())"
   ]
  },
  {
   "cell_type": "code",
   "execution_count": null,
   "id": "28569e4d",
   "metadata": {},
   "outputs": [],
   "source": [
    "df_cluster = pd.read_csv('Cluster_Tweet_Without_Generic.csv')"
   ]
  },
  {
   "cell_type": "code",
   "execution_count": null,
   "id": "eaaa1259",
   "metadata": {},
   "outputs": [],
   "source": [
    "df_cluster"
   ]
  },
  {
   "cell_type": "code",
   "execution_count": null,
   "id": "c6d82f8b",
   "metadata": {},
   "outputs": [],
   "source": [
    "df_account = pd.read_csv('All_Account_with_Updated_Influencer.csv')"
   ]
  },
  {
   "cell_type": "code",
   "execution_count": null,
   "id": "c5901801",
   "metadata": {},
   "outputs": [],
   "source": [
    "df_cluster = pd.merge(df_cluster, df_account[['User_ID', 'Predicted_PL']])"
   ]
  },
  {
   "cell_type": "code",
   "execution_count": null,
   "id": "b6e08911",
   "metadata": {},
   "outputs": [],
   "source": [
    "df_cluster['Cluster_ID'] = df_cluster['Cluster_ID'].astype('int')"
   ]
  },
  {
   "cell_type": "code",
   "execution_count": null,
   "id": "26461ce2",
   "metadata": {},
   "outputs": [],
   "source": [
    "df_cluster = df_cluster.drop(columns = ['Unnamed: 0.1', 'Unnamed: 0'])"
   ]
  },
  {
   "cell_type": "code",
   "execution_count": null,
   "id": "54bc8104",
   "metadata": {},
   "outputs": [],
   "source": [
    "df_cluster = df_cluster.sort_values(['Cluster_ID', 'Tweet_Time']).reset_index(drop = True)"
   ]
  },
  {
   "cell_type": "code",
   "execution_count": null,
   "id": "920cd152",
   "metadata": {},
   "outputs": [],
   "source": [
    "df_cluster.groupby('Predicted_PL').count()"
   ]
  },
  {
   "cell_type": "code",
   "execution_count": null,
   "id": "24e57f09",
   "metadata": {},
   "outputs": [],
   "source": [
    "df_account.groupby('Predicted_PL').count()"
   ]
  },
  {
   "cell_type": "code",
   "execution_count": null,
   "id": "857839cf",
   "metadata": {},
   "outputs": [],
   "source": [
    "df_cluster.Cluster_ID.unique().tolist()"
   ]
  },
  {
   "cell_type": "code",
   "execution_count": null,
   "id": "a35c1f6d",
   "metadata": {},
   "outputs": [],
   "source": [
    "len(df_cluster[df_cluster.Predicted_PL == 3.0].Cluster_ID.unique().tolist())"
   ]
  },
  {
   "cell_type": "code",
   "execution_count": null,
   "id": "ce7dc228",
   "metadata": {},
   "outputs": [],
   "source": [
    "hijacked_camp = []\n",
    "for i in df_cluster[df_cluster.Predicted_PL == 3.0].Cluster_ID.unique().tolist():\n",
    "    temp_data = df_cluster[df_cluster.Cluster_ID == i].reset_index(drop = True)\n",
    "    if temp_data.iloc[0].Predicted_PL == 3.0:\n",
    "        if bool (set(temp_data.Predicted_PL.tolist()[1:]).intersection(set([0,1,2]))):\n",
    "            hijacked_camp.append(i)"
   ]
  },
  {
   "cell_type": "code",
   "execution_count": null,
   "id": "57417863",
   "metadata": {},
   "outputs": [],
   "source": [
    "print(len(hijacked_camp))"
   ]
  },
  {
   "cell_type": "code",
   "execution_count": null,
   "id": "70f28767",
   "metadata": {},
   "outputs": [],
   "source": [
    "temp_data.Predicted_PL.tolist()[1:] == 1"
   ]
  },
  {
   "cell_type": "code",
   "execution_count": null,
   "id": "fdb9cae3",
   "metadata": {},
   "outputs": [],
   "source": [
    "bool (set(temp_data.Predicted_PL.tolist()[1:]).intersection(set([0,2])))"
   ]
  },
  {
   "cell_type": "code",
   "execution_count": null,
   "id": "f54802a2",
   "metadata": {},
   "outputs": [],
   "source": [
    "adopted_camp = []\n",
    "for i in df_cluster[df_cluster.Predicted_PL == 3.0].Cluster_ID.unique().tolist():\n",
    "    temp_data = df_cluster[df_cluster.Cluster_ID == i].reset_index(drop = True)\n",
    "    if temp_data.Predicted_PL.tolist()[0] in [0, 1,2]:\n",
    "        if set(temp_data.Predicted_PL.tolist()[1:]).intersection(set([3])):\n",
    "            adopted_camp.append(i)"
   ]
  },
  {
   "cell_type": "code",
   "execution_count": null,
   "id": "083f3ac5",
   "metadata": {},
   "outputs": [],
   "source": [
    "len(adopted_camp)"
   ]
  },
  {
   "cell_type": "code",
   "execution_count": null,
   "id": "ab3e7416",
   "metadata": {},
   "outputs": [],
   "source": [
    "temp_data.Predicted_PL.tolist()[0] in [0, 1,2]"
   ]
  },
  {
   "cell_type": "code",
   "execution_count": null,
   "id": "048ae400",
   "metadata": {},
   "outputs": [],
   "source": [
    "adop_hijac = hijacked_camp + adopted_camp"
   ]
  },
  {
   "cell_type": "code",
   "execution_count": null,
   "id": "07a9e784",
   "metadata": {},
   "outputs": [],
   "source": [
    "result = [i for i in df_cluster[df_cluster.Predicted_PL == 3.0].Cluster_ID.unique().tolist() if i not in adop_hijac]"
   ]
  },
  {
   "cell_type": "code",
   "execution_count": null,
   "id": "43016c47",
   "metadata": {},
   "outputs": [],
   "source": [
    "len(result)"
   ]
  },
  {
   "cell_type": "code",
   "execution_count": null,
   "id": "7e841ef2",
   "metadata": {},
   "outputs": [],
   "source": [
    "hijacked_camp"
   ]
  },
  {
   "cell_type": "code",
   "execution_count": null,
   "id": "400f5405",
   "metadata": {},
   "outputs": [],
   "source": [
    "hij_histo = df_cluster[(df_cluster.Cluster_ID.isin(adopted_camp)) & (df_cluster.Predicted_PL == 3)].groupby('Cluster_ID').count().sort_values('Tweet_ID')"
   ]
  },
  {
   "cell_type": "code",
   "execution_count": null,
   "id": "5dd2d4fc",
   "metadata": {},
   "outputs": [],
   "source": [
    "hij_histo = hij_histo.reset_index(drop = False)"
   ]
  },
  {
   "cell_type": "code",
   "execution_count": null,
   "id": "9c5f8448",
   "metadata": {},
   "outputs": [],
   "source": [
    "hij_histo.Tweet_ID"
   ]
  },
  {
   "cell_type": "code",
   "execution_count": null,
   "id": "2e479c5e",
   "metadata": {},
   "outputs": [],
   "source": [
    "df_io = pd.read_csv(\"Influence_Operation_Label.csv\")"
   ]
  },
  {
   "cell_type": "code",
   "execution_count": null,
   "id": "6762b232",
   "metadata": {},
   "outputs": [],
   "source": [
    "len(df_io)"
   ]
  },
  {
   "cell_type": "code",
   "execution_count": null,
   "id": "2b53cd61",
   "metadata": {},
   "outputs": [],
   "source": [
    "len(df_io)"
   ]
  },
  {
   "cell_type": "code",
   "execution_count": null,
   "id": "b4bac65d",
   "metadata": {},
   "outputs": [],
   "source": [
    "df_account = pd.read_csv('All_Account_with_Updated_Influencer.csv')"
   ]
  },
  {
   "cell_type": "code",
   "execution_count": null,
   "id": "2aa081c3",
   "metadata": {},
   "outputs": [],
   "source": [
    "df_account[['User_ID', 'Predicted_PL']].rename(columns = {'Predicted_PL': 'New_Prediction'})"
   ]
  },
  {
   "cell_type": "code",
   "execution_count": null,
   "id": "2a20dc40",
   "metadata": {},
   "outputs": [],
   "source": [
    "df_io = pd.merge(df_io, df_account[['User_ID', 'Predicted_PL']].rename(columns = {'Predicted_PL': 'New_Prediction'}))"
   ]
  },
  {
   "cell_type": "code",
   "execution_count": null,
   "id": "f6ad617c",
   "metadata": {},
   "outputs": [],
   "source": [
    "df_io = df_io.sort_values(['Influence_ID', 'Tweet_Time'])"
   ]
  },
  {
   "cell_type": "code",
   "execution_count": null,
   "id": "6432f12d",
   "metadata": {
    "scrolled": true
   },
   "outputs": [],
   "source": [
    "df_io[df_io.Cluster_ID == 'Wild_4473']"
   ]
  },
  {
   "cell_type": "code",
   "execution_count": null,
   "id": "99440872",
   "metadata": {},
   "outputs": [],
   "source": [
    "df_io = df_io[df_io.Influence_ID != '-1']"
   ]
  },
  {
   "cell_type": "code",
   "execution_count": null,
   "id": "5d9f0226",
   "metadata": {},
   "outputs": [],
   "source": [
    "df_io.loc[df_io.New_Prediction == 3].groupby('Influence_ID').count().sort_values(by = 'Tweet_ID')"
   ]
  },
  {
   "cell_type": "code",
   "execution_count": null,
   "id": "2fec011f",
   "metadata": {},
   "outputs": [],
   "source": [
    "hijacked_io = []\n",
    "for i in df_io[df_io.New_Prediction == 3.0].Influence_ID.unique().tolist():\n",
    "    temp_data = df_io[df_io.Influence_ID == i].reset_index(drop = True)\n",
    "    if temp_data.iloc[0].New_Prediction == 3.0:\n",
    "        if bool (set(temp_data.New_Prediction.tolist()[1:]).intersection(set([0,1,2]))):\n",
    "            hijacked_io.append(i)"
   ]
  },
  {
   "cell_type": "code",
   "execution_count": null,
   "id": "349ad2df",
   "metadata": {},
   "outputs": [],
   "source": [
    "len(hijacked_io)"
   ]
  },
  {
   "cell_type": "code",
   "execution_count": null,
   "id": "5ecd2c8a",
   "metadata": {},
   "outputs": [],
   "source": [
    "hijacked_io"
   ]
  },
  {
   "cell_type": "code",
   "execution_count": null,
   "id": "85f64826",
   "metadata": {},
   "outputs": [],
   "source": [
    "df_hijack_non = df_io[df_io.Influence_ID.isin(hijacked_io)].groupby(['Influence_ID','New_Prediction']).count().reset_index()"
   ]
  },
  {
   "cell_type": "code",
   "execution_count": null,
   "id": "90d2dacc",
   "metadata": {},
   "outputs": [],
   "source": [
    "df_hijack_non[df_hijack_non.Influence_ID == 'BJP_Influence_100']"
   ]
  },
  {
   "cell_type": "code",
   "execution_count": null,
   "id": "ac1de360",
   "metadata": {},
   "outputs": [],
   "source": [
    "jid = df_hijack_non[(df_hijack_non.New_Prediction == 3) & (df_hijack_non.Cluster_ID >= 2)].Influence_ID.tolist()"
   ]
  },
  {
   "cell_type": "code",
   "execution_count": null,
   "id": "9f525ab2",
   "metadata": {},
   "outputs": [],
   "source": [
    "df_io.loc[df_io.Influence_ID == jid[35]]['New_Prediction']"
   ]
  },
  {
   "cell_type": "code",
   "execution_count": null,
   "id": "b1ce81bf",
   "metadata": {},
   "outputs": [],
   "source": [
    "jid[0]"
   ]
  },
  {
   "cell_type": "code",
   "execution_count": null,
   "id": "cd8a094c",
   "metadata": {},
   "outputs": [],
   "source": [
    "df_io[df_io.Influence_ID == 'BJP_Influence_100']"
   ]
  },
  {
   "cell_type": "code",
   "execution_count": null,
   "id": "cb4d3332",
   "metadata": {},
   "outputs": [],
   "source": [
    "adopted_io = []\n",
    "for i in df_io[df_io.New_Prediction == 3.0].Influence_ID.unique().tolist():\n",
    "    temp_data = df_io[df_io.Influence_ID == i].reset_index(drop = True)\n",
    "    if temp_data.New_Prediction.tolist()[0] in [0, 1,2]:\n",
    "        if set(temp_data.New_Prediction.tolist()[1:]).intersection(set([3])):\n",
    "            adopted_io.append(i)"
   ]
  },
  {
   "cell_type": "code",
   "execution_count": null,
   "id": "143f0509",
   "metadata": {},
   "outputs": [],
   "source": [
    "len(adopted_io)"
   ]
  },
  {
   "cell_type": "code",
   "execution_count": null,
   "id": "f46909de",
   "metadata": {},
   "outputs": [],
   "source": [
    "836+211"
   ]
  },
  {
   "cell_type": "code",
   "execution_count": null,
   "id": "c54856e9",
   "metadata": {},
   "outputs": [],
   "source": [
    "df_adopted_non = df_io[df_io.Influence_ID.isin(adopted_io)].groupby(['Influence_ID','New_Prediction']).count().reset_index()"
   ]
  },
  {
   "cell_type": "code",
   "execution_count": null,
   "id": "b55aaaea",
   "metadata": {},
   "outputs": [],
   "source": [
    "df_adopted_non[(df_adopted_non.New_Prediction == 3) & (df_adopted_non.Cluster_ID >= 2)]"
   ]
  },
  {
   "cell_type": "code",
   "execution_count": null,
   "id": "2e9ddcf0",
   "metadata": {},
   "outputs": [],
   "source": [
    "df_adopted_non[(df_adopted_non.New_Prediction == 3)].groupby('Cluster_ID').count()"
   ]
  },
  {
   "cell_type": "code",
   "execution_count": null,
   "id": "82c5a113",
   "metadata": {},
   "outputs": [],
   "source": [
    "non_pol_io = df_io[df_io.New_Prediction == 3.0].Influence_ID.unique().tolist()"
   ]
  },
  {
   "cell_type": "code",
   "execution_count": null,
   "id": "916169a2",
   "metadata": {},
   "outputs": [],
   "source": [
    "sus_io = adopted_io + hijacked_io"
   ]
  },
  {
   "cell_type": "code",
   "execution_count": null,
   "id": "2c005b15",
   "metadata": {},
   "outputs": [],
   "source": [
    "len(set(non_pol_io) - set(sus_io))"
   ]
  },
  {
   "cell_type": "code",
   "execution_count": null,
   "id": "21bfdfb5",
   "metadata": {},
   "outputs": [],
   "source": [
    "len(sus_io)"
   ]
  },
  {
   "cell_type": "code",
   "execution_count": null,
   "id": "b2987758",
   "metadata": {},
   "outputs": [],
   "source": [
    "len(set(non_pol_io))"
   ]
  },
  {
   "cell_type": "code",
   "execution_count": null,
   "id": "36f27505",
   "metadata": {},
   "outputs": [],
   "source": [
    "len(set(sus_io))"
   ]
  },
  {
   "cell_type": "code",
   "execution_count": null,
   "id": "82d18b63",
   "metadata": {},
   "outputs": [],
   "source": [
    "set(non_pol_io) - set(sus_io)"
   ]
  },
  {
   "cell_type": "code",
   "execution_count": null,
   "id": "22e482c8",
   "metadata": {},
   "outputs": [],
   "source": [
    "df_io[df_io.Influence_ID == 'INC_Influence_3635']"
   ]
  },
  {
   "cell_type": "code",
   "execution_count": null,
   "id": "c41ecaee",
   "metadata": {},
   "outputs": [],
   "source": [
    "df_io['Date'] = pd.to_datetime(df_io['Tweet_Time'], errors='coerce')\n",
    "df_io['Only_Date'] = df_io['Date'].dt.date"
   ]
  },
  {
   "cell_type": "code",
   "execution_count": null,
   "id": "93d00b67",
   "metadata": {},
   "outputs": [],
   "source": [
    "df_io"
   ]
  },
  {
   "cell_type": "code",
   "execution_count": null,
   "id": "fffa87b3",
   "metadata": {},
   "outputs": [],
   "source": [
    "df_io[df_io.Influence_ID == 'BJP_Influence_0'].Date.dt.date"
   ]
  },
  {
   "cell_type": "code",
   "execution_count": null,
   "id": "f9d490ba",
   "metadata": {
    "scrolled": true
   },
   "outputs": [],
   "source": [
    "df_io = df_io.reset_index(drop = True)"
   ]
  },
  {
   "cell_type": "code",
   "execution_count": null,
   "id": "f525ec6b",
   "metadata": {},
   "outputs": [],
   "source": [
    "df_io[df_io['Cluster_ID'] == 'Wild_49195'][['Retweet_Count','Favorite_Count']]"
   ]
  },
  {
   "cell_type": "code",
   "execution_count": null,
   "id": "eef95dd1",
   "metadata": {},
   "outputs": [],
   "source": [
    "print(len(df_io[df_io.Influence_ID == 'BJP_Influence_9741'].groupby('Cluster_ID').count()))\n",
    "print(len(df_io[df_io.Influence_ID == 'INC_Influence_9741'].groupby('Cluster_ID').count()))"
   ]
  },
  {
   "cell_type": "code",
   "execution_count": null,
   "id": "0ba27578",
   "metadata": {},
   "outputs": [],
   "source": [
    "df_io[df_io.Influence_ID == 'INC_Influence_0'].groupby('Cluster_ID').count()"
   ]
  },
  {
   "cell_type": "code",
   "execution_count": null,
   "id": "1c626099",
   "metadata": {},
   "outputs": [],
   "source": [
    "df_io.groupby('Influence_ID').count().sort_values('Cluster_ID')"
   ]
  },
  {
   "cell_type": "code",
   "execution_count": null,
   "id": "7c8cf60c",
   "metadata": {},
   "outputs": [],
   "source": []
  },
  {
   "cell_type": "code",
   "execution_count": null,
   "id": "2c66fdd4",
   "metadata": {},
   "outputs": [],
   "source": [
    "import re\n",
    "def remove_twitter_mentions(text):\n",
    "    return re.sub(r'@\\w+', '', text)\n",
    "\n",
    "def remove_links(text):\n",
    "    return re.sub(r'http\\S+', '', text)"
   ]
  },
  {
   "cell_type": "code",
   "execution_count": null,
   "id": "3fc55f08",
   "metadata": {},
   "outputs": [],
   "source": [
    "df_io[df_io.Reduce_Topic == 8]"
   ]
  },
  {
   "cell_type": "code",
   "execution_count": null,
   "id": "8013de1c",
   "metadata": {},
   "outputs": [],
   "source": [
    "df_io['Refined_Text'] = df_io['Tweet_Text'].apply(remove_twitter_mentions)\n",
    "df_io['Refined_Text'] = df_io['Refined_Text'].apply(remove_links)\n",
    "df_io['Refined_Text'] = df_io['Refined_Text'].str.replace('\\n', ' ')\n",
    "df_io['Refined_Text'] = df_io['Refined_Text'].str.strip()"
   ]
  },
  {
   "cell_type": "code",
   "execution_count": null,
   "id": "2fd503ad",
   "metadata": {},
   "outputs": [],
   "source": [
    "df_io_just_one = df_io.drop_duplicates('Cluster_ID')"
   ]
  },
  {
   "cell_type": "code",
   "execution_count": null,
   "id": "b57710be",
   "metadata": {
    "scrolled": false
   },
   "outputs": [],
   "source": [
    "df_inf_one_count = df_io_just_one.groupby('Influence_ID').count().reset_index()"
   ]
  },
  {
   "cell_type": "code",
   "execution_count": null,
   "id": "48c522b5",
   "metadata": {},
   "outputs": [],
   "source": [
    "df_io_just_one = df_io_just_one.sort_values('Tweet_Time')"
   ]
  },
  {
   "cell_type": "code",
   "execution_count": null,
   "id": "a35adf47",
   "metadata": {},
   "outputs": [],
   "source": [
    "train_data_inf = df_inf_one_count.loc[(df_inf_one_count.Cluster_ID<50) & (df_inf_one_count.Cluster_ID>20)].Influence_ID.tolist()"
   ]
  },
  {
   "cell_type": "code",
   "execution_count": null,
   "id": "faf0df94",
   "metadata": {},
   "outputs": [],
   "source": [
    "df_io_just_one[df_io_just_one.Influence_ID == 'BJP_Influence_1']"
   ]
  },
  {
   "cell_type": "code",
   "execution_count": null,
   "id": "1414a006",
   "metadata": {},
   "outputs": [],
   "source": [
    "xs = df_io_just_one[df_io_just_one.Influence_ID == 'INC_Influence_4'].Refined_Text.tolist()\n",
    "s = ('').join(xs)\n",
    "s = s.replace(\"'\", \"\")\n",
    "s = s.replace('\"', \"\")\n",
    "print(s)"
   ]
  },
  {
   "cell_type": "code",
   "execution_count": null,
   "id": "54609e6f",
   "metadata": {},
   "outputs": [],
   "source": [
    "BJP "
   ]
  },
  {
   "cell_type": "code",
   "execution_count": null,
   "id": "754321b4",
   "metadata": {},
   "outputs": [],
   "source": [
    "df_io[df_io.Influence_ID == 'INC_Influence_0'].drop_duplicates('Cluster_ID').sample(100).Refined_Text.tolist()"
   ]
  },
  {
   "cell_type": "code",
   "execution_count": null,
   "id": "984a4b04",
   "metadata": {},
   "outputs": [],
   "source": [
    " df_io[df_io.Influence_ID == 'INC_Influence_0'].sample(100).Tweet_Text.tolist()"
   ]
  },
  {
   "cell_type": "code",
   "execution_count": null,
   "id": "5ce12e69",
   "metadata": {},
   "outputs": [],
   "source": [
    "df_io['Total_Engagement'] =  df_io['Retweet_Count'] + df_io['Favorite_Count']"
   ]
  },
  {
   "cell_type": "code",
   "execution_count": null,
   "id": "c771d9b3",
   "metadata": {},
   "outputs": [],
   "source": [
    "df_io_small = df_io[['Only_Date', 'Total_Engagement', 'Influence_ID']]"
   ]
  },
  {
   "cell_type": "code",
   "execution_count": null,
   "id": "d1e6cf22",
   "metadata": {},
   "outputs": [],
   "source": [
    "df_inf_0_bjp_timeline = df_io[df_io.Influence_ID == 'BJP_Influence_0'].groupby('Only_Date').count().reset_index()"
   ]
  },
  {
   "cell_type": "code",
   "execution_count": null,
   "id": "75d7f070",
   "metadata": {},
   "outputs": [],
   "source": [
    "df_inf_0_inc_timeline = df_io[df_io.Influence_ID == 'INC_Influence_0'].groupby('Only_Date').count().reset_index()"
   ]
  },
  {
   "cell_type": "code",
   "execution_count": null,
   "id": "d4fcabcb",
   "metadata": {},
   "outputs": [],
   "source": [
    "import datetime"
   ]
  },
  {
   "cell_type": "code",
   "execution_count": null,
   "id": "b80b7fd0",
   "metadata": {},
   "outputs": [],
   "source": [
    "df_io[(df_io.Influence_ID == 'BJP_Influence_0') \n",
    "      & (df_io.Only_Date > datetime.date(2020,9,1))                                   \n",
    "         & (df_io.Only_Date < datetime.date(2020,12,31))].iloc[0:40]"
   ]
  },
  {
   "cell_type": "code",
   "execution_count": null,
   "id": "7e790392",
   "metadata": {},
   "outputs": [],
   "source": [
    "df_io[(df_io.Influence_ID == 'BJP_Influence_0') \n",
    "      & (df_io.Only_Date > datetime.date(2022,12,31))                                   \n",
    "         & (df_io.Only_Date < datetime.date(2023,3,1))].iloc[0:40]"
   ]
  },
  {
   "cell_type": "code",
   "execution_count": null,
   "id": "f63662cd",
   "metadata": {},
   "outputs": [],
   "source": [
    "df_io[df_io.Influence_ID == 'INC_Influence_0'].groupby('Influence_ID_Update').count()"
   ]
  },
  {
   "cell_type": "code",
   "execution_count": null,
   "id": "34f68866",
   "metadata": {},
   "outputs": [],
   "source": [
    "df_non_pol.to_csv('Non_Pol_Timeline0.csv', index = False)\n",
    "df_inf_0_inc_timeline.to_csv('Inc_Timeline0.csv', index = False)\n",
    "df_inf_0_bjp_timeline.to_csv('BJP_Timeline0.csv', index = False)"
   ]
  },
  {
   "cell_type": "code",
   "execution_count": null,
   "id": "6f9f9929",
   "metadata": {},
   "outputs": [],
   "source": [
    "df_inf_0_inc_timeline = df_inf_0_inc_timeline[['Only_Date', 'Cluster_ID']]\n",
    "df_inf_0_bjp_timeline = df_inf_0_bjp_timeline[['Only_Date', 'Cluster_ID']]\n",
    "df_non_pol = df_non_pol[['Only_Date', 'Cluster_ID']]"
   ]
  },
  {
   "cell_type": "code",
   "execution_count": null,
   "id": "bcbc14b4",
   "metadata": {},
   "outputs": [],
   "source": [
    "df_inf_0_inc_timeline['date'] = pd.to_datetime(df_inf_0_inc_timeline['Only_Date'])\n",
    "df_inf_0_bjp_timeline['date'] = pd.to_datetime(df_inf_0_bjp_timeline['Only_Date'])\n",
    "df_non_pol['date'] = pd.to_datetime(df_non_pol['Only_Date'])"
   ]
  },
  {
   "cell_type": "code",
   "execution_count": null,
   "id": "0f246783",
   "metadata": {},
   "outputs": [],
   "source": [
    "df_inf_0_inc_timeline['date'] = df_inf_0_inc_timeline['date'].dt.to_period('M')\n",
    "df_inf_0_bjp_timeline['date'] = df_inf_0_bjp_timeline['date'].dt.to_period('M')\n",
    "df_non_pol['date'] = df_non_pol['date'].dt.to_period('M')"
   ]
  },
  {
   "cell_type": "code",
   "execution_count": null,
   "id": "1f455565",
   "metadata": {},
   "outputs": [],
   "source": [
    "df_inf_0_inc_timeline.Cluster_ID.sum()"
   ]
  },
  {
   "cell_type": "code",
   "execution_count": null,
   "id": "f01fc0b4",
   "metadata": {},
   "outputs": [],
   "source": [
    "df_inf_0_bjp_timeline.Cluster_ID.sum()"
   ]
  },
  {
   "cell_type": "code",
   "execution_count": null,
   "id": "39c4613d",
   "metadata": {},
   "outputs": [],
   "source": [
    "df_inf_0_inc_timeline[['date', 'Cluster_ID']].groupby('date').sum().reset_index().to_csv('INC_Timeline0_up.csv')"
   ]
  },
  {
   "cell_type": "code",
   "execution_count": null,
   "id": "a64d7684",
   "metadata": {},
   "outputs": [],
   "source": [
    "df_inf_0_bjp_timeline[['date', 'Cluster_ID']].groupby('date').sum().reset_index().to_csv('BJP_Timeline0_up.csv')"
   ]
  },
  {
   "cell_type": "code",
   "execution_count": null,
   "id": "aec32ce8",
   "metadata": {},
   "outputs": [],
   "source": [
    "df_non_pol[['date', 'Cluster_ID']].groupby('date').sum().reset_index().to_csv('Non_pol_up.csv')"
   ]
  },
  {
   "cell_type": "code",
   "execution_count": null,
   "id": "5ded1ff4",
   "metadata": {},
   "outputs": [],
   "source": [
    "df_io.to_csv('Temp_IO_data.csv', index = False)"
   ]
  },
  {
   "cell_type": "code",
   "execution_count": null,
   "id": "fd964d71",
   "metadata": {},
   "outputs": [],
   "source": [
    "df_inf_0_bjp_timeline['year_month'] = "
   ]
  },
  {
   "cell_type": "code",
   "execution_count": null,
   "id": "7dccc2f6",
   "metadata": {},
   "outputs": [],
   "source": [
    "df_inf_0_inc_timeline['date'] = pd.to_datetime(df_inf_0_inc_timeline['Only_Date'])\n",
    "df_inf_0_bjp_timeline['date'] = pd.to_datetime(df_inf_0_bjp_timeline['Only_Date'])"
   ]
  },
  {
   "cell_type": "code",
   "execution_count": null,
   "id": "c6145790",
   "metadata": {},
   "outputs": [],
   "source": [
    "df_inf_0_inc_timeline['year_month'] = df_inf_0_inc_timeline['date'].dt.to_period('M')\n",
    "df_inf_0_bjp_timeline['year_month'] = df_inf_0_bjp_timeline['date'].dt.to_period('M')"
   ]
  },
  {
   "cell_type": "code",
   "execution_count": null,
   "id": "0c50322c",
   "metadata": {},
   "outputs": [],
   "source": [
    "df_inf_0_bjp_timeline"
   ]
  },
  {
   "cell_type": "code",
   "execution_count": null,
   "id": "a09c3cfc",
   "metadata": {},
   "outputs": [],
   "source": [
    "df_inf_0_bjp_timeline2 = df_inf_0_inc_timeline\n",
    "df_inf_0_inc_timeline2 =df_inf_0_bjp_timeline"
   ]
  },
  {
   "cell_type": "code",
   "execution_count": null,
   "id": "70820eaa",
   "metadata": {},
   "outputs": [],
   "source": [
    "df_inf_0_bjp_timeline2.set_index('date', inplace=True)\n",
    "df_inf_0_inc_timeline2.set_index('date', inplace=True)"
   ]
  },
  {
   "cell_type": "code",
   "execution_count": null,
   "id": "f6c90ccb",
   "metadata": {},
   "outputs": [],
   "source": [
    "df_inf_0_bjp_timeline.groupby('year_month').count().sum()"
   ]
  },
  {
   "cell_type": "code",
   "execution_count": null,
   "id": "95cb2f9d",
   "metadata": {},
   "outputs": [],
   "source": [
    "monthly_posts_bjp = df_inf_0_bjp_timeline2.resample('M').sum().reset_index()\n",
    "monthly_posts_inc = df_inf_0_inc_timeline2.resample('M').sum().reset_index()"
   ]
  },
  {
   "cell_type": "code",
   "execution_count": null,
   "id": "66af1870",
   "metadata": {},
   "outputs": [],
   "source": [
    "monthly_posts_bjp.columns = ['Month', 'Total_Posts']\n",
    "monthly_posts_inc.columns = ['Month', 'Total_Posts']"
   ]
  },
  {
   "cell_type": "code",
   "execution_count": null,
   "id": "51625478",
   "metadata": {},
   "outputs": [],
   "source": [
    "df_non_pol.to_csv('Non_Pol_Timeline0.csv', index = False)\n",
    "df_inf_0_inc_timeline.to_csv('Inc_Timeline0.csv', index = False)\n",
    "df_inf_0_bjp_timeline.to_csv('BJP_Timeline0.csv', index = False)"
   ]
  },
  {
   "cell_type": "code",
   "execution_count": null,
   "id": "4117efd3",
   "metadata": {},
   "outputs": [],
   "source": [
    "df_filtered_bjp_0 = df_io[df_io.Influence_ID == 'BJP_Influence_0']\n",
    "df_filtered_inc_0 = df_io[df_io.Influence_ID == 'INC_Influence_0']"
   ]
  },
  {
   "cell_type": "code",
   "execution_count": null,
   "id": "1e9e1e7c",
   "metadata": {},
   "outputs": [],
   "source": [
    "numeric_columns = df_filtered_bjp_0.select_dtypes(include='number').columns\n",
    "df_summed_bjp_0 = df_filtered_bjp_0.groupby('Only_Date')[numeric_columns].sum().reset_index()\n",
    "\n",
    "numeric_columns = df_filtered_inc_0.select_dtypes(include='number').columns\n",
    "df_summed_inc_0 = df_filtered_inc_0.groupby('Only_Date')[numeric_columns].sum().reset_index()"
   ]
  },
  {
   "cell_type": "code",
   "execution_count": null,
   "id": "95794c48",
   "metadata": {},
   "outputs": [],
   "source": [
    "df_summed_bjp_0"
   ]
  },
  {
   "cell_type": "code",
   "execution_count": null,
   "id": "67cd87a7",
   "metadata": {},
   "outputs": [],
   "source": [
    "df_filtered_bjp_0.Total_Engagement.sum()"
   ]
  },
  {
   "cell_type": "code",
   "execution_count": null,
   "id": "1eb1dbbf",
   "metadata": {},
   "outputs": [],
   "source": [
    "df_filtered_inc_0.Total_Engagement.sum()"
   ]
  },
  {
   "cell_type": "code",
   "execution_count": null,
   "id": "c0f20362",
   "metadata": {},
   "outputs": [],
   "source": [
    "import matplotlib\n",
    "import matplotlib.pyplot as plt\n",
    "import pandas as pd\n",
    "from datetime import datetime"
   ]
  },
  {
   "cell_type": "code",
   "execution_count": null,
   "id": "6d5008c0",
   "metadata": {},
   "outputs": [],
   "source": [
    "plt.plot(df_inf_0_bjp_timeline.Only_Date, df_inf_0_bjp_timeline.Cluster_ID)"
   ]
  },
  {
   "cell_type": "code",
   "execution_count": null,
   "id": "fba5c73b",
   "metadata": {},
   "outputs": [],
   "source": [
    "df_account.columns"
   ]
  },
  {
   "cell_type": "code",
   "execution_count": null,
   "id": "e667946b",
   "metadata": {},
   "outputs": [],
   "source": [
    "df_io = pd.merge(df_io, df_account[['User_ID', 'acc_type']])"
   ]
  },
  {
   "cell_type": "code",
   "execution_count": null,
   "id": "bf08193f",
   "metadata": {},
   "outputs": [],
   "source": [
    "df_io = pd.merge(df_io, df_account[['User_ID', 'Influencer']])"
   ]
  },
  {
   "cell_type": "code",
   "execution_count": null,
   "id": "57b1d151",
   "metadata": {},
   "outputs": [],
   "source": [
    "df_io.loc[((df_io.Influence_ID == 'BJP_Influence_0') \n",
    "           | (df_io.Influence_ID == 'INC_Influence_0'))\n",
    "         & (df_io.New_Prediction == 3)].Total_Engagement.sum()"
   ]
  },
  {
   "cell_type": "code",
   "execution_count": null,
   "id": "a786cf10",
   "metadata": {},
   "outputs": [],
   "source": [
    "df_io.loc[((df_io.Influence_ID == 'BJP_Influence_0') \n",
    "           | (df_io.Influence_ID == 'INC_Influence_0'))\n",
    "         & (df_io.New_Prediction == 3)].Total_Engagement.sum()"
   ]
  },
  {
   "cell_type": "code",
   "execution_count": null,
   "id": "c2733963",
   "metadata": {},
   "outputs": [],
   "source": [
    "df_inc_io_acc_check  = df_io.loc[((df_io.Influence_ID == 'INC_Influence_0'))]\n",
    "df_bjp_io_acc_check  = df_io.loc[((df_io.Influence_ID == 'BJP_Influence_0'))]\n",
    "df_mix_io_acc_check  = df_io.loc[((df_io.Influence_ID == 'BJP_Influence_0') | (df_io.Influence_ID == 'INC_Influence_0'))]\n",
    "         "
   ]
  },
  {
   "cell_type": "code",
   "execution_count": null,
   "id": "d4bb7eb6",
   "metadata": {},
   "outputs": [],
   "source": [
    "df_inc_io_acc_check.groupby('Influencer').count()"
   ]
  },
  {
   "cell_type": "code",
   "execution_count": null,
   "id": "122b3116",
   "metadata": {},
   "outputs": [],
   "source": [
    "df_bjp_io_acc_check.groupby(['acc_type', 'User_ID']).count()"
   ]
  },
  {
   "cell_type": "code",
   "execution_count": null,
   "id": "d1e72215",
   "metadata": {},
   "outputs": [],
   "source": [
    "df_inc_io_acc_check.drop_duplicates('User_ID').groupby('Influencer').count()"
   ]
  },
  {
   "cell_type": "code",
   "execution_count": null,
   "id": "37a3b880",
   "metadata": {},
   "outputs": [],
   "source": [
    "df_inc_io_acc_check"
   ]
  },
  {
   "cell_type": "code",
   "execution_count": null,
   "id": "250045f8",
   "metadata": {},
   "outputs": [],
   "source": [
    "df_inc_io_acc_check[df_inc_io_acc_check.acc_type == 'Verified'].Total_Engagement.sum()"
   ]
  },
  {
   "cell_type": "code",
   "execution_count": null,
   "id": "890285af",
   "metadata": {},
   "outputs": [],
   "source": [
    "df_bjp_io_acc_check[df_bjp_io_acc_check.acc_type == 'Verified'].Total_Engagement.sum()"
   ]
  },
  {
   "cell_type": "code",
   "execution_count": null,
   "id": "4c859e3c",
   "metadata": {},
   "outputs": [],
   "source": [
    "df_inc_io_acc_check.Total_Engagement.mean()"
   ]
  },
  {
   "cell_type": "code",
   "execution_count": null,
   "id": "fcae0dd7",
   "metadata": {},
   "outputs": [],
   "source": [
    "df_bjp_io_acc_check.Total_Engagement.mean()"
   ]
  },
  {
   "cell_type": "code",
   "execution_count": null,
   "id": "fe958bb7",
   "metadata": {},
   "outputs": [],
   "source": [
    "df_inc_io_acc_check[df_inc_io_acc_check.Influencer == 'Influencer'].Total_Engagement.sum()"
   ]
  },
  {
   "cell_type": "code",
   "execution_count": null,
   "id": "a1912406",
   "metadata": {},
   "outputs": [],
   "source": [
    "df_bjp_io_acc_check[df_bjp_io_acc_check.Influencer == 'Influencer'].Total_Engagement.sum()"
   ]
  },
  {
   "cell_type": "code",
   "execution_count": null,
   "id": "f8f118b6",
   "metadata": {},
   "outputs": [],
   "source": [
    "print(len(df_bjp_io_acc_check[(df_bjp_io_acc_check.Influencer != 'Influencer')\n",
    "                   & (df_bjp_io_acc_check.acc_type != 'Verified')]))\n",
    "\n",
    "print(len(df_inc_io_acc_check[(df_inc_io_acc_check.Influencer != 'Influencer')\n",
    "                   & (df_inc_io_acc_check.acc_type != 'Verified')]))"
   ]
  },
  {
   "cell_type": "code",
   "execution_count": null,
   "id": "832f68b3",
   "metadata": {
    "scrolled": true
   },
   "outputs": [],
   "source": [
    "df_bjp_io_acc_check[(df_bjp_io_acc_check.Influencer != 'Influencer')\n",
    "                   & (df_bjp_io_acc_check.acc_type != 'Verified')].Total_Engagement.mean()"
   ]
  },
  {
   "cell_type": "code",
   "execution_count": null,
   "id": "b0059ef3",
   "metadata": {},
   "outputs": [],
   "source": [
    "df_inc_io_acc_check[(df_inc_io_acc_check.Influencer != 'Influencer')\n",
    "                   & (df_inc_io_acc_check.acc_type != 'Verified')].Total_Engagement.mean()"
   ]
  },
  {
   "cell_type": "code",
   "execution_count": null,
   "id": "9efd8938",
   "metadata": {
    "scrolled": true
   },
   "outputs": [],
   "source": [
    "df_account[['User_ID', 'acc_type']]"
   ]
  },
  {
   "cell_type": "code",
   "execution_count": null,
   "id": "8e9c2aa0",
   "metadata": {},
   "outputs": [],
   "source": []
  },
  {
   "cell_type": "code",
   "execution_count": null,
   "id": "3e5056d3",
   "metadata": {},
   "outputs": [],
   "source": [
    "df_non_pol_bjp = df_io[( (df_io.Influence_ID == 'BJP_Influence_0') ) & (df_io.New_Prediction == 3)].groupby('Only_Date').count().reset_index()"
   ]
  },
  {
   "cell_type": "code",
   "execution_count": null,
   "id": "a6ed0ae8",
   "metadata": {},
   "outputs": [],
   "source": [
    "df_non_pol_inc = df_io[( (df_io.Influence_ID == 'INC_Influence_0') ) & (df_io.New_Prediction == 3)].groupby('Only_Date').count().reset_index()"
   ]
  },
  {
   "cell_type": "code",
   "execution_count": null,
   "id": "5e56d3a0",
   "metadata": {},
   "outputs": [],
   "source": [
    "df_non_pol = pd.concat([df_non_pol_bjp, df_non_pol_inc])"
   ]
  },
  {
   "cell_type": "code",
   "execution_count": null,
   "id": "b4e74534",
   "metadata": {},
   "outputs": [],
   "source": [
    "df_non_pol"
   ]
  },
  {
   "cell_type": "code",
   "execution_count": null,
   "id": "b3613900",
   "metadata": {},
   "outputs": [],
   "source": [
    "df_non_pol_bjp['Cluster_ID'] = 1\n",
    "df_non_pol_inc['Cluster_ID'] = 1"
   ]
  },
  {
   "cell_type": "code",
   "execution_count": null,
   "id": "9d739739",
   "metadata": {},
   "outputs": [],
   "source": [
    "import matplotlib.pyplot as plt\n",
    "\n",
    "\n",
    "fig, ax1 = plt.subplots(figsize=(10, 3))\n",
    "\n",
    "bar_width = 0.4\n",
    "bjp_dates = df_inf_0_bjp_timeline.Only_Date - pd.Timedelta(days=bar_width / 2)\n",
    "inc_dates = df_inf_0_inc_timeline.Only_Date + pd.Timedelta(days=bar_width / 2)\n",
    "bars1 = ax1.bar(bjp_dates, df_inf_0_bjp_timeline.Cluster_ID, width=bar_width, label='BJP IO', color='orange')\n",
    "\n",
    "bars2 = ax1.bar(inc_dates, df_inf_0_inc_timeline.Cluster_ID, width=bar_width, label='INC IO', color='green')\n",
    "\n",
    "ax1.set_xlabel('Date')\n",
    "ax1.set_ylabel('Number of Tweets')\n",
    "ax1.set_title('Timeline of Influence Operation on China Topic')\n",
    "\n",
    "ax2 = ax1.twinx()\n",
    "scatter = ax2.scatter(df_non_pol.Only_Date, df_non_pol.Cluster_ID, label='Non-Political', color='blue', marker='x')\n",
    "ax2.set_ylabel('Number of Non-Political Accounts')\n",
    "ax2.set_ylim(-0.17, 2)  # Set y-axis range for the right side\n",
    "ax2.set_yticks([0, 1, 2])  # Show only specific ticks on the right y-axis\n",
    "\n",
    "lines_1, labels_1 = ax1.get_legend_handles_labels()\n",
    "lines_2, labels_2 = ax2.get_legend_handles_labels()\n",
    "\n",
    "ax1.grid(True, alpha=0.07)\n",
    "\n",
    "plt.tight_layout()\n",
    "\n",
    "plt.show()\n"
   ]
  },
  {
   "cell_type": "code",
   "execution_count": null,
   "id": "49b1d4b1",
   "metadata": {},
   "outputs": [],
   "source": [
    "import matplotlib.pyplot as plt\n",
    "import pandas as pd\n",
    "\n",
    "\n",
    "fig, ax1 = plt.subplots(figsize=(10, 6))\n",
    "\n",
    "bar_width = 0.4\n",
    "scaling_factor = 2\n",
    "\n",
    "def enlarge_bars(values, threshold=10, factor=scaling_factor):\n",
    "    return [v * factor if v < threshold else v for v in values]\n",
    "\n",
    "bjp_cluster_ids = enlarge_bars(df_inf_0_bjp_timeline.Cluster_ID)\n",
    "inc_cluster_ids = enlarge_bars(df_inf_0_inc_timeline.Cluster_ID)\n",
    "\n",
    "bjp_dates = df_inf_0_bjp_timeline.Only_Date - pd.Timedelta(days=bar_width / 2)\n",
    "inc_dates = df_inf_0_inc_timeline.Only_Date + pd.Timedelta(days=bar_width / 2)\n",
    "\n",
    "bars1 = ax1.bar(bjp_dates, bjp_cluster_ids, width=bar_width, label='BJP IO', color='blue')\n",
    "\n",
    "bars2 = ax1.bar(inc_dates, inc_cluster_ids, width=bar_width, label='INC IO', color='red')\n",
    "\n",
    "ax1.set_xlabel('Date')\n",
    "ax1.set_ylabel('Number of Tweets')\n",
    "ax1.set_title('Timeline of Influence Operation on China Topic')\n",
    "\n",
    "ax2 = ax1.twinx()\n",
    "scatter = ax2.scatter(df_non_pol.Only_Date, df_non_pol.Cluster_ID, label='Non-Political', color='green', marker='x')\n",
    "ax2.set_ylabel('Number of Non-Political Accounts')\n",
    "ax2.set_ylim(-0.17, 2)  \n",
    "ax2.set_yticks([0, 1, 2]) \n",
    "\n",
    "lines_1, labels_1 = ax1.get_legend_handles_labels()\n",
    "lines_2, labels_2 = ax2.get_legend_handles_labels()\n",
    "ax1.legend(lines_1 + [scatter], labels_1 + ['Non-Political'], loc='upper left')\n",
    "\n",
    "ax1.grid(True, alpha=0.07)\n",
    "\n",
    "plt.tight_layout()\n",
    "\n",
    "plt.show()\n"
   ]
  },
  {
   "cell_type": "code",
   "execution_count": null,
   "id": "edc5be35",
   "metadata": {},
   "outputs": [],
   "source": [
    "import matplotlib.pyplot as plt\n",
    "import pandas as pd\n",
    "\n",
    "\n",
    "fig, (ax1, ax2) = plt.subplots(2, 1, figsize=(10, 12))  # 2 rows, 1 column\n",
    "\n",
    "ax1.plot(df_inf_0_bjp_timeline.Only_Date, df_inf_0_bjp_timeline.Cluster_ID, label='BJP Timeline', color='blue')\n",
    "ax1.scatter(df_non_pol_bjp.Only_Date, df_non_pol_bjp.Cluster_ID, label='Non-Political', color='green', marker='*')\n",
    "ax1.set_title('BJP Timeline')\n",
    "ax1.set_xlabel('Date')\n",
    "ax1.set_ylabel('Cluster ID')\n",
    "ax1.legend()\n",
    "ax1.grid(True, alpha=0.4) \n",
    "\n",
    "ax2.plot(df_inf_0_inc_timeline.Only_Date, df_inf_0_inc_timeline.Cluster_ID, label='INC Timeline', color='red')\n",
    "ax2.scatter(df_non_pol_inc.Only_Date, df_non_pol_inc.Cluster_ID, label='Non-Political', color='green', marker='*')\n",
    "ax2.set_title('INC Timeline with Non-Political Data')\n",
    "ax2.set_xlabel('Date')\n",
    "ax2.set_ylabel('Cluster ID')\n",
    "ax2.legend()\n",
    "ax2.grid(True, alpha=0.4)  \n",
    "\n",
    "plt.tight_layout()\n",
    "\n",
    "plt.show()\n"
   ]
  },
  {
   "cell_type": "code",
   "execution_count": null,
   "id": "fcc2cb71",
   "metadata": {},
   "outputs": [],
   "source": [
    "import matplotlib.pyplot as plt\n",
    "import pandas as pd\n",
    "\n",
    "\n",
    "fig, (ax1, ax2) = plt.subplots(2, 1, figsize=(10, 6))  # 2 rows, 1 column\n",
    "\n",
    "line1, = ax1.plot(df_inf_0_bjp_timeline.Only_Date, df_inf_0_bjp_timeline.Cluster_ID, label='BJP Timeline', color='blue')\n",
    "ax1.set_xlabel('Date')\n",
    "ax1.set_ylabel('Number of Tweets')\n",
    "ax1.set_ylim(-5, 60)  # Set y-axis range for the left side\n",
    "ax1.grid(True, alpha=0.1)  # Reduce grid visibility to 40%\n",
    "\n",
    "ax1_twin = ax1.twinx()\n",
    "scatter1 = ax1_twin.scatter(df_non_pol_bjp.Only_Date, df_non_pol_bjp.Cluster_ID, label='Non-Political', color='green', marker='*')\n",
    "ax1_twin.set_ylabel('Number of non-political accounts')\n",
    "ax1_twin.set_ylim(-0.17, 2)  # Set y-axis range for the right side\n",
    "ax1_twin.set_yticks([0, 1, 2])  # Show only specific ticks on the right y-axis\n",
    "\n",
    "lines_1, labels_1 = ax1.get_legend_handles_labels()\n",
    "lines_1_twin, labels_1_twin = ax1_twin.get_legend_handles_labels()\n",
    "ax1.legend(lines_1 + [scatter1], labels_1 + ['Non-Political'], loc='upper left')\n",
    "\n",
    "line2, = ax2.plot(df_inf_0_inc_timeline.Only_Date, df_inf_0_inc_timeline.Cluster_ID, label='INC Timeline', color='red')\n",
    "ax2.set_xlabel('Date')\n",
    "ax2.set_ylabel('Number of Tweets')\n",
    "ax2.set_ylim(-5, 60)  # Set y-axis range for the left side\n",
    "ax2.grid(True, alpha=0.1)  # Reduce grid visibility to 40%\n",
    "\n",
    "ax2_twin = ax2.twinx()\n",
    "scatter2 = ax2_twin.scatter(df_non_pol_inc.Only_Date, df_non_pol_inc.Cluster_ID, label='Non-Political', color='green', marker='*')\n",
    "ax2_twin.set_ylabel('Number of non-political accounts')\n",
    "ax2_twin.set_ylim(-0.17, 2)  # Set y-axis range for the right side\n",
    "ax2_twin.set_yticks([0, 1, 2])  # Show only specific ticks on the right y-axis\n",
    "\n",
    "lines_2, labels_2 = ax2.get_legend_handles_labels()\n",
    "lines_2_twin, labels_2_twin = ax2_twin.get_legend_handles_labels()\n",
    "ax2.legend(lines_2 + [scatter2], labels_2 + ['Non-Political'], loc='upper left')\n",
    "\n",
    "plt.tight_layout()\n",
    "\n",
    "plt.show()\n"
   ]
  },
  {
   "cell_type": "code",
   "execution_count": null,
   "id": "2968b411",
   "metadata": {},
   "outputs": [],
   "source": [
    "import matplotlib.pyplot as plt\n",
    "import pandas as pd\n",
    "\n",
    "\n",
    "fig, (ax1, ax2) = plt.subplots(2, 1, figsize=(10, 6))  \n",
    "\n",
    "line1, = ax1.plot(df_inf_0_bjp_timeline.Only_Date, df_inf_0_bjp_timeline.Cluster_ID, label='BJP Timeline', color='blue')\n",
    "ax1.set_ylabel('Number of Tweets')\n",
    "ax1.set_ylim(-5, 60)  \n",
    "ax1.grid(True, alpha=0.1)  \n",
    "ax1.xaxis.set_visible(False) \n",
    "\n",
    "ax1_twin = ax1.twinx()\n",
    "scatter1 = ax1_twin.scatter(df_non_pol_bjp.Only_Date, df_non_pol_bjp.Cluster_ID, label='Non-Political', color='green', marker='*')\n",
    "ax1_twin.set_ylabel('Number of non-political accounts')\n",
    "ax1_twin.set_ylim(-0.17, 2) \n",
    "ax1_twin.set_yticks([0, 1, 2])  \n",
    "\n",
    "lines_1, labels_1 = ax1.get_legend_handles_labels()\n",
    "lines_1_twin, labels_1_twin = ax1_twin.get_legend_handles_labels()\n",
    "ax1.legend(lines_1 + [scatter1], labels_1 + ['Non-Political'], loc='upper left')\n",
    "\n",
    "line2, = ax2.plot(df_inf_0_inc_timeline.Only_Date, df_inf_0_inc_timeline.Cluster_ID, label='INC Timeline', color='red')\n",
    "ax2.set_xlabel('Date')\n",
    "ax2.set_ylabel('Number of Tweets')\n",
    "ax2.set_ylim(-5, 60)  \n",
    "ax2.grid(True, alpha=0.1) \n",
    "ax2_twin = ax2.twinx()\n",
    "scatter2 = ax2_twin.scatter(df_non_pol_inc.Only_Date, df_non_pol_inc.Cluster_ID, label='Non-Political', color='green', marker='*')\n",
    "ax2_twin.set_ylabel('Number of non-political accounts')\n",
    "ax2_twin.set_ylim(-0.17, 2) \n",
    "ax2_twin.set_yticks([0, 1, 2])  \n",
    "lines_2, labels_2 = ax2.get_legend_handles_labels()\n",
    "lines_2_twin, labels_2_twin = ax2_twin.get_legend_handles_labels()\n",
    "ax2.legend(lines_2 + [scatter2], labels_2 + ['Non-Political'], loc='upper left')\n",
    "\n",
    "plt.tight_layout()\n",
    "\n",
    "plt.show()\n"
   ]
  },
  {
   "cell_type": "code",
   "execution_count": null,
   "id": "ebdbc4cd",
   "metadata": {},
   "outputs": [],
   "source": [
    "import matplotlib.pyplot as plt\n",
    "import pandas as pd\n",
    "\n",
    "\n",
    "df_combined_bjp = pd.DataFrame({\n",
    "    'Date': df_inf_0_bjp_timeline.Only_Date,\n",
    "    'BJP_Cluster_ID': df_inf_0_bjp_timeline.Cluster_ID,\n",
    "    'INC_Cluster_ID': df_inf_0_inc_timeline.Cluster_ID,\n",
    "    'Non_Political_BJP': df_non_pol_bjp.Cluster_ID,\n",
    "    'Non_Political_INC': df_non_pol_inc.Cluster_ID\n",
    "})\n",
    "\n",
    "fig, ax = plt.subplots(figsize=(10, 6)) \n",
    "\n",
    "line1, = ax.plot(df_combined_bjp['Date'], df_combined_bjp['BJP_Cluster_ID'], label='BJP Timeline', color='blue')\n",
    "scatter1 = ax.scatter(df_combined_bjp['Date'], df_combined_bjp['Non_Political_BJP'], label='Non-Political (BJP)', color='blue', marker='*')\n",
    "\n",
    "line2, = ax.plot(df_combined_bjp['Date'], df_combined_bjp['INC_Cluster_ID'], label='INC Timeline', color='red')\n",
    "scatter2 = ax.scatter(df_combined_bjp['Date'], df_combined_bjp['Non_Political_INC'], label='Non-Political (INC)', color='red', marker='o')\n",
    "\n",
    "ax.set_xlabel('Date')\n",
    "ax.set_ylabel('Cluster ID')\n",
    "ax.set_ylim(-5, 60)  \n",
    "\n",
    "lines = [line1, line2]\n",
    "scatters = [scatter1, scatter2]\n",
    "labels = ['BJP Timeline', 'INC Timeline', 'Non-Political (BJP)', 'Non-Political (INC)']\n",
    "ax.legend(lines + scatters, labels, loc='upper left')\n",
    "\n",
    "plt.tight_layout()\n",
    "\n",
    "plt.show()\n"
   ]
  },
  {
   "cell_type": "code",
   "execution_count": null,
   "id": "cf67326e",
   "metadata": {},
   "outputs": [],
   "source": [
    "df_io"
   ]
  },
  {
   "cell_type": "code",
   "execution_count": null,
   "id": "919b05a9",
   "metadata": {},
   "outputs": [],
   "source": [
    "def extract_hashtags(text):\n",
    "    return re.findall(r'#\\w+', text)\n",
    "\n",
    "all_hashtags = sum(df_io['Tweet_Text'].apply(extract_hashtags), [])"
   ]
  },
  {
   "cell_type": "code",
   "execution_count": null,
   "id": "e323c323",
   "metadata": {},
   "outputs": [],
   "source": [
    "from collections import Counter\n",
    "hashtag_counts = Counter(all_hashtags)\n",
    "\n",
    "top_50_hashtags = hashtag_counts.most_common(100)\n",
    "\n",
    "for hashtag, count in top_50_hashtags:\n",
    "    print(f'{hashtag}: {count}')"
   ]
  },
  {
   "cell_type": "code",
   "execution_count": null,
   "id": "a24e7ee5",
   "metadata": {},
   "outputs": [],
   "source": [
    "def find_tweets_with_hashtag(df, hashtag):\n",
    "    hashtag_pattern = re.compile(fr'\\b{re.escape(hashtag)}\\b', re.IGNORECASE)\n",
    "    return df[df['Tweet_Text'].str.contains(hashtag_pattern)]\n",
    "\n",
    "specific_hashtag = '#TheKashmirFiles'\n",
    "\n",
    "tweets_with_specific_hashtag = find_tweets_with_hashtag(df_io, specific_hashtag)\n",
    "\n",
    "print(tweets_with_specific_hashtag)"
   ]
  },
  {
   "cell_type": "code",
   "execution_count": null,
   "id": "07f0c0a0",
   "metadata": {},
   "outputs": [],
   "source": [
    "hashtag_pattern"
   ]
  },
  {
   "cell_type": "code",
   "execution_count": null,
   "id": "4ade9869",
   "metadata": {
    "scrolled": true
   },
   "outputs": [],
   "source": [
    "specific_hashtag = '#BoycottPathaanMovie'\n",
    "print(len(df_io[df_io['Tweet_Text'].str.contains(specific_hashtag)].groupby('Influence_ID_Update').count()))"
   ]
  },
  {
   "cell_type": "code",
   "execution_count": null,
   "id": "48af386d",
   "metadata": {},
   "outputs": [],
   "source": [
    "df_io.groupby(['Community_ID', 'Influence_ID']).count()"
   ]
  },
  {
   "cell_type": "code",
   "execution_count": null,
   "id": "74ac103f",
   "metadata": {},
   "outputs": [],
   "source": [
    "df_io.to_csv('Wild_IO.csv', index = False)"
   ]
  },
  {
   "cell_type": "code",
   "execution_count": null,
   "id": "708c9846",
   "metadata": {},
   "outputs": [],
   "source": [
    "temp2 = df_io.groupby(['Community_ID', 'Influence_ID']).count().reset_index().groupby('Community_ID').count().reset_index()"
   ]
  },
  {
   "cell_type": "code",
   "execution_count": null,
   "id": "c4457a5b",
   "metadata": {},
   "outputs": [],
   "source": [
    "temp2[['Community_ID', 'Cluster_ID']].to_csv(\"Inf_Group_Count.csv\")"
   ]
  },
  {
   "cell_type": "code",
   "execution_count": null,
   "id": "9f18cac8",
   "metadata": {},
   "outputs": [],
   "source": [
    "temp2"
   ]
  },
  {
   "cell_type": "code",
   "execution_count": null,
   "id": "f3473093",
   "metadata": {},
   "outputs": [],
   "source": [
    "df_io[df_io.Influence_ID == 'BJP_Influence_0']"
   ]
  },
  {
   "cell_type": "code",
   "execution_count": null,
   "id": "d62ddda1",
   "metadata": {},
   "outputs": [],
   "source": [
    "df_io[df_io.Influence_ID == 'INC_Influence_0']"
   ]
  },
  {
   "cell_type": "code",
   "execution_count": null,
   "id": "0689af96",
   "metadata": {},
   "outputs": [],
   "source": [
    "df_io.groupby(['Influence_ID', 'Community_ID']).count()"
   ]
  },
  {
   "cell_type": "code",
   "execution_count": null,
   "id": "d7019519",
   "metadata": {},
   "outputs": [],
   "source": [
    "df_io['Influence_ID_Update'] = df_io['Influence_ID'] + '_' + df_io['Community_ID'].astype('str')"
   ]
  },
  {
   "cell_type": "code",
   "execution_count": null,
   "id": "f5902b04",
   "metadata": {},
   "outputs": [],
   "source": [
    "df_io_new_count = df_io.groupby('Influence_ID_Update').count().reset_index()"
   ]
  },
  {
   "cell_type": "code",
   "execution_count": null,
   "id": "2a90ee4f",
   "metadata": {},
   "outputs": [],
   "source": [
    "df_io2 = df_io[~df_io['Influence_ID_Update'].str.contains(\"nan\")]"
   ]
  },
  {
   "cell_type": "code",
   "execution_count": null,
   "id": "45d108e2",
   "metadata": {},
   "outputs": [],
   "source": [
    "a_temp = df_io_new_count[df_io_new_count['Influence_ID_Update'].str.contains(\"nan\")].Influence_ID_Update"
   ]
  },
  {
   "cell_type": "code",
   "execution_count": null,
   "id": "ba4db3de",
   "metadata": {},
   "outputs": [],
   "source": [
    "print(len(df_io_new_count) - len(df_io_new_count[df_io_new_count['Influence_ID_Update'].str.contains(\"nan\")]))"
   ]
  },
  {
   "cell_type": "code",
   "execution_count": null,
   "id": "11ba6db6",
   "metadata": {},
   "outputs": [],
   "source": [
    "df_io_new_count2 = df_io_new_count[~df_io_new_count.Influence_ID_Update.isin(a_temp)]"
   ]
  },
  {
   "cell_type": "code",
   "execution_count": null,
   "id": "ced1d428",
   "metadata": {},
   "outputs": [],
   "source": [
    "df_io_new_count2[df_io_new_count2['Influence_ID_Update'].str.contains(\"BJP\")]"
   ]
  },
  {
   "cell_type": "code",
   "execution_count": null,
   "id": "c9e257c7",
   "metadata": {},
   "outputs": [],
   "source": [
    "df_io_new_count2[df_io_new_count2['Influence_ID_Update'].str.contains(\"INC\")]"
   ]
  },
  {
   "cell_type": "code",
   "execution_count": null,
   "id": "159f21a4",
   "metadata": {},
   "outputs": [],
   "source": [
    "df_io.loc[df_io.Influence_ID_Update == 'BJP_Influence_0_0.0'].groupby('Cluster_ID').count()"
   ]
  },
  {
   "cell_type": "code",
   "execution_count": null,
   "id": "987ebefa",
   "metadata": {},
   "outputs": [],
   "source": [
    "df_io[df_io.New_Prediction == 3].groupby('Influence_ID_Update').count()"
   ]
  },
  {
   "cell_type": "code",
   "execution_count": null,
   "id": "c0dfe8bb",
   "metadata": {},
   "outputs": [],
   "source": [
    "hijacked_io_new = []\n",
    "for i in df_io[df_io.New_Prediction == 3.0].Influence_ID_Update.unique().tolist():\n",
    "    temp_data = df_io[df_io.Influence_ID_Update == i].reset_index(drop = True)\n",
    "    if temp_data.iloc[0].New_Prediction == 3.0:\n",
    "        if bool (set(temp_data.New_Prediction.tolist()[1:]).intersection(set([0,1,2]))):\n",
    "            hijacked_io_new.append(i)"
   ]
  },
  {
   "cell_type": "code",
   "execution_count": null,
   "id": "986347bd",
   "metadata": {},
   "outputs": [],
   "source": [
    "len(hijacked_io_new)"
   ]
  },
  {
   "cell_type": "code",
   "execution_count": null,
   "id": "e4c544aa",
   "metadata": {},
   "outputs": [],
   "source": [
    "adopted_io_new = []\n",
    "for i in df_io[df_io.New_Prediction == 3.0].Influence_ID_Update.unique().tolist():\n",
    "    temp_data = df_io[df_io.Influence_ID_Update == i].reset_index(drop = True)\n",
    "    if temp_data.New_Prediction.tolist()[0] in [0, 1,2]:\n",
    "        if set(temp_data.New_Prediction.tolist()[1:]).intersection(set([3])):\n",
    "            adopted_io_new.append(i)"
   ]
  },
  {
   "cell_type": "code",
   "execution_count": null,
   "id": "960f93c2",
   "metadata": {},
   "outputs": [],
   "source": [
    "len(adopted_io_new)"
   ]
  },
  {
   "cell_type": "code",
   "execution_count": null,
   "id": "e1e2ab3e",
   "metadata": {},
   "outputs": [],
   "source": [
    "df_io[df_io.Influence_ID_Update.isin(hijacked_io_new)].groupby('Cluster_ID').count()"
   ]
  },
  {
   "cell_type": "code",
   "execution_count": null,
   "id": "d84dae4c",
   "metadata": {},
   "outputs": [],
   "source": [
    "df_io.groupby(['Community_ID', 'Influence_ID']).count()"
   ]
  },
  {
   "cell_type": "code",
   "execution_count": null,
   "id": "c26f2311",
   "metadata": {},
   "outputs": [],
   "source": [
    "df_io[df_io.Influence_ID == 'BJP_Influence_0'].groupby('Influence_ID_Update').count()"
   ]
  },
  {
   "cell_type": "code",
   "execution_count": null,
   "id": "fb206d7a",
   "metadata": {},
   "outputs": [],
   "source": [
    "df_io[df_io.Influence_ID == 'INC_Influence_0'].groupby('Influence_ID_Update').count()"
   ]
  },
  {
   "cell_type": "code",
   "execution_count": null,
   "id": "fc015e48",
   "metadata": {},
   "outputs": [],
   "source": [
    "df_io[df_io.Influence_ID == 'BJP_Influence_0'].iloc[0:10][['Cluster_ID', 'Tweet_Time', 'Tweet_Text', 'Party_Label3', 'Tweet_Link']]"
   ]
  },
  {
   "cell_type": "code",
   "execution_count": null,
   "id": "7ea2be39",
   "metadata": {},
   "outputs": [],
   "source": [
    "df_io.columns"
   ]
  },
  {
   "cell_type": "code",
   "execution_count": null,
   "id": "805b8e5f",
   "metadata": {},
   "outputs": [],
   "source": [
    "df_io2.groupby(['Community_ID', 'Influence_ID']).count().reset_index().groupby('Community_ID').count().sum()"
   ]
  },
  {
   "cell_type": "code",
   "execution_count": null,
   "id": "d050914e",
   "metadata": {},
   "outputs": [],
   "source": [
    "df_io2.groupby('Influence_ID_Update').count().sort_values(by = 'Tweet_ID').iloc[-430:]"
   ]
  }
 ],
 "metadata": {
  "kernelspec": {
   "display_name": "Python 3 (ipykernel)",
   "language": "python",
   "name": "python3"
  },
  "language_info": {
   "codemirror_mode": {
    "name": "ipython",
    "version": 3
   },
   "file_extension": ".py",
   "mimetype": "text/x-python",
   "name": "python",
   "nbconvert_exporter": "python",
   "pygments_lexer": "ipython3",
   "version": "3.9.13"
  }
 },
 "nbformat": 4,
 "nbformat_minor": 5
}
