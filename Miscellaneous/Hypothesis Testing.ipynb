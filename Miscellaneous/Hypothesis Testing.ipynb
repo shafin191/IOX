{
 "cells": [
  {
   "cell_type": "code",
   "execution_count": null,
   "id": "e8159abd",
   "metadata": {},
   "outputs": [],
   "source": [
    "import pandas as pd\n",
    "import numpy as np\n",
    "from scipy.stats import ttest_ind\n",
    "from scipy import stats"
   ]
  },
  {
   "cell_type": "code",
   "execution_count": null,
   "id": "e0f5d9a0",
   "metadata": {},
   "outputs": [],
   "source": [
    "df = pd.read_csv('All_Fake_without_debunkers_Updated.csv')"
   ]
  },
  {
   "cell_type": "code",
   "execution_count": null,
   "id": "839b8fc2",
   "metadata": {},
   "outputs": [],
   "source": [
    "df.columns"
   ]
  },
  {
   "cell_type": "code",
   "execution_count": null,
   "id": "a65b29c8",
   "metadata": {},
   "outputs": [],
   "source": [
    "df_follower_ver = df.loc[df.acc_type == 'Verified'].UserFollowers.tolist()\n",
    "df_follower_bot = df.loc[df.acc_type == 'Bot'].UserFollowers.tolist()"
   ]
  },
  {
   "cell_type": "code",
   "execution_count": null,
   "id": "a123b440",
   "metadata": {},
   "outputs": [],
   "source": [
    "print(np.var(df_follower_ver), np.var(df_follower_bot))"
   ]
  },
  {
   "cell_type": "code",
   "execution_count": null,
   "id": "8113aaec",
   "metadata": {},
   "outputs": [],
   "source": [
    "stats.ttest_ind(a=df_follower_ver, b=df_follower_bot, equal_var=False)"
   ]
  },
  {
   "cell_type": "code",
   "execution_count": null,
   "id": "0e0ccc28",
   "metadata": {},
   "outputs": [],
   "source": [
    "df2 = pd.read_csv('Account_wise_Fake_Tweet_Engagement.csv')"
   ]
  },
  {
   "cell_type": "code",
   "execution_count": null,
   "id": "feee1c1f",
   "metadata": {},
   "outputs": [],
   "source": [
    "df2"
   ]
  },
  {
   "cell_type": "code",
   "execution_count": null,
   "id": "2841b128",
   "metadata": {},
   "outputs": [],
   "source": [
    "df_follower_ver2 = df2.loc[df2.acc_type == 'Verified'].Average_Engagement_on_Fake_Post.tolist()\n",
    "df_follower_bot2 = df2.loc[df2.acc_type == 'Bot'].Average_Engagement_on_Fake_Post.tolist()\n",
    "df_follower_reg2 = df2.loc[df2.acc_type == 'Regular'].Average_Engagement_on_Fake_Post.tolist()"
   ]
  },
  {
   "cell_type": "code",
   "execution_count": null,
   "id": "b2cf0b85",
   "metadata": {},
   "outputs": [],
   "source": [
    "stats.ttest_ind(a=df_follower_ver2, b=df_follower_bot2, equal_var=False)"
   ]
  },
  {
   "cell_type": "code",
   "execution_count": null,
   "id": "df6e64eb",
   "metadata": {},
   "outputs": [],
   "source": [
    "stats.ttest_ind(a=df_follower_ver2, b=df_follower_reg2, equal_var=False)"
   ]
  },
  {
   "cell_type": "code",
   "execution_count": null,
   "id": "150f5381",
   "metadata": {},
   "outputs": [],
   "source": [
    "Column6 = [5.793775715428434e-11, 1.4196250744299459e-10]"
   ]
  },
  {
   "cell_type": "code",
   "execution_count": null,
   "id": "39a33dc5",
   "metadata": {},
   "outputs": [],
   "source": [
    "from statsmodels.sandbox.stats.multicomp import multipletests\n",
    "p_adjusted = multipletests(Column6, method='bonferroni')"
   ]
  },
  {
   "cell_type": "code",
   "execution_count": null,
   "id": "a1e9e2ae",
   "metadata": {},
   "outputs": [],
   "source": [
    "p_adjusted"
   ]
  },
  {
   "cell_type": "code",
   "execution_count": null,
   "id": "1417ebf6",
   "metadata": {},
   "outputs": [],
   "source": [
    "multipletests(Column6, method='bonferroni')"
   ]
  },
  {
   "cell_type": "code",
   "execution_count": null,
   "id": "c0af7223",
   "metadata": {},
   "outputs": [],
   "source": [
    "df2.loc[df2.acc_type == 'Regular'].Average_Engagement_on_Fake_Post.describe()"
   ]
  },
  {
   "cell_type": "code",
   "execution_count": null,
   "id": "dac5bb49",
   "metadata": {},
   "outputs": [],
   "source": [
    "df2.loc[df2.acc_type == 'Verified'].Average_Engagement_on_Fake_Post.describe()"
   ]
  },
  {
   "cell_type": "code",
   "execution_count": null,
   "id": "c27032b1",
   "metadata": {},
   "outputs": [],
   "source": [
    "df2"
   ]
  },
  {
   "cell_type": "code",
   "execution_count": null,
   "id": "97984f5f",
   "metadata": {},
   "outputs": [],
   "source": []
  }
 ],
 "metadata": {
  "kernelspec": {
   "display_name": "Python 3 (ipykernel)",
   "language": "python",
   "name": "python3"
  },
  "language_info": {
   "codemirror_mode": {
    "name": "ipython",
    "version": 3
   },
   "file_extension": ".py",
   "mimetype": "text/x-python",
   "name": "python",
   "nbconvert_exporter": "python",
   "pygments_lexer": "ipython3",
   "version": "3.9.13"
  }
 },
 "nbformat": 4,
 "nbformat_minor": 5
}
