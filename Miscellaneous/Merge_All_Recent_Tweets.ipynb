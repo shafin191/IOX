{
 "cells": [
  {
   "cell_type": "code",
   "execution_count": null,
   "id": "9d316998",
   "metadata": {},
   "outputs": [],
   "source": [
    "import pandas as pd\n",
    "import glob\n",
    "import os\n",
    "\n",
    "directory = '/disk/mnemo/users/randomuser/SBERT All Embedding/Group Tweets/'\n",
    "output_file = 'merged_output.csv'\n",
    "\n",
    "csv_files = glob.glob(os.path.join(directory, '**', '*.csv'), recursive=True)\n",
    "\n",
    "dataframes = []\n",
    "for file in csv_files:\n",
    "    if os.path.getsize(file) > 0:\n",
    "        try:\n",
    "            df = pd.read_csv(file)\n",
    "            dataframes.append(df)\n",
    "        except pd.errors.EmptyDataError:\n",
    "            print(f'Skipping empty file: {file}')\n",
    "    else:\n",
    "        print(f'Skipping empty file: {file}')\n",
    "\n",
    "if dataframes:\n",
    "    merged_df = pd.concat(dataframes, ignore_index=True)\n",
    "    merged_df.to_csv(output_file, index=False)\n",
    "    print(f'Merged {len(dataframes)} files into {output_file}')\n",
    "else:\n",
    "    print('No valid CSV files to merge.')\n"
   ]
  },
  {
   "cell_type": "code",
   "execution_count": null,
   "id": "600699c5",
   "metadata": {},
   "outputs": [],
   "source": [
    "output_file = 'merged_output_Group.csv'\n",
    "if dataframes:\n",
    "    merged_df = pd.concat(dataframes, ignore_index=True)\n",
    "\n",
    "    merged_df.to_csv(output_file, index=False)\n",
    "    print(f'Merged {len(dataframes)} files into {output_file}')\n",
    "else:\n",
    "    print('No valid CSV files to merge.')"
   ]
  },
  {
   "cell_type": "code",
   "execution_count": null,
   "id": "a3ed2f9b",
   "metadata": {},
   "outputs": [],
   "source": [
    "import pandas as pd\n",
    "import glob\n",
    "import os\n",
    "\n",
    "directory = '/disk/mnemo/users/randomuser/SBERT All Embedding/Monitor All Account/'\n",
    "output_file = 'merged_output_All.csv'\n",
    "prob = 1\n",
    "\n",
    "csv_files = glob.glob(os.path.join(directory, '**', '*.csv'), recursive=True)\n",
    "\n",
    "dataframes2 = []\n",
    "\n",
    "for file in csv_files:\n",
    "    if os.path.getsize(file) > 0:\n",
    "        try:\n",
    "            df = pd.read_csv(file)\n",
    "            dataframes2.append(df)\n",
    "        except pd.errors.EmptyDataError:\n",
    "            prob = 1\n",
    "    else:\n",
    "        prob = 1\n",
    "\n",
    "if dataframes:\n",
    "    merged_df2 = pd.concat(dataframes2, ignore_index=True)\n",
    "\n",
    "    merged_df2.to_csv(output_file, index=False)\n",
    "    print(f'Merged {len(dataframes2)} files into {output_file}')\n",
    "else:\n",
    "    print('No valid CSV files to merge.')\n"
   ]
  },
  {
   "cell_type": "code",
   "execution_count": null,
   "id": "576e0da6",
   "metadata": {},
   "outputs": [],
   "source": [
    "df_new_fake = pd.read_csv('/disk/mnemo/users/randomuser/SBERT All Embedding/AltNews_New_Data/New_Fake_Tweets.csv')"
   ]
  },
  {
   "cell_type": "code",
   "execution_count": null,
   "id": "db7bf715",
   "metadata": {},
   "outputs": [],
   "source": [
    "df_new_fake.Tweet_ID.tolist()"
   ]
  },
  {
   "cell_type": "code",
   "execution_count": null,
   "id": "b241d3da",
   "metadata": {},
   "outputs": [],
   "source": [
    "merged_df[merged_df.Tweet_ID.isin(df_new_fake.Tweet_ID.tolist())]"
   ]
  },
  {
   "cell_type": "code",
   "execution_count": null,
   "id": "6b0b608d",
   "metadata": {},
   "outputs": [],
   "source": [
    "df_tweet = pd.concat(dataframes, ignore_index=True)"
   ]
  },
  {
   "cell_type": "code",
   "execution_count": null,
   "id": "185cdc10",
   "metadata": {},
   "outputs": [],
   "source": [
    "len(df_tweet)"
   ]
  },
  {
   "cell_type": "code",
   "execution_count": null,
   "id": "326b364d",
   "metadata": {},
   "outputs": [],
   "source": [
    "merged_df2[merged_df2.Tweet_ID.isin(df_new_fake.Tweet_ID.tolist())]"
   ]
  }
 ],
 "metadata": {
  "kernelspec": {
   "display_name": "Python 3 (ipykernel)",
   "language": "python",
   "name": "python3"
  },
  "language_info": {
   "codemirror_mode": {
    "name": "ipython",
    "version": 3
   },
   "file_extension": ".py",
   "mimetype": "text/x-python",
   "name": "python",
   "nbconvert_exporter": "python",
   "pygments_lexer": "ipython3",
   "version": "3.9.13"
  }
 },
 "nbformat": 4,
 "nbformat_minor": 5
}
