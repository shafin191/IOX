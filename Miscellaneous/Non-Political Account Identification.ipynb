{
 "cells": [
  {
   "cell_type": "code",
   "execution_count": null,
   "id": "84b4e3d0",
   "metadata": {},
   "outputs": [],
   "source": [
    "import pandas as pd\n",
    "import os \n",
    "import numpy as np"
   ]
  },
  {
   "cell_type": "code",
   "execution_count": null,
   "id": "95ce743e",
   "metadata": {},
   "outputs": [],
   "source": [
    "def merge_csv(path_dir):\n",
    "    directory = path_dir\n",
    "    dfs = []\n",
    "\n",
    "    for filename in os.listdir(directory):\n",
    "        if filename.endswith('.csv'):\n",
    "            filepath = os.path.join(directory, filename)\n",
    "            df = pd.read_csv(filepath, lineterminator='\\n', dtype = 'str')\n",
    "            \n",
    "            dfs.append(df)\n",
    "\n",
    "    merged_df = pd.concat(dfs, ignore_index=True)\n",
    "    return merged_df\n"
   ]
  },
  {
   "cell_type": "code",
   "execution_count": null,
   "id": "a419299b",
   "metadata": {},
   "outputs": [],
   "source": [
    "df_non_pol = merge_csv('/disk/mnemo/users/randomuser/SBERT All Embedding/NonPolitical_Tweets')"
   ]
  },
  {
   "cell_type": "code",
   "execution_count": null,
   "id": "10991cd6",
   "metadata": {},
   "outputs": [],
   "source": [
    "df_non_pol.to_csv('Non_Political_Account_Tweets.csv', index = False)"
   ]
  },
  {
   "cell_type": "code",
   "execution_count": null,
   "id": "d84c7627",
   "metadata": {},
   "outputs": [],
   "source": [
    "df_check_tweet = merge_csv('/disk/mnemo/users/randomuser/SBERT All Embedding/Group Tweets/April23')"
   ]
  },
  {
   "cell_type": "code",
   "execution_count": null,
   "id": "8ac55d07",
   "metadata": {},
   "outputs": [],
   "source": [
    "df_check_tweet.to_csv('Temp_Data.csv', index = False)"
   ]
  },
  {
   "cell_type": "code",
   "execution_count": null,
   "id": "c156f3b9",
   "metadata": {},
   "outputs": [],
   "source": [
    "df_sample_check = merge_csv('/disk/mnemo/users/randomuser/SBERT All Embedding/NonPolitical/Following2')\n",
    "df_sample_check = df_sample_check.dropna(subset =['Location'])"
   ]
  },
  {
   "cell_type": "code",
   "execution_count": null,
   "id": "f26ca264",
   "metadata": {},
   "outputs": [],
   "source": [
    "df_sample_check2 = merge_csv('/disk/mnemo/users/randomuser/SBERT All Embedding/NonPolitical/Follower2')\n",
    "df_sample_check2 = df_sample_check2.dropna(subset =['Location'])"
   ]
  },
  {
   "cell_type": "code",
   "execution_count": null,
   "id": "fe3954d4",
   "metadata": {},
   "outputs": [],
   "source": [
    "df_sample_check['Location'] = df_sample_check['Location'].str.lower()\n",
    "df_sample_check2['Location'] = df_sample_check2['Location'].str.lower()"
   ]
  },
  {
   "cell_type": "code",
   "execution_count": null,
   "id": "9bfcbd71",
   "metadata": {},
   "outputs": [],
   "source": []
  },
  {
   "cell_type": "code",
   "execution_count": null,
   "id": "de2c146f",
   "metadata": {},
   "outputs": [],
   "source": [
    "df_sample_check = df_sample_check[df_sample_check.Location.str.contains('india')].drop_duplicates('Following_ID')\n",
    "df_sample_check2 = df_sample_check2[df_sample_check2.Location.str.contains('india')].drop_duplicates('Follower_ID')"
   ]
  },
  {
   "cell_type": "code",
   "execution_count": null,
   "id": "6eac9da5",
   "metadata": {},
   "outputs": [],
   "source": [
    "df_sample_check"
   ]
  },
  {
   "cell_type": "code",
   "execution_count": null,
   "id": "0a69b2a9",
   "metadata": {},
   "outputs": [],
   "source": [
    "df_niva_duck = pd.read_csv('/disk/mnemo/users/randomuser/SBERT All Embedding/NivaDuck/India.csv')"
   ]
  },
  {
   "cell_type": "code",
   "execution_count": null,
   "id": "62cdf5f9",
   "metadata": {},
   "outputs": [],
   "source": [
    "df_niva_duck['id_str'] = df_niva_duck['id_str'].astype('str')"
   ]
  },
  {
   "cell_type": "code",
   "execution_count": null,
   "id": "f193248e",
   "metadata": {},
   "outputs": [],
   "source": [
    "pol_niva_list = df_niva_duck.id_str.tolist()"
   ]
  },
  {
   "cell_type": "code",
   "execution_count": null,
   "id": "36ccdc68",
   "metadata": {},
   "outputs": [],
   "source": [
    "df_sample_check = df_sample_check[~df_sample_check.Following_ID.isin(pol_niva_list)]\n",
    "df_sample_check2 = df_sample_check2[~df_sample_check2.Follower_ID.isin(pol_niva_list)]"
   ]
  },
  {
   "cell_type": "code",
   "execution_count": null,
   "id": "2d492b82",
   "metadata": {},
   "outputs": [],
   "source": [
    "df_sample_check.Total_Posts"
   ]
  },
  {
   "cell_type": "code",
   "execution_count": null,
   "id": "028d041c",
   "metadata": {},
   "outputs": [],
   "source": [
    "df_sample_check_short = df_sample_check[['Following_ID', 'User_Description', 'Description_URL', 'UserName', 'ScreenName', 'Total_Posts']].rename(columns = {'Following_ID': 'User_ID'})\n",
    "df_sample_check_short2 = df_sample_check2[['Follower_ID', 'User_Description', 'Description_URL', 'UserName', 'ScreenName', 'Total_Posts']].rename(columns = {'Follower_ID': 'User_ID'})"
   ]
  },
  {
   "cell_type": "code",
   "execution_count": null,
   "id": "95fbbb3d",
   "metadata": {},
   "outputs": [],
   "source": [
    "df_sample_check_short"
   ]
  },
  {
   "cell_type": "code",
   "execution_count": null,
   "id": "2b6ed0fe",
   "metadata": {},
   "outputs": [],
   "source": [
    "df_pol_sample = pd.concat([df_sample_check_short, df_sample_check_short2]).reset_index(drop = True)"
   ]
  },
  {
   "cell_type": "code",
   "execution_count": null,
   "id": "2e5ccd66",
   "metadata": {},
   "outputs": [],
   "source": [
    "df_pol_sample.to_csv('NonPolitical_Sample_Data.csv', index = False)"
   ]
  },
  {
   "cell_type": "code",
   "execution_count": null,
   "id": "3ec1d448",
   "metadata": {},
   "outputs": [],
   "source": [
    "keywords_list = ['bjp', 'inc', 'modi', 'rahul', 'gandhi', 'yogi', 'congress', 'aap', 'kejriwal', \n",
    "              'भाजपा','भारतीय राष्ट्रीय कांग्रेस', 'मोदी' ,'राहुल','गांधी' ,'योगी','कांग्रेस' ,'आप', 'केजरीवाल' ]"
   ]
  },
  {
   "cell_type": "code",
   "execution_count": null,
   "id": "c6828938",
   "metadata": {},
   "outputs": [],
   "source": [
    "df_pol_sample"
   ]
  },
  {
   "cell_type": "code",
   "execution_count": null,
   "id": "7fa60ec4",
   "metadata": {},
   "outputs": [],
   "source": [
    "df_pol_sample['User_Description_lower'] = df_pol_sample['User_Description'].str.lower()\n",
    "df_pol_sample['UserName_lower'] = df_pol_sample['UserName'].str.lower()\n",
    "df_pol_sample['ScreenName_lower'] = df_pol_sample['ScreenName'].str.lower()\n",
    "df_pol_sample.UserDescription_lower = df_pol_sample.User_Description_lower.replace(np.nan, 'No Description')\n",
    "for keyword in keywords_list:\n",
    "    df_pol_sample[keyword + '_count_description'] = df_pol_sample['User_Description_lower'].str.count(keyword)\n",
    "    df_pol_sample[keyword + '_count_screenname'] = df_pol_sample['ScreenName_lower'].str.count(keyword)\n",
    "    df_pol_sample[keyword + '_count_username'] = df_pol_sample['UserName_lower'].str.count(keyword)"
   ]
  },
  {
   "cell_type": "code",
   "execution_count": null,
   "id": "c6775541",
   "metadata": {},
   "outputs": [],
   "source": [
    "df_pol_sample"
   ]
  },
  {
   "cell_type": "code",
   "execution_count": null,
   "id": "11245a8c",
   "metadata": {},
   "outputs": [],
   "source": [
    "for keyword in keywords_list:\n",
    "    df_pol_sample[keyword + '_count_description'] = df_pol_sample['User_Description_lower'].str.count(keyword)\n",
    "    df_pol_sample[keyword + '_count_screenname'] = df_pol_sample['ScreenName_lower'].str.count(keyword)\n",
    "    df_pol_sample[keyword + '_count_username'] = df_pol_sample['UserName_lower'].str.count(keyword)"
   ]
  },
  {
   "cell_type": "code",
   "execution_count": null,
   "id": "34dc810e",
   "metadata": {},
   "outputs": [],
   "source": [
    "bjp_keyword_user = ['bjp_count_description', 'bjp_count_screenname', 'bjp_count_username',\n",
    "                   'modi_count_description','modi_count_screenname', 'modi_count_username',\n",
    "                   'yogi_count_description','yogi_count_screenname', 'yogi_count_username', \n",
    "                   'भाजपा_count_description', 'भाजपा_count_screenname','भाजपा_count_username',\n",
    "                   'मोदी_count_description','मोदी_count_screenname', 'मोदी_count_username',\n",
    "                   'योगी_count_description', 'योगी_count_screenname', 'योगी_count_username']\n",
    "\n",
    "\n",
    "\n",
    "inc_keyword_user = ['inc_count_description', 'inc_count_screenname', 'inc_count_username',\n",
    "                    'rahul_count_description', 'rahul_count_screenname', 'rahul_count_username', \n",
    "                    'gandhi_count_description','gandhi_count_screenname',  'gandhi_count_username',\n",
    "                    'congress_count_description','congress_count_screenname', 'congress_count_username',\n",
    "                   'भारतीय राष्ट्रीय कांग्रेस_count_description','भारतीय राष्ट्रीय कांग्रेस_count_screenname',\n",
    "                    'भारतीय राष्ट्रीय कांग्रेस_count_username','राहुल_count_description', 'राहुल_count_screenname',\n",
    "                    'राहुल_count_username', 'गांधी_count_description','गांधी_count_screenname',  \n",
    "                    'गांधी_count_username','कांग्रेस_count_description','कांग्रेस_count_screenname',\n",
    "                    'कांग्रेस_count_username',\n",
    "                   ]\n",
    "\n",
    "aap_keyword_user = ['aap_count_description','aap_count_screenname', 'aap_count_username',\n",
    "                    'kejriwal_count_description', 'kejriwal_count_screenname', 'kejriwal_count_username',\n",
    "                   'आप_count_description','आप_count_screenname', 'आप_count_username',\n",
    "                    'केजरीवाल_count_description', 'केजरीवाल_count_screenname', 'केजरीवाल_count_username']\n",
    "\n"
   ]
  },
  {
   "cell_type": "code",
   "execution_count": null,
   "id": "3303798b",
   "metadata": {},
   "outputs": [],
   "source": [
    "df_pol_sample.columns"
   ]
  },
  {
   "cell_type": "code",
   "execution_count": null,
   "id": "7670d9f0",
   "metadata": {},
   "outputs": [],
   "source": [
    "all_keywords = bjp_keyword_user + bjp_keyword_tweet + inc_keyword_user + inc_keyword_tweet + aap_keyword_user + aap_keyword_tweet"
   ]
  },
  {
   "cell_type": "code",
   "execution_count": null,
   "id": "39a986d3",
   "metadata": {},
   "outputs": [],
   "source": [
    "\n",
    "df_pol_sample['BJP_Keyword_Info'] = df_pol_sample[bjp_keyword_user].sum(axis = 1)\n",
    "df_pol_sample['INC_Keyword_Info'] = df_pol_sample[inc_keyword_user].sum(axis = 1)\n",
    "df_pol_sample['AAP_Keyword_Info'] = df_pol_sample[aap_keyword_user].sum(axis = 1)"
   ]
  },
  {
   "cell_type": "code",
   "execution_count": null,
   "id": "092fa549",
   "metadata": {},
   "outputs": [],
   "source": [
    "drop_col = ['bjp_count_description', 'bjp_count_screenname',\n",
    "       'bjp_count_username', 'inc_count_description', 'inc_count_screenname',\n",
    "       'inc_count_username', 'modi_count_description', 'modi_count_screenname',\n",
    "       'modi_count_username', 'rahul_count_description',\n",
    "       'rahul_count_screenname', 'rahul_count_username',\n",
    "       'gandhi_count_description', 'gandhi_count_screenname',\n",
    "       'gandhi_count_username', 'yogi_count_description',\n",
    "       'yogi_count_screenname', 'yogi_count_username',\n",
    "       'congress_count_description', 'congress_count_screenname',\n",
    "       'congress_count_username', 'aap_count_description',\n",
    "       'aap_count_screenname', 'aap_count_username',\n",
    "       'kejriwal_count_description', 'kejriwal_count_screenname',\n",
    "       'kejriwal_count_username', 'भाजपा_count_description',\n",
    "       'भाजपा_count_screenname', 'भाजपा_count_username',\n",
    "       'भारतीय राष्ट्रीय कांग्रेस_count_description',\n",
    "       'भारतीय राष्ट्रीय कांग्रेस_count_screenname',\n",
    "       'भारतीय राष्ट्रीय कांग्रेस_count_username', 'मोदी_count_description',\n",
    "       'मोदी_count_screenname', 'मोदी_count_username',\n",
    "       'राहुल_count_description', 'राहुल_count_screenname',\n",
    "       'राहुल_count_username', 'गांधी_count_description',\n",
    "       'गांधी_count_screenname', 'गांधी_count_username',\n",
    "       'योगी_count_description', 'योगी_count_screenname',\n",
    "       'योगी_count_username', 'कांग्रेस_count_description',\n",
    "       'कांग्रेस_count_screenname', 'कांग्रेस_count_username',\n",
    "       'आप_count_description', 'आप_count_screenname', 'आप_count_username',\n",
    "       'केजरीवाल_count_description', 'केजरीवाल_count_screenname',\n",
    "       'केजरीवाल_count_username']"
   ]
  },
  {
   "cell_type": "code",
   "execution_count": null,
   "id": "133137a6",
   "metadata": {},
   "outputs": [],
   "source": [
    "df_pol_sample = df_pol_sample.drop(columns = drop_col)"
   ]
  },
  {
   "cell_type": "code",
   "execution_count": null,
   "id": "526981f9",
   "metadata": {},
   "outputs": [],
   "source": [
    "df_pol_sample['Political_Keyword'] = df_pol_sample['BJP_Keyword_Info'] + df_pol_sample['INC_Keyword_Info'] + df_pol_sample['AAP_Keyword_Info']"
   ]
  },
  {
   "cell_type": "code",
   "execution_count": null,
   "id": "eaa46a84",
   "metadata": {},
   "outputs": [],
   "source": [
    "df_pol_sample.loc[df_pol_sample.Political_Keyword >= 1].User_ID.tolist()"
   ]
  },
  {
   "cell_type": "code",
   "execution_count": null,
   "id": "72ac4c80",
   "metadata": {},
   "outputs": [],
   "source": [
    "df_pol_sample = df_pol_sample[~df_pol_sample.User_ID.isin(df_pol_sample.loc[df_pol_sample.Political_Keyword >= 1].User_ID.tolist())]"
   ]
  },
  {
   "cell_type": "code",
   "execution_count": null,
   "id": "369b46da",
   "metadata": {},
   "outputs": [],
   "source": [
    "df_pol_sample.to_csv('NonPolitical_Sample_Data.csv', index = False)"
   ]
  },
  {
   "cell_type": "code",
   "execution_count": null,
   "id": "0a94709a",
   "metadata": {},
   "outputs": [],
   "source": [
    "df_pol_sample = df_pol_sample.reset_index(drop = True)"
   ]
  },
  {
   "cell_type": "code",
   "execution_count": null,
   "id": "843cb2d2",
   "metadata": {},
   "outputs": [],
   "source": [
    "df_pol_sample = df_pol_sample.sample(frac = 1).reset_index(drop = True)"
   ]
  },
  {
   "cell_type": "code",
   "execution_count": null,
   "id": "260f9442",
   "metadata": {},
   "outputs": [],
   "source": [
    "df_pol_sample['Link'] = 'https://twitter.com/i/user/' + df_pol_sample.User_ID.astype('str')"
   ]
  },
  {
   "cell_type": "code",
   "execution_count": null,
   "id": "57791d8c",
   "metadata": {},
   "outputs": [],
   "source": [
    "df_pol_sample.columns"
   ]
  },
  {
   "cell_type": "code",
   "execution_count": null,
   "id": "49505ac7",
   "metadata": {},
   "outputs": [],
   "source": [
    "df_pol_sample[['User_ID', 'User_Description','UserName','ScreenName','Link']].to_csv('Non_Pol_Manual_Check.csv', index = False)"
   ]
  },
  {
   "cell_type": "code",
   "execution_count": null,
   "id": "5678e9dd",
   "metadata": {},
   "outputs": [],
   "source": []
  }
 ],
 "metadata": {
  "kernelspec": {
   "display_name": "Python 3 (ipykernel)",
   "language": "python",
   "name": "python3"
  },
  "language_info": {
   "codemirror_mode": {
    "name": "ipython",
    "version": 3
   },
   "file_extension": ".py",
   "mimetype": "text/x-python",
   "name": "python",
   "nbconvert_exporter": "python",
   "pygments_lexer": "ipython3",
   "version": "3.9.13"
  }
 },
 "nbformat": 4,
 "nbformat_minor": 5
}
