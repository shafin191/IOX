{
 "cells": [
  {
   "cell_type": "code",
   "execution_count": null,
   "id": "7b947c8b",
   "metadata": {},
   "outputs": [],
   "source": [
    "import pandas as pd\n",
    "import matplotlib.pyplot as plt\n",
    "import numpy as np\n",
    "import time\n",
    "import re\n",
    "pd.set_option('display.max_colwidth', None)\n",
    "import pickle\n",
    "pd.set_option('display.max_columns', None)  \n",
    "import matplotlib.pyplot as plt\n",
    "import pandas as pd\n",
    "import re\n",
    "pd.set_option('display.max_colwidth', None)\n",
    "import tweepy\n",
    "import pickle\n",
    "import time\n",
    "pd.set_option('display.max_columns', None)  \n",
    "import matplotlib.pyplot as plt\n",
    "import numpy as np\n",
    "%matplotlib inline\n",
    "import matplotlib\n",
    "\n",
    "import matplotlib as mpl\n",
    "import matplotlib.pyplot as plt; plt.rcdefaults()\n",
    "import numpy as np\n",
    "import matplotlib.font_manager as font_manager\n",
    "import os\n",
    "plt.rcParams[\"font.family\"] = \"Helvetica\""
   ]
  },
  {
   "cell_type": "code",
   "execution_count": null,
   "id": "db8dd2e6",
   "metadata": {},
   "outputs": [],
   "source": [
    "df1 = pd.read_csv('U:\\Twitter Research\\Fake News Scraping\\Botometer\\Fake_Botometer_1.csv')\n",
    "df1 = df1.drop('Unnamed: 0', axis=1)\n",
    "df1 = df1.drop('index', axis=1)\n",
    "\n",
    "df2 = pd.read_csv('U:\\Twitter Research\\Fake News Scraping\\Botometer\\Fake_Botometer_2.csv')\n",
    "df2 = df2.drop('Unnamed: 0', axis=1)\n",
    "\n",
    "df3 = pd.read_csv('U:\\Twitter Research\\Fake News Scraping\\Botometer\\Fake_Botometer_3.csv')\n",
    "df3 = df3.drop('Unnamed: 0', axis=1)\n",
    "\n",
    "df4 = pd.read_csv('U:\\Twitter Research\\Fake News Scraping\\Botometer\\Fake_Botometer_4.csv')\n",
    "df4 = df4.drop('Unnamed: 0', axis=1)\n",
    "\n",
    "df5 = pd.read_csv('U:\\Twitter Research\\Fake News Scraping\\Botometer\\Fake_Botometer_5.csv')\n",
    "df5 = df5.drop('Unnamed: 0', axis=1)\n",
    "\n",
    "df6 = pd.read_csv('U:\\Twitter Research\\Fake News Scraping\\Botometer\\Fake_Botometer_6.csv')\n",
    "df6 = df6.drop('Unnamed: 0', axis=1)\n",
    "\n",
    "df7 = pd.read_csv('U:\\Twitter Research\\Fake News Scraping\\Botometer\\Fake_Botometer_7.csv')\n",
    "df7 = df7.drop('Unnamed: 0', axis=1)\n",
    "\n",
    "df8 = pd.read_csv('U:\\Twitter Research\\Fake News Scraping\\Botometer\\Fake_Botometer_8.csv')\n",
    "df8 = df8.drop('Unnamed: 0', axis=1)\n",
    "\n",
    "df9 = pd.read_csv('U:\\Twitter Research\\Fake News Scraping\\Botometer\\Fake_Botometer_9.csv')\n",
    "df9 = df9.drop('Unnamed: 0', axis=1)\n",
    "\n",
    "df10 = pd.read_csv('U:\\Twitter Research\\Fake News Scraping\\Botometer\\Fake_Botometer_10.csv')\n",
    "df10 = df10.drop('Unnamed: 0', axis=1)\n",
    "\n",
    "df11 = pd.read_csv('U:\\Twitter Research\\Fake News Scraping\\Botometer\\Fake_Botometer_11.csv')\n",
    "df11 = df11.drop('Unnamed: 0', axis=1)\n",
    "\n",
    "df12 = pd.read_csv('U:\\Twitter Research\\Fake News Scraping\\Botometer\\Fake_Botometer_12.csv')\n",
    "df12 = df12.drop('Unnamed: 0', axis=1)\n",
    "\n",
    "df13 = pd.read_csv('U:\\Twitter Research\\Fake News Scraping\\Botometer\\Fake_Botometer_13.csv')\n",
    "df13 = df13.drop('Unnamed: 0', axis=1)\n",
    "\n",
    "df14 = pd.read_csv('U:\\Twitter Research\\Fake News Scraping\\Botometer\\Fake_Botometer_14.csv')\n",
    "df14 = df14.drop('Unnamed: 0', axis=1)\n",
    "\n",
    "df15 = pd.read_csv('U:\\Twitter Research\\Fake News Scraping\\Botometer\\Fake_Botometer_15.csv')\n",
    "df15 = df15.drop('Unnamed: 0', axis=1)\n",
    "\n",
    "df16 = pd.read_csv('U:\\Twitter Research\\Fake News Scraping\\Botometer\\Fake_Botometer_16.csv')\n",
    "df16 = df16.drop('Unnamed: 0', axis=1)\n",
    "\n",
    "df17 = pd.read_csv('U:\\Twitter Research\\Fake News Scraping\\Botometer\\Fake_Botometer_17.csv')\n",
    "df17 = df17.drop('Unnamed: 0', axis=1)\n",
    "\n",
    "df18 = pd.read_csv('U:\\Twitter Research\\Fake News Scraping\\Botometer\\Fake_Botometer_18.csv')\n",
    "df18 = df18.drop('Unnamed: 0', axis=1)\n"
   ]
  },
  {
   "cell_type": "code",
   "execution_count": null,
   "id": "8e322ac9",
   "metadata": {},
   "outputs": [],
   "source": [
    "df_benign = pd.read_csv('U:\\Twitter Research\\Fake News Scraping\\Botometer\\BenignBotometerFirst350.csv')\n",
    "df_benign = df_benign.drop('Unnamed: 0', axis=1)\n"
   ]
  },
  {
   "cell_type": "code",
   "execution_count": null,
   "id": "e9afc461",
   "metadata": {},
   "outputs": [],
   "source": [
    "merged_df = pd.concat([df1, df2, df3, df4, df5, df6, df7, df8, df9, df10, df11, df12, df13, df14, df15, df16, df17, df18])\n",
    "df_fake = merged_df"
   ]
  },
  {
   "cell_type": "code",
   "execution_count": null,
   "id": "9ed678e2",
   "metadata": {},
   "outputs": [],
   "source": [
    "print(len(df_fake))\n",
    "print(len(df_benign))"
   ]
  },
  {
   "cell_type": "code",
   "execution_count": null,
   "id": "17c44a2c",
   "metadata": {},
   "outputs": [],
   "source": [
    "df_fake = df_fake.reset_index(drop = True)"
   ]
  },
  {
   "cell_type": "code",
   "execution_count": null,
   "id": "52d39b74",
   "metadata": {},
   "outputs": [],
   "source": [
    "df_fake.drop_duplicates(subset=['UserID'])"
   ]
  },
  {
   "cell_type": "code",
   "execution_count": null,
   "id": "bdfbe519",
   "metadata": {},
   "outputs": [],
   "source": [
    "df_fake.drop_duplicates(subset=['ScreenName']).groupby('UserID').count().sort_values(by='ScreenName')"
   ]
  },
  {
   "cell_type": "code",
   "execution_count": null,
   "id": "75a8bb5b",
   "metadata": {},
   "outputs": [],
   "source": [
    "df_fake = df_fake.drop_duplicates(subset=['UserID'])\n",
    "df_fake = df_fake.reset_index(drop = True)"
   ]
  },
  {
   "cell_type": "code",
   "execution_count": null,
   "id": "8dfd0212",
   "metadata": {},
   "outputs": [],
   "source": [
    "df_fake"
   ]
  },
  {
   "cell_type": "code",
   "execution_count": null,
   "id": "664129ec",
   "metadata": {},
   "outputs": [],
   "source": [
    "print(len(df_fake))"
   ]
  },
  {
   "cell_type": "code",
   "execution_count": null,
   "id": "d0838a11",
   "metadata": {},
   "outputs": [],
   "source": [
    "df_fake.to_csv('Fake_Botometer_Score_All.csv')"
   ]
  },
  {
   "cell_type": "code",
   "execution_count": null,
   "id": "3cc12990",
   "metadata": {},
   "outputs": [],
   "source": [
    "boxprops_fake = dict( linewidth=1, color='r',)\n",
    "boxprops_benign = dict( linewidth=1, color='green',)"
   ]
  },
  {
   "cell_type": "code",
   "execution_count": null,
   "id": "f8591dd4",
   "metadata": {},
   "outputs": [],
   "source": [
    "boxplot_fake_cap = df_fake.boxplot(column=['CapUniversal', 'CapEnglish'], \n",
    "                                   grid=False, figsize=(10,5),\n",
    "                                   boxprops=boxprops_fake,\n",
    "                                   color = 'red',\n",
    "                                   ) \n",
    "boxplot_fake_cap.plot()\n",
    "plt.ylim(-0.05, 1.05)\n",
    "plt.title('Fake Spreader Complete Automation Probability')\n"
   ]
  },
  {
   "cell_type": "code",
   "execution_count": null,
   "id": "e8c71387",
   "metadata": {},
   "outputs": [],
   "source": []
  },
  {
   "cell_type": "code",
   "execution_count": null,
   "id": "f401f279",
   "metadata": {},
   "outputs": [],
   "source": [
    "import matplotlib.pyplot as plt\n",
    "import matplotlib.gridspec as gridspec\n",
    "\n",
    "fig = plt.figure(figsize=(10, 8))\n",
    "outer = gridspec.GridSpec(3, 2, wspace=0.2, hspace=0.2)\n",
    "\n",
    "for i in range(4):\n",
    "    inner = gridspec.GridSpecFromSubplotSpec(2, 1,\n",
    "                    subplot_spec=outer[i], wspace=0.1, hspace=0.1)\n",
    "\n",
    "    for j in range(2):\n",
    "        ax = plt.Subplot(fig, inner[j])\n",
    "        t = ax.text(0.5,0.5, 'outer=%d, inner=%d' % (i, j))\n",
    "        t.set_ha('center')\n",
    "        ax.set_xticks([])\n",
    "        ax.set_yticks([])\n",
    "        fig.add_subplot(ax)\n",
    "\n",
    "fig.show()\n"
   ]
  },
  {
   "cell_type": "code",
   "execution_count": null,
   "id": "9c2e8128",
   "metadata": {},
   "outputs": [],
   "source": [
    "fig, axes = plt.subplots(2)\n",
    "df_fake.boxplot(column=['DSEAstroturf', 'DSEFakeFollower', 'DSEFinancial', 'DSEOther', 'DSEOverall', 'DSESelfdeclared'], \n",
    "                                    grid=False, figsize=(10,5),\n",
    "                                   boxprops=boxprops_fake,\n",
    "                                   color = 'red',ax=axes[0])\n",
    "axes[0].set_title('Fake Spreader Botometer Scores', fontsize=14 )\n",
    "axes[0].set_ylim(-0.2, 5.2)\n",
    "df_benign.boxplot(column=['DSEAstroturf', 'DSEFakeFollower', 'DSEFinancial', 'DSEOther', 'DSEOverall', 'DSESelfdeclared'], \n",
    "                                        grid=False, figsize=(10,5),\n",
    "                                        boxprops=boxprops_benign,\n",
    "                                        color = 'green',\n",
    "                                        ax=axes[1]\n",
    "                                       )\n",
    "axes[1].set_title('Benign Account Botometer Scores', fontsize=14 )\n",
    "axes[1].set_ylim(-0.2, 5.2)\n",
    "\n",
    "fig.set_size_inches(10, 10)\n",
    "fig.savefig('Botometer_Score_Fake_Bengin_English.png', \n",
    "            facecolor='white', transparent=False,\n",
    "           dpi=600)\n"
   ]
  },
  {
   "cell_type": "code",
   "execution_count": null,
   "id": "3e26009a",
   "metadata": {},
   "outputs": [],
   "source": [
    "fig, axes = plt.subplots(2)\n",
    "df_fake.boxplot(column=['DSUAstroturf', 'DSUFakeFollower', 'DSUFinancial', 'DSUOther', 'DSUOverall', 'DSUSelfdeclared'], \n",
    "                                    grid=False, figsize=(10,5),\n",
    "                                   boxprops=boxprops_fake,\n",
    "                                   color = 'red',ax=axes[0])\n",
    "axes[0].set_title('Fake Spreader Botometer Scores', fontsize=14)\n",
    "axes[0].set_ylim(-0.2, 5.2)\n",
    "df_benign.boxplot(column=['DSUAstroturf', 'DSUFakeFollower', 'DSUFinancial', 'DSUOther', 'DSUOverall', 'DSUSelfdeclared'], \n",
    "                                        grid=False, figsize=(10,5),\n",
    "                                        boxprops=boxprops_benign,\n",
    "                                        color = 'green',\n",
    "                                        ax=axes[1]\n",
    "                                       )\n",
    "axes[1].set_title('Benign Account Botometer Scores',fontsize=14)\n",
    "axes[1].set_ylim(-0.2, 5.2)\n",
    "\n",
    "fig.set_size_inches(10, 10)\n",
    "fig.savefig('Botometer_Score_Fake_Bengin_Universal.png', \n",
    "            facecolor='white', transparent=False,\n",
    "           dpi=600)\n"
   ]
  },
  {
   "cell_type": "code",
   "execution_count": null,
   "id": "dc038441",
   "metadata": {},
   "outputs": [],
   "source": [
    "df_fake.DSUOverall.mean()"
   ]
  },
  {
   "cell_type": "code",
   "execution_count": null,
   "id": "218b2f5e",
   "metadata": {},
   "outputs": [],
   "source": [
    "boxplot_benign_cap = df_benign.boxplot(column=['CapUniversal', 'CapEnglish'], \n",
    "                                   grid=False, figsize=(10,5),\n",
    "                                   boxprops=boxprops_benign,\n",
    "                                   color = 'green',\n",
    "                                   ) \n",
    "boxplot_benign_cap.plot()\n",
    "plt.ylim(-0.05, 1.05)\n",
    "plt.title('Benign Account Complete Automation Probability')"
   ]
  },
  {
   "cell_type": "code",
   "execution_count": null,
   "id": "db1041d2",
   "metadata": {},
   "outputs": [],
   "source": [
    "boxplot_benign_DSE =  df_benign.boxplot(column=['DSEAstroturf', 'DSEFakeFollower', 'DSEFinancial', 'DSEOther', 'DSEOverall', 'DSESelfdeclared'], \n",
    "                                        grid=False, figsize=(10,5),\n",
    "                                        boxprops=boxprops_benign,\n",
    "                                        color = 'green',\n",
    "                                       )\n",
    "boxplot_fake_cap.plot()\n",
    "plt.ylim(-0.2, 5.2)\n",
    "plt.title('Bengin Account Botometer Scores')"
   ]
  },
  {
   "cell_type": "code",
   "execution_count": null,
   "id": "70e59ebf",
   "metadata": {},
   "outputs": [],
   "source": []
  },
  {
   "cell_type": "code",
   "execution_count": null,
   "id": "f68177de",
   "metadata": {},
   "outputs": [],
   "source": [
    "fig, axes = plt.subplots(2)\n",
    "df_fake.boxplot(column=['CapUniversal', 'CapEnglish'], \n",
    "                                   grid=False, figsize=(10,5),\n",
    "                                   boxprops=boxprops_fake,\n",
    "                                   color = 'red',\n",
    "                                    ax=axes[1]\n",
    "                                   ) \n",
    "axes[0].set_title('Fake Spreader Complete Automation Probability', )\n",
    "axes[0].set_ylim(-0.05, 1.05)\n",
    "df_benign.boxplot(column=['CapUniversal', 'CapEnglish'], \n",
    "                                   grid=False, figsize=(10,5),\n",
    "                                   boxprops=boxprops_benign,\n",
    "                                   color = 'green',\n",
    "                                    ax=axes[0]\n",
    "                                   ) \n",
    "axes[1].set_title('Benign Account Complete Automation Probability', )\n",
    "axes[1].set_ylim(-0.05, 1.05)\n",
    "\n",
    "fig.set_size_inches(10, 10)\n",
    "fig.savefig('CAP_Score_Fake_Bengin.png', \n",
    "            facecolor='white', transparent=False,\n",
    "           dpi=600)"
   ]
  },
  {
   "cell_type": "code",
   "execution_count": null,
   "id": "2640c886",
   "metadata": {},
   "outputs": [],
   "source": [
    "df_fake.loc[df_fake['ScreenName']=='sanjaybhutiani']"
   ]
  },
  {
   "cell_type": "code",
   "execution_count": null,
   "id": "d5250ccc",
   "metadata": {},
   "outputs": [],
   "source": []
  }
 ],
 "metadata": {
  "kernelspec": {
   "display_name": "Python 3 (ipykernel)",
   "language": "python",
   "name": "python3"
  },
  "language_info": {
   "codemirror_mode": {
    "name": "ipython",
    "version": 3
   },
   "file_extension": ".py",
   "mimetype": "text/x-python",
   "name": "python",
   "nbconvert_exporter": "python",
   "pygments_lexer": "ipython3",
   "version": "3.9.13"
  }
 },
 "nbformat": 4,
 "nbformat_minor": 5
}
