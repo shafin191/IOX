{
 "cells": [
  {
   "cell_type": "code",
   "execution_count": null,
   "id": "56811fee",
   "metadata": {},
   "outputs": [],
   "source": [
    "import pandas as pd\n",
    "import matplotlib as plt\n",
    "import numpy as np\n",
    "import os\n",
    "from bertopic.representation import KeyBERTInspired\n",
    "from bertopic import BERTopic\n",
    "from hdbscan import HDBSCAN\n",
    "pd.set_option('display.max_colwidth', None)\n",
    "pd.set_option('display.max_columns', 10)\n",
    "pd.set_option('display.max_rows', 50)\n",
    "print(os.getcwd())"
   ]
  },
  {
   "cell_type": "code",
   "execution_count": null,
   "id": "176be127",
   "metadata": {},
   "outputs": [],
   "source": [
    "df_cluster_refied = pd.read_csv('Cluster_Tweet_Without_Generic.csv')"
   ]
  },
  {
   "cell_type": "code",
   "execution_count": null,
   "id": "36d2287b",
   "metadata": {},
   "outputs": [],
   "source": [
    "df_alt = pd.read_csv('Collected_Fake_Tweets_Still_Available.csv')\n",
    "df_alt_report = pd.read_csv('AltNews Report Number.csv')\n",
    "df_alt = pd.merge(df_alt, df_alt_report[['News_Number', 'Fact_Check_Link']])"
   ]
  },
  {
   "cell_type": "code",
   "execution_count": null,
   "id": "da78b77c",
   "metadata": {},
   "outputs": [],
   "source": [
    "df_cluster_refied.Cluster_ID = df_cluster_refied.Cluster_ID.astype('int')\n",
    "df_cluster_refied['Cluster_ID'] = 'Wild_' + df_cluster_refied['Cluster_ID'].astype('str')"
   ]
  },
  {
   "cell_type": "code",
   "execution_count": null,
   "id": "44d2cc82",
   "metadata": {},
   "outputs": [],
   "source": []
  },
  {
   "cell_type": "code",
   "execution_count": null,
   "id": "5463fdba",
   "metadata": {},
   "outputs": [],
   "source": [
    "df_cluster_small = df_cluster_refied[['Cluster_ID', 'Tweet_ID', 'User_ID', 'Tweet_Text']]"
   ]
  },
  {
   "cell_type": "code",
   "execution_count": null,
   "id": "03e20e37",
   "metadata": {},
   "outputs": [],
   "source": [
    "df_cluster_small.groupby('Cluster_ID').count()"
   ]
  },
  {
   "cell_type": "code",
   "execution_count": null,
   "id": "5f015b71",
   "metadata": {},
   "outputs": [],
   "source": [
    "df_alt_small = df_alt[['News_Number', 'Tweet_ID', 'User_ID', 'Tweet_Text']].rename(columns = {'News_Number': 'Cluster_ID'})"
   ]
  },
  {
   "cell_type": "code",
   "execution_count": null,
   "id": "3e873f53",
   "metadata": {},
   "outputs": [],
   "source": [
    "df_alt_small['Cluster_ID'] = 'Alt_'+df_alt_small['Cluster_ID'].astype('str')"
   ]
  },
  {
   "cell_type": "code",
   "execution_count": null,
   "id": "80ed5f51",
   "metadata": {},
   "outputs": [],
   "source": [
    "df_cluster_small['Camp_Type'] = 'WildCamp'\n",
    "df_alt_small['Camp_Type'] = 'AltNews'"
   ]
  },
  {
   "cell_type": "code",
   "execution_count": null,
   "id": "8b508bd9",
   "metadata": {},
   "outputs": [],
   "source": [
    "df_all_small = pd.concat([df_cluster_small, df_alt_small])"
   ]
  },
  {
   "cell_type": "code",
   "execution_count": null,
   "id": "46b59270",
   "metadata": {},
   "outputs": [],
   "source": [
    "import re\n",
    "def remove_twitter_mentions(text):\n",
    "    return re.sub(r'@\\w+', '', text)\n",
    "\n",
    "def remove_links(text):\n",
    "    return re.sub(r'http\\S+', '', text)\n"
   ]
  },
  {
   "cell_type": "code",
   "execution_count": null,
   "id": "8be6e5f6",
   "metadata": {},
   "outputs": [],
   "source": [
    "df_all_small['Refined_Text'] = df_all_small['Tweet_Text'].apply(remove_twitter_mentions)\n",
    "df_all_small['Refined_Text'] = df_all_small['Refined_Text'].apply(remove_links)\n",
    "df_all_small['Refined_Text'] = df_all_small['Refined_Text'].str.replace('\\n', ' ')\n",
    "df_all_small['Refined_Text'] = df_all_small['Refined_Text'].str.strip()"
   ]
  },
  {
   "cell_type": "code",
   "execution_count": null,
   "id": "38694cfe",
   "metadata": {},
   "outputs": [],
   "source": [
    "df_all_small"
   ]
  },
  {
   "cell_type": "code",
   "execution_count": null,
   "id": "ff5f7ff9",
   "metadata": {},
   "outputs": [],
   "source": [
    "df_all_small_unique = df_all_small.groupby('Cluster_ID').apply(lambda x: x.sample(1)).reset_index(drop=True)"
   ]
  },
  {
   "cell_type": "code",
   "execution_count": null,
   "id": "11237716",
   "metadata": {},
   "outputs": [],
   "source": [
    "df_all_small_unique.sample()"
   ]
  },
  {
   "cell_type": "code",
   "execution_count": null,
   "id": "22d9c9c0",
   "metadata": {},
   "outputs": [],
   "source": [
    "docs_all = df_all_small['Refined_Text'].tolist()\n",
    "docs_wild = df_all_small.loc[df_all_small.Camp_Type == 'WildCamp']['Refined_Text'].tolist()\n",
    "docs_all_unique = df_all_small_unique['Refined_Text'].tolist()\n",
    "docs_wild_unique = df_all_small_unique.loc[df_all_small_unique.Camp_Type == 'WildCamp']['Refined_Text'].tolist()"
   ]
  },
  {
   "cell_type": "code",
   "execution_count": null,
   "id": "284f0ace",
   "metadata": {},
   "outputs": [],
   "source": [
    "hdbscan_model1 = HDBSCAN(min_cluster_size=4, metric='euclidean', \n",
    "                        cluster_selection_method='eom', prediction_data=True, min_samples=5)\n",
    "representation_model1 = KeyBERTInspired()\n",
    "\n",
    "hdbscan_model2 = HDBSCAN(min_cluster_size=4, metric='euclidean', \n",
    "                        cluster_selection_method='eom', prediction_data=True, min_samples=5)\n",
    "representation_model2 = KeyBERTInspired()\n",
    "\n",
    "hdbscan_model3 = HDBSCAN(min_cluster_size=2, metric='euclidean', \n",
    "                        cluster_selection_method='eom', prediction_data=True, min_samples=2)\n",
    "representation_model3 = KeyBERTInspired()\n",
    "\n",
    "hdbscan_model4 = HDBSCAN(min_cluster_size=2, metric='euclidean', \n",
    "                        cluster_selection_method='eom', prediction_data=True, min_samples=2)\n",
    "representation_model4 = KeyBERTInspired()\n"
   ]
  },
  {
   "cell_type": "code",
   "execution_count": null,
   "id": "fc0ce9fb",
   "metadata": {},
   "outputs": [],
   "source": [
    "topic_model_all = BERTopic(representation_model=representation_model1, language=\"multilingual\", hdbscan_model=hdbscan_model1)\n",
    "topic_model_all_unique = BERTopic(representation_model=representation_model2, language=\"multilingual\", hdbscan_model=hdbscan_model3)\n",
    "topic_model_wild = BERTopic(representation_model=representation_model3, language=\"multilingual\", hdbscan_model=hdbscan_model2)\n",
    "topic_model_wild_unique = BERTopic(representation_model=representation_model4, language=\"multilingual\", hdbscan_model=hdbscan_model4)"
   ]
  },
  {
   "cell_type": "code",
   "execution_count": null,
   "id": "166c4fa6",
   "metadata": {},
   "outputs": [],
   "source": [
    "topics_all, probs_all = topic_model_all.fit_transform(docs_all)\n",
    "new_topics_all = topic_model_all.reduce_outliers(docs_all, topics_all)\n",
    "topic_model_all.save(\"/disk/mnemo/users/randomuser/SBERT All Embedding/Group_Topic/Topic_All\", serialization=\"pickle\")"
   ]
  },
  {
   "cell_type": "code",
   "execution_count": null,
   "id": "9a890d12",
   "metadata": {},
   "outputs": [],
   "source": [
    "topics_all_unique, probs_all_unique = topic_model_all_unique.fit_transform(docs_all_unique)\n",
    "new_topics_all_unique = topic_model_all_unique.reduce_outliers(docs_all_unique, topics_all_unique)\n",
    "topic_model_all_unique.save(\"/disk/mnemo/users/randomuser/SBERT All Embedding/Group_Topic/Topic_All_Unique\", serialization=\"pickle\")"
   ]
  },
  {
   "cell_type": "code",
   "execution_count": null,
   "id": "d9115140",
   "metadata": {},
   "outputs": [],
   "source": [
    "topics_wild, probs_wild = topic_model_wild.fit_transform(docs_wild)\n",
    "new_topics_wild = topic_model_wild.reduce_outliers(docs_wild, topics_wild)\n",
    "topic_model_wild.save(\"/disk/mnemo/users/randomuser/SBERT All Embedding/Group_Topic/Topic_Wild\", serialization=\"pickle\")"
   ]
  },
  {
   "cell_type": "code",
   "execution_count": null,
   "id": "5af46185",
   "metadata": {},
   "outputs": [],
   "source": [
    "topics_wild_unique, probs_wild_unique = topic_model_wild_unique.fit_transform(docs_wild_unique)\n",
    "new_topics_wild_unique = topic_model_wild_unique.reduce_outliers(docs_wild_unique, topics_wild_unique)\n",
    "topic_model_wild_unique.save(\"/disk/mnemo/users/randomuser/SBERT All Embedding/Group_Topic/Topic_Wild_Unique\", serialization=\"pickle\")"
   ]
  },
  {
   "cell_type": "code",
   "execution_count": null,
   "id": "156e92ba",
   "metadata": {},
   "outputs": [],
   "source": [
    "topic_model_all_unique.get_topic_info().iloc[20:40]"
   ]
  },
  {
   "cell_type": "code",
   "execution_count": null,
   "id": "7c080288",
   "metadata": {},
   "outputs": [],
   "source": [
    "topic_model_wild_unique.get_topic_info().iloc[0:30]"
   ]
  },
  {
   "cell_type": "code",
   "execution_count": null,
   "id": "9eb50072",
   "metadata": {},
   "outputs": [],
   "source": [
    "new_topics_wild_unique"
   ]
  },
  {
   "cell_type": "code",
   "execution_count": null,
   "id": "a8d9e671",
   "metadata": {},
   "outputs": [],
   "source": [
    "df_all_small_unique.loc[df_all_small_unique.Camp_Type == 'WildCamp']['Topic'] = new_topics_wild_unique"
   ]
  },
  {
   "cell_type": "code",
   "execution_count": null,
   "id": "024bff13",
   "metadata": {},
   "outputs": [],
   "source": [
    "df_wild_unique = df_all_small_unique.loc[df_all_small_unique.Camp_Type == 'WildCamp']"
   ]
  },
  {
   "cell_type": "code",
   "execution_count": null,
   "id": "9751f965",
   "metadata": {},
   "outputs": [],
   "source": [
    "df_wild_unique['Reduce_Topic'] = new_topics_wild_unique\n",
    "df_wild_unique['Actual_Topic'] = topics_wild_unique"
   ]
  },
  {
   "cell_type": "code",
   "execution_count": null,
   "id": "1e03db42",
   "metadata": {},
   "outputs": [],
   "source": [
    "df_wild_unique.groupby('Actual_Topic').count()"
   ]
  },
  {
   "cell_type": "code",
   "execution_count": null,
   "id": "f24452af",
   "metadata": {},
   "outputs": [],
   "source": [
    "topic_model_wild_unique.get_topic_info().iloc[100:200]"
   ]
  },
  {
   "cell_type": "code",
   "execution_count": null,
   "id": "4d377fd0",
   "metadata": {},
   "outputs": [],
   "source": [
    "print(1-2)"
   ]
  },
  {
   "cell_type": "code",
   "execution_count": null,
   "id": "359199bc",
   "metadata": {},
   "outputs": [],
   "source": [
    "topic_model_wild_unique = BERTopic.load(\"/disk/mnemo/users/randomuser/SBERT All Embedding/Group_Topic/Topic_Wild_Unique\")"
   ]
  },
  {
   "cell_type": "code",
   "execution_count": null,
   "id": "e31df8eb",
   "metadata": {},
   "outputs": [],
   "source": [
    "topic_model_wild_unique.get_params()"
   ]
  },
  {
   "cell_type": "code",
   "execution_count": null,
   "id": "cb3d71d4",
   "metadata": {},
   "outputs": [],
   "source": [
    "topic_model_wild_unique.generate_topic_labels()"
   ]
  },
  {
   "cell_type": "code",
   "execution_count": null,
   "id": "5399564f",
   "metadata": {},
   "outputs": [],
   "source": [
    "\n",
    "\n",
    "hdbscan_model5 = HDBSCAN(min_cluster_size=2, metric='euclidean', \n",
    "                        cluster_selection_method='eom', prediction_data=True, min_samples=2)\n",
    "representation_model5 = KeyBERTInspired()\n",
    "\n",
    "topic_model_wild_unique_fixed_topic = BERTopic(representation_model=representation_model5, language=\"multilingual\", hdbscan_model=hdbscan_model5, nr_topics=100)"
   ]
  },
  {
   "cell_type": "code",
   "execution_count": null,
   "id": "8c1f357d",
   "metadata": {},
   "outputs": [],
   "source": [
    "topics_wild_unique_fixed, probs_wild_unique_fixed = topic_model_wild_unique_fixed_topic.fit_transform(docs_wild_unique)\n",
    "new_topics_wild_unique_fixed = topic_model_wild_unique_fixed_topic.reduce_outliers(docs_wild_unique, topics_wild_unique_fixed)\n",
    "topic_model_wild_unique_fixed_topic.save(\"/disk/mnemo/users/randomuser/SBERT All Embedding/Group_Topic/Topic_Wild_Unique_Fixed\", serialization=\"pickle\")"
   ]
  },
  {
   "cell_type": "code",
   "execution_count": null,
   "id": "dd4a520c",
   "metadata": {},
   "outputs": [],
   "source": []
  },
  {
   "cell_type": "code",
   "execution_count": null,
   "id": "008c685f",
   "metadata": {},
   "outputs": [],
   "source": [
    "df_com = pd.read_csv('Refined_Community_with_Political_Label.csv')"
   ]
  },
  {
   "cell_type": "code",
   "execution_count": null,
   "id": "27ca0fc2",
   "metadata": {},
   "outputs": [],
   "source": [
    "topic_model_wild_unique.get_topic_info()"
   ]
  },
  {
   "cell_type": "code",
   "execution_count": null,
   "id": "87e98708",
   "metadata": {},
   "outputs": [],
   "source": [
    "df_wild_unique.groupby('Reduce_Topic').count()"
   ]
  },
  {
   "cell_type": "code",
   "execution_count": null,
   "id": "413ecb1a",
   "metadata": {},
   "outputs": [],
   "source": [
    "df_wild_unique"
   ]
  },
  {
   "cell_type": "code",
   "execution_count": null,
   "id": "d91778bb",
   "metadata": {},
   "outputs": [],
   "source": [
    "df_com.User_ID.tolist()"
   ]
  },
  {
   "cell_type": "code",
   "execution_count": null,
   "id": "395f7e0f",
   "metadata": {},
   "outputs": [],
   "source": [
    "df_com.loc[df_com.Community_ID == 0].User_ID"
   ]
  },
  {
   "cell_type": "code",
   "execution_count": null,
   "id": "a0217298",
   "metadata": {},
   "outputs": [],
   "source": [
    "df_wild_unique.loc[df_wild_unique.Topic == 0]"
   ]
  },
  {
   "cell_type": "code",
   "execution_count": null,
   "id": "52492db7",
   "metadata": {},
   "outputs": [],
   "source": [
    "df_wild_unique[df_wild_unique.User_ID.isin(df_com.loc[df_com.Community_ID == 0].User_ID)].sample(20)"
   ]
  },
  {
   "cell_type": "code",
   "execution_count": null,
   "id": "bc5c490a",
   "metadata": {},
   "outputs": [],
   "source": [
    "df_cluster_particate = pd.read_csv('Cluster_Participate_Group.csv')"
   ]
  },
  {
   "cell_type": "code",
   "execution_count": null,
   "id": "7538ba36",
   "metadata": {},
   "outputs": [],
   "source": [
    "df_cluster_particate"
   ]
  },
  {
   "cell_type": "code",
   "execution_count": null,
   "id": "b4d0d5a6",
   "metadata": {},
   "outputs": [],
   "source": [
    "top_20_topic = df_wild_unique[df_wild_unique.Cluster_ID.isin(df_cluster_particate.Cluster_ID)].groupby('Reduce_Topic').count().sort_values('Cluster_ID', ascending = False).iloc[0:20].reset_index()"
   ]
  },
  {
   "cell_type": "code",
   "execution_count": null,
   "id": "a9b14bab",
   "metadata": {},
   "outputs": [],
   "source": [
    "top_20_topic = df_wild_unique[df_wild_unique.Cluster_ID.isin(df_cluster_particate.Cluster_ID)].groupby('Actual_Topic').count()"
   ]
  },
  {
   "cell_type": "code",
   "execution_count": null,
   "id": "97a3e146",
   "metadata": {},
   "outputs": [],
   "source": []
  },
  {
   "cell_type": "code",
   "execution_count": null,
   "id": "b85b30e4",
   "metadata": {},
   "outputs": [],
   "source": [
    "topic_model_wild_unique.get_topic_info().loc[topic_model_wild_unique.get_topic_info().Topic == 9625]"
   ]
  },
  {
   "cell_type": "code",
   "execution_count": null,
   "id": "bd3c3bb0",
   "metadata": {},
   "outputs": [],
   "source": [
    "top_20_topic "
   ]
  },
  {
   "cell_type": "code",
   "execution_count": null,
   "id": "3461af11",
   "metadata": {},
   "outputs": [],
   "source": [
    "topic_model_wild_unique.get_topic_info()[topic_model_wild_unique.get_topic_info().Topic.isin(top_20_topic.Reduce_Topic)]"
   ]
  },
  {
   "cell_type": "code",
   "execution_count": null,
   "id": "ba7c50f3",
   "metadata": {},
   "outputs": [],
   "source": [
    "df_wild_unique.loc[df_wild_unique.Topic == 0].Refined_Text.tolist()"
   ]
  },
  {
   "cell_type": "code",
   "execution_count": null,
   "id": "59df61a1",
   "metadata": {},
   "outputs": [],
   "source": [
    "df_wild_unique[['Cluster_ID', 'Topic']]"
   ]
  },
  {
   "cell_type": "code",
   "execution_count": null,
   "id": "89ee8713",
   "metadata": {},
   "outputs": [],
   "source": [
    "df_cluster_particate=df_cluster_particate.drop(columns = ['index'])"
   ]
  },
  {
   "cell_type": "code",
   "execution_count": null,
   "id": "3f4a7b3f",
   "metadata": {},
   "outputs": [],
   "source": [
    "df_cluster_particate = pd.merge(df_cluster_particate,df_wild_unique[['Cluster_ID', 'Topic']])"
   ]
  },
  {
   "cell_type": "code",
   "execution_count": null,
   "id": "ec09bb98",
   "metadata": {},
   "outputs": [],
   "source": [
    "print(len(df_cluster_particate.loc[df_cluster_particate.Community_ID == 0].groupby('Topic').count()))"
   ]
  },
  {
   "cell_type": "code",
   "execution_count": null,
   "id": "0a9167fd",
   "metadata": {},
   "outputs": [],
   "source": [
    "grp_li = [0,\n",
    "18,\n",
    "1,\n",
    "17,\n",
    "8,\n",
    "6,\n",
    "15,\n",
    "29,\n",
    "19,\n",
    "13,\n",
    "5,\n",
    "4,\n",
    "14,\n",
    "42]\n",
    "\n",
    "for i in grp_li:\n",
    "    print(i)\n",
    "    print(len(df_cluster_particate.loc[df_cluster_particate.Community_ID == i].groupby('Topic').count()))"
   ]
  },
  {
   "cell_type": "code",
   "execution_count": null,
   "id": "b88c8396",
   "metadata": {},
   "outputs": [],
   "source": [
    "count_topic_size = df_wild_unique.groupby('Topic').count().reset_index()"
   ]
  },
  {
   "cell_type": "code",
   "execution_count": null,
   "id": "0ea507ca",
   "metadata": {},
   "outputs": [],
   "source": [
    "count_topic_size10=count_topic_size.loc[count_topic_size.Cluster_ID>=10]"
   ]
  },
  {
   "cell_type": "code",
   "execution_count": null,
   "id": "db4b1849",
   "metadata": {},
   "outputs": [],
   "source": [
    "topic_model_wild_unique.get_topic_info().iloc[1:11].to_csv('Top-10-Topic.csv', index = False)"
   ]
  },
  {
   "cell_type": "code",
   "execution_count": null,
   "id": "db7c7fc9",
   "metadata": {},
   "outputs": [],
   "source": [
    "count_topic_size10.Topic"
   ]
  },
  {
   "cell_type": "code",
   "execution_count": null,
   "id": "f1b50460",
   "metadata": {},
   "outputs": [],
   "source": [
    "new_top10_campaign = df_wild_unique[df_wild_unique.Topic.isin(count_topic_size10.Topic)]"
   ]
  },
  {
   "cell_type": "code",
   "execution_count": null,
   "id": "a09f9e84",
   "metadata": {},
   "outputs": [],
   "source": []
  },
  {
   "cell_type": "code",
   "execution_count": null,
   "id": "96a06382",
   "metadata": {},
   "outputs": [],
   "source": [
    "df_cluster_particate_top10 = pd.merge(df_cluster_particate, new_top10_campaign[['Cluster_ID', 'Topic']])"
   ]
  },
  {
   "cell_type": "code",
   "execution_count": null,
   "id": "b3fcd6e0",
   "metadata": {},
   "outputs": [],
   "source": [
    "grp_li = [0,\n",
    "18,\n",
    "1,\n",
    "17,\n",
    "8,\n",
    "6,\n",
    "15,\n",
    "29,\n",
    "19,\n",
    "13,\n",
    "5,\n",
    "4,\n",
    "14,\n",
    "42]\n",
    "\n",
    "for i in grp_li:\n",
    "    print(i)\n",
    "    print(len(df_cluster_particate_top10.loc[df_cluster_particate_top10.Community_ID == i].groupby('Topic').count()))"
   ]
  },
  {
   "cell_type": "code",
   "execution_count": null,
   "id": "cda17482",
   "metadata": {
    "scrolled": false
   },
   "outputs": [],
   "source": [
    "topic_model_wild_unique.get_topic_info().iloc[1:21].to_csv('Top_20_Topic.csv', index = False)"
   ]
  },
  {
   "cell_type": "code",
   "execution_count": null,
   "id": "fed43d5d",
   "metadata": {},
   "outputs": [],
   "source": [
    "topic_model_wild_unique.get_topic_info().to_csv('All_Topic_Wild_Unique.csv', index = False)"
   ]
  },
  {
   "cell_type": "code",
   "execution_count": null,
   "id": "f1f5d031",
   "metadata": {},
   "outputs": [],
   "source": [
    "topic_model_wild_unique.get_topic_info().iloc[10:20]"
   ]
  },
  {
   "cell_type": "code",
   "execution_count": null,
   "id": "d1fe927f",
   "metadata": {},
   "outputs": [],
   "source": [
    "df_cluster_particate.loc[df_cluster_particate.Community_ID == 0]"
   ]
  },
  {
   "cell_type": "code",
   "execution_count": null,
   "id": "d98a8fc8",
   "metadata": {},
   "outputs": [],
   "source": [
    "pd.merge(df_wild_unique.loc[df_wild_unique.Topic == 10], df_cluster_particate.loc[df_cluster_particate.Community_ID == 0]).sample(20)"
   ]
  },
  {
   "cell_type": "code",
   "execution_count": null,
   "id": "659b875b",
   "metadata": {},
   "outputs": [],
   "source": [
    "pd.merge(df_wild_unique.loc[df_wild_unique.Topic == 10], df_cluster_particate.loc[df_cluster_particate.Community_ID == 17])"
   ]
  },
  {
   "cell_type": "code",
   "execution_count": null,
   "id": "90b54b30",
   "metadata": {},
   "outputs": [],
   "source": [
    "topic_model_wild_unique.get_topic_info().iloc[1:21]"
   ]
  },
  {
   "cell_type": "code",
   "execution_count": null,
   "id": "1220fc6f",
   "metadata": {},
   "outputs": [],
   "source": [
    "df_wild_unique"
   ]
  },
  {
   "cell_type": "code",
   "execution_count": null,
   "id": "59d2cd51",
   "metadata": {},
   "outputs": [],
   "source": [
    "df_all_tweet_cluster = pd.read_csv('Cluster_Tweet_Without_Generic.csv')"
   ]
  },
  {
   "cell_type": "code",
   "execution_count": null,
   "id": "d9b6dc9b",
   "metadata": {},
   "outputs": [],
   "source": [
    "df_all_tweet_cluster.Cluster_ID = df_all_tweet_cluster.Cluster_ID.astype('int')"
   ]
  },
  {
   "cell_type": "code",
   "execution_count": null,
   "id": "ab9eaa7f",
   "metadata": {},
   "outputs": [],
   "source": [
    "df_wild_unique[['Cluster_ID', 'Actual_Topic', 'Reduce_Topic']]"
   ]
  },
  {
   "cell_type": "code",
   "execution_count": null,
   "id": "533601e4",
   "metadata": {},
   "outputs": [],
   "source": [
    "df_all_tweet_cluster['Cluster_ID']= 'Wild_' + df_all_tweet_cluster['Cluster_ID'].astype('str')"
   ]
  },
  {
   "cell_type": "code",
   "execution_count": null,
   "id": "d80758d5",
   "metadata": {},
   "outputs": [],
   "source": [
    "df_all_tweet_cluster = pd.merge(df_all_tweet_cluster,df_wild_unique[['Cluster_ID', 'Actual_Topic', 'Reduce_Topic']])"
   ]
  },
  {
   "cell_type": "code",
   "execution_count": null,
   "id": "8fd612d5",
   "metadata": {},
   "outputs": [],
   "source": [
    "df_wild_unique"
   ]
  },
  {
   "cell_type": "code",
   "execution_count": null,
   "id": "7ed428a1",
   "metadata": {},
   "outputs": [],
   "source": [
    "for i in range(0,21):\n",
    "    print(len(df_all_tweet_cluster.loc[df_all_tweet_cluster.Actual_Topic == i]))"
   ]
  },
  {
   "cell_type": "code",
   "execution_count": null,
   "id": "cf71110f",
   "metadata": {},
   "outputs": [],
   "source": [
    "df_all_tweet_cluster.Tweet_Lang"
   ]
  },
  {
   "cell_type": "code",
   "execution_count": null,
   "id": "a078ede7",
   "metadata": {},
   "outputs": [],
   "source": [
    "df_all_tweet_cluster.loc[df_all_tweet_cluster.Tweet_Lang == 'en'].groupby('Cluster_ID').count()"
   ]
  },
  {
   "cell_type": "code",
   "execution_count": null,
   "id": "855a2773",
   "metadata": {},
   "outputs": [],
   "source": [
    "df_wild_unique.loc[df_wild_unique.Tweet_Lang == 'en']"
   ]
  },
  {
   "cell_type": "code",
   "execution_count": null,
   "id": "1ffaf64d",
   "metadata": {},
   "outputs": [],
   "source": [
    "df_wild_unique"
   ]
  },
  {
   "cell_type": "code",
   "execution_count": null,
   "id": "25b52ea5",
   "metadata": {},
   "outputs": [],
   "source": [
    "df_cluster_refied[df_cluster_refied.Tweet_Lang == 'en'].groupby('Cluster_ID').count().reset_index().Cluster_ID.tolist()"
   ]
  },
  {
   "cell_type": "code",
   "execution_count": null,
   "id": "98115f11",
   "metadata": {},
   "outputs": [],
   "source": [
    "df_wild_unique_english = df_wild_unique[df_wild_unique.Cluster_ID.isin(df_cluster_refied[df_cluster_refied.Tweet_Lang == 'en'].groupby('Cluster_ID').count().reset_index().Cluster_ID.tolist())]"
   ]
  },
  {
   "cell_type": "code",
   "execution_count": null,
   "id": "d1ccb2b8",
   "metadata": {},
   "outputs": [],
   "source": [
    "df_wild_unique_english = df_wild_unique_english.reset_index(drop = True)"
   ]
  },
  {
   "cell_type": "code",
   "execution_count": null,
   "id": "3a19a425",
   "metadata": {},
   "outputs": [],
   "source": []
  },
  {
   "cell_type": "code",
   "execution_count": null,
   "id": "bc150bbe",
   "metadata": {},
   "outputs": [],
   "source": [
    "docs_wild_unique_english = df_wild_unique_english.Tweet_Text.tolist()"
   ]
  },
  {
   "cell_type": "code",
   "execution_count": null,
   "id": "17d7b0d4",
   "metadata": {},
   "outputs": [],
   "source": [
    "hdbscan_model5 = HDBSCAN(min_cluster_size=2, metric='euclidean', \n",
    "                        cluster_selection_method='eom', prediction_data=True, min_samples=2)\n",
    "representation_model5 = KeyBERTInspired()\n",
    "topic_model_wild_english = BERTopic(representation_model=representation_model5, language=\"multilingual\", \n",
    "                                    hdbscan_model=hdbscan_model5)\n",
    "topics_wild_unique_english, probs_wild_unique_english = topic_model_wild_english.fit_transform(docs_wild_unique_english)\n",
    "new_topics_wild_unique_english = topic_model_wild_english.reduce_outliers(docs_wild_unique_english, topics_wild_unique_english)\n",
    "topic_model_wild_english.save(\"/disk/mnemo/users/randomuser/SBERT All Embedding/Group_Topic/Topic_Wild_Unique_English\", serialization=\"pickle\")\n"
   ]
  },
  {
   "cell_type": "code",
   "execution_count": null,
   "id": "0ef6e043",
   "metadata": {},
   "outputs": [],
   "source": [
    "similar_topics, similarity =topic_model_wild_unique.find_topics(\"oxygen\", top_n=20)"
   ]
  },
  {
   "cell_type": "code",
   "execution_count": null,
   "id": "3e8544d7",
   "metadata": {},
   "outputs": [],
   "source": [
    "topic_model_wild_unique.get_topic(similar_topics[0])"
   ]
  },
  {
   "cell_type": "code",
   "execution_count": null,
   "id": "768acd62",
   "metadata": {},
   "outputs": [],
   "source": [
    "topic_model_wild_unique.get_topic_info()[topic_model_wild_unique.\n",
    "                                         get_topic_info().\n",
    "                                         Topic == similar_topics[1]]"
   ]
  },
  {
   "cell_type": "code",
   "execution_count": null,
   "id": "bebae9d7",
   "metadata": {},
   "outputs": [],
   "source": [
    "similar_topics"
   ]
  },
  {
   "cell_type": "code",
   "execution_count": null,
   "id": "792aba5d",
   "metadata": {},
   "outputs": [],
   "source": [
    "similarity"
   ]
  },
  {
   "cell_type": "code",
   "execution_count": null,
   "id": "d853759d",
   "metadata": {},
   "outputs": [],
   "source": [
    "df_wild_unique = df_wild_unique.reset_index(drop = True)"
   ]
  },
  {
   "cell_type": "code",
   "execution_count": null,
   "id": "5c00408b",
   "metadata": {},
   "outputs": [],
   "source": [
    "df_wild_unique.to_csv('Campaing_Topic_Map.csv', index = False)"
   ]
  },
  {
   "cell_type": "code",
   "execution_count": null,
   "id": "511a5efe",
   "metadata": {},
   "outputs": [],
   "source": [
    "topic_model_wild_unique.get_topic_info()[10:20]"
   ]
  },
  {
   "cell_type": "code",
   "execution_count": null,
   "id": "2c401dce",
   "metadata": {},
   "outputs": [],
   "source": [
    "df_wild_unique.loc[df_wild_unique.Actual_Topic == 6].iloc[100:130]"
   ]
  },
  {
   "cell_type": "code",
   "execution_count": null,
   "id": "9d8674ab",
   "metadata": {},
   "outputs": [],
   "source": [
    "df_elect = df_wild_unique.loc[df_wild_unique.Actual_Topic == 10]"
   ]
  },
  {
   "cell_type": "code",
   "execution_count": null,
   "id": "11c2a026",
   "metadata": {},
   "outputs": [],
   "source": [
    "df_elect"
   ]
  },
  {
   "cell_type": "code",
   "execution_count": null,
   "id": "0e4d5d04",
   "metadata": {},
   "outputs": [],
   "source": [
    "df_uae = df_wild_unique[df_wild_unique.apply(lambda row: row.astype(str).str.contains('UAE').any(), axis=1)]"
   ]
  },
  {
   "cell_type": "code",
   "execution_count": null,
   "id": "cc59311c",
   "metadata": {},
   "outputs": [],
   "source": [
    "df_uae.iloc[40:]"
   ]
  },
  {
   "cell_type": "code",
   "execution_count": null,
   "id": "743495f8",
   "metadata": {},
   "outputs": [],
   "source": [
    "df_cluster_refied.loc[df_cluster_refied.Cluster_ID == 'Wild_67434'][['Retweet_Count', 'Favorite_Count' ]].sum().sum()"
   ]
  },
  {
   "cell_type": "code",
   "execution_count": null,
   "id": "53c82e8e",
   "metadata": {},
   "outputs": [],
   "source": [
    "df_account"
   ]
  },
  {
   "cell_type": "code",
   "execution_count": null,
   "id": "ace829bc",
   "metadata": {},
   "outputs": [],
   "source": [
    "df_cluster_refied.loc[df_cluster_refied.Cluster_ID == 'Wild_59666']['Tweet_Text']"
   ]
  },
  {
   "cell_type": "code",
   "execution_count": null,
   "id": "2411b7da",
   "metadata": {},
   "outputs": [],
   "source": [
    "df_wild_unique[['Cluster_ID', 'Reduce_Topic', 'Actual_Topic']]"
   ]
  },
  {
   "cell_type": "code",
   "execution_count": null,
   "id": "1004624b",
   "metadata": {},
   "outputs": [],
   "source": [
    "pd.merge(df_cluster_refied, df_wild_unique[['Cluster_ID', 'Reduce_Topic', 'Actual_Topic']]).drop(columns = {'Unnamed: 0.1', 'Unnamed: 0'}).to_csv('All_Tweet_With_Topic.csv', index = False)"
   ]
  },
  {
   "cell_type": "code",
   "execution_count": null,
   "id": "9c6c3e1e",
   "metadata": {},
   "outputs": [],
   "source": [
    "df_wild_unique[df_wild_unique.Cluster_ID.isin(df_cluster_particate.Cluster_ID)].groupby('Reduce_Topic').count()"
   ]
  },
  {
   "cell_type": "code",
   "execution_count": null,
   "id": "9d86ae6d",
   "metadata": {},
   "outputs": [],
   "source": [
    "top_community = [0,1,8,6, 15, 4, 13, 14, 5, 18, 17, 19, 29, 42]"
   ]
  },
  {
   "cell_type": "code",
   "execution_count": null,
   "id": "be11ce39",
   "metadata": {},
   "outputs": [],
   "source": [
    "df_cluster_particate[df_cluster_particate.Community_ID.isin(top_community)].Community_ID"
   ]
  },
  {
   "cell_type": "code",
   "execution_count": null,
   "id": "2e09b077",
   "metadata": {},
   "outputs": [],
   "source": [
    "df_wild_unique[df_wild_unique.Cluster_ID.isin(df_cluster_particate[df_cluster_particate.Community_ID.isin(top_community)].Cluster_ID)].groupby('Reduce_Topic').count()"
   ]
  },
  {
   "cell_type": "code",
   "execution_count": null,
   "id": "d7b6a62a",
   "metadata": {},
   "outputs": [],
   "source": [
    "df_wild_unique.groupby('Reduce_Topic').count()"
   ]
  },
  {
   "cell_type": "code",
   "execution_count": null,
   "id": "ab9d6c3f",
   "metadata": {},
   "outputs": [],
   "source": [
    "df_wild_unique[df_wild_unique.Tweet_Lang == 'hi']"
   ]
  },
  {
   "cell_type": "code",
   "execution_count": null,
   "id": "fb8fb238",
   "metadata": {},
   "outputs": [],
   "source": [
    "df_cluster_refied[['Cluster_ID', 'Tweet_Lang']].drop_duplicates('Cluster_ID')"
   ]
  },
  {
   "cell_type": "code",
   "execution_count": null,
   "id": "9e47bf66",
   "metadata": {},
   "outputs": [],
   "source": [
    "df_wild_unique = pd.merge(df_wild_unique, df_cluster_refied[['Cluster_ID', 'Tweet_Lang']].drop_duplicates('Cluster_ID'))"
   ]
  },
  {
   "cell_type": "code",
   "execution_count": null,
   "id": "6daf50cf",
   "metadata": {},
   "outputs": [],
   "source": [
    "df_outlier_hindi = df_wild_unique[(df_wild_unique.Actual_Topic == -1) & (df_wild_unique.Tweet_Lang == 'hi')]"
   ]
  },
  {
   "cell_type": "code",
   "execution_count": null,
   "id": "407fecbd",
   "metadata": {},
   "outputs": [],
   "source": [
    "df_cluster_refied[df_cluster_refied.Cluster_ID.isin(df_outlier_hindi.Cluster_ID.tolist())].groupby('Cluster_ID').count().reset_index().describe()"
   ]
  },
  {
   "cell_type": "code",
   "execution_count": null,
   "id": "fe70303e",
   "metadata": {},
   "outputs": [],
   "source": [
    "outlizer_camp_size = df_cluster_refied[df_cluster_refied.Cluster_ID.isin(df_outlier_hindi.Cluster_ID.tolist())].groupby('Cluster_ID').count().reset_index()"
   ]
  },
  {
   "cell_type": "code",
   "execution_count": null,
   "id": "115e2bfb",
   "metadata": {},
   "outputs": [],
   "source": [
    "outlizer_camp_size[outlizer_camp_size.Tweet_ID >= 5]"
   ]
  },
  {
   "cell_type": "code",
   "execution_count": null,
   "id": "8c56c3c9",
   "metadata": {},
   "outputs": [],
   "source": [
    "df_outlier_hindi"
   ]
  },
  {
   "cell_type": "markdown",
   "id": "9f05e3bb",
   "metadata": {},
   "source": [
    "# All English Campaign Topic"
   ]
  },
  {
   "cell_type": "code",
   "execution_count": null,
   "id": "581d5618",
   "metadata": {},
   "outputs": [],
   "source": [
    "df_wild_unique.to_csv('Tweet_For_Translate.csv', index = False)"
   ]
  },
  {
   "cell_type": "code",
   "execution_count": null,
   "id": "6b31e0ec",
   "metadata": {},
   "outputs": [],
   "source": [
    "df_wild_unique"
   ]
  },
  {
   "cell_type": "code",
   "execution_count": null,
   "id": "09854485",
   "metadata": {},
   "outputs": [],
   "source": [
    "hdbscan_model_all_english = HDBSCAN(min_cluster_size=2, metric='euclidean', \n",
    "                        cluster_selection_method='eom', prediction_data=True, min_samples=2)\n",
    "representation_model_all_english = KeyBERTInspired()"
   ]
  },
  {
   "cell_type": "code",
   "execution_count": null,
   "id": "8bd25db2",
   "metadata": {},
   "outputs": [],
   "source": [
    "df_cluster_all_english = pd.read_csv('Updated_Translated_Campaign_for_Narrative.csv', lineterminator = '\\n')"
   ]
  },
  {
   "cell_type": "code",
   "execution_count": null,
   "id": "6751a802",
   "metadata": {},
   "outputs": [],
   "source": [
    "df_cluster_all_english.columns"
   ]
  },
  {
   "cell_type": "code",
   "execution_count": null,
   "id": "c410ef94",
   "metadata": {},
   "outputs": [],
   "source": [
    "df_cluster_all_english['Refined_Text_English'] = df_cluster_all_english['Translated_Tweets'].apply(remove_twitter_mentions)\n",
    "df_cluster_all_english['Refined_Text_English'] = df_cluster_all_english['Refined_Text_English'].apply(remove_links)\n",
    "df_cluster_all_english['Refined_Text_English'] = df_cluster_all_english['Refined_Text_English'].str.replace('\\n', ' ')\n",
    "df_cluster_all_english['Refined_Text_English'] = df_cluster_all_english['Refined_Text_English'].str.strip()"
   ]
  },
  {
   "cell_type": "code",
   "execution_count": null,
   "id": "685b89b0",
   "metadata": {},
   "outputs": [],
   "source": [
    "doc_all_English = df_cluster_all_english['Refined_Text_English'].tolist()"
   ]
  },
  {
   "cell_type": "code",
   "execution_count": null,
   "id": "269c337a",
   "metadata": {},
   "outputs": [],
   "source": [
    "doc_all_English"
   ]
  },
  {
   "cell_type": "code",
   "execution_count": null,
   "id": "0c4382b8",
   "metadata": {},
   "outputs": [],
   "source": [
    "topic_model_all_english = BERTopic(representation_model=representation_model_all_english, hdbscan_model=hdbscan_model_all_english)\n",
    "topics_all_english, probs_all_english = topic_model_all_english.fit_transform(doc_all_English[0:50])"
   ]
  },
  {
   "cell_type": "code",
   "execution_count": null,
   "id": "f7434c3b",
   "metadata": {},
   "outputs": [],
   "source": [
    "topic_model_all_english.get_topic_info()"
   ]
  },
  {
   "cell_type": "code",
   "execution_count": null,
   "id": "13510a01",
   "metadata": {},
   "outputs": [],
   "source": [
    "from bertopic.representation import KeyBERTInspired\n",
    "from bertopic.representation import PartOfSpeech\n",
    "from bertopic.representation import MaximalMarginalRelevance\n",
    "from sklearn.datasets import fetch_20newsgroups\n",
    "from bertopic.representation import ZeroShotClassification\n",
    "\n",
    "\n",
    "main_representation = KeyBERTInspired()\n",
    "\n",
    "candidate_topics = ['politics','religion', 'china', 'pakistan', 'bjp', 'congress']\n",
    "aspect_model1 = PartOfSpeech(\"en_core_web_sm\")\n",
    "aspect_model2 = [KeyBERTInspired(top_n_words=30), MaximalMarginalRelevance(diversity=.5)]\n",
    "\n",
    "representation_model = {\n",
    "   \"Main\": main_representation,\n",
    "   \"Aspect1\":  aspect_model1,\n",
    "   \"Aspect2\":  aspect_model2 \n",
    "}\n",
    "topic_model_all_english = BERTopic(representation_model=representation_model, hdbscan_model=hdbscan_model_all_english)\n",
    "topics_all_english, probs_all_english = topic_model_all_english.fit_transform(doc_all_English)\n",
    "topic_model_all_english.save(\"/disk/mnemo/users/randomuser/SBERT All Embedding/Group_Topic/Topic_All_English_Multi_Aspect\", serialization=\"pickle\")\n",
    "new_topics_all_english_up = topic_model_all_english.reduce_outliers(doc_all_English, topics_all_english)\n",
    "topic_model_all_english.save(\"/disk/mnemo/users/randomuser/SBERT All Embedding/Group_Topic/Topic_All_English_Multi_Aspect_Reduce_Outlier\", serialization=\"pickle\")\n"
   ]
  },
  {
   "cell_type": "code",
   "execution_count": null,
   "id": "188fc515",
   "metadata": {},
   "outputs": [],
   "source": [
    "new_topics_all_english_up"
   ]
  },
  {
   "cell_type": "code",
   "execution_count": null,
   "id": "7ee943d7",
   "metadata": {},
   "outputs": [],
   "source": [
    "df_cluster_all_english_small = df_cluster_all_english[['Cluster_ID', 'Tweet_ID']]\n",
    "df_cluster_all_english_small['Topic_All_English_Actual'] = topics_all_english\n",
    "df_cluster_all_english_small['Topic_All_English_Reduce'] = new_topics_all_english_up"
   ]
  },
  {
   "cell_type": "code",
   "execution_count": null,
   "id": "e530c612",
   "metadata": {},
   "outputs": [],
   "source": [
    "df_cluster_all_english_small['Topic_All_English_Actual'] = topics_all_english\n",
    "df_cluster_all_english_small['Topic_All_English_Reduce'] = new_topics_all_english_up"
   ]
  },
  {
   "cell_type": "code",
   "execution_count": null,
   "id": "0c4d77fd",
   "metadata": {},
   "outputs": [],
   "source": []
  },
  {
   "cell_type": "code",
   "execution_count": null,
   "id": "ed1e844a",
   "metadata": {},
   "outputs": [],
   "source": [
    "topic_model_all_english.get_topic_info().to_csv('/disk/mnemo/users/randomuser/SBERT All Embedding/Topic_Model_Results/Topic_All_English.csv', index = False)\n",
    "df_cluster_all_english_small.to_csv('/disk/mnemo/users/randomuser/SBERT All Embedding/Topic_Model_Results/Campaign_All_English.csv', index = False)"
   ]
  },
  {
   "cell_type": "code",
   "execution_count": null,
   "id": "c5b63d73",
   "metadata": {},
   "outputs": [],
   "source": [
    "df_cluster_all_english_small.to_csv('/disk/mnemo/users/randomuser/SBERT All Embedding/Topic_Model_Results/Campaign_All_English.csv', index = False)"
   ]
  },
  {
   "cell_type": "code",
   "execution_count": null,
   "id": "b17650e3",
   "metadata": {},
   "outputs": [],
   "source": [
    "topic_model_all_english.save(\"/disk/mnemo/users/randomuser/SBERT All Embedding/Group_Topic/Topic_All_English_Multi_Aspect\", serialization=\"pickle\")\n",
    "new_topics_all_english_up = topic_model_all_english.reduce_outliers(doc_all_English, topics_all_english)\n",
    "topic_model_all_english.save(\"/disk/mnemo/users/randomuser/SBERT All Embedding/Group_Topic/Topic_All_English_Multi_Aspect_Reduce_Outlier\", serialization=\"pickle\")"
   ]
  },
  {
   "cell_type": "code",
   "execution_count": null,
   "id": "9ffa8dbc",
   "metadata": {},
   "outputs": [],
   "source": [
    "topic_model_all_english.get_topic_info()"
   ]
  },
  {
   "cell_type": "code",
   "execution_count": null,
   "id": "a5a793a3",
   "metadata": {},
   "outputs": [],
   "source": [
    "similar_topics, similarity =topic_model_all_english.find_topics(\"china\", top_n=20)"
   ]
  },
  {
   "cell_type": "code",
   "execution_count": null,
   "id": "3ac53004",
   "metadata": {},
   "outputs": [],
   "source": []
  },
  {
   "cell_type": "code",
   "execution_count": null,
   "id": "7cf6d3c5",
   "metadata": {},
   "outputs": [],
   "source": [
    "topic_model_all_english_single = BERTopic(representation_model=representation_model_all_english, hdbscan_model=hdbscan_model_all_english)\n",
    "topics_all_english_single, probs_all_english_single = topic_model_all_english_single.fit_transform(doc_all_English)\n",
    "\n",
    "topic_model_all_english_single.save(\"/disk/mnemo/users/randomuser/SBERT All Embedding/Group_Topic/Topic_All_English\", serialization=\"pickle\")\n",
    "new_topics_all_english_single_up = topic_model_all_english_single.reduce_outliers(doc_all_English, topics_all_english_single)\n",
    "\n",
    "topic_model_all_english_single.save(\"/disk/mnemo/users/randomuser/SBERT All Embedding/Group_Topic/Topic_All_English_Reduce_Outlier\", serialization=\"pickle\")"
   ]
  },
  {
   "cell_type": "code",
   "execution_count": null,
   "id": "d04d0eae",
   "metadata": {},
   "outputs": [],
   "source": [
    "df_cluster_all_english_small = df_cluster_all_english[['Cluster_ID', 'Tweet_ID']]\n",
    "df_cluster_all_english_small['Topic_All_English_Actual'] = topics_all_english_single\n",
    "df_cluster_all_english_small['Topic_All_English_Reduce'] = new_topics_all_english_single_up\n"
   ]
  },
  {
   "cell_type": "code",
   "execution_count": null,
   "id": "31aca17d",
   "metadata": {},
   "outputs": [],
   "source": [
    "df_cluster_all_english_small"
   ]
  },
  {
   "cell_type": "code",
   "execution_count": null,
   "id": "46b4f86f",
   "metadata": {},
   "outputs": [],
   "source": [
    "topic_model_all_english_single.get_topic_info().to_csv('/disk/mnemo/users/randomuser/SBERT All Embedding/Topic_Model_Results/Topic_All_English_Single_Aspect.csv', index = False)\n",
    "df_cluster_all_english_small.to_csv('/disk/mnemo/users/randomuser/SBERT All Embedding/Topic_Model_Results/Campaign_All_English_Single_Aspect.csv', index = False)"
   ]
  },
  {
   "cell_type": "code",
   "execution_count": null,
   "id": "c2d1ba1e",
   "metadata": {},
   "outputs": [],
   "source": [
    "topic_model_all_english2.get_topic_info()"
   ]
  },
  {
   "cell_type": "code",
   "execution_count": null,
   "id": "dcb20bb9",
   "metadata": {},
   "outputs": [],
   "source": [
    "topic_model_all_english2 = BERTopic(representation_model=representation_model, hdbscan_model=hdbscan_model_all_english)\n",
    "topics_all_english2, probs_all_english2 = topic_model_all_english2.fit_transform(doc_all_English)\n",
    "topic_model_all_english2.save(\"/disk/mnemo/users/randomuser/SBERT All Embedding/Group_Topic/Topic_All_English_Multi_Aspect2\", serialization=\"pickle\")\n",
    "new_topics_all_english_up2 = topic_model_all_english2.reduce_outliers(doc_all_English, topics_all_english2)\n",
    "topic_model_all_english2.save(\"/disk/mnemo/users/randomuser/SBERT All Embedding/Group_Topic/Topic_All_English_Multi_Aspect_Reduce_Outlier2\", serialization=\"pickle\")\n"
   ]
  },
  {
   "cell_type": "code",
   "execution_count": null,
   "id": "a12ed675",
   "metadata": {},
   "outputs": [],
   "source": [
    "df_cluster_all_english_small = df_cluster_all_english[['Cluster_ID', 'Tweet_ID']]\n",
    "df_cluster_all_english_small['Topic_All_English_Actual'] = topics_all_english2\n",
    "df_cluster_all_english_small['Topic_All_English_Reduce'] = new_topics_all_english_up2"
   ]
  },
  {
   "cell_type": "code",
   "execution_count": null,
   "id": "24b85aae",
   "metadata": {},
   "outputs": [],
   "source": [
    "topic_model_all_english2.get_topic_info().to_csv('/disk/mnemo/users/randomuser/SBERT All Embedding/Topic_Model_Results/Topic_All_English2.csv', index = False)\n",
    "df_cluster_all_english_small.to_csv('/disk/mnemo/users/randomuser/SBERT All Embedding/Topic_Model_Results/Campaign_All_English2.csv', index = False)"
   ]
  },
  {
   "cell_type": "code",
   "execution_count": null,
   "id": "13e31239",
   "metadata": {},
   "outputs": [],
   "source": [
    "hdbscan_model_all_english_up = HDBSCAN(min_cluster_size=5, metric='euclidean', \n",
    "                        cluster_selection_method='eom', prediction_data=True, min_samples=2)\n",
    "representation_model_all_english = KeyBERTInspired()\n",
    "\n",
    "\n",
    "\n",
    "topic_model_all_english3 = BERTopic(representation_model=representation_model, hdbscan_model=hdbscan_model_all_english_up)\n",
    "topics_all_english3, probs_all_english3 = topic_model_all_english3.fit_transform(doc_all_English)\n",
    "topic_model_all_english3.save(\"/disk/mnemo/users/randomuser/SBERT All Embedding/Group_Topic/Topic_All_English_Multi_Aspect3\", serialization=\"pickle\")\n"
   ]
  },
  {
   "cell_type": "code",
   "execution_count": null,
   "id": "4b77b101",
   "metadata": {},
   "outputs": [],
   "source": [
    "new_topics_all_english_up3"
   ]
  },
  {
   "cell_type": "code",
   "execution_count": null,
   "id": "a47b3790",
   "metadata": {},
   "outputs": [],
   "source": [
    "new_topics_all_english_up3 = topic_model_all_english3.reduce_outliers(doc_all_English, topics_all_english3)\n",
    "topic_model_all_english3.save(\"/disk/mnemo/users/randomuser/SBERT All Embedding/Group_Topic/Topic_All_English_Multi_Aspect_Reduce_Outlier3\", serialization=\"pickle\")\n"
   ]
  },
  {
   "cell_type": "code",
   "execution_count": null,
   "id": "414ff465",
   "metadata": {},
   "outputs": [],
   "source": [
    "df_cluster_all_english_small = df_cluster_all_english[['Cluster_ID', 'Tweet_ID']]\n",
    "df_cluster_all_english_small['Topic_All_English_Actual'] = topics_all_english3\n",
    "df_cluster_all_english_small['Topic_All_English_Reduce'] = new_topics_all_english_up3"
   ]
  },
  {
   "cell_type": "code",
   "execution_count": null,
   "id": "ae8ca4a6",
   "metadata": {},
   "outputs": [],
   "source": [
    "df_cluster_all_english_small"
   ]
  },
  {
   "cell_type": "code",
   "execution_count": null,
   "id": "ebc1106e",
   "metadata": {},
   "outputs": [],
   "source": [
    "topic_model_all_english3.get_topic_info().to_csv('/disk/mnemo/users/randomuser/SBERT All Embedding/Topic_Model_Results/Topic_All_English3.csv', index = False)\n",
    "df_cluster_all_english_small.to_csv('/disk/mnemo/users/randomuser/SBERT All Embedding/Topic_Model_Results/Campaign_All_English3.csv', index = False)"
   ]
  },
  {
   "cell_type": "code",
   "execution_count": null,
   "id": "496f2645",
   "metadata": {},
   "outputs": [],
   "source": [
    "topic_model_all_english_single.get_topic_info()"
   ]
  },
  {
   "cell_type": "code",
   "execution_count": null,
   "id": "8b768ffb",
   "metadata": {},
   "outputs": [],
   "source": [
    "topic_model_all_english_single2 = BERTopic(representation_model=representation_model_all_english, hdbscan_model=hdbscan_model_all_english)\n",
    "topics_all_english_single2, probs_all_english_single2 = topic_model_all_english_single2.fit_transform(doc_all_English)\n",
    "\n",
    "topic_model_all_english_single2.save(\"/disk/mnemo/users/randomuser/SBERT All Embedding/Group_Topic/Topic_All_English2\", serialization=\"pickle\")\n",
    "new_topics_all_english_single_up2 = topic_model_all_english_single2.reduce_outliers(doc_all_English, topics_all_english_single2)\n",
    "\n",
    "topic_model_all_english_single2.save(\"/disk/mnemo/users/randomuser/SBERT All Embedding/Group_Topic/Topic_All_English_Reduce_Outlier2\", serialization=\"pickle\")"
   ]
  },
  {
   "cell_type": "code",
   "execution_count": null,
   "id": "2554d0ef",
   "metadata": {},
   "outputs": [],
   "source": [
    "df_cluster_all_english_small = df_cluster_all_english[['Cluster_ID', 'Tweet_ID']]\n",
    "df_cluster_all_english_small['Topic_All_English_Actual'] = topics_all_english_single2\n",
    "df_cluster_all_english_small['Topic_All_English_Reduce'] = new_topics_all_english_single_up2\n",
    "topic_model_all_english_single2.get_topic_info().to_csv('/disk/mnemo/users/randomuser/SBERT All Embedding/Topic_Model_Results/Topic_All_English_Single_Aspect2.csv', index = False)\n",
    "df_cluster_all_english_small.to_csv('/disk/mnemo/users/randomuser/SBERT All Embedding/Topic_Model_Results/Campaign_All_English_Single_Aspect2.csv', index = False)"
   ]
  },
  {
   "cell_type": "code",
   "execution_count": null,
   "id": "e3d06527",
   "metadata": {},
   "outputs": [],
   "source": [
    "df_cluster_all_english_small"
   ]
  },
  {
   "cell_type": "code",
   "execution_count": null,
   "id": "7d501071",
   "metadata": {},
   "outputs": [],
   "source": [
    "topic_model_all_english_single2.get_topic_info()"
   ]
  },
  {
   "cell_type": "code",
   "execution_count": null,
   "id": "0bd9dc47",
   "metadata": {},
   "outputs": [],
   "source": [
    "topic_model_all_english_single2.get_topic_info().to_csv('/disk/mnemo/users/randomuser/SBERT All Embedding/Topic_Model_Results/Topic_All_English_Single_Aspect2.csv', index = False)\n",
    "df_cluster_all_english_small.to_csv('/disk/mnemo/users/randomuser/SBERT All Embedding/Topic_Model_Results/Campaign_All_English_Single_Aspect2.csv', index = False)"
   ]
  },
  {
   "cell_type": "code",
   "execution_count": null,
   "id": "0ec5e0d1",
   "metadata": {},
   "outputs": [],
   "source": [
    "topic_model_all_english_single2.get_topic_info().iloc[0:30]"
   ]
  },
  {
   "cell_type": "code",
   "execution_count": null,
   "id": "0a4a7db4",
   "metadata": {},
   "outputs": [],
   "source": [
    "topic_model_all_english_single2.find_topics(\"china\", top_n=20)"
   ]
  },
  {
   "cell_type": "code",
   "execution_count": null,
   "id": "52b375c0",
   "metadata": {},
   "outputs": [],
   "source": [
    "topic_model_all_english_single2.get_topic_info()[topic_model_all_english_single2.get_topic_info().Topic == 1997]"
   ]
  },
  {
   "cell_type": "code",
   "execution_count": null,
   "id": "23856332",
   "metadata": {},
   "outputs": [],
   "source": [
    "topic_model_all_english_single2.get_topic_info().iloc[0:20]"
   ]
  },
  {
   "cell_type": "code",
   "execution_count": null,
   "id": "15e609df",
   "metadata": {},
   "outputs": [],
   "source": [
    "topic_model_all_english.get_topic_info()[topic_model_all_english2.get_topic_info().Count >= 50]"
   ]
  },
  {
   "cell_type": "code",
   "execution_count": null,
   "id": "9fad7698",
   "metadata": {},
   "outputs": [],
   "source": [
    "topic_model_all_english2.get_topic_info().iloc[0:20]"
   ]
  },
  {
   "cell_type": "code",
   "execution_count": null,
   "id": "7468eb51",
   "metadata": {},
   "outputs": [],
   "source": [
    "df_cluster_all_english_small = df_cluster_all_english[['Cluster_ID', 'Tweet_ID', 'Refined_Text_English']]"
   ]
  },
  {
   "cell_type": "code",
   "execution_count": null,
   "id": "07839b2d",
   "metadata": {},
   "outputs": [],
   "source": [
    "df_cluster_all_english_small.sample(20)"
   ]
  },
  {
   "cell_type": "code",
   "execution_count": null,
   "id": "a3b8a229",
   "metadata": {},
   "outputs": [],
   "source": [
    "df_cluster_all_english_small.to_csv('English_Tweet_Refied.csv', index = False)"
   ]
  }
 ],
 "metadata": {
  "kernelspec": {
   "display_name": "Python 3 (ipykernel)",
   "language": "python",
   "name": "python3"
  },
  "language_info": {
   "codemirror_mode": {
    "name": "ipython",
    "version": 3
   },
   "file_extension": ".py",
   "mimetype": "text/x-python",
   "name": "python",
   "nbconvert_exporter": "python",
   "pygments_lexer": "ipython3",
   "version": "3.9.13"
  }
 },
 "nbformat": 4,
 "nbformat_minor": 5
}
