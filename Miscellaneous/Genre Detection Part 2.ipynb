{
 "cells": [
  {
   "cell_type": "code",
   "execution_count": null,
   "id": "7a34ea7a",
   "metadata": {},
   "outputs": [],
   "source": [
    "import pandas as pd\n",
    "from numba import cuda\n",
    "from itertools import islice\n",
    "import time\n",
    "from tqdm import tqdm"
   ]
  },
  {
   "cell_type": "code",
   "execution_count": null,
   "id": "1c275556",
   "metadata": {},
   "outputs": [],
   "source": [
    "df = pd.read_csv('All_Cluster_Perspective.csv', dtype = 'str')"
   ]
  },
  {
   "cell_type": "code",
   "execution_count": null,
   "id": "b48bff22",
   "metadata": {},
   "outputs": [],
   "source": [
    "from simpletransformers.classification import ClassificationModel\n",
    "model_args= {\n",
    "            \"num_train_epochs\": 15,\n",
    "            \"learning_rate\": 1e-5,\n",
    "            \"max_seq_length\": 512,\n",
    "            \"silent\": True\n",
    "            }\n",
    "\n",
    "model = ClassificationModel(\n",
    "    \"xlmroberta\", \"classla/xlm-roberta-base-multilingual-text-genre-classifier\", use_cuda=False,\n",
    "    args=model_args\n",
    "    \n",
    ")\n",
    "\n"
   ]
  },
  {
   "cell_type": "code",
   "execution_count": null,
   "id": "4d4096cc",
   "metadata": {},
   "outputs": [],
   "source": [
    "predictions, logit_output = model.predict(['जय श्रीराम'])"
   ]
  },
  {
   "cell_type": "code",
   "execution_count": null,
   "id": "d9e5cae2",
   "metadata": {},
   "outputs": [],
   "source": [
    "for i in predictions:\n",
    "    gn = model.config.id2label[i]\n",
    "print(gn)"
   ]
  },
  {
   "cell_type": "code",
   "execution_count": null,
   "id": "c1daf301",
   "metadata": {},
   "outputs": [],
   "source": [
    "def predict(dataframe, dataframe_column, final_file):\n",
    "    \n",
    "    def chunk(arr_range, arr_size):\n",
    "        arr_range = iter(arr_range)\n",
    "        return iter(lambda: tuple(islice(arr_range, arr_size)), ())\n",
    "    \n",
    "    batches_list = list(chunk(dataframe[dataframe_column], 8))\n",
    "    batches_list_new = []\n",
    "\n",
    "    for i in batches_list:\n",
    "        batches_list_new.append(list(i))\n",
    "\n",
    "    print(\"The dataset is split into {} batches of {} texts.\".format(len(batches_list_new),len(batches_list_new[0])))\n",
    "\n",
    "    y_pred = []\n",
    "\n",
    "    print(\"Prediction started.\")\n",
    "    start_time = time.time()\n",
    "\n",
    "    for i in tqdm(batches_list_new):\n",
    "        try:\n",
    "            output = model.predict(i)\n",
    "            current_y_pred = [model.config.id2label[i] for i in output[0]]\n",
    "\n",
    "            for i in current_y_pred:\n",
    "                y_pred.append(i)\n",
    "        except:\n",
    "            for i in range(0,8):\n",
    "                y_pred.append(-1)\n",
    "\n",
    "    prediction_time = round((time.time() - start_time)/60,2)\n",
    "\n",
    "    print(\"\\n\\nPrediction completed. It took {} minutes for {} instances - {} minutes per one instance.\".format(prediction_time, dataframe.shape[0], prediction_time/dataframe.shape[0]))\n",
    "\n",
    "    dataframe[\"X-GENRE\"] = y_pred\n",
    "\n",
    "    dataframe.to_csv(\"{}\".format(final_file))\n",
    "\n",
    "    return dataframe\n"
   ]
  },
  {
   "cell_type": "code",
   "execution_count": null,
   "id": "ea6e0452",
   "metadata": {},
   "outputs": [],
   "source": [
    "start=120001\n",
    "end=127484\n",
    "em = 0"
   ]
  },
  {
   "cell_type": "code",
   "execution_count": null,
   "id": "ec750b18",
   "metadata": {
    "scrolled": true
   },
   "outputs": [],
   "source": [
    "test4 = predict(df.loc[start:end], 'Text_without_Link', 'Genre_Detection_4'+ '.csv')"
   ]
  },
  {
   "cell_type": "code",
   "execution_count": null,
   "id": "0522ad34",
   "metadata": {},
   "outputs": [],
   "source": [
    "test4.to_csv('Genre_Detection_4.csv')"
   ]
  },
  {
   "cell_type": "code",
   "execution_count": null,
   "id": "2cfe8d1f",
   "metadata": {},
   "outputs": [],
   "source": [
    "test2"
   ]
  },
  {
   "cell_type": "code",
   "execution_count": null,
   "id": "01a1ab2b",
   "metadata": {},
   "outputs": [],
   "source": [
    "df2 = pd.read_csv('Genre_Detection_0.csv')"
   ]
  },
  {
   "cell_type": "code",
   "execution_count": null,
   "id": "227bde73",
   "metadata": {},
   "outputs": [],
   "source": [
    "df2.groupby('X-GENRE').count()"
   ]
  },
  {
   "cell_type": "code",
   "execution_count": null,
   "id": "1c25120b",
   "metadata": {},
   "outputs": [],
   "source": []
  }
 ],
 "metadata": {
  "kernelspec": {
   "display_name": "Python 3 (ipykernel)",
   "language": "python",
   "name": "python3"
  },
  "language_info": {
   "codemirror_mode": {
    "name": "ipython",
    "version": 3
   },
   "file_extension": ".py",
   "mimetype": "text/x-python",
   "name": "python",
   "nbconvert_exporter": "python",
   "pygments_lexer": "ipython3",
   "version": "3.9.13"
  }
 },
 "nbformat": 4,
 "nbformat_minor": 5
}
