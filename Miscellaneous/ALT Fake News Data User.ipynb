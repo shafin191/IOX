{
 "cells": [
  {
   "cell_type": "code",
   "execution_count": 1,
   "id": "c0a855aa",
   "metadata": {},
   "outputs": [],
   "source": [
    "import pandas as pd\n",
    "import glob\n",
    "import csv\n",
    "import pickle\n",
    "import re\n",
    "import tweepy\n",
    "from time import strftime"
   ]
  },
  {
   "cell_type": "code",
   "execution_count": 5,
   "id": "4f4ab326",
   "metadata": {},
   "outputs": [],
   "source": [
    "file = glob.glob(\"U:/Twitter Research/Fake News Scraping/Fake News Tweet Sharing/User/*.data\")"
   ]
  },
  {
   "cell_type": "code",
   "execution_count": 12,
   "id": "cdd284a0",
   "metadata": {
    "collapsed": true
   },
   "outputs": [],
   "source": [
    "objects = []\n",
    "user = []\n",
    "j=0\n",
    "for i in file:\n",
    "    j=j+1\n",
    "    with (open(i, \"rb\")) as openfile:\n",
    "        user.append(i)\n",
    "        while True:\n",
    "            try:\n",
    "                objects.append(pickle.load(openfile))\n",
    "            except EOFError:\n",
    "                break"
   ]
  },
  {
   "cell_type": "code",
   "execution_count": 18,
   "id": "921a9435",
   "metadata": {},
   "outputs": [],
   "source": [
    "fullusers = objects"
   ]
  },
  {
   "cell_type": "code",
   "execution_count": 39,
   "id": "4f64546b",
   "metadata": {},
   "outputs": [],
   "source": [
    "def list_to_dataframe(fullusers):\n",
    "    tweet_id = [tweet.id_str for tweet in alltweets]\n",
    "    tweet_created = [tweet.created_at for tweet in alltweets]\n",
    "    tweet_text = [tweet.full_text for tweet in alltweets]\n",
    "\n",
    "    tweet_hashtags = [tweet.entities['hashtags'] for tweet in alltweets]\n",
    "    user_id = [tweet.user.id for tweet in alltweets]\n",
    "    screen_name_df = [tweet.user.screen_name for tweet in alltweets]\n",
    "    retweet_count =  [tweet.retweet_count for tweet in alltweets]\n",
    "    favorite_count = [tweet.favorite_count for tweet in alltweets]\n",
    "    lang = [tweet.lang for tweet in alltweets]\n",
    "    source = [tweet.source for tweet in alltweets]\n",
    "\n",
    "\n",
    "    retweet_text = []\n",
    "    i=0\n",
    "    for i in range(len(alltweets)):\n",
    "\n",
    "        try:\n",
    "            retweet_text.append(alltweets[i].retweeted_status.full_text) \n",
    "        except:\n",
    "            retweet_text.append(None)\n",
    "        i = i+1\n",
    "\n",
    "\n",
    "    mod_tweet_hashtags = []\n",
    "    total_hashtags = []\n",
    "\n",
    "    for t in tweet_hashtags:\n",
    "        tag = \"\"\n",
    "        count = 0\n",
    "        if (bool(t) == False):\n",
    "            mod_tweet_hashtags.append('None')\n",
    "            total_hashtags.append(count)\n",
    "        else:\n",
    "            for i in t:\n",
    "                tag = tag + \" \" + i.get('text')\n",
    "                count +=1\n",
    "            mod_tweet_hashtags.append(tag)\n",
    "            total_hashtags.append(count)\n",
    "\n",
    "    mention = [tweet.entities['user_mentions'] for tweet in alltweets]\n",
    "    mod_tweet_mention_sc = []\n",
    "    mod_tweet_mention_id = []\n",
    "    k = 0\n",
    "    for t in mention:\n",
    "        if (bool(t) == False):\n",
    "            mod_tweet_mention_sc.append('None')\n",
    "            mod_tweet_mention_id.append('None')\n",
    "        else:\n",
    "            mod_tweet_mention_sc.append(mention[k][0]['screen_name'])\n",
    "            mod_tweet_mention_id.append(mention[k][0]['id_str'])\n",
    "        k = k+1\n",
    "\n",
    "    tweet_dict = {'Tweet_ID': tweet_id, \n",
    "                  'Tweet_Time': tweet_created, \n",
    "                  'Tweet_Text': tweet_text, \n",
    "                  'Retweet_Text': retweet_text,\n",
    "                  'Tweet_HashTags': mod_tweet_hashtags,\n",
    "                  'Total_Hashtags' : total_hashtags,\n",
    "                  'Retweet_Count': retweet_count,\n",
    "                  'Favorite_Count': favorite_count,\n",
    "                  'Tweet_Source' : source,\n",
    "                  'Retweet_Screen_Name':mod_tweet_mention_sc,\n",
    "                  'Retweet_Account_ID':mod_tweet_mention_id,\n",
    "                  'Tweet_Lang': lang,\n",
    "                  'User_ID': user_id,\n",
    "                  'User_ScreenName': screen_name_df\n",
    "                  }  \n",
    "\n",
    "\n",
    "    df = pd.DataFrame(tweet_dict) \n",
    "    df['Retweet_Source_ScreenName'] = 'None'\n",
    "    df['Retweet'] = False\n",
    "\n",
    "\n",
    "\n",
    "    for i in range(0, len(df)):\n",
    "        if 'RT' == df['Tweet_Text'][i].split()[0]:\n",
    "            df['Retweet_Source_ScreenName'][i] = df['Tweet_Text'][i].split()[1][1:-1]\n",
    "            df['Retweet'][i] = True\n",
    "\n",
    "\n",
    "    return user_info"
   ]
  },
  {
   "cell_type": "code",
   "execution_count": 40,
   "id": "12477464",
   "metadata": {},
   "outputs": [],
   "source": [
    "datauser = list_to_dataframe(fullusers)"
   ]
  },
  {
   "cell_type": "code",
   "execution_count": 60,
   "id": "38298a35",
   "metadata": {},
   "outputs": [],
   "source": [
    "datauser['UserCreated'] =  pd.to_datetime(datauser['UserCreated'])"
   ]
  },
  {
   "cell_type": "code",
   "execution_count": 61,
   "id": "eb03f17c",
   "metadata": {},
   "outputs": [],
   "source": [
    "datauser['UserCreated'] = datauser['UserCreated'].dt.strftime('%Y-%m-%d %H:%M:%S')"
   ]
  },
  {
   "cell_type": "code",
   "execution_count": 65,
   "id": "2cdc2fe6",
   "metadata": {},
   "outputs": [],
   "source": [
    "datauser = datauser.drop(columns = 'created', axis = 1)"
   ]
  },
  {
   "cell_type": "code",
   "execution_count": 67,
   "id": "f6d90114",
   "metadata": {},
   "outputs": [],
   "source": [
    "datauser.to_csv('Fake_Accounts.csv')"
   ]
  },
  {
   "cell_type": "code",
   "execution_count": null,
   "id": "82fd9396",
   "metadata": {},
   "outputs": [],
   "source": []
  }
 ],
 "metadata": {
  "kernelspec": {
   "display_name": "Python 3",
   "language": "python",
   "name": "python3"
  },
  "language_info": {
   "codemirror_mode": {
    "name": "ipython",
    "version": 3
   },
   "file_extension": ".py",
   "mimetype": "text/x-python",
   "name": "python",
   "nbconvert_exporter": "python",
   "pygments_lexer": "ipython3",
   "version": "3.7.4"
  }
 },
 "nbformat": 4,
 "nbformat_minor": 5
}
