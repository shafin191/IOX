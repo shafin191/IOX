{
 "cells": [
  {
   "cell_type": "code",
   "execution_count": null,
   "id": "9cc014d2-6296-4804-9886-f317ac0282f4",
   "metadata": {},
   "outputs": [],
   "source": [
    "import pandas as pd\n",
    "from sentence_transformers import SentenceTransformer, util\n",
    "import pandas as pd\n",
    "import numpy as np\n",
    "import time\n",
    "from sklearn.metrics.pairwise import cosine_similarity\n",
    "import torch\n",
    "import re\n",
    "import sys"
   ]
  },
  {
   "cell_type": "code",
   "execution_count": null,
   "id": "edd25a9d-6fe3-4d69-98bf-b5308e314649",
   "metadata": {},
   "outputs": [],
   "source": [
    "df_cluster = pd.read_csv('All_Cluster_Tweet_Topic_2023.csv', dtype = 'str')\n",
    "df_embedding = pd.read_csv('Cluster_Embedding_2023.csv')"
   ]
  },
  {
   "cell_type": "code",
   "execution_count": null,
   "id": "2457fa9f-42b3-4ac1-8457-72e5e0bd2edf",
   "metadata": {},
   "outputs": [],
   "source": [
    "df_embedding"
   ]
  },
  {
   "cell_type": "code",
   "execution_count": null,
   "id": "be3158c2-e4d2-4cb9-a7ec-7f0727ecf707",
   "metadata": {},
   "outputs": [],
   "source": [
    "model = SentenceTransformer(\"paraphrase-multilingual-MiniLM-L12-v2\", device='cuda:0')\n",
    "model.max_seq_length = 280\n",
    "model.do_lower_case =  True"
   ]
  },
  {
   "cell_type": "code",
   "execution_count": null,
   "id": "f00b8faa-7fe0-4e52-94b2-1cf2ba701918",
   "metadata": {},
   "outputs": [],
   "source": [
    "df_alt_fake_tweet_2024 = pd.read_csv('New_Fake_Tweets_2024.csv', dtype = 'str')\n",
    "\n",
    "df_cluster2 = df_alt_fake_tweet_2024\n",
    "df_cluster2 = df_cluster2.dropna(subset=['Tweet_ID'])\n",
    "df_cluster2['Text_without_Link'] = df_cluster2['text'].apply(lambda x: re.split('https:\\/\\/.*', str(x))[0])\n",
    "df_cluster2['Text_without_Link']=df_cluster2['Text_without_Link'].str.replace('(@\\w+.*?)',\"\")\n",
    "df_cluster2['Text_without_Link'] = df_cluster2['Text_without_Link'].replace('', np.nan)\n",
    "df_cluster2 = df_cluster2.dropna(subset=['Text_without_Link'])\n",
    "df_cluster2 = df_cluster2[(df_cluster2.Text_Lang == 'en') | (df_cluster2.Text_Lang == 'hi')]\n",
    "df_cluster2 = df_cluster2.dropna(subset=['Text_without_Link'])\n",
    "df_cluster2 = df_cluster2.reset_index(drop = True)\n",
    "df_cluster2['Text_Size'] = df_cluster2.Text_without_Link.apply(lambda x: len(x))\n",
    "df_cluster2 = df_cluster2.loc[df_cluster2.Text_Size >= 20]\n",
    "df_cluster2.Tweet_ID = df_cluster2.Tweet_ID.astype('int')"
   ]
  },
  {
   "cell_type": "code",
   "execution_count": null,
   "id": "ae9ca083-9531-4b27-b96e-d28e9ff584ac",
   "metadata": {},
   "outputs": [],
   "source": [
    "i=0\n",
    "all_text2 = df_cluster2.Text_without_Link.tolist()\n",
    "embeddings2 = model.encode(all_text2[i*3000:(i+1)*3000])"
   ]
  },
  {
   "cell_type": "code",
   "execution_count": null,
   "id": "ca10200b-6077-414f-9a12-dc63941c6b99",
   "metadata": {},
   "outputs": [],
   "source": [
    "f_set = ['Tweet_ID']\n",
    "for i in range(0,384):\n",
    "    f_set.append('F' + str(i))\n",
    "df_embedding2 = pd.DataFrame(columns=f_set)\n",
    "df_embedding2['Tweet_ID'] =df_cluster2['Tweet_ID']\n",
    "\n",
    "emb_df2 = pd.DataFrame(embeddings2)\n",
    "df_embedding2.iloc[:,1:] = emb_df2.iloc[:,:]"
   ]
  },
  {
   "cell_type": "code",
   "execution_count": null,
   "id": "edb0febb-b9f4-44ee-830f-b95669aacb0a",
   "metadata": {},
   "outputs": [],
   "source": [
    "from sklearn.metrics.pairwise import cosine_similarity"
   ]
  },
  {
   "cell_type": "code",
   "execution_count": null,
   "id": "54ad46a4-5549-41e8-a5dd-898e28368840",
   "metadata": {},
   "outputs": [],
   "source": [
    "grouped_clusters = df_embedding.groupby('Cluster_ID')"
   ]
  },
  {
   "cell_type": "code",
   "execution_count": null,
   "id": "82f5d90b-3c10-4257-bbe4-a5d6d9d3c990",
   "metadata": {},
   "outputs": [],
   "source": []
  },
  {
   "cell_type": "code",
   "execution_count": null,
   "id": "5be37f0b-05ba-4227-af57-822019cc5c7c",
   "metadata": {},
   "outputs": [],
   "source": [
    "import pandas as pd\n",
    "from sklearn.metrics.pairwise import cosine_similarity\n",
    "import numpy as np\n",
    "\n",
    "\n",
    "grouped_clusters = df_embedding.groupby('Cluster_ID')\n",
    "\n",
    "cluster_avg_cosine_sim = []\n",
    "\n",
    "for cluster_id, group in grouped_clusters:\n",
    "    embeddings = group.iloc[:, 2:-1].values  \n",
    "    \n",
    "    cosine_sim_matrix = cosine_similarity(embeddings)\n",
    "    \n",
    "    np.fill_diagonal(cosine_sim_matrix, np.nan)\n",
    "    \n",
    "    avg_cosine_similarity = np.nanmean(cosine_sim_matrix)\n",
    "    \n",
    "    cluster_avg_cosine_sim.append({'Cluster_ID': cluster_id, 'Avg_Cosine_Similarity': avg_cosine_similarity})\n",
    "\n",
    "df_avg_cosine_similarity = pd.DataFrame(cluster_avg_cosine_sim)\n",
    "\n"
   ]
  },
  {
   "cell_type": "code",
   "execution_count": null,
   "id": "7e0fd2a8-d7e5-4c4a-92c9-92728a3aee1b",
   "metadata": {},
   "outputs": [],
   "source": [
    "print(df_avg_cosine_similarity.Avg_Cosine_Similarity.mean())\n",
    "print(df_avg_cosine_similarity.Avg_Cosine_Similarity.median())\n",
    "print(df_avg_cosine_similarity.Avg_Cosine_Similarity.min())"
   ]
  },
  {
   "cell_type": "code",
   "execution_count": null,
   "id": "f624921f-fc1b-4975-b543-9b86b7189489",
   "metadata": {},
   "outputs": [],
   "source": [
    "len(df_embedding.loc[:, '0':'383'])"
   ]
  },
  {
   "cell_type": "code",
   "execution_count": null,
   "id": "a94e40a9-3e88-4f6f-82c2-2f3629a0117d",
   "metadata": {},
   "outputs": [],
   "source": [
    "import pandas as pd\n",
    "import numpy as np\n",
    "from sklearn.metrics.pairwise import cosine_similarity\n",
    "\n",
    "df_embedding.Tweet_ID = df_embedding.Tweet_ID.astype('str')\n",
    "cluster_embeddings = df_embedding.loc[:, '0':'383'].values\n",
    "fake_embeddings = df_embedding2.loc[:, 'F0':'F383'].values\n",
    "\n",
    "similarity_matrix = cosine_similarity(cluster_embeddings, fake_embeddings)\n",
    "\n",
    "threshold = 0.95\n",
    "\n",
    "matching_indices = np.where(similarity_matrix > threshold)\n",
    "\n",
    "matches = []\n",
    "\n",
    "for cluster_idx, fake_idx in zip(matching_indices[0], matching_indices[1]):\n",
    "    cluster_row = df_embedding.iloc[cluster_idx]\n",
    "    fake_row = df_embedding2.iloc[fake_idx]\n",
    "    \n",
    "    matches.append({\n",
    "        'Cluster_ID': cluster_row['Cluster_ID'],\n",
    "        'Tweet_ID_Cluster': cluster_row['Tweet_ID'],\n",
    "        'Tweet_ID_Fake': fake_row['Tweet_ID'],\n",
    "        'Similarity': similarity_matrix[cluster_idx, fake_idx]\n",
    "    })\n",
    "\n",
    "df_matches = pd.DataFrame(matches)\n",
    "\n"
   ]
  },
  {
   "cell_type": "code",
   "execution_count": null,
   "id": "de7e21f1-3f35-4f09-a7e1-e5b2ea14e7c4",
   "metadata": {},
   "outputs": [],
   "source": [
    "df_matches.groupby('Cluster_ID').count()"
   ]
  },
  {
   "cell_type": "code",
   "execution_count": null,
   "id": "0ff804b8-c3e2-4766-bc22-7708f72d5263",
   "metadata": {},
   "outputs": [],
   "source": [
    "df_matches.loc[df_matches.Similarity >0.99]"
   ]
  },
  {
   "cell_type": "code",
   "execution_count": null,
   "id": "2c06ebb2-d146-47cf-9d80-fd182b3adf18",
   "metadata": {},
   "outputs": [],
   "source": [
    "df_cluster.groupby('Cluster_ID').count()"
   ]
  },
  {
   "cell_type": "code",
   "execution_count": null,
   "id": "4a90b0f4-27a6-4b47-80ef-5f6ba4ac18d4",
   "metadata": {},
   "outputs": [],
   "source": []
  }
 ],
 "metadata": {
  "kernelspec": {
   "display_name": "Python 3 (ipykernel)",
   "language": "python",
   "name": "python3"
  },
  "language_info": {
   "codemirror_mode": {
    "name": "ipython",
    "version": 3
   },
   "file_extension": ".py",
   "mimetype": "text/x-python",
   "name": "python",
   "nbconvert_exporter": "python",
   "pygments_lexer": "ipython3",
   "version": "3.9.13"
  }
 },
 "nbformat": 4,
 "nbformat_minor": 5
}
