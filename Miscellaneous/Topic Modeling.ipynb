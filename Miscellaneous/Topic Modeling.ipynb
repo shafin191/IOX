{
 "cells": [
  {
   "cell_type": "code",
   "execution_count": null,
   "id": "f9e9aed6",
   "metadata": {},
   "outputs": [],
   "source": [
    "import pandas as pd\n",
    "import os \n",
    "import json\n",
    "pd.set_option('display.max_colwidth', None)\n",
    "pd.set_option('display.max_columns', 10)\n",
    "pd.set_option('display.max_rows', 50)"
   ]
  },
  {
   "cell_type": "code",
   "execution_count": null,
   "id": "ab603d3a",
   "metadata": {},
   "outputs": [],
   "source": [
    "pwd"
   ]
  },
  {
   "cell_type": "code",
   "execution_count": null,
   "id": "17f0a450",
   "metadata": {},
   "outputs": [],
   "source": [
    "with open('/disk/mnemo/users/randomuser/SBERT All Embedding/Translated Tweet/translated_tweet_10000.json') as file:\n",
    "    data = json.load(file)\n",
    "    \n",
    "with open('/disk/mnemo/users/randomuser/SBERT All Embedding/Translated Tweet/translated_tweet_ID10000.json') as file2:\n",
    "    data_id = json.load(file2)"
   ]
  },
  {
   "cell_type": "code",
   "execution_count": null,
   "id": "44ff36c6",
   "metadata": {},
   "outputs": [],
   "source": [
    "df_new = pd.DataFrame(data, data_id, columns=['Tweet_Text']).reset_index().rename(columns = {'index' : 'Cluster_ID'})"
   ]
  },
  {
   "cell_type": "code",
   "execution_count": null,
   "id": "8869c7c6",
   "metadata": {},
   "outputs": [],
   "source": [
    "with open('/disk/mnemo/users/randomuser/SBERT All Embedding/Translated Tweet/translated_tweet_final.json') as file:\n",
    "    data = json.load(file)\n",
    "    \n",
    "with open('/disk/mnemo/users/randomuser/SBERT All Embedding/Translated Tweet/translated_tweet_IDfinal.json') as file2:\n",
    "    data_id = json.load(file2)"
   ]
  },
  {
   "cell_type": "code",
   "execution_count": null,
   "id": "95fe405f",
   "metadata": {},
   "outputs": [],
   "source": [
    "df_new2 = pd.DataFrame(data, data_id, columns=['Tweet_Text']).reset_index().rename(columns = {'index' : 'Cluster_ID'})"
   ]
  },
  {
   "cell_type": "code",
   "execution_count": null,
   "id": "1966c17a",
   "metadata": {},
   "outputs": [],
   "source": [
    "df_new2"
   ]
  },
  {
   "cell_type": "code",
   "execution_count": null,
   "id": "5ac5a9d6",
   "metadata": {},
   "outputs": [],
   "source": [
    "df_cluster_id = pd.read_csv('Final_Cluster_300k.csv')\n",
    "df_cluster = pd.read_csv('Cluster_Tweet_Final.csv')\n",
    "df_cluster = df_cluster.dropna(subset=['Cluster_ID'])\n",
    "df_cluster = df_cluster.dropna(subset = 'User_ID')\n",
    "df_cluster.User_ID = df_cluster.User_ID.astype(int)\n",
    "df_cluster = df_cluster.dropna(subset=['Cluster_ID'])"
   ]
  },
  {
   "cell_type": "code",
   "execution_count": null,
   "id": "b783a7b0",
   "metadata": {},
   "outputs": [],
   "source": [
    "df_new3 = df_cluster.loc[df_cluster.Tweet_Lang == 'en'].drop_duplicates('Cluster_ID')[['Cluster_ID', 'Tweet_Text']]"
   ]
  },
  {
   "cell_type": "code",
   "execution_count": null,
   "id": "1e91eefd",
   "metadata": {},
   "outputs": [],
   "source": [
    "frame = [df_new2, df_new3 ]\n",
    "df_new_trns_all = pd.concat(frame)"
   ]
  },
  {
   "cell_type": "code",
   "execution_count": null,
   "id": "eec28da4",
   "metadata": {},
   "outputs": [],
   "source": [
    "docs2 = df_new_trns_all.Tweet_Text.tolist()"
   ]
  },
  {
   "cell_type": "code",
   "execution_count": null,
   "id": "f2c52bf2",
   "metadata": {},
   "outputs": [],
   "source": [
    "df_new_trns_all.to_csv('Translated_Tweet_Topic.csv')"
   ]
  },
  {
   "cell_type": "code",
   "execution_count": null,
   "id": "d6cb6695",
   "metadata": {},
   "outputs": [],
   "source": [
    "from bertopic import BERTopic\n",
    " \n",
    "\n",
    "from bertopic.representation import KeyBERTInspired\n",
    "\n",
    "representation_model = KeyBERTInspired()\n",
    "topic_model = BERTopic(representation_model=representation_model)"
   ]
  },
  {
   "cell_type": "code",
   "execution_count": null,
   "id": "96e11d25",
   "metadata": {},
   "outputs": [],
   "source": [
    "topics, probs = topic_model.fit_transform(docs2)"
   ]
  },
  {
   "cell_type": "code",
   "execution_count": null,
   "id": "0e56160e",
   "metadata": {},
   "outputs": [],
   "source": [
    "topic_model.get_topic_info()[21:41]"
   ]
  },
  {
   "cell_type": "code",
   "execution_count": null,
   "id": "e577f5e6",
   "metadata": {},
   "outputs": [],
   "source": [
    "topic_model.save(\"Topic_Model_Saved\")"
   ]
  },
  {
   "cell_type": "code",
   "execution_count": null,
   "id": "a4901821",
   "metadata": {},
   "outputs": [],
   "source": [
    "topic_model.visualize_topics()"
   ]
  },
  {
   "cell_type": "code",
   "execution_count": null,
   "id": "61129c29",
   "metadata": {},
   "outputs": [],
   "source": [
    "topic_model.visualize_barchart()"
   ]
  },
  {
   "cell_type": "code",
   "execution_count": null,
   "id": "01728381",
   "metadata": {},
   "outputs": [],
   "source": [
    "topic_model.topics_"
   ]
  },
  {
   "cell_type": "code",
   "execution_count": null,
   "id": "775e8e0c",
   "metadata": {},
   "outputs": [],
   "source": [
    "from bertopic.representation import KeyBERTInspired\n",
    "from bertopic.representation import PartOfSpeech\n",
    "from bertopic.representation import MaximalMarginalRelevance\n",
    "main_representation = KeyBERTInspired()\n",
    "\n",
    "aspect_model1 = PartOfSpeech(\"en_core_web_sm\")\n",
    "aspect_model2 = [KeyBERTInspired(top_n_words=30), MaximalMarginalRelevance(diversity=.5)]\n",
    "\n",
    "representation_model = {\n",
    "   \"Main\": main_representation,\n",
    "   \"Aspect1\":  aspect_model1,\n",
    "   \"Aspect2\":  aspect_model2 \n",
    "}\n",
    "topic_model = BERTopic(representation_model=representation_model).fit(docs2)"
   ]
  },
  {
   "cell_type": "code",
   "execution_count": null,
   "id": "7150b0d4",
   "metadata": {},
   "outputs": [],
   "source": []
  },
  {
   "cell_type": "code",
   "execution_count": null,
   "id": "5fddc68a",
   "metadata": {},
   "outputs": [],
   "source": []
  },
  {
   "cell_type": "code",
   "execution_count": null,
   "id": "4fb69463",
   "metadata": {},
   "outputs": [],
   "source": [
    "from hdbscan import HDBSCAN\n",
    "hdbscan_model = HDBSCAN(min_cluster_size=5, metric='euclidean', \n",
    "                        cluster_selection_method='eom', prediction_data=True, min_samples=5)\n",
    "\n",
    "\n",
    "representation_model = KeyBERTInspired()\n",
    "topic_model2 = BERTopic(representation_model=representation_model, hdbscan_model=hdbscan_model)\n",
    "\n",
    "\n",
    "topics, probs = topic_model2.fit_transform(docs2)"
   ]
  },
  {
   "cell_type": "code",
   "execution_count": null,
   "id": "ab397943",
   "metadata": {},
   "outputs": [],
   "source": [
    "topic_model2.get_topic_info()"
   ]
  },
  {
   "cell_type": "code",
   "execution_count": null,
   "id": "245e5dd7",
   "metadata": {},
   "outputs": [],
   "source": [
    "from bertopic import BERTopic\n",
    "\n",
    "\n",
    "\n",
    "new_topics = topic_model2.reduce_outliers(docs2, topics)"
   ]
  },
  {
   "cell_type": "code",
   "execution_count": null,
   "id": "1366d7e3",
   "metadata": {},
   "outputs": [],
   "source": [
    "len(new_topics)"
   ]
  },
  {
   "cell_type": "code",
   "execution_count": null,
   "id": "ed0e3639",
   "metadata": {},
   "outputs": [],
   "source": [
    "topic_model2.get_topic_info()[0:20]"
   ]
  },
  {
   "cell_type": "code",
   "execution_count": null,
   "id": "5ad7bf0d",
   "metadata": {},
   "outputs": [],
   "source": [
    "topics"
   ]
  },
  {
   "cell_type": "code",
   "execution_count": null,
   "id": "819e0553",
   "metadata": {},
   "outputs": [],
   "source": [
    "new_topics"
   ]
  },
  {
   "cell_type": "code",
   "execution_count": null,
   "id": "d20f4e4b",
   "metadata": {},
   "outputs": [],
   "source": []
  }
 ],
 "metadata": {
  "kernelspec": {
   "display_name": "Python 3 (ipykernel)",
   "language": "python",
   "name": "python3"
  },
  "language_info": {
   "codemirror_mode": {
    "name": "ipython",
    "version": 3
   },
   "file_extension": ".py",
   "mimetype": "text/x-python",
   "name": "python",
   "nbconvert_exporter": "python",
   "pygments_lexer": "ipython3",
   "version": "3.9.13"
  }
 },
 "nbformat": 4,
 "nbformat_minor": 5
}
