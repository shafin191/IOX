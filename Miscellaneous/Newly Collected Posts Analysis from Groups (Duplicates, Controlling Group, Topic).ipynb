{
 "cells": [
  {
   "cell_type": "code",
   "execution_count": null,
   "id": "49f4fc8b",
   "metadata": {},
   "outputs": [],
   "source": [
    "\n",
    "import datetime\n",
    "import pandas as pd\n",
    "import matplotlib as plt\n",
    "import numpy as np\n",
    "import os\n",
    "from bertopic.representation import KeyBERTInspired\n",
    "from bertopic import BERTopic\n",
    "from hdbscan import HDBSCAN\n",
    "pd.set_option('display.max_colwidth', None)\n",
    "pd.set_option('display.max_columns', 10)\n",
    "pd.set_option('display.max_rows', 50)\n",
    "print(os.getcwd())"
   ]
  },
  {
   "cell_type": "code",
   "execution_count": null,
   "id": "5f5d80b9",
   "metadata": {},
   "outputs": [],
   "source": [
    "import pickle"
   ]
  },
  {
   "cell_type": "code",
   "execution_count": null,
   "id": "36223c4e",
   "metadata": {},
   "outputs": [],
   "source": [
    "objects = []\n",
    "with (open(\"Tweet_16404141.pkl\", \"rb\")) as openfile:\n",
    "    while True:\n",
    "        try:\n",
    "            objects.append(pickle.load(openfile))\n",
    "        except EOFError:\n",
    "            break"
   ]
  },
  {
   "cell_type": "code",
   "execution_count": null,
   "id": "b8d8f97c",
   "metadata": {},
   "outputs": [],
   "source": [
    "import os\n",
    "import pandas as pd\n",
    "\n",
    "def collect_csv_files(directory):\n",
    "    csv_files = []\n",
    "    for root, dirs, files in os.walk(directory):\n",
    "        for file in files:\n",
    "            if file.endswith(\".csv\"):\n",
    "                csv_files.append(os.path.join(root, file))\n",
    "    return csv_files\n",
    "\n",
    "def combine_csv_files(csv_files):\n",
    "    combined_df = pd.DataFrame()\n",
    "    for file in csv_files:\n",
    "        try:\n",
    "            df = pd.read_csv(file)\n",
    "            combined_df = pd.concat([combined_df, df], ignore_index=True)\n",
    "        except pd.errors.EmptyDataError:\n",
    "            continue\n",
    "        except Exception as e:\n",
    "            continue\n",
    "    return combined_df\n",
    "\n",
    "directory = '/disk/mnemo/users/randomuser/SBERT All Embedding/Group Tweets/'\n",
    "csv_files = collect_csv_files(directory)\n",
    "combined_df = combine_csv_files(csv_files)\n",
    "\n"
   ]
  },
  {
   "cell_type": "code",
   "execution_count": null,
   "id": "40ea01f4",
   "metadata": {},
   "outputs": [],
   "source": [
    "combined_df.to_csv('All_Recent_Posts.csv', index = False)"
   ]
  },
  {
   "cell_type": "code",
   "execution_count": null,
   "id": "03037616",
   "metadata": {},
   "outputs": [],
   "source": [
    "len(combined_df)"
   ]
  },
  {
   "cell_type": "code",
   "execution_count": null,
   "id": "a3c3484d",
   "metadata": {},
   "outputs": [],
   "source": [
    "combined_df_unique = combined_df.drop_duplicates('Tweet_ID').reset_index(drop = True)"
   ]
  },
  {
   "cell_type": "code",
   "execution_count": null,
   "id": "82d94e69",
   "metadata": {},
   "outputs": [],
   "source": [
    "combined_df_unique"
   ]
  },
  {
   "cell_type": "code",
   "execution_count": null,
   "id": "7e79d7c2",
   "metadata": {},
   "outputs": [],
   "source": [
    "combined_df_unique.columns"
   ]
  },
  {
   "cell_type": "code",
   "execution_count": null,
   "id": "43eebf8c",
   "metadata": {},
   "outputs": [],
   "source": [
    "combined_df_unique.text[12344][0:2] == 'RT'"
   ]
  },
  {
   "cell_type": "code",
   "execution_count": null,
   "id": "d639193c",
   "metadata": {},
   "outputs": [],
   "source": [
    "import pandas as pd\n",
    "\n",
    "\n",
    "filtered_df = combined_df_unique[combined_df_unique['text'].str.startswith('RT')]\n"
   ]
  },
  {
   "cell_type": "code",
   "execution_count": null,
   "id": "e1cdcbac",
   "metadata": {},
   "outputs": [],
   "source": [
    "combined_df_unique_tweet = combined_df_unique[~combined_df_unique.Tweet_ID.isin(filtered_df.Tweet_ID.tolist())]"
   ]
  },
  {
   "cell_type": "code",
   "execution_count": null,
   "id": "d97357be",
   "metadata": {},
   "outputs": [],
   "source": [
    "len(combined_df_unique_tweet)"
   ]
  },
  {
   "cell_type": "code",
   "execution_count": null,
   "id": "7c7ed4cf",
   "metadata": {},
   "outputs": [],
   "source": [
    "combined_df_unique.groupby('User_ID').count().loc[combined_df_unique.groupby('User_ID').count().Tweet_ID > 20]"
   ]
  },
  {
   "cell_type": "code",
   "execution_count": null,
   "id": "8045d6df",
   "metadata": {},
   "outputs": [],
   "source": [
    "combined_df_unique"
   ]
  },
  {
   "cell_type": "code",
   "execution_count": null,
   "id": "49dcf92c",
   "metadata": {},
   "outputs": [],
   "source": [
    "combined_df_unique['Date'] = pd.to_datetime(combined_df_unique['created_at'], errors='coerce')\n",
    "combined_df_unique['Only_Date'] = combined_df_unique['Date'].dt.date"
   ]
  },
  {
   "cell_type": "code",
   "execution_count": null,
   "id": "f77cd6b0",
   "metadata": {},
   "outputs": [],
   "source": [
    "combined_df_unique['Only_Date'] = combined_df_unique['Date'].dt.date"
   ]
  },
  {
   "cell_type": "code",
   "execution_count": null,
   "id": "62944208",
   "metadata": {},
   "outputs": [],
   "source": [
    "combined_df_unique.loc[combined_df_unique.Only_Date >= datetime.date(2024, 4, 19)].groupby('User_ID').count()"
   ]
  },
  {
   "cell_type": "code",
   "execution_count": null,
   "id": "e316d20e",
   "metadata": {},
   "outputs": [],
   "source": [
    "combined_df_unique"
   ]
  },
  {
   "cell_type": "code",
   "execution_count": null,
   "id": "bb2a2d5c",
   "metadata": {},
   "outputs": [],
   "source": [
    "combined_df_unique"
   ]
  },
  {
   "cell_type": "code",
   "execution_count": null,
   "id": "ecc0cd86",
   "metadata": {},
   "outputs": [],
   "source": [
    "combined_df_unique_tweet = combined_df_unique_tweet.reset_index(drop= True)"
   ]
  },
  {
   "cell_type": "code",
   "execution_count": null,
   "id": "af6fee1c",
   "metadata": {},
   "outputs": [],
   "source": [
    "df_recent_post_cluster = pd.read_csv('Recent_Post_Tweet_Cluster.csv')"
   ]
  },
  {
   "cell_type": "code",
   "execution_count": null,
   "id": "69e14e89",
   "metadata": {},
   "outputs": [],
   "source": [
    "df_recent_post_cluster = pd.merge(combined_df_unique_tweet, df_recent_post_cluster)"
   ]
  },
  {
   "cell_type": "code",
   "execution_count": null,
   "id": "a5079321",
   "metadata": {},
   "outputs": [],
   "source": [
    "df_recent_post_cluster"
   ]
  },
  {
   "cell_type": "code",
   "execution_count": null,
   "id": "e3e30b7b",
   "metadata": {},
   "outputs": [],
   "source": [
    "df_remove_spam = df_recent_post_cluster.drop_duplicates(['User_ID', 'Cluster_ID']).groupby('Cluster_ID').count().reset_index()"
   ]
  },
  {
   "cell_type": "code",
   "execution_count": null,
   "id": "4e2eb847",
   "metadata": {},
   "outputs": [],
   "source": [
    "df_remove_spam[df_remove_spam.Tweet_ID >= 2].Cluster_ID.tolist()"
   ]
  },
  {
   "cell_type": "code",
   "execution_count": null,
   "id": "55ccc7b4",
   "metadata": {},
   "outputs": [],
   "source": [
    "df_recent_post_cluster[df_recent_post_cluster.Cluster_ID.isin(df_remove_spam[df_remove_spam.Tweet_ID >= 2].Cluster_ID.tolist())].groupby(\"Cluster_ID\").count()"
   ]
  },
  {
   "cell_type": "code",
   "execution_count": null,
   "id": "5e7e24dc",
   "metadata": {},
   "outputs": [],
   "source": [
    "df_final_cluster_new = df_recent_post_cluster[df_recent_post_cluster.Cluster_ID.isin(df_remove_spam[df_remove_spam.Tweet_ID >= 2].Cluster_ID.tolist())].reset_index(drop = True)"
   ]
  },
  {
   "cell_type": "code",
   "execution_count": null,
   "id": "4f4354bc",
   "metadata": {},
   "outputs": [],
   "source": [
    "df_final_cluster_new['Cluster_ID'] = 'New_Wild_' + df_final_cluster_new['Cluster_ID'].astype('str')"
   ]
  },
  {
   "cell_type": "code",
   "execution_count": null,
   "id": "4eb10b3d",
   "metadata": {},
   "outputs": [],
   "source": [
    "df_final_cluster_new.to_csv('Recent_Post_Cluster_Final_Updated.csv', index = False)"
   ]
  },
  {
   "cell_type": "code",
   "execution_count": null,
   "id": "98678c7f",
   "metadata": {},
   "outputs": [],
   "source": [
    "df_final_cluster_new.groupby('Cluster_ID').count()"
   ]
  },
  {
   "cell_type": "code",
   "execution_count": null,
   "id": "e7926ff0",
   "metadata": {},
   "outputs": [],
   "source": [
    "df_group = pd.read_csv('Refined_Community_with_Political_Label.csv')"
   ]
  },
  {
   "cell_type": "code",
   "execution_count": null,
   "id": "dca21660",
   "metadata": {
    "scrolled": false
   },
   "outputs": [],
   "source": [
    "df_group"
   ]
  },
  {
   "cell_type": "code",
   "execution_count": null,
   "id": "6923f440",
   "metadata": {},
   "outputs": [],
   "source": [
    "df_final_cluster_new = pd.merge(df_final_cluster_new, df_group, on = 'User_ID')"
   ]
  },
  {
   "cell_type": "code",
   "execution_count": null,
   "id": "04dfb200",
   "metadata": {},
   "outputs": [],
   "source": [
    "df_final_cluster_new = df_final_cluster_new.drop(columns = 'index')"
   ]
  },
  {
   "cell_type": "code",
   "execution_count": null,
   "id": "1a8e1105",
   "metadata": {},
   "outputs": [],
   "source": [
    "df_final_cluster_new['Date'] =  pd.to_datetime(df_final_cluster_new['created_at'], errors='coerce')"
   ]
  },
  {
   "cell_type": "code",
   "execution_count": null,
   "id": "f22782e6",
   "metadata": {},
   "outputs": [],
   "source": [
    "df_final_cluster_new['Only_Date'] = df_final_cluster_new['Date'].dt.date"
   ]
  },
  {
   "cell_type": "code",
   "execution_count": null,
   "id": "73cbd1af",
   "metadata": {},
   "outputs": [],
   "source": [
    "df_final_cluster_new.columns"
   ]
  },
  {
   "cell_type": "code",
   "execution_count": null,
   "id": "679448ab",
   "metadata": {},
   "outputs": [],
   "source": [
    "df_final_cluster_new.sort_values(['Cluster_ID', 'Date'])"
   ]
  },
  {
   "cell_type": "code",
   "execution_count": null,
   "id": "e7c4cd7b",
   "metadata": {},
   "outputs": [],
   "source": [
    "df_final_cluster_new.columns"
   ]
  },
  {
   "cell_type": "code",
   "execution_count": null,
   "id": "b56240bd",
   "metadata": {},
   "outputs": [],
   "source": [
    "df_final_cluster_new"
   ]
  },
  {
   "cell_type": "code",
   "execution_count": null,
   "id": "4085f200",
   "metadata": {},
   "outputs": [],
   "source": [
    "df_final_cluster_new[df_final_cluster_new.Cluster_ID == 'New_Wild_124']"
   ]
  },
  {
   "cell_type": "code",
   "execution_count": null,
   "id": "0ff06b0a",
   "metadata": {},
   "outputs": [],
   "source": [
    "df_final_cluster_new = df_final_cluster_new[~df_final_cluster_new.Cluster_ID.isin(['New_Wild_123', 'New_Wild_0'])]"
   ]
  },
  {
   "cell_type": "code",
   "execution_count": null,
   "id": "5b266eac",
   "metadata": {},
   "outputs": [],
   "source": [
    "df_final_cluster_new.to_csv('Recent_Post_Cluster_Final2.csv', index = False)"
   ]
  },
  {
   "cell_type": "code",
   "execution_count": null,
   "id": "8b9713fd",
   "metadata": {
    "scrolled": false
   },
   "outputs": [],
   "source": [
    "df_final_cluster_new.groupby('Cluster_ID').count().sort_values('User_ID')"
   ]
  },
  {
   "cell_type": "code",
   "execution_count": null,
   "id": "bd83c2bc",
   "metadata": {
    "scrolled": true
   },
   "outputs": [],
   "source": [
    "df_final_cluster_new[df_final_cluster_new.Cluster_ID == 'New_Wild_3'].groupby('Community_ID').count()"
   ]
  },
  {
   "cell_type": "code",
   "execution_count": null,
   "id": "ee8789a0",
   "metadata": {},
   "outputs": [],
   "source": []
  },
  {
   "cell_type": "code",
   "execution_count": null,
   "id": "8f3d838a",
   "metadata": {},
   "outputs": [],
   "source": [
    "df_final_cluster_new2.columns"
   ]
  },
  {
   "cell_type": "code",
   "execution_count": null,
   "id": "bad495cd",
   "metadata": {},
   "outputs": [],
   "source": [
    "bjp_group = [0,8,1,6,15,13,5,14,4]\n",
    "inc_group = [17,18,19,42,29]\n",
    "top_group = bjp_group + inc_group"
   ]
  },
  {
   "cell_type": "code",
   "execution_count": null,
   "id": "218182d7",
   "metadata": {},
   "outputs": [],
   "source": [
    "df_final_cluster_new2 = df_final_cluster_new[df_final_cluster_new.Community_ID.isin(top_group)]"
   ]
  },
  {
   "cell_type": "code",
   "execution_count": null,
   "id": "0006ad43",
   "metadata": {},
   "outputs": [],
   "source": [
    "df_count_cluster = df_final_cluster_new2.groupby('Cluster_ID').count().reset_index()"
   ]
  },
  {
   "cell_type": "code",
   "execution_count": null,
   "id": "458a9f3c",
   "metadata": {},
   "outputs": [],
   "source": [
    "df_count_cluster = df_count_cluster[['Cluster_ID', 'Tweet_ID']].rename(columns = {'Tweet_ID': 'Total_Post'})"
   ]
  },
  {
   "cell_type": "code",
   "execution_count": null,
   "id": "88a48bcc",
   "metadata": {},
   "outputs": [],
   "source": [
    "df_count_cluster"
   ]
  },
  {
   "cell_type": "code",
   "execution_count": null,
   "id": "3a4b7804",
   "metadata": {},
   "outputs": [],
   "source": [
    "cluster_user_count = df_final_cluster_new2.groupby(['Cluster_ID', 'Community_ID'])['User_ID'].nunique().reset_index(name='Cluster_User_Count')"
   ]
  },
  {
   "cell_type": "code",
   "execution_count": null,
   "id": "7230b08e",
   "metadata": {},
   "outputs": [],
   "source": [
    "total_users_per_cluster = df_final_cluster_new2.groupby('Cluster_ID')['User_ID'].nunique().reset_index(name='Total_Users')"
   ]
  },
  {
   "cell_type": "code",
   "execution_count": null,
   "id": "6de21d59",
   "metadata": {},
   "outputs": [],
   "source": [
    "merged_cluster_data = pd.merge(cluster_user_count, total_users_per_cluster, on='Cluster_ID')"
   ]
  },
  {
   "cell_type": "code",
   "execution_count": null,
   "id": "cf5dd271",
   "metadata": {},
   "outputs": [],
   "source": [
    "merged_cluster_data['Percentage'] = (merged_cluster_data['Cluster_User_Count']/merged_cluster_data['Total_Users']) * 100"
   ]
  },
  {
   "cell_type": "code",
   "execution_count": null,
   "id": "29114ee8",
   "metadata": {},
   "outputs": [],
   "source": [
    "merge_controlled = merged_cluster_data.loc[merged_cluster_data.Percentage>50]"
   ]
  },
  {
   "cell_type": "code",
   "execution_count": null,
   "id": "f48358af",
   "metadata": {},
   "outputs": [],
   "source": [
    "merge_controlled[merge_controlled.Community_ID.isin(bjp_group)]"
   ]
  },
  {
   "cell_type": "code",
   "execution_count": null,
   "id": "ca6ffce9",
   "metadata": {},
   "outputs": [],
   "source": [
    "merge_controlled[merge_controlled.Community_ID.isin(inc_group)]"
   ]
  },
  {
   "cell_type": "code",
   "execution_count": null,
   "id": "37a0c0fc",
   "metadata": {},
   "outputs": [],
   "source": [
    "from bertopic.representation import KeyBERTInspired\n",
    "from bertopic import BERTopic\n",
    "from hdbscan import HDBSCAN"
   ]
  },
  {
   "cell_type": "code",
   "execution_count": null,
   "id": "27fb61ec",
   "metadata": {},
   "outputs": [],
   "source": [
    "merge_controlled.Cluster_ID"
   ]
  },
  {
   "cell_type": "code",
   "execution_count": null,
   "id": "9a0596ce",
   "metadata": {},
   "outputs": [],
   "source": [
    "df_cluster_controlled = df_final_cluster_new2[df_final_cluster_new2.Cluster_ID.isin(merge_controlled.Cluster_ID)]"
   ]
  },
  {
   "cell_type": "code",
   "execution_count": null,
   "id": "1c7b34f9",
   "metadata": {},
   "outputs": [],
   "source": [
    "df_cluster_controlled_topic = df_final_cluster_new2[df_final_cluster_new2.Cluster_ID.isin(merge_controlled.Cluster_ID)].drop_duplicates(\"Cluster_ID\")"
   ]
  },
  {
   "cell_type": "code",
   "execution_count": null,
   "id": "070d5f31",
   "metadata": {},
   "outputs": [],
   "source": [
    "df_cluster_controlled_topic.columns"
   ]
  },
  {
   "cell_type": "code",
   "execution_count": null,
   "id": "a2090bce",
   "metadata": {},
   "outputs": [],
   "source": [
    "import re\n",
    "def remove_twitter_mentions(text):\n",
    "    return re.sub(r'@\\w+', '', text)\n",
    "\n",
    "def remove_links(text):\n",
    "    return re.sub(r'http\\S+', '', text)\n",
    "\n",
    "\n",
    "df_cluster_controlled_topic['Refined_Text'] = df_cluster_controlled_topic['text'].apply(remove_twitter_mentions)\n",
    "df_cluster_controlled_topic['Refined_Text'] = df_cluster_controlled_topic['Refined_Text'].apply(remove_links)\n",
    "df_cluster_controlled_topic['Refined_Text'] = df_cluster_controlled_topic['Refined_Text'].str.replace('\\n', ' ')\n",
    "df_cluster_controlled_topic['Refined_Text'] = df_cluster_controlled_topic['Refined_Text'].str.strip()"
   ]
  },
  {
   "cell_type": "code",
   "execution_count": null,
   "id": "a141cb81",
   "metadata": {},
   "outputs": [],
   "source": [
    "doc_all = df_cluster_controlled_topic.Refined_Text.tolist()"
   ]
  },
  {
   "cell_type": "code",
   "execution_count": null,
   "id": "53e70ead",
   "metadata": {},
   "outputs": [],
   "source": [
    "from bertopic.representation import KeyBERTInspired\n",
    "from bertopic.representation import PartOfSpeech\n",
    "from bertopic.representation import MaximalMarginalRelevance\n",
    "from sklearn.datasets import fetch_20newsgroups\n",
    "from bertopic.representation import ZeroShotClassification\n",
    "\n",
    "\n",
    "main_representation = KeyBERTInspired()\n",
    "hdbscan_model = HDBSCAN(min_cluster_size=2, metric='euclidean', \n",
    "                        cluster_selection_method='eom', prediction_data=True, min_samples=2)\n",
    "\n",
    "\n",
    "aspect_model1 = PartOfSpeech(\"en_core_web_sm\")\n",
    "aspect_model2 = [KeyBERTInspired(top_n_words=30), MaximalMarginalRelevance(diversity=.5)]\n",
    "\n",
    "representation_model = {\n",
    "   \"Main\": main_representation,\n",
    "   \"Aspect1\":  aspect_model1,\n",
    "   \"Aspect2\":  aspect_model2 \n",
    "}\n"
   ]
  },
  {
   "cell_type": "code",
   "execution_count": null,
   "id": "26c38182",
   "metadata": {},
   "outputs": [],
   "source": []
  },
  {
   "cell_type": "code",
   "execution_count": null,
   "id": "6d743efb",
   "metadata": {},
   "outputs": [],
   "source": [
    "topic_model_all = BERTopic(representation_model=representation_model, language=\"multilingual\", hdbscan_model=hdbscan_model)\n",
    "topics_found, probs_found = topic_model_all.fit_transform(doc_all)"
   ]
  },
  {
   "cell_type": "code",
   "execution_count": null,
   "id": "4be2c936",
   "metadata": {},
   "outputs": [],
   "source": [
    "topic_model_all.save(\"/disk/mnemo/users/randomuser/SBERT All Embedding/Group_Topic/New_Tweet_All_Topic\", serialization=\"pickle\")"
   ]
  },
  {
   "cell_type": "code",
   "execution_count": null,
   "id": "d58a7986",
   "metadata": {},
   "outputs": [],
   "source": [
    "new_topics = topic_model_all.reduce_outliers(doc_all, topics_found)"
   ]
  },
  {
   "cell_type": "code",
   "execution_count": null,
   "id": "e827091b",
   "metadata": {},
   "outputs": [],
   "source": [
    "topic_model_all.get_topic_info()"
   ]
  },
  {
   "cell_type": "code",
   "execution_count": null,
   "id": "9f9c1b44",
   "metadata": {},
   "outputs": [],
   "source": [
    "new_topics"
   ]
  },
  {
   "cell_type": "code",
   "execution_count": null,
   "id": "4b43242e",
   "metadata": {},
   "outputs": [],
   "source": [
    "df_cluster_controlled_topic['Actual_Topic'] = topics_found\n",
    "df_cluster_controlled_topic['Reduced_Topic'] = new_topics"
   ]
  },
  {
   "cell_type": "code",
   "execution_count": null,
   "id": "12364163",
   "metadata": {},
   "outputs": [],
   "source": [
    "df_cluster_controlled_topic.groupby('Reduced_Topic').count()"
   ]
  },
  {
   "cell_type": "code",
   "execution_count": null,
   "id": "866a5eda",
   "metadata": {},
   "outputs": [],
   "source": [
    "df_cluster_controlled_topic= pd.read_csv('New_Post_with_Updated_Topics.csv')"
   ]
  },
  {
   "cell_type": "code",
   "execution_count": null,
   "id": "e67ad7c2",
   "metadata": {},
   "outputs": [],
   "source": [
    "bjp_group = [0,8,1,6,15,13,5,14,4]\n",
    "inc_group = [17,18,19,42,29]\n",
    "top_group = bjp_group + inc_group"
   ]
  },
  {
   "cell_type": "code",
   "execution_count": null,
   "id": "f9cc7322",
   "metadata": {},
   "outputs": [],
   "source": [
    "df_group = pd.read_csv('Refined_Community_with_Political_Label.csv')"
   ]
  },
  {
   "cell_type": "code",
   "execution_count": null,
   "id": "ae69ec58",
   "metadata": {},
   "outputs": [],
   "source": [
    "df_group_top = df_group[df_group.Community_ID.isin(top_group)]"
   ]
  },
  {
   "cell_type": "code",
   "execution_count": null,
   "id": "33bf9e0c",
   "metadata": {},
   "outputs": [],
   "source": [
    "df_cluster_controlled_topic = df_cluster_controlled_topic[df_cluster_controlled_topic.User_ID.isin(df_group_top.User_ID)]"
   ]
  },
  {
   "cell_type": "code",
   "execution_count": null,
   "id": "38e27911",
   "metadata": {},
   "outputs": [],
   "source": [
    "df_cluster_controlled_topic.columns"
   ]
  },
  {
   "cell_type": "code",
   "execution_count": null,
   "id": "e8d1fb4b",
   "metadata": {},
   "outputs": [],
   "source": []
  },
  {
   "cell_type": "code",
   "execution_count": null,
   "id": "60ff366b",
   "metadata": {
    "scrolled": true
   },
   "outputs": [],
   "source": [
    "df_topic_top = df_cluster_controlled_topic"
   ]
  },
  {
   "cell_type": "code",
   "execution_count": null,
   "id": "f6a6019b",
   "metadata": {},
   "outputs": [],
   "source": [
    "df_topic_top_count = df_topic_top.groupby(['Reduced_Topic', 'Community_ID']).count()\n",
    "df_topic_top_count2 = df_topic_top_count.reset_index()"
   ]
  },
  {
   "cell_type": "code",
   "execution_count": null,
   "id": "a901321a",
   "metadata": {},
   "outputs": [],
   "source": [
    "topic_group = {}\n",
    "for i in range(0, 333):\n",
    "    topic_group[i] = df_topic_top_count2.loc[df_topic_top_count2.Reduced_Topic == i].Community_ID.tolist()"
   ]
  },
  {
   "cell_type": "code",
   "execution_count": null,
   "id": "ecd70e9e",
   "metadata": {},
   "outputs": [],
   "source": [
    "bjp_control = 0\n",
    "inc_control = 0\n",
    "for i, j in topic_group.items():\n",
    "    len_item = len(j)\n",
    "    len_intersect_bjp = len(set(j).intersection(bjp_group))\n",
    "    len_intersect_bjp = len(set(j).intersection(inc_group))\n",
    "    if len_item == len_intersect_bjp:\n",
    "        bjp_control += 1\n",
    "    if len_item == len_intersect_inc:\n",
    "        inc_control += 1"
   ]
  },
  {
   "cell_type": "code",
   "execution_count": null,
   "id": "b6ba992d",
   "metadata": {},
   "outputs": [],
   "source": [
    "inc_control"
   ]
  },
  {
   "cell_type": "code",
   "execution_count": null,
   "id": "8f686b6d",
   "metadata": {
    "scrolled": true
   },
   "outputs": [],
   "source": [
    "topic_group"
   ]
  },
  {
   "cell_type": "code",
   "execution_count": null,
   "id": "dc0ef5a4",
   "metadata": {},
   "outputs": [],
   "source": [
    "dict_group = {}\n",
    "for key,values in topic_group.items():\n",
    "    for i in values:\n",
    "        if i not in dict_group.keys():\n",
    "            dict_group[i] = 1\n",
    "        else:\n",
    "            dict_group[i] = dict_group[i] + 1"
   ]
  },
  {
   "cell_type": "code",
   "execution_count": null,
   "id": "bcc9b8aa",
   "metadata": {},
   "outputs": [],
   "source": [
    "sum(dict_group.values())"
   ]
  },
  {
   "cell_type": "code",
   "execution_count": null,
   "id": "3d2ac4b7",
   "metadata": {},
   "outputs": [],
   "source": [
    "265+299"
   ]
  },
  {
   "cell_type": "code",
   "execution_count": null,
   "id": "9d7461b3",
   "metadata": {},
   "outputs": [],
   "source": [
    "print(bjp_control)"
   ]
  },
  {
   "cell_type": "code",
   "execution_count": null,
   "id": "3c6eb560",
   "metadata": {},
   "outputs": [],
   "source": [
    "print(inc_control)"
   ]
  },
  {
   "cell_type": "code",
   "execution_count": null,
   "id": "d8ec39d3",
   "metadata": {},
   "outputs": [],
   "source": [
    "len_intersect_inc"
   ]
  },
  {
   "cell_type": "code",
   "execution_count": null,
   "id": "64b3e781",
   "metadata": {},
   "outputs": [],
   "source": [
    "len_intersect_bjp"
   ]
  },
  {
   "cell_type": "code",
   "execution_count": null,
   "id": "65b48f18",
   "metadata": {},
   "outputs": [],
   "source": [
    "topic_group"
   ]
  },
  {
   "cell_type": "code",
   "execution_count": null,
   "id": "66907b64",
   "metadata": {},
   "outputs": [],
   "source": [
    "df_topic_top"
   ]
  },
  {
   "cell_type": "code",
   "execution_count": null,
   "id": "d723a1d5",
   "metadata": {},
   "outputs": [],
   "source": [
    "topic_model_all.get_topic_info().iloc[10:20]"
   ]
  },
  {
   "cell_type": "code",
   "execution_count": null,
   "id": "e6772f42",
   "metadata": {},
   "outputs": [],
   "source": [
    "df_topic_top[df_topic_top.Reduced_Topic == 15].Cluster_ID"
   ]
  },
  {
   "cell_type": "code",
   "execution_count": null,
   "id": "bfbdf933",
   "metadata": {},
   "outputs": [],
   "source": [
    "similar_topics, similarity = topic_model_all.find_topics(\"china\", top_n=5)"
   ]
  },
  {
   "cell_type": "code",
   "execution_count": null,
   "id": "ad6e32c7",
   "metadata": {},
   "outputs": [],
   "source": [
    "similar_topics"
   ]
  },
  {
   "cell_type": "code",
   "execution_count": null,
   "id": "192d5ac4",
   "metadata": {},
   "outputs": [],
   "source": []
  },
  {
   "cell_type": "code",
   "execution_count": null,
   "id": "88b734a2",
   "metadata": {
    "scrolled": true
   },
   "outputs": [],
   "source": [
    "df_topic_top[df_topic_top.Reduced_Topic == 189].Cluster_ID.tolist()"
   ]
  },
  {
   "cell_type": "code",
   "execution_count": null,
   "id": "2d1c23ff",
   "metadata": {},
   "outputs": [],
   "source": [
    "df_topic_top[df_topic_top.Reduced_Topic == 15].groupby('Influence_ID_Update').count()"
   ]
  },
  {
   "cell_type": "code",
   "execution_count": null,
   "id": "5487bb7b",
   "metadata": {},
   "outputs": [],
   "source": [
    "df_topic_top[df_topic_top.Reduced_Topic == 15]"
   ]
  },
  {
   "cell_type": "code",
   "execution_count": null,
   "id": "5274f3ba",
   "metadata": {},
   "outputs": [],
   "source": [
    "df_topic_top.columns"
   ]
  },
  {
   "cell_type": "code",
   "execution_count": null,
   "id": "0cb26cca",
   "metadata": {},
   "outputs": [],
   "source": [
    "New_Wild_213"
   ]
  },
  {
   "cell_type": "code",
   "execution_count": null,
   "id": "b91e1ff3",
   "metadata": {},
   "outputs": [],
   "source": []
  },
  {
   "cell_type": "code",
   "execution_count": null,
   "id": "4d972e26",
   "metadata": {},
   "outputs": [],
   "source": [
    "df_final_cluster_new2.loc[df_final_cluster_new2.Cluster_ID.isin(df_topic_top[df_topic_top.Reduced_Topic == 189].Cluster_ID.tolist())]"
   ]
  },
  {
   "cell_type": "code",
   "execution_count": null,
   "id": "fc780890",
   "metadata": {},
   "outputs": [],
   "source": [
    "df_final_cluster_new2.groupby('Cluster_ID').count()"
   ]
  },
  {
   "cell_type": "code",
   "execution_count": null,
   "id": "342e2d4e",
   "metadata": {},
   "outputs": [],
   "source": [
    "df_final_cluster_new.columns"
   ]
  },
  {
   "cell_type": "code",
   "execution_count": null,
   "id": "3aa0486c",
   "metadata": {},
   "outputs": [],
   "source": [
    "df_final_cluster_new['Total_Engagement'] = df_final_cluster_new.favorite_count + df_final_cluster_new.retweet_count"
   ]
  },
  {
   "cell_type": "code",
   "execution_count": null,
   "id": "6fe02030",
   "metadata": {},
   "outputs": [],
   "source": [
    "df_final_cluster_new[df_final_cluster_new.Cluster_ID.isin(df_topic_top[df_topic_top.Reduced_Topic == 15].Cluster_ID)].Total_Engagement.sum()"
   ]
  },
  {
   "cell_type": "code",
   "execution_count": null,
   "id": "545e786f",
   "metadata": {},
   "outputs": [],
   "source": []
  },
  {
   "cell_type": "code",
   "execution_count": null,
   "id": "1156c7d4",
   "metadata": {},
   "outputs": [],
   "source": [
    "from datetime import datetime\n",
    "def convert_to_date(datetime_str):\n",
    "    return datetime.strptime(datetime_str, '%a %b %d %H:%M:%S %z %Y').date()\n",
    "\n",
    "df_final_cluster_new['Date'] = df_final_cluster_new['created_at'].apply(convert_to_date)"
   ]
  },
  {
   "cell_type": "code",
   "execution_count": null,
   "id": "b11bef99",
   "metadata": {},
   "outputs": [],
   "source": [
    "df_final_cluster_new[df_final_cluster_new.Cluster_ID.isin(df_topic_top[df_topic_top.Reduced_Topic == 15].Cluster_ID)].groupby(['Party_Label','Date']).count()"
   ]
  },
  {
   "cell_type": "code",
   "execution_count": null,
   "id": "7e0e88b0",
   "metadata": {
    "scrolled": true
   },
   "outputs": [],
   "source": [
    "df_topic_top[df_topic_top.Reduced_Topic == 15].columns"
   ]
  },
  {
   "cell_type": "code",
   "execution_count": null,
   "id": "4919e612",
   "metadata": {},
   "outputs": [],
   "source": [
    "df_final_cluster_new[['Cluster_ID','text']].sample(20)"
   ]
  },
  {
   "cell_type": "code",
   "execution_count": null,
   "id": "bbc17988",
   "metadata": {},
   "outputs": [],
   "source": [
    "df_final_cluster_new[df_final_cluster_new.Cluster_ID.isin(df_topic_top[df_topic_top.Reduced_Topic == 15].Cluster_ID)][['Cluster_ID', 'text']].iloc[20:40]"
   ]
  },
  {
   "cell_type": "code",
   "execution_count": null,
   "id": "c2a2f0ba",
   "metadata": {},
   "outputs": [],
   "source": [
    "df_topic_top.Community_ID"
   ]
  },
  {
   "cell_type": "code",
   "execution_count": null,
   "id": "aa6fdc9a",
   "metadata": {},
   "outputs": [],
   "source": [
    "bjp_group = [0,8,1,6,15,13,5,14,4]\n",
    "inc_group = [17,18,19,42,29]\n",
    "top_group = bjp_group + inc_group"
   ]
  },
  {
   "cell_type": "code",
   "execution_count": null,
   "id": "a2cbd6ed",
   "metadata": {},
   "outputs": [],
   "source": [
    "df_topic_top['Influence_ID'] = '-1'"
   ]
  },
  {
   "cell_type": "code",
   "execution_count": null,
   "id": "1eb13635",
   "metadata": {},
   "outputs": [],
   "source": [
    "for i, j in topic_group.items():\n",
    "    for k in j:\n",
    "        if k in bjp_group:\n",
    "            df_topic_top.loc[((df_topic_top.Reduced_Topic == i) & (df_topic_top.Community_ID== k)), 'Influence_ID'] = 'BJP_Influence_' + str(i)\n",
    "        elif k in inc_group:\n",
    "            df_topic_top.loc[((df_topic_top.Reduced_Topic == i) & (df_topic_top.Community_ID== k)), 'Influence_ID'] = 'INC_Influence_' + str(i)"
   ]
  },
  {
   "cell_type": "code",
   "execution_count": null,
   "id": "e94a0ee1",
   "metadata": {},
   "outputs": [],
   "source": [
    "df_topic_top.groupby(['Influence_ID']).count()"
   ]
  },
  {
   "cell_type": "code",
   "execution_count": null,
   "id": "8e76d9a6",
   "metadata": {},
   "outputs": [],
   "source": [
    "df_topic_top['Influence_ID_Update'] = df_topic_top['Influence_ID'] + '_' + df_topic_top.Community_ID.astype('str')"
   ]
  },
  {
   "cell_type": "code",
   "execution_count": null,
   "id": "67e05156",
   "metadata": {},
   "outputs": [],
   "source": [
    "df_topic_top.groupby(['Influence_ID_Update']).count().reset_index()."
   ]
  },
  {
   "cell_type": "code",
   "execution_count": null,
   "id": "454d6276",
   "metadata": {},
   "outputs": [],
   "source": [
    "df_topic_top[df_topic_top.Community_ID.isin(bjp_group)].groupby('Influence_ID_Update').count()"
   ]
  },
  {
   "cell_type": "code",
   "execution_count": null,
   "id": "eb482770",
   "metadata": {},
   "outputs": [],
   "source": [
    "df_topic_top.columns"
   ]
  },
  {
   "cell_type": "code",
   "execution_count": null,
   "id": "bdc4dfc6",
   "metadata": {},
   "outputs": [],
   "source": [
    "topic_group"
   ]
  },
  {
   "cell_type": "code",
   "execution_count": null,
   "id": "7a71bec1",
   "metadata": {},
   "outputs": [],
   "source": [
    "df_topic_top[(df_topic_top.Reduced_Topic == 1) & (df_topic_top.Community_ID== 1)]"
   ]
  }
 ],
 "metadata": {
  "kernelspec": {
   "display_name": "Python 3 (ipykernel)",
   "language": "python",
   "name": "python3"
  },
  "language_info": {
   "codemirror_mode": {
    "name": "ipython",
    "version": 3
   },
   "file_extension": ".py",
   "mimetype": "text/x-python",
   "name": "python",
   "nbconvert_exporter": "python",
   "pygments_lexer": "ipython3",
   "version": "3.9.13"
  }
 },
 "nbformat": 4,
 "nbformat_minor": 5
}
