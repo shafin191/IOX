{
 "cells": [
  {
   "cell_type": "code",
   "execution_count": null,
   "id": "8d5ca9d6",
   "metadata": {},
   "outputs": [],
   "source": [
    "import pandas as pd\n",
    "from sentence_transformers import SentenceTransformer, util\n",
    "import pandas as pd\n",
    "import numpy as np\n",
    "import time\n",
    "from sklearn.metrics.pairwise import cosine_similarity\n",
    "import torch\n",
    "import re"
   ]
  },
  {
   "cell_type": "code",
   "execution_count": null,
   "id": "88646bcc",
   "metadata": {},
   "outputs": [],
   "source": [
    "df_tweet_lang2 = pd.read_csv(\"Latest_Tweet_Fake_Spreader_Tweets.csv\", lineterminator='\\n', usecols = ['Tweet_ID','User_ID', 'Tweet_Text','Tweet_Lang','Tweet_Time' ], dtype=str)"
   ]
  },
  {
   "cell_type": "code",
   "execution_count": null,
   "id": "7f20e59a",
   "metadata": {},
   "outputs": [],
   "source": [
    "df_tweet_lang2.Tweet_Time = pd.to_datetime(df_tweet_lang2.Tweet_Time, format='%Y-%m-%d %H:%M:%S.%f')\n",
    "df_tweet_lang2['Date']= df_tweet_lang2.Tweet_Time.dt.date\n",
    "df_tweet_lang2['Date']= pd.to_datetime(df_tweet_lang2.Date, format='%Y-%m-%d')"
   ]
  },
  {
   "cell_type": "code",
   "execution_count": null,
   "id": "17062af2",
   "metadata": {},
   "outputs": [],
   "source": [
    "df_tweet_lang2 = df_tweet_lang2.drop_duplicates(subset=['Tweet_ID'])\n",
    "df_tweet_lang2 = df_tweet_lang2.reset_index(drop = True)"
   ]
  },
  {
   "cell_type": "code",
   "execution_count": null,
   "id": "21d2a84a",
   "metadata": {},
   "outputs": [],
   "source": [
    "len(df_tweet_lang2)"
   ]
  },
  {
   "cell_type": "code",
   "execution_count": null,
   "id": "cc22a759",
   "metadata": {},
   "outputs": [],
   "source": [
    "df_tweet_lang2['Text_without_Link'] = df_tweet_lang2['Tweet_Text'].apply(lambda x: re.split('https:\\/\\/.*', str(x))[0])\n",
    "df_tweet_lang2['Text_without_Link']=df_tweet_lang2['Text_without_Link'].str.replace('(@\\w+.*?)',\"\")"
   ]
  },
  {
   "cell_type": "code",
   "execution_count": null,
   "id": "e0ff613e",
   "metadata": {},
   "outputs": [],
   "source": [
    "df_tweet_lang2['Text_without_Link'] = df_tweet_lang2['Text_without_Link'].replace('', np.nan)\n",
    "df_tweet_lang2 = df_tweet_lang2.dropna(subset=['Text_without_Link'])\n",
    "df_tweet_lang2 = df_tweet_lang2[(df_tweet_lang2.Tweet_Lang == 'en') | (df_tweet_lang2.Tweet_Lang == 'hi')]\n",
    "df_tweet_lang2 = df_tweet_lang2.dropna(subset=['Text_without_Link'])\n",
    "df_tweet_lang2['Text_Size'] = df_tweet_lang2.Text_without_Link.apply(lambda x: len(x))\n",
    "df_tweet_lang2 = df_tweet_lang2.reset_index(drop = True)"
   ]
  },
  {
   "cell_type": "code",
   "execution_count": null,
   "id": "444ebff0",
   "metadata": {},
   "outputs": [],
   "source": [
    "print(len(df_tweet_lang2))"
   ]
  },
  {
   "cell_type": "code",
   "execution_count": null,
   "id": "12d402cb",
   "metadata": {},
   "outputs": [],
   "source": [
    "df_tweet_lang2.to_csv('Tweet_Info_latest_Proprocessed.csv')"
   ]
  },
  {
   "cell_type": "code",
   "execution_count": null,
   "id": "cdf01010",
   "metadata": {},
   "outputs": [],
   "source": [
    "uid = df_tweet_lang2.groupby('User_ID').count().reset_index().User_ID.tolist()"
   ]
  },
  {
   "cell_type": "code",
   "execution_count": null,
   "id": "3c441a05",
   "metadata": {},
   "outputs": [],
   "source": [
    "model = SentenceTransformer(\"paraphrase-multilingual-MiniLM-L12-v2\")\n",
    "model.max_seq_length = 280\n",
    "model.do_lower_case =  'True'"
   ]
  },
  {
   "cell_type": "code",
   "execution_count": null,
   "id": "816fd5da",
   "metadata": {},
   "outputs": [],
   "source": [
    "for i in uid:\n",
    "    \n",
    "    df_portion = df_tweet_lang2.loc[df_tweet_lang2.User_ID == i].reset_index()\n",
    "    tid = df_portion.Tweet_ID.tolist()\n",
    "\n",
    "    try:\n",
    "        embeddings = model.encode(df_portion.Text_without_Link.tolist())\n",
    "        emb_df = pd.DataFrame(embeddings)\n",
    "        emb_df['Tweet_ID'] = tid\n",
    "        emb_df.to_csv('User_Embedding/' + str(i) + '.csv')\n",
    "        print(\"Processed User: \" + str(i))\n",
    "    except:\n",
    "        print(\"Error for user: \" + str(i))\n",
    "        continue\n",
    "        \n"
   ]
  },
  {
   "cell_type": "code",
   "execution_count": null,
   "id": "f6dc24ce",
   "metadata": {},
   "outputs": [],
   "source": []
  },
  {
   "cell_type": "code",
   "execution_count": null,
   "id": "29af44cc",
   "metadata": {},
   "outputs": [],
   "source": [
    "from os import listdir\n",
    "from os.path import isfile, join\n",
    "mypath_input = '/home/mnemo/users/randomuser/SBERT All Embedding/User_Embedding/'\n",
    "mypath_output = '/home/mnemo/users/randomuser/SBERT All Embedding/User_Spam/'\n",
    "onlyfiles = [f for f in listdir(mypath_input) if isfile(join(mypath_input, f))]"
   ]
  },
  {
   "cell_type": "code",
   "execution_count": null,
   "id": "67ab071e",
   "metadata": {},
   "outputs": [],
   "source": [
    "datafile = pd.read_csv(mypath_input + onlyfiles[0])\n",
    "datafile = datafile.drop(datafile.columns[0], axis=1)"
   ]
  },
  {
   "cell_type": "code",
   "execution_count": null,
   "id": "0a7938d6",
   "metadata": {},
   "outputs": [],
   "source": [
    "datafile = datafile.drop(datafile.columns[-1], axis=1)"
   ]
  },
  {
   "cell_type": "code",
   "execution_count": null,
   "id": "ff686b3e",
   "metadata": {},
   "outputs": [],
   "source": [
    "datafile"
   ]
  }
 ],
 "metadata": {
  "kernelspec": {
   "display_name": "Python 3 (ipykernel)",
   "language": "python",
   "name": "python3"
  },
  "language_info": {
   "codemirror_mode": {
    "name": "ipython",
    "version": 3
   },
   "file_extension": ".py",
   "mimetype": "text/x-python",
   "name": "python",
   "nbconvert_exporter": "python",
   "pygments_lexer": "ipython3",
   "version": "3.9.13"
  }
 },
 "nbformat": 4,
 "nbformat_minor": 5
}
