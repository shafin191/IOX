{
 "cells": [
  {
   "cell_type": "code",
   "execution_count": 350,
   "id": "b065d1f6",
   "metadata": {},
   "outputs": [],
   "source": [
    "import pandas as pd\n",
    "import re\n",
    "import tweepy\n",
    "import pickle\n",
    "import time\n",
    "import matplotlib\n",
    "import matplotlib.pyplot as plt\n",
    "import numpy as np\n",
    "%matplotlib inline\n",
    "import matplotlib as mpl\n",
    "import matplotlib.pyplot as plt; plt.rcdefaults()\n",
    "import numpy as np\n",
    "import matplotlib.font_manager as font_manager\n",
    "import os\n",
    "\n",
    "pd.set_option('display.max_colwidth', None)\n",
    "pd.set_option('display.max_columns', None)  "
   ]
  },
  {
   "cell_type": "code",
   "execution_count": 175,
   "id": "0329ac9e",
   "metadata": {
    "collapsed": true
   },
   "outputs": [],
   "source": [
    "df1 = pd.read_csv('U:\\Twitter Research\\Fake News Scraping\\Fake Accounts\\Fake_List_1_AccountTweet.csv').drop('Unnamed: 0', axis=1)\n",
    "df2 = pd.read_csv('U:\\Twitter Research\\Fake News Scraping\\Fake Accounts\\Fake_List_2_AccountTweet.csv').drop('Unnamed: 0', axis=1)\n",
    "df3 = pd.read_csv('U:\\Twitter Research\\Fake News Scraping\\Fake Accounts\\Fake_List_3_AccountTweet.csv').drop('Unnamed: 0', axis=1)\n",
    "df4 = pd.read_csv('U:\\Twitter Research\\Fake News Scraping\\Fake Accounts\\Fake_List_4_AccountTweet.csv').drop('Unnamed: 0', axis=1)\n",
    "df5 = pd.read_csv('U:\\Twitter Research\\Fake News Scraping\\Fake Accounts\\Fake_List_5_AccountTweet.csv').drop('Unnamed: 0', axis=1)\n",
    "df6 = pd.read_csv('U:\\Twitter Research\\Fake News Scraping\\Fake Accounts\\Fake_List_6_AccountTweet.csv').drop('Unnamed: 0', axis=1)\n",
    "df7 = pd.read_csv('U:\\Twitter Research\\Fake News Scraping\\Fake Accounts\\Fake_List_7_AccountTweet.csv').drop('Unnamed: 0', axis=1)\n",
    "df8 = pd.read_csv('U:\\Twitter Research\\Fake News Scraping\\Fake Accounts\\Fake_List_8_AccountTweet.csv').drop('Unnamed: 0', axis=1)\n",
    "df9 = pd.read_csv('U:\\Twitter Research\\Fake News Scraping\\Fake Accounts\\Fake_List_9_AccountTweet.csv').drop('Unnamed: 0', axis=1)\n",
    "df10 = pd.read_csv('U:\\Twitter Research\\Fake News Scraping\\Fake Accounts\\Fake_List_10_AccountTweet.csv').drop('Unnamed: 0', axis=1)\n",
    "df11 = pd.read_csv('U:\\Twitter Research\\Fake News Scraping\\Fake Accounts\\Fake_List_11_AccountTweet.csv').drop('Unnamed: 0', axis=1)\n",
    "df12 = pd.read_csv('U:\\Twitter Research\\Fake News Scraping\\Fake Accounts\\Fake_List_12_AccountTweet.csv').drop('Unnamed: 0', axis=1)\n",
    "df13 = pd.read_csv('U:\\Twitter Research\\Fake News Scraping\\Fake Accounts\\Fake_List_13_AccountTweet.csv').drop('Unnamed: 0', axis=1)\n",
    "df14 = pd.read_csv('U:\\Twitter Research\\Fake News Scraping\\Fake Accounts\\Fake_List_14_AccountTweet.csv').drop('Unnamed: 0', axis=1)\n",
    "df15 = pd.read_csv('U:\\Twitter Research\\Fake News Scraping\\Fake Accounts\\Fake_List_15_AccountTweet.csv').drop('Unnamed: 0', axis=1)\n",
    "df16 = pd.read_csv('U:\\Twitter Research\\Fake News Scraping\\Fake Accounts\\Fake_List_16_AccountTweet.csv').drop('Unnamed: 0', axis=1)\n",
    "df17 = pd.read_csv('U:\\Twitter Research\\Fake News Scraping\\Fake Accounts\\Fake_List_17_AccountTweet.csv').drop('Unnamed: 0', axis=1)"
   ]
  },
  {
   "cell_type": "code",
   "execution_count": 177,
   "id": "3871aad0",
   "metadata": {
    "collapsed": true
   },
   "outputs": [],
   "source": [
    "frames = [df1, df2, df3, df4, df5, df6, df7, df8, df9,df10, df12, df13,df14, df15, df16, df17]\n",
    "df_tweet = pd.concat(frames)"
   ]
  },
  {
   "cell_type": "code",
   "execution_count": null,
   "id": "4871a9c3",
   "metadata": {},
   "outputs": [],
   "source": [
    "df_tweet.to_csv('U:\\Twitter Research\\Fake News Scraping\\Fake Accounts\\Fake_Account_Tweet_All.csv')"
   ]
  },
  {
   "cell_type": "code",
   "execution_count": 2,
   "id": "b8949dd1",
   "metadata": {},
   "outputs": [],
   "source": [
    "df_tweet = pd.read_csv('U:\\Twitter Research\\Fake News Scraping\\Fake Accounts\\Fake_Account_Tweet_All.csv')"
   ]
  },
  {
   "cell_type": "code",
   "execution_count": 3,
   "id": "ecf1b4d7",
   "metadata": {},
   "outputs": [],
   "source": [
    "dft = df_tweet.groupby('User_ID').count().reset_index()"
   ]
  },
  {
   "cell_type": "code",
   "execution_count": 7,
   "id": "0588cba8",
   "metadata": {},
   "outputs": [],
   "source": [
    "dft.loc[dft.Tweet_ID > 3300]"
   ]
  },
  {
   "cell_type": "code",
   "execution_count": 15,
   "id": "100ba7ad",
   "metadata": {},
   "outputs": [],
   "source": [
    "df_tweet_unique = df_tweet.drop_duplicates('Tweet_ID').reset_index(drop = True)"
   ]
  },
  {
   "cell_type": "code",
   "execution_count": 16,
   "id": "f9bacb9d",
   "metadata": {},
   "outputs": [],
   "source": [
    "dft_unique = df_tweet.groupby('User_ID').count().reset_index()"
   ]
  },
  {
   "cell_type": "code",
   "execution_count": 165,
   "id": "98738d71",
   "metadata": {},
   "outputs": [],
   "source": [
    "dft_unique.loc[dft_unique.Tweet_ID ==10]"
   ]
  },
  {
   "cell_type": "code",
   "execution_count": 444,
   "id": "63892572",
   "metadata": {},
   "outputs": [],
   "source": [
    "df_us = df_tweet[['User_ID', 'User_ScreenName']]"
   ]
  },
  {
   "cell_type": "code",
   "execution_count": 456,
   "id": "46f83d1d",
   "metadata": {},
   "outputs": [],
   "source": [
    "df_us_unq=df_us.drop_duplicates('User_ScreenName', keep = 'first')"
   ]
  },
  {
   "cell_type": "code",
   "execution_count": 457,
   "id": "fbc30b6d",
   "metadata": {},
   "outputs": [],
   "source": [
    "df_us_unq"
   ]
  },
  {
   "cell_type": "code",
   "execution_count": 481,
   "id": "41fa4351",
   "metadata": {},
   "outputs": [],
   "source": [
    "df_us_unq.groupby('User_ID').count().reset_index().sort_values('User_ScreenName', ascending = False)[0:6]"
   ]
  },
  {
   "cell_type": "code",
   "execution_count": 474,
   "id": "daa22c00",
   "metadata": {},
   "outputs": [],
   "source": [
    "for j in df_us_unq.groupby('User_ID').count().reset_index().sort_values('User_ScreenName', ascending = False)[0:6]['User_ID']: print(j)\n"
   ]
  },
  {
   "cell_type": "code",
   "execution_count": 484,
   "id": "1f716c97",
   "metadata": {},
   "outputs": [],
   "source": [
    "print(df_us_unq.loc[df_us_unq.User_ID == 1293203328919195648])\n",
    "print(df_us_unq.loc[df_us_unq.User_ID == 1397812415585083392])\n",
    "print(df_us_unq.loc[df_us_unq.User_ID == 1281801079466815489])\n",
    "print(df_us_unq.loc[df_us_unq.User_ID == 1415323335618007044])\n",
    "print(df_us_unq.loc[df_us_unq.User_ID == 2838314287])\n",
    "print(df_us_unq.loc[df_us_unq.User_ID == 1214894638504349696])"
   ]
  },
  {
   "cell_type": "code",
   "execution_count": 638,
   "id": "c9dbaf62",
   "metadata": {},
   "outputs": [],
   "source": [
    "df_fake_basic = pd.read_csv('U:\\Twitter Research\\Fake News Scraping\\Basic_Twitter_Info\\Fake_Basic_Information.csv')"
   ]
  },
  {
   "cell_type": "code",
   "execution_count": 645,
   "id": "039695d0",
   "metadata": {},
   "outputs": [],
   "source": [
    "df_fake_basic = df_fake_basic.drop(columns = ['Unnamed: 0', 'Unnamed: 0.1'])"
   ]
  },
  {
   "cell_type": "code",
   "execution_count": 646,
   "id": "3048402f",
   "metadata": {},
   "outputs": [],
   "source": [
    "df_fake_basic =df_fake_basic[['User ID', 'UserCreated','AccountAgeinDays', 'TotalStatus', 'AveragePosts', 'UserFollowers', 'UserFriends',\n",
    "               'UserLastStatus', 'FollowerFriendsRatio']].rename(columns = {'User ID':'User_ID'})"
   ]
  },
  {
   "cell_type": "code",
   "execution_count": 647,
   "id": "49fd1cba",
   "metadata": {},
   "outputs": [],
   "source": [
    "df_fake_basic"
   ]
  },
  {
   "cell_type": "markdown",
   "id": "50ab8bc3",
   "metadata": {},
   "source": [
    "# Amplifier Detection"
   ]
  },
  {
   "cell_type": "code",
   "execution_count": 23,
   "id": "5a0e795c",
   "metadata": {},
   "outputs": [],
   "source": [
    "df_tweet_unique.groupby('Retweet').count()"
   ]
  },
  {
   "cell_type": "code",
   "execution_count": 56,
   "id": "83a77160",
   "metadata": {},
   "outputs": [],
   "source": [
    "dft_unique_post_count = dft_unique[['User_ID','Tweet_ID', 'Retweet_Text']].rename(columns={'Tweet_ID':'Total_Post', 'Retweet_Text':'Total_Retweet'})"
   ]
  },
  {
   "cell_type": "code",
   "execution_count": 58,
   "id": "ef53faf2",
   "metadata": {},
   "outputs": [],
   "source": [
    "dft_unique_post_count['Total_Tweet'] = dft_unique_post_count['Total_Post'] - dft_unique_post_count['Total_Retweet']"
   ]
  },
  {
   "cell_type": "code",
   "execution_count": 62,
   "id": "b731c052",
   "metadata": {},
   "outputs": [],
   "source": [
    "dft_unique_post_count['%_of_Retweet'] = (dft_unique_post_count['Total_Retweet']/dft_unique_post_count['Total_Post']) * 100\n",
    "dft_unique_post_count['%_of_Tweet'] = (dft_unique_post_count['Total_Tweet']/dft_unique_post_count['Total_Post']) * 100"
   ]
  },
  {
   "cell_type": "code",
   "execution_count": 64,
   "id": "851ecc50",
   "metadata": {},
   "outputs": [],
   "source": [
    "dft_unique_post_count=dft_unique_post_count.rename(columns=\n",
    "                                                   {'Total_Post':'Total_Post_Collected', 'Total_Retweet':'Total_Retweet_Collected',\n",
    "                                                    'Total_Tweet': 'Total_Tweet_Collected', '%_of_Retweet' : '%_of_Retweet_Collected',\n",
    "                                                    '%_of_Tweet':'%_of_Tweet_Collected'})"
   ]
  },
  {
   "cell_type": "code",
   "execution_count": 65,
   "id": "fb8ad63e",
   "metadata": {},
   "outputs": [],
   "source": [
    "dft_unique_post_count"
   ]
  },
  {
   "cell_type": "code",
   "execution_count": 67,
   "id": "88b8f818",
   "metadata": {},
   "outputs": [],
   "source": [
    "df_fake_basic = pd.read_csv('U:\\Twitter Research\\Fake News Scraping\\Basic_Twitter_Info\\Fake_Basic_Information.csv')"
   ]
  },
  {
   "cell_type": "code",
   "execution_count": 71,
   "id": "cc84e4a8",
   "metadata": {},
   "outputs": [],
   "source": [
    "df_fake_basic = df_fake_basic.drop(columns = ['Unnamed: 0', 'Unnamed: 0.1'])"
   ]
  },
  {
   "cell_type": "code",
   "execution_count": 74,
   "id": "669309cc",
   "metadata": {
    "collapsed": true
   },
   "outputs": [],
   "source": [
    "df_fake_basic.columns"
   ]
  },
  {
   "cell_type": "code",
   "execution_count": 84,
   "id": "553b4fd2",
   "metadata": {},
   "outputs": [],
   "source": [
    "df_fake_basic =df_fake_basic[['User ID', 'UserCreated','AccountAgeinDays', 'TotalStatus', 'AveragePosts', 'UserFollowers', 'UserFriends',\n",
    "               'UserLastStatus', 'FollowerFriendsRatio']].rename(columns = {'User ID':'User_ID'})"
   ]
  },
  {
   "cell_type": "code",
   "execution_count": 85,
   "id": "24a3ccd9",
   "metadata": {},
   "outputs": [],
   "source": [
    "pd.concat([df_fake_basic, dft_unique_post_count], axis=1, join= 'inner')"
   ]
  },
  {
   "cell_type": "code",
   "execution_count": 87,
   "id": "f0f0c77f",
   "metadata": {},
   "outputs": [],
   "source": [
    "df_fake_unique_count = pd.merge(df_fake_basic, dft_unique_post_count, on='User_ID')"
   ]
  },
  {
   "cell_type": "code",
   "execution_count": 637,
   "id": "c9477910",
   "metadata": {},
   "outputs": [],
   "source": [
    "df_fake_unique_count"
   ]
  },
  {
   "cell_type": "code",
   "execution_count": 141,
   "id": "f58acc8b",
   "metadata": {},
   "outputs": [],
   "source": [
    "df_fake_unique_count.loc[df_fake_unique_count.AccountAgeinDays < 365]"
   ]
  },
  {
   "cell_type": "code",
   "execution_count": 89,
   "id": "d81f5bed",
   "metadata": {},
   "outputs": [],
   "source": [
    "df_fake_unique_count['FollowerFriendsRatio']=df_fake_unique_count['UserFollowers']/df_fake_unique_count['UserFriends']"
   ]
  },
  {
   "cell_type": "code",
   "execution_count": 92,
   "id": "eaacfa0f",
   "metadata": {},
   "outputs": [],
   "source": [
    "df_fake_unique_count['UserLastStatus'] = pd.to_datetime(df_fake_unique_count['UserLastStatus'])\n",
    "df_fake_unique_count['UserCreated'] = pd.to_datetime(df_fake_unique_count['UserCreated'])"
   ]
  },
  {
   "cell_type": "code",
   "execution_count": 93,
   "id": "f8cbe64f",
   "metadata": {},
   "outputs": [],
   "source": [
    "df_fake_unique_count['User_Active_Days'] = df_fake_unique_count['UserLastStatus'] - df_fake_unique_count['UserCreated']"
   ]
  },
  {
   "cell_type": "code",
   "execution_count": 100,
   "id": "5c000287",
   "metadata": {},
   "outputs": [],
   "source": [
    "df_fake_unique_count['User_Active_Days'] =df_fake_unique_count['User_Active_Days'].dt.days"
   ]
  },
  {
   "cell_type": "code",
   "execution_count": 103,
   "id": "64973f6d",
   "metadata": {},
   "outputs": [],
   "source": [
    "df_fake_unique_count['User_Active_Days'] = df_fake_unique_count['User_Active_Days'] + 1"
   ]
  },
  {
   "cell_type": "code",
   "execution_count": 107,
   "id": "48cab29f",
   "metadata": {},
   "outputs": [],
   "source": [
    "df_fake_unique_count.columns"
   ]
  },
  {
   "cell_type": "code",
   "execution_count": 127,
   "id": "5479e3c3",
   "metadata": {},
   "outputs": [],
   "source": [
    "for index, row in df_fake_unique_count.iterrows():\n",
    "    if (df_fake_unique_count.at[index, 'User_Active_Days'] >= 0) and (df_fake_unique_count.at[index, 'User_Active_Days'] <= 365):\n",
    "        df_fake_unique_count.at[index, 'Account_Active_Time'] = '0 days <= Account Age <= 1 year'\n",
    "    elif (df_fake_unique_count.at[index, 'User_Active_Days'] >= 366) and (df_fake_unique_count.at[index, 'User_Active_Days'] <= 1825):\n",
    "        df_fake_unique_count.at[index, 'Account_Active_Time'] = '1 year < Account Age <= 5 years'\n",
    "    else:\n",
    "         df_fake_unique_count.at[index, 'Account_Active_Time'] = 'Account Age > 5 years'"
   ]
  },
  {
   "cell_type": "code",
   "execution_count": 128,
   "id": "09aff7b5",
   "metadata": {},
   "outputs": [],
   "source": [
    "plt.scatter(df_fake_unique_count.AveragePosts, df_fake_unique_count['%_of_Retweet_Collected'])\n",
    "plt.show()"
   ]
  },
  {
   "cell_type": "code",
   "execution_count": 277,
   "id": "5e90ba3f",
   "metadata": {},
   "outputs": [],
   "source": [
    "df_fake_unique_count"
   ]
  },
  {
   "cell_type": "code",
   "execution_count": 555,
   "id": "acff32f0",
   "metadata": {},
   "outputs": [],
   "source": [
    "groups = df_fake_unique_count.groupby('Account_Active_Time')\n",
    "fig, ax = plt.subplots(4, figsize=(10,30))\n",
    "c1 = ['g', 'b', 'r']\n",
    "i=0\n",
    "for name, group in groups:\n",
    "    ax[0].scatter(group.AveragePosts, \n",
    "                group['%_of_Retweet_Collected'],\n",
    "                label = name, \n",
    "                alpha=0.5,\n",
    "                facecolors=c1[i],\n",
    "                edgecolors =c1[i], )\n",
    "    ax[0].set_xlabel(\"Average Posts per Day\")\n",
    "    ax[0].set_ylabel(\"% of Retweet from collected posts\")\n",
    "    ax[0].legend()\n",
    "    ax[0].set_xlim([0, 800])\n",
    "    \n",
    "    if i == 0:\n",
    "        ax[1].scatter(group.AveragePosts, \n",
    "                group['%_of_Retweet_Collected'],\n",
    "                label = name, \n",
    "                alpha=0.5,\n",
    "                facecolors=c1[i],\n",
    "                edgecolors =c1[i], )\n",
    "        ax[1].set_xlabel(\"Average Posts per Day\")\n",
    "        ax[1].set_ylabel(\"% of Retweet from collected posts\")\n",
    "        ax[1].legend()\n",
    "        ax[1].set_xlim([0, 800])\n",
    "    \n",
    "     \n",
    "    if i == 1:\n",
    "        ax[2].scatter(group.AveragePosts, \n",
    "                group['%_of_Retweet_Collected'],\n",
    "                label = name, \n",
    "                alpha=0.5,\n",
    "                facecolors=c1[i],\n",
    "                edgecolors =c1[i], )\n",
    "        ax[2].set_xlabel(\"Average Posts per Day\")\n",
    "        ax[2].set_ylabel(\"% of Retweet from collected posts\")\n",
    "        ax[2].legend()\n",
    "        ax[2].set_xlim([0, 800])\n",
    "    \n",
    "     \n",
    "    if i == 2:\n",
    "        ax[3].scatter(group.AveragePosts, \n",
    "                group['%_of_Retweet_Collected'],\n",
    "                label = name, \n",
    "                alpha=0.5,\n",
    "                facecolors=c1[i],\n",
    "                edgecolors =c1[i], )\n",
    "        ax[3].set_xlabel(\"Average Posts per Day\")\n",
    "        ax[3].set_ylabel(\"% of Retweet from collected posts\")\n",
    "        ax[3].legend()\n",
    "        ax[3].set_xlim([0, 800])\n",
    "    i = i+1\n",
    "    "
   ]
  },
  {
   "cell_type": "markdown",
   "id": "c64fd18a",
   "metadata": {},
   "source": [
    "# Influencer Detection\n"
   ]
  },
  {
   "cell_type": "code",
   "execution_count": 517,
   "id": "f7b0213e",
   "metadata": {},
   "outputs": [],
   "source": [
    "df_fake_unique_count"
   ]
  },
  {
   "cell_type": "code",
   "execution_count": 518,
   "id": "278ed15d",
   "metadata": {},
   "outputs": [],
   "source": [
    "dft_only_tweet = (df_tweet_unique.loc[df_tweet_unique.Retweet == False])"
   ]
  },
  {
   "cell_type": "code",
   "execution_count": 519,
   "id": "a00e3c4e",
   "metadata": {},
   "outputs": [],
   "source": [
    "dft_only_tweet"
   ]
  },
  {
   "cell_type": "code",
   "execution_count": 152,
   "id": "9c833ac2",
   "metadata": {},
   "outputs": [],
   "source": [
    "dft_only_tweet_engagement=dft_only_tweet.groupby('User_ID').sum().reset_index()"
   ]
  },
  {
   "cell_type": "code",
   "execution_count": 520,
   "id": "0b85af4e",
   "metadata": {},
   "outputs": [],
   "source": [
    "dft_only_tweet_engagement"
   ]
  },
  {
   "cell_type": "code",
   "execution_count": 532,
   "id": "c8ba5a82",
   "metadata": {},
   "outputs": [],
   "source": [
    "dft_influencer_info = pd.merge(df_fake_unique_count, dft_only_tweet_engagement, on='User_ID')"
   ]
  },
  {
   "cell_type": "code",
   "execution_count": 533,
   "id": "23719ba0",
   "metadata": {},
   "outputs": [],
   "source": [
    "df_fake_unique_count"
   ]
  },
  {
   "cell_type": "code",
   "execution_count": 534,
   "id": "020c5217",
   "metadata": {},
   "outputs": [],
   "source": [
    "dft_influencer_info=dft_influencer_info.drop(columns = ['Unnamed: 0', 'Tweet_ID', 'Retweet'])"
   ]
  },
  {
   "cell_type": "code",
   "execution_count": 535,
   "id": "013b1143",
   "metadata": {},
   "outputs": [],
   "source": [
    "dft_influencer_info['Total_RT_LIKE'] = dft_influencer_info['Retweet_Count'] + dft_influencer_info['Favorite_Count']"
   ]
  },
  {
   "cell_type": "code",
   "execution_count": 536,
   "id": "c1b0e227",
   "metadata": {},
   "outputs": [],
   "source": [
    "dft_influencer_info['AVG_RT_LIKE'] = dft_influencer_info['Total_RT_LIKE']/ dft_influencer_info['Total_Tweet_Collected']"
   ]
  },
  {
   "cell_type": "code",
   "execution_count": 537,
   "id": "a4e05962",
   "metadata": {},
   "outputs": [],
   "source": [
    "dft_influencer_info"
   ]
  },
  {
   "cell_type": "code",
   "execution_count": 538,
   "id": "4df976b3",
   "metadata": {},
   "outputs": [],
   "source": [
    "plt.scatter( dft_influencer_info['%_of_Tweet_Collected'], dft_influencer_info.AVG_RT_LIKE)\n",
    "plt.show()"
   ]
  },
  {
   "cell_type": "code",
   "execution_count": 539,
   "id": "13a6381d",
   "metadata": {},
   "outputs": [],
   "source": [
    "df_sc_uid = df_tweet_unique[['User_ScreenName', 'User_ID']].drop_duplicates('User_ID',keep='first')"
   ]
  },
  {
   "cell_type": "code",
   "execution_count": 540,
   "id": "0460148e",
   "metadata": {},
   "outputs": [],
   "source": [
    "dft_influencer_info = pd.merge(dft_influencer_info, df_sc_uid, on='User_ID')"
   ]
  },
  {
   "cell_type": "code",
   "execution_count": 541,
   "id": "f1361d9b",
   "metadata": {},
   "outputs": [],
   "source": [
    "dft_influencer_info = dft_influencer_info.rename(columns = {'User_ScreenName': 'SC'})"
   ]
  },
  {
   "cell_type": "code",
   "execution_count": 542,
   "id": "4365addf",
   "metadata": {},
   "outputs": [],
   "source": [
    "df_acc_fake_number = pd.read_csv('Account_wise_number_of_fake_news.csv').drop(columns =['Unnamed: 0'])"
   ]
  },
  {
   "cell_type": "code",
   "execution_count": 543,
   "id": "29f9ef5a",
   "metadata": {},
   "outputs": [],
   "source": [
    "df_acc_fake_number "
   ]
  },
  {
   "cell_type": "code",
   "execution_count": 544,
   "id": "c5ce2dd7",
   "metadata": {},
   "outputs": [],
   "source": []
  },
  {
   "cell_type": "code",
   "execution_count": 545,
   "id": "20edb99a",
   "metadata": {},
   "outputs": [],
   "source": []
  },
  {
   "cell_type": "code",
   "execution_count": null,
   "id": "28bee3bb",
   "metadata": {
    "scrolled": true
   },
   "outputs": [],
   "source": []
  },
  {
   "cell_type": "code",
   "execution_count": 530,
   "id": "984c04bb",
   "metadata": {
    "collapsed": true
   },
   "outputs": [],
   "source": [
    "df_acc_fake_number.SC[~df_acc_fake_number.isin(dft_influencer_info.SC)].dropna()"
   ]
  },
  {
   "cell_type": "code",
   "execution_count": null,
   "id": "c138139d",
   "metadata": {},
   "outputs": [],
   "source": [
    "df1[~df1.index.isin(df2.index)]"
   ]
  },
  {
   "cell_type": "code",
   "execution_count": 554,
   "id": "d1997983",
   "metadata": {},
   "outputs": [],
   "source": [
    "df_acc_fake_number[~df_acc_fake_number.SC.isin(dft_influencer_info.SC)]"
   ]
  },
  {
   "cell_type": "code",
   "execution_count": 553,
   "id": "0c76689e",
   "metadata": {},
   "outputs": [],
   "source": [
    "dft_influencer_info[~dft_influencer_info.SC.isin(df_acc_fake_number.SC)]"
   ]
  },
  {
   "cell_type": "code",
   "execution_count": 531,
   "id": "db565dff",
   "metadata": {},
   "outputs": [],
   "source": []
  },
  {
   "cell_type": "code",
   "execution_count": null,
   "id": "6e775662",
   "metadata": {},
   "outputs": [],
   "source": []
  },
  {
   "cell_type": "code",
   "execution_count": 550,
   "id": "a90433a4",
   "metadata": {},
   "outputs": [],
   "source": [
    "dft_influencer_info"
   ]
  },
  {
   "cell_type": "code",
   "execution_count": 549,
   "id": "032422db",
   "metadata": {},
   "outputs": [],
   "source": [
    "dft_influencer_info['SC'] = '@' + dft_influencer_info['SC']"
   ]
  },
  {
   "cell_type": "code",
   "execution_count": 515,
   "id": "b5a3758d",
   "metadata": {},
   "outputs": [],
   "source": [
    "dft_influencer_info = pd.merge(dft_influencer_info, df_acc_fake_number, on='SC').sort_values(by = 'Fact_Check_Link')"
   ]
  },
  {
   "cell_type": "code",
   "execution_count": 516,
   "id": "4b4e7ea5",
   "metadata": {},
   "outputs": [],
   "source": [
    "dft_influencer_info"
   ]
  },
  {
   "cell_type": "code",
   "execution_count": 241,
   "id": "f318bc8f",
   "metadata": {},
   "outputs": [],
   "source": [
    "for index, row in dft_influencer_info.iterrows():\n",
    "    if (dft_influencer_info.at[index, 'Fact_Check_Link'] ==1):\n",
    "        dft_influencer_info.at[index, '#_of_fake_news'] = '#_of_fake_news = 1'\n",
    "    elif (dft_influencer_info.at[index, 'Fact_Check_Link'] >= 2) and (dft_influencer_info.at[index, 'Fact_Check_Link'] <= 5):\n",
    "        dft_influencer_info.at[index, '#_of_fake_news'] = '2 <= #_of_fake_news <= 5'\n",
    "    else:\n",
    "         dft_influencer_info.at[index, '#_of_fake_news'] = '#_of_fake_news > 5'"
   ]
  },
  {
   "cell_type": "code",
   "execution_count": 240,
   "id": "f8e8c880",
   "metadata": {},
   "outputs": [],
   "source": [
    "dft_influencer_info.columns"
   ]
  },
  {
   "cell_type": "code",
   "execution_count": 453,
   "id": "03c178c3",
   "metadata": {},
   "outputs": [],
   "source": [
    "dft_influencer_info"
   ]
  },
  {
   "cell_type": "code",
   "execution_count": 246,
   "id": "a96c4828",
   "metadata": {},
   "outputs": [],
   "source": [
    "groups = dft_influencer_info.groupby('#_of_fake_news')\n",
    "fig, ax = plt.subplots(4, figsize=(10,30))\n",
    "c1 = ['g', 'b', 'r']\n",
    "i=0\n",
    "for name, group in groups:\n",
    "    ax[0].scatter(group['%_of_Tweet_Collected'], \n",
    "                group.AVG_RT_LIKE,\n",
    "                label = name, \n",
    "                alpha=0.5,\n",
    "                facecolors=c1[i],\n",
    "                edgecolors =c1[i], )\n",
    "    ax[0].set_xlabel(\"% of Tweets from collected posts\")\n",
    "    ax[0].set_ylabel(\"Average engagement per Tweet\")\n",
    "    ax[0].legend()\n",
    "    ax[0].set_xlim([0, 100])\n",
    "    \n",
    "    if i == 0:\n",
    "        ax[1].scatter(group['%_of_Tweet_Collected'], \n",
    "                group.AVG_RT_LIKE,\n",
    "                label = name, \n",
    "                alpha=0.5,\n",
    "                facecolors=c1[i],\n",
    "                edgecolors =c1[i], )\n",
    "        ax[1].set_xlabel(\"% of Tweets from collected posts\")\n",
    "        ax[1].set_ylabel(\"Average engagement per Tweet\")\n",
    "        ax[1].legend()\n",
    "        ax[1].set_xlim([0, 100])\n",
    "    \n",
    "     \n",
    "    if i == 1:\n",
    "        ax[2].scatter(group['%_of_Tweet_Collected'], \n",
    "                group.AVG_RT_LIKE,\n",
    "                label = name, \n",
    "                alpha=0.5,\n",
    "                facecolors=c1[i],\n",
    "                edgecolors =c1[i], )\n",
    "        ax[2].set_xlabel(\"% of Tweets from collected posts\")\n",
    "        ax[2].set_ylabel(\"Average engagement per Tweet\")\n",
    "        ax[2].legend()\n",
    "        ax[2].set_xlim([0, 100])\n",
    "    \n",
    "     \n",
    "    if i == 2:\n",
    "        ax[3].scatter(group['%_of_Tweet_Collected'], \n",
    "                group.AVG_RT_LIKE,\n",
    "                label = name, \n",
    "                alpha=0.5,\n",
    "                facecolors=c1[i],\n",
    "                edgecolors =c1[i], )\n",
    "        ax[3].set_xlabel(\"% of Tweets from collected posts\")\n",
    "        ax[3].set_ylabel(\"Average engagement per Tweet\")\n",
    "        ax[3].legend()\n",
    "        ax[3].set_xlim([0, 100])\n",
    "    i = i+1\n",
    "    "
   ]
  },
  {
   "cell_type": "code",
   "execution_count": null,
   "id": "afd4e6a4",
   "metadata": {},
   "outputs": [],
   "source": [
    "groups = df_fake_unique_count.groupby('Account_Active_Time')\n",
    "fig, ax = plt.subplots(4, figsize=(10,30))\n",
    "c1 = ['g', 'b', 'r']\n",
    "i=0\n",
    "for name, group in groups:\n",
    "    ax[0].scatter(group.AveragePosts, \n",
    "                group['%_of_Retweet_Collected'],\n",
    "                label = name, \n",
    "                alpha=0.5,\n",
    "                facecolors=c1[i],\n",
    "                edgecolors =c1[i], )\n",
    "    ax[0].set_xlabel(\"Average Posts per Day\")\n",
    "    ax[0].set_ylabel(\"% of Retweet from collected posts\")\n",
    "    ax[0].legend()\n",
    "    ax[0].set_xlim([0, 800])\n",
    "    \n",
    "    if i == 0:\n",
    "        ax[1].scatter(group.AveragePosts, \n",
    "                group['%_of_Retweet_Collected'],\n",
    "                label = name, \n",
    "                alpha=0.5,\n",
    "                facecolors=c1[i],\n",
    "                edgecolors =c1[i], )\n",
    "        ax[1].set_xlabel(\"Average Posts per Day\")\n",
    "        ax[1].set_ylabel(\"% of Retweet from collected posts\")\n",
    "        ax[1].legend()\n",
    "        ax[1].set_xlim([0, 800])\n",
    "    \n",
    "     \n",
    "    if i == 1:\n",
    "        ax[2].scatter(group.AveragePosts, \n",
    "                group['%_of_Retweet_Collected'],\n",
    "                label = name, \n",
    "                alpha=0.5,\n",
    "                facecolors=c1[i],\n",
    "                edgecolors =c1[i], )\n",
    "        ax[2].set_xlabel(\"Average Posts per Day\")\n",
    "        ax[2].set_ylabel(\"% of Retweet from collected posts\")\n",
    "        ax[2].legend()\n",
    "        ax[2].set_xlim([0, 800])\n",
    "    \n",
    "     \n",
    "    if i == 2:\n",
    "        ax[3].scatter(group.AveragePosts, \n",
    "                group['%_of_Retweet_Collected'],\n",
    "                label = name, \n",
    "                alpha=0.5,\n",
    "                facecolors=c1[i],\n",
    "                edgecolors =c1[i], )\n",
    "        ax[3].set_xlabel(\"Average Posts per Day\")\n",
    "        ax[3].set_ylabel(\"% of Retweet from collected posts\")\n",
    "        ax[3].legend()\n",
    "        ax[3].set_xlim([0, 800])\n",
    "    i = i+1\n",
    "    "
   ]
  },
  {
   "cell_type": "code",
   "execution_count": 248,
   "id": "fdfadc89",
   "metadata": {},
   "outputs": [],
   "source": [
    "groups = df_fake_unique_count.groupby('Account_Active_Time')\n",
    "fig, ax = plt.subplots(4, figsize=(10,30))\n",
    "c1 = ['g', 'b', 'r']\n",
    "i=0\n",
    "for name, group in groups:\n",
    "    ax[0].scatter(group.AveragePosts, \n",
    "                group['%_of_Retweet_Collected'],\n",
    "                label = name, \n",
    "                alpha=0.5,\n",
    "                facecolors=c1[i],\n",
    "                edgecolors =c1[i], )\n",
    "    ax[0].set_xlabel(\"Average Posts per Day\")\n",
    "    ax[0].set_ylabel(\"% of Retweet from collected posts\")\n",
    "    ax[0].legend()\n",
    "    ax[0].set_xlim([0, 800])\n",
    "    \n",
    "    if i == 0:\n",
    "        ax[1].scatter(group.AveragePosts, \n",
    "                group['%_of_Retweet_Collected'],\n",
    "                label = name, \n",
    "                alpha=0.5,\n",
    "                facecolors=c1[i],\n",
    "                edgecolors =c1[i], )\n",
    "        ax[1].set_xlabel(\"Average Posts per Day\")\n",
    "        ax[1].set_ylabel(\"% of Retweet from collected posts\")\n",
    "        ax[1].legend()\n",
    "        ax[1].set_xlim([0, 800])\n",
    "    \n",
    "     \n",
    "    if i == 1:\n",
    "        ax[2].scatter(group.AveragePosts, \n",
    "                group['%_of_Retweet_Collected'],\n",
    "                label = name, \n",
    "                alpha=0.5,\n",
    "                facecolors=c1[i],\n",
    "                edgecolors =c1[i], )\n",
    "        ax[2].set_xlabel(\"Average Posts per Day\")\n",
    "        ax[2].set_ylabel(\"% of Retweet from collected posts\")\n",
    "        ax[2].legend()\n",
    "        ax[2].set_xlim([0, 800])\n",
    "    \n",
    "     \n",
    "    if i == 2:\n",
    "        ax[3].scatter(group.AveragePosts, \n",
    "                group['%_of_Retweet_Collected'],\n",
    "                label = name, \n",
    "                alpha=0.5,\n",
    "                facecolors=c1[i],\n",
    "                edgecolors =c1[i], )\n",
    "        ax[3].set_xlabel(\"Average Posts per Day\")\n",
    "        ax[3].set_ylabel(\"% of Retweet from collected posts\")\n",
    "        ax[3].legend()\n",
    "        ax[3].set_xlim([0, 800])\n",
    "    i = i+1\n",
    "    "
   ]
  },
  {
   "cell_type": "code",
   "execution_count": 278,
   "id": "f8e437aa",
   "metadata": {},
   "outputs": [],
   "source": [
    "dft_influencer_info"
   ]
  },
  {
   "cell_type": "code",
   "execution_count": 279,
   "id": "aa2ce8a7",
   "metadata": {},
   "outputs": [],
   "source": [
    "dft_influencer_info"
   ]
  },
  {
   "cell_type": "markdown",
   "id": "8e2bf2ad",
   "metadata": {},
   "source": [
    "# Account Post"
   ]
  },
  {
   "cell_type": "code",
   "execution_count": 272,
   "id": "3d143608",
   "metadata": {},
   "outputs": [],
   "source": [
    "df_fake_unique_count.sort_values(by ='User_ID')"
   ]
  },
  {
   "cell_type": "code",
   "execution_count": 276,
   "id": "32cf8a93",
   "metadata": {},
   "outputs": [],
   "source": [
    "df_without_bot_and_verified = pd.read_csv('Without_Bot_and_Verified.csv')"
   ]
  },
  {
   "cell_type": "code",
   "execution_count": 284,
   "id": "958c3622",
   "metadata": {},
   "outputs": [],
   "source": [
    "data_without_bot_and_verified =pd.merge(df_fake_unique_count, df_without_bot_and_verified, on = 'User_ID')"
   ]
  },
  {
   "cell_type": "code",
   "execution_count": 634,
   "id": "024f656b",
   "metadata": {},
   "outputs": [],
   "source": [
    "data_without_bot_and_verified[['User_ID','TotalStatus', 'Total_Post_Collected']].loc[\n",
    "    (data_without_bot_and_verified.TotalStatus <= 1000)\n",
    "    &\n",
    "    (data_without_bot_and_verified.Total_Post_Collected >= 1000)]"
   ]
  },
  {
   "cell_type": "code",
   "execution_count": 636,
   "id": "3b50888f",
   "metadata": {},
   "outputs": [],
   "source": [
    "data_without_bot_and_verified[['User_ID','TotalStatus', 'Total_Post_Collected']].loc[\n",
    "    (data_without_bot_and_verified.TotalStatus >= 1000)\n",
    "    &\n",
    "    (data_without_bot_and_verified.Total_Post_Collected <= 800)]"
   ]
  },
  {
   "cell_type": "code",
   "execution_count": null,
   "id": "6debb8f3",
   "metadata": {},
   "outputs": [],
   "source": []
  },
  {
   "cell_type": "code",
   "execution_count": 289,
   "id": "cab395f4",
   "metadata": {},
   "outputs": [],
   "source": [
    "data_without_bot_and_verified.sort_values('Total_Post_Collected', ascending=False)"
   ]
  },
  {
   "cell_type": "code",
   "execution_count": 608,
   "id": "8c800aae",
   "metadata": {},
   "outputs": [],
   "source": [
    "for index, row in data_without_bot_and_verified.iterrows():\n",
    "    if data_without_bot_and_verified.at[index, 'Total_Post_Collected'] >= 0 and data_without_bot_and_verified.at[index, 'Total_Post_Collected'] <=100:\n",
    "        data_without_bot_and_verified.at[index, 'Post_Count'] = 'Collected Post between 1-100'\n",
    "    elif data_without_bot_and_verified.at[index, 'Total_Post_Collected'] >= 101 and data_without_bot_and_verified.at[index, 'Total_Post_Collected'] <=500:\n",
    "        data_without_bot_and_verified.at[index, 'Post_Count'] = 'Collected Post between 101-500'\n",
    "    elif data_without_bot_and_verified.at[index, 'Total_Post_Collected'] >= 501 and data_without_bot_and_verified.at[index, 'Total_Post_Collected'] <=1000:\n",
    "        data_without_bot_and_verified.at[index, 'Post_Count'] = 'Collected Post between 501-1000'\n",
    "    elif data_without_bot_and_verified.at[index, 'Total_Post_Collected'] >= 1001 and data_without_bot_and_verified.at[index, 'Total_Post_Collected'] <=3200:\n",
    "        data_without_bot_and_verified.at[index, 'Post_Count'] = 'Collected Post between 1001-3200'\n",
    "    elif data_without_bot_and_verified.at[index, 'Total_Post_Collected'] >= 3201 and data_without_bot_and_verified.at[index, 'Total_Post_Collected'] <=15000:\n",
    "        data_without_bot_and_verified.at[index, 'Post_Count'] = 'Collected Post over 3200'\n"
   ]
  },
  {
   "cell_type": "code",
   "execution_count": 610,
   "id": "c4764e44",
   "metadata": {},
   "outputs": [],
   "source": [
    "data_without_bot_and_verified.groupby('Post_Count').count().reset_index()"
   ]
  },
  {
   "cell_type": "code",
   "execution_count": 314,
   "id": "8f45df1c",
   "metadata": {},
   "outputs": [],
   "source": [
    "fig, ax = plt.subplots()\n",
    "\n",
    "data = data_without_bot_and_verified.Post_Count\n",
    "\n",
    "ax.hist(data, orientation='horizontal')\n",
    "plt.show()"
   ]
  },
  {
   "cell_type": "code",
   "execution_count": 318,
   "id": "ce9f9fc1",
   "metadata": {},
   "outputs": [],
   "source": [
    "data_without_bot_and_verified.Post_Count.value_counts().loc[['Collected Post between 1-100',\n",
    "                                                             'Collected Post between 101-500',\n",
    "                                                             'Collected Post between 501-1000',\n",
    "                                                             'Collected Post between 1001-3300',\n",
    "                                                             'Collected Post over 3300']].plot.barh()"
   ]
  },
  {
   "cell_type": "code",
   "execution_count": 605,
   "id": "0e91b310",
   "metadata": {},
   "outputs": [],
   "source": []
  },
  {
   "cell_type": "code",
   "execution_count": 606,
   "id": "0dfcc6b0",
   "metadata": {},
   "outputs": [],
   "source": [
    "matplotlib.rcParams.update({'font.size': 22})\n",
    "matplotlib.rc('font', family='Arial') \n",
    "csfont = {'fontname':'Comic Sans MS'}\n",
    "hfont = {'fontname':'Arial'}"
   ]
  },
  {
   "cell_type": "code",
   "execution_count": 607,
   "id": "6c7d92e8",
   "metadata": {},
   "outputs": [],
   "source": [
    "data_post_nonbot_non_verified = {'Between 1-100' : 206,\n",
    "                                'Between 101-500': 409,\n",
    "                                 'Between 501-1000': 359,\n",
    "                                 'Between 1001-3300': 3941,\n",
    "                                 'Over 3300': 353}\n",
    "\n",
    "key_1 = list(data_post_nonbot_non_verified.keys())\n",
    "val_1 = list(data_post_nonbot_non_verified.values())\n",
    "\n",
    "fig, ax = plt.subplots(1, figsize=(10,6)) \n",
    "ax.spines.right.set_visible(False)\n",
    "ax.spines.top.set_visible(False)\n",
    "bars = ax.barh(key_1, val_1, color ='#A890F0', )\n",
    "\n",
    "ax.bar_label(bars, padding= 10)\n",
    "ax.set_xlabel(\"Number of Accounts\", fontsize=24, **hfont)\n",
    "ax.set_ylabel(\"Collected Posts\", fontsize=24, **hfont)\n",
    "fig.savefig(\"Collected_Post_Distribution_nonbot_and_nonverified.png\", bbox_inches=\"tight\", dpi=600, facecolor='w')\n",
    "fig.show()"
   ]
  },
  {
   "cell_type": "code",
   "execution_count": 363,
   "id": "9f202e4b",
   "metadata": {},
   "outputs": [],
   "source": [
    "len(df_fake_unique_count)"
   ]
  },
  {
   "cell_type": "code",
   "execution_count": 366,
   "id": "faae17a4",
   "metadata": {},
   "outputs": [],
   "source": [
    "len(data_without_bot_and_verified)"
   ]
  },
  {
   "cell_type": "code",
   "execution_count": 368,
   "id": "f2ca3381",
   "metadata": {},
   "outputs": [],
   "source": [
    "df_non_bot_non_verified_fake = pd.merge(df_fake_unique_count,data_without_bot_and_verified, on = 'User_ID')"
   ]
  },
  {
   "cell_type": "code",
   "execution_count": 369,
   "id": "283e17d4",
   "metadata": {},
   "outputs": [],
   "source": [
    "df_non_bot_non_verified_fake"
   ]
  },
  {
   "cell_type": "code",
   "execution_count": null,
   "id": "d31a6af3",
   "metadata": {},
   "outputs": [],
   "source": []
  },
  {
   "cell_type": "code",
   "execution_count": null,
   "id": "0c20896b",
   "metadata": {},
   "outputs": [],
   "source": []
  },
  {
   "cell_type": "code",
   "execution_count": null,
   "id": "1e012100",
   "metadata": {},
   "outputs": [],
   "source": []
  },
  {
   "cell_type": "code",
   "execution_count": 380,
   "id": "16cb5ed0",
   "metadata": {},
   "outputs": [],
   "source": [
    "len(df_non_bot_non_verified_fake)"
   ]
  },
  {
   "cell_type": "code",
   "execution_count": 370,
   "id": "12af8a68",
   "metadata": {},
   "outputs": [],
   "source": [
    "df_non_bot_non_verified_fake.columns"
   ]
  },
  {
   "cell_type": "code",
   "execution_count": 397,
   "id": "8406c6e6",
   "metadata": {},
   "outputs": [],
   "source": [
    "df_non_bot_non_verified_fake.loc[\n",
    "    ( df_non_bot_non_verified_fake.AveragePosts >= 100)\n",
    "    &\n",
    "    (df_non_bot_non_verified_fake['%_of_Retweet_Collected_x'] >= 80)]"
   ]
  },
  {
   "cell_type": "code",
   "execution_count": 405,
   "id": "9752fa62",
   "metadata": {},
   "outputs": [],
   "source": [
    "groups = df_non_bot_non_verified_fake.groupby('Account_Active_Time_x')\n",
    "fig, ax = plt.subplots(4, figsize=(10,30))\n",
    "c1 = ['g', 'b', 'r']\n",
    "i=0\n",
    "for name, group in groups:\n",
    "    ax[0].scatter(group.AveragePosts, \n",
    "                group['%_of_Retweet_Collected_x'],\n",
    "                label = name, \n",
    "                alpha=0.5,\n",
    "                facecolors=c1[i],\n",
    "                edgecolors =c1[i], )\n",
    "    ax[0].set_xlabel(\"Average Posts per Day\")\n",
    "    ax[0].set_ylabel(\"% of Retweet from collected posts\")\n",
    "    ax[0].legend()\n",
    "    ax[0].set_xlim([0, 800])\n",
    "    \n",
    "    if i == 0:\n",
    "        ax[1].scatter(group.AveragePosts, \n",
    "                group['%_of_Retweet_Collected_x'],\n",
    "                label = name, \n",
    "                alpha=0.5,\n",
    "                facecolors=c1[i],\n",
    "                edgecolors =c1[i], )\n",
    "        ax[1].set_xlabel(\"Average Posts per Day\")\n",
    "        ax[1].set_ylabel(\"% of Retweet from collected posts\")\n",
    "        ax[1].legend()\n",
    "        ax[1].set_xlim([0, 800])\n",
    "    \n",
    "     \n",
    "    if i == 1:\n",
    "        ax[2].scatter(group.AveragePosts, \n",
    "                group['%_of_Retweet_Collected_x'],\n",
    "                label = name, \n",
    "                alpha=0.5,\n",
    "                facecolors=c1[i],\n",
    "                edgecolors =c1[i], )\n",
    "        ax[2].set_xlabel(\"Average Posts per Day\")\n",
    "        ax[2].set_ylabel(\"% of Retweet from collected posts\")\n",
    "        ax[2].legend()\n",
    "        ax[2].set_xlim([0, 800])\n",
    "    \n",
    "     \n",
    "    if i == 2:\n",
    "        ax[3].scatter(group.AveragePosts, \n",
    "                group['%_of_Retweet_Collected_x'],\n",
    "                label = name, \n",
    "                alpha=0.5,\n",
    "                facecolors=c1[i],\n",
    "                edgecolors =c1[i], )\n",
    "        ax[3].set_xlabel(\"Average Posts per Day\")\n",
    "        ax[3].set_ylabel(\"% of Retweet from collected posts\")\n",
    "        ax[3].legend()\n",
    "        ax[3].set_xlim([0, 800])\n",
    "    i = i+1\n",
    "fig.savefig(\"Amplifiers_without_bot_and_verified\", bbox_inches=\"tight\", dpi=600, facecolor='w')\n",
    "fig.show()\n",
    "    "
   ]
  },
  {
   "cell_type": "code",
   "execution_count": 406,
   "id": "43a6f6d9",
   "metadata": {},
   "outputs": [],
   "source": [
    "groups = df_non_bot_non_verified_fake.loc[\n",
    "    ( df_non_bot_non_verified_fake.AveragePosts >= 100)\n",
    "    &\n",
    "    (df_non_bot_non_verified_fake['%_of_Retweet_Collected_x'] >= 80)].groupby('Account_Active_Time_x')\n",
    "fig, ax = plt.subplots(4, figsize=(10,30))\n",
    "c1 = ['g', 'b', 'r']\n",
    "i=0\n",
    "for name, group in groups:\n",
    "    ax[0].scatter(group.AveragePosts, \n",
    "                group['%_of_Retweet_Collected_x'],\n",
    "                label = name, \n",
    "                alpha=0.5,\n",
    "                facecolors=c1[i],\n",
    "                edgecolors =c1[i], )\n",
    "    ax[0].set_xlabel(\"Average Posts per Day\")\n",
    "    ax[0].set_ylabel(\"% of Retweet from collected posts\")\n",
    "    ax[0].legend()\n",
    "    ax[0].set_xlim([90, 800])\n",
    "    ax[0].set_ylim([78, 102])\n",
    "    \n",
    "    if i == 0:\n",
    "        ax[1].scatter(group.AveragePosts, \n",
    "                group['%_of_Retweet_Collected_x'],\n",
    "                label = name, \n",
    "                alpha=0.5,\n",
    "                facecolors=c1[i],\n",
    "                edgecolors =c1[i], )\n",
    "        ax[1].set_xlabel(\"Average Posts per Day\")\n",
    "        ax[1].set_ylabel(\"% of Retweet from collected posts\")\n",
    "        ax[1].legend()\n",
    "        ax[1].set_xlim([90, 800])\n",
    "        ax[1].set_ylim([78, 102])\n",
    "    \n",
    "     \n",
    "    if i == 1:\n",
    "        ax[2].scatter(group.AveragePosts, \n",
    "                group['%_of_Retweet_Collected_x'],\n",
    "                label = name, \n",
    "                alpha=0.5,\n",
    "                facecolors=c1[i],\n",
    "                edgecolors =c1[i], )\n",
    "        ax[2].set_xlabel(\"Average Posts per Day\")\n",
    "        ax[2].set_ylabel(\"% of Retweet from collected posts\")\n",
    "        ax[2].legend()\n",
    "        ax[2].set_xlim([90, 800])\n",
    "        ax[2].set_ylim([78, 102])\n",
    "    \n",
    "     \n",
    "    if i == 2:\n",
    "        ax[3].scatter(group.AveragePosts, \n",
    "                group['%_of_Retweet_Collected_x'],\n",
    "                label = name, \n",
    "                alpha=0.5,\n",
    "                facecolors=c1[i],\n",
    "                edgecolors =c1[i], )\n",
    "        ax[3].set_xlabel(\"Average Posts per Day\")\n",
    "        ax[3].set_ylabel(\"% of Retweet from collected posts\")\n",
    "        ax[3].legend()\n",
    "        ax[3].set_xlim([90, 800])\n",
    "        ax[3].set_ylim([78, 102])\n",
    "    i = i+1\n",
    "fig.savefig(\"Amplifiers_without_bot_verified_top88.png\", bbox_inches=\"tight\", dpi=600, facecolor='w')\n",
    "fig.show()   "
   ]
  },
  {
   "cell_type": "code",
   "execution_count": 396,
   "id": "c3ca11eb",
   "metadata": {},
   "outputs": [],
   "source": [
    "groups = df_non_bot_non_verified_fake.loc[\n",
    "    ( df_non_bot_non_verified_fake.AveragePosts >= 50)\n",
    "    &\n",
    "    (df_non_bot_non_verified_fake['%_of_Retweet_Collected_x'] >= 50)].groupby('Account_Active_Time_x')\n",
    "fig, ax = plt.subplots(4, figsize=(10,30))\n",
    "c1 = ['g', 'b', 'r']\n",
    "i=0\n",
    "for name, group in groups:\n",
    "    ax[0].scatter(group.AveragePosts, \n",
    "                group['%_of_Retweet_Collected_x'],\n",
    "                label = name, \n",
    "                alpha=0.5,\n",
    "                facecolors=c1[i],\n",
    "                edgecolors =c1[i], )\n",
    "    ax[0].set_xlabel(\"Average Posts per Day\")\n",
    "    ax[0].set_ylabel(\"% of Retweet from collected posts\")\n",
    "    ax[0].legend()\n",
    "    ax[0].set_xlim([40, 800])\n",
    "    ax[0].set_ylim([48, 102])\n",
    "    \n",
    "    if i == 0:\n",
    "        ax[1].scatter(group.AveragePosts, \n",
    "                group['%_of_Retweet_Collected_x'],\n",
    "                label = name, \n",
    "                alpha=0.5,\n",
    "                facecolors=c1[i],\n",
    "                edgecolors =c1[i], )\n",
    "        ax[1].set_xlabel(\"Average Posts per Day\")\n",
    "        ax[1].set_ylabel(\"% of Retweet from collected posts\")\n",
    "        ax[1].legend()\n",
    "        ax[1].set_xlim([40, 800])\n",
    "        ax[1].set_ylim([48, 102])\n",
    "    \n",
    "     \n",
    "    if i == 1:\n",
    "        ax[2].scatter(group.AveragePosts, \n",
    "                group['%_of_Retweet_Collected_x'],\n",
    "                label = name, \n",
    "                alpha=0.5,\n",
    "                facecolors=c1[i],\n",
    "                edgecolors =c1[i], )\n",
    "        ax[2].set_xlabel(\"Average Posts per Day\")\n",
    "        ax[2].set_ylabel(\"% of Retweet from collected posts\")\n",
    "        ax[2].legend()\n",
    "        ax[2].set_xlim([40, 800])\n",
    "        ax[2].set_ylim([48, 102])\n",
    "    \n",
    "     \n",
    "    if i == 2:\n",
    "        ax[3].scatter(group.AveragePosts, \n",
    "                group['%_of_Retweet_Collected_x'],\n",
    "                label = name, \n",
    "                alpha=0.5,\n",
    "                facecolors=c1[i],\n",
    "                edgecolors =c1[i], )\n",
    "        ax[3].set_xlabel(\"Average Posts per Day\")\n",
    "        ax[3].set_ylabel(\"% of Retweet from collected posts\")\n",
    "        ax[3].legend()\n",
    "        ax[3].set_xlim([40, 800])\n",
    "        ax[3].set_ylim([48, 102])\n",
    "    i = i+1\n",
    "fig.savefig(\"Amplifiers_without_bot_verified_50-50.png\", bbox_inches=\"tight\", dpi=600, facecolor='w')\n",
    "fig.show()   "
   ]
  },
  {
   "cell_type": "markdown",
   "id": "24f62c79",
   "metadata": {},
   "source": [
    "# Influencer Revisited"
   ]
  },
  {
   "cell_type": "code",
   "execution_count": 398,
   "id": "ce89dc89",
   "metadata": {},
   "outputs": [],
   "source": [
    "dft_influencer_info"
   ]
  },
  {
   "cell_type": "code",
   "execution_count": 400,
   "id": "698dd58d",
   "metadata": {},
   "outputs": [],
   "source": [
    "dft_influencer_info_mg = pd.merge(dft_influencer_info, data_without_bot_and_verified, on = 'User_ID')"
   ]
  },
  {
   "cell_type": "code",
   "execution_count": 485,
   "id": "86e2363e",
   "metadata": {},
   "outputs": [],
   "source": [
    "len(dft_influencer_info_mg)"
   ]
  },
  {
   "cell_type": "code",
   "execution_count": 430,
   "id": "69fa78f2",
   "metadata": {},
   "outputs": [],
   "source": [
    "groups = dft_influencer_info_mg.groupby('#_of_fake_news')\n",
    "fig, ax = plt.subplots(4, figsize=(10,30))\n",
    "c1 = ['g', 'r', 'b']\n",
    "i=0\n",
    "for name, group in groups:\n",
    "    ax[0].scatter(group.AVG_RT_LIKE,\n",
    "                  group['%_of_Tweet_Collected_x'],\n",
    "                label = name, \n",
    "                alpha=0.5,\n",
    "                facecolors=c1[i],\n",
    "                edgecolors =c1[i], )\n",
    "    ax[0].set_xlabel(\"Average engagement per Tweet\")\n",
    "    ax[0].set_ylabel(\"% of Tweets from collected posts\")\n",
    "    ax[0].legend()\n",
    "    ax[0].set_ylim([-2, 102])\n",
    "    \n",
    "    if i == 0:\n",
    "        ax[1].scatter(group.AVG_RT_LIKE,\n",
    "                  group['%_of_Tweet_Collected_x'],\n",
    "                label = name, \n",
    "                alpha=0.5,\n",
    "                facecolors=c1[i],\n",
    "                edgecolors =c1[i], )\n",
    "        ax[1].set_xlabel(\"Average engagement per Tweet\")\n",
    "        ax[1].set_ylabel(\"% of Tweets from collected posts\")\n",
    "        ax[1].legend()\n",
    "        ax[1].set_ylim([-2, 102])\n",
    "    \n",
    "     \n",
    "    if i == 1:\n",
    "        ax[2].scatter(group.AVG_RT_LIKE,\n",
    "                  group['%_of_Tweet_Collected_x'],\n",
    "                label = name, \n",
    "                alpha=0.5,\n",
    "                facecolors=c1[i],\n",
    "                edgecolors =c1[i],)\n",
    "        ax[2].set_xlabel(\"Average engagement per Tweet\")\n",
    "        ax[2].set_ylabel(\"% of Tweets from collected posts\")\n",
    "        ax[2].legend()\n",
    "        ax[2].set_ylim([-2, 102])\n",
    "    \n",
    "     \n",
    "    if i == 2:\n",
    "        ax[3].scatter(group.AVG_RT_LIKE,\n",
    "                  group['%_of_Tweet_Collected_x'],\n",
    "                label = name, \n",
    "                alpha=0.5,\n",
    "                facecolors=c1[i],\n",
    "                edgecolors =c1[i], )\n",
    "        ax[3].set_xlabel(\"Average engagement per Tweet\")\n",
    "        ax[3].set_ylabel(\"% of Tweets from collected posts\")\n",
    "        ax[3].legend()\n",
    "        ax[3].set_ylim([-2, 102])\n",
    "    i = i+1\n",
    "fig.savefig(\"Influencers_engagement_vs_%ofTweet.png\", bbox_inches=\"tight\", dpi=600, facecolor='w')\n",
    "fig.show()   "
   ]
  },
  {
   "cell_type": "code",
   "execution_count": 420,
   "id": "8e3a6ae9",
   "metadata": {},
   "outputs": [],
   "source": [
    "len(dft_influencer_info_mg.loc[\n",
    "    (dft_influencer_info_mg.AVG_RT_LIKE >= 100)\n",
    "    &\n",
    "    (dft_influencer_info_mg['%_of_Tweet_Collected_x'] >= 50)]\n",
    "   )"
   ]
  },
  {
   "cell_type": "code",
   "execution_count": 431,
   "id": "c36ed9d7",
   "metadata": {},
   "outputs": [],
   "source": [
    "groups = dft_influencer_info_mg.loc[\n",
    "    (dft_influencer_info_mg.AVG_RT_LIKE >= 100)\n",
    "    &\n",
    "    (dft_influencer_info_mg['%_of_Tweet_Collected_x'] >= 50)].groupby('#_of_fake_news')\n",
    "yy_lim_s = 48\n",
    "xx_lim_s = 90\n",
    "yy_lim_l = 102\n",
    "xx_lim_l = 3700\n",
    "\n",
    "fig, ax = plt.subplots(4, figsize=(10,30))\n",
    "c1 = ['g', 'r', 'b']\n",
    "i=0\n",
    "for name, group in groups:\n",
    "    ax[0].scatter(group.AVG_RT_LIKE,\n",
    "                  group['%_of_Tweet_Collected_x'],\n",
    "                label = name, \n",
    "                alpha=0.5,\n",
    "                facecolors=c1[i],\n",
    "                edgecolors =c1[i], )\n",
    "    ax[0].set_xlabel(\"Average engagement per Tweet\")\n",
    "    ax[0].set_ylabel(\"% of Tweets from collected posts\")\n",
    "    ax[0].legend()\n",
    "    ax[0].set_ylim([yy_lim_s, yy_lim_l])\n",
    "    ax[0].set_xlim([xx_lim_s, xx_lim_l])\n",
    "    \n",
    "    if i == 0:\n",
    "        ax[1].scatter(group.AVG_RT_LIKE,\n",
    "                  group['%_of_Tweet_Collected_x'],\n",
    "                label = name, \n",
    "                alpha=0.5,\n",
    "                facecolors=c1[i],\n",
    "                edgecolors =c1[i], )\n",
    "        ax[1].set_xlabel(\"Average engagement per Tweet\")\n",
    "        ax[1].set_ylabel(\"% of Tweets from collected posts\")\n",
    "        ax[1].legend()\n",
    "        ax[1].set_ylim([yy_lim_s, yy_lim_l])\n",
    "        ax[1].set_xlim([xx_lim_s, xx_lim_l])\n",
    "    \n",
    "     \n",
    "    if i == 1:\n",
    "        ax[2].scatter(group.AVG_RT_LIKE,\n",
    "                  group['%_of_Tweet_Collected_x'],\n",
    "                label = name, \n",
    "                alpha=0.5,\n",
    "                facecolors=c1[i],\n",
    "                edgecolors =c1[i],)\n",
    "        ax[2].set_xlabel(\"Average engagement per Tweet\")\n",
    "        ax[2].set_ylabel(\"% of Tweets from collected posts\")\n",
    "        ax[2].legend()\n",
    "        ax[2].set_ylim([yy_lim_s, yy_lim_l])\n",
    "        ax[2].set_xlim([xx_lim_s, xx_lim_l])\n",
    "    \n",
    "     \n",
    "    if i == 2:\n",
    "        ax[3].scatter(group.AVG_RT_LIKE,\n",
    "                  group['%_of_Tweet_Collected_x'],\n",
    "                label = name, \n",
    "                alpha=0.5,\n",
    "                facecolors=c1[i],\n",
    "                edgecolors =c1[i], )\n",
    "        ax[3].set_xlabel(\"Average engagement per Tweet\")\n",
    "        ax[3].set_ylabel(\"% of Tweets from collected posts\")\n",
    "        ax[3].legend()\n",
    "        ax[3].set_ylim([yy_lim_s, yy_lim_l])\n",
    "        ax[3].set_xlim([xx_lim_s, xx_lim_l])\n",
    "    \n",
    "    i = i+1\n",
    "ax[0].set_title(\"Influencers with at least 100 engagements and 50% of tweets\")\n",
    "fig.savefig(\"Influencers_engagement-100_vs_%ofTweet-50.png\", bbox_inches=\"tight\", dpi=600, facecolor='w')\n",
    "fig.show()   "
   ]
  },
  {
   "cell_type": "code",
   "execution_count": null,
   "id": "db45b7b7",
   "metadata": {},
   "outputs": [],
   "source": []
  },
  {
   "cell_type": "code",
   "execution_count": 90,
   "id": "f92ed31d",
   "metadata": {},
   "outputs": [],
   "source": [
    "dfb=df_fake_basic.groupby('User ID').count().reset_index().rename(columns = {'User ID':'User_ID'})"
   ]
  },
  {
   "cell_type": "code",
   "execution_count": 91,
   "id": "cbe04f84",
   "metadata": {},
   "outputs": [],
   "source": [
    "pd.DataFrame(dfb[~dfb['User_ID'].isin(dft.User_ID)].User_ID).to_csv('Collect_Data.csv')"
   ]
  },
  {
   "cell_type": "code",
   "execution_count": 4,
   "id": "01624df3",
   "metadata": {},
   "outputs": [],
   "source": [
    "df_tweet= df_tweet.reset_index(drop = True)"
   ]
  },
  {
   "cell_type": "code",
   "execution_count": 5,
   "id": "c1a659d1",
   "metadata": {},
   "outputs": [],
   "source": [
    "df_tweet.groupby('User_ID').sum('Retweet_Count').reset_index(drop = False)"
   ]
  },
  {
   "cell_type": "code",
   "execution_count": 6,
   "id": "d2067e18",
   "metadata": {},
   "outputs": [],
   "source": [
    "df_retweet = df_tweet.groupby(['User_ID', 'Retweet']).count().reset_index(drop = False)"
   ]
  },
  {
   "cell_type": "code",
   "execution_count": 7,
   "id": "150f9a0c",
   "metadata": {},
   "outputs": [],
   "source": [
    "df_data_retweet=df_retweet.loc[df_retweet['Retweet']==True].rename(columns={'Tweet_ID': \"Number_of_Retweets\"})\n",
    "df_data_tweet=df_retweet.loc[df_retweet['Retweet']==False].rename(columns={'Tweet_ID': \"Number_of_Tweets\"})"
   ]
  },
  {
   "cell_type": "code",
   "execution_count": 8,
   "id": "37696201",
   "metadata": {},
   "outputs": [],
   "source": [
    "df_data_retweet = pd.DataFrame(df_data_retweet[['User_ID','Number_of_Retweets']])\n",
    "df_data_tweet = pd.DataFrame(df_data_tweet[['User_ID','Number_of_Tweets']])"
   ]
  },
  {
   "cell_type": "code",
   "execution_count": 9,
   "id": "7f91072a",
   "metadata": {},
   "outputs": [],
   "source": [
    "df_userID = pd.DataFrame(dft['User_ID'])"
   ]
  },
  {
   "cell_type": "code",
   "execution_count": 10,
   "id": "a920ff42",
   "metadata": {},
   "outputs": [],
   "source": [
    "df_data_retweet"
   ]
  },
  {
   "cell_type": "code",
   "execution_count": 11,
   "id": "17f2fcc7",
   "metadata": {},
   "outputs": [],
   "source": [
    "df_retweet_data = pd.merge(df_userID, df_data_retweet, on=\"User_ID\", how=\"outer\")"
   ]
  },
  {
   "cell_type": "code",
   "execution_count": 12,
   "id": "9a7d937a",
   "metadata": {},
   "outputs": [],
   "source": [
    "df_tweet_data = pd.merge(df_retweet_data, df_data_tweet, on=\"User_ID\", how=\"outer\")"
   ]
  },
  {
   "cell_type": "code",
   "execution_count": 13,
   "id": "c48fbb56",
   "metadata": {},
   "outputs": [],
   "source": [
    "df_tweet_data=df_tweet_data.fillna(0)"
   ]
  },
  {
   "cell_type": "code",
   "execution_count": 14,
   "id": "d344f9e9",
   "metadata": {},
   "outputs": [],
   "source": [
    "df_tweet_data['Total_Tweet_Collected'] = df_tweet_data['Number_of_Retweets'] + df_tweet_data['Number_of_Tweets']"
   ]
  },
  {
   "cell_type": "code",
   "execution_count": 15,
   "id": "f27fdf55",
   "metadata": {},
   "outputs": [],
   "source": [
    "df_tweet_data"
   ]
  },
  {
   "cell_type": "code",
   "execution_count": 17,
   "id": "828e6903",
   "metadata": {},
   "outputs": [],
   "source": [
    "df_tweet_data_time =df_tweet.groupby(['User_ID']).agg({'Tweet_Time': [np.min,np.max]}).reset_index(drop = False)"
   ]
  },
  {
   "cell_type": "code",
   "execution_count": 18,
   "id": "39895927",
   "metadata": {},
   "outputs": [],
   "source": [
    "df_tweet_data_time.columns = [c[0] + \"_\" + c[1] for c in df_tweet_data_time.columns]"
   ]
  },
  {
   "cell_type": "code",
   "execution_count": 35,
   "id": "883a57b6",
   "metadata": {},
   "outputs": [],
   "source": [
    "df_tweet_data_time=df_tweet_data_time.rename(columns = {'User_ID_' : 'User_ID', 'Tweet_Time_amin':'Min_Post_Date', 'Tweet_Time_amax':'Max_Post_Date'})"
   ]
  },
  {
   "cell_type": "code",
   "execution_count": 120,
   "id": "f7e6cb43",
   "metadata": {},
   "outputs": [],
   "source": [
    "df_tweet_data_time"
   ]
  },
  {
   "cell_type": "code",
   "execution_count": 94,
   "id": "79528317",
   "metadata": {},
   "outputs": [],
   "source": [
    "df_time_and_number=pd.merge(df_tweet_data, df_tweet_data_time, on=\"User_ID\", how=\"outer\")"
   ]
  },
  {
   "cell_type": "code",
   "execution_count": 95,
   "id": "4dc33ec8",
   "metadata": {},
   "outputs": [],
   "source": [
    "df_time_and_number['Min_Post_Date'] = pd.to_datetime(df_time_and_number['Min_Post_Date'], utc = True)\n",
    "df_time_and_number['Max_Post_Date'] = pd.to_datetime(df_time_and_number['Max_Post_Date'], utc = True)"
   ]
  },
  {
   "cell_type": "code",
   "execution_count": 96,
   "id": "e4c61531",
   "metadata": {},
   "outputs": [],
   "source": [
    "df_time_and_number['Min_Post_Date'] =df_time_and_number['Min_Post_Date'].dt.date\n",
    "df_time_and_number['Max_Post_Date'] = df_time_and_number['Max_Post_Date'].dt.date"
   ]
  },
  {
   "cell_type": "code",
   "execution_count": 99,
   "id": "276e5435",
   "metadata": {},
   "outputs": [],
   "source": [
    "df_time_and_number['Date_Difference_First_Last_Collected'] = df_time_and_number['Max_Post_Date'] - df_time_and_number['Min_Post_Date']"
   ]
  },
  {
   "cell_type": "code",
   "execution_count": 100,
   "id": "6d17226a",
   "metadata": {},
   "outputs": [],
   "source": [
    "df_time_and_number['Collected_Posts_Average'] = df_time_and_number['Total_Tweet_Collected']/(pd.to_numeric(df_time_and_number['Date_Difference_First_Last_Collected'].dt.days, downcast='integer') + 1)\n"
   ]
  },
  {
   "cell_type": "code",
   "execution_count": 117,
   "id": "fec19ad6",
   "metadata": {},
   "outputs": [],
   "source": [
    "super_active = df_time_and_number.loc[(pd.to_numeric(df_time_and_number['Date_Difference_First_Last_Collected'].dt.days, downcast='integer') <= 90)  & (df_time_and_number.Collected_Posts_Average >=100)]"
   ]
  },
  {
   "cell_type": "code",
   "execution_count": 119,
   "id": "342a2e4a",
   "metadata": {},
   "outputs": [],
   "source": [
    "len(super_active)"
   ]
  },
  {
   "cell_type": "code",
   "execution_count": 121,
   "id": "f9038acb",
   "metadata": {},
   "outputs": [],
   "source": [
    "df_time_and_number"
   ]
  },
  {
   "cell_type": "code",
   "execution_count": 108,
   "id": "7338b238",
   "metadata": {},
   "outputs": [],
   "source": [
    "plt.scatter(pd.to_numeric(df_time_and_number['Date_Difference_First_Last_Collected'].dt.days, downcast='integer'), df_time_and_number.Collected_Posts_Average)\n",
    "plt.show()"
   ]
  },
  {
   "cell_type": "code",
   "execution_count": 118,
   "id": "87ffb915",
   "metadata": {},
   "outputs": [],
   "source": [
    "plt.scatter(pd.to_numeric(super_active['Date_Difference_First_Last_Collected'].dt.days, downcast='integer'), super_active.Collected_Posts_Average)\n",
    "plt.show()"
   ]
  },
  {
   "cell_type": "code",
   "execution_count": 72,
   "id": "dd53f03c",
   "metadata": {},
   "outputs": [],
   "source": [
    "df_fake_basic = pd.read_csv('U:\\Twitter Research\\Fake News Scraping\\Basic_Twitter_Info\\Fake_Basic_Information.csv').drop('Unnamed: 0', axis=1)"
   ]
  },
  {
   "cell_type": "code",
   "execution_count": 52,
   "id": "e64e4b56",
   "metadata": {},
   "outputs": [],
   "source": [
    "df_fake_basic = df_fake_basic.rename(columns = {'User ID': 'User_ID'})"
   ]
  },
  {
   "cell_type": "code",
   "execution_count": 36,
   "id": "75150fb9",
   "metadata": {},
   "outputs": [],
   "source": [
    "11577076"
   ]
  },
  {
   "cell_type": "code",
   "execution_count": 53,
   "id": "7850b006",
   "metadata": {},
   "outputs": [],
   "source": [
    "df_tweet_x = df_tweet.drop_duplicates(subset='Tweet_ID', keep=\"first\")\n",
    "print(len(df_tweet_x))"
   ]
  },
  {
   "cell_type": "code",
   "execution_count": 54,
   "id": "3272f890",
   "metadata": {},
   "outputs": [],
   "source": [
    "df_tweet_x = df_tweet_x.reset_index(drop = True)"
   ]
  },
  {
   "cell_type": "code",
   "execution_count": 61,
   "id": "3b110b64",
   "metadata": {
    "scrolled": true
   },
   "outputs": [],
   "source": [
    "df_fake_basic "
   ]
  },
  {
   "cell_type": "code",
   "execution_count": 56,
   "id": "fc23f125",
   "metadata": {},
   "outputs": [],
   "source": [
    "df_tweet_retweet=pd.DataFrame(df_tweet_x.groupby(['User_ID', 'Retweet']).size()).reset_index()"
   ]
  },
  {
   "cell_type": "code",
   "execution_count": 57,
   "id": "a969541b",
   "metadata": {},
   "outputs": [],
   "source": [
    "df_tweet_retweet"
   ]
  },
  {
   "cell_type": "code",
   "execution_count": 58,
   "id": "8866a44e",
   "metadata": {},
   "outputs": [],
   "source": [
    "data_retweet=df_tweet_retweet.loc[df_tweet_retweet['Retweet']==True].rename(columns={0: \"Number_of_Retweets\"})\n",
    "data_tweet=df_tweet_retweet.loc[df_tweet_retweet['Retweet']==False].rename(columns={0: \"Number_of_Tweets\"})"
   ]
  },
  {
   "cell_type": "code",
   "execution_count": 59,
   "id": "ccc77946",
   "metadata": {},
   "outputs": [],
   "source": [
    "data_retweet = data_retweet.drop('Retweet', axis = 1).reset_index(drop=True)\n",
    "data_tweet = data_tweet.drop('Retweet', axis = 1).reset_index(drop=True)"
   ]
  },
  {
   "cell_type": "code",
   "execution_count": 60,
   "id": "fc006b57",
   "metadata": {},
   "outputs": [],
   "source": [
    "df_fake_basic = pd.merge(df_fake_basic,data_tweet, on=\"User_ID\", how='inner')\n",
    "df_fake_basic = pd.merge(df_fake_basic,data_retweet, on=\"User_ID\", how='inner')"
   ]
  },
  {
   "cell_type": "code",
   "execution_count": 44,
   "id": "66ffc69e",
   "metadata": {},
   "outputs": [],
   "source": [
    "df_fake_basic['TotalPostsCollected_y'] = df_fake_basic['Number_of_Tweets_y'] + df_fake_basic['Number_of_Retweets_y']"
   ]
  },
  {
   "cell_type": "code",
   "execution_count": 45,
   "id": "024762c6",
   "metadata": {},
   "outputs": [],
   "source": [
    "df_fake_basic['TotalPostsCollected_y'] = df_fake_basic['TotalPostsCollected_y'].replace(np.NaN, 0)\n",
    "df_fake_basic['TotalPostsCollected'] = df_fake_basic['TotalPostsCollected'].replace(np.NaN, 0)"
   ]
  },
  {
   "cell_type": "code",
   "execution_count": 46,
   "id": "76c5ec8c",
   "metadata": {},
   "outputs": [],
   "source": [
    "df_fake_basic['Number_of_Tweets_y'] = df_fake_basic['Number_of_Tweets_y'].replace(np.NaN, 0)\n",
    "df_fake_basic['Number_of_Tweets_x'] = df_fake_basic['Number_of_Tweets_x'].replace(np.NaN, 0)\n",
    "df_fake_basic['Number_of_Tweets'] = df_fake_basic['Number_of_Tweets_y'].replace(np.NaN, 0) + df_fake_basic['Number_of_Tweets_x'].replace(np.NaN, 0)"
   ]
  },
  {
   "cell_type": "code",
   "execution_count": 47,
   "id": "a6f28e6e",
   "metadata": {},
   "outputs": [],
   "source": [
    "df_fake_basic['Number_of_Retweets_y'] = df_fake_basic['Number_of_Retweets_y'].replace(np.NaN, 0)\n",
    "df_fake_basic['Number_of_Retweets_x'] = df_fake_basic['Number_of_Retweets_x'].replace(np.NaN, 0)\n",
    "df_fake_basic['Number_of_Retweets'] = df_fake_basic['Number_of_Retweets_y'].replace(np.NaN, 0) + df_fake_basic['Number_of_Retweets_x'].replace(np.NaN, 0)"
   ]
  },
  {
   "cell_type": "code",
   "execution_count": 48,
   "id": "dc3170b6",
   "metadata": {},
   "outputs": [],
   "source": [
    "df_fake_basic['TotalPostsCollected_x'] = df_fake_basic['Number_of_Retweets'] + df_fake_basic['Number_of_Tweets']"
   ]
  },
  {
   "cell_type": "code",
   "execution_count": 49,
   "id": "b56df94f",
   "metadata": {
    "scrolled": true
   },
   "outputs": [],
   "source": [
    "df_fake_basic"
   ]
  },
  {
   "cell_type": "code",
   "execution_count": 20,
   "id": "a31b503b",
   "metadata": {},
   "outputs": [],
   "source": [
    "df_fake_basic.TotalPostsCollected"
   ]
  },
  {
   "cell_type": "code",
   "execution_count": 21,
   "id": "3fcc730b",
   "metadata": {},
   "outputs": [],
   "source": [
    "df_fake_basic['TotalPostsCollected_y'] = df_fake_basic['TotalPostsCollected_y'].replace(np.nan, 0)\n",
    "df_fake_basic['TotalPostsCollected'] = df_fake_basic['TotalPostsCollected'].replace(np.nan, 0)"
   ]
  },
  {
   "cell_type": "code",
   "execution_count": 22,
   "id": "d41d90eb",
   "metadata": {},
   "outputs": [],
   "source": [
    "df_fake_basic['Number_of_Tweets_y'] = df_fake_basic['Number_of_Tweets_y'].replace(np.nan, 0)\n",
    "df_fake_basic['Number_of_Tweets_x'] = df_fake_basic['Number_of_Tweets_x'].replace(np.nan, 0)\n",
    "df_fake_basic['Number_of_Tweets'] = df_fake_basic['Number_of_Tweets_y'].replace(np.nan, 0) + df_fake_basic['Number_of_Tweets_x'].replace(np.nan, 0)"
   ]
  },
  {
   "cell_type": "code",
   "execution_count": 23,
   "id": "8adb7f00",
   "metadata": {},
   "outputs": [],
   "source": [
    "df_fake_basic['Number_of_Retweets_y'] = df_fake_basic['Number_of_Retweets_y'].replace(np.nan, 0)\n",
    "df_fake_basic['Number_of_Retweets_x'] = df_fake_basic['Number_of_Retweets_x'].replace(np.nan, 0)\n",
    "df_fake_basic['Number_of_Retweets'] = df_fake_basic['Number_of_Retweets_y'].replace(np.nan, 0) + df_fake_basic['Number_of_Retweets_x'].replace(np.nan, 0)"
   ]
  },
  {
   "cell_type": "code",
   "execution_count": 24,
   "id": "55e4cfca",
   "metadata": {},
   "outputs": [],
   "source": [
    "df_fake_basic['TotalPostsCollected_x'] = df_fake_basic['TotalPostsCollected_y'] + df_fake_basic['TotalPostsCollected']"
   ]
  },
  {
   "cell_type": "code",
   "execution_count": 25,
   "id": "4098514a",
   "metadata": {},
   "outputs": [],
   "source": [
    "df_fake_basic['TotalPostsCollected_x']"
   ]
  },
  {
   "cell_type": "code",
   "execution_count": 26,
   "id": "631d8a82",
   "metadata": {},
   "outputs": [],
   "source": [
    "df_fake_basic= df_fake_basic.drop(columns = ['Number_of_Tweets_x', 'Number_of_Retweets_x', 'TotalPostsCollected'])"
   ]
  },
  {
   "cell_type": "code",
   "execution_count": 27,
   "id": "69df1009",
   "metadata": {},
   "outputs": [],
   "source": [
    "df_fake_basic.columns"
   ]
  },
  {
   "cell_type": "code",
   "execution_count": 28,
   "id": "6871e62e",
   "metadata": {},
   "outputs": [],
   "source": [
    "df_fake_basic= df_fake_basic.drop(columns = ['TotalPostsCollected_y', 'Number_of_Tweets_y', 'Number_of_Retweets_y'])"
   ]
  },
  {
   "cell_type": "code",
   "execution_count": 29,
   "id": "9287dbf3",
   "metadata": {},
   "outputs": [],
   "source": [
    "df_fake_basic = df_fake_basic.rename(columns = {'TotalPostsCollected_x':'TotalPostsCollected'})"
   ]
  },
  {
   "cell_type": "code",
   "execution_count": 30,
   "id": "78a6ede7",
   "metadata": {
    "scrolled": true
   },
   "outputs": [],
   "source": [
    "df_fake_basic['TotalPostsCollected'] = df_fake_basic['Number_of_Tweets'] + df_fake_basic['Number_of_Retweets']"
   ]
  },
  {
   "cell_type": "code",
   "execution_count": 31,
   "id": "e52d0b58",
   "metadata": {},
   "outputs": [],
   "source": [
    "df_fake_basic"
   ]
  },
  {
   "cell_type": "code",
   "execution_count": 91,
   "id": "deac845a",
   "metadata": {},
   "outputs": [],
   "source": [
    "df_fake_basic.groupby('User_ID').count().reset_index()"
   ]
  },
  {
   "cell_type": "code",
   "execution_count": 97,
   "id": "9807eea3",
   "metadata": {},
   "outputs": [],
   "source": []
  },
  {
   "cell_type": "code",
   "execution_count": 93,
   "id": "322be11b",
   "metadata": {},
   "outputs": [],
   "source": [
    "df_fake_basic[~df_fake_basic['User_ID'].isin(df_tweet_x.User_ID)]"
   ]
  },
  {
   "cell_type": "code",
   "execution_count": 96,
   "id": "9a4efbd2",
   "metadata": {},
   "outputs": [],
   "source": [
    "df_fake_basic.loc[df_fake_basic.TotalPostsCollected == 0]"
   ]
  },
  {
   "cell_type": "code",
   "execution_count": null,
   "id": "47ab15ae",
   "metadata": {},
   "outputs": [],
   "source": []
  }
 ],
 "metadata": {
  "kernelspec": {
   "display_name": "Python 3 (ipykernel)",
   "language": "python",
   "name": "python3"
  },
  "language_info": {
   "codemirror_mode": {
    "name": "ipython",
    "version": 3
   },
   "file_extension": ".py",
   "mimetype": "text/x-python",
   "name": "python",
   "nbconvert_exporter": "python",
   "pygments_lexer": "ipython3",
   "version": "3.9.13"
  }
 },
 "nbformat": 4,
 "nbformat_minor": 5
}
